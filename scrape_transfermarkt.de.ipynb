{
 "cells": [
  {
   "cell_type": "code",
   "execution_count": 14,
   "metadata": {
    "collapsed": true
   },
   "outputs": [],
   "source": [
    "import requests\n",
    "from bs4 import BeautifulSoup\n",
    "import pandas as pd\n",
    "import numpy as np\n",
    "import re\n",
    "import csv\n",
    "import time\n",
    "import requests, bs4"
   ]
  },
  {
   "cell_type": "code",
   "execution_count": 189,
   "outputs": [
    {
     "data": {
      "text/plain": "     home_team       away_team home_prob draw_prob away_prob\n0      Chelsea  Crystal Palace    93.9 %     4.1 %     2.0 %\n1      Everton        Brighton    95.5 %     4.5 %         %\n2        Leeds        Man City     6.3 %    13.7 %    80.0 %\n3    Newcastle         Burnley    84.0 %    12.1 %     3.9 %\n4    Leicester        West Ham    97.1 %     2.4 %     0.5 %\n5  Southampton       West Brom    65.7 %    26.6 %     7.7 %\n6      Arsenal       Sheff Utd    97.1 %     2.4 %     0.5 %\n7       Wolves          Fulham    84.6 %    10.6 %     4.8 %\n8      Man Utd           Spurs    38.5 %    43.8 %    17.8 %\n9  Aston Villa       Liverpool     1.4 %     1.9 %    96.6 %",
      "text/html": "<div>\n<style scoped>\n    .dataframe tbody tr th:only-of-type {\n        vertical-align: middle;\n    }\n\n    .dataframe tbody tr th {\n        vertical-align: top;\n    }\n\n    .dataframe thead th {\n        text-align: right;\n    }\n</style>\n<table border=\"1\" class=\"dataframe\">\n  <thead>\n    <tr style=\"text-align: right;\">\n      <th></th>\n      <th>home_team</th>\n      <th>away_team</th>\n      <th>home_prob</th>\n      <th>draw_prob</th>\n      <th>away_prob</th>\n    </tr>\n  </thead>\n  <tbody>\n    <tr>\n      <th>0</th>\n      <td>Chelsea</td>\n      <td>Crystal Palace</td>\n      <td>93.9 %</td>\n      <td>4.1 %</td>\n      <td>2.0 %</td>\n    </tr>\n    <tr>\n      <th>1</th>\n      <td>Everton</td>\n      <td>Brighton</td>\n      <td>95.5 %</td>\n      <td>4.5 %</td>\n      <td>%</td>\n    </tr>\n    <tr>\n      <th>2</th>\n      <td>Leeds</td>\n      <td>Man City</td>\n      <td>6.3 %</td>\n      <td>13.7 %</td>\n      <td>80.0 %</td>\n    </tr>\n    <tr>\n      <th>3</th>\n      <td>Newcastle</td>\n      <td>Burnley</td>\n      <td>84.0 %</td>\n      <td>12.1 %</td>\n      <td>3.9 %</td>\n    </tr>\n    <tr>\n      <th>4</th>\n      <td>Leicester</td>\n      <td>West Ham</td>\n      <td>97.1 %</td>\n      <td>2.4 %</td>\n      <td>0.5 %</td>\n    </tr>\n    <tr>\n      <th>5</th>\n      <td>Southampton</td>\n      <td>West Brom</td>\n      <td>65.7 %</td>\n      <td>26.6 %</td>\n      <td>7.7 %</td>\n    </tr>\n    <tr>\n      <th>6</th>\n      <td>Arsenal</td>\n      <td>Sheff Utd</td>\n      <td>97.1 %</td>\n      <td>2.4 %</td>\n      <td>0.5 %</td>\n    </tr>\n    <tr>\n      <th>7</th>\n      <td>Wolves</td>\n      <td>Fulham</td>\n      <td>84.6 %</td>\n      <td>10.6 %</td>\n      <td>4.8 %</td>\n    </tr>\n    <tr>\n      <th>8</th>\n      <td>Man Utd</td>\n      <td>Spurs</td>\n      <td>38.5 %</td>\n      <td>43.8 %</td>\n      <td>17.8 %</td>\n    </tr>\n    <tr>\n      <th>9</th>\n      <td>Aston Villa</td>\n      <td>Liverpool</td>\n      <td>1.4 %</td>\n      <td>1.9 %</td>\n      <td>96.6 %</td>\n    </tr>\n  </tbody>\n</table>\n</div>"
     },
     "execution_count": 189,
     "metadata": {},
     "output_type": "execute_result"
    }
   ],
   "source": [
    "def get_links(url):\n",
    "    headers = {\"User-Agent\":\"Mozilla/5.0\"}\n",
    "    response = requests.get(url, headers=headers)\n",
    "    soup = bs4.BeautifulSoup(response.text, 'lxml')\n",
    "    #table = soup.find_all(\"tr\", {\"class\": \"no-border tm-user-tendenz\"}).find_all('td')\n",
    "    table = soup.find_all(\"tr\", {\"class\": \"no-border tm-user-tendenz\"})\n",
    "    table_teams = soup.find_all(\"tr\", {\"class\": \"table-grosse-schrift\"})\n",
    "    #print(table_teams)\n",
    "    probs = dict()\n",
    "    for i in range(0,10):\n",
    "        table_tmp = table[i].find_all('td')\n",
    "        table_teams_tmp =  table_teams[i].find_all('td')\n",
    "        if 'home_team' in probs:\n",
    "            probs ['home_team'].append (table_teams_tmp[0].contents[3].contents[0])\n",
    "        else:\n",
    "            probs ['home_team'] = [table_teams_tmp[0].contents[3].contents[0]]\n",
    "        if 'away_team' in probs:\n",
    "            probs ['away_team'].append (table_teams_tmp[7].contents[1].contents[0])\n",
    "        else:\n",
    "            probs ['away_team'] = [table_teams_tmp[7].contents[1].contents[0]]\n",
    "        if 'home_prob' in probs:\n",
    "            probs ['home_prob'].append (table_tmp[0].contents[1].contents[0].contents[0])\n",
    "        else:\n",
    "            probs ['home_prob'] = [table_tmp[0].contents[1].contents[0].contents[0]]\n",
    "        if 'draw_prob' in probs:\n",
    "            probs ['draw_prob'].append (table_tmp[1].contents[1].contents[0].contents[0])\n",
    "        else:\n",
    "            probs ['draw_prob'] = [table_tmp[1].contents[1].contents[0].contents[0]]\n",
    "        if 'away_prob' in probs:\n",
    "            probs ['away_prob'].append (table_tmp[2].contents[1].contents[0].contents[0])\n",
    "        else:\n",
    "            probs ['away_prob'] = [table_tmp[2].contents[1].contents[0].contents[0]]\n",
    "\n",
    "    #df_player = pd.DataFrame.from_dict(pre_df_player)\n",
    "\n",
    "    out = pd.DataFrame.from_dict(probs)\n",
    "\n",
    "    return  out\n",
    "\n",
    "test = get_links('https://www.transfermarkt.com/premier-league/spieltag/wettbewerb/GB1/plus/?saison_id=2020&spieltag=4')\n",
    "#get_links('https://fbref.com/en/comps/9/2020-2021/schedule/2020-2021-Premier-League-Scores-and-Fixtures')\n",
    "test"
   ],
   "metadata": {
    "collapsed": false,
    "pycharm": {
     "name": "#%%\n"
    }
   }
  },
  {
   "cell_type": "code",
   "execution_count": 193,
   "outputs": [
    {
     "data": {
      "text/plain": "    home_team       away_team home_prob draw_prob away_prob\n0     Chelsea  Crystal Palace    93.9 %     4.1 %     2.0 %\n1     Everton        Brighton    95.5 %     4.5 %         %\n2       Leeds        Man City     6.3 %    13.7 %    80.0 %\n3   Newcastle         Burnley    84.0 %    12.1 %     3.9 %\n4   Leicester        West Ham    97.1 %     2.4 %     0.5 %\n..        ...             ...       ...       ...       ...\n5   Liverpool  Crystal Palace    96.2 %     2.5 %     1.3 %\n6    Man City         Everton    83.4 %    10.2 %     6.4 %\n7   Sheff Utd         Burnley    17.2 %    24.2 %    58.6 %\n8    West Ham     Southampton    87.9 %     8.9 %     3.2 %\n9      Wolves         Man Utd     3.8 %    11.5 %    84.7 %\n\n[350 rows x 5 columns]",
      "text/html": "<div>\n<style scoped>\n    .dataframe tbody tr th:only-of-type {\n        vertical-align: middle;\n    }\n\n    .dataframe tbody tr th {\n        vertical-align: top;\n    }\n\n    .dataframe thead th {\n        text-align: right;\n    }\n</style>\n<table border=\"1\" class=\"dataframe\">\n  <thead>\n    <tr style=\"text-align: right;\">\n      <th></th>\n      <th>home_team</th>\n      <th>away_team</th>\n      <th>home_prob</th>\n      <th>draw_prob</th>\n      <th>away_prob</th>\n    </tr>\n  </thead>\n  <tbody>\n    <tr>\n      <th>0</th>\n      <td>Chelsea</td>\n      <td>Crystal Palace</td>\n      <td>93.9 %</td>\n      <td>4.1 %</td>\n      <td>2.0 %</td>\n    </tr>\n    <tr>\n      <th>1</th>\n      <td>Everton</td>\n      <td>Brighton</td>\n      <td>95.5 %</td>\n      <td>4.5 %</td>\n      <td>%</td>\n    </tr>\n    <tr>\n      <th>2</th>\n      <td>Leeds</td>\n      <td>Man City</td>\n      <td>6.3 %</td>\n      <td>13.7 %</td>\n      <td>80.0 %</td>\n    </tr>\n    <tr>\n      <th>3</th>\n      <td>Newcastle</td>\n      <td>Burnley</td>\n      <td>84.0 %</td>\n      <td>12.1 %</td>\n      <td>3.9 %</td>\n    </tr>\n    <tr>\n      <th>4</th>\n      <td>Leicester</td>\n      <td>West Ham</td>\n      <td>97.1 %</td>\n      <td>2.4 %</td>\n      <td>0.5 %</td>\n    </tr>\n    <tr>\n      <th>...</th>\n      <td>...</td>\n      <td>...</td>\n      <td>...</td>\n      <td>...</td>\n      <td>...</td>\n    </tr>\n    <tr>\n      <th>5</th>\n      <td>Liverpool</td>\n      <td>Crystal Palace</td>\n      <td>96.2 %</td>\n      <td>2.5 %</td>\n      <td>1.3 %</td>\n    </tr>\n    <tr>\n      <th>6</th>\n      <td>Man City</td>\n      <td>Everton</td>\n      <td>83.4 %</td>\n      <td>10.2 %</td>\n      <td>6.4 %</td>\n    </tr>\n    <tr>\n      <th>7</th>\n      <td>Sheff Utd</td>\n      <td>Burnley</td>\n      <td>17.2 %</td>\n      <td>24.2 %</td>\n      <td>58.6 %</td>\n    </tr>\n    <tr>\n      <th>8</th>\n      <td>West Ham</td>\n      <td>Southampton</td>\n      <td>87.9 %</td>\n      <td>8.9 %</td>\n      <td>3.2 %</td>\n    </tr>\n    <tr>\n      <th>9</th>\n      <td>Wolves</td>\n      <td>Man Utd</td>\n      <td>3.8 %</td>\n      <td>11.5 %</td>\n      <td>84.7 %</td>\n    </tr>\n  </tbody>\n</table>\n<p>350 rows × 5 columns</p>\n</div>"
     },
     "execution_count": 193,
     "metadata": {},
     "output_type": "execute_result"
    }
   ],
   "source": [
    "stri = 'https://www.transfermarkt.com/premier-league/spieltag/wettbewerb/GB1/plus/?saison_id=2020&spieltag='\n",
    "df = get_links('https://www.transfermarkt.com/premier-league/spieltag/wettbewerb/GB1/plus/?saison_id=2020&spieltag=4')\n",
    "for i in range (5, 39):\n",
    "    stri_tmp = stri\n",
    "    word =\"{}\".format(i)\n",
    "    stri_tmp += word\n",
    "    df_tmp = get_links(stri_tmp)\n",
    "    df = pd.concat([df, df_tmp])\n",
    "\n",
    "df"
   ],
   "metadata": {
    "collapsed": false,
    "pycharm": {
     "name": "#%%\n"
    }
   }
  },
  {
   "cell_type": "code",
   "execution_count": 194,
   "outputs": [
    {
     "data": {
      "text/plain": "           home_team       away_team  home_prob  draw_prob  away_prob  \\\n0            Chelsea  Crystal Palace      0.939      0.041      0.020   \n1            Everton        Brighton      0.955      0.045      0.000   \n2              Leeds        Man City      0.063      0.137      0.800   \n3          Newcastle         Burnley      0.840      0.121      0.039   \n4          Leicester        West Ham      0.971      0.024      0.005   \n..               ...             ...        ...        ...        ...   \n5          Liverpool  Crystal Palace      0.962      0.025      0.013   \n6           Man City         Everton      0.834      0.102      0.064   \n7   Sheffield United         Burnley      0.172      0.242      0.586   \n8           West Ham     Southampton      0.879      0.089      0.032   \n9             Wolves      Man United      0.038      0.115      0.847   \n\n                    game_id  \n0     ChelseaCrystal Palace  \n1           EvertonBrighton  \n2             LeedsMan City  \n3          NewcastleBurnley  \n4         LeicesterWest Ham  \n..                      ...  \n5   LiverpoolCrystal Palace  \n6           Man CityEverton  \n7   Sheffield UnitedBurnley  \n8       West HamSouthampton  \n9          WolvesMan United  \n\n[350 rows x 6 columns]",
      "text/html": "<div>\n<style scoped>\n    .dataframe tbody tr th:only-of-type {\n        vertical-align: middle;\n    }\n\n    .dataframe tbody tr th {\n        vertical-align: top;\n    }\n\n    .dataframe thead th {\n        text-align: right;\n    }\n</style>\n<table border=\"1\" class=\"dataframe\">\n  <thead>\n    <tr style=\"text-align: right;\">\n      <th></th>\n      <th>home_team</th>\n      <th>away_team</th>\n      <th>home_prob</th>\n      <th>draw_prob</th>\n      <th>away_prob</th>\n      <th>game_id</th>\n    </tr>\n  </thead>\n  <tbody>\n    <tr>\n      <th>0</th>\n      <td>Chelsea</td>\n      <td>Crystal Palace</td>\n      <td>0.939</td>\n      <td>0.041</td>\n      <td>0.020</td>\n      <td>ChelseaCrystal Palace</td>\n    </tr>\n    <tr>\n      <th>1</th>\n      <td>Everton</td>\n      <td>Brighton</td>\n      <td>0.955</td>\n      <td>0.045</td>\n      <td>0.000</td>\n      <td>EvertonBrighton</td>\n    </tr>\n    <tr>\n      <th>2</th>\n      <td>Leeds</td>\n      <td>Man City</td>\n      <td>0.063</td>\n      <td>0.137</td>\n      <td>0.800</td>\n      <td>LeedsMan City</td>\n    </tr>\n    <tr>\n      <th>3</th>\n      <td>Newcastle</td>\n      <td>Burnley</td>\n      <td>0.840</td>\n      <td>0.121</td>\n      <td>0.039</td>\n      <td>NewcastleBurnley</td>\n    </tr>\n    <tr>\n      <th>4</th>\n      <td>Leicester</td>\n      <td>West Ham</td>\n      <td>0.971</td>\n      <td>0.024</td>\n      <td>0.005</td>\n      <td>LeicesterWest Ham</td>\n    </tr>\n    <tr>\n      <th>...</th>\n      <td>...</td>\n      <td>...</td>\n      <td>...</td>\n      <td>...</td>\n      <td>...</td>\n      <td>...</td>\n    </tr>\n    <tr>\n      <th>5</th>\n      <td>Liverpool</td>\n      <td>Crystal Palace</td>\n      <td>0.962</td>\n      <td>0.025</td>\n      <td>0.013</td>\n      <td>LiverpoolCrystal Palace</td>\n    </tr>\n    <tr>\n      <th>6</th>\n      <td>Man City</td>\n      <td>Everton</td>\n      <td>0.834</td>\n      <td>0.102</td>\n      <td>0.064</td>\n      <td>Man CityEverton</td>\n    </tr>\n    <tr>\n      <th>7</th>\n      <td>Sheffield United</td>\n      <td>Burnley</td>\n      <td>0.172</td>\n      <td>0.242</td>\n      <td>0.586</td>\n      <td>Sheffield UnitedBurnley</td>\n    </tr>\n    <tr>\n      <th>8</th>\n      <td>West Ham</td>\n      <td>Southampton</td>\n      <td>0.879</td>\n      <td>0.089</td>\n      <td>0.032</td>\n      <td>West HamSouthampton</td>\n    </tr>\n    <tr>\n      <th>9</th>\n      <td>Wolves</td>\n      <td>Man United</td>\n      <td>0.038</td>\n      <td>0.115</td>\n      <td>0.847</td>\n      <td>WolvesMan United</td>\n    </tr>\n  </tbody>\n</table>\n<p>350 rows × 6 columns</p>\n</div>"
     },
     "execution_count": 194,
     "metadata": {},
     "output_type": "execute_result"
    }
   ],
   "source": [
    "df.replace(['Man Utd', 'Sheff Utd', 'Spurs'], ['Man United','Sheffield United', 'Tottenham'], inplace=True)\n",
    "df['home_prob'] = pd.to_numeric(df['home_prob'].str.slice(start=-7, stop=-1),errors='coerce')/100\n",
    "df['draw_prob'] = pd.to_numeric(df['draw_prob'].str.slice(start=-7, stop=-1),errors='coerce')/100\n",
    "df['away_prob'] = pd.to_numeric(df['away_prob'].str.slice(start=-7, stop=-1),errors='coerce')/100\n",
    "df = df.fillna(0)\n",
    "df['game_id'] = df['home_team'] + df['away_team']\n",
    "df"
   ],
   "metadata": {
    "collapsed": false,
    "pycharm": {
     "name": "#%%\n"
    }
   }
  },
  {
   "cell_type": "code",
   "execution_count": 197,
   "outputs": [
    {
     "data": {
      "text/plain": "           home_team       away_team      H      D      A  \\\n0            Chelsea  Crystal Palace  0.939  0.041  0.020   \n1            Everton        Brighton  0.955  0.045  0.000   \n2              Leeds        Man City  0.063  0.137  0.800   \n3          Newcastle         Burnley  0.840  0.121  0.039   \n4          Leicester        West Ham  0.971  0.024  0.005   \n..               ...             ...    ...    ...    ...   \n5          Liverpool  Crystal Palace  0.962  0.025  0.013   \n6           Man City         Everton  0.834  0.102  0.064   \n7   Sheffield United         Burnley  0.172  0.242  0.586   \n8           West Ham     Southampton  0.879  0.089  0.032   \n9             Wolves      Man United  0.038  0.115  0.847   \n\n                    game_id  \n0     ChelseaCrystal Palace  \n1           EvertonBrighton  \n2             LeedsMan City  \n3          NewcastleBurnley  \n4         LeicesterWest Ham  \n..                      ...  \n5   LiverpoolCrystal Palace  \n6           Man CityEverton  \n7   Sheffield UnitedBurnley  \n8       West HamSouthampton  \n9          WolvesMan United  \n\n[350 rows x 6 columns]",
      "text/html": "<div>\n<style scoped>\n    .dataframe tbody tr th:only-of-type {\n        vertical-align: middle;\n    }\n\n    .dataframe tbody tr th {\n        vertical-align: top;\n    }\n\n    .dataframe thead th {\n        text-align: right;\n    }\n</style>\n<table border=\"1\" class=\"dataframe\">\n  <thead>\n    <tr style=\"text-align: right;\">\n      <th></th>\n      <th>home_team</th>\n      <th>away_team</th>\n      <th>H</th>\n      <th>D</th>\n      <th>A</th>\n      <th>game_id</th>\n    </tr>\n  </thead>\n  <tbody>\n    <tr>\n      <th>0</th>\n      <td>Chelsea</td>\n      <td>Crystal Palace</td>\n      <td>0.939</td>\n      <td>0.041</td>\n      <td>0.020</td>\n      <td>ChelseaCrystal Palace</td>\n    </tr>\n    <tr>\n      <th>1</th>\n      <td>Everton</td>\n      <td>Brighton</td>\n      <td>0.955</td>\n      <td>0.045</td>\n      <td>0.000</td>\n      <td>EvertonBrighton</td>\n    </tr>\n    <tr>\n      <th>2</th>\n      <td>Leeds</td>\n      <td>Man City</td>\n      <td>0.063</td>\n      <td>0.137</td>\n      <td>0.800</td>\n      <td>LeedsMan City</td>\n    </tr>\n    <tr>\n      <th>3</th>\n      <td>Newcastle</td>\n      <td>Burnley</td>\n      <td>0.840</td>\n      <td>0.121</td>\n      <td>0.039</td>\n      <td>NewcastleBurnley</td>\n    </tr>\n    <tr>\n      <th>4</th>\n      <td>Leicester</td>\n      <td>West Ham</td>\n      <td>0.971</td>\n      <td>0.024</td>\n      <td>0.005</td>\n      <td>LeicesterWest Ham</td>\n    </tr>\n    <tr>\n      <th>...</th>\n      <td>...</td>\n      <td>...</td>\n      <td>...</td>\n      <td>...</td>\n      <td>...</td>\n      <td>...</td>\n    </tr>\n    <tr>\n      <th>5</th>\n      <td>Liverpool</td>\n      <td>Crystal Palace</td>\n      <td>0.962</td>\n      <td>0.025</td>\n      <td>0.013</td>\n      <td>LiverpoolCrystal Palace</td>\n    </tr>\n    <tr>\n      <th>6</th>\n      <td>Man City</td>\n      <td>Everton</td>\n      <td>0.834</td>\n      <td>0.102</td>\n      <td>0.064</td>\n      <td>Man CityEverton</td>\n    </tr>\n    <tr>\n      <th>7</th>\n      <td>Sheffield United</td>\n      <td>Burnley</td>\n      <td>0.172</td>\n      <td>0.242</td>\n      <td>0.586</td>\n      <td>Sheffield UnitedBurnley</td>\n    </tr>\n    <tr>\n      <th>8</th>\n      <td>West Ham</td>\n      <td>Southampton</td>\n      <td>0.879</td>\n      <td>0.089</td>\n      <td>0.032</td>\n      <td>West HamSouthampton</td>\n    </tr>\n    <tr>\n      <th>9</th>\n      <td>Wolves</td>\n      <td>Man United</td>\n      <td>0.038</td>\n      <td>0.115</td>\n      <td>0.847</td>\n      <td>WolvesMan United</td>\n    </tr>\n  </tbody>\n</table>\n<p>350 rows × 6 columns</p>\n</div>"
     },
     "execution_count": 197,
     "metadata": {},
     "output_type": "execute_result"
    }
   ],
   "source": [
    "df = df.rename(columns={'home_prob':'H','draw_prob':'D','away_prob':'A'})\n",
    "df"
   ],
   "metadata": {
    "collapsed": false,
    "pycharm": {
     "name": "#%%\n"
    }
   }
  },
  {
   "cell_type": "code",
   "execution_count": 198,
   "outputs": [],
   "source": [
    "df.to_csv('Data/2020-21/Fixtures/tranfermarkt_probs.csv')"
   ],
   "metadata": {
    "collapsed": false,
    "pycharm": {
     "name": "#%%\n"
    }
   }
  },
  {
   "cell_type": "code",
   "execution_count": null,
   "outputs": [],
   "source": [],
   "metadata": {
    "collapsed": false,
    "pycharm": {
     "name": "#%%\n"
    }
   }
  }
 ],
 "metadata": {
  "kernelspec": {
   "display_name": "Python 3",
   "language": "python",
   "name": "python3"
  },
  "language_info": {
   "codemirror_mode": {
    "name": "ipython",
    "version": 2
   },
   "file_extension": ".py",
   "mimetype": "text/x-python",
   "name": "python",
   "nbconvert_exporter": "python",
   "pygments_lexer": "ipython2",
   "version": "2.7.6"
  }
 },
 "nbformat": 4,
 "nbformat_minor": 0
}