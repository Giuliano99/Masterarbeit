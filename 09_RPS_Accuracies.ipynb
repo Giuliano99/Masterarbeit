{
 "cells": [
  {
   "cell_type": "code",
   "execution_count": 1,
   "metadata": {
    "collapsed": true
   },
   "outputs": [],
   "source": [
    "#notebook to calculate accuracy of the models and compare to benchmarks community votes and betting odds\n",
    "#import necessary packages\n",
    "import pandas as pd\n",
    "import numpy as np"
   ]
  },
  {
   "cell_type": "code",
   "execution_count": 5,
   "outputs": [
    {
     "name": "stderr",
     "output_type": "stream",
     "text": [
      "C:\\Users\\giuli\\AppData\\Local\\Temp\\ipykernel_1632\\2609951829.py:38: SettingWithCopyWarning: \n",
      "A value is trying to be set on a copy of a slice from a DataFrame.\n",
      "Try using .loc[row_indexer,col_indexer] = value instead\n",
      "\n",
      "See the caveats in the documentation: https://pandas.pydata.org/pandas-docs/stable/user_guide/indexing.html#returning-a-view-versus-a-copy\n",
      "  predictions['Result'] = obs\n",
      "C:\\Users\\giuli\\AppData\\Local\\Temp\\ipykernel_1632\\2609951829.py:39: SettingWithCopyWarning: \n",
      "A value is trying to be set on a copy of a slice from a DataFrame.\n",
      "Try using .loc[row_indexer,col_indexer] = value instead\n",
      "\n",
      "See the caveats in the documentation: https://pandas.pydata.org/pandas-docs/stable/user_guide/indexing.html#returning-a-view-versus-a-copy\n",
      "  predictions['RPS'] = rps_result\n"
     ]
    },
    {
     "data": {
      "text/plain": "   Home win  Draw  Away win Result      RPS\n0      1.00  0.00      0.00      H  0.00000\n1      0.00  0.00      1.00      H  1.00000\n2      0.00  1.00      0.00      H  0.50000\n3      0.80  0.10      0.10      H  0.02500\n4      0.50  0.25      0.25      D  0.15625\n5      0.35  0.30      0.35      D  0.12250\n6      0.60  0.30      0.10      H  0.08500\n7      0.60  0.30      0.10      H  0.08500\n8      0.60  0.10      0.30      H  0.12500\n9      0.50  0.45      0.05      H  0.12625",
      "text/html": "<div>\n<style scoped>\n    .dataframe tbody tr th:only-of-type {\n        vertical-align: middle;\n    }\n\n    .dataframe tbody tr th {\n        vertical-align: top;\n    }\n\n    .dataframe thead th {\n        text-align: right;\n    }\n</style>\n<table border=\"1\" class=\"dataframe\">\n  <thead>\n    <tr style=\"text-align: right;\">\n      <th></th>\n      <th>Home win</th>\n      <th>Draw</th>\n      <th>Away win</th>\n      <th>Result</th>\n      <th>RPS</th>\n    </tr>\n  </thead>\n  <tbody>\n    <tr>\n      <th>0</th>\n      <td>1.00</td>\n      <td>0.00</td>\n      <td>0.00</td>\n      <td>H</td>\n      <td>0.00000</td>\n    </tr>\n    <tr>\n      <th>1</th>\n      <td>0.00</td>\n      <td>0.00</td>\n      <td>1.00</td>\n      <td>H</td>\n      <td>1.00000</td>\n    </tr>\n    <tr>\n      <th>2</th>\n      <td>0.00</td>\n      <td>1.00</td>\n      <td>0.00</td>\n      <td>H</td>\n      <td>0.50000</td>\n    </tr>\n    <tr>\n      <th>3</th>\n      <td>0.80</td>\n      <td>0.10</td>\n      <td>0.10</td>\n      <td>H</td>\n      <td>0.02500</td>\n    </tr>\n    <tr>\n      <th>4</th>\n      <td>0.50</td>\n      <td>0.25</td>\n      <td>0.25</td>\n      <td>D</td>\n      <td>0.15625</td>\n    </tr>\n    <tr>\n      <th>5</th>\n      <td>0.35</td>\n      <td>0.30</td>\n      <td>0.35</td>\n      <td>D</td>\n      <td>0.12250</td>\n    </tr>\n    <tr>\n      <th>6</th>\n      <td>0.60</td>\n      <td>0.30</td>\n      <td>0.10</td>\n      <td>H</td>\n      <td>0.08500</td>\n    </tr>\n    <tr>\n      <th>7</th>\n      <td>0.60</td>\n      <td>0.30</td>\n      <td>0.10</td>\n      <td>H</td>\n      <td>0.08500</td>\n    </tr>\n    <tr>\n      <th>8</th>\n      <td>0.60</td>\n      <td>0.10</td>\n      <td>0.30</td>\n      <td>H</td>\n      <td>0.12500</td>\n    </tr>\n    <tr>\n      <th>9</th>\n      <td>0.50</td>\n      <td>0.45</td>\n      <td>0.05</td>\n      <td>H</td>\n      <td>0.12625</td>\n    </tr>\n  </tbody>\n</table>\n</div>"
     },
     "execution_count": 5,
     "metadata": {},
     "output_type": "execute_result"
    }
   ],
   "source": [
    "#function to calculate rps value\n",
    "def rps(predictions, observed):\n",
    "    \"\"\"Vectorized version of Ranked Probability Score.\n",
    "    A lower value is a better score.\n",
    "    From: Colin Catlin, https://syllepsis.live/2022/01/22/ranked-probability-score-in-python/\n",
    "\n",
    "    Args:\n",
    "        predictions (pd.DataFrame): each column is an outcome category\n",
    "            with values as the 0 to 1 probability of that category\n",
    "        observed (pd.DataFrame): each column is an outcome category\n",
    "            with values of 0 OR 1 with 1 being that category occurred\n",
    "    \"\"\"\n",
    "    assert (\n",
    "        predictions.shape == observed.shape\n",
    "    ), \"prediction and observed array shapes must match\"\n",
    "    ncat = predictions.shape[1] - 1\n",
    "    return (\n",
    "        np.sum(\n",
    "            (np.cumsum(predictions, axis=1) - np.cumsum(observed, axis=1)) ** 2, axis=1\n",
    "        ) / ncat\n",
    "    )\n",
    "predictions_df = pd.DataFrame({\n",
    "    'H': [1, 0, 0,0.8, 0.5, 0.35, 0.6, 0.6, 0.6, 0.5],\n",
    "    'D': [0, 0, 1,0.1, 0.25, 0.3, 0.3, 0.3, 0.1, 0.45],\n",
    "    'A': [0, 1, 0,0.1, 0.25, 0.35, 0.1, 0.1, 0.3, 0.05],\n",
    "    \"model\": np.tile([\"a\", \"b\"], 5),\n",
    "    \"match\": np.repeat(np.arange(1, 6), 2),\n",
    "    \"outcome\": np.repeat([\"H\", \"H\", \"D\", \"H\", \"H\"], 2),\n",
    "})\n",
    "expected_result = [0, 0.005, 0.025, 0.15625, 0.1225, 0.185, 0.085, 0.125, 0.12625, 0.1625]\n",
    "predictions = predictions_df[[\"H\", \"D\", \"A\"]]\n",
    "observed = pd.get_dummies(predictions_df[\"outcome\"]).reindex(\n",
    "    columns=predictions.columns, fill_value=0\n",
    ")\n",
    "rps_result = rps(predictions, observed).round(5)\n",
    "\n",
    "obs = ['H', 'H', 'H', 'H', 'D', 'D', 'H', 'H', 'H', 'H']\n",
    "predictions['Result'] = obs\n",
    "predictions['RPS'] = rps_result\n",
    "predictions = predictions.rename(columns={'H':'Home win','D':'Draw','A':'Away win'})\n",
    "predictions\n",
    "\n",
    "\n",
    "#print(f\"do results match expected: {all(expected_result == rps_result)}\")\n",
    "\n",
    "#print(np.mean(rps_result))"
   ],
   "metadata": {
    "collapsed": false,
    "pycharm": {
     "name": "#%%\n"
    }
   }
  },
  {
   "cell_type": "code",
   "execution_count": 8,
   "outputs": [
    {
     "ename": "AssertionError",
     "evalue": "prediction and observed array shapes must match",
     "output_type": "error",
     "traceback": [
      "\u001B[1;31m---------------------------------------------------------------------------\u001B[0m",
      "\u001B[1;31mAssertionError\u001B[0m                            Traceback (most recent call last)",
      "Input \u001B[1;32mIn [8]\u001B[0m, in \u001B[0;36m<cell line: 33>\u001B[1;34m()\u001B[0m\n\u001B[0;32m     27\u001B[0m predictions_21 \u001B[38;5;241m=\u001B[39m probabilities_21[[\u001B[38;5;124m\"\u001B[39m\u001B[38;5;124mH\u001B[39m\u001B[38;5;124m\"\u001B[39m, \u001B[38;5;124m\"\u001B[39m\u001B[38;5;124mD\u001B[39m\u001B[38;5;124m\"\u001B[39m, \u001B[38;5;124m\"\u001B[39m\u001B[38;5;124mA\u001B[39m\u001B[38;5;124m\"\u001B[39m]]\n\u001B[0;32m     28\u001B[0m observed_21 \u001B[38;5;241m=\u001B[39m pd\u001B[38;5;241m.\u001B[39mget_dummies(probabilities_21[\u001B[38;5;124m\"\u001B[39m\u001B[38;5;124mFTR\u001B[39m\u001B[38;5;124m\"\u001B[39m])\u001B[38;5;241m.\u001B[39mreindex(\n\u001B[0;32m     29\u001B[0m     columns\u001B[38;5;241m=\u001B[39mpredictions\u001B[38;5;241m.\u001B[39mcolumns, fill_value\u001B[38;5;241m=\u001B[39m\u001B[38;5;241m0\u001B[39m)\n\u001B[1;32m---> 33\u001B[0m rps_result_21 \u001B[38;5;241m=\u001B[39m \u001B[43mrps\u001B[49m\u001B[43m(\u001B[49m\u001B[43mpredictions_21\u001B[49m\u001B[43m,\u001B[49m\u001B[43m \u001B[49m\u001B[43mobserved_21\u001B[49m\u001B[43m)\u001B[49m\u001B[38;5;241m.\u001B[39mround(\u001B[38;5;241m5\u001B[39m)\n\u001B[0;32m     34\u001B[0m rps_result_20 \u001B[38;5;241m=\u001B[39m rps(predictions_20, observed_20)\u001B[38;5;241m.\u001B[39mround(\u001B[38;5;241m5\u001B[39m)\n\u001B[0;32m     36\u001B[0m rps_betting_odds \u001B[38;5;241m=\u001B[39m np\u001B[38;5;241m.\u001B[39mmean(rps_result_21)\n",
      "Input \u001B[1;32mIn [7]\u001B[0m, in \u001B[0;36mrps\u001B[1;34m(predictions, observed)\u001B[0m\n\u001B[0;32m      2\u001B[0m \u001B[38;5;28;01mdef\u001B[39;00m \u001B[38;5;21mrps\u001B[39m(predictions, observed):\n\u001B[0;32m      3\u001B[0m     \u001B[38;5;124;03m\"\"\"Vectorized version of Ranked Probability Score.\u001B[39;00m\n\u001B[0;32m      4\u001B[0m \u001B[38;5;124;03m    A lower value is a better score.\u001B[39;00m\n\u001B[0;32m      5\u001B[0m \u001B[38;5;124;03m    From: Colin Catlin, https://syllepsis.live/2022/01/22/ranked-probability-score-in-python/\u001B[39;00m\n\u001B[1;32m   (...)\u001B[0m\n\u001B[0;32m     11\u001B[0m \u001B[38;5;124;03m            with values of 0 OR 1 with 1 being that category occurred\u001B[39;00m\n\u001B[0;32m     12\u001B[0m \u001B[38;5;124;03m    \"\"\"\u001B[39;00m\n\u001B[1;32m---> 13\u001B[0m     \u001B[38;5;28;01massert\u001B[39;00m (\n\u001B[0;32m     14\u001B[0m         predictions\u001B[38;5;241m.\u001B[39mshape \u001B[38;5;241m==\u001B[39m observed\u001B[38;5;241m.\u001B[39mshape\n\u001B[0;32m     15\u001B[0m     ), \u001B[38;5;124m\"\u001B[39m\u001B[38;5;124mprediction and observed array shapes must match\u001B[39m\u001B[38;5;124m\"\u001B[39m\n\u001B[0;32m     16\u001B[0m     ncat \u001B[38;5;241m=\u001B[39m predictions\u001B[38;5;241m.\u001B[39mshape[\u001B[38;5;241m1\u001B[39m] \u001B[38;5;241m-\u001B[39m \u001B[38;5;241m1\u001B[39m\n\u001B[0;32m     17\u001B[0m     \u001B[38;5;28;01mreturn\u001B[39;00m (\n\u001B[0;32m     18\u001B[0m         np\u001B[38;5;241m.\u001B[39msum(\n\u001B[0;32m     19\u001B[0m             (np\u001B[38;5;241m.\u001B[39mcumsum(predictions, axis\u001B[38;5;241m=\u001B[39m\u001B[38;5;241m1\u001B[39m) \u001B[38;5;241m-\u001B[39m np\u001B[38;5;241m.\u001B[39mcumsum(observed, axis\u001B[38;5;241m=\u001B[39m\u001B[38;5;241m1\u001B[39m)) \u001B[38;5;241m*\u001B[39m\u001B[38;5;241m*\u001B[39m \u001B[38;5;241m2\u001B[39m, axis\u001B[38;5;241m=\u001B[39m\u001B[38;5;241m1\u001B[39m\n\u001B[0;32m     20\u001B[0m         ) \u001B[38;5;241m/\u001B[39m ncat\n\u001B[0;32m     21\u001B[0m     )\n",
      "\u001B[1;31mAssertionError\u001B[0m: prediction and observed array shapes must match"
     ]
    }
   ],
   "source": [
    "#calculate rps value for betting odds\n",
    "PL_20_21 = pd.read_csv('Data/2020-21/Fixtures/E_20_21.csv')\n",
    "PL_21_22 = pd.read_csv('Data/2021-22/Fixtures/E_21_22.csv')\n",
    "#invert odds\n",
    "PL_20_21['B365H'] = 1/PL_20_21['B365H']\n",
    "PL_20_21['B365D'] = 1/PL_20_21['B365D']\n",
    "PL_20_21['B365A'] = 1/PL_20_21['B365A']\n",
    "PL_20_21['SUM'] = PL_20_21['B365H'] + PL_20_21['B365D'] + PL_20_21['B365A']\n",
    "#calculate fair odds\n",
    "PL_20_21['B365H'] = PL_20_21['B365H']/PL_20_21['SUM']\n",
    "PL_20_21['B365D'] = PL_20_21['B365D']/PL_20_21['SUM']\n",
    "PL_20_21['B365A'] = PL_20_21['B365A']/PL_20_21['SUM']\n",
    "PL_21_22['B365H'] = 1/PL_21_22['B365H']\n",
    "PL_21_22['B365D'] = 1/PL_21_22['B365D']\n",
    "PL_21_22['B365A'] = 1/PL_21_22['B365A']\n",
    "PL_21_22['SUM'] = PL_21_22['B365H'] + PL_21_22['B365D'] + PL_21_22['B365A']\n",
    "PL_21_22['B365H'] = PL_21_22['B365H']/PL_21_22['SUM']\n",
    "PL_21_22['B365D'] = PL_21_22['B365D']/PL_21_22['SUM']\n",
    "PL_21_22['B365A'] = PL_21_22['B365A']/PL_21_22['SUM']\n",
    "probabilities_20 = PL_20_21[['HomeTeam', 'AwayTeam', 'B365H', 'B365D', 'B365A', 'FTR']]\n",
    "probabilities_20 = probabilities_20.rename(columns={'B365H':'H','B365D':'D','B365A':'A'})\n",
    "predictions_20 = probabilities_20[[\"H\", \"D\", \"A\"]]\n",
    "observed_20 = pd.get_dummies(probabilities_20[\"FTR\"]).reindex(\n",
    "    columns=predictions.columns, fill_value=0)\n",
    "\n",
    "probabilities_21 = PL_21_22[['HomeTeam', 'AwayTeam', 'B365H', 'B365D', 'B365A', 'FTR']]\n",
    "probabilities_21 = probabilities_21[-350:]\n",
    "probabilities_21 = probabilities_21.rename(columns={'B365H':'H','B365D':'D','B365A':'A'})\n",
    "predictions_21 = probabilities_21[[\"H\", \"D\", \"A\"]]\n",
    "observed_21 = pd.get_dummies(probabilities_21[\"FTR\"]).reindex(\n",
    "    columns=predictions.columns, fill_value=0)\n",
    "\n",
    "\n",
    "\n",
    "rps_result_21 = rps(predictions_21, observed_21).round(5)\n",
    "#rps_result_20 = rps(predictions_20, observed_20).round(5)\n",
    "\n",
    "rps_betting_odds = np.mean(rps_result_21)\n",
    "print(rps_betting_odds)"
   ],
   "metadata": {
    "collapsed": false,
    "pycharm": {
     "name": "#%%\n"
    }
   }
  },
  {
   "cell_type": "code",
   "execution_count": 61,
   "outputs": [
    {
     "name": "stdout",
     "output_type": "stream",
     "text": [
      "0.22040236842105265\n"
     ]
    }
   ],
   "source": [
    "#calculate rps value for community votes\n",
    "PL_21_22.replace(['Leeds', 'Leicester', 'Man City', 'Man United', 'Newcastle', 'Norwich', 'Sheff Utd', 'Spurs'], ['Leeds United', 'Leicester City', 'Manchester City', 'Manchester Utd', 'Newcastle Utd',\n",
    "                  'Norwich City', 'Sheffield Utd', 'Tottenham'], inplace=True)\n",
    "PL_21_22['game_id'] = PL_21_22['HomeTeam'] + PL_21_22['AwayTeam']\n",
    "PL_21_22['HomeTeam'].drop_duplicates()\n",
    "transfermarkt_probs_21 = pd.read_csv('Data/2021-22/Fixtures/tranfermarkt_21_probs.csv')\n",
    "test = pd.merge(PL_21_22, transfermarkt_probs_21, on='game_id', how='left')\n",
    "\n",
    "predictions = test[[\"H\", \"D\", \"A\"]]\n",
    "observed = pd.get_dummies(test[\"FTR\"]).reindex(\n",
    "    columns=predictions.columns, fill_value=0)\n",
    "rps_result_community = rps(predictions, observed).round(5)\n",
    "\n",
    "rps_community_votes = np.mean(rps_result_community)\n",
    "\n",
    "print(rps_community_votes)"
   ],
   "metadata": {
    "collapsed": false,
    "pycharm": {
     "name": "#%%\n"
    }
   }
  },
  {
   "cell_type": "code",
   "execution_count": 58,
   "outputs": [
    {
     "name": "stdout",
     "output_type": "stream",
     "text": [
      "0.2156126842105263\n"
     ]
    }
   ],
   "source": [
    "#calculate rps value for rf classic model\n",
    "probs_benchmark = pd.read_csv('Data/Total/probs_benchmark_info.csv')\n",
    "\n",
    "predictions = probs_benchmark[[\"H\", \"D\", \"A\"]]\n",
    "observed = pd.get_dummies(probabilities_21[\"FTR\"]).reindex(\n",
    "    columns=predictions.columns, fill_value=0)\n",
    "rps_result = rps(predictions, observed).round(5)\n",
    "\n",
    "rps_rf_benchmark = np.mean(rps_result)\n",
    "print(rps_rf_benchmark)"
   ],
   "metadata": {
    "collapsed": false,
    "pycharm": {
     "name": "#%%\n"
    }
   }
  },
  {
   "cell_type": "code",
   "execution_count": 59,
   "outputs": [
    {
     "name": "stdout",
     "output_type": "stream",
     "text": [
      "0.21135973684210527\n"
     ]
    }
   ],
   "source": [
    "#calculate rps score for rf improved model\n",
    "probs_player_stats= pd.read_csv('Data/Total/probs_player_stats_info.csv')\n",
    "\n",
    "predictions = probs_player_stats[[\"H\", \"D\", \"A\"]]\n",
    "observed = pd.get_dummies(probabilities_21[\"FTR\"]).reindex(\n",
    "    columns=predictions.columns, fill_value=0)\n",
    "rps_result = rps(predictions, observed).round(5)\n",
    "\n",
    "rps_rf_player_stats = np.mean(rps_result)\n",
    "print(rps_rf_player_stats)"
   ],
   "metadata": {
    "collapsed": false,
    "pycharm": {
     "name": "#%%\n"
    }
   }
  },
  {
   "cell_type": "code",
   "execution_count": 60,
   "outputs": [
    {
     "name": "stdout",
     "output_type": "stream",
     "text": [
      "RPS score random forest benchmark: 0.2156126842105263\n",
      "RPS score random forest incl player stats: 0.21135973684210527\n",
      "RPS score community votes: 0.22040236842105265\n",
      "RPS score betting odds: 0.19134634285714286\n"
     ]
    }
   ],
   "source": [
    "#display rps values\n",
    "print('RPS score random forest benchmark:', rps_rf_benchmark)\n",
    "print('RPS score random forest incl player stats:', rps_rf_player_stats)\n",
    "print('RPS score community votes:', rps_community_votes)\n",
    "print('RPS score betting odds:', rps_betting_odds)"
   ],
   "metadata": {
    "collapsed": false,
    "pycharm": {
     "name": "#%%\n"
    }
   }
  },
  {
   "cell_type": "code",
   "execution_count": 67,
   "outputs": [
    {
     "data": {
      "text/plain": "     Unnamed: 0         HomeTeam         AwayTeam FTR         H         D  \\\n0             0   Crystal Palace        Tottenham   H  0.637693  0.176003   \n1             1          Arsenal     Norwich City   H  0.659592  0.209283   \n2             2        Brentford         Brighton   A  0.169527  0.151281   \n3             3   Leicester City  Manchester City   A  0.103872  0.156836   \n4             4   Manchester Utd    Newcastle Utd   H  0.867363  0.068092   \n..          ...              ...              ...  ..       ...       ...   \n345         345   Crystal Palace   Manchester Utd   H  0.270560  0.358476   \n346         346   Leicester City      Southampton   H  0.621875  0.199979   \n347         347        Liverpool           Wolves   H  0.579875  0.118616   \n348         348  Manchester City      Aston Villa   H  0.672318  0.139366   \n349         349     Norwich City        Tottenham   A  0.186195  0.222604   \n\n            A player_stats_vote    rps  \n0    0.186304                 H  0.000  \n1    0.131125                 H  0.000  \n2    0.679192                 A  0.000  \n3    0.739292                 A  0.000  \n4    0.064545                 H  0.000  \n..        ...               ...    ...  \n345  0.370964                 A  0.335  \n346  0.178146                 H  0.087  \n347  0.301509                 H  0.214  \n348  0.188315                 H  0.071  \n349  0.591201                 A  0.101  \n\n[350 rows x 9 columns]",
      "text/html": "<div>\n<style scoped>\n    .dataframe tbody tr th:only-of-type {\n        vertical-align: middle;\n    }\n\n    .dataframe tbody tr th {\n        vertical-align: top;\n    }\n\n    .dataframe thead th {\n        text-align: right;\n    }\n</style>\n<table border=\"1\" class=\"dataframe\">\n  <thead>\n    <tr style=\"text-align: right;\">\n      <th></th>\n      <th>Unnamed: 0</th>\n      <th>HomeTeam</th>\n      <th>AwayTeam</th>\n      <th>FTR</th>\n      <th>H</th>\n      <th>D</th>\n      <th>A</th>\n      <th>player_stats_vote</th>\n      <th>rps</th>\n    </tr>\n  </thead>\n  <tbody>\n    <tr>\n      <th>0</th>\n      <td>0</td>\n      <td>Crystal Palace</td>\n      <td>Tottenham</td>\n      <td>H</td>\n      <td>0.637693</td>\n      <td>0.176003</td>\n      <td>0.186304</td>\n      <td>H</td>\n      <td>0.000</td>\n    </tr>\n    <tr>\n      <th>1</th>\n      <td>1</td>\n      <td>Arsenal</td>\n      <td>Norwich City</td>\n      <td>H</td>\n      <td>0.659592</td>\n      <td>0.209283</td>\n      <td>0.131125</td>\n      <td>H</td>\n      <td>0.000</td>\n    </tr>\n    <tr>\n      <th>2</th>\n      <td>2</td>\n      <td>Brentford</td>\n      <td>Brighton</td>\n      <td>A</td>\n      <td>0.169527</td>\n      <td>0.151281</td>\n      <td>0.679192</td>\n      <td>A</td>\n      <td>0.000</td>\n    </tr>\n    <tr>\n      <th>3</th>\n      <td>3</td>\n      <td>Leicester City</td>\n      <td>Manchester City</td>\n      <td>A</td>\n      <td>0.103872</td>\n      <td>0.156836</td>\n      <td>0.739292</td>\n      <td>A</td>\n      <td>0.000</td>\n    </tr>\n    <tr>\n      <th>4</th>\n      <td>4</td>\n      <td>Manchester Utd</td>\n      <td>Newcastle Utd</td>\n      <td>H</td>\n      <td>0.867363</td>\n      <td>0.068092</td>\n      <td>0.064545</td>\n      <td>H</td>\n      <td>0.000</td>\n    </tr>\n    <tr>\n      <th>...</th>\n      <td>...</td>\n      <td>...</td>\n      <td>...</td>\n      <td>...</td>\n      <td>...</td>\n      <td>...</td>\n      <td>...</td>\n      <td>...</td>\n      <td>...</td>\n    </tr>\n    <tr>\n      <th>345</th>\n      <td>345</td>\n      <td>Crystal Palace</td>\n      <td>Manchester Utd</td>\n      <td>H</td>\n      <td>0.270560</td>\n      <td>0.358476</td>\n      <td>0.370964</td>\n      <td>A</td>\n      <td>0.335</td>\n    </tr>\n    <tr>\n      <th>346</th>\n      <td>346</td>\n      <td>Leicester City</td>\n      <td>Southampton</td>\n      <td>H</td>\n      <td>0.621875</td>\n      <td>0.199979</td>\n      <td>0.178146</td>\n      <td>H</td>\n      <td>0.087</td>\n    </tr>\n    <tr>\n      <th>347</th>\n      <td>347</td>\n      <td>Liverpool</td>\n      <td>Wolves</td>\n      <td>H</td>\n      <td>0.579875</td>\n      <td>0.118616</td>\n      <td>0.301509</td>\n      <td>H</td>\n      <td>0.214</td>\n    </tr>\n    <tr>\n      <th>348</th>\n      <td>348</td>\n      <td>Manchester City</td>\n      <td>Aston Villa</td>\n      <td>H</td>\n      <td>0.672318</td>\n      <td>0.139366</td>\n      <td>0.188315</td>\n      <td>H</td>\n      <td>0.071</td>\n    </tr>\n    <tr>\n      <th>349</th>\n      <td>349</td>\n      <td>Norwich City</td>\n      <td>Tottenham</td>\n      <td>A</td>\n      <td>0.186195</td>\n      <td>0.222604</td>\n      <td>0.591201</td>\n      <td>A</td>\n      <td>0.101</td>\n    </tr>\n  </tbody>\n</table>\n<p>350 rows × 9 columns</p>\n</div>"
     },
     "execution_count": 67,
     "metadata": {},
     "output_type": "execute_result"
    }
   ],
   "source": [
    "probs_player_stats= pd.read_csv('Data/Total/probs_player_stats_info.csv')\n",
    "\n",
    "predictions = probs_player_stats[[\"H\", \"D\", \"A\"]]\n",
    "observed = pd.get_dummies(probabilities_21[\"FTR\"]).reindex(\n",
    "    columns=predictions.columns, fill_value=0)\n",
    "rps_result = rps(predictions, observed).round(5)\n",
    "\n",
    "probs_player_stats['rps'] = rps_result = rps(predictions, observed).round(3)\n",
    "probs_player_stats"
   ],
   "metadata": {
    "collapsed": false,
    "pycharm": {
     "name": "#%%\n"
    }
   }
  }
 ],
 "metadata": {
  "kernelspec": {
   "display_name": "Python 3",
   "language": "python",
   "name": "python3"
  },
  "language_info": {
   "codemirror_mode": {
    "name": "ipython",
    "version": 2
   },
   "file_extension": ".py",
   "mimetype": "text/x-python",
   "name": "python",
   "nbconvert_exporter": "python",
   "pygments_lexer": "ipython2",
   "version": "2.7.6"
  }
 },
 "nbformat": 4,
 "nbformat_minor": 0
}