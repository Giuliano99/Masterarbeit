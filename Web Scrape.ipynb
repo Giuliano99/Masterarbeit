{
 "cells": [
  {
   "cell_type": "code",
   "execution_count": 22,
   "outputs": [],
   "source": [
    "import requests\n",
    "from bs4 import BeautifulSoup\n",
    "import pandas as pd\n",
    "import numpy as np\n",
    "import re\n",
    "import sys, getopt\n",
    "import csv\n",
    "import time"
   ],
   "metadata": {
    "collapsed": false,
    "pycharm": {
     "name": "#%%\n"
    }
   }
  },
  {
   "cell_type": "code",
   "execution_count": 23,
   "outputs": [],
   "source": [
    "def get_links(url):\n",
    "    res = requests.get(url)\n",
    "    ## The next two lines get around the issue with comments breaking the parsing.\n",
    "    comm = re.compile(\"<!--|-->\")\n",
    "    soup = BeautifulSoup(comm.sub(\"\", res.text), 'lxml')\n",
    "    all_tables = soup.findAll(\"tbody\")\n",
    "    test = soup.find(id='div_sched_10728_1')\n",
    "    x = \"score\"\n",
    "    test = test.findAll(\"td\", {\"data-stat\": x})\n",
    "    link_list = []\n",
    "    for i in test:\n",
    "        i = i.find(\"a\")\n",
    "        if i is not None:\n",
    "         link = i['href']\n",
    "         link_list.append(link)\n",
    "         #print(link)\n",
    "    return link_list"
   ],
   "metadata": {
    "collapsed": false,
    "pycharm": {
     "name": "#%%\n"
    }
   }
  },
  {
   "cell_type": "code",
   "execution_count": 24,
   "outputs": [],
   "source": [
    "#@title\n",
    "\n",
    "#stats matchday\n",
    "statsm = [\"player\", \"shirtnumber\", \"nationality\", \"position\", \"age\", \"minutes\", \"goals\", \"assists\", \"touches\", \"sca\",\n",
    "          \"gca\", 'pens_made', 'shots_total', 'shots_on_target', 'pressures', 'tackles', 'interceptions', 'blocks', 'xg',\n",
    "          'xa', 'passes', 'passes_pct', 'progressive_passes', 'progressive_carries', 'dribbles_completed', 'dribbles']\n",
    "\n",
    "#stats keeper matchday\n",
    "statskeepers = ['player', 'shots_on_target_against', 'goals_against_gk', 'saves', 'save_pct', 'psxg_gk', 'passes_completed_launched_gk', 'passes_gk', 'passes_throws_gk', 'pct_passes_launched_gk', 'def_actions_outside_pen_area_gk' ]\n",
    "\n",
    "\n",
    "#Functions to get the data in a dataframe using BeautifulSoup\n",
    "\n",
    "def get_tables_m(url):\n",
    "    res = requests.get(url)\n",
    "    ## The next two lines get around the issue with comments breaking the parsing.\n",
    "    comm = re.compile(\"<!--|-->\")\n",
    "    soup = BeautifulSoup(comm.sub(\"\", res.text), 'lxml')\n",
    "    all_tables = soup.findAll(\"tbody\")\n",
    "    matchweek = soup.find(id='content').find(\"div\").contents[1]\n",
    "    team_H = soup.findAll(\"strong\")[2].find(\"a\").contents[0]\n",
    "    if soup.findAll(\"strong\")[5].find(\"a\") is None:\n",
    "        team_A = soup.findAll(\"strong\")[4].find(\"a\").contents[0]\n",
    "    else:\n",
    "        team_A = soup.findAll(\"strong\")[5].find(\"a\").contents[0]\n",
    "\n",
    "    team1_table = all_tables[0]\n",
    "    team2_table = all_tables[7]\n",
    "    gk1_table = all_tables[6]\n",
    "    gk2_table = all_tables[13]\n",
    "\n",
    "    #gk1_table.append(gk2_table)\n",
    "    #team1_table.append(team2_table)\n",
    "\n",
    "    return team1_table, team2_table, gk1_table, gk2_table, matchweek, team_H, team_A\n",
    "\n",
    "\n",
    "def get_frame(features, player_table):\n",
    "    pre_df_player = dict()\n",
    "    features_wanted_player = features\n",
    "    rows_player = player_table.find_all('tr')\n",
    "    #print(rows_player)\n",
    "    for row in rows_player:\n",
    "        #print(row)\n",
    "        if (row.find('th', {\"scope\": \"row\"}) != None):\n",
    "\n",
    "            for f in features_wanted_player:\n",
    "                #print(f)\n",
    "                cell = row.find(\"td\", {\"data-stat\": f})\n",
    "                if cell is None:\n",
    "                    text = row.find('th', {\"scope\": \"row\"}).find('a').contents[0]\n",
    "                    if f in pre_df_player:\n",
    "                        pre_df_player[f].append(text)\n",
    "                    else:\n",
    "                        pre_df_player[f] = [text]\n",
    "                #print(cell)\n",
    "                else:\n",
    "                    a = cell.text.strip().encode()\n",
    "                    text = a.decode(\"utf-8\")\n",
    "                    #print(text)\n",
    "                    if (text == ''):\n",
    "                        text = '0'\n",
    "                    if ((f != 'player') & (f != 'nationality') & (f != 'position') & (f != 'squad') & (f != 'age') & (\n",
    "                            f != 'birth_year')):\n",
    "                        text = float(text.replace(',', ''))\n",
    "                    if f in pre_df_player:\n",
    "                        pre_df_player[f].append(text)\n",
    "                    else:\n",
    "                        pre_df_player[f] = [text]\n",
    "    df_player = pd.DataFrame.from_dict(pre_df_player)\n",
    "    return df_player\n",
    "\n",
    "\n",
    "\n",
    "\n",
    "def frame_for_category(category, top, end, features):\n",
    "    url = (top + category + end)\n",
    "    print(url)\n",
    "    player_table_H, player_table_A, gk_table_H, gk_table_A, matchweek, team_H, team_A = get_tables_m(url)\n",
    "    #print(player_table)\n",
    "    df_player_H = get_frame(features, player_table_H)\n",
    "    df_player_H['Team'] = team_H\n",
    "    df_player_A = get_frame(features, player_table_A)\n",
    "    df_player_A['Team'] = team_A\n",
    "    df_player = pd.concat([df_player_H, df_player_A])\n",
    "    df_player['matchweek'] = matchweek\n",
    "    df_gk_H = get_frame(statskeepers, gk_table_H)\n",
    "    df_gk_H['Team'] = team_H\n",
    "    df_gk_A = get_frame(statskeepers, gk_table_A)\n",
    "    df_gk_A['Team'] = team_A\n",
    "    df_gk = pd.concat([df_gk_H, df_gk_A])\n",
    "    df_gk['matchweek'] = matchweek\n",
    "    return df_player, df_gk\n",
    "\n",
    "\n",
    "\n",
    "\n",
    "def get_matchday_data(top, end, linklist):\n",
    "    pl, gk = frame_for_category('/en/matches/bf52349b', top, end, statsm)\n",
    "    #pl1, gk1 = frame_for_category('/en/matches/3adf2aa7', top, end, statsm)\n",
    "\n",
    "    for i in linklist:\n",
    "        tmppl, tmpgk = frame_for_category(i, top, end, statsm)\n",
    "        pl = pd.concat([pl, tmppl], axis=0)\n",
    "        gk = pd.concat([gk, tmpgk], axis=0)\n",
    "        time.sleep(5)\n",
    "\n",
    "    return pl, gk\n",
    "\n",
    "#frame_for_category('/en/matches/c34bbc21', 'https://fbref.com/', '', statsm)"
   ],
   "metadata": {
    "collapsed": false,
    "pycharm": {
     "name": "#%%\n"
    }
   }
  },
  {
   "cell_type": "code",
   "execution_count": 25,
   "outputs": [],
   "source": [
    "link_list = get_links('https://fbref.com/en/comps/9/10728/schedule/2020-2021-Premier-League-Scores-and-Fixtures')\n",
    "\n",
    "# split list in 4 parts to not bring down website\n",
    "list1 = []\n",
    "list2 = []\n",
    "list3 = []\n",
    "list4 = []\n",
    "count = 0\n",
    "\n",
    "for i in link_list:\n",
    "    if count < 100:\n",
    "       list1.append(i)\n",
    "    elif count< 200:\n",
    "        list2.append(i)\n",
    "    elif count< 300:\n",
    "        list3.append(i)\n",
    "    else:\n",
    "        list4.append(i)\n",
    "    count = count +1"
   ],
   "metadata": {
    "collapsed": false,
    "pycharm": {
     "name": "#%%\n"
    }
   }
  },
  {
   "cell_type": "code",
   "execution_count": null,
   "outputs": [
    {
     "name": "stdout",
     "output_type": "stream",
     "text": [
      "https://fbref.com//en/matches/bf52349b\n",
      "https://fbref.com//en/matches/bf52349b/Fulham-Arsenal-September-12-2020-Premier-League\n",
      "https://fbref.com//en/matches/db261cb0/Crystal-Palace-Southampton-September-12-2020-Premier-League\n",
      "https://fbref.com//en/matches/21b58926/Liverpool-Leeds-United-September-12-2020-Premier-League\n",
      "https://fbref.com//en/matches/78495ced/West-Ham-United-Newcastle-United-September-12-2020-Premier-League\n",
      "https://fbref.com//en/matches/7dd01ca9/West-Bromwich-Albion-Leicester-City-September-13-2020-Premier-League\n",
      "https://fbref.com//en/matches/fc7f9aa1/Tottenham-Hotspur-Everton-September-13-2020-Premier-League\n",
      "https://fbref.com//en/matches/a3eb7a37/Sheffield-United-Wolverhampton-Wanderers-September-14-2020-Premier-League\n",
      "https://fbref.com//en/matches/9d7641eb/Brighton-and-Hove-Albion-Chelsea-September-14-2020-Premier-League\n",
      "https://fbref.com//en/matches/45bd1880/Everton-West-Bromwich-Albion-September-19-2020-Premier-League\n",
      "https://fbref.com//en/matches/583c2b60/Leeds-United-Fulham-September-19-2020-Premier-League\n",
      "https://fbref.com//en/matches/97279323/Manchester-United-Crystal-Palace-September-19-2020-Premier-League\n",
      "https://fbref.com//en/matches/f4835ec2/Arsenal-West-Ham-United-September-19-2020-Premier-League\n",
      "https://fbref.com//en/matches/967efd56/Southampton-Tottenham-Hotspur-September-20-2020-Premier-League\n",
      "https://fbref.com//en/matches/845f6a86/Newcastle-United-Brighton-and-Hove-Albion-September-20-2020-Premier-League\n",
      "https://fbref.com//en/matches/c64e5792/Chelsea-Liverpool-September-20-2020-Premier-League\n",
      "https://fbref.com//en/matches/465b25a8/Leicester-City-Burnley-September-20-2020-Premier-League\n",
      "https://fbref.com//en/matches/98b4b5b6/Aston-Villa-Sheffield-United-September-21-2020-Premier-League\n",
      "https://fbref.com//en/matches/1c17eca3/Wolverhampton-Wanderers-Manchester-City-September-21-2020-Premier-League\n",
      "https://fbref.com//en/matches/21495573/Brighton-and-Hove-Albion-Manchester-United-September-26-2020-Premier-League\n",
      "https://fbref.com//en/matches/7387a72e/Crystal-Palace-Everton-September-26-2020-Premier-League\n",
      "https://fbref.com//en/matches/d725a16c/West-Bromwich-Albion-Chelsea-September-26-2020-Premier-League\n",
      "https://fbref.com//en/matches/ae113c54/Burnley-Southampton-September-26-2020-Premier-League\n",
      "https://fbref.com//en/matches/51fb894e/Sheffield-United-Leeds-United-September-27-2020-Premier-League\n",
      "https://fbref.com//en/matches/002c4e89/Tottenham-Hotspur-Newcastle-United-September-27-2020-Premier-League\n",
      "https://fbref.com//en/matches/31c2a061/Manchester-City-Leicester-City-September-27-2020-Premier-League\n",
      "https://fbref.com//en/matches/a223dd70/West-Ham-United-Wolverhampton-Wanderers-September-27-2020-Premier-League\n",
      "https://fbref.com//en/matches/6b258be0/Fulham-Aston-Villa-September-28-2020-Premier-League\n",
      "https://fbref.com//en/matches/ebe4e309/Liverpool-Arsenal-September-28-2020-Premier-League\n",
      "https://fbref.com//en/matches/d97aa1b5/Chelsea-Crystal-Palace-October-3-2020-Premier-League\n",
      "https://fbref.com//en/matches/3cbb397e/Everton-Brighton-and-Hove-Albion-October-3-2020-Premier-League\n",
      "https://fbref.com//en/matches/5ce15b58/Leeds-United-Manchester-City-October-3-2020-Premier-League\n",
      "https://fbref.com//en/matches/34ba607f/Newcastle-United-Burnley-October-3-2020-Premier-League\n",
      "https://fbref.com//en/matches/39864083/Southampton-West-Bromwich-Albion-October-4-2020-Premier-League\n",
      "https://fbref.com//en/matches/a29866ec/Leicester-City-West-Ham-United-October-4-2020-Premier-League\n",
      "https://fbref.com//en/matches/09725cb3/Arsenal-Sheffield-United-October-4-2020-Premier-League\n",
      "https://fbref.com//en/matches/8f989671/Wolverhampton-Wanderers-Fulham-October-4-2020-Premier-League\n",
      "https://fbref.com//en/matches/cded7e69/Manchester-United-Tottenham-Hotspur-October-4-2020-Premier-League\n",
      "https://fbref.com//en/matches/14a7771b/Aston-Villa-Liverpool-October-4-2020-Premier-League\n",
      "https://fbref.com//en/matches/6da04e2d/Merseyside-Derby-Everton-Liverpool-October-17-2020-Premier-League\n",
      "https://fbref.com//en/matches/9bd558f5/Chelsea-Southampton-October-17-2020-Premier-League\n",
      "https://fbref.com//en/matches/e95b8546/Manchester-City-Arsenal-October-17-2020-Premier-League\n",
      "https://fbref.com//en/matches/0b8239de/Newcastle-United-Manchester-United-October-17-2020-Premier-League\n",
      "https://fbref.com//en/matches/5529e7a0/Sheffield-United-Fulham-October-18-2020-Premier-League\n",
      "https://fbref.com//en/matches/e96818bc/Crystal-Palace-Brighton-and-Hove-Albion-October-18-2020-Premier-League\n",
      "https://fbref.com//en/matches/17f0eec9/Tottenham-Hotspur-West-Ham-United-October-18-2020-Premier-League\n",
      "https://fbref.com//en/matches/7751d8c1/Leicester-City-Aston-Villa-October-18-2020-Premier-League\n",
      "https://fbref.com//en/matches/13f3ae88/West-Bromwich-Albion-Burnley-October-19-2020-Premier-League\n",
      "https://fbref.com//en/matches/6a2c4518/Leeds-United-Wolverhampton-Wanderers-October-19-2020-Premier-League\n",
      "https://fbref.com//en/matches/873ab775/Aston-Villa-Leeds-United-October-23-2020-Premier-League\n",
      "https://fbref.com//en/matches/2b0c0eca/West-Ham-United-Manchester-City-October-24-2020-Premier-League\n",
      "https://fbref.com//en/matches/8d896969/Fulham-Crystal-Palace-October-24-2020-Premier-League\n",
      "https://fbref.com//en/matches/3aaf7c62/Manchester-United-Chelsea-October-24-2020-Premier-League\n",
      "https://fbref.com//en/matches/0bc8d984/Liverpool-Sheffield-United-October-24-2020-Premier-League\n",
      "https://fbref.com//en/matches/6439c025/Southampton-Everton-October-25-2020-Premier-League\n",
      "https://fbref.com//en/matches/76661e3c/Wolverhampton-Wanderers-Newcastle-United-October-25-2020-Premier-League\n",
      "https://fbref.com//en/matches/bcd3a9b4/Arsenal-Leicester-City-October-25-2020-Premier-League\n",
      "https://fbref.com//en/matches/26452511/Brighton-and-Hove-Albion-West-Bromwich-Albion-October-26-2020-Premier-League\n",
      "https://fbref.com//en/matches/4931660e/Burnley-Tottenham-Hotspur-October-26-2020-Premier-League\n",
      "https://fbref.com//en/matches/e1741638/Wolverhampton-Wanderers-Crystal-Palace-October-30-2020-Premier-League\n",
      "https://fbref.com//en/matches/9aadc93d/Sheffield-United-Manchester-City-October-31-2020-Premier-League\n",
      "https://fbref.com//en/matches/0f158c5c/Burnley-Chelsea-October-31-2020-Premier-League\n",
      "https://fbref.com//en/matches/56ad8025/Liverpool-West-Ham-United-October-31-2020-Premier-League\n",
      "https://fbref.com//en/matches/235264ac/Aston-Villa-Southampton-November-1-2020-Premier-League\n",
      "https://fbref.com//en/matches/448a43ee/Newcastle-United-Everton-November-1-2020-Premier-League\n",
      "https://fbref.com//en/matches/75dd1359/Manchester-United-Arsenal-November-1-2020-Premier-League\n",
      "https://fbref.com//en/matches/1d01ff0c/Tottenham-Hotspur-Brighton-and-Hove-Albion-November-1-2020-Premier-League\n",
      "https://fbref.com//en/matches/f2b91282/Fulham-West-Bromwich-Albion-November-2-2020-Premier-League\n",
      "https://fbref.com//en/matches/55d775ec/Leeds-United-Leicester-City-November-2-2020-Premier-League\n",
      "https://fbref.com//en/matches/c23d7844/Brighton-and-Hove-Albion-Burnley-November-6-2020-Premier-League\n",
      "https://fbref.com//en/matches/4117b695/Southampton-Newcastle-United-November-6-2020-Premier-League\n",
      "https://fbref.com//en/matches/ab9f408d/Everton-Manchester-United-November-7-2020-Premier-League\n",
      "https://fbref.com//en/matches/527aee54/Crystal-Palace-Leeds-United-November-7-2020-Premier-League\n",
      "https://fbref.com//en/matches/089916ee/Chelsea-Sheffield-United-November-7-2020-Premier-League\n",
      "https://fbref.com//en/matches/f075fddc/West-Ham-United-Fulham-November-7-2020-Premier-League\n",
      "https://fbref.com//en/matches/90c0e34c/West-Bromwich-Albion-Tottenham-Hotspur-November-8-2020-Premier-League\n",
      "https://fbref.com//en/matches/8407be08/Leicester-City-Wolverhampton-Wanderers-November-8-2020-Premier-League\n",
      "https://fbref.com//en/matches/26382194/Manchester-City-Liverpool-November-8-2020-Premier-League\n",
      "https://fbref.com//en/matches/90fd3597/Arsenal-Aston-Villa-November-8-2020-Premier-League\n",
      "https://fbref.com//en/matches/dbcba6c6/Newcastle-United-Chelsea-November-21-2020-Premier-League\n",
      "https://fbref.com//en/matches/dea0df40/Aston-Villa-Brighton-and-Hove-Albion-November-21-2020-Premier-League\n",
      "https://fbref.com//en/matches/8a038069/Tottenham-Hotspur-Manchester-City-November-21-2020-Premier-League\n",
      "https://fbref.com//en/matches/50004f43/Manchester-United-West-Bromwich-Albion-November-21-2020-Premier-League\n",
      "https://fbref.com//en/matches/13524225/Fulham-Everton-November-22-2020-Premier-League\n",
      "https://fbref.com//en/matches/8ed7d991/Sheffield-United-West-Ham-United-November-22-2020-Premier-League\n",
      "https://fbref.com//en/matches/0dd6b39b/Leeds-United-Arsenal-November-22-2020-Premier-League\n",
      "https://fbref.com//en/matches/cc230451/Liverpool-Leicester-City-November-22-2020-Premier-League\n",
      "https://fbref.com//en/matches/1dde1d03/Burnley-Crystal-Palace-November-23-2020-Premier-League\n",
      "https://fbref.com//en/matches/e5bfd125/Wolverhampton-Wanderers-Southampton-November-23-2020-Premier-League\n",
      "https://fbref.com//en/matches/0d5962be/Crystal-Palace-Newcastle-United-November-27-2020-Premier-League\n",
      "https://fbref.com//en/matches/31baf354/Brighton-and-Hove-Albion-Liverpool-November-28-2020-Premier-League\n",
      "https://fbref.com//en/matches/2069ffbc/Manchester-City-Burnley-November-28-2020-Premier-League\n",
      "https://fbref.com//en/matches/3eeb39c5/Everton-Leeds-United-November-28-2020-Premier-League\n",
      "https://fbref.com//en/matches/bd68404c/West-Bromwich-Albion-Sheffield-United-November-28-2020-Premier-League\n",
      "https://fbref.com//en/matches/e0a84e7e/Southampton-Manchester-United-November-29-2020-Premier-League\n",
      "https://fbref.com//en/matches/58306243/Chelsea-Tottenham-Hotspur-November-29-2020-Premier-League\n",
      "https://fbref.com//en/matches/fa17687c/Arsenal-Wolverhampton-Wanderers-November-29-2020-Premier-League\n",
      "https://fbref.com//en/matches/ae493b10/Leicester-City-Fulham-November-30-2020-Premier-League\n",
      "https://fbref.com//en/matches/2f67603c/West-Ham-United-Aston-Villa-November-30-2020-Premier-League\n",
      "https://fbref.com//en/matches/399c7e1c/Burnley-Everton-December-5-2020-Premier-League\n",
      "https://fbref.com//en/matches/887dfef6/Manchester-City-Fulham-December-5-2020-Premier-League\n",
      "https://fbref.com//en/matches/bf52349b\n",
      "https://fbref.com//en/matches/c2206b97/West-Ham-United-Manchester-United-December-5-2020-Premier-League\n",
      "https://fbref.com//en/matches/419abbc0/Chelsea-Leeds-United-December-5-2020-Premier-League\n",
      "https://fbref.com//en/matches/ac9d70e3/West-Bromwich-Albion-Crystal-Palace-December-6-2020-Premier-League\n",
      "https://fbref.com//en/matches/c1c08638/Sheffield-United-Leicester-City-December-6-2020-Premier-League\n",
      "https://fbref.com//en/matches/35abfa2f/North-London-Derby-Tottenham-Hotspur-Arsenal-December-6-2020-Premier-League\n",
      "https://fbref.com//en/matches/25249736/Liverpool-Wolverhampton-Wanderers-December-6-2020-Premier-League\n",
      "https://fbref.com//en/matches/32356abc/Brighton-and-Hove-Albion-Southampton-December-7-2020-Premier-League\n",
      "https://fbref.com//en/matches/2d36ffad/Leeds-United-West-Ham-United-December-11-2020-Premier-League\n",
      "https://fbref.com//en/matches/f809a014/Wolverhampton-Wanderers-Aston-Villa-December-12-2020-Premier-League\n",
      "https://fbref.com//en/matches/4a2a6f14/Newcastle-United-West-Bromwich-Albion-December-12-2020-Premier-League\n",
      "https://fbref.com//en/matches/85cc70bb/Manchester-Derby-Manchester-United-Manchester-City-December-12-2020-Premier-League\n",
      "https://fbref.com//en/matches/4847e3c3/Everton-Chelsea-December-12-2020-Premier-League\n",
      "https://fbref.com//en/matches/9bec56c6/Southampton-Sheffield-United-December-13-2020-Premier-League\n",
      "https://fbref.com//en/matches/9b0e267e/Crystal-Palace-Tottenham-Hotspur-December-13-2020-Premier-League\n",
      "https://fbref.com//en/matches/5abb0bd1/Fulham-Liverpool-December-13-2020-Premier-League\n",
      "https://fbref.com//en/matches/964e6470/Leicester-City-Brighton-and-Hove-Albion-December-13-2020-Premier-League\n",
      "https://fbref.com//en/matches/e4dc55d0/Arsenal-Burnley-December-13-2020-Premier-League\n",
      "https://fbref.com//en/matches/20bd0665/Wolverhampton-Wanderers-Chelsea-December-15-2020-Premier-League\n",
      "https://fbref.com//en/matches/40b42ca1/Manchester-City-West-Bromwich-Albion-December-15-2020-Premier-League\n",
      "https://fbref.com//en/matches/0ceceee4/Arsenal-Southampton-December-16-2020-Premier-League\n",
      "https://fbref.com//en/matches/b30c816c/Leicester-City-Everton-December-16-2020-Premier-League\n",
      "https://fbref.com//en/matches/b52c441b/Leeds-United-Newcastle-United-December-16-2020-Premier-League\n",
      "https://fbref.com//en/matches/966f86fe/Liverpool-Tottenham-Hotspur-December-16-2020-Premier-League\n",
      "https://fbref.com//en/matches/98bf02e0/West-Ham-United-Crystal-Palace-December-16-2020-Premier-League\n",
      "https://fbref.com//en/matches/eb73d532/Fulham-Brighton-and-Hove-Albion-December-16-2020-Premier-League\n",
      "https://fbref.com//en/matches/5d89f60c/Aston-Villa-Burnley-December-17-2020-Premier-League\n",
      "https://fbref.com//en/matches/3b3cc5f6/Sheffield-United-Manchester-United-December-17-2020-Premier-League\n",
      "https://fbref.com//en/matches/d05715a8/Crystal-Palace-Liverpool-December-19-2020-Premier-League\n",
      "https://fbref.com//en/matches/8d4a02ae/Southampton-Manchester-City-December-19-2020-Premier-League\n",
      "https://fbref.com//en/matches/72fa1993/Everton-Arsenal-December-19-2020-Premier-League\n",
      "https://fbref.com//en/matches/3ae84056/Newcastle-United-Fulham-December-19-2020-Premier-League\n",
      "https://fbref.com//en/matches/d1273e90/Brighton-and-Hove-Albion-Sheffield-United-December-20-2020-Premier-League\n",
      "https://fbref.com//en/matches/56ffe356/Tottenham-Hotspur-Leicester-City-December-20-2020-Premier-League\n",
      "https://fbref.com//en/matches/b7ab53b3/Manchester-United-Leeds-United-December-20-2020-Premier-League\n",
      "https://fbref.com//en/matches/4bbe55ff/West-Bromwich-Albion-Aston-Villa-December-20-2020-Premier-League\n",
      "https://fbref.com//en/matches/4e106790/Burnley-Wolverhampton-Wanderers-December-21-2020-Premier-League\n",
      "https://fbref.com//en/matches/9a718e42/Chelsea-West-Ham-United-December-21-2020-Premier-League\n",
      "https://fbref.com//en/matches/33c8b5c8/Leicester-City-Manchester-United-December-26-2020-Premier-League\n",
      "https://fbref.com//en/matches/537b6ef8/Aston-Villa-Crystal-Palace-December-26-2020-Premier-League\n",
      "https://fbref.com//en/matches/cf86c208/Fulham-Southampton-December-26-2020-Premier-League\n",
      "https://fbref.com//en/matches/c5de8a0c/North-West-London-Derby-Arsenal-Chelsea-December-26-2020-Premier-League\n",
      "https://fbref.com//en/matches/870d9436/Sheffield-United-Everton-December-26-2020-Premier-League\n",
      "https://fbref.com//en/matches/c1c40b30/Manchester-City-Newcastle-United-December-26-2020-Premier-League\n",
      "https://fbref.com//en/matches/d54f6293/Leeds-United-Burnley-December-27-2020-Premier-League\n",
      "https://fbref.com//en/matches/7ba8c6e9/West-Ham-United-Brighton-and-Hove-Albion-December-27-2020-Premier-League\n",
      "https://fbref.com//en/matches/daa09f69/Liverpool-West-Bromwich-Albion-December-27-2020-Premier-League\n",
      "https://fbref.com//en/matches/f50faef3/Wolverhampton-Wanderers-Tottenham-Hotspur-December-27-2020-Premier-League\n",
      "https://fbref.com//en/matches/77437741/Crystal-Palace-Leicester-City-December-28-2020-Premier-League\n",
      "https://fbref.com//en/matches/ac7d1071/Chelsea-Aston-Villa-December-28-2020-Premier-League\n",
      "https://fbref.com//en/matches/21f2b720/West-Bromwich-Albion-Leeds-United-December-29-2020-Premier-League\n",
      "https://fbref.com//en/matches/7577b54b/Southampton-West-Ham-United-December-29-2020-Premier-League\n",
      "https://fbref.com//en/matches/b33de500/Burnley-Sheffield-United-December-29-2020-Premier-League\n",
      "https://fbref.com//en/matches/fdca0bef/Brighton-and-Hove-Albion-Arsenal-December-29-2020-Premier-League\n",
      "https://fbref.com//en/matches/a8d659e4/Manchester-United-Wolverhampton-Wanderers-December-29-2020-Premier-League\n",
      "https://fbref.com//en/matches/385cda3f/Newcastle-United-Liverpool-December-30-2020-Premier-League\n",
      "https://fbref.com//en/matches/0cd189c5/Everton-West-Ham-United-January-1-2021-Premier-League\n",
      "https://fbref.com//en/matches/0ae3a66d/Manchester-United-Aston-Villa-January-1-2021-Premier-League\n",
      "https://fbref.com//en/matches/93463aad/Tottenham-Hotspur-Leeds-United-January-2-2021-Premier-League\n",
      "https://fbref.com//en/matches/84a373f5/Crystal-Palace-Sheffield-United-January-2-2021-Premier-League\n",
      "https://fbref.com//en/matches/abeb80b7/Brighton-and-Hove-Albion-Wolverhampton-Wanderers-January-2-2021-Premier-League\n",
      "https://fbref.com//en/matches/a56531b0/West-Bromwich-Albion-Arsenal-January-2-2021-Premier-League\n",
      "https://fbref.com//en/matches/4c205b24/Newcastle-United-Leicester-City-January-3-2021-Premier-League\n",
      "https://fbref.com//en/matches/85507602/Chelsea-Manchester-City-January-3-2021-Premier-League\n",
      "https://fbref.com//en/matches/d0482032/Southampton-Liverpool-January-4-2021-Premier-League\n",
      "https://fbref.com//en/matches/18ccfdb9/Sheffield-United-Newcastle-United-January-12-2021-Premier-League\n",
      "https://fbref.com//en/matches/2c8aa556/Burnley-Manchester-United-January-12-2021-Premier-League\n",
      "https://fbref.com//en/matches/8cbb9119/Wolverhampton-Wanderers-Everton-January-12-2021-Premier-League\n",
      "https://fbref.com//en/matches/9926f1f0/Manchester-City-Brighton-and-Hove-Albion-January-13-2021-Premier-League\n",
      "https://fbref.com//en/matches/fcad17a1/Tottenham-Hotspur-Fulham-January-13-2021-Premier-League\n",
      "https://fbref.com//en/matches/0476b43a/Arsenal-Crystal-Palace-January-14-2021-Premier-League\n",
      "https://fbref.com//en/matches/93420516/Wolverhampton-Wanderers-West-Bromwich-Albion-January-16-2021-Premier-League\n",
      "https://fbref.com//en/matches/1b06e352/West-Ham-United-Burnley-January-16-2021-Premier-League\n",
      "https://fbref.com//en/matches/ade7aac2/Leeds-United-Brighton-and-Hove-Albion-January-16-2021-Premier-League\n",
      "https://fbref.com//en/matches/714c642d/Fulham-Chelsea-January-16-2021-Premier-League\n",
      "https://fbref.com//en/matches/85d4ec49/Leicester-City-Southampton-January-16-2021-Premier-League\n",
      "https://fbref.com//en/matches/c52b1c4f/Sheffield-United-Tottenham-Hotspur-January-17-2021-Premier-League\n",
      "https://fbref.com//en/matches/7e1384ef/North-West-Derby-Liverpool-Manchester-United-January-17-2021-Premier-League\n",
      "https://fbref.com//en/matches/15d2f67c/Manchester-City-Crystal-Palace-January-17-2021-Premier-League\n",
      "https://fbref.com//en/matches/620df215/Arsenal-Newcastle-United-January-18-2021-Premier-League\n",
      "https://fbref.com//en/matches/42daddbb/West-Ham-United-West-Bromwich-Albion-January-19-2021-Premier-League\n",
      "https://fbref.com//en/matches/8467b110/Leicester-City-Chelsea-January-19-2021-Premier-League\n",
      "https://fbref.com//en/matches/c9710420/Manchester-City-Aston-Villa-January-20-2021-Premier-League\n",
      "https://fbref.com//en/matches/2a3855db/Fulham-Manchester-United-January-20-2021-Premier-League\n",
      "https://fbref.com//en/matches/787d11cc/Liverpool-Burnley-January-21-2021-Premier-League\n",
      "https://fbref.com//en/matches/b2143993/Aston-Villa-Newcastle-United-January-23-2021-Premier-League\n",
      "https://fbref.com//en/matches/831d8a36/Newcastle-United-Leeds-United-January-26-2021-Premier-League\n",
      "https://fbref.com//en/matches/aab6365d/Crystal-Palace-West-Ham-United-January-26-2021-Premier-League\n",
      "https://fbref.com//en/matches/83f7b656/West-Bromwich-Albion-Manchester-City-January-26-2021-Premier-League\n",
      "https://fbref.com//en/matches/ac54f8a6/Southampton-Arsenal-January-26-2021-Premier-League\n",
      "https://fbref.com//en/matches/42eeae0e/Chelsea-Wolverhampton-Wanderers-January-27-2021-Premier-League\n",
      "https://fbref.com//en/matches/f45d57b7/Burnley-Aston-Villa-January-27-2021-Premier-League\n",
      "https://fbref.com//en/matches/ea5464bd/Brighton-and-Hove-Albion-Fulham-January-27-2021-Premier-League\n",
      "https://fbref.com//en/matches/3e4ff1e0/Everton-Leicester-City-January-27-2021-Premier-League\n",
      "https://fbref.com//en/matches/6e963555/Manchester-United-Sheffield-United-January-27-2021-Premier-League\n",
      "https://fbref.com//en/matches/17bac3d1/Tottenham-Hotspur-Liverpool-January-28-2021-Premier-League\n",
      "https://fbref.com//en/matches/88053fb0/Everton-Newcastle-United-January-30-2021-Premier-League\n",
      "https://fbref.com//en/matches/111bd050/Crystal-Palace-Wolverhampton-Wanderers-January-30-2021-Premier-League\n",
      "https://fbref.com//en/matches/150c80d7/Manchester-City-Sheffield-United-January-30-2021-Premier-League\n",
      "https://fbref.com//en/matches/d1517c30/West-Bromwich-Albion-Fulham-January-30-2021-Premier-League\n",
      "https://fbref.com//en/matches/0fcaaa5f/Arsenal-Manchester-United-January-30-2021-Premier-League\n",
      "https://fbref.com//en/matches/bf52349b\n",
      "https://fbref.com//en/matches/10d13e5b/Southampton-Aston-Villa-January-30-2021-Premier-League\n",
      "https://fbref.com//en/matches/3372f3f3/Chelsea-Burnley-January-31-2021-Premier-League\n",
      "https://fbref.com//en/matches/e5e46ead/Leicester-City-Leeds-United-January-31-2021-Premier-League\n",
      "https://fbref.com//en/matches/3de3a736/West-Ham-United-Liverpool-January-31-2021-Premier-League\n",
      "https://fbref.com//en/matches/4663c253/Brighton-and-Hove-Albion-Tottenham-Hotspur-January-31-2021-Premier-League\n",
      "https://fbref.com//en/matches/2d3d863d/Sheffield-United-West-Bromwich-Albion-February-2-2021-Premier-League\n",
      "https://fbref.com//en/matches/558fa672/Wolverhampton-Wanderers-Arsenal-February-2-2021-Premier-League\n",
      "https://fbref.com//en/matches/37a9f2fd/Manchester-United-Southampton-February-2-2021-Premier-League\n",
      "https://fbref.com//en/matches/ca8297c0/Newcastle-United-Crystal-Palace-February-2-2021-Premier-League\n",
      "https://fbref.com//en/matches/a05d7ae7/Burnley-Manchester-City-February-3-2021-Premier-League\n",
      "https://fbref.com//en/matches/bd0673ed/Fulham-Leicester-City-February-3-2021-Premier-League\n",
      "https://fbref.com//en/matches/d9b96ee1/Leeds-United-Everton-February-3-2021-Premier-League\n",
      "https://fbref.com//en/matches/314c860f/Liverpool-Brighton-and-Hove-Albion-February-3-2021-Premier-League\n",
      "https://fbref.com//en/matches/8f9d1856/Aston-Villa-West-Ham-United-February-3-2021-Premier-League\n",
      "https://fbref.com//en/matches/7d98a679/Tottenham-Hotspur-Chelsea-February-4-2021-Premier-League\n",
      "https://fbref.com//en/matches/224bcfc4/Aston-Villa-Arsenal-February-6-2021-Premier-League\n",
      "https://fbref.com//en/matches/4400251e/Burnley-Brighton-and-Hove-Albion-February-6-2021-Premier-League\n",
      "https://fbref.com//en/matches/5313627a/Newcastle-United-Southampton-February-6-2021-Premier-League\n",
      "https://fbref.com//en/matches/d18e21ab/Fulham-West-Ham-United-February-6-2021-Premier-League\n",
      "https://fbref.com//en/matches/6504b158/Manchester-United-Everton-February-6-2021-Premier-League\n",
      "https://fbref.com//en/matches/4a652b81/Tottenham-Hotspur-West-Bromwich-Albion-February-7-2021-Premier-League\n",
      "https://fbref.com//en/matches/dca0be20/Wolverhampton-Wanderers-Leicester-City-February-7-2021-Premier-League\n",
      "https://fbref.com//en/matches/e044d71d/Liverpool-Manchester-City-February-7-2021-Premier-League\n",
      "https://fbref.com//en/matches/d3467620/Sheffield-United-Chelsea-February-7-2021-Premier-League\n",
      "https://fbref.com//en/matches/ff2cee2b/Leeds-United-Crystal-Palace-February-8-2021-Premier-League\n",
      "https://fbref.com//en/matches/666f6961/Leicester-City-Liverpool-February-13-2021-Premier-League\n",
      "https://fbref.com//en/matches/34a4b546/Crystal-Palace-Burnley-February-13-2021-Premier-League\n",
      "https://fbref.com//en/matches/5d0cd646/Manchester-City-Tottenham-Hotspur-February-13-2021-Premier-League\n",
      "https://fbref.com//en/matches/c7922348/Brighton-and-Hove-Albion-Aston-Villa-February-13-2021-Premier-League\n",
      "https://fbref.com//en/matches/34682a95/Southampton-Wolverhampton-Wanderers-February-14-2021-Premier-League\n",
      "https://fbref.com//en/matches/80124feb/West-Bromwich-Albion-Manchester-United-February-14-2021-Premier-League\n",
      "https://fbref.com//en/matches/85624e5e/Arsenal-Leeds-United-February-14-2021-Premier-League\n",
      "https://fbref.com//en/matches/46f84386/Everton-Fulham-February-14-2021-Premier-League\n",
      "https://fbref.com//en/matches/d6167896/West-Ham-United-Sheffield-United-February-15-2021-Premier-League\n",
      "https://fbref.com//en/matches/dd033287/Chelsea-Newcastle-United-February-15-2021-Premier-League\n",
      "https://fbref.com//en/matches/6285d050/Burnley-Fulham-February-17-2021-Premier-League\n",
      "https://fbref.com//en/matches/78270b8a/Everton-Manchester-City-February-17-2021-Premier-League\n",
      "https://fbref.com//en/matches/ae2d6f15/Wolverhampton-Wanderers-Leeds-United-February-19-2021-Premier-League\n",
      "https://fbref.com//en/matches/9e4c8c99/Southampton-Chelsea-February-20-2021-Premier-League\n",
      "https://fbref.com//en/matches/072e8501/Burnley-West-Bromwich-Albion-February-20-2021-Premier-League\n",
      "https://fbref.com//en/matches/e4ac45fb/Merseyside-Derby-Liverpool-Everton-February-20-2021-Premier-League\n",
      "https://fbref.com//en/matches/b1892d66/Fulham-Sheffield-United-February-20-2021-Premier-League\n",
      "https://fbref.com//en/matches/59222b5f/West-Ham-United-Tottenham-Hotspur-February-21-2021-Premier-League\n",
      "https://fbref.com//en/matches/2c6f8c0e/Aston-Villa-Leicester-City-February-21-2021-Premier-League\n",
      "https://fbref.com//en/matches/2dedf408/Arsenal-Manchester-City-February-21-2021-Premier-League\n",
      "https://fbref.com//en/matches/401e0d48/Manchester-United-Newcastle-United-February-21-2021-Premier-League\n",
      "https://fbref.com//en/matches/86f378b6/Brighton-and-Hove-Albion-Crystal-Palace-February-22-2021-Premier-League\n",
      "https://fbref.com//en/matches/6a198933/Leeds-United-Southampton-February-23-2021-Premier-League\n",
      "https://fbref.com//en/matches/6faa8392/Manchester-City-West-Ham-United-February-27-2021-Premier-League\n",
      "https://fbref.com//en/matches/ff18265a/West-Bromwich-Albion-Brighton-and-Hove-Albion-February-27-2021-Premier-League\n",
      "https://fbref.com//en/matches/70056c3b/Leeds-United-Aston-Villa-February-27-2021-Premier-League\n",
      "https://fbref.com//en/matches/99e5e3dc/Newcastle-United-Wolverhampton-Wanderers-February-27-2021-Premier-League\n",
      "https://fbref.com//en/matches/2d530fe3/Crystal-Palace-Fulham-February-28-2021-Premier-League\n",
      "https://fbref.com//en/matches/88b309f1/Leicester-City-Arsenal-February-28-2021-Premier-League\n",
      "https://fbref.com//en/matches/d28c364e/Tottenham-Hotspur-Burnley-February-28-2021-Premier-League\n",
      "https://fbref.com//en/matches/9ba4df6a/Chelsea-Manchester-United-February-28-2021-Premier-League\n",
      "https://fbref.com//en/matches/3826d9aa/Sheffield-United-Liverpool-February-28-2021-Premier-League\n",
      "https://fbref.com//en/matches/a81e1c82/Everton-Southampton-March-1-2021-Premier-League\n",
      "https://fbref.com//en/matches/7145e0a8/Manchester-City-Wolverhampton-Wanderers-March-2-2021-Premier-League\n",
      "https://fbref.com//en/matches/3a9c1c4d/Sheffield-United-Aston-Villa-March-3-2021-Premier-League\n",
      "https://fbref.com//en/matches/5e1c69aa/Burnley-Leicester-City-March-3-2021-Premier-League\n",
      "https://fbref.com//en/matches/aecb46ac/Crystal-Palace-Manchester-United-March-3-2021-Premier-League\n",
      "https://fbref.com//en/matches/ee055741/West-Bromwich-Albion-Everton-March-4-2021-Premier-League\n"
     ]
    }
   ],
   "source": [
    "\n",
    "df_1, gk_1 = get_matchday_data('https://fbref.com/', '', list1 )\n",
    "df_2, gk_2 = get_matchday_data('https://fbref.com/', '', list2 )\n",
    "df_3, gk_3 = get_matchday_data('https://fbref.com/', '', list3 )\n",
    "df_4, gk_4 = get_matchday_data('https://fbref.com/', '', list4 )\n",
    "\n",
    "#df_test, gk_test = get_matchday_data('https://fbref.com/', '', link_list )"
   ],
   "metadata": {
    "collapsed": false,
    "pycharm": {
     "name": "#%%\n",
     "is_executing": true
    }
   }
  },
  {
   "cell_type": "code",
   "execution_count": 12,
   "outputs": [
    {
     "data": {
      "text/plain": "            player  shots_on_target_against  goals_against_gk  saves  \\\n0      Yann Sommer                      9.0               1.0    8.0   \n0     Manuel Neuer                      4.0               1.0    3.0   \n0      Roman Bürki                      0.0               1.0    0.0   \n0     Marcel Lotka                      1.0               2.0    0.0   \n0      Finn Dahmen                      4.0               2.0    2.0   \n0      Kevin Trapp                      3.0               2.0    1.0   \n0      Yann Sommer                      2.0               1.0    1.0   \n0   Oliver Baumann                      8.0               5.0    4.0   \n0    Andreas Luthe                      3.0               2.0    1.0   \n0    Michael Esser                     10.0               3.0    8.0   \n0  Rafał Gikiewicz                      4.0               1.0    3.0   \n0  Sascha Burchert                      2.0               2.0    1.0   \n0    Stefan Ortega                     10.0               1.0    9.0   \n0    Péter Gulácsi                      4.0               1.0    3.0   \n\n   save_pct  psxg_gk  passes_completed_launched_gk  passes_gk  \\\n0      88.9      2.1                          10.0       30.0   \n0      75.0      0.4                           6.0       44.0   \n0       0.0      0.9                           2.0       20.0   \n0       0.0      1.6                           7.0       25.0   \n0      50.0      1.4                           2.0       27.0   \n0      33.3      1.0                           3.0       35.0   \n0      50.0      0.8                           6.0       31.0   \n0      50.0      3.4                           1.0       25.0   \n0      33.3      0.9                           8.0       41.0   \n0      80.0      2.5                           7.0       40.0   \n0      75.0      1.3                           7.0       22.0   \n0      50.0      1.2                           6.0       44.0   \n0      90.0      2.4                          13.0       63.0   \n0      75.0      1.4                           8.0       33.0   \n\n   passes_throws_gk  pct_passes_launched_gk  def_actions_outside_pen_area_gk  \\\n0               4.0                    66.7                              1.0   \n0               9.0                    18.2                              2.0   \n0               3.0                    35.0                              1.0   \n0               2.0                    88.0                              1.0   \n0               3.0                    18.5                              1.0   \n0               5.0                    34.3                              2.0   \n0               5.0                    22.6                              1.0   \n0               4.0                    20.0                              1.0   \n0               4.0                    61.0                              1.0   \n0               3.0                    37.5                              1.0   \n0               4.0                    40.9                              1.0   \n0               3.0                    56.8                              2.0   \n0               9.0                    38.1                              0.0   \n0               4.0                    27.3                              0.0   \n\n                  Team        matchweek  \n0      Mönchengladbach    (Matchweek 1)  \n0        Bayern Munich    (Matchweek 1)  \n0             Dortmund   (Matchweek 34)  \n0           Hertha BSC   (Matchweek 34)  \n0             Mainz 05   (Matchweek 34)  \n0  Eintracht Frankfurt   (Matchweek 34)  \n0      Mönchengladbach   (Matchweek 34)  \n0           Hoffenheim   (Matchweek 34)  \n0         Union Berlin   (Matchweek 34)  \n0               Bochum   (Matchweek 34)  \n0             Augsburg   (Matchweek 34)  \n0       Greuther Fürth   (Matchweek 34)  \n0              Arminia   (Matchweek 34)  \n0           RB Leipzig   (Matchweek 34)  ",
      "text/html": "<div>\n<style scoped>\n    .dataframe tbody tr th:only-of-type {\n        vertical-align: middle;\n    }\n\n    .dataframe tbody tr th {\n        vertical-align: top;\n    }\n\n    .dataframe thead th {\n        text-align: right;\n    }\n</style>\n<table border=\"1\" class=\"dataframe\">\n  <thead>\n    <tr style=\"text-align: right;\">\n      <th></th>\n      <th>player</th>\n      <th>shots_on_target_against</th>\n      <th>goals_against_gk</th>\n      <th>saves</th>\n      <th>save_pct</th>\n      <th>psxg_gk</th>\n      <th>passes_completed_launched_gk</th>\n      <th>passes_gk</th>\n      <th>passes_throws_gk</th>\n      <th>pct_passes_launched_gk</th>\n      <th>def_actions_outside_pen_area_gk</th>\n      <th>Team</th>\n      <th>matchweek</th>\n    </tr>\n  </thead>\n  <tbody>\n    <tr>\n      <th>0</th>\n      <td>Yann Sommer</td>\n      <td>9.0</td>\n      <td>1.0</td>\n      <td>8.0</td>\n      <td>88.9</td>\n      <td>2.1</td>\n      <td>10.0</td>\n      <td>30.0</td>\n      <td>4.0</td>\n      <td>66.7</td>\n      <td>1.0</td>\n      <td>Mönchengladbach</td>\n      <td>(Matchweek 1)</td>\n    </tr>\n    <tr>\n      <th>0</th>\n      <td>Manuel Neuer</td>\n      <td>4.0</td>\n      <td>1.0</td>\n      <td>3.0</td>\n      <td>75.0</td>\n      <td>0.4</td>\n      <td>6.0</td>\n      <td>44.0</td>\n      <td>9.0</td>\n      <td>18.2</td>\n      <td>2.0</td>\n      <td>Bayern Munich</td>\n      <td>(Matchweek 1)</td>\n    </tr>\n    <tr>\n      <th>0</th>\n      <td>Roman Bürki</td>\n      <td>0.0</td>\n      <td>1.0</td>\n      <td>0.0</td>\n      <td>0.0</td>\n      <td>0.9</td>\n      <td>2.0</td>\n      <td>20.0</td>\n      <td>3.0</td>\n      <td>35.0</td>\n      <td>1.0</td>\n      <td>Dortmund</td>\n      <td>(Matchweek 34)</td>\n    </tr>\n    <tr>\n      <th>0</th>\n      <td>Marcel Lotka</td>\n      <td>1.0</td>\n      <td>2.0</td>\n      <td>0.0</td>\n      <td>0.0</td>\n      <td>1.6</td>\n      <td>7.0</td>\n      <td>25.0</td>\n      <td>2.0</td>\n      <td>88.0</td>\n      <td>1.0</td>\n      <td>Hertha BSC</td>\n      <td>(Matchweek 34)</td>\n    </tr>\n    <tr>\n      <th>0</th>\n      <td>Finn Dahmen</td>\n      <td>4.0</td>\n      <td>2.0</td>\n      <td>2.0</td>\n      <td>50.0</td>\n      <td>1.4</td>\n      <td>2.0</td>\n      <td>27.0</td>\n      <td>3.0</td>\n      <td>18.5</td>\n      <td>1.0</td>\n      <td>Mainz 05</td>\n      <td>(Matchweek 34)</td>\n    </tr>\n    <tr>\n      <th>0</th>\n      <td>Kevin Trapp</td>\n      <td>3.0</td>\n      <td>2.0</td>\n      <td>1.0</td>\n      <td>33.3</td>\n      <td>1.0</td>\n      <td>3.0</td>\n      <td>35.0</td>\n      <td>5.0</td>\n      <td>34.3</td>\n      <td>2.0</td>\n      <td>Eintracht Frankfurt</td>\n      <td>(Matchweek 34)</td>\n    </tr>\n    <tr>\n      <th>0</th>\n      <td>Yann Sommer</td>\n      <td>2.0</td>\n      <td>1.0</td>\n      <td>1.0</td>\n      <td>50.0</td>\n      <td>0.8</td>\n      <td>6.0</td>\n      <td>31.0</td>\n      <td>5.0</td>\n      <td>22.6</td>\n      <td>1.0</td>\n      <td>Mönchengladbach</td>\n      <td>(Matchweek 34)</td>\n    </tr>\n    <tr>\n      <th>0</th>\n      <td>Oliver Baumann</td>\n      <td>8.0</td>\n      <td>5.0</td>\n      <td>4.0</td>\n      <td>50.0</td>\n      <td>3.4</td>\n      <td>1.0</td>\n      <td>25.0</td>\n      <td>4.0</td>\n      <td>20.0</td>\n      <td>1.0</td>\n      <td>Hoffenheim</td>\n      <td>(Matchweek 34)</td>\n    </tr>\n    <tr>\n      <th>0</th>\n      <td>Andreas Luthe</td>\n      <td>3.0</td>\n      <td>2.0</td>\n      <td>1.0</td>\n      <td>33.3</td>\n      <td>0.9</td>\n      <td>8.0</td>\n      <td>41.0</td>\n      <td>4.0</td>\n      <td>61.0</td>\n      <td>1.0</td>\n      <td>Union Berlin</td>\n      <td>(Matchweek 34)</td>\n    </tr>\n    <tr>\n      <th>0</th>\n      <td>Michael Esser</td>\n      <td>10.0</td>\n      <td>3.0</td>\n      <td>8.0</td>\n      <td>80.0</td>\n      <td>2.5</td>\n      <td>7.0</td>\n      <td>40.0</td>\n      <td>3.0</td>\n      <td>37.5</td>\n      <td>1.0</td>\n      <td>Bochum</td>\n      <td>(Matchweek 34)</td>\n    </tr>\n    <tr>\n      <th>0</th>\n      <td>Rafał Gikiewicz</td>\n      <td>4.0</td>\n      <td>1.0</td>\n      <td>3.0</td>\n      <td>75.0</td>\n      <td>1.3</td>\n      <td>7.0</td>\n      <td>22.0</td>\n      <td>4.0</td>\n      <td>40.9</td>\n      <td>1.0</td>\n      <td>Augsburg</td>\n      <td>(Matchweek 34)</td>\n    </tr>\n    <tr>\n      <th>0</th>\n      <td>Sascha Burchert</td>\n      <td>2.0</td>\n      <td>2.0</td>\n      <td>1.0</td>\n      <td>50.0</td>\n      <td>1.2</td>\n      <td>6.0</td>\n      <td>44.0</td>\n      <td>3.0</td>\n      <td>56.8</td>\n      <td>2.0</td>\n      <td>Greuther Fürth</td>\n      <td>(Matchweek 34)</td>\n    </tr>\n    <tr>\n      <th>0</th>\n      <td>Stefan Ortega</td>\n      <td>10.0</td>\n      <td>1.0</td>\n      <td>9.0</td>\n      <td>90.0</td>\n      <td>2.4</td>\n      <td>13.0</td>\n      <td>63.0</td>\n      <td>9.0</td>\n      <td>38.1</td>\n      <td>0.0</td>\n      <td>Arminia</td>\n      <td>(Matchweek 34)</td>\n    </tr>\n    <tr>\n      <th>0</th>\n      <td>Péter Gulácsi</td>\n      <td>4.0</td>\n      <td>1.0</td>\n      <td>3.0</td>\n      <td>75.0</td>\n      <td>1.4</td>\n      <td>8.0</td>\n      <td>33.0</td>\n      <td>4.0</td>\n      <td>27.3</td>\n      <td>0.0</td>\n      <td>RB Leipzig</td>\n      <td>(Matchweek 34)</td>\n    </tr>\n  </tbody>\n</table>\n</div>"
     },
     "execution_count": 12,
     "metadata": {},
     "output_type": "execute_result"
    }
   ],
   "source": [
    "gk_4"
   ],
   "metadata": {
    "collapsed": false,
    "pycharm": {
     "name": "#%%\n"
    }
   }
  },
  {
   "cell_type": "code",
   "execution_count": 17,
   "outputs": [
    {
     "data": {
      "text/plain": "              player  shots_on_target_against  goals_against_gk  saves  \\\n0        Yann Sommer                      9.0               1.0    8.0   \n1       Manuel Neuer                      4.0               1.0    3.0   \n2     Florian Müller                      3.0               1.0    2.0   \n3    Sascha Burchert                     15.0               5.0   10.0   \n4      Andreas Luthe                      3.0               1.0    2.0   \n..               ...                      ...               ...    ...   \n611    Michael Esser                     10.0               3.0    8.0   \n612  Rafał Gikiewicz                      4.0               1.0    3.0   \n613  Sascha Burchert                      2.0               2.0    1.0   \n614    Stefan Ortega                     10.0               1.0    9.0   \n615    Péter Gulácsi                      4.0               1.0    3.0   \n\n     save_pct  psxg_gk  passes_completed_launched_gk  passes_gk  \\\n0        88.9      2.1                          10.0       30.0   \n1        75.0      0.4                           6.0       44.0   \n2        66.7      0.8                           5.0       23.0   \n3        66.7      4.5                           7.0       26.0   \n4        66.7      0.5                           2.0       23.0   \n..        ...      ...                           ...        ...   \n611      80.0      2.5                           7.0       40.0   \n612      75.0      1.3                           7.0       22.0   \n613      50.0      1.2                           6.0       44.0   \n614      90.0      2.4                          13.0       63.0   \n615      75.0      1.4                           8.0       33.0   \n\n     passes_throws_gk  pct_passes_launched_gk  \\\n0                 4.0                    66.7   \n1                 9.0                    18.2   \n2                 5.0                    34.8   \n3                 5.0                    46.2   \n4                 4.0                    39.1   \n..                ...                     ...   \n611               3.0                    37.5   \n612               4.0                    40.9   \n613               3.0                    56.8   \n614               9.0                    38.1   \n615               4.0                    27.3   \n\n     def_actions_outside_pen_area_gk             Team        matchweek  \n0                                1.0  Mönchengladbach    (Matchweek 1)  \n1                                2.0    Bayern Munich    (Matchweek 1)  \n2                                0.0        Stuttgart    (Matchweek 1)  \n3                                1.0   Greuther Fürth    (Matchweek 1)  \n4                                1.0     Union Berlin    (Matchweek 1)  \n..                               ...              ...              ...  \n611                              1.0           Bochum   (Matchweek 34)  \n612                              1.0         Augsburg   (Matchweek 34)  \n613                              2.0   Greuther Fürth   (Matchweek 34)  \n614                              0.0          Arminia   (Matchweek 34)  \n615                              0.0       RB Leipzig   (Matchweek 34)  \n\n[616 rows x 13 columns]",
      "text/html": "<div>\n<style scoped>\n    .dataframe tbody tr th:only-of-type {\n        vertical-align: middle;\n    }\n\n    .dataframe tbody tr th {\n        vertical-align: top;\n    }\n\n    .dataframe thead th {\n        text-align: right;\n    }\n</style>\n<table border=\"1\" class=\"dataframe\">\n  <thead>\n    <tr style=\"text-align: right;\">\n      <th></th>\n      <th>player</th>\n      <th>shots_on_target_against</th>\n      <th>goals_against_gk</th>\n      <th>saves</th>\n      <th>save_pct</th>\n      <th>psxg_gk</th>\n      <th>passes_completed_launched_gk</th>\n      <th>passes_gk</th>\n      <th>passes_throws_gk</th>\n      <th>pct_passes_launched_gk</th>\n      <th>def_actions_outside_pen_area_gk</th>\n      <th>Team</th>\n      <th>matchweek</th>\n    </tr>\n  </thead>\n  <tbody>\n    <tr>\n      <th>0</th>\n      <td>Yann Sommer</td>\n      <td>9.0</td>\n      <td>1.0</td>\n      <td>8.0</td>\n      <td>88.9</td>\n      <td>2.1</td>\n      <td>10.0</td>\n      <td>30.0</td>\n      <td>4.0</td>\n      <td>66.7</td>\n      <td>1.0</td>\n      <td>Mönchengladbach</td>\n      <td>(Matchweek 1)</td>\n    </tr>\n    <tr>\n      <th>1</th>\n      <td>Manuel Neuer</td>\n      <td>4.0</td>\n      <td>1.0</td>\n      <td>3.0</td>\n      <td>75.0</td>\n      <td>0.4</td>\n      <td>6.0</td>\n      <td>44.0</td>\n      <td>9.0</td>\n      <td>18.2</td>\n      <td>2.0</td>\n      <td>Bayern Munich</td>\n      <td>(Matchweek 1)</td>\n    </tr>\n    <tr>\n      <th>2</th>\n      <td>Florian Müller</td>\n      <td>3.0</td>\n      <td>1.0</td>\n      <td>2.0</td>\n      <td>66.7</td>\n      <td>0.8</td>\n      <td>5.0</td>\n      <td>23.0</td>\n      <td>5.0</td>\n      <td>34.8</td>\n      <td>0.0</td>\n      <td>Stuttgart</td>\n      <td>(Matchweek 1)</td>\n    </tr>\n    <tr>\n      <th>3</th>\n      <td>Sascha Burchert</td>\n      <td>15.0</td>\n      <td>5.0</td>\n      <td>10.0</td>\n      <td>66.7</td>\n      <td>4.5</td>\n      <td>7.0</td>\n      <td>26.0</td>\n      <td>5.0</td>\n      <td>46.2</td>\n      <td>1.0</td>\n      <td>Greuther Fürth</td>\n      <td>(Matchweek 1)</td>\n    </tr>\n    <tr>\n      <th>4</th>\n      <td>Andreas Luthe</td>\n      <td>3.0</td>\n      <td>1.0</td>\n      <td>2.0</td>\n      <td>66.7</td>\n      <td>0.5</td>\n      <td>2.0</td>\n      <td>23.0</td>\n      <td>4.0</td>\n      <td>39.1</td>\n      <td>1.0</td>\n      <td>Union Berlin</td>\n      <td>(Matchweek 1)</td>\n    </tr>\n    <tr>\n      <th>...</th>\n      <td>...</td>\n      <td>...</td>\n      <td>...</td>\n      <td>...</td>\n      <td>...</td>\n      <td>...</td>\n      <td>...</td>\n      <td>...</td>\n      <td>...</td>\n      <td>...</td>\n      <td>...</td>\n      <td>...</td>\n      <td>...</td>\n    </tr>\n    <tr>\n      <th>611</th>\n      <td>Michael Esser</td>\n      <td>10.0</td>\n      <td>3.0</td>\n      <td>8.0</td>\n      <td>80.0</td>\n      <td>2.5</td>\n      <td>7.0</td>\n      <td>40.0</td>\n      <td>3.0</td>\n      <td>37.5</td>\n      <td>1.0</td>\n      <td>Bochum</td>\n      <td>(Matchweek 34)</td>\n    </tr>\n    <tr>\n      <th>612</th>\n      <td>Rafał Gikiewicz</td>\n      <td>4.0</td>\n      <td>1.0</td>\n      <td>3.0</td>\n      <td>75.0</td>\n      <td>1.3</td>\n      <td>7.0</td>\n      <td>22.0</td>\n      <td>4.0</td>\n      <td>40.9</td>\n      <td>1.0</td>\n      <td>Augsburg</td>\n      <td>(Matchweek 34)</td>\n    </tr>\n    <tr>\n      <th>613</th>\n      <td>Sascha Burchert</td>\n      <td>2.0</td>\n      <td>2.0</td>\n      <td>1.0</td>\n      <td>50.0</td>\n      <td>1.2</td>\n      <td>6.0</td>\n      <td>44.0</td>\n      <td>3.0</td>\n      <td>56.8</td>\n      <td>2.0</td>\n      <td>Greuther Fürth</td>\n      <td>(Matchweek 34)</td>\n    </tr>\n    <tr>\n      <th>614</th>\n      <td>Stefan Ortega</td>\n      <td>10.0</td>\n      <td>1.0</td>\n      <td>9.0</td>\n      <td>90.0</td>\n      <td>2.4</td>\n      <td>13.0</td>\n      <td>63.0</td>\n      <td>9.0</td>\n      <td>38.1</td>\n      <td>0.0</td>\n      <td>Arminia</td>\n      <td>(Matchweek 34)</td>\n    </tr>\n    <tr>\n      <th>615</th>\n      <td>Péter Gulácsi</td>\n      <td>4.0</td>\n      <td>1.0</td>\n      <td>3.0</td>\n      <td>75.0</td>\n      <td>1.4</td>\n      <td>8.0</td>\n      <td>33.0</td>\n      <td>4.0</td>\n      <td>27.3</td>\n      <td>0.0</td>\n      <td>RB Leipzig</td>\n      <td>(Matchweek 34)</td>\n    </tr>\n  </tbody>\n</table>\n<p>616 rows × 13 columns</p>\n</div>"
     },
     "execution_count": 17,
     "metadata": {},
     "output_type": "execute_result"
    }
   ],
   "source": [
    "def concatenate_files(f1, f2, f3, f4):\n",
    "    total = pd.concat([f1, f2, f3, f4], axis=0)\n",
    "    total = total.drop_duplicates()\n",
    "    total.reset_index(inplace=True, drop=True)\n",
    "    return total\n",
    "\n",
    "gk_2021 = concatenate_files(gk_1, gk_2, gk_3, gk_4)\n",
    "pl_2021 = concatenate_files(df_1, df_2, df_3, df_4)\n",
    "\n",
    "gk_2021"
   ],
   "metadata": {
    "collapsed": false,
    "pycharm": {
     "name": "#%%\n"
    }
   }
  },
  {
   "cell_type": "code",
   "execution_count": 18,
   "outputs": [
    {
     "data": {
      "text/plain": "                  player  shirtnumber nationality position     age  minutes  \\\n0          Alassane Pléa         14.0      fr FRA       FW  28-156     63.0   \n1          Marcus Thuram         10.0      fr FRA       FW  24-007     27.0   \n2            Hannes Wolf         11.0      at AUT       LW  22-119     71.0   \n3        Keanan Bennetts         37.0     eng ENG       LW  22-157     19.0   \n4       Patrick Herrmann          7.0      de GER       RW  30-182     63.0   \n...                  ...          ...         ...      ...     ...      ...   \n9387   Benjamin Henrichs         39.0      de GER       WB  25-080     90.0   \n9388  Marcel Halstenberg         23.0      de GER       CB  30-229     90.0   \n9389         Willi Orban          4.0      hu HUN       CB  29-192     90.0   \n9390     Mohamed Simakan          2.0      fr FRA       CB  22-011     90.0   \n9391       Péter Gulácsi          1.0      hu HUN       GK  32-008     90.0   \n\n      goals  assists  touches  sca  ...   xg   xa  passes  passes_pct  \\\n0       1.0      0.0     34.0  3.0  ...  0.3  0.1    26.0        80.8   \n1       0.0      0.0      9.0  0.0  ...  0.5  0.0     4.0       100.0   \n2       0.0      0.0     39.0  2.0  ...  0.0  0.0    21.0        57.1   \n3       0.0      0.0     11.0  0.0  ...  0.0  0.0     8.0        75.0   \n4       0.0      0.0     35.0  3.0  ...  0.1  0.1    26.0        69.2   \n...     ...      ...      ...  ...  ...  ...  ...     ...         ...   \n9387    0.0      0.0     72.0  4.0  ...  0.2  0.4    63.0        73.0   \n9388    0.0      0.0     79.0  0.0  ...  0.0  0.0    73.0        91.8   \n9389    1.0      0.0    106.0  0.0  ...  0.1  0.0    91.0        89.0   \n9390    0.0      0.0     94.0  0.0  ...  0.0  0.0    86.0        88.4   \n9391    0.0      0.0     39.0  0.0  ...  0.0  0.0    37.0        91.9   \n\n      progressive_passes  progressive_carries  dribbles_completed  dribbles  \\\n0                    2.0                  1.0                 0.0       0.0   \n1                    2.0                  1.0                 1.0       1.0   \n2                    0.0                  4.0                 0.0       1.0   \n3                    0.0                  3.0                 2.0       2.0   \n4                    2.0                  5.0                 0.0       0.0   \n...                  ...                  ...                 ...       ...   \n9387                 8.0                 11.0                 0.0       0.0   \n9388                 5.0                  3.0                 1.0       1.0   \n9389                 0.0                  0.0                 0.0       0.0   \n9390                 5.0                  3.0                 0.0       1.0   \n9391                 0.0                  0.0                 0.0       0.0   \n\n                 Team  matchweek  \n0     Mönchengladbach        1.0  \n1     Mönchengladbach        1.0  \n2     Mönchengladbach        1.0  \n3     Mönchengladbach        1.0  \n4     Mönchengladbach        1.0  \n...               ...        ...  \n9387       RB Leipzig       34.0  \n9388       RB Leipzig       34.0  \n9389       RB Leipzig       34.0  \n9390       RB Leipzig       34.0  \n9391       RB Leipzig       34.0  \n\n[9392 rows x 28 columns]",
      "text/html": "<div>\n<style scoped>\n    .dataframe tbody tr th:only-of-type {\n        vertical-align: middle;\n    }\n\n    .dataframe tbody tr th {\n        vertical-align: top;\n    }\n\n    .dataframe thead th {\n        text-align: right;\n    }\n</style>\n<table border=\"1\" class=\"dataframe\">\n  <thead>\n    <tr style=\"text-align: right;\">\n      <th></th>\n      <th>player</th>\n      <th>shirtnumber</th>\n      <th>nationality</th>\n      <th>position</th>\n      <th>age</th>\n      <th>minutes</th>\n      <th>goals</th>\n      <th>assists</th>\n      <th>touches</th>\n      <th>sca</th>\n      <th>...</th>\n      <th>xg</th>\n      <th>xa</th>\n      <th>passes</th>\n      <th>passes_pct</th>\n      <th>progressive_passes</th>\n      <th>progressive_carries</th>\n      <th>dribbles_completed</th>\n      <th>dribbles</th>\n      <th>Team</th>\n      <th>matchweek</th>\n    </tr>\n  </thead>\n  <tbody>\n    <tr>\n      <th>0</th>\n      <td>Alassane Pléa</td>\n      <td>14.0</td>\n      <td>fr FRA</td>\n      <td>FW</td>\n      <td>28-156</td>\n      <td>63.0</td>\n      <td>1.0</td>\n      <td>0.0</td>\n      <td>34.0</td>\n      <td>3.0</td>\n      <td>...</td>\n      <td>0.3</td>\n      <td>0.1</td>\n      <td>26.0</td>\n      <td>80.8</td>\n      <td>2.0</td>\n      <td>1.0</td>\n      <td>0.0</td>\n      <td>0.0</td>\n      <td>Mönchengladbach</td>\n      <td>1.0</td>\n    </tr>\n    <tr>\n      <th>1</th>\n      <td>Marcus Thuram</td>\n      <td>10.0</td>\n      <td>fr FRA</td>\n      <td>FW</td>\n      <td>24-007</td>\n      <td>27.0</td>\n      <td>0.0</td>\n      <td>0.0</td>\n      <td>9.0</td>\n      <td>0.0</td>\n      <td>...</td>\n      <td>0.5</td>\n      <td>0.0</td>\n      <td>4.0</td>\n      <td>100.0</td>\n      <td>2.0</td>\n      <td>1.0</td>\n      <td>1.0</td>\n      <td>1.0</td>\n      <td>Mönchengladbach</td>\n      <td>1.0</td>\n    </tr>\n    <tr>\n      <th>2</th>\n      <td>Hannes Wolf</td>\n      <td>11.0</td>\n      <td>at AUT</td>\n      <td>LW</td>\n      <td>22-119</td>\n      <td>71.0</td>\n      <td>0.0</td>\n      <td>0.0</td>\n      <td>39.0</td>\n      <td>2.0</td>\n      <td>...</td>\n      <td>0.0</td>\n      <td>0.0</td>\n      <td>21.0</td>\n      <td>57.1</td>\n      <td>0.0</td>\n      <td>4.0</td>\n      <td>0.0</td>\n      <td>1.0</td>\n      <td>Mönchengladbach</td>\n      <td>1.0</td>\n    </tr>\n    <tr>\n      <th>3</th>\n      <td>Keanan Bennetts</td>\n      <td>37.0</td>\n      <td>eng ENG</td>\n      <td>LW</td>\n      <td>22-157</td>\n      <td>19.0</td>\n      <td>0.0</td>\n      <td>0.0</td>\n      <td>11.0</td>\n      <td>0.0</td>\n      <td>...</td>\n      <td>0.0</td>\n      <td>0.0</td>\n      <td>8.0</td>\n      <td>75.0</td>\n      <td>0.0</td>\n      <td>3.0</td>\n      <td>2.0</td>\n      <td>2.0</td>\n      <td>Mönchengladbach</td>\n      <td>1.0</td>\n    </tr>\n    <tr>\n      <th>4</th>\n      <td>Patrick Herrmann</td>\n      <td>7.0</td>\n      <td>de GER</td>\n      <td>RW</td>\n      <td>30-182</td>\n      <td>63.0</td>\n      <td>0.0</td>\n      <td>0.0</td>\n      <td>35.0</td>\n      <td>3.0</td>\n      <td>...</td>\n      <td>0.1</td>\n      <td>0.1</td>\n      <td>26.0</td>\n      <td>69.2</td>\n      <td>2.0</td>\n      <td>5.0</td>\n      <td>0.0</td>\n      <td>0.0</td>\n      <td>Mönchengladbach</td>\n      <td>1.0</td>\n    </tr>\n    <tr>\n      <th>...</th>\n      <td>...</td>\n      <td>...</td>\n      <td>...</td>\n      <td>...</td>\n      <td>...</td>\n      <td>...</td>\n      <td>...</td>\n      <td>...</td>\n      <td>...</td>\n      <td>...</td>\n      <td>...</td>\n      <td>...</td>\n      <td>...</td>\n      <td>...</td>\n      <td>...</td>\n      <td>...</td>\n      <td>...</td>\n      <td>...</td>\n      <td>...</td>\n      <td>...</td>\n      <td>...</td>\n    </tr>\n    <tr>\n      <th>9387</th>\n      <td>Benjamin Henrichs</td>\n      <td>39.0</td>\n      <td>de GER</td>\n      <td>WB</td>\n      <td>25-080</td>\n      <td>90.0</td>\n      <td>0.0</td>\n      <td>0.0</td>\n      <td>72.0</td>\n      <td>4.0</td>\n      <td>...</td>\n      <td>0.2</td>\n      <td>0.4</td>\n      <td>63.0</td>\n      <td>73.0</td>\n      <td>8.0</td>\n      <td>11.0</td>\n      <td>0.0</td>\n      <td>0.0</td>\n      <td>RB Leipzig</td>\n      <td>34.0</td>\n    </tr>\n    <tr>\n      <th>9388</th>\n      <td>Marcel Halstenberg</td>\n      <td>23.0</td>\n      <td>de GER</td>\n      <td>CB</td>\n      <td>30-229</td>\n      <td>90.0</td>\n      <td>0.0</td>\n      <td>0.0</td>\n      <td>79.0</td>\n      <td>0.0</td>\n      <td>...</td>\n      <td>0.0</td>\n      <td>0.0</td>\n      <td>73.0</td>\n      <td>91.8</td>\n      <td>5.0</td>\n      <td>3.0</td>\n      <td>1.0</td>\n      <td>1.0</td>\n      <td>RB Leipzig</td>\n      <td>34.0</td>\n    </tr>\n    <tr>\n      <th>9389</th>\n      <td>Willi Orban</td>\n      <td>4.0</td>\n      <td>hu HUN</td>\n      <td>CB</td>\n      <td>29-192</td>\n      <td>90.0</td>\n      <td>1.0</td>\n      <td>0.0</td>\n      <td>106.0</td>\n      <td>0.0</td>\n      <td>...</td>\n      <td>0.1</td>\n      <td>0.0</td>\n      <td>91.0</td>\n      <td>89.0</td>\n      <td>0.0</td>\n      <td>0.0</td>\n      <td>0.0</td>\n      <td>0.0</td>\n      <td>RB Leipzig</td>\n      <td>34.0</td>\n    </tr>\n    <tr>\n      <th>9390</th>\n      <td>Mohamed Simakan</td>\n      <td>2.0</td>\n      <td>fr FRA</td>\n      <td>CB</td>\n      <td>22-011</td>\n      <td>90.0</td>\n      <td>0.0</td>\n      <td>0.0</td>\n      <td>94.0</td>\n      <td>0.0</td>\n      <td>...</td>\n      <td>0.0</td>\n      <td>0.0</td>\n      <td>86.0</td>\n      <td>88.4</td>\n      <td>5.0</td>\n      <td>3.0</td>\n      <td>0.0</td>\n      <td>1.0</td>\n      <td>RB Leipzig</td>\n      <td>34.0</td>\n    </tr>\n    <tr>\n      <th>9391</th>\n      <td>Péter Gulácsi</td>\n      <td>1.0</td>\n      <td>hu HUN</td>\n      <td>GK</td>\n      <td>32-008</td>\n      <td>90.0</td>\n      <td>0.0</td>\n      <td>0.0</td>\n      <td>39.0</td>\n      <td>0.0</td>\n      <td>...</td>\n      <td>0.0</td>\n      <td>0.0</td>\n      <td>37.0</td>\n      <td>91.9</td>\n      <td>0.0</td>\n      <td>0.0</td>\n      <td>0.0</td>\n      <td>0.0</td>\n      <td>RB Leipzig</td>\n      <td>34.0</td>\n    </tr>\n  </tbody>\n</table>\n<p>9392 rows × 28 columns</p>\n</div>"
     },
     "execution_count": 18,
     "metadata": {},
     "output_type": "execute_result"
    }
   ],
   "source": [
    "pl_2021['matchweek'] = pl_2021['matchweek'].str.slice(start=-3, stop=-1).astype(float)\n",
    "gk_2021['matchweek'] = gk_2021['matchweek'].str.slice(start=-3, stop=-1).astype(float)\n",
    "pl_2021['position'] = pl_2021['position'].str.slice(start=0, stop=2)\n",
    "pl_2021"
   ],
   "metadata": {
    "collapsed": false,
    "pycharm": {
     "name": "#%%\n"
    }
   }
  },
  {
   "cell_type": "code",
   "execution_count": 19,
   "outputs": [],
   "source": [
    "#map position to category\n",
    "def get_category(df):\n",
    "    df.loc[df['position'] == 'GK', 'category'] = 'Goalkeeper'\n",
    "    df.loc[df['position'] == 'DF', 'category'] = 'Defender'\n",
    "    df.loc[df['position'] == 'RB', 'category'] = 'Defender'\n",
    "    df.loc[df['position'] == 'LB', 'category'] = 'Defender'\n",
    "    df.loc[df['position'] == 'CB', 'category'] = 'Defender'\n",
    "    df.loc[df['position'] == 'WB', 'category'] = 'Defender'\n",
    "    df.loc[df['position'] == 'FB', 'category'] = 'Defender'\n",
    "    df.loc[df['position'] == 'MF', 'category'] = 'Midfield'\n",
    "    df.loc[df['position'] == 'DM', 'category'] = 'Midfield'\n",
    "    df.loc[df['position'] == 'CM', 'category'] = 'Midfield'\n",
    "    df.loc[df['position'] == 'AM', 'category'] = 'Midfield'\n",
    "    df.loc[df['position'] == 'LM', 'category'] = 'Midfield'\n",
    "    df.loc[df['position'] == 'RM', 'category'] = 'Midfield'\n",
    "    df.loc[df['position'] == 'WM', 'category'] = 'Midfield'\n",
    "    df.loc[df['position'] == 'FW', 'category'] = 'Forward'\n",
    "    df.loc[df['position'] == 'RW', 'category'] = 'Forward'\n",
    "    df.loc[df['position'] == 'LW', 'category'] = 'Forward'\n",
    "    return df\n",
    "\n",
    "pl_2021 = get_category(pl_2021)"
   ],
   "metadata": {
    "collapsed": false,
    "pycharm": {
     "name": "#%%\n"
    }
   }
  },
  {
   "cell_type": "code",
   "execution_count": 21,
   "outputs": [
    {
     "data": {
      "text/plain": "              player  shots_on_target_against  goals_against_gk  saves  \\\n0        Yann Sommer                      9.0               1.0    8.0   \n1       Manuel Neuer                      4.0               1.0    3.0   \n2     Florian Müller                      3.0               1.0    2.0   \n3    Sascha Burchert                     15.0               5.0   10.0   \n4      Andreas Luthe                      3.0               1.0    2.0   \n..               ...                      ...               ...    ...   \n611    Michael Esser                     10.0               3.0    8.0   \n612  Rafał Gikiewicz                      4.0               1.0    3.0   \n613  Sascha Burchert                      2.0               2.0    1.0   \n614    Stefan Ortega                     10.0               1.0    9.0   \n615    Péter Gulácsi                      4.0               1.0    3.0   \n\n     save_pct  psxg_gk  passes_completed_launched_gk  passes_gk  \\\n0        88.9      2.1                          10.0       30.0   \n1        75.0      0.4                           6.0       44.0   \n2        66.7      0.8                           5.0       23.0   \n3        66.7      4.5                           7.0       26.0   \n4        66.7      0.5                           2.0       23.0   \n..        ...      ...                           ...        ...   \n611      80.0      2.5                           7.0       40.0   \n612      75.0      1.3                           7.0       22.0   \n613      50.0      1.2                           6.0       44.0   \n614      90.0      2.4                          13.0       63.0   \n615      75.0      1.4                           8.0       33.0   \n\n     passes_throws_gk  pct_passes_launched_gk  \\\n0                 4.0                    66.7   \n1                 9.0                    18.2   \n2                 5.0                    34.8   \n3                 5.0                    46.2   \n4                 4.0                    39.1   \n..                ...                     ...   \n611               3.0                    37.5   \n612               4.0                    40.9   \n613               3.0                    56.8   \n614               9.0                    38.1   \n615               4.0                    27.3   \n\n     def_actions_outside_pen_area_gk             Team  matchweek  \n0                                1.0  Mönchengladbach        1.0  \n1                                2.0    Bayern Munich        1.0  \n2                                0.0        Stuttgart        1.0  \n3                                1.0   Greuther Fürth        1.0  \n4                                1.0     Union Berlin        1.0  \n..                               ...              ...        ...  \n611                              1.0           Bochum       34.0  \n612                              1.0         Augsburg       34.0  \n613                              2.0   Greuther Fürth       34.0  \n614                              0.0          Arminia       34.0  \n615                              0.0       RB Leipzig       34.0  \n\n[616 rows x 13 columns]",
      "text/html": "<div>\n<style scoped>\n    .dataframe tbody tr th:only-of-type {\n        vertical-align: middle;\n    }\n\n    .dataframe tbody tr th {\n        vertical-align: top;\n    }\n\n    .dataframe thead th {\n        text-align: right;\n    }\n</style>\n<table border=\"1\" class=\"dataframe\">\n  <thead>\n    <tr style=\"text-align: right;\">\n      <th></th>\n      <th>player</th>\n      <th>shots_on_target_against</th>\n      <th>goals_against_gk</th>\n      <th>saves</th>\n      <th>save_pct</th>\n      <th>psxg_gk</th>\n      <th>passes_completed_launched_gk</th>\n      <th>passes_gk</th>\n      <th>passes_throws_gk</th>\n      <th>pct_passes_launched_gk</th>\n      <th>def_actions_outside_pen_area_gk</th>\n      <th>Team</th>\n      <th>matchweek</th>\n    </tr>\n  </thead>\n  <tbody>\n    <tr>\n      <th>0</th>\n      <td>Yann Sommer</td>\n      <td>9.0</td>\n      <td>1.0</td>\n      <td>8.0</td>\n      <td>88.9</td>\n      <td>2.1</td>\n      <td>10.0</td>\n      <td>30.0</td>\n      <td>4.0</td>\n      <td>66.7</td>\n      <td>1.0</td>\n      <td>Mönchengladbach</td>\n      <td>1.0</td>\n    </tr>\n    <tr>\n      <th>1</th>\n      <td>Manuel Neuer</td>\n      <td>4.0</td>\n      <td>1.0</td>\n      <td>3.0</td>\n      <td>75.0</td>\n      <td>0.4</td>\n      <td>6.0</td>\n      <td>44.0</td>\n      <td>9.0</td>\n      <td>18.2</td>\n      <td>2.0</td>\n      <td>Bayern Munich</td>\n      <td>1.0</td>\n    </tr>\n    <tr>\n      <th>2</th>\n      <td>Florian Müller</td>\n      <td>3.0</td>\n      <td>1.0</td>\n      <td>2.0</td>\n      <td>66.7</td>\n      <td>0.8</td>\n      <td>5.0</td>\n      <td>23.0</td>\n      <td>5.0</td>\n      <td>34.8</td>\n      <td>0.0</td>\n      <td>Stuttgart</td>\n      <td>1.0</td>\n    </tr>\n    <tr>\n      <th>3</th>\n      <td>Sascha Burchert</td>\n      <td>15.0</td>\n      <td>5.0</td>\n      <td>10.0</td>\n      <td>66.7</td>\n      <td>4.5</td>\n      <td>7.0</td>\n      <td>26.0</td>\n      <td>5.0</td>\n      <td>46.2</td>\n      <td>1.0</td>\n      <td>Greuther Fürth</td>\n      <td>1.0</td>\n    </tr>\n    <tr>\n      <th>4</th>\n      <td>Andreas Luthe</td>\n      <td>3.0</td>\n      <td>1.0</td>\n      <td>2.0</td>\n      <td>66.7</td>\n      <td>0.5</td>\n      <td>2.0</td>\n      <td>23.0</td>\n      <td>4.0</td>\n      <td>39.1</td>\n      <td>1.0</td>\n      <td>Union Berlin</td>\n      <td>1.0</td>\n    </tr>\n    <tr>\n      <th>...</th>\n      <td>...</td>\n      <td>...</td>\n      <td>...</td>\n      <td>...</td>\n      <td>...</td>\n      <td>...</td>\n      <td>...</td>\n      <td>...</td>\n      <td>...</td>\n      <td>...</td>\n      <td>...</td>\n      <td>...</td>\n      <td>...</td>\n    </tr>\n    <tr>\n      <th>611</th>\n      <td>Michael Esser</td>\n      <td>10.0</td>\n      <td>3.0</td>\n      <td>8.0</td>\n      <td>80.0</td>\n      <td>2.5</td>\n      <td>7.0</td>\n      <td>40.0</td>\n      <td>3.0</td>\n      <td>37.5</td>\n      <td>1.0</td>\n      <td>Bochum</td>\n      <td>34.0</td>\n    </tr>\n    <tr>\n      <th>612</th>\n      <td>Rafał Gikiewicz</td>\n      <td>4.0</td>\n      <td>1.0</td>\n      <td>3.0</td>\n      <td>75.0</td>\n      <td>1.3</td>\n      <td>7.0</td>\n      <td>22.0</td>\n      <td>4.0</td>\n      <td>40.9</td>\n      <td>1.0</td>\n      <td>Augsburg</td>\n      <td>34.0</td>\n    </tr>\n    <tr>\n      <th>613</th>\n      <td>Sascha Burchert</td>\n      <td>2.0</td>\n      <td>2.0</td>\n      <td>1.0</td>\n      <td>50.0</td>\n      <td>1.2</td>\n      <td>6.0</td>\n      <td>44.0</td>\n      <td>3.0</td>\n      <td>56.8</td>\n      <td>2.0</td>\n      <td>Greuther Fürth</td>\n      <td>34.0</td>\n    </tr>\n    <tr>\n      <th>614</th>\n      <td>Stefan Ortega</td>\n      <td>10.0</td>\n      <td>1.0</td>\n      <td>9.0</td>\n      <td>90.0</td>\n      <td>2.4</td>\n      <td>13.0</td>\n      <td>63.0</td>\n      <td>9.0</td>\n      <td>38.1</td>\n      <td>0.0</td>\n      <td>Arminia</td>\n      <td>34.0</td>\n    </tr>\n    <tr>\n      <th>615</th>\n      <td>Péter Gulácsi</td>\n      <td>4.0</td>\n      <td>1.0</td>\n      <td>3.0</td>\n      <td>75.0</td>\n      <td>1.4</td>\n      <td>8.0</td>\n      <td>33.0</td>\n      <td>4.0</td>\n      <td>27.3</td>\n      <td>0.0</td>\n      <td>RB Leipzig</td>\n      <td>34.0</td>\n    </tr>\n  </tbody>\n</table>\n<p>616 rows × 13 columns</p>\n</div>"
     },
     "execution_count": 21,
     "metadata": {},
     "output_type": "execute_result"
    }
   ],
   "source": [
    "def create_csv(df):\n",
    "    df = df.drop_duplicates()\n",
    "    df.reset_index(inplace=True, drop=True)\n",
    "    df.to_csv('BL2020_keepers.csv',index=False)\n",
    "    return df\n",
    "\n",
    "create_csv(gk_2021)\n"
   ],
   "metadata": {
    "collapsed": false,
    "pycharm": {
     "name": "#%%\n"
    }
   }
  },
  {
   "cell_type": "code",
   "execution_count": 129,
   "outputs": [
    {
     "data": {
      "text/plain": "player\nIllan Meslier          130.0\nDavid de Gea           122.0\nJosé Sá                119.0\nKasper Schmeichel      113.0\nJordan Pickford        107.0\nNick Pope               98.0\nRobert Sánchez          96.0\nŁukasz Fabiański        95.0\nTim Krul                93.0\nHugo Lloris             90.0\nEmiliano Martínez       84.0\nVicente Guaita          79.0\nAaron Ramsdale          77.0\nDavid Raya              68.0\nEdouard Mendy           67.0\nFraser Forster          67.0\nMartin Dúbravka         66.0\nAlisson                 65.0\nBen Foster              56.0\nEderson                 54.0\nÁlvaro Fernández        46.0\nDaniel Bachmann         39.0\nAlex McCarthy           38.0\nAngus Gunn              26.0\nKarl Darlow             25.0\nKepa Arrizabalaga       11.0\nJack Butland            11.0\nBernd Leno               9.0\nFreddie Woodman          9.0\nAsmir Begović            7.0\nWayne Hennessey          7.0\nWilly Caballero          6.0\nCaoimhín Kelleher        5.0\nKristoffer Klaesson      4.0\nJason Steele             3.0\nJonas Lössl              2.0\nAlphonse Areola          2.0\nZack Steffen             2.0\nJed Steer                1.0\nName: saves, dtype: float64"
     },
     "execution_count": 129,
     "metadata": {},
     "output_type": "execute_result"
    }
   ],
   "source": [
    "#gk_2021[['player', 'matchweek']]\n",
    "\n",
    "test_group = gk_2021.groupby(['player']).sum()['saves']\n",
    "gk_strength = test_group.sort_values(ascending=False)\n",
    "gk_strength"
   ],
   "metadata": {
    "collapsed": false,
    "pycharm": {
     "name": "#%%\n"
    }
   }
  },
  {
   "cell_type": "code",
   "execution_count": 133,
   "outputs": [
    {
     "data": {
      "text/plain": "         player        matchweek\n1    Bernd Leno    (Matchweek 1)\n36   Bernd Leno    (Matchweek 2)\n41   Bernd Leno    (Matchweek 3)\n573  Bernd Leno   (Matchweek 30)",
      "text/html": "<div>\n<style scoped>\n    .dataframe tbody tr th:only-of-type {\n        vertical-align: middle;\n    }\n\n    .dataframe tbody tr th {\n        vertical-align: top;\n    }\n\n    .dataframe thead th {\n        text-align: right;\n    }\n</style>\n<table border=\"1\" class=\"dataframe\">\n  <thead>\n    <tr style=\"text-align: right;\">\n      <th></th>\n      <th>player</th>\n      <th>matchweek</th>\n    </tr>\n  </thead>\n  <tbody>\n    <tr>\n      <th>1</th>\n      <td>Bernd Leno</td>\n      <td>(Matchweek 1)</td>\n    </tr>\n    <tr>\n      <th>36</th>\n      <td>Bernd Leno</td>\n      <td>(Matchweek 2)</td>\n    </tr>\n    <tr>\n      <th>41</th>\n      <td>Bernd Leno</td>\n      <td>(Matchweek 3)</td>\n    </tr>\n    <tr>\n      <th>573</th>\n      <td>Bernd Leno</td>\n      <td>(Matchweek 30)</td>\n    </tr>\n  </tbody>\n</table>\n</div>"
     },
     "execution_count": 133,
     "metadata": {},
     "output_type": "execute_result"
    }
   ],
   "source": [
    "rslt_df = gk_2021[gk_2021['player'] == 'Bernd Leno']\n",
    "rslt_df[['player', 'matchweek']]"
   ],
   "metadata": {
    "collapsed": false,
    "pycharm": {
     "name": "#%%\n"
    }
   }
  }
 ],
 "metadata": {
  "kernelspec": {
   "display_name": "Python 3",
   "language": "python",
   "name": "python3"
  },
  "language_info": {
   "codemirror_mode": {
    "name": "ipython",
    "version": 2
   },
   "file_extension": ".py",
   "mimetype": "text/x-python",
   "name": "python",
   "nbconvert_exporter": "python",
   "pygments_lexer": "ipython2",
   "version": "2.7.6"
  }
 },
 "nbformat": 4,
 "nbformat_minor": 0
}