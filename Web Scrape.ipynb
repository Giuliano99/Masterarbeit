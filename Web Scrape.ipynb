{
 "cells": [
  {
   "cell_type": "code",
   "execution_count": 36,
   "outputs": [],
   "source": [
    "import requests\n",
    "from bs4 import BeautifulSoup\n",
    "import pandas as pd\n",
    "import numpy as np\n",
    "import re\n",
    "import sys, getopt\n",
    "import csv\n",
    "import time"
   ],
   "metadata": {
    "collapsed": false,
    "pycharm": {
     "name": "#%%\n"
    }
   }
  },
  {
   "cell_type": "code",
   "execution_count": 37,
   "outputs": [],
   "source": [
    "def get_links(url):\n",
    "    res = requests.get(url)\n",
    "    ## The next two lines get around the issue with comments breaking the parsing.\n",
    "    comm = re.compile(\"<!--|-->\")\n",
    "    soup = BeautifulSoup(comm.sub(\"\", res.text), 'lxml')\n",
    "    all_tables = soup.findAll(\"tbody\")\n",
    "    test = soup.find(id='div_sched_2020-2021_9_1')\n",
    "    x = \"score\"\n",
    "    test = test.findAll(\"td\", {\"data-stat\": x})\n",
    "    link_list = []\n",
    "    for i in test:\n",
    "        i = i.find(\"a\")\n",
    "        if i is not None:\n",
    "            link = i['href']\n",
    "            link_list.append(link)\n",
    "            #print(link)\n",
    "    return link_list"
   ],
   "metadata": {
    "collapsed": false,
    "pycharm": {
     "name": "#%%\n"
    }
   }
  },
  {
   "cell_type": "code",
   "execution_count": 39,
   "outputs": [],
   "source": [
    "#@title\n",
    "\n",
    "#stats matchday\n",
    "statsm = [\"player\", \"shirtnumber\", \"nationality\", \"position\", \"age\", \"minutes\", \"goals\", \"assists\", \"touches\", \"sca\",\n",
    "          \"gca\", 'pens_made', 'shots_total', 'shots_on_target', 'pressures', 'tackles', 'interceptions', 'blocks', 'xg',\n",
    "          'xa', 'passes', 'passes_pct', 'progressive_passes', 'progressive_carries', 'dribbles_completed', 'dribbles']\n",
    "\n",
    "#stats keeper matchday\n",
    "statskeepers = ['player', 'minutes', 'age', 'gk_shots_on_target_against', 'gk_goals_against', 'gk_saves', 'gk_save_pct',\n",
    "                'gk_psxg', 'gk_passes_completed_launched', 'gk_passes', 'gk_passes_throws', 'gk_pct_passes_launched',\n",
    "                'gk_def_actions_outside_pen_area']\n",
    "\n",
    "keepers = [\"player\", \"nationality\", \"position\", \"squad\", \"age\", \"birth_year\", \"games_gk\", \"games_starts_gk\",\n",
    "           \"minutes_gk\", \"goals_against_gk\", \"goals_against_per90_gk\", \"shots_on_target_against\", \"saves\", \"save_pct\",\n",
    "           \"wins_gk\", \"draws_gk\", \"losses_gk\", \"clean_sheets\", \"clean_sheets_pct\", \"pens_att_gk\", \"pens_allowed\",\n",
    "           \"pens_saved\", \"pens_missed_gk\"]\n",
    "keepers3 = [\"players_used\", \"games_gk\", \"games_starts_gk\", \"minutes_gk\", \"goals_against_gk\", \"goals_against_per90_gk\",\n",
    "            \"shots_on_target_against\", \"saves\", \"save_pct\", \"wins_gk\", \"draws_gk\", \"losses_gk\", \"clean_sheets\",\n",
    "            \"clean_sheets_pct\", \"pens_att_gk\", \"pens_allowed\", \"pens_saved\", \"pens_missed_gk\"]\n",
    "\n",
    "\n",
    "#advance goalkeeping(keepersadv)\n",
    "\n",
    "\n",
    "#Functions to get the data in a dataframe using BeautifulSoup\n",
    "\n",
    "def get_tables_m(url):\n",
    "    res = requests.get(url)\n",
    "    ## The next two lines get around the issue with comments breaking the parsing.\n",
    "    comm = re.compile(\"<!--|-->\")\n",
    "    soup = BeautifulSoup(comm.sub(\"\", res.text), 'lxml')\n",
    "    all_tables = soup.findAll(\"tbody\")\n",
    "    matchweek = soup.find(id='content').find(\"div\").contents[1]\n",
    "    date = soup.find(\"div\", {\"class\": \"scorebox_meta\"}).find(\"div\").contents[0].contents[0]\n",
    "    date = date['href']\n",
    "    date = date[12:22]\n",
    "    #date = soup.find(\"div\", {\"class\": \"scorebox_meta\"}).soup.find(\"span\", {\"class\": \"venuetime\"})\n",
    "\n",
    "    team_H = soup.findAll(\"strong\")[2].find(\"a\").contents[0]\n",
    "    if soup.findAll(\"strong\")[5].find(\"a\") is None:\n",
    "        team_A = soup.findAll(\"strong\")[4].find(\"a\").contents[0]\n",
    "    else:\n",
    "        team_A = soup.findAll(\"strong\")[5].find(\"a\").contents[0]\n",
    "\n",
    "    team1_table = all_tables[0]\n",
    "    team2_table = all_tables[7]\n",
    "    gk1_table = all_tables[6]\n",
    "    gk2_table = all_tables[13]\n",
    "\n",
    "    #gk1_table.append(gk2_table)\n",
    "    #team1_table.append(team2_table)\n",
    "\n",
    "    return team1_table, team2_table, gk1_table, gk2_table, matchweek, date, team_H, team_A\n",
    "\n",
    "\n",
    "def get_frame(features, player_table):\n",
    "    pre_df_player = dict()\n",
    "    features_wanted_player = features\n",
    "    rows_player = player_table.find_all('tr')\n",
    "    rows_player\n",
    "    #print(rows_player)\n",
    "    for row in rows_player:\n",
    "        #print(row)\n",
    "        if (row.find('th', {\"scope\": \"row\"}) != None):\n",
    "\n",
    "            for f in features_wanted_player:\n",
    "                #print(f)\n",
    "                cell = row.find(\"td\", {\"data-stat\": f})\n",
    "                #print(cell)\n",
    "                if cell is None:\n",
    "                    text = row.find('th', {\"scope\": \"row\"}).find('a').contents[0]\n",
    "                    if f in pre_df_player:\n",
    "                        pre_df_player[f].append(text)\n",
    "                    else:\n",
    "                        pre_df_player[f] = [text]\n",
    "                #print(cell)\n",
    "                else:\n",
    "                    a = cell.text.strip().encode()\n",
    "                    text = a.decode(\"utf-8\")\n",
    "                    #print(text)\n",
    "                    if (text == ''):\n",
    "                        text = '0'\n",
    "                    if ((f != 'player') & (f != 'nationality') & (f != 'position') & (f != 'squad') & (f != 'age') & (\n",
    "                            f != 'birth_year')):\n",
    "                        text = float(text.replace(',', ''))\n",
    "                    if f in pre_df_player:\n",
    "                        pre_df_player[f].append(text)\n",
    "                    else:\n",
    "                        pre_df_player[f] = [text]\n",
    "    #print(pre_df_player)\n",
    "    df_player = pd.DataFrame.from_dict(pre_df_player)\n",
    "    #print(df_player)\n",
    "    return df_player\n",
    "\n",
    "\n",
    "def frame_for_category(category, top, end, features):\n",
    "    url = (top + category + end)\n",
    "    print(url)\n",
    "    player_table_H, player_table_A, gk_table_H, gk_table_A, matchweek, date, team_H, team_A = get_tables_m(url)\n",
    "    #print(player_table)\n",
    "    df_player_H = get_frame(features, player_table_H)\n",
    "    df_player_H['Team'] = team_H\n",
    "    df_player_A = get_frame(features, player_table_A)\n",
    "    df_player_A['Team'] = team_A\n",
    "    df_player = pd.concat([df_player_H, df_player_A])\n",
    "    df_player['matchweek'] = matchweek\n",
    "    df_player['date'] = date\n",
    "    df_gk_H = get_frame(statskeepers, gk_table_H)\n",
    "    df_gk_H['Team'] = team_H\n",
    "    df_gk_A = get_frame(statskeepers, gk_table_A)\n",
    "    df_gk_A['Team'] = team_A\n",
    "    df_gk = pd.concat([df_gk_H, df_gk_A])\n",
    "    df_gk['matchweek'] = matchweek\n",
    "    df_gk['date'] = date\n",
    "    return df_player, df_gk\n",
    "\n",
    "\n",
    "def get_matchday_data(top, end, linklist):\n",
    "    pl, gk = frame_for_category('/en/matches/bf52349b', top, end, statsm)\n",
    "    #pl1, gk1 = frame_for_category('/en/matches/3adf2aa7', top, end, statsm)\n",
    "\n",
    "    for i in linklist:\n",
    "        tmppl, tmpgk = frame_for_category(i, top, end, statsm)\n",
    "        pl = pd.concat([pl, tmppl], axis=0)\n",
    "        gk = pd.concat([gk, tmpgk], axis=0)\n",
    "        time.sleep(5)\n",
    "\n",
    "    return pl, gk\n",
    "\n",
    "\n",
    "#pl, gk = frame_for_category('/en/matches/51fb894e', 'https://fbref.com/', '', statsm)\n",
    "#gk"
   ],
   "metadata": {
    "collapsed": false,
    "pycharm": {
     "name": "#%%\n"
    }
   }
  },
  {
   "cell_type": "code",
   "execution_count": 45,
   "outputs": [],
   "source": [
    "def get_lineups(url):\n",
    "    pre_df_player = dict()\n",
    "    res = requests.get(url)\n",
    "    ## The next two lines get around the issue with comments breaking the parsing.\n",
    "    comm = re.compile(\"<!--|-->\")\n",
    "    soup = BeautifulSoup(comm.sub(\"\", res.text), 'lxml')\n",
    "    all_tables = soup.findAll(\"tbody\")\n",
    "    date = soup.find(\"div\", {\"class\": \"scorebox_meta\"}).find(\"div\").contents[0].contents[0]\n",
    "    date = date['href']\n",
    "    date = date[12:22]\n",
    "    matchweek = soup.find(id='content').find(\"div\").contents[1]\n",
    "    lineup = soup.find_all(\"div\", {\"class\": \"lineup\"})\n",
    "    lineup_H = lineup[0]\n",
    "    lineup_A = lineup[1]\n",
    "\n",
    "    rows_lineup_H = lineup_H.find_all('tr')\n",
    "    rows_lineup_A = lineup_A.find_all('tr')\n",
    "    lineup_total = [rows_lineup_H, rows_lineup_A]\n",
    "    #print(rows_lineup)\n",
    "    i = 0\n",
    "\n",
    "\n",
    "    for rows_lineup in lineup_total:\n",
    "        i = i+1\n",
    "        for row in rows_lineup:\n",
    "\n",
    "            if row.find('a') != None:\n",
    "                #print(row.find('a').contents[0])\n",
    "                cell = row.find('a').contents[0]\n",
    "                a = cell.text.strip().encode()\n",
    "                text = a.decode(\"utf-8\")\n",
    "\n",
    "                if 'player' in pre_df_player:\n",
    "                    pre_df_player['player'].append(text)\n",
    "                    #pre_df_player['count'].append(3)\n",
    "                else:\n",
    "                    pre_df_player['player'] = [text]\n",
    "                    #pre_df_player['count'] = i\n",
    "\n",
    "        if i == 1:\n",
    "            df_player_H = pd.DataFrame.from_dict(pre_df_player)\n",
    "        else: df_player_A = pd.DataFrame.from_dict(pre_df_player)\n",
    "        pre_df_player = dict()\n",
    "\n",
    "\n",
    "\n",
    "    team_H = soup.findAll(\"strong\")[2].find(\"a\").contents[0]\n",
    "    if soup.findAll(\"strong\")[5].find(\"a\") is None:\n",
    "        team_A = soup.findAll(\"strong\")[4].find(\"a\").contents[0]\n",
    "    else:\n",
    "        team_A = soup.findAll(\"strong\")[5].find(\"a\").contents[0]\n",
    "\n",
    "    #gk1_table.append(gk2_table)\n",
    "    #team1_table.append(team2_table)\n",
    "\n",
    "    return df_player_H, df_player_A, team_H, team_A, matchweek, date\n",
    "\n",
    "def frame_for_category_lineups (category, top, end):\n",
    "    url = (top + category + end)\n",
    "    print(url)\n",
    "    player_H, player_A, teamH, teamA, matchweek, date,= get_lineups(url)\n",
    "\n",
    "    player_H['team'] = teamH\n",
    "    player_A['team'] = teamA\n",
    "    df_player = pd.concat([player_H, player_A])\n",
    "    df_player['matchweek'] = matchweek\n",
    "    df_player['date'] = date\n",
    "    df_player['start11'] = np.where(df_player.index< 11, True, False)\n",
    "\n",
    "    return df_player\n",
    "\n",
    "def get_matchday_data_lineups(top, end, linklist):\n",
    "    pl = frame_for_category_lineups('/en/matches/bf52349b', top, end)\n",
    "    #pl1, gk1 = frame_for_category('/en/matches/3adf2aa7', top, end, statsm)\n",
    "\n",
    "    for i in linklist:\n",
    "        tmppl = frame_for_category_lineups(i, top, end)\n",
    "        pl = pd.concat([pl, tmppl], axis=0)\n",
    "        time.sleep(5)\n",
    "\n",
    "    return pl\n",
    "\n",
    "\n",
    "#H, A, teamH, teamA, matchweek, date = get_lineups(\n",
    " #   'https://fbref.com/en/matches/4a652b81/Tottenham-Hotspur-West-Bromwich-Albion-February-7-2021#-Premier-League')\n",
    "#frame_for_category_lineups('/en/matches/51fb894e', 'https://fbref.com/', '')"
   ],
   "metadata": {
    "collapsed": false,
    "pycharm": {
     "name": "#%%\n"
    }
   }
  },
  {
   "cell_type": "code",
   "execution_count": 41,
   "outputs": [],
   "source": [
    "link_list = get_links('https://fbref.com/en/comps/9/10728/schedule/2020-2021-Premier-League-Scores-and-Fixtures')\n",
    "\n",
    "# split list in 4 parts to not bring down website\n",
    "list1 = []\n",
    "list2 = []\n",
    "list3 = []\n",
    "list4 = []\n",
    "count = 0\n",
    "\n",
    "for i in link_list:\n",
    "    if count < 100:\n",
    "        list1.append(i)\n",
    "    elif count < 200:\n",
    "        list2.append(i)\n",
    "    elif count < 300:\n",
    "        list3.append(i)\n",
    "    else:\n",
    "        list4.append(i)\n",
    "    count = count + 1"
   ],
   "metadata": {
    "collapsed": false,
    "pycharm": {
     "name": "#%%\n"
    }
   }
  },
  {
   "cell_type": "code",
   "execution_count": 92,
   "outputs": [
    {
     "name": "stdout",
     "output_type": "stream",
     "text": [
      "https://fbref.com//en/matches/bf52349b\n",
      "https://fbref.com//en/matches/be1ee647/Fulham-Wolverhampton-Wanderers-April-9-2021-Premier-League\n",
      "https://fbref.com//en/matches/ad969519/Manchester-City-Leeds-United-April-10-2021-Premier-League\n",
      "https://fbref.com//en/matches/20bdebdc/Liverpool-Aston-Villa-April-10-2021-Premier-League\n",
      "https://fbref.com//en/matches/54b07679/Crystal-Palace-Chelsea-April-10-2021-Premier-League\n",
      "https://fbref.com//en/matches/daebaaa1/Burnley-Newcastle-United-April-11-2021-Premier-League\n",
      "https://fbref.com//en/matches/06b2801a/West-Ham-United-Leicester-City-April-11-2021-Premier-League\n",
      "https://fbref.com//en/matches/a51d567c/Tottenham-Hotspur-Manchester-United-April-11-2021-Premier-League\n",
      "https://fbref.com//en/matches/34395b54/Sheffield-United-Arsenal-April-11-2021-Premier-League\n",
      "https://fbref.com//en/matches/3dee3681/West-Bromwich-Albion-Southampton-April-12-2021-Premier-League\n",
      "https://fbref.com//en/matches/ac6ac8f8/Brighton-and-Hove-Albion-Everton-April-12-2021-Premier-League\n",
      "https://fbref.com//en/matches/ebeb462d/Everton-Tottenham-Hotspur-April-16-2021-Premier-League\n",
      "https://fbref.com//en/matches/25a3b695/Newcastle-United-West-Ham-United-April-17-2021-Premier-League\n",
      "https://fbref.com//en/matches/07745ff2/Wolverhampton-Wanderers-Sheffield-United-April-17-2021-Premier-League\n",
      "https://fbref.com//en/matches/a19ff865/Arsenal-Fulham-April-18-2021-Premier-League\n",
      "https://fbref.com//en/matches/3e00561f/Manchester-United-Burnley-April-18-2021-Premier-League\n",
      "https://fbref.com//en/matches/6c0666e6/Leeds-United-Liverpool-April-19-2021-Premier-League\n",
      "https://fbref.com//en/matches/07b4e58b/Chelsea-Brighton-and-Hove-Albion-April-20-2021-Premier-League\n",
      "https://fbref.com//en/matches/81a7befa/Tottenham-Hotspur-Southampton-April-21-2021-Premier-League\n",
      "https://fbref.com//en/matches/ac46a079/Aston-Villa-Manchester-City-April-21-2021-Premier-League\n",
      "https://fbref.com//en/matches/be6edfdf/Leicester-City-West-Bromwich-Albion-April-22-2021-Premier-League\n",
      "https://fbref.com//en/matches/30f36320/Arsenal-Everton-April-23-2021-Premier-League\n",
      "https://fbref.com//en/matches/81e8aaf4/Liverpool-Newcastle-United-April-24-2021-Premier-League\n",
      "https://fbref.com//en/matches/ea1579bb/West-Ham-United-Chelsea-April-24-2021-Premier-League\n",
      "https://fbref.com//en/matches/1ef0a8f2/Sheffield-United-Brighton-and-Hove-Albion-April-24-2021-Premier-League\n",
      "https://fbref.com//en/matches/5656770f/Wolverhampton-Wanderers-Burnley-April-25-2021-Premier-League\n",
      "https://fbref.com//en/matches/8422804d/Leeds-United-Manchester-United-April-25-2021-Premier-League\n",
      "https://fbref.com//en/matches/2ab535fa/Aston-Villa-West-Bromwich-Albion-April-25-2021-Premier-League\n",
      "https://fbref.com//en/matches/b30b8887/Leicester-City-Crystal-Palace-April-26-2021-Premier-League\n",
      "https://fbref.com//en/matches/c0d4f879/Southampton-Leicester-City-April-30-2021-Premier-League\n",
      "https://fbref.com//en/matches/bf22075a/Crystal-Palace-Manchester-City-May-1-2021-Premier-League\n",
      "https://fbref.com//en/matches/1e2ba709/Brighton-and-Hove-Albion-Leeds-United-May-1-2021-Premier-League\n",
      "https://fbref.com//en/matches/44d49bd5/Chelsea-Fulham-May-1-2021-Premier-League\n",
      "https://fbref.com//en/matches/2452619d/Everton-Aston-Villa-May-1-2021-Premier-League\n",
      "https://fbref.com//en/matches/af2c27de/Newcastle-United-Arsenal-May-2-2021-Premier-League\n",
      "https://fbref.com//en/matches/8b2e31ef/Tottenham-Hotspur-Sheffield-United-May-2-2021-Premier-League\n",
      "https://fbref.com//en/matches/378a8a95/West-Bromwich-Albion-Wolverhampton-Wanderers-May-3-2021-Premier-League\n",
      "https://fbref.com//en/matches/a89e62a7/Burnley-West-Ham-United-May-3-2021-Premier-League\n",
      "https://fbref.com//en/matches/d93b0c17/Leicester-City-Newcastle-United-May-7-2021-Premier-League\n",
      "https://fbref.com//en/matches/4eecc9bb/Leeds-United-Tottenham-Hotspur-May-8-2021-Premier-League\n",
      "https://fbref.com//en/matches/02c409c1/Sheffield-United-Crystal-Palace-May-8-2021-Premier-League\n",
      "https://fbref.com//en/matches/b657d658/Manchester-City-Chelsea-May-8-2021-Premier-League\n",
      "https://fbref.com//en/matches/e5923f92/Liverpool-Southampton-May-8-2021-Premier-League\n",
      "https://fbref.com//en/matches/ad903480/Wolverhampton-Wanderers-Brighton-and-Hove-Albion-May-9-2021-Premier-League\n",
      "https://fbref.com//en/matches/c80d17ca/Aston-Villa-Manchester-United-May-9-2021-Premier-League\n",
      "https://fbref.com//en/matches/57632a35/West-Ham-United-Everton-May-9-2021-Premier-League\n",
      "https://fbref.com//en/matches/49369ed5/Arsenal-West-Bromwich-Albion-May-9-2021-Premier-League\n",
      "https://fbref.com//en/matches/430d879c/Fulham-Burnley-May-10-2021-Premier-League\n",
      "https://fbref.com//en/matches/855994bf/Manchester-United-Leicester-City-May-11-2021-Premier-League\n",
      "https://fbref.com//en/matches/5e4ec091/Southampton-Crystal-Palace-May-11-2021-Premier-League\n",
      "https://fbref.com//en/matches/51632a55/North-West-London-Derby-Chelsea-Arsenal-May-12-2021-Premier-League\n",
      "https://fbref.com//en/matches/b5b24fd8/Aston-Villa-Everton-May-13-2021-Premier-League\n",
      "https://fbref.com//en/matches/9f0275a4/North-West-Derby-Manchester-United-Liverpool-May-13-2021-Premier-League\n",
      "https://fbref.com//en/matches/27601c16/Newcastle-United-Manchester-City-May-14-2021-Premier-League\n",
      "https://fbref.com//en/matches/18d42916/Burnley-Leeds-United-May-15-2021-Premier-League\n",
      "https://fbref.com//en/matches/34739ed7/Southampton-Fulham-May-15-2021-Premier-League\n",
      "https://fbref.com//en/matches/1a1095c2/Brighton-and-Hove-Albion-West-Ham-United-May-15-2021-Premier-League\n",
      "https://fbref.com//en/matches/7b21d5b9/Crystal-Palace-Aston-Villa-May-16-2021-Premier-League\n",
      "https://fbref.com//en/matches/9059c960/Tottenham-Hotspur-Wolverhampton-Wanderers-May-16-2021-Premier-League\n",
      "https://fbref.com//en/matches/6a834f6e/West-Bromwich-Albion-Liverpool-May-16-2021-Premier-League\n",
      "https://fbref.com//en/matches/707d5282/Everton-Sheffield-United-May-16-2021-Premier-League\n",
      "https://fbref.com//en/matches/d8018048/Manchester-United-Fulham-May-18-2021-Premier-League\n",
      "https://fbref.com//en/matches/de4e566f/Southampton-Leeds-United-May-18-2021-Premier-League\n",
      "https://fbref.com//en/matches/3b1cd656/Brighton-and-Hove-Albion-Manchester-City-May-18-2021-Premier-League\n",
      "https://fbref.com//en/matches/509c9927/Chelsea-Leicester-City-May-18-2021-Premier-League\n",
      "https://fbref.com//en/matches/d4273555/Tottenham-Hotspur-Aston-Villa-May-19-2021-Premier-League\n",
      "https://fbref.com//en/matches/eb7bd01f/Everton-Wolverhampton-Wanderers-May-19-2021-Premier-League\n",
      "https://fbref.com//en/matches/62adcd41/Newcastle-United-Sheffield-United-May-19-2021-Premier-League\n",
      "https://fbref.com//en/matches/624e6758/Crystal-Palace-Arsenal-May-19-2021-Premier-League\n",
      "https://fbref.com//en/matches/33d72496/Burnley-Liverpool-May-19-2021-Premier-League\n",
      "https://fbref.com//en/matches/88927a77/West-Bromwich-Albion-West-Ham-United-May-19-2021-Premier-League\n",
      "https://fbref.com//en/matches/0d04cd74/Leicester-City-Tottenham-Hotspur-May-23-2021-Premier-League\n",
      "https://fbref.com//en/matches/12d3970f/Manchester-City-Everton-May-23-2021-Premier-League\n",
      "https://fbref.com//en/matches/c2fc07f0/Liverpool-Crystal-Palace-May-23-2021-Premier-League\n",
      "https://fbref.com//en/matches/2c07a228/Sheffield-United-Burnley-May-23-2021-Premier-League\n",
      "https://fbref.com//en/matches/2c081c94/Wolverhampton-Wanderers-Manchester-United-May-23-2021-Premier-League\n",
      "https://fbref.com//en/matches/9f6c52f8/Arsenal-Brighton-and-Hove-Albion-May-23-2021-Premier-League\n",
      "https://fbref.com//en/matches/9ade2b5d/Leeds-United-West-Bromwich-Albion-May-23-2021-Premier-League\n",
      "https://fbref.com//en/matches/f966eee0/Fulham-Newcastle-United-May-23-2021-Premier-League\n",
      "https://fbref.com//en/matches/0143966a/Aston-Villa-Chelsea-May-23-2021-Premier-League\n",
      "https://fbref.com//en/matches/50ec33b2/West-Ham-United-Southampton-May-23-2021-Premier-League\n"
     ]
    }
   ],
   "source": [
    "\n",
    "df_1, gk_1 = get_matchday_data('https://fbref.com/', '', list1)\n",
    "df_2, gk_2 = get_matchday_data('https://fbref.com/', '', list2)\n",
    "df_3, gk_3 = get_matchday_data('https://fbref.com/', '', list3)\n",
    "df_4, gk_4 = get_matchday_data('https://fbref.com/', '', list4)\n",
    "\n",
    "#df_test, gk_test = get_matchday_data('https://fbref.com/', '', link_list )"
   ],
   "metadata": {
    "collapsed": false,
    "pycharm": {
     "name": "#%%\n"
    }
   }
  },
  {
   "cell_type": "code",
   "execution_count": 50,
   "outputs": [
    {
     "name": "stdout",
     "output_type": "stream",
     "text": [
      "https://fbref.com//en/matches/bf52349b\n",
      "https://fbref.com//en/matches/bf52349b/Fulham-Arsenal-September-12-2020-Premier-League\n",
      "https://fbref.com//en/matches/db261cb0/Crystal-Palace-Southampton-September-12-2020-Premier-League\n",
      "https://fbref.com//en/matches/21b58926/Liverpool-Leeds-United-September-12-2020-Premier-League\n",
      "https://fbref.com//en/matches/78495ced/West-Ham-United-Newcastle-United-September-12-2020-Premier-League\n",
      "https://fbref.com//en/matches/7dd01ca9/West-Bromwich-Albion-Leicester-City-September-13-2020-Premier-League\n",
      "https://fbref.com//en/matches/fc7f9aa1/Tottenham-Hotspur-Everton-September-13-2020-Premier-League\n",
      "https://fbref.com//en/matches/a3eb7a37/Sheffield-United-Wolverhampton-Wanderers-September-14-2020-Premier-League\n",
      "https://fbref.com//en/matches/9d7641eb/Brighton-and-Hove-Albion-Chelsea-September-14-2020-Premier-League\n",
      "https://fbref.com//en/matches/45bd1880/Everton-West-Bromwich-Albion-September-19-2020-Premier-League\n",
      "https://fbref.com//en/matches/583c2b60/Leeds-United-Fulham-September-19-2020-Premier-League\n",
      "https://fbref.com//en/matches/97279323/Manchester-United-Crystal-Palace-September-19-2020-Premier-League\n",
      "https://fbref.com//en/matches/f4835ec2/Arsenal-West-Ham-United-September-19-2020-Premier-League\n",
      "https://fbref.com//en/matches/967efd56/Southampton-Tottenham-Hotspur-September-20-2020-Premier-League\n",
      "https://fbref.com//en/matches/845f6a86/Newcastle-United-Brighton-and-Hove-Albion-September-20-2020-Premier-League\n",
      "https://fbref.com//en/matches/c64e5792/Chelsea-Liverpool-September-20-2020-Premier-League\n",
      "https://fbref.com//en/matches/465b25a8/Leicester-City-Burnley-September-20-2020-Premier-League\n",
      "https://fbref.com//en/matches/98b4b5b6/Aston-Villa-Sheffield-United-September-21-2020-Premier-League\n",
      "https://fbref.com//en/matches/1c17eca3/Wolverhampton-Wanderers-Manchester-City-September-21-2020-Premier-League\n",
      "https://fbref.com//en/matches/21495573/Brighton-and-Hove-Albion-Manchester-United-September-26-2020-Premier-League\n",
      "https://fbref.com//en/matches/7387a72e/Crystal-Palace-Everton-September-26-2020-Premier-League\n",
      "https://fbref.com//en/matches/d725a16c/West-Bromwich-Albion-Chelsea-September-26-2020-Premier-League\n",
      "https://fbref.com//en/matches/ae113c54/Burnley-Southampton-September-26-2020-Premier-League\n",
      "https://fbref.com//en/matches/51fb894e/Sheffield-United-Leeds-United-September-27-2020-Premier-League\n",
      "https://fbref.com//en/matches/002c4e89/Tottenham-Hotspur-Newcastle-United-September-27-2020-Premier-League\n",
      "https://fbref.com//en/matches/31c2a061/Manchester-City-Leicester-City-September-27-2020-Premier-League\n",
      "https://fbref.com//en/matches/a223dd70/West-Ham-United-Wolverhampton-Wanderers-September-27-2020-Premier-League\n",
      "https://fbref.com//en/matches/6b258be0/Fulham-Aston-Villa-September-28-2020-Premier-League\n",
      "https://fbref.com//en/matches/ebe4e309/Liverpool-Arsenal-September-28-2020-Premier-League\n",
      "https://fbref.com//en/matches/d97aa1b5/Chelsea-Crystal-Palace-October-3-2020-Premier-League\n",
      "https://fbref.com//en/matches/3cbb397e/Everton-Brighton-and-Hove-Albion-October-3-2020-Premier-League\n",
      "https://fbref.com//en/matches/5ce15b58/Leeds-United-Manchester-City-October-3-2020-Premier-League\n",
      "https://fbref.com//en/matches/34ba607f/Newcastle-United-Burnley-October-3-2020-Premier-League\n",
      "https://fbref.com//en/matches/a29866ec/Leicester-City-West-Ham-United-October-4-2020-Premier-League\n",
      "https://fbref.com//en/matches/39864083/Southampton-West-Bromwich-Albion-October-4-2020-Premier-League\n",
      "https://fbref.com//en/matches/09725cb3/Arsenal-Sheffield-United-October-4-2020-Premier-League\n",
      "https://fbref.com//en/matches/8f989671/Wolverhampton-Wanderers-Fulham-October-4-2020-Premier-League\n",
      "https://fbref.com//en/matches/cded7e69/Manchester-United-Tottenham-Hotspur-October-4-2020-Premier-League\n",
      "https://fbref.com//en/matches/14a7771b/Aston-Villa-Liverpool-October-4-2020-Premier-League\n",
      "https://fbref.com//en/matches/6da04e2d/Merseyside-Derby-Everton-Liverpool-October-17-2020-Premier-League\n",
      "https://fbref.com//en/matches/9bd558f5/Chelsea-Southampton-October-17-2020-Premier-League\n",
      "https://fbref.com//en/matches/e95b8546/Manchester-City-Arsenal-October-17-2020-Premier-League\n",
      "https://fbref.com//en/matches/0b8239de/Newcastle-United-Manchester-United-October-17-2020-Premier-League\n",
      "https://fbref.com//en/matches/5529e7a0/Sheffield-United-Fulham-October-18-2020-Premier-League\n",
      "https://fbref.com//en/matches/e96818bc/Crystal-Palace-Brighton-and-Hove-Albion-October-18-2020-Premier-League\n",
      "https://fbref.com//en/matches/17f0eec9/Tottenham-Hotspur-West-Ham-United-October-18-2020-Premier-League\n",
      "https://fbref.com//en/matches/7751d8c1/Leicester-City-Aston-Villa-October-18-2020-Premier-League\n",
      "https://fbref.com//en/matches/13f3ae88/West-Bromwich-Albion-Burnley-October-19-2020-Premier-League\n",
      "https://fbref.com//en/matches/6a2c4518/Leeds-United-Wolverhampton-Wanderers-October-19-2020-Premier-League\n",
      "https://fbref.com//en/matches/873ab775/Aston-Villa-Leeds-United-October-23-2020-Premier-League\n",
      "https://fbref.com//en/matches/2b0c0eca/West-Ham-United-Manchester-City-October-24-2020-Premier-League\n",
      "https://fbref.com//en/matches/8d896969/Fulham-Crystal-Palace-October-24-2020-Premier-League\n",
      "https://fbref.com//en/matches/3aaf7c62/Manchester-United-Chelsea-October-24-2020-Premier-League\n",
      "https://fbref.com//en/matches/0bc8d984/Liverpool-Sheffield-United-October-24-2020-Premier-League\n",
      "https://fbref.com//en/matches/6439c025/Southampton-Everton-October-25-2020-Premier-League\n",
      "https://fbref.com//en/matches/76661e3c/Wolverhampton-Wanderers-Newcastle-United-October-25-2020-Premier-League\n",
      "https://fbref.com//en/matches/bcd3a9b4/Arsenal-Leicester-City-October-25-2020-Premier-League\n",
      "https://fbref.com//en/matches/26452511/Brighton-and-Hove-Albion-West-Bromwich-Albion-October-26-2020-Premier-League\n",
      "https://fbref.com//en/matches/4931660e/Burnley-Tottenham-Hotspur-October-26-2020-Premier-League\n",
      "https://fbref.com//en/matches/e1741638/Wolverhampton-Wanderers-Crystal-Palace-October-30-2020-Premier-League\n",
      "https://fbref.com//en/matches/9aadc93d/Sheffield-United-Manchester-City-October-31-2020-Premier-League\n",
      "https://fbref.com//en/matches/0f158c5c/Burnley-Chelsea-October-31-2020-Premier-League\n",
      "https://fbref.com//en/matches/56ad8025/Liverpool-West-Ham-United-October-31-2020-Premier-League\n",
      "https://fbref.com//en/matches/235264ac/Aston-Villa-Southampton-November-1-2020-Premier-League\n",
      "https://fbref.com//en/matches/448a43ee/Newcastle-United-Everton-November-1-2020-Premier-League\n",
      "https://fbref.com//en/matches/75dd1359/Manchester-United-Arsenal-November-1-2020-Premier-League\n",
      "https://fbref.com//en/matches/1d01ff0c/Tottenham-Hotspur-Brighton-and-Hove-Albion-November-1-2020-Premier-League\n",
      "https://fbref.com//en/matches/f2b91282/Fulham-West-Bromwich-Albion-November-2-2020-Premier-League\n",
      "https://fbref.com//en/matches/55d775ec/Leeds-United-Leicester-City-November-2-2020-Premier-League\n",
      "https://fbref.com//en/matches/c23d7844/Brighton-and-Hove-Albion-Burnley-November-6-2020-Premier-League\n",
      "https://fbref.com//en/matches/4117b695/Southampton-Newcastle-United-November-6-2020-Premier-League\n",
      "https://fbref.com//en/matches/ab9f408d/Everton-Manchester-United-November-7-2020-Premier-League\n",
      "https://fbref.com//en/matches/527aee54/Crystal-Palace-Leeds-United-November-7-2020-Premier-League\n",
      "https://fbref.com//en/matches/089916ee/Chelsea-Sheffield-United-November-7-2020-Premier-League\n",
      "https://fbref.com//en/matches/f075fddc/West-Ham-United-Fulham-November-7-2020-Premier-League\n",
      "https://fbref.com//en/matches/90c0e34c/West-Bromwich-Albion-Tottenham-Hotspur-November-8-2020-Premier-League\n",
      "https://fbref.com//en/matches/8407be08/Leicester-City-Wolverhampton-Wanderers-November-8-2020-Premier-League\n",
      "https://fbref.com//en/matches/26382194/Manchester-City-Liverpool-November-8-2020-Premier-League\n",
      "https://fbref.com//en/matches/90fd3597/Arsenal-Aston-Villa-November-8-2020-Premier-League\n",
      "https://fbref.com//en/matches/dbcba6c6/Newcastle-United-Chelsea-November-21-2020-Premier-League\n",
      "https://fbref.com//en/matches/dea0df40/Aston-Villa-Brighton-and-Hove-Albion-November-21-2020-Premier-League\n",
      "https://fbref.com//en/matches/8a038069/Tottenham-Hotspur-Manchester-City-November-21-2020-Premier-League\n",
      "https://fbref.com//en/matches/50004f43/Manchester-United-West-Bromwich-Albion-November-21-2020-Premier-League\n",
      "https://fbref.com//en/matches/13524225/Fulham-Everton-November-22-2020-Premier-League\n",
      "https://fbref.com//en/matches/8ed7d991/Sheffield-United-West-Ham-United-November-22-2020-Premier-League\n",
      "https://fbref.com//en/matches/0dd6b39b/Leeds-United-Arsenal-November-22-2020-Premier-League\n",
      "https://fbref.com//en/matches/cc230451/Liverpool-Leicester-City-November-22-2020-Premier-League\n",
      "https://fbref.com//en/matches/1dde1d03/Burnley-Crystal-Palace-November-23-2020-Premier-League\n",
      "https://fbref.com//en/matches/e5bfd125/Wolverhampton-Wanderers-Southampton-November-23-2020-Premier-League\n",
      "https://fbref.com//en/matches/0d5962be/Crystal-Palace-Newcastle-United-November-27-2020-Premier-League\n",
      "https://fbref.com//en/matches/31baf354/Brighton-and-Hove-Albion-Liverpool-November-28-2020-Premier-League\n",
      "https://fbref.com//en/matches/2069ffbc/Manchester-City-Burnley-November-28-2020-Premier-League\n",
      "https://fbref.com//en/matches/3eeb39c5/Everton-Leeds-United-November-28-2020-Premier-League\n",
      "https://fbref.com//en/matches/bd68404c/West-Bromwich-Albion-Sheffield-United-November-28-2020-Premier-League\n",
      "https://fbref.com//en/matches/e0a84e7e/Southampton-Manchester-United-November-29-2020-Premier-League\n",
      "https://fbref.com//en/matches/58306243/Chelsea-Tottenham-Hotspur-November-29-2020-Premier-League\n",
      "https://fbref.com//en/matches/fa17687c/Arsenal-Wolverhampton-Wanderers-November-29-2020-Premier-League\n",
      "https://fbref.com//en/matches/ae493b10/Leicester-City-Fulham-November-30-2020-Premier-League\n",
      "https://fbref.com//en/matches/2f67603c/West-Ham-United-Aston-Villa-November-30-2020-Premier-League\n",
      "https://fbref.com//en/matches/399c7e1c/Burnley-Everton-December-5-2020-Premier-League\n",
      "https://fbref.com//en/matches/887dfef6/Manchester-City-Fulham-December-5-2020-Premier-League\n",
      "https://fbref.com//en/matches/bf52349b\n",
      "https://fbref.com//en/matches/c2206b97/West-Ham-United-Manchester-United-December-5-2020-Premier-League\n",
      "https://fbref.com//en/matches/419abbc0/Chelsea-Leeds-United-December-5-2020-Premier-League\n",
      "https://fbref.com//en/matches/ac9d70e3/West-Bromwich-Albion-Crystal-Palace-December-6-2020-Premier-League\n",
      "https://fbref.com//en/matches/c1c08638/Sheffield-United-Leicester-City-December-6-2020-Premier-League\n",
      "https://fbref.com//en/matches/35abfa2f/North-London-Derby-Tottenham-Hotspur-Arsenal-December-6-2020-Premier-League\n",
      "https://fbref.com//en/matches/25249736/Liverpool-Wolverhampton-Wanderers-December-6-2020-Premier-League\n",
      "https://fbref.com//en/matches/32356abc/Brighton-and-Hove-Albion-Southampton-December-7-2020-Premier-League\n",
      "https://fbref.com//en/matches/2d36ffad/Leeds-United-West-Ham-United-December-11-2020-Premier-League\n",
      "https://fbref.com//en/matches/f809a014/Wolverhampton-Wanderers-Aston-Villa-December-12-2020-Premier-League\n",
      "https://fbref.com//en/matches/4a2a6f14/Newcastle-United-West-Bromwich-Albion-December-12-2020-Premier-League\n",
      "https://fbref.com//en/matches/85cc70bb/Manchester-Derby-Manchester-United-Manchester-City-December-12-2020-Premier-League\n",
      "https://fbref.com//en/matches/4847e3c3/Everton-Chelsea-December-12-2020-Premier-League\n",
      "https://fbref.com//en/matches/9bec56c6/Southampton-Sheffield-United-December-13-2020-Premier-League\n",
      "https://fbref.com//en/matches/9b0e267e/Crystal-Palace-Tottenham-Hotspur-December-13-2020-Premier-League\n",
      "https://fbref.com//en/matches/5abb0bd1/Fulham-Liverpool-December-13-2020-Premier-League\n",
      "https://fbref.com//en/matches/964e6470/Leicester-City-Brighton-and-Hove-Albion-December-13-2020-Premier-League\n",
      "https://fbref.com//en/matches/e4dc55d0/Arsenal-Burnley-December-13-2020-Premier-League\n",
      "https://fbref.com//en/matches/20bd0665/Wolverhampton-Wanderers-Chelsea-December-15-2020-Premier-League\n",
      "https://fbref.com//en/matches/40b42ca1/Manchester-City-West-Bromwich-Albion-December-15-2020-Premier-League\n",
      "https://fbref.com//en/matches/b52c441b/Leeds-United-Newcastle-United-December-16-2020-Premier-League\n",
      "https://fbref.com//en/matches/0ceceee4/Arsenal-Southampton-December-16-2020-Premier-League\n",
      "https://fbref.com//en/matches/b30c816c/Leicester-City-Everton-December-16-2020-Premier-League\n",
      "https://fbref.com//en/matches/966f86fe/Liverpool-Tottenham-Hotspur-December-16-2020-Premier-League\n",
      "https://fbref.com//en/matches/98bf02e0/West-Ham-United-Crystal-Palace-December-16-2020-Premier-League\n",
      "https://fbref.com//en/matches/eb73d532/Fulham-Brighton-and-Hove-Albion-December-16-2020-Premier-League\n",
      "https://fbref.com//en/matches/5d89f60c/Aston-Villa-Burnley-December-17-2020-Premier-League\n",
      "https://fbref.com//en/matches/3b3cc5f6/Sheffield-United-Manchester-United-December-17-2020-Premier-League\n",
      "https://fbref.com//en/matches/d05715a8/Crystal-Palace-Liverpool-December-19-2020-Premier-League\n",
      "https://fbref.com//en/matches/8d4a02ae/Southampton-Manchester-City-December-19-2020-Premier-League\n",
      "https://fbref.com//en/matches/72fa1993/Everton-Arsenal-December-19-2020-Premier-League\n",
      "https://fbref.com//en/matches/3ae84056/Newcastle-United-Fulham-December-19-2020-Premier-League\n",
      "https://fbref.com//en/matches/d1273e90/Brighton-and-Hove-Albion-Sheffield-United-December-20-2020-Premier-League\n",
      "https://fbref.com//en/matches/56ffe356/Tottenham-Hotspur-Leicester-City-December-20-2020-Premier-League\n",
      "https://fbref.com//en/matches/b7ab53b3/Manchester-United-Leeds-United-December-20-2020-Premier-League\n",
      "https://fbref.com//en/matches/4bbe55ff/West-Bromwich-Albion-Aston-Villa-December-20-2020-Premier-League\n",
      "https://fbref.com//en/matches/4e106790/Burnley-Wolverhampton-Wanderers-December-21-2020-Premier-League\n",
      "https://fbref.com//en/matches/9a718e42/Chelsea-West-Ham-United-December-21-2020-Premier-League\n",
      "https://fbref.com//en/matches/33c8b5c8/Leicester-City-Manchester-United-December-26-2020-Premier-League\n",
      "https://fbref.com//en/matches/cf86c208/Fulham-Southampton-December-26-2020-Premier-League\n",
      "https://fbref.com//en/matches/537b6ef8/Aston-Villa-Crystal-Palace-December-26-2020-Premier-League\n",
      "https://fbref.com//en/matches/c5de8a0c/North-West-London-Derby-Arsenal-Chelsea-December-26-2020-Premier-League\n",
      "https://fbref.com//en/matches/870d9436/Sheffield-United-Everton-December-26-2020-Premier-League\n",
      "https://fbref.com//en/matches/c1c40b30/Manchester-City-Newcastle-United-December-26-2020-Premier-League\n",
      "https://fbref.com//en/matches/d54f6293/Leeds-United-Burnley-December-27-2020-Premier-League\n",
      "https://fbref.com//en/matches/7ba8c6e9/West-Ham-United-Brighton-and-Hove-Albion-December-27-2020-Premier-League\n",
      "https://fbref.com//en/matches/daa09f69/Liverpool-West-Bromwich-Albion-December-27-2020-Premier-League\n",
      "https://fbref.com//en/matches/f50faef3/Wolverhampton-Wanderers-Tottenham-Hotspur-December-27-2020-Premier-League\n",
      "https://fbref.com//en/matches/77437741/Crystal-Palace-Leicester-City-December-28-2020-Premier-League\n",
      "https://fbref.com//en/matches/ac7d1071/Chelsea-Aston-Villa-December-28-2020-Premier-League\n",
      "https://fbref.com//en/matches/b33de500/Burnley-Sheffield-United-December-29-2020-Premier-League\n",
      "https://fbref.com//en/matches/21f2b720/West-Bromwich-Albion-Leeds-United-December-29-2020-Premier-League\n",
      "https://fbref.com//en/matches/fdca0bef/Brighton-and-Hove-Albion-Arsenal-December-29-2020-Premier-League\n",
      "https://fbref.com//en/matches/7577b54b/Southampton-West-Ham-United-December-29-2020-Premier-League\n",
      "https://fbref.com//en/matches/a8d659e4/Manchester-United-Wolverhampton-Wanderers-December-29-2020-Premier-League\n",
      "https://fbref.com//en/matches/385cda3f/Newcastle-United-Liverpool-December-30-2020-Premier-League\n",
      "https://fbref.com//en/matches/0cd189c5/Everton-West-Ham-United-January-1-2021-Premier-League\n",
      "https://fbref.com//en/matches/0ae3a66d/Manchester-United-Aston-Villa-January-1-2021-Premier-League\n",
      "https://fbref.com//en/matches/93463aad/Tottenham-Hotspur-Leeds-United-January-2-2021-Premier-League\n",
      "https://fbref.com//en/matches/84a373f5/Crystal-Palace-Sheffield-United-January-2-2021-Premier-League\n",
      "https://fbref.com//en/matches/abeb80b7/Brighton-and-Hove-Albion-Wolverhampton-Wanderers-January-2-2021-Premier-League\n",
      "https://fbref.com//en/matches/a56531b0/West-Bromwich-Albion-Arsenal-January-2-2021-Premier-League\n",
      "https://fbref.com//en/matches/4c205b24/Newcastle-United-Leicester-City-January-3-2021-Premier-League\n",
      "https://fbref.com//en/matches/85507602/Chelsea-Manchester-City-January-3-2021-Premier-League\n",
      "https://fbref.com//en/matches/d0482032/Southampton-Liverpool-January-4-2021-Premier-League\n",
      "https://fbref.com//en/matches/18ccfdb9/Sheffield-United-Newcastle-United-January-12-2021-Premier-League\n",
      "https://fbref.com//en/matches/2c8aa556/Burnley-Manchester-United-January-12-2021-Premier-League\n",
      "https://fbref.com//en/matches/8cbb9119/Wolverhampton-Wanderers-Everton-January-12-2021-Premier-League\n",
      "https://fbref.com//en/matches/9926f1f0/Manchester-City-Brighton-and-Hove-Albion-January-13-2021-Premier-League\n",
      "https://fbref.com//en/matches/fcad17a1/Tottenham-Hotspur-Fulham-January-13-2021-Premier-League\n",
      "https://fbref.com//en/matches/0476b43a/Arsenal-Crystal-Palace-January-14-2021-Premier-League\n",
      "https://fbref.com//en/matches/93420516/Wolverhampton-Wanderers-West-Bromwich-Albion-January-16-2021-Premier-League\n",
      "https://fbref.com//en/matches/ade7aac2/Leeds-United-Brighton-and-Hove-Albion-January-16-2021-Premier-League\n",
      "https://fbref.com//en/matches/1b06e352/West-Ham-United-Burnley-January-16-2021-Premier-League\n",
      "https://fbref.com//en/matches/714c642d/Fulham-Chelsea-January-16-2021-Premier-League\n",
      "https://fbref.com//en/matches/85d4ec49/Leicester-City-Southampton-January-16-2021-Premier-League\n",
      "https://fbref.com//en/matches/c52b1c4f/Sheffield-United-Tottenham-Hotspur-January-17-2021-Premier-League\n",
      "https://fbref.com//en/matches/7e1384ef/North-West-Derby-Liverpool-Manchester-United-January-17-2021-Premier-League\n",
      "https://fbref.com//en/matches/15d2f67c/Manchester-City-Crystal-Palace-January-17-2021-Premier-League\n",
      "https://fbref.com//en/matches/620df215/Arsenal-Newcastle-United-January-18-2021-Premier-League\n",
      "https://fbref.com//en/matches/42daddbb/West-Ham-United-West-Bromwich-Albion-January-19-2021-Premier-League\n",
      "https://fbref.com//en/matches/8467b110/Leicester-City-Chelsea-January-19-2021-Premier-League\n",
      "https://fbref.com//en/matches/c9710420/Manchester-City-Aston-Villa-January-20-2021-Premier-League\n",
      "https://fbref.com//en/matches/2a3855db/Fulham-Manchester-United-January-20-2021-Premier-League\n",
      "https://fbref.com//en/matches/787d11cc/Liverpool-Burnley-January-21-2021-Premier-League\n",
      "https://fbref.com//en/matches/b2143993/Aston-Villa-Newcastle-United-January-23-2021-Premier-League\n",
      "https://fbref.com//en/matches/831d8a36/Newcastle-United-Leeds-United-January-26-2021-Premier-League\n",
      "https://fbref.com//en/matches/aab6365d/Crystal-Palace-West-Ham-United-January-26-2021-Premier-League\n",
      "https://fbref.com//en/matches/ac54f8a6/Southampton-Arsenal-January-26-2021-Premier-League\n",
      "https://fbref.com//en/matches/83f7b656/West-Bromwich-Albion-Manchester-City-January-26-2021-Premier-League\n",
      "https://fbref.com//en/matches/f45d57b7/Burnley-Aston-Villa-January-27-2021-Premier-League\n",
      "https://fbref.com//en/matches/42eeae0e/Chelsea-Wolverhampton-Wanderers-January-27-2021-Premier-League\n",
      "https://fbref.com//en/matches/ea5464bd/Brighton-and-Hove-Albion-Fulham-January-27-2021-Premier-League\n",
      "https://fbref.com//en/matches/3e4ff1e0/Everton-Leicester-City-January-27-2021-Premier-League\n",
      "https://fbref.com//en/matches/6e963555/Manchester-United-Sheffield-United-January-27-2021-Premier-League\n",
      "https://fbref.com//en/matches/17bac3d1/Tottenham-Hotspur-Liverpool-January-28-2021-Premier-League\n",
      "https://fbref.com//en/matches/88053fb0/Everton-Newcastle-United-January-30-2021-Premier-League\n",
      "https://fbref.com//en/matches/d1517c30/West-Bromwich-Albion-Fulham-January-30-2021-Premier-League\n",
      "https://fbref.com//en/matches/150c80d7/Manchester-City-Sheffield-United-January-30-2021-Premier-League\n",
      "https://fbref.com//en/matches/111bd050/Crystal-Palace-Wolverhampton-Wanderers-January-30-2021-Premier-League\n",
      "https://fbref.com//en/matches/0fcaaa5f/Arsenal-Manchester-United-January-30-2021-Premier-League\n",
      "https://fbref.com//en/matches/bf52349b\n",
      "https://fbref.com//en/matches/10d13e5b/Southampton-Aston-Villa-January-30-2021-Premier-League\n",
      "https://fbref.com//en/matches/3372f3f3/Chelsea-Burnley-January-31-2021-Premier-League\n",
      "https://fbref.com//en/matches/e5e46ead/Leicester-City-Leeds-United-January-31-2021-Premier-League\n",
      "https://fbref.com//en/matches/3de3a736/West-Ham-United-Liverpool-January-31-2021-Premier-League\n",
      "https://fbref.com//en/matches/4663c253/Brighton-and-Hove-Albion-Tottenham-Hotspur-January-31-2021-Premier-League\n",
      "https://fbref.com//en/matches/558fa672/Wolverhampton-Wanderers-Arsenal-February-2-2021-Premier-League\n",
      "https://fbref.com//en/matches/2d3d863d/Sheffield-United-West-Bromwich-Albion-February-2-2021-Premier-League\n",
      "https://fbref.com//en/matches/37a9f2fd/Manchester-United-Southampton-February-2-2021-Premier-League\n",
      "https://fbref.com//en/matches/ca8297c0/Newcastle-United-Crystal-Palace-February-2-2021-Premier-League\n",
      "https://fbref.com//en/matches/a05d7ae7/Burnley-Manchester-City-February-3-2021-Premier-League\n",
      "https://fbref.com//en/matches/bd0673ed/Fulham-Leicester-City-February-3-2021-Premier-League\n",
      "https://fbref.com//en/matches/d9b96ee1/Leeds-United-Everton-February-3-2021-Premier-League\n",
      "https://fbref.com//en/matches/314c860f/Liverpool-Brighton-and-Hove-Albion-February-3-2021-Premier-League\n",
      "https://fbref.com//en/matches/8f9d1856/Aston-Villa-West-Ham-United-February-3-2021-Premier-League\n",
      "https://fbref.com//en/matches/7d98a679/Tottenham-Hotspur-Chelsea-February-4-2021-Premier-League\n",
      "https://fbref.com//en/matches/224bcfc4/Aston-Villa-Arsenal-February-6-2021-Premier-League\n",
      "https://fbref.com//en/matches/5313627a/Newcastle-United-Southampton-February-6-2021-Premier-League\n",
      "https://fbref.com//en/matches/4400251e/Burnley-Brighton-and-Hove-Albion-February-6-2021-Premier-League\n",
      "https://fbref.com//en/matches/d18e21ab/Fulham-West-Ham-United-February-6-2021-Premier-League\n",
      "https://fbref.com//en/matches/6504b158/Manchester-United-Everton-February-6-2021-Premier-League\n",
      "https://fbref.com//en/matches/4a652b81/Tottenham-Hotspur-West-Bromwich-Albion-February-7-2021-Premier-League\n",
      "https://fbref.com//en/matches/dca0be20/Wolverhampton-Wanderers-Leicester-City-February-7-2021-Premier-League\n",
      "https://fbref.com//en/matches/e044d71d/Liverpool-Manchester-City-February-7-2021-Premier-League\n",
      "https://fbref.com//en/matches/d3467620/Sheffield-United-Chelsea-February-7-2021-Premier-League\n",
      "https://fbref.com//en/matches/ff2cee2b/Leeds-United-Crystal-Palace-February-8-2021-Premier-League\n",
      "https://fbref.com//en/matches/666f6961/Leicester-City-Liverpool-February-13-2021-Premier-League\n",
      "https://fbref.com//en/matches/34a4b546/Crystal-Palace-Burnley-February-13-2021-Premier-League\n",
      "https://fbref.com//en/matches/5d0cd646/Manchester-City-Tottenham-Hotspur-February-13-2021-Premier-League\n",
      "https://fbref.com//en/matches/c7922348/Brighton-and-Hove-Albion-Aston-Villa-February-13-2021-Premier-League\n",
      "https://fbref.com//en/matches/34682a95/Southampton-Wolverhampton-Wanderers-February-14-2021-Premier-League\n",
      "https://fbref.com//en/matches/80124feb/West-Bromwich-Albion-Manchester-United-February-14-2021-Premier-League\n",
      "https://fbref.com//en/matches/85624e5e/Arsenal-Leeds-United-February-14-2021-Premier-League\n",
      "https://fbref.com//en/matches/46f84386/Everton-Fulham-February-14-2021-Premier-League\n",
      "https://fbref.com//en/matches/d6167896/West-Ham-United-Sheffield-United-February-15-2021-Premier-League\n",
      "https://fbref.com//en/matches/dd033287/Chelsea-Newcastle-United-February-15-2021-Premier-League\n",
      "https://fbref.com//en/matches/6285d050/Burnley-Fulham-February-17-2021-Premier-League\n",
      "https://fbref.com//en/matches/78270b8a/Everton-Manchester-City-February-17-2021-Premier-League\n",
      "https://fbref.com//en/matches/ae2d6f15/Wolverhampton-Wanderers-Leeds-United-February-19-2021-Premier-League\n",
      "https://fbref.com//en/matches/9e4c8c99/Southampton-Chelsea-February-20-2021-Premier-League\n",
      "https://fbref.com//en/matches/072e8501/Burnley-West-Bromwich-Albion-February-20-2021-Premier-League\n",
      "https://fbref.com//en/matches/e4ac45fb/Merseyside-Derby-Liverpool-Everton-February-20-2021-Premier-League\n",
      "https://fbref.com//en/matches/b1892d66/Fulham-Sheffield-United-February-20-2021-Premier-League\n",
      "https://fbref.com//en/matches/59222b5f/West-Ham-United-Tottenham-Hotspur-February-21-2021-Premier-League\n",
      "https://fbref.com//en/matches/2c6f8c0e/Aston-Villa-Leicester-City-February-21-2021-Premier-League\n",
      "https://fbref.com//en/matches/2dedf408/Arsenal-Manchester-City-February-21-2021-Premier-League\n",
      "https://fbref.com//en/matches/401e0d48/Manchester-United-Newcastle-United-February-21-2021-Premier-League\n",
      "https://fbref.com//en/matches/86f378b6/Brighton-and-Hove-Albion-Crystal-Palace-February-22-2021-Premier-League\n",
      "https://fbref.com//en/matches/6a198933/Leeds-United-Southampton-February-23-2021-Premier-League\n",
      "https://fbref.com//en/matches/6faa8392/Manchester-City-West-Ham-United-February-27-2021-Premier-League\n",
      "https://fbref.com//en/matches/ff18265a/West-Bromwich-Albion-Brighton-and-Hove-Albion-February-27-2021-Premier-League\n",
      "https://fbref.com//en/matches/70056c3b/Leeds-United-Aston-Villa-February-27-2021-Premier-League\n",
      "https://fbref.com//en/matches/99e5e3dc/Newcastle-United-Wolverhampton-Wanderers-February-27-2021-Premier-League\n",
      "https://fbref.com//en/matches/2d530fe3/Crystal-Palace-Fulham-February-28-2021-Premier-League\n",
      "https://fbref.com//en/matches/88b309f1/Leicester-City-Arsenal-February-28-2021-Premier-League\n",
      "https://fbref.com//en/matches/d28c364e/Tottenham-Hotspur-Burnley-February-28-2021-Premier-League\n",
      "https://fbref.com//en/matches/9ba4df6a/Chelsea-Manchester-United-February-28-2021-Premier-League\n",
      "https://fbref.com//en/matches/3826d9aa/Sheffield-United-Liverpool-February-28-2021-Premier-League\n",
      "https://fbref.com//en/matches/a81e1c82/Everton-Southampton-March-1-2021-Premier-League\n",
      "https://fbref.com//en/matches/7145e0a8/Manchester-City-Wolverhampton-Wanderers-March-2-2021-Premier-League\n",
      "https://fbref.com//en/matches/5e1c69aa/Burnley-Leicester-City-March-3-2021-Premier-League\n",
      "https://fbref.com//en/matches/3a9c1c4d/Sheffield-United-Aston-Villa-March-3-2021-Premier-League\n",
      "https://fbref.com//en/matches/aecb46ac/Crystal-Palace-Manchester-United-March-3-2021-Premier-League\n",
      "https://fbref.com//en/matches/ee055741/West-Bromwich-Albion-Everton-March-4-2021-Premier-League\n",
      "https://fbref.com//en/matches/44b3d20c/Fulham-Tottenham-Hotspur-March-4-2021-Premier-League\n",
      "https://fbref.com//en/matches/86920e88/Liverpool-Chelsea-March-4-2021-Premier-League\n",
      "https://fbref.com//en/matches/db9a5ac8/Burnley-Arsenal-March-6-2021-Premier-League\n",
      "https://fbref.com//en/matches/9d08bb4e/Sheffield-United-Southampton-March-6-2021-Premier-League\n",
      "https://fbref.com//en/matches/e52c1e46/Aston-Villa-Wolverhampton-Wanderers-March-6-2021-Premier-League\n",
      "https://fbref.com//en/matches/6fc64077/Brighton-and-Hove-Albion-Leicester-City-March-6-2021-Premier-League\n",
      "https://fbref.com//en/matches/a096c32f/West-Bromwich-Albion-Newcastle-United-March-7-2021-Premier-League\n",
      "https://fbref.com//en/matches/5826a836/Liverpool-Fulham-March-7-2021-Premier-League\n",
      "https://fbref.com//en/matches/28ebbc70/Manchester-Derby-Manchester-City-Manchester-United-March-7-2021-Premier-League\n",
      "https://fbref.com//en/matches/330fc75f/Tottenham-Hotspur-Crystal-Palace-March-7-2021-Premier-League\n",
      "https://fbref.com//en/matches/7e4a240e/Chelsea-Everton-March-8-2021-Premier-League\n",
      "https://fbref.com//en/matches/c3b4d1ba/West-Ham-United-Leeds-United-March-8-2021-Premier-League\n",
      "https://fbref.com//en/matches/ba04db4f/Manchester-City-Southampton-March-10-2021-Premier-League\n",
      "https://fbref.com//en/matches/5ac8e391/Newcastle-United-Aston-Villa-March-12-2021-Premier-League\n",
      "https://fbref.com//en/matches/a711769f/Leeds-United-Chelsea-March-13-2021-Premier-League\n",
      "https://fbref.com//en/matches/29954372/Crystal-Palace-West-Bromwich-Albion-March-13-2021-Premier-League\n",
      "https://fbref.com//en/matches/91cce376/Everton-Burnley-March-13-2021-Premier-League\n",
      "https://fbref.com//en/matches/279b0eb5/Fulham-Manchester-City-March-13-2021-Premier-League\n",
      "https://fbref.com//en/matches/b40eb9c6/Southampton-Brighton-and-Hove-Albion-March-14-2021-Premier-League\n",
      "https://fbref.com//en/matches/d3bc5214/Leicester-City-Sheffield-United-March-14-2021-Premier-League\n",
      "https://fbref.com//en/matches/127b8258/North-London-Derby-Arsenal-Tottenham-Hotspur-March-14-2021-Premier-League\n",
      "https://fbref.com//en/matches/05c95367/Manchester-United-West-Ham-United-March-14-2021-Premier-League\n",
      "https://fbref.com//en/matches/ad3063c2/Wolverhampton-Wanderers-Liverpool-March-15-2021-Premier-League\n",
      "https://fbref.com//en/matches/05e3dd18/Fulham-Leeds-United-March-19-2021-Premier-League\n",
      "https://fbref.com//en/matches/1daf63a9/Brighton-and-Hove-Albion-Newcastle-United-March-20-2021-Premier-League\n",
      "https://fbref.com//en/matches/c592a3d7/West-Ham-United-Arsenal-March-21-2021-Premier-League\n",
      "https://fbref.com//en/matches/faf3633c/Aston-Villa-Tottenham-Hotspur-March-21-2021-Premier-League\n",
      "https://fbref.com//en/matches/c5d6a493/Chelsea-West-Bromwich-Albion-April-3-2021-Premier-League\n",
      "https://fbref.com//en/matches/c4ed64b9/Leeds-United-Sheffield-United-April-3-2021-Premier-League\n",
      "https://fbref.com//en/matches/d798017f/Leicester-City-Manchester-City-April-3-2021-Premier-League\n",
      "https://fbref.com//en/matches/562d1981/Arsenal-Liverpool-April-3-2021-Premier-League\n",
      "https://fbref.com//en/matches/2c313b76/Southampton-Burnley-April-4-2021-Premier-League\n",
      "https://fbref.com//en/matches/7a399858/Newcastle-United-Tottenham-Hotspur-April-4-2021-Premier-League\n",
      "https://fbref.com//en/matches/a2d96ab5/Aston-Villa-Fulham-April-4-2021-Premier-League\n",
      "https://fbref.com//en/matches/de17a70e/Manchester-United-Brighton-and-Hove-Albion-April-4-2021-Premier-League\n",
      "https://fbref.com//en/matches/66f16cd5/Everton-Crystal-Palace-April-5-2021-Premier-League\n",
      "https://fbref.com//en/matches/4c2f6a7b/Wolverhampton-Wanderers-West-Ham-United-April-5-2021-Premier-League\n",
      "https://fbref.com//en/matches/bf52349b\n",
      "https://fbref.com//en/matches/be1ee647/Fulham-Wolverhampton-Wanderers-April-9-2021-Premier-League\n",
      "https://fbref.com//en/matches/ad969519/Manchester-City-Leeds-United-April-10-2021-Premier-League\n",
      "https://fbref.com//en/matches/20bdebdc/Liverpool-Aston-Villa-April-10-2021-Premier-League\n",
      "https://fbref.com//en/matches/54b07679/Crystal-Palace-Chelsea-April-10-2021-Premier-League\n",
      "https://fbref.com//en/matches/daebaaa1/Burnley-Newcastle-United-April-11-2021-Premier-League\n",
      "https://fbref.com//en/matches/06b2801a/West-Ham-United-Leicester-City-April-11-2021-Premier-League\n",
      "https://fbref.com//en/matches/a51d567c/Tottenham-Hotspur-Manchester-United-April-11-2021-Premier-League\n",
      "https://fbref.com//en/matches/34395b54/Sheffield-United-Arsenal-April-11-2021-Premier-League\n",
      "https://fbref.com//en/matches/3dee3681/West-Bromwich-Albion-Southampton-April-12-2021-Premier-League\n",
      "https://fbref.com//en/matches/ac6ac8f8/Brighton-and-Hove-Albion-Everton-April-12-2021-Premier-League\n",
      "https://fbref.com//en/matches/ebeb462d/Everton-Tottenham-Hotspur-April-16-2021-Premier-League\n",
      "https://fbref.com//en/matches/25a3b695/Newcastle-United-West-Ham-United-April-17-2021-Premier-League\n",
      "https://fbref.com//en/matches/07745ff2/Wolverhampton-Wanderers-Sheffield-United-April-17-2021-Premier-League\n",
      "https://fbref.com//en/matches/a19ff865/Arsenal-Fulham-April-18-2021-Premier-League\n",
      "https://fbref.com//en/matches/3e00561f/Manchester-United-Burnley-April-18-2021-Premier-League\n",
      "https://fbref.com//en/matches/6c0666e6/Leeds-United-Liverpool-April-19-2021-Premier-League\n",
      "https://fbref.com//en/matches/07b4e58b/Chelsea-Brighton-and-Hove-Albion-April-20-2021-Premier-League\n",
      "https://fbref.com//en/matches/81a7befa/Tottenham-Hotspur-Southampton-April-21-2021-Premier-League\n",
      "https://fbref.com//en/matches/ac46a079/Aston-Villa-Manchester-City-April-21-2021-Premier-League\n",
      "https://fbref.com//en/matches/be6edfdf/Leicester-City-West-Bromwich-Albion-April-22-2021-Premier-League\n",
      "https://fbref.com//en/matches/30f36320/Arsenal-Everton-April-23-2021-Premier-League\n",
      "https://fbref.com//en/matches/81e8aaf4/Liverpool-Newcastle-United-April-24-2021-Premier-League\n",
      "https://fbref.com//en/matches/ea1579bb/West-Ham-United-Chelsea-April-24-2021-Premier-League\n",
      "https://fbref.com//en/matches/1ef0a8f2/Sheffield-United-Brighton-and-Hove-Albion-April-24-2021-Premier-League\n",
      "https://fbref.com//en/matches/5656770f/Wolverhampton-Wanderers-Burnley-April-25-2021-Premier-League\n",
      "https://fbref.com//en/matches/8422804d/Leeds-United-Manchester-United-April-25-2021-Premier-League\n",
      "https://fbref.com//en/matches/2ab535fa/Aston-Villa-West-Bromwich-Albion-April-25-2021-Premier-League\n",
      "https://fbref.com//en/matches/b30b8887/Leicester-City-Crystal-Palace-April-26-2021-Premier-League\n",
      "https://fbref.com//en/matches/c0d4f879/Southampton-Leicester-City-April-30-2021-Premier-League\n",
      "https://fbref.com//en/matches/bf22075a/Crystal-Palace-Manchester-City-May-1-2021-Premier-League\n",
      "https://fbref.com//en/matches/1e2ba709/Brighton-and-Hove-Albion-Leeds-United-May-1-2021-Premier-League\n",
      "https://fbref.com//en/matches/44d49bd5/Chelsea-Fulham-May-1-2021-Premier-League\n",
      "https://fbref.com//en/matches/2452619d/Everton-Aston-Villa-May-1-2021-Premier-League\n",
      "https://fbref.com//en/matches/af2c27de/Newcastle-United-Arsenal-May-2-2021-Premier-League\n",
      "https://fbref.com//en/matches/8b2e31ef/Tottenham-Hotspur-Sheffield-United-May-2-2021-Premier-League\n",
      "https://fbref.com//en/matches/378a8a95/West-Bromwich-Albion-Wolverhampton-Wanderers-May-3-2021-Premier-League\n",
      "https://fbref.com//en/matches/a89e62a7/Burnley-West-Ham-United-May-3-2021-Premier-League\n",
      "https://fbref.com//en/matches/d93b0c17/Leicester-City-Newcastle-United-May-7-2021-Premier-League\n",
      "https://fbref.com//en/matches/4eecc9bb/Leeds-United-Tottenham-Hotspur-May-8-2021-Premier-League\n",
      "https://fbref.com//en/matches/02c409c1/Sheffield-United-Crystal-Palace-May-8-2021-Premier-League\n",
      "https://fbref.com//en/matches/b657d658/Manchester-City-Chelsea-May-8-2021-Premier-League\n",
      "https://fbref.com//en/matches/e5923f92/Liverpool-Southampton-May-8-2021-Premier-League\n",
      "https://fbref.com//en/matches/ad903480/Wolverhampton-Wanderers-Brighton-and-Hove-Albion-May-9-2021-Premier-League\n",
      "https://fbref.com//en/matches/c80d17ca/Aston-Villa-Manchester-United-May-9-2021-Premier-League\n",
      "https://fbref.com//en/matches/57632a35/West-Ham-United-Everton-May-9-2021-Premier-League\n",
      "https://fbref.com//en/matches/49369ed5/Arsenal-West-Bromwich-Albion-May-9-2021-Premier-League\n",
      "https://fbref.com//en/matches/430d879c/Fulham-Burnley-May-10-2021-Premier-League\n",
      "https://fbref.com//en/matches/855994bf/Manchester-United-Leicester-City-May-11-2021-Premier-League\n",
      "https://fbref.com//en/matches/5e4ec091/Southampton-Crystal-Palace-May-11-2021-Premier-League\n",
      "https://fbref.com//en/matches/51632a55/North-West-London-Derby-Chelsea-Arsenal-May-12-2021-Premier-League\n",
      "https://fbref.com//en/matches/b5b24fd8/Aston-Villa-Everton-May-13-2021-Premier-League\n",
      "https://fbref.com//en/matches/9f0275a4/North-West-Derby-Manchester-United-Liverpool-May-13-2021-Premier-League\n",
      "https://fbref.com//en/matches/27601c16/Newcastle-United-Manchester-City-May-14-2021-Premier-League\n",
      "https://fbref.com//en/matches/18d42916/Burnley-Leeds-United-May-15-2021-Premier-League\n",
      "https://fbref.com//en/matches/34739ed7/Southampton-Fulham-May-15-2021-Premier-League\n",
      "https://fbref.com//en/matches/1a1095c2/Brighton-and-Hove-Albion-West-Ham-United-May-15-2021-Premier-League\n",
      "https://fbref.com//en/matches/7b21d5b9/Crystal-Palace-Aston-Villa-May-16-2021-Premier-League\n",
      "https://fbref.com//en/matches/9059c960/Tottenham-Hotspur-Wolverhampton-Wanderers-May-16-2021-Premier-League\n",
      "https://fbref.com//en/matches/6a834f6e/West-Bromwich-Albion-Liverpool-May-16-2021-Premier-League\n",
      "https://fbref.com//en/matches/707d5282/Everton-Sheffield-United-May-16-2021-Premier-League\n",
      "https://fbref.com//en/matches/d8018048/Manchester-United-Fulham-May-18-2021-Premier-League\n",
      "https://fbref.com//en/matches/de4e566f/Southampton-Leeds-United-May-18-2021-Premier-League\n",
      "https://fbref.com//en/matches/3b1cd656/Brighton-and-Hove-Albion-Manchester-City-May-18-2021-Premier-League\n",
      "https://fbref.com//en/matches/509c9927/Chelsea-Leicester-City-May-18-2021-Premier-League\n",
      "https://fbref.com//en/matches/d4273555/Tottenham-Hotspur-Aston-Villa-May-19-2021-Premier-League\n",
      "https://fbref.com//en/matches/eb7bd01f/Everton-Wolverhampton-Wanderers-May-19-2021-Premier-League\n",
      "https://fbref.com//en/matches/62adcd41/Newcastle-United-Sheffield-United-May-19-2021-Premier-League\n",
      "https://fbref.com//en/matches/624e6758/Crystal-Palace-Arsenal-May-19-2021-Premier-League\n",
      "https://fbref.com//en/matches/33d72496/Burnley-Liverpool-May-19-2021-Premier-League\n",
      "https://fbref.com//en/matches/88927a77/West-Bromwich-Albion-West-Ham-United-May-19-2021-Premier-League\n",
      "https://fbref.com//en/matches/0d04cd74/Leicester-City-Tottenham-Hotspur-May-23-2021-Premier-League\n",
      "https://fbref.com//en/matches/12d3970f/Manchester-City-Everton-May-23-2021-Premier-League\n",
      "https://fbref.com//en/matches/c2fc07f0/Liverpool-Crystal-Palace-May-23-2021-Premier-League\n",
      "https://fbref.com//en/matches/2c07a228/Sheffield-United-Burnley-May-23-2021-Premier-League\n",
      "https://fbref.com//en/matches/2c081c94/Wolverhampton-Wanderers-Manchester-United-May-23-2021-Premier-League\n",
      "https://fbref.com//en/matches/9f6c52f8/Arsenal-Brighton-and-Hove-Albion-May-23-2021-Premier-League\n",
      "https://fbref.com//en/matches/9ade2b5d/Leeds-United-West-Bromwich-Albion-May-23-2021-Premier-League\n",
      "https://fbref.com//en/matches/f966eee0/Fulham-Newcastle-United-May-23-2021-Premier-League\n",
      "https://fbref.com//en/matches/0143966a/Aston-Villa-Chelsea-May-23-2021-Premier-League\n",
      "https://fbref.com//en/matches/50ec33b2/West-Ham-United-Southampton-May-23-2021-Premier-League\n"
     ]
    }
   ],
   "source": [
    "l_1 = get_matchday_data_lineups('https://fbref.com/', '', list1)\n",
    "l_2 = get_matchday_data_lineups('https://fbref.com/', '', list2)\n",
    "l_3 = get_matchday_data_lineups('https://fbref.com/', '', list3)\n",
    "l_4 = get_matchday_data_lineups('https://fbref.com/', '', list4)"
   ],
   "metadata": {
    "collapsed": false,
    "pycharm": {
     "name": "#%%\n"
    }
   }
  },
  {
   "cell_type": "code",
   "execution_count": 51,
   "outputs": [
    {
     "data": {
      "text/plain": "              player    team        matchweek        date  start11\n0        Marek Rodák  Fulham    (Matchweek 1)  2020-09-12     True\n1     Michael Hector  Fulham    (Matchweek 1)  2020-09-12     True\n2         Denis Odoi  Fulham    (Matchweek 1)  2020-09-12     True\n3    Neeskens Kebano  Fulham    (Matchweek 1)  2020-09-12     True\n4        Tom Cairney  Fulham    (Matchweek 1)  2020-09-12     True\n..               ...     ...              ...         ...      ...\n13       Tom Cairney  Fulham   (Matchweek 11)  2020-12-05    False\n14          Tim Ream  Fulham   (Matchweek 11)  2020-12-05    False\n15      Mario Lemina  Fulham   (Matchweek 11)  2020-12-05    False\n16         Joe Bryan  Fulham   (Matchweek 11)  2020-12-05    False\n17  Aboubakar Kamara  Fulham   (Matchweek 11)  2020-12-05    False\n\n[3635 rows x 5 columns]",
      "text/html": "<div>\n<style scoped>\n    .dataframe tbody tr th:only-of-type {\n        vertical-align: middle;\n    }\n\n    .dataframe tbody tr th {\n        vertical-align: top;\n    }\n\n    .dataframe thead th {\n        text-align: right;\n    }\n</style>\n<table border=\"1\" class=\"dataframe\">\n  <thead>\n    <tr style=\"text-align: right;\">\n      <th></th>\n      <th>player</th>\n      <th>team</th>\n      <th>matchweek</th>\n      <th>date</th>\n      <th>start11</th>\n    </tr>\n  </thead>\n  <tbody>\n    <tr>\n      <th>0</th>\n      <td>Marek Rodák</td>\n      <td>Fulham</td>\n      <td>(Matchweek 1)</td>\n      <td>2020-09-12</td>\n      <td>True</td>\n    </tr>\n    <tr>\n      <th>1</th>\n      <td>Michael Hector</td>\n      <td>Fulham</td>\n      <td>(Matchweek 1)</td>\n      <td>2020-09-12</td>\n      <td>True</td>\n    </tr>\n    <tr>\n      <th>2</th>\n      <td>Denis Odoi</td>\n      <td>Fulham</td>\n      <td>(Matchweek 1)</td>\n      <td>2020-09-12</td>\n      <td>True</td>\n    </tr>\n    <tr>\n      <th>3</th>\n      <td>Neeskens Kebano</td>\n      <td>Fulham</td>\n      <td>(Matchweek 1)</td>\n      <td>2020-09-12</td>\n      <td>True</td>\n    </tr>\n    <tr>\n      <th>4</th>\n      <td>Tom Cairney</td>\n      <td>Fulham</td>\n      <td>(Matchweek 1)</td>\n      <td>2020-09-12</td>\n      <td>True</td>\n    </tr>\n    <tr>\n      <th>...</th>\n      <td>...</td>\n      <td>...</td>\n      <td>...</td>\n      <td>...</td>\n      <td>...</td>\n    </tr>\n    <tr>\n      <th>13</th>\n      <td>Tom Cairney</td>\n      <td>Fulham</td>\n      <td>(Matchweek 11)</td>\n      <td>2020-12-05</td>\n      <td>False</td>\n    </tr>\n    <tr>\n      <th>14</th>\n      <td>Tim Ream</td>\n      <td>Fulham</td>\n      <td>(Matchweek 11)</td>\n      <td>2020-12-05</td>\n      <td>False</td>\n    </tr>\n    <tr>\n      <th>15</th>\n      <td>Mario Lemina</td>\n      <td>Fulham</td>\n      <td>(Matchweek 11)</td>\n      <td>2020-12-05</td>\n      <td>False</td>\n    </tr>\n    <tr>\n      <th>16</th>\n      <td>Joe Bryan</td>\n      <td>Fulham</td>\n      <td>(Matchweek 11)</td>\n      <td>2020-12-05</td>\n      <td>False</td>\n    </tr>\n    <tr>\n      <th>17</th>\n      <td>Aboubakar Kamara</td>\n      <td>Fulham</td>\n      <td>(Matchweek 11)</td>\n      <td>2020-12-05</td>\n      <td>False</td>\n    </tr>\n  </tbody>\n</table>\n<p>3635 rows × 5 columns</p>\n</div>"
     },
     "execution_count": 51,
     "metadata": {},
     "output_type": "execute_result"
    }
   ],
   "source": [
    "l_1"
   ],
   "metadata": {
    "collapsed": false,
    "pycharm": {
     "name": "#%%\n"
    }
   }
  },
  {
   "cell_type": "code",
   "execution_count": 52,
   "outputs": [],
   "source": [
    "def concatenate_files(f1, f2, f3, f4):\n",
    "    total = pd.concat([f1, f2, f3, f4], axis=0)\n",
    "    total = total.drop_duplicates()\n",
    "    total.reset_index(inplace=True, drop=True)\n",
    "    return total"
   ],
   "metadata": {
    "collapsed": false,
    "pycharm": {
     "name": "#%%\n"
    }
   }
  },
  {
   "cell_type": "code",
   "execution_count": 94,
   "outputs": [],
   "source": [
    "gk_2020 = concatenate_files(gk_1, gk_2, gk_3, gk_4)\n",
    "pl_2020 = concatenate_files(df_1, df_2, df_3, df_4)"
   ],
   "metadata": {
    "collapsed": false,
    "pycharm": {
     "name": "#%%\n"
    }
   }
  },
  {
   "cell_type": "code",
   "execution_count": 53,
   "outputs": [],
   "source": [
    "lineups_2020 = concatenate_files(l_1, l_2, l_3, l_4)"
   ],
   "metadata": {
    "collapsed": false,
    "pycharm": {
     "name": "#%%\n"
    }
   }
  },
  {
   "cell_type": "code",
   "execution_count": 95,
   "outputs": [
    {
     "data": {
      "text/plain": "                player  minutes     age  gk_shots_on_target_against  \\\n0          Marek Rodák     90.0  23-274                         5.0   \n1           Bernd Leno     90.0  28-192                         2.0   \n2       Vicente Guaita     90.0  33-246                         5.0   \n3        Alex McCarthy     90.0  30-284                         3.0   \n4              Alisson     90.0  27-346                         3.0   \n..                 ...      ...     ...                         ...   \n760  Emiliano Martínez     90.0  28-263                         6.0   \n761      Edouard Mendy     45.0  29-083                         2.0   \n762  Kepa Arrizabalaga     45.0  26-232                         0.0   \n763   Łukasz Fabiański     90.0  36-035                         5.0   \n764      Alex McCarthy     90.0  31-171                         7.0   \n\n     gk_goals_against  gk_saves  gk_save_pct  gk_psxg  \\\n0                 3.0       2.0         40.0      2.5   \n1                 0.0       2.0        100.0      0.0   \n2                 0.0       5.0        100.0      0.8   \n3                 1.0       2.0         66.7      0.7   \n4                 3.0       0.0          0.0      2.1   \n..                ...       ...          ...      ...   \n760               1.0       5.0         83.3      1.2   \n761               1.0       1.0         50.0      1.1   \n762               1.0       0.0          0.0      0.6   \n763               0.0       5.0        100.0      1.0   \n764               3.0       4.0         57.1      1.8   \n\n     gk_passes_completed_launched  gk_passes  gk_passes_throws  \\\n0                             6.0       22.0               3.0   \n1                             1.0       28.0               2.0   \n2                             6.0       20.0               0.0   \n3                             8.0       44.0               8.0   \n4                             2.0       26.0               5.0   \n..                            ...        ...               ...   \n760                           9.0       24.0               4.0   \n761                           0.0        9.0               4.0   \n762                           2.0        9.0               0.0   \n763                          14.0       28.0               6.0   \n764                           4.0       23.0               5.0   \n\n     gk_pct_passes_launched  gk_def_actions_outside_pen_area             Team  \\\n0                      40.9                              1.0           Fulham   \n1                       0.0                              1.0          Arsenal   \n2                      95.0                              0.0   Crystal Palace   \n3                      38.6                              4.0      Southampton   \n4                      34.6                              0.0        Liverpool   \n..                      ...                              ...              ...   \n760                    62.5                              0.0      Aston Villa   \n761                     0.0                              0.0          Chelsea   \n762                    33.3                              1.0          Chelsea   \n763                    60.7                              0.0  West Ham United   \n764                    43.5                              0.0      Southampton   \n\n     matchweek        date  \n0          1.0  2020-09-12  \n1          1.0  2020-09-12  \n2          1.0  2020-09-12  \n3          1.0  2020-09-12  \n4          1.0  2020-09-12  \n..         ...         ...  \n760       38.0  2021-05-23  \n761       38.0  2021-05-23  \n762       38.0  2021-05-23  \n763       38.0  2021-05-23  \n764       38.0  2021-05-23  \n\n[765 rows x 16 columns]",
      "text/html": "<div>\n<style scoped>\n    .dataframe tbody tr th:only-of-type {\n        vertical-align: middle;\n    }\n\n    .dataframe tbody tr th {\n        vertical-align: top;\n    }\n\n    .dataframe thead th {\n        text-align: right;\n    }\n</style>\n<table border=\"1\" class=\"dataframe\">\n  <thead>\n    <tr style=\"text-align: right;\">\n      <th></th>\n      <th>player</th>\n      <th>minutes</th>\n      <th>age</th>\n      <th>gk_shots_on_target_against</th>\n      <th>gk_goals_against</th>\n      <th>gk_saves</th>\n      <th>gk_save_pct</th>\n      <th>gk_psxg</th>\n      <th>gk_passes_completed_launched</th>\n      <th>gk_passes</th>\n      <th>gk_passes_throws</th>\n      <th>gk_pct_passes_launched</th>\n      <th>gk_def_actions_outside_pen_area</th>\n      <th>Team</th>\n      <th>matchweek</th>\n      <th>date</th>\n    </tr>\n  </thead>\n  <tbody>\n    <tr>\n      <th>0</th>\n      <td>Marek Rodák</td>\n      <td>90.0</td>\n      <td>23-274</td>\n      <td>5.0</td>\n      <td>3.0</td>\n      <td>2.0</td>\n      <td>40.0</td>\n      <td>2.5</td>\n      <td>6.0</td>\n      <td>22.0</td>\n      <td>3.0</td>\n      <td>40.9</td>\n      <td>1.0</td>\n      <td>Fulham</td>\n      <td>1.0</td>\n      <td>2020-09-12</td>\n    </tr>\n    <tr>\n      <th>1</th>\n      <td>Bernd Leno</td>\n      <td>90.0</td>\n      <td>28-192</td>\n      <td>2.0</td>\n      <td>0.0</td>\n      <td>2.0</td>\n      <td>100.0</td>\n      <td>0.0</td>\n      <td>1.0</td>\n      <td>28.0</td>\n      <td>2.0</td>\n      <td>0.0</td>\n      <td>1.0</td>\n      <td>Arsenal</td>\n      <td>1.0</td>\n      <td>2020-09-12</td>\n    </tr>\n    <tr>\n      <th>2</th>\n      <td>Vicente Guaita</td>\n      <td>90.0</td>\n      <td>33-246</td>\n      <td>5.0</td>\n      <td>0.0</td>\n      <td>5.0</td>\n      <td>100.0</td>\n      <td>0.8</td>\n      <td>6.0</td>\n      <td>20.0</td>\n      <td>0.0</td>\n      <td>95.0</td>\n      <td>0.0</td>\n      <td>Crystal Palace</td>\n      <td>1.0</td>\n      <td>2020-09-12</td>\n    </tr>\n    <tr>\n      <th>3</th>\n      <td>Alex McCarthy</td>\n      <td>90.0</td>\n      <td>30-284</td>\n      <td>3.0</td>\n      <td>1.0</td>\n      <td>2.0</td>\n      <td>66.7</td>\n      <td>0.7</td>\n      <td>8.0</td>\n      <td>44.0</td>\n      <td>8.0</td>\n      <td>38.6</td>\n      <td>4.0</td>\n      <td>Southampton</td>\n      <td>1.0</td>\n      <td>2020-09-12</td>\n    </tr>\n    <tr>\n      <th>4</th>\n      <td>Alisson</td>\n      <td>90.0</td>\n      <td>27-346</td>\n      <td>3.0</td>\n      <td>3.0</td>\n      <td>0.0</td>\n      <td>0.0</td>\n      <td>2.1</td>\n      <td>2.0</td>\n      <td>26.0</td>\n      <td>5.0</td>\n      <td>34.6</td>\n      <td>0.0</td>\n      <td>Liverpool</td>\n      <td>1.0</td>\n      <td>2020-09-12</td>\n    </tr>\n    <tr>\n      <th>...</th>\n      <td>...</td>\n      <td>...</td>\n      <td>...</td>\n      <td>...</td>\n      <td>...</td>\n      <td>...</td>\n      <td>...</td>\n      <td>...</td>\n      <td>...</td>\n      <td>...</td>\n      <td>...</td>\n      <td>...</td>\n      <td>...</td>\n      <td>...</td>\n      <td>...</td>\n      <td>...</td>\n    </tr>\n    <tr>\n      <th>760</th>\n      <td>Emiliano Martínez</td>\n      <td>90.0</td>\n      <td>28-263</td>\n      <td>6.0</td>\n      <td>1.0</td>\n      <td>5.0</td>\n      <td>83.3</td>\n      <td>1.2</td>\n      <td>9.0</td>\n      <td>24.0</td>\n      <td>4.0</td>\n      <td>62.5</td>\n      <td>0.0</td>\n      <td>Aston Villa</td>\n      <td>38.0</td>\n      <td>2021-05-23</td>\n    </tr>\n    <tr>\n      <th>761</th>\n      <td>Edouard Mendy</td>\n      <td>45.0</td>\n      <td>29-083</td>\n      <td>2.0</td>\n      <td>1.0</td>\n      <td>1.0</td>\n      <td>50.0</td>\n      <td>1.1</td>\n      <td>0.0</td>\n      <td>9.0</td>\n      <td>4.0</td>\n      <td>0.0</td>\n      <td>0.0</td>\n      <td>Chelsea</td>\n      <td>38.0</td>\n      <td>2021-05-23</td>\n    </tr>\n    <tr>\n      <th>762</th>\n      <td>Kepa Arrizabalaga</td>\n      <td>45.0</td>\n      <td>26-232</td>\n      <td>0.0</td>\n      <td>1.0</td>\n      <td>0.0</td>\n      <td>0.0</td>\n      <td>0.6</td>\n      <td>2.0</td>\n      <td>9.0</td>\n      <td>0.0</td>\n      <td>33.3</td>\n      <td>1.0</td>\n      <td>Chelsea</td>\n      <td>38.0</td>\n      <td>2021-05-23</td>\n    </tr>\n    <tr>\n      <th>763</th>\n      <td>Łukasz Fabiański</td>\n      <td>90.0</td>\n      <td>36-035</td>\n      <td>5.0</td>\n      <td>0.0</td>\n      <td>5.0</td>\n      <td>100.0</td>\n      <td>1.0</td>\n      <td>14.0</td>\n      <td>28.0</td>\n      <td>6.0</td>\n      <td>60.7</td>\n      <td>0.0</td>\n      <td>West Ham United</td>\n      <td>38.0</td>\n      <td>2021-05-23</td>\n    </tr>\n    <tr>\n      <th>764</th>\n      <td>Alex McCarthy</td>\n      <td>90.0</td>\n      <td>31-171</td>\n      <td>7.0</td>\n      <td>3.0</td>\n      <td>4.0</td>\n      <td>57.1</td>\n      <td>1.8</td>\n      <td>4.0</td>\n      <td>23.0</td>\n      <td>5.0</td>\n      <td>43.5</td>\n      <td>0.0</td>\n      <td>Southampton</td>\n      <td>38.0</td>\n      <td>2021-05-23</td>\n    </tr>\n  </tbody>\n</table>\n<p>765 rows × 16 columns</p>\n</div>"
     },
     "execution_count": 95,
     "metadata": {},
     "output_type": "execute_result"
    }
   ],
   "source": [
    "pl_2020['matchweek'] = pl_2020['matchweek'].str.slice(start=-3, stop=-1).astype(float)\n",
    "gk_2020['matchweek'] = gk_2020['matchweek'].str.slice(start=-3, stop=-1).astype(float)\n",
    "pl_2020['position'] = pl_2020['position'].str.slice(start=0, stop=2)\n",
    "gk_2020"
   ],
   "metadata": {
    "collapsed": false,
    "pycharm": {
     "name": "#%%\n"
    }
   }
  },
  {
   "cell_type": "code",
   "execution_count": 54,
   "outputs": [],
   "source": [
    "lineups_2020['matchweek'] = lineups_2020['matchweek'].str.slice(start=-3, stop=-1).astype(float)"
   ],
   "metadata": {
    "collapsed": false,
    "pycharm": {
     "name": "#%%\n"
    }
   }
  },
  {
   "cell_type": "code",
   "execution_count": 55,
   "outputs": [
    {
     "data": {
      "text/plain": "                player         team  matchweek        date  start11\n0          Marek Rodák       Fulham        1.0  2020-09-12     True\n1       Michael Hector       Fulham        1.0  2020-09-12     True\n2           Denis Odoi       Fulham        1.0  2020-09-12     True\n3      Neeskens Kebano       Fulham        1.0  2020-09-12     True\n4          Tom Cairney       Fulham        1.0  2020-09-12     True\n...                ...          ...        ...         ...      ...\n14638  Michael Obafemi  Southampton       38.0  2021-05-23    False\n14639     Nathan Tella  Southampton       38.0  2021-05-23    False\n14640     Theo Walcott  Southampton       38.0  2021-05-23    False\n14641     Dan Nlundulu  Southampton       38.0  2021-05-23    False\n14642       Will Ferry  Southampton       38.0  2021-05-23    False\n\n[14643 rows x 5 columns]",
      "text/html": "<div>\n<style scoped>\n    .dataframe tbody tr th:only-of-type {\n        vertical-align: middle;\n    }\n\n    .dataframe tbody tr th {\n        vertical-align: top;\n    }\n\n    .dataframe thead th {\n        text-align: right;\n    }\n</style>\n<table border=\"1\" class=\"dataframe\">\n  <thead>\n    <tr style=\"text-align: right;\">\n      <th></th>\n      <th>player</th>\n      <th>team</th>\n      <th>matchweek</th>\n      <th>date</th>\n      <th>start11</th>\n    </tr>\n  </thead>\n  <tbody>\n    <tr>\n      <th>0</th>\n      <td>Marek Rodák</td>\n      <td>Fulham</td>\n      <td>1.0</td>\n      <td>2020-09-12</td>\n      <td>True</td>\n    </tr>\n    <tr>\n      <th>1</th>\n      <td>Michael Hector</td>\n      <td>Fulham</td>\n      <td>1.0</td>\n      <td>2020-09-12</td>\n      <td>True</td>\n    </tr>\n    <tr>\n      <th>2</th>\n      <td>Denis Odoi</td>\n      <td>Fulham</td>\n      <td>1.0</td>\n      <td>2020-09-12</td>\n      <td>True</td>\n    </tr>\n    <tr>\n      <th>3</th>\n      <td>Neeskens Kebano</td>\n      <td>Fulham</td>\n      <td>1.0</td>\n      <td>2020-09-12</td>\n      <td>True</td>\n    </tr>\n    <tr>\n      <th>4</th>\n      <td>Tom Cairney</td>\n      <td>Fulham</td>\n      <td>1.0</td>\n      <td>2020-09-12</td>\n      <td>True</td>\n    </tr>\n    <tr>\n      <th>...</th>\n      <td>...</td>\n      <td>...</td>\n      <td>...</td>\n      <td>...</td>\n      <td>...</td>\n    </tr>\n    <tr>\n      <th>14638</th>\n      <td>Michael Obafemi</td>\n      <td>Southampton</td>\n      <td>38.0</td>\n      <td>2021-05-23</td>\n      <td>False</td>\n    </tr>\n    <tr>\n      <th>14639</th>\n      <td>Nathan Tella</td>\n      <td>Southampton</td>\n      <td>38.0</td>\n      <td>2021-05-23</td>\n      <td>False</td>\n    </tr>\n    <tr>\n      <th>14640</th>\n      <td>Theo Walcott</td>\n      <td>Southampton</td>\n      <td>38.0</td>\n      <td>2021-05-23</td>\n      <td>False</td>\n    </tr>\n    <tr>\n      <th>14641</th>\n      <td>Dan Nlundulu</td>\n      <td>Southampton</td>\n      <td>38.0</td>\n      <td>2021-05-23</td>\n      <td>False</td>\n    </tr>\n    <tr>\n      <th>14642</th>\n      <td>Will Ferry</td>\n      <td>Southampton</td>\n      <td>38.0</td>\n      <td>2021-05-23</td>\n      <td>False</td>\n    </tr>\n  </tbody>\n</table>\n<p>14643 rows × 5 columns</p>\n</div>"
     },
     "execution_count": 55,
     "metadata": {},
     "output_type": "execute_result"
    }
   ],
   "source": [
    "lineups_2020"
   ],
   "metadata": {
    "collapsed": false,
    "pycharm": {
     "name": "#%%\n"
    }
   }
  },
  {
   "cell_type": "code",
   "execution_count": null,
   "outputs": [],
   "source": [],
   "metadata": {
    "collapsed": false,
    "pycharm": {
     "name": "#%%\n"
    }
   }
  },
  {
   "cell_type": "code",
   "execution_count": 96,
   "outputs": [],
   "source": [
    "gk_2020['position'] = 'GK'"
   ],
   "metadata": {
    "collapsed": false,
    "pycharm": {
     "name": "#%%\n"
    }
   }
  },
  {
   "cell_type": "code",
   "execution_count": 97,
   "outputs": [
    {
     "data": {
      "text/plain": "                player  minutes     age  gk_shots_on_target_against  \\\n0          Marek Rodák     90.0  23-274                         5.0   \n1           Bernd Leno     90.0  28-192                         2.0   \n2       Vicente Guaita     90.0  33-246                         5.0   \n3        Alex McCarthy     90.0  30-284                         3.0   \n4              Alisson     90.0  27-346                         3.0   \n..                 ...      ...     ...                         ...   \n760  Emiliano Martínez     90.0  28-263                         6.0   \n761      Edouard Mendy     45.0  29-083                         2.0   \n762  Kepa Arrizabalaga     45.0  26-232                         0.0   \n763   Łukasz Fabiański     90.0  36-035                         5.0   \n764      Alex McCarthy     90.0  31-171                         7.0   \n\n     gk_goals_against  gk_saves  gk_save_pct  gk_psxg  \\\n0                 3.0       2.0         40.0      2.5   \n1                 0.0       2.0        100.0      0.0   \n2                 0.0       5.0        100.0      0.8   \n3                 1.0       2.0         66.7      0.7   \n4                 3.0       0.0          0.0      2.1   \n..                ...       ...          ...      ...   \n760               1.0       5.0         83.3      1.2   \n761               1.0       1.0         50.0      1.1   \n762               1.0       0.0          0.0      0.6   \n763               0.0       5.0        100.0      1.0   \n764               3.0       4.0         57.1      1.8   \n\n     gk_passes_completed_launched  gk_passes  gk_passes_throws  \\\n0                             6.0       22.0               3.0   \n1                             1.0       28.0               2.0   \n2                             6.0       20.0               0.0   \n3                             8.0       44.0               8.0   \n4                             2.0       26.0               5.0   \n..                            ...        ...               ...   \n760                           9.0       24.0               4.0   \n761                           0.0        9.0               4.0   \n762                           2.0        9.0               0.0   \n763                          14.0       28.0               6.0   \n764                           4.0       23.0               5.0   \n\n     gk_pct_passes_launched  gk_def_actions_outside_pen_area             Team  \\\n0                      40.9                              1.0           Fulham   \n1                       0.0                              1.0          Arsenal   \n2                      95.0                              0.0   Crystal Palace   \n3                      38.6                              4.0      Southampton   \n4                      34.6                              0.0        Liverpool   \n..                      ...                              ...              ...   \n760                    62.5                              0.0      Aston Villa   \n761                     0.0                              0.0          Chelsea   \n762                    33.3                              1.0          Chelsea   \n763                    60.7                              0.0  West Ham United   \n764                    43.5                              0.0      Southampton   \n\n     matchweek        date position  \n0          1.0  2020-09-12       GK  \n1          1.0  2020-09-12       GK  \n2          1.0  2020-09-12       GK  \n3          1.0  2020-09-12       GK  \n4          1.0  2020-09-12       GK  \n..         ...         ...      ...  \n760       38.0  2021-05-23       GK  \n761       38.0  2021-05-23       GK  \n762       38.0  2021-05-23       GK  \n763       38.0  2021-05-23       GK  \n764       38.0  2021-05-23       GK  \n\n[765 rows x 17 columns]",
      "text/html": "<div>\n<style scoped>\n    .dataframe tbody tr th:only-of-type {\n        vertical-align: middle;\n    }\n\n    .dataframe tbody tr th {\n        vertical-align: top;\n    }\n\n    .dataframe thead th {\n        text-align: right;\n    }\n</style>\n<table border=\"1\" class=\"dataframe\">\n  <thead>\n    <tr style=\"text-align: right;\">\n      <th></th>\n      <th>player</th>\n      <th>minutes</th>\n      <th>age</th>\n      <th>gk_shots_on_target_against</th>\n      <th>gk_goals_against</th>\n      <th>gk_saves</th>\n      <th>gk_save_pct</th>\n      <th>gk_psxg</th>\n      <th>gk_passes_completed_launched</th>\n      <th>gk_passes</th>\n      <th>gk_passes_throws</th>\n      <th>gk_pct_passes_launched</th>\n      <th>gk_def_actions_outside_pen_area</th>\n      <th>Team</th>\n      <th>matchweek</th>\n      <th>date</th>\n      <th>position</th>\n    </tr>\n  </thead>\n  <tbody>\n    <tr>\n      <th>0</th>\n      <td>Marek Rodák</td>\n      <td>90.0</td>\n      <td>23-274</td>\n      <td>5.0</td>\n      <td>3.0</td>\n      <td>2.0</td>\n      <td>40.0</td>\n      <td>2.5</td>\n      <td>6.0</td>\n      <td>22.0</td>\n      <td>3.0</td>\n      <td>40.9</td>\n      <td>1.0</td>\n      <td>Fulham</td>\n      <td>1.0</td>\n      <td>2020-09-12</td>\n      <td>GK</td>\n    </tr>\n    <tr>\n      <th>1</th>\n      <td>Bernd Leno</td>\n      <td>90.0</td>\n      <td>28-192</td>\n      <td>2.0</td>\n      <td>0.0</td>\n      <td>2.0</td>\n      <td>100.0</td>\n      <td>0.0</td>\n      <td>1.0</td>\n      <td>28.0</td>\n      <td>2.0</td>\n      <td>0.0</td>\n      <td>1.0</td>\n      <td>Arsenal</td>\n      <td>1.0</td>\n      <td>2020-09-12</td>\n      <td>GK</td>\n    </tr>\n    <tr>\n      <th>2</th>\n      <td>Vicente Guaita</td>\n      <td>90.0</td>\n      <td>33-246</td>\n      <td>5.0</td>\n      <td>0.0</td>\n      <td>5.0</td>\n      <td>100.0</td>\n      <td>0.8</td>\n      <td>6.0</td>\n      <td>20.0</td>\n      <td>0.0</td>\n      <td>95.0</td>\n      <td>0.0</td>\n      <td>Crystal Palace</td>\n      <td>1.0</td>\n      <td>2020-09-12</td>\n      <td>GK</td>\n    </tr>\n    <tr>\n      <th>3</th>\n      <td>Alex McCarthy</td>\n      <td>90.0</td>\n      <td>30-284</td>\n      <td>3.0</td>\n      <td>1.0</td>\n      <td>2.0</td>\n      <td>66.7</td>\n      <td>0.7</td>\n      <td>8.0</td>\n      <td>44.0</td>\n      <td>8.0</td>\n      <td>38.6</td>\n      <td>4.0</td>\n      <td>Southampton</td>\n      <td>1.0</td>\n      <td>2020-09-12</td>\n      <td>GK</td>\n    </tr>\n    <tr>\n      <th>4</th>\n      <td>Alisson</td>\n      <td>90.0</td>\n      <td>27-346</td>\n      <td>3.0</td>\n      <td>3.0</td>\n      <td>0.0</td>\n      <td>0.0</td>\n      <td>2.1</td>\n      <td>2.0</td>\n      <td>26.0</td>\n      <td>5.0</td>\n      <td>34.6</td>\n      <td>0.0</td>\n      <td>Liverpool</td>\n      <td>1.0</td>\n      <td>2020-09-12</td>\n      <td>GK</td>\n    </tr>\n    <tr>\n      <th>...</th>\n      <td>...</td>\n      <td>...</td>\n      <td>...</td>\n      <td>...</td>\n      <td>...</td>\n      <td>...</td>\n      <td>...</td>\n      <td>...</td>\n      <td>...</td>\n      <td>...</td>\n      <td>...</td>\n      <td>...</td>\n      <td>...</td>\n      <td>...</td>\n      <td>...</td>\n      <td>...</td>\n      <td>...</td>\n    </tr>\n    <tr>\n      <th>760</th>\n      <td>Emiliano Martínez</td>\n      <td>90.0</td>\n      <td>28-263</td>\n      <td>6.0</td>\n      <td>1.0</td>\n      <td>5.0</td>\n      <td>83.3</td>\n      <td>1.2</td>\n      <td>9.0</td>\n      <td>24.0</td>\n      <td>4.0</td>\n      <td>62.5</td>\n      <td>0.0</td>\n      <td>Aston Villa</td>\n      <td>38.0</td>\n      <td>2021-05-23</td>\n      <td>GK</td>\n    </tr>\n    <tr>\n      <th>761</th>\n      <td>Edouard Mendy</td>\n      <td>45.0</td>\n      <td>29-083</td>\n      <td>2.0</td>\n      <td>1.0</td>\n      <td>1.0</td>\n      <td>50.0</td>\n      <td>1.1</td>\n      <td>0.0</td>\n      <td>9.0</td>\n      <td>4.0</td>\n      <td>0.0</td>\n      <td>0.0</td>\n      <td>Chelsea</td>\n      <td>38.0</td>\n      <td>2021-05-23</td>\n      <td>GK</td>\n    </tr>\n    <tr>\n      <th>762</th>\n      <td>Kepa Arrizabalaga</td>\n      <td>45.0</td>\n      <td>26-232</td>\n      <td>0.0</td>\n      <td>1.0</td>\n      <td>0.0</td>\n      <td>0.0</td>\n      <td>0.6</td>\n      <td>2.0</td>\n      <td>9.0</td>\n      <td>0.0</td>\n      <td>33.3</td>\n      <td>1.0</td>\n      <td>Chelsea</td>\n      <td>38.0</td>\n      <td>2021-05-23</td>\n      <td>GK</td>\n    </tr>\n    <tr>\n      <th>763</th>\n      <td>Łukasz Fabiański</td>\n      <td>90.0</td>\n      <td>36-035</td>\n      <td>5.0</td>\n      <td>0.0</td>\n      <td>5.0</td>\n      <td>100.0</td>\n      <td>1.0</td>\n      <td>14.0</td>\n      <td>28.0</td>\n      <td>6.0</td>\n      <td>60.7</td>\n      <td>0.0</td>\n      <td>West Ham United</td>\n      <td>38.0</td>\n      <td>2021-05-23</td>\n      <td>GK</td>\n    </tr>\n    <tr>\n      <th>764</th>\n      <td>Alex McCarthy</td>\n      <td>90.0</td>\n      <td>31-171</td>\n      <td>7.0</td>\n      <td>3.0</td>\n      <td>4.0</td>\n      <td>57.1</td>\n      <td>1.8</td>\n      <td>4.0</td>\n      <td>23.0</td>\n      <td>5.0</td>\n      <td>43.5</td>\n      <td>0.0</td>\n      <td>Southampton</td>\n      <td>38.0</td>\n      <td>2021-05-23</td>\n      <td>GK</td>\n    </tr>\n  </tbody>\n</table>\n<p>765 rows × 17 columns</p>\n</div>"
     },
     "execution_count": 97,
     "metadata": {},
     "output_type": "execute_result"
    }
   ],
   "source": [
    "gk_2020"
   ],
   "metadata": {
    "collapsed": false,
    "pycharm": {
     "name": "#%%\n"
    }
   }
  },
  {
   "cell_type": "code",
   "execution_count": 98,
   "outputs": [],
   "source": [
    "#map position to category\n",
    "def get_category(df):\n",
    "    df.loc[df['position'] == 'GK', 'category'] = 'Goalkeeper'\n",
    "    df.loc[df['position'] == 'DF', 'category'] = 'Defender'\n",
    "    df.loc[df['position'] == 'RB', 'category'] = 'Defender'\n",
    "    df.loc[df['position'] == 'LB', 'category'] = 'Defender'\n",
    "    df.loc[df['position'] == 'CB', 'category'] = 'Defender'\n",
    "    df.loc[df['position'] == 'WB', 'category'] = 'Defender'\n",
    "    df.loc[df['position'] == 'FB', 'category'] = 'Defender'\n",
    "    df.loc[df['position'] == 'MF', 'category'] = 'Midfield'\n",
    "    df.loc[df['position'] == 'DM', 'category'] = 'Midfield'\n",
    "    df.loc[df['position'] == 'CM', 'category'] = 'Midfield'\n",
    "    df.loc[df['position'] == 'AM', 'category'] = 'Midfield'\n",
    "    df.loc[df['position'] == 'LM', 'category'] = 'Midfield'\n",
    "    df.loc[df['position'] == 'RM', 'category'] = 'Midfield'\n",
    "    df.loc[df['position'] == 'WM', 'category'] = 'Midfield'\n",
    "    df.loc[df['position'] == 'FW', 'category'] = 'Forward'\n",
    "    df.loc[df['position'] == 'RW', 'category'] = 'Forward'\n",
    "    df.loc[df['position'] == 'LW', 'category'] = 'Forward'\n",
    "    return df\n",
    "\n",
    "\n",
    "pl_2020 = get_category(pl_2020)"
   ],
   "metadata": {
    "collapsed": false,
    "pycharm": {
     "name": "#%%\n"
    }
   }
  },
  {
   "cell_type": "code",
   "execution_count": 56,
   "outputs": [
    {
     "data": {
      "text/plain": "                player         team  matchweek        date  start11\n0          Marek Rodák       Fulham        1.0  2020-09-12     True\n1       Michael Hector       Fulham        1.0  2020-09-12     True\n2           Denis Odoi       Fulham        1.0  2020-09-12     True\n3      Neeskens Kebano       Fulham        1.0  2020-09-12     True\n4          Tom Cairney       Fulham        1.0  2020-09-12     True\n...                ...          ...        ...         ...      ...\n14638  Michael Obafemi  Southampton       38.0  2021-05-23    False\n14639     Nathan Tella  Southampton       38.0  2021-05-23    False\n14640     Theo Walcott  Southampton       38.0  2021-05-23    False\n14641     Dan Nlundulu  Southampton       38.0  2021-05-23    False\n14642       Will Ferry  Southampton       38.0  2021-05-23    False\n\n[14643 rows x 5 columns]",
      "text/html": "<div>\n<style scoped>\n    .dataframe tbody tr th:only-of-type {\n        vertical-align: middle;\n    }\n\n    .dataframe tbody tr th {\n        vertical-align: top;\n    }\n\n    .dataframe thead th {\n        text-align: right;\n    }\n</style>\n<table border=\"1\" class=\"dataframe\">\n  <thead>\n    <tr style=\"text-align: right;\">\n      <th></th>\n      <th>player</th>\n      <th>team</th>\n      <th>matchweek</th>\n      <th>date</th>\n      <th>start11</th>\n    </tr>\n  </thead>\n  <tbody>\n    <tr>\n      <th>0</th>\n      <td>Marek Rodák</td>\n      <td>Fulham</td>\n      <td>1.0</td>\n      <td>2020-09-12</td>\n      <td>True</td>\n    </tr>\n    <tr>\n      <th>1</th>\n      <td>Michael Hector</td>\n      <td>Fulham</td>\n      <td>1.0</td>\n      <td>2020-09-12</td>\n      <td>True</td>\n    </tr>\n    <tr>\n      <th>2</th>\n      <td>Denis Odoi</td>\n      <td>Fulham</td>\n      <td>1.0</td>\n      <td>2020-09-12</td>\n      <td>True</td>\n    </tr>\n    <tr>\n      <th>3</th>\n      <td>Neeskens Kebano</td>\n      <td>Fulham</td>\n      <td>1.0</td>\n      <td>2020-09-12</td>\n      <td>True</td>\n    </tr>\n    <tr>\n      <th>4</th>\n      <td>Tom Cairney</td>\n      <td>Fulham</td>\n      <td>1.0</td>\n      <td>2020-09-12</td>\n      <td>True</td>\n    </tr>\n    <tr>\n      <th>...</th>\n      <td>...</td>\n      <td>...</td>\n      <td>...</td>\n      <td>...</td>\n      <td>...</td>\n    </tr>\n    <tr>\n      <th>14638</th>\n      <td>Michael Obafemi</td>\n      <td>Southampton</td>\n      <td>38.0</td>\n      <td>2021-05-23</td>\n      <td>False</td>\n    </tr>\n    <tr>\n      <th>14639</th>\n      <td>Nathan Tella</td>\n      <td>Southampton</td>\n      <td>38.0</td>\n      <td>2021-05-23</td>\n      <td>False</td>\n    </tr>\n    <tr>\n      <th>14640</th>\n      <td>Theo Walcott</td>\n      <td>Southampton</td>\n      <td>38.0</td>\n      <td>2021-05-23</td>\n      <td>False</td>\n    </tr>\n    <tr>\n      <th>14641</th>\n      <td>Dan Nlundulu</td>\n      <td>Southampton</td>\n      <td>38.0</td>\n      <td>2021-05-23</td>\n      <td>False</td>\n    </tr>\n    <tr>\n      <th>14642</th>\n      <td>Will Ferry</td>\n      <td>Southampton</td>\n      <td>38.0</td>\n      <td>2021-05-23</td>\n      <td>False</td>\n    </tr>\n  </tbody>\n</table>\n<p>14643 rows × 5 columns</p>\n</div>"
     },
     "execution_count": 56,
     "metadata": {},
     "output_type": "execute_result"
    }
   ],
   "source": [
    "def create_csv(df):\n",
    "    df = df.drop_duplicates()\n",
    "    df.reset_index(inplace=True, drop=True)\n",
    "    df.to_csv('PL2020_lineups.csv', index=False)\n",
    "    return df\n",
    "\n",
    "\n",
    "create_csv(lineups_2020)\n"
   ],
   "metadata": {
    "collapsed": false,
    "pycharm": {
     "name": "#%%\n"
    }
   }
  },
  {
   "cell_type": "code",
   "execution_count": 100,
   "outputs": [
    {
     "data": {
      "text/plain": "                player  minutes     age  gk_shots_on_target_against  \\\n0          Marek Rodák     90.0  23-274                         5.0   \n1           Bernd Leno     90.0  28-192                         2.0   \n2       Vicente Guaita     90.0  33-246                         5.0   \n3        Alex McCarthy     90.0  30-284                         3.0   \n4              Alisson     90.0  27-346                         3.0   \n..                 ...      ...     ...                         ...   \n760  Emiliano Martínez     90.0  28-263                         6.0   \n761      Edouard Mendy     45.0  29-083                         2.0   \n762  Kepa Arrizabalaga     45.0  26-232                         0.0   \n763   Łukasz Fabiański     90.0  36-035                         5.0   \n764      Alex McCarthy     90.0  31-171                         7.0   \n\n     gk_goals_against  gk_saves  gk_save_pct  gk_psxg  \\\n0                 3.0       2.0         40.0      2.5   \n1                 0.0       2.0        100.0      0.0   \n2                 0.0       5.0        100.0      0.8   \n3                 1.0       2.0         66.7      0.7   \n4                 3.0       0.0          0.0      2.1   \n..                ...       ...          ...      ...   \n760               1.0       5.0         83.3      1.2   \n761               1.0       1.0         50.0      1.1   \n762               1.0       0.0          0.0      0.6   \n763               0.0       5.0        100.0      1.0   \n764               3.0       4.0         57.1      1.8   \n\n     gk_passes_completed_launched  gk_passes  gk_passes_throws  \\\n0                             6.0       22.0               3.0   \n1                             1.0       28.0               2.0   \n2                             6.0       20.0               0.0   \n3                             8.0       44.0               8.0   \n4                             2.0       26.0               5.0   \n..                            ...        ...               ...   \n760                           9.0       24.0               4.0   \n761                           0.0        9.0               4.0   \n762                           2.0        9.0               0.0   \n763                          14.0       28.0               6.0   \n764                           4.0       23.0               5.0   \n\n     gk_pct_passes_launched  gk_def_actions_outside_pen_area             Team  \\\n0                      40.9                              1.0           Fulham   \n1                       0.0                              1.0          Arsenal   \n2                      95.0                              0.0   Crystal Palace   \n3                      38.6                              4.0      Southampton   \n4                      34.6                              0.0        Liverpool   \n..                      ...                              ...              ...   \n760                    62.5                              0.0      Aston Villa   \n761                     0.0                              0.0          Chelsea   \n762                    33.3                              1.0          Chelsea   \n763                    60.7                              0.0  West Ham United   \n764                    43.5                              0.0      Southampton   \n\n     matchweek        date position  \n0          1.0  2020-09-12       GK  \n1          1.0  2020-09-12       GK  \n2          1.0  2020-09-12       GK  \n3          1.0  2020-09-12       GK  \n4          1.0  2020-09-12       GK  \n..         ...         ...      ...  \n760       38.0  2021-05-23       GK  \n761       38.0  2021-05-23       GK  \n762       38.0  2021-05-23       GK  \n763       38.0  2021-05-23       GK  \n764       38.0  2021-05-23       GK  \n\n[765 rows x 17 columns]",
      "text/html": "<div>\n<style scoped>\n    .dataframe tbody tr th:only-of-type {\n        vertical-align: middle;\n    }\n\n    .dataframe tbody tr th {\n        vertical-align: top;\n    }\n\n    .dataframe thead th {\n        text-align: right;\n    }\n</style>\n<table border=\"1\" class=\"dataframe\">\n  <thead>\n    <tr style=\"text-align: right;\">\n      <th></th>\n      <th>player</th>\n      <th>minutes</th>\n      <th>age</th>\n      <th>gk_shots_on_target_against</th>\n      <th>gk_goals_against</th>\n      <th>gk_saves</th>\n      <th>gk_save_pct</th>\n      <th>gk_psxg</th>\n      <th>gk_passes_completed_launched</th>\n      <th>gk_passes</th>\n      <th>gk_passes_throws</th>\n      <th>gk_pct_passes_launched</th>\n      <th>gk_def_actions_outside_pen_area</th>\n      <th>Team</th>\n      <th>matchweek</th>\n      <th>date</th>\n      <th>position</th>\n    </tr>\n  </thead>\n  <tbody>\n    <tr>\n      <th>0</th>\n      <td>Marek Rodák</td>\n      <td>90.0</td>\n      <td>23-274</td>\n      <td>5.0</td>\n      <td>3.0</td>\n      <td>2.0</td>\n      <td>40.0</td>\n      <td>2.5</td>\n      <td>6.0</td>\n      <td>22.0</td>\n      <td>3.0</td>\n      <td>40.9</td>\n      <td>1.0</td>\n      <td>Fulham</td>\n      <td>1.0</td>\n      <td>2020-09-12</td>\n      <td>GK</td>\n    </tr>\n    <tr>\n      <th>1</th>\n      <td>Bernd Leno</td>\n      <td>90.0</td>\n      <td>28-192</td>\n      <td>2.0</td>\n      <td>0.0</td>\n      <td>2.0</td>\n      <td>100.0</td>\n      <td>0.0</td>\n      <td>1.0</td>\n      <td>28.0</td>\n      <td>2.0</td>\n      <td>0.0</td>\n      <td>1.0</td>\n      <td>Arsenal</td>\n      <td>1.0</td>\n      <td>2020-09-12</td>\n      <td>GK</td>\n    </tr>\n    <tr>\n      <th>2</th>\n      <td>Vicente Guaita</td>\n      <td>90.0</td>\n      <td>33-246</td>\n      <td>5.0</td>\n      <td>0.0</td>\n      <td>5.0</td>\n      <td>100.0</td>\n      <td>0.8</td>\n      <td>6.0</td>\n      <td>20.0</td>\n      <td>0.0</td>\n      <td>95.0</td>\n      <td>0.0</td>\n      <td>Crystal Palace</td>\n      <td>1.0</td>\n      <td>2020-09-12</td>\n      <td>GK</td>\n    </tr>\n    <tr>\n      <th>3</th>\n      <td>Alex McCarthy</td>\n      <td>90.0</td>\n      <td>30-284</td>\n      <td>3.0</td>\n      <td>1.0</td>\n      <td>2.0</td>\n      <td>66.7</td>\n      <td>0.7</td>\n      <td>8.0</td>\n      <td>44.0</td>\n      <td>8.0</td>\n      <td>38.6</td>\n      <td>4.0</td>\n      <td>Southampton</td>\n      <td>1.0</td>\n      <td>2020-09-12</td>\n      <td>GK</td>\n    </tr>\n    <tr>\n      <th>4</th>\n      <td>Alisson</td>\n      <td>90.0</td>\n      <td>27-346</td>\n      <td>3.0</td>\n      <td>3.0</td>\n      <td>0.0</td>\n      <td>0.0</td>\n      <td>2.1</td>\n      <td>2.0</td>\n      <td>26.0</td>\n      <td>5.0</td>\n      <td>34.6</td>\n      <td>0.0</td>\n      <td>Liverpool</td>\n      <td>1.0</td>\n      <td>2020-09-12</td>\n      <td>GK</td>\n    </tr>\n    <tr>\n      <th>...</th>\n      <td>...</td>\n      <td>...</td>\n      <td>...</td>\n      <td>...</td>\n      <td>...</td>\n      <td>...</td>\n      <td>...</td>\n      <td>...</td>\n      <td>...</td>\n      <td>...</td>\n      <td>...</td>\n      <td>...</td>\n      <td>...</td>\n      <td>...</td>\n      <td>...</td>\n      <td>...</td>\n      <td>...</td>\n    </tr>\n    <tr>\n      <th>760</th>\n      <td>Emiliano Martínez</td>\n      <td>90.0</td>\n      <td>28-263</td>\n      <td>6.0</td>\n      <td>1.0</td>\n      <td>5.0</td>\n      <td>83.3</td>\n      <td>1.2</td>\n      <td>9.0</td>\n      <td>24.0</td>\n      <td>4.0</td>\n      <td>62.5</td>\n      <td>0.0</td>\n      <td>Aston Villa</td>\n      <td>38.0</td>\n      <td>2021-05-23</td>\n      <td>GK</td>\n    </tr>\n    <tr>\n      <th>761</th>\n      <td>Edouard Mendy</td>\n      <td>45.0</td>\n      <td>29-083</td>\n      <td>2.0</td>\n      <td>1.0</td>\n      <td>1.0</td>\n      <td>50.0</td>\n      <td>1.1</td>\n      <td>0.0</td>\n      <td>9.0</td>\n      <td>4.0</td>\n      <td>0.0</td>\n      <td>0.0</td>\n      <td>Chelsea</td>\n      <td>38.0</td>\n      <td>2021-05-23</td>\n      <td>GK</td>\n    </tr>\n    <tr>\n      <th>762</th>\n      <td>Kepa Arrizabalaga</td>\n      <td>45.0</td>\n      <td>26-232</td>\n      <td>0.0</td>\n      <td>1.0</td>\n      <td>0.0</td>\n      <td>0.0</td>\n      <td>0.6</td>\n      <td>2.0</td>\n      <td>9.0</td>\n      <td>0.0</td>\n      <td>33.3</td>\n      <td>1.0</td>\n      <td>Chelsea</td>\n      <td>38.0</td>\n      <td>2021-05-23</td>\n      <td>GK</td>\n    </tr>\n    <tr>\n      <th>763</th>\n      <td>Łukasz Fabiański</td>\n      <td>90.0</td>\n      <td>36-035</td>\n      <td>5.0</td>\n      <td>0.0</td>\n      <td>5.0</td>\n      <td>100.0</td>\n      <td>1.0</td>\n      <td>14.0</td>\n      <td>28.0</td>\n      <td>6.0</td>\n      <td>60.7</td>\n      <td>0.0</td>\n      <td>West Ham United</td>\n      <td>38.0</td>\n      <td>2021-05-23</td>\n      <td>GK</td>\n    </tr>\n    <tr>\n      <th>764</th>\n      <td>Alex McCarthy</td>\n      <td>90.0</td>\n      <td>31-171</td>\n      <td>7.0</td>\n      <td>3.0</td>\n      <td>4.0</td>\n      <td>57.1</td>\n      <td>1.8</td>\n      <td>4.0</td>\n      <td>23.0</td>\n      <td>5.0</td>\n      <td>43.5</td>\n      <td>0.0</td>\n      <td>Southampton</td>\n      <td>38.0</td>\n      <td>2021-05-23</td>\n      <td>GK</td>\n    </tr>\n  </tbody>\n</table>\n<p>765 rows × 17 columns</p>\n</div>"
     },
     "execution_count": 100,
     "metadata": {},
     "output_type": "execute_result"
    }
   ],
   "source": [
    "def create_csv(df):\n",
    "    df = df.drop_duplicates()\n",
    "    df.reset_index(inplace=True, drop=True)\n",
    "    df.to_csv('PL2020_keepers.csv', index=False)\n",
    "    return df\n",
    "\n",
    "\n",
    "create_csv(gk_2020)\n"
   ],
   "metadata": {
    "collapsed": false,
    "pycharm": {
     "name": "#%%\n"
    }
   }
  },
  {
   "cell_type": "code",
   "execution_count": 129,
   "outputs": [
    {
     "data": {
      "text/plain": "player\nIllan Meslier          130.0\nDavid de Gea           122.0\nJosé Sá                119.0\nKasper Schmeichel      113.0\nJordan Pickford        107.0\nNick Pope               98.0\nRobert Sánchez          96.0\nŁukasz Fabiański        95.0\nTim Krul                93.0\nHugo Lloris             90.0\nEmiliano Martínez       84.0\nVicente Guaita          79.0\nAaron Ramsdale          77.0\nDavid Raya              68.0\nEdouard Mendy           67.0\nFraser Forster          67.0\nMartin Dúbravka         66.0\nAlisson                 65.0\nBen Foster              56.0\nEderson                 54.0\nÁlvaro Fernández        46.0\nDaniel Bachmann         39.0\nAlex McCarthy           38.0\nAngus Gunn              26.0\nKarl Darlow             25.0\nKepa Arrizabalaga       11.0\nJack Butland            11.0\nBernd Leno               9.0\nFreddie Woodman          9.0\nAsmir Begović            7.0\nWayne Hennessey          7.0\nWilly Caballero          6.0\nCaoimhín Kelleher        5.0\nKristoffer Klaesson      4.0\nJason Steele             3.0\nJonas Lössl              2.0\nAlphonse Areola          2.0\nZack Steffen             2.0\nJed Steer                1.0\nName: saves, dtype: float64"
     },
     "execution_count": 129,
     "metadata": {},
     "output_type": "execute_result"
    }
   ],
   "source": [
    "#gk_2021[['player', 'matchweek']]\n",
    "\n",
    "test_group = gk_2021.groupby(['player']).sum()['saves']\n",
    "gk_strength = test_group.sort_values(ascending=False)\n",
    "gk_strength"
   ],
   "metadata": {
    "collapsed": false,
    "pycharm": {
     "name": "#%%\n"
    }
   }
  },
  {
   "cell_type": "code",
   "execution_count": 133,
   "outputs": [
    {
     "data": {
      "text/plain": "         player        matchweek\n1    Bernd Leno    (Matchweek 1)\n36   Bernd Leno    (Matchweek 2)\n41   Bernd Leno    (Matchweek 3)\n573  Bernd Leno   (Matchweek 30)",
      "text/html": "<div>\n<style scoped>\n    .dataframe tbody tr th:only-of-type {\n        vertical-align: middle;\n    }\n\n    .dataframe tbody tr th {\n        vertical-align: top;\n    }\n\n    .dataframe thead th {\n        text-align: right;\n    }\n</style>\n<table border=\"1\" class=\"dataframe\">\n  <thead>\n    <tr style=\"text-align: right;\">\n      <th></th>\n      <th>player</th>\n      <th>matchweek</th>\n    </tr>\n  </thead>\n  <tbody>\n    <tr>\n      <th>1</th>\n      <td>Bernd Leno</td>\n      <td>(Matchweek 1)</td>\n    </tr>\n    <tr>\n      <th>36</th>\n      <td>Bernd Leno</td>\n      <td>(Matchweek 2)</td>\n    </tr>\n    <tr>\n      <th>41</th>\n      <td>Bernd Leno</td>\n      <td>(Matchweek 3)</td>\n    </tr>\n    <tr>\n      <th>573</th>\n      <td>Bernd Leno</td>\n      <td>(Matchweek 30)</td>\n    </tr>\n  </tbody>\n</table>\n</div>"
     },
     "execution_count": 133,
     "metadata": {},
     "output_type": "execute_result"
    }
   ],
   "source": [
    "rslt_df = gk_2021[gk_2021['player'] == 'Bernd Leno']\n",
    "rslt_df[['player', 'matchweek']]"
   ],
   "metadata": {
    "collapsed": false,
    "pycharm": {
     "name": "#%%\n"
    }
   }
  }
 ],
 "metadata": {
  "kernelspec": {
   "display_name": "Python 3",
   "language": "python",
   "name": "python3"
  },
  "language_info": {
   "codemirror_mode": {
    "name": "ipython",
    "version": 2
   },
   "file_extension": ".py",
   "mimetype": "text/x-python",
   "name": "python",
   "nbconvert_exporter": "python",
   "pygments_lexer": "ipython2",
   "version": "2.7.6"
  }
 },
 "nbformat": 4,
 "nbformat_minor": 0
}