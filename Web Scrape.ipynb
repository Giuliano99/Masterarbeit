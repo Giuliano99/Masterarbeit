{
 "cells": [
  {
   "cell_type": "code",
   "execution_count": 83,
   "outputs": [],
   "source": [
    "import requests\n",
    "from bs4 import BeautifulSoup\n",
    "import pandas as pd\n",
    "import numpy as np\n",
    "import re\n",
    "import sys, getopt\n",
    "import csv\n",
    "import time"
   ],
   "metadata": {
    "collapsed": false,
    "pycharm": {
     "name": "#%%\n"
    }
   }
  },
  {
   "cell_type": "code",
   "execution_count": 84,
   "outputs": [],
   "source": [
    "def get_links(url):\n",
    "    res = requests.get(url)\n",
    "    ## The next two lines get around the issue with comments breaking the parsing.\n",
    "    comm = re.compile(\"<!--|-->\")\n",
    "    soup = BeautifulSoup(comm.sub(\"\", res.text), 'lxml')\n",
    "    all_tables = soup.findAll(\"tbody\")\n",
    "    test = soup.find(id='div_sched_2020-2021_9_1')\n",
    "    x = \"score\"\n",
    "    test = test.findAll(\"td\", {\"data-stat\": x})\n",
    "    link_list = []\n",
    "    for i in test:\n",
    "        i = i.find(\"a\")\n",
    "        if i is not None:\n",
    "         link = i['href']\n",
    "         link_list.append(link)\n",
    "         #print(link)\n",
    "    return link_list"
   ],
   "metadata": {
    "collapsed": false,
    "pycharm": {
     "name": "#%%\n"
    }
   }
  },
  {
   "cell_type": "code",
   "execution_count": 85,
   "outputs": [],
   "source": [
    "#@title\n",
    "\n",
    "#stats matchday\n",
    "statsm = [\"player\", \"shirtnumber\", \"nationality\", \"position\", \"age\", \"minutes\", \"goals\", \"assists\", \"touches\", \"sca\",\n",
    "          \"gca\", 'pens_made', 'shots_total', 'shots_on_target', 'pressures', 'tackles', 'interceptions', 'blocks', 'xg',\n",
    "          'xa', 'passes', 'passes_pct', 'progressive_passes', 'progressive_carries', 'dribbles_completed', 'dribbles']\n",
    "\n",
    "#stats keeper matchday\n",
    "statskeepers = ['player', 'minutes','age' , 'gk_shots_on_target_against', 'gk_goals_against', 'gk_saves', 'gk_save_pct', 'gk_psxg', 'gk_passes_completed_launched', 'gk_passes', 'gk_passes_throws', 'gk_pct_passes_launched', 'gk_def_actions_outside_pen_area' ]\n",
    "\n",
    "keepers = [\"player\",\"nationality\",\"position\",\"squad\",\"age\",\"birth_year\",\"games_gk\",\"games_starts_gk\",\"minutes_gk\",\"goals_against_gk\",\"goals_against_per90_gk\",\"shots_on_target_against\",\"saves\",\"save_pct\",\"wins_gk\",\"draws_gk\",\"losses_gk\",\"clean_sheets\",\"clean_sheets_pct\",\"pens_att_gk\",\"pens_allowed\",\"pens_saved\",\"pens_missed_gk\"]\n",
    "keepers3 = [\"players_used\",\"games_gk\",\"games_starts_gk\",\"minutes_gk\",\"goals_against_gk\",\"goals_against_per90_gk\",\"shots_on_target_against\",\"saves\",\"save_pct\",\"wins_gk\",\"draws_gk\",\"losses_gk\",\"clean_sheets\",\"clean_sheets_pct\",\"pens_att_gk\",\"pens_allowed\",\"pens_saved\",\"pens_missed_gk\"]\n",
    "#advance goalkeeping(keepersadv)\n",
    "\n",
    "\n",
    "#Functions to get the data in a dataframe using BeautifulSoup\n",
    "\n",
    "def get_tables_m(url):\n",
    "    res = requests.get(url)\n",
    "    ## The next two lines get around the issue with comments breaking the parsing.\n",
    "    comm = re.compile(\"<!--|-->\")\n",
    "    soup = BeautifulSoup(comm.sub(\"\", res.text), 'lxml')\n",
    "    all_tables = soup.findAll(\"tbody\")\n",
    "    matchweek = soup.find(id='content').find(\"div\").contents[1]\n",
    "    date = soup.find(\"div\", {\"class\": \"scorebox_meta\"}).find(\"div\").contents[0].contents[0]\n",
    "    date = date['href']\n",
    "    date = date[12:22]\n",
    "    #date = soup.find(\"div\", {\"class\": \"scorebox_meta\"}).soup.find(\"span\", {\"class\": \"venuetime\"})\n",
    "\n",
    "\n",
    "    team_H = soup.findAll(\"strong\")[2].find(\"a\").contents[0]\n",
    "    if soup.findAll(\"strong\")[5].find(\"a\") is None:\n",
    "        team_A = soup.findAll(\"strong\")[4].find(\"a\").contents[0]\n",
    "    else:\n",
    "        team_A = soup.findAll(\"strong\")[5].find(\"a\").contents[0]\n",
    "\n",
    "    team1_table = all_tables[0]\n",
    "    team2_table = all_tables[7]\n",
    "    gk1_table = all_tables[6]\n",
    "    gk2_table = all_tables[13]\n",
    "\n",
    "\n",
    "    #gk1_table.append(gk2_table)\n",
    "    #team1_table.append(team2_table)\n",
    "\n",
    "    return team1_table, team2_table, gk1_table, gk2_table, matchweek, date ,team_H, team_A\n",
    "\n",
    "\n",
    "def get_frame(features, player_table):\n",
    "    pre_df_player = dict()\n",
    "    features_wanted_player = features\n",
    "    rows_player = player_table.find_all('tr')\n",
    "    rows_player\n",
    "    #print(rows_player)\n",
    "    for row in rows_player:\n",
    "        #print(row)\n",
    "        if (row.find('th', {\"scope\": \"row\"}) != None):\n",
    "\n",
    "            for f in features_wanted_player:\n",
    "                #print(f)\n",
    "                cell = row.find(\"td\", {\"data-stat\": f})\n",
    "                #print(cell)\n",
    "                if cell is None:\n",
    "                    text = row.find('th', {\"scope\": \"row\"}).find('a').contents[0]\n",
    "                    if f in pre_df_player:\n",
    "                        pre_df_player[f].append(text)\n",
    "                    else:\n",
    "                        pre_df_player[f] = [text]\n",
    "                #print(cell)\n",
    "                else:\n",
    "                    a = cell.text.strip().encode()\n",
    "                    text = a.decode(\"utf-8\")\n",
    "                    #print(text)\n",
    "                    if (text == ''):\n",
    "                        text = '0'\n",
    "                    if ((f != 'player') & (f != 'nationality') & (f != 'position') & (f != 'squad') & (f != 'age') & (\n",
    "                            f != 'birth_year')):\n",
    "                        text = float(text.replace(',', ''))\n",
    "                    if f in pre_df_player:\n",
    "                        pre_df_player[f].append(text)\n",
    "                    else:\n",
    "                        pre_df_player[f] = [text]\n",
    "    df_player = pd.DataFrame.from_dict(pre_df_player)\n",
    "    return df_player\n",
    "\n",
    "\n",
    "\n",
    "\n",
    "def frame_for_category(category, top, end, features):\n",
    "    url = (top + category + end)\n",
    "    print(url)\n",
    "    player_table_H, player_table_A, gk_table_H, gk_table_A, matchweek, date ,team_H, team_A = get_tables_m(url)\n",
    "    #print(player_table)\n",
    "    df_player_H = get_frame(features, player_table_H)\n",
    "    df_player_H['Team'] = team_H\n",
    "    df_player_A = get_frame(features, player_table_A)\n",
    "    df_player_A['Team'] = team_A\n",
    "    df_player = pd.concat([df_player_H, df_player_A])\n",
    "    df_player['matchweek'] = matchweek\n",
    "    df_player['date'] = date\n",
    "    df_gk_H = get_frame(statskeepers, gk_table_H)\n",
    "    df_gk_H['Team'] = team_H\n",
    "    df_gk_A = get_frame(statskeepers, gk_table_A)\n",
    "    df_gk_A['Team'] = team_A\n",
    "    df_gk = pd.concat([df_gk_H, df_gk_A])\n",
    "    df_gk['matchweek'] = matchweek\n",
    "    df_gk['date'] = date\n",
    "    return df_player, df_gk\n",
    "\n",
    "\n",
    "\n",
    "\n",
    "def get_matchday_data(top, end, linklist):\n",
    "    pl, gk = frame_for_category('/en/matches/bf52349b', top, end, statsm)\n",
    "    #pl1, gk1 = frame_for_category('/en/matches/3adf2aa7', top, end, statsm)\n",
    "\n",
    "    for i in linklist:\n",
    "        tmppl, tmpgk = frame_for_category(i, top, end, statsm)\n",
    "        pl = pd.concat([pl, tmppl], axis=0)\n",
    "        gk = pd.concat([gk, tmpgk], axis=0)\n",
    "        time.sleep(5)\n",
    "\n",
    "    return pl, gk\n",
    "\n",
    "#pl, gk = frame_for_category('/en/matches/51fb894e', 'https://fbref.com/', '', statsm)\n",
    "#gk"
   ],
   "metadata": {
    "collapsed": false,
    "pycharm": {
     "name": "#%%\n"
    }
   }
  },
  {
   "cell_type": "code",
   "execution_count": 86,
   "outputs": [],
   "source": [
    "link_list = get_links('https://fbref.com/en/comps/9/10728/schedule/2020-2021-Premier-League-Scores-and-Fixtures')\n",
    "\n",
    "# split list in 4 parts to not bring down website\n",
    "list1 = []\n",
    "list2 = []\n",
    "list3 = []\n",
    "list4 = []\n",
    "count = 0\n",
    "\n",
    "for i in link_list:\n",
    "    if count < 100:\n",
    "       list1.append(i)\n",
    "    elif count< 200:\n",
    "        list2.append(i)\n",
    "    elif count< 300:\n",
    "        list3.append(i)\n",
    "    else:\n",
    "        list4.append(i)\n",
    "    count = count +1"
   ],
   "metadata": {
    "collapsed": false,
    "pycharm": {
     "name": "#%%\n"
    }
   }
  },
  {
   "cell_type": "code",
   "execution_count": 92,
   "outputs": [
    {
     "name": "stdout",
     "output_type": "stream",
     "text": [
      "https://fbref.com//en/matches/bf52349b\n",
      "https://fbref.com//en/matches/be1ee647/Fulham-Wolverhampton-Wanderers-April-9-2021-Premier-League\n",
      "https://fbref.com//en/matches/ad969519/Manchester-City-Leeds-United-April-10-2021-Premier-League\n",
      "https://fbref.com//en/matches/20bdebdc/Liverpool-Aston-Villa-April-10-2021-Premier-League\n",
      "https://fbref.com//en/matches/54b07679/Crystal-Palace-Chelsea-April-10-2021-Premier-League\n",
      "https://fbref.com//en/matches/daebaaa1/Burnley-Newcastle-United-April-11-2021-Premier-League\n",
      "https://fbref.com//en/matches/06b2801a/West-Ham-United-Leicester-City-April-11-2021-Premier-League\n",
      "https://fbref.com//en/matches/a51d567c/Tottenham-Hotspur-Manchester-United-April-11-2021-Premier-League\n",
      "https://fbref.com//en/matches/34395b54/Sheffield-United-Arsenal-April-11-2021-Premier-League\n",
      "https://fbref.com//en/matches/3dee3681/West-Bromwich-Albion-Southampton-April-12-2021-Premier-League\n",
      "https://fbref.com//en/matches/ac6ac8f8/Brighton-and-Hove-Albion-Everton-April-12-2021-Premier-League\n",
      "https://fbref.com//en/matches/ebeb462d/Everton-Tottenham-Hotspur-April-16-2021-Premier-League\n",
      "https://fbref.com//en/matches/25a3b695/Newcastle-United-West-Ham-United-April-17-2021-Premier-League\n",
      "https://fbref.com//en/matches/07745ff2/Wolverhampton-Wanderers-Sheffield-United-April-17-2021-Premier-League\n",
      "https://fbref.com//en/matches/a19ff865/Arsenal-Fulham-April-18-2021-Premier-League\n",
      "https://fbref.com//en/matches/3e00561f/Manchester-United-Burnley-April-18-2021-Premier-League\n",
      "https://fbref.com//en/matches/6c0666e6/Leeds-United-Liverpool-April-19-2021-Premier-League\n",
      "https://fbref.com//en/matches/07b4e58b/Chelsea-Brighton-and-Hove-Albion-April-20-2021-Premier-League\n",
      "https://fbref.com//en/matches/81a7befa/Tottenham-Hotspur-Southampton-April-21-2021-Premier-League\n",
      "https://fbref.com//en/matches/ac46a079/Aston-Villa-Manchester-City-April-21-2021-Premier-League\n",
      "https://fbref.com//en/matches/be6edfdf/Leicester-City-West-Bromwich-Albion-April-22-2021-Premier-League\n",
      "https://fbref.com//en/matches/30f36320/Arsenal-Everton-April-23-2021-Premier-League\n",
      "https://fbref.com//en/matches/81e8aaf4/Liverpool-Newcastle-United-April-24-2021-Premier-League\n",
      "https://fbref.com//en/matches/ea1579bb/West-Ham-United-Chelsea-April-24-2021-Premier-League\n",
      "https://fbref.com//en/matches/1ef0a8f2/Sheffield-United-Brighton-and-Hove-Albion-April-24-2021-Premier-League\n",
      "https://fbref.com//en/matches/5656770f/Wolverhampton-Wanderers-Burnley-April-25-2021-Premier-League\n",
      "https://fbref.com//en/matches/8422804d/Leeds-United-Manchester-United-April-25-2021-Premier-League\n",
      "https://fbref.com//en/matches/2ab535fa/Aston-Villa-West-Bromwich-Albion-April-25-2021-Premier-League\n",
      "https://fbref.com//en/matches/b30b8887/Leicester-City-Crystal-Palace-April-26-2021-Premier-League\n",
      "https://fbref.com//en/matches/c0d4f879/Southampton-Leicester-City-April-30-2021-Premier-League\n",
      "https://fbref.com//en/matches/bf22075a/Crystal-Palace-Manchester-City-May-1-2021-Premier-League\n",
      "https://fbref.com//en/matches/1e2ba709/Brighton-and-Hove-Albion-Leeds-United-May-1-2021-Premier-League\n",
      "https://fbref.com//en/matches/44d49bd5/Chelsea-Fulham-May-1-2021-Premier-League\n",
      "https://fbref.com//en/matches/2452619d/Everton-Aston-Villa-May-1-2021-Premier-League\n",
      "https://fbref.com//en/matches/af2c27de/Newcastle-United-Arsenal-May-2-2021-Premier-League\n",
      "https://fbref.com//en/matches/8b2e31ef/Tottenham-Hotspur-Sheffield-United-May-2-2021-Premier-League\n",
      "https://fbref.com//en/matches/378a8a95/West-Bromwich-Albion-Wolverhampton-Wanderers-May-3-2021-Premier-League\n",
      "https://fbref.com//en/matches/a89e62a7/Burnley-West-Ham-United-May-3-2021-Premier-League\n",
      "https://fbref.com//en/matches/d93b0c17/Leicester-City-Newcastle-United-May-7-2021-Premier-League\n",
      "https://fbref.com//en/matches/4eecc9bb/Leeds-United-Tottenham-Hotspur-May-8-2021-Premier-League\n",
      "https://fbref.com//en/matches/02c409c1/Sheffield-United-Crystal-Palace-May-8-2021-Premier-League\n",
      "https://fbref.com//en/matches/b657d658/Manchester-City-Chelsea-May-8-2021-Premier-League\n",
      "https://fbref.com//en/matches/e5923f92/Liverpool-Southampton-May-8-2021-Premier-League\n",
      "https://fbref.com//en/matches/ad903480/Wolverhampton-Wanderers-Brighton-and-Hove-Albion-May-9-2021-Premier-League\n",
      "https://fbref.com//en/matches/c80d17ca/Aston-Villa-Manchester-United-May-9-2021-Premier-League\n",
      "https://fbref.com//en/matches/57632a35/West-Ham-United-Everton-May-9-2021-Premier-League\n",
      "https://fbref.com//en/matches/49369ed5/Arsenal-West-Bromwich-Albion-May-9-2021-Premier-League\n",
      "https://fbref.com//en/matches/430d879c/Fulham-Burnley-May-10-2021-Premier-League\n",
      "https://fbref.com//en/matches/855994bf/Manchester-United-Leicester-City-May-11-2021-Premier-League\n",
      "https://fbref.com//en/matches/5e4ec091/Southampton-Crystal-Palace-May-11-2021-Premier-League\n",
      "https://fbref.com//en/matches/51632a55/North-West-London-Derby-Chelsea-Arsenal-May-12-2021-Premier-League\n",
      "https://fbref.com//en/matches/b5b24fd8/Aston-Villa-Everton-May-13-2021-Premier-League\n",
      "https://fbref.com//en/matches/9f0275a4/North-West-Derby-Manchester-United-Liverpool-May-13-2021-Premier-League\n",
      "https://fbref.com//en/matches/27601c16/Newcastle-United-Manchester-City-May-14-2021-Premier-League\n",
      "https://fbref.com//en/matches/18d42916/Burnley-Leeds-United-May-15-2021-Premier-League\n",
      "https://fbref.com//en/matches/34739ed7/Southampton-Fulham-May-15-2021-Premier-League\n",
      "https://fbref.com//en/matches/1a1095c2/Brighton-and-Hove-Albion-West-Ham-United-May-15-2021-Premier-League\n",
      "https://fbref.com//en/matches/7b21d5b9/Crystal-Palace-Aston-Villa-May-16-2021-Premier-League\n",
      "https://fbref.com//en/matches/9059c960/Tottenham-Hotspur-Wolverhampton-Wanderers-May-16-2021-Premier-League\n",
      "https://fbref.com//en/matches/6a834f6e/West-Bromwich-Albion-Liverpool-May-16-2021-Premier-League\n",
      "https://fbref.com//en/matches/707d5282/Everton-Sheffield-United-May-16-2021-Premier-League\n",
      "https://fbref.com//en/matches/d8018048/Manchester-United-Fulham-May-18-2021-Premier-League\n",
      "https://fbref.com//en/matches/de4e566f/Southampton-Leeds-United-May-18-2021-Premier-League\n",
      "https://fbref.com//en/matches/3b1cd656/Brighton-and-Hove-Albion-Manchester-City-May-18-2021-Premier-League\n",
      "https://fbref.com//en/matches/509c9927/Chelsea-Leicester-City-May-18-2021-Premier-League\n",
      "https://fbref.com//en/matches/d4273555/Tottenham-Hotspur-Aston-Villa-May-19-2021-Premier-League\n",
      "https://fbref.com//en/matches/eb7bd01f/Everton-Wolverhampton-Wanderers-May-19-2021-Premier-League\n",
      "https://fbref.com//en/matches/62adcd41/Newcastle-United-Sheffield-United-May-19-2021-Premier-League\n",
      "https://fbref.com//en/matches/624e6758/Crystal-Palace-Arsenal-May-19-2021-Premier-League\n",
      "https://fbref.com//en/matches/33d72496/Burnley-Liverpool-May-19-2021-Premier-League\n",
      "https://fbref.com//en/matches/88927a77/West-Bromwich-Albion-West-Ham-United-May-19-2021-Premier-League\n",
      "https://fbref.com//en/matches/0d04cd74/Leicester-City-Tottenham-Hotspur-May-23-2021-Premier-League\n",
      "https://fbref.com//en/matches/12d3970f/Manchester-City-Everton-May-23-2021-Premier-League\n",
      "https://fbref.com//en/matches/c2fc07f0/Liverpool-Crystal-Palace-May-23-2021-Premier-League\n",
      "https://fbref.com//en/matches/2c07a228/Sheffield-United-Burnley-May-23-2021-Premier-League\n",
      "https://fbref.com//en/matches/2c081c94/Wolverhampton-Wanderers-Manchester-United-May-23-2021-Premier-League\n",
      "https://fbref.com//en/matches/9f6c52f8/Arsenal-Brighton-and-Hove-Albion-May-23-2021-Premier-League\n",
      "https://fbref.com//en/matches/9ade2b5d/Leeds-United-West-Bromwich-Albion-May-23-2021-Premier-League\n",
      "https://fbref.com//en/matches/f966eee0/Fulham-Newcastle-United-May-23-2021-Premier-League\n",
      "https://fbref.com//en/matches/0143966a/Aston-Villa-Chelsea-May-23-2021-Premier-League\n",
      "https://fbref.com//en/matches/50ec33b2/West-Ham-United-Southampton-May-23-2021-Premier-League\n"
     ]
    }
   ],
   "source": [
    "\n",
    "df_1, gk_1 = get_matchday_data('https://fbref.com/', '', list1 )\n",
    "df_2, gk_2 = get_matchday_data('https://fbref.com/', '', list2 )\n",
    "df_3, gk_3 = get_matchday_data('https://fbref.com/', '', list3 )\n",
    "df_4, gk_4 = get_matchday_data('https://fbref.com/', '', list4 )\n",
    "\n",
    "#df_test, gk_test = get_matchday_data('https://fbref.com/', '', link_list )"
   ],
   "metadata": {
    "collapsed": false,
    "pycharm": {
     "name": "#%%\n"
    }
   }
  },
  {
   "cell_type": "code",
   "execution_count": 102,
   "outputs": [
    {
     "data": {
      "text/plain": "                        player  shirtnumber nationality position     age  \\\n0             Aboubakar Kamara         47.0      mr MTN       FW  25-189   \n1          Aleksandar Mitrović          9.0      rs SRB       FW  25-362   \n2               Ivan Cavaleiro         17.0      pt POR       LW  26-330   \n3              Neeskens Kebano          7.0      cd COD       RW  28-186   \n4   Andre-Frank Zambo Anguissa         29.0      cm CMR       RW  24-301   \n..                         ...          ...         ...      ...     ...   \n9             Aboubakar Kamara         47.0      mr MTN       FW  25-273   \n10            Tosin Adarabioyo         16.0     eng ENG       CB  23-072   \n11            Joachim Andersen          5.0      dk DEN       CB  24-188   \n12                    Ola Aina         34.0      ng NGA       CB  24-058   \n13             Alphonse Areola          1.0      fr FRA       GK  27-282   \n\n    minutes  goals  assists  touches  sca  ...   xa  passes  passes_pct  \\\n0      62.0    0.0      0.0     26.0  0.0  ...  0.0    16.0        87.5   \n1      28.0    0.0      0.0      7.0  0.0  ...  0.0     5.0        60.0   \n2      90.0    0.0      0.0     41.0  3.0  ...  0.1    35.0        80.0   \n3      62.0    0.0      0.0     30.0  1.0  ...  0.0    23.0        82.6   \n4      28.0    0.0      0.0     23.0  1.0  ...  0.0    17.0        94.1   \n..      ...    ...      ...      ...  ...  ...  ...     ...         ...   \n9      19.0    0.0      0.0      3.0  0.0  ...  0.0     1.0       100.0   \n10     90.0    0.0      0.0     46.0  0.0  ...  0.0    31.0        83.9   \n11     90.0    0.0      0.0     55.0  0.0  ...  0.0    45.0        80.0   \n12     90.0    0.0      0.0     41.0  0.0  ...  0.0    37.0        67.6   \n13     90.0    0.0      0.0     37.0  0.0  ...  0.0    32.0        68.8   \n\n    progressive_passes  progressive_carries  dribbles_completed  dribbles  \\\n0                  0.0                  2.0                 0.0       2.0   \n1                  0.0                  0.0                 1.0       1.0   \n2                  2.0                  4.0                 3.0       4.0   \n3                  1.0                  3.0                 2.0       3.0   \n4                  1.0                  2.0                 1.0       1.0   \n..                 ...                  ...                 ...       ...   \n9                  0.0                  1.0                 0.0       0.0   \n10                 1.0                  0.0                 0.0       0.0   \n11                 2.0                  1.0                 1.0       1.0   \n12                 4.0                  1.0                 0.0       0.0   \n13                 0.0                  0.0                 0.0       0.0   \n\n      Team        matchweek        date  \n0   Fulham    (Matchweek 1)  2020-09-12  \n1   Fulham    (Matchweek 1)  2020-09-12  \n2   Fulham    (Matchweek 1)  2020-09-12  \n3   Fulham    (Matchweek 1)  2020-09-12  \n4   Fulham    (Matchweek 1)  2020-09-12  \n..     ...              ...         ...  \n9   Fulham   (Matchweek 11)  2020-12-05  \n10  Fulham   (Matchweek 11)  2020-12-05  \n11  Fulham   (Matchweek 11)  2020-12-05  \n12  Fulham   (Matchweek 11)  2020-12-05  \n13  Fulham   (Matchweek 11)  2020-12-05  \n\n[2763 rows x 29 columns]",
      "text/html": "<div>\n<style scoped>\n    .dataframe tbody tr th:only-of-type {\n        vertical-align: middle;\n    }\n\n    .dataframe tbody tr th {\n        vertical-align: top;\n    }\n\n    .dataframe thead th {\n        text-align: right;\n    }\n</style>\n<table border=\"1\" class=\"dataframe\">\n  <thead>\n    <tr style=\"text-align: right;\">\n      <th></th>\n      <th>player</th>\n      <th>shirtnumber</th>\n      <th>nationality</th>\n      <th>position</th>\n      <th>age</th>\n      <th>minutes</th>\n      <th>goals</th>\n      <th>assists</th>\n      <th>touches</th>\n      <th>sca</th>\n      <th>...</th>\n      <th>xa</th>\n      <th>passes</th>\n      <th>passes_pct</th>\n      <th>progressive_passes</th>\n      <th>progressive_carries</th>\n      <th>dribbles_completed</th>\n      <th>dribbles</th>\n      <th>Team</th>\n      <th>matchweek</th>\n      <th>date</th>\n    </tr>\n  </thead>\n  <tbody>\n    <tr>\n      <th>0</th>\n      <td>Aboubakar Kamara</td>\n      <td>47.0</td>\n      <td>mr MTN</td>\n      <td>FW</td>\n      <td>25-189</td>\n      <td>62.0</td>\n      <td>0.0</td>\n      <td>0.0</td>\n      <td>26.0</td>\n      <td>0.0</td>\n      <td>...</td>\n      <td>0.0</td>\n      <td>16.0</td>\n      <td>87.5</td>\n      <td>0.0</td>\n      <td>2.0</td>\n      <td>0.0</td>\n      <td>2.0</td>\n      <td>Fulham</td>\n      <td>(Matchweek 1)</td>\n      <td>2020-09-12</td>\n    </tr>\n    <tr>\n      <th>1</th>\n      <td>Aleksandar Mitrović</td>\n      <td>9.0</td>\n      <td>rs SRB</td>\n      <td>FW</td>\n      <td>25-362</td>\n      <td>28.0</td>\n      <td>0.0</td>\n      <td>0.0</td>\n      <td>7.0</td>\n      <td>0.0</td>\n      <td>...</td>\n      <td>0.0</td>\n      <td>5.0</td>\n      <td>60.0</td>\n      <td>0.0</td>\n      <td>0.0</td>\n      <td>1.0</td>\n      <td>1.0</td>\n      <td>Fulham</td>\n      <td>(Matchweek 1)</td>\n      <td>2020-09-12</td>\n    </tr>\n    <tr>\n      <th>2</th>\n      <td>Ivan Cavaleiro</td>\n      <td>17.0</td>\n      <td>pt POR</td>\n      <td>LW</td>\n      <td>26-330</td>\n      <td>90.0</td>\n      <td>0.0</td>\n      <td>0.0</td>\n      <td>41.0</td>\n      <td>3.0</td>\n      <td>...</td>\n      <td>0.1</td>\n      <td>35.0</td>\n      <td>80.0</td>\n      <td>2.0</td>\n      <td>4.0</td>\n      <td>3.0</td>\n      <td>4.0</td>\n      <td>Fulham</td>\n      <td>(Matchweek 1)</td>\n      <td>2020-09-12</td>\n    </tr>\n    <tr>\n      <th>3</th>\n      <td>Neeskens Kebano</td>\n      <td>7.0</td>\n      <td>cd COD</td>\n      <td>RW</td>\n      <td>28-186</td>\n      <td>62.0</td>\n      <td>0.0</td>\n      <td>0.0</td>\n      <td>30.0</td>\n      <td>1.0</td>\n      <td>...</td>\n      <td>0.0</td>\n      <td>23.0</td>\n      <td>82.6</td>\n      <td>1.0</td>\n      <td>3.0</td>\n      <td>2.0</td>\n      <td>3.0</td>\n      <td>Fulham</td>\n      <td>(Matchweek 1)</td>\n      <td>2020-09-12</td>\n    </tr>\n    <tr>\n      <th>4</th>\n      <td>Andre-Frank Zambo Anguissa</td>\n      <td>29.0</td>\n      <td>cm CMR</td>\n      <td>RW</td>\n      <td>24-301</td>\n      <td>28.0</td>\n      <td>0.0</td>\n      <td>0.0</td>\n      <td>23.0</td>\n      <td>1.0</td>\n      <td>...</td>\n      <td>0.0</td>\n      <td>17.0</td>\n      <td>94.1</td>\n      <td>1.0</td>\n      <td>2.0</td>\n      <td>1.0</td>\n      <td>1.0</td>\n      <td>Fulham</td>\n      <td>(Matchweek 1)</td>\n      <td>2020-09-12</td>\n    </tr>\n    <tr>\n      <th>...</th>\n      <td>...</td>\n      <td>...</td>\n      <td>...</td>\n      <td>...</td>\n      <td>...</td>\n      <td>...</td>\n      <td>...</td>\n      <td>...</td>\n      <td>...</td>\n      <td>...</td>\n      <td>...</td>\n      <td>...</td>\n      <td>...</td>\n      <td>...</td>\n      <td>...</td>\n      <td>...</td>\n      <td>...</td>\n      <td>...</td>\n      <td>...</td>\n      <td>...</td>\n      <td>...</td>\n    </tr>\n    <tr>\n      <th>9</th>\n      <td>Aboubakar Kamara</td>\n      <td>47.0</td>\n      <td>mr MTN</td>\n      <td>FW</td>\n      <td>25-273</td>\n      <td>19.0</td>\n      <td>0.0</td>\n      <td>0.0</td>\n      <td>3.0</td>\n      <td>0.0</td>\n      <td>...</td>\n      <td>0.0</td>\n      <td>1.0</td>\n      <td>100.0</td>\n      <td>0.0</td>\n      <td>1.0</td>\n      <td>0.0</td>\n      <td>0.0</td>\n      <td>Fulham</td>\n      <td>(Matchweek 11)</td>\n      <td>2020-12-05</td>\n    </tr>\n    <tr>\n      <th>10</th>\n      <td>Tosin Adarabioyo</td>\n      <td>16.0</td>\n      <td>eng ENG</td>\n      <td>CB</td>\n      <td>23-072</td>\n      <td>90.0</td>\n      <td>0.0</td>\n      <td>0.0</td>\n      <td>46.0</td>\n      <td>0.0</td>\n      <td>...</td>\n      <td>0.0</td>\n      <td>31.0</td>\n      <td>83.9</td>\n      <td>1.0</td>\n      <td>0.0</td>\n      <td>0.0</td>\n      <td>0.0</td>\n      <td>Fulham</td>\n      <td>(Matchweek 11)</td>\n      <td>2020-12-05</td>\n    </tr>\n    <tr>\n      <th>11</th>\n      <td>Joachim Andersen</td>\n      <td>5.0</td>\n      <td>dk DEN</td>\n      <td>CB</td>\n      <td>24-188</td>\n      <td>90.0</td>\n      <td>0.0</td>\n      <td>0.0</td>\n      <td>55.0</td>\n      <td>0.0</td>\n      <td>...</td>\n      <td>0.0</td>\n      <td>45.0</td>\n      <td>80.0</td>\n      <td>2.0</td>\n      <td>1.0</td>\n      <td>1.0</td>\n      <td>1.0</td>\n      <td>Fulham</td>\n      <td>(Matchweek 11)</td>\n      <td>2020-12-05</td>\n    </tr>\n    <tr>\n      <th>12</th>\n      <td>Ola Aina</td>\n      <td>34.0</td>\n      <td>ng NGA</td>\n      <td>CB</td>\n      <td>24-058</td>\n      <td>90.0</td>\n      <td>0.0</td>\n      <td>0.0</td>\n      <td>41.0</td>\n      <td>0.0</td>\n      <td>...</td>\n      <td>0.0</td>\n      <td>37.0</td>\n      <td>67.6</td>\n      <td>4.0</td>\n      <td>1.0</td>\n      <td>0.0</td>\n      <td>0.0</td>\n      <td>Fulham</td>\n      <td>(Matchweek 11)</td>\n      <td>2020-12-05</td>\n    </tr>\n    <tr>\n      <th>13</th>\n      <td>Alphonse Areola</td>\n      <td>1.0</td>\n      <td>fr FRA</td>\n      <td>GK</td>\n      <td>27-282</td>\n      <td>90.0</td>\n      <td>0.0</td>\n      <td>0.0</td>\n      <td>37.0</td>\n      <td>0.0</td>\n      <td>...</td>\n      <td>0.0</td>\n      <td>32.0</td>\n      <td>68.8</td>\n      <td>0.0</td>\n      <td>0.0</td>\n      <td>0.0</td>\n      <td>0.0</td>\n      <td>Fulham</td>\n      <td>(Matchweek 11)</td>\n      <td>2020-12-05</td>\n    </tr>\n  </tbody>\n</table>\n<p>2763 rows × 29 columns</p>\n</div>"
     },
     "execution_count": 102,
     "metadata": {},
     "output_type": "execute_result"
    }
   ],
   "source": [
    "df_1"
   ],
   "metadata": {
    "collapsed": false,
    "pycharm": {
     "name": "#%%\n"
    }
   }
  },
  {
   "cell_type": "code",
   "execution_count": 94,
   "outputs": [],
   "source": [
    "def concatenate_files(f1, f2, f3, f4):\n",
    "    total = pd.concat([f1, f2, f3, f4], axis=0)\n",
    "    total = total.drop_duplicates()\n",
    "    total.reset_index(inplace=True, drop=True)\n",
    "    return total\n",
    "\n",
    "gk_2020 = concatenate_files(gk_1, gk_2, gk_3, gk_4)\n",
    "pl_2020 = concatenate_files(df_1, df_2, df_3, df_4)\n",
    "\n"
   ],
   "metadata": {
    "collapsed": false,
    "pycharm": {
     "name": "#%%\n"
    }
   }
  },
  {
   "cell_type": "code",
   "execution_count": 95,
   "outputs": [
    {
     "data": {
      "text/plain": "                player  minutes     age  gk_shots_on_target_against  \\\n0          Marek Rodák     90.0  23-274                         5.0   \n1           Bernd Leno     90.0  28-192                         2.0   \n2       Vicente Guaita     90.0  33-246                         5.0   \n3        Alex McCarthy     90.0  30-284                         3.0   \n4              Alisson     90.0  27-346                         3.0   \n..                 ...      ...     ...                         ...   \n760  Emiliano Martínez     90.0  28-263                         6.0   \n761      Edouard Mendy     45.0  29-083                         2.0   \n762  Kepa Arrizabalaga     45.0  26-232                         0.0   \n763   Łukasz Fabiański     90.0  36-035                         5.0   \n764      Alex McCarthy     90.0  31-171                         7.0   \n\n     gk_goals_against  gk_saves  gk_save_pct  gk_psxg  \\\n0                 3.0       2.0         40.0      2.5   \n1                 0.0       2.0        100.0      0.0   \n2                 0.0       5.0        100.0      0.8   \n3                 1.0       2.0         66.7      0.7   \n4                 3.0       0.0          0.0      2.1   \n..                ...       ...          ...      ...   \n760               1.0       5.0         83.3      1.2   \n761               1.0       1.0         50.0      1.1   \n762               1.0       0.0          0.0      0.6   \n763               0.0       5.0        100.0      1.0   \n764               3.0       4.0         57.1      1.8   \n\n     gk_passes_completed_launched  gk_passes  gk_passes_throws  \\\n0                             6.0       22.0               3.0   \n1                             1.0       28.0               2.0   \n2                             6.0       20.0               0.0   \n3                             8.0       44.0               8.0   \n4                             2.0       26.0               5.0   \n..                            ...        ...               ...   \n760                           9.0       24.0               4.0   \n761                           0.0        9.0               4.0   \n762                           2.0        9.0               0.0   \n763                          14.0       28.0               6.0   \n764                           4.0       23.0               5.0   \n\n     gk_pct_passes_launched  gk_def_actions_outside_pen_area             Team  \\\n0                      40.9                              1.0           Fulham   \n1                       0.0                              1.0          Arsenal   \n2                      95.0                              0.0   Crystal Palace   \n3                      38.6                              4.0      Southampton   \n4                      34.6                              0.0        Liverpool   \n..                      ...                              ...              ...   \n760                    62.5                              0.0      Aston Villa   \n761                     0.0                              0.0          Chelsea   \n762                    33.3                              1.0          Chelsea   \n763                    60.7                              0.0  West Ham United   \n764                    43.5                              0.0      Southampton   \n\n     matchweek        date  \n0          1.0  2020-09-12  \n1          1.0  2020-09-12  \n2          1.0  2020-09-12  \n3          1.0  2020-09-12  \n4          1.0  2020-09-12  \n..         ...         ...  \n760       38.0  2021-05-23  \n761       38.0  2021-05-23  \n762       38.0  2021-05-23  \n763       38.0  2021-05-23  \n764       38.0  2021-05-23  \n\n[765 rows x 16 columns]",
      "text/html": "<div>\n<style scoped>\n    .dataframe tbody tr th:only-of-type {\n        vertical-align: middle;\n    }\n\n    .dataframe tbody tr th {\n        vertical-align: top;\n    }\n\n    .dataframe thead th {\n        text-align: right;\n    }\n</style>\n<table border=\"1\" class=\"dataframe\">\n  <thead>\n    <tr style=\"text-align: right;\">\n      <th></th>\n      <th>player</th>\n      <th>minutes</th>\n      <th>age</th>\n      <th>gk_shots_on_target_against</th>\n      <th>gk_goals_against</th>\n      <th>gk_saves</th>\n      <th>gk_save_pct</th>\n      <th>gk_psxg</th>\n      <th>gk_passes_completed_launched</th>\n      <th>gk_passes</th>\n      <th>gk_passes_throws</th>\n      <th>gk_pct_passes_launched</th>\n      <th>gk_def_actions_outside_pen_area</th>\n      <th>Team</th>\n      <th>matchweek</th>\n      <th>date</th>\n    </tr>\n  </thead>\n  <tbody>\n    <tr>\n      <th>0</th>\n      <td>Marek Rodák</td>\n      <td>90.0</td>\n      <td>23-274</td>\n      <td>5.0</td>\n      <td>3.0</td>\n      <td>2.0</td>\n      <td>40.0</td>\n      <td>2.5</td>\n      <td>6.0</td>\n      <td>22.0</td>\n      <td>3.0</td>\n      <td>40.9</td>\n      <td>1.0</td>\n      <td>Fulham</td>\n      <td>1.0</td>\n      <td>2020-09-12</td>\n    </tr>\n    <tr>\n      <th>1</th>\n      <td>Bernd Leno</td>\n      <td>90.0</td>\n      <td>28-192</td>\n      <td>2.0</td>\n      <td>0.0</td>\n      <td>2.0</td>\n      <td>100.0</td>\n      <td>0.0</td>\n      <td>1.0</td>\n      <td>28.0</td>\n      <td>2.0</td>\n      <td>0.0</td>\n      <td>1.0</td>\n      <td>Arsenal</td>\n      <td>1.0</td>\n      <td>2020-09-12</td>\n    </tr>\n    <tr>\n      <th>2</th>\n      <td>Vicente Guaita</td>\n      <td>90.0</td>\n      <td>33-246</td>\n      <td>5.0</td>\n      <td>0.0</td>\n      <td>5.0</td>\n      <td>100.0</td>\n      <td>0.8</td>\n      <td>6.0</td>\n      <td>20.0</td>\n      <td>0.0</td>\n      <td>95.0</td>\n      <td>0.0</td>\n      <td>Crystal Palace</td>\n      <td>1.0</td>\n      <td>2020-09-12</td>\n    </tr>\n    <tr>\n      <th>3</th>\n      <td>Alex McCarthy</td>\n      <td>90.0</td>\n      <td>30-284</td>\n      <td>3.0</td>\n      <td>1.0</td>\n      <td>2.0</td>\n      <td>66.7</td>\n      <td>0.7</td>\n      <td>8.0</td>\n      <td>44.0</td>\n      <td>8.0</td>\n      <td>38.6</td>\n      <td>4.0</td>\n      <td>Southampton</td>\n      <td>1.0</td>\n      <td>2020-09-12</td>\n    </tr>\n    <tr>\n      <th>4</th>\n      <td>Alisson</td>\n      <td>90.0</td>\n      <td>27-346</td>\n      <td>3.0</td>\n      <td>3.0</td>\n      <td>0.0</td>\n      <td>0.0</td>\n      <td>2.1</td>\n      <td>2.0</td>\n      <td>26.0</td>\n      <td>5.0</td>\n      <td>34.6</td>\n      <td>0.0</td>\n      <td>Liverpool</td>\n      <td>1.0</td>\n      <td>2020-09-12</td>\n    </tr>\n    <tr>\n      <th>...</th>\n      <td>...</td>\n      <td>...</td>\n      <td>...</td>\n      <td>...</td>\n      <td>...</td>\n      <td>...</td>\n      <td>...</td>\n      <td>...</td>\n      <td>...</td>\n      <td>...</td>\n      <td>...</td>\n      <td>...</td>\n      <td>...</td>\n      <td>...</td>\n      <td>...</td>\n      <td>...</td>\n    </tr>\n    <tr>\n      <th>760</th>\n      <td>Emiliano Martínez</td>\n      <td>90.0</td>\n      <td>28-263</td>\n      <td>6.0</td>\n      <td>1.0</td>\n      <td>5.0</td>\n      <td>83.3</td>\n      <td>1.2</td>\n      <td>9.0</td>\n      <td>24.0</td>\n      <td>4.0</td>\n      <td>62.5</td>\n      <td>0.0</td>\n      <td>Aston Villa</td>\n      <td>38.0</td>\n      <td>2021-05-23</td>\n    </tr>\n    <tr>\n      <th>761</th>\n      <td>Edouard Mendy</td>\n      <td>45.0</td>\n      <td>29-083</td>\n      <td>2.0</td>\n      <td>1.0</td>\n      <td>1.0</td>\n      <td>50.0</td>\n      <td>1.1</td>\n      <td>0.0</td>\n      <td>9.0</td>\n      <td>4.0</td>\n      <td>0.0</td>\n      <td>0.0</td>\n      <td>Chelsea</td>\n      <td>38.0</td>\n      <td>2021-05-23</td>\n    </tr>\n    <tr>\n      <th>762</th>\n      <td>Kepa Arrizabalaga</td>\n      <td>45.0</td>\n      <td>26-232</td>\n      <td>0.0</td>\n      <td>1.0</td>\n      <td>0.0</td>\n      <td>0.0</td>\n      <td>0.6</td>\n      <td>2.0</td>\n      <td>9.0</td>\n      <td>0.0</td>\n      <td>33.3</td>\n      <td>1.0</td>\n      <td>Chelsea</td>\n      <td>38.0</td>\n      <td>2021-05-23</td>\n    </tr>\n    <tr>\n      <th>763</th>\n      <td>Łukasz Fabiański</td>\n      <td>90.0</td>\n      <td>36-035</td>\n      <td>5.0</td>\n      <td>0.0</td>\n      <td>5.0</td>\n      <td>100.0</td>\n      <td>1.0</td>\n      <td>14.0</td>\n      <td>28.0</td>\n      <td>6.0</td>\n      <td>60.7</td>\n      <td>0.0</td>\n      <td>West Ham United</td>\n      <td>38.0</td>\n      <td>2021-05-23</td>\n    </tr>\n    <tr>\n      <th>764</th>\n      <td>Alex McCarthy</td>\n      <td>90.0</td>\n      <td>31-171</td>\n      <td>7.0</td>\n      <td>3.0</td>\n      <td>4.0</td>\n      <td>57.1</td>\n      <td>1.8</td>\n      <td>4.0</td>\n      <td>23.0</td>\n      <td>5.0</td>\n      <td>43.5</td>\n      <td>0.0</td>\n      <td>Southampton</td>\n      <td>38.0</td>\n      <td>2021-05-23</td>\n    </tr>\n  </tbody>\n</table>\n<p>765 rows × 16 columns</p>\n</div>"
     },
     "execution_count": 95,
     "metadata": {},
     "output_type": "execute_result"
    }
   ],
   "source": [
    "pl_2020['matchweek'] = pl_2020['matchweek'].str.slice(start=-3, stop=-1).astype(float)\n",
    "gk_2020['matchweek'] = gk_2020['matchweek'].str.slice(start=-3, stop=-1).astype(float)\n",
    "pl_2020['position'] = pl_2020['position'].str.slice(start=0, stop=2)\n",
    "gk_2020"
   ],
   "metadata": {
    "collapsed": false,
    "pycharm": {
     "name": "#%%\n"
    }
   }
  },
  {
   "cell_type": "code",
   "execution_count": null,
   "outputs": [],
   "source": [],
   "metadata": {
    "collapsed": false,
    "pycharm": {
     "name": "#%%\n"
    }
   }
  },
  {
   "cell_type": "code",
   "execution_count": 96,
   "outputs": [],
   "source": [
    "gk_2020['position'] = 'GK'"
   ],
   "metadata": {
    "collapsed": false,
    "pycharm": {
     "name": "#%%\n"
    }
   }
  },
  {
   "cell_type": "code",
   "execution_count": 97,
   "outputs": [
    {
     "data": {
      "text/plain": "                player  minutes     age  gk_shots_on_target_against  \\\n0          Marek Rodák     90.0  23-274                         5.0   \n1           Bernd Leno     90.0  28-192                         2.0   \n2       Vicente Guaita     90.0  33-246                         5.0   \n3        Alex McCarthy     90.0  30-284                         3.0   \n4              Alisson     90.0  27-346                         3.0   \n..                 ...      ...     ...                         ...   \n760  Emiliano Martínez     90.0  28-263                         6.0   \n761      Edouard Mendy     45.0  29-083                         2.0   \n762  Kepa Arrizabalaga     45.0  26-232                         0.0   \n763   Łukasz Fabiański     90.0  36-035                         5.0   \n764      Alex McCarthy     90.0  31-171                         7.0   \n\n     gk_goals_against  gk_saves  gk_save_pct  gk_psxg  \\\n0                 3.0       2.0         40.0      2.5   \n1                 0.0       2.0        100.0      0.0   \n2                 0.0       5.0        100.0      0.8   \n3                 1.0       2.0         66.7      0.7   \n4                 3.0       0.0          0.0      2.1   \n..                ...       ...          ...      ...   \n760               1.0       5.0         83.3      1.2   \n761               1.0       1.0         50.0      1.1   \n762               1.0       0.0          0.0      0.6   \n763               0.0       5.0        100.0      1.0   \n764               3.0       4.0         57.1      1.8   \n\n     gk_passes_completed_launched  gk_passes  gk_passes_throws  \\\n0                             6.0       22.0               3.0   \n1                             1.0       28.0               2.0   \n2                             6.0       20.0               0.0   \n3                             8.0       44.0               8.0   \n4                             2.0       26.0               5.0   \n..                            ...        ...               ...   \n760                           9.0       24.0               4.0   \n761                           0.0        9.0               4.0   \n762                           2.0        9.0               0.0   \n763                          14.0       28.0               6.0   \n764                           4.0       23.0               5.0   \n\n     gk_pct_passes_launched  gk_def_actions_outside_pen_area             Team  \\\n0                      40.9                              1.0           Fulham   \n1                       0.0                              1.0          Arsenal   \n2                      95.0                              0.0   Crystal Palace   \n3                      38.6                              4.0      Southampton   \n4                      34.6                              0.0        Liverpool   \n..                      ...                              ...              ...   \n760                    62.5                              0.0      Aston Villa   \n761                     0.0                              0.0          Chelsea   \n762                    33.3                              1.0          Chelsea   \n763                    60.7                              0.0  West Ham United   \n764                    43.5                              0.0      Southampton   \n\n     matchweek        date position  \n0          1.0  2020-09-12       GK  \n1          1.0  2020-09-12       GK  \n2          1.0  2020-09-12       GK  \n3          1.0  2020-09-12       GK  \n4          1.0  2020-09-12       GK  \n..         ...         ...      ...  \n760       38.0  2021-05-23       GK  \n761       38.0  2021-05-23       GK  \n762       38.0  2021-05-23       GK  \n763       38.0  2021-05-23       GK  \n764       38.0  2021-05-23       GK  \n\n[765 rows x 17 columns]",
      "text/html": "<div>\n<style scoped>\n    .dataframe tbody tr th:only-of-type {\n        vertical-align: middle;\n    }\n\n    .dataframe tbody tr th {\n        vertical-align: top;\n    }\n\n    .dataframe thead th {\n        text-align: right;\n    }\n</style>\n<table border=\"1\" class=\"dataframe\">\n  <thead>\n    <tr style=\"text-align: right;\">\n      <th></th>\n      <th>player</th>\n      <th>minutes</th>\n      <th>age</th>\n      <th>gk_shots_on_target_against</th>\n      <th>gk_goals_against</th>\n      <th>gk_saves</th>\n      <th>gk_save_pct</th>\n      <th>gk_psxg</th>\n      <th>gk_passes_completed_launched</th>\n      <th>gk_passes</th>\n      <th>gk_passes_throws</th>\n      <th>gk_pct_passes_launched</th>\n      <th>gk_def_actions_outside_pen_area</th>\n      <th>Team</th>\n      <th>matchweek</th>\n      <th>date</th>\n      <th>position</th>\n    </tr>\n  </thead>\n  <tbody>\n    <tr>\n      <th>0</th>\n      <td>Marek Rodák</td>\n      <td>90.0</td>\n      <td>23-274</td>\n      <td>5.0</td>\n      <td>3.0</td>\n      <td>2.0</td>\n      <td>40.0</td>\n      <td>2.5</td>\n      <td>6.0</td>\n      <td>22.0</td>\n      <td>3.0</td>\n      <td>40.9</td>\n      <td>1.0</td>\n      <td>Fulham</td>\n      <td>1.0</td>\n      <td>2020-09-12</td>\n      <td>GK</td>\n    </tr>\n    <tr>\n      <th>1</th>\n      <td>Bernd Leno</td>\n      <td>90.0</td>\n      <td>28-192</td>\n      <td>2.0</td>\n      <td>0.0</td>\n      <td>2.0</td>\n      <td>100.0</td>\n      <td>0.0</td>\n      <td>1.0</td>\n      <td>28.0</td>\n      <td>2.0</td>\n      <td>0.0</td>\n      <td>1.0</td>\n      <td>Arsenal</td>\n      <td>1.0</td>\n      <td>2020-09-12</td>\n      <td>GK</td>\n    </tr>\n    <tr>\n      <th>2</th>\n      <td>Vicente Guaita</td>\n      <td>90.0</td>\n      <td>33-246</td>\n      <td>5.0</td>\n      <td>0.0</td>\n      <td>5.0</td>\n      <td>100.0</td>\n      <td>0.8</td>\n      <td>6.0</td>\n      <td>20.0</td>\n      <td>0.0</td>\n      <td>95.0</td>\n      <td>0.0</td>\n      <td>Crystal Palace</td>\n      <td>1.0</td>\n      <td>2020-09-12</td>\n      <td>GK</td>\n    </tr>\n    <tr>\n      <th>3</th>\n      <td>Alex McCarthy</td>\n      <td>90.0</td>\n      <td>30-284</td>\n      <td>3.0</td>\n      <td>1.0</td>\n      <td>2.0</td>\n      <td>66.7</td>\n      <td>0.7</td>\n      <td>8.0</td>\n      <td>44.0</td>\n      <td>8.0</td>\n      <td>38.6</td>\n      <td>4.0</td>\n      <td>Southampton</td>\n      <td>1.0</td>\n      <td>2020-09-12</td>\n      <td>GK</td>\n    </tr>\n    <tr>\n      <th>4</th>\n      <td>Alisson</td>\n      <td>90.0</td>\n      <td>27-346</td>\n      <td>3.0</td>\n      <td>3.0</td>\n      <td>0.0</td>\n      <td>0.0</td>\n      <td>2.1</td>\n      <td>2.0</td>\n      <td>26.0</td>\n      <td>5.0</td>\n      <td>34.6</td>\n      <td>0.0</td>\n      <td>Liverpool</td>\n      <td>1.0</td>\n      <td>2020-09-12</td>\n      <td>GK</td>\n    </tr>\n    <tr>\n      <th>...</th>\n      <td>...</td>\n      <td>...</td>\n      <td>...</td>\n      <td>...</td>\n      <td>...</td>\n      <td>...</td>\n      <td>...</td>\n      <td>...</td>\n      <td>...</td>\n      <td>...</td>\n      <td>...</td>\n      <td>...</td>\n      <td>...</td>\n      <td>...</td>\n      <td>...</td>\n      <td>...</td>\n      <td>...</td>\n    </tr>\n    <tr>\n      <th>760</th>\n      <td>Emiliano Martínez</td>\n      <td>90.0</td>\n      <td>28-263</td>\n      <td>6.0</td>\n      <td>1.0</td>\n      <td>5.0</td>\n      <td>83.3</td>\n      <td>1.2</td>\n      <td>9.0</td>\n      <td>24.0</td>\n      <td>4.0</td>\n      <td>62.5</td>\n      <td>0.0</td>\n      <td>Aston Villa</td>\n      <td>38.0</td>\n      <td>2021-05-23</td>\n      <td>GK</td>\n    </tr>\n    <tr>\n      <th>761</th>\n      <td>Edouard Mendy</td>\n      <td>45.0</td>\n      <td>29-083</td>\n      <td>2.0</td>\n      <td>1.0</td>\n      <td>1.0</td>\n      <td>50.0</td>\n      <td>1.1</td>\n      <td>0.0</td>\n      <td>9.0</td>\n      <td>4.0</td>\n      <td>0.0</td>\n      <td>0.0</td>\n      <td>Chelsea</td>\n      <td>38.0</td>\n      <td>2021-05-23</td>\n      <td>GK</td>\n    </tr>\n    <tr>\n      <th>762</th>\n      <td>Kepa Arrizabalaga</td>\n      <td>45.0</td>\n      <td>26-232</td>\n      <td>0.0</td>\n      <td>1.0</td>\n      <td>0.0</td>\n      <td>0.0</td>\n      <td>0.6</td>\n      <td>2.0</td>\n      <td>9.0</td>\n      <td>0.0</td>\n      <td>33.3</td>\n      <td>1.0</td>\n      <td>Chelsea</td>\n      <td>38.0</td>\n      <td>2021-05-23</td>\n      <td>GK</td>\n    </tr>\n    <tr>\n      <th>763</th>\n      <td>Łukasz Fabiański</td>\n      <td>90.0</td>\n      <td>36-035</td>\n      <td>5.0</td>\n      <td>0.0</td>\n      <td>5.0</td>\n      <td>100.0</td>\n      <td>1.0</td>\n      <td>14.0</td>\n      <td>28.0</td>\n      <td>6.0</td>\n      <td>60.7</td>\n      <td>0.0</td>\n      <td>West Ham United</td>\n      <td>38.0</td>\n      <td>2021-05-23</td>\n      <td>GK</td>\n    </tr>\n    <tr>\n      <th>764</th>\n      <td>Alex McCarthy</td>\n      <td>90.0</td>\n      <td>31-171</td>\n      <td>7.0</td>\n      <td>3.0</td>\n      <td>4.0</td>\n      <td>57.1</td>\n      <td>1.8</td>\n      <td>4.0</td>\n      <td>23.0</td>\n      <td>5.0</td>\n      <td>43.5</td>\n      <td>0.0</td>\n      <td>Southampton</td>\n      <td>38.0</td>\n      <td>2021-05-23</td>\n      <td>GK</td>\n    </tr>\n  </tbody>\n</table>\n<p>765 rows × 17 columns</p>\n</div>"
     },
     "execution_count": 97,
     "metadata": {},
     "output_type": "execute_result"
    }
   ],
   "source": [
    "gk_2020"
   ],
   "metadata": {
    "collapsed": false,
    "pycharm": {
     "name": "#%%\n"
    }
   }
  },
  {
   "cell_type": "code",
   "execution_count": 98,
   "outputs": [],
   "source": [
    "#map position to category\n",
    "def get_category(df):\n",
    "    df.loc[df['position'] == 'GK', 'category'] = 'Goalkeeper'\n",
    "    df.loc[df['position'] == 'DF', 'category'] = 'Defender'\n",
    "    df.loc[df['position'] == 'RB', 'category'] = 'Defender'\n",
    "    df.loc[df['position'] == 'LB', 'category'] = 'Defender'\n",
    "    df.loc[df['position'] == 'CB', 'category'] = 'Defender'\n",
    "    df.loc[df['position'] == 'WB', 'category'] = 'Defender'\n",
    "    df.loc[df['position'] == 'FB', 'category'] = 'Defender'\n",
    "    df.loc[df['position'] == 'MF', 'category'] = 'Midfield'\n",
    "    df.loc[df['position'] == 'DM', 'category'] = 'Midfield'\n",
    "    df.loc[df['position'] == 'CM', 'category'] = 'Midfield'\n",
    "    df.loc[df['position'] == 'AM', 'category'] = 'Midfield'\n",
    "    df.loc[df['position'] == 'LM', 'category'] = 'Midfield'\n",
    "    df.loc[df['position'] == 'RM', 'category'] = 'Midfield'\n",
    "    df.loc[df['position'] == 'WM', 'category'] = 'Midfield'\n",
    "    df.loc[df['position'] == 'FW', 'category'] = 'Forward'\n",
    "    df.loc[df['position'] == 'RW', 'category'] = 'Forward'\n",
    "    df.loc[df['position'] == 'LW', 'category'] = 'Forward'\n",
    "    return df\n",
    "\n",
    "pl_2020 = get_category(pl_2020)"
   ],
   "metadata": {
    "collapsed": false,
    "pycharm": {
     "name": "#%%\n"
    }
   }
  },
  {
   "cell_type": "code",
   "execution_count": 99,
   "outputs": [
    {
     "data": {
      "text/plain": "                           player  shirtnumber nationality position     age  \\\n0                Aboubakar Kamara         47.0      mr MTN       FW  25-189   \n1             Aleksandar Mitrović          9.0      rs SRB       FW  25-362   \n2                  Ivan Cavaleiro         17.0      pt POR       LW  26-330   \n3                 Neeskens Kebano          7.0      cd COD       RW  28-186   \n4      Andre-Frank Zambo Anguissa         29.0      cm CMR       RW  24-301   \n...                           ...          ...         ...      ...     ...   \n10389          Jannik Vestergaard          4.0      dk DEN       CB  28-293   \n10390                Jan Bednarek         35.0      pl POL       CB  25-041   \n10391          Kyle Walker-Peters          2.0     eng ENG       RB  24-040   \n10392                 Oriol Romeu          6.0      es ESP       RB  29-241   \n10393               Alex McCarthy          1.0     eng ENG       GK  31-171   \n\n       minutes  goals  assists  touches  sca  ...  passes  passes_pct  \\\n0         62.0    0.0      0.0     26.0  0.0  ...    16.0        87.5   \n1         28.0    0.0      0.0      7.0  0.0  ...     5.0        60.0   \n2         90.0    0.0      0.0     41.0  3.0  ...    35.0        80.0   \n3         62.0    0.0      0.0     30.0  1.0  ...    23.0        82.6   \n4         28.0    0.0      0.0     23.0  1.0  ...    17.0        94.1   \n...        ...    ...      ...      ...  ...  ...     ...         ...   \n10389     90.0    0.0      0.0     70.0  0.0  ...    59.0        84.7   \n10390     90.0    0.0      0.0     81.0  0.0  ...    62.0        83.9   \n10391     59.0    0.0      0.0     56.0  1.0  ...    40.0        72.5   \n10392     31.0    0.0      0.0     29.0  1.0  ...    27.0        88.9   \n10393     90.0    0.0      0.0     31.0  0.0  ...    29.0        65.5   \n\n       progressive_passes  progressive_carries  dribbles_completed  dribbles  \\\n0                     0.0                  2.0                 0.0       2.0   \n1                     0.0                  0.0                 1.0       1.0   \n2                     2.0                  4.0                 3.0       4.0   \n3                     1.0                  3.0                 2.0       3.0   \n4                     1.0                  2.0                 1.0       1.0   \n...                   ...                  ...                 ...       ...   \n10389                 5.0                  2.0                 0.0       1.0   \n10390                 1.0                  5.0                 0.0       0.0   \n10391                 0.0                  3.0                 1.0       1.0   \n10392                 7.0                  5.0                 0.0       0.0   \n10393                 0.0                  0.0                 0.0       0.0   \n\n              Team  matchweek        date    category  \n0           Fulham        1.0  2020-09-12     Forward  \n1           Fulham        1.0  2020-09-12     Forward  \n2           Fulham        1.0  2020-09-12     Forward  \n3           Fulham        1.0  2020-09-12     Forward  \n4           Fulham        1.0  2020-09-12     Forward  \n...            ...        ...         ...         ...  \n10389  Southampton       38.0  2021-05-23    Defender  \n10390  Southampton       38.0  2021-05-23    Defender  \n10391  Southampton       38.0  2021-05-23    Defender  \n10392  Southampton       38.0  2021-05-23    Defender  \n10393  Southampton       38.0  2021-05-23  Goalkeeper  \n\n[10394 rows x 30 columns]",
      "text/html": "<div>\n<style scoped>\n    .dataframe tbody tr th:only-of-type {\n        vertical-align: middle;\n    }\n\n    .dataframe tbody tr th {\n        vertical-align: top;\n    }\n\n    .dataframe thead th {\n        text-align: right;\n    }\n</style>\n<table border=\"1\" class=\"dataframe\">\n  <thead>\n    <tr style=\"text-align: right;\">\n      <th></th>\n      <th>player</th>\n      <th>shirtnumber</th>\n      <th>nationality</th>\n      <th>position</th>\n      <th>age</th>\n      <th>minutes</th>\n      <th>goals</th>\n      <th>assists</th>\n      <th>touches</th>\n      <th>sca</th>\n      <th>...</th>\n      <th>passes</th>\n      <th>passes_pct</th>\n      <th>progressive_passes</th>\n      <th>progressive_carries</th>\n      <th>dribbles_completed</th>\n      <th>dribbles</th>\n      <th>Team</th>\n      <th>matchweek</th>\n      <th>date</th>\n      <th>category</th>\n    </tr>\n  </thead>\n  <tbody>\n    <tr>\n      <th>0</th>\n      <td>Aboubakar Kamara</td>\n      <td>47.0</td>\n      <td>mr MTN</td>\n      <td>FW</td>\n      <td>25-189</td>\n      <td>62.0</td>\n      <td>0.0</td>\n      <td>0.0</td>\n      <td>26.0</td>\n      <td>0.0</td>\n      <td>...</td>\n      <td>16.0</td>\n      <td>87.5</td>\n      <td>0.0</td>\n      <td>2.0</td>\n      <td>0.0</td>\n      <td>2.0</td>\n      <td>Fulham</td>\n      <td>1.0</td>\n      <td>2020-09-12</td>\n      <td>Forward</td>\n    </tr>\n    <tr>\n      <th>1</th>\n      <td>Aleksandar Mitrović</td>\n      <td>9.0</td>\n      <td>rs SRB</td>\n      <td>FW</td>\n      <td>25-362</td>\n      <td>28.0</td>\n      <td>0.0</td>\n      <td>0.0</td>\n      <td>7.0</td>\n      <td>0.0</td>\n      <td>...</td>\n      <td>5.0</td>\n      <td>60.0</td>\n      <td>0.0</td>\n      <td>0.0</td>\n      <td>1.0</td>\n      <td>1.0</td>\n      <td>Fulham</td>\n      <td>1.0</td>\n      <td>2020-09-12</td>\n      <td>Forward</td>\n    </tr>\n    <tr>\n      <th>2</th>\n      <td>Ivan Cavaleiro</td>\n      <td>17.0</td>\n      <td>pt POR</td>\n      <td>LW</td>\n      <td>26-330</td>\n      <td>90.0</td>\n      <td>0.0</td>\n      <td>0.0</td>\n      <td>41.0</td>\n      <td>3.0</td>\n      <td>...</td>\n      <td>35.0</td>\n      <td>80.0</td>\n      <td>2.0</td>\n      <td>4.0</td>\n      <td>3.0</td>\n      <td>4.0</td>\n      <td>Fulham</td>\n      <td>1.0</td>\n      <td>2020-09-12</td>\n      <td>Forward</td>\n    </tr>\n    <tr>\n      <th>3</th>\n      <td>Neeskens Kebano</td>\n      <td>7.0</td>\n      <td>cd COD</td>\n      <td>RW</td>\n      <td>28-186</td>\n      <td>62.0</td>\n      <td>0.0</td>\n      <td>0.0</td>\n      <td>30.0</td>\n      <td>1.0</td>\n      <td>...</td>\n      <td>23.0</td>\n      <td>82.6</td>\n      <td>1.0</td>\n      <td>3.0</td>\n      <td>2.0</td>\n      <td>3.0</td>\n      <td>Fulham</td>\n      <td>1.0</td>\n      <td>2020-09-12</td>\n      <td>Forward</td>\n    </tr>\n    <tr>\n      <th>4</th>\n      <td>Andre-Frank Zambo Anguissa</td>\n      <td>29.0</td>\n      <td>cm CMR</td>\n      <td>RW</td>\n      <td>24-301</td>\n      <td>28.0</td>\n      <td>0.0</td>\n      <td>0.0</td>\n      <td>23.0</td>\n      <td>1.0</td>\n      <td>...</td>\n      <td>17.0</td>\n      <td>94.1</td>\n      <td>1.0</td>\n      <td>2.0</td>\n      <td>1.0</td>\n      <td>1.0</td>\n      <td>Fulham</td>\n      <td>1.0</td>\n      <td>2020-09-12</td>\n      <td>Forward</td>\n    </tr>\n    <tr>\n      <th>...</th>\n      <td>...</td>\n      <td>...</td>\n      <td>...</td>\n      <td>...</td>\n      <td>...</td>\n      <td>...</td>\n      <td>...</td>\n      <td>...</td>\n      <td>...</td>\n      <td>...</td>\n      <td>...</td>\n      <td>...</td>\n      <td>...</td>\n      <td>...</td>\n      <td>...</td>\n      <td>...</td>\n      <td>...</td>\n      <td>...</td>\n      <td>...</td>\n      <td>...</td>\n      <td>...</td>\n    </tr>\n    <tr>\n      <th>10389</th>\n      <td>Jannik Vestergaard</td>\n      <td>4.0</td>\n      <td>dk DEN</td>\n      <td>CB</td>\n      <td>28-293</td>\n      <td>90.0</td>\n      <td>0.0</td>\n      <td>0.0</td>\n      <td>70.0</td>\n      <td>0.0</td>\n      <td>...</td>\n      <td>59.0</td>\n      <td>84.7</td>\n      <td>5.0</td>\n      <td>2.0</td>\n      <td>0.0</td>\n      <td>1.0</td>\n      <td>Southampton</td>\n      <td>38.0</td>\n      <td>2021-05-23</td>\n      <td>Defender</td>\n    </tr>\n    <tr>\n      <th>10390</th>\n      <td>Jan Bednarek</td>\n      <td>35.0</td>\n      <td>pl POL</td>\n      <td>CB</td>\n      <td>25-041</td>\n      <td>90.0</td>\n      <td>0.0</td>\n      <td>0.0</td>\n      <td>81.0</td>\n      <td>0.0</td>\n      <td>...</td>\n      <td>62.0</td>\n      <td>83.9</td>\n      <td>1.0</td>\n      <td>5.0</td>\n      <td>0.0</td>\n      <td>0.0</td>\n      <td>Southampton</td>\n      <td>38.0</td>\n      <td>2021-05-23</td>\n      <td>Defender</td>\n    </tr>\n    <tr>\n      <th>10391</th>\n      <td>Kyle Walker-Peters</td>\n      <td>2.0</td>\n      <td>eng ENG</td>\n      <td>RB</td>\n      <td>24-040</td>\n      <td>59.0</td>\n      <td>0.0</td>\n      <td>0.0</td>\n      <td>56.0</td>\n      <td>1.0</td>\n      <td>...</td>\n      <td>40.0</td>\n      <td>72.5</td>\n      <td>0.0</td>\n      <td>3.0</td>\n      <td>1.0</td>\n      <td>1.0</td>\n      <td>Southampton</td>\n      <td>38.0</td>\n      <td>2021-05-23</td>\n      <td>Defender</td>\n    </tr>\n    <tr>\n      <th>10392</th>\n      <td>Oriol Romeu</td>\n      <td>6.0</td>\n      <td>es ESP</td>\n      <td>RB</td>\n      <td>29-241</td>\n      <td>31.0</td>\n      <td>0.0</td>\n      <td>0.0</td>\n      <td>29.0</td>\n      <td>1.0</td>\n      <td>...</td>\n      <td>27.0</td>\n      <td>88.9</td>\n      <td>7.0</td>\n      <td>5.0</td>\n      <td>0.0</td>\n      <td>0.0</td>\n      <td>Southampton</td>\n      <td>38.0</td>\n      <td>2021-05-23</td>\n      <td>Defender</td>\n    </tr>\n    <tr>\n      <th>10393</th>\n      <td>Alex McCarthy</td>\n      <td>1.0</td>\n      <td>eng ENG</td>\n      <td>GK</td>\n      <td>31-171</td>\n      <td>90.0</td>\n      <td>0.0</td>\n      <td>0.0</td>\n      <td>31.0</td>\n      <td>0.0</td>\n      <td>...</td>\n      <td>29.0</td>\n      <td>65.5</td>\n      <td>0.0</td>\n      <td>0.0</td>\n      <td>0.0</td>\n      <td>0.0</td>\n      <td>Southampton</td>\n      <td>38.0</td>\n      <td>2021-05-23</td>\n      <td>Goalkeeper</td>\n    </tr>\n  </tbody>\n</table>\n<p>10394 rows × 30 columns</p>\n</div>"
     },
     "execution_count": 99,
     "metadata": {},
     "output_type": "execute_result"
    }
   ],
   "source": [
    "def create_csv(df):\n",
    "    df = df.drop_duplicates()\n",
    "    df.reset_index(inplace=True, drop=True)\n",
    "    df.to_csv('PL2020_players.csv',index=False)\n",
    "    return df\n",
    "\n",
    "create_csv(pl_2020)\n"
   ],
   "metadata": {
    "collapsed": false,
    "pycharm": {
     "name": "#%%\n"
    }
   }
  },
  {
   "cell_type": "code",
   "execution_count": 100,
   "outputs": [
    {
     "data": {
      "text/plain": "                player  minutes     age  gk_shots_on_target_against  \\\n0          Marek Rodák     90.0  23-274                         5.0   \n1           Bernd Leno     90.0  28-192                         2.0   \n2       Vicente Guaita     90.0  33-246                         5.0   \n3        Alex McCarthy     90.0  30-284                         3.0   \n4              Alisson     90.0  27-346                         3.0   \n..                 ...      ...     ...                         ...   \n760  Emiliano Martínez     90.0  28-263                         6.0   \n761      Edouard Mendy     45.0  29-083                         2.0   \n762  Kepa Arrizabalaga     45.0  26-232                         0.0   \n763   Łukasz Fabiański     90.0  36-035                         5.0   \n764      Alex McCarthy     90.0  31-171                         7.0   \n\n     gk_goals_against  gk_saves  gk_save_pct  gk_psxg  \\\n0                 3.0       2.0         40.0      2.5   \n1                 0.0       2.0        100.0      0.0   \n2                 0.0       5.0        100.0      0.8   \n3                 1.0       2.0         66.7      0.7   \n4                 3.0       0.0          0.0      2.1   \n..                ...       ...          ...      ...   \n760               1.0       5.0         83.3      1.2   \n761               1.0       1.0         50.0      1.1   \n762               1.0       0.0          0.0      0.6   \n763               0.0       5.0        100.0      1.0   \n764               3.0       4.0         57.1      1.8   \n\n     gk_passes_completed_launched  gk_passes  gk_passes_throws  \\\n0                             6.0       22.0               3.0   \n1                             1.0       28.0               2.0   \n2                             6.0       20.0               0.0   \n3                             8.0       44.0               8.0   \n4                             2.0       26.0               5.0   \n..                            ...        ...               ...   \n760                           9.0       24.0               4.0   \n761                           0.0        9.0               4.0   \n762                           2.0        9.0               0.0   \n763                          14.0       28.0               6.0   \n764                           4.0       23.0               5.0   \n\n     gk_pct_passes_launched  gk_def_actions_outside_pen_area             Team  \\\n0                      40.9                              1.0           Fulham   \n1                       0.0                              1.0          Arsenal   \n2                      95.0                              0.0   Crystal Palace   \n3                      38.6                              4.0      Southampton   \n4                      34.6                              0.0        Liverpool   \n..                      ...                              ...              ...   \n760                    62.5                              0.0      Aston Villa   \n761                     0.0                              0.0          Chelsea   \n762                    33.3                              1.0          Chelsea   \n763                    60.7                              0.0  West Ham United   \n764                    43.5                              0.0      Southampton   \n\n     matchweek        date position  \n0          1.0  2020-09-12       GK  \n1          1.0  2020-09-12       GK  \n2          1.0  2020-09-12       GK  \n3          1.0  2020-09-12       GK  \n4          1.0  2020-09-12       GK  \n..         ...         ...      ...  \n760       38.0  2021-05-23       GK  \n761       38.0  2021-05-23       GK  \n762       38.0  2021-05-23       GK  \n763       38.0  2021-05-23       GK  \n764       38.0  2021-05-23       GK  \n\n[765 rows x 17 columns]",
      "text/html": "<div>\n<style scoped>\n    .dataframe tbody tr th:only-of-type {\n        vertical-align: middle;\n    }\n\n    .dataframe tbody tr th {\n        vertical-align: top;\n    }\n\n    .dataframe thead th {\n        text-align: right;\n    }\n</style>\n<table border=\"1\" class=\"dataframe\">\n  <thead>\n    <tr style=\"text-align: right;\">\n      <th></th>\n      <th>player</th>\n      <th>minutes</th>\n      <th>age</th>\n      <th>gk_shots_on_target_against</th>\n      <th>gk_goals_against</th>\n      <th>gk_saves</th>\n      <th>gk_save_pct</th>\n      <th>gk_psxg</th>\n      <th>gk_passes_completed_launched</th>\n      <th>gk_passes</th>\n      <th>gk_passes_throws</th>\n      <th>gk_pct_passes_launched</th>\n      <th>gk_def_actions_outside_pen_area</th>\n      <th>Team</th>\n      <th>matchweek</th>\n      <th>date</th>\n      <th>position</th>\n    </tr>\n  </thead>\n  <tbody>\n    <tr>\n      <th>0</th>\n      <td>Marek Rodák</td>\n      <td>90.0</td>\n      <td>23-274</td>\n      <td>5.0</td>\n      <td>3.0</td>\n      <td>2.0</td>\n      <td>40.0</td>\n      <td>2.5</td>\n      <td>6.0</td>\n      <td>22.0</td>\n      <td>3.0</td>\n      <td>40.9</td>\n      <td>1.0</td>\n      <td>Fulham</td>\n      <td>1.0</td>\n      <td>2020-09-12</td>\n      <td>GK</td>\n    </tr>\n    <tr>\n      <th>1</th>\n      <td>Bernd Leno</td>\n      <td>90.0</td>\n      <td>28-192</td>\n      <td>2.0</td>\n      <td>0.0</td>\n      <td>2.0</td>\n      <td>100.0</td>\n      <td>0.0</td>\n      <td>1.0</td>\n      <td>28.0</td>\n      <td>2.0</td>\n      <td>0.0</td>\n      <td>1.0</td>\n      <td>Arsenal</td>\n      <td>1.0</td>\n      <td>2020-09-12</td>\n      <td>GK</td>\n    </tr>\n    <tr>\n      <th>2</th>\n      <td>Vicente Guaita</td>\n      <td>90.0</td>\n      <td>33-246</td>\n      <td>5.0</td>\n      <td>0.0</td>\n      <td>5.0</td>\n      <td>100.0</td>\n      <td>0.8</td>\n      <td>6.0</td>\n      <td>20.0</td>\n      <td>0.0</td>\n      <td>95.0</td>\n      <td>0.0</td>\n      <td>Crystal Palace</td>\n      <td>1.0</td>\n      <td>2020-09-12</td>\n      <td>GK</td>\n    </tr>\n    <tr>\n      <th>3</th>\n      <td>Alex McCarthy</td>\n      <td>90.0</td>\n      <td>30-284</td>\n      <td>3.0</td>\n      <td>1.0</td>\n      <td>2.0</td>\n      <td>66.7</td>\n      <td>0.7</td>\n      <td>8.0</td>\n      <td>44.0</td>\n      <td>8.0</td>\n      <td>38.6</td>\n      <td>4.0</td>\n      <td>Southampton</td>\n      <td>1.0</td>\n      <td>2020-09-12</td>\n      <td>GK</td>\n    </tr>\n    <tr>\n      <th>4</th>\n      <td>Alisson</td>\n      <td>90.0</td>\n      <td>27-346</td>\n      <td>3.0</td>\n      <td>3.0</td>\n      <td>0.0</td>\n      <td>0.0</td>\n      <td>2.1</td>\n      <td>2.0</td>\n      <td>26.0</td>\n      <td>5.0</td>\n      <td>34.6</td>\n      <td>0.0</td>\n      <td>Liverpool</td>\n      <td>1.0</td>\n      <td>2020-09-12</td>\n      <td>GK</td>\n    </tr>\n    <tr>\n      <th>...</th>\n      <td>...</td>\n      <td>...</td>\n      <td>...</td>\n      <td>...</td>\n      <td>...</td>\n      <td>...</td>\n      <td>...</td>\n      <td>...</td>\n      <td>...</td>\n      <td>...</td>\n      <td>...</td>\n      <td>...</td>\n      <td>...</td>\n      <td>...</td>\n      <td>...</td>\n      <td>...</td>\n      <td>...</td>\n    </tr>\n    <tr>\n      <th>760</th>\n      <td>Emiliano Martínez</td>\n      <td>90.0</td>\n      <td>28-263</td>\n      <td>6.0</td>\n      <td>1.0</td>\n      <td>5.0</td>\n      <td>83.3</td>\n      <td>1.2</td>\n      <td>9.0</td>\n      <td>24.0</td>\n      <td>4.0</td>\n      <td>62.5</td>\n      <td>0.0</td>\n      <td>Aston Villa</td>\n      <td>38.0</td>\n      <td>2021-05-23</td>\n      <td>GK</td>\n    </tr>\n    <tr>\n      <th>761</th>\n      <td>Edouard Mendy</td>\n      <td>45.0</td>\n      <td>29-083</td>\n      <td>2.0</td>\n      <td>1.0</td>\n      <td>1.0</td>\n      <td>50.0</td>\n      <td>1.1</td>\n      <td>0.0</td>\n      <td>9.0</td>\n      <td>4.0</td>\n      <td>0.0</td>\n      <td>0.0</td>\n      <td>Chelsea</td>\n      <td>38.0</td>\n      <td>2021-05-23</td>\n      <td>GK</td>\n    </tr>\n    <tr>\n      <th>762</th>\n      <td>Kepa Arrizabalaga</td>\n      <td>45.0</td>\n      <td>26-232</td>\n      <td>0.0</td>\n      <td>1.0</td>\n      <td>0.0</td>\n      <td>0.0</td>\n      <td>0.6</td>\n      <td>2.0</td>\n      <td>9.0</td>\n      <td>0.0</td>\n      <td>33.3</td>\n      <td>1.0</td>\n      <td>Chelsea</td>\n      <td>38.0</td>\n      <td>2021-05-23</td>\n      <td>GK</td>\n    </tr>\n    <tr>\n      <th>763</th>\n      <td>Łukasz Fabiański</td>\n      <td>90.0</td>\n      <td>36-035</td>\n      <td>5.0</td>\n      <td>0.0</td>\n      <td>5.0</td>\n      <td>100.0</td>\n      <td>1.0</td>\n      <td>14.0</td>\n      <td>28.0</td>\n      <td>6.0</td>\n      <td>60.7</td>\n      <td>0.0</td>\n      <td>West Ham United</td>\n      <td>38.0</td>\n      <td>2021-05-23</td>\n      <td>GK</td>\n    </tr>\n    <tr>\n      <th>764</th>\n      <td>Alex McCarthy</td>\n      <td>90.0</td>\n      <td>31-171</td>\n      <td>7.0</td>\n      <td>3.0</td>\n      <td>4.0</td>\n      <td>57.1</td>\n      <td>1.8</td>\n      <td>4.0</td>\n      <td>23.0</td>\n      <td>5.0</td>\n      <td>43.5</td>\n      <td>0.0</td>\n      <td>Southampton</td>\n      <td>38.0</td>\n      <td>2021-05-23</td>\n      <td>GK</td>\n    </tr>\n  </tbody>\n</table>\n<p>765 rows × 17 columns</p>\n</div>"
     },
     "execution_count": 100,
     "metadata": {},
     "output_type": "execute_result"
    }
   ],
   "source": [
    "def create_csv(df):\n",
    "    df = df.drop_duplicates()\n",
    "    df.reset_index(inplace=True, drop=True)\n",
    "    df.to_csv('PL2020_keepers.csv',index=False)\n",
    "    return df\n",
    "\n",
    "create_csv(gk_2020)\n"
   ],
   "metadata": {
    "collapsed": false,
    "pycharm": {
     "name": "#%%\n"
    }
   }
  },
  {
   "cell_type": "code",
   "execution_count": 129,
   "outputs": [
    {
     "data": {
      "text/plain": "player\nIllan Meslier          130.0\nDavid de Gea           122.0\nJosé Sá                119.0\nKasper Schmeichel      113.0\nJordan Pickford        107.0\nNick Pope               98.0\nRobert Sánchez          96.0\nŁukasz Fabiański        95.0\nTim Krul                93.0\nHugo Lloris             90.0\nEmiliano Martínez       84.0\nVicente Guaita          79.0\nAaron Ramsdale          77.0\nDavid Raya              68.0\nEdouard Mendy           67.0\nFraser Forster          67.0\nMartin Dúbravka         66.0\nAlisson                 65.0\nBen Foster              56.0\nEderson                 54.0\nÁlvaro Fernández        46.0\nDaniel Bachmann         39.0\nAlex McCarthy           38.0\nAngus Gunn              26.0\nKarl Darlow             25.0\nKepa Arrizabalaga       11.0\nJack Butland            11.0\nBernd Leno               9.0\nFreddie Woodman          9.0\nAsmir Begović            7.0\nWayne Hennessey          7.0\nWilly Caballero          6.0\nCaoimhín Kelleher        5.0\nKristoffer Klaesson      4.0\nJason Steele             3.0\nJonas Lössl              2.0\nAlphonse Areola          2.0\nZack Steffen             2.0\nJed Steer                1.0\nName: saves, dtype: float64"
     },
     "execution_count": 129,
     "metadata": {},
     "output_type": "execute_result"
    }
   ],
   "source": [
    "#gk_2021[['player', 'matchweek']]\n",
    "\n",
    "test_group = gk_2021.groupby(['player']).sum()['saves']\n",
    "gk_strength = test_group.sort_values(ascending=False)\n",
    "gk_strength"
   ],
   "metadata": {
    "collapsed": false,
    "pycharm": {
     "name": "#%%\n"
    }
   }
  },
  {
   "cell_type": "code",
   "execution_count": 133,
   "outputs": [
    {
     "data": {
      "text/plain": "         player        matchweek\n1    Bernd Leno    (Matchweek 1)\n36   Bernd Leno    (Matchweek 2)\n41   Bernd Leno    (Matchweek 3)\n573  Bernd Leno   (Matchweek 30)",
      "text/html": "<div>\n<style scoped>\n    .dataframe tbody tr th:only-of-type {\n        vertical-align: middle;\n    }\n\n    .dataframe tbody tr th {\n        vertical-align: top;\n    }\n\n    .dataframe thead th {\n        text-align: right;\n    }\n</style>\n<table border=\"1\" class=\"dataframe\">\n  <thead>\n    <tr style=\"text-align: right;\">\n      <th></th>\n      <th>player</th>\n      <th>matchweek</th>\n    </tr>\n  </thead>\n  <tbody>\n    <tr>\n      <th>1</th>\n      <td>Bernd Leno</td>\n      <td>(Matchweek 1)</td>\n    </tr>\n    <tr>\n      <th>36</th>\n      <td>Bernd Leno</td>\n      <td>(Matchweek 2)</td>\n    </tr>\n    <tr>\n      <th>41</th>\n      <td>Bernd Leno</td>\n      <td>(Matchweek 3)</td>\n    </tr>\n    <tr>\n      <th>573</th>\n      <td>Bernd Leno</td>\n      <td>(Matchweek 30)</td>\n    </tr>\n  </tbody>\n</table>\n</div>"
     },
     "execution_count": 133,
     "metadata": {},
     "output_type": "execute_result"
    }
   ],
   "source": [
    "rslt_df = gk_2021[gk_2021['player'] == 'Bernd Leno']\n",
    "rslt_df[['player', 'matchweek']]"
   ],
   "metadata": {
    "collapsed": false,
    "pycharm": {
     "name": "#%%\n"
    }
   }
  }
 ],
 "metadata": {
  "kernelspec": {
   "display_name": "Python 3",
   "language": "python",
   "name": "python3"
  },
  "language_info": {
   "codemirror_mode": {
    "name": "ipython",
    "version": 2
   },
   "file_extension": ".py",
   "mimetype": "text/x-python",
   "name": "python",
   "nbconvert_exporter": "python",
   "pygments_lexer": "ipython2",
   "version": "2.7.6"
  }
 },
 "nbformat": 4,
 "nbformat_minor": 0
}