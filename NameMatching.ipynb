{
 "cells": [
  {
   "cell_type": "code",
   "execution_count": 1,
   "metadata": {
    "collapsed": true
   },
   "outputs": [
    {
     "name": "stderr",
     "output_type": "stream",
     "text": [
      "C:\\Users\\giuli\\AppData\\Local\\Programs\\Python\\Python310\\lib\\site-packages\\fuzzywuzzy\\fuzz.py:11: UserWarning: Using slow pure-python SequenceMatcher. Install python-Levenshtein to remove this warning\n",
      "  warnings.warn('Using slow pure-python SequenceMatcher. Install python-Levenshtein to remove this warning')\n"
     ]
    }
   ],
   "source": [
    "#import necessary packages\n",
    "import pandas as pd\n",
    "from fuzzywuzzy import fuzz, process\n"
   ]
  },
  {
   "cell_type": "code",
   "execution_count": 2,
   "outputs": [],
   "source": [
    "#import data\n",
    "#season 2019_20\n",
    "PL2019_ratings = pd.read_csv('Data/2019-20/Players/PL2019_ratings.csv')\n",
    "PL2019_fl = pd.read_csv('Data/2019-20/Players/FL_19.csv')\n",
    "PL19_lineups = pd.read_csv('Data/2019-20/Players/PL2019_lineups.csv')\n",
    "PL2019_fl.rename(columns={\"round\": \"matchweek\"}, inplace=True)\n",
    "PL2019_fl['player'] = PL2019_fl['name']\n",
    "#season 2020_21\n",
    "PL2020_ratings = pd.read_csv('Data/2020-21/Players/PL2020_ratings.csv')\n",
    "PL2020_fl = pd.read_csv('Data/2020-21/Players/FL_20.csv')\n",
    "PL20_lineups = pd.read_csv('Data/2020-21/Players/PL2020_lineups.csv')\n",
    "PL2020_fl.rename(columns={\"round\": \"matchweek\"}, inplace=True)\n",
    "PL2020_fl['player'] = PL2020_fl['name']\n",
    "#season 2020_21\n",
    "PL2021_ratings = pd.read_csv('Data/2021-22/Players/PL2021_ratings.csv')\n",
    "PL2021_fl = pd.read_csv('Data/2021-22/Players/FL_21.csv')\n",
    "PL21_lineups = pd.read_csv('Data/2021-22/Players/PL2021_lineups.csv')\n",
    "PL2021_fl.rename(columns={\"round\": \"matchweek\"}, inplace=True)\n",
    "PL2021_fl['player'] = PL2020_fl['name']\n"
   ],
   "metadata": {
    "collapsed": false,
    "pycharm": {
     "name": "#%%\n"
    }
   }
  },
  {
   "cell_type": "code",
   "execution_count": 52,
   "outputs": [],
   "source": [
    "PL2020_fl.replace(['Brighton', 'Leeds', 'Leicester', 'Man City', 'Man Utd', 'Newcastle', 'Sheffield Utd','Spurs','West Brom','West Ham', 'Wolves'], ['Brighton & Hove Albion', 'Leeds United', 'Leicester City','Manchester City', 'Manchester United', 'Newcastle United', 'Sheffield United','Tottenham Hotspur', 'West Bromwich Albion', 'West Ham United','Wolverhampton Wanderers'], inplace=True)\n",
    "PL2020_ratings.loc[PL2020_ratings['position'] == 'GK', 'category'] = 'Goalkeeper'"
   ],
   "metadata": {
    "collapsed": false,
    "pycharm": {
     "name": "#%%\n"
    }
   }
  },
  {
   "cell_type": "code",
   "execution_count": 53,
   "outputs": [],
   "source": [
    "PL2020_ratings.to_excel('ratings_check.xlsx')"
   ],
   "metadata": {
    "collapsed": false,
    "pycharm": {
     "name": "#%%\n"
    }
   }
  },
  {
   "cell_type": "code",
   "execution_count": 38,
   "outputs": [
    {
     "data": {
      "text/plain": "                       player                     Team\n0                   Joe Bryan                   Fulham\n1                    Tim Ream                   Fulham\n2              Michael Hector                   Fulham\n3                  Denis Odoi                   Fulham\n4      Ainsley Maitland-Niles                  Arsenal\n...                       ...                      ...\n10190           João Virgínia                  Everton\n10203              John Ruddy  Wolverhampton Wanderers\n10338            Scott Carson          Manchester City\n10345            Jack Butland           Crystal Palace\n10369             Will Norris                  Burnley\n\n[532 rows x 2 columns]",
      "text/html": "<div>\n<style scoped>\n    .dataframe tbody tr th:only-of-type {\n        vertical-align: middle;\n    }\n\n    .dataframe tbody tr th {\n        vertical-align: top;\n    }\n\n    .dataframe thead th {\n        text-align: right;\n    }\n</style>\n<table border=\"1\" class=\"dataframe\">\n  <thead>\n    <tr style=\"text-align: right;\">\n      <th></th>\n      <th>player</th>\n      <th>Team</th>\n    </tr>\n  </thead>\n  <tbody>\n    <tr>\n      <th>0</th>\n      <td>Joe Bryan</td>\n      <td>Fulham</td>\n    </tr>\n    <tr>\n      <th>1</th>\n      <td>Tim Ream</td>\n      <td>Fulham</td>\n    </tr>\n    <tr>\n      <th>2</th>\n      <td>Michael Hector</td>\n      <td>Fulham</td>\n    </tr>\n    <tr>\n      <th>3</th>\n      <td>Denis Odoi</td>\n      <td>Fulham</td>\n    </tr>\n    <tr>\n      <th>4</th>\n      <td>Ainsley Maitland-Niles</td>\n      <td>Arsenal</td>\n    </tr>\n    <tr>\n      <th>...</th>\n      <td>...</td>\n      <td>...</td>\n    </tr>\n    <tr>\n      <th>10190</th>\n      <td>João Virgínia</td>\n      <td>Everton</td>\n    </tr>\n    <tr>\n      <th>10203</th>\n      <td>John Ruddy</td>\n      <td>Wolverhampton Wanderers</td>\n    </tr>\n    <tr>\n      <th>10338</th>\n      <td>Scott Carson</td>\n      <td>Manchester City</td>\n    </tr>\n    <tr>\n      <th>10345</th>\n      <td>Jack Butland</td>\n      <td>Crystal Palace</td>\n    </tr>\n    <tr>\n      <th>10369</th>\n      <td>Will Norris</td>\n      <td>Burnley</td>\n    </tr>\n  </tbody>\n</table>\n<p>532 rows × 2 columns</p>\n</div>"
     },
     "execution_count": 38,
     "metadata": {},
     "output_type": "execute_result"
    }
   ],
   "source": [
    "players_rating = PL2020_ratings[['player', 'Team']]\n",
    "players_rating = players_rating.drop_duplicates()\n",
    "players_rating"
   ],
   "metadata": {
    "collapsed": false,
    "pycharm": {
     "name": "#%%\n"
    }
   }
  },
  {
   "cell_type": "code",
   "execution_count": 39,
   "outputs": [
    {
     "data": {
      "text/plain": "                   player                name                    team\n0          Aaron Connolly      Aaron Connolly  Brighton & Hove Albion\n1         Aaron Cresswell     Aaron Cresswell         West Ham United\n2              Aaron Mooy          Aaron Mooy  Brighton & Hove Albion\n3          Aaron Ramsdale      Aaron Ramsdale        Sheffield United\n4      Abdoulaye Doucouré  Abdoulaye Doucouré                 Everton\n...                   ...                 ...                     ...\n23955        William Fish        William Fish       Manchester United\n24064    Sylvester Jasper    Sylvester Jasper                  Fulham\n24183       William Osula       William Osula        Sheffield United\n24237      Tim Iroegbunam      Tim Iroegbunam    West Bromwich Albion\n24310           Nile John           Nile John       Tottenham Hotspur\n\n[726 rows x 3 columns]",
      "text/html": "<div>\n<style scoped>\n    .dataframe tbody tr th:only-of-type {\n        vertical-align: middle;\n    }\n\n    .dataframe tbody tr th {\n        vertical-align: top;\n    }\n\n    .dataframe thead th {\n        text-align: right;\n    }\n</style>\n<table border=\"1\" class=\"dataframe\">\n  <thead>\n    <tr style=\"text-align: right;\">\n      <th></th>\n      <th>player</th>\n      <th>name</th>\n      <th>team</th>\n    </tr>\n  </thead>\n  <tbody>\n    <tr>\n      <th>0</th>\n      <td>Aaron Connolly</td>\n      <td>Aaron Connolly</td>\n      <td>Brighton &amp; Hove Albion</td>\n    </tr>\n    <tr>\n      <th>1</th>\n      <td>Aaron Cresswell</td>\n      <td>Aaron Cresswell</td>\n      <td>West Ham United</td>\n    </tr>\n    <tr>\n      <th>2</th>\n      <td>Aaron Mooy</td>\n      <td>Aaron Mooy</td>\n      <td>Brighton &amp; Hove Albion</td>\n    </tr>\n    <tr>\n      <th>3</th>\n      <td>Aaron Ramsdale</td>\n      <td>Aaron Ramsdale</td>\n      <td>Sheffield United</td>\n    </tr>\n    <tr>\n      <th>4</th>\n      <td>Abdoulaye Doucouré</td>\n      <td>Abdoulaye Doucouré</td>\n      <td>Everton</td>\n    </tr>\n    <tr>\n      <th>...</th>\n      <td>...</td>\n      <td>...</td>\n      <td>...</td>\n    </tr>\n    <tr>\n      <th>23955</th>\n      <td>William Fish</td>\n      <td>William Fish</td>\n      <td>Manchester United</td>\n    </tr>\n    <tr>\n      <th>24064</th>\n      <td>Sylvester Jasper</td>\n      <td>Sylvester Jasper</td>\n      <td>Fulham</td>\n    </tr>\n    <tr>\n      <th>24183</th>\n      <td>William Osula</td>\n      <td>William Osula</td>\n      <td>Sheffield United</td>\n    </tr>\n    <tr>\n      <th>24237</th>\n      <td>Tim Iroegbunam</td>\n      <td>Tim Iroegbunam</td>\n      <td>West Bromwich Albion</td>\n    </tr>\n    <tr>\n      <th>24310</th>\n      <td>Nile John</td>\n      <td>Nile John</td>\n      <td>Tottenham Hotspur</td>\n    </tr>\n  </tbody>\n</table>\n<p>726 rows × 3 columns</p>\n</div>"
     },
     "execution_count": 39,
     "metadata": {},
     "output_type": "execute_result"
    }
   ],
   "source": [
    "players_fl = PL2020_fl[['player', 'name', 'team']]\n",
    "players_fl = players_fl.drop_duplicates()\n",
    "players_fl"
   ],
   "metadata": {
    "collapsed": false,
    "pycharm": {
     "name": "#%%\n"
    }
   }
  },
  {
   "cell_type": "code",
   "execution_count": 40,
   "outputs": [
    {
     "data": {
      "text/plain": "                    player                  team          name_lineup\n0              Marek Rodák                Fulham          Marek Rodák\n1           Michael Hector                Fulham       Michael Hector\n2               Denis Odoi                Fulham           Denis Odoi\n3          Neeskens Kebano                Fulham      Neeskens Kebano\n4              Tom Cairney                Fulham          Tom Cairney\n...                    ...                   ...                  ...\n14441      Hannibal Mejbri     Manchester United      Hannibal Mejbri\n14442  William Thomas Fish     Manchester United  William Thomas Fish\n14523       Tim Iroegbunam  West Bromwich Albion       Tim Iroegbunam\n14541      Tyrese Francois                Fulham      Tyrese Francois\n14542     Sylvester Jasper                Fulham     Sylvester Jasper\n\n[653 rows x 3 columns]",
      "text/html": "<div>\n<style scoped>\n    .dataframe tbody tr th:only-of-type {\n        vertical-align: middle;\n    }\n\n    .dataframe tbody tr th {\n        vertical-align: top;\n    }\n\n    .dataframe thead th {\n        text-align: right;\n    }\n</style>\n<table border=\"1\" class=\"dataframe\">\n  <thead>\n    <tr style=\"text-align: right;\">\n      <th></th>\n      <th>player</th>\n      <th>team</th>\n      <th>name_lineup</th>\n    </tr>\n  </thead>\n  <tbody>\n    <tr>\n      <th>0</th>\n      <td>Marek Rodák</td>\n      <td>Fulham</td>\n      <td>Marek Rodák</td>\n    </tr>\n    <tr>\n      <th>1</th>\n      <td>Michael Hector</td>\n      <td>Fulham</td>\n      <td>Michael Hector</td>\n    </tr>\n    <tr>\n      <th>2</th>\n      <td>Denis Odoi</td>\n      <td>Fulham</td>\n      <td>Denis Odoi</td>\n    </tr>\n    <tr>\n      <th>3</th>\n      <td>Neeskens Kebano</td>\n      <td>Fulham</td>\n      <td>Neeskens Kebano</td>\n    </tr>\n    <tr>\n      <th>4</th>\n      <td>Tom Cairney</td>\n      <td>Fulham</td>\n      <td>Tom Cairney</td>\n    </tr>\n    <tr>\n      <th>...</th>\n      <td>...</td>\n      <td>...</td>\n      <td>...</td>\n    </tr>\n    <tr>\n      <th>14441</th>\n      <td>Hannibal Mejbri</td>\n      <td>Manchester United</td>\n      <td>Hannibal Mejbri</td>\n    </tr>\n    <tr>\n      <th>14442</th>\n      <td>William Thomas Fish</td>\n      <td>Manchester United</td>\n      <td>William Thomas Fish</td>\n    </tr>\n    <tr>\n      <th>14523</th>\n      <td>Tim Iroegbunam</td>\n      <td>West Bromwich Albion</td>\n      <td>Tim Iroegbunam</td>\n    </tr>\n    <tr>\n      <th>14541</th>\n      <td>Tyrese Francois</td>\n      <td>Fulham</td>\n      <td>Tyrese Francois</td>\n    </tr>\n    <tr>\n      <th>14542</th>\n      <td>Sylvester Jasper</td>\n      <td>Fulham</td>\n      <td>Sylvester Jasper</td>\n    </tr>\n  </tbody>\n</table>\n<p>653 rows × 3 columns</p>\n</div>"
     },
     "execution_count": 40,
     "metadata": {},
     "output_type": "execute_result"
    }
   ],
   "source": [
    "player_lineup = PL20_21_lineups[['player', 'team']]\n",
    "player_lineup= PL20_21_lineups.drop_duplicates()\n",
    "player_lineup['name_lineup'] = PL20_21_lineups['player']\n",
    "player_lineup"
   ],
   "metadata": {
    "collapsed": false,
    "pycharm": {
     "name": "#%%\n"
    }
   }
  },
  {
   "cell_type": "code",
   "execution_count": 41,
   "outputs": [
    {
     "data": {
      "text/plain": "                     player                    name                  team_x  \\\n0            Aaron Connolly          Aaron Connolly  Brighton & Hove Albion   \n1           Aaron Cresswell         Aaron Cresswell         West Ham United   \n3            Aaron Ramsdale          Aaron Ramsdale        Sheffield United   \n435       Aaron Wan-Bissaka       Aaron Wan-Bissaka       Manchester United   \n4        Abdoulaye Doucouré      Abdoulaye Doucouré                 Everton   \n..                      ...                     ...                     ...   \n697          Joseph Willock          Joseph Willock        Newcastle United   \n709               Kyle John               Kyle John                 Everton   \n719  Jaden Philogene-Bidace  Jaden Philogene-Bidace             Aston Villa   \n723       Jesurun Rak-Sakyi       Jesurun Rak-Sakyi          Crystal Palace   \n743            William Fish            William Fish       Manchester United   \n\n                     team_y         name_lineup  \n0    Brighton & Hove Albion      Aaron Connolly  \n1           West Ham United     Aaron Cresswell  \n3          Sheffield United      Aaron Ramsdale  \n435       Manchester United   Aaron Wan-Bissaka  \n4                   Everton  Abdoulaye Doucouré  \n..                      ...                 ...  \n697                     NaN                 NaN  \n709                     NaN                 NaN  \n719                     NaN                 NaN  \n723                     NaN                 NaN  \n743                     NaN                 NaN  \n\n[748 rows x 5 columns]",
      "text/html": "<div>\n<style scoped>\n    .dataframe tbody tr th:only-of-type {\n        vertical-align: middle;\n    }\n\n    .dataframe tbody tr th {\n        vertical-align: top;\n    }\n\n    .dataframe thead th {\n        text-align: right;\n    }\n</style>\n<table border=\"1\" class=\"dataframe\">\n  <thead>\n    <tr style=\"text-align: right;\">\n      <th></th>\n      <th>player</th>\n      <th>name</th>\n      <th>team_x</th>\n      <th>team_y</th>\n      <th>name_lineup</th>\n    </tr>\n  </thead>\n  <tbody>\n    <tr>\n      <th>0</th>\n      <td>Aaron Connolly</td>\n      <td>Aaron Connolly</td>\n      <td>Brighton &amp; Hove Albion</td>\n      <td>Brighton &amp; Hove Albion</td>\n      <td>Aaron Connolly</td>\n    </tr>\n    <tr>\n      <th>1</th>\n      <td>Aaron Cresswell</td>\n      <td>Aaron Cresswell</td>\n      <td>West Ham United</td>\n      <td>West Ham United</td>\n      <td>Aaron Cresswell</td>\n    </tr>\n    <tr>\n      <th>3</th>\n      <td>Aaron Ramsdale</td>\n      <td>Aaron Ramsdale</td>\n      <td>Sheffield United</td>\n      <td>Sheffield United</td>\n      <td>Aaron Ramsdale</td>\n    </tr>\n    <tr>\n      <th>435</th>\n      <td>Aaron Wan-Bissaka</td>\n      <td>Aaron Wan-Bissaka</td>\n      <td>Manchester United</td>\n      <td>Manchester United</td>\n      <td>Aaron Wan-Bissaka</td>\n    </tr>\n    <tr>\n      <th>4</th>\n      <td>Abdoulaye Doucouré</td>\n      <td>Abdoulaye Doucouré</td>\n      <td>Everton</td>\n      <td>Everton</td>\n      <td>Abdoulaye Doucouré</td>\n    </tr>\n    <tr>\n      <th>...</th>\n      <td>...</td>\n      <td>...</td>\n      <td>...</td>\n      <td>...</td>\n      <td>...</td>\n    </tr>\n    <tr>\n      <th>697</th>\n      <td>Joseph Willock</td>\n      <td>Joseph Willock</td>\n      <td>Newcastle United</td>\n      <td>NaN</td>\n      <td>NaN</td>\n    </tr>\n    <tr>\n      <th>709</th>\n      <td>Kyle John</td>\n      <td>Kyle John</td>\n      <td>Everton</td>\n      <td>NaN</td>\n      <td>NaN</td>\n    </tr>\n    <tr>\n      <th>719</th>\n      <td>Jaden Philogene-Bidace</td>\n      <td>Jaden Philogene-Bidace</td>\n      <td>Aston Villa</td>\n      <td>NaN</td>\n      <td>NaN</td>\n    </tr>\n    <tr>\n      <th>723</th>\n      <td>Jesurun Rak-Sakyi</td>\n      <td>Jesurun Rak-Sakyi</td>\n      <td>Crystal Palace</td>\n      <td>NaN</td>\n      <td>NaN</td>\n    </tr>\n    <tr>\n      <th>743</th>\n      <td>William Fish</td>\n      <td>William Fish</td>\n      <td>Manchester United</td>\n      <td>NaN</td>\n      <td>NaN</td>\n    </tr>\n  </tbody>\n</table>\n<p>748 rows × 5 columns</p>\n</div>"
     },
     "execution_count": 41,
     "metadata": {},
     "output_type": "execute_result"
    }
   ],
   "source": [
    "players_total = pd.merge(players_fl,player_lineup  , on='player', how='left')\n",
    "#players_total['test'].isna().sum()\n",
    "players_total = players_total.sort_values(by='name_lineup')\n",
    "\n",
    "players_total"
   ],
   "metadata": {
    "collapsed": false,
    "pycharm": {
     "name": "#%%\n"
    }
   }
  },
  {
   "cell_type": "code",
   "execution_count": 21,
   "outputs": [
    {
     "data": {
      "text/plain": "                    player                  team          name_lineup  \\\n0              Marek Rodák                Fulham          Marek Rodák   \n1           Michael Hector                Fulham       Michael Hector   \n2               Denis Odoi                Fulham           Denis Odoi   \n3          Neeskens Kebano                Fulham      Neeskens Kebano   \n4              Tom Cairney                Fulham          Tom Cairney   \n...                    ...                   ...                  ...   \n14441      Hannibal Mejbri     Manchester United      Hannibal Mejbri   \n14442  William Thomas Fish     Manchester United  William Thomas Fish   \n14523       Tim Iroegbunam  West Bromwich Albion       Tim Iroegbunam   \n14541      Tyrese Francois                Fulham      Tyrese Francois   \n14542     Sylvester Jasper                Fulham     Sylvester Jasper   \n\n                matches  \n0           Marek Rodák  \n1        Michael Hector  \n2            Denis Odoi  \n3       Neeskens Kebano  \n4           Tom Cairney  \n...                 ...  \n14441   Hannibal Mejbri  \n14442                    \n14523    Tim Iroegbunam  \n14541   Tyrese Francois  \n14542  Sylvester Jasper  \n\n[653 rows x 4 columns]",
      "text/html": "<div>\n<style scoped>\n    .dataframe tbody tr th:only-of-type {\n        vertical-align: middle;\n    }\n\n    .dataframe tbody tr th {\n        vertical-align: top;\n    }\n\n    .dataframe thead th {\n        text-align: right;\n    }\n</style>\n<table border=\"1\" class=\"dataframe\">\n  <thead>\n    <tr style=\"text-align: right;\">\n      <th></th>\n      <th>player</th>\n      <th>team</th>\n      <th>name_lineup</th>\n      <th>matches</th>\n    </tr>\n  </thead>\n  <tbody>\n    <tr>\n      <th>0</th>\n      <td>Marek Rodák</td>\n      <td>Fulham</td>\n      <td>Marek Rodák</td>\n      <td>Marek Rodák</td>\n    </tr>\n    <tr>\n      <th>1</th>\n      <td>Michael Hector</td>\n      <td>Fulham</td>\n      <td>Michael Hector</td>\n      <td>Michael Hector</td>\n    </tr>\n    <tr>\n      <th>2</th>\n      <td>Denis Odoi</td>\n      <td>Fulham</td>\n      <td>Denis Odoi</td>\n      <td>Denis Odoi</td>\n    </tr>\n    <tr>\n      <th>3</th>\n      <td>Neeskens Kebano</td>\n      <td>Fulham</td>\n      <td>Neeskens Kebano</td>\n      <td>Neeskens Kebano</td>\n    </tr>\n    <tr>\n      <th>4</th>\n      <td>Tom Cairney</td>\n      <td>Fulham</td>\n      <td>Tom Cairney</td>\n      <td>Tom Cairney</td>\n    </tr>\n    <tr>\n      <th>...</th>\n      <td>...</td>\n      <td>...</td>\n      <td>...</td>\n      <td>...</td>\n    </tr>\n    <tr>\n      <th>14441</th>\n      <td>Hannibal Mejbri</td>\n      <td>Manchester United</td>\n      <td>Hannibal Mejbri</td>\n      <td>Hannibal Mejbri</td>\n    </tr>\n    <tr>\n      <th>14442</th>\n      <td>William Thomas Fish</td>\n      <td>Manchester United</td>\n      <td>William Thomas Fish</td>\n      <td></td>\n    </tr>\n    <tr>\n      <th>14523</th>\n      <td>Tim Iroegbunam</td>\n      <td>West Bromwich Albion</td>\n      <td>Tim Iroegbunam</td>\n      <td>Tim Iroegbunam</td>\n    </tr>\n    <tr>\n      <th>14541</th>\n      <td>Tyrese Francois</td>\n      <td>Fulham</td>\n      <td>Tyrese Francois</td>\n      <td>Tyrese Francois</td>\n    </tr>\n    <tr>\n      <th>14542</th>\n      <td>Sylvester Jasper</td>\n      <td>Fulham</td>\n      <td>Sylvester Jasper</td>\n      <td>Sylvester Jasper</td>\n    </tr>\n  </tbody>\n</table>\n<p>653 rows × 4 columns</p>\n</div>"
     },
     "execution_count": 21,
     "metadata": {},
     "output_type": "execute_result"
    }
   ],
   "source": [
    "def fuzzy_merge(df_1, df_2, key1, key2, threshold=90, limit=2):\n",
    "    \"\"\"\n",
    "    :param df_1: the left table to join\n",
    "    :param df_2: the right table to join\n",
    "    :param key1: key column of the left table\n",
    "    :param key2: key column of the right table\n",
    "    :param threshold: how close the matches should be to return a match, based on Levenshtein distance\n",
    "    :param limit: the amount of matches that will get returned, these are sorted high to low\n",
    "    :return: dataframe with boths keys and matches\n",
    "    \"\"\"\n",
    "    s = df_2[key2].tolist()\n",
    "\n",
    "    m = df_1[key1].apply(lambda x: process.extract(x, s, limit=limit))\n",
    "    df_1['matches'] = m\n",
    "\n",
    "    m2 = df_1['matches'].apply(lambda x: ', '.join([i[0] for i in x if i[1] >= threshold]))\n",
    "    df_1['matches'] = m2\n",
    "\n",
    "    return df_1\n",
    "players_merged = fuzzy_merge(player_lineup, players_fl ,'player', 'player', threshold=90, limit=1)\n",
    "players_merged"
   ],
   "metadata": {
    "collapsed": false,
    "pycharm": {
     "name": "#%%\n"
    }
   }
  },
  {
   "cell_type": "code",
   "execution_count": 22,
   "outputs": [
    {
     "data": {
      "text/plain": "               player                    team       name_lineup  \\\n0     Kostas Tsimikas               Liverpool   Kostas Tsimikas   \n1        Kiko Casilla            Leeds United      Kiko Casilla   \n2    Khanya Leshabela          Leicester City  Khanya Leshabela   \n3     Carlos Vinícius       Tottenham Hotspur   Carlos Vinícius   \n4        Hélder Costa            Leeds United      Hélder Costa   \n..                ...                     ...               ...   \n648   Youri Tielemans          Leicester City   Youri Tielemans   \n649     Yves Bissouma  Brighton & Hove Albion     Yves Bissouma   \n650      Zack Steffen         Manchester City      Zack Steffen   \n651         Zak Brunt        Sheffield United         Zak Brunt   \n652    Çağlar Söyüncü          Leicester City    Çağlar Söyüncü   \n\n                name  \n0                     \n1                     \n2                     \n3                     \n4                     \n..               ...  \n648  Youri Tielemans  \n649    Yves Bissouma  \n650     Zack Steffen  \n651        Zak Brunt  \n652   Çaglar Söyüncü  \n\n[653 rows x 4 columns]",
      "text/html": "<div>\n<style scoped>\n    .dataframe tbody tr th:only-of-type {\n        vertical-align: middle;\n    }\n\n    .dataframe tbody tr th {\n        vertical-align: top;\n    }\n\n    .dataframe thead th {\n        text-align: right;\n    }\n</style>\n<table border=\"1\" class=\"dataframe\">\n  <thead>\n    <tr style=\"text-align: right;\">\n      <th></th>\n      <th>player</th>\n      <th>team</th>\n      <th>name_lineup</th>\n      <th>name</th>\n    </tr>\n  </thead>\n  <tbody>\n    <tr>\n      <th>0</th>\n      <td>Kostas Tsimikas</td>\n      <td>Liverpool</td>\n      <td>Kostas Tsimikas</td>\n      <td></td>\n    </tr>\n    <tr>\n      <th>1</th>\n      <td>Kiko Casilla</td>\n      <td>Leeds United</td>\n      <td>Kiko Casilla</td>\n      <td></td>\n    </tr>\n    <tr>\n      <th>2</th>\n      <td>Khanya Leshabela</td>\n      <td>Leicester City</td>\n      <td>Khanya Leshabela</td>\n      <td></td>\n    </tr>\n    <tr>\n      <th>3</th>\n      <td>Carlos Vinícius</td>\n      <td>Tottenham Hotspur</td>\n      <td>Carlos Vinícius</td>\n      <td></td>\n    </tr>\n    <tr>\n      <th>4</th>\n      <td>Hélder Costa</td>\n      <td>Leeds United</td>\n      <td>Hélder Costa</td>\n      <td></td>\n    </tr>\n    <tr>\n      <th>...</th>\n      <td>...</td>\n      <td>...</td>\n      <td>...</td>\n      <td>...</td>\n    </tr>\n    <tr>\n      <th>648</th>\n      <td>Youri Tielemans</td>\n      <td>Leicester City</td>\n      <td>Youri Tielemans</td>\n      <td>Youri Tielemans</td>\n    </tr>\n    <tr>\n      <th>649</th>\n      <td>Yves Bissouma</td>\n      <td>Brighton &amp; Hove Albion</td>\n      <td>Yves Bissouma</td>\n      <td>Yves Bissouma</td>\n    </tr>\n    <tr>\n      <th>650</th>\n      <td>Zack Steffen</td>\n      <td>Manchester City</td>\n      <td>Zack Steffen</td>\n      <td>Zack Steffen</td>\n    </tr>\n    <tr>\n      <th>651</th>\n      <td>Zak Brunt</td>\n      <td>Sheffield United</td>\n      <td>Zak Brunt</td>\n      <td>Zak Brunt</td>\n    </tr>\n    <tr>\n      <th>652</th>\n      <td>Çağlar Söyüncü</td>\n      <td>Leicester City</td>\n      <td>Çağlar Söyüncü</td>\n      <td>Çaglar Söyüncü</td>\n    </tr>\n  </tbody>\n</table>\n<p>653 rows × 4 columns</p>\n</div>"
     },
     "execution_count": 22,
     "metadata": {},
     "output_type": "execute_result"
    }
   ],
   "source": [
    "#players_merged = players_merged[['player','Team', 'matches']]\n",
    "players_merged= players_merged.sort_values(by='matches')\n",
    "players_merged.reset_index(inplace=True, drop=True)\n",
    "players_merged.rename(columns={\"matches\": \"name\"}, inplace=True)\n",
    "players_merged\n",
    "\n"
   ],
   "metadata": {
    "collapsed": false,
    "pycharm": {
     "name": "#%%\n"
    }
   }
  },
  {
   "cell_type": "code",
   "execution_count": 13,
   "outputs": [
    {
     "data": {
      "text/plain": "                   player                name                    team\n0          Aaron Connolly      Aaron Connolly  Brighton & Hove Albion\n1         Aaron Cresswell     Aaron Cresswell         West Ham United\n2              Aaron Mooy          Aaron Mooy  Brighton & Hove Albion\n3          Aaron Ramsdale      Aaron Ramsdale        Sheffield United\n4      Abdoulaye Doucouré  Abdoulaye Doucouré                 Everton\n...                   ...                 ...                     ...\n23955        William Fish        William Fish       Manchester United\n24064    Sylvester Jasper    Sylvester Jasper                  Fulham\n24183       William Osula       William Osula        Sheffield United\n24237      Tim Iroegbunam      Tim Iroegbunam    West Bromwich Albion\n24310           Nile John           Nile John       Tottenham Hotspur\n\n[726 rows x 3 columns]",
      "text/html": "<div>\n<style scoped>\n    .dataframe tbody tr th:only-of-type {\n        vertical-align: middle;\n    }\n\n    .dataframe tbody tr th {\n        vertical-align: top;\n    }\n\n    .dataframe thead th {\n        text-align: right;\n    }\n</style>\n<table border=\"1\" class=\"dataframe\">\n  <thead>\n    <tr style=\"text-align: right;\">\n      <th></th>\n      <th>player</th>\n      <th>name</th>\n      <th>team</th>\n    </tr>\n  </thead>\n  <tbody>\n    <tr>\n      <th>0</th>\n      <td>Aaron Connolly</td>\n      <td>Aaron Connolly</td>\n      <td>Brighton &amp; Hove Albion</td>\n    </tr>\n    <tr>\n      <th>1</th>\n      <td>Aaron Cresswell</td>\n      <td>Aaron Cresswell</td>\n      <td>West Ham United</td>\n    </tr>\n    <tr>\n      <th>2</th>\n      <td>Aaron Mooy</td>\n      <td>Aaron Mooy</td>\n      <td>Brighton &amp; Hove Albion</td>\n    </tr>\n    <tr>\n      <th>3</th>\n      <td>Aaron Ramsdale</td>\n      <td>Aaron Ramsdale</td>\n      <td>Sheffield United</td>\n    </tr>\n    <tr>\n      <th>4</th>\n      <td>Abdoulaye Doucouré</td>\n      <td>Abdoulaye Doucouré</td>\n      <td>Everton</td>\n    </tr>\n    <tr>\n      <th>...</th>\n      <td>...</td>\n      <td>...</td>\n      <td>...</td>\n    </tr>\n    <tr>\n      <th>23955</th>\n      <td>William Fish</td>\n      <td>William Fish</td>\n      <td>Manchester United</td>\n    </tr>\n    <tr>\n      <th>24064</th>\n      <td>Sylvester Jasper</td>\n      <td>Sylvester Jasper</td>\n      <td>Fulham</td>\n    </tr>\n    <tr>\n      <th>24183</th>\n      <td>William Osula</td>\n      <td>William Osula</td>\n      <td>Sheffield United</td>\n    </tr>\n    <tr>\n      <th>24237</th>\n      <td>Tim Iroegbunam</td>\n      <td>Tim Iroegbunam</td>\n      <td>West Bromwich Albion</td>\n    </tr>\n    <tr>\n      <th>24310</th>\n      <td>Nile John</td>\n      <td>Nile John</td>\n      <td>Tottenham Hotspur</td>\n    </tr>\n  </tbody>\n</table>\n<p>726 rows × 3 columns</p>\n</div>"
     },
     "execution_count": 13,
     "metadata": {},
     "output_type": "execute_result"
    }
   ],
   "source": [
    "players_fl"
   ],
   "metadata": {
    "collapsed": false,
    "pycharm": {
     "name": "#%%\n"
    }
   }
  },
  {
   "cell_type": "code",
   "execution_count": 42,
   "outputs": [
    {
     "data": {
      "text/plain": "        player_rating             team_rating        player_fl  \\\n0     Kostas Tsimikas               Liverpool                    \n1        Kiko Casilla            Leeds United                    \n2    Khanya Leshabela          Leicester City                    \n3     Carlos Vinícius       Tottenham Hotspur                    \n4        Hélder Costa            Leeds United                    \n..                ...                     ...              ...   \n672   Youri Tielemans          Leicester City  Youri Tielemans   \n673     Yves Bissouma  Brighton & Hove Albion    Yves Bissouma   \n674      Zack Steffen         Manchester City     Zack Steffen   \n675         Zak Brunt        Sheffield United        Zak Brunt   \n676    Çağlar Söyüncü          Leicester City   Çaglar Söyüncü   \n\n                    team_fl  \n0                       NaN  \n1                       NaN  \n2                       NaN  \n3                       NaN  \n4                       NaN  \n..                      ...  \n672          Leicester City  \n673  Brighton & Hove Albion  \n674         Manchester City  \n675        Sheffield United  \n676          Leicester City  \n\n[677 rows x 4 columns]",
      "text/html": "<div>\n<style scoped>\n    .dataframe tbody tr th:only-of-type {\n        vertical-align: middle;\n    }\n\n    .dataframe tbody tr th {\n        vertical-align: top;\n    }\n\n    .dataframe thead th {\n        text-align: right;\n    }\n</style>\n<table border=\"1\" class=\"dataframe\">\n  <thead>\n    <tr style=\"text-align: right;\">\n      <th></th>\n      <th>player_rating</th>\n      <th>team_rating</th>\n      <th>player_fl</th>\n      <th>team_fl</th>\n    </tr>\n  </thead>\n  <tbody>\n    <tr>\n      <th>0</th>\n      <td>Kostas Tsimikas</td>\n      <td>Liverpool</td>\n      <td></td>\n      <td>NaN</td>\n    </tr>\n    <tr>\n      <th>1</th>\n      <td>Kiko Casilla</td>\n      <td>Leeds United</td>\n      <td></td>\n      <td>NaN</td>\n    </tr>\n    <tr>\n      <th>2</th>\n      <td>Khanya Leshabela</td>\n      <td>Leicester City</td>\n      <td></td>\n      <td>NaN</td>\n    </tr>\n    <tr>\n      <th>3</th>\n      <td>Carlos Vinícius</td>\n      <td>Tottenham Hotspur</td>\n      <td></td>\n      <td>NaN</td>\n    </tr>\n    <tr>\n      <th>4</th>\n      <td>Hélder Costa</td>\n      <td>Leeds United</td>\n      <td></td>\n      <td>NaN</td>\n    </tr>\n    <tr>\n      <th>...</th>\n      <td>...</td>\n      <td>...</td>\n      <td>...</td>\n      <td>...</td>\n    </tr>\n    <tr>\n      <th>672</th>\n      <td>Youri Tielemans</td>\n      <td>Leicester City</td>\n      <td>Youri Tielemans</td>\n      <td>Leicester City</td>\n    </tr>\n    <tr>\n      <th>673</th>\n      <td>Yves Bissouma</td>\n      <td>Brighton &amp; Hove Albion</td>\n      <td>Yves Bissouma</td>\n      <td>Brighton &amp; Hove Albion</td>\n    </tr>\n    <tr>\n      <th>674</th>\n      <td>Zack Steffen</td>\n      <td>Manchester City</td>\n      <td>Zack Steffen</td>\n      <td>Manchester City</td>\n    </tr>\n    <tr>\n      <th>675</th>\n      <td>Zak Brunt</td>\n      <td>Sheffield United</td>\n      <td>Zak Brunt</td>\n      <td>Sheffield United</td>\n    </tr>\n    <tr>\n      <th>676</th>\n      <td>Çağlar Söyüncü</td>\n      <td>Leicester City</td>\n      <td>Çaglar Söyüncü</td>\n      <td>Leicester City</td>\n    </tr>\n  </tbody>\n</table>\n<p>677 rows × 4 columns</p>\n</div>"
     },
     "execution_count": 42,
     "metadata": {},
     "output_type": "execute_result"
    }
   ],
   "source": [
    "out = pd.merge(players_merged,players_fl , on='name', how='left')\n",
    "\n",
    "out = out[['player_x', 'team_x', 'name', 'team_y']]\n",
    "out.rename(columns={\"player_x\": \"player_rating\", \"team_x\": \"team_rating\", \"name\": \"player_fl\", \"team_y\": \"team_fl\" }, inplace=True)\n",
    "out"
   ],
   "metadata": {
    "collapsed": false,
    "pycharm": {
     "name": "#%%\n"
    }
   }
  },
  {
   "cell_type": "code",
   "execution_count": 26,
   "outputs": [],
   "source": [
    "out.to_excel('names_2020.xlsx')"
   ],
   "metadata": {
    "collapsed": false,
    "pycharm": {
     "name": "#%%\n"
    }
   }
  },
  {
   "cell_type": "code",
   "execution_count": 100,
   "outputs": [
    {
     "data": {
      "text/plain": "     Unnamed: 0    player_rating             team_rating         player_fl\n0            55   Aaron Connolly  Brighton & Hove Albion   Aaron Connolly \n1            56  Aaron Cresswell         West Ham United  Aaron Cresswell \n2            57     Aaron Lennon                 Burnley     Aaron Lennon \n3            58       Aaron Mooy  Brighton & Hove Albion       Aaron Mooy \n4            59   Aaron Ramsdale             Bournemouth   Aaron Ramsdale \n..          ...              ...                     ...               ...\n616         614       Yerry Mina                 Everton       Yerry Mina \n617         615   Yoshinori Mutō        Newcastle United   Yoshinori Muto \n618         616  Youri Tielemans          Leicester City  Youri Tielemans \n619         617    Yves Bissouma  Brighton & Hove Albion    Yves Bissouma \n620         618      Zech Medley                 Arsenal      Zech Medley \n\n[621 rows x 4 columns]",
      "text/html": "<div>\n<style scoped>\n    .dataframe tbody tr th:only-of-type {\n        vertical-align: middle;\n    }\n\n    .dataframe tbody tr th {\n        vertical-align: top;\n    }\n\n    .dataframe thead th {\n        text-align: right;\n    }\n</style>\n<table border=\"1\" class=\"dataframe\">\n  <thead>\n    <tr style=\"text-align: right;\">\n      <th></th>\n      <th>Unnamed: 0</th>\n      <th>player_rating</th>\n      <th>team_rating</th>\n      <th>player_fl</th>\n    </tr>\n  </thead>\n  <tbody>\n    <tr>\n      <th>0</th>\n      <td>55</td>\n      <td>Aaron Connolly</td>\n      <td>Brighton &amp; Hove Albion</td>\n      <td>Aaron Connolly</td>\n    </tr>\n    <tr>\n      <th>1</th>\n      <td>56</td>\n      <td>Aaron Cresswell</td>\n      <td>West Ham United</td>\n      <td>Aaron Cresswell</td>\n    </tr>\n    <tr>\n      <th>2</th>\n      <td>57</td>\n      <td>Aaron Lennon</td>\n      <td>Burnley</td>\n      <td>Aaron Lennon</td>\n    </tr>\n    <tr>\n      <th>3</th>\n      <td>58</td>\n      <td>Aaron Mooy</td>\n      <td>Brighton &amp; Hove Albion</td>\n      <td>Aaron Mooy</td>\n    </tr>\n    <tr>\n      <th>4</th>\n      <td>59</td>\n      <td>Aaron Ramsdale</td>\n      <td>Bournemouth</td>\n      <td>Aaron Ramsdale</td>\n    </tr>\n    <tr>\n      <th>...</th>\n      <td>...</td>\n      <td>...</td>\n      <td>...</td>\n      <td>...</td>\n    </tr>\n    <tr>\n      <th>616</th>\n      <td>614</td>\n      <td>Yerry Mina</td>\n      <td>Everton</td>\n      <td>Yerry Mina</td>\n    </tr>\n    <tr>\n      <th>617</th>\n      <td>615</td>\n      <td>Yoshinori Mutō</td>\n      <td>Newcastle United</td>\n      <td>Yoshinori Muto</td>\n    </tr>\n    <tr>\n      <th>618</th>\n      <td>616</td>\n      <td>Youri Tielemans</td>\n      <td>Leicester City</td>\n      <td>Youri Tielemans</td>\n    </tr>\n    <tr>\n      <th>619</th>\n      <td>617</td>\n      <td>Yves Bissouma</td>\n      <td>Brighton &amp; Hove Albion</td>\n      <td>Yves Bissouma</td>\n    </tr>\n    <tr>\n      <th>620</th>\n      <td>618</td>\n      <td>Zech Medley</td>\n      <td>Arsenal</td>\n      <td>Zech Medley</td>\n    </tr>\n  </tbody>\n</table>\n<p>621 rows × 4 columns</p>\n</div>"
     },
     "execution_count": 100,
     "metadata": {},
     "output_type": "execute_result"
    }
   ],
   "source": [
    "name_matching = pd.read_excel('name_matching_2019.xlsx')\n",
    "name_matching"
   ],
   "metadata": {
    "collapsed": false,
    "pycharm": {
     "name": "#%%\n"
    }
   }
  },
  {
   "cell_type": "code",
   "execution_count": 101,
   "outputs": [
    {
     "data": {
      "text/plain": "       player_rating            player\n0     Aaron Connolly   Aaron Connolly \n1    Aaron Cresswell  Aaron Cresswell \n2       Aaron Lennon     Aaron Lennon \n3         Aaron Mooy       Aaron Mooy \n4     Aaron Ramsdale   Aaron Ramsdale \n..               ...               ...\n616       Yerry Mina       Yerry Mina \n617   Yoshinori Mutō   Yoshinori Muto \n618  Youri Tielemans  Youri Tielemans \n619    Yves Bissouma    Yves Bissouma \n620      Zech Medley      Zech Medley \n\n[614 rows x 2 columns]",
      "text/html": "<div>\n<style scoped>\n    .dataframe tbody tr th:only-of-type {\n        vertical-align: middle;\n    }\n\n    .dataframe tbody tr th {\n        vertical-align: top;\n    }\n\n    .dataframe thead th {\n        text-align: right;\n    }\n</style>\n<table border=\"1\" class=\"dataframe\">\n  <thead>\n    <tr style=\"text-align: right;\">\n      <th></th>\n      <th>player_rating</th>\n      <th>player</th>\n    </tr>\n  </thead>\n  <tbody>\n    <tr>\n      <th>0</th>\n      <td>Aaron Connolly</td>\n      <td>Aaron Connolly</td>\n    </tr>\n    <tr>\n      <th>1</th>\n      <td>Aaron Cresswell</td>\n      <td>Aaron Cresswell</td>\n    </tr>\n    <tr>\n      <th>2</th>\n      <td>Aaron Lennon</td>\n      <td>Aaron Lennon</td>\n    </tr>\n    <tr>\n      <th>3</th>\n      <td>Aaron Mooy</td>\n      <td>Aaron Mooy</td>\n    </tr>\n    <tr>\n      <th>4</th>\n      <td>Aaron Ramsdale</td>\n      <td>Aaron Ramsdale</td>\n    </tr>\n    <tr>\n      <th>...</th>\n      <td>...</td>\n      <td>...</td>\n    </tr>\n    <tr>\n      <th>616</th>\n      <td>Yerry Mina</td>\n      <td>Yerry Mina</td>\n    </tr>\n    <tr>\n      <th>617</th>\n      <td>Yoshinori Mutō</td>\n      <td>Yoshinori Muto</td>\n    </tr>\n    <tr>\n      <th>618</th>\n      <td>Youri Tielemans</td>\n      <td>Youri Tielemans</td>\n    </tr>\n    <tr>\n      <th>619</th>\n      <td>Yves Bissouma</td>\n      <td>Yves Bissouma</td>\n    </tr>\n    <tr>\n      <th>620</th>\n      <td>Zech Medley</td>\n      <td>Zech Medley</td>\n    </tr>\n  </tbody>\n</table>\n<p>614 rows × 2 columns</p>\n</div>"
     },
     "execution_count": 101,
     "metadata": {},
     "output_type": "execute_result"
    }
   ],
   "source": [
    "name_matching = name_matching[['player_rating', 'player_fl']]\n",
    "name_matching = name_matching.drop_duplicates()\n",
    "name_matching.rename(columns={\"player_fl\": \"player\"}, inplace=True)\n",
    "name_matching"
   ],
   "metadata": {
    "collapsed": false,
    "pycharm": {
     "name": "#%%\n"
    }
   }
  },
  {
   "cell_type": "code",
   "execution_count": 102,
   "outputs": [
    {
     "data": {
      "text/plain": "                    name  assists  bonus  bps  clean_sheets  creativity  \\\n0        Aaron Cresswell        0      0    7             0         1.5   \n1           Aaron Lennon        0      0    3             0         0.0   \n2             Aaron Mooy        0      0    0             0         0.0   \n3         Aaron Ramsdale        0      0   11             0         0.0   \n4      Aaron Wan-Bissaka        0      2   34             1        16.1   \n...                  ...      ...    ...  ...           ...         ...   \n22555    Youri Tielemans        0      0   11             0        37.4   \n22556      Yves Bissouma        0      0   22             0         1.3   \n22557        Zech Medley        0      0    0             0         0.0   \n22558     Çaglar Söyüncü        0      0    0             0         0.0   \n22559       Ørjan Nyland        0      0    0             0         0.0   \n\n       element  fixture  goals_conceded  goals_scored  ...  total_points  \\\n0          376        8               5             0  ...             0   \n1          430        3               0             0  ...             1   \n2          516        7               0             0  ...             0   \n3          494        2               1             0  ...             2   \n4          122        9               0             0  ...             8   \n...        ...      ...             ...           ...  ...           ...   \n22555      448      376               1             0  ...             2   \n22556       53      372               1             1  ...             7   \n22557      636      371               0             0  ...             0   \n22558      164      376               0             0  ...             0   \n22559       27      380               0             0  ...             0   \n\n       transfers_balance transfers_in  transfers_out  value  was_home  \\\n0                      0            0              0     50      True   \n1                      0            0              0     50      True   \n2                      0            0              0     50     False   \n3                      0            0              0     45      True   \n4                      0            0              0     55      True   \n...                  ...          ...            ...    ...       ...   \n22555              -3103         1905           5008     61      True   \n22556                 77          147             70     50     False   \n22557                153          325            172     40      True   \n22558             -95515          165          95680     49      True   \n22559              -1114          230           1344     43     False   \n\n       yellow_cards  GW             player        date  \n0                 0   1    Aaron Cresswell  2019-08-10  \n1                 0   1       Aaron Lennon  2019-08-10  \n2                 0   1         Aaron Mooy  2019-08-10  \n3                 0   1     Aaron Ramsdale  2019-08-10  \n4                 0   1  Aaron Wan-Bissaka  2019-08-11  \n...             ...  ..                ...         ...  \n22555             0  47    Youri Tielemans  2020-07-26  \n22556             0  47      Yves Bissouma  2020-07-26  \n22557             0  47        Zech Medley  2020-07-26  \n22558             0  47     Çaglar Söyüncü  2020-07-26  \n22559             0  47       Ørjan Nyland  2020-07-26  \n\n[22560 rows x 35 columns]",
      "text/html": "<div>\n<style scoped>\n    .dataframe tbody tr th:only-of-type {\n        vertical-align: middle;\n    }\n\n    .dataframe tbody tr th {\n        vertical-align: top;\n    }\n\n    .dataframe thead th {\n        text-align: right;\n    }\n</style>\n<table border=\"1\" class=\"dataframe\">\n  <thead>\n    <tr style=\"text-align: right;\">\n      <th></th>\n      <th>name</th>\n      <th>assists</th>\n      <th>bonus</th>\n      <th>bps</th>\n      <th>clean_sheets</th>\n      <th>creativity</th>\n      <th>element</th>\n      <th>fixture</th>\n      <th>goals_conceded</th>\n      <th>goals_scored</th>\n      <th>...</th>\n      <th>total_points</th>\n      <th>transfers_balance</th>\n      <th>transfers_in</th>\n      <th>transfers_out</th>\n      <th>value</th>\n      <th>was_home</th>\n      <th>yellow_cards</th>\n      <th>GW</th>\n      <th>player</th>\n      <th>date</th>\n    </tr>\n  </thead>\n  <tbody>\n    <tr>\n      <th>0</th>\n      <td>Aaron Cresswell</td>\n      <td>0</td>\n      <td>0</td>\n      <td>7</td>\n      <td>0</td>\n      <td>1.5</td>\n      <td>376</td>\n      <td>8</td>\n      <td>5</td>\n      <td>0</td>\n      <td>...</td>\n      <td>0</td>\n      <td>0</td>\n      <td>0</td>\n      <td>0</td>\n      <td>50</td>\n      <td>True</td>\n      <td>0</td>\n      <td>1</td>\n      <td>Aaron Cresswell</td>\n      <td>2019-08-10</td>\n    </tr>\n    <tr>\n      <th>1</th>\n      <td>Aaron Lennon</td>\n      <td>0</td>\n      <td>0</td>\n      <td>3</td>\n      <td>0</td>\n      <td>0.0</td>\n      <td>430</td>\n      <td>3</td>\n      <td>0</td>\n      <td>0</td>\n      <td>...</td>\n      <td>1</td>\n      <td>0</td>\n      <td>0</td>\n      <td>0</td>\n      <td>50</td>\n      <td>True</td>\n      <td>0</td>\n      <td>1</td>\n      <td>Aaron Lennon</td>\n      <td>2019-08-10</td>\n    </tr>\n    <tr>\n      <th>2</th>\n      <td>Aaron Mooy</td>\n      <td>0</td>\n      <td>0</td>\n      <td>0</td>\n      <td>0</td>\n      <td>0.0</td>\n      <td>516</td>\n      <td>7</td>\n      <td>0</td>\n      <td>0</td>\n      <td>...</td>\n      <td>0</td>\n      <td>0</td>\n      <td>0</td>\n      <td>0</td>\n      <td>50</td>\n      <td>False</td>\n      <td>0</td>\n      <td>1</td>\n      <td>Aaron Mooy</td>\n      <td>2019-08-10</td>\n    </tr>\n    <tr>\n      <th>3</th>\n      <td>Aaron Ramsdale</td>\n      <td>0</td>\n      <td>0</td>\n      <td>11</td>\n      <td>0</td>\n      <td>0.0</td>\n      <td>494</td>\n      <td>2</td>\n      <td>1</td>\n      <td>0</td>\n      <td>...</td>\n      <td>2</td>\n      <td>0</td>\n      <td>0</td>\n      <td>0</td>\n      <td>45</td>\n      <td>True</td>\n      <td>0</td>\n      <td>1</td>\n      <td>Aaron Ramsdale</td>\n      <td>2019-08-10</td>\n    </tr>\n    <tr>\n      <th>4</th>\n      <td>Aaron Wan-Bissaka</td>\n      <td>0</td>\n      <td>2</td>\n      <td>34</td>\n      <td>1</td>\n      <td>16.1</td>\n      <td>122</td>\n      <td>9</td>\n      <td>0</td>\n      <td>0</td>\n      <td>...</td>\n      <td>8</td>\n      <td>0</td>\n      <td>0</td>\n      <td>0</td>\n      <td>55</td>\n      <td>True</td>\n      <td>0</td>\n      <td>1</td>\n      <td>Aaron Wan-Bissaka</td>\n      <td>2019-08-11</td>\n    </tr>\n    <tr>\n      <th>...</th>\n      <td>...</td>\n      <td>...</td>\n      <td>...</td>\n      <td>...</td>\n      <td>...</td>\n      <td>...</td>\n      <td>...</td>\n      <td>...</td>\n      <td>...</td>\n      <td>...</td>\n      <td>...</td>\n      <td>...</td>\n      <td>...</td>\n      <td>...</td>\n      <td>...</td>\n      <td>...</td>\n      <td>...</td>\n      <td>...</td>\n      <td>...</td>\n      <td>...</td>\n      <td>...</td>\n    </tr>\n    <tr>\n      <th>22555</th>\n      <td>Youri Tielemans</td>\n      <td>0</td>\n      <td>0</td>\n      <td>11</td>\n      <td>0</td>\n      <td>37.4</td>\n      <td>448</td>\n      <td>376</td>\n      <td>1</td>\n      <td>0</td>\n      <td>...</td>\n      <td>2</td>\n      <td>-3103</td>\n      <td>1905</td>\n      <td>5008</td>\n      <td>61</td>\n      <td>True</td>\n      <td>0</td>\n      <td>47</td>\n      <td>Youri Tielemans</td>\n      <td>2020-07-26</td>\n    </tr>\n    <tr>\n      <th>22556</th>\n      <td>Yves Bissouma</td>\n      <td>0</td>\n      <td>0</td>\n      <td>22</td>\n      <td>0</td>\n      <td>1.3</td>\n      <td>53</td>\n      <td>372</td>\n      <td>1</td>\n      <td>1</td>\n      <td>...</td>\n      <td>7</td>\n      <td>77</td>\n      <td>147</td>\n      <td>70</td>\n      <td>50</td>\n      <td>False</td>\n      <td>0</td>\n      <td>47</td>\n      <td>Yves Bissouma</td>\n      <td>2020-07-26</td>\n    </tr>\n    <tr>\n      <th>22557</th>\n      <td>Zech Medley</td>\n      <td>0</td>\n      <td>0</td>\n      <td>0</td>\n      <td>0</td>\n      <td>0.0</td>\n      <td>636</td>\n      <td>371</td>\n      <td>0</td>\n      <td>0</td>\n      <td>...</td>\n      <td>0</td>\n      <td>153</td>\n      <td>325</td>\n      <td>172</td>\n      <td>40</td>\n      <td>True</td>\n      <td>0</td>\n      <td>47</td>\n      <td>Zech Medley</td>\n      <td>2020-07-26</td>\n    </tr>\n    <tr>\n      <th>22558</th>\n      <td>Çaglar Söyüncü</td>\n      <td>0</td>\n      <td>0</td>\n      <td>0</td>\n      <td>0</td>\n      <td>0.0</td>\n      <td>164</td>\n      <td>376</td>\n      <td>0</td>\n      <td>0</td>\n      <td>...</td>\n      <td>0</td>\n      <td>-95515</td>\n      <td>165</td>\n      <td>95680</td>\n      <td>49</td>\n      <td>True</td>\n      <td>0</td>\n      <td>47</td>\n      <td>Çaglar Söyüncü</td>\n      <td>2020-07-26</td>\n    </tr>\n    <tr>\n      <th>22559</th>\n      <td>Ørjan Nyland</td>\n      <td>0</td>\n      <td>0</td>\n      <td>0</td>\n      <td>0</td>\n      <td>0.0</td>\n      <td>27</td>\n      <td>380</td>\n      <td>0</td>\n      <td>0</td>\n      <td>...</td>\n      <td>0</td>\n      <td>-1114</td>\n      <td>230</td>\n      <td>1344</td>\n      <td>43</td>\n      <td>False</td>\n      <td>0</td>\n      <td>47</td>\n      <td>Ørjan Nyland</td>\n      <td>2020-07-26</td>\n    </tr>\n  </tbody>\n</table>\n<p>22560 rows × 35 columns</p>\n</div>"
     },
     "execution_count": 102,
     "metadata": {},
     "output_type": "execute_result"
    }
   ],
   "source": [
    "PL2019_fl ['date'] = PL2019_fl['kickoff_time'].str.slice(start=0, stop=10)\n",
    "PL2019_fl"
   ],
   "metadata": {
    "collapsed": false,
    "pycharm": {
     "name": "#%%\n"
    }
   }
  },
  {
   "cell_type": "code",
   "execution_count": 105,
   "outputs": [
    {
     "data": {
      "text/plain": "                    name  assists  bonus  bps  clean_sheets  creativity  \\\n0        Aaron Cresswell        0      0    7             0         1.5   \n1           Aaron Lennon        0      0    3             0         0.0   \n2             Aaron Mooy        0      0    0             0         0.0   \n3         Aaron Ramsdale        0      0   11             0         0.0   \n4      Aaron Wan-Bissaka        0      2   34             1        16.1   \n...                  ...      ...    ...  ...           ...         ...   \n22555    Youri Tielemans        0      0   11             0        37.4   \n22556      Yves Bissouma        0      0   22             0         1.3   \n22557        Zech Medley        0      0    0             0         0.0   \n22558     Çaglar Söyüncü        0      0    0             0         0.0   \n22559       Ørjan Nyland        0      0    0             0         0.0   \n\n       element  fixture  goals_conceded  goals_scored  ...  transfers_in  \\\n0          376        8               5             0  ...             0   \n1          430        3               0             0  ...             0   \n2          516        7               0             0  ...             0   \n3          494        2               1             0  ...             0   \n4          122        9               0             0  ...             0   \n...        ...      ...             ...           ...  ...           ...   \n22555      448      376               1             0  ...          1905   \n22556       53      372               1             1  ...           147   \n22557      636      371               0             0  ...           325   \n22558      164      376               0             0  ...           165   \n22559       27      380               0             0  ...           230   \n\n       transfers_out value  was_home  yellow_cards  GW             player  \\\n0                  0    50      True             0   1    Aaron Cresswell   \n1                  0    50      True             0   1       Aaron Lennon   \n2                  0    50     False             0   1         Aaron Mooy   \n3                  0    45      True             0   1     Aaron Ramsdale   \n4                  0    55      True             0   1  Aaron Wan-Bissaka   \n...              ...   ...       ...           ...  ..                ...   \n22555           5008    61      True             0  47    Youri Tielemans   \n22556             70    50     False             0  47      Yves Bissouma   \n22557            172    40      True             0  47        Zech Medley   \n22558          95680    49      True             0  47     Çaglar Söyüncü   \n22559           1344    43     False             0  47       Ørjan Nyland   \n\n             date      player_rating                            ID  \n0      2019-08-10    Aaron Cresswell    Aaron Cresswell_2019-08-10  \n1      2019-08-10       Aaron Lennon       Aaron Lennon_2019-08-10  \n2      2019-08-10         Aaron Mooy         Aaron Mooy_2019-08-10  \n3      2019-08-10     Aaron Ramsdale     Aaron Ramsdale_2019-08-10  \n4      2019-08-11  Aaron Wan-Bissaka  Aaron Wan-Bissaka_2019-08-11  \n...           ...                ...                           ...  \n22555  2020-07-26    Youri Tielemans    Youri Tielemans_2020-07-26  \n22556  2020-07-26      Yves Bissouma      Yves Bissouma_2020-07-26  \n22557  2020-07-26        Zech Medley        Zech Medley_2020-07-26  \n22558  2020-07-26     Çağlar Söyüncü     Çağlar Söyüncü_2020-07-26  \n22559  2020-07-26       Ørjan Nyland       Ørjan Nyland_2020-07-26  \n\n[22560 rows x 37 columns]",
      "text/html": "<div>\n<style scoped>\n    .dataframe tbody tr th:only-of-type {\n        vertical-align: middle;\n    }\n\n    .dataframe tbody tr th {\n        vertical-align: top;\n    }\n\n    .dataframe thead th {\n        text-align: right;\n    }\n</style>\n<table border=\"1\" class=\"dataframe\">\n  <thead>\n    <tr style=\"text-align: right;\">\n      <th></th>\n      <th>name</th>\n      <th>assists</th>\n      <th>bonus</th>\n      <th>bps</th>\n      <th>clean_sheets</th>\n      <th>creativity</th>\n      <th>element</th>\n      <th>fixture</th>\n      <th>goals_conceded</th>\n      <th>goals_scored</th>\n      <th>...</th>\n      <th>transfers_in</th>\n      <th>transfers_out</th>\n      <th>value</th>\n      <th>was_home</th>\n      <th>yellow_cards</th>\n      <th>GW</th>\n      <th>player</th>\n      <th>date</th>\n      <th>player_rating</th>\n      <th>ID</th>\n    </tr>\n  </thead>\n  <tbody>\n    <tr>\n      <th>0</th>\n      <td>Aaron Cresswell</td>\n      <td>0</td>\n      <td>0</td>\n      <td>7</td>\n      <td>0</td>\n      <td>1.5</td>\n      <td>376</td>\n      <td>8</td>\n      <td>5</td>\n      <td>0</td>\n      <td>...</td>\n      <td>0</td>\n      <td>0</td>\n      <td>50</td>\n      <td>True</td>\n      <td>0</td>\n      <td>1</td>\n      <td>Aaron Cresswell</td>\n      <td>2019-08-10</td>\n      <td>Aaron Cresswell</td>\n      <td>Aaron Cresswell_2019-08-10</td>\n    </tr>\n    <tr>\n      <th>1</th>\n      <td>Aaron Lennon</td>\n      <td>0</td>\n      <td>0</td>\n      <td>3</td>\n      <td>0</td>\n      <td>0.0</td>\n      <td>430</td>\n      <td>3</td>\n      <td>0</td>\n      <td>0</td>\n      <td>...</td>\n      <td>0</td>\n      <td>0</td>\n      <td>50</td>\n      <td>True</td>\n      <td>0</td>\n      <td>1</td>\n      <td>Aaron Lennon</td>\n      <td>2019-08-10</td>\n      <td>Aaron Lennon</td>\n      <td>Aaron Lennon_2019-08-10</td>\n    </tr>\n    <tr>\n      <th>2</th>\n      <td>Aaron Mooy</td>\n      <td>0</td>\n      <td>0</td>\n      <td>0</td>\n      <td>0</td>\n      <td>0.0</td>\n      <td>516</td>\n      <td>7</td>\n      <td>0</td>\n      <td>0</td>\n      <td>...</td>\n      <td>0</td>\n      <td>0</td>\n      <td>50</td>\n      <td>False</td>\n      <td>0</td>\n      <td>1</td>\n      <td>Aaron Mooy</td>\n      <td>2019-08-10</td>\n      <td>Aaron Mooy</td>\n      <td>Aaron Mooy_2019-08-10</td>\n    </tr>\n    <tr>\n      <th>3</th>\n      <td>Aaron Ramsdale</td>\n      <td>0</td>\n      <td>0</td>\n      <td>11</td>\n      <td>0</td>\n      <td>0.0</td>\n      <td>494</td>\n      <td>2</td>\n      <td>1</td>\n      <td>0</td>\n      <td>...</td>\n      <td>0</td>\n      <td>0</td>\n      <td>45</td>\n      <td>True</td>\n      <td>0</td>\n      <td>1</td>\n      <td>Aaron Ramsdale</td>\n      <td>2019-08-10</td>\n      <td>Aaron Ramsdale</td>\n      <td>Aaron Ramsdale_2019-08-10</td>\n    </tr>\n    <tr>\n      <th>4</th>\n      <td>Aaron Wan-Bissaka</td>\n      <td>0</td>\n      <td>2</td>\n      <td>34</td>\n      <td>1</td>\n      <td>16.1</td>\n      <td>122</td>\n      <td>9</td>\n      <td>0</td>\n      <td>0</td>\n      <td>...</td>\n      <td>0</td>\n      <td>0</td>\n      <td>55</td>\n      <td>True</td>\n      <td>0</td>\n      <td>1</td>\n      <td>Aaron Wan-Bissaka</td>\n      <td>2019-08-11</td>\n      <td>Aaron Wan-Bissaka</td>\n      <td>Aaron Wan-Bissaka_2019-08-11</td>\n    </tr>\n    <tr>\n      <th>...</th>\n      <td>...</td>\n      <td>...</td>\n      <td>...</td>\n      <td>...</td>\n      <td>...</td>\n      <td>...</td>\n      <td>...</td>\n      <td>...</td>\n      <td>...</td>\n      <td>...</td>\n      <td>...</td>\n      <td>...</td>\n      <td>...</td>\n      <td>...</td>\n      <td>...</td>\n      <td>...</td>\n      <td>...</td>\n      <td>...</td>\n      <td>...</td>\n      <td>...</td>\n      <td>...</td>\n    </tr>\n    <tr>\n      <th>22555</th>\n      <td>Youri Tielemans</td>\n      <td>0</td>\n      <td>0</td>\n      <td>11</td>\n      <td>0</td>\n      <td>37.4</td>\n      <td>448</td>\n      <td>376</td>\n      <td>1</td>\n      <td>0</td>\n      <td>...</td>\n      <td>1905</td>\n      <td>5008</td>\n      <td>61</td>\n      <td>True</td>\n      <td>0</td>\n      <td>47</td>\n      <td>Youri Tielemans</td>\n      <td>2020-07-26</td>\n      <td>Youri Tielemans</td>\n      <td>Youri Tielemans_2020-07-26</td>\n    </tr>\n    <tr>\n      <th>22556</th>\n      <td>Yves Bissouma</td>\n      <td>0</td>\n      <td>0</td>\n      <td>22</td>\n      <td>0</td>\n      <td>1.3</td>\n      <td>53</td>\n      <td>372</td>\n      <td>1</td>\n      <td>1</td>\n      <td>...</td>\n      <td>147</td>\n      <td>70</td>\n      <td>50</td>\n      <td>False</td>\n      <td>0</td>\n      <td>47</td>\n      <td>Yves Bissouma</td>\n      <td>2020-07-26</td>\n      <td>Yves Bissouma</td>\n      <td>Yves Bissouma_2020-07-26</td>\n    </tr>\n    <tr>\n      <th>22557</th>\n      <td>Zech Medley</td>\n      <td>0</td>\n      <td>0</td>\n      <td>0</td>\n      <td>0</td>\n      <td>0.0</td>\n      <td>636</td>\n      <td>371</td>\n      <td>0</td>\n      <td>0</td>\n      <td>...</td>\n      <td>325</td>\n      <td>172</td>\n      <td>40</td>\n      <td>True</td>\n      <td>0</td>\n      <td>47</td>\n      <td>Zech Medley</td>\n      <td>2020-07-26</td>\n      <td>Zech Medley</td>\n      <td>Zech Medley_2020-07-26</td>\n    </tr>\n    <tr>\n      <th>22558</th>\n      <td>Çaglar Söyüncü</td>\n      <td>0</td>\n      <td>0</td>\n      <td>0</td>\n      <td>0</td>\n      <td>0.0</td>\n      <td>164</td>\n      <td>376</td>\n      <td>0</td>\n      <td>0</td>\n      <td>...</td>\n      <td>165</td>\n      <td>95680</td>\n      <td>49</td>\n      <td>True</td>\n      <td>0</td>\n      <td>47</td>\n      <td>Çaglar Söyüncü</td>\n      <td>2020-07-26</td>\n      <td>Çağlar Söyüncü</td>\n      <td>Çağlar Söyüncü_2020-07-26</td>\n    </tr>\n    <tr>\n      <th>22559</th>\n      <td>Ørjan Nyland</td>\n      <td>0</td>\n      <td>0</td>\n      <td>0</td>\n      <td>0</td>\n      <td>0.0</td>\n      <td>27</td>\n      <td>380</td>\n      <td>0</td>\n      <td>0</td>\n      <td>...</td>\n      <td>230</td>\n      <td>1344</td>\n      <td>43</td>\n      <td>False</td>\n      <td>0</td>\n      <td>47</td>\n      <td>Ørjan Nyland</td>\n      <td>2020-07-26</td>\n      <td>Ørjan Nyland</td>\n      <td>Ørjan Nyland_2020-07-26</td>\n    </tr>\n  </tbody>\n</table>\n<p>22560 rows × 37 columns</p>\n</div>"
     },
     "execution_count": 105,
     "metadata": {},
     "output_type": "execute_result"
    }
   ],
   "source": [
    "PL2019_fl['player'] = PL2019_fl['player'].str.strip()\n",
    "name_matching['player'] = name_matching['player'].str.strip()\n",
    "PL2019_fl_matched = pd.merge(PL2019_fl, name_matching , on='player', how='left')\n",
    "#PL2020_fl_matched['GW']= PL2020_fl_matched['GW'].astype(float)\n",
    "PL2019_fl_matched['ID'] = PL2019_fl_matched['player_rating'] + '_' + PL2019_fl_matched['date'].astype(str)\n",
    "PL2019_fl_matched"
   ],
   "metadata": {
    "collapsed": false,
    "pycharm": {
     "name": "#%%\n"
    }
   }
  },
  {
   "cell_type": "code",
   "execution_count": 106,
   "outputs": [
    {
     "data": {
      "text/plain": "                       player position     age  minutes               Team  \\\n0            Andrew Robertson       LB  25-151     90.0          Liverpool   \n1             Virgil van Dijk       CB  28-032     90.0          Liverpool   \n2                   Joe Gomez       CB  22-078     90.0          Liverpool   \n3      Trent Alexander-Arnold       RB  20-306     90.0          Liverpool   \n4                 Jamal Lewis       LB  21-196     90.0       Norwich City   \n...                       ...      ...     ...      ...                ...   \n10611            David de Gea       GK  29-262     90.0  Manchester United   \n10612                 Ederson       GK  26-344     90.0    Manchester City   \n10613                Tim Krul       GK  32-114     90.0       Norwich City   \n10614           Alex McCarthy       GK  30-236     90.0        Southampton   \n10615          Dean Henderson       GK  23-136     90.0   Sheffield United   \n\n       matchweek    category     Rating        date  \\\n0            1.0    Defender  38.324184  2019-08-09   \n1            1.0    Defender  23.823938  2019-08-09   \n2            1.0    Defender  22.788262  2019-08-09   \n3            1.0    Defender  32.156373  2019-08-09   \n4            1.0    Defender  38.828733  2019-08-09   \n...          ...         ...        ...         ...   \n10611       38.0  Goalkeeper  55.802267  2020-07-26   \n10612       38.0  Goalkeeper  57.421139  2020-07-26   \n10613       38.0  Goalkeeper  29.910324  2020-07-26   \n10614       38.0  Goalkeeper  40.027284  2020-07-26   \n10615       38.0  Goalkeeper  17.657389  2020-07-26   \n\n                                      ID  \n0            Andrew Robertson_2019-08-09  \n1             Virgil van Dijk_2019-08-09  \n2                   Joe Gomez_2019-08-09  \n3      Trent Alexander-Arnold_2019-08-09  \n4                 Jamal Lewis_2019-08-09  \n...                                  ...  \n10611            David de Gea_2020-07-26  \n10612                 Ederson_2020-07-26  \n10613                Tim Krul_2020-07-26  \n10614           Alex McCarthy_2020-07-26  \n10615          Dean Henderson_2020-07-26  \n\n[10616 rows x 10 columns]",
      "text/html": "<div>\n<style scoped>\n    .dataframe tbody tr th:only-of-type {\n        vertical-align: middle;\n    }\n\n    .dataframe tbody tr th {\n        vertical-align: top;\n    }\n\n    .dataframe thead th {\n        text-align: right;\n    }\n</style>\n<table border=\"1\" class=\"dataframe\">\n  <thead>\n    <tr style=\"text-align: right;\">\n      <th></th>\n      <th>player</th>\n      <th>position</th>\n      <th>age</th>\n      <th>minutes</th>\n      <th>Team</th>\n      <th>matchweek</th>\n      <th>category</th>\n      <th>Rating</th>\n      <th>date</th>\n      <th>ID</th>\n    </tr>\n  </thead>\n  <tbody>\n    <tr>\n      <th>0</th>\n      <td>Andrew Robertson</td>\n      <td>LB</td>\n      <td>25-151</td>\n      <td>90.0</td>\n      <td>Liverpool</td>\n      <td>1.0</td>\n      <td>Defender</td>\n      <td>38.324184</td>\n      <td>2019-08-09</td>\n      <td>Andrew Robertson_2019-08-09</td>\n    </tr>\n    <tr>\n      <th>1</th>\n      <td>Virgil van Dijk</td>\n      <td>CB</td>\n      <td>28-032</td>\n      <td>90.0</td>\n      <td>Liverpool</td>\n      <td>1.0</td>\n      <td>Defender</td>\n      <td>23.823938</td>\n      <td>2019-08-09</td>\n      <td>Virgil van Dijk_2019-08-09</td>\n    </tr>\n    <tr>\n      <th>2</th>\n      <td>Joe Gomez</td>\n      <td>CB</td>\n      <td>22-078</td>\n      <td>90.0</td>\n      <td>Liverpool</td>\n      <td>1.0</td>\n      <td>Defender</td>\n      <td>22.788262</td>\n      <td>2019-08-09</td>\n      <td>Joe Gomez_2019-08-09</td>\n    </tr>\n    <tr>\n      <th>3</th>\n      <td>Trent Alexander-Arnold</td>\n      <td>RB</td>\n      <td>20-306</td>\n      <td>90.0</td>\n      <td>Liverpool</td>\n      <td>1.0</td>\n      <td>Defender</td>\n      <td>32.156373</td>\n      <td>2019-08-09</td>\n      <td>Trent Alexander-Arnold_2019-08-09</td>\n    </tr>\n    <tr>\n      <th>4</th>\n      <td>Jamal Lewis</td>\n      <td>LB</td>\n      <td>21-196</td>\n      <td>90.0</td>\n      <td>Norwich City</td>\n      <td>1.0</td>\n      <td>Defender</td>\n      <td>38.828733</td>\n      <td>2019-08-09</td>\n      <td>Jamal Lewis_2019-08-09</td>\n    </tr>\n    <tr>\n      <th>...</th>\n      <td>...</td>\n      <td>...</td>\n      <td>...</td>\n      <td>...</td>\n      <td>...</td>\n      <td>...</td>\n      <td>...</td>\n      <td>...</td>\n      <td>...</td>\n      <td>...</td>\n    </tr>\n    <tr>\n      <th>10611</th>\n      <td>David de Gea</td>\n      <td>GK</td>\n      <td>29-262</td>\n      <td>90.0</td>\n      <td>Manchester United</td>\n      <td>38.0</td>\n      <td>Goalkeeper</td>\n      <td>55.802267</td>\n      <td>2020-07-26</td>\n      <td>David de Gea_2020-07-26</td>\n    </tr>\n    <tr>\n      <th>10612</th>\n      <td>Ederson</td>\n      <td>GK</td>\n      <td>26-344</td>\n      <td>90.0</td>\n      <td>Manchester City</td>\n      <td>38.0</td>\n      <td>Goalkeeper</td>\n      <td>57.421139</td>\n      <td>2020-07-26</td>\n      <td>Ederson_2020-07-26</td>\n    </tr>\n    <tr>\n      <th>10613</th>\n      <td>Tim Krul</td>\n      <td>GK</td>\n      <td>32-114</td>\n      <td>90.0</td>\n      <td>Norwich City</td>\n      <td>38.0</td>\n      <td>Goalkeeper</td>\n      <td>29.910324</td>\n      <td>2020-07-26</td>\n      <td>Tim Krul_2020-07-26</td>\n    </tr>\n    <tr>\n      <th>10614</th>\n      <td>Alex McCarthy</td>\n      <td>GK</td>\n      <td>30-236</td>\n      <td>90.0</td>\n      <td>Southampton</td>\n      <td>38.0</td>\n      <td>Goalkeeper</td>\n      <td>40.027284</td>\n      <td>2020-07-26</td>\n      <td>Alex McCarthy_2020-07-26</td>\n    </tr>\n    <tr>\n      <th>10615</th>\n      <td>Dean Henderson</td>\n      <td>GK</td>\n      <td>23-136</td>\n      <td>90.0</td>\n      <td>Sheffield United</td>\n      <td>38.0</td>\n      <td>Goalkeeper</td>\n      <td>17.657389</td>\n      <td>2020-07-26</td>\n      <td>Dean Henderson_2020-07-26</td>\n    </tr>\n  </tbody>\n</table>\n<p>10616 rows × 10 columns</p>\n</div>"
     },
     "execution_count": 106,
     "metadata": {},
     "output_type": "execute_result"
    }
   ],
   "source": [
    "PL2019_ratings['ID'] = PL2019_ratings['player'] + '_' + PL2019_ratings['date'].astype(str)\n",
    "PL2019_ratings"
   ],
   "metadata": {
    "collapsed": false,
    "pycharm": {
     "name": "#%%\n"
    }
   }
  },
  {
   "cell_type": "code",
   "execution_count": 107,
   "outputs": [
    {
     "data": {
      "text/plain": "                    name  assists  bonus  bps  clean_sheets  creativity  \\\n0        Aaron Cresswell        0      0    7             0         1.5   \n1           Aaron Lennon        0      0    3             0         0.0   \n2             Aaron Mooy        0      0    0             0         0.0   \n3         Aaron Ramsdale        0      0   11             0         0.0   \n4      Aaron Wan-Bissaka        0      2   34             1        16.1   \n...                  ...      ...    ...  ...           ...         ...   \n22556    Youri Tielemans        0      0   11             0        37.4   \n22557      Yves Bissouma        0      0   22             0         1.3   \n22558        Zech Medley        0      0    0             0         0.0   \n22559     Çaglar Söyüncü        0      0    0             0         0.0   \n22560       Ørjan Nyland        0      0    0             0         0.0   \n\n       element  fixture  goals_conceded  goals_scored  ...  \\\n0          376        8               5             0  ...   \n1          430        3               0             0  ...   \n2          516        7               0             0  ...   \n3          494        2               1             0  ...   \n4          122        9               0             0  ...   \n...        ...      ...             ...           ...  ...   \n22556      448      376               1             0  ...   \n22557       53      372               1             1  ...   \n22558      636      371               0             0  ...   \n22559      164      376               0             0  ...   \n22560       27      380               0             0  ...   \n\n                                 ID           player_y position     age  \\\n0        Aaron Cresswell_2019-08-10    Aaron Cresswell       LB  29-238   \n1           Aaron Lennon_2019-08-10       Aaron Lennon       LM  32-116   \n2             Aaron Mooy_2019-08-10                NaN      NaN     NaN   \n3         Aaron Ramsdale_2019-08-10     Aaron Ramsdale       GK  21-088   \n4      Aaron Wan-Bissaka_2019-08-11  Aaron Wan-Bissaka       RB  21-258   \n...                             ...                ...      ...     ...   \n22556    Youri Tielemans_2020-07-26    Youri Tielemans       CM  23-080   \n22557      Yves Bissouma_2020-07-26      Yves Bissouma       DM  23-331   \n22558        Zech Medley_2020-07-26                NaN      NaN     NaN   \n22559     Çağlar Söyüncü_2020-07-26                NaN      NaN     NaN   \n22560       Ørjan Nyland_2020-07-26                NaN      NaN     NaN   \n\n       minutes_y                    Team  matchweek_y    category     Rating  \\\n0           90.0         West Ham United          1.0    Defender  16.471345   \n1            7.0                 Burnley          1.0    Midfield   2.007932   \n2            NaN                     NaN          NaN         NaN        NaN   \n3           90.0             Bournemouth          1.0  Goalkeeper  37.868320   \n4           90.0       Manchester United          1.0    Defender  34.567219   \n...          ...                     ...          ...         ...        ...   \n22556       72.0          Leicester City         38.0    Midfield  23.693602   \n22557       72.0  Brighton & Hove Albion         38.0    Midfield  10.941405   \n22558        NaN                     NaN          NaN         NaN        NaN   \n22559        NaN                     NaN          NaN         NaN        NaN   \n22560        NaN                     NaN          NaN         NaN        NaN   \n\n           date_y  \n0      2019-08-10  \n1      2019-08-10  \n2             NaN  \n3      2019-08-10  \n4      2019-08-11  \n...           ...  \n22556  2020-07-26  \n22557  2020-07-26  \n22558         NaN  \n22559         NaN  \n22560         NaN  \n\n[22561 rows x 46 columns]",
      "text/html": "<div>\n<style scoped>\n    .dataframe tbody tr th:only-of-type {\n        vertical-align: middle;\n    }\n\n    .dataframe tbody tr th {\n        vertical-align: top;\n    }\n\n    .dataframe thead th {\n        text-align: right;\n    }\n</style>\n<table border=\"1\" class=\"dataframe\">\n  <thead>\n    <tr style=\"text-align: right;\">\n      <th></th>\n      <th>name</th>\n      <th>assists</th>\n      <th>bonus</th>\n      <th>bps</th>\n      <th>clean_sheets</th>\n      <th>creativity</th>\n      <th>element</th>\n      <th>fixture</th>\n      <th>goals_conceded</th>\n      <th>goals_scored</th>\n      <th>...</th>\n      <th>ID</th>\n      <th>player_y</th>\n      <th>position</th>\n      <th>age</th>\n      <th>minutes_y</th>\n      <th>Team</th>\n      <th>matchweek_y</th>\n      <th>category</th>\n      <th>Rating</th>\n      <th>date_y</th>\n    </tr>\n  </thead>\n  <tbody>\n    <tr>\n      <th>0</th>\n      <td>Aaron Cresswell</td>\n      <td>0</td>\n      <td>0</td>\n      <td>7</td>\n      <td>0</td>\n      <td>1.5</td>\n      <td>376</td>\n      <td>8</td>\n      <td>5</td>\n      <td>0</td>\n      <td>...</td>\n      <td>Aaron Cresswell_2019-08-10</td>\n      <td>Aaron Cresswell</td>\n      <td>LB</td>\n      <td>29-238</td>\n      <td>90.0</td>\n      <td>West Ham United</td>\n      <td>1.0</td>\n      <td>Defender</td>\n      <td>16.471345</td>\n      <td>2019-08-10</td>\n    </tr>\n    <tr>\n      <th>1</th>\n      <td>Aaron Lennon</td>\n      <td>0</td>\n      <td>0</td>\n      <td>3</td>\n      <td>0</td>\n      <td>0.0</td>\n      <td>430</td>\n      <td>3</td>\n      <td>0</td>\n      <td>0</td>\n      <td>...</td>\n      <td>Aaron Lennon_2019-08-10</td>\n      <td>Aaron Lennon</td>\n      <td>LM</td>\n      <td>32-116</td>\n      <td>7.0</td>\n      <td>Burnley</td>\n      <td>1.0</td>\n      <td>Midfield</td>\n      <td>2.007932</td>\n      <td>2019-08-10</td>\n    </tr>\n    <tr>\n      <th>2</th>\n      <td>Aaron Mooy</td>\n      <td>0</td>\n      <td>0</td>\n      <td>0</td>\n      <td>0</td>\n      <td>0.0</td>\n      <td>516</td>\n      <td>7</td>\n      <td>0</td>\n      <td>0</td>\n      <td>...</td>\n      <td>Aaron Mooy_2019-08-10</td>\n      <td>NaN</td>\n      <td>NaN</td>\n      <td>NaN</td>\n      <td>NaN</td>\n      <td>NaN</td>\n      <td>NaN</td>\n      <td>NaN</td>\n      <td>NaN</td>\n      <td>NaN</td>\n    </tr>\n    <tr>\n      <th>3</th>\n      <td>Aaron Ramsdale</td>\n      <td>0</td>\n      <td>0</td>\n      <td>11</td>\n      <td>0</td>\n      <td>0.0</td>\n      <td>494</td>\n      <td>2</td>\n      <td>1</td>\n      <td>0</td>\n      <td>...</td>\n      <td>Aaron Ramsdale_2019-08-10</td>\n      <td>Aaron Ramsdale</td>\n      <td>GK</td>\n      <td>21-088</td>\n      <td>90.0</td>\n      <td>Bournemouth</td>\n      <td>1.0</td>\n      <td>Goalkeeper</td>\n      <td>37.868320</td>\n      <td>2019-08-10</td>\n    </tr>\n    <tr>\n      <th>4</th>\n      <td>Aaron Wan-Bissaka</td>\n      <td>0</td>\n      <td>2</td>\n      <td>34</td>\n      <td>1</td>\n      <td>16.1</td>\n      <td>122</td>\n      <td>9</td>\n      <td>0</td>\n      <td>0</td>\n      <td>...</td>\n      <td>Aaron Wan-Bissaka_2019-08-11</td>\n      <td>Aaron Wan-Bissaka</td>\n      <td>RB</td>\n      <td>21-258</td>\n      <td>90.0</td>\n      <td>Manchester United</td>\n      <td>1.0</td>\n      <td>Defender</td>\n      <td>34.567219</td>\n      <td>2019-08-11</td>\n    </tr>\n    <tr>\n      <th>...</th>\n      <td>...</td>\n      <td>...</td>\n      <td>...</td>\n      <td>...</td>\n      <td>...</td>\n      <td>...</td>\n      <td>...</td>\n      <td>...</td>\n      <td>...</td>\n      <td>...</td>\n      <td>...</td>\n      <td>...</td>\n      <td>...</td>\n      <td>...</td>\n      <td>...</td>\n      <td>...</td>\n      <td>...</td>\n      <td>...</td>\n      <td>...</td>\n      <td>...</td>\n      <td>...</td>\n    </tr>\n    <tr>\n      <th>22556</th>\n      <td>Youri Tielemans</td>\n      <td>0</td>\n      <td>0</td>\n      <td>11</td>\n      <td>0</td>\n      <td>37.4</td>\n      <td>448</td>\n      <td>376</td>\n      <td>1</td>\n      <td>0</td>\n      <td>...</td>\n      <td>Youri Tielemans_2020-07-26</td>\n      <td>Youri Tielemans</td>\n      <td>CM</td>\n      <td>23-080</td>\n      <td>72.0</td>\n      <td>Leicester City</td>\n      <td>38.0</td>\n      <td>Midfield</td>\n      <td>23.693602</td>\n      <td>2020-07-26</td>\n    </tr>\n    <tr>\n      <th>22557</th>\n      <td>Yves Bissouma</td>\n      <td>0</td>\n      <td>0</td>\n      <td>22</td>\n      <td>0</td>\n      <td>1.3</td>\n      <td>53</td>\n      <td>372</td>\n      <td>1</td>\n      <td>1</td>\n      <td>...</td>\n      <td>Yves Bissouma_2020-07-26</td>\n      <td>Yves Bissouma</td>\n      <td>DM</td>\n      <td>23-331</td>\n      <td>72.0</td>\n      <td>Brighton &amp; Hove Albion</td>\n      <td>38.0</td>\n      <td>Midfield</td>\n      <td>10.941405</td>\n      <td>2020-07-26</td>\n    </tr>\n    <tr>\n      <th>22558</th>\n      <td>Zech Medley</td>\n      <td>0</td>\n      <td>0</td>\n      <td>0</td>\n      <td>0</td>\n      <td>0.0</td>\n      <td>636</td>\n      <td>371</td>\n      <td>0</td>\n      <td>0</td>\n      <td>...</td>\n      <td>Zech Medley_2020-07-26</td>\n      <td>NaN</td>\n      <td>NaN</td>\n      <td>NaN</td>\n      <td>NaN</td>\n      <td>NaN</td>\n      <td>NaN</td>\n      <td>NaN</td>\n      <td>NaN</td>\n      <td>NaN</td>\n    </tr>\n    <tr>\n      <th>22559</th>\n      <td>Çaglar Söyüncü</td>\n      <td>0</td>\n      <td>0</td>\n      <td>0</td>\n      <td>0</td>\n      <td>0.0</td>\n      <td>164</td>\n      <td>376</td>\n      <td>0</td>\n      <td>0</td>\n      <td>...</td>\n      <td>Çağlar Söyüncü_2020-07-26</td>\n      <td>NaN</td>\n      <td>NaN</td>\n      <td>NaN</td>\n      <td>NaN</td>\n      <td>NaN</td>\n      <td>NaN</td>\n      <td>NaN</td>\n      <td>NaN</td>\n      <td>NaN</td>\n    </tr>\n    <tr>\n      <th>22560</th>\n      <td>Ørjan Nyland</td>\n      <td>0</td>\n      <td>0</td>\n      <td>0</td>\n      <td>0</td>\n      <td>0.0</td>\n      <td>27</td>\n      <td>380</td>\n      <td>0</td>\n      <td>0</td>\n      <td>...</td>\n      <td>Ørjan Nyland_2020-07-26</td>\n      <td>NaN</td>\n      <td>NaN</td>\n      <td>NaN</td>\n      <td>NaN</td>\n      <td>NaN</td>\n      <td>NaN</td>\n      <td>NaN</td>\n      <td>NaN</td>\n      <td>NaN</td>\n    </tr>\n  </tbody>\n</table>\n<p>22561 rows × 46 columns</p>\n</div>"
     },
     "execution_count": 107,
     "metadata": {},
     "output_type": "execute_result"
    }
   ],
   "source": [
    "PL2019_matched = pd.merge(PL2019_fl_matched, PL2019_ratings , on='ID', how='left')\n",
    "PL2019_matched"
   ],
   "metadata": {
    "collapsed": false,
    "pycharm": {
     "name": "#%%\n"
    }
   }
  },
  {
   "cell_type": "code",
   "execution_count": 108,
   "outputs": [
    {
     "data": {
      "text/plain": "                    name  assists  bonus  bps  clean_sheets  creativity  \\\n0        Aaron Cresswell        0      0    7             0         1.5   \n1           Aaron Lennon        0      0    3             0         0.0   \n2             Aaron Mooy        0      0    0             0         0.0   \n3         Aaron Ramsdale        0      0   11             0         0.0   \n4      Aaron Wan-Bissaka        0      2   34             1        16.1   \n...                  ...      ...    ...  ...           ...         ...   \n22556    Youri Tielemans        0      0   11             0        37.4   \n22557      Yves Bissouma        0      0   22             0         1.3   \n22558        Zech Medley        0      0    0             0         0.0   \n22559     Çaglar Söyüncü        0      0    0             0         0.0   \n22560       Ørjan Nyland        0      0    0             0         0.0   \n\n       element  fixture  goals_conceded  goals_scored  ...  \\\n0          376        8               5             0  ...   \n1          430        3               0             0  ...   \n2          516        7               0             0  ...   \n3          494        2               1             0  ...   \n4          122        9               0             0  ...   \n...        ...      ...             ...           ...  ...   \n22556      448      376               1             0  ...   \n22557       53      372               1             1  ...   \n22558      636      371               0             0  ...   \n22559      164      376               0             0  ...   \n22560       27      380               0             0  ...   \n\n                                 ID           player_y position     age  \\\n0        Aaron Cresswell_2019-08-10    Aaron Cresswell       LB  29-238   \n1           Aaron Lennon_2019-08-10       Aaron Lennon       LM  32-116   \n2             Aaron Mooy_2019-08-10                NaN      NaN     NaN   \n3         Aaron Ramsdale_2019-08-10     Aaron Ramsdale       GK  21-088   \n4      Aaron Wan-Bissaka_2019-08-11  Aaron Wan-Bissaka       RB  21-258   \n...                             ...                ...      ...     ...   \n22556    Youri Tielemans_2020-07-26    Youri Tielemans       CM  23-080   \n22557      Yves Bissouma_2020-07-26      Yves Bissouma       DM  23-331   \n22558        Zech Medley_2020-07-26                NaN      NaN     NaN   \n22559     Çağlar Söyüncü_2020-07-26                NaN      NaN     NaN   \n22560       Ørjan Nyland_2020-07-26                NaN      NaN     NaN   \n\n       minutes_y                    Team  matchweek_y    category     Rating  \\\n0           90.0         West Ham United          1.0    Defender  16.471345   \n1            7.0                 Burnley          1.0    Midfield   2.007932   \n2            NaN                     NaN          NaN         NaN   0.000000   \n3           90.0             Bournemouth          1.0  Goalkeeper  37.868320   \n4           90.0       Manchester United          1.0    Defender  34.567219   \n...          ...                     ...          ...         ...        ...   \n22556       72.0          Leicester City         38.0    Midfield  23.693602   \n22557       72.0  Brighton & Hove Albion         38.0    Midfield  10.941405   \n22558        NaN                     NaN          NaN         NaN   0.000000   \n22559        NaN                     NaN          NaN         NaN   0.000000   \n22560        NaN                     NaN          NaN         NaN   0.000000   \n\n           date_y  \n0      2019-08-10  \n1      2019-08-10  \n2             NaN  \n3      2019-08-10  \n4      2019-08-11  \n...           ...  \n22556  2020-07-26  \n22557  2020-07-26  \n22558         NaN  \n22559         NaN  \n22560         NaN  \n\n[22561 rows x 46 columns]",
      "text/html": "<div>\n<style scoped>\n    .dataframe tbody tr th:only-of-type {\n        vertical-align: middle;\n    }\n\n    .dataframe tbody tr th {\n        vertical-align: top;\n    }\n\n    .dataframe thead th {\n        text-align: right;\n    }\n</style>\n<table border=\"1\" class=\"dataframe\">\n  <thead>\n    <tr style=\"text-align: right;\">\n      <th></th>\n      <th>name</th>\n      <th>assists</th>\n      <th>bonus</th>\n      <th>bps</th>\n      <th>clean_sheets</th>\n      <th>creativity</th>\n      <th>element</th>\n      <th>fixture</th>\n      <th>goals_conceded</th>\n      <th>goals_scored</th>\n      <th>...</th>\n      <th>ID</th>\n      <th>player_y</th>\n      <th>position</th>\n      <th>age</th>\n      <th>minutes_y</th>\n      <th>Team</th>\n      <th>matchweek_y</th>\n      <th>category</th>\n      <th>Rating</th>\n      <th>date_y</th>\n    </tr>\n  </thead>\n  <tbody>\n    <tr>\n      <th>0</th>\n      <td>Aaron Cresswell</td>\n      <td>0</td>\n      <td>0</td>\n      <td>7</td>\n      <td>0</td>\n      <td>1.5</td>\n      <td>376</td>\n      <td>8</td>\n      <td>5</td>\n      <td>0</td>\n      <td>...</td>\n      <td>Aaron Cresswell_2019-08-10</td>\n      <td>Aaron Cresswell</td>\n      <td>LB</td>\n      <td>29-238</td>\n      <td>90.0</td>\n      <td>West Ham United</td>\n      <td>1.0</td>\n      <td>Defender</td>\n      <td>16.471345</td>\n      <td>2019-08-10</td>\n    </tr>\n    <tr>\n      <th>1</th>\n      <td>Aaron Lennon</td>\n      <td>0</td>\n      <td>0</td>\n      <td>3</td>\n      <td>0</td>\n      <td>0.0</td>\n      <td>430</td>\n      <td>3</td>\n      <td>0</td>\n      <td>0</td>\n      <td>...</td>\n      <td>Aaron Lennon_2019-08-10</td>\n      <td>Aaron Lennon</td>\n      <td>LM</td>\n      <td>32-116</td>\n      <td>7.0</td>\n      <td>Burnley</td>\n      <td>1.0</td>\n      <td>Midfield</td>\n      <td>2.007932</td>\n      <td>2019-08-10</td>\n    </tr>\n    <tr>\n      <th>2</th>\n      <td>Aaron Mooy</td>\n      <td>0</td>\n      <td>0</td>\n      <td>0</td>\n      <td>0</td>\n      <td>0.0</td>\n      <td>516</td>\n      <td>7</td>\n      <td>0</td>\n      <td>0</td>\n      <td>...</td>\n      <td>Aaron Mooy_2019-08-10</td>\n      <td>NaN</td>\n      <td>NaN</td>\n      <td>NaN</td>\n      <td>NaN</td>\n      <td>NaN</td>\n      <td>NaN</td>\n      <td>NaN</td>\n      <td>0.000000</td>\n      <td>NaN</td>\n    </tr>\n    <tr>\n      <th>3</th>\n      <td>Aaron Ramsdale</td>\n      <td>0</td>\n      <td>0</td>\n      <td>11</td>\n      <td>0</td>\n      <td>0.0</td>\n      <td>494</td>\n      <td>2</td>\n      <td>1</td>\n      <td>0</td>\n      <td>...</td>\n      <td>Aaron Ramsdale_2019-08-10</td>\n      <td>Aaron Ramsdale</td>\n      <td>GK</td>\n      <td>21-088</td>\n      <td>90.0</td>\n      <td>Bournemouth</td>\n      <td>1.0</td>\n      <td>Goalkeeper</td>\n      <td>37.868320</td>\n      <td>2019-08-10</td>\n    </tr>\n    <tr>\n      <th>4</th>\n      <td>Aaron Wan-Bissaka</td>\n      <td>0</td>\n      <td>2</td>\n      <td>34</td>\n      <td>1</td>\n      <td>16.1</td>\n      <td>122</td>\n      <td>9</td>\n      <td>0</td>\n      <td>0</td>\n      <td>...</td>\n      <td>Aaron Wan-Bissaka_2019-08-11</td>\n      <td>Aaron Wan-Bissaka</td>\n      <td>RB</td>\n      <td>21-258</td>\n      <td>90.0</td>\n      <td>Manchester United</td>\n      <td>1.0</td>\n      <td>Defender</td>\n      <td>34.567219</td>\n      <td>2019-08-11</td>\n    </tr>\n    <tr>\n      <th>...</th>\n      <td>...</td>\n      <td>...</td>\n      <td>...</td>\n      <td>...</td>\n      <td>...</td>\n      <td>...</td>\n      <td>...</td>\n      <td>...</td>\n      <td>...</td>\n      <td>...</td>\n      <td>...</td>\n      <td>...</td>\n      <td>...</td>\n      <td>...</td>\n      <td>...</td>\n      <td>...</td>\n      <td>...</td>\n      <td>...</td>\n      <td>...</td>\n      <td>...</td>\n      <td>...</td>\n    </tr>\n    <tr>\n      <th>22556</th>\n      <td>Youri Tielemans</td>\n      <td>0</td>\n      <td>0</td>\n      <td>11</td>\n      <td>0</td>\n      <td>37.4</td>\n      <td>448</td>\n      <td>376</td>\n      <td>1</td>\n      <td>0</td>\n      <td>...</td>\n      <td>Youri Tielemans_2020-07-26</td>\n      <td>Youri Tielemans</td>\n      <td>CM</td>\n      <td>23-080</td>\n      <td>72.0</td>\n      <td>Leicester City</td>\n      <td>38.0</td>\n      <td>Midfield</td>\n      <td>23.693602</td>\n      <td>2020-07-26</td>\n    </tr>\n    <tr>\n      <th>22557</th>\n      <td>Yves Bissouma</td>\n      <td>0</td>\n      <td>0</td>\n      <td>22</td>\n      <td>0</td>\n      <td>1.3</td>\n      <td>53</td>\n      <td>372</td>\n      <td>1</td>\n      <td>1</td>\n      <td>...</td>\n      <td>Yves Bissouma_2020-07-26</td>\n      <td>Yves Bissouma</td>\n      <td>DM</td>\n      <td>23-331</td>\n      <td>72.0</td>\n      <td>Brighton &amp; Hove Albion</td>\n      <td>38.0</td>\n      <td>Midfield</td>\n      <td>10.941405</td>\n      <td>2020-07-26</td>\n    </tr>\n    <tr>\n      <th>22558</th>\n      <td>Zech Medley</td>\n      <td>0</td>\n      <td>0</td>\n      <td>0</td>\n      <td>0</td>\n      <td>0.0</td>\n      <td>636</td>\n      <td>371</td>\n      <td>0</td>\n      <td>0</td>\n      <td>...</td>\n      <td>Zech Medley_2020-07-26</td>\n      <td>NaN</td>\n      <td>NaN</td>\n      <td>NaN</td>\n      <td>NaN</td>\n      <td>NaN</td>\n      <td>NaN</td>\n      <td>NaN</td>\n      <td>0.000000</td>\n      <td>NaN</td>\n    </tr>\n    <tr>\n      <th>22559</th>\n      <td>Çaglar Söyüncü</td>\n      <td>0</td>\n      <td>0</td>\n      <td>0</td>\n      <td>0</td>\n      <td>0.0</td>\n      <td>164</td>\n      <td>376</td>\n      <td>0</td>\n      <td>0</td>\n      <td>...</td>\n      <td>Çağlar Söyüncü_2020-07-26</td>\n      <td>NaN</td>\n      <td>NaN</td>\n      <td>NaN</td>\n      <td>NaN</td>\n      <td>NaN</td>\n      <td>NaN</td>\n      <td>NaN</td>\n      <td>0.000000</td>\n      <td>NaN</td>\n    </tr>\n    <tr>\n      <th>22560</th>\n      <td>Ørjan Nyland</td>\n      <td>0</td>\n      <td>0</td>\n      <td>0</td>\n      <td>0</td>\n      <td>0.0</td>\n      <td>27</td>\n      <td>380</td>\n      <td>0</td>\n      <td>0</td>\n      <td>...</td>\n      <td>Ørjan Nyland_2020-07-26</td>\n      <td>NaN</td>\n      <td>NaN</td>\n      <td>NaN</td>\n      <td>NaN</td>\n      <td>NaN</td>\n      <td>NaN</td>\n      <td>NaN</td>\n      <td>0.000000</td>\n      <td>NaN</td>\n    </tr>\n  </tbody>\n</table>\n<p>22561 rows × 46 columns</p>\n</div>"
     },
     "execution_count": 108,
     "metadata": {},
     "output_type": "execute_result"
    }
   ],
   "source": [
    "PL2019_matched['Rating'] = PL2019_matched['Rating'].fillna(0)\n",
    "PL2019_matched"
   ],
   "metadata": {
    "collapsed": false,
    "pycharm": {
     "name": "#%%\n"
    }
   }
  },
  {
   "cell_type": "code",
   "execution_count": 110,
   "outputs": [
    {
     "data": {
      "text/plain": "                player_x               name      date_x  \\\n0        Aaron Cresswell    Aaron Cresswell  2019-08-10   \n1           Aaron Lennon       Aaron Lennon  2019-08-10   \n2             Aaron Mooy         Aaron Mooy  2019-08-10   \n3         Aaron Ramsdale     Aaron Ramsdale  2019-08-10   \n4      Aaron Wan-Bissaka  Aaron Wan-Bissaka  2019-08-11   \n...                  ...                ...         ...   \n22556    Youri Tielemans    Youri Tielemans  2020-07-26   \n22557      Yves Bissouma      Yves Bissouma  2020-07-26   \n22558        Zech Medley        Zech Medley  2020-07-26   \n22559     Çaglar Söyüncü     Çaglar Söyüncü  2020-07-26   \n22560       Ørjan Nyland       Ørjan Nyland  2020-07-26   \n\n                         Team  matchweek_x    category  minutes_x  minutes_y  \\\n0             West Ham United            1    Defender         90       90.0   \n1                     Burnley            1    Midfield          6        7.0   \n2                         NaN            1         NaN          0        NaN   \n3                 Bournemouth            1  Goalkeeper         90       90.0   \n4           Manchester United            1    Defender         90       90.0   \n...                       ...          ...         ...        ...        ...   \n22556          Leicester City           47    Midfield         72       72.0   \n22557  Brighton & Hove Albion           47    Midfield         72       72.0   \n22558                     NaN           47         NaN          0        NaN   \n22559                     NaN           47         NaN          0        NaN   \n22560                     NaN           47         NaN          0        NaN   \n\n          Rating  bonus  ...  ict_index  influence  creativity  threat  \\\n0      16.471345      0  ...        1.1        9.0         1.5     0.0   \n1       2.007932      0  ...        0.2        2.0         0.0     0.0   \n2       0.000000      0  ...        0.0        0.0         0.0     0.0   \n3      37.868320      0  ...        1.0        9.8         0.0     0.0   \n4      34.567219      2  ...        4.9       30.4        16.1     2.0   \n...          ...    ...  ...        ...        ...         ...     ...   \n22556  23.693602      0  ...        6.9       12.6        37.4    19.0   \n22557  10.941405      0  ...        4.8       39.2         1.3     7.0   \n22558   0.000000      0  ...        0.0        0.0         0.0     0.0   \n22559   0.000000      0  ...        0.0        0.0         0.0     0.0   \n22560   0.000000      0  ...        0.0        0.0         0.0     0.0   \n\n       total_points  transfers_balance  transfers_in  transfers_out  value  \\\n0                 0                  0             0              0     50   \n1                 1                  0             0              0     50   \n2                 0                  0             0              0     50   \n3                 2                  0             0              0     45   \n4                 8                  0             0              0     55   \n...             ...                ...           ...            ...    ...   \n22556             2              -3103          1905           5008     61   \n22557             7                 77           147             70     50   \n22558             0                153           325            172     40   \n22559             0             -95515           165          95680     49   \n22560             0              -1114           230           1344     43   \n\n       was_home  \n0          True  \n1          True  \n2         False  \n3          True  \n4          True  \n...         ...  \n22556      True  \n22557     False  \n22558      True  \n22559      True  \n22560     False  \n\n[22561 rows x 21 columns]",
      "text/html": "<div>\n<style scoped>\n    .dataframe tbody tr th:only-of-type {\n        vertical-align: middle;\n    }\n\n    .dataframe tbody tr th {\n        vertical-align: top;\n    }\n\n    .dataframe thead th {\n        text-align: right;\n    }\n</style>\n<table border=\"1\" class=\"dataframe\">\n  <thead>\n    <tr style=\"text-align: right;\">\n      <th></th>\n      <th>player_x</th>\n      <th>name</th>\n      <th>date_x</th>\n      <th>Team</th>\n      <th>matchweek_x</th>\n      <th>category</th>\n      <th>minutes_x</th>\n      <th>minutes_y</th>\n      <th>Rating</th>\n      <th>bonus</th>\n      <th>...</th>\n      <th>ict_index</th>\n      <th>influence</th>\n      <th>creativity</th>\n      <th>threat</th>\n      <th>total_points</th>\n      <th>transfers_balance</th>\n      <th>transfers_in</th>\n      <th>transfers_out</th>\n      <th>value</th>\n      <th>was_home</th>\n    </tr>\n  </thead>\n  <tbody>\n    <tr>\n      <th>0</th>\n      <td>Aaron Cresswell</td>\n      <td>Aaron Cresswell</td>\n      <td>2019-08-10</td>\n      <td>West Ham United</td>\n      <td>1</td>\n      <td>Defender</td>\n      <td>90</td>\n      <td>90.0</td>\n      <td>16.471345</td>\n      <td>0</td>\n      <td>...</td>\n      <td>1.1</td>\n      <td>9.0</td>\n      <td>1.5</td>\n      <td>0.0</td>\n      <td>0</td>\n      <td>0</td>\n      <td>0</td>\n      <td>0</td>\n      <td>50</td>\n      <td>True</td>\n    </tr>\n    <tr>\n      <th>1</th>\n      <td>Aaron Lennon</td>\n      <td>Aaron Lennon</td>\n      <td>2019-08-10</td>\n      <td>Burnley</td>\n      <td>1</td>\n      <td>Midfield</td>\n      <td>6</td>\n      <td>7.0</td>\n      <td>2.007932</td>\n      <td>0</td>\n      <td>...</td>\n      <td>0.2</td>\n      <td>2.0</td>\n      <td>0.0</td>\n      <td>0.0</td>\n      <td>1</td>\n      <td>0</td>\n      <td>0</td>\n      <td>0</td>\n      <td>50</td>\n      <td>True</td>\n    </tr>\n    <tr>\n      <th>2</th>\n      <td>Aaron Mooy</td>\n      <td>Aaron Mooy</td>\n      <td>2019-08-10</td>\n      <td>NaN</td>\n      <td>1</td>\n      <td>NaN</td>\n      <td>0</td>\n      <td>NaN</td>\n      <td>0.000000</td>\n      <td>0</td>\n      <td>...</td>\n      <td>0.0</td>\n      <td>0.0</td>\n      <td>0.0</td>\n      <td>0.0</td>\n      <td>0</td>\n      <td>0</td>\n      <td>0</td>\n      <td>0</td>\n      <td>50</td>\n      <td>False</td>\n    </tr>\n    <tr>\n      <th>3</th>\n      <td>Aaron Ramsdale</td>\n      <td>Aaron Ramsdale</td>\n      <td>2019-08-10</td>\n      <td>Bournemouth</td>\n      <td>1</td>\n      <td>Goalkeeper</td>\n      <td>90</td>\n      <td>90.0</td>\n      <td>37.868320</td>\n      <td>0</td>\n      <td>...</td>\n      <td>1.0</td>\n      <td>9.8</td>\n      <td>0.0</td>\n      <td>0.0</td>\n      <td>2</td>\n      <td>0</td>\n      <td>0</td>\n      <td>0</td>\n      <td>45</td>\n      <td>True</td>\n    </tr>\n    <tr>\n      <th>4</th>\n      <td>Aaron Wan-Bissaka</td>\n      <td>Aaron Wan-Bissaka</td>\n      <td>2019-08-11</td>\n      <td>Manchester United</td>\n      <td>1</td>\n      <td>Defender</td>\n      <td>90</td>\n      <td>90.0</td>\n      <td>34.567219</td>\n      <td>2</td>\n      <td>...</td>\n      <td>4.9</td>\n      <td>30.4</td>\n      <td>16.1</td>\n      <td>2.0</td>\n      <td>8</td>\n      <td>0</td>\n      <td>0</td>\n      <td>0</td>\n      <td>55</td>\n      <td>True</td>\n    </tr>\n    <tr>\n      <th>...</th>\n      <td>...</td>\n      <td>...</td>\n      <td>...</td>\n      <td>...</td>\n      <td>...</td>\n      <td>...</td>\n      <td>...</td>\n      <td>...</td>\n      <td>...</td>\n      <td>...</td>\n      <td>...</td>\n      <td>...</td>\n      <td>...</td>\n      <td>...</td>\n      <td>...</td>\n      <td>...</td>\n      <td>...</td>\n      <td>...</td>\n      <td>...</td>\n      <td>...</td>\n      <td>...</td>\n    </tr>\n    <tr>\n      <th>22556</th>\n      <td>Youri Tielemans</td>\n      <td>Youri Tielemans</td>\n      <td>2020-07-26</td>\n      <td>Leicester City</td>\n      <td>47</td>\n      <td>Midfield</td>\n      <td>72</td>\n      <td>72.0</td>\n      <td>23.693602</td>\n      <td>0</td>\n      <td>...</td>\n      <td>6.9</td>\n      <td>12.6</td>\n      <td>37.4</td>\n      <td>19.0</td>\n      <td>2</td>\n      <td>-3103</td>\n      <td>1905</td>\n      <td>5008</td>\n      <td>61</td>\n      <td>True</td>\n    </tr>\n    <tr>\n      <th>22557</th>\n      <td>Yves Bissouma</td>\n      <td>Yves Bissouma</td>\n      <td>2020-07-26</td>\n      <td>Brighton &amp; Hove Albion</td>\n      <td>47</td>\n      <td>Midfield</td>\n      <td>72</td>\n      <td>72.0</td>\n      <td>10.941405</td>\n      <td>0</td>\n      <td>...</td>\n      <td>4.8</td>\n      <td>39.2</td>\n      <td>1.3</td>\n      <td>7.0</td>\n      <td>7</td>\n      <td>77</td>\n      <td>147</td>\n      <td>70</td>\n      <td>50</td>\n      <td>False</td>\n    </tr>\n    <tr>\n      <th>22558</th>\n      <td>Zech Medley</td>\n      <td>Zech Medley</td>\n      <td>2020-07-26</td>\n      <td>NaN</td>\n      <td>47</td>\n      <td>NaN</td>\n      <td>0</td>\n      <td>NaN</td>\n      <td>0.000000</td>\n      <td>0</td>\n      <td>...</td>\n      <td>0.0</td>\n      <td>0.0</td>\n      <td>0.0</td>\n      <td>0.0</td>\n      <td>0</td>\n      <td>153</td>\n      <td>325</td>\n      <td>172</td>\n      <td>40</td>\n      <td>True</td>\n    </tr>\n    <tr>\n      <th>22559</th>\n      <td>Çaglar Söyüncü</td>\n      <td>Çaglar Söyüncü</td>\n      <td>2020-07-26</td>\n      <td>NaN</td>\n      <td>47</td>\n      <td>NaN</td>\n      <td>0</td>\n      <td>NaN</td>\n      <td>0.000000</td>\n      <td>0</td>\n      <td>...</td>\n      <td>0.0</td>\n      <td>0.0</td>\n      <td>0.0</td>\n      <td>0.0</td>\n      <td>0</td>\n      <td>-95515</td>\n      <td>165</td>\n      <td>95680</td>\n      <td>49</td>\n      <td>True</td>\n    </tr>\n    <tr>\n      <th>22560</th>\n      <td>Ørjan Nyland</td>\n      <td>Ørjan Nyland</td>\n      <td>2020-07-26</td>\n      <td>NaN</td>\n      <td>47</td>\n      <td>NaN</td>\n      <td>0</td>\n      <td>NaN</td>\n      <td>0.000000</td>\n      <td>0</td>\n      <td>...</td>\n      <td>0.0</td>\n      <td>0.0</td>\n      <td>0.0</td>\n      <td>0.0</td>\n      <td>0</td>\n      <td>-1114</td>\n      <td>230</td>\n      <td>1344</td>\n      <td>43</td>\n      <td>False</td>\n    </tr>\n  </tbody>\n</table>\n<p>22561 rows × 21 columns</p>\n</div>"
     },
     "execution_count": 110,
     "metadata": {},
     "output_type": "execute_result"
    }
   ],
   "source": [
    "PL2019_check = PL2019_matched[['player_x','name' ,'date_x' ,'Team', 'matchweek_x', 'category', 'minutes_x', 'minutes_y', 'Rating', 'bonus', 'bps',  'ict_index', 'influence', 'creativity','threat','total_points', 'transfers_balance', 'transfers_in', 'transfers_out', 'value', 'was_home' ]]\n",
    "PL2019_check"
   ],
   "metadata": {
    "collapsed": false,
    "pycharm": {
     "name": "#%%\n"
    }
   }
  },
  {
   "cell_type": "code",
   "execution_count": 60,
   "outputs": [],
   "source": [
    "PL2019_matched.to_excel('check_2019.xlsx')"
   ],
   "metadata": {
    "collapsed": false,
    "pycharm": {
     "name": "#%%\n"
    }
   }
  },
  {
   "cell_type": "code",
   "execution_count": 73,
   "outputs": [
    {
     "name": "stderr",
     "output_type": "stream",
     "text": [
      "C:\\Users\\giuli\\AppData\\Local\\Temp\\ipykernel_100908\\3791840291.py:2: SettingWithCopyWarning: \n",
      "A value is trying to be set on a copy of a slice from a DataFrame\n",
      "\n",
      "See the caveats in the documentation: https://pandas.pydata.org/pandas-docs/stable/user_guide/indexing.html#returning-a-view-versus-a-copy\n",
      "  PL2020_total.rename(columns={\"player_x\": \"player_fl\",\"player_rating\": \"player\" ,\"date_x\": \"date\", \"Team\": \"team_rating\",\"team\":\"team\",  \"position_x\": \"position_fl\", \"minutes_x\": \"minutes_fl\",\"minutes_y\": \"minutes_rating\" ,\"Rating\": \"rating\"}, inplace=True)\n"
     ]
    },
    {
     "data": {
      "text/plain": "                  player_fl              player        date  \\\n0            Aaron Connolly      Aaron Connolly  2020-09-14   \n1           Aaron Cresswell     Aaron Cresswell  2020-09-12   \n2                Aaron Mooy                   0  2020-09-14   \n3            Aaron Ramsdale      Aaron Ramsdale  2020-09-14   \n4        Abdoulaye Doucouré  Abdoulaye Doucouré  2020-09-13   \n...                     ...                 ...         ...   \n24376        Aaron Ramsdale      Aaron Ramsdale  2021-05-23   \n24377          Adrien Silva                   0  2021-05-23   \n24378        Sidnei Tavares      Sidnei Tavares  2021-05-23   \n24379       Kalvin Phillips     Kalvin Phillips  2021-05-23   \n24380  Raphael Dias Belloli            Raphinha  2021-05-23   \n\n                         team             team_rating    category position_fl  \\\n0      Brighton & Hove Albion  Brighton & Hove Albion     Forward         FWD   \n1             West Ham United         West Ham United    Defender         DEF   \n2      Brighton & Hove Albion                     NaN         NaN         MID   \n3            Sheffield United        Sheffield United  Goalkeeper          GK   \n4                     Everton                 Everton    Midfield         MID   \n...                       ...                     ...         ...         ...   \n24376        Sheffield United        Sheffield United  Goalkeeper          GK   \n24377          Leicester City                     NaN         NaN         MID   \n24378          Leicester City                     NaN         NaN         MID   \n24379            Leeds United            Leeds United    Midfield         MID   \n24380            Leeds United            Leeds United    Defender         MID   \n\n       minutes_fl  minutes_rating     rating  ...  creativity  threat  \\\n0              45            46.0  20.877365  ...         0.3    32.0   \n1              90            90.0  39.872009  ...        11.2     0.0   \n2               0             NaN   0.000000  ...         0.0     0.0   \n3              90            90.0  26.083953  ...         0.0     0.0   \n4              90            90.0  31.205598  ...        44.6     4.0   \n...           ...             ...        ...  ...         ...     ...   \n24376          90            90.0  55.932138  ...        10.0     0.0   \n24377           0             NaN   0.000000  ...         0.0     0.0   \n24378           0             NaN   0.000000  ...         0.0     0.0   \n24379          90            90.0  34.090387  ...        12.8     8.0   \n24380          90            90.0  48.264180  ...        60.2    31.0   \n\n       total_points  transfers_balance  transfers_in  transfers_out  value  \\\n0                 1                  0             0              0     55   \n1                 1                  0             0              0     50   \n2                 0                  0             0              0     50   \n3                 1                  0             0              0     50   \n4                 3                  0             0              0     55   \n...             ...                ...           ...            ...    ...   \n24376             9              13618         17381           3763     46   \n24377             0                -16             0             16     44   \n24378             0                 32            60             28     44   \n24379             6                210           789            579     49   \n24380             5             124979        142069          17090     56   \n\n       was_home  opponent_team  selected  \n0          True              5     32205  \n1          True             14     70232  \n2          True              5      2010  \n3          True             20    462939  \n4         False             17    143040  \n...         ...            ...       ...  \n24376      True              4    162985  \n24377      True             17     16396  \n24378      True             17       337  \n24379      True             18     74008  \n24380      True             18    780314  \n\n[24381 rows x 25 columns]",
      "text/html": "<div>\n<style scoped>\n    .dataframe tbody tr th:only-of-type {\n        vertical-align: middle;\n    }\n\n    .dataframe tbody tr th {\n        vertical-align: top;\n    }\n\n    .dataframe thead th {\n        text-align: right;\n    }\n</style>\n<table border=\"1\" class=\"dataframe\">\n  <thead>\n    <tr style=\"text-align: right;\">\n      <th></th>\n      <th>player_fl</th>\n      <th>player</th>\n      <th>date</th>\n      <th>team</th>\n      <th>team_rating</th>\n      <th>category</th>\n      <th>position_fl</th>\n      <th>minutes_fl</th>\n      <th>minutes_rating</th>\n      <th>rating</th>\n      <th>...</th>\n      <th>creativity</th>\n      <th>threat</th>\n      <th>total_points</th>\n      <th>transfers_balance</th>\n      <th>transfers_in</th>\n      <th>transfers_out</th>\n      <th>value</th>\n      <th>was_home</th>\n      <th>opponent_team</th>\n      <th>selected</th>\n    </tr>\n  </thead>\n  <tbody>\n    <tr>\n      <th>0</th>\n      <td>Aaron Connolly</td>\n      <td>Aaron Connolly</td>\n      <td>2020-09-14</td>\n      <td>Brighton &amp; Hove Albion</td>\n      <td>Brighton &amp; Hove Albion</td>\n      <td>Forward</td>\n      <td>FWD</td>\n      <td>45</td>\n      <td>46.0</td>\n      <td>20.877365</td>\n      <td>...</td>\n      <td>0.3</td>\n      <td>32.0</td>\n      <td>1</td>\n      <td>0</td>\n      <td>0</td>\n      <td>0</td>\n      <td>55</td>\n      <td>True</td>\n      <td>5</td>\n      <td>32205</td>\n    </tr>\n    <tr>\n      <th>1</th>\n      <td>Aaron Cresswell</td>\n      <td>Aaron Cresswell</td>\n      <td>2020-09-12</td>\n      <td>West Ham United</td>\n      <td>West Ham United</td>\n      <td>Defender</td>\n      <td>DEF</td>\n      <td>90</td>\n      <td>90.0</td>\n      <td>39.872009</td>\n      <td>...</td>\n      <td>11.2</td>\n      <td>0.0</td>\n      <td>1</td>\n      <td>0</td>\n      <td>0</td>\n      <td>0</td>\n      <td>50</td>\n      <td>True</td>\n      <td>14</td>\n      <td>70232</td>\n    </tr>\n    <tr>\n      <th>2</th>\n      <td>Aaron Mooy</td>\n      <td>0</td>\n      <td>2020-09-14</td>\n      <td>Brighton &amp; Hove Albion</td>\n      <td>NaN</td>\n      <td>NaN</td>\n      <td>MID</td>\n      <td>0</td>\n      <td>NaN</td>\n      <td>0.000000</td>\n      <td>...</td>\n      <td>0.0</td>\n      <td>0.0</td>\n      <td>0</td>\n      <td>0</td>\n      <td>0</td>\n      <td>0</td>\n      <td>50</td>\n      <td>True</td>\n      <td>5</td>\n      <td>2010</td>\n    </tr>\n    <tr>\n      <th>3</th>\n      <td>Aaron Ramsdale</td>\n      <td>Aaron Ramsdale</td>\n      <td>2020-09-14</td>\n      <td>Sheffield United</td>\n      <td>Sheffield United</td>\n      <td>Goalkeeper</td>\n      <td>GK</td>\n      <td>90</td>\n      <td>90.0</td>\n      <td>26.083953</td>\n      <td>...</td>\n      <td>0.0</td>\n      <td>0.0</td>\n      <td>1</td>\n      <td>0</td>\n      <td>0</td>\n      <td>0</td>\n      <td>50</td>\n      <td>True</td>\n      <td>20</td>\n      <td>462939</td>\n    </tr>\n    <tr>\n      <th>4</th>\n      <td>Abdoulaye Doucouré</td>\n      <td>Abdoulaye Doucouré</td>\n      <td>2020-09-13</td>\n      <td>Everton</td>\n      <td>Everton</td>\n      <td>Midfield</td>\n      <td>MID</td>\n      <td>90</td>\n      <td>90.0</td>\n      <td>31.205598</td>\n      <td>...</td>\n      <td>44.6</td>\n      <td>4.0</td>\n      <td>3</td>\n      <td>0</td>\n      <td>0</td>\n      <td>0</td>\n      <td>55</td>\n      <td>False</td>\n      <td>17</td>\n      <td>143040</td>\n    </tr>\n    <tr>\n      <th>...</th>\n      <td>...</td>\n      <td>...</td>\n      <td>...</td>\n      <td>...</td>\n      <td>...</td>\n      <td>...</td>\n      <td>...</td>\n      <td>...</td>\n      <td>...</td>\n      <td>...</td>\n      <td>...</td>\n      <td>...</td>\n      <td>...</td>\n      <td>...</td>\n      <td>...</td>\n      <td>...</td>\n      <td>...</td>\n      <td>...</td>\n      <td>...</td>\n      <td>...</td>\n      <td>...</td>\n    </tr>\n    <tr>\n      <th>24376</th>\n      <td>Aaron Ramsdale</td>\n      <td>Aaron Ramsdale</td>\n      <td>2021-05-23</td>\n      <td>Sheffield United</td>\n      <td>Sheffield United</td>\n      <td>Goalkeeper</td>\n      <td>GK</td>\n      <td>90</td>\n      <td>90.0</td>\n      <td>55.932138</td>\n      <td>...</td>\n      <td>10.0</td>\n      <td>0.0</td>\n      <td>9</td>\n      <td>13618</td>\n      <td>17381</td>\n      <td>3763</td>\n      <td>46</td>\n      <td>True</td>\n      <td>4</td>\n      <td>162985</td>\n    </tr>\n    <tr>\n      <th>24377</th>\n      <td>Adrien Silva</td>\n      <td>0</td>\n      <td>2021-05-23</td>\n      <td>Leicester City</td>\n      <td>NaN</td>\n      <td>NaN</td>\n      <td>MID</td>\n      <td>0</td>\n      <td>NaN</td>\n      <td>0.000000</td>\n      <td>...</td>\n      <td>0.0</td>\n      <td>0.0</td>\n      <td>0</td>\n      <td>-16</td>\n      <td>0</td>\n      <td>16</td>\n      <td>44</td>\n      <td>True</td>\n      <td>17</td>\n      <td>16396</td>\n    </tr>\n    <tr>\n      <th>24378</th>\n      <td>Sidnei Tavares</td>\n      <td>Sidnei Tavares</td>\n      <td>2021-05-23</td>\n      <td>Leicester City</td>\n      <td>NaN</td>\n      <td>NaN</td>\n      <td>MID</td>\n      <td>0</td>\n      <td>NaN</td>\n      <td>0.000000</td>\n      <td>...</td>\n      <td>0.0</td>\n      <td>0.0</td>\n      <td>0</td>\n      <td>32</td>\n      <td>60</td>\n      <td>28</td>\n      <td>44</td>\n      <td>True</td>\n      <td>17</td>\n      <td>337</td>\n    </tr>\n    <tr>\n      <th>24379</th>\n      <td>Kalvin Phillips</td>\n      <td>Kalvin Phillips</td>\n      <td>2021-05-23</td>\n      <td>Leeds United</td>\n      <td>Leeds United</td>\n      <td>Midfield</td>\n      <td>MID</td>\n      <td>90</td>\n      <td>90.0</td>\n      <td>34.090387</td>\n      <td>...</td>\n      <td>12.8</td>\n      <td>8.0</td>\n      <td>6</td>\n      <td>210</td>\n      <td>789</td>\n      <td>579</td>\n      <td>49</td>\n      <td>True</td>\n      <td>18</td>\n      <td>74008</td>\n    </tr>\n    <tr>\n      <th>24380</th>\n      <td>Raphael Dias Belloli</td>\n      <td>Raphinha</td>\n      <td>2021-05-23</td>\n      <td>Leeds United</td>\n      <td>Leeds United</td>\n      <td>Defender</td>\n      <td>MID</td>\n      <td>90</td>\n      <td>90.0</td>\n      <td>48.264180</td>\n      <td>...</td>\n      <td>60.2</td>\n      <td>31.0</td>\n      <td>5</td>\n      <td>124979</td>\n      <td>142069</td>\n      <td>17090</td>\n      <td>56</td>\n      <td>True</td>\n      <td>18</td>\n      <td>780314</td>\n    </tr>\n  </tbody>\n</table>\n<p>24381 rows × 25 columns</p>\n</div>"
     },
     "execution_count": 73,
     "metadata": {},
     "output_type": "execute_result"
    }
   ],
   "source": [
    "PL2020_total = PL2020_matched[['player_x','player_rating','date_x' ,'team','Team' ,'category','position_x', 'minutes_x' ,'minutes_y','Rating', 'xP', 'bonus', 'bps',  'ict_index', 'influence', 'creativity','threat','total_points', 'transfers_balance', 'transfers_in', 'transfers_out', 'value', 'was_home', 'opponent_team', 'selected' ]]\n",
    "PL2020_total.rename(columns={\"player_x\": \"player_fl\",\"player_rating\": \"player\" ,\"date_x\": \"date\", \"Team\": \"team_rating\",\"team\":\"team\",  \"position_x\": \"position_fl\", \"minutes_x\": \"minutes_fl\",\"minutes_y\": \"minutes_rating\" ,\"Rating\": \"rating\"}, inplace=True)\n",
    "PL2020_total\n"
   ],
   "metadata": {
    "collapsed": false,
    "pycharm": {
     "name": "#%%\n"
    }
   }
  },
  {
   "cell_type": "code",
   "execution_count": 74,
   "outputs": [
    {
     "name": "stderr",
     "output_type": "stream",
     "text": [
      "C:\\Users\\giuli\\AppData\\Local\\Temp\\ipykernel_100908\\2868901141.py:1: SettingWithCopyWarning: \n",
      "A value is trying to be set on a copy of a slice from a DataFrame.\n",
      "Try using .loc[row_indexer,col_indexer] = value instead\n",
      "\n",
      "See the caveats in the documentation: https://pandas.pydata.org/pandas-docs/stable/user_guide/indexing.html#returning-a-view-versus-a-copy\n",
      "  PL2020_total['player_ID'] = PL2020_total['player'].astype(str) + PL2020_total['team'] + PL2020_total['date'].astype(str)\n",
      "C:\\Users\\giuli\\AppData\\Local\\Temp\\ipykernel_100908\\2868901141.py:2: SettingWithCopyWarning: \n",
      "A value is trying to be set on a copy of a slice from a DataFrame.\n",
      "Try using .loc[row_indexer,col_indexer] = value instead\n",
      "\n",
      "See the caveats in the documentation: https://pandas.pydata.org/pandas-docs/stable/user_guide/indexing.html#returning-a-view-versus-a-copy\n",
      "  PL2020_total['game_ID'] = PL2020_total['team'] + PL2020_total['date'].astype(str)\n"
     ]
    }
   ],
   "source": [
    "PL2020_total['player_ID'] = PL2020_total['player'].astype(str) + PL2020_total['team'] + PL2020_total['date'].astype(str)\n",
    "PL2020_total['game_ID'] = PL2020_total['team'] + PL2020_total['date'].astype(str)"
   ],
   "metadata": {
    "collapsed": false,
    "pycharm": {
     "name": "#%%\n"
    }
   }
  },
  {
   "cell_type": "code",
   "execution_count": 75,
   "outputs": [
    {
     "data": {
      "text/plain": "                  player_fl              player        date  \\\n0            Aaron Connolly      Aaron Connolly  2020-09-14   \n1           Aaron Cresswell     Aaron Cresswell  2020-09-12   \n2                Aaron Mooy                   0  2020-09-14   \n3            Aaron Ramsdale      Aaron Ramsdale  2020-09-14   \n4        Abdoulaye Doucouré  Abdoulaye Doucouré  2020-09-13   \n...                     ...                 ...         ...   \n24376        Aaron Ramsdale      Aaron Ramsdale  2021-05-23   \n24377          Adrien Silva                   0  2021-05-23   \n24378        Sidnei Tavares      Sidnei Tavares  2021-05-23   \n24379       Kalvin Phillips     Kalvin Phillips  2021-05-23   \n24380  Raphael Dias Belloli            Raphinha  2021-05-23   \n\n                         team             team_rating    category position_fl  \\\n0      Brighton & Hove Albion  Brighton & Hove Albion     Forward         FWD   \n1             West Ham United         West Ham United    Defender         DEF   \n2      Brighton & Hove Albion                     NaN         NaN         MID   \n3            Sheffield United        Sheffield United  Goalkeeper          GK   \n4                     Everton                 Everton    Midfield         MID   \n...                       ...                     ...         ...         ...   \n24376        Sheffield United        Sheffield United  Goalkeeper          GK   \n24377          Leicester City                     NaN         NaN         MID   \n24378          Leicester City                     NaN         NaN         MID   \n24379            Leeds United            Leeds United    Midfield         MID   \n24380            Leeds United            Leeds United    Defender         MID   \n\n       minutes_fl  minutes_rating     rating  ...  total_points  \\\n0              45            46.0  20.877365  ...             1   \n1              90            90.0  39.872009  ...             1   \n2               0             NaN   0.000000  ...             0   \n3              90            90.0  26.083953  ...             1   \n4              90            90.0  31.205598  ...             3   \n...           ...             ...        ...  ...           ...   \n24376          90            90.0  55.932138  ...             9   \n24377           0             NaN   0.000000  ...             0   \n24378           0             NaN   0.000000  ...             0   \n24379          90            90.0  34.090387  ...             6   \n24380          90            90.0  48.264180  ...             5   \n\n       transfers_balance  transfers_in  transfers_out  value  was_home  \\\n0                      0             0              0     55      True   \n1                      0             0              0     50      True   \n2                      0             0              0     50      True   \n3                      0             0              0     50      True   \n4                      0             0              0     55     False   \n...                  ...           ...            ...    ...       ...   \n24376              13618         17381           3763     46      True   \n24377                -16             0             16     44      True   \n24378                 32            60             28     44      True   \n24379                210           789            579     49      True   \n24380             124979        142069          17090     56      True   \n\n       opponent_team  selected  \\\n0                  5     32205   \n1                 14     70232   \n2                  5      2010   \n3                 20    462939   \n4                 17    143040   \n...              ...       ...   \n24376              4    162985   \n24377             17     16396   \n24378             17       337   \n24379             18     74008   \n24380             18    780314   \n\n                                            player_ID  \\\n0      Aaron ConnollyBrighton & Hove Albion2020-09-14   \n1            Aaron CresswellWest Ham United2020-09-12   \n2                   0Brighton & Hove Albion2020-09-14   \n3            Aaron RamsdaleSheffield United2020-09-14   \n4                 Abdoulaye DoucouréEverton2020-09-13   \n...                                               ...   \n24376        Aaron RamsdaleSheffield United2021-05-23   \n24377                       0Leicester City2021-05-23   \n24378          Sidnei TavaresLeicester City2021-05-23   \n24379           Kalvin PhillipsLeeds United2021-05-23   \n24380                  RaphinhaLeeds United2021-05-23   \n\n                                game_ID  \n0      Brighton & Hove Albion2020-09-14  \n1             West Ham United2020-09-12  \n2      Brighton & Hove Albion2020-09-14  \n3            Sheffield United2020-09-14  \n4                     Everton2020-09-13  \n...                                 ...  \n24376        Sheffield United2021-05-23  \n24377          Leicester City2021-05-23  \n24378          Leicester City2021-05-23  \n24379            Leeds United2021-05-23  \n24380            Leeds United2021-05-23  \n\n[24381 rows x 27 columns]",
      "text/html": "<div>\n<style scoped>\n    .dataframe tbody tr th:only-of-type {\n        vertical-align: middle;\n    }\n\n    .dataframe tbody tr th {\n        vertical-align: top;\n    }\n\n    .dataframe thead th {\n        text-align: right;\n    }\n</style>\n<table border=\"1\" class=\"dataframe\">\n  <thead>\n    <tr style=\"text-align: right;\">\n      <th></th>\n      <th>player_fl</th>\n      <th>player</th>\n      <th>date</th>\n      <th>team</th>\n      <th>team_rating</th>\n      <th>category</th>\n      <th>position_fl</th>\n      <th>minutes_fl</th>\n      <th>minutes_rating</th>\n      <th>rating</th>\n      <th>...</th>\n      <th>total_points</th>\n      <th>transfers_balance</th>\n      <th>transfers_in</th>\n      <th>transfers_out</th>\n      <th>value</th>\n      <th>was_home</th>\n      <th>opponent_team</th>\n      <th>selected</th>\n      <th>player_ID</th>\n      <th>game_ID</th>\n    </tr>\n  </thead>\n  <tbody>\n    <tr>\n      <th>0</th>\n      <td>Aaron Connolly</td>\n      <td>Aaron Connolly</td>\n      <td>2020-09-14</td>\n      <td>Brighton &amp; Hove Albion</td>\n      <td>Brighton &amp; Hove Albion</td>\n      <td>Forward</td>\n      <td>FWD</td>\n      <td>45</td>\n      <td>46.0</td>\n      <td>20.877365</td>\n      <td>...</td>\n      <td>1</td>\n      <td>0</td>\n      <td>0</td>\n      <td>0</td>\n      <td>55</td>\n      <td>True</td>\n      <td>5</td>\n      <td>32205</td>\n      <td>Aaron ConnollyBrighton &amp; Hove Albion2020-09-14</td>\n      <td>Brighton &amp; Hove Albion2020-09-14</td>\n    </tr>\n    <tr>\n      <th>1</th>\n      <td>Aaron Cresswell</td>\n      <td>Aaron Cresswell</td>\n      <td>2020-09-12</td>\n      <td>West Ham United</td>\n      <td>West Ham United</td>\n      <td>Defender</td>\n      <td>DEF</td>\n      <td>90</td>\n      <td>90.0</td>\n      <td>39.872009</td>\n      <td>...</td>\n      <td>1</td>\n      <td>0</td>\n      <td>0</td>\n      <td>0</td>\n      <td>50</td>\n      <td>True</td>\n      <td>14</td>\n      <td>70232</td>\n      <td>Aaron CresswellWest Ham United2020-09-12</td>\n      <td>West Ham United2020-09-12</td>\n    </tr>\n    <tr>\n      <th>2</th>\n      <td>Aaron Mooy</td>\n      <td>0</td>\n      <td>2020-09-14</td>\n      <td>Brighton &amp; Hove Albion</td>\n      <td>NaN</td>\n      <td>NaN</td>\n      <td>MID</td>\n      <td>0</td>\n      <td>NaN</td>\n      <td>0.000000</td>\n      <td>...</td>\n      <td>0</td>\n      <td>0</td>\n      <td>0</td>\n      <td>0</td>\n      <td>50</td>\n      <td>True</td>\n      <td>5</td>\n      <td>2010</td>\n      <td>0Brighton &amp; Hove Albion2020-09-14</td>\n      <td>Brighton &amp; Hove Albion2020-09-14</td>\n    </tr>\n    <tr>\n      <th>3</th>\n      <td>Aaron Ramsdale</td>\n      <td>Aaron Ramsdale</td>\n      <td>2020-09-14</td>\n      <td>Sheffield United</td>\n      <td>Sheffield United</td>\n      <td>Goalkeeper</td>\n      <td>GK</td>\n      <td>90</td>\n      <td>90.0</td>\n      <td>26.083953</td>\n      <td>...</td>\n      <td>1</td>\n      <td>0</td>\n      <td>0</td>\n      <td>0</td>\n      <td>50</td>\n      <td>True</td>\n      <td>20</td>\n      <td>462939</td>\n      <td>Aaron RamsdaleSheffield United2020-09-14</td>\n      <td>Sheffield United2020-09-14</td>\n    </tr>\n    <tr>\n      <th>4</th>\n      <td>Abdoulaye Doucouré</td>\n      <td>Abdoulaye Doucouré</td>\n      <td>2020-09-13</td>\n      <td>Everton</td>\n      <td>Everton</td>\n      <td>Midfield</td>\n      <td>MID</td>\n      <td>90</td>\n      <td>90.0</td>\n      <td>31.205598</td>\n      <td>...</td>\n      <td>3</td>\n      <td>0</td>\n      <td>0</td>\n      <td>0</td>\n      <td>55</td>\n      <td>False</td>\n      <td>17</td>\n      <td>143040</td>\n      <td>Abdoulaye DoucouréEverton2020-09-13</td>\n      <td>Everton2020-09-13</td>\n    </tr>\n    <tr>\n      <th>...</th>\n      <td>...</td>\n      <td>...</td>\n      <td>...</td>\n      <td>...</td>\n      <td>...</td>\n      <td>...</td>\n      <td>...</td>\n      <td>...</td>\n      <td>...</td>\n      <td>...</td>\n      <td>...</td>\n      <td>...</td>\n      <td>...</td>\n      <td>...</td>\n      <td>...</td>\n      <td>...</td>\n      <td>...</td>\n      <td>...</td>\n      <td>...</td>\n      <td>...</td>\n      <td>...</td>\n    </tr>\n    <tr>\n      <th>24376</th>\n      <td>Aaron Ramsdale</td>\n      <td>Aaron Ramsdale</td>\n      <td>2021-05-23</td>\n      <td>Sheffield United</td>\n      <td>Sheffield United</td>\n      <td>Goalkeeper</td>\n      <td>GK</td>\n      <td>90</td>\n      <td>90.0</td>\n      <td>55.932138</td>\n      <td>...</td>\n      <td>9</td>\n      <td>13618</td>\n      <td>17381</td>\n      <td>3763</td>\n      <td>46</td>\n      <td>True</td>\n      <td>4</td>\n      <td>162985</td>\n      <td>Aaron RamsdaleSheffield United2021-05-23</td>\n      <td>Sheffield United2021-05-23</td>\n    </tr>\n    <tr>\n      <th>24377</th>\n      <td>Adrien Silva</td>\n      <td>0</td>\n      <td>2021-05-23</td>\n      <td>Leicester City</td>\n      <td>NaN</td>\n      <td>NaN</td>\n      <td>MID</td>\n      <td>0</td>\n      <td>NaN</td>\n      <td>0.000000</td>\n      <td>...</td>\n      <td>0</td>\n      <td>-16</td>\n      <td>0</td>\n      <td>16</td>\n      <td>44</td>\n      <td>True</td>\n      <td>17</td>\n      <td>16396</td>\n      <td>0Leicester City2021-05-23</td>\n      <td>Leicester City2021-05-23</td>\n    </tr>\n    <tr>\n      <th>24378</th>\n      <td>Sidnei Tavares</td>\n      <td>Sidnei Tavares</td>\n      <td>2021-05-23</td>\n      <td>Leicester City</td>\n      <td>NaN</td>\n      <td>NaN</td>\n      <td>MID</td>\n      <td>0</td>\n      <td>NaN</td>\n      <td>0.000000</td>\n      <td>...</td>\n      <td>0</td>\n      <td>32</td>\n      <td>60</td>\n      <td>28</td>\n      <td>44</td>\n      <td>True</td>\n      <td>17</td>\n      <td>337</td>\n      <td>Sidnei TavaresLeicester City2021-05-23</td>\n      <td>Leicester City2021-05-23</td>\n    </tr>\n    <tr>\n      <th>24379</th>\n      <td>Kalvin Phillips</td>\n      <td>Kalvin Phillips</td>\n      <td>2021-05-23</td>\n      <td>Leeds United</td>\n      <td>Leeds United</td>\n      <td>Midfield</td>\n      <td>MID</td>\n      <td>90</td>\n      <td>90.0</td>\n      <td>34.090387</td>\n      <td>...</td>\n      <td>6</td>\n      <td>210</td>\n      <td>789</td>\n      <td>579</td>\n      <td>49</td>\n      <td>True</td>\n      <td>18</td>\n      <td>74008</td>\n      <td>Kalvin PhillipsLeeds United2021-05-23</td>\n      <td>Leeds United2021-05-23</td>\n    </tr>\n    <tr>\n      <th>24380</th>\n      <td>Raphael Dias Belloli</td>\n      <td>Raphinha</td>\n      <td>2021-05-23</td>\n      <td>Leeds United</td>\n      <td>Leeds United</td>\n      <td>Defender</td>\n      <td>MID</td>\n      <td>90</td>\n      <td>90.0</td>\n      <td>48.264180</td>\n      <td>...</td>\n      <td>5</td>\n      <td>124979</td>\n      <td>142069</td>\n      <td>17090</td>\n      <td>56</td>\n      <td>True</td>\n      <td>18</td>\n      <td>780314</td>\n      <td>RaphinhaLeeds United2021-05-23</td>\n      <td>Leeds United2021-05-23</td>\n    </tr>\n  </tbody>\n</table>\n<p>24381 rows × 27 columns</p>\n</div>"
     },
     "execution_count": 75,
     "metadata": {},
     "output_type": "execute_result"
    }
   ],
   "source": [
    "PL2020_total"
   ],
   "metadata": {
    "collapsed": false,
    "pycharm": {
     "name": "#%%\n"
    }
   }
  },
  {
   "cell_type": "code",
   "execution_count": 76,
   "outputs": [],
   "source": [
    "PL2020_total.to_csv('Data/2020-21/Players/PL2020_total.csv')"
   ],
   "metadata": {
    "collapsed": false,
    "pycharm": {
     "name": "#%%\n"
    }
   }
  },
  {
   "cell_type": "markdown",
   "source": [],
   "metadata": {
    "collapsed": false,
    "pycharm": {
     "name": "#%% md\n"
    }
   }
  }
 ],
 "metadata": {
  "kernelspec": {
   "display_name": "Python 3",
   "language": "python",
   "name": "python3"
  },
  "language_info": {
   "codemirror_mode": {
    "name": "ipython",
    "version": 2
   },
   "file_extension": ".py",
   "mimetype": "text/x-python",
   "name": "python",
   "nbconvert_exporter": "python",
   "pygments_lexer": "ipython2",
   "version": "2.7.6"
  }
 },
 "nbformat": 4,
 "nbformat_minor": 0
}