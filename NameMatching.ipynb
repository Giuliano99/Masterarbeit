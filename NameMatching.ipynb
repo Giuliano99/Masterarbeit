{
 "cells": [
  {
   "cell_type": "code",
   "execution_count": 1,
   "metadata": {
    "collapsed": true
   },
   "outputs": [
    {
     "name": "stderr",
     "output_type": "stream",
     "text": [
      "C:\\Users\\giuli\\AppData\\Local\\Programs\\Python\\Python310\\lib\\site-packages\\fuzzywuzzy\\fuzz.py:11: UserWarning: Using slow pure-python SequenceMatcher. Install python-Levenshtein to remove this warning\n",
      "  warnings.warn('Using slow pure-python SequenceMatcher. Install python-Levenshtein to remove this warning')\n"
     ]
    }
   ],
   "source": [
    "#import necessary packages\n",
    "import pandas as pd\n",
    "from fuzzywuzzy import fuzz, process\n"
   ]
  },
  {
   "cell_type": "code",
   "execution_count": 20,
   "outputs": [
    {
     "data": {
      "text/plain": "                       player position     age  minutes             Team  \\\n0                   Joe Bryan       LB  26-361     90.0           Fulham   \n1                    Tim Ream       CB  32-343     90.0           Fulham   \n2              Michael Hector       CB  28-055     90.0           Fulham   \n3                  Denis Odoi       RB  32-108     90.0           Fulham   \n4      Ainsley Maitland-Niles       WB  23-014     90.0          Arsenal   \n...                       ...      ...     ...      ...              ...   \n10389       Emiliano Martínez       GK  28-263     90.0      Aston Villa   \n10390           Edouard Mendy       GK  29-083     45.0          Chelsea   \n10391       Kepa Arrizabalaga       GK  26-232     45.0          Chelsea   \n10392        Łukasz Fabiański       GK  36-035     90.0  West Ham United   \n10393           Alex McCarthy       GK  31-171     90.0      Southampton   \n\n       matchweek  category     Rating        date  \n0            1.0  Defender  30.040214  2020-09-12  \n1            1.0  Defender  33.442623  2020-09-12  \n2            1.0  Defender  37.665180  2020-09-12  \n3            1.0  Defender  33.911034  2020-09-12  \n4            1.0  Defender  25.875207  2020-09-12  \n...          ...       ...        ...         ...  \n10389       38.0       NaN  63.001016  2021-05-23  \n10390       38.0       NaN  33.585029  2021-05-23  \n10391       38.0       NaN  26.766151  2021-05-23  \n10392       38.0       NaN  71.562860  2021-05-23  \n10393       38.0       NaN  41.306842  2021-05-23  \n\n[10394 rows x 9 columns]",
      "text/html": "<div>\n<style scoped>\n    .dataframe tbody tr th:only-of-type {\n        vertical-align: middle;\n    }\n\n    .dataframe tbody tr th {\n        vertical-align: top;\n    }\n\n    .dataframe thead th {\n        text-align: right;\n    }\n</style>\n<table border=\"1\" class=\"dataframe\">\n  <thead>\n    <tr style=\"text-align: right;\">\n      <th></th>\n      <th>player</th>\n      <th>position</th>\n      <th>age</th>\n      <th>minutes</th>\n      <th>Team</th>\n      <th>matchweek</th>\n      <th>category</th>\n      <th>Rating</th>\n      <th>date</th>\n    </tr>\n  </thead>\n  <tbody>\n    <tr>\n      <th>0</th>\n      <td>Joe Bryan</td>\n      <td>LB</td>\n      <td>26-361</td>\n      <td>90.0</td>\n      <td>Fulham</td>\n      <td>1.0</td>\n      <td>Defender</td>\n      <td>30.040214</td>\n      <td>2020-09-12</td>\n    </tr>\n    <tr>\n      <th>1</th>\n      <td>Tim Ream</td>\n      <td>CB</td>\n      <td>32-343</td>\n      <td>90.0</td>\n      <td>Fulham</td>\n      <td>1.0</td>\n      <td>Defender</td>\n      <td>33.442623</td>\n      <td>2020-09-12</td>\n    </tr>\n    <tr>\n      <th>2</th>\n      <td>Michael Hector</td>\n      <td>CB</td>\n      <td>28-055</td>\n      <td>90.0</td>\n      <td>Fulham</td>\n      <td>1.0</td>\n      <td>Defender</td>\n      <td>37.665180</td>\n      <td>2020-09-12</td>\n    </tr>\n    <tr>\n      <th>3</th>\n      <td>Denis Odoi</td>\n      <td>RB</td>\n      <td>32-108</td>\n      <td>90.0</td>\n      <td>Fulham</td>\n      <td>1.0</td>\n      <td>Defender</td>\n      <td>33.911034</td>\n      <td>2020-09-12</td>\n    </tr>\n    <tr>\n      <th>4</th>\n      <td>Ainsley Maitland-Niles</td>\n      <td>WB</td>\n      <td>23-014</td>\n      <td>90.0</td>\n      <td>Arsenal</td>\n      <td>1.0</td>\n      <td>Defender</td>\n      <td>25.875207</td>\n      <td>2020-09-12</td>\n    </tr>\n    <tr>\n      <th>...</th>\n      <td>...</td>\n      <td>...</td>\n      <td>...</td>\n      <td>...</td>\n      <td>...</td>\n      <td>...</td>\n      <td>...</td>\n      <td>...</td>\n      <td>...</td>\n    </tr>\n    <tr>\n      <th>10389</th>\n      <td>Emiliano Martínez</td>\n      <td>GK</td>\n      <td>28-263</td>\n      <td>90.0</td>\n      <td>Aston Villa</td>\n      <td>38.0</td>\n      <td>NaN</td>\n      <td>63.001016</td>\n      <td>2021-05-23</td>\n    </tr>\n    <tr>\n      <th>10390</th>\n      <td>Edouard Mendy</td>\n      <td>GK</td>\n      <td>29-083</td>\n      <td>45.0</td>\n      <td>Chelsea</td>\n      <td>38.0</td>\n      <td>NaN</td>\n      <td>33.585029</td>\n      <td>2021-05-23</td>\n    </tr>\n    <tr>\n      <th>10391</th>\n      <td>Kepa Arrizabalaga</td>\n      <td>GK</td>\n      <td>26-232</td>\n      <td>45.0</td>\n      <td>Chelsea</td>\n      <td>38.0</td>\n      <td>NaN</td>\n      <td>26.766151</td>\n      <td>2021-05-23</td>\n    </tr>\n    <tr>\n      <th>10392</th>\n      <td>Łukasz Fabiański</td>\n      <td>GK</td>\n      <td>36-035</td>\n      <td>90.0</td>\n      <td>West Ham United</td>\n      <td>38.0</td>\n      <td>NaN</td>\n      <td>71.562860</td>\n      <td>2021-05-23</td>\n    </tr>\n    <tr>\n      <th>10393</th>\n      <td>Alex McCarthy</td>\n      <td>GK</td>\n      <td>31-171</td>\n      <td>90.0</td>\n      <td>Southampton</td>\n      <td>38.0</td>\n      <td>NaN</td>\n      <td>41.306842</td>\n      <td>2021-05-23</td>\n    </tr>\n  </tbody>\n</table>\n<p>10394 rows × 9 columns</p>\n</div>"
     },
     "execution_count": 20,
     "metadata": {},
     "output_type": "execute_result"
    }
   ],
   "source": [
    "PL2020_ratings = pd.read_csv('PL2020_ratings.csv')\n",
    "PL2020_fl = pd.read_csv('Data/2020-21/Players/FL_20.csv')\n",
    "PL2020_fl.rename(columns={\"round\": \"matchweek\"}, inplace=True)\n",
    "PL2020_fl['player'] = PL2020_fl['name']\n",
    "PL2020_ratings"
   ],
   "metadata": {
    "collapsed": false,
    "pycharm": {
     "name": "#%%\n"
    }
   }
  },
  {
   "cell_type": "code",
   "execution_count": 3,
   "outputs": [],
   "source": [
    "PL2020_fl.replace(['Brighton', 'Leeds', 'Leicester', 'Man City', 'Man Utd', 'Newcastle', 'Sheffield Utd','Spurs','West Brom','West Ham', 'Wolves'], ['Brighton & Hove Albion', 'Leeds United', 'Leicester City','Manchester City', 'Manchester United', 'Newcastle United', 'Sheffield United','Tottenham Hotspur', 'West Bromwich Albion', 'West Ham United','Wolverhampton Wanderers'], inplace=True)"
   ],
   "metadata": {
    "collapsed": false,
    "pycharm": {
     "name": "#%%\n"
    }
   }
  },
  {
   "cell_type": "code",
   "execution_count": 4,
   "outputs": [
    {
     "data": {
      "text/plain": "                       player                     Team\n0                   Joe Bryan                   Fulham\n1                    Tim Ream                   Fulham\n2              Michael Hector                   Fulham\n3                  Denis Odoi                   Fulham\n4      Ainsley Maitland-Niles                  Arsenal\n...                       ...                      ...\n10190           João Virgínia                  Everton\n10203              John Ruddy  Wolverhampton Wanderers\n10338            Scott Carson          Manchester City\n10345            Jack Butland           Crystal Palace\n10369             Will Norris                  Burnley\n\n[532 rows x 2 columns]",
      "text/html": "<div>\n<style scoped>\n    .dataframe tbody tr th:only-of-type {\n        vertical-align: middle;\n    }\n\n    .dataframe tbody tr th {\n        vertical-align: top;\n    }\n\n    .dataframe thead th {\n        text-align: right;\n    }\n</style>\n<table border=\"1\" class=\"dataframe\">\n  <thead>\n    <tr style=\"text-align: right;\">\n      <th></th>\n      <th>player</th>\n      <th>Team</th>\n    </tr>\n  </thead>\n  <tbody>\n    <tr>\n      <th>0</th>\n      <td>Joe Bryan</td>\n      <td>Fulham</td>\n    </tr>\n    <tr>\n      <th>1</th>\n      <td>Tim Ream</td>\n      <td>Fulham</td>\n    </tr>\n    <tr>\n      <th>2</th>\n      <td>Michael Hector</td>\n      <td>Fulham</td>\n    </tr>\n    <tr>\n      <th>3</th>\n      <td>Denis Odoi</td>\n      <td>Fulham</td>\n    </tr>\n    <tr>\n      <th>4</th>\n      <td>Ainsley Maitland-Niles</td>\n      <td>Arsenal</td>\n    </tr>\n    <tr>\n      <th>...</th>\n      <td>...</td>\n      <td>...</td>\n    </tr>\n    <tr>\n      <th>10190</th>\n      <td>João Virgínia</td>\n      <td>Everton</td>\n    </tr>\n    <tr>\n      <th>10203</th>\n      <td>John Ruddy</td>\n      <td>Wolverhampton Wanderers</td>\n    </tr>\n    <tr>\n      <th>10338</th>\n      <td>Scott Carson</td>\n      <td>Manchester City</td>\n    </tr>\n    <tr>\n      <th>10345</th>\n      <td>Jack Butland</td>\n      <td>Crystal Palace</td>\n    </tr>\n    <tr>\n      <th>10369</th>\n      <td>Will Norris</td>\n      <td>Burnley</td>\n    </tr>\n  </tbody>\n</table>\n<p>532 rows × 2 columns</p>\n</div>"
     },
     "execution_count": 4,
     "metadata": {},
     "output_type": "execute_result"
    }
   ],
   "source": [
    "players_rating = PL2020_ratings[['player', 'Team']]\n",
    "players_rating = players_rating.drop_duplicates()\n",
    "players_rating"
   ],
   "metadata": {
    "collapsed": false,
    "pycharm": {
     "name": "#%%\n"
    }
   }
  },
  {
   "cell_type": "code",
   "execution_count": 5,
   "outputs": [
    {
     "data": {
      "text/plain": "                   player                name                    team\n0          Aaron Connolly      Aaron Connolly  Brighton & Hove Albion\n1         Aaron Cresswell     Aaron Cresswell         West Ham United\n2              Aaron Mooy          Aaron Mooy  Brighton & Hove Albion\n3          Aaron Ramsdale      Aaron Ramsdale        Sheffield United\n4      Abdoulaye Doucouré  Abdoulaye Doucouré                 Everton\n...                   ...                 ...                     ...\n23955        William Fish        William Fish       Manchester United\n24064    Sylvester Jasper    Sylvester Jasper                  Fulham\n24183       William Osula       William Osula        Sheffield United\n24237      Tim Iroegbunam      Tim Iroegbunam    West Bromwich Albion\n24310           Nile John           Nile John       Tottenham Hotspur\n\n[726 rows x 3 columns]",
      "text/html": "<div>\n<style scoped>\n    .dataframe tbody tr th:only-of-type {\n        vertical-align: middle;\n    }\n\n    .dataframe tbody tr th {\n        vertical-align: top;\n    }\n\n    .dataframe thead th {\n        text-align: right;\n    }\n</style>\n<table border=\"1\" class=\"dataframe\">\n  <thead>\n    <tr style=\"text-align: right;\">\n      <th></th>\n      <th>player</th>\n      <th>name</th>\n      <th>team</th>\n    </tr>\n  </thead>\n  <tbody>\n    <tr>\n      <th>0</th>\n      <td>Aaron Connolly</td>\n      <td>Aaron Connolly</td>\n      <td>Brighton &amp; Hove Albion</td>\n    </tr>\n    <tr>\n      <th>1</th>\n      <td>Aaron Cresswell</td>\n      <td>Aaron Cresswell</td>\n      <td>West Ham United</td>\n    </tr>\n    <tr>\n      <th>2</th>\n      <td>Aaron Mooy</td>\n      <td>Aaron Mooy</td>\n      <td>Brighton &amp; Hove Albion</td>\n    </tr>\n    <tr>\n      <th>3</th>\n      <td>Aaron Ramsdale</td>\n      <td>Aaron Ramsdale</td>\n      <td>Sheffield United</td>\n    </tr>\n    <tr>\n      <th>4</th>\n      <td>Abdoulaye Doucouré</td>\n      <td>Abdoulaye Doucouré</td>\n      <td>Everton</td>\n    </tr>\n    <tr>\n      <th>...</th>\n      <td>...</td>\n      <td>...</td>\n      <td>...</td>\n    </tr>\n    <tr>\n      <th>23955</th>\n      <td>William Fish</td>\n      <td>William Fish</td>\n      <td>Manchester United</td>\n    </tr>\n    <tr>\n      <th>24064</th>\n      <td>Sylvester Jasper</td>\n      <td>Sylvester Jasper</td>\n      <td>Fulham</td>\n    </tr>\n    <tr>\n      <th>24183</th>\n      <td>William Osula</td>\n      <td>William Osula</td>\n      <td>Sheffield United</td>\n    </tr>\n    <tr>\n      <th>24237</th>\n      <td>Tim Iroegbunam</td>\n      <td>Tim Iroegbunam</td>\n      <td>West Bromwich Albion</td>\n    </tr>\n    <tr>\n      <th>24310</th>\n      <td>Nile John</td>\n      <td>Nile John</td>\n      <td>Tottenham Hotspur</td>\n    </tr>\n  </tbody>\n</table>\n<p>726 rows × 3 columns</p>\n</div>"
     },
     "execution_count": 5,
     "metadata": {},
     "output_type": "execute_result"
    }
   ],
   "source": [
    "players_fl = PL2020_fl[['player', 'name', 'team']]\n",
    "players_fl = players_fl.drop_duplicates()\n",
    "players_fl"
   ],
   "metadata": {
    "collapsed": false,
    "pycharm": {
     "name": "#%%\n"
    }
   }
  },
  {
   "cell_type": "code",
   "execution_count": 6,
   "outputs": [
    {
     "data": {
      "text/plain": "                 player                    Team                name  \\\n255      Aaron Connolly  Brighton & Hove Albion      Aaron Connolly   \n28      Aaron Cresswell         West Ham United     Aaron Cresswell   \n519      Aaron Ramsdale        Sheffield United      Aaron Ramsdale   \n107   Aaron Wan-Bissaka       Manchester United   Aaron Wan-Bissaka   \n304  Abdoulaye Doucouré                 Everton  Abdoulaye Doucouré   \n..                  ...                     ...                 ...   \n529             Ederson         Manchester City                 NaN   \n532              Adrián               Liverpool                 NaN   \n537   Caoimhín Kelleher               Liverpool                 NaN   \n542        Kiko Casilla            Leeds United                 NaN   \n546     Martin Dúbravka        Newcastle United                 NaN   \n\n                       team  \n255  Brighton & Hove Albion  \n28          West Ham United  \n519        Sheffield United  \n107       Manchester United  \n304                 Everton  \n..                      ...  \n529                     NaN  \n532                     NaN  \n537                     NaN  \n542                     NaN  \n546                     NaN  \n\n[552 rows x 4 columns]",
      "text/html": "<div>\n<style scoped>\n    .dataframe tbody tr th:only-of-type {\n        vertical-align: middle;\n    }\n\n    .dataframe tbody tr th {\n        vertical-align: top;\n    }\n\n    .dataframe thead th {\n        text-align: right;\n    }\n</style>\n<table border=\"1\" class=\"dataframe\">\n  <thead>\n    <tr style=\"text-align: right;\">\n      <th></th>\n      <th>player</th>\n      <th>Team</th>\n      <th>name</th>\n      <th>team</th>\n    </tr>\n  </thead>\n  <tbody>\n    <tr>\n      <th>255</th>\n      <td>Aaron Connolly</td>\n      <td>Brighton &amp; Hove Albion</td>\n      <td>Aaron Connolly</td>\n      <td>Brighton &amp; Hove Albion</td>\n    </tr>\n    <tr>\n      <th>28</th>\n      <td>Aaron Cresswell</td>\n      <td>West Ham United</td>\n      <td>Aaron Cresswell</td>\n      <td>West Ham United</td>\n    </tr>\n    <tr>\n      <th>519</th>\n      <td>Aaron Ramsdale</td>\n      <td>Sheffield United</td>\n      <td>Aaron Ramsdale</td>\n      <td>Sheffield United</td>\n    </tr>\n    <tr>\n      <th>107</th>\n      <td>Aaron Wan-Bissaka</td>\n      <td>Manchester United</td>\n      <td>Aaron Wan-Bissaka</td>\n      <td>Manchester United</td>\n    </tr>\n    <tr>\n      <th>304</th>\n      <td>Abdoulaye Doucouré</td>\n      <td>Everton</td>\n      <td>Abdoulaye Doucouré</td>\n      <td>Everton</td>\n    </tr>\n    <tr>\n      <th>...</th>\n      <td>...</td>\n      <td>...</td>\n      <td>...</td>\n      <td>...</td>\n    </tr>\n    <tr>\n      <th>529</th>\n      <td>Ederson</td>\n      <td>Manchester City</td>\n      <td>NaN</td>\n      <td>NaN</td>\n    </tr>\n    <tr>\n      <th>532</th>\n      <td>Adrián</td>\n      <td>Liverpool</td>\n      <td>NaN</td>\n      <td>NaN</td>\n    </tr>\n    <tr>\n      <th>537</th>\n      <td>Caoimhín Kelleher</td>\n      <td>Liverpool</td>\n      <td>NaN</td>\n      <td>NaN</td>\n    </tr>\n    <tr>\n      <th>542</th>\n      <td>Kiko Casilla</td>\n      <td>Leeds United</td>\n      <td>NaN</td>\n      <td>NaN</td>\n    </tr>\n    <tr>\n      <th>546</th>\n      <td>Martin Dúbravka</td>\n      <td>Newcastle United</td>\n      <td>NaN</td>\n      <td>NaN</td>\n    </tr>\n  </tbody>\n</table>\n<p>552 rows × 4 columns</p>\n</div>"
     },
     "execution_count": 6,
     "metadata": {},
     "output_type": "execute_result"
    }
   ],
   "source": [
    "players_total = pd.merge(players_rating,players_fl , on='player', how='left')\n",
    "#players_total['test'].isna().sum()\n",
    "players_total = players_total.sort_values(by='name')\n",
    "\n",
    "players_total"
   ],
   "metadata": {
    "collapsed": false,
    "pycharm": {
     "name": "#%%\n"
    }
   }
  },
  {
   "cell_type": "code",
   "execution_count": 7,
   "outputs": [
    {
     "data": {
      "text/plain": "                       player                     Team                 matches\n0                   Joe Bryan                   Fulham               Joe Bryan\n1                    Tim Ream                   Fulham                Tim Ream\n2              Michael Hector                   Fulham          Michael Hector\n3                  Denis Odoi                   Fulham              Denis Odoi\n4      Ainsley Maitland-Niles                  Arsenal  Ainsley Maitland-Niles\n...                       ...                      ...                     ...\n10190           João Virgínia                  Everton           João Virgínia\n10203              John Ruddy  Wolverhampton Wanderers              John Ruddy\n10338            Scott Carson          Manchester City            Scott Carson\n10345            Jack Butland           Crystal Palace            Jack Butland\n10369             Will Norris                  Burnley             Will Norris\n\n[532 rows x 3 columns]",
      "text/html": "<div>\n<style scoped>\n    .dataframe tbody tr th:only-of-type {\n        vertical-align: middle;\n    }\n\n    .dataframe tbody tr th {\n        vertical-align: top;\n    }\n\n    .dataframe thead th {\n        text-align: right;\n    }\n</style>\n<table border=\"1\" class=\"dataframe\">\n  <thead>\n    <tr style=\"text-align: right;\">\n      <th></th>\n      <th>player</th>\n      <th>Team</th>\n      <th>matches</th>\n    </tr>\n  </thead>\n  <tbody>\n    <tr>\n      <th>0</th>\n      <td>Joe Bryan</td>\n      <td>Fulham</td>\n      <td>Joe Bryan</td>\n    </tr>\n    <tr>\n      <th>1</th>\n      <td>Tim Ream</td>\n      <td>Fulham</td>\n      <td>Tim Ream</td>\n    </tr>\n    <tr>\n      <th>2</th>\n      <td>Michael Hector</td>\n      <td>Fulham</td>\n      <td>Michael Hector</td>\n    </tr>\n    <tr>\n      <th>3</th>\n      <td>Denis Odoi</td>\n      <td>Fulham</td>\n      <td>Denis Odoi</td>\n    </tr>\n    <tr>\n      <th>4</th>\n      <td>Ainsley Maitland-Niles</td>\n      <td>Arsenal</td>\n      <td>Ainsley Maitland-Niles</td>\n    </tr>\n    <tr>\n      <th>...</th>\n      <td>...</td>\n      <td>...</td>\n      <td>...</td>\n    </tr>\n    <tr>\n      <th>10190</th>\n      <td>João Virgínia</td>\n      <td>Everton</td>\n      <td>João Virgínia</td>\n    </tr>\n    <tr>\n      <th>10203</th>\n      <td>John Ruddy</td>\n      <td>Wolverhampton Wanderers</td>\n      <td>John Ruddy</td>\n    </tr>\n    <tr>\n      <th>10338</th>\n      <td>Scott Carson</td>\n      <td>Manchester City</td>\n      <td>Scott Carson</td>\n    </tr>\n    <tr>\n      <th>10345</th>\n      <td>Jack Butland</td>\n      <td>Crystal Palace</td>\n      <td>Jack Butland</td>\n    </tr>\n    <tr>\n      <th>10369</th>\n      <td>Will Norris</td>\n      <td>Burnley</td>\n      <td>Will Norris</td>\n    </tr>\n  </tbody>\n</table>\n<p>532 rows × 3 columns</p>\n</div>"
     },
     "execution_count": 7,
     "metadata": {},
     "output_type": "execute_result"
    }
   ],
   "source": [
    "def fuzzy_merge(df_1, df_2, key1, key2, threshold=90, limit=2):\n",
    "    \"\"\"\n",
    "    :param df_1: the left table to join\n",
    "    :param df_2: the right table to join\n",
    "    :param key1: key column of the left table\n",
    "    :param key2: key column of the right table\n",
    "    :param threshold: how close the matches should be to return a match, based on Levenshtein distance\n",
    "    :param limit: the amount of matches that will get returned, these are sorted high to low\n",
    "    :return: dataframe with boths keys and matches\n",
    "    \"\"\"\n",
    "    s = df_2[key2].tolist()\n",
    "\n",
    "    m = df_1[key1].apply(lambda x: process.extract(x, s, limit=limit))\n",
    "    df_1['matches'] = m\n",
    "\n",
    "    m2 = df_1['matches'].apply(lambda x: ', '.join([i[0] for i in x if i[1] >= threshold]))\n",
    "    df_1['matches'] = m2\n",
    "\n",
    "    return df_1\n",
    "players_merged = fuzzy_merge(players_rating, players_fl, 'player', 'player', threshold=90, limit=1)\n",
    "players_merged"
   ],
   "metadata": {
    "collapsed": false,
    "pycharm": {
     "name": "#%%\n"
    }
   }
  },
  {
   "cell_type": "code",
   "execution_count": 105,
   "outputs": [
    {
     "data": {
      "text/plain": "              player                     Team             name\n0        André Gomes                  Everton                 \n1           Jorginho                  Chelsea                 \n2         Semi Ajayi     West Bromwich Albion                 \n3            Vitinha  Wolverhampton Wanderers                 \n4      João Moutinho  Wolverhampton Wanderers                 \n..               ...                      ...              ...\n527       Yerry Mina                  Everton       Yerry Mina\n528  Youri Tielemans           Leicester City  Youri Tielemans\n529    Yves Bissouma   Brighton & Hove Albion    Yves Bissouma\n530     Zack Steffen          Manchester City     Zack Steffen\n531   Çağlar Söyüncü           Leicester City   Çaglar Söyüncü\n\n[532 rows x 3 columns]",
      "text/html": "<div>\n<style scoped>\n    .dataframe tbody tr th:only-of-type {\n        vertical-align: middle;\n    }\n\n    .dataframe tbody tr th {\n        vertical-align: top;\n    }\n\n    .dataframe thead th {\n        text-align: right;\n    }\n</style>\n<table border=\"1\" class=\"dataframe\">\n  <thead>\n    <tr style=\"text-align: right;\">\n      <th></th>\n      <th>player</th>\n      <th>Team</th>\n      <th>name</th>\n    </tr>\n  </thead>\n  <tbody>\n    <tr>\n      <th>0</th>\n      <td>André Gomes</td>\n      <td>Everton</td>\n      <td></td>\n    </tr>\n    <tr>\n      <th>1</th>\n      <td>Jorginho</td>\n      <td>Chelsea</td>\n      <td></td>\n    </tr>\n    <tr>\n      <th>2</th>\n      <td>Semi Ajayi</td>\n      <td>West Bromwich Albion</td>\n      <td></td>\n    </tr>\n    <tr>\n      <th>3</th>\n      <td>Vitinha</td>\n      <td>Wolverhampton Wanderers</td>\n      <td></td>\n    </tr>\n    <tr>\n      <th>4</th>\n      <td>João Moutinho</td>\n      <td>Wolverhampton Wanderers</td>\n      <td></td>\n    </tr>\n    <tr>\n      <th>...</th>\n      <td>...</td>\n      <td>...</td>\n      <td>...</td>\n    </tr>\n    <tr>\n      <th>527</th>\n      <td>Yerry Mina</td>\n      <td>Everton</td>\n      <td>Yerry Mina</td>\n    </tr>\n    <tr>\n      <th>528</th>\n      <td>Youri Tielemans</td>\n      <td>Leicester City</td>\n      <td>Youri Tielemans</td>\n    </tr>\n    <tr>\n      <th>529</th>\n      <td>Yves Bissouma</td>\n      <td>Brighton &amp; Hove Albion</td>\n      <td>Yves Bissouma</td>\n    </tr>\n    <tr>\n      <th>530</th>\n      <td>Zack Steffen</td>\n      <td>Manchester City</td>\n      <td>Zack Steffen</td>\n    </tr>\n    <tr>\n      <th>531</th>\n      <td>Çağlar Söyüncü</td>\n      <td>Leicester City</td>\n      <td>Çaglar Söyüncü</td>\n    </tr>\n  </tbody>\n</table>\n<p>532 rows × 3 columns</p>\n</div>"
     },
     "execution_count": 105,
     "metadata": {},
     "output_type": "execute_result"
    }
   ],
   "source": [
    "#players_merged = players_merged[['player','Team', 'matches']]\n",
    "players_merged= players_merged.sort_values(by='matches')\n",
    "players_merged.reset_index(inplace=True, drop=True)\n",
    "players_merged.rename(columns={\"matches\": \"name\"}, inplace=True)\n",
    "players_merged\n",
    "\n"
   ],
   "metadata": {
    "collapsed": false,
    "pycharm": {
     "name": "#%%\n"
    }
   }
  },
  {
   "cell_type": "code",
   "execution_count": 60,
   "outputs": [
    {
     "data": {
      "text/plain": "                   player                name           team\n0          Aaron Connolly      Aaron Connolly       Brighton\n1         Aaron Cresswell     Aaron Cresswell       West Ham\n2              Aaron Mooy          Aaron Mooy       Brighton\n3          Aaron Ramsdale      Aaron Ramsdale  Sheffield Utd\n4      Abdoulaye Doucouré  Abdoulaye Doucouré        Everton\n...                   ...                 ...            ...\n23955        William Fish        William Fish        Man Utd\n24064    Sylvester Jasper    Sylvester Jasper         Fulham\n24183       William Osula       William Osula  Sheffield Utd\n24237      Tim Iroegbunam      Tim Iroegbunam      West Brom\n24310           Nile John           Nile John          Spurs\n\n[726 rows x 3 columns]",
      "text/html": "<div>\n<style scoped>\n    .dataframe tbody tr th:only-of-type {\n        vertical-align: middle;\n    }\n\n    .dataframe tbody tr th {\n        vertical-align: top;\n    }\n\n    .dataframe thead th {\n        text-align: right;\n    }\n</style>\n<table border=\"1\" class=\"dataframe\">\n  <thead>\n    <tr style=\"text-align: right;\">\n      <th></th>\n      <th>player</th>\n      <th>name</th>\n      <th>team</th>\n    </tr>\n  </thead>\n  <tbody>\n    <tr>\n      <th>0</th>\n      <td>Aaron Connolly</td>\n      <td>Aaron Connolly</td>\n      <td>Brighton</td>\n    </tr>\n    <tr>\n      <th>1</th>\n      <td>Aaron Cresswell</td>\n      <td>Aaron Cresswell</td>\n      <td>West Ham</td>\n    </tr>\n    <tr>\n      <th>2</th>\n      <td>Aaron Mooy</td>\n      <td>Aaron Mooy</td>\n      <td>Brighton</td>\n    </tr>\n    <tr>\n      <th>3</th>\n      <td>Aaron Ramsdale</td>\n      <td>Aaron Ramsdale</td>\n      <td>Sheffield Utd</td>\n    </tr>\n    <tr>\n      <th>4</th>\n      <td>Abdoulaye Doucouré</td>\n      <td>Abdoulaye Doucouré</td>\n      <td>Everton</td>\n    </tr>\n    <tr>\n      <th>...</th>\n      <td>...</td>\n      <td>...</td>\n      <td>...</td>\n    </tr>\n    <tr>\n      <th>23955</th>\n      <td>William Fish</td>\n      <td>William Fish</td>\n      <td>Man Utd</td>\n    </tr>\n    <tr>\n      <th>24064</th>\n      <td>Sylvester Jasper</td>\n      <td>Sylvester Jasper</td>\n      <td>Fulham</td>\n    </tr>\n    <tr>\n      <th>24183</th>\n      <td>William Osula</td>\n      <td>William Osula</td>\n      <td>Sheffield Utd</td>\n    </tr>\n    <tr>\n      <th>24237</th>\n      <td>Tim Iroegbunam</td>\n      <td>Tim Iroegbunam</td>\n      <td>West Brom</td>\n    </tr>\n    <tr>\n      <th>24310</th>\n      <td>Nile John</td>\n      <td>Nile John</td>\n      <td>Spurs</td>\n    </tr>\n  </tbody>\n</table>\n<p>726 rows × 3 columns</p>\n</div>"
     },
     "execution_count": 60,
     "metadata": {},
     "output_type": "execute_result"
    }
   ],
   "source": [
    "players_fl"
   ],
   "metadata": {
    "collapsed": false,
    "pycharm": {
     "name": "#%%\n"
    }
   }
  },
  {
   "cell_type": "code",
   "execution_count": 108,
   "outputs": [
    {
     "data": {
      "text/plain": "       player_rating              team_rating        player_fl  \\\n0        André Gomes                  Everton                    \n1           Jorginho                  Chelsea                    \n2         Semi Ajayi     West Bromwich Albion                    \n3            Vitinha  Wolverhampton Wanderers                    \n4      João Moutinho  Wolverhampton Wanderers                    \n..               ...                      ...              ...   \n547       Yerry Mina                  Everton       Yerry Mina   \n548  Youri Tielemans           Leicester City  Youri Tielemans   \n549    Yves Bissouma   Brighton & Hove Albion    Yves Bissouma   \n550     Zack Steffen          Manchester City     Zack Steffen   \n551   Çağlar Söyüncü           Leicester City   Çaglar Söyüncü   \n\n                    team_fl  \n0                       NaN  \n1                       NaN  \n2                       NaN  \n3                       NaN  \n4                       NaN  \n..                      ...  \n547                 Everton  \n548          Leicester City  \n549  Brighton & Hove Albion  \n550         Manchester City  \n551          Leicester City  \n\n[552 rows x 4 columns]",
      "text/html": "<div>\n<style scoped>\n    .dataframe tbody tr th:only-of-type {\n        vertical-align: middle;\n    }\n\n    .dataframe tbody tr th {\n        vertical-align: top;\n    }\n\n    .dataframe thead th {\n        text-align: right;\n    }\n</style>\n<table border=\"1\" class=\"dataframe\">\n  <thead>\n    <tr style=\"text-align: right;\">\n      <th></th>\n      <th>player_rating</th>\n      <th>team_rating</th>\n      <th>player_fl</th>\n      <th>team_fl</th>\n    </tr>\n  </thead>\n  <tbody>\n    <tr>\n      <th>0</th>\n      <td>André Gomes</td>\n      <td>Everton</td>\n      <td></td>\n      <td>NaN</td>\n    </tr>\n    <tr>\n      <th>1</th>\n      <td>Jorginho</td>\n      <td>Chelsea</td>\n      <td></td>\n      <td>NaN</td>\n    </tr>\n    <tr>\n      <th>2</th>\n      <td>Semi Ajayi</td>\n      <td>West Bromwich Albion</td>\n      <td></td>\n      <td>NaN</td>\n    </tr>\n    <tr>\n      <th>3</th>\n      <td>Vitinha</td>\n      <td>Wolverhampton Wanderers</td>\n      <td></td>\n      <td>NaN</td>\n    </tr>\n    <tr>\n      <th>4</th>\n      <td>João Moutinho</td>\n      <td>Wolverhampton Wanderers</td>\n      <td></td>\n      <td>NaN</td>\n    </tr>\n    <tr>\n      <th>...</th>\n      <td>...</td>\n      <td>...</td>\n      <td>...</td>\n      <td>...</td>\n    </tr>\n    <tr>\n      <th>547</th>\n      <td>Yerry Mina</td>\n      <td>Everton</td>\n      <td>Yerry Mina</td>\n      <td>Everton</td>\n    </tr>\n    <tr>\n      <th>548</th>\n      <td>Youri Tielemans</td>\n      <td>Leicester City</td>\n      <td>Youri Tielemans</td>\n      <td>Leicester City</td>\n    </tr>\n    <tr>\n      <th>549</th>\n      <td>Yves Bissouma</td>\n      <td>Brighton &amp; Hove Albion</td>\n      <td>Yves Bissouma</td>\n      <td>Brighton &amp; Hove Albion</td>\n    </tr>\n    <tr>\n      <th>550</th>\n      <td>Zack Steffen</td>\n      <td>Manchester City</td>\n      <td>Zack Steffen</td>\n      <td>Manchester City</td>\n    </tr>\n    <tr>\n      <th>551</th>\n      <td>Çağlar Söyüncü</td>\n      <td>Leicester City</td>\n      <td>Çaglar Söyüncü</td>\n      <td>Leicester City</td>\n    </tr>\n  </tbody>\n</table>\n<p>552 rows × 4 columns</p>\n</div>"
     },
     "execution_count": 108,
     "metadata": {},
     "output_type": "execute_result"
    }
   ],
   "source": [
    "out = pd.merge(players_merged,players_fl , on='name', how='left')\n",
    "\n",
    "out = out[['player_x', 'Team', 'name', 'team']]\n",
    "out.rename(columns={\"player_x\": \"player_rating\", \"Team\": \"team_rating\", \"name\": \"player_fl\", \"team\": \"team_fl\" }, inplace=True)\n",
    "out"
   ],
   "metadata": {
    "collapsed": false,
    "pycharm": {
     "name": "#%%\n"
    }
   }
  },
  {
   "cell_type": "code",
   "execution_count": 109,
   "outputs": [],
   "source": [
    "#out.to_excel('name_matching_2020.xlsx')"
   ],
   "metadata": {
    "collapsed": false,
    "pycharm": {
     "name": "#%%\n"
    }
   }
  },
  {
   "cell_type": "code",
   "execution_count": 27,
   "outputs": [
    {
     "data": {
      "text/plain": "     Unnamed: 0    player_rating              team_rating  \\\n0             0      André Gomes                  Everton   \n1             1         Jorginho                  Chelsea   \n2             2       Semi Ajayi     West Bromwich Albion   \n3             3          Vitinha  Wolverhampton Wanderers   \n4             4    João Moutinho  Wolverhampton Wanderers   \n..          ...              ...                      ...   \n548         548  Youri Tielemans           Leicester City   \n549         549    Yves Bissouma   Brighton & Hove Albion   \n550         550     Zack Steffen          Manchester City   \n551         551   Çağlar Söyüncü           Leicester City   \n552         552         Raphinha             Leeds United   \n\n                               player_fl                  team_fl  \\\n0             André Filipe Tavares Gomes                  Everton   \n1                Jorge Luiz Frello Filho                  Chelsea   \n2    Oluwasemilogo Adesewo Ibidapo Ajayi     West Bromwich Albion   \n3                         Vitor Ferreira  Wolverhampton Wanderers   \n4       João Filipe Iria Santos Moutinho  Wolverhampton Wanderers   \n..                                   ...                      ...   \n548                      Youri Tielemans           Leicester City   \n549                        Yves Bissouma   Brighton & Hove Albion   \n550                         Zack Steffen          Manchester City   \n551                       Çaglar Söyüncü           Leicester City   \n552                 Raphael Dias Belloli             Leeds United   \n\n     Check Player  Check Team  \n0           False        True  \n1           False        True  \n2           False        True  \n3           False        True  \n4           False        True  \n..            ...         ...  \n548          True        True  \n549          True        True  \n550          True        True  \n551         False        True  \n552         False        True  \n\n[553 rows x 7 columns]",
      "text/html": "<div>\n<style scoped>\n    .dataframe tbody tr th:only-of-type {\n        vertical-align: middle;\n    }\n\n    .dataframe tbody tr th {\n        vertical-align: top;\n    }\n\n    .dataframe thead th {\n        text-align: right;\n    }\n</style>\n<table border=\"1\" class=\"dataframe\">\n  <thead>\n    <tr style=\"text-align: right;\">\n      <th></th>\n      <th>Unnamed: 0</th>\n      <th>player_rating</th>\n      <th>team_rating</th>\n      <th>player_fl</th>\n      <th>team_fl</th>\n      <th>Check Player</th>\n      <th>Check Team</th>\n    </tr>\n  </thead>\n  <tbody>\n    <tr>\n      <th>0</th>\n      <td>0</td>\n      <td>André Gomes</td>\n      <td>Everton</td>\n      <td>André Filipe Tavares Gomes</td>\n      <td>Everton</td>\n      <td>False</td>\n      <td>True</td>\n    </tr>\n    <tr>\n      <th>1</th>\n      <td>1</td>\n      <td>Jorginho</td>\n      <td>Chelsea</td>\n      <td>Jorge Luiz Frello Filho</td>\n      <td>Chelsea</td>\n      <td>False</td>\n      <td>True</td>\n    </tr>\n    <tr>\n      <th>2</th>\n      <td>2</td>\n      <td>Semi Ajayi</td>\n      <td>West Bromwich Albion</td>\n      <td>Oluwasemilogo Adesewo Ibidapo Ajayi</td>\n      <td>West Bromwich Albion</td>\n      <td>False</td>\n      <td>True</td>\n    </tr>\n    <tr>\n      <th>3</th>\n      <td>3</td>\n      <td>Vitinha</td>\n      <td>Wolverhampton Wanderers</td>\n      <td>Vitor Ferreira</td>\n      <td>Wolverhampton Wanderers</td>\n      <td>False</td>\n      <td>True</td>\n    </tr>\n    <tr>\n      <th>4</th>\n      <td>4</td>\n      <td>João Moutinho</td>\n      <td>Wolverhampton Wanderers</td>\n      <td>João Filipe Iria Santos Moutinho</td>\n      <td>Wolverhampton Wanderers</td>\n      <td>False</td>\n      <td>True</td>\n    </tr>\n    <tr>\n      <th>...</th>\n      <td>...</td>\n      <td>...</td>\n      <td>...</td>\n      <td>...</td>\n      <td>...</td>\n      <td>...</td>\n      <td>...</td>\n    </tr>\n    <tr>\n      <th>548</th>\n      <td>548</td>\n      <td>Youri Tielemans</td>\n      <td>Leicester City</td>\n      <td>Youri Tielemans</td>\n      <td>Leicester City</td>\n      <td>True</td>\n      <td>True</td>\n    </tr>\n    <tr>\n      <th>549</th>\n      <td>549</td>\n      <td>Yves Bissouma</td>\n      <td>Brighton &amp; Hove Albion</td>\n      <td>Yves Bissouma</td>\n      <td>Brighton &amp; Hove Albion</td>\n      <td>True</td>\n      <td>True</td>\n    </tr>\n    <tr>\n      <th>550</th>\n      <td>550</td>\n      <td>Zack Steffen</td>\n      <td>Manchester City</td>\n      <td>Zack Steffen</td>\n      <td>Manchester City</td>\n      <td>True</td>\n      <td>True</td>\n    </tr>\n    <tr>\n      <th>551</th>\n      <td>551</td>\n      <td>Çağlar Söyüncü</td>\n      <td>Leicester City</td>\n      <td>Çaglar Söyüncü</td>\n      <td>Leicester City</td>\n      <td>False</td>\n      <td>True</td>\n    </tr>\n    <tr>\n      <th>552</th>\n      <td>552</td>\n      <td>Raphinha</td>\n      <td>Leeds United</td>\n      <td>Raphael Dias Belloli</td>\n      <td>Leeds United</td>\n      <td>False</td>\n      <td>True</td>\n    </tr>\n  </tbody>\n</table>\n<p>553 rows × 7 columns</p>\n</div>"
     },
     "execution_count": 27,
     "metadata": {},
     "output_type": "execute_result"
    }
   ],
   "source": [
    "name_matching = pd.read_excel('name_matching_2020.xlsx')\n",
    "name_matching"
   ],
   "metadata": {
    "collapsed": false,
    "pycharm": {
     "name": "#%%\n"
    }
   }
  },
  {
   "cell_type": "code",
   "execution_count": 28,
   "outputs": [
    {
     "data": {
      "text/plain": "       player_rating                               player\n0        André Gomes           André Filipe Tavares Gomes\n1           Jorginho              Jorge Luiz Frello Filho\n2         Semi Ajayi  Oluwasemilogo Adesewo Ibidapo Ajayi\n3            Vitinha                       Vitor Ferreira\n4      João Moutinho     João Filipe Iria Santos Moutinho\n..               ...                                  ...\n548  Youri Tielemans                      Youri Tielemans\n549    Yves Bissouma                        Yves Bissouma\n550     Zack Steffen                         Zack Steffen\n551   Çağlar Söyüncü                       Çaglar Söyüncü\n552         Raphinha                 Raphael Dias Belloli\n\n[525 rows x 2 columns]",
      "text/html": "<div>\n<style scoped>\n    .dataframe tbody tr th:only-of-type {\n        vertical-align: middle;\n    }\n\n    .dataframe tbody tr th {\n        vertical-align: top;\n    }\n\n    .dataframe thead th {\n        text-align: right;\n    }\n</style>\n<table border=\"1\" class=\"dataframe\">\n  <thead>\n    <tr style=\"text-align: right;\">\n      <th></th>\n      <th>player_rating</th>\n      <th>player</th>\n    </tr>\n  </thead>\n  <tbody>\n    <tr>\n      <th>0</th>\n      <td>André Gomes</td>\n      <td>André Filipe Tavares Gomes</td>\n    </tr>\n    <tr>\n      <th>1</th>\n      <td>Jorginho</td>\n      <td>Jorge Luiz Frello Filho</td>\n    </tr>\n    <tr>\n      <th>2</th>\n      <td>Semi Ajayi</td>\n      <td>Oluwasemilogo Adesewo Ibidapo Ajayi</td>\n    </tr>\n    <tr>\n      <th>3</th>\n      <td>Vitinha</td>\n      <td>Vitor Ferreira</td>\n    </tr>\n    <tr>\n      <th>4</th>\n      <td>João Moutinho</td>\n      <td>João Filipe Iria Santos Moutinho</td>\n    </tr>\n    <tr>\n      <th>...</th>\n      <td>...</td>\n      <td>...</td>\n    </tr>\n    <tr>\n      <th>548</th>\n      <td>Youri Tielemans</td>\n      <td>Youri Tielemans</td>\n    </tr>\n    <tr>\n      <th>549</th>\n      <td>Yves Bissouma</td>\n      <td>Yves Bissouma</td>\n    </tr>\n    <tr>\n      <th>550</th>\n      <td>Zack Steffen</td>\n      <td>Zack Steffen</td>\n    </tr>\n    <tr>\n      <th>551</th>\n      <td>Çağlar Söyüncü</td>\n      <td>Çaglar Söyüncü</td>\n    </tr>\n    <tr>\n      <th>552</th>\n      <td>Raphinha</td>\n      <td>Raphael Dias Belloli</td>\n    </tr>\n  </tbody>\n</table>\n<p>525 rows × 2 columns</p>\n</div>"
     },
     "execution_count": 28,
     "metadata": {},
     "output_type": "execute_result"
    }
   ],
   "source": [
    "name_matching = name_matching[['player_rating', 'player_fl']]\n",
    "name_matching = name_matching.drop_duplicates()\n",
    "name_matching.rename(columns={\"player_fl\": \"player\"}, inplace=True)\n",
    "name_matching"
   ],
   "metadata": {
    "collapsed": false,
    "pycharm": {
     "name": "#%%\n"
    }
   }
  },
  {
   "cell_type": "code",
   "execution_count": 29,
   "outputs": [
    {
     "data": {
      "text/plain": "                       name position           team   xP  assists  bonus  bps  \\\n0            Aaron Connolly      FWD       Brighton  0.5        0      0   -3   \n1           Aaron Cresswell      DEF       West Ham  2.1        0      0   11   \n2                Aaron Mooy      MID       Brighton  0.0        0      0    0   \n3            Aaron Ramsdale       GK  Sheffield Utd  2.5        0      0   12   \n4        Abdoulaye Doucouré      MID        Everton  1.3        0      0   20   \n...                     ...      ...            ...  ...      ...    ...  ...   \n24360        Aaron Ramsdale       GK  Sheffield Utd  9.0        0      2   30   \n24361          Adrien Silva      MID      Leicester  0.0        0      0    0   \n24362        Sidnei Tavares      MID      Leicester  0.0        0      0    0   \n24363       Kalvin Phillips      MID          Leeds  6.5        0      0   17   \n24364  Raphael Dias Belloli      MID          Leeds  5.5        1      0   24   \n\n       clean_sheets  creativity  element  ...  total_points  \\\n0                 0         0.3       78  ...             1   \n1                 0        11.2      435  ...             1   \n2                 0         0.0       60  ...             0   \n3                 0         0.0      483  ...             1   \n4                 1        44.6      512  ...             3   \n...             ...         ...      ...  ...           ...   \n24360             1        10.0      483  ...             9   \n24361             0         0.0      220  ...             0   \n24362             0         0.0      676  ...             0   \n24363             0        12.8      204  ...             6   \n24364             0        60.2      570  ...             5   \n\n       transfers_balance  transfers_in  transfers_out  value was_home  \\\n0                      0             0              0     55     True   \n1                      0             0              0     50     True   \n2                      0             0              0     50     True   \n3                      0             0              0     50     True   \n4                      0             0              0     55    False   \n...                  ...           ...            ...    ...      ...   \n24360              13618         17381           3763     46     True   \n24361                -16             0             16     44     True   \n24362                 32            60             28     44     True   \n24363                210           789            579     49     True   \n24364             124979        142069          17090     56     True   \n\n       yellow_cards  GW                player        date  \n0                 0   1        Aaron Connolly  2020-09-14  \n1                 0   1       Aaron Cresswell  2020-09-12  \n2                 0   1            Aaron Mooy  2020-09-14  \n3                 0   1        Aaron Ramsdale  2020-09-14  \n4                 0   1    Abdoulaye Doucouré  2020-09-13  \n...             ...  ..                   ...         ...  \n24360             0  38        Aaron Ramsdale  2021-05-23  \n24361             0  38          Adrien Silva  2021-05-23  \n24362             0  38        Sidnei Tavares  2021-05-23  \n24363             1  38       Kalvin Phillips  2021-05-23  \n24364             0  38  Raphael Dias Belloli  2021-05-23  \n\n[24365 rows x 38 columns]",
      "text/html": "<div>\n<style scoped>\n    .dataframe tbody tr th:only-of-type {\n        vertical-align: middle;\n    }\n\n    .dataframe tbody tr th {\n        vertical-align: top;\n    }\n\n    .dataframe thead th {\n        text-align: right;\n    }\n</style>\n<table border=\"1\" class=\"dataframe\">\n  <thead>\n    <tr style=\"text-align: right;\">\n      <th></th>\n      <th>name</th>\n      <th>position</th>\n      <th>team</th>\n      <th>xP</th>\n      <th>assists</th>\n      <th>bonus</th>\n      <th>bps</th>\n      <th>clean_sheets</th>\n      <th>creativity</th>\n      <th>element</th>\n      <th>...</th>\n      <th>total_points</th>\n      <th>transfers_balance</th>\n      <th>transfers_in</th>\n      <th>transfers_out</th>\n      <th>value</th>\n      <th>was_home</th>\n      <th>yellow_cards</th>\n      <th>GW</th>\n      <th>player</th>\n      <th>date</th>\n    </tr>\n  </thead>\n  <tbody>\n    <tr>\n      <th>0</th>\n      <td>Aaron Connolly</td>\n      <td>FWD</td>\n      <td>Brighton</td>\n      <td>0.5</td>\n      <td>0</td>\n      <td>0</td>\n      <td>-3</td>\n      <td>0</td>\n      <td>0.3</td>\n      <td>78</td>\n      <td>...</td>\n      <td>1</td>\n      <td>0</td>\n      <td>0</td>\n      <td>0</td>\n      <td>55</td>\n      <td>True</td>\n      <td>0</td>\n      <td>1</td>\n      <td>Aaron Connolly</td>\n      <td>2020-09-14</td>\n    </tr>\n    <tr>\n      <th>1</th>\n      <td>Aaron Cresswell</td>\n      <td>DEF</td>\n      <td>West Ham</td>\n      <td>2.1</td>\n      <td>0</td>\n      <td>0</td>\n      <td>11</td>\n      <td>0</td>\n      <td>11.2</td>\n      <td>435</td>\n      <td>...</td>\n      <td>1</td>\n      <td>0</td>\n      <td>0</td>\n      <td>0</td>\n      <td>50</td>\n      <td>True</td>\n      <td>0</td>\n      <td>1</td>\n      <td>Aaron Cresswell</td>\n      <td>2020-09-12</td>\n    </tr>\n    <tr>\n      <th>2</th>\n      <td>Aaron Mooy</td>\n      <td>MID</td>\n      <td>Brighton</td>\n      <td>0.0</td>\n      <td>0</td>\n      <td>0</td>\n      <td>0</td>\n      <td>0</td>\n      <td>0.0</td>\n      <td>60</td>\n      <td>...</td>\n      <td>0</td>\n      <td>0</td>\n      <td>0</td>\n      <td>0</td>\n      <td>50</td>\n      <td>True</td>\n      <td>0</td>\n      <td>1</td>\n      <td>Aaron Mooy</td>\n      <td>2020-09-14</td>\n    </tr>\n    <tr>\n      <th>3</th>\n      <td>Aaron Ramsdale</td>\n      <td>GK</td>\n      <td>Sheffield Utd</td>\n      <td>2.5</td>\n      <td>0</td>\n      <td>0</td>\n      <td>12</td>\n      <td>0</td>\n      <td>0.0</td>\n      <td>483</td>\n      <td>...</td>\n      <td>1</td>\n      <td>0</td>\n      <td>0</td>\n      <td>0</td>\n      <td>50</td>\n      <td>True</td>\n      <td>0</td>\n      <td>1</td>\n      <td>Aaron Ramsdale</td>\n      <td>2020-09-14</td>\n    </tr>\n    <tr>\n      <th>4</th>\n      <td>Abdoulaye Doucouré</td>\n      <td>MID</td>\n      <td>Everton</td>\n      <td>1.3</td>\n      <td>0</td>\n      <td>0</td>\n      <td>20</td>\n      <td>1</td>\n      <td>44.6</td>\n      <td>512</td>\n      <td>...</td>\n      <td>3</td>\n      <td>0</td>\n      <td>0</td>\n      <td>0</td>\n      <td>55</td>\n      <td>False</td>\n      <td>0</td>\n      <td>1</td>\n      <td>Abdoulaye Doucouré</td>\n      <td>2020-09-13</td>\n    </tr>\n    <tr>\n      <th>...</th>\n      <td>...</td>\n      <td>...</td>\n      <td>...</td>\n      <td>...</td>\n      <td>...</td>\n      <td>...</td>\n      <td>...</td>\n      <td>...</td>\n      <td>...</td>\n      <td>...</td>\n      <td>...</td>\n      <td>...</td>\n      <td>...</td>\n      <td>...</td>\n      <td>...</td>\n      <td>...</td>\n      <td>...</td>\n      <td>...</td>\n      <td>...</td>\n      <td>...</td>\n      <td>...</td>\n    </tr>\n    <tr>\n      <th>24360</th>\n      <td>Aaron Ramsdale</td>\n      <td>GK</td>\n      <td>Sheffield Utd</td>\n      <td>9.0</td>\n      <td>0</td>\n      <td>2</td>\n      <td>30</td>\n      <td>1</td>\n      <td>10.0</td>\n      <td>483</td>\n      <td>...</td>\n      <td>9</td>\n      <td>13618</td>\n      <td>17381</td>\n      <td>3763</td>\n      <td>46</td>\n      <td>True</td>\n      <td>0</td>\n      <td>38</td>\n      <td>Aaron Ramsdale</td>\n      <td>2021-05-23</td>\n    </tr>\n    <tr>\n      <th>24361</th>\n      <td>Adrien Silva</td>\n      <td>MID</td>\n      <td>Leicester</td>\n      <td>0.0</td>\n      <td>0</td>\n      <td>0</td>\n      <td>0</td>\n      <td>0</td>\n      <td>0.0</td>\n      <td>220</td>\n      <td>...</td>\n      <td>0</td>\n      <td>-16</td>\n      <td>0</td>\n      <td>16</td>\n      <td>44</td>\n      <td>True</td>\n      <td>0</td>\n      <td>38</td>\n      <td>Adrien Silva</td>\n      <td>2021-05-23</td>\n    </tr>\n    <tr>\n      <th>24362</th>\n      <td>Sidnei Tavares</td>\n      <td>MID</td>\n      <td>Leicester</td>\n      <td>0.0</td>\n      <td>0</td>\n      <td>0</td>\n      <td>0</td>\n      <td>0</td>\n      <td>0.0</td>\n      <td>676</td>\n      <td>...</td>\n      <td>0</td>\n      <td>32</td>\n      <td>60</td>\n      <td>28</td>\n      <td>44</td>\n      <td>True</td>\n      <td>0</td>\n      <td>38</td>\n      <td>Sidnei Tavares</td>\n      <td>2021-05-23</td>\n    </tr>\n    <tr>\n      <th>24363</th>\n      <td>Kalvin Phillips</td>\n      <td>MID</td>\n      <td>Leeds</td>\n      <td>6.5</td>\n      <td>0</td>\n      <td>0</td>\n      <td>17</td>\n      <td>0</td>\n      <td>12.8</td>\n      <td>204</td>\n      <td>...</td>\n      <td>6</td>\n      <td>210</td>\n      <td>789</td>\n      <td>579</td>\n      <td>49</td>\n      <td>True</td>\n      <td>1</td>\n      <td>38</td>\n      <td>Kalvin Phillips</td>\n      <td>2021-05-23</td>\n    </tr>\n    <tr>\n      <th>24364</th>\n      <td>Raphael Dias Belloli</td>\n      <td>MID</td>\n      <td>Leeds</td>\n      <td>5.5</td>\n      <td>1</td>\n      <td>0</td>\n      <td>24</td>\n      <td>0</td>\n      <td>60.2</td>\n      <td>570</td>\n      <td>...</td>\n      <td>5</td>\n      <td>124979</td>\n      <td>142069</td>\n      <td>17090</td>\n      <td>56</td>\n      <td>True</td>\n      <td>0</td>\n      <td>38</td>\n      <td>Raphael Dias Belloli</td>\n      <td>2021-05-23</td>\n    </tr>\n  </tbody>\n</table>\n<p>24365 rows × 38 columns</p>\n</div>"
     },
     "execution_count": 29,
     "metadata": {},
     "output_type": "execute_result"
    }
   ],
   "source": [
    "PL2020_fl ['date'] = PL2020_fl['kickoff_time'].str.slice(start=0, stop=10)\n",
    "PL2020_fl"
   ],
   "metadata": {
    "collapsed": false,
    "pycharm": {
     "name": "#%%\n"
    }
   }
  },
  {
   "cell_type": "code",
   "execution_count": 30,
   "outputs": [
    {
     "data": {
      "text/plain": "                       name position           team   xP  assists  bonus  bps  \\\n0            Aaron Connolly      FWD       Brighton  0.5        0      0   -3   \n1           Aaron Cresswell      DEF       West Ham  2.1        0      0   11   \n2                Aaron Mooy      MID       Brighton  0.0        0      0    0   \n3            Aaron Ramsdale       GK  Sheffield Utd  2.5        0      0   12   \n4        Abdoulaye Doucouré      MID        Everton  1.3        0      0   20   \n...                     ...      ...            ...  ...      ...    ...  ...   \n24394          Adrien Silva      MID      Leicester  0.0        0      0    0   \n24395        Sidnei Tavares      MID      Leicester  0.0        0      0    0   \n24396       Kalvin Phillips      MID          Leeds  6.5        0      0   17   \n24397  Raphael Dias Belloli      MID          Leeds  5.5        1      0   24   \n24398  Raphael Dias Belloli      MID          Leeds  5.5        1      0   24   \n\n       clean_sheets  creativity  element  ...  transfers_in  transfers_out  \\\n0                 0         0.3       78  ...             0              0   \n1                 0        11.2      435  ...             0              0   \n2                 0         0.0       60  ...             0              0   \n3                 0         0.0      483  ...             0              0   \n4                 1        44.6      512  ...             0              0   \n...             ...         ...      ...  ...           ...            ...   \n24394             0         0.0      220  ...             0             16   \n24395             0         0.0      676  ...            60             28   \n24396             0        12.8      204  ...           789            579   \n24397             0        60.2      570  ...        142069          17090   \n24398             0        60.2      570  ...        142069          17090   \n\n       value  was_home  yellow_cards  GW                player        date  \\\n0         55      True             0   1        Aaron Connolly  2020-09-14   \n1         50      True             0   1       Aaron Cresswell  2020-09-12   \n2         50      True             0   1            Aaron Mooy  2020-09-14   \n3         50      True             0   1        Aaron Ramsdale  2020-09-14   \n4         55     False             0   1    Abdoulaye Doucouré  2020-09-13   \n...      ...       ...           ...  ..                   ...         ...   \n24394     44      True             0  38          Adrien Silva  2021-05-23   \n24395     44      True             0  38        Sidnei Tavares  2021-05-23   \n24396     49      True             1  38       Kalvin Phillips  2021-05-23   \n24397     56      True             0  38  Raphael Dias Belloli  2021-05-23   \n24398     56      True             0  38  Raphael Dias Belloli  2021-05-23   \n\n              player_rating                               ID  \n0            Aaron Connolly        Aaron Connolly_2020-09-14  \n1           Aaron Cresswell       Aaron Cresswell_2020-09-12  \n2                       NaN                              NaN  \n3            Aaron Ramsdale        Aaron Ramsdale_2020-09-14  \n4        Abdoulaye Doucouré    Abdoulaye Doucouré_2020-09-13  \n...                     ...                              ...  \n24394                   NaN                              NaN  \n24395        Sidnei Tavares        Sidnei Tavares_2021-05-23  \n24396       Kalvin Phillips       Kalvin Phillips_2021-05-23  \n24397  Raphael Dias Belloli  Raphael Dias Belloli_2021-05-23  \n24398              Raphinha              Raphinha_2021-05-23  \n\n[24399 rows x 40 columns]",
      "text/html": "<div>\n<style scoped>\n    .dataframe tbody tr th:only-of-type {\n        vertical-align: middle;\n    }\n\n    .dataframe tbody tr th {\n        vertical-align: top;\n    }\n\n    .dataframe thead th {\n        text-align: right;\n    }\n</style>\n<table border=\"1\" class=\"dataframe\">\n  <thead>\n    <tr style=\"text-align: right;\">\n      <th></th>\n      <th>name</th>\n      <th>position</th>\n      <th>team</th>\n      <th>xP</th>\n      <th>assists</th>\n      <th>bonus</th>\n      <th>bps</th>\n      <th>clean_sheets</th>\n      <th>creativity</th>\n      <th>element</th>\n      <th>...</th>\n      <th>transfers_in</th>\n      <th>transfers_out</th>\n      <th>value</th>\n      <th>was_home</th>\n      <th>yellow_cards</th>\n      <th>GW</th>\n      <th>player</th>\n      <th>date</th>\n      <th>player_rating</th>\n      <th>ID</th>\n    </tr>\n  </thead>\n  <tbody>\n    <tr>\n      <th>0</th>\n      <td>Aaron Connolly</td>\n      <td>FWD</td>\n      <td>Brighton</td>\n      <td>0.5</td>\n      <td>0</td>\n      <td>0</td>\n      <td>-3</td>\n      <td>0</td>\n      <td>0.3</td>\n      <td>78</td>\n      <td>...</td>\n      <td>0</td>\n      <td>0</td>\n      <td>55</td>\n      <td>True</td>\n      <td>0</td>\n      <td>1</td>\n      <td>Aaron Connolly</td>\n      <td>2020-09-14</td>\n      <td>Aaron Connolly</td>\n      <td>Aaron Connolly_2020-09-14</td>\n    </tr>\n    <tr>\n      <th>1</th>\n      <td>Aaron Cresswell</td>\n      <td>DEF</td>\n      <td>West Ham</td>\n      <td>2.1</td>\n      <td>0</td>\n      <td>0</td>\n      <td>11</td>\n      <td>0</td>\n      <td>11.2</td>\n      <td>435</td>\n      <td>...</td>\n      <td>0</td>\n      <td>0</td>\n      <td>50</td>\n      <td>True</td>\n      <td>0</td>\n      <td>1</td>\n      <td>Aaron Cresswell</td>\n      <td>2020-09-12</td>\n      <td>Aaron Cresswell</td>\n      <td>Aaron Cresswell_2020-09-12</td>\n    </tr>\n    <tr>\n      <th>2</th>\n      <td>Aaron Mooy</td>\n      <td>MID</td>\n      <td>Brighton</td>\n      <td>0.0</td>\n      <td>0</td>\n      <td>0</td>\n      <td>0</td>\n      <td>0</td>\n      <td>0.0</td>\n      <td>60</td>\n      <td>...</td>\n      <td>0</td>\n      <td>0</td>\n      <td>50</td>\n      <td>True</td>\n      <td>0</td>\n      <td>1</td>\n      <td>Aaron Mooy</td>\n      <td>2020-09-14</td>\n      <td>NaN</td>\n      <td>NaN</td>\n    </tr>\n    <tr>\n      <th>3</th>\n      <td>Aaron Ramsdale</td>\n      <td>GK</td>\n      <td>Sheffield Utd</td>\n      <td>2.5</td>\n      <td>0</td>\n      <td>0</td>\n      <td>12</td>\n      <td>0</td>\n      <td>0.0</td>\n      <td>483</td>\n      <td>...</td>\n      <td>0</td>\n      <td>0</td>\n      <td>50</td>\n      <td>True</td>\n      <td>0</td>\n      <td>1</td>\n      <td>Aaron Ramsdale</td>\n      <td>2020-09-14</td>\n      <td>Aaron Ramsdale</td>\n      <td>Aaron Ramsdale_2020-09-14</td>\n    </tr>\n    <tr>\n      <th>4</th>\n      <td>Abdoulaye Doucouré</td>\n      <td>MID</td>\n      <td>Everton</td>\n      <td>1.3</td>\n      <td>0</td>\n      <td>0</td>\n      <td>20</td>\n      <td>1</td>\n      <td>44.6</td>\n      <td>512</td>\n      <td>...</td>\n      <td>0</td>\n      <td>0</td>\n      <td>55</td>\n      <td>False</td>\n      <td>0</td>\n      <td>1</td>\n      <td>Abdoulaye Doucouré</td>\n      <td>2020-09-13</td>\n      <td>Abdoulaye Doucouré</td>\n      <td>Abdoulaye Doucouré_2020-09-13</td>\n    </tr>\n    <tr>\n      <th>...</th>\n      <td>...</td>\n      <td>...</td>\n      <td>...</td>\n      <td>...</td>\n      <td>...</td>\n      <td>...</td>\n      <td>...</td>\n      <td>...</td>\n      <td>...</td>\n      <td>...</td>\n      <td>...</td>\n      <td>...</td>\n      <td>...</td>\n      <td>...</td>\n      <td>...</td>\n      <td>...</td>\n      <td>...</td>\n      <td>...</td>\n      <td>...</td>\n      <td>...</td>\n      <td>...</td>\n    </tr>\n    <tr>\n      <th>24394</th>\n      <td>Adrien Silva</td>\n      <td>MID</td>\n      <td>Leicester</td>\n      <td>0.0</td>\n      <td>0</td>\n      <td>0</td>\n      <td>0</td>\n      <td>0</td>\n      <td>0.0</td>\n      <td>220</td>\n      <td>...</td>\n      <td>0</td>\n      <td>16</td>\n      <td>44</td>\n      <td>True</td>\n      <td>0</td>\n      <td>38</td>\n      <td>Adrien Silva</td>\n      <td>2021-05-23</td>\n      <td>NaN</td>\n      <td>NaN</td>\n    </tr>\n    <tr>\n      <th>24395</th>\n      <td>Sidnei Tavares</td>\n      <td>MID</td>\n      <td>Leicester</td>\n      <td>0.0</td>\n      <td>0</td>\n      <td>0</td>\n      <td>0</td>\n      <td>0</td>\n      <td>0.0</td>\n      <td>676</td>\n      <td>...</td>\n      <td>60</td>\n      <td>28</td>\n      <td>44</td>\n      <td>True</td>\n      <td>0</td>\n      <td>38</td>\n      <td>Sidnei Tavares</td>\n      <td>2021-05-23</td>\n      <td>Sidnei Tavares</td>\n      <td>Sidnei Tavares_2021-05-23</td>\n    </tr>\n    <tr>\n      <th>24396</th>\n      <td>Kalvin Phillips</td>\n      <td>MID</td>\n      <td>Leeds</td>\n      <td>6.5</td>\n      <td>0</td>\n      <td>0</td>\n      <td>17</td>\n      <td>0</td>\n      <td>12.8</td>\n      <td>204</td>\n      <td>...</td>\n      <td>789</td>\n      <td>579</td>\n      <td>49</td>\n      <td>True</td>\n      <td>1</td>\n      <td>38</td>\n      <td>Kalvin Phillips</td>\n      <td>2021-05-23</td>\n      <td>Kalvin Phillips</td>\n      <td>Kalvin Phillips_2021-05-23</td>\n    </tr>\n    <tr>\n      <th>24397</th>\n      <td>Raphael Dias Belloli</td>\n      <td>MID</td>\n      <td>Leeds</td>\n      <td>5.5</td>\n      <td>1</td>\n      <td>0</td>\n      <td>24</td>\n      <td>0</td>\n      <td>60.2</td>\n      <td>570</td>\n      <td>...</td>\n      <td>142069</td>\n      <td>17090</td>\n      <td>56</td>\n      <td>True</td>\n      <td>0</td>\n      <td>38</td>\n      <td>Raphael Dias Belloli</td>\n      <td>2021-05-23</td>\n      <td>Raphael Dias Belloli</td>\n      <td>Raphael Dias Belloli_2021-05-23</td>\n    </tr>\n    <tr>\n      <th>24398</th>\n      <td>Raphael Dias Belloli</td>\n      <td>MID</td>\n      <td>Leeds</td>\n      <td>5.5</td>\n      <td>1</td>\n      <td>0</td>\n      <td>24</td>\n      <td>0</td>\n      <td>60.2</td>\n      <td>570</td>\n      <td>...</td>\n      <td>142069</td>\n      <td>17090</td>\n      <td>56</td>\n      <td>True</td>\n      <td>0</td>\n      <td>38</td>\n      <td>Raphael Dias Belloli</td>\n      <td>2021-05-23</td>\n      <td>Raphinha</td>\n      <td>Raphinha_2021-05-23</td>\n    </tr>\n  </tbody>\n</table>\n<p>24399 rows × 40 columns</p>\n</div>"
     },
     "execution_count": 30,
     "metadata": {},
     "output_type": "execute_result"
    }
   ],
   "source": [
    "PL2020_fl_matched = pd.merge(PL2020_fl, name_matching , on='player', how='left')\n",
    "#PL2020_fl_matched['GW']= PL2020_fl_matched['GW'].astype(float)\n",
    "PL2020_fl_matched['ID'] = PL2020_fl_matched['player_rating'] + '_' + PL2020_fl_matched['date'].astype(str)\n",
    "PL2020_fl_matched"
   ],
   "metadata": {
    "collapsed": false,
    "pycharm": {
     "name": "#%%\n"
    }
   }
  },
  {
   "cell_type": "code",
   "execution_count": 31,
   "outputs": [
    {
     "data": {
      "text/plain": "                       player position     age  minutes             Team  \\\n0                   Joe Bryan       LB  26-361     90.0           Fulham   \n1                    Tim Ream       CB  32-343     90.0           Fulham   \n2              Michael Hector       CB  28-055     90.0           Fulham   \n3                  Denis Odoi       RB  32-108     90.0           Fulham   \n4      Ainsley Maitland-Niles       WB  23-014     90.0          Arsenal   \n...                       ...      ...     ...      ...              ...   \n10389       Emiliano Martínez       GK  28-263     90.0      Aston Villa   \n10390           Edouard Mendy       GK  29-083     45.0          Chelsea   \n10391       Kepa Arrizabalaga       GK  26-232     45.0          Chelsea   \n10392        Łukasz Fabiański       GK  36-035     90.0  West Ham United   \n10393           Alex McCarthy       GK  31-171     90.0      Southampton   \n\n       matchweek  category     Rating        date  \\\n0            1.0  Defender  30.040214  2020-09-12   \n1            1.0  Defender  33.442623  2020-09-12   \n2            1.0  Defender  37.665180  2020-09-12   \n3            1.0  Defender  33.911034  2020-09-12   \n4            1.0  Defender  25.875207  2020-09-12   \n...          ...       ...        ...         ...   \n10389       38.0       NaN  63.001016  2021-05-23   \n10390       38.0       NaN  33.585029  2021-05-23   \n10391       38.0       NaN  26.766151  2021-05-23   \n10392       38.0       NaN  71.562860  2021-05-23   \n10393       38.0       NaN  41.306842  2021-05-23   \n\n                                      ID  \n0                   Joe Bryan_2020-09-12  \n1                    Tim Ream_2020-09-12  \n2              Michael Hector_2020-09-12  \n3                  Denis Odoi_2020-09-12  \n4      Ainsley Maitland-Niles_2020-09-12  \n...                                  ...  \n10389       Emiliano Martínez_2021-05-23  \n10390           Edouard Mendy_2021-05-23  \n10391       Kepa Arrizabalaga_2021-05-23  \n10392        Łukasz Fabiański_2021-05-23  \n10393           Alex McCarthy_2021-05-23  \n\n[10394 rows x 10 columns]",
      "text/html": "<div>\n<style scoped>\n    .dataframe tbody tr th:only-of-type {\n        vertical-align: middle;\n    }\n\n    .dataframe tbody tr th {\n        vertical-align: top;\n    }\n\n    .dataframe thead th {\n        text-align: right;\n    }\n</style>\n<table border=\"1\" class=\"dataframe\">\n  <thead>\n    <tr style=\"text-align: right;\">\n      <th></th>\n      <th>player</th>\n      <th>position</th>\n      <th>age</th>\n      <th>minutes</th>\n      <th>Team</th>\n      <th>matchweek</th>\n      <th>category</th>\n      <th>Rating</th>\n      <th>date</th>\n      <th>ID</th>\n    </tr>\n  </thead>\n  <tbody>\n    <tr>\n      <th>0</th>\n      <td>Joe Bryan</td>\n      <td>LB</td>\n      <td>26-361</td>\n      <td>90.0</td>\n      <td>Fulham</td>\n      <td>1.0</td>\n      <td>Defender</td>\n      <td>30.040214</td>\n      <td>2020-09-12</td>\n      <td>Joe Bryan_2020-09-12</td>\n    </tr>\n    <tr>\n      <th>1</th>\n      <td>Tim Ream</td>\n      <td>CB</td>\n      <td>32-343</td>\n      <td>90.0</td>\n      <td>Fulham</td>\n      <td>1.0</td>\n      <td>Defender</td>\n      <td>33.442623</td>\n      <td>2020-09-12</td>\n      <td>Tim Ream_2020-09-12</td>\n    </tr>\n    <tr>\n      <th>2</th>\n      <td>Michael Hector</td>\n      <td>CB</td>\n      <td>28-055</td>\n      <td>90.0</td>\n      <td>Fulham</td>\n      <td>1.0</td>\n      <td>Defender</td>\n      <td>37.665180</td>\n      <td>2020-09-12</td>\n      <td>Michael Hector_2020-09-12</td>\n    </tr>\n    <tr>\n      <th>3</th>\n      <td>Denis Odoi</td>\n      <td>RB</td>\n      <td>32-108</td>\n      <td>90.0</td>\n      <td>Fulham</td>\n      <td>1.0</td>\n      <td>Defender</td>\n      <td>33.911034</td>\n      <td>2020-09-12</td>\n      <td>Denis Odoi_2020-09-12</td>\n    </tr>\n    <tr>\n      <th>4</th>\n      <td>Ainsley Maitland-Niles</td>\n      <td>WB</td>\n      <td>23-014</td>\n      <td>90.0</td>\n      <td>Arsenal</td>\n      <td>1.0</td>\n      <td>Defender</td>\n      <td>25.875207</td>\n      <td>2020-09-12</td>\n      <td>Ainsley Maitland-Niles_2020-09-12</td>\n    </tr>\n    <tr>\n      <th>...</th>\n      <td>...</td>\n      <td>...</td>\n      <td>...</td>\n      <td>...</td>\n      <td>...</td>\n      <td>...</td>\n      <td>...</td>\n      <td>...</td>\n      <td>...</td>\n      <td>...</td>\n    </tr>\n    <tr>\n      <th>10389</th>\n      <td>Emiliano Martínez</td>\n      <td>GK</td>\n      <td>28-263</td>\n      <td>90.0</td>\n      <td>Aston Villa</td>\n      <td>38.0</td>\n      <td>NaN</td>\n      <td>63.001016</td>\n      <td>2021-05-23</td>\n      <td>Emiliano Martínez_2021-05-23</td>\n    </tr>\n    <tr>\n      <th>10390</th>\n      <td>Edouard Mendy</td>\n      <td>GK</td>\n      <td>29-083</td>\n      <td>45.0</td>\n      <td>Chelsea</td>\n      <td>38.0</td>\n      <td>NaN</td>\n      <td>33.585029</td>\n      <td>2021-05-23</td>\n      <td>Edouard Mendy_2021-05-23</td>\n    </tr>\n    <tr>\n      <th>10391</th>\n      <td>Kepa Arrizabalaga</td>\n      <td>GK</td>\n      <td>26-232</td>\n      <td>45.0</td>\n      <td>Chelsea</td>\n      <td>38.0</td>\n      <td>NaN</td>\n      <td>26.766151</td>\n      <td>2021-05-23</td>\n      <td>Kepa Arrizabalaga_2021-05-23</td>\n    </tr>\n    <tr>\n      <th>10392</th>\n      <td>Łukasz Fabiański</td>\n      <td>GK</td>\n      <td>36-035</td>\n      <td>90.0</td>\n      <td>West Ham United</td>\n      <td>38.0</td>\n      <td>NaN</td>\n      <td>71.562860</td>\n      <td>2021-05-23</td>\n      <td>Łukasz Fabiański_2021-05-23</td>\n    </tr>\n    <tr>\n      <th>10393</th>\n      <td>Alex McCarthy</td>\n      <td>GK</td>\n      <td>31-171</td>\n      <td>90.0</td>\n      <td>Southampton</td>\n      <td>38.0</td>\n      <td>NaN</td>\n      <td>41.306842</td>\n      <td>2021-05-23</td>\n      <td>Alex McCarthy_2021-05-23</td>\n    </tr>\n  </tbody>\n</table>\n<p>10394 rows × 10 columns</p>\n</div>"
     },
     "execution_count": 31,
     "metadata": {},
     "output_type": "execute_result"
    }
   ],
   "source": [
    "PL2020_ratings['ID'] = PL2020_ratings['player'] + '_' + PL2020_ratings['date'].astype(str)\n",
    "PL2020_ratings"
   ],
   "metadata": {
    "collapsed": false,
    "pycharm": {
     "name": "#%%\n"
    }
   }
  },
  {
   "cell_type": "code",
   "execution_count": 32,
   "outputs": [
    {
     "data": {
      "text/plain": "                     player_x position_x     age  minutes_x             Team  \\\n0                   Joe Bryan         LB  26-361       90.0           Fulham   \n1                    Tim Ream         CB  32-343       90.0           Fulham   \n2              Michael Hector         CB  28-055       90.0           Fulham   \n3                  Denis Odoi         RB  32-108       90.0           Fulham   \n4      Ainsley Maitland-Niles         WB  23-014       90.0          Arsenal   \n...                       ...        ...     ...        ...              ...   \n10392       Emiliano Martínez         GK  28-263       90.0      Aston Villa   \n10393           Edouard Mendy         GK  29-083       45.0          Chelsea   \n10394       Kepa Arrizabalaga         GK  26-232       45.0          Chelsea   \n10395        Łukasz Fabiański         GK  36-035       90.0  West Ham United   \n10396           Alex McCarthy         GK  31-171       90.0      Southampton   \n\n       matchweek_x  category     Rating      date_x  \\\n0              1.0  Defender  30.040214  2020-09-12   \n1              1.0  Defender  33.442623  2020-09-12   \n2              1.0  Defender  37.665180  2020-09-12   \n3              1.0  Defender  33.911034  2020-09-12   \n4              1.0  Defender  25.875207  2020-09-12   \n...            ...       ...        ...         ...   \n10392         38.0       NaN  63.001016  2021-05-23   \n10393         38.0       NaN  33.585029  2021-05-23   \n10394         38.0       NaN  26.766151  2021-05-23   \n10395         38.0       NaN  71.562860  2021-05-23   \n10396         38.0       NaN  41.306842  2021-05-23   \n\n                                      ID  ... transfers_balance transfers_in  \\\n0                   Joe Bryan_2020-09-12  ...                 0            0   \n1                    Tim Ream_2020-09-12  ...                 0            0   \n2              Michael Hector_2020-09-12  ...                 0            0   \n3                  Denis Odoi_2020-09-12  ...                 0            0   \n4      Ainsley Maitland-Niles_2020-09-12  ...                 0            0   \n...                                  ...  ...               ...          ...   \n10392       Emiliano Martínez_2021-05-23  ...            -62612        15191   \n10393           Edouard Mendy_2021-05-23  ...             41035        58884   \n10394       Kepa Arrizabalaga_2021-05-23  ...               416          951   \n10395        Łukasz Fabiański_2021-05-23  ...            -25881         4342   \n10396           Alex McCarthy_2021-05-23  ...            -10639         5303   \n\n      transfers_out  value  was_home  yellow_cards  GW  \\\n0                 0     50      True             0   1   \n1                 0     45      True             0   1   \n2                 0     45      True             1   1   \n3                 0     45      True             0   1   \n4                 0     50     False             0   1   \n...             ...    ...       ...           ...  ..   \n10392         77803     53      True             1  38   \n10393         17849     53     False             0  38   \n10394           535     47     False             1  38   \n10395         30223     50      True             0  38   \n10396         15942     44     False             0  38   \n\n                     player_y      date_y           player_rating  \n0                   Joe Bryan  2020-09-12               Joe Bryan  \n1                    Tim Ream  2020-09-12                Tim Ream  \n2              Michael Hector  2020-09-12          Michael Hector  \n3                  Denis Odoi  2020-09-12              Denis Odoi  \n4      Ainsley Maitland-Niles  2020-09-12  Ainsley Maitland-Niles  \n...                       ...         ...                     ...  \n10392       Emiliano Martínez  2021-05-23       Emiliano Martínez  \n10393           Edouard Mendy  2021-05-23           Edouard Mendy  \n10394       Kepa Arrizabalaga  2021-05-23       Kepa Arrizabalaga  \n10395        Lukasz Fabianski  2021-05-23        Łukasz Fabiański  \n10396           Alex McCarthy  2021-05-23           Alex McCarthy  \n\n[10397 rows x 49 columns]",
      "text/html": "<div>\n<style scoped>\n    .dataframe tbody tr th:only-of-type {\n        vertical-align: middle;\n    }\n\n    .dataframe tbody tr th {\n        vertical-align: top;\n    }\n\n    .dataframe thead th {\n        text-align: right;\n    }\n</style>\n<table border=\"1\" class=\"dataframe\">\n  <thead>\n    <tr style=\"text-align: right;\">\n      <th></th>\n      <th>player_x</th>\n      <th>position_x</th>\n      <th>age</th>\n      <th>minutes_x</th>\n      <th>Team</th>\n      <th>matchweek_x</th>\n      <th>category</th>\n      <th>Rating</th>\n      <th>date_x</th>\n      <th>ID</th>\n      <th>...</th>\n      <th>transfers_balance</th>\n      <th>transfers_in</th>\n      <th>transfers_out</th>\n      <th>value</th>\n      <th>was_home</th>\n      <th>yellow_cards</th>\n      <th>GW</th>\n      <th>player_y</th>\n      <th>date_y</th>\n      <th>player_rating</th>\n    </tr>\n  </thead>\n  <tbody>\n    <tr>\n      <th>0</th>\n      <td>Joe Bryan</td>\n      <td>LB</td>\n      <td>26-361</td>\n      <td>90.0</td>\n      <td>Fulham</td>\n      <td>1.0</td>\n      <td>Defender</td>\n      <td>30.040214</td>\n      <td>2020-09-12</td>\n      <td>Joe Bryan_2020-09-12</td>\n      <td>...</td>\n      <td>0</td>\n      <td>0</td>\n      <td>0</td>\n      <td>50</td>\n      <td>True</td>\n      <td>0</td>\n      <td>1</td>\n      <td>Joe Bryan</td>\n      <td>2020-09-12</td>\n      <td>Joe Bryan</td>\n    </tr>\n    <tr>\n      <th>1</th>\n      <td>Tim Ream</td>\n      <td>CB</td>\n      <td>32-343</td>\n      <td>90.0</td>\n      <td>Fulham</td>\n      <td>1.0</td>\n      <td>Defender</td>\n      <td>33.442623</td>\n      <td>2020-09-12</td>\n      <td>Tim Ream_2020-09-12</td>\n      <td>...</td>\n      <td>0</td>\n      <td>0</td>\n      <td>0</td>\n      <td>45</td>\n      <td>True</td>\n      <td>0</td>\n      <td>1</td>\n      <td>Tim Ream</td>\n      <td>2020-09-12</td>\n      <td>Tim Ream</td>\n    </tr>\n    <tr>\n      <th>2</th>\n      <td>Michael Hector</td>\n      <td>CB</td>\n      <td>28-055</td>\n      <td>90.0</td>\n      <td>Fulham</td>\n      <td>1.0</td>\n      <td>Defender</td>\n      <td>37.665180</td>\n      <td>2020-09-12</td>\n      <td>Michael Hector_2020-09-12</td>\n      <td>...</td>\n      <td>0</td>\n      <td>0</td>\n      <td>0</td>\n      <td>45</td>\n      <td>True</td>\n      <td>1</td>\n      <td>1</td>\n      <td>Michael Hector</td>\n      <td>2020-09-12</td>\n      <td>Michael Hector</td>\n    </tr>\n    <tr>\n      <th>3</th>\n      <td>Denis Odoi</td>\n      <td>RB</td>\n      <td>32-108</td>\n      <td>90.0</td>\n      <td>Fulham</td>\n      <td>1.0</td>\n      <td>Defender</td>\n      <td>33.911034</td>\n      <td>2020-09-12</td>\n      <td>Denis Odoi_2020-09-12</td>\n      <td>...</td>\n      <td>0</td>\n      <td>0</td>\n      <td>0</td>\n      <td>45</td>\n      <td>True</td>\n      <td>0</td>\n      <td>1</td>\n      <td>Denis Odoi</td>\n      <td>2020-09-12</td>\n      <td>Denis Odoi</td>\n    </tr>\n    <tr>\n      <th>4</th>\n      <td>Ainsley Maitland-Niles</td>\n      <td>WB</td>\n      <td>23-014</td>\n      <td>90.0</td>\n      <td>Arsenal</td>\n      <td>1.0</td>\n      <td>Defender</td>\n      <td>25.875207</td>\n      <td>2020-09-12</td>\n      <td>Ainsley Maitland-Niles_2020-09-12</td>\n      <td>...</td>\n      <td>0</td>\n      <td>0</td>\n      <td>0</td>\n      <td>50</td>\n      <td>False</td>\n      <td>0</td>\n      <td>1</td>\n      <td>Ainsley Maitland-Niles</td>\n      <td>2020-09-12</td>\n      <td>Ainsley Maitland-Niles</td>\n    </tr>\n    <tr>\n      <th>...</th>\n      <td>...</td>\n      <td>...</td>\n      <td>...</td>\n      <td>...</td>\n      <td>...</td>\n      <td>...</td>\n      <td>...</td>\n      <td>...</td>\n      <td>...</td>\n      <td>...</td>\n      <td>...</td>\n      <td>...</td>\n      <td>...</td>\n      <td>...</td>\n      <td>...</td>\n      <td>...</td>\n      <td>...</td>\n      <td>...</td>\n      <td>...</td>\n      <td>...</td>\n      <td>...</td>\n    </tr>\n    <tr>\n      <th>10392</th>\n      <td>Emiliano Martínez</td>\n      <td>GK</td>\n      <td>28-263</td>\n      <td>90.0</td>\n      <td>Aston Villa</td>\n      <td>38.0</td>\n      <td>NaN</td>\n      <td>63.001016</td>\n      <td>2021-05-23</td>\n      <td>Emiliano Martínez_2021-05-23</td>\n      <td>...</td>\n      <td>-62612</td>\n      <td>15191</td>\n      <td>77803</td>\n      <td>53</td>\n      <td>True</td>\n      <td>1</td>\n      <td>38</td>\n      <td>Emiliano Martínez</td>\n      <td>2021-05-23</td>\n      <td>Emiliano Martínez</td>\n    </tr>\n    <tr>\n      <th>10393</th>\n      <td>Edouard Mendy</td>\n      <td>GK</td>\n      <td>29-083</td>\n      <td>45.0</td>\n      <td>Chelsea</td>\n      <td>38.0</td>\n      <td>NaN</td>\n      <td>33.585029</td>\n      <td>2021-05-23</td>\n      <td>Edouard Mendy_2021-05-23</td>\n      <td>...</td>\n      <td>41035</td>\n      <td>58884</td>\n      <td>17849</td>\n      <td>53</td>\n      <td>False</td>\n      <td>0</td>\n      <td>38</td>\n      <td>Edouard Mendy</td>\n      <td>2021-05-23</td>\n      <td>Edouard Mendy</td>\n    </tr>\n    <tr>\n      <th>10394</th>\n      <td>Kepa Arrizabalaga</td>\n      <td>GK</td>\n      <td>26-232</td>\n      <td>45.0</td>\n      <td>Chelsea</td>\n      <td>38.0</td>\n      <td>NaN</td>\n      <td>26.766151</td>\n      <td>2021-05-23</td>\n      <td>Kepa Arrizabalaga_2021-05-23</td>\n      <td>...</td>\n      <td>416</td>\n      <td>951</td>\n      <td>535</td>\n      <td>47</td>\n      <td>False</td>\n      <td>1</td>\n      <td>38</td>\n      <td>Kepa Arrizabalaga</td>\n      <td>2021-05-23</td>\n      <td>Kepa Arrizabalaga</td>\n    </tr>\n    <tr>\n      <th>10395</th>\n      <td>Łukasz Fabiański</td>\n      <td>GK</td>\n      <td>36-035</td>\n      <td>90.0</td>\n      <td>West Ham United</td>\n      <td>38.0</td>\n      <td>NaN</td>\n      <td>71.562860</td>\n      <td>2021-05-23</td>\n      <td>Łukasz Fabiański_2021-05-23</td>\n      <td>...</td>\n      <td>-25881</td>\n      <td>4342</td>\n      <td>30223</td>\n      <td>50</td>\n      <td>True</td>\n      <td>0</td>\n      <td>38</td>\n      <td>Lukasz Fabianski</td>\n      <td>2021-05-23</td>\n      <td>Łukasz Fabiański</td>\n    </tr>\n    <tr>\n      <th>10396</th>\n      <td>Alex McCarthy</td>\n      <td>GK</td>\n      <td>31-171</td>\n      <td>90.0</td>\n      <td>Southampton</td>\n      <td>38.0</td>\n      <td>NaN</td>\n      <td>41.306842</td>\n      <td>2021-05-23</td>\n      <td>Alex McCarthy_2021-05-23</td>\n      <td>...</td>\n      <td>-10639</td>\n      <td>5303</td>\n      <td>15942</td>\n      <td>44</td>\n      <td>False</td>\n      <td>0</td>\n      <td>38</td>\n      <td>Alex McCarthy</td>\n      <td>2021-05-23</td>\n      <td>Alex McCarthy</td>\n    </tr>\n  </tbody>\n</table>\n<p>10397 rows × 49 columns</p>\n</div>"
     },
     "execution_count": 32,
     "metadata": {},
     "output_type": "execute_result"
    }
   ],
   "source": [
    "PL2020_matched = pd.merge(PL2020_ratings, PL2020_fl_matched , on='ID', how='left')\n",
    "PL2020_matched"
   ],
   "metadata": {
    "collapsed": false,
    "pycharm": {
     "name": "#%%\n"
    }
   }
  },
  {
   "cell_type": "code",
   "execution_count": 33,
   "outputs": [
    {
     "data": {
      "text/plain": "                     player_x                    name      date_x  \\\n0                   Joe Bryan               Joe Bryan  2020-09-12   \n1                    Tim Ream                Tim Ream  2020-09-12   \n2              Michael Hector          Michael Hector  2020-09-12   \n3                  Denis Odoi              Denis Odoi  2020-09-12   \n4      Ainsley Maitland-Niles  Ainsley Maitland-Niles  2020-09-12   \n...                       ...                     ...         ...   \n10392       Emiliano Martínez       Emiliano Martínez  2021-05-23   \n10393           Edouard Mendy           Edouard Mendy  2021-05-23   \n10394       Kepa Arrizabalaga       Kepa Arrizabalaga  2021-05-23   \n10395        Łukasz Fabiański        Lukasz Fabianski  2021-05-23   \n10396           Alex McCarthy           Alex McCarthy  2021-05-23   \n\n                  Team  matchweek_x  category position_x position_y  \\\n0               Fulham          1.0  Defender         LB        DEF   \n1               Fulham          1.0  Defender         CB        DEF   \n2               Fulham          1.0  Defender         CB        DEF   \n3               Fulham          1.0  Defender         RB        DEF   \n4              Arsenal          1.0  Defender         WB        DEF   \n...                ...          ...       ...        ...        ...   \n10392      Aston Villa         38.0       NaN         GK         GK   \n10393          Chelsea         38.0       NaN         GK         GK   \n10394          Chelsea         38.0       NaN         GK         GK   \n10395  West Ham United         38.0       NaN         GK         GK   \n10396      Southampton         38.0       NaN         GK         GK   \n\n       minutes_x  minutes_y  ...  ict_index  influence  creativity  threat  \\\n0           90.0         90  ...        1.5       10.6         4.3     0.0   \n1           90.0         90  ...        1.7       16.4         0.8     0.0   \n2           90.0         90  ...        1.7       16.8         0.6     0.0   \n3           90.0         90  ...        2.1       11.4         2.6     7.0   \n4           90.0         90  ...        1.7       10.2         2.8     4.0   \n...          ...        ...  ...        ...        ...         ...     ...   \n10392       90.0         90  ...        4.2       41.6         0.0     0.0   \n10393       45.0         45  ...        0.9        8.6         0.0     0.0   \n10394       45.0         45  ...        0.0        0.2         0.0     0.0   \n10395       90.0         90  ...        4.4       44.4         0.0     0.0   \n10396       90.0         90  ...        3.1       31.4         0.0     0.0   \n\n       total_points  transfers_balance  transfers_in  transfers_out  value  \\\n0                 1                  0             0              0     50   \n1                 1                  0             0              0     45   \n2                 0                  0             0              0     45   \n3                 1                  0             0              0     45   \n4                 6                  0             0              0     50   \n...             ...                ...           ...            ...    ...   \n10392             3             -62612         15191          77803     53   \n10393             1              41035         58884          17849     53   \n10394             0                416           951            535     47   \n10395             9             -25881          4342          30223     50   \n10396             2             -10639          5303          15942     44   \n\n       was_home  \n0          True  \n1          True  \n2          True  \n3          True  \n4         False  \n...         ...  \n10392      True  \n10393     False  \n10394     False  \n10395      True  \n10396     False  \n\n[10397 rows x 24 columns]",
      "text/html": "<div>\n<style scoped>\n    .dataframe tbody tr th:only-of-type {\n        vertical-align: middle;\n    }\n\n    .dataframe tbody tr th {\n        vertical-align: top;\n    }\n\n    .dataframe thead th {\n        text-align: right;\n    }\n</style>\n<table border=\"1\" class=\"dataframe\">\n  <thead>\n    <tr style=\"text-align: right;\">\n      <th></th>\n      <th>player_x</th>\n      <th>name</th>\n      <th>date_x</th>\n      <th>Team</th>\n      <th>matchweek_x</th>\n      <th>category</th>\n      <th>position_x</th>\n      <th>position_y</th>\n      <th>minutes_x</th>\n      <th>minutes_y</th>\n      <th>...</th>\n      <th>ict_index</th>\n      <th>influence</th>\n      <th>creativity</th>\n      <th>threat</th>\n      <th>total_points</th>\n      <th>transfers_balance</th>\n      <th>transfers_in</th>\n      <th>transfers_out</th>\n      <th>value</th>\n      <th>was_home</th>\n    </tr>\n  </thead>\n  <tbody>\n    <tr>\n      <th>0</th>\n      <td>Joe Bryan</td>\n      <td>Joe Bryan</td>\n      <td>2020-09-12</td>\n      <td>Fulham</td>\n      <td>1.0</td>\n      <td>Defender</td>\n      <td>LB</td>\n      <td>DEF</td>\n      <td>90.0</td>\n      <td>90</td>\n      <td>...</td>\n      <td>1.5</td>\n      <td>10.6</td>\n      <td>4.3</td>\n      <td>0.0</td>\n      <td>1</td>\n      <td>0</td>\n      <td>0</td>\n      <td>0</td>\n      <td>50</td>\n      <td>True</td>\n    </tr>\n    <tr>\n      <th>1</th>\n      <td>Tim Ream</td>\n      <td>Tim Ream</td>\n      <td>2020-09-12</td>\n      <td>Fulham</td>\n      <td>1.0</td>\n      <td>Defender</td>\n      <td>CB</td>\n      <td>DEF</td>\n      <td>90.0</td>\n      <td>90</td>\n      <td>...</td>\n      <td>1.7</td>\n      <td>16.4</td>\n      <td>0.8</td>\n      <td>0.0</td>\n      <td>1</td>\n      <td>0</td>\n      <td>0</td>\n      <td>0</td>\n      <td>45</td>\n      <td>True</td>\n    </tr>\n    <tr>\n      <th>2</th>\n      <td>Michael Hector</td>\n      <td>Michael Hector</td>\n      <td>2020-09-12</td>\n      <td>Fulham</td>\n      <td>1.0</td>\n      <td>Defender</td>\n      <td>CB</td>\n      <td>DEF</td>\n      <td>90.0</td>\n      <td>90</td>\n      <td>...</td>\n      <td>1.7</td>\n      <td>16.8</td>\n      <td>0.6</td>\n      <td>0.0</td>\n      <td>0</td>\n      <td>0</td>\n      <td>0</td>\n      <td>0</td>\n      <td>45</td>\n      <td>True</td>\n    </tr>\n    <tr>\n      <th>3</th>\n      <td>Denis Odoi</td>\n      <td>Denis Odoi</td>\n      <td>2020-09-12</td>\n      <td>Fulham</td>\n      <td>1.0</td>\n      <td>Defender</td>\n      <td>RB</td>\n      <td>DEF</td>\n      <td>90.0</td>\n      <td>90</td>\n      <td>...</td>\n      <td>2.1</td>\n      <td>11.4</td>\n      <td>2.6</td>\n      <td>7.0</td>\n      <td>1</td>\n      <td>0</td>\n      <td>0</td>\n      <td>0</td>\n      <td>45</td>\n      <td>True</td>\n    </tr>\n    <tr>\n      <th>4</th>\n      <td>Ainsley Maitland-Niles</td>\n      <td>Ainsley Maitland-Niles</td>\n      <td>2020-09-12</td>\n      <td>Arsenal</td>\n      <td>1.0</td>\n      <td>Defender</td>\n      <td>WB</td>\n      <td>DEF</td>\n      <td>90.0</td>\n      <td>90</td>\n      <td>...</td>\n      <td>1.7</td>\n      <td>10.2</td>\n      <td>2.8</td>\n      <td>4.0</td>\n      <td>6</td>\n      <td>0</td>\n      <td>0</td>\n      <td>0</td>\n      <td>50</td>\n      <td>False</td>\n    </tr>\n    <tr>\n      <th>...</th>\n      <td>...</td>\n      <td>...</td>\n      <td>...</td>\n      <td>...</td>\n      <td>...</td>\n      <td>...</td>\n      <td>...</td>\n      <td>...</td>\n      <td>...</td>\n      <td>...</td>\n      <td>...</td>\n      <td>...</td>\n      <td>...</td>\n      <td>...</td>\n      <td>...</td>\n      <td>...</td>\n      <td>...</td>\n      <td>...</td>\n      <td>...</td>\n      <td>...</td>\n      <td>...</td>\n    </tr>\n    <tr>\n      <th>10392</th>\n      <td>Emiliano Martínez</td>\n      <td>Emiliano Martínez</td>\n      <td>2021-05-23</td>\n      <td>Aston Villa</td>\n      <td>38.0</td>\n      <td>NaN</td>\n      <td>GK</td>\n      <td>GK</td>\n      <td>90.0</td>\n      <td>90</td>\n      <td>...</td>\n      <td>4.2</td>\n      <td>41.6</td>\n      <td>0.0</td>\n      <td>0.0</td>\n      <td>3</td>\n      <td>-62612</td>\n      <td>15191</td>\n      <td>77803</td>\n      <td>53</td>\n      <td>True</td>\n    </tr>\n    <tr>\n      <th>10393</th>\n      <td>Edouard Mendy</td>\n      <td>Edouard Mendy</td>\n      <td>2021-05-23</td>\n      <td>Chelsea</td>\n      <td>38.0</td>\n      <td>NaN</td>\n      <td>GK</td>\n      <td>GK</td>\n      <td>45.0</td>\n      <td>45</td>\n      <td>...</td>\n      <td>0.9</td>\n      <td>8.6</td>\n      <td>0.0</td>\n      <td>0.0</td>\n      <td>1</td>\n      <td>41035</td>\n      <td>58884</td>\n      <td>17849</td>\n      <td>53</td>\n      <td>False</td>\n    </tr>\n    <tr>\n      <th>10394</th>\n      <td>Kepa Arrizabalaga</td>\n      <td>Kepa Arrizabalaga</td>\n      <td>2021-05-23</td>\n      <td>Chelsea</td>\n      <td>38.0</td>\n      <td>NaN</td>\n      <td>GK</td>\n      <td>GK</td>\n      <td>45.0</td>\n      <td>45</td>\n      <td>...</td>\n      <td>0.0</td>\n      <td>0.2</td>\n      <td>0.0</td>\n      <td>0.0</td>\n      <td>0</td>\n      <td>416</td>\n      <td>951</td>\n      <td>535</td>\n      <td>47</td>\n      <td>False</td>\n    </tr>\n    <tr>\n      <th>10395</th>\n      <td>Łukasz Fabiański</td>\n      <td>Lukasz Fabianski</td>\n      <td>2021-05-23</td>\n      <td>West Ham United</td>\n      <td>38.0</td>\n      <td>NaN</td>\n      <td>GK</td>\n      <td>GK</td>\n      <td>90.0</td>\n      <td>90</td>\n      <td>...</td>\n      <td>4.4</td>\n      <td>44.4</td>\n      <td>0.0</td>\n      <td>0.0</td>\n      <td>9</td>\n      <td>-25881</td>\n      <td>4342</td>\n      <td>30223</td>\n      <td>50</td>\n      <td>True</td>\n    </tr>\n    <tr>\n      <th>10396</th>\n      <td>Alex McCarthy</td>\n      <td>Alex McCarthy</td>\n      <td>2021-05-23</td>\n      <td>Southampton</td>\n      <td>38.0</td>\n      <td>NaN</td>\n      <td>GK</td>\n      <td>GK</td>\n      <td>90.0</td>\n      <td>90</td>\n      <td>...</td>\n      <td>3.1</td>\n      <td>31.4</td>\n      <td>0.0</td>\n      <td>0.0</td>\n      <td>2</td>\n      <td>-10639</td>\n      <td>5303</td>\n      <td>15942</td>\n      <td>44</td>\n      <td>False</td>\n    </tr>\n  </tbody>\n</table>\n<p>10397 rows × 24 columns</p>\n</div>"
     },
     "execution_count": 33,
     "metadata": {},
     "output_type": "execute_result"
    }
   ],
   "source": [
    "PL2020_check = PL2020_matched[['player_x','name' ,'date_x' ,'Team', 'matchweek_x', 'category','position_x', 'position_y', 'minutes_x', 'minutes_y', 'Rating', 'xP', 'bonus', 'bps',  'ict_index', 'influence', 'creativity','threat','total_points', 'transfers_balance', 'transfers_in', 'transfers_out', 'value', 'was_home' ]]\n",
    "PL2020_check"
   ],
   "metadata": {
    "collapsed": false,
    "pycharm": {
     "name": "#%%\n"
    }
   }
  },
  {
   "cell_type": "code",
   "execution_count": 34,
   "outputs": [],
   "source": [
    "PL2020_check.to_excel('check_2020.xlsx')"
   ],
   "metadata": {
    "collapsed": false,
    "pycharm": {
     "name": "#%%\n"
    }
   }
  },
  {
   "cell_type": "code",
   "execution_count": 36,
   "outputs": [
    {
     "name": "stderr",
     "output_type": "stream",
     "text": [
      "C:\\Users\\giuli\\AppData\\Local\\Temp\\ipykernel_28604\\2653065548.py:2: SettingWithCopyWarning: \n",
      "A value is trying to be set on a copy of a slice from a DataFrame\n",
      "\n",
      "See the caveats in the documentation: https://pandas.pydata.org/pandas-docs/stable/user_guide/indexing.html#returning-a-view-versus-a-copy\n",
      "  PL2020_total.rename(columns={\"player_x\": \"player\", \"date_x\": \"date\", \"Team\": \"team\", \"matchweek_x\": \"matchweek\", \"position_x\": \"position\", \"minutes_x\": \"minutes\", \"Rating\": \"rating\"}, inplace=True)\n"
     ]
    },
    {
     "data": {
      "text/plain": "                       player        date             team  matchweek  \\\n0                   Joe Bryan  2020-09-12           Fulham        1.0   \n1                    Tim Ream  2020-09-12           Fulham        1.0   \n2              Michael Hector  2020-09-12           Fulham        1.0   \n3                  Denis Odoi  2020-09-12           Fulham        1.0   \n4      Ainsley Maitland-Niles  2020-09-12          Arsenal        1.0   \n...                       ...         ...              ...        ...   \n10392       Emiliano Martínez  2021-05-23      Aston Villa       38.0   \n10393           Edouard Mendy  2021-05-23          Chelsea       38.0   \n10394       Kepa Arrizabalaga  2021-05-23          Chelsea       38.0   \n10395        Łukasz Fabiański  2021-05-23  West Ham United       38.0   \n10396           Alex McCarthy  2021-05-23      Southampton       38.0   \n\n       category position  minutes     rating   xP  bonus  ...  ict_index  \\\n0      Defender       LB     90.0  30.040214  1.1      0  ...        1.5   \n1      Defender       CB     90.0  33.442623  0.6      0  ...        1.7   \n2      Defender       CB     90.0  37.665180  0.6      0  ...        1.7   \n3      Defender       RB     90.0  33.911034  0.6      0  ...        2.1   \n4      Defender       WB     90.0  25.875207  3.1      0  ...        1.7   \n...         ...      ...      ...        ...  ...    ...  ...        ...   \n10392       NaN       GK     90.0  63.001016  2.5      0  ...        4.2   \n10393       NaN       GK     45.0  33.585029  1.5      0  ...        0.9   \n10394       NaN       GK     45.0  26.766151  0.5      0  ...        0.0   \n10395       NaN       GK     90.0  71.562860  7.1      2  ...        4.4   \n10396       NaN       GK     90.0  41.306842  1.5      0  ...        3.1   \n\n       influence  creativity  threat  total_points  transfers_balance  \\\n0           10.6         4.3     0.0             1                  0   \n1           16.4         0.8     0.0             1                  0   \n2           16.8         0.6     0.0             0                  0   \n3           11.4         2.6     7.0             1                  0   \n4           10.2         2.8     4.0             6                  0   \n...          ...         ...     ...           ...                ...   \n10392       41.6         0.0     0.0             3             -62612   \n10393        8.6         0.0     0.0             1              41035   \n10394        0.2         0.0     0.0             0                416   \n10395       44.4         0.0     0.0             9             -25881   \n10396       31.4         0.0     0.0             2             -10639   \n\n       transfers_in  transfers_out  value  was_home  \n0                 0              0     50      True  \n1                 0              0     45      True  \n2                 0              0     45      True  \n3                 0              0     45      True  \n4                 0              0     50     False  \n...             ...            ...    ...       ...  \n10392         15191          77803     53      True  \n10393         58884          17849     53     False  \n10394           951            535     47     False  \n10395          4342          30223     50      True  \n10396          5303          15942     44     False  \n\n[10397 rows x 21 columns]",
      "text/html": "<div>\n<style scoped>\n    .dataframe tbody tr th:only-of-type {\n        vertical-align: middle;\n    }\n\n    .dataframe tbody tr th {\n        vertical-align: top;\n    }\n\n    .dataframe thead th {\n        text-align: right;\n    }\n</style>\n<table border=\"1\" class=\"dataframe\">\n  <thead>\n    <tr style=\"text-align: right;\">\n      <th></th>\n      <th>player</th>\n      <th>date</th>\n      <th>team</th>\n      <th>matchweek</th>\n      <th>category</th>\n      <th>position</th>\n      <th>minutes</th>\n      <th>rating</th>\n      <th>xP</th>\n      <th>bonus</th>\n      <th>...</th>\n      <th>ict_index</th>\n      <th>influence</th>\n      <th>creativity</th>\n      <th>threat</th>\n      <th>total_points</th>\n      <th>transfers_balance</th>\n      <th>transfers_in</th>\n      <th>transfers_out</th>\n      <th>value</th>\n      <th>was_home</th>\n    </tr>\n  </thead>\n  <tbody>\n    <tr>\n      <th>0</th>\n      <td>Joe Bryan</td>\n      <td>2020-09-12</td>\n      <td>Fulham</td>\n      <td>1.0</td>\n      <td>Defender</td>\n      <td>LB</td>\n      <td>90.0</td>\n      <td>30.040214</td>\n      <td>1.1</td>\n      <td>0</td>\n      <td>...</td>\n      <td>1.5</td>\n      <td>10.6</td>\n      <td>4.3</td>\n      <td>0.0</td>\n      <td>1</td>\n      <td>0</td>\n      <td>0</td>\n      <td>0</td>\n      <td>50</td>\n      <td>True</td>\n    </tr>\n    <tr>\n      <th>1</th>\n      <td>Tim Ream</td>\n      <td>2020-09-12</td>\n      <td>Fulham</td>\n      <td>1.0</td>\n      <td>Defender</td>\n      <td>CB</td>\n      <td>90.0</td>\n      <td>33.442623</td>\n      <td>0.6</td>\n      <td>0</td>\n      <td>...</td>\n      <td>1.7</td>\n      <td>16.4</td>\n      <td>0.8</td>\n      <td>0.0</td>\n      <td>1</td>\n      <td>0</td>\n      <td>0</td>\n      <td>0</td>\n      <td>45</td>\n      <td>True</td>\n    </tr>\n    <tr>\n      <th>2</th>\n      <td>Michael Hector</td>\n      <td>2020-09-12</td>\n      <td>Fulham</td>\n      <td>1.0</td>\n      <td>Defender</td>\n      <td>CB</td>\n      <td>90.0</td>\n      <td>37.665180</td>\n      <td>0.6</td>\n      <td>0</td>\n      <td>...</td>\n      <td>1.7</td>\n      <td>16.8</td>\n      <td>0.6</td>\n      <td>0.0</td>\n      <td>0</td>\n      <td>0</td>\n      <td>0</td>\n      <td>0</td>\n      <td>45</td>\n      <td>True</td>\n    </tr>\n    <tr>\n      <th>3</th>\n      <td>Denis Odoi</td>\n      <td>2020-09-12</td>\n      <td>Fulham</td>\n      <td>1.0</td>\n      <td>Defender</td>\n      <td>RB</td>\n      <td>90.0</td>\n      <td>33.911034</td>\n      <td>0.6</td>\n      <td>0</td>\n      <td>...</td>\n      <td>2.1</td>\n      <td>11.4</td>\n      <td>2.6</td>\n      <td>7.0</td>\n      <td>1</td>\n      <td>0</td>\n      <td>0</td>\n      <td>0</td>\n      <td>45</td>\n      <td>True</td>\n    </tr>\n    <tr>\n      <th>4</th>\n      <td>Ainsley Maitland-Niles</td>\n      <td>2020-09-12</td>\n      <td>Arsenal</td>\n      <td>1.0</td>\n      <td>Defender</td>\n      <td>WB</td>\n      <td>90.0</td>\n      <td>25.875207</td>\n      <td>3.1</td>\n      <td>0</td>\n      <td>...</td>\n      <td>1.7</td>\n      <td>10.2</td>\n      <td>2.8</td>\n      <td>4.0</td>\n      <td>6</td>\n      <td>0</td>\n      <td>0</td>\n      <td>0</td>\n      <td>50</td>\n      <td>False</td>\n    </tr>\n    <tr>\n      <th>...</th>\n      <td>...</td>\n      <td>...</td>\n      <td>...</td>\n      <td>...</td>\n      <td>...</td>\n      <td>...</td>\n      <td>...</td>\n      <td>...</td>\n      <td>...</td>\n      <td>...</td>\n      <td>...</td>\n      <td>...</td>\n      <td>...</td>\n      <td>...</td>\n      <td>...</td>\n      <td>...</td>\n      <td>...</td>\n      <td>...</td>\n      <td>...</td>\n      <td>...</td>\n      <td>...</td>\n    </tr>\n    <tr>\n      <th>10392</th>\n      <td>Emiliano Martínez</td>\n      <td>2021-05-23</td>\n      <td>Aston Villa</td>\n      <td>38.0</td>\n      <td>NaN</td>\n      <td>GK</td>\n      <td>90.0</td>\n      <td>63.001016</td>\n      <td>2.5</td>\n      <td>0</td>\n      <td>...</td>\n      <td>4.2</td>\n      <td>41.6</td>\n      <td>0.0</td>\n      <td>0.0</td>\n      <td>3</td>\n      <td>-62612</td>\n      <td>15191</td>\n      <td>77803</td>\n      <td>53</td>\n      <td>True</td>\n    </tr>\n    <tr>\n      <th>10393</th>\n      <td>Edouard Mendy</td>\n      <td>2021-05-23</td>\n      <td>Chelsea</td>\n      <td>38.0</td>\n      <td>NaN</td>\n      <td>GK</td>\n      <td>45.0</td>\n      <td>33.585029</td>\n      <td>1.5</td>\n      <td>0</td>\n      <td>...</td>\n      <td>0.9</td>\n      <td>8.6</td>\n      <td>0.0</td>\n      <td>0.0</td>\n      <td>1</td>\n      <td>41035</td>\n      <td>58884</td>\n      <td>17849</td>\n      <td>53</td>\n      <td>False</td>\n    </tr>\n    <tr>\n      <th>10394</th>\n      <td>Kepa Arrizabalaga</td>\n      <td>2021-05-23</td>\n      <td>Chelsea</td>\n      <td>38.0</td>\n      <td>NaN</td>\n      <td>GK</td>\n      <td>45.0</td>\n      <td>26.766151</td>\n      <td>0.5</td>\n      <td>0</td>\n      <td>...</td>\n      <td>0.0</td>\n      <td>0.2</td>\n      <td>0.0</td>\n      <td>0.0</td>\n      <td>0</td>\n      <td>416</td>\n      <td>951</td>\n      <td>535</td>\n      <td>47</td>\n      <td>False</td>\n    </tr>\n    <tr>\n      <th>10395</th>\n      <td>Łukasz Fabiański</td>\n      <td>2021-05-23</td>\n      <td>West Ham United</td>\n      <td>38.0</td>\n      <td>NaN</td>\n      <td>GK</td>\n      <td>90.0</td>\n      <td>71.562860</td>\n      <td>7.1</td>\n      <td>2</td>\n      <td>...</td>\n      <td>4.4</td>\n      <td>44.4</td>\n      <td>0.0</td>\n      <td>0.0</td>\n      <td>9</td>\n      <td>-25881</td>\n      <td>4342</td>\n      <td>30223</td>\n      <td>50</td>\n      <td>True</td>\n    </tr>\n    <tr>\n      <th>10396</th>\n      <td>Alex McCarthy</td>\n      <td>2021-05-23</td>\n      <td>Southampton</td>\n      <td>38.0</td>\n      <td>NaN</td>\n      <td>GK</td>\n      <td>90.0</td>\n      <td>41.306842</td>\n      <td>1.5</td>\n      <td>0</td>\n      <td>...</td>\n      <td>3.1</td>\n      <td>31.4</td>\n      <td>0.0</td>\n      <td>0.0</td>\n      <td>2</td>\n      <td>-10639</td>\n      <td>5303</td>\n      <td>15942</td>\n      <td>44</td>\n      <td>False</td>\n    </tr>\n  </tbody>\n</table>\n<p>10397 rows × 21 columns</p>\n</div>"
     },
     "execution_count": 36,
     "metadata": {},
     "output_type": "execute_result"
    }
   ],
   "source": [
    "PL2020_total = PL2020_matched[['player_x','date_x' ,'Team', 'matchweek_x', 'category','position_x',  'minutes_x', 'Rating', 'xP', 'bonus', 'bps',  'ict_index', 'influence', 'creativity','threat','total_points', 'transfers_balance', 'transfers_in', 'transfers_out', 'value', 'was_home' ]]\n",
    "PL2020_total.rename(columns={\"player_x\": \"player\", \"date_x\": \"date\", \"Team\": \"team\", \"matchweek_x\": \"matchweek\", \"position_x\": \"position\", \"minutes_x\": \"minutes\", \"Rating\": \"rating\"}, inplace=True)\n",
    "PL2020_total\n"
   ],
   "metadata": {
    "collapsed": false,
    "pycharm": {
     "name": "#%%\n"
    }
   }
  },
  {
   "cell_type": "code",
   "execution_count": 37,
   "outputs": [],
   "source": [
    "PL2020_total.to_csv('PL2020_total.csv')"
   ],
   "metadata": {
    "collapsed": false,
    "pycharm": {
     "name": "#%%\n"
    }
   }
  },
  {
   "cell_type": "markdown",
   "source": [],
   "metadata": {
    "collapsed": false,
    "pycharm": {
     "name": "#%% md\n"
    }
   }
  }
 ],
 "metadata": {
  "kernelspec": {
   "display_name": "Python 3",
   "language": "python",
   "name": "python3"
  },
  "language_info": {
   "codemirror_mode": {
    "name": "ipython",
    "version": 2
   },
   "file_extension": ".py",
   "mimetype": "text/x-python",
   "name": "python",
   "nbconvert_exporter": "python",
   "pygments_lexer": "ipython2",
   "version": "2.7.6"
  }
 },
 "nbformat": 4,
 "nbformat_minor": 0
}