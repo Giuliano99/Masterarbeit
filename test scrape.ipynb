{
 "cells": [
  {
   "cell_type": "code",
   "execution_count": 1,
   "outputs": [],
   "source": [
    "import requests\n",
    "from bs4 import BeautifulSoup\n",
    "import pandas as pd\n",
    "import numpy as np\n",
    "import re\n",
    "import sys, getopt\n",
    "import csv\n",
    "import time"
   ],
   "metadata": {
    "collapsed": false,
    "pycharm": {
     "name": "#%%\n"
    }
   }
  },
  {
   "cell_type": "code",
   "execution_count": 2,
   "outputs": [],
   "source": [
    "def get_links(url):\n",
    "    res = requests.get(url)\n",
    "    ## The next two lines get around the issue with comments breaking the parsing.\n",
    "    comm = re.compile(\"<!--|-->\")\n",
    "    soup = BeautifulSoup(comm.sub(\"\", res.text), 'lxml')\n",
    "    all_tables = soup.findAll(\"tbody\")\n",
    "    test = soup.find(id='div_sched_1631_1')\n",
    "    x = \"score\"\n",
    "    test = test.findAll(\"td\", {\"data-stat\": x})\n",
    "    link_list = []\n",
    "    for i in test:\n",
    "        i = i.find(\"a\")\n",
    "        if i is not None:\n",
    "         link = i['href']\n",
    "         link_list.append(link)\n",
    "         #print(link)\n",
    "    return link_list"
   ],
   "metadata": {
    "collapsed": false,
    "pycharm": {
     "name": "#%%\n"
    }
   }
  },
  {
   "cell_type": "code",
   "execution_count": 3,
   "outputs": [],
   "source": [
    "#@title\n",
    "\n",
    "#stats matchday\n",
    "statsm = [\"player\", \"shirtnumber\", \"nationality\", \"position\", \"age\", \"minutes\", \"goals\", \"assists\", \"touches\", \"sca\",\n",
    "          \"gca\", 'pens_made', 'shots_total', 'shots_on_target', 'pressures', 'tackles', 'interceptions', 'blocks', 'xg',\n",
    "          'xa', 'passes', 'passes_pct', 'progressive_passes', 'progressive_carries', 'dribbles_completed', 'dribbles']\n",
    "\n",
    "#stats keeper matchday\n",
    "statskeepers = ['player', 'shots_on_target_against', 'goals_against_gk', 'saves', 'save_pct', 'psxg_gk']\n",
    "\n",
    "\n",
    "#Functions to get the data in a dataframe using BeautifulSoup\n",
    "\n",
    "def get_tables_m(url):\n",
    "    res = requests.get(url)\n",
    "    ## The next two lines get around the issue with comments breaking the parsing.\n",
    "    comm = re.compile(\"<!--|-->\")\n",
    "    soup = BeautifulSoup(comm.sub(\"\", res.text), 'lxml')\n",
    "    all_tables = soup.findAll(\"tbody\")\n",
    "    matchweek = soup.find(id='content').find(\"div\").contents[1]\n",
    "\n",
    "    team1_table = all_tables[0]\n",
    "    team2_table = all_tables[7]\n",
    "    gk1_table = all_tables[6]\n",
    "    gk2_table = all_tables[13]\n",
    "    gk1_table.append(gk2_table)\n",
    "    team1_table.append(team2_table)\n",
    "\n",
    "    return team1_table, gk1_table, matchweek\n",
    "\n",
    "\n",
    "def get_frame(features, player_table):\n",
    "    pre_df_player = dict()\n",
    "    features_wanted_player = features\n",
    "    rows_player = player_table.find_all('tr')\n",
    "    #print(rows_player)\n",
    "    for row in rows_player:\n",
    "        #print(row)\n",
    "        if (row.find('th', {\"scope\": \"row\"}) != None):\n",
    "\n",
    "            for f in features_wanted_player:\n",
    "                #print(f)\n",
    "                cell = row.find(\"td\", {\"data-stat\": f})\n",
    "                if cell is None:\n",
    "                    text = row.find('th', {\"scope\": \"row\"}).find('a').contents[0]\n",
    "                    if f in pre_df_player:\n",
    "                        pre_df_player[f].append(text)\n",
    "                    else:\n",
    "                        pre_df_player[f] = [text]\n",
    "                #print(cell)\n",
    "                else:\n",
    "                    a = cell.text.strip().encode()\n",
    "                    text = a.decode(\"utf-8\")\n",
    "                    #print(text)\n",
    "                    if (text == ''):\n",
    "                        text = '0'\n",
    "                    if ((f != 'player') & (f != 'nationality') & (f != 'position') & (f != 'squad') & (f != 'age') & (\n",
    "                            f != 'birth_year')):\n",
    "                        text = float(text.replace(',', ''))\n",
    "                    if f in pre_df_player:\n",
    "                        pre_df_player[f].append(text)\n",
    "                    else:\n",
    "                        pre_df_player[f] = [text]\n",
    "    df_player = pd.DataFrame.from_dict(pre_df_player)\n",
    "    return df_player\n",
    "\n",
    "\n",
    "\n",
    "\n",
    "def frame_for_category(category, top, end, features):\n",
    "    url = (top + category + end)\n",
    "    print(url)\n",
    "    player_table, gk_table, matchweek = get_tables_m(url)\n",
    "    df_player = get_frame(features, player_table)\n",
    "    df_gk = get_frame(statskeepers, gk_table)\n",
    "    df_player['matchweek'] = matchweek\n",
    "    df_gk['matchweek'] = matchweek\n",
    "    return df_player, df_gk\n",
    "\n",
    "\n",
    "\n",
    "\n",
    "def get_matchday_data(top, end, linklist):\n",
    "    pl, gk = frame_for_category('/en/matches/e3c3ddf0', top, end, statsm)\n",
    "    #pl1, gk1 = frame_for_category('/en/matches/3adf2aa7', top, end, statsm)\n",
    "\n",
    "    for i in linklist:\n",
    "        tmppl, tmpgk = frame_for_category(i, top, end, statsm)\n",
    "        pl = pd.concat([pl, tmppl], axis=0)\n",
    "        gk = pd.concat([gk, tmpgk], axis=0)\n",
    "        time.sleep(5)\n",
    "\n",
    "\n",
    "    return pl, gk"
   ],
   "metadata": {
    "collapsed": false,
    "pycharm": {
     "name": "#%%\n"
    }
   }
  },
  {
   "cell_type": "code",
   "execution_count": 4,
   "outputs": [],
   "source": [
    "link_list = get_links('https://fbref.com/en/comps/9/1631/schedule/2017-2018-Premier-League-Scores-and-Fixtures')\n",
    "\n",
    "# split list in 4 parts to not bring down website\n",
    "list1 = []\n",
    "list2 = []\n",
    "list3 = []\n",
    "list4 = []\n",
    "count = 0\n",
    "\n",
    "for i in link_list:\n",
    "    if count < 100:\n",
    "       list1.append(i)\n",
    "    elif count< 200:\n",
    "        list2.append(i)\n",
    "    elif count< 300:\n",
    "        list3.append(i)\n",
    "    else:\n",
    "        list4.append(i)\n",
    "    count = count +1"
   ],
   "metadata": {
    "collapsed": false,
    "pycharm": {
     "name": "#%%\n"
    }
   }
  },
  {
   "cell_type": "code",
   "execution_count": 8,
   "outputs": [
    {
     "name": "stdout",
     "output_type": "stream",
     "text": [
      "https://fbref.com//en/matches/e3c3ddf0\n",
      "https://fbref.com//en/matches/01f6b961/Stoke-City-Everton-March-17-2018-Premier-League\n",
      "https://fbref.com//en/matches/134dc51c/Bournemouth-West-Bromwich-Albion-March-17-2018-Premier-League\n",
      "https://fbref.com//en/matches/3b6ded14/Huddersfield-Town-Crystal-Palace-March-17-2018-Premier-League\n",
      "https://fbref.com//en/matches/99d79931/Liverpool-Watford-March-17-2018-Premier-League\n",
      "https://fbref.com//en/matches/98213b8d/Crystal-Palace-Liverpool-March-31-2018-Premier-League\n",
      "https://fbref.com//en/matches/41e0dc54/Manchester-United-Swansea-City-March-31-2018-Premier-League\n",
      "https://fbref.com//en/matches/683b188f/Brighton-and-Hove-Albion-Leicester-City-March-31-2018-Premier-League\n",
      "https://fbref.com//en/matches/68df68a4/West-Bromwich-Albion-Burnley-March-31-2018-Premier-League\n",
      "https://fbref.com//en/matches/781945f9/West-Ham-United-Southampton-March-31-2018-Premier-League\n",
      "https://fbref.com//en/matches/f7c1128f/Newcastle-United-Huddersfield-Town-March-31-2018-Premier-League\n",
      "https://fbref.com//en/matches/fe2d2f2c/Watford-Bournemouth-March-31-2018-Premier-League\n",
      "https://fbref.com//en/matches/ca51e3ba/Everton-Manchester-City-March-31-2018-Premier-League\n",
      "https://fbref.com//en/matches/9c1a218b/Arsenal-Stoke-City-April-1-2018-Premier-League\n",
      "https://fbref.com//en/matches/fbe31f74/Chelsea-Tottenham-Hotspur-April-1-2018-Premier-League\n",
      "https://fbref.com//en/matches/675b2cb4/Merseyside-Derby-Everton-Liverpool-April-7-2018-Premier-League\n",
      "https://fbref.com//en/matches/1da6c7b5/Stoke-City-Tottenham-Hotspur-April-7-2018-Premier-League\n",
      "https://fbref.com//en/matches/4acfb58c/Leicester-City-Newcastle-United-April-7-2018-Premier-League\n",
      "https://fbref.com//en/matches/8410e555/Watford-Burnley-April-7-2018-Premier-League\n",
      "https://fbref.com//en/matches/a5f340e0/Brighton-and-Hove-Albion-Huddersfield-Town-April-7-2018-Premier-League\n",
      "https://fbref.com//en/matches/b2a3c401/Bournemouth-Crystal-Palace-April-7-2018-Premier-League\n",
      "https://fbref.com//en/matches/bfe5ba12/West-Bromwich-Albion-Swansea-City-April-7-2018-Premier-League\n",
      "https://fbref.com//en/matches/50a03a01/Manchester-Derby-Manchester-City-Manchester-United-April-7-2018-Premier-League\n",
      "https://fbref.com//en/matches/dd1ec108/Arsenal-Southampton-April-8-2018-Premier-League\n",
      "https://fbref.com//en/matches/b325a378/Chelsea-West-Ham-United-April-8-2018-Premier-League\n",
      "https://fbref.com//en/matches/c0ef52a9/Southampton-Chelsea-April-14-2018-Premier-League\n",
      "https://fbref.com//en/matches/30714500/Crystal-Palace-Brighton-and-Hove-Albion-April-14-2018-Premier-League\n",
      "https://fbref.com//en/matches/d9d7c9b3/Huddersfield-Town-Watford-April-14-2018-Premier-League\n",
      "https://fbref.com//en/matches/eae8514a/Burnley-Leicester-City-April-14-2018-Premier-League\n",
      "https://fbref.com//en/matches/f863ee2a/Swansea-City-Everton-April-14-2018-Premier-League\n",
      "https://fbref.com//en/matches/3c508794/Liverpool-Bournemouth-April-14-2018-Premier-League\n",
      "https://fbref.com//en/matches/8fe8c64c/Tottenham-Hotspur-Manchester-City-April-14-2018-Premier-League\n",
      "https://fbref.com//en/matches/a4ac40df/Newcastle-United-Arsenal-April-15-2018-Premier-League\n",
      "https://fbref.com//en/matches/b5ed1d8d/Manchester-United-West-Bromwich-Albion-April-15-2018-Premier-League\n",
      "https://fbref.com//en/matches/1b6e8568/West-Ham-United-Stoke-City-April-16-2018-Premier-League\n",
      "https://fbref.com//en/matches/c42bcaf3/Brighton-and-Hove-Albion-Tottenham-Hotspur-April-17-2018-Premier-League\n",
      "https://fbref.com//en/matches/533420c5/Bournemouth-Manchester-United-April-18-2018-Premier-League\n",
      "https://fbref.com//en/matches/082489f8/Burnley-Chelsea-April-19-2018-Premier-League\n",
      "https://fbref.com//en/matches/693cf232/Leicester-City-Southampton-April-19-2018-Premier-League\n",
      "https://fbref.com//en/matches/a1c7d96c/West-Bromwich-Albion-Liverpool-April-21-2018-Premier-League\n",
      "https://fbref.com//en/matches/abaea3fc/Watford-Crystal-Palace-April-21-2018-Premier-League\n",
      "https://fbref.com//en/matches/183dc99a/Arsenal-West-Ham-United-April-22-2018-Premier-League\n",
      "https://fbref.com//en/matches/4b1d1fa6/Stoke-City-Burnley-April-22-2018-Premier-League\n",
      "https://fbref.com//en/matches/8beedd1d/Manchester-City-Swansea-City-April-22-2018-Premier-League\n",
      "https://fbref.com//en/matches/1e1e3394/Everton-Newcastle-United-April-23-2018-Premier-League\n",
      "https://fbref.com//en/matches/b6b246c1/Liverpool-Stoke-City-April-28-2018-Premier-League\n",
      "https://fbref.com//en/matches/229ca929/Newcastle-United-West-Bromwich-Albion-April-28-2018-Premier-League\n",
      "https://fbref.com//en/matches/4d38129c/Southampton-Bournemouth-April-28-2018-Premier-League\n",
      "https://fbref.com//en/matches/611476e6/Huddersfield-Town-Everton-April-28-2018-Premier-League\n",
      "https://fbref.com//en/matches/9afd62dd/Crystal-Palace-Leicester-City-April-28-2018-Premier-League\n",
      "https://fbref.com//en/matches/c1a0d4ce/Burnley-Brighton-and-Hove-Albion-April-28-2018-Premier-League\n",
      "https://fbref.com//en/matches/d5f17e08/Swansea-City-Chelsea-April-28-2018-Premier-League\n",
      "https://fbref.com//en/matches/fdabc4e9/West-Ham-United-Manchester-City-April-29-2018-Premier-League\n",
      "https://fbref.com//en/matches/5b587217/Manchester-United-Arsenal-April-29-2018-Premier-League\n",
      "https://fbref.com//en/matches/5f040190/Tottenham-Hotspur-Watford-April-30-2018-Premier-League\n",
      "https://fbref.com//en/matches/0cbb18e2/Brighton-and-Hove-Albion-Manchester-United-May-4-2018-Premier-League\n",
      "https://fbref.com//en/matches/ab069f6c/Stoke-City-Crystal-Palace-May-5-2018-Premier-League\n",
      "https://fbref.com//en/matches/0914df36/Leicester-City-West-Ham-United-May-5-2018-Premier-League\n",
      "https://fbref.com//en/matches/3a876b14/West-Bromwich-Albion-Tottenham-Hotspur-May-5-2018-Premier-League\n",
      "https://fbref.com//en/matches/e7933b97/Bournemouth-Swansea-City-May-5-2018-Premier-League\n",
      "https://fbref.com//en/matches/f337e187/Watford-Newcastle-United-May-5-2018-Premier-League\n",
      "https://fbref.com//en/matches/79dc6ab9/Everton-Southampton-May-5-2018-Premier-League\n",
      "https://fbref.com//en/matches/a71b21ec/Manchester-City-Huddersfield-Town-May-6-2018-Premier-League\n",
      "https://fbref.com//en/matches/b9a7da48/Chelsea-Liverpool-May-6-2018-Premier-League\n",
      "https://fbref.com//en/matches/c8c42b05/Arsenal-Burnley-May-6-2018-Premier-League\n",
      "https://fbref.com//en/matches/625bb62f/Swansea-City-Southampton-May-8-2018-Premier-League\n",
      "https://fbref.com//en/matches/825733ff/Leicester-City-Arsenal-May-9-2018-Premier-League\n",
      "https://fbref.com//en/matches/f0f325a6/Chelsea-Huddersfield-Town-May-9-2018-Premier-League\n",
      "https://fbref.com//en/matches/90f41993/Tottenham-Hotspur-Newcastle-United-May-9-2018-Premier-League\n",
      "https://fbref.com//en/matches/f2114fff/Manchester-City-Brighton-and-Hove-Albion-May-9-2018-Premier-League\n",
      "https://fbref.com//en/matches/153401b5/West-Ham-United-Manchester-United-May-10-2018-Premier-League\n",
      "https://fbref.com//en/matches/03a63fbc/Swansea-City-Stoke-City-May-13-2018-Premier-League\n",
      "https://fbref.com//en/matches/0c92e854/Liverpool-Brighton-and-Hove-Albion-May-13-2018-Premier-League\n",
      "https://fbref.com//en/matches/47540632/Burnley-Bournemouth-May-13-2018-Premier-League\n",
      "https://fbref.com//en/matches/4abed407/Crystal-Palace-West-Bromwich-Albion-May-13-2018-Premier-League\n",
      "https://fbref.com//en/matches/5214d676/West-Ham-United-Everton-May-13-2018-Premier-League\n",
      "https://fbref.com//en/matches/7c431214/Huddersfield-Town-Arsenal-May-13-2018-Premier-League\n",
      "https://fbref.com//en/matches/8bb22e44/Newcastle-United-Chelsea-May-13-2018-Premier-League\n",
      "https://fbref.com//en/matches/c137bab4/Manchester-United-Watford-May-13-2018-Premier-League\n",
      "https://fbref.com//en/matches/db4a1124/Southampton-Manchester-City-May-13-2018-Premier-League\n",
      "https://fbref.com//en/matches/f8c06939/Tottenham-Hotspur-Leicester-City-May-13-2018-Premier-League\n"
     ]
    }
   ],
   "source": [
    "\n",
    "df_1, gk_1 = get_matchday_data('https://fbref.com/', '', list1 )\n",
    "df_2, gk_2 = get_matchday_data('https://fbref.com/', '', list2 )\n",
    "df_3, gk_3 = get_matchday_data('https://fbref.com/', '', list3 )\n",
    "df_4, gk_4 = get_matchday_data('https://fbref.com/', '', list4 )\n",
    "\n",
    "#df_test, gk_test = get_matchday_data('https://fbref.com/', '', link_list )"
   ],
   "metadata": {
    "collapsed": false,
    "pycharm": {
     "name": "#%%\n"
    }
   }
  },
  {
   "cell_type": "code",
   "execution_count": 15,
   "outputs": [
    {
     "ename": "IndentationError",
     "evalue": "unindent does not match any outer indentation level (<tokenize>, line 7)",
     "output_type": "error",
     "traceback": [
      "\u001B[1;36m  File \u001B[1;32m<tokenize>:7\u001B[1;36m\u001B[0m\n\u001B[1;33m    gk_2017 = concatenate_files(gk_1, gk_2, gk_3, gk_4)\u001B[0m\n\u001B[1;37m    ^\u001B[0m\n\u001B[1;31mIndentationError\u001B[0m\u001B[1;31m:\u001B[0m unindent does not match any outer indentation level\n"
     ]
    }
   ],
   "source": [
    "def concatenate_files(f1, f2, f3, f4):\n",
    "    total = pd.concat([f1, f2, f3, f4], axis=0)\n",
    "    total = total.drop_duplicates()\n",
    "    total.reset_index(inplace=True, drop=True)\n",
    "    return total\n",
    "\n",
    "gk_2017 = concatenate_files(gk_1, gk_2, gk_3, gk_4)\n",
    "pl_2017 = concatenate_files(df_1, df_2, df_3, df_4)\n",
    "\n",
    "#pl_2017\n",
    "#df_test"
   ],
   "metadata": {
    "collapsed": false,
    "pycharm": {
     "name": "#%%\n"
    }
   }
  },
  {
   "cell_type": "code",
   "execution_count": 11,
   "outputs": [
    {
     "data": {
      "text/plain": "                player  shots_on_target_against  goals_against_gk  saves  \\\n0            Petr Čech                      4.0               3.0    1.0   \n1    Kasper Schmeichel                     10.0               4.0    6.0   \n2       Heurelho Gomes                      4.0               3.0    2.0   \n3       Simon Mignolet                      5.0               3.0    1.0   \n4      Wayne Hennessey                      6.0               3.0    4.0   \n..                 ...                      ...               ...    ...   \n760     Heurelho Gomes                      1.0               1.0    0.0   \n761      Alex McCarthy                      2.0               1.0    1.0   \n762      Claudio Bravo                      2.0               0.0    2.0   \n763        Hugo Lloris                      9.0               4.0    5.0   \n764    Eldin Jakupović                      6.0               5.0    2.0   \n\n     save_pct  psxg_gk        matchweek  \n0        25.0      2.4    (Matchweek 1)  \n1        60.0      3.0    (Matchweek 1)  \n2        50.0      3.1    (Matchweek 1)  \n3        40.0      2.8    (Matchweek 1)  \n4        50.0      2.0    (Matchweek 1)  \n..        ...      ...              ...  \n760       0.0      0.1   (Matchweek 38)  \n761      50.0      0.6   (Matchweek 38)  \n762     100.0      0.4   (Matchweek 38)  \n763      55.6      3.7   (Matchweek 38)  \n764      16.7      2.8   (Matchweek 38)  \n\n[765 rows x 7 columns]",
      "text/html": "<div>\n<style scoped>\n    .dataframe tbody tr th:only-of-type {\n        vertical-align: middle;\n    }\n\n    .dataframe tbody tr th {\n        vertical-align: top;\n    }\n\n    .dataframe thead th {\n        text-align: right;\n    }\n</style>\n<table border=\"1\" class=\"dataframe\">\n  <thead>\n    <tr style=\"text-align: right;\">\n      <th></th>\n      <th>player</th>\n      <th>shots_on_target_against</th>\n      <th>goals_against_gk</th>\n      <th>saves</th>\n      <th>save_pct</th>\n      <th>psxg_gk</th>\n      <th>matchweek</th>\n    </tr>\n  </thead>\n  <tbody>\n    <tr>\n      <th>0</th>\n      <td>Petr Čech</td>\n      <td>4.0</td>\n      <td>3.0</td>\n      <td>1.0</td>\n      <td>25.0</td>\n      <td>2.4</td>\n      <td>(Matchweek 1)</td>\n    </tr>\n    <tr>\n      <th>1</th>\n      <td>Kasper Schmeichel</td>\n      <td>10.0</td>\n      <td>4.0</td>\n      <td>6.0</td>\n      <td>60.0</td>\n      <td>3.0</td>\n      <td>(Matchweek 1)</td>\n    </tr>\n    <tr>\n      <th>2</th>\n      <td>Heurelho Gomes</td>\n      <td>4.0</td>\n      <td>3.0</td>\n      <td>2.0</td>\n      <td>50.0</td>\n      <td>3.1</td>\n      <td>(Matchweek 1)</td>\n    </tr>\n    <tr>\n      <th>3</th>\n      <td>Simon Mignolet</td>\n      <td>5.0</td>\n      <td>3.0</td>\n      <td>1.0</td>\n      <td>40.0</td>\n      <td>2.8</td>\n      <td>(Matchweek 1)</td>\n    </tr>\n    <tr>\n      <th>4</th>\n      <td>Wayne Hennessey</td>\n      <td>6.0</td>\n      <td>3.0</td>\n      <td>4.0</td>\n      <td>50.0</td>\n      <td>2.0</td>\n      <td>(Matchweek 1)</td>\n    </tr>\n    <tr>\n      <th>...</th>\n      <td>...</td>\n      <td>...</td>\n      <td>...</td>\n      <td>...</td>\n      <td>...</td>\n      <td>...</td>\n      <td>...</td>\n    </tr>\n    <tr>\n      <th>760</th>\n      <td>Heurelho Gomes</td>\n      <td>1.0</td>\n      <td>1.0</td>\n      <td>0.0</td>\n      <td>0.0</td>\n      <td>0.1</td>\n      <td>(Matchweek 38)</td>\n    </tr>\n    <tr>\n      <th>761</th>\n      <td>Alex McCarthy</td>\n      <td>2.0</td>\n      <td>1.0</td>\n      <td>1.0</td>\n      <td>50.0</td>\n      <td>0.6</td>\n      <td>(Matchweek 38)</td>\n    </tr>\n    <tr>\n      <th>762</th>\n      <td>Claudio Bravo</td>\n      <td>2.0</td>\n      <td>0.0</td>\n      <td>2.0</td>\n      <td>100.0</td>\n      <td>0.4</td>\n      <td>(Matchweek 38)</td>\n    </tr>\n    <tr>\n      <th>763</th>\n      <td>Hugo Lloris</td>\n      <td>9.0</td>\n      <td>4.0</td>\n      <td>5.0</td>\n      <td>55.6</td>\n      <td>3.7</td>\n      <td>(Matchweek 38)</td>\n    </tr>\n    <tr>\n      <th>764</th>\n      <td>Eldin Jakupović</td>\n      <td>6.0</td>\n      <td>5.0</td>\n      <td>2.0</td>\n      <td>16.7</td>\n      <td>2.8</td>\n      <td>(Matchweek 38)</td>\n    </tr>\n  </tbody>\n</table>\n<p>765 rows × 7 columns</p>\n</div>"
     },
     "execution_count": 11,
     "metadata": {},
     "output_type": "execute_result"
    }
   ],
   "source": [
    "def create_csv(df):\n",
    "    df = df.drop_duplicates()\n",
    "    df.reset_index(inplace=True, drop=True)\n",
    "    df.to_csv('PL2017_keepers.csv',index=False)\n",
    "    return df\n",
    "\n",
    "create_csv(gk_2017)\n"
   ],
   "metadata": {
    "collapsed": false,
    "pycharm": {
     "name": "#%%\n"
    }
   }
  },
  {
   "cell_type": "code",
   "execution_count": 129,
   "outputs": [
    {
     "data": {
      "text/plain": "player\nIllan Meslier          130.0\nDavid de Gea           122.0\nJosé Sá                119.0\nKasper Schmeichel      113.0\nJordan Pickford        107.0\nNick Pope               98.0\nRobert Sánchez          96.0\nŁukasz Fabiański        95.0\nTim Krul                93.0\nHugo Lloris             90.0\nEmiliano Martínez       84.0\nVicente Guaita          79.0\nAaron Ramsdale          77.0\nDavid Raya              68.0\nEdouard Mendy           67.0\nFraser Forster          67.0\nMartin Dúbravka         66.0\nAlisson                 65.0\nBen Foster              56.0\nEderson                 54.0\nÁlvaro Fernández        46.0\nDaniel Bachmann         39.0\nAlex McCarthy           38.0\nAngus Gunn              26.0\nKarl Darlow             25.0\nKepa Arrizabalaga       11.0\nJack Butland            11.0\nBernd Leno               9.0\nFreddie Woodman          9.0\nAsmir Begović            7.0\nWayne Hennessey          7.0\nWilly Caballero          6.0\nCaoimhín Kelleher        5.0\nKristoffer Klaesson      4.0\nJason Steele             3.0\nJonas Lössl              2.0\nAlphonse Areola          2.0\nZack Steffen             2.0\nJed Steer                1.0\nName: saves, dtype: float64"
     },
     "execution_count": 129,
     "metadata": {},
     "output_type": "execute_result"
    }
   ],
   "source": [
    "#gk_2021[['player', 'matchweek']]\n",
    "\n",
    "test_group = gk_2021.groupby(['player']).sum()['saves']\n",
    "gk_strength = test_group.sort_values(ascending=False)\n",
    "gk_strength"
   ],
   "metadata": {
    "collapsed": false,
    "pycharm": {
     "name": "#%%\n"
    }
   }
  },
  {
   "cell_type": "code",
   "execution_count": 133,
   "outputs": [
    {
     "data": {
      "text/plain": "         player        matchweek\n1    Bernd Leno    (Matchweek 1)\n36   Bernd Leno    (Matchweek 2)\n41   Bernd Leno    (Matchweek 3)\n573  Bernd Leno   (Matchweek 30)",
      "text/html": "<div>\n<style scoped>\n    .dataframe tbody tr th:only-of-type {\n        vertical-align: middle;\n    }\n\n    .dataframe tbody tr th {\n        vertical-align: top;\n    }\n\n    .dataframe thead th {\n        text-align: right;\n    }\n</style>\n<table border=\"1\" class=\"dataframe\">\n  <thead>\n    <tr style=\"text-align: right;\">\n      <th></th>\n      <th>player</th>\n      <th>matchweek</th>\n    </tr>\n  </thead>\n  <tbody>\n    <tr>\n      <th>1</th>\n      <td>Bernd Leno</td>\n      <td>(Matchweek 1)</td>\n    </tr>\n    <tr>\n      <th>36</th>\n      <td>Bernd Leno</td>\n      <td>(Matchweek 2)</td>\n    </tr>\n    <tr>\n      <th>41</th>\n      <td>Bernd Leno</td>\n      <td>(Matchweek 3)</td>\n    </tr>\n    <tr>\n      <th>573</th>\n      <td>Bernd Leno</td>\n      <td>(Matchweek 30)</td>\n    </tr>\n  </tbody>\n</table>\n</div>"
     },
     "execution_count": 133,
     "metadata": {},
     "output_type": "execute_result"
    }
   ],
   "source": [
    "rslt_df = gk_2021[gk_2021['player'] == 'Bernd Leno']\n",
    "rslt_df[['player', 'matchweek']]"
   ],
   "metadata": {
    "collapsed": false,
    "pycharm": {
     "name": "#%%\n"
    }
   }
  }
 ],
 "metadata": {
  "kernelspec": {
   "display_name": "Python 3",
   "language": "python",
   "name": "python3"
  },
  "language_info": {
   "codemirror_mode": {
    "name": "ipython",
    "version": 2
   },
   "file_extension": ".py",
   "mimetype": "text/x-python",
   "name": "python",
   "nbconvert_exporter": "python",
   "pygments_lexer": "ipython2",
   "version": "2.7.6"
  }
 },
 "nbformat": 4,
 "nbformat_minor": 0
}