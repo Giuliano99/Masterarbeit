{
 "cells": [
  {
   "cell_type": "code",
   "execution_count": 1,
   "metadata": {
    "collapsed": true
   },
   "outputs": [
    {
     "name": "stderr",
     "output_type": "stream",
     "text": [
      "C:\\Users\\giuli\\AppData\\Local\\Programs\\Python\\Python310\\lib\\site-packages\\fuzzywuzzy\\fuzz.py:11: UserWarning: Using slow pure-python SequenceMatcher. Install python-Levenshtein to remove this warning\n",
      "  warnings.warn('Using slow pure-python SequenceMatcher. Install python-Levenshtein to remove this warning')\n"
     ]
    }
   ],
   "source": [
    "#notebook to match different name spellings and generate features for players\n",
    "\n",
    "#import necessary packages\n",
    "import pandas as pd\n",
    "from fuzzywuzzy import fuzz, process"
   ]
  },
  {
   "cell_type": "code",
   "execution_count": 2,
   "outputs": [
    {
     "data": {
      "text/plain": "                                name position         team   xP  assists  \\\n0                        Eric Bailly      DEF      Man Utd  0.0        0   \n1                       Keinan Davis      FWD  Aston Villa  0.4        0   \n2             Ayotomiwa Dele-Bashiru      MID      Watford  0.0        0   \n3                  James Ward-Prowse      MID  Southampton  2.3        0   \n4      Bruno Miguel Borges Fernandes      MID      Man Utd  4.4        0   \n...                              ...      ...          ...  ...      ...   \n25442                  Wilfred Ndidi      MID    Leicester  0.0        0   \n25443                   Matt Ritchie      DEF    Newcastle  0.9        0   \n25444                 Nathan Redmond      MID  Southampton  3.4        0   \n25445                    Mathew Ryan       GK     Brighton  0.0        0   \n25446                Ryan Fredericks      DEF     West Ham  0.2        0   \n\n       bonus  bps  clean_sheets  creativity  element  ...  threat  \\\n0          0    0             0         0.0      286  ...     0.0   \n1          0    0             0         0.0       49  ...     0.0   \n2          0    0             0         0.0      394  ...     0.0   \n3          0   20             0        30.5      341  ...     0.0   \n4          3   61             0        35.9      277  ...    59.0   \n...      ...  ...           ...         ...      ...  ...     ...   \n25442      0    0             0         0.0      216  ...     0.0   \n25443      0    3             0         0.0      292  ...     0.0   \n25444      0    5             0         0.0      336  ...     0.0   \n25445      0    0             0         0.0       65  ...     0.0   \n25446      0    0             0         0.0      415  ...     0.0   \n\n       total_points  transfers_balance  transfers_in  transfers_out value  \\\n0                 0                  0             0              0    50   \n1                 0                  0             0              0    45   \n2                 0                  0             0              0    45   \n3                 2                  0             0              0    65   \n4                20                  0             0              0   120   \n...             ...                ...           ...            ...   ...   \n25442             0               -202            22            224    48   \n25443             1                143           396            253    49   \n25444             2                455           683            228    59   \n25445             0                 -2             0              2    45   \n25446             0                 36           103             67    44   \n\n       was_home  yellow_cards  GW                         player  \n0          True             0   1                    Eric Bailly  \n1         False             0   1                   Keinan Davis  \n2          True             0   1         Ayotomiwa Dele-Bashiru  \n3         False             0   1              James Ward-Prowse  \n4          True             0   1  Bruno Miguel Borges Fernandes  \n...         ...           ...  ..                            ...  \n25442      True             0  38                  Wilfred Ndidi  \n25443     False             0  38                   Matt Ritchie  \n25444     False             0  38                 Nathan Redmond  \n25445      True             0  38                    Mathew Ryan  \n25446     False             0  38                Ryan Fredericks  \n\n[25447 rows x 37 columns]",
      "text/html": "<div>\n<style scoped>\n    .dataframe tbody tr th:only-of-type {\n        vertical-align: middle;\n    }\n\n    .dataframe tbody tr th {\n        vertical-align: top;\n    }\n\n    .dataframe thead th {\n        text-align: right;\n    }\n</style>\n<table border=\"1\" class=\"dataframe\">\n  <thead>\n    <tr style=\"text-align: right;\">\n      <th></th>\n      <th>name</th>\n      <th>position</th>\n      <th>team</th>\n      <th>xP</th>\n      <th>assists</th>\n      <th>bonus</th>\n      <th>bps</th>\n      <th>clean_sheets</th>\n      <th>creativity</th>\n      <th>element</th>\n      <th>...</th>\n      <th>threat</th>\n      <th>total_points</th>\n      <th>transfers_balance</th>\n      <th>transfers_in</th>\n      <th>transfers_out</th>\n      <th>value</th>\n      <th>was_home</th>\n      <th>yellow_cards</th>\n      <th>GW</th>\n      <th>player</th>\n    </tr>\n  </thead>\n  <tbody>\n    <tr>\n      <th>0</th>\n      <td>Eric Bailly</td>\n      <td>DEF</td>\n      <td>Man Utd</td>\n      <td>0.0</td>\n      <td>0</td>\n      <td>0</td>\n      <td>0</td>\n      <td>0</td>\n      <td>0.0</td>\n      <td>286</td>\n      <td>...</td>\n      <td>0.0</td>\n      <td>0</td>\n      <td>0</td>\n      <td>0</td>\n      <td>0</td>\n      <td>50</td>\n      <td>True</td>\n      <td>0</td>\n      <td>1</td>\n      <td>Eric Bailly</td>\n    </tr>\n    <tr>\n      <th>1</th>\n      <td>Keinan Davis</td>\n      <td>FWD</td>\n      <td>Aston Villa</td>\n      <td>0.4</td>\n      <td>0</td>\n      <td>0</td>\n      <td>0</td>\n      <td>0</td>\n      <td>0.0</td>\n      <td>49</td>\n      <td>...</td>\n      <td>0.0</td>\n      <td>0</td>\n      <td>0</td>\n      <td>0</td>\n      <td>0</td>\n      <td>45</td>\n      <td>False</td>\n      <td>0</td>\n      <td>1</td>\n      <td>Keinan Davis</td>\n    </tr>\n    <tr>\n      <th>2</th>\n      <td>Ayotomiwa Dele-Bashiru</td>\n      <td>MID</td>\n      <td>Watford</td>\n      <td>0.0</td>\n      <td>0</td>\n      <td>0</td>\n      <td>0</td>\n      <td>0</td>\n      <td>0.0</td>\n      <td>394</td>\n      <td>...</td>\n      <td>0.0</td>\n      <td>0</td>\n      <td>0</td>\n      <td>0</td>\n      <td>0</td>\n      <td>45</td>\n      <td>True</td>\n      <td>0</td>\n      <td>1</td>\n      <td>Ayotomiwa Dele-Bashiru</td>\n    </tr>\n    <tr>\n      <th>3</th>\n      <td>James Ward-Prowse</td>\n      <td>MID</td>\n      <td>Southampton</td>\n      <td>2.3</td>\n      <td>0</td>\n      <td>0</td>\n      <td>20</td>\n      <td>0</td>\n      <td>30.5</td>\n      <td>341</td>\n      <td>...</td>\n      <td>0.0</td>\n      <td>2</td>\n      <td>0</td>\n      <td>0</td>\n      <td>0</td>\n      <td>65</td>\n      <td>False</td>\n      <td>0</td>\n      <td>1</td>\n      <td>James Ward-Prowse</td>\n    </tr>\n    <tr>\n      <th>4</th>\n      <td>Bruno Miguel Borges Fernandes</td>\n      <td>MID</td>\n      <td>Man Utd</td>\n      <td>4.4</td>\n      <td>0</td>\n      <td>3</td>\n      <td>61</td>\n      <td>0</td>\n      <td>35.9</td>\n      <td>277</td>\n      <td>...</td>\n      <td>59.0</td>\n      <td>20</td>\n      <td>0</td>\n      <td>0</td>\n      <td>0</td>\n      <td>120</td>\n      <td>True</td>\n      <td>0</td>\n      <td>1</td>\n      <td>Bruno Miguel Borges Fernandes</td>\n    </tr>\n    <tr>\n      <th>...</th>\n      <td>...</td>\n      <td>...</td>\n      <td>...</td>\n      <td>...</td>\n      <td>...</td>\n      <td>...</td>\n      <td>...</td>\n      <td>...</td>\n      <td>...</td>\n      <td>...</td>\n      <td>...</td>\n      <td>...</td>\n      <td>...</td>\n      <td>...</td>\n      <td>...</td>\n      <td>...</td>\n      <td>...</td>\n      <td>...</td>\n      <td>...</td>\n      <td>...</td>\n      <td>...</td>\n    </tr>\n    <tr>\n      <th>25442</th>\n      <td>Wilfred Ndidi</td>\n      <td>MID</td>\n      <td>Leicester</td>\n      <td>0.0</td>\n      <td>0</td>\n      <td>0</td>\n      <td>0</td>\n      <td>0</td>\n      <td>0.0</td>\n      <td>216</td>\n      <td>...</td>\n      <td>0.0</td>\n      <td>0</td>\n      <td>-202</td>\n      <td>22</td>\n      <td>224</td>\n      <td>48</td>\n      <td>True</td>\n      <td>0</td>\n      <td>38</td>\n      <td>Wilfred Ndidi</td>\n    </tr>\n    <tr>\n      <th>25443</th>\n      <td>Matt Ritchie</td>\n      <td>DEF</td>\n      <td>Newcastle</td>\n      <td>0.9</td>\n      <td>0</td>\n      <td>0</td>\n      <td>3</td>\n      <td>0</td>\n      <td>0.0</td>\n      <td>292</td>\n      <td>...</td>\n      <td>0.0</td>\n      <td>1</td>\n      <td>143</td>\n      <td>396</td>\n      <td>253</td>\n      <td>49</td>\n      <td>False</td>\n      <td>0</td>\n      <td>38</td>\n      <td>Matt Ritchie</td>\n    </tr>\n    <tr>\n      <th>25444</th>\n      <td>Nathan Redmond</td>\n      <td>MID</td>\n      <td>Southampton</td>\n      <td>3.4</td>\n      <td>0</td>\n      <td>0</td>\n      <td>5</td>\n      <td>0</td>\n      <td>0.0</td>\n      <td>336</td>\n      <td>...</td>\n      <td>0.0</td>\n      <td>2</td>\n      <td>455</td>\n      <td>683</td>\n      <td>228</td>\n      <td>59</td>\n      <td>False</td>\n      <td>0</td>\n      <td>38</td>\n      <td>Nathan Redmond</td>\n    </tr>\n    <tr>\n      <th>25445</th>\n      <td>Mathew Ryan</td>\n      <td>GK</td>\n      <td>Brighton</td>\n      <td>0.0</td>\n      <td>0</td>\n      <td>0</td>\n      <td>0</td>\n      <td>0</td>\n      <td>0.0</td>\n      <td>65</td>\n      <td>...</td>\n      <td>0.0</td>\n      <td>0</td>\n      <td>-2</td>\n      <td>0</td>\n      <td>2</td>\n      <td>45</td>\n      <td>True</td>\n      <td>0</td>\n      <td>38</td>\n      <td>Mathew Ryan</td>\n    </tr>\n    <tr>\n      <th>25446</th>\n      <td>Ryan Fredericks</td>\n      <td>DEF</td>\n      <td>West Ham</td>\n      <td>0.2</td>\n      <td>0</td>\n      <td>0</td>\n      <td>0</td>\n      <td>0</td>\n      <td>0.0</td>\n      <td>415</td>\n      <td>...</td>\n      <td>0.0</td>\n      <td>0</td>\n      <td>36</td>\n      <td>103</td>\n      <td>67</td>\n      <td>44</td>\n      <td>False</td>\n      <td>0</td>\n      <td>38</td>\n      <td>Ryan Fredericks</td>\n    </tr>\n  </tbody>\n</table>\n<p>25447 rows × 37 columns</p>\n</div>"
     },
     "execution_count": 2,
     "metadata": {},
     "output_type": "execute_result"
    }
   ],
   "source": [
    "#import data\n",
    "#season 2019_20\n",
    "PL2019_ratings = pd.read_csv('Data/2019-20/Players/PL2019_ratings.csv')\n",
    "PL2019_fl = pd.read_csv('Data/2019-20/Players/FL_19.csv')\n",
    "PL19_lineups = pd.read_csv('Data/2019-20/Players/PL2019_lineups.csv')\n",
    "PL2019_fl.rename(columns={\"round\": \"matchweek\"}, inplace=True)\n",
    "PL2019_fl['player'] = PL2019_fl['name']\n",
    "#season 2020_21\n",
    "PL2020_ratings = pd.read_csv('Data/2020-21/Players/PL2020_ratings.csv')\n",
    "PL2020_fl = pd.read_csv('Data/2020-21/Players/FL_20.csv')\n",
    "PL20_lineups = pd.read_csv('Data/2020-21/Players/PL2020_lineups.csv')\n",
    "PL2020_fl.rename(columns={\"round\": \"matchweek\"}, inplace=True)\n",
    "PL2020_fl['player'] = PL2020_fl['name']\n",
    "#season 2020_21\n",
    "PL2021_ratings = pd.read_csv('Data/2021-22/Players/PL2021_ratings.csv')\n",
    "PL2021_fl = pd.read_csv('Data/2021-22/Players/FL_21.csv')\n",
    "PL21_lineups = pd.read_csv('Data/2021-22/Players/PL2021_lineups.csv')\n",
    "PL2021_fl.rename(columns={\"round\": \"matchweek\"}, inplace=True)\n",
    "PL2021_fl['player'] = PL2021_fl['name']\n",
    "PL2021_fl\n"
   ],
   "metadata": {
    "collapsed": false,
    "pycharm": {
     "name": "#%%\n"
    }
   }
  },
  {
   "cell_type": "code",
   "execution_count": 3,
   "outputs": [],
   "source": [
    "#rename team names\n",
    "PL2020_fl.replace(['Leeds', 'Leicester', 'Man City', 'Man Utd', 'Newcastle', 'Norwich','Spurs'], ['Leeds United', 'Leicester City','Manchester City', 'Manchester Utd', 'Newcastle Utd', 'Norwich City' ,'Tottenham'], inplace=True)\n",
    "PL2021_fl.replace(['Leeds', 'Leicester', 'Man City', 'Man Utd', 'Newcastle', 'Norwich','Spurs'], ['Leeds United', 'Leicester City','Manchester City', 'Manchester Utd', 'Newcastle Utd', 'Norwich City' ,'Tottenham'], inplace=True)\n"
   ],
   "metadata": {
    "collapsed": false,
    "pycharm": {
     "name": "#%%\n"
    }
   }
  },
  {
   "cell_type": "code",
   "execution_count": 4,
   "outputs": [
    {
     "data": {
      "text/plain": "                    player                     Team\n0               Rico Henry                Brentford\n1              Sergi Canós                Brentford\n2            Ethan Pinnock                Brentford\n3           Pontus Jansson                Brentford\n4          Kristoffer Ajer                Brentford\n...                    ...                      ...\n10136      Alphonse Areola          West Ham United\n10294  Kristoffer Klaesson             Leeds United\n10444           Danny Ward           Leicester City\n10449           John Ruddy  Wolverhampton Wanderers\n10483          Robin Olsen              Aston Villa\n\n[547 rows x 2 columns]",
      "text/html": "<div>\n<style scoped>\n    .dataframe tbody tr th:only-of-type {\n        vertical-align: middle;\n    }\n\n    .dataframe tbody tr th {\n        vertical-align: top;\n    }\n\n    .dataframe thead th {\n        text-align: right;\n    }\n</style>\n<table border=\"1\" class=\"dataframe\">\n  <thead>\n    <tr style=\"text-align: right;\">\n      <th></th>\n      <th>player</th>\n      <th>Team</th>\n    </tr>\n  </thead>\n  <tbody>\n    <tr>\n      <th>0</th>\n      <td>Rico Henry</td>\n      <td>Brentford</td>\n    </tr>\n    <tr>\n      <th>1</th>\n      <td>Sergi Canós</td>\n      <td>Brentford</td>\n    </tr>\n    <tr>\n      <th>2</th>\n      <td>Ethan Pinnock</td>\n      <td>Brentford</td>\n    </tr>\n    <tr>\n      <th>3</th>\n      <td>Pontus Jansson</td>\n      <td>Brentford</td>\n    </tr>\n    <tr>\n      <th>4</th>\n      <td>Kristoffer Ajer</td>\n      <td>Brentford</td>\n    </tr>\n    <tr>\n      <th>...</th>\n      <td>...</td>\n      <td>...</td>\n    </tr>\n    <tr>\n      <th>10136</th>\n      <td>Alphonse Areola</td>\n      <td>West Ham United</td>\n    </tr>\n    <tr>\n      <th>10294</th>\n      <td>Kristoffer Klaesson</td>\n      <td>Leeds United</td>\n    </tr>\n    <tr>\n      <th>10444</th>\n      <td>Danny Ward</td>\n      <td>Leicester City</td>\n    </tr>\n    <tr>\n      <th>10449</th>\n      <td>John Ruddy</td>\n      <td>Wolverhampton Wanderers</td>\n    </tr>\n    <tr>\n      <th>10483</th>\n      <td>Robin Olsen</td>\n      <td>Aston Villa</td>\n    </tr>\n  </tbody>\n</table>\n<p>547 rows × 2 columns</p>\n</div>"
     },
     "execution_count": 4,
     "metadata": {},
     "output_type": "execute_result"
    }
   ],
   "source": [
    "#get name and team from df player ratings\n",
    "players_rating = PL2021_ratings[['player', 'Team']]\n",
    "players_rating = players_rating.drop_duplicates()\n",
    "players_rating"
   ],
   "metadata": {
    "collapsed": false,
    "pycharm": {
     "name": "#%%\n"
    }
   }
  },
  {
   "cell_type": "code",
   "execution_count": 5,
   "outputs": [
    {
     "data": {
      "text/plain": "                              player                           name  \\\n0                        Eric Bailly                    Eric Bailly   \n1                       Keinan Davis                   Keinan Davis   \n2             Ayotomiwa Dele-Bashiru         Ayotomiwa Dele-Bashiru   \n3                  James Ward-Prowse              James Ward-Prowse   \n4      Bruno Miguel Borges Fernandes  Bruno Miguel Borges Fernandes   \n...                              ...                            ...   \n23338                   Adrian Blake                   Adrian Blake   \n23815                   Jack Grieves                   Jack Grieves   \n24676                 Joseph McGlynn                 Joseph McGlynn   \n24678                Anthony Mancini                Anthony Mancini   \n25039                 Charlie Savage                 Charlie Savage   \n\n                 team  \n0      Manchester Utd  \n1         Aston Villa  \n2             Watford  \n3         Southampton  \n4      Manchester Utd  \n...               ...  \n23338         Watford  \n23815         Watford  \n24676         Burnley  \n24678         Burnley  \n25039  Manchester Utd  \n\n[751 rows x 3 columns]",
      "text/html": "<div>\n<style scoped>\n    .dataframe tbody tr th:only-of-type {\n        vertical-align: middle;\n    }\n\n    .dataframe tbody tr th {\n        vertical-align: top;\n    }\n\n    .dataframe thead th {\n        text-align: right;\n    }\n</style>\n<table border=\"1\" class=\"dataframe\">\n  <thead>\n    <tr style=\"text-align: right;\">\n      <th></th>\n      <th>player</th>\n      <th>name</th>\n      <th>team</th>\n    </tr>\n  </thead>\n  <tbody>\n    <tr>\n      <th>0</th>\n      <td>Eric Bailly</td>\n      <td>Eric Bailly</td>\n      <td>Manchester Utd</td>\n    </tr>\n    <tr>\n      <th>1</th>\n      <td>Keinan Davis</td>\n      <td>Keinan Davis</td>\n      <td>Aston Villa</td>\n    </tr>\n    <tr>\n      <th>2</th>\n      <td>Ayotomiwa Dele-Bashiru</td>\n      <td>Ayotomiwa Dele-Bashiru</td>\n      <td>Watford</td>\n    </tr>\n    <tr>\n      <th>3</th>\n      <td>James Ward-Prowse</td>\n      <td>James Ward-Prowse</td>\n      <td>Southampton</td>\n    </tr>\n    <tr>\n      <th>4</th>\n      <td>Bruno Miguel Borges Fernandes</td>\n      <td>Bruno Miguel Borges Fernandes</td>\n      <td>Manchester Utd</td>\n    </tr>\n    <tr>\n      <th>...</th>\n      <td>...</td>\n      <td>...</td>\n      <td>...</td>\n    </tr>\n    <tr>\n      <th>23338</th>\n      <td>Adrian Blake</td>\n      <td>Adrian Blake</td>\n      <td>Watford</td>\n    </tr>\n    <tr>\n      <th>23815</th>\n      <td>Jack Grieves</td>\n      <td>Jack Grieves</td>\n      <td>Watford</td>\n    </tr>\n    <tr>\n      <th>24676</th>\n      <td>Joseph McGlynn</td>\n      <td>Joseph McGlynn</td>\n      <td>Burnley</td>\n    </tr>\n    <tr>\n      <th>24678</th>\n      <td>Anthony Mancini</td>\n      <td>Anthony Mancini</td>\n      <td>Burnley</td>\n    </tr>\n    <tr>\n      <th>25039</th>\n      <td>Charlie Savage</td>\n      <td>Charlie Savage</td>\n      <td>Manchester Utd</td>\n    </tr>\n  </tbody>\n</table>\n<p>751 rows × 3 columns</p>\n</div>"
     },
     "execution_count": 5,
     "metadata": {},
     "output_type": "execute_result"
    }
   ],
   "source": [
    "#get name and team from df fantasy league\n",
    "players_fl = PL2021_fl[['player', 'name', 'team']]\n",
    "players_fl = players_fl.drop_duplicates()\n",
    "players_fl"
   ],
   "metadata": {
    "collapsed": false,
    "pycharm": {
     "name": "#%%\n"
    }
   }
  },
  {
   "cell_type": "code",
   "execution_count": 6,
   "outputs": [
    {
     "data": {
      "text/plain": "                      player               team            name_lineup\n0                 David Raya          Brentford             David Raya\n1                 Rico Henry          Brentford             Rico Henry\n2              Ethan Pinnock          Brentford          Ethan Pinnock\n3         Christian Nørgaard          Brentford     Christian Nørgaard\n4                Sergi Canós          Brentford            Sergi Canós\n...                      ...                ...                    ...\n14184           Jack Grieves            Watford           Jack Grieves\n14320  Anthony Gomez Mancini            Burnley  Anthony Gomez Mancini\n14324         Joseph McGlynn            Burnley         Joseph McGlynn\n14642          Rhys Williams          Liverpool          Rhys Williams\n14960         Charlie Savage  Manchester United         Charlie Savage\n\n[691 rows x 3 columns]",
      "text/html": "<div>\n<style scoped>\n    .dataframe tbody tr th:only-of-type {\n        vertical-align: middle;\n    }\n\n    .dataframe tbody tr th {\n        vertical-align: top;\n    }\n\n    .dataframe thead th {\n        text-align: right;\n    }\n</style>\n<table border=\"1\" class=\"dataframe\">\n  <thead>\n    <tr style=\"text-align: right;\">\n      <th></th>\n      <th>player</th>\n      <th>team</th>\n      <th>name_lineup</th>\n    </tr>\n  </thead>\n  <tbody>\n    <tr>\n      <th>0</th>\n      <td>David Raya</td>\n      <td>Brentford</td>\n      <td>David Raya</td>\n    </tr>\n    <tr>\n      <th>1</th>\n      <td>Rico Henry</td>\n      <td>Brentford</td>\n      <td>Rico Henry</td>\n    </tr>\n    <tr>\n      <th>2</th>\n      <td>Ethan Pinnock</td>\n      <td>Brentford</td>\n      <td>Ethan Pinnock</td>\n    </tr>\n    <tr>\n      <th>3</th>\n      <td>Christian Nørgaard</td>\n      <td>Brentford</td>\n      <td>Christian Nørgaard</td>\n    </tr>\n    <tr>\n      <th>4</th>\n      <td>Sergi Canós</td>\n      <td>Brentford</td>\n      <td>Sergi Canós</td>\n    </tr>\n    <tr>\n      <th>...</th>\n      <td>...</td>\n      <td>...</td>\n      <td>...</td>\n    </tr>\n    <tr>\n      <th>14184</th>\n      <td>Jack Grieves</td>\n      <td>Watford</td>\n      <td>Jack Grieves</td>\n    </tr>\n    <tr>\n      <th>14320</th>\n      <td>Anthony Gomez Mancini</td>\n      <td>Burnley</td>\n      <td>Anthony Gomez Mancini</td>\n    </tr>\n    <tr>\n      <th>14324</th>\n      <td>Joseph McGlynn</td>\n      <td>Burnley</td>\n      <td>Joseph McGlynn</td>\n    </tr>\n    <tr>\n      <th>14642</th>\n      <td>Rhys Williams</td>\n      <td>Liverpool</td>\n      <td>Rhys Williams</td>\n    </tr>\n    <tr>\n      <th>14960</th>\n      <td>Charlie Savage</td>\n      <td>Manchester United</td>\n      <td>Charlie Savage</td>\n    </tr>\n  </tbody>\n</table>\n<p>691 rows × 3 columns</p>\n</div>"
     },
     "execution_count": 6,
     "metadata": {},
     "output_type": "execute_result"
    }
   ],
   "source": [
    "#get name and team from df lineups\n",
    "player_lineup = PL21_lineups[['player', 'team']]\n",
    "player_lineup= player_lineup.drop_duplicates()\n",
    "player_lineup['name_lineup'] = player_lineup['player']\n",
    "player_lineup"
   ],
   "metadata": {
    "collapsed": false,
    "pycharm": {
     "name": "#%%\n"
    }
   }
  },
  {
   "cell_type": "code",
   "execution_count": 8,
   "outputs": [],
   "source": [
    "#merge data\n",
    "players_total = pd.merge(players_fl,player_lineup,on='player', how='left')\n",
    "players_total = players_total.sort_values(by='name_lineup')"
   ],
   "metadata": {
    "collapsed": false,
    "pycharm": {
     "name": "#%%\n"
    }
   }
  },
  {
   "cell_type": "code",
   "execution_count": 9,
   "outputs": [
    {
     "data": {
      "text/plain": "                      player               team            name_lineup  \\\n0                 David Raya          Brentford             David Raya   \n1                 Rico Henry          Brentford             Rico Henry   \n2              Ethan Pinnock          Brentford          Ethan Pinnock   \n3         Christian Nørgaard          Brentford     Christian Nørgaard   \n4                Sergi Canós          Brentford            Sergi Canós   \n...                      ...                ...                    ...   \n14184           Jack Grieves            Watford           Jack Grieves   \n14320  Anthony Gomez Mancini            Burnley  Anthony Gomez Mancini   \n14324         Joseph McGlynn            Burnley         Joseph McGlynn   \n14642          Rhys Williams          Liverpool          Rhys Williams   \n14960         Charlie Savage  Manchester United         Charlie Savage   \n\n                  matches  \n0       David Raya Martin  \n1              Rico Henry  \n2           Ethan Pinnock  \n3      Christian Nørgaard  \n4             Sergi Canós  \n...                   ...  \n14184        Jack Grieves  \n14320     Anthony Mancini  \n14324      Joseph McGlynn  \n14642       Rhys Williams  \n14960      Charlie Savage  \n\n[691 rows x 4 columns]",
      "text/html": "<div>\n<style scoped>\n    .dataframe tbody tr th:only-of-type {\n        vertical-align: middle;\n    }\n\n    .dataframe tbody tr th {\n        vertical-align: top;\n    }\n\n    .dataframe thead th {\n        text-align: right;\n    }\n</style>\n<table border=\"1\" class=\"dataframe\">\n  <thead>\n    <tr style=\"text-align: right;\">\n      <th></th>\n      <th>player</th>\n      <th>team</th>\n      <th>name_lineup</th>\n      <th>matches</th>\n    </tr>\n  </thead>\n  <tbody>\n    <tr>\n      <th>0</th>\n      <td>David Raya</td>\n      <td>Brentford</td>\n      <td>David Raya</td>\n      <td>David Raya Martin</td>\n    </tr>\n    <tr>\n      <th>1</th>\n      <td>Rico Henry</td>\n      <td>Brentford</td>\n      <td>Rico Henry</td>\n      <td>Rico Henry</td>\n    </tr>\n    <tr>\n      <th>2</th>\n      <td>Ethan Pinnock</td>\n      <td>Brentford</td>\n      <td>Ethan Pinnock</td>\n      <td>Ethan Pinnock</td>\n    </tr>\n    <tr>\n      <th>3</th>\n      <td>Christian Nørgaard</td>\n      <td>Brentford</td>\n      <td>Christian Nørgaard</td>\n      <td>Christian Nørgaard</td>\n    </tr>\n    <tr>\n      <th>4</th>\n      <td>Sergi Canós</td>\n      <td>Brentford</td>\n      <td>Sergi Canós</td>\n      <td>Sergi Canós</td>\n    </tr>\n    <tr>\n      <th>...</th>\n      <td>...</td>\n      <td>...</td>\n      <td>...</td>\n      <td>...</td>\n    </tr>\n    <tr>\n      <th>14184</th>\n      <td>Jack Grieves</td>\n      <td>Watford</td>\n      <td>Jack Grieves</td>\n      <td>Jack Grieves</td>\n    </tr>\n    <tr>\n      <th>14320</th>\n      <td>Anthony Gomez Mancini</td>\n      <td>Burnley</td>\n      <td>Anthony Gomez Mancini</td>\n      <td>Anthony Mancini</td>\n    </tr>\n    <tr>\n      <th>14324</th>\n      <td>Joseph McGlynn</td>\n      <td>Burnley</td>\n      <td>Joseph McGlynn</td>\n      <td>Joseph McGlynn</td>\n    </tr>\n    <tr>\n      <th>14642</th>\n      <td>Rhys Williams</td>\n      <td>Liverpool</td>\n      <td>Rhys Williams</td>\n      <td>Rhys Williams</td>\n    </tr>\n    <tr>\n      <th>14960</th>\n      <td>Charlie Savage</td>\n      <td>Manchester United</td>\n      <td>Charlie Savage</td>\n      <td>Charlie Savage</td>\n    </tr>\n  </tbody>\n</table>\n<p>691 rows × 4 columns</p>\n</div>"
     },
     "execution_count": 9,
     "metadata": {},
     "output_type": "execute_result"
    }
   ],
   "source": [
    "#remove blanks\n",
    "player_lineup['player'] = player_lineup['player'].str.strip()\n",
    "players_fl['player'] = players_fl['player'].str.strip()\n",
    "\n",
    "#perform fuzzy merge\n",
    "def fuzzy_merge(df_1, df_2, key1, key2, threshold=90, limit=2):\n",
    "    \"\"\"\n",
    "    :param df_1: the left table to join\n",
    "    :param df_2: the right table to join\n",
    "    :param key1: key column of the left table\n",
    "    :param key2: key column of the right table\n",
    "    :param threshold: how close the matches should be to return a match, based on Levenshtein distance\n",
    "    :param limit: the amount of matches that will get returned, these are sorted high to low\n",
    "    :return: dataframe with boths keys and matches\n",
    "    \"\"\"\n",
    "    s = df_2[key2].tolist()\n",
    "\n",
    "    m = df_1[key1].apply(lambda x: process.extract(x, s, limit=limit))\n",
    "    df_1['matches'] = m\n",
    "\n",
    "    m2 = df_1['matches'].apply(lambda x: ', '.join([i[0] for i in x if i[1] >= threshold]))\n",
    "    df_1['matches'] = m2\n",
    "\n",
    "    return df_1\n",
    "\n",
    "players_merged = fuzzy_merge(player_lineup, players_fl ,'player', 'player', threshold=90, limit=1)\n",
    "players_merged"
   ],
   "metadata": {
    "collapsed": false,
    "pycharm": {
     "name": "#%%\n"
    }
   }
  },
  {
   "cell_type": "code",
   "execution_count": 10,
   "outputs": [
    {
     "data": {
      "text/plain": "                   player                    team           name_lineup  \\\n0    Valentino Livramento             Southampton  Valentino Livramento   \n1          Bernardo Silva         Manchester City        Bernardo Silva   \n2                   Cucho                 Watford                 Cucho   \n3             Joe Willock        Newcastle United           Joe Willock   \n4             Solly March  Brighton & Hove Albion           Solly March   \n..                    ...                     ...                   ...   \n686          Zack Steffen         Manchester City          Zack Steffen   \n687           Zak Swanson                 Arsenal           Zak Swanson   \n688      Álvaro Fernández               Brentford      Álvaro Fernández   \n689      Álvaro Fernández       Manchester United      Álvaro Fernández   \n690        Çağlar Söyüncü          Leicester City        Çağlar Söyüncü   \n\n                 name  \n0                      \n1                      \n2                      \n3                      \n4                      \n..                ...  \n686      Zack Steffen  \n687       Zak Swanson  \n688  Álvaro Fernández  \n689  Álvaro Fernández  \n690    Çaglar Söyüncü  \n\n[691 rows x 4 columns]",
      "text/html": "<div>\n<style scoped>\n    .dataframe tbody tr th:only-of-type {\n        vertical-align: middle;\n    }\n\n    .dataframe tbody tr th {\n        vertical-align: top;\n    }\n\n    .dataframe thead th {\n        text-align: right;\n    }\n</style>\n<table border=\"1\" class=\"dataframe\">\n  <thead>\n    <tr style=\"text-align: right;\">\n      <th></th>\n      <th>player</th>\n      <th>team</th>\n      <th>name_lineup</th>\n      <th>name</th>\n    </tr>\n  </thead>\n  <tbody>\n    <tr>\n      <th>0</th>\n      <td>Valentino Livramento</td>\n      <td>Southampton</td>\n      <td>Valentino Livramento</td>\n      <td></td>\n    </tr>\n    <tr>\n      <th>1</th>\n      <td>Bernardo Silva</td>\n      <td>Manchester City</td>\n      <td>Bernardo Silva</td>\n      <td></td>\n    </tr>\n    <tr>\n      <th>2</th>\n      <td>Cucho</td>\n      <td>Watford</td>\n      <td>Cucho</td>\n      <td></td>\n    </tr>\n    <tr>\n      <th>3</th>\n      <td>Joe Willock</td>\n      <td>Newcastle United</td>\n      <td>Joe Willock</td>\n      <td></td>\n    </tr>\n    <tr>\n      <th>4</th>\n      <td>Solly March</td>\n      <td>Brighton &amp; Hove Albion</td>\n      <td>Solly March</td>\n      <td></td>\n    </tr>\n    <tr>\n      <th>...</th>\n      <td>...</td>\n      <td>...</td>\n      <td>...</td>\n      <td>...</td>\n    </tr>\n    <tr>\n      <th>686</th>\n      <td>Zack Steffen</td>\n      <td>Manchester City</td>\n      <td>Zack Steffen</td>\n      <td>Zack Steffen</td>\n    </tr>\n    <tr>\n      <th>687</th>\n      <td>Zak Swanson</td>\n      <td>Arsenal</td>\n      <td>Zak Swanson</td>\n      <td>Zak Swanson</td>\n    </tr>\n    <tr>\n      <th>688</th>\n      <td>Álvaro Fernández</td>\n      <td>Brentford</td>\n      <td>Álvaro Fernández</td>\n      <td>Álvaro Fernández</td>\n    </tr>\n    <tr>\n      <th>689</th>\n      <td>Álvaro Fernández</td>\n      <td>Manchester United</td>\n      <td>Álvaro Fernández</td>\n      <td>Álvaro Fernández</td>\n    </tr>\n    <tr>\n      <th>690</th>\n      <td>Çağlar Söyüncü</td>\n      <td>Leicester City</td>\n      <td>Çağlar Söyüncü</td>\n      <td>Çaglar Söyüncü</td>\n    </tr>\n  </tbody>\n</table>\n<p>691 rows × 4 columns</p>\n</div>"
     },
     "execution_count": 10,
     "metadata": {},
     "output_type": "execute_result"
    }
   ],
   "source": [
    "#sort values to find names which could not be matched\n",
    "players_merged= players_merged.sort_values(by='matches')\n",
    "players_merged.reset_index(inplace=True, drop=True)\n",
    "players_merged.rename(columns={\"matches\": \"name\"}, inplace=True)\n",
    "players_merged"
   ],
   "metadata": {
    "collapsed": false,
    "pycharm": {
     "name": "#%%\n"
    }
   }
  },
  {
   "cell_type": "code",
   "execution_count": 11,
   "outputs": [
    {
     "data": {
      "text/plain": "            player_rating             team_rating         player_fl  \\\n0    Valentino Livramento             Southampton                     \n1          Bernardo Silva         Manchester City                     \n2                   Cucho                 Watford                     \n3             Joe Willock        Newcastle United                     \n4             Solly March  Brighton & Hove Albion                     \n..                    ...                     ...               ...   \n713      Álvaro Fernández               Brentford  Álvaro Fernández   \n714      Álvaro Fernández               Brentford  Álvaro Fernández   \n715      Álvaro Fernández       Manchester United  Álvaro Fernández   \n716      Álvaro Fernández       Manchester United  Álvaro Fernández   \n717        Çağlar Söyüncü          Leicester City    Çaglar Söyüncü   \n\n            team_fl  \n0               NaN  \n1               NaN  \n2               NaN  \n3               NaN  \n4               NaN  \n..              ...  \n713       Brentford  \n714  Manchester Utd  \n715       Brentford  \n716  Manchester Utd  \n717  Leicester City  \n\n[718 rows x 4 columns]",
      "text/html": "<div>\n<style scoped>\n    .dataframe tbody tr th:only-of-type {\n        vertical-align: middle;\n    }\n\n    .dataframe tbody tr th {\n        vertical-align: top;\n    }\n\n    .dataframe thead th {\n        text-align: right;\n    }\n</style>\n<table border=\"1\" class=\"dataframe\">\n  <thead>\n    <tr style=\"text-align: right;\">\n      <th></th>\n      <th>player_rating</th>\n      <th>team_rating</th>\n      <th>player_fl</th>\n      <th>team_fl</th>\n    </tr>\n  </thead>\n  <tbody>\n    <tr>\n      <th>0</th>\n      <td>Valentino Livramento</td>\n      <td>Southampton</td>\n      <td></td>\n      <td>NaN</td>\n    </tr>\n    <tr>\n      <th>1</th>\n      <td>Bernardo Silva</td>\n      <td>Manchester City</td>\n      <td></td>\n      <td>NaN</td>\n    </tr>\n    <tr>\n      <th>2</th>\n      <td>Cucho</td>\n      <td>Watford</td>\n      <td></td>\n      <td>NaN</td>\n    </tr>\n    <tr>\n      <th>3</th>\n      <td>Joe Willock</td>\n      <td>Newcastle United</td>\n      <td></td>\n      <td>NaN</td>\n    </tr>\n    <tr>\n      <th>4</th>\n      <td>Solly March</td>\n      <td>Brighton &amp; Hove Albion</td>\n      <td></td>\n      <td>NaN</td>\n    </tr>\n    <tr>\n      <th>...</th>\n      <td>...</td>\n      <td>...</td>\n      <td>...</td>\n      <td>...</td>\n    </tr>\n    <tr>\n      <th>713</th>\n      <td>Álvaro Fernández</td>\n      <td>Brentford</td>\n      <td>Álvaro Fernández</td>\n      <td>Brentford</td>\n    </tr>\n    <tr>\n      <th>714</th>\n      <td>Álvaro Fernández</td>\n      <td>Brentford</td>\n      <td>Álvaro Fernández</td>\n      <td>Manchester Utd</td>\n    </tr>\n    <tr>\n      <th>715</th>\n      <td>Álvaro Fernández</td>\n      <td>Manchester United</td>\n      <td>Álvaro Fernández</td>\n      <td>Brentford</td>\n    </tr>\n    <tr>\n      <th>716</th>\n      <td>Álvaro Fernández</td>\n      <td>Manchester United</td>\n      <td>Álvaro Fernández</td>\n      <td>Manchester Utd</td>\n    </tr>\n    <tr>\n      <th>717</th>\n      <td>Çağlar Söyüncü</td>\n      <td>Leicester City</td>\n      <td>Çaglar Söyüncü</td>\n      <td>Leicester City</td>\n    </tr>\n  </tbody>\n</table>\n<p>718 rows × 4 columns</p>\n</div>"
     },
     "execution_count": 11,
     "metadata": {},
     "output_type": "execute_result"
    }
   ],
   "source": [
    "#merge df with matches with fl df to find all unmatched players and manually match them in excel sheet\n",
    "\n",
    "players_merged['player'] = players_merged['player'].str.strip()\n",
    "players_fl['player'] = players_fl['player'].str.strip()\n",
    "\n",
    "out = pd.merge(players_merged,players_fl , on='name', how='left')\n",
    "\n",
    "out = out[['player_x', 'team_x', 'name', 'team_y']]\n",
    "out.rename(columns={\"player_x\": \"player_rating\", \"team_x\": \"team_rating\", \"name\": \"player_fl\", \"team_y\": \"team_fl\" }, inplace=True)\n",
    "out"
   ],
   "metadata": {
    "collapsed": false,
    "pycharm": {
     "name": "#%%\n"
    }
   }
  },
  {
   "cell_type": "code",
   "execution_count": 12,
   "outputs": [],
   "source": [
    "#export to excel\n",
    "#out.to_excel('names_2021.xlsx')"
   ],
   "metadata": {
    "collapsed": false,
    "pycharm": {
     "name": "#%%\n"
    }
   }
  },
  {
   "cell_type": "code",
   "execution_count": 19,
   "outputs": [
    {
     "data": {
      "text/plain": "     Unnamed: 0         player_rating             team_rating  \\\n0             0  Valentino Livramento             Southampton   \n1             1        Bernardo Silva         Manchester City   \n2             2                 Cucho                 Watford   \n3             3           Joe Willock        Newcastle United   \n4             4           Solly March  Brighton & Hove Albion   \n..          ...                   ...                     ...   \n713         713      Álvaro Fernández               Brentford   \n714         714      Álvaro Fernández               Brentford   \n715         715      Álvaro Fernández       Manchester United   \n716         716      Álvaro Fernández       Manchester United   \n717         717        Çağlar Söyüncü          Leicester City   \n\n                                   player_fl         team_fl  \\\n0                            Tino Livramento             NaN   \n1    Bernardo Mota Veiga de Carvalho e Silva             NaN   \n2               Juan Camilo Hernández Suárez             NaN   \n3                             Joseph Willock             NaN   \n4                              Solomon March             NaN   \n..                                       ...             ...   \n713                         Álvaro Fernández       Brentford   \n714                         Álvaro Fernández  Manchester Utd   \n715                         Álvaro Fernández       Brentford   \n716                         Álvaro Fernández  Manchester Utd   \n717                           Çaglar Söyüncü  Leicester City   \n\n                                    names 20  \\\n0                       Valentino Livramento   \n1    Bernardo Mota Veiga de Carvalho e Silva   \n2                                        NaN   \n3                             Joseph Willock   \n4                              Solomon March   \n..                                       ...   \n713                                      NaN   \n714                                      NaN   \n715                                      NaN   \n716                                      NaN   \n717                           Çaglar Söyüncü   \n\n                                     names19  \n0                                        NaN  \n1    Bernardo Mota Veiga de Carvalho e Silva  \n2                                        NaN  \n3                             Joseph Willock  \n4                              Solomon March  \n..                                       ...  \n713                                      NaN  \n714                                      NaN  \n715                                      NaN  \n716                                      NaN  \n717                          Çaglar Söyüncü   \n\n[718 rows x 7 columns]",
      "text/html": "<div>\n<style scoped>\n    .dataframe tbody tr th:only-of-type {\n        vertical-align: middle;\n    }\n\n    .dataframe tbody tr th {\n        vertical-align: top;\n    }\n\n    .dataframe thead th {\n        text-align: right;\n    }\n</style>\n<table border=\"1\" class=\"dataframe\">\n  <thead>\n    <tr style=\"text-align: right;\">\n      <th></th>\n      <th>Unnamed: 0</th>\n      <th>player_rating</th>\n      <th>team_rating</th>\n      <th>player_fl</th>\n      <th>team_fl</th>\n      <th>names 20</th>\n      <th>names19</th>\n    </tr>\n  </thead>\n  <tbody>\n    <tr>\n      <th>0</th>\n      <td>0</td>\n      <td>Valentino Livramento</td>\n      <td>Southampton</td>\n      <td>Tino Livramento</td>\n      <td>NaN</td>\n      <td>Valentino Livramento</td>\n      <td>NaN</td>\n    </tr>\n    <tr>\n      <th>1</th>\n      <td>1</td>\n      <td>Bernardo Silva</td>\n      <td>Manchester City</td>\n      <td>Bernardo Mota Veiga de Carvalho e Silva</td>\n      <td>NaN</td>\n      <td>Bernardo Mota Veiga de Carvalho e Silva</td>\n      <td>Bernardo Mota Veiga de Carvalho e Silva</td>\n    </tr>\n    <tr>\n      <th>2</th>\n      <td>2</td>\n      <td>Cucho</td>\n      <td>Watford</td>\n      <td>Juan Camilo Hernández Suárez</td>\n      <td>NaN</td>\n      <td>NaN</td>\n      <td>NaN</td>\n    </tr>\n    <tr>\n      <th>3</th>\n      <td>3</td>\n      <td>Joe Willock</td>\n      <td>Newcastle United</td>\n      <td>Joseph Willock</td>\n      <td>NaN</td>\n      <td>Joseph Willock</td>\n      <td>Joseph Willock</td>\n    </tr>\n    <tr>\n      <th>4</th>\n      <td>4</td>\n      <td>Solly March</td>\n      <td>Brighton &amp; Hove Albion</td>\n      <td>Solomon March</td>\n      <td>NaN</td>\n      <td>Solomon March</td>\n      <td>Solomon March</td>\n    </tr>\n    <tr>\n      <th>...</th>\n      <td>...</td>\n      <td>...</td>\n      <td>...</td>\n      <td>...</td>\n      <td>...</td>\n      <td>...</td>\n      <td>...</td>\n    </tr>\n    <tr>\n      <th>713</th>\n      <td>713</td>\n      <td>Álvaro Fernández</td>\n      <td>Brentford</td>\n      <td>Álvaro Fernández</td>\n      <td>Brentford</td>\n      <td>NaN</td>\n      <td>NaN</td>\n    </tr>\n    <tr>\n      <th>714</th>\n      <td>714</td>\n      <td>Álvaro Fernández</td>\n      <td>Brentford</td>\n      <td>Álvaro Fernández</td>\n      <td>Manchester Utd</td>\n      <td>NaN</td>\n      <td>NaN</td>\n    </tr>\n    <tr>\n      <th>715</th>\n      <td>715</td>\n      <td>Álvaro Fernández</td>\n      <td>Manchester United</td>\n      <td>Álvaro Fernández</td>\n      <td>Brentford</td>\n      <td>NaN</td>\n      <td>NaN</td>\n    </tr>\n    <tr>\n      <th>716</th>\n      <td>716</td>\n      <td>Álvaro Fernández</td>\n      <td>Manchester United</td>\n      <td>Álvaro Fernández</td>\n      <td>Manchester Utd</td>\n      <td>NaN</td>\n      <td>NaN</td>\n    </tr>\n    <tr>\n      <th>717</th>\n      <td>717</td>\n      <td>Çağlar Söyüncü</td>\n      <td>Leicester City</td>\n      <td>Çaglar Söyüncü</td>\n      <td>Leicester City</td>\n      <td>Çaglar Söyüncü</td>\n      <td>Çaglar Söyüncü</td>\n    </tr>\n  </tbody>\n</table>\n<p>718 rows × 7 columns</p>\n</div>"
     },
     "execution_count": 19,
     "metadata": {},
     "output_type": "execute_result"
    }
   ],
   "source": [
    "#import manually added names\n",
    "name_matching = pd.read_excel('Data/2021-22/Players/name_matching_2021.xlsx')\n",
    "name_matching"
   ],
   "metadata": {
    "collapsed": false,
    "pycharm": {
     "name": "#%%\n"
    }
   }
  },
  {
   "cell_type": "code",
   "execution_count": 20,
   "outputs": [],
   "source": [
    "#transform data for merge\n",
    "name_matching = name_matching[['player_rating', 'player_fl']]\n",
    "name_matching = name_matching.drop_duplicates()\n",
    "name_matching.rename(columns={\"player_fl\": \"player\"}, inplace=True)"
   ],
   "metadata": {
    "collapsed": false,
    "pycharm": {
     "name": "#%%\n"
    }
   }
  },
  {
   "cell_type": "code",
   "execution_count": 21,
   "outputs": [],
   "source": [
    "#get date out of kickoff time\n",
    "PL2021_fl ['date'] = PL2021_fl['kickoff_time'].str.slice(start=0, stop=10)"
   ],
   "metadata": {
    "collapsed": false,
    "pycharm": {
     "name": "#%%\n"
    }
   }
  },
  {
   "cell_type": "code",
   "execution_count": 22,
   "outputs": [],
   "source": [
    "#merge data\n",
    "PL2021_fl['player'] = PL2021_fl['player'].str.strip()\n",
    "name_matching['player'] = name_matching['player'].str.strip()\n",
    "PL2021_fl_matched = pd.merge(PL2021_fl, name_matching , on='player', how='left')\n",
    "#generate ID to map each time a player played a game to a specific\n",
    "PL2021_fl_matched['ID'] = PL2021_fl_matched['player_rating'] + '_' + PL2021_fl_matched['date'].astype(str)"
   ],
   "metadata": {
    "collapsed": false,
    "pycharm": {
     "name": "#%%\n"
    }
   }
  },
  {
   "cell_type": "code",
   "execution_count": 23,
   "outputs": [],
   "source": [
    "#generate ID\n",
    "PL2021_ratings['ID'] = PL2021_ratings['player'] + '_' + PL2021_ratings['date'].astype(str)"
   ],
   "metadata": {
    "collapsed": false,
    "pycharm": {
     "name": "#%%\n"
    }
   }
  },
  {
   "cell_type": "code",
   "execution_count": 24,
   "outputs": [],
   "source": [
    "#merge data on id, to get player rating for every game\n",
    "PL2021_matched = pd.merge(PL2021_fl_matched, PL2021_ratings , on='ID', how='left')"
   ],
   "metadata": {
    "collapsed": false,
    "pycharm": {
     "name": "#%%\n"
    }
   }
  },
  {
   "cell_type": "code",
   "execution_count": 25,
   "outputs": [
    {
     "data": {
      "text/plain": "                                name position_x            team   xP  assists  \\\n0                        Eric Bailly        DEF  Manchester Utd  0.0        0   \n1                       Keinan Davis        FWD     Aston Villa  0.4        0   \n2             Ayotomiwa Dele-Bashiru        MID         Watford  0.0        0   \n3                  James Ward-Prowse        MID     Southampton  2.3        0   \n4      Bruno Miguel Borges Fernandes        MID  Manchester Utd  4.4        0   \n...                              ...        ...             ...  ...      ...   \n25442                  Wilfred Ndidi        MID  Leicester City  0.0        0   \n25443                   Matt Ritchie        DEF   Newcastle Utd  0.9        0   \n25444                 Nathan Redmond        MID     Southampton  3.4        0   \n25445                    Mathew Ryan         GK        Brighton  0.0        0   \n25446                Ryan Fredericks        DEF        West Ham  0.2        0   \n\n       bonus  bps  clean_sheets  creativity  element  ...  \\\n0          0    0             0         0.0      286  ...   \n1          0    0             0         0.0       49  ...   \n2          0    0             0         0.0      394  ...   \n3          0   20             0        30.5      341  ...   \n4          3   61             0        35.9      277  ...   \n...      ...  ...           ...         ...      ...  ...   \n25442      0    0             0         0.0      216  ...   \n25443      0    3             0         0.0      292  ...   \n25444      0    5             0         0.0      336  ...   \n25445      0    0             0         0.0       65  ...   \n25446      0    0             0         0.0      415  ...   \n\n                                 ID           player_y  position_y     age  \\\n0            Eric Bailly_2021-08-14                NaN         NaN     NaN   \n1           Keinan Davis_2021-08-14                NaN         NaN     NaN   \n2                               NaN                NaN         NaN     NaN   \n3      James Ward-Prowse_2021-08-14  James Ward-Prowse          CM  26-286   \n4        Bruno Fernandes_2021-08-14    Bruno Fernandes          AM  26-340   \n...                             ...                ...         ...     ...   \n25442      Wilfred Ndidi_2022-05-22                NaN         NaN     NaN   \n25443       Matt Ritchie_2022-05-22       Matt Ritchie          LW  32-254   \n25444     Nathan Redmond_2022-05-22     Nathan Redmond          FW  28-077   \n25445                           NaN                NaN         NaN     NaN   \n25446    Ryan Fredericks_2022-05-22                NaN         NaN     NaN   \n\n       minutes_y               Team  matchweek_y  category     Rating  \\\n0            NaN                NaN          NaN       NaN   0.000000   \n1            NaN                NaN          NaN       NaN   0.000000   \n2            NaN                NaN          NaN       NaN   0.000000   \n3           90.0        Southampton          1.0  Midfield  28.509599   \n4           90.0  Manchester United          1.0  Midfield  51.721369   \n...          ...                ...          ...       ...        ...   \n25442        NaN                NaN          NaN       NaN   0.000000   \n25443        2.0   Newcastle United         38.0   Forward   4.998869   \n25444       82.0        Southampton         38.0   Forward  19.069354   \n25445        NaN                NaN          NaN       NaN   0.000000   \n25446        NaN                NaN          NaN       NaN   0.000000   \n\n           date_y  \n0             NaN  \n1             NaN  \n2             NaN  \n3      2021-08-14  \n4      2021-08-14  \n...           ...  \n25442         NaN  \n25443  2022-05-22  \n25444  2022-05-22  \n25445         NaN  \n25446         NaN  \n\n[25447 rows x 49 columns]",
      "text/html": "<div>\n<style scoped>\n    .dataframe tbody tr th:only-of-type {\n        vertical-align: middle;\n    }\n\n    .dataframe tbody tr th {\n        vertical-align: top;\n    }\n\n    .dataframe thead th {\n        text-align: right;\n    }\n</style>\n<table border=\"1\" class=\"dataframe\">\n  <thead>\n    <tr style=\"text-align: right;\">\n      <th></th>\n      <th>name</th>\n      <th>position_x</th>\n      <th>team</th>\n      <th>xP</th>\n      <th>assists</th>\n      <th>bonus</th>\n      <th>bps</th>\n      <th>clean_sheets</th>\n      <th>creativity</th>\n      <th>element</th>\n      <th>...</th>\n      <th>ID</th>\n      <th>player_y</th>\n      <th>position_y</th>\n      <th>age</th>\n      <th>minutes_y</th>\n      <th>Team</th>\n      <th>matchweek_y</th>\n      <th>category</th>\n      <th>Rating</th>\n      <th>date_y</th>\n    </tr>\n  </thead>\n  <tbody>\n    <tr>\n      <th>0</th>\n      <td>Eric Bailly</td>\n      <td>DEF</td>\n      <td>Manchester Utd</td>\n      <td>0.0</td>\n      <td>0</td>\n      <td>0</td>\n      <td>0</td>\n      <td>0</td>\n      <td>0.0</td>\n      <td>286</td>\n      <td>...</td>\n      <td>Eric Bailly_2021-08-14</td>\n      <td>NaN</td>\n      <td>NaN</td>\n      <td>NaN</td>\n      <td>NaN</td>\n      <td>NaN</td>\n      <td>NaN</td>\n      <td>NaN</td>\n      <td>0.000000</td>\n      <td>NaN</td>\n    </tr>\n    <tr>\n      <th>1</th>\n      <td>Keinan Davis</td>\n      <td>FWD</td>\n      <td>Aston Villa</td>\n      <td>0.4</td>\n      <td>0</td>\n      <td>0</td>\n      <td>0</td>\n      <td>0</td>\n      <td>0.0</td>\n      <td>49</td>\n      <td>...</td>\n      <td>Keinan Davis_2021-08-14</td>\n      <td>NaN</td>\n      <td>NaN</td>\n      <td>NaN</td>\n      <td>NaN</td>\n      <td>NaN</td>\n      <td>NaN</td>\n      <td>NaN</td>\n      <td>0.000000</td>\n      <td>NaN</td>\n    </tr>\n    <tr>\n      <th>2</th>\n      <td>Ayotomiwa Dele-Bashiru</td>\n      <td>MID</td>\n      <td>Watford</td>\n      <td>0.0</td>\n      <td>0</td>\n      <td>0</td>\n      <td>0</td>\n      <td>0</td>\n      <td>0.0</td>\n      <td>394</td>\n      <td>...</td>\n      <td>NaN</td>\n      <td>NaN</td>\n      <td>NaN</td>\n      <td>NaN</td>\n      <td>NaN</td>\n      <td>NaN</td>\n      <td>NaN</td>\n      <td>NaN</td>\n      <td>0.000000</td>\n      <td>NaN</td>\n    </tr>\n    <tr>\n      <th>3</th>\n      <td>James Ward-Prowse</td>\n      <td>MID</td>\n      <td>Southampton</td>\n      <td>2.3</td>\n      <td>0</td>\n      <td>0</td>\n      <td>20</td>\n      <td>0</td>\n      <td>30.5</td>\n      <td>341</td>\n      <td>...</td>\n      <td>James Ward-Prowse_2021-08-14</td>\n      <td>James Ward-Prowse</td>\n      <td>CM</td>\n      <td>26-286</td>\n      <td>90.0</td>\n      <td>Southampton</td>\n      <td>1.0</td>\n      <td>Midfield</td>\n      <td>28.509599</td>\n      <td>2021-08-14</td>\n    </tr>\n    <tr>\n      <th>4</th>\n      <td>Bruno Miguel Borges Fernandes</td>\n      <td>MID</td>\n      <td>Manchester Utd</td>\n      <td>4.4</td>\n      <td>0</td>\n      <td>3</td>\n      <td>61</td>\n      <td>0</td>\n      <td>35.9</td>\n      <td>277</td>\n      <td>...</td>\n      <td>Bruno Fernandes_2021-08-14</td>\n      <td>Bruno Fernandes</td>\n      <td>AM</td>\n      <td>26-340</td>\n      <td>90.0</td>\n      <td>Manchester United</td>\n      <td>1.0</td>\n      <td>Midfield</td>\n      <td>51.721369</td>\n      <td>2021-08-14</td>\n    </tr>\n    <tr>\n      <th>...</th>\n      <td>...</td>\n      <td>...</td>\n      <td>...</td>\n      <td>...</td>\n      <td>...</td>\n      <td>...</td>\n      <td>...</td>\n      <td>...</td>\n      <td>...</td>\n      <td>...</td>\n      <td>...</td>\n      <td>...</td>\n      <td>...</td>\n      <td>...</td>\n      <td>...</td>\n      <td>...</td>\n      <td>...</td>\n      <td>...</td>\n      <td>...</td>\n      <td>...</td>\n      <td>...</td>\n    </tr>\n    <tr>\n      <th>25442</th>\n      <td>Wilfred Ndidi</td>\n      <td>MID</td>\n      <td>Leicester City</td>\n      <td>0.0</td>\n      <td>0</td>\n      <td>0</td>\n      <td>0</td>\n      <td>0</td>\n      <td>0.0</td>\n      <td>216</td>\n      <td>...</td>\n      <td>Wilfred Ndidi_2022-05-22</td>\n      <td>NaN</td>\n      <td>NaN</td>\n      <td>NaN</td>\n      <td>NaN</td>\n      <td>NaN</td>\n      <td>NaN</td>\n      <td>NaN</td>\n      <td>0.000000</td>\n      <td>NaN</td>\n    </tr>\n    <tr>\n      <th>25443</th>\n      <td>Matt Ritchie</td>\n      <td>DEF</td>\n      <td>Newcastle Utd</td>\n      <td>0.9</td>\n      <td>0</td>\n      <td>0</td>\n      <td>3</td>\n      <td>0</td>\n      <td>0.0</td>\n      <td>292</td>\n      <td>...</td>\n      <td>Matt Ritchie_2022-05-22</td>\n      <td>Matt Ritchie</td>\n      <td>LW</td>\n      <td>32-254</td>\n      <td>2.0</td>\n      <td>Newcastle United</td>\n      <td>38.0</td>\n      <td>Forward</td>\n      <td>4.998869</td>\n      <td>2022-05-22</td>\n    </tr>\n    <tr>\n      <th>25444</th>\n      <td>Nathan Redmond</td>\n      <td>MID</td>\n      <td>Southampton</td>\n      <td>3.4</td>\n      <td>0</td>\n      <td>0</td>\n      <td>5</td>\n      <td>0</td>\n      <td>0.0</td>\n      <td>336</td>\n      <td>...</td>\n      <td>Nathan Redmond_2022-05-22</td>\n      <td>Nathan Redmond</td>\n      <td>FW</td>\n      <td>28-077</td>\n      <td>82.0</td>\n      <td>Southampton</td>\n      <td>38.0</td>\n      <td>Forward</td>\n      <td>19.069354</td>\n      <td>2022-05-22</td>\n    </tr>\n    <tr>\n      <th>25445</th>\n      <td>Mathew Ryan</td>\n      <td>GK</td>\n      <td>Brighton</td>\n      <td>0.0</td>\n      <td>0</td>\n      <td>0</td>\n      <td>0</td>\n      <td>0</td>\n      <td>0.0</td>\n      <td>65</td>\n      <td>...</td>\n      <td>NaN</td>\n      <td>NaN</td>\n      <td>NaN</td>\n      <td>NaN</td>\n      <td>NaN</td>\n      <td>NaN</td>\n      <td>NaN</td>\n      <td>NaN</td>\n      <td>0.000000</td>\n      <td>NaN</td>\n    </tr>\n    <tr>\n      <th>25446</th>\n      <td>Ryan Fredericks</td>\n      <td>DEF</td>\n      <td>West Ham</td>\n      <td>0.2</td>\n      <td>0</td>\n      <td>0</td>\n      <td>0</td>\n      <td>0</td>\n      <td>0.0</td>\n      <td>415</td>\n      <td>...</td>\n      <td>Ryan Fredericks_2022-05-22</td>\n      <td>NaN</td>\n      <td>NaN</td>\n      <td>NaN</td>\n      <td>NaN</td>\n      <td>NaN</td>\n      <td>NaN</td>\n      <td>NaN</td>\n      <td>0.000000</td>\n      <td>NaN</td>\n    </tr>\n  </tbody>\n</table>\n<p>25447 rows × 49 columns</p>\n</div>"
     },
     "execution_count": 25,
     "metadata": {},
     "output_type": "execute_result"
    }
   ],
   "source": [
    "#replace na (If a player was not in the squad for the match day, he will not receive a rating)\n",
    "PL2021_matched['Rating'] = PL2021_matched['Rating'].fillna(0)\n",
    "PL2021_matched"
   ],
   "metadata": {
    "collapsed": false,
    "pycharm": {
     "name": "#%%\n"
    }
   }
  },
  {
   "cell_type": "code",
   "execution_count": 26,
   "outputs": [
    {
     "name": "stderr",
     "output_type": "stream",
     "text": [
      "C:\\Users\\giuli\\AppData\\Local\\Temp\\ipykernel_113232\\1640504712.py:3: SettingWithCopyWarning: \n",
      "A value is trying to be set on a copy of a slice from a DataFrame\n",
      "\n",
      "See the caveats in the documentation: https://pandas.pydata.org/pandas-docs/stable/user_guide/indexing.html#returning-a-view-versus-a-copy\n",
      "  PL2021_total.rename(columns={\"player_x\": \"player_fl\",\"player_rating\": \"player\" ,\"date_x\": \"date\", \"Team\": \"team_rating\",\"team\":\"team\",  \"position_x\": \"position_fl\", \"minutes_x\": \"minutes_fl\",\"minutes_y\": \"minutes_rating\" ,\"Rating\": \"rating\"}, inplace=True)\n"
     ]
    },
    {
     "data": {
      "text/plain": "                           player_fl             player        date  \\\n0                        Eric Bailly        Eric Bailly  2021-08-14   \n1                       Keinan Davis       Keinan Davis  2021-08-14   \n2             Ayotomiwa Dele-Bashiru                NaN  2021-08-14   \n3                  James Ward-Prowse  James Ward-Prowse  2021-08-14   \n4      Bruno Miguel Borges Fernandes    Bruno Fernandes  2021-08-14   \n...                              ...                ...         ...   \n25442                  Wilfred Ndidi      Wilfred Ndidi  2022-05-22   \n25443                   Matt Ritchie       Matt Ritchie  2022-05-22   \n25444                 Nathan Redmond     Nathan Redmond  2022-05-22   \n25445                    Mathew Ryan                NaN  2022-05-22   \n25446                Ryan Fredericks    Ryan Fredericks  2022-05-22   \n\n                 team        team_rating  category  minutes_fl  \\\n0      Manchester Utd                NaN       NaN           0   \n1         Aston Villa                NaN       NaN           0   \n2             Watford                NaN       NaN           0   \n3         Southampton        Southampton  Midfield          90   \n4      Manchester Utd  Manchester United  Midfield          90   \n...               ...                ...       ...         ...   \n25442  Leicester City                NaN       NaN           0   \n25443   Newcastle Utd   Newcastle United   Forward           1   \n25444     Southampton        Southampton   Forward          82   \n25445        Brighton                NaN       NaN           0   \n25446        West Ham                NaN       NaN           0   \n\n       minutes_rating     rating  bonus  ...  creativity  threat  \\\n0                 NaN   0.000000      0  ...         0.0     0.0   \n1                 NaN   0.000000      0  ...         0.0     0.0   \n2                 NaN   0.000000      0  ...         0.0     0.0   \n3                90.0  28.509599      0  ...        30.5     0.0   \n4                90.0  51.721369      3  ...        35.9    59.0   \n...               ...        ...    ...  ...         ...     ...   \n25442             NaN   0.000000      0  ...         0.0     0.0   \n25443             2.0   4.998869      0  ...         0.0     0.0   \n25444            82.0  19.069354      0  ...         0.0     0.0   \n25445             NaN   0.000000      0  ...         0.0     0.0   \n25446             NaN   0.000000      0  ...         0.0     0.0   \n\n       total_points  transfers_balance  transfers_in  transfers_out  value  \\\n0                 0                  0             0              0     50   \n1                 0                  0             0              0     45   \n2                 0                  0             0              0     45   \n3                 2                  0             0              0     65   \n4                20                  0             0              0    120   \n...             ...                ...           ...            ...    ...   \n25442             0               -202            22            224     48   \n25443             1                143           396            253     49   \n25444             2                455           683            228     59   \n25445             0                 -2             0              2     45   \n25446             0                 36           103             67     44   \n\n       was_home  opponent_team  selected  \n0          True             10      9363  \n1         False             18    169789  \n2          True              2      4092  \n3         False              8    299682  \n4          True             10   3381004  \n...         ...            ...       ...  \n25442      True             16     70366  \n25443     False              5     15999  \n25444     False              9     13856  \n25445      True             19       587  \n25446     False              4      8856  \n\n[25447 rows x 24 columns]",
      "text/html": "<div>\n<style scoped>\n    .dataframe tbody tr th:only-of-type {\n        vertical-align: middle;\n    }\n\n    .dataframe tbody tr th {\n        vertical-align: top;\n    }\n\n    .dataframe thead th {\n        text-align: right;\n    }\n</style>\n<table border=\"1\" class=\"dataframe\">\n  <thead>\n    <tr style=\"text-align: right;\">\n      <th></th>\n      <th>player_fl</th>\n      <th>player</th>\n      <th>date</th>\n      <th>team</th>\n      <th>team_rating</th>\n      <th>category</th>\n      <th>minutes_fl</th>\n      <th>minutes_rating</th>\n      <th>rating</th>\n      <th>bonus</th>\n      <th>...</th>\n      <th>creativity</th>\n      <th>threat</th>\n      <th>total_points</th>\n      <th>transfers_balance</th>\n      <th>transfers_in</th>\n      <th>transfers_out</th>\n      <th>value</th>\n      <th>was_home</th>\n      <th>opponent_team</th>\n      <th>selected</th>\n    </tr>\n  </thead>\n  <tbody>\n    <tr>\n      <th>0</th>\n      <td>Eric Bailly</td>\n      <td>Eric Bailly</td>\n      <td>2021-08-14</td>\n      <td>Manchester Utd</td>\n      <td>NaN</td>\n      <td>NaN</td>\n      <td>0</td>\n      <td>NaN</td>\n      <td>0.000000</td>\n      <td>0</td>\n      <td>...</td>\n      <td>0.0</td>\n      <td>0.0</td>\n      <td>0</td>\n      <td>0</td>\n      <td>0</td>\n      <td>0</td>\n      <td>50</td>\n      <td>True</td>\n      <td>10</td>\n      <td>9363</td>\n    </tr>\n    <tr>\n      <th>1</th>\n      <td>Keinan Davis</td>\n      <td>Keinan Davis</td>\n      <td>2021-08-14</td>\n      <td>Aston Villa</td>\n      <td>NaN</td>\n      <td>NaN</td>\n      <td>0</td>\n      <td>NaN</td>\n      <td>0.000000</td>\n      <td>0</td>\n      <td>...</td>\n      <td>0.0</td>\n      <td>0.0</td>\n      <td>0</td>\n      <td>0</td>\n      <td>0</td>\n      <td>0</td>\n      <td>45</td>\n      <td>False</td>\n      <td>18</td>\n      <td>169789</td>\n    </tr>\n    <tr>\n      <th>2</th>\n      <td>Ayotomiwa Dele-Bashiru</td>\n      <td>NaN</td>\n      <td>2021-08-14</td>\n      <td>Watford</td>\n      <td>NaN</td>\n      <td>NaN</td>\n      <td>0</td>\n      <td>NaN</td>\n      <td>0.000000</td>\n      <td>0</td>\n      <td>...</td>\n      <td>0.0</td>\n      <td>0.0</td>\n      <td>0</td>\n      <td>0</td>\n      <td>0</td>\n      <td>0</td>\n      <td>45</td>\n      <td>True</td>\n      <td>2</td>\n      <td>4092</td>\n    </tr>\n    <tr>\n      <th>3</th>\n      <td>James Ward-Prowse</td>\n      <td>James Ward-Prowse</td>\n      <td>2021-08-14</td>\n      <td>Southampton</td>\n      <td>Southampton</td>\n      <td>Midfield</td>\n      <td>90</td>\n      <td>90.0</td>\n      <td>28.509599</td>\n      <td>0</td>\n      <td>...</td>\n      <td>30.5</td>\n      <td>0.0</td>\n      <td>2</td>\n      <td>0</td>\n      <td>0</td>\n      <td>0</td>\n      <td>65</td>\n      <td>False</td>\n      <td>8</td>\n      <td>299682</td>\n    </tr>\n    <tr>\n      <th>4</th>\n      <td>Bruno Miguel Borges Fernandes</td>\n      <td>Bruno Fernandes</td>\n      <td>2021-08-14</td>\n      <td>Manchester Utd</td>\n      <td>Manchester United</td>\n      <td>Midfield</td>\n      <td>90</td>\n      <td>90.0</td>\n      <td>51.721369</td>\n      <td>3</td>\n      <td>...</td>\n      <td>35.9</td>\n      <td>59.0</td>\n      <td>20</td>\n      <td>0</td>\n      <td>0</td>\n      <td>0</td>\n      <td>120</td>\n      <td>True</td>\n      <td>10</td>\n      <td>3381004</td>\n    </tr>\n    <tr>\n      <th>...</th>\n      <td>...</td>\n      <td>...</td>\n      <td>...</td>\n      <td>...</td>\n      <td>...</td>\n      <td>...</td>\n      <td>...</td>\n      <td>...</td>\n      <td>...</td>\n      <td>...</td>\n      <td>...</td>\n      <td>...</td>\n      <td>...</td>\n      <td>...</td>\n      <td>...</td>\n      <td>...</td>\n      <td>...</td>\n      <td>...</td>\n      <td>...</td>\n      <td>...</td>\n      <td>...</td>\n    </tr>\n    <tr>\n      <th>25442</th>\n      <td>Wilfred Ndidi</td>\n      <td>Wilfred Ndidi</td>\n      <td>2022-05-22</td>\n      <td>Leicester City</td>\n      <td>NaN</td>\n      <td>NaN</td>\n      <td>0</td>\n      <td>NaN</td>\n      <td>0.000000</td>\n      <td>0</td>\n      <td>...</td>\n      <td>0.0</td>\n      <td>0.0</td>\n      <td>0</td>\n      <td>-202</td>\n      <td>22</td>\n      <td>224</td>\n      <td>48</td>\n      <td>True</td>\n      <td>16</td>\n      <td>70366</td>\n    </tr>\n    <tr>\n      <th>25443</th>\n      <td>Matt Ritchie</td>\n      <td>Matt Ritchie</td>\n      <td>2022-05-22</td>\n      <td>Newcastle Utd</td>\n      <td>Newcastle United</td>\n      <td>Forward</td>\n      <td>1</td>\n      <td>2.0</td>\n      <td>4.998869</td>\n      <td>0</td>\n      <td>...</td>\n      <td>0.0</td>\n      <td>0.0</td>\n      <td>1</td>\n      <td>143</td>\n      <td>396</td>\n      <td>253</td>\n      <td>49</td>\n      <td>False</td>\n      <td>5</td>\n      <td>15999</td>\n    </tr>\n    <tr>\n      <th>25444</th>\n      <td>Nathan Redmond</td>\n      <td>Nathan Redmond</td>\n      <td>2022-05-22</td>\n      <td>Southampton</td>\n      <td>Southampton</td>\n      <td>Forward</td>\n      <td>82</td>\n      <td>82.0</td>\n      <td>19.069354</td>\n      <td>0</td>\n      <td>...</td>\n      <td>0.0</td>\n      <td>0.0</td>\n      <td>2</td>\n      <td>455</td>\n      <td>683</td>\n      <td>228</td>\n      <td>59</td>\n      <td>False</td>\n      <td>9</td>\n      <td>13856</td>\n    </tr>\n    <tr>\n      <th>25445</th>\n      <td>Mathew Ryan</td>\n      <td>NaN</td>\n      <td>2022-05-22</td>\n      <td>Brighton</td>\n      <td>NaN</td>\n      <td>NaN</td>\n      <td>0</td>\n      <td>NaN</td>\n      <td>0.000000</td>\n      <td>0</td>\n      <td>...</td>\n      <td>0.0</td>\n      <td>0.0</td>\n      <td>0</td>\n      <td>-2</td>\n      <td>0</td>\n      <td>2</td>\n      <td>45</td>\n      <td>True</td>\n      <td>19</td>\n      <td>587</td>\n    </tr>\n    <tr>\n      <th>25446</th>\n      <td>Ryan Fredericks</td>\n      <td>Ryan Fredericks</td>\n      <td>2022-05-22</td>\n      <td>West Ham</td>\n      <td>NaN</td>\n      <td>NaN</td>\n      <td>0</td>\n      <td>NaN</td>\n      <td>0.000000</td>\n      <td>0</td>\n      <td>...</td>\n      <td>0.0</td>\n      <td>0.0</td>\n      <td>0</td>\n      <td>36</td>\n      <td>103</td>\n      <td>67</td>\n      <td>44</td>\n      <td>False</td>\n      <td>4</td>\n      <td>8856</td>\n    </tr>\n  </tbody>\n</table>\n<p>25447 rows × 24 columns</p>\n</div>"
     },
     "execution_count": 26,
     "metadata": {},
     "output_type": "execute_result"
    }
   ],
   "source": [
    "#rename column names\n",
    "PL2021_total = PL2021_matched[['player_x','player_rating','date_x', 'team' ,'Team' ,'category', 'minutes_x' ,'minutes_y','Rating', 'bonus', 'bps', 'xP' ,'ict_index', 'influence', 'creativity','threat','total_points', 'transfers_balance', 'transfers_in', 'transfers_out', 'value', 'was_home', 'opponent_team', 'selected' ]]\n",
    "PL2021_total.rename(columns={\"player_x\": \"player_fl\",\"player_rating\": \"player\" ,\"date_x\": \"date\", \"Team\": \"team_rating\",\"team\":\"team\",  \"position_x\": \"position_fl\", \"minutes_x\": \"minutes_fl\",\"minutes_y\": \"minutes_rating\" ,\"Rating\": \"rating\"}, inplace=True)\n",
    "PL2021_total\n"
   ],
   "metadata": {
    "collapsed": false,
    "pycharm": {
     "name": "#%%\n"
    }
   }
  },
  {
   "cell_type": "code",
   "execution_count": 27,
   "outputs": [
    {
     "name": "stderr",
     "output_type": "stream",
     "text": [
      "C:\\Users\\giuli\\AppData\\Local\\Temp\\ipykernel_113232\\947323803.py:2: SettingWithCopyWarning: \n",
      "A value is trying to be set on a copy of a slice from a DataFrame.\n",
      "Try using .loc[row_indexer,col_indexer] = value instead\n",
      "\n",
      "See the caveats in the documentation: https://pandas.pydata.org/pandas-docs/stable/user_guide/indexing.html#returning-a-view-versus-a-copy\n",
      "  PL2021_total['player_ID'] = PL2021_total['player'].astype(str) + PL2021_total['team_rating'] + PL2021_total['date'].astype(str)\n",
      "C:\\Users\\giuli\\AppData\\Local\\Temp\\ipykernel_113232\\947323803.py:3: SettingWithCopyWarning: \n",
      "A value is trying to be set on a copy of a slice from a DataFrame.\n",
      "Try using .loc[row_indexer,col_indexer] = value instead\n",
      "\n",
      "See the caveats in the documentation: https://pandas.pydata.org/pandas-docs/stable/user_guide/indexing.html#returning-a-view-versus-a-copy\n",
      "  PL2021_total['game_ID'] = PL2021_total['team_rating'] + PL2021_total['date'].astype(str)\n"
     ]
    }
   ],
   "source": [
    "#generate game and player ID\n",
    "PL2021_total['player_ID'] = PL2021_total['player'].astype(str) + PL2021_total['team_rating'] + PL2021_total['date'].astype(str)\n",
    "PL2021_total['game_ID'] = PL2021_total['team_rating'] + PL2021_total['date'].astype(str)"
   ],
   "metadata": {
    "collapsed": false,
    "pycharm": {
     "name": "#%%\n"
    }
   }
  },
  {
   "cell_type": "code",
   "execution_count": 28,
   "outputs": [
    {
     "data": {
      "text/plain": "                           player_fl             player        date  \\\n0                        Eric Bailly        Eric Bailly  2021-08-14   \n1                       Keinan Davis       Keinan Davis  2021-08-14   \n2             Ayotomiwa Dele-Bashiru                NaN  2021-08-14   \n3                  James Ward-Prowse  James Ward-Prowse  2021-08-14   \n4      Bruno Miguel Borges Fernandes    Bruno Fernandes  2021-08-14   \n...                              ...                ...         ...   \n25442                  Wilfred Ndidi      Wilfred Ndidi  2022-05-22   \n25443                   Matt Ritchie       Matt Ritchie  2022-05-22   \n25444                 Nathan Redmond     Nathan Redmond  2022-05-22   \n25445                    Mathew Ryan                NaN  2022-05-22   \n25446                Ryan Fredericks    Ryan Fredericks  2022-05-22   \n\n                 team        team_rating  category  minutes_fl  \\\n0      Manchester Utd                NaN       NaN           0   \n1         Aston Villa                NaN       NaN           0   \n2             Watford                NaN       NaN           0   \n3         Southampton        Southampton  Midfield          90   \n4      Manchester Utd  Manchester United  Midfield          90   \n...               ...                ...       ...         ...   \n25442  Leicester City                NaN       NaN           0   \n25443   Newcastle Utd   Newcastle United   Forward           1   \n25444     Southampton        Southampton   Forward          82   \n25445        Brighton                NaN       NaN           0   \n25446        West Ham                NaN       NaN           0   \n\n       minutes_rating     rating  bonus  ...  total_points  transfers_balance  \\\n0                 NaN   0.000000      0  ...             0                  0   \n1                 NaN   0.000000      0  ...             0                  0   \n2                 NaN   0.000000      0  ...             0                  0   \n3                90.0  28.509599      0  ...             2                  0   \n4                90.0  51.721369      3  ...            20                  0   \n...               ...        ...    ...  ...           ...                ...   \n25442             NaN   0.000000      0  ...             0               -202   \n25443             2.0   4.998869      0  ...             1                143   \n25444            82.0  19.069354      0  ...             2                455   \n25445             NaN   0.000000      0  ...             0                 -2   \n25446             NaN   0.000000      0  ...             0                 36   \n\n       transfers_in  transfers_out  value  was_home  opponent_team  selected  \\\n0                 0              0     50      True             10      9363   \n1                 0              0     45     False             18    169789   \n2                 0              0     45      True              2      4092   \n3                 0              0     65     False              8    299682   \n4                 0              0    120      True             10   3381004   \n...             ...            ...    ...       ...            ...       ...   \n25442            22            224     48      True             16     70366   \n25443           396            253     49     False              5     15999   \n25444           683            228     59     False              9     13856   \n25445             0              2     45      True             19       587   \n25446           103             67     44     False              4      8856   \n\n                                        player_ID                      game_ID  \n0                                             NaN                          NaN  \n1                                             NaN                          NaN  \n2                                             NaN                          NaN  \n3          James Ward-ProwseSouthampton2021-08-14        Southampton2021-08-14  \n4      Bruno FernandesManchester United2021-08-14  Manchester United2021-08-14  \n...                                           ...                          ...  \n25442                                         NaN                          NaN  \n25443      Matt RitchieNewcastle United2022-05-22   Newcastle United2022-05-22  \n25444         Nathan RedmondSouthampton2022-05-22        Southampton2022-05-22  \n25445                                         NaN                          NaN  \n25446                                         NaN                          NaN  \n\n[25447 rows x 26 columns]",
      "text/html": "<div>\n<style scoped>\n    .dataframe tbody tr th:only-of-type {\n        vertical-align: middle;\n    }\n\n    .dataframe tbody tr th {\n        vertical-align: top;\n    }\n\n    .dataframe thead th {\n        text-align: right;\n    }\n</style>\n<table border=\"1\" class=\"dataframe\">\n  <thead>\n    <tr style=\"text-align: right;\">\n      <th></th>\n      <th>player_fl</th>\n      <th>player</th>\n      <th>date</th>\n      <th>team</th>\n      <th>team_rating</th>\n      <th>category</th>\n      <th>minutes_fl</th>\n      <th>minutes_rating</th>\n      <th>rating</th>\n      <th>bonus</th>\n      <th>...</th>\n      <th>total_points</th>\n      <th>transfers_balance</th>\n      <th>transfers_in</th>\n      <th>transfers_out</th>\n      <th>value</th>\n      <th>was_home</th>\n      <th>opponent_team</th>\n      <th>selected</th>\n      <th>player_ID</th>\n      <th>game_ID</th>\n    </tr>\n  </thead>\n  <tbody>\n    <tr>\n      <th>0</th>\n      <td>Eric Bailly</td>\n      <td>Eric Bailly</td>\n      <td>2021-08-14</td>\n      <td>Manchester Utd</td>\n      <td>NaN</td>\n      <td>NaN</td>\n      <td>0</td>\n      <td>NaN</td>\n      <td>0.000000</td>\n      <td>0</td>\n      <td>...</td>\n      <td>0</td>\n      <td>0</td>\n      <td>0</td>\n      <td>0</td>\n      <td>50</td>\n      <td>True</td>\n      <td>10</td>\n      <td>9363</td>\n      <td>NaN</td>\n      <td>NaN</td>\n    </tr>\n    <tr>\n      <th>1</th>\n      <td>Keinan Davis</td>\n      <td>Keinan Davis</td>\n      <td>2021-08-14</td>\n      <td>Aston Villa</td>\n      <td>NaN</td>\n      <td>NaN</td>\n      <td>0</td>\n      <td>NaN</td>\n      <td>0.000000</td>\n      <td>0</td>\n      <td>...</td>\n      <td>0</td>\n      <td>0</td>\n      <td>0</td>\n      <td>0</td>\n      <td>45</td>\n      <td>False</td>\n      <td>18</td>\n      <td>169789</td>\n      <td>NaN</td>\n      <td>NaN</td>\n    </tr>\n    <tr>\n      <th>2</th>\n      <td>Ayotomiwa Dele-Bashiru</td>\n      <td>NaN</td>\n      <td>2021-08-14</td>\n      <td>Watford</td>\n      <td>NaN</td>\n      <td>NaN</td>\n      <td>0</td>\n      <td>NaN</td>\n      <td>0.000000</td>\n      <td>0</td>\n      <td>...</td>\n      <td>0</td>\n      <td>0</td>\n      <td>0</td>\n      <td>0</td>\n      <td>45</td>\n      <td>True</td>\n      <td>2</td>\n      <td>4092</td>\n      <td>NaN</td>\n      <td>NaN</td>\n    </tr>\n    <tr>\n      <th>3</th>\n      <td>James Ward-Prowse</td>\n      <td>James Ward-Prowse</td>\n      <td>2021-08-14</td>\n      <td>Southampton</td>\n      <td>Southampton</td>\n      <td>Midfield</td>\n      <td>90</td>\n      <td>90.0</td>\n      <td>28.509599</td>\n      <td>0</td>\n      <td>...</td>\n      <td>2</td>\n      <td>0</td>\n      <td>0</td>\n      <td>0</td>\n      <td>65</td>\n      <td>False</td>\n      <td>8</td>\n      <td>299682</td>\n      <td>James Ward-ProwseSouthampton2021-08-14</td>\n      <td>Southampton2021-08-14</td>\n    </tr>\n    <tr>\n      <th>4</th>\n      <td>Bruno Miguel Borges Fernandes</td>\n      <td>Bruno Fernandes</td>\n      <td>2021-08-14</td>\n      <td>Manchester Utd</td>\n      <td>Manchester United</td>\n      <td>Midfield</td>\n      <td>90</td>\n      <td>90.0</td>\n      <td>51.721369</td>\n      <td>3</td>\n      <td>...</td>\n      <td>20</td>\n      <td>0</td>\n      <td>0</td>\n      <td>0</td>\n      <td>120</td>\n      <td>True</td>\n      <td>10</td>\n      <td>3381004</td>\n      <td>Bruno FernandesManchester United2021-08-14</td>\n      <td>Manchester United2021-08-14</td>\n    </tr>\n    <tr>\n      <th>...</th>\n      <td>...</td>\n      <td>...</td>\n      <td>...</td>\n      <td>...</td>\n      <td>...</td>\n      <td>...</td>\n      <td>...</td>\n      <td>...</td>\n      <td>...</td>\n      <td>...</td>\n      <td>...</td>\n      <td>...</td>\n      <td>...</td>\n      <td>...</td>\n      <td>...</td>\n      <td>...</td>\n      <td>...</td>\n      <td>...</td>\n      <td>...</td>\n      <td>...</td>\n      <td>...</td>\n    </tr>\n    <tr>\n      <th>25442</th>\n      <td>Wilfred Ndidi</td>\n      <td>Wilfred Ndidi</td>\n      <td>2022-05-22</td>\n      <td>Leicester City</td>\n      <td>NaN</td>\n      <td>NaN</td>\n      <td>0</td>\n      <td>NaN</td>\n      <td>0.000000</td>\n      <td>0</td>\n      <td>...</td>\n      <td>0</td>\n      <td>-202</td>\n      <td>22</td>\n      <td>224</td>\n      <td>48</td>\n      <td>True</td>\n      <td>16</td>\n      <td>70366</td>\n      <td>NaN</td>\n      <td>NaN</td>\n    </tr>\n    <tr>\n      <th>25443</th>\n      <td>Matt Ritchie</td>\n      <td>Matt Ritchie</td>\n      <td>2022-05-22</td>\n      <td>Newcastle Utd</td>\n      <td>Newcastle United</td>\n      <td>Forward</td>\n      <td>1</td>\n      <td>2.0</td>\n      <td>4.998869</td>\n      <td>0</td>\n      <td>...</td>\n      <td>1</td>\n      <td>143</td>\n      <td>396</td>\n      <td>253</td>\n      <td>49</td>\n      <td>False</td>\n      <td>5</td>\n      <td>15999</td>\n      <td>Matt RitchieNewcastle United2022-05-22</td>\n      <td>Newcastle United2022-05-22</td>\n    </tr>\n    <tr>\n      <th>25444</th>\n      <td>Nathan Redmond</td>\n      <td>Nathan Redmond</td>\n      <td>2022-05-22</td>\n      <td>Southampton</td>\n      <td>Southampton</td>\n      <td>Forward</td>\n      <td>82</td>\n      <td>82.0</td>\n      <td>19.069354</td>\n      <td>0</td>\n      <td>...</td>\n      <td>2</td>\n      <td>455</td>\n      <td>683</td>\n      <td>228</td>\n      <td>59</td>\n      <td>False</td>\n      <td>9</td>\n      <td>13856</td>\n      <td>Nathan RedmondSouthampton2022-05-22</td>\n      <td>Southampton2022-05-22</td>\n    </tr>\n    <tr>\n      <th>25445</th>\n      <td>Mathew Ryan</td>\n      <td>NaN</td>\n      <td>2022-05-22</td>\n      <td>Brighton</td>\n      <td>NaN</td>\n      <td>NaN</td>\n      <td>0</td>\n      <td>NaN</td>\n      <td>0.000000</td>\n      <td>0</td>\n      <td>...</td>\n      <td>0</td>\n      <td>-2</td>\n      <td>0</td>\n      <td>2</td>\n      <td>45</td>\n      <td>True</td>\n      <td>19</td>\n      <td>587</td>\n      <td>NaN</td>\n      <td>NaN</td>\n    </tr>\n    <tr>\n      <th>25446</th>\n      <td>Ryan Fredericks</td>\n      <td>Ryan Fredericks</td>\n      <td>2022-05-22</td>\n      <td>West Ham</td>\n      <td>NaN</td>\n      <td>NaN</td>\n      <td>0</td>\n      <td>NaN</td>\n      <td>0.000000</td>\n      <td>0</td>\n      <td>...</td>\n      <td>0</td>\n      <td>36</td>\n      <td>103</td>\n      <td>67</td>\n      <td>44</td>\n      <td>False</td>\n      <td>4</td>\n      <td>8856</td>\n      <td>NaN</td>\n      <td>NaN</td>\n    </tr>\n  </tbody>\n</table>\n<p>25447 rows × 26 columns</p>\n</div>"
     },
     "execution_count": 28,
     "metadata": {},
     "output_type": "execute_result"
    }
   ],
   "source": [
    "PL2021_total"
   ],
   "metadata": {
    "collapsed": false,
    "pycharm": {
     "name": "#%%\n"
    }
   }
  },
  {
   "cell_type": "code",
   "execution_count": 29,
   "outputs": [],
   "source": [
    "#export player dataframe including fantasy league values and calculated ratings\n",
    "#PL2021_total.to_csv('Data/2021-22/Players/PL2021_total.csv')"
   ],
   "metadata": {
    "collapsed": false,
    "pycharm": {
     "name": "#%%\n"
    }
   }
  }
 ],
 "metadata": {
  "kernelspec": {
   "display_name": "Python 3",
   "language": "python",
   "name": "python3"
  },
  "language_info": {
   "codemirror_mode": {
    "name": "ipython",
    "version": 2
   },
   "file_extension": ".py",
   "mimetype": "text/x-python",
   "name": "python",
   "nbconvert_exporter": "python",
   "pygments_lexer": "ipython2",
   "version": "2.7.6"
  }
 },
 "nbformat": 4,
 "nbformat_minor": 0
}