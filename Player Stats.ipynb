{
 "cells": [
  {
   "cell_type": "code",
   "execution_count": 1,
   "metadata": {
    "collapsed": true
   },
   "outputs": [],
   "source": [
    "#import necessary packages\n",
    "import pandas as pd\n",
    "import numpy as np\n",
    "from sklearn.ensemble import RandomForestClassifier\n",
    "import xgboost as xgb\n",
    "from sklearn.model_selection import train_test_split\n",
    "import time\n",
    "import matplotlib.pyplot as plt\n",
    "from sklearn.feature_selection import SelectFromModel\n",
    "from sklearn.feature_selection import SelectKBest, f_classif, chi2, f_regression"
   ]
  },
  {
   "cell_type": "code",
   "execution_count": 2,
   "outputs": [],
   "source": [
    "#import data\n",
    "#2019_20\n",
    "PL19_20_fixtures = pd.read_csv('Data/2019-20/Fixtures/PL19_20_features.csv')\n",
    "PL19_20_lineups = pd.read_csv('Data/2019-20/Players/PL2019_lineups.csv')\n",
    "PL19_20_player_stats = pd.read_csv('Data/2019-20/Players/PL2019_total.csv')\n",
    "PL19_20_lineups['player_id'] = PL19_20_lineups['player'] + PL19_20_lineups['team'] + PL19_20_lineups['date'].astype(str)\n",
    "PL19_20_lineups['game_id'] = PL19_20_lineups['team'] + PL19_20_lineups['date'].astype(str)\n",
    "PL19_20_lineups\n",
    "PL19_20_player_stats = PL19_20_player_stats.rename(columns={'player_ID':'player_id','game_ID':'game_id'})\n",
    "#2020_21\n",
    "PL20_21_fixtures = pd.read_csv('Data/2020-21/Fixtures/PL20_21_features.csv')\n",
    "PL20_21_lineups = pd.read_csv('Data/2020-21/Players/PL2020_lineups.csv')\n",
    "PL20_21_player_stats = pd.read_csv('Data/2020-21/Players/PL2020_total.csv')\n",
    "PL20_21_lineups['player_id'] = PL20_21_lineups['player'] + PL20_21_lineups['team'] + PL20_21_lineups['date'].astype(str)\n",
    "PL20_21_lineups['game_id'] = PL20_21_lineups['team'] + PL20_21_lineups['date'].astype(str)\n",
    "PL20_21_lineups\n",
    "PL20_21_player_stats = PL20_21_player_stats.rename(columns={'player_ID':'player_id','game_ID':'game_id'})\n",
    "#2021_22\n",
    "PL21_22_fixtures = pd.read_csv('Data/2021-22/Fixtures/PL21_22_features.csv')\n",
    "PL21_22_lineups = pd.read_csv('Data/2021-22/Players/PL2021_lineups.csv')\n",
    "PL21_22_player_stats = pd.read_csv('Data/2021-22/Players/PL2021_total.csv')\n",
    "PL21_22_lineups['player_id'] = PL21_22_lineups['player'] + PL21_22_lineups['team'] + PL21_22_lineups['date'].astype(str)\n",
    "PL21_22_lineups['game_id'] = PL21_22_lineups['team'] + PL21_22_lineups['date'].astype(str)\n",
    "PL21_22_lineups\n",
    "PL21_22_player_stats = PL21_22_player_stats.rename(columns={'player_ID':'player_id','game_ID':'game_id'})\n"
   ],
   "metadata": {
    "collapsed": false,
    "pycharm": {
     "name": "#%%\n"
    }
   }
  },
  {
   "cell_type": "code",
   "execution_count": 3,
   "outputs": [
    {
     "data": {
      "text/plain": "       Unnamed: 0             player_fl              player        date  \\\n0               0        Aaron Connolly      Aaron Connolly  2020-09-14   \n1               1       Aaron Cresswell     Aaron Cresswell  2020-09-12   \n2               2            Aaron Mooy                   0  2020-09-14   \n3               3        Aaron Ramsdale      Aaron Ramsdale  2020-09-14   \n4               4    Abdoulaye Doucouré  Abdoulaye Doucouré  2020-09-13   \n...           ...                   ...                 ...         ...   \n24376       24376        Aaron Ramsdale      Aaron Ramsdale  2021-05-23   \n24377       24377          Adrien Silva                   0  2021-05-23   \n24378       24378        Sidnei Tavares      Sidnei Tavares  2021-05-23   \n24379       24379       Kalvin Phillips     Kalvin Phillips  2021-05-23   \n24380       24380  Raphael Dias Belloli            Raphinha  2021-05-23   \n\n                         team             team_rating    category position_fl  \\\n0      Brighton & Hove Albion  Brighton & Hove Albion     Forward         FWD   \n1             West Ham United         West Ham United    Defender         DEF   \n2      Brighton & Hove Albion                     NaN         NaN         MID   \n3            Sheffield United        Sheffield United  Goalkeeper          GK   \n4                     Everton                 Everton    Midfield         MID   \n...                       ...                     ...         ...         ...   \n24376        Sheffield United        Sheffield United  Goalkeeper          GK   \n24377          Leicester City                     NaN         NaN         MID   \n24378          Leicester City                     NaN         NaN         MID   \n24379            Leeds United            Leeds United    Midfield         MID   \n24380            Leeds United            Leeds United    Defender         MID   \n\n       minutes_fl  minutes_rating  ...  total_points  transfers_balance  \\\n0              45            46.0  ...             1                  0   \n1              90            90.0  ...             1                  0   \n2               0             NaN  ...             0                  0   \n3              90            90.0  ...             1                  0   \n4              90            90.0  ...             3                  0   \n...           ...             ...  ...           ...                ...   \n24376          90            90.0  ...             9              13618   \n24377           0             NaN  ...             0                -16   \n24378           0             NaN  ...             0                 32   \n24379          90            90.0  ...             6                210   \n24380          90            90.0  ...             5             124979   \n\n       transfers_in  transfers_out  value  was_home  opponent_team  selected  \\\n0                 0              0     55      True              5     32205   \n1                 0              0     50      True             14     70232   \n2                 0              0     50      True              5      2010   \n3                 0              0     50      True             20    462939   \n4                 0              0     55     False             17    143040   \n...             ...            ...    ...       ...            ...       ...   \n24376         17381           3763     46      True              4    162985   \n24377             0             16     44      True             17     16396   \n24378            60             28     44      True             17       337   \n24379           789            579     49      True             18     74008   \n24380        142069          17090     56      True             18    780314   \n\n                                            player_id  \\\n0      Aaron ConnollyBrighton & Hove Albion2020-09-14   \n1            Aaron CresswellWest Ham United2020-09-12   \n2                   0Brighton & Hove Albion2020-09-14   \n3            Aaron RamsdaleSheffield United2020-09-14   \n4                 Abdoulaye DoucouréEverton2020-09-13   \n...                                               ...   \n24376        Aaron RamsdaleSheffield United2021-05-23   \n24377                       0Leicester City2021-05-23   \n24378          Sidnei TavaresLeicester City2021-05-23   \n24379           Kalvin PhillipsLeeds United2021-05-23   \n24380                  RaphinhaLeeds United2021-05-23   \n\n                                game_id  \n0      Brighton & Hove Albion2020-09-14  \n1             West Ham United2020-09-12  \n2      Brighton & Hove Albion2020-09-14  \n3            Sheffield United2020-09-14  \n4                     Everton2020-09-13  \n...                                 ...  \n24376        Sheffield United2021-05-23  \n24377          Leicester City2021-05-23  \n24378          Leicester City2021-05-23  \n24379            Leeds United2021-05-23  \n24380            Leeds United2021-05-23  \n\n[24381 rows x 28 columns]",
      "text/html": "<div>\n<style scoped>\n    .dataframe tbody tr th:only-of-type {\n        vertical-align: middle;\n    }\n\n    .dataframe tbody tr th {\n        vertical-align: top;\n    }\n\n    .dataframe thead th {\n        text-align: right;\n    }\n</style>\n<table border=\"1\" class=\"dataframe\">\n  <thead>\n    <tr style=\"text-align: right;\">\n      <th></th>\n      <th>Unnamed: 0</th>\n      <th>player_fl</th>\n      <th>player</th>\n      <th>date</th>\n      <th>team</th>\n      <th>team_rating</th>\n      <th>category</th>\n      <th>position_fl</th>\n      <th>minutes_fl</th>\n      <th>minutes_rating</th>\n      <th>...</th>\n      <th>total_points</th>\n      <th>transfers_balance</th>\n      <th>transfers_in</th>\n      <th>transfers_out</th>\n      <th>value</th>\n      <th>was_home</th>\n      <th>opponent_team</th>\n      <th>selected</th>\n      <th>player_id</th>\n      <th>game_id</th>\n    </tr>\n  </thead>\n  <tbody>\n    <tr>\n      <th>0</th>\n      <td>0</td>\n      <td>Aaron Connolly</td>\n      <td>Aaron Connolly</td>\n      <td>2020-09-14</td>\n      <td>Brighton &amp; Hove Albion</td>\n      <td>Brighton &amp; Hove Albion</td>\n      <td>Forward</td>\n      <td>FWD</td>\n      <td>45</td>\n      <td>46.0</td>\n      <td>...</td>\n      <td>1</td>\n      <td>0</td>\n      <td>0</td>\n      <td>0</td>\n      <td>55</td>\n      <td>True</td>\n      <td>5</td>\n      <td>32205</td>\n      <td>Aaron ConnollyBrighton &amp; Hove Albion2020-09-14</td>\n      <td>Brighton &amp; Hove Albion2020-09-14</td>\n    </tr>\n    <tr>\n      <th>1</th>\n      <td>1</td>\n      <td>Aaron Cresswell</td>\n      <td>Aaron Cresswell</td>\n      <td>2020-09-12</td>\n      <td>West Ham United</td>\n      <td>West Ham United</td>\n      <td>Defender</td>\n      <td>DEF</td>\n      <td>90</td>\n      <td>90.0</td>\n      <td>...</td>\n      <td>1</td>\n      <td>0</td>\n      <td>0</td>\n      <td>0</td>\n      <td>50</td>\n      <td>True</td>\n      <td>14</td>\n      <td>70232</td>\n      <td>Aaron CresswellWest Ham United2020-09-12</td>\n      <td>West Ham United2020-09-12</td>\n    </tr>\n    <tr>\n      <th>2</th>\n      <td>2</td>\n      <td>Aaron Mooy</td>\n      <td>0</td>\n      <td>2020-09-14</td>\n      <td>Brighton &amp; Hove Albion</td>\n      <td>NaN</td>\n      <td>NaN</td>\n      <td>MID</td>\n      <td>0</td>\n      <td>NaN</td>\n      <td>...</td>\n      <td>0</td>\n      <td>0</td>\n      <td>0</td>\n      <td>0</td>\n      <td>50</td>\n      <td>True</td>\n      <td>5</td>\n      <td>2010</td>\n      <td>0Brighton &amp; Hove Albion2020-09-14</td>\n      <td>Brighton &amp; Hove Albion2020-09-14</td>\n    </tr>\n    <tr>\n      <th>3</th>\n      <td>3</td>\n      <td>Aaron Ramsdale</td>\n      <td>Aaron Ramsdale</td>\n      <td>2020-09-14</td>\n      <td>Sheffield United</td>\n      <td>Sheffield United</td>\n      <td>Goalkeeper</td>\n      <td>GK</td>\n      <td>90</td>\n      <td>90.0</td>\n      <td>...</td>\n      <td>1</td>\n      <td>0</td>\n      <td>0</td>\n      <td>0</td>\n      <td>50</td>\n      <td>True</td>\n      <td>20</td>\n      <td>462939</td>\n      <td>Aaron RamsdaleSheffield United2020-09-14</td>\n      <td>Sheffield United2020-09-14</td>\n    </tr>\n    <tr>\n      <th>4</th>\n      <td>4</td>\n      <td>Abdoulaye Doucouré</td>\n      <td>Abdoulaye Doucouré</td>\n      <td>2020-09-13</td>\n      <td>Everton</td>\n      <td>Everton</td>\n      <td>Midfield</td>\n      <td>MID</td>\n      <td>90</td>\n      <td>90.0</td>\n      <td>...</td>\n      <td>3</td>\n      <td>0</td>\n      <td>0</td>\n      <td>0</td>\n      <td>55</td>\n      <td>False</td>\n      <td>17</td>\n      <td>143040</td>\n      <td>Abdoulaye DoucouréEverton2020-09-13</td>\n      <td>Everton2020-09-13</td>\n    </tr>\n    <tr>\n      <th>...</th>\n      <td>...</td>\n      <td>...</td>\n      <td>...</td>\n      <td>...</td>\n      <td>...</td>\n      <td>...</td>\n      <td>...</td>\n      <td>...</td>\n      <td>...</td>\n      <td>...</td>\n      <td>...</td>\n      <td>...</td>\n      <td>...</td>\n      <td>...</td>\n      <td>...</td>\n      <td>...</td>\n      <td>...</td>\n      <td>...</td>\n      <td>...</td>\n      <td>...</td>\n      <td>...</td>\n    </tr>\n    <tr>\n      <th>24376</th>\n      <td>24376</td>\n      <td>Aaron Ramsdale</td>\n      <td>Aaron Ramsdale</td>\n      <td>2021-05-23</td>\n      <td>Sheffield United</td>\n      <td>Sheffield United</td>\n      <td>Goalkeeper</td>\n      <td>GK</td>\n      <td>90</td>\n      <td>90.0</td>\n      <td>...</td>\n      <td>9</td>\n      <td>13618</td>\n      <td>17381</td>\n      <td>3763</td>\n      <td>46</td>\n      <td>True</td>\n      <td>4</td>\n      <td>162985</td>\n      <td>Aaron RamsdaleSheffield United2021-05-23</td>\n      <td>Sheffield United2021-05-23</td>\n    </tr>\n    <tr>\n      <th>24377</th>\n      <td>24377</td>\n      <td>Adrien Silva</td>\n      <td>0</td>\n      <td>2021-05-23</td>\n      <td>Leicester City</td>\n      <td>NaN</td>\n      <td>NaN</td>\n      <td>MID</td>\n      <td>0</td>\n      <td>NaN</td>\n      <td>...</td>\n      <td>0</td>\n      <td>-16</td>\n      <td>0</td>\n      <td>16</td>\n      <td>44</td>\n      <td>True</td>\n      <td>17</td>\n      <td>16396</td>\n      <td>0Leicester City2021-05-23</td>\n      <td>Leicester City2021-05-23</td>\n    </tr>\n    <tr>\n      <th>24378</th>\n      <td>24378</td>\n      <td>Sidnei Tavares</td>\n      <td>Sidnei Tavares</td>\n      <td>2021-05-23</td>\n      <td>Leicester City</td>\n      <td>NaN</td>\n      <td>NaN</td>\n      <td>MID</td>\n      <td>0</td>\n      <td>NaN</td>\n      <td>...</td>\n      <td>0</td>\n      <td>32</td>\n      <td>60</td>\n      <td>28</td>\n      <td>44</td>\n      <td>True</td>\n      <td>17</td>\n      <td>337</td>\n      <td>Sidnei TavaresLeicester City2021-05-23</td>\n      <td>Leicester City2021-05-23</td>\n    </tr>\n    <tr>\n      <th>24379</th>\n      <td>24379</td>\n      <td>Kalvin Phillips</td>\n      <td>Kalvin Phillips</td>\n      <td>2021-05-23</td>\n      <td>Leeds United</td>\n      <td>Leeds United</td>\n      <td>Midfield</td>\n      <td>MID</td>\n      <td>90</td>\n      <td>90.0</td>\n      <td>...</td>\n      <td>6</td>\n      <td>210</td>\n      <td>789</td>\n      <td>579</td>\n      <td>49</td>\n      <td>True</td>\n      <td>18</td>\n      <td>74008</td>\n      <td>Kalvin PhillipsLeeds United2021-05-23</td>\n      <td>Leeds United2021-05-23</td>\n    </tr>\n    <tr>\n      <th>24380</th>\n      <td>24380</td>\n      <td>Raphael Dias Belloli</td>\n      <td>Raphinha</td>\n      <td>2021-05-23</td>\n      <td>Leeds United</td>\n      <td>Leeds United</td>\n      <td>Defender</td>\n      <td>MID</td>\n      <td>90</td>\n      <td>90.0</td>\n      <td>...</td>\n      <td>5</td>\n      <td>124979</td>\n      <td>142069</td>\n      <td>17090</td>\n      <td>56</td>\n      <td>True</td>\n      <td>18</td>\n      <td>780314</td>\n      <td>RaphinhaLeeds United2021-05-23</td>\n      <td>Leeds United2021-05-23</td>\n    </tr>\n  </tbody>\n</table>\n<p>24381 rows × 28 columns</p>\n</div>"
     },
     "execution_count": 3,
     "metadata": {},
     "output_type": "execute_result"
    }
   ],
   "source": [
    "PL20_21_player_stats"
   ],
   "metadata": {
    "collapsed": false,
    "pycharm": {
     "name": "#%%\n"
    }
   }
  },
  {
   "cell_type": "code",
   "execution_count": 4,
   "outputs": [
    {
     "data": {
      "text/plain": "     Unnamed: 0 Div        Date   Time                 HomeTeam  \\\n0             0  E0  2020-09-12  12:30                   Fulham   \n1             1  E0  2020-09-12  15:00           Crystal Palace   \n2             2  E0  2020-09-12  17:30                Liverpool   \n3             3  E0  2020-09-12  20:00          West Ham United   \n4             4  E0  2020-09-13  14:00     West Bromwich Albion   \n..          ...  ..         ...    ...                      ...   \n375         375  E0  2021-05-23  16:00                Liverpool   \n376         376  E0  2021-05-23  16:00          Manchester City   \n377         377  E0  2021-05-23  16:00         Sheffield United   \n378         378  E0  2021-05-23  16:00          West Ham United   \n379         379  E0  2021-05-23  16:00  Wolverhampton Wanderers   \n\n              AwayTeam  FTHG  FTAG FTR  HTHG  ...  Elo_h_after Elo_a_after  \\\n0              Arsenal     0     3   A     0  ...      1485.00     1515.00   \n1          Southampton     1     0   H     1  ...      1515.00     1485.00   \n2         Leeds United     4     3   H     3  ...      1515.00     1485.00   \n3     Newcastle United     0     2   A     0  ...      1485.00     1515.00   \n4       Leicester City     0     3   A     0  ...      1485.00     1515.00   \n..                 ...   ...   ...  ..   ...  ...          ...         ...   \n375     Crystal Palace     2     0   H     1  ...      1591.89     1439.73   \n376            Everton     5     0   H     2  ...      1659.36     1508.70   \n377            Burnley     1     0   H     1  ...      1358.16     1420.86   \n378        Southampton     3     0   H     2  ...      1560.00     1420.08   \n379  Manchester United     1     2   A     1  ...      1443.72     1611.60   \n\n    Elo_h_before  Elo_a_before  goalsDifference  shotsDifference  \\\n0        1500.00       1500.00         0.000000         0.000000   \n1        1500.00       1500.00         0.000000         0.000000   \n2        1500.00       1500.00         0.000000         0.000000   \n3        1500.00       1500.00         0.000000         0.000000   \n4        1500.00       1500.00         0.000000         0.000000   \n..           ...           ...              ...              ...   \n375      1582.38       1449.24         2.500000        16.500000   \n376      1649.79       1518.27         2.166667         1.666667   \n377      1338.90       1440.12        -4.833333        -8.333333   \n378      1549.98       1430.10         2.833333        -3.500000   \n379      1452.60       1602.72        -4.666667        -5.500000   \n\n     cornersDifference  ewmDifference  elo_difference  form_difference  \n0             0.000000       0.000000            0.00         0.000000  \n1             0.000000       0.000000            0.00         0.000000  \n2             0.000000       0.000000            0.00         0.000000  \n3             0.000000       0.000000            0.00         0.000000  \n4             0.000000       0.000000            0.00         0.000000  \n..                 ...            ...             ...              ...  \n375          12.833333      19.313782          133.14         5.500000  \n376           6.000000      24.719180          131.52         1.666667  \n377         -12.500000     -19.400129         -101.22        -0.500000  \n378          -6.666667      18.155503          119.88         2.500000  \n379          -2.000000     -25.615866         -150.12        -0.666667  \n\n[380 rows x 134 columns]",
      "text/html": "<div>\n<style scoped>\n    .dataframe tbody tr th:only-of-type {\n        vertical-align: middle;\n    }\n\n    .dataframe tbody tr th {\n        vertical-align: top;\n    }\n\n    .dataframe thead th {\n        text-align: right;\n    }\n</style>\n<table border=\"1\" class=\"dataframe\">\n  <thead>\n    <tr style=\"text-align: right;\">\n      <th></th>\n      <th>Unnamed: 0</th>\n      <th>Div</th>\n      <th>Date</th>\n      <th>Time</th>\n      <th>HomeTeam</th>\n      <th>AwayTeam</th>\n      <th>FTHG</th>\n      <th>FTAG</th>\n      <th>FTR</th>\n      <th>HTHG</th>\n      <th>...</th>\n      <th>Elo_h_after</th>\n      <th>Elo_a_after</th>\n      <th>Elo_h_before</th>\n      <th>Elo_a_before</th>\n      <th>goalsDifference</th>\n      <th>shotsDifference</th>\n      <th>cornersDifference</th>\n      <th>ewmDifference</th>\n      <th>elo_difference</th>\n      <th>form_difference</th>\n    </tr>\n  </thead>\n  <tbody>\n    <tr>\n      <th>0</th>\n      <td>0</td>\n      <td>E0</td>\n      <td>2020-09-12</td>\n      <td>12:30</td>\n      <td>Fulham</td>\n      <td>Arsenal</td>\n      <td>0</td>\n      <td>3</td>\n      <td>A</td>\n      <td>0</td>\n      <td>...</td>\n      <td>1485.00</td>\n      <td>1515.00</td>\n      <td>1500.00</td>\n      <td>1500.00</td>\n      <td>0.000000</td>\n      <td>0.000000</td>\n      <td>0.000000</td>\n      <td>0.000000</td>\n      <td>0.00</td>\n      <td>0.000000</td>\n    </tr>\n    <tr>\n      <th>1</th>\n      <td>1</td>\n      <td>E0</td>\n      <td>2020-09-12</td>\n      <td>15:00</td>\n      <td>Crystal Palace</td>\n      <td>Southampton</td>\n      <td>1</td>\n      <td>0</td>\n      <td>H</td>\n      <td>1</td>\n      <td>...</td>\n      <td>1515.00</td>\n      <td>1485.00</td>\n      <td>1500.00</td>\n      <td>1500.00</td>\n      <td>0.000000</td>\n      <td>0.000000</td>\n      <td>0.000000</td>\n      <td>0.000000</td>\n      <td>0.00</td>\n      <td>0.000000</td>\n    </tr>\n    <tr>\n      <th>2</th>\n      <td>2</td>\n      <td>E0</td>\n      <td>2020-09-12</td>\n      <td>17:30</td>\n      <td>Liverpool</td>\n      <td>Leeds United</td>\n      <td>4</td>\n      <td>3</td>\n      <td>H</td>\n      <td>3</td>\n      <td>...</td>\n      <td>1515.00</td>\n      <td>1485.00</td>\n      <td>1500.00</td>\n      <td>1500.00</td>\n      <td>0.000000</td>\n      <td>0.000000</td>\n      <td>0.000000</td>\n      <td>0.000000</td>\n      <td>0.00</td>\n      <td>0.000000</td>\n    </tr>\n    <tr>\n      <th>3</th>\n      <td>3</td>\n      <td>E0</td>\n      <td>2020-09-12</td>\n      <td>20:00</td>\n      <td>West Ham United</td>\n      <td>Newcastle United</td>\n      <td>0</td>\n      <td>2</td>\n      <td>A</td>\n      <td>0</td>\n      <td>...</td>\n      <td>1485.00</td>\n      <td>1515.00</td>\n      <td>1500.00</td>\n      <td>1500.00</td>\n      <td>0.000000</td>\n      <td>0.000000</td>\n      <td>0.000000</td>\n      <td>0.000000</td>\n      <td>0.00</td>\n      <td>0.000000</td>\n    </tr>\n    <tr>\n      <th>4</th>\n      <td>4</td>\n      <td>E0</td>\n      <td>2020-09-13</td>\n      <td>14:00</td>\n      <td>West Bromwich Albion</td>\n      <td>Leicester City</td>\n      <td>0</td>\n      <td>3</td>\n      <td>A</td>\n      <td>0</td>\n      <td>...</td>\n      <td>1485.00</td>\n      <td>1515.00</td>\n      <td>1500.00</td>\n      <td>1500.00</td>\n      <td>0.000000</td>\n      <td>0.000000</td>\n      <td>0.000000</td>\n      <td>0.000000</td>\n      <td>0.00</td>\n      <td>0.000000</td>\n    </tr>\n    <tr>\n      <th>...</th>\n      <td>...</td>\n      <td>...</td>\n      <td>...</td>\n      <td>...</td>\n      <td>...</td>\n      <td>...</td>\n      <td>...</td>\n      <td>...</td>\n      <td>...</td>\n      <td>...</td>\n      <td>...</td>\n      <td>...</td>\n      <td>...</td>\n      <td>...</td>\n      <td>...</td>\n      <td>...</td>\n      <td>...</td>\n      <td>...</td>\n      <td>...</td>\n      <td>...</td>\n      <td>...</td>\n    </tr>\n    <tr>\n      <th>375</th>\n      <td>375</td>\n      <td>E0</td>\n      <td>2021-05-23</td>\n      <td>16:00</td>\n      <td>Liverpool</td>\n      <td>Crystal Palace</td>\n      <td>2</td>\n      <td>0</td>\n      <td>H</td>\n      <td>1</td>\n      <td>...</td>\n      <td>1591.89</td>\n      <td>1439.73</td>\n      <td>1582.38</td>\n      <td>1449.24</td>\n      <td>2.500000</td>\n      <td>16.500000</td>\n      <td>12.833333</td>\n      <td>19.313782</td>\n      <td>133.14</td>\n      <td>5.500000</td>\n    </tr>\n    <tr>\n      <th>376</th>\n      <td>376</td>\n      <td>E0</td>\n      <td>2021-05-23</td>\n      <td>16:00</td>\n      <td>Manchester City</td>\n      <td>Everton</td>\n      <td>5</td>\n      <td>0</td>\n      <td>H</td>\n      <td>2</td>\n      <td>...</td>\n      <td>1659.36</td>\n      <td>1508.70</td>\n      <td>1649.79</td>\n      <td>1518.27</td>\n      <td>2.166667</td>\n      <td>1.666667</td>\n      <td>6.000000</td>\n      <td>24.719180</td>\n      <td>131.52</td>\n      <td>1.666667</td>\n    </tr>\n    <tr>\n      <th>377</th>\n      <td>377</td>\n      <td>E0</td>\n      <td>2021-05-23</td>\n      <td>16:00</td>\n      <td>Sheffield United</td>\n      <td>Burnley</td>\n      <td>1</td>\n      <td>0</td>\n      <td>H</td>\n      <td>1</td>\n      <td>...</td>\n      <td>1358.16</td>\n      <td>1420.86</td>\n      <td>1338.90</td>\n      <td>1440.12</td>\n      <td>-4.833333</td>\n      <td>-8.333333</td>\n      <td>-12.500000</td>\n      <td>-19.400129</td>\n      <td>-101.22</td>\n      <td>-0.500000</td>\n    </tr>\n    <tr>\n      <th>378</th>\n      <td>378</td>\n      <td>E0</td>\n      <td>2021-05-23</td>\n      <td>16:00</td>\n      <td>West Ham United</td>\n      <td>Southampton</td>\n      <td>3</td>\n      <td>0</td>\n      <td>H</td>\n      <td>2</td>\n      <td>...</td>\n      <td>1560.00</td>\n      <td>1420.08</td>\n      <td>1549.98</td>\n      <td>1430.10</td>\n      <td>2.833333</td>\n      <td>-3.500000</td>\n      <td>-6.666667</td>\n      <td>18.155503</td>\n      <td>119.88</td>\n      <td>2.500000</td>\n    </tr>\n    <tr>\n      <th>379</th>\n      <td>379</td>\n      <td>E0</td>\n      <td>2021-05-23</td>\n      <td>16:00</td>\n      <td>Wolverhampton Wanderers</td>\n      <td>Manchester United</td>\n      <td>1</td>\n      <td>2</td>\n      <td>A</td>\n      <td>1</td>\n      <td>...</td>\n      <td>1443.72</td>\n      <td>1611.60</td>\n      <td>1452.60</td>\n      <td>1602.72</td>\n      <td>-4.666667</td>\n      <td>-5.500000</td>\n      <td>-2.000000</td>\n      <td>-25.615866</td>\n      <td>-150.12</td>\n      <td>-0.666667</td>\n    </tr>\n  </tbody>\n</table>\n<p>380 rows × 134 columns</p>\n</div>"
     },
     "execution_count": 4,
     "metadata": {},
     "output_type": "execute_result"
    }
   ],
   "source": [
    "PL20_21_fixtures"
   ],
   "metadata": {
    "collapsed": false,
    "pycharm": {
     "name": "#%%\n"
    }
   }
  },
  {
   "cell_type": "code",
   "execution_count": 6,
   "outputs": [
    {
     "name": "stderr",
     "output_type": "stream",
     "text": [
      "C:\\Users\\giuli\\AppData\\Local\\Temp\\ipykernel_43256\\3142908231.py:6: FutureWarning: The frame.append method is deprecated and will be removed from pandas in a future version. Use pandas.concat instead.\n",
      "  return home.append(away)\n",
      "C:\\Users\\giuli\\AppData\\Local\\Temp\\ipykernel_43256\\3142908231.py:6: FutureWarning: The frame.append method is deprecated and will be removed from pandas in a future version. Use pandas.concat instead.\n",
      "  return home.append(away)\n",
      "C:\\Users\\giuli\\AppData\\Local\\Temp\\ipykernel_43256\\3142908231.py:6: FutureWarning: The frame.append method is deprecated and will be removed from pandas in a future version. Use pandas.concat instead.\n",
      "  return home.append(away)\n"
     ]
    },
    {
     "data": {
      "text/plain": "               Team  wk                   game_id\n0         Brentford   1       Brentford2021-08-13\n1    Manchester Utd   1  Manchester Utd2021-08-14\n2           Burnley   1         Burnley2021-08-14\n3           Chelsea   1         Chelsea2021-08-14\n4           Everton   1         Everton2021-08-14\n..              ...  ..                       ...\n375  Manchester Utd  38  Manchester Utd2022-05-22\n376     Southampton  38     Southampton2022-05-22\n377          Wolves  38          Wolves2022-05-22\n378     Aston Villa  38     Aston Villa2022-05-22\n379       Tottenham  38       Tottenham2022-05-22\n\n[760 rows x 3 columns]",
      "text/html": "<div>\n<style scoped>\n    .dataframe tbody tr th:only-of-type {\n        vertical-align: middle;\n    }\n\n    .dataframe tbody tr th {\n        vertical-align: top;\n    }\n\n    .dataframe thead th {\n        text-align: right;\n    }\n</style>\n<table border=\"1\" class=\"dataframe\">\n  <thead>\n    <tr style=\"text-align: right;\">\n      <th></th>\n      <th>Team</th>\n      <th>wk</th>\n      <th>game_id</th>\n    </tr>\n  </thead>\n  <tbody>\n    <tr>\n      <th>0</th>\n      <td>Brentford</td>\n      <td>1</td>\n      <td>Brentford2021-08-13</td>\n    </tr>\n    <tr>\n      <th>1</th>\n      <td>Manchester Utd</td>\n      <td>1</td>\n      <td>Manchester Utd2021-08-14</td>\n    </tr>\n    <tr>\n      <th>2</th>\n      <td>Burnley</td>\n      <td>1</td>\n      <td>Burnley2021-08-14</td>\n    </tr>\n    <tr>\n      <th>3</th>\n      <td>Chelsea</td>\n      <td>1</td>\n      <td>Chelsea2021-08-14</td>\n    </tr>\n    <tr>\n      <th>4</th>\n      <td>Everton</td>\n      <td>1</td>\n      <td>Everton2021-08-14</td>\n    </tr>\n    <tr>\n      <th>...</th>\n      <td>...</td>\n      <td>...</td>\n      <td>...</td>\n    </tr>\n    <tr>\n      <th>375</th>\n      <td>Manchester Utd</td>\n      <td>38</td>\n      <td>Manchester Utd2022-05-22</td>\n    </tr>\n    <tr>\n      <th>376</th>\n      <td>Southampton</td>\n      <td>38</td>\n      <td>Southampton2022-05-22</td>\n    </tr>\n    <tr>\n      <th>377</th>\n      <td>Wolves</td>\n      <td>38</td>\n      <td>Wolves2022-05-22</td>\n    </tr>\n    <tr>\n      <th>378</th>\n      <td>Aston Villa</td>\n      <td>38</td>\n      <td>Aston Villa2022-05-22</td>\n    </tr>\n    <tr>\n      <th>379</th>\n      <td>Tottenham</td>\n      <td>38</td>\n      <td>Tottenham2022-05-22</td>\n    </tr>\n  </tbody>\n</table>\n<p>760 rows × 3 columns</p>\n</div>"
     },
     "execution_count": 6,
     "metadata": {},
     "output_type": "execute_result"
    }
   ],
   "source": [
    "def get_wk(fixtures):\n",
    "    home = fixtures[['HomeTeam', 'Wk_h', 'game_home_ID']]\n",
    "    away = fixtures[['AwayTeam', 'Wk_a', 'game_away_ID']]\n",
    "    home = home.rename(columns={'HomeTeam':'Team','Wk_h':'wk', 'game_home_ID': 'game_id'})\n",
    "    away = away.rename(columns={'AwayTeam':'Team','Wk_a':'wk', 'game_away_ID': 'game_id'})\n",
    "    return home.append(away)\n",
    "game_weeks_19 = get_wk(PL19_20_fixtures)\n",
    "game_weeks_20 = get_wk(PL20_21_fixtures)\n",
    "game_weeks_21 = get_wk(PL21_22_fixtures)\n",
    "game_weeks_21\n"
   ],
   "metadata": {
    "collapsed": false,
    "pycharm": {
     "name": "#%%\n"
    }
   }
  },
  {
   "cell_type": "code",
   "execution_count": 7,
   "outputs": [
    {
     "data": {
      "text/plain": "                   player       team  matchweek        date  start11  \\\n0              David Raya  Brentford        1.0  2021-08-13     True   \n1              Rico Henry  Brentford        1.0  2021-08-13     True   \n2           Ethan Pinnock  Brentford        1.0  2021-08-13     True   \n3      Christian Nørgaard  Brentford        1.0  2021-08-13     True   \n4             Sergi Canós  Brentford        1.0  2021-08-13     True   \n...                   ...        ...        ...         ...      ...   \n10493  Christian Kabasele    Watford       38.0  2022-05-22     True   \n10494         Edo Kayembe    Watford       38.0  2022-05-22     True   \n10495         Adam Masina    Watford       38.0  2022-05-22    False   \n10496         Dan Gosling    Watford       38.0  2022-05-22    False   \n10497               Cucho    Watford       38.0  2022-05-22    False   \n\n                                   player_id              game_id    wk  \\\n0              David RayaBrentford2021-08-13  Brentford2021-08-13   1.0   \n1              Rico HenryBrentford2021-08-13  Brentford2021-08-13   1.0   \n2           Ethan PinnockBrentford2021-08-13  Brentford2021-08-13   1.0   \n3      Christian NørgaardBrentford2021-08-13  Brentford2021-08-13   1.0   \n4             Sergi CanósBrentford2021-08-13  Brentford2021-08-13   1.0   \n...                                      ...                  ...   ...   \n10493    Christian KabaseleWatford2022-05-22    Watford2022-05-22  38.0   \n10494           Edo KayembeWatford2022-05-22    Watford2022-05-22  38.0   \n10495           Adam MasinaWatford2022-05-22    Watford2022-05-22  38.0   \n10496           Dan GoslingWatford2022-05-22    Watford2022-05-22  38.0   \n10497                 CuchoWatford2022-05-22    Watford2022-05-22  38.0   \n\n         category  \n0      Goalkeeper  \n1        Defender  \n2        Defender  \n3        Midfield  \n4        Defender  \n...           ...  \n10493    Defender  \n10494    Midfield  \n10495    Defender  \n10496    Midfield  \n10497     Forward  \n\n[10498 rows x 9 columns]",
      "text/html": "<div>\n<style scoped>\n    .dataframe tbody tr th:only-of-type {\n        vertical-align: middle;\n    }\n\n    .dataframe tbody tr th {\n        vertical-align: top;\n    }\n\n    .dataframe thead th {\n        text-align: right;\n    }\n</style>\n<table border=\"1\" class=\"dataframe\">\n  <thead>\n    <tr style=\"text-align: right;\">\n      <th></th>\n      <th>player</th>\n      <th>team</th>\n      <th>matchweek</th>\n      <th>date</th>\n      <th>start11</th>\n      <th>player_id</th>\n      <th>game_id</th>\n      <th>wk</th>\n      <th>category</th>\n    </tr>\n  </thead>\n  <tbody>\n    <tr>\n      <th>0</th>\n      <td>David Raya</td>\n      <td>Brentford</td>\n      <td>1.0</td>\n      <td>2021-08-13</td>\n      <td>True</td>\n      <td>David RayaBrentford2021-08-13</td>\n      <td>Brentford2021-08-13</td>\n      <td>1.0</td>\n      <td>Goalkeeper</td>\n    </tr>\n    <tr>\n      <th>1</th>\n      <td>Rico Henry</td>\n      <td>Brentford</td>\n      <td>1.0</td>\n      <td>2021-08-13</td>\n      <td>True</td>\n      <td>Rico HenryBrentford2021-08-13</td>\n      <td>Brentford2021-08-13</td>\n      <td>1.0</td>\n      <td>Defender</td>\n    </tr>\n    <tr>\n      <th>2</th>\n      <td>Ethan Pinnock</td>\n      <td>Brentford</td>\n      <td>1.0</td>\n      <td>2021-08-13</td>\n      <td>True</td>\n      <td>Ethan PinnockBrentford2021-08-13</td>\n      <td>Brentford2021-08-13</td>\n      <td>1.0</td>\n      <td>Defender</td>\n    </tr>\n    <tr>\n      <th>3</th>\n      <td>Christian Nørgaard</td>\n      <td>Brentford</td>\n      <td>1.0</td>\n      <td>2021-08-13</td>\n      <td>True</td>\n      <td>Christian NørgaardBrentford2021-08-13</td>\n      <td>Brentford2021-08-13</td>\n      <td>1.0</td>\n      <td>Midfield</td>\n    </tr>\n    <tr>\n      <th>4</th>\n      <td>Sergi Canós</td>\n      <td>Brentford</td>\n      <td>1.0</td>\n      <td>2021-08-13</td>\n      <td>True</td>\n      <td>Sergi CanósBrentford2021-08-13</td>\n      <td>Brentford2021-08-13</td>\n      <td>1.0</td>\n      <td>Defender</td>\n    </tr>\n    <tr>\n      <th>...</th>\n      <td>...</td>\n      <td>...</td>\n      <td>...</td>\n      <td>...</td>\n      <td>...</td>\n      <td>...</td>\n      <td>...</td>\n      <td>...</td>\n      <td>...</td>\n    </tr>\n    <tr>\n      <th>10493</th>\n      <td>Christian Kabasele</td>\n      <td>Watford</td>\n      <td>38.0</td>\n      <td>2022-05-22</td>\n      <td>True</td>\n      <td>Christian KabaseleWatford2022-05-22</td>\n      <td>Watford2022-05-22</td>\n      <td>38.0</td>\n      <td>Defender</td>\n    </tr>\n    <tr>\n      <th>10494</th>\n      <td>Edo Kayembe</td>\n      <td>Watford</td>\n      <td>38.0</td>\n      <td>2022-05-22</td>\n      <td>True</td>\n      <td>Edo KayembeWatford2022-05-22</td>\n      <td>Watford2022-05-22</td>\n      <td>38.0</td>\n      <td>Midfield</td>\n    </tr>\n    <tr>\n      <th>10495</th>\n      <td>Adam Masina</td>\n      <td>Watford</td>\n      <td>38.0</td>\n      <td>2022-05-22</td>\n      <td>False</td>\n      <td>Adam MasinaWatford2022-05-22</td>\n      <td>Watford2022-05-22</td>\n      <td>38.0</td>\n      <td>Defender</td>\n    </tr>\n    <tr>\n      <th>10496</th>\n      <td>Dan Gosling</td>\n      <td>Watford</td>\n      <td>38.0</td>\n      <td>2022-05-22</td>\n      <td>False</td>\n      <td>Dan GoslingWatford2022-05-22</td>\n      <td>Watford2022-05-22</td>\n      <td>38.0</td>\n      <td>Midfield</td>\n    </tr>\n    <tr>\n      <th>10497</th>\n      <td>Cucho</td>\n      <td>Watford</td>\n      <td>38.0</td>\n      <td>2022-05-22</td>\n      <td>False</td>\n      <td>CuchoWatford2022-05-22</td>\n      <td>Watford2022-05-22</td>\n      <td>38.0</td>\n      <td>Forward</td>\n    </tr>\n  </tbody>\n</table>\n<p>10498 rows × 9 columns</p>\n</div>"
     },
     "execution_count": 7,
     "metadata": {},
     "output_type": "execute_result"
    }
   ],
   "source": [
    "#2019-20\n",
    "PL19_20_lineups_tmp =  pd.merge(PL19_20_lineups, game_weeks_19[['game_id', 'wk']], on= 'game_id', how='left')\n",
    "PL19_20_player_stats_tmp =  pd.merge(PL19_20_player_stats, game_weeks_19[['game_id', 'wk']], on= 'game_id', how='left')\n",
    "PL19_20_lineups_tmp = pd.merge(PL19_20_lineups_tmp, PL19_20_player_stats_tmp[['player_id', 'category']], on= 'player_id')\n",
    "#2020-21\n",
    "PL20_21_lineups_tmp =  pd.merge(PL20_21_lineups, game_weeks_20[['game_id', 'wk']], on= 'game_id', how='left')\n",
    "PL20_21_player_stats_tmp =  pd.merge(PL20_21_player_stats, game_weeks_20[['game_id', 'wk']], on= 'game_id', how='left')\n",
    "PL20_21_lineups_tmp = pd.merge(PL20_21_lineups_tmp, PL20_21_player_stats_tmp[['player_id', 'category']], on= 'player_id')\n",
    "#2021-22\n",
    "PL21_22_lineups_tmp =  pd.merge(PL21_22_lineups, game_weeks_21[['game_id', 'wk']], on= 'game_id', how='left')\n",
    "PL21_22_player_stats_tmp =  pd.merge(PL21_22_player_stats, game_weeks_21[['game_id', 'wk']], on= 'game_id', how='left')\n",
    "PL21_22_lineups_tmp = pd.merge(PL21_22_lineups_tmp, PL21_22_player_stats_tmp[['player_id', 'category']], on= 'player_id')\n",
    "\n",
    "\n",
    "PL21_22_lineups_tmp"
   ],
   "metadata": {
    "collapsed": false,
    "pycharm": {
     "name": "#%%\n"
    }
   }
  },
  {
   "cell_type": "code",
   "execution_count": 8,
   "outputs": [],
   "source": [
    "PL19_20_fixtures_tmp = PL19_20_fixtures[['Date', 'Time', 'HomeTeam', 'AwayTeam', 'FTHG', 'FTAG', 'FTR', 'game_home_ID', 'game_away_ID', 'Wk_h', 'Wk_a']]\n",
    "PL20_21_fixtures_tmp = PL20_21_fixtures[['Date', 'Time', 'HomeTeam', 'AwayTeam', 'FTHG', 'FTAG', 'FTR', 'game_home_ID', 'game_away_ID', 'Wk_h', 'Wk_a']]\n",
    "PL21_22_fixtures_tmp = PL21_22_fixtures[['Date', 'Time', 'HomeTeam', 'AwayTeam', 'FTHG', 'FTAG', 'FTR', 'game_home_ID', 'game_away_ID', 'Wk_h', 'Wk_a']]"
   ],
   "metadata": {
    "collapsed": false,
    "pycharm": {
     "name": "#%%\n"
    }
   }
  },
  {
   "cell_type": "code",
   "execution_count": 16,
   "outputs": [
    {
     "data": {
      "text/plain": "           Date   Time              HomeTeam                 AwayTeam  FTHG  \\\n95   2020-11-29  19:15               Arsenal  Wolverhampton Wanderers     1   \n96   2020-11-30  17:30        Leicester City                   Fulham     1   \n97   2020-11-30  20:00       West Ham United              Aston Villa     2   \n98   2020-12-05  12:30               Burnley                  Everton     1   \n99   2020-12-05  15:00       Manchester City                   Fulham     2   \n..          ...    ...                   ...                      ...   ...   \n185  2021-01-26  18:00        Crystal Palace          West Ham United     2   \n186  2021-01-26  18:00      Newcastle United             Leeds United     1   \n187  2021-01-26  20:15           Southampton                  Arsenal     1   \n188  2021-01-26  20:15  West Bromwich Albion          Manchester City     0   \n189  2021-01-27  18:00               Burnley              Aston Villa     3   \n\n     FTAG FTR                    game_home_ID  \\\n95      2   A               Arsenal2020-11-29   \n96      2   A        Leicester City2020-11-30   \n97      1   H       West Ham United2020-11-30   \n98      1   D               Burnley2020-12-05   \n99      0   H       Manchester City2020-12-05   \n..    ...  ..                             ...   \n185     3   A        Crystal Palace2021-01-26   \n186     2   A      Newcastle United2021-01-26   \n187     3   A           Southampton2021-01-26   \n188     5   A  West Bromwich Albion2021-01-26   \n189     2   H               Burnley2021-01-27   \n\n                          game_away_ID  Wk_h  ...  rating_a_gk  rating_a_df  \\\n95   Wolverhampton Wanderers2020-11-29    10  ...    40.452239    90.963826   \n96                    Fulham2020-11-30    10  ...    54.635593   158.846781   \n97               Aston Villa2020-11-30    10  ...    40.960091   101.111687   \n98                   Everton2020-12-05    10  ...    51.394783    86.880580   \n99                    Fulham2020-12-05    10  ...    53.338856   132.626102   \n..                                 ...   ...  ...          ...          ...   \n185          West Ham United2021-01-26    20  ...    35.358588    96.610410   \n186             Leeds United2021-01-26    20  ...    30.789517   103.050679   \n187                  Arsenal2021-01-26    19  ...    47.097125   109.217242   \n188          Manchester City2021-01-26    20  ...    43.629491   174.330397   \n189              Aston Villa2021-01-27    19  ...    57.058052    89.427818   \n\n     rating_a_mf  rating_a_att  rating_a_bench  influence_a  creativity_a  \\\n95     76.875469    101.841213       83.850623   141.966066    122.659777   \n96     37.035165     72.159985       78.134802   190.710210    115.113320   \n97     48.775247    110.949602       26.989764   185.201800    119.294131   \n98     47.494726    107.458705       49.824702   179.698413    103.554986   \n99     55.700056     74.730228       62.516179   220.365440    107.662942   \n..           ...           ...             ...          ...           ...   \n185    58.095478     78.877402       43.113407   178.349357    115.482859   \n186   122.411806     27.646099       99.407206   165.418936    103.840242   \n187    67.988041    110.787277       41.387647   175.152742    130.318125   \n188   101.320672     75.826966       54.186393   218.997435    165.777186   \n189    44.616845    126.341109       48.821714   205.358275    131.900002   \n\n       threat_a       bps_a    selected_a  \n95   133.439527  121.618296  4.126143e+06  \n96   117.186915  141.358809  3.804404e+05  \n97   206.242782  163.324363  6.679388e+06  \n98   144.213085  131.914178  8.168391e+06  \n99   126.770095  148.458213  3.801734e+05  \n..          ...         ...           ...  \n185  132.578343  176.341829  4.806609e+06  \n186  118.976927  133.862087  6.290084e+06  \n187  134.790013  179.679505  3.047085e+06  \n188  258.185925  217.839525  4.657040e+06  \n189  132.213497  182.554107  7.977606e+06  \n\n[95 rows x 31 columns]",
      "text/html": "<div>\n<style scoped>\n    .dataframe tbody tr th:only-of-type {\n        vertical-align: middle;\n    }\n\n    .dataframe tbody tr th {\n        vertical-align: top;\n    }\n\n    .dataframe thead th {\n        text-align: right;\n    }\n</style>\n<table border=\"1\" class=\"dataframe\">\n  <thead>\n    <tr style=\"text-align: right;\">\n      <th></th>\n      <th>Date</th>\n      <th>Time</th>\n      <th>HomeTeam</th>\n      <th>AwayTeam</th>\n      <th>FTHG</th>\n      <th>FTAG</th>\n      <th>FTR</th>\n      <th>game_home_ID</th>\n      <th>game_away_ID</th>\n      <th>Wk_h</th>\n      <th>...</th>\n      <th>rating_a_gk</th>\n      <th>rating_a_df</th>\n      <th>rating_a_mf</th>\n      <th>rating_a_att</th>\n      <th>rating_a_bench</th>\n      <th>influence_a</th>\n      <th>creativity_a</th>\n      <th>threat_a</th>\n      <th>bps_a</th>\n      <th>selected_a</th>\n    </tr>\n  </thead>\n  <tbody>\n    <tr>\n      <th>95</th>\n      <td>2020-11-29</td>\n      <td>19:15</td>\n      <td>Arsenal</td>\n      <td>Wolverhampton Wanderers</td>\n      <td>1</td>\n      <td>2</td>\n      <td>A</td>\n      <td>Arsenal2020-11-29</td>\n      <td>Wolverhampton Wanderers2020-11-29</td>\n      <td>10</td>\n      <td>...</td>\n      <td>40.452239</td>\n      <td>90.963826</td>\n      <td>76.875469</td>\n      <td>101.841213</td>\n      <td>83.850623</td>\n      <td>141.966066</td>\n      <td>122.659777</td>\n      <td>133.439527</td>\n      <td>121.618296</td>\n      <td>4.126143e+06</td>\n    </tr>\n    <tr>\n      <th>96</th>\n      <td>2020-11-30</td>\n      <td>17:30</td>\n      <td>Leicester City</td>\n      <td>Fulham</td>\n      <td>1</td>\n      <td>2</td>\n      <td>A</td>\n      <td>Leicester City2020-11-30</td>\n      <td>Fulham2020-11-30</td>\n      <td>10</td>\n      <td>...</td>\n      <td>54.635593</td>\n      <td>158.846781</td>\n      <td>37.035165</td>\n      <td>72.159985</td>\n      <td>78.134802</td>\n      <td>190.710210</td>\n      <td>115.113320</td>\n      <td>117.186915</td>\n      <td>141.358809</td>\n      <td>3.804404e+05</td>\n    </tr>\n    <tr>\n      <th>97</th>\n      <td>2020-11-30</td>\n      <td>20:00</td>\n      <td>West Ham United</td>\n      <td>Aston Villa</td>\n      <td>2</td>\n      <td>1</td>\n      <td>H</td>\n      <td>West Ham United2020-11-30</td>\n      <td>Aston Villa2020-11-30</td>\n      <td>10</td>\n      <td>...</td>\n      <td>40.960091</td>\n      <td>101.111687</td>\n      <td>48.775247</td>\n      <td>110.949602</td>\n      <td>26.989764</td>\n      <td>185.201800</td>\n      <td>119.294131</td>\n      <td>206.242782</td>\n      <td>163.324363</td>\n      <td>6.679388e+06</td>\n    </tr>\n    <tr>\n      <th>98</th>\n      <td>2020-12-05</td>\n      <td>12:30</td>\n      <td>Burnley</td>\n      <td>Everton</td>\n      <td>1</td>\n      <td>1</td>\n      <td>D</td>\n      <td>Burnley2020-12-05</td>\n      <td>Everton2020-12-05</td>\n      <td>10</td>\n      <td>...</td>\n      <td>51.394783</td>\n      <td>86.880580</td>\n      <td>47.494726</td>\n      <td>107.458705</td>\n      <td>49.824702</td>\n      <td>179.698413</td>\n      <td>103.554986</td>\n      <td>144.213085</td>\n      <td>131.914178</td>\n      <td>8.168391e+06</td>\n    </tr>\n    <tr>\n      <th>99</th>\n      <td>2020-12-05</td>\n      <td>15:00</td>\n      <td>Manchester City</td>\n      <td>Fulham</td>\n      <td>2</td>\n      <td>0</td>\n      <td>H</td>\n      <td>Manchester City2020-12-05</td>\n      <td>Fulham2020-12-05</td>\n      <td>10</td>\n      <td>...</td>\n      <td>53.338856</td>\n      <td>132.626102</td>\n      <td>55.700056</td>\n      <td>74.730228</td>\n      <td>62.516179</td>\n      <td>220.365440</td>\n      <td>107.662942</td>\n      <td>126.770095</td>\n      <td>148.458213</td>\n      <td>3.801734e+05</td>\n    </tr>\n    <tr>\n      <th>...</th>\n      <td>...</td>\n      <td>...</td>\n      <td>...</td>\n      <td>...</td>\n      <td>...</td>\n      <td>...</td>\n      <td>...</td>\n      <td>...</td>\n      <td>...</td>\n      <td>...</td>\n      <td>...</td>\n      <td>...</td>\n      <td>...</td>\n      <td>...</td>\n      <td>...</td>\n      <td>...</td>\n      <td>...</td>\n      <td>...</td>\n      <td>...</td>\n      <td>...</td>\n      <td>...</td>\n    </tr>\n    <tr>\n      <th>185</th>\n      <td>2021-01-26</td>\n      <td>18:00</td>\n      <td>Crystal Palace</td>\n      <td>West Ham United</td>\n      <td>2</td>\n      <td>3</td>\n      <td>A</td>\n      <td>Crystal Palace2021-01-26</td>\n      <td>West Ham United2021-01-26</td>\n      <td>20</td>\n      <td>...</td>\n      <td>35.358588</td>\n      <td>96.610410</td>\n      <td>58.095478</td>\n      <td>78.877402</td>\n      <td>43.113407</td>\n      <td>178.349357</td>\n      <td>115.482859</td>\n      <td>132.578343</td>\n      <td>176.341829</td>\n      <td>4.806609e+06</td>\n    </tr>\n    <tr>\n      <th>186</th>\n      <td>2021-01-26</td>\n      <td>18:00</td>\n      <td>Newcastle United</td>\n      <td>Leeds United</td>\n      <td>1</td>\n      <td>2</td>\n      <td>A</td>\n      <td>Newcastle United2021-01-26</td>\n      <td>Leeds United2021-01-26</td>\n      <td>20</td>\n      <td>...</td>\n      <td>30.789517</td>\n      <td>103.050679</td>\n      <td>122.411806</td>\n      <td>27.646099</td>\n      <td>99.407206</td>\n      <td>165.418936</td>\n      <td>103.840242</td>\n      <td>118.976927</td>\n      <td>133.862087</td>\n      <td>6.290084e+06</td>\n    </tr>\n    <tr>\n      <th>187</th>\n      <td>2021-01-26</td>\n      <td>20:15</td>\n      <td>Southampton</td>\n      <td>Arsenal</td>\n      <td>1</td>\n      <td>3</td>\n      <td>A</td>\n      <td>Southampton2021-01-26</td>\n      <td>Arsenal2021-01-26</td>\n      <td>19</td>\n      <td>...</td>\n      <td>47.097125</td>\n      <td>109.217242</td>\n      <td>67.988041</td>\n      <td>110.787277</td>\n      <td>41.387647</td>\n      <td>175.152742</td>\n      <td>130.318125</td>\n      <td>134.790013</td>\n      <td>179.679505</td>\n      <td>3.047085e+06</td>\n    </tr>\n    <tr>\n      <th>188</th>\n      <td>2021-01-26</td>\n      <td>20:15</td>\n      <td>West Bromwich Albion</td>\n      <td>Manchester City</td>\n      <td>0</td>\n      <td>5</td>\n      <td>A</td>\n      <td>West Bromwich Albion2021-01-26</td>\n      <td>Manchester City2021-01-26</td>\n      <td>20</td>\n      <td>...</td>\n      <td>43.629491</td>\n      <td>174.330397</td>\n      <td>101.320672</td>\n      <td>75.826966</td>\n      <td>54.186393</td>\n      <td>218.997435</td>\n      <td>165.777186</td>\n      <td>258.185925</td>\n      <td>217.839525</td>\n      <td>4.657040e+06</td>\n    </tr>\n    <tr>\n      <th>189</th>\n      <td>2021-01-27</td>\n      <td>18:00</td>\n      <td>Burnley</td>\n      <td>Aston Villa</td>\n      <td>3</td>\n      <td>2</td>\n      <td>H</td>\n      <td>Burnley2021-01-27</td>\n      <td>Aston Villa2021-01-27</td>\n      <td>19</td>\n      <td>...</td>\n      <td>57.058052</td>\n      <td>89.427818</td>\n      <td>44.616845</td>\n      <td>126.341109</td>\n      <td>48.821714</td>\n      <td>205.358275</td>\n      <td>131.900002</td>\n      <td>132.213497</td>\n      <td>182.554107</td>\n      <td>7.977606e+06</td>\n    </tr>\n  </tbody>\n</table>\n<p>95 rows × 31 columns</p>\n</div>"
     },
     "execution_count": 16,
     "metadata": {},
     "output_type": "execute_result"
    }
   ],
   "source": [
    "df1 = PL20_21_fixtures_tmp.iloc[:95]\n",
    "df2 = PL20_21_fixtures_tmp.iloc[95:190]\n",
    "df3 = PL20_21_fixtures_tmp.iloc[190:285]\n",
    "df4 = PL20_21_fixtures_tmp.iloc[285:]\n",
    "df2"
   ],
   "metadata": {
    "collapsed": false,
    "pycharm": {
     "name": "#%%\n"
    }
   }
  },
  {
   "cell_type": "code",
   "execution_count": 7,
   "outputs": [
    {
     "data": {
      "text/plain": "                       player     team  matchweek        date  start11  \\\n18                 Bernd Leno  Arsenal        1.0  2020-09-12     True   \n19            Héctor Bellerín  Arsenal        1.0  2020-09-12     True   \n20             Kieran Tierney  Arsenal        1.0  2020-09-12     True   \n21         Gabriel Dos Santos  Arsenal        1.0  2020-09-12     True   \n22        Alexandre Lacazette  Arsenal        1.0  2020-09-12     True   \n23                    Willian  Arsenal        1.0  2020-09-12     True   \n24  Pierre-Emerick Aubameyang  Arsenal        1.0  2020-09-12     True   \n25     Ainsley Maitland-Niles  Arsenal        1.0  2020-09-12     True   \n26                Rob Holding  Arsenal        1.0  2020-09-12     True   \n27             Mohamed Elneny  Arsenal        1.0  2020-09-12     True   \n28               Granit Xhaka  Arsenal        1.0  2020-09-12     True   \n29                 Matt Macey  Arsenal        1.0  2020-09-12    False   \n30                Bukayo Saka  Arsenal        1.0  2020-09-12    False   \n31              Dani Ceballos  Arsenal        1.0  2020-09-12    False   \n32               Nicolas Pépé  Arsenal        1.0  2020-09-12    False   \n33                Joe Willock  Arsenal        1.0  2020-09-12    False   \n34              Eddie Nketiah  Arsenal        1.0  2020-09-12    False   \n35             Sead Kolašinac  Arsenal        1.0  2020-09-12    False   \n\n                                     player_id            game_id  wk  \\\n18                 Bernd LenoArsenal2020-09-12  Arsenal2020-09-12   1   \n19            Héctor BellerínArsenal2020-09-12  Arsenal2020-09-12   1   \n20             Kieran TierneyArsenal2020-09-12  Arsenal2020-09-12   1   \n21         Gabriel Dos SantosArsenal2020-09-12  Arsenal2020-09-12   1   \n22        Alexandre LacazetteArsenal2020-09-12  Arsenal2020-09-12   1   \n23                    WillianArsenal2020-09-12  Arsenal2020-09-12   1   \n24  Pierre-Emerick AubameyangArsenal2020-09-12  Arsenal2020-09-12   1   \n25     Ainsley Maitland-NilesArsenal2020-09-12  Arsenal2020-09-12   1   \n26                Rob HoldingArsenal2020-09-12  Arsenal2020-09-12   1   \n27             Mohamed ElnenyArsenal2020-09-12  Arsenal2020-09-12   1   \n28               Granit XhakaArsenal2020-09-12  Arsenal2020-09-12   1   \n29                 Matt MaceyArsenal2020-09-12  Arsenal2020-09-12   1   \n30                Bukayo SakaArsenal2020-09-12  Arsenal2020-09-12   1   \n31              Dani CeballosArsenal2020-09-12  Arsenal2020-09-12   1   \n32               Nicolas PépéArsenal2020-09-12  Arsenal2020-09-12   1   \n33                Joe WillockArsenal2020-09-12  Arsenal2020-09-12   1   \n34              Eddie NketiahArsenal2020-09-12  Arsenal2020-09-12   1   \n35             Sead KolašinacArsenal2020-09-12  Arsenal2020-09-12   1   \n\n      category  \n18  Goalkeeper  \n19    Defender  \n20    Defender  \n21    Defender  \n22     Forward  \n23     Forward  \n24     Forward  \n25    Defender  \n26    Defender  \n27    Midfield  \n28    Midfield  \n29         NaN  \n30         NaN  \n31    Midfield  \n32     Forward  \n33         NaN  \n34     Forward  \n35         NaN  ",
      "text/html": "<div>\n<style scoped>\n    .dataframe tbody tr th:only-of-type {\n        vertical-align: middle;\n    }\n\n    .dataframe tbody tr th {\n        vertical-align: top;\n    }\n\n    .dataframe thead th {\n        text-align: right;\n    }\n</style>\n<table border=\"1\" class=\"dataframe\">\n  <thead>\n    <tr style=\"text-align: right;\">\n      <th></th>\n      <th>player</th>\n      <th>team</th>\n      <th>matchweek</th>\n      <th>date</th>\n      <th>start11</th>\n      <th>player_id</th>\n      <th>game_id</th>\n      <th>wk</th>\n      <th>category</th>\n    </tr>\n  </thead>\n  <tbody>\n    <tr>\n      <th>18</th>\n      <td>Bernd Leno</td>\n      <td>Arsenal</td>\n      <td>1.0</td>\n      <td>2020-09-12</td>\n      <td>True</td>\n      <td>Bernd LenoArsenal2020-09-12</td>\n      <td>Arsenal2020-09-12</td>\n      <td>1</td>\n      <td>Goalkeeper</td>\n    </tr>\n    <tr>\n      <th>19</th>\n      <td>Héctor Bellerín</td>\n      <td>Arsenal</td>\n      <td>1.0</td>\n      <td>2020-09-12</td>\n      <td>True</td>\n      <td>Héctor BellerínArsenal2020-09-12</td>\n      <td>Arsenal2020-09-12</td>\n      <td>1</td>\n      <td>Defender</td>\n    </tr>\n    <tr>\n      <th>20</th>\n      <td>Kieran Tierney</td>\n      <td>Arsenal</td>\n      <td>1.0</td>\n      <td>2020-09-12</td>\n      <td>True</td>\n      <td>Kieran TierneyArsenal2020-09-12</td>\n      <td>Arsenal2020-09-12</td>\n      <td>1</td>\n      <td>Defender</td>\n    </tr>\n    <tr>\n      <th>21</th>\n      <td>Gabriel Dos Santos</td>\n      <td>Arsenal</td>\n      <td>1.0</td>\n      <td>2020-09-12</td>\n      <td>True</td>\n      <td>Gabriel Dos SantosArsenal2020-09-12</td>\n      <td>Arsenal2020-09-12</td>\n      <td>1</td>\n      <td>Defender</td>\n    </tr>\n    <tr>\n      <th>22</th>\n      <td>Alexandre Lacazette</td>\n      <td>Arsenal</td>\n      <td>1.0</td>\n      <td>2020-09-12</td>\n      <td>True</td>\n      <td>Alexandre LacazetteArsenal2020-09-12</td>\n      <td>Arsenal2020-09-12</td>\n      <td>1</td>\n      <td>Forward</td>\n    </tr>\n    <tr>\n      <th>23</th>\n      <td>Willian</td>\n      <td>Arsenal</td>\n      <td>1.0</td>\n      <td>2020-09-12</td>\n      <td>True</td>\n      <td>WillianArsenal2020-09-12</td>\n      <td>Arsenal2020-09-12</td>\n      <td>1</td>\n      <td>Forward</td>\n    </tr>\n    <tr>\n      <th>24</th>\n      <td>Pierre-Emerick Aubameyang</td>\n      <td>Arsenal</td>\n      <td>1.0</td>\n      <td>2020-09-12</td>\n      <td>True</td>\n      <td>Pierre-Emerick AubameyangArsenal2020-09-12</td>\n      <td>Arsenal2020-09-12</td>\n      <td>1</td>\n      <td>Forward</td>\n    </tr>\n    <tr>\n      <th>25</th>\n      <td>Ainsley Maitland-Niles</td>\n      <td>Arsenal</td>\n      <td>1.0</td>\n      <td>2020-09-12</td>\n      <td>True</td>\n      <td>Ainsley Maitland-NilesArsenal2020-09-12</td>\n      <td>Arsenal2020-09-12</td>\n      <td>1</td>\n      <td>Defender</td>\n    </tr>\n    <tr>\n      <th>26</th>\n      <td>Rob Holding</td>\n      <td>Arsenal</td>\n      <td>1.0</td>\n      <td>2020-09-12</td>\n      <td>True</td>\n      <td>Rob HoldingArsenal2020-09-12</td>\n      <td>Arsenal2020-09-12</td>\n      <td>1</td>\n      <td>Defender</td>\n    </tr>\n    <tr>\n      <th>27</th>\n      <td>Mohamed Elneny</td>\n      <td>Arsenal</td>\n      <td>1.0</td>\n      <td>2020-09-12</td>\n      <td>True</td>\n      <td>Mohamed ElnenyArsenal2020-09-12</td>\n      <td>Arsenal2020-09-12</td>\n      <td>1</td>\n      <td>Midfield</td>\n    </tr>\n    <tr>\n      <th>28</th>\n      <td>Granit Xhaka</td>\n      <td>Arsenal</td>\n      <td>1.0</td>\n      <td>2020-09-12</td>\n      <td>True</td>\n      <td>Granit XhakaArsenal2020-09-12</td>\n      <td>Arsenal2020-09-12</td>\n      <td>1</td>\n      <td>Midfield</td>\n    </tr>\n    <tr>\n      <th>29</th>\n      <td>Matt Macey</td>\n      <td>Arsenal</td>\n      <td>1.0</td>\n      <td>2020-09-12</td>\n      <td>False</td>\n      <td>Matt MaceyArsenal2020-09-12</td>\n      <td>Arsenal2020-09-12</td>\n      <td>1</td>\n      <td>NaN</td>\n    </tr>\n    <tr>\n      <th>30</th>\n      <td>Bukayo Saka</td>\n      <td>Arsenal</td>\n      <td>1.0</td>\n      <td>2020-09-12</td>\n      <td>False</td>\n      <td>Bukayo SakaArsenal2020-09-12</td>\n      <td>Arsenal2020-09-12</td>\n      <td>1</td>\n      <td>NaN</td>\n    </tr>\n    <tr>\n      <th>31</th>\n      <td>Dani Ceballos</td>\n      <td>Arsenal</td>\n      <td>1.0</td>\n      <td>2020-09-12</td>\n      <td>False</td>\n      <td>Dani CeballosArsenal2020-09-12</td>\n      <td>Arsenal2020-09-12</td>\n      <td>1</td>\n      <td>Midfield</td>\n    </tr>\n    <tr>\n      <th>32</th>\n      <td>Nicolas Pépé</td>\n      <td>Arsenal</td>\n      <td>1.0</td>\n      <td>2020-09-12</td>\n      <td>False</td>\n      <td>Nicolas PépéArsenal2020-09-12</td>\n      <td>Arsenal2020-09-12</td>\n      <td>1</td>\n      <td>Forward</td>\n    </tr>\n    <tr>\n      <th>33</th>\n      <td>Joe Willock</td>\n      <td>Arsenal</td>\n      <td>1.0</td>\n      <td>2020-09-12</td>\n      <td>False</td>\n      <td>Joe WillockArsenal2020-09-12</td>\n      <td>Arsenal2020-09-12</td>\n      <td>1</td>\n      <td>NaN</td>\n    </tr>\n    <tr>\n      <th>34</th>\n      <td>Eddie Nketiah</td>\n      <td>Arsenal</td>\n      <td>1.0</td>\n      <td>2020-09-12</td>\n      <td>False</td>\n      <td>Eddie NketiahArsenal2020-09-12</td>\n      <td>Arsenal2020-09-12</td>\n      <td>1</td>\n      <td>Forward</td>\n    </tr>\n    <tr>\n      <th>35</th>\n      <td>Sead Kolašinac</td>\n      <td>Arsenal</td>\n      <td>1.0</td>\n      <td>2020-09-12</td>\n      <td>False</td>\n      <td>Sead KolašinacArsenal2020-09-12</td>\n      <td>Arsenal2020-09-12</td>\n      <td>1</td>\n      <td>NaN</td>\n    </tr>\n  </tbody>\n</table>\n</div>"
     },
     "execution_count": 7,
     "metadata": {},
     "output_type": "execute_result"
    }
   ],
   "source": [
    "def get_lineup(lineups_df, game_id):\n",
    "    rslt_df = lineups_df[lineups_df['game_id'] == game_id]\n",
    "    return rslt_df\n",
    "\n",
    "#get_lineup( PL20_21_lineups_tmp, 'Arsenal2020-09-12',)"
   ],
   "metadata": {
    "collapsed": false,
    "pycharm": {
     "name": "#%%\n"
    }
   }
  },
  {
   "cell_type": "code",
   "execution_count": 8,
   "outputs": [
    {
     "data": {
      "text/plain": "    Unnamed: 0 Div        Date   Time                 HomeTeam  \\\n0            0  E0  2020-09-12  12:30                   Fulham   \n1            1  E0  2020-09-12  15:00           Crystal Palace   \n2            2  E0  2020-09-12  17:30                Liverpool   \n3            3  E0  2020-09-12  20:00          West Ham United   \n4            4  E0  2020-09-13  14:00     West Bromwich Albion   \n5            5  E0  2020-09-13  16:30        Tottenham Hotspur   \n6            6  E0  2020-09-14  20:15   Brighton & Hove Albion   \n7            7  E0  2020-09-14  18:00         Sheffield United   \n8            8  E0  2020-09-19  12:30                  Everton   \n9            9  E0  2020-09-19  15:00             Leeds United   \n10          10  E0  2020-09-19  17:30        Manchester United   \n11          11  E0  2020-09-19  20:00                  Arsenal   \n12          12  E0  2020-09-20  12:00              Southampton   \n13          13  E0  2020-09-20  14:00         Newcastle United   \n14          14  E0  2020-09-20  16:30                  Chelsea   \n15          15  E0  2020-09-20  19:00           Leicester City   \n16          16  E0  2020-09-21  18:00              Aston Villa   \n17          17  E0  2020-09-21  20:15  Wolverhampton Wanderers   \n18          18  E0  2020-09-26  12:30   Brighton & Hove Albion   \n19          19  E0  2020-09-26  15:00           Crystal Palace   \n20          20  E0  2020-09-26  17:30     West Bromwich Albion   \n21          21  E0  2020-09-26  20:00                  Burnley   \n22          22  E0  2020-09-27  12:00         Sheffield United   \n23          23  E0  2020-09-27  14:00        Tottenham Hotspur   \n24          24  E0  2020-09-27  16:30          Manchester City   \n25          25  E0  2020-09-27  19:00          West Ham United   \n26          26  E0  2020-09-28  17:45                   Fulham   \n27          27  E0  2020-09-28  20:00                Liverpool   \n28          28  E0  2020-10-03  12:30                  Chelsea   \n29          29  E0  2020-10-03  15:00                  Everton   \n30          30  E0  2020-10-03  17:30             Leeds United   \n31          31  E0  2020-10-03  20:00         Newcastle United   \n32          32  E0  2020-10-04  12:00           Leicester City   \n33          33  E0  2020-10-04  12:00              Southampton   \n34          34  E0  2020-10-04  14:00                  Arsenal   \n35          35  E0  2020-10-04  14:00  Wolverhampton Wanderers   \n36          36  E0  2020-10-04  16:30        Manchester United   \n37          37  E0  2020-10-04  19:15              Aston Villa   \n38          38  E0  2020-10-17  12:30                  Everton   \n39          39  E0  2020-10-17  15:00                  Chelsea   \n40          40  E0  2020-10-17  17:30          Manchester City   \n41          41  E0  2020-10-17  20:00         Newcastle United   \n42          42  E0  2020-10-18  12:00         Sheffield United   \n43          43  E0  2020-10-18  14:00           Crystal Palace   \n44          44  E0  2020-10-18  16:30        Tottenham Hotspur   \n45          45  E0  2020-10-18  19:15           Leicester City   \n46          46  E0  2020-10-19  17:30     West Bromwich Albion   \n47          47  E0  2020-10-19  20:00             Leeds United   \n48          48  E0  2020-10-23  20:00              Aston Villa   \n51          51  E0  2020-10-24  17:30        Manchester United   \n57          57  E0  2020-10-26  20:00                  Burnley   \n\n                   AwayTeam  FTHG  FTAG FTR  HTHG  ...  Elo_h_after  \\\n0                   Arsenal     0     3   A     0  ...      1485.00   \n1               Southampton     1     0   H     1  ...      1515.00   \n2              Leeds United     4     3   H     3  ...      1515.00   \n3          Newcastle United     0     2   A     0  ...      1485.00   \n4            Leicester City     0     3   A     0  ...      1485.00   \n5                   Everton     0     1   A     0  ...      1485.00   \n6                   Chelsea     1     3   A     0  ...      1485.00   \n7   Wolverhampton Wanderers     0     2   A     0  ...      1485.00   \n8      West Bromwich Albion     5     2   H     2  ...      1528.71   \n9                    Fulham     4     3   H     2  ...      1500.00   \n10           Crystal Palace     1     3   A     0  ...      1485.66   \n11          West Ham United     2     1   H     1  ...      1528.71   \n12        Tottenham Hotspur     2     5   A     1  ...      1470.00   \n13   Brighton & Hove Albion     0     3   A     0  ...      1498.71   \n14                Liverpool     0     2   A     0  ...      1500.00   \n15                  Burnley     4     2   H     1  ...      1529.34   \n16         Sheffield United     1     0   H     0  ...      1514.34   \n17          Manchester City     1     3   A     0  ...      1499.34   \n18        Manchester United     2     3   A     1  ...      1485.63   \n19                  Everton     1     2   A     1  ...      1514.31   \n20                  Chelsea     3     3   D     3  ...      1472.52   \n21              Southampton     0     1   A     0  ...      1469.97   \n22             Leeds United     0     1   A     0  ...      1456.92   \n23         Newcastle United     1     1   D     1  ...      1499.94   \n24           Leicester City     2     5   A     1  ...      1501.26   \n25  Wolverhampton Wanderers     4     0   H     1  ...      1487.49   \n26              Aston Villa     0     3   A     0  ...      1456.89   \n27                  Arsenal     3     1   H     2  ...      1544.94   \n28           Crystal Palace     4     0   H     0  ...      1514.43   \n29   Brighton & Hove Albion     4     2   H     2  ...      1556.25   \n30          Manchester City     1     1   D     0  ...      1513.20   \n31                  Burnley     3     1   H     1  ...      1512.54   \n32          West Ham United     0     3   A     0  ...      1526.34   \n33     West Bromwich Albion     2     0   H     1  ...      1500.12   \n34         Sheffield United     2     1   H     0  ...      1526.34   \n35                   Fulham     1     0   H     0  ...      1497.00   \n36        Tottenham Hotspur     1     6   A     1  ...      1486.26   \n37                Liverpool     7     2   H     4  ...      1543.20   \n38                Liverpool     2     2   D     1  ...      1555.08   \n39              Southampton     3     3   D     2  ...      1513.80   \n40                  Arsenal     1     0   H     1  ...      1517.85   \n41        Manchester United     1     4   A     1  ...      1496.40   \n42                   Fulham     1     1   D     0  ...      1444.29   \n43   Brighton & Hove Albion     1     1   D     1  ...      1497.54   \n44          West Ham United     3     3   D     3  ...      1514.55   \n45              Aston Villa     0     1   A     0  ...      1512.06   \n46                  Burnley     0     0   D     0  ...      1458.00   \n47  Wolverhampton Wanderers     0     1   A     0  ...      1497.51   \n48             Leeds United     0     3   A     0  ...      1539.93   \n51                  Chelsea     0     0   D     0  ...      1502.88   \n57        Tottenham Hotspur     0     1   A     0  ...      1443.78   \n\n   Elo_a_after Elo_h_before  Elo_a_before  goalsDifference  shotsDifference  \\\n0      1515.00      1500.00       1500.00         0.000000         0.000000   \n1      1485.00      1500.00       1500.00         0.000000         0.000000   \n2      1485.00      1500.00       1500.00         0.000000         0.000000   \n3      1515.00      1500.00       1500.00         0.000000         0.000000   \n4      1515.00      1500.00       1500.00         0.000000         0.000000   \n5      1515.00      1500.00       1500.00         0.000000         0.000000   \n6      1515.00      1500.00       1500.00         0.000000         0.000000   \n7      1515.00      1500.00       1500.00         0.000000         0.000000   \n8      1471.29      1515.00       1485.00         0.000000         0.000000   \n9      1470.00      1485.00       1485.00         0.000000         0.000000   \n10     1529.34      1500.00       1515.00         0.000000         0.000000   \n11     1471.29      1515.00       1485.00         0.000000         0.000000   \n12     1500.00      1485.00       1485.00         0.000000         0.000000   \n13     1501.29      1515.00       1485.00         0.000000         0.000000   \n14     1530.00      1515.00       1515.00         0.000000         0.000000   \n15     1485.66      1515.00       1500.00         0.000000         0.000000   \n16     1470.66      1500.00       1485.00         0.000000         0.000000   \n17     1515.66      1515.00       1500.00         0.000000         0.000000   \n18     1501.32      1501.29       1485.66         1.000000         3.000000   \n19     1543.74      1529.34       1528.71         0.000000        -1.000000   \n20     1498.77      1471.29       1500.00        -3.000000        -4.000000   \n21     1485.69      1485.66       1470.00         0.000000        -5.000000   \n22     1513.74      1470.66       1500.00        -3.000000        -1.000000   \n23     1498.77      1500.00       1498.71        -2.000000         3.000000   \n24     1543.74      1515.66       1529.34        -3.000000        -7.000000   \n25     1483.14      1471.29       1499.34        -2.000000        -1.000000   \n26     1527.45      1470.00       1514.34         0.000000         2.000000   \n27     1513.77      1530.00       1528.71         1.000000         0.000000   \n28     1498.65      1498.77       1514.31         0.500000         1.000000   \n29     1473.12      1543.74       1485.63         1.000000         1.500000   \n30     1501.80      1513.74       1501.26         2.000000        -2.500000   \n31     1456.20      1498.77       1469.97         0.000000        -3.000000   \n32     1504.89      1543.74       1487.49         4.500000         5.500000   \n33     1458.09      1485.69       1472.52         0.000000         5.500000   \n34     1444.35      1513.77       1456.92         4.000000         5.000000   \n35     1443.03      1483.14       1456.89         1.000000        -0.500000   \n36     1515.00      1501.32       1499.94        -1.500000        -4.000000   \n37     1529.19      1527.45       1544.94        -4.000000        -7.000000   \n38     1530.36      1556.25       1529.19        -1.333333        -2.333333   \n39     1500.75      1514.43       1500.12         2.333333         0.333333   \n40     1510.29      1501.80       1526.34        -0.666667         2.500000   \n41     1502.40      1512.54       1486.26        -0.166667        -3.166667   \n42     1443.09      1444.35       1443.03        -2.000000        -3.000000   \n43     1474.23      1498.65       1473.12        -0.333333        -2.000000   \n44     1505.34      1515.00       1504.89         1.666667         5.666667   \n45     1557.48      1526.34       1543.20         4.833333         8.833333   \n46     1456.29      1458.09       1456.20         0.333333        -1.333333   \n47     1512.69      1513.20       1497.00         3.333333         5.333333   \n48     1515.06      1557.48       1497.51        -1.416667        -5.500000   \n51     1513.32      1502.40       1513.80        -2.166667        -7.083333   \n57     1527.06      1456.29       1514.55        -3.416667       -10.166667   \n\n    cornersDifference  ewmDifference  elo_difference  form_difference  \n0            0.000000       0.000000            0.00         0.000000  \n1            0.000000       0.000000            0.00         0.000000  \n2            0.000000       0.000000            0.00         0.000000  \n3            0.000000       0.000000            0.00         0.000000  \n4            0.000000       0.000000            0.00         0.000000  \n5            0.000000       0.000000            0.00         0.000000  \n6            0.000000       0.000000            0.00         0.000000  \n7            0.000000       0.000000            0.00         0.000000  \n8            0.000000       3.000000           30.00         0.000000  \n9            0.000000       0.000000            0.00         0.000000  \n10           0.000000      -3.000000          -15.00         0.000000  \n11           0.000000       3.000000           30.00         0.000000  \n12           0.000000       0.000000            0.00         0.000000  \n13           0.000000       3.000000           30.00         0.000000  \n14           0.000000       0.000000            0.00         0.000000  \n15           0.000000       3.000000           15.00         0.000000  \n16           0.000000       0.000000           15.00         0.000000  \n17           0.000000       3.000000           15.00         0.000000  \n18           4.000000       1.875000           15.63         0.000000  \n19           4.000000       0.000000            0.63         0.000000  \n20          -1.000000      -3.000000          -28.71        -3.000000  \n21          -3.000000       0.000000           15.66         0.000000  \n22          12.000000      -1.875000          -29.34         0.000000  \n23          -2.000000      -1.125000            1.29        -3.000000  \n24          -5.000000      -1.875000          -13.68        -3.000000  \n25           3.000000      -3.000000          -28.05        -3.000000  \n26           2.000000      -3.000000          -44.34         0.000000  \n27           6.000000       0.000000            1.29         0.000000  \n28          -5.000000      -1.938776          -15.54        -1.500000  \n29           4.000000       4.530612           58.11         3.000000  \n30          -3.500000       0.979592           12.48        -1.500000  \n31           6.500000       3.510204           28.80         3.000000  \n32           2.000000       5.448980           56.25         4.500000  \n33           2.000000       1.020408           13.17         0.000000  \n34          -7.500000       5.448980           56.85         4.500000  \n35           3.500000       3.000000           26.25         3.000000  \n36           3.000000      -1.084184            1.38        -1.500000  \n37          -4.500000      -2.104592          -17.49        -1.500000  \n38          -6.333333       1.378676           27.06         0.000000  \n39           1.000000       1.529412           14.31         2.333333  \n40          -1.166667      -3.570678          -24.54        -2.000000  \n41           3.500000       2.664991           26.28         1.833333  \n42          10.666667       0.000000            1.32         0.000000  \n43           4.333333       3.000000           25.53         3.000000  \n44          -2.000000       1.231618           10.11         1.333333  \n45           4.833333       0.928496          -16.86         1.500000  \n46          -4.333333       0.735294            1.89         0.333333  \n47          -3.000000       0.988971           16.20         0.000000  \n48           3.666667       3.211123           59.97         2.000000  \n51           0.083333      -2.284836          -11.40        -2.250000  \n57          -1.833333      -5.737527          -58.26        -3.500000  \n\n[51 rows x 134 columns]",
      "text/html": "<div>\n<style scoped>\n    .dataframe tbody tr th:only-of-type {\n        vertical-align: middle;\n    }\n\n    .dataframe tbody tr th {\n        vertical-align: top;\n    }\n\n    .dataframe thead th {\n        text-align: right;\n    }\n</style>\n<table border=\"1\" class=\"dataframe\">\n  <thead>\n    <tr style=\"text-align: right;\">\n      <th></th>\n      <th>Unnamed: 0</th>\n      <th>Div</th>\n      <th>Date</th>\n      <th>Time</th>\n      <th>HomeTeam</th>\n      <th>AwayTeam</th>\n      <th>FTHG</th>\n      <th>FTAG</th>\n      <th>FTR</th>\n      <th>HTHG</th>\n      <th>...</th>\n      <th>Elo_h_after</th>\n      <th>Elo_a_after</th>\n      <th>Elo_h_before</th>\n      <th>Elo_a_before</th>\n      <th>goalsDifference</th>\n      <th>shotsDifference</th>\n      <th>cornersDifference</th>\n      <th>ewmDifference</th>\n      <th>elo_difference</th>\n      <th>form_difference</th>\n    </tr>\n  </thead>\n  <tbody>\n    <tr>\n      <th>0</th>\n      <td>0</td>\n      <td>E0</td>\n      <td>2020-09-12</td>\n      <td>12:30</td>\n      <td>Fulham</td>\n      <td>Arsenal</td>\n      <td>0</td>\n      <td>3</td>\n      <td>A</td>\n      <td>0</td>\n      <td>...</td>\n      <td>1485.00</td>\n      <td>1515.00</td>\n      <td>1500.00</td>\n      <td>1500.00</td>\n      <td>0.000000</td>\n      <td>0.000000</td>\n      <td>0.000000</td>\n      <td>0.000000</td>\n      <td>0.00</td>\n      <td>0.000000</td>\n    </tr>\n    <tr>\n      <th>1</th>\n      <td>1</td>\n      <td>E0</td>\n      <td>2020-09-12</td>\n      <td>15:00</td>\n      <td>Crystal Palace</td>\n      <td>Southampton</td>\n      <td>1</td>\n      <td>0</td>\n      <td>H</td>\n      <td>1</td>\n      <td>...</td>\n      <td>1515.00</td>\n      <td>1485.00</td>\n      <td>1500.00</td>\n      <td>1500.00</td>\n      <td>0.000000</td>\n      <td>0.000000</td>\n      <td>0.000000</td>\n      <td>0.000000</td>\n      <td>0.00</td>\n      <td>0.000000</td>\n    </tr>\n    <tr>\n      <th>2</th>\n      <td>2</td>\n      <td>E0</td>\n      <td>2020-09-12</td>\n      <td>17:30</td>\n      <td>Liverpool</td>\n      <td>Leeds United</td>\n      <td>4</td>\n      <td>3</td>\n      <td>H</td>\n      <td>3</td>\n      <td>...</td>\n      <td>1515.00</td>\n      <td>1485.00</td>\n      <td>1500.00</td>\n      <td>1500.00</td>\n      <td>0.000000</td>\n      <td>0.000000</td>\n      <td>0.000000</td>\n      <td>0.000000</td>\n      <td>0.00</td>\n      <td>0.000000</td>\n    </tr>\n    <tr>\n      <th>3</th>\n      <td>3</td>\n      <td>E0</td>\n      <td>2020-09-12</td>\n      <td>20:00</td>\n      <td>West Ham United</td>\n      <td>Newcastle United</td>\n      <td>0</td>\n      <td>2</td>\n      <td>A</td>\n      <td>0</td>\n      <td>...</td>\n      <td>1485.00</td>\n      <td>1515.00</td>\n      <td>1500.00</td>\n      <td>1500.00</td>\n      <td>0.000000</td>\n      <td>0.000000</td>\n      <td>0.000000</td>\n      <td>0.000000</td>\n      <td>0.00</td>\n      <td>0.000000</td>\n    </tr>\n    <tr>\n      <th>4</th>\n      <td>4</td>\n      <td>E0</td>\n      <td>2020-09-13</td>\n      <td>14:00</td>\n      <td>West Bromwich Albion</td>\n      <td>Leicester City</td>\n      <td>0</td>\n      <td>3</td>\n      <td>A</td>\n      <td>0</td>\n      <td>...</td>\n      <td>1485.00</td>\n      <td>1515.00</td>\n      <td>1500.00</td>\n      <td>1500.00</td>\n      <td>0.000000</td>\n      <td>0.000000</td>\n      <td>0.000000</td>\n      <td>0.000000</td>\n      <td>0.00</td>\n      <td>0.000000</td>\n    </tr>\n    <tr>\n      <th>5</th>\n      <td>5</td>\n      <td>E0</td>\n      <td>2020-09-13</td>\n      <td>16:30</td>\n      <td>Tottenham Hotspur</td>\n      <td>Everton</td>\n      <td>0</td>\n      <td>1</td>\n      <td>A</td>\n      <td>0</td>\n      <td>...</td>\n      <td>1485.00</td>\n      <td>1515.00</td>\n      <td>1500.00</td>\n      <td>1500.00</td>\n      <td>0.000000</td>\n      <td>0.000000</td>\n      <td>0.000000</td>\n      <td>0.000000</td>\n      <td>0.00</td>\n      <td>0.000000</td>\n    </tr>\n    <tr>\n      <th>6</th>\n      <td>6</td>\n      <td>E0</td>\n      <td>2020-09-14</td>\n      <td>20:15</td>\n      <td>Brighton &amp; Hove Albion</td>\n      <td>Chelsea</td>\n      <td>1</td>\n      <td>3</td>\n      <td>A</td>\n      <td>0</td>\n      <td>...</td>\n      <td>1485.00</td>\n      <td>1515.00</td>\n      <td>1500.00</td>\n      <td>1500.00</td>\n      <td>0.000000</td>\n      <td>0.000000</td>\n      <td>0.000000</td>\n      <td>0.000000</td>\n      <td>0.00</td>\n      <td>0.000000</td>\n    </tr>\n    <tr>\n      <th>7</th>\n      <td>7</td>\n      <td>E0</td>\n      <td>2020-09-14</td>\n      <td>18:00</td>\n      <td>Sheffield United</td>\n      <td>Wolverhampton Wanderers</td>\n      <td>0</td>\n      <td>2</td>\n      <td>A</td>\n      <td>0</td>\n      <td>...</td>\n      <td>1485.00</td>\n      <td>1515.00</td>\n      <td>1500.00</td>\n      <td>1500.00</td>\n      <td>0.000000</td>\n      <td>0.000000</td>\n      <td>0.000000</td>\n      <td>0.000000</td>\n      <td>0.00</td>\n      <td>0.000000</td>\n    </tr>\n    <tr>\n      <th>8</th>\n      <td>8</td>\n      <td>E0</td>\n      <td>2020-09-19</td>\n      <td>12:30</td>\n      <td>Everton</td>\n      <td>West Bromwich Albion</td>\n      <td>5</td>\n      <td>2</td>\n      <td>H</td>\n      <td>2</td>\n      <td>...</td>\n      <td>1528.71</td>\n      <td>1471.29</td>\n      <td>1515.00</td>\n      <td>1485.00</td>\n      <td>0.000000</td>\n      <td>0.000000</td>\n      <td>0.000000</td>\n      <td>3.000000</td>\n      <td>30.00</td>\n      <td>0.000000</td>\n    </tr>\n    <tr>\n      <th>9</th>\n      <td>9</td>\n      <td>E0</td>\n      <td>2020-09-19</td>\n      <td>15:00</td>\n      <td>Leeds United</td>\n      <td>Fulham</td>\n      <td>4</td>\n      <td>3</td>\n      <td>H</td>\n      <td>2</td>\n      <td>...</td>\n      <td>1500.00</td>\n      <td>1470.00</td>\n      <td>1485.00</td>\n      <td>1485.00</td>\n      <td>0.000000</td>\n      <td>0.000000</td>\n      <td>0.000000</td>\n      <td>0.000000</td>\n      <td>0.00</td>\n      <td>0.000000</td>\n    </tr>\n    <tr>\n      <th>10</th>\n      <td>10</td>\n      <td>E0</td>\n      <td>2020-09-19</td>\n      <td>17:30</td>\n      <td>Manchester United</td>\n      <td>Crystal Palace</td>\n      <td>1</td>\n      <td>3</td>\n      <td>A</td>\n      <td>0</td>\n      <td>...</td>\n      <td>1485.66</td>\n      <td>1529.34</td>\n      <td>1500.00</td>\n      <td>1515.00</td>\n      <td>0.000000</td>\n      <td>0.000000</td>\n      <td>0.000000</td>\n      <td>-3.000000</td>\n      <td>-15.00</td>\n      <td>0.000000</td>\n    </tr>\n    <tr>\n      <th>11</th>\n      <td>11</td>\n      <td>E0</td>\n      <td>2020-09-19</td>\n      <td>20:00</td>\n      <td>Arsenal</td>\n      <td>West Ham United</td>\n      <td>2</td>\n      <td>1</td>\n      <td>H</td>\n      <td>1</td>\n      <td>...</td>\n      <td>1528.71</td>\n      <td>1471.29</td>\n      <td>1515.00</td>\n      <td>1485.00</td>\n      <td>0.000000</td>\n      <td>0.000000</td>\n      <td>0.000000</td>\n      <td>3.000000</td>\n      <td>30.00</td>\n      <td>0.000000</td>\n    </tr>\n    <tr>\n      <th>12</th>\n      <td>12</td>\n      <td>E0</td>\n      <td>2020-09-20</td>\n      <td>12:00</td>\n      <td>Southampton</td>\n      <td>Tottenham Hotspur</td>\n      <td>2</td>\n      <td>5</td>\n      <td>A</td>\n      <td>1</td>\n      <td>...</td>\n      <td>1470.00</td>\n      <td>1500.00</td>\n      <td>1485.00</td>\n      <td>1485.00</td>\n      <td>0.000000</td>\n      <td>0.000000</td>\n      <td>0.000000</td>\n      <td>0.000000</td>\n      <td>0.00</td>\n      <td>0.000000</td>\n    </tr>\n    <tr>\n      <th>13</th>\n      <td>13</td>\n      <td>E0</td>\n      <td>2020-09-20</td>\n      <td>14:00</td>\n      <td>Newcastle United</td>\n      <td>Brighton &amp; Hove Albion</td>\n      <td>0</td>\n      <td>3</td>\n      <td>A</td>\n      <td>0</td>\n      <td>...</td>\n      <td>1498.71</td>\n      <td>1501.29</td>\n      <td>1515.00</td>\n      <td>1485.00</td>\n      <td>0.000000</td>\n      <td>0.000000</td>\n      <td>0.000000</td>\n      <td>3.000000</td>\n      <td>30.00</td>\n      <td>0.000000</td>\n    </tr>\n    <tr>\n      <th>14</th>\n      <td>14</td>\n      <td>E0</td>\n      <td>2020-09-20</td>\n      <td>16:30</td>\n      <td>Chelsea</td>\n      <td>Liverpool</td>\n      <td>0</td>\n      <td>2</td>\n      <td>A</td>\n      <td>0</td>\n      <td>...</td>\n      <td>1500.00</td>\n      <td>1530.00</td>\n      <td>1515.00</td>\n      <td>1515.00</td>\n      <td>0.000000</td>\n      <td>0.000000</td>\n      <td>0.000000</td>\n      <td>0.000000</td>\n      <td>0.00</td>\n      <td>0.000000</td>\n    </tr>\n    <tr>\n      <th>15</th>\n      <td>15</td>\n      <td>E0</td>\n      <td>2020-09-20</td>\n      <td>19:00</td>\n      <td>Leicester City</td>\n      <td>Burnley</td>\n      <td>4</td>\n      <td>2</td>\n      <td>H</td>\n      <td>1</td>\n      <td>...</td>\n      <td>1529.34</td>\n      <td>1485.66</td>\n      <td>1515.00</td>\n      <td>1500.00</td>\n      <td>0.000000</td>\n      <td>0.000000</td>\n      <td>0.000000</td>\n      <td>3.000000</td>\n      <td>15.00</td>\n      <td>0.000000</td>\n    </tr>\n    <tr>\n      <th>16</th>\n      <td>16</td>\n      <td>E0</td>\n      <td>2020-09-21</td>\n      <td>18:00</td>\n      <td>Aston Villa</td>\n      <td>Sheffield United</td>\n      <td>1</td>\n      <td>0</td>\n      <td>H</td>\n      <td>0</td>\n      <td>...</td>\n      <td>1514.34</td>\n      <td>1470.66</td>\n      <td>1500.00</td>\n      <td>1485.00</td>\n      <td>0.000000</td>\n      <td>0.000000</td>\n      <td>0.000000</td>\n      <td>0.000000</td>\n      <td>15.00</td>\n      <td>0.000000</td>\n    </tr>\n    <tr>\n      <th>17</th>\n      <td>17</td>\n      <td>E0</td>\n      <td>2020-09-21</td>\n      <td>20:15</td>\n      <td>Wolverhampton Wanderers</td>\n      <td>Manchester City</td>\n      <td>1</td>\n      <td>3</td>\n      <td>A</td>\n      <td>0</td>\n      <td>...</td>\n      <td>1499.34</td>\n      <td>1515.66</td>\n      <td>1515.00</td>\n      <td>1500.00</td>\n      <td>0.000000</td>\n      <td>0.000000</td>\n      <td>0.000000</td>\n      <td>3.000000</td>\n      <td>15.00</td>\n      <td>0.000000</td>\n    </tr>\n    <tr>\n      <th>18</th>\n      <td>18</td>\n      <td>E0</td>\n      <td>2020-09-26</td>\n      <td>12:30</td>\n      <td>Brighton &amp; Hove Albion</td>\n      <td>Manchester United</td>\n      <td>2</td>\n      <td>3</td>\n      <td>A</td>\n      <td>1</td>\n      <td>...</td>\n      <td>1485.63</td>\n      <td>1501.32</td>\n      <td>1501.29</td>\n      <td>1485.66</td>\n      <td>1.000000</td>\n      <td>3.000000</td>\n      <td>4.000000</td>\n      <td>1.875000</td>\n      <td>15.63</td>\n      <td>0.000000</td>\n    </tr>\n    <tr>\n      <th>19</th>\n      <td>19</td>\n      <td>E0</td>\n      <td>2020-09-26</td>\n      <td>15:00</td>\n      <td>Crystal Palace</td>\n      <td>Everton</td>\n      <td>1</td>\n      <td>2</td>\n      <td>A</td>\n      <td>1</td>\n      <td>...</td>\n      <td>1514.31</td>\n      <td>1543.74</td>\n      <td>1529.34</td>\n      <td>1528.71</td>\n      <td>0.000000</td>\n      <td>-1.000000</td>\n      <td>4.000000</td>\n      <td>0.000000</td>\n      <td>0.63</td>\n      <td>0.000000</td>\n    </tr>\n    <tr>\n      <th>20</th>\n      <td>20</td>\n      <td>E0</td>\n      <td>2020-09-26</td>\n      <td>17:30</td>\n      <td>West Bromwich Albion</td>\n      <td>Chelsea</td>\n      <td>3</td>\n      <td>3</td>\n      <td>D</td>\n      <td>3</td>\n      <td>...</td>\n      <td>1472.52</td>\n      <td>1498.77</td>\n      <td>1471.29</td>\n      <td>1500.00</td>\n      <td>-3.000000</td>\n      <td>-4.000000</td>\n      <td>-1.000000</td>\n      <td>-3.000000</td>\n      <td>-28.71</td>\n      <td>-3.000000</td>\n    </tr>\n    <tr>\n      <th>21</th>\n      <td>21</td>\n      <td>E0</td>\n      <td>2020-09-26</td>\n      <td>20:00</td>\n      <td>Burnley</td>\n      <td>Southampton</td>\n      <td>0</td>\n      <td>1</td>\n      <td>A</td>\n      <td>0</td>\n      <td>...</td>\n      <td>1469.97</td>\n      <td>1485.69</td>\n      <td>1485.66</td>\n      <td>1470.00</td>\n      <td>0.000000</td>\n      <td>-5.000000</td>\n      <td>-3.000000</td>\n      <td>0.000000</td>\n      <td>15.66</td>\n      <td>0.000000</td>\n    </tr>\n    <tr>\n      <th>22</th>\n      <td>22</td>\n      <td>E0</td>\n      <td>2020-09-27</td>\n      <td>12:00</td>\n      <td>Sheffield United</td>\n      <td>Leeds United</td>\n      <td>0</td>\n      <td>1</td>\n      <td>A</td>\n      <td>0</td>\n      <td>...</td>\n      <td>1456.92</td>\n      <td>1513.74</td>\n      <td>1470.66</td>\n      <td>1500.00</td>\n      <td>-3.000000</td>\n      <td>-1.000000</td>\n      <td>12.000000</td>\n      <td>-1.875000</td>\n      <td>-29.34</td>\n      <td>0.000000</td>\n    </tr>\n    <tr>\n      <th>23</th>\n      <td>23</td>\n      <td>E0</td>\n      <td>2020-09-27</td>\n      <td>14:00</td>\n      <td>Tottenham Hotspur</td>\n      <td>Newcastle United</td>\n      <td>1</td>\n      <td>1</td>\n      <td>D</td>\n      <td>1</td>\n      <td>...</td>\n      <td>1499.94</td>\n      <td>1498.77</td>\n      <td>1500.00</td>\n      <td>1498.71</td>\n      <td>-2.000000</td>\n      <td>3.000000</td>\n      <td>-2.000000</td>\n      <td>-1.125000</td>\n      <td>1.29</td>\n      <td>-3.000000</td>\n    </tr>\n    <tr>\n      <th>24</th>\n      <td>24</td>\n      <td>E0</td>\n      <td>2020-09-27</td>\n      <td>16:30</td>\n      <td>Manchester City</td>\n      <td>Leicester City</td>\n      <td>2</td>\n      <td>5</td>\n      <td>A</td>\n      <td>1</td>\n      <td>...</td>\n      <td>1501.26</td>\n      <td>1543.74</td>\n      <td>1515.66</td>\n      <td>1529.34</td>\n      <td>-3.000000</td>\n      <td>-7.000000</td>\n      <td>-5.000000</td>\n      <td>-1.875000</td>\n      <td>-13.68</td>\n      <td>-3.000000</td>\n    </tr>\n    <tr>\n      <th>25</th>\n      <td>25</td>\n      <td>E0</td>\n      <td>2020-09-27</td>\n      <td>19:00</td>\n      <td>West Ham United</td>\n      <td>Wolverhampton Wanderers</td>\n      <td>4</td>\n      <td>0</td>\n      <td>H</td>\n      <td>1</td>\n      <td>...</td>\n      <td>1487.49</td>\n      <td>1483.14</td>\n      <td>1471.29</td>\n      <td>1499.34</td>\n      <td>-2.000000</td>\n      <td>-1.000000</td>\n      <td>3.000000</td>\n      <td>-3.000000</td>\n      <td>-28.05</td>\n      <td>-3.000000</td>\n    </tr>\n    <tr>\n      <th>26</th>\n      <td>26</td>\n      <td>E0</td>\n      <td>2020-09-28</td>\n      <td>17:45</td>\n      <td>Fulham</td>\n      <td>Aston Villa</td>\n      <td>0</td>\n      <td>3</td>\n      <td>A</td>\n      <td>0</td>\n      <td>...</td>\n      <td>1456.89</td>\n      <td>1527.45</td>\n      <td>1470.00</td>\n      <td>1514.34</td>\n      <td>0.000000</td>\n      <td>2.000000</td>\n      <td>2.000000</td>\n      <td>-3.000000</td>\n      <td>-44.34</td>\n      <td>0.000000</td>\n    </tr>\n    <tr>\n      <th>27</th>\n      <td>27</td>\n      <td>E0</td>\n      <td>2020-09-28</td>\n      <td>20:00</td>\n      <td>Liverpool</td>\n      <td>Arsenal</td>\n      <td>3</td>\n      <td>1</td>\n      <td>H</td>\n      <td>2</td>\n      <td>...</td>\n      <td>1544.94</td>\n      <td>1513.77</td>\n      <td>1530.00</td>\n      <td>1528.71</td>\n      <td>1.000000</td>\n      <td>0.000000</td>\n      <td>6.000000</td>\n      <td>0.000000</td>\n      <td>1.29</td>\n      <td>0.000000</td>\n    </tr>\n    <tr>\n      <th>28</th>\n      <td>28</td>\n      <td>E0</td>\n      <td>2020-10-03</td>\n      <td>12:30</td>\n      <td>Chelsea</td>\n      <td>Crystal Palace</td>\n      <td>4</td>\n      <td>0</td>\n      <td>H</td>\n      <td>0</td>\n      <td>...</td>\n      <td>1514.43</td>\n      <td>1498.65</td>\n      <td>1498.77</td>\n      <td>1514.31</td>\n      <td>0.500000</td>\n      <td>1.000000</td>\n      <td>-5.000000</td>\n      <td>-1.938776</td>\n      <td>-15.54</td>\n      <td>-1.500000</td>\n    </tr>\n    <tr>\n      <th>29</th>\n      <td>29</td>\n      <td>E0</td>\n      <td>2020-10-03</td>\n      <td>15:00</td>\n      <td>Everton</td>\n      <td>Brighton &amp; Hove Albion</td>\n      <td>4</td>\n      <td>2</td>\n      <td>H</td>\n      <td>2</td>\n      <td>...</td>\n      <td>1556.25</td>\n      <td>1473.12</td>\n      <td>1543.74</td>\n      <td>1485.63</td>\n      <td>1.000000</td>\n      <td>1.500000</td>\n      <td>4.000000</td>\n      <td>4.530612</td>\n      <td>58.11</td>\n      <td>3.000000</td>\n    </tr>\n    <tr>\n      <th>30</th>\n      <td>30</td>\n      <td>E0</td>\n      <td>2020-10-03</td>\n      <td>17:30</td>\n      <td>Leeds United</td>\n      <td>Manchester City</td>\n      <td>1</td>\n      <td>1</td>\n      <td>D</td>\n      <td>0</td>\n      <td>...</td>\n      <td>1513.20</td>\n      <td>1501.80</td>\n      <td>1513.74</td>\n      <td>1501.26</td>\n      <td>2.000000</td>\n      <td>-2.500000</td>\n      <td>-3.500000</td>\n      <td>0.979592</td>\n      <td>12.48</td>\n      <td>-1.500000</td>\n    </tr>\n    <tr>\n      <th>31</th>\n      <td>31</td>\n      <td>E0</td>\n      <td>2020-10-03</td>\n      <td>20:00</td>\n      <td>Newcastle United</td>\n      <td>Burnley</td>\n      <td>3</td>\n      <td>1</td>\n      <td>H</td>\n      <td>1</td>\n      <td>...</td>\n      <td>1512.54</td>\n      <td>1456.20</td>\n      <td>1498.77</td>\n      <td>1469.97</td>\n      <td>0.000000</td>\n      <td>-3.000000</td>\n      <td>6.500000</td>\n      <td>3.510204</td>\n      <td>28.80</td>\n      <td>3.000000</td>\n    </tr>\n    <tr>\n      <th>32</th>\n      <td>32</td>\n      <td>E0</td>\n      <td>2020-10-04</td>\n      <td>12:00</td>\n      <td>Leicester City</td>\n      <td>West Ham United</td>\n      <td>0</td>\n      <td>3</td>\n      <td>A</td>\n      <td>0</td>\n      <td>...</td>\n      <td>1526.34</td>\n      <td>1504.89</td>\n      <td>1543.74</td>\n      <td>1487.49</td>\n      <td>4.500000</td>\n      <td>5.500000</td>\n      <td>2.000000</td>\n      <td>5.448980</td>\n      <td>56.25</td>\n      <td>4.500000</td>\n    </tr>\n    <tr>\n      <th>33</th>\n      <td>33</td>\n      <td>E0</td>\n      <td>2020-10-04</td>\n      <td>12:00</td>\n      <td>Southampton</td>\n      <td>West Bromwich Albion</td>\n      <td>2</td>\n      <td>0</td>\n      <td>H</td>\n      <td>1</td>\n      <td>...</td>\n      <td>1500.12</td>\n      <td>1458.09</td>\n      <td>1485.69</td>\n      <td>1472.52</td>\n      <td>0.000000</td>\n      <td>5.500000</td>\n      <td>2.000000</td>\n      <td>1.020408</td>\n      <td>13.17</td>\n      <td>0.000000</td>\n    </tr>\n    <tr>\n      <th>34</th>\n      <td>34</td>\n      <td>E0</td>\n      <td>2020-10-04</td>\n      <td>14:00</td>\n      <td>Arsenal</td>\n      <td>Sheffield United</td>\n      <td>2</td>\n      <td>1</td>\n      <td>H</td>\n      <td>0</td>\n      <td>...</td>\n      <td>1526.34</td>\n      <td>1444.35</td>\n      <td>1513.77</td>\n      <td>1456.92</td>\n      <td>4.000000</td>\n      <td>5.000000</td>\n      <td>-7.500000</td>\n      <td>5.448980</td>\n      <td>56.85</td>\n      <td>4.500000</td>\n    </tr>\n    <tr>\n      <th>35</th>\n      <td>35</td>\n      <td>E0</td>\n      <td>2020-10-04</td>\n      <td>14:00</td>\n      <td>Wolverhampton Wanderers</td>\n      <td>Fulham</td>\n      <td>1</td>\n      <td>0</td>\n      <td>H</td>\n      <td>0</td>\n      <td>...</td>\n      <td>1497.00</td>\n      <td>1443.03</td>\n      <td>1483.14</td>\n      <td>1456.89</td>\n      <td>1.000000</td>\n      <td>-0.500000</td>\n      <td>3.500000</td>\n      <td>3.000000</td>\n      <td>26.25</td>\n      <td>3.000000</td>\n    </tr>\n    <tr>\n      <th>36</th>\n      <td>36</td>\n      <td>E0</td>\n      <td>2020-10-04</td>\n      <td>16:30</td>\n      <td>Manchester United</td>\n      <td>Tottenham Hotspur</td>\n      <td>1</td>\n      <td>6</td>\n      <td>A</td>\n      <td>1</td>\n      <td>...</td>\n      <td>1486.26</td>\n      <td>1515.00</td>\n      <td>1501.32</td>\n      <td>1499.94</td>\n      <td>-1.500000</td>\n      <td>-4.000000</td>\n      <td>3.000000</td>\n      <td>-1.084184</td>\n      <td>1.38</td>\n      <td>-1.500000</td>\n    </tr>\n    <tr>\n      <th>37</th>\n      <td>37</td>\n      <td>E0</td>\n      <td>2020-10-04</td>\n      <td>19:15</td>\n      <td>Aston Villa</td>\n      <td>Liverpool</td>\n      <td>7</td>\n      <td>2</td>\n      <td>H</td>\n      <td>4</td>\n      <td>...</td>\n      <td>1543.20</td>\n      <td>1529.19</td>\n      <td>1527.45</td>\n      <td>1544.94</td>\n      <td>-4.000000</td>\n      <td>-7.000000</td>\n      <td>-4.500000</td>\n      <td>-2.104592</td>\n      <td>-17.49</td>\n      <td>-1.500000</td>\n    </tr>\n    <tr>\n      <th>38</th>\n      <td>38</td>\n      <td>E0</td>\n      <td>2020-10-17</td>\n      <td>12:30</td>\n      <td>Everton</td>\n      <td>Liverpool</td>\n      <td>2</td>\n      <td>2</td>\n      <td>D</td>\n      <td>1</td>\n      <td>...</td>\n      <td>1555.08</td>\n      <td>1530.36</td>\n      <td>1556.25</td>\n      <td>1529.19</td>\n      <td>-1.333333</td>\n      <td>-2.333333</td>\n      <td>-6.333333</td>\n      <td>1.378676</td>\n      <td>27.06</td>\n      <td>0.000000</td>\n    </tr>\n    <tr>\n      <th>39</th>\n      <td>39</td>\n      <td>E0</td>\n      <td>2020-10-17</td>\n      <td>15:00</td>\n      <td>Chelsea</td>\n      <td>Southampton</td>\n      <td>3</td>\n      <td>3</td>\n      <td>D</td>\n      <td>2</td>\n      <td>...</td>\n      <td>1513.80</td>\n      <td>1500.75</td>\n      <td>1514.43</td>\n      <td>1500.12</td>\n      <td>2.333333</td>\n      <td>0.333333</td>\n      <td>1.000000</td>\n      <td>1.529412</td>\n      <td>14.31</td>\n      <td>2.333333</td>\n    </tr>\n    <tr>\n      <th>40</th>\n      <td>40</td>\n      <td>E0</td>\n      <td>2020-10-17</td>\n      <td>17:30</td>\n      <td>Manchester City</td>\n      <td>Arsenal</td>\n      <td>1</td>\n      <td>0</td>\n      <td>H</td>\n      <td>1</td>\n      <td>...</td>\n      <td>1517.85</td>\n      <td>1510.29</td>\n      <td>1501.80</td>\n      <td>1526.34</td>\n      <td>-0.666667</td>\n      <td>2.500000</td>\n      <td>-1.166667</td>\n      <td>-3.570678</td>\n      <td>-24.54</td>\n      <td>-2.000000</td>\n    </tr>\n    <tr>\n      <th>41</th>\n      <td>41</td>\n      <td>E0</td>\n      <td>2020-10-17</td>\n      <td>20:00</td>\n      <td>Newcastle United</td>\n      <td>Manchester United</td>\n      <td>1</td>\n      <td>4</td>\n      <td>A</td>\n      <td>1</td>\n      <td>...</td>\n      <td>1496.40</td>\n      <td>1502.40</td>\n      <td>1512.54</td>\n      <td>1486.26</td>\n      <td>-0.166667</td>\n      <td>-3.166667</td>\n      <td>3.500000</td>\n      <td>2.664991</td>\n      <td>26.28</td>\n      <td>1.833333</td>\n    </tr>\n    <tr>\n      <th>42</th>\n      <td>42</td>\n      <td>E0</td>\n      <td>2020-10-18</td>\n      <td>12:00</td>\n      <td>Sheffield United</td>\n      <td>Fulham</td>\n      <td>1</td>\n      <td>1</td>\n      <td>D</td>\n      <td>0</td>\n      <td>...</td>\n      <td>1444.29</td>\n      <td>1443.09</td>\n      <td>1444.35</td>\n      <td>1443.03</td>\n      <td>-2.000000</td>\n      <td>-3.000000</td>\n      <td>10.666667</td>\n      <td>0.000000</td>\n      <td>1.32</td>\n      <td>0.000000</td>\n    </tr>\n    <tr>\n      <th>43</th>\n      <td>43</td>\n      <td>E0</td>\n      <td>2020-10-18</td>\n      <td>14:00</td>\n      <td>Crystal Palace</td>\n      <td>Brighton &amp; Hove Albion</td>\n      <td>1</td>\n      <td>1</td>\n      <td>D</td>\n      <td>1</td>\n      <td>...</td>\n      <td>1497.54</td>\n      <td>1474.23</td>\n      <td>1498.65</td>\n      <td>1473.12</td>\n      <td>-0.333333</td>\n      <td>-2.000000</td>\n      <td>4.333333</td>\n      <td>3.000000</td>\n      <td>25.53</td>\n      <td>3.000000</td>\n    </tr>\n    <tr>\n      <th>44</th>\n      <td>44</td>\n      <td>E0</td>\n      <td>2020-10-18</td>\n      <td>16:30</td>\n      <td>Tottenham Hotspur</td>\n      <td>West Ham United</td>\n      <td>3</td>\n      <td>3</td>\n      <td>D</td>\n      <td>3</td>\n      <td>...</td>\n      <td>1514.55</td>\n      <td>1505.34</td>\n      <td>1515.00</td>\n      <td>1504.89</td>\n      <td>1.666667</td>\n      <td>5.666667</td>\n      <td>-2.000000</td>\n      <td>1.231618</td>\n      <td>10.11</td>\n      <td>1.333333</td>\n    </tr>\n    <tr>\n      <th>45</th>\n      <td>45</td>\n      <td>E0</td>\n      <td>2020-10-18</td>\n      <td>19:15</td>\n      <td>Leicester City</td>\n      <td>Aston Villa</td>\n      <td>0</td>\n      <td>1</td>\n      <td>A</td>\n      <td>0</td>\n      <td>...</td>\n      <td>1512.06</td>\n      <td>1557.48</td>\n      <td>1526.34</td>\n      <td>1543.20</td>\n      <td>4.833333</td>\n      <td>8.833333</td>\n      <td>4.833333</td>\n      <td>0.928496</td>\n      <td>-16.86</td>\n      <td>1.500000</td>\n    </tr>\n    <tr>\n      <th>46</th>\n      <td>46</td>\n      <td>E0</td>\n      <td>2020-10-19</td>\n      <td>17:30</td>\n      <td>West Bromwich Albion</td>\n      <td>Burnley</td>\n      <td>0</td>\n      <td>0</td>\n      <td>D</td>\n      <td>0</td>\n      <td>...</td>\n      <td>1458.00</td>\n      <td>1456.29</td>\n      <td>1458.09</td>\n      <td>1456.20</td>\n      <td>0.333333</td>\n      <td>-1.333333</td>\n      <td>-4.333333</td>\n      <td>0.735294</td>\n      <td>1.89</td>\n      <td>0.333333</td>\n    </tr>\n    <tr>\n      <th>47</th>\n      <td>47</td>\n      <td>E0</td>\n      <td>2020-10-19</td>\n      <td>20:00</td>\n      <td>Leeds United</td>\n      <td>Wolverhampton Wanderers</td>\n      <td>0</td>\n      <td>1</td>\n      <td>A</td>\n      <td>0</td>\n      <td>...</td>\n      <td>1497.51</td>\n      <td>1512.69</td>\n      <td>1513.20</td>\n      <td>1497.00</td>\n      <td>3.333333</td>\n      <td>5.333333</td>\n      <td>-3.000000</td>\n      <td>0.988971</td>\n      <td>16.20</td>\n      <td>0.000000</td>\n    </tr>\n    <tr>\n      <th>48</th>\n      <td>48</td>\n      <td>E0</td>\n      <td>2020-10-23</td>\n      <td>20:00</td>\n      <td>Aston Villa</td>\n      <td>Leeds United</td>\n      <td>0</td>\n      <td>3</td>\n      <td>A</td>\n      <td>0</td>\n      <td>...</td>\n      <td>1539.93</td>\n      <td>1515.06</td>\n      <td>1557.48</td>\n      <td>1497.51</td>\n      <td>-1.416667</td>\n      <td>-5.500000</td>\n      <td>3.666667</td>\n      <td>3.211123</td>\n      <td>59.97</td>\n      <td>2.000000</td>\n    </tr>\n    <tr>\n      <th>51</th>\n      <td>51</td>\n      <td>E0</td>\n      <td>2020-10-24</td>\n      <td>17:30</td>\n      <td>Manchester United</td>\n      <td>Chelsea</td>\n      <td>0</td>\n      <td>0</td>\n      <td>D</td>\n      <td>0</td>\n      <td>...</td>\n      <td>1502.88</td>\n      <td>1513.32</td>\n      <td>1502.40</td>\n      <td>1513.80</td>\n      <td>-2.166667</td>\n      <td>-7.083333</td>\n      <td>0.083333</td>\n      <td>-2.284836</td>\n      <td>-11.40</td>\n      <td>-2.250000</td>\n    </tr>\n    <tr>\n      <th>57</th>\n      <td>57</td>\n      <td>E0</td>\n      <td>2020-10-26</td>\n      <td>20:00</td>\n      <td>Burnley</td>\n      <td>Tottenham Hotspur</td>\n      <td>0</td>\n      <td>1</td>\n      <td>A</td>\n      <td>0</td>\n      <td>...</td>\n      <td>1443.78</td>\n      <td>1527.06</td>\n      <td>1456.29</td>\n      <td>1514.55</td>\n      <td>-3.416667</td>\n      <td>-10.166667</td>\n      <td>-1.833333</td>\n      <td>-5.737527</td>\n      <td>-58.26</td>\n      <td>-3.500000</td>\n    </tr>\n  </tbody>\n</table>\n<p>51 rows × 134 columns</p>\n</div>"
     },
     "execution_count": 8,
     "metadata": {},
     "output_type": "execute_result"
    }
   ],
   "source": [
    "#PL20_21_fixtures\n",
    "test_fixtures = PL20_21_fixtures[PL20_21_fixtures['Wk_h'] < 6]\n",
    "test_fixtures\n"
   ],
   "metadata": {
    "collapsed": false,
    "pycharm": {
     "name": "#%%\n"
    }
   }
  },
  {
   "cell_type": "code",
   "execution_count": 61,
   "outputs": [
    {
     "name": "stdout",
     "output_type": "stream",
     "text": [
      "CPU times: total: 15.6 ms\n",
      "Wall time: 31.7 ms\n"
     ]
    },
    {
     "data": {
      "text/plain": "15.757482720409056"
     },
     "execution_count": 61,
     "metadata": {},
     "output_type": "execute_result"
    }
   ],
   "source": [
    "%%time\n",
    "def get_player_stats(player_stats, lineup, wk):\n",
    "    tmp = pd.merge(player_stats, lineup[['player', 'start11']], on= 'player')\n",
    "    df = tmp.drop(tmp[tmp.wk > wk].index)\n",
    "    return df\n",
    "\n",
    "def get_player_points(player_df, player, wk, stat):\n",
    "    rslt_df = player_df[player_df['player'] ==player]\n",
    "    rslt_df2 = rslt_df[rslt_df['wk'] ==wk]\n",
    "    if rslt_df2.empty == True:\n",
    "        return 0\n",
    "    out = rslt_df2[stat]\n",
    "    #print(out)\n",
    "    out = out.values[0]\n",
    "    return out\n",
    "\n",
    "def get_stats_season(player_df, player, fr, to, stat):\n",
    "    test = []\n",
    "    out = 0\n",
    "    df2 = 0\n",
    "    if fr == to: return 0\n",
    "    for i in range(fr, to):\n",
    "        out =  get_player_points(player_df ,player, i, stat)\n",
    "        test.append(out)\n",
    "        #print(test)\n",
    "        df = pd.Series(test)\n",
    "        df2 = df.ewm(alpha=0.1).mean()[len(df) - 1]\n",
    "    return df2\n",
    "\n",
    "def append_stats(features ,player_df, stat):\n",
    "    index = 0\n",
    "    features_dict = features.to_dict('records')\n",
    "    #for index, row in features.iterrows():\n",
    "    start = time.process_time()\n",
    "    for row in features_dict:\n",
    "        lineup_h = get_lineup(PL20_21_lineups_tmp, row['game_home_ID'])\n",
    "        lineup_a = get_lineup(PL20_21_lineups_tmp, row['game_away_ID'])\n",
    "        lineup_h = lineup_h.to_dict('records')\n",
    "        lineup_a = lineup_a.to_dict('records')\n",
    "        rating_h_bench = 0\n",
    "        rating_h_gk = 0\n",
    "        rating_h_df = 0\n",
    "        rating_h_mf = 0\n",
    "        rating_h_att = 0\n",
    "        rating_a_bench = 0\n",
    "        rating_a_gk = 0\n",
    "        rating_a_df = 0\n",
    "        rating_a_mf = 0\n",
    "        rating_a_att = 0\n",
    "        influence_h = 0\n",
    "        influence_a = 0\n",
    "        creativity_h = 0\n",
    "        creativity_a = 0\n",
    "        threat_h = 0\n",
    "        threat_a = 0\n",
    "        selected_h = 0\n",
    "        selected_a = 0\n",
    "        bps_h = 0\n",
    "        bps_a = 0\n",
    "        #print(index)\n",
    "        for row_l in lineup_h:\n",
    "            if row_l['start11'] == False:\n",
    "                rating_h_bench = rating_h_bench + get_stats_season(player_df, row_l['player'],1, row_l['wk'], stat)\n",
    "            if row_l['category'] == 'Goalkeeper' and row_l['start11'] == True:\n",
    "                rating_h_gk = rating_h_gk + get_stats_season(player_df, row_l['player'],1, row_l['wk'], stat)\n",
    "                influence_h = influence_h + get_stats_season(player_df, row_l['player'],1, row_l['wk'], 'influence')\n",
    "                creativity_h = creativity_h + get_stats_season(player_df, row_l['player'],1, row_l['wk'], 'creativity')\n",
    "                threat_h = threat_h + get_stats_season(player_df, row_l['player'],1, row_l['wk'], 'threat')\n",
    "                bps_h = bps_h + get_stats_season(player_df, row_l['player'],1, row_l['wk'], 'bps')\n",
    "                selected_h = selected_h + get_stats_season(player_df, row_l['player'],1, row_l['wk'], 'selected')\n",
    "            elif row_l['category'] == 'Defender'and row_l['start11'] == True:\n",
    "                rating_h_df = rating_h_df + get_stats_season(player_df, row_l['player'],1, row_l['wk'], stat)\n",
    "                influence_h = influence_h + get_stats_season(player_df, row_l['player'],1, row_l['wk'], 'influence')\n",
    "                creativity_h = creativity_h + get_stats_season(player_df, row_l['player'],1, row_l['wk'], 'creativity')\n",
    "                threat_h = threat_h + get_stats_season(player_df, row_l['player'],1, row_l['wk'], 'threat')\n",
    "                bps_h = bps_h + get_stats_season(player_df, row_l['player'],1, row_l['wk'], 'bps')\n",
    "                selected_h = selected_h + get_stats_season(player_df, row_l['player'],1, row_l['wk'], 'selected')\n",
    "            elif row_l['category'] == 'Midfield'and row_l['start11'] == True:\n",
    "                rating_h_mf = rating_h_mf + get_stats_season(player_df, row_l['player'],1, row_l['wk'], stat)\n",
    "                influence_h = influence_h + get_stats_season(player_df, row_l['player'],1, row_l['wk'], 'influence')\n",
    "                creativity_h = creativity_h + get_stats_season(player_df, row_l['player'],1, row_l['wk'], 'creativity')\n",
    "                threat_h = threat_h + get_stats_season(player_df, row_l['player'],1, row_l['wk'], 'threat')\n",
    "                bps_h = bps_h + get_stats_season(player_df, row_l['player'],1, row_l['wk'], 'bps')\n",
    "                selected_h = selected_h + get_stats_season(player_df, row_l['player'],1, row_l['wk'], 'selected')\n",
    "            elif row_l['category'] == 'Forward'and row_l['start11'] == True:\n",
    "                rating_h_att = rating_h_att + get_stats_season(player_df, row_l['player'],1, row_l['wk'], stat)\n",
    "                influence_h = influence_h + get_stats_season(player_df, row_l['player'],1, row_l['wk'], 'influence')\n",
    "                creativity_h = creativity_h + get_stats_season(player_df, row_l['player'],1, row_l['wk'], 'creativity')\n",
    "                threat_h = threat_h + get_stats_season(player_df, row_l['player'],1, row_l['wk'], 'threat')\n",
    "                bps_h = bps_h + get_stats_season(player_df, row_l['player'],1, row_l['wk'], 'bps')\n",
    "                selected_h = selected_h + get_stats_season(player_df, row_l['player'],1, row_l['wk'], 'selected')\n",
    "\n",
    "        for row_l in lineup_a:\n",
    "            if row_l['start11'] == False:\n",
    "                rating_a_bench = rating_a_bench + get_stats_season(player_df, row_l['player'],1, row_l['wk'], stat)\n",
    "            if row_l['category'] == 'Goalkeeper' and row_l['start11'] == True:\n",
    "                rating_a_gk = rating_a_gk + get_stats_season(player_df, row_l['player'],1, row_l['wk'], stat)\n",
    "                influence_a = influence_a + get_stats_season(player_df, row_l['player'],1, row_l['wk'], 'influence')\n",
    "                creativity_a = creativity_a + get_stats_season(player_df, row_l['player'],1, row_l['wk'], 'creativity')\n",
    "                threat_a = threat_a + get_stats_season(player_df, row_l['player'],1, row_l['wk'], 'threat')\n",
    "                bps_a = bps_a + get_stats_season(player_df, row_l['player'],1, row_l['wk'], 'bps')\n",
    "                selected_a = selected_a + get_stats_season(player_df, row_l['player'],1, row_l['wk'], 'selected')\n",
    "            elif row_l['category'] == 'Defender'and row_l['start11'] == True:\n",
    "                rating_a_df = rating_a_df + get_stats_season(player_df, row_l['player'],1, row_l['wk'], stat)\n",
    "                influence_a = influence_a + get_stats_season(player_df, row_l['player'],1, row_l['wk'], 'influence')\n",
    "                creativity_a = creativity_a + get_stats_season(player_df, row_l['player'],1, row_l['wk'], 'creativity')\n",
    "                threat_a = threat_a + get_stats_season(player_df, row_l['player'],1, row_l['wk'], 'threat')\n",
    "                bps_a = bps_a + get_stats_season(player_df, row_l['player'],1, row_l['wk'], 'bps')\n",
    "                selected_a = selected_a + get_stats_season(player_df, row_l['player'],1, row_l['wk'], 'selected')\n",
    "            elif row_l['category'] == 'Midfield'and row_l['start11'] == True:\n",
    "                rating_a_mf = rating_a_mf + get_stats_season(player_df, row_l['player'],1, row_l['wk'], stat)\n",
    "                influence_a = influence_a + get_stats_season(player_df, row_l['player'],1, row_l['wk'], 'influence')\n",
    "                creativity_a = creativity_a + get_stats_season(player_df, row_l['player'],1, row_l['wk'], 'creativity')\n",
    "                threat_a = threat_a + get_stats_season(player_df, row_l['player'],1, row_l['wk'], 'threat')\n",
    "                bps_a = bps_a + get_stats_season(player_df, row_l['player'],1, row_l['wk'], 'bps')\n",
    "                selected_a = selected_a + get_stats_season(player_df, row_l['player'],1, row_l['wk'], 'selected')\n",
    "            elif row_l['category'] == 'Forward'and row_l['start11'] == True:\n",
    "                rating_a_att = rating_a_att + get_stats_season(player_df, row_l['player'],1, row_l['wk'], stat)\n",
    "                influence_a = influence_a + get_stats_season(player_df, row_l['player'],1, row_l['wk'], 'influence')\n",
    "                creativity_a = creativity_a + get_stats_season(player_df, row_l['player'],1, row_l['wk'], 'creativity')\n",
    "                threat_a = threat_a + get_stats_season(player_df, row_l['player'],1, row_l['wk'], 'threat')\n",
    "                bps_a = bps_a + get_stats_season(player_df, row_l['player'],1, row_l['wk'], 'bps')\n",
    "                selected_a = selected_a + get_stats_season(player_df, row_l['player'],1, row_l['wk'], 'selected')\n",
    "\n",
    "\n",
    "        features.loc[index, 'rating_h_gk'] = rating_h_gk\n",
    "        features.loc[index, 'rating_h_df'] = rating_h_df\n",
    "        features.loc[index, 'rating_h_mf'] = rating_h_mf\n",
    "        features.loc[index, 'rating_h_att'] = rating_h_att\n",
    "        features.loc[index, 'rating_h_bench'] = rating_h_bench\n",
    "        features.loc[index, 'influence_h'] = influence_h\n",
    "        features.loc[index, 'creativity_h'] = creativity_h\n",
    "        features.loc[index, 'threat_h'] = threat_h\n",
    "        features.loc[index, 'influence_h'] = influence_h\n",
    "        features.loc[index, 'bps_h'] = bps_h\n",
    "        features.loc[index, 'selected_h'] = selected_h\n",
    "        features.loc[index, 'rating_a_gk'] = rating_a_gk\n",
    "        features.loc[index, 'rating_a_df'] = rating_a_df\n",
    "        features.loc[index, 'rating_a_mf'] = rating_a_mf\n",
    "        features.loc[index, 'rating_a_att'] = rating_a_att\n",
    "        features.loc[index, 'rating_a_bench'] = rating_a_bench\n",
    "        features.loc[index, 'influence_a'] = influence_a\n",
    "        features.loc[index, 'creativity_a'] = creativity_a\n",
    "        features.loc[index, 'threat_a'] = threat_a\n",
    "        features.loc[index, 'influence_a'] = influence_a\n",
    "        features.loc[index, 'bps_a'] = bps_a\n",
    "        features.loc[index, 'selected_a'] = selected_a\n",
    "        index = index +1\n",
    "        print(index)\n",
    "    return features\n",
    "\n",
    "\n",
    "\n",
    "get_stats_season(player_df=PL20_21_player_stats_tmp, player='Michael Hector', fr=1, to=6, stat='rating')\n",
    "#player_ratings_a_04 = append_stats(PL20_21_fixtures_tmp, PL20_21_player_stats_tmp, 'rating')\n",
    "#player_ratings_a_04"
   ],
   "metadata": {
    "collapsed": false,
    "pycharm": {
     "name": "#%%\n"
    }
   }
  },
  {
   "cell_type": "code",
   "execution_count": 55,
   "outputs": [
    {
     "name": "stdout",
     "output_type": "stream",
     "text": [
      "1\n",
      "2\n",
      "3\n",
      "4\n",
      "5\n",
      "6\n",
      "7\n",
      "8\n",
      "9\n",
      "10\n",
      "11\n",
      "12\n",
      "13\n",
      "14\n",
      "15\n",
      "16\n",
      "17\n",
      "18\n",
      "19\n",
      "20\n",
      "21\n",
      "22\n",
      "23\n",
      "24\n",
      "25\n",
      "26\n",
      "27\n",
      "28\n",
      "29\n",
      "30\n",
      "31\n",
      "32\n",
      "33\n",
      "34\n",
      "35\n",
      "36\n",
      "37\n",
      "38\n",
      "39\n",
      "40\n",
      "41\n",
      "42\n",
      "43\n",
      "44\n",
      "45\n",
      "46\n",
      "47\n",
      "48\n",
      "49\n",
      "50\n",
      "51\n",
      "52\n",
      "53\n",
      "54\n",
      "55\n",
      "56\n",
      "57\n",
      "58\n",
      "59\n",
      "60\n",
      "61\n",
      "62\n",
      "63\n",
      "64\n",
      "65\n",
      "66\n",
      "67\n",
      "68\n",
      "69\n",
      "70\n",
      "71\n",
      "72\n",
      "73\n",
      "74\n",
      "75\n",
      "76\n",
      "77\n",
      "78\n",
      "79\n",
      "80\n",
      "81\n",
      "82\n",
      "83\n",
      "84\n",
      "85\n",
      "86\n",
      "87\n",
      "88\n",
      "89\n",
      "90\n",
      "91\n",
      "92\n",
      "93\n",
      "94\n",
      "95\n",
      "96\n",
      "97\n",
      "98\n",
      "99\n",
      "100\n",
      "101\n",
      "102\n",
      "103\n",
      "104\n",
      "105\n",
      "106\n",
      "107\n",
      "108\n",
      "109\n",
      "110\n",
      "111\n",
      "112\n",
      "113\n",
      "114\n",
      "115\n",
      "116\n",
      "117\n",
      "118\n",
      "119\n",
      "120\n",
      "121\n",
      "122\n",
      "123\n",
      "124\n",
      "125\n",
      "126\n",
      "127\n",
      "128\n",
      "129\n",
      "130\n",
      "131\n",
      "132\n",
      "133\n",
      "134\n",
      "135\n",
      "136\n",
      "137\n",
      "138\n",
      "139\n",
      "140\n",
      "141\n",
      "142\n",
      "143\n",
      "144\n",
      "145\n",
      "146\n",
      "147\n",
      "148\n",
      "149\n",
      "150\n",
      "151\n",
      "152\n",
      "153\n",
      "154\n",
      "155\n",
      "156\n",
      "157\n",
      "158\n",
      "159\n",
      "160\n",
      "161\n",
      "162\n",
      "163\n",
      "164\n",
      "165\n",
      "166\n",
      "167\n",
      "168\n",
      "169\n",
      "170\n",
      "171\n",
      "172\n",
      "173\n",
      "174\n",
      "175\n",
      "176\n",
      "177\n",
      "178\n",
      "179\n",
      "180\n",
      "181\n",
      "182\n",
      "183\n",
      "184\n",
      "185\n",
      "186\n",
      "187\n",
      "188\n",
      "189\n",
      "190\n",
      "191\n",
      "192\n",
      "193\n",
      "194\n",
      "195\n",
      "196\n",
      "197\n",
      "198\n",
      "199\n",
      "200\n",
      "201\n",
      "202\n",
      "203\n",
      "204\n",
      "205\n",
      "206\n",
      "207\n",
      "208\n",
      "209\n",
      "210\n",
      "211\n",
      "212\n",
      "213\n",
      "214\n",
      "215\n",
      "216\n",
      "217\n",
      "218\n",
      "219\n",
      "220\n",
      "221\n",
      "222\n",
      "223\n",
      "224\n",
      "225\n",
      "226\n",
      "227\n",
      "228\n",
      "229\n",
      "230\n",
      "231\n",
      "232\n",
      "233\n",
      "234\n",
      "235\n",
      "236\n",
      "237\n",
      "238\n",
      "239\n",
      "240\n",
      "241\n",
      "242\n",
      "243\n",
      "244\n",
      "245\n",
      "246\n",
      "247\n",
      "248\n",
      "249\n",
      "250\n",
      "251\n",
      "252\n",
      "253\n",
      "254\n",
      "255\n",
      "256\n",
      "257\n",
      "258\n",
      "259\n",
      "260\n",
      "261\n",
      "262\n",
      "263\n",
      "264\n",
      "265\n",
      "266\n",
      "267\n",
      "268\n",
      "269\n",
      "270\n",
      "271\n",
      "272\n",
      "273\n",
      "274\n",
      "275\n",
      "276\n",
      "277\n",
      "278\n",
      "279\n",
      "280\n",
      "281\n",
      "282\n",
      "283\n",
      "284\n",
      "285\n",
      "286\n",
      "287\n",
      "288\n",
      "289\n",
      "290\n",
      "291\n",
      "292\n",
      "293\n",
      "294\n",
      "295\n",
      "296\n",
      "297\n",
      "298\n",
      "299\n",
      "300\n",
      "301\n",
      "302\n",
      "303\n",
      "304\n",
      "305\n",
      "306\n",
      "307\n",
      "308\n",
      "309\n",
      "310\n",
      "311\n",
      "312\n",
      "313\n",
      "314\n",
      "315\n",
      "316\n",
      "317\n",
      "318\n",
      "319\n",
      "320\n",
      "321\n",
      "322\n",
      "323\n",
      "324\n",
      "325\n",
      "326\n",
      "327\n",
      "328\n",
      "329\n",
      "330\n",
      "331\n",
      "332\n",
      "333\n",
      "334\n",
      "335\n",
      "336\n",
      "337\n",
      "338\n",
      "339\n",
      "340\n",
      "341\n",
      "342\n",
      "343\n",
      "344\n",
      "345\n",
      "346\n",
      "347\n",
      "348\n",
      "349\n",
      "350\n",
      "351\n",
      "352\n",
      "353\n",
      "354\n",
      "355\n",
      "356\n",
      "357\n",
      "358\n",
      "359\n",
      "360\n",
      "361\n",
      "362\n",
      "363\n",
      "364\n",
      "365\n",
      "366\n",
      "367\n",
      "368\n",
      "369\n",
      "370\n",
      "371\n",
      "372\n",
      "373\n",
      "374\n",
      "375\n",
      "376\n",
      "377\n",
      "378\n",
      "379\n",
      "380\n",
      "CPU times: total: 33min 16s\n",
      "Wall time: 33min 27s\n"
     ]
    },
    {
     "data": {
      "text/plain": "           Date   Time                 HomeTeam           AwayTeam  FTHG  \\\n0    2020-09-12  12:30                   Fulham            Arsenal     0   \n1    2020-09-12  15:00           Crystal Palace        Southampton     1   \n2    2020-09-12  17:30                Liverpool       Leeds United     4   \n3    2020-09-12  20:00          West Ham United   Newcastle United     0   \n4    2020-09-13  14:00     West Bromwich Albion     Leicester City     0   \n..          ...    ...                      ...                ...   ...   \n375  2021-05-23  16:00                Liverpool     Crystal Palace     2   \n376  2021-05-23  16:00          Manchester City            Everton     5   \n377  2021-05-23  16:00         Sheffield United            Burnley     1   \n378  2021-05-23  16:00          West Ham United        Southampton     3   \n379  2021-05-23  16:00  Wolverhampton Wanderers  Manchester United     1   \n\n     FTAG FTR                       game_home_ID                 game_away_ID  \\\n0       3   A                   Fulham2020-09-12            Arsenal2020-09-12   \n1       0   H           Crystal Palace2020-09-12        Southampton2020-09-12   \n2       3   H                Liverpool2020-09-12       Leeds United2020-09-12   \n3       2   A          West Ham United2020-09-12   Newcastle United2020-09-12   \n4       3   A     West Bromwich Albion2020-09-13     Leicester City2020-09-13   \n..    ...  ..                                ...                          ...   \n375     0   H                Liverpool2021-05-23     Crystal Palace2021-05-23   \n376     0   H          Manchester City2021-05-23            Everton2021-05-23   \n377     0   H         Sheffield United2021-05-23            Burnley2021-05-23   \n378     0   H          West Ham United2021-05-23        Southampton2021-05-23   \n379     2   A  Wolverhampton Wanderers2021-05-23  Manchester United2021-05-23   \n\n     Wk_h  ...  rating_a_gk  rating_a_df  rating_a_mf  rating_a_att  \\\n0       1  ...     0.000000     0.000000     0.000000      0.000000   \n1       1  ...     0.000000     0.000000     0.000000      0.000000   \n2       1  ...     0.000000     0.000000     0.000000      0.000000   \n3       1  ...     0.000000     0.000000     0.000000      0.000000   \n4       1  ...     0.000000     0.000000     0.000000      0.000000   \n..    ...  ...          ...          ...          ...           ...   \n375    38  ...    18.095864    77.508335    34.222302    114.179672   \n376    38  ...    54.939201    99.089373    99.931465     83.451864   \n377    38  ...    13.723130    83.687464    85.162467     30.281391   \n378    38  ...    52.776573    97.320803    99.866236     19.887791   \n379    38  ...     3.508306    33.497262    10.667179     10.397234   \n\n     rating_a_bench  influence_a  creativity_a    threat_a       bps_a  \\\n0          0.000000     0.000000      0.000000    0.000000    0.000000   \n1          0.000000     0.000000      0.000000    0.000000    0.000000   \n2          0.000000     0.000000      0.000000    0.000000    0.000000   \n3          0.000000     0.000000      0.000000    0.000000    0.000000   \n4          0.000000     0.000000      0.000000    0.000000    0.000000   \n..              ...          ...           ...         ...         ...   \n375       23.624494   141.292815    147.381546  121.639973  114.763385   \n376       18.141813   214.701344    167.231180  133.112182  201.690987   \n377       10.164714   113.227836    130.831265  117.996689   99.825233   \n378      108.619953   112.338538     97.568369   71.328588   78.067443   \n379      118.735792    13.945895      2.163289    0.036558   19.217003   \n\n       selected_a  \n0    0.000000e+00  \n1    0.000000e+00  \n2    0.000000e+00  \n3    0.000000e+00  \n4    0.000000e+00  \n..            ...  \n375  2.700597e+06  \n376  6.039664e+06  \n377  1.289402e+06  \n378  3.597889e+06  \n379  4.491858e+05  \n\n[380 rows x 31 columns]",
      "text/html": "<div>\n<style scoped>\n    .dataframe tbody tr th:only-of-type {\n        vertical-align: middle;\n    }\n\n    .dataframe tbody tr th {\n        vertical-align: top;\n    }\n\n    .dataframe thead th {\n        text-align: right;\n    }\n</style>\n<table border=\"1\" class=\"dataframe\">\n  <thead>\n    <tr style=\"text-align: right;\">\n      <th></th>\n      <th>Date</th>\n      <th>Time</th>\n      <th>HomeTeam</th>\n      <th>AwayTeam</th>\n      <th>FTHG</th>\n      <th>FTAG</th>\n      <th>FTR</th>\n      <th>game_home_ID</th>\n      <th>game_away_ID</th>\n      <th>Wk_h</th>\n      <th>...</th>\n      <th>rating_a_gk</th>\n      <th>rating_a_df</th>\n      <th>rating_a_mf</th>\n      <th>rating_a_att</th>\n      <th>rating_a_bench</th>\n      <th>influence_a</th>\n      <th>creativity_a</th>\n      <th>threat_a</th>\n      <th>bps_a</th>\n      <th>selected_a</th>\n    </tr>\n  </thead>\n  <tbody>\n    <tr>\n      <th>0</th>\n      <td>2020-09-12</td>\n      <td>12:30</td>\n      <td>Fulham</td>\n      <td>Arsenal</td>\n      <td>0</td>\n      <td>3</td>\n      <td>A</td>\n      <td>Fulham2020-09-12</td>\n      <td>Arsenal2020-09-12</td>\n      <td>1</td>\n      <td>...</td>\n      <td>0.000000</td>\n      <td>0.000000</td>\n      <td>0.000000</td>\n      <td>0.000000</td>\n      <td>0.000000</td>\n      <td>0.000000</td>\n      <td>0.000000</td>\n      <td>0.000000</td>\n      <td>0.000000</td>\n      <td>0.000000e+00</td>\n    </tr>\n    <tr>\n      <th>1</th>\n      <td>2020-09-12</td>\n      <td>15:00</td>\n      <td>Crystal Palace</td>\n      <td>Southampton</td>\n      <td>1</td>\n      <td>0</td>\n      <td>H</td>\n      <td>Crystal Palace2020-09-12</td>\n      <td>Southampton2020-09-12</td>\n      <td>1</td>\n      <td>...</td>\n      <td>0.000000</td>\n      <td>0.000000</td>\n      <td>0.000000</td>\n      <td>0.000000</td>\n      <td>0.000000</td>\n      <td>0.000000</td>\n      <td>0.000000</td>\n      <td>0.000000</td>\n      <td>0.000000</td>\n      <td>0.000000e+00</td>\n    </tr>\n    <tr>\n      <th>2</th>\n      <td>2020-09-12</td>\n      <td>17:30</td>\n      <td>Liverpool</td>\n      <td>Leeds United</td>\n      <td>4</td>\n      <td>3</td>\n      <td>H</td>\n      <td>Liverpool2020-09-12</td>\n      <td>Leeds United2020-09-12</td>\n      <td>1</td>\n      <td>...</td>\n      <td>0.000000</td>\n      <td>0.000000</td>\n      <td>0.000000</td>\n      <td>0.000000</td>\n      <td>0.000000</td>\n      <td>0.000000</td>\n      <td>0.000000</td>\n      <td>0.000000</td>\n      <td>0.000000</td>\n      <td>0.000000e+00</td>\n    </tr>\n    <tr>\n      <th>3</th>\n      <td>2020-09-12</td>\n      <td>20:00</td>\n      <td>West Ham United</td>\n      <td>Newcastle United</td>\n      <td>0</td>\n      <td>2</td>\n      <td>A</td>\n      <td>West Ham United2020-09-12</td>\n      <td>Newcastle United2020-09-12</td>\n      <td>1</td>\n      <td>...</td>\n      <td>0.000000</td>\n      <td>0.000000</td>\n      <td>0.000000</td>\n      <td>0.000000</td>\n      <td>0.000000</td>\n      <td>0.000000</td>\n      <td>0.000000</td>\n      <td>0.000000</td>\n      <td>0.000000</td>\n      <td>0.000000e+00</td>\n    </tr>\n    <tr>\n      <th>4</th>\n      <td>2020-09-13</td>\n      <td>14:00</td>\n      <td>West Bromwich Albion</td>\n      <td>Leicester City</td>\n      <td>0</td>\n      <td>3</td>\n      <td>A</td>\n      <td>West Bromwich Albion2020-09-13</td>\n      <td>Leicester City2020-09-13</td>\n      <td>1</td>\n      <td>...</td>\n      <td>0.000000</td>\n      <td>0.000000</td>\n      <td>0.000000</td>\n      <td>0.000000</td>\n      <td>0.000000</td>\n      <td>0.000000</td>\n      <td>0.000000</td>\n      <td>0.000000</td>\n      <td>0.000000</td>\n      <td>0.000000e+00</td>\n    </tr>\n    <tr>\n      <th>...</th>\n      <td>...</td>\n      <td>...</td>\n      <td>...</td>\n      <td>...</td>\n      <td>...</td>\n      <td>...</td>\n      <td>...</td>\n      <td>...</td>\n      <td>...</td>\n      <td>...</td>\n      <td>...</td>\n      <td>...</td>\n      <td>...</td>\n      <td>...</td>\n      <td>...</td>\n      <td>...</td>\n      <td>...</td>\n      <td>...</td>\n      <td>...</td>\n      <td>...</td>\n      <td>...</td>\n    </tr>\n    <tr>\n      <th>375</th>\n      <td>2021-05-23</td>\n      <td>16:00</td>\n      <td>Liverpool</td>\n      <td>Crystal Palace</td>\n      <td>2</td>\n      <td>0</td>\n      <td>H</td>\n      <td>Liverpool2021-05-23</td>\n      <td>Crystal Palace2021-05-23</td>\n      <td>38</td>\n      <td>...</td>\n      <td>18.095864</td>\n      <td>77.508335</td>\n      <td>34.222302</td>\n      <td>114.179672</td>\n      <td>23.624494</td>\n      <td>141.292815</td>\n      <td>147.381546</td>\n      <td>121.639973</td>\n      <td>114.763385</td>\n      <td>2.700597e+06</td>\n    </tr>\n    <tr>\n      <th>376</th>\n      <td>2021-05-23</td>\n      <td>16:00</td>\n      <td>Manchester City</td>\n      <td>Everton</td>\n      <td>5</td>\n      <td>0</td>\n      <td>H</td>\n      <td>Manchester City2021-05-23</td>\n      <td>Everton2021-05-23</td>\n      <td>38</td>\n      <td>...</td>\n      <td>54.939201</td>\n      <td>99.089373</td>\n      <td>99.931465</td>\n      <td>83.451864</td>\n      <td>18.141813</td>\n      <td>214.701344</td>\n      <td>167.231180</td>\n      <td>133.112182</td>\n      <td>201.690987</td>\n      <td>6.039664e+06</td>\n    </tr>\n    <tr>\n      <th>377</th>\n      <td>2021-05-23</td>\n      <td>16:00</td>\n      <td>Sheffield United</td>\n      <td>Burnley</td>\n      <td>1</td>\n      <td>0</td>\n      <td>H</td>\n      <td>Sheffield United2021-05-23</td>\n      <td>Burnley2021-05-23</td>\n      <td>38</td>\n      <td>...</td>\n      <td>13.723130</td>\n      <td>83.687464</td>\n      <td>85.162467</td>\n      <td>30.281391</td>\n      <td>10.164714</td>\n      <td>113.227836</td>\n      <td>130.831265</td>\n      <td>117.996689</td>\n      <td>99.825233</td>\n      <td>1.289402e+06</td>\n    </tr>\n    <tr>\n      <th>378</th>\n      <td>2021-05-23</td>\n      <td>16:00</td>\n      <td>West Ham United</td>\n      <td>Southampton</td>\n      <td>3</td>\n      <td>0</td>\n      <td>H</td>\n      <td>West Ham United2021-05-23</td>\n      <td>Southampton2021-05-23</td>\n      <td>38</td>\n      <td>...</td>\n      <td>52.776573</td>\n      <td>97.320803</td>\n      <td>99.866236</td>\n      <td>19.887791</td>\n      <td>108.619953</td>\n      <td>112.338538</td>\n      <td>97.568369</td>\n      <td>71.328588</td>\n      <td>78.067443</td>\n      <td>3.597889e+06</td>\n    </tr>\n    <tr>\n      <th>379</th>\n      <td>2021-05-23</td>\n      <td>16:00</td>\n      <td>Wolverhampton Wanderers</td>\n      <td>Manchester United</td>\n      <td>1</td>\n      <td>2</td>\n      <td>A</td>\n      <td>Wolverhampton Wanderers2021-05-23</td>\n      <td>Manchester United2021-05-23</td>\n      <td>38</td>\n      <td>...</td>\n      <td>3.508306</td>\n      <td>33.497262</td>\n      <td>10.667179</td>\n      <td>10.397234</td>\n      <td>118.735792</td>\n      <td>13.945895</td>\n      <td>2.163289</td>\n      <td>0.036558</td>\n      <td>19.217003</td>\n      <td>4.491858e+05</td>\n    </tr>\n  </tbody>\n</table>\n<p>380 rows × 31 columns</p>\n</div>"
     },
     "execution_count": 55,
     "metadata": {},
     "output_type": "execute_result"
    }
   ],
   "source": [
    "%%time\n",
    "player_ratings_a_09 = append_stats(PL20_21_fixtures_tmp, PL20_21_player_stats_tmp, 'rating')\n",
    "player_ratings_a_09"
   ],
   "metadata": {
    "collapsed": false,
    "pycharm": {
     "name": "#%%\n"
    }
   }
  },
  {
   "cell_type": "code",
   "execution_count": 56,
   "outputs": [],
   "source": [
    "player_ratings_a_09.to_csv('Data/2020-21/Players/player_ratings_a_09.csv')"
   ],
   "metadata": {
    "collapsed": false,
    "pycharm": {
     "name": "#%%\n"
    }
   }
  },
  {
   "cell_type": "code",
   "execution_count": 69,
   "outputs": [
    {
     "data": {
      "text/plain": "     Unnamed: 0_01     Date_01 Time_01              HomeTeam_01  \\\n0                0  2020-09-12   12:30                   Fulham   \n1                1  2020-09-12   15:00           Crystal Palace   \n2                2  2020-09-12   17:30                Liverpool   \n3                3  2020-09-12   20:00          West Ham United   \n4                4  2020-09-13   14:00     West Bromwich Albion   \n..             ...         ...     ...                      ...   \n375            375  2021-05-23   16:00                Liverpool   \n376            376  2021-05-23   16:00          Manchester City   \n377            377  2021-05-23   16:00         Sheffield United   \n378            378  2021-05-23   16:00          West Ham United   \n379            379  2021-05-23   16:00  Wolverhampton Wanderers   \n\n           AwayTeam_01  FTHG_01  FTAG_01 FTR_01  \\\n0              Arsenal        0        3      A   \n1          Southampton        1        0      H   \n2         Leeds United        4        3      H   \n3     Newcastle United        0        2      A   \n4       Leicester City        0        3      A   \n..                 ...      ...      ...    ...   \n375     Crystal Palace        2        0      H   \n376            Everton        5        0      H   \n377            Burnley        1        0      H   \n378        Southampton        3        0      H   \n379  Manchester United        1        2      A   \n\n                          game_home_ID              game_away_ID_01  ...  \\\n0                     Fulham2020-09-12            Arsenal2020-09-12  ...   \n1             Crystal Palace2020-09-12        Southampton2020-09-12  ...   \n2                  Liverpool2020-09-12       Leeds United2020-09-12  ...   \n3            West Ham United2020-09-12   Newcastle United2020-09-12  ...   \n4       West Bromwich Albion2020-09-13     Leicester City2020-09-13  ...   \n..                                 ...                          ...  ...   \n375                Liverpool2021-05-23     Crystal Palace2021-05-23  ...   \n376          Manchester City2021-05-23            Everton2021-05-23  ...   \n377         Sheffield United2021-05-23            Burnley2021-05-23  ...   \n378          West Ham United2021-05-23        Southampton2021-05-23  ...   \n379  Wolverhampton Wanderers2021-05-23  Manchester United2021-05-23  ...   \n\n     rating_a_gk_01  rating_a_df_01  rating_a_mf_01  rating_a_att_01  \\\n0          0.000000        0.000000        0.000000         0.000000   \n1          0.000000        0.000000        0.000000         0.000000   \n2          0.000000        0.000000        0.000000         0.000000   \n3          0.000000        0.000000        0.000000         0.000000   \n4          0.000000        0.000000        0.000000         0.000000   \n..              ...             ...             ...              ...   \n375       38.344324       49.614886       29.003757        65.363535   \n376       42.419990       96.903792       61.647731        57.883743   \n377        1.556348       67.286928       81.903049        36.717768   \n378       29.396370       88.418741       85.793044        33.525989   \n379       25.507523       24.324488       12.247661        10.606415   \n\n     rating_a_bench_01  influence_a_01  creativity_a_01  threat_a_01  \\\n0             0.000000        0.000000         0.000000     0.000000   \n1             0.000000        0.000000         0.000000     0.000000   \n2             0.000000        0.000000         0.000000     0.000000   \n3             0.000000        0.000000         0.000000     0.000000   \n4             0.000000        0.000000         0.000000     0.000000   \n..                 ...             ...              ...          ...   \n375          38.021649      117.706449        63.145115    67.915214   \n376          54.294457      158.403284        94.105638   113.110488   \n377          58.331293      136.815558       105.827619    89.899323   \n378          79.374911      143.749440        79.429092    94.433261   \n379         147.185664       36.761870        12.023679     8.393546   \n\n       bps_a_01  selected_a_01  \n0      0.000000   0.000000e+00  \n1      0.000000   0.000000e+00  \n2      0.000000   0.000000e+00  \n3      0.000000   0.000000e+00  \n4      0.000000   0.000000e+00  \n..          ...            ...  \n375   94.605479   2.790287e+06  \n376  142.082846   5.648680e+06  \n377  113.659593   1.169225e+06  \n378  109.756166   3.950505e+06  \n379   35.067697   4.220117e+05  \n\n[380 rows x 32 columns]",
      "text/html": "<div>\n<style scoped>\n    .dataframe tbody tr th:only-of-type {\n        vertical-align: middle;\n    }\n\n    .dataframe tbody tr th {\n        vertical-align: top;\n    }\n\n    .dataframe thead th {\n        text-align: right;\n    }\n</style>\n<table border=\"1\" class=\"dataframe\">\n  <thead>\n    <tr style=\"text-align: right;\">\n      <th></th>\n      <th>Unnamed: 0_01</th>\n      <th>Date_01</th>\n      <th>Time_01</th>\n      <th>HomeTeam_01</th>\n      <th>AwayTeam_01</th>\n      <th>FTHG_01</th>\n      <th>FTAG_01</th>\n      <th>FTR_01</th>\n      <th>game_home_ID</th>\n      <th>game_away_ID_01</th>\n      <th>...</th>\n      <th>rating_a_gk_01</th>\n      <th>rating_a_df_01</th>\n      <th>rating_a_mf_01</th>\n      <th>rating_a_att_01</th>\n      <th>rating_a_bench_01</th>\n      <th>influence_a_01</th>\n      <th>creativity_a_01</th>\n      <th>threat_a_01</th>\n      <th>bps_a_01</th>\n      <th>selected_a_01</th>\n    </tr>\n  </thead>\n  <tbody>\n    <tr>\n      <th>0</th>\n      <td>0</td>\n      <td>2020-09-12</td>\n      <td>12:30</td>\n      <td>Fulham</td>\n      <td>Arsenal</td>\n      <td>0</td>\n      <td>3</td>\n      <td>A</td>\n      <td>Fulham2020-09-12</td>\n      <td>Arsenal2020-09-12</td>\n      <td>...</td>\n      <td>0.000000</td>\n      <td>0.000000</td>\n      <td>0.000000</td>\n      <td>0.000000</td>\n      <td>0.000000</td>\n      <td>0.000000</td>\n      <td>0.000000</td>\n      <td>0.000000</td>\n      <td>0.000000</td>\n      <td>0.000000e+00</td>\n    </tr>\n    <tr>\n      <th>1</th>\n      <td>1</td>\n      <td>2020-09-12</td>\n      <td>15:00</td>\n      <td>Crystal Palace</td>\n      <td>Southampton</td>\n      <td>1</td>\n      <td>0</td>\n      <td>H</td>\n      <td>Crystal Palace2020-09-12</td>\n      <td>Southampton2020-09-12</td>\n      <td>...</td>\n      <td>0.000000</td>\n      <td>0.000000</td>\n      <td>0.000000</td>\n      <td>0.000000</td>\n      <td>0.000000</td>\n      <td>0.000000</td>\n      <td>0.000000</td>\n      <td>0.000000</td>\n      <td>0.000000</td>\n      <td>0.000000e+00</td>\n    </tr>\n    <tr>\n      <th>2</th>\n      <td>2</td>\n      <td>2020-09-12</td>\n      <td>17:30</td>\n      <td>Liverpool</td>\n      <td>Leeds United</td>\n      <td>4</td>\n      <td>3</td>\n      <td>H</td>\n      <td>Liverpool2020-09-12</td>\n      <td>Leeds United2020-09-12</td>\n      <td>...</td>\n      <td>0.000000</td>\n      <td>0.000000</td>\n      <td>0.000000</td>\n      <td>0.000000</td>\n      <td>0.000000</td>\n      <td>0.000000</td>\n      <td>0.000000</td>\n      <td>0.000000</td>\n      <td>0.000000</td>\n      <td>0.000000e+00</td>\n    </tr>\n    <tr>\n      <th>3</th>\n      <td>3</td>\n      <td>2020-09-12</td>\n      <td>20:00</td>\n      <td>West Ham United</td>\n      <td>Newcastle United</td>\n      <td>0</td>\n      <td>2</td>\n      <td>A</td>\n      <td>West Ham United2020-09-12</td>\n      <td>Newcastle United2020-09-12</td>\n      <td>...</td>\n      <td>0.000000</td>\n      <td>0.000000</td>\n      <td>0.000000</td>\n      <td>0.000000</td>\n      <td>0.000000</td>\n      <td>0.000000</td>\n      <td>0.000000</td>\n      <td>0.000000</td>\n      <td>0.000000</td>\n      <td>0.000000e+00</td>\n    </tr>\n    <tr>\n      <th>4</th>\n      <td>4</td>\n      <td>2020-09-13</td>\n      <td>14:00</td>\n      <td>West Bromwich Albion</td>\n      <td>Leicester City</td>\n      <td>0</td>\n      <td>3</td>\n      <td>A</td>\n      <td>West Bromwich Albion2020-09-13</td>\n      <td>Leicester City2020-09-13</td>\n      <td>...</td>\n      <td>0.000000</td>\n      <td>0.000000</td>\n      <td>0.000000</td>\n      <td>0.000000</td>\n      <td>0.000000</td>\n      <td>0.000000</td>\n      <td>0.000000</td>\n      <td>0.000000</td>\n      <td>0.000000</td>\n      <td>0.000000e+00</td>\n    </tr>\n    <tr>\n      <th>...</th>\n      <td>...</td>\n      <td>...</td>\n      <td>...</td>\n      <td>...</td>\n      <td>...</td>\n      <td>...</td>\n      <td>...</td>\n      <td>...</td>\n      <td>...</td>\n      <td>...</td>\n      <td>...</td>\n      <td>...</td>\n      <td>...</td>\n      <td>...</td>\n      <td>...</td>\n      <td>...</td>\n      <td>...</td>\n      <td>...</td>\n      <td>...</td>\n      <td>...</td>\n      <td>...</td>\n    </tr>\n    <tr>\n      <th>375</th>\n      <td>375</td>\n      <td>2021-05-23</td>\n      <td>16:00</td>\n      <td>Liverpool</td>\n      <td>Crystal Palace</td>\n      <td>2</td>\n      <td>0</td>\n      <td>H</td>\n      <td>Liverpool2021-05-23</td>\n      <td>Crystal Palace2021-05-23</td>\n      <td>...</td>\n      <td>38.344324</td>\n      <td>49.614886</td>\n      <td>29.003757</td>\n      <td>65.363535</td>\n      <td>38.021649</td>\n      <td>117.706449</td>\n      <td>63.145115</td>\n      <td>67.915214</td>\n      <td>94.605479</td>\n      <td>2.790287e+06</td>\n    </tr>\n    <tr>\n      <th>376</th>\n      <td>376</td>\n      <td>2021-05-23</td>\n      <td>16:00</td>\n      <td>Manchester City</td>\n      <td>Everton</td>\n      <td>5</td>\n      <td>0</td>\n      <td>H</td>\n      <td>Manchester City2021-05-23</td>\n      <td>Everton2021-05-23</td>\n      <td>...</td>\n      <td>42.419990</td>\n      <td>96.903792</td>\n      <td>61.647731</td>\n      <td>57.883743</td>\n      <td>54.294457</td>\n      <td>158.403284</td>\n      <td>94.105638</td>\n      <td>113.110488</td>\n      <td>142.082846</td>\n      <td>5.648680e+06</td>\n    </tr>\n    <tr>\n      <th>377</th>\n      <td>377</td>\n      <td>2021-05-23</td>\n      <td>16:00</td>\n      <td>Sheffield United</td>\n      <td>Burnley</td>\n      <td>1</td>\n      <td>0</td>\n      <td>H</td>\n      <td>Sheffield United2021-05-23</td>\n      <td>Burnley2021-05-23</td>\n      <td>...</td>\n      <td>1.556348</td>\n      <td>67.286928</td>\n      <td>81.903049</td>\n      <td>36.717768</td>\n      <td>58.331293</td>\n      <td>136.815558</td>\n      <td>105.827619</td>\n      <td>89.899323</td>\n      <td>113.659593</td>\n      <td>1.169225e+06</td>\n    </tr>\n    <tr>\n      <th>378</th>\n      <td>378</td>\n      <td>2021-05-23</td>\n      <td>16:00</td>\n      <td>West Ham United</td>\n      <td>Southampton</td>\n      <td>3</td>\n      <td>0</td>\n      <td>H</td>\n      <td>West Ham United2021-05-23</td>\n      <td>Southampton2021-05-23</td>\n      <td>...</td>\n      <td>29.396370</td>\n      <td>88.418741</td>\n      <td>85.793044</td>\n      <td>33.525989</td>\n      <td>79.374911</td>\n      <td>143.749440</td>\n      <td>79.429092</td>\n      <td>94.433261</td>\n      <td>109.756166</td>\n      <td>3.950505e+06</td>\n    </tr>\n    <tr>\n      <th>379</th>\n      <td>379</td>\n      <td>2021-05-23</td>\n      <td>16:00</td>\n      <td>Wolverhampton Wanderers</td>\n      <td>Manchester United</td>\n      <td>1</td>\n      <td>2</td>\n      <td>A</td>\n      <td>Wolverhampton Wanderers2021-05-23</td>\n      <td>Manchester United2021-05-23</td>\n      <td>...</td>\n      <td>25.507523</td>\n      <td>24.324488</td>\n      <td>12.247661</td>\n      <td>10.606415</td>\n      <td>147.185664</td>\n      <td>36.761870</td>\n      <td>12.023679</td>\n      <td>8.393546</td>\n      <td>35.067697</td>\n      <td>4.220117e+05</td>\n    </tr>\n  </tbody>\n</table>\n<p>380 rows × 32 columns</p>\n</div>"
     },
     "execution_count": 69,
     "metadata": {},
     "output_type": "execute_result"
    }
   ],
   "source": [
    "player_ratings_a_01 = pd.read_csv('Data/2020-21/Players/player_ratings_a_01.csv')\n",
    "player_ratings_a_02 = pd.read_csv('Data/2020-21/Players/player_ratings_a_02.csv')\n",
    "player_ratings_a_03 = pd.read_csv('Data/2020-21/Players/player_ratings_a_03.csv')\n",
    "player_ratings_a_04 = pd.read_csv('Data/2020-21/Players/player_ratings_a_04.csv')\n",
    "player_ratings_a_05 = pd.read_csv('Data/2020-21/Players/player_ratings_a_05.csv')\n",
    "player_ratings_a_06 = pd.read_csv('Data/2020-21/Players/player_ratings_a_06.csv')\n",
    "player_ratings_a_07 = pd.read_csv('Data/2020-21/Players/player_ratings_a_07.csv')\n",
    "player_ratings_a_08 = pd.read_csv('Data/2020-21/Players/player_ratings_a_08.csv')\n",
    "player_ratings_a_09 = pd.read_csv('Data/2020-21/Players/player_ratings_a_09.csv')\n",
    "player_ratings_a_01 = player_ratings_a_01.add_suffix('_01')\n",
    "player_ratings_a_01 = player_ratings_a_01.rename(columns={'game_home_ID_01':'game_home_ID'})\n",
    "player_ratings_a_02 = player_ratings_a_02.add_suffix('_02')\n",
    "player_ratings_a_02 = player_ratings_a_02.rename(columns={'game_home_ID_02':'game_home_ID'})\n",
    "player_ratings_a_03 = player_ratings_a_03.add_suffix('_03')\n",
    "player_ratings_a_03 = player_ratings_a_03.rename(columns={'game_home_ID_03':'game_home_ID'})\n",
    "player_ratings_a_04 = player_ratings_a_04.add_suffix('_04')\n",
    "player_ratings_a_04 = player_ratings_a_04.rename(columns={'game_home_ID_04':'game_home_ID'})\n",
    "player_ratings_a_05 = player_ratings_a_05.add_suffix('_05')\n",
    "player_ratings_a_05 = player_ratings_a_05.rename(columns={'game_home_ID_05':'game_home_ID'})\n",
    "player_ratings_a_06 = player_ratings_a_06.add_suffix('_06')\n",
    "player_ratings_a_06 = player_ratings_a_06.rename(columns={'game_home_ID_06':'game_home_ID'})\n",
    "player_ratings_a_07 = player_ratings_a_07.add_suffix('_07')\n",
    "player_ratings_a_07 = player_ratings_a_07.rename(columns={'game_home_ID_07':'game_home_ID'})\n",
    "player_ratings_a_08 = player_ratings_a_08.add_suffix('_08')\n",
    "player_ratings_a_08 = player_ratings_a_08.rename(columns={'game_home_ID_08':'game_home_ID'})\n",
    "player_ratings_a_09 = player_ratings_a_09.add_suffix('_09')\n",
    "player_ratings_a_09 = player_ratings_a_09.rename(columns={'game_home_ID_09':'game_home_ID'})\n",
    "player_ratings_a_01\n"
   ],
   "metadata": {
    "collapsed": false,
    "pycharm": {
     "name": "#%%\n"
    }
   }
  },
  {
   "cell_type": "code",
   "execution_count": 197,
   "outputs": [
    {
     "data": {
      "text/plain": "     Unnamed: 0 Div        Date   Time                 HomeTeam  \\\n0             0  E0  2020-09-12  12:30                   Fulham   \n1             1  E0  2020-09-12  15:00           Crystal Palace   \n2             2  E0  2020-09-12  17:30                Liverpool   \n3             3  E0  2020-09-12  20:00          West Ham United   \n4             4  E0  2020-09-13  14:00     West Bromwich Albion   \n..          ...  ..         ...    ...                      ...   \n375         375  E0  2021-05-23  16:00                Liverpool   \n376         376  E0  2021-05-23  16:00          Manchester City   \n377         377  E0  2021-05-23  16:00         Sheffield United   \n378         378  E0  2021-05-23  16:00          West Ham United   \n379         379  E0  2021-05-23  16:00  Wolverhampton Wanderers   \n\n              AwayTeam  FTHG  FTAG FTR  HTHG  ...  influence_h creativity_h  \\\n0              Arsenal     0     3   A     0  ...     0.000000     0.000000   \n1          Southampton     1     0   H     1  ...     0.000000     0.000000   \n2         Leeds United     4     3   H     3  ...     0.000000     0.000000   \n3     Newcastle United     0     2   A     0  ...     0.000000     0.000000   \n4       Leicester City     0     3   A     0  ...     0.000000     0.000000   \n..                 ...   ...   ...  ..   ...  ...          ...          ...   \n375     Crystal Palace     2     0   H     1  ...   266.414317   234.391144   \n376            Everton     5     0   H     2  ...   111.178071    60.333458   \n377            Burnley     1     0   H     1  ...   159.355210   122.629094   \n378        Southampton     3     0   H     2  ...   193.464996   156.014692   \n379  Manchester United     1     2   A     1  ...   138.843221    93.425366   \n\n       threat_h       bps_h    selected_h  rating_a_gk  rating_a_df  \\\n0      0.000000    0.000000  0.000000e+00     0.000000     0.000000   \n1      0.000000    0.000000  0.000000e+00     0.000000     0.000000   \n2      0.000000    0.000000  0.000000e+00     0.000000     0.000000   \n3      0.000000    0.000000  0.000000e+00     0.000000     0.000000   \n4      0.000000    0.000000  0.000000e+00     0.000000     0.000000   \n..          ...         ...           ...          ...          ...   \n375  220.756633  229.462717  8.105905e+06    22.039315    64.723511   \n376   87.033731   80.524173  6.970648e+06    50.557816   105.287337   \n377   72.990733  145.129330  5.889365e+05     6.099169    75.363725   \n378  187.922775  137.725972  6.926223e+06    36.512269    94.477085   \n379  131.271094  108.450366  2.627747e+06    20.311334    39.458777   \n\n     rating_a_mf  rating_a_att  rating_a_bench  \n0       0.000000      0.000000        0.000000  \n1       0.000000      0.000000        0.000000  \n2       0.000000      0.000000        0.000000  \n3       0.000000      0.000000        0.000000  \n4       0.000000      0.000000        0.000000  \n..           ...           ...             ...  \n375    33.235876     91.286118       30.650143  \n376    83.098085     70.789092       34.129200  \n377    85.307650     36.390672       40.976420  \n378    99.317408     32.709057      100.836827  \n379    11.363088     11.956387      134.856963  \n\n[380 rows x 149 columns]",
      "text/html": "<div>\n<style scoped>\n    .dataframe tbody tr th:only-of-type {\n        vertical-align: middle;\n    }\n\n    .dataframe tbody tr th {\n        vertical-align: top;\n    }\n\n    .dataframe thead th {\n        text-align: right;\n    }\n</style>\n<table border=\"1\" class=\"dataframe\">\n  <thead>\n    <tr style=\"text-align: right;\">\n      <th></th>\n      <th>Unnamed: 0</th>\n      <th>Div</th>\n      <th>Date</th>\n      <th>Time</th>\n      <th>HomeTeam</th>\n      <th>AwayTeam</th>\n      <th>FTHG</th>\n      <th>FTAG</th>\n      <th>FTR</th>\n      <th>HTHG</th>\n      <th>...</th>\n      <th>influence_h</th>\n      <th>creativity_h</th>\n      <th>threat_h</th>\n      <th>bps_h</th>\n      <th>selected_h</th>\n      <th>rating_a_gk</th>\n      <th>rating_a_df</th>\n      <th>rating_a_mf</th>\n      <th>rating_a_att</th>\n      <th>rating_a_bench</th>\n    </tr>\n  </thead>\n  <tbody>\n    <tr>\n      <th>0</th>\n      <td>0</td>\n      <td>E0</td>\n      <td>2020-09-12</td>\n      <td>12:30</td>\n      <td>Fulham</td>\n      <td>Arsenal</td>\n      <td>0</td>\n      <td>3</td>\n      <td>A</td>\n      <td>0</td>\n      <td>...</td>\n      <td>0.000000</td>\n      <td>0.000000</td>\n      <td>0.000000</td>\n      <td>0.000000</td>\n      <td>0.000000e+00</td>\n      <td>0.000000</td>\n      <td>0.000000</td>\n      <td>0.000000</td>\n      <td>0.000000</td>\n      <td>0.000000</td>\n    </tr>\n    <tr>\n      <th>1</th>\n      <td>1</td>\n      <td>E0</td>\n      <td>2020-09-12</td>\n      <td>15:00</td>\n      <td>Crystal Palace</td>\n      <td>Southampton</td>\n      <td>1</td>\n      <td>0</td>\n      <td>H</td>\n      <td>1</td>\n      <td>...</td>\n      <td>0.000000</td>\n      <td>0.000000</td>\n      <td>0.000000</td>\n      <td>0.000000</td>\n      <td>0.000000e+00</td>\n      <td>0.000000</td>\n      <td>0.000000</td>\n      <td>0.000000</td>\n      <td>0.000000</td>\n      <td>0.000000</td>\n    </tr>\n    <tr>\n      <th>2</th>\n      <td>2</td>\n      <td>E0</td>\n      <td>2020-09-12</td>\n      <td>17:30</td>\n      <td>Liverpool</td>\n      <td>Leeds United</td>\n      <td>4</td>\n      <td>3</td>\n      <td>H</td>\n      <td>3</td>\n      <td>...</td>\n      <td>0.000000</td>\n      <td>0.000000</td>\n      <td>0.000000</td>\n      <td>0.000000</td>\n      <td>0.000000e+00</td>\n      <td>0.000000</td>\n      <td>0.000000</td>\n      <td>0.000000</td>\n      <td>0.000000</td>\n      <td>0.000000</td>\n    </tr>\n    <tr>\n      <th>3</th>\n      <td>3</td>\n      <td>E0</td>\n      <td>2020-09-12</td>\n      <td>20:00</td>\n      <td>West Ham United</td>\n      <td>Newcastle United</td>\n      <td>0</td>\n      <td>2</td>\n      <td>A</td>\n      <td>0</td>\n      <td>...</td>\n      <td>0.000000</td>\n      <td>0.000000</td>\n      <td>0.000000</td>\n      <td>0.000000</td>\n      <td>0.000000e+00</td>\n      <td>0.000000</td>\n      <td>0.000000</td>\n      <td>0.000000</td>\n      <td>0.000000</td>\n      <td>0.000000</td>\n    </tr>\n    <tr>\n      <th>4</th>\n      <td>4</td>\n      <td>E0</td>\n      <td>2020-09-13</td>\n      <td>14:00</td>\n      <td>West Bromwich Albion</td>\n      <td>Leicester City</td>\n      <td>0</td>\n      <td>3</td>\n      <td>A</td>\n      <td>0</td>\n      <td>...</td>\n      <td>0.000000</td>\n      <td>0.000000</td>\n      <td>0.000000</td>\n      <td>0.000000</td>\n      <td>0.000000e+00</td>\n      <td>0.000000</td>\n      <td>0.000000</td>\n      <td>0.000000</td>\n      <td>0.000000</td>\n      <td>0.000000</td>\n    </tr>\n    <tr>\n      <th>...</th>\n      <td>...</td>\n      <td>...</td>\n      <td>...</td>\n      <td>...</td>\n      <td>...</td>\n      <td>...</td>\n      <td>...</td>\n      <td>...</td>\n      <td>...</td>\n      <td>...</td>\n      <td>...</td>\n      <td>...</td>\n      <td>...</td>\n      <td>...</td>\n      <td>...</td>\n      <td>...</td>\n      <td>...</td>\n      <td>...</td>\n      <td>...</td>\n      <td>...</td>\n      <td>...</td>\n    </tr>\n    <tr>\n      <th>375</th>\n      <td>375</td>\n      <td>E0</td>\n      <td>2021-05-23</td>\n      <td>16:00</td>\n      <td>Liverpool</td>\n      <td>Crystal Palace</td>\n      <td>2</td>\n      <td>0</td>\n      <td>H</td>\n      <td>1</td>\n      <td>...</td>\n      <td>266.414317</td>\n      <td>234.391144</td>\n      <td>220.756633</td>\n      <td>229.462717</td>\n      <td>8.105905e+06</td>\n      <td>22.039315</td>\n      <td>64.723511</td>\n      <td>33.235876</td>\n      <td>91.286118</td>\n      <td>30.650143</td>\n    </tr>\n    <tr>\n      <th>376</th>\n      <td>376</td>\n      <td>E0</td>\n      <td>2021-05-23</td>\n      <td>16:00</td>\n      <td>Manchester City</td>\n      <td>Everton</td>\n      <td>5</td>\n      <td>0</td>\n      <td>H</td>\n      <td>2</td>\n      <td>...</td>\n      <td>111.178071</td>\n      <td>60.333458</td>\n      <td>87.033731</td>\n      <td>80.524173</td>\n      <td>6.970648e+06</td>\n      <td>50.557816</td>\n      <td>105.287337</td>\n      <td>83.098085</td>\n      <td>70.789092</td>\n      <td>34.129200</td>\n    </tr>\n    <tr>\n      <th>377</th>\n      <td>377</td>\n      <td>E0</td>\n      <td>2021-05-23</td>\n      <td>16:00</td>\n      <td>Sheffield United</td>\n      <td>Burnley</td>\n      <td>1</td>\n      <td>0</td>\n      <td>H</td>\n      <td>1</td>\n      <td>...</td>\n      <td>159.355210</td>\n      <td>122.629094</td>\n      <td>72.990733</td>\n      <td>145.129330</td>\n      <td>5.889365e+05</td>\n      <td>6.099169</td>\n      <td>75.363725</td>\n      <td>85.307650</td>\n      <td>36.390672</td>\n      <td>40.976420</td>\n    </tr>\n    <tr>\n      <th>378</th>\n      <td>378</td>\n      <td>E0</td>\n      <td>2021-05-23</td>\n      <td>16:00</td>\n      <td>West Ham United</td>\n      <td>Southampton</td>\n      <td>3</td>\n      <td>0</td>\n      <td>H</td>\n      <td>2</td>\n      <td>...</td>\n      <td>193.464996</td>\n      <td>156.014692</td>\n      <td>187.922775</td>\n      <td>137.725972</td>\n      <td>6.926223e+06</td>\n      <td>36.512269</td>\n      <td>94.477085</td>\n      <td>99.317408</td>\n      <td>32.709057</td>\n      <td>100.836827</td>\n    </tr>\n    <tr>\n      <th>379</th>\n      <td>379</td>\n      <td>E0</td>\n      <td>2021-05-23</td>\n      <td>16:00</td>\n      <td>Wolverhampton Wanderers</td>\n      <td>Manchester United</td>\n      <td>1</td>\n      <td>2</td>\n      <td>A</td>\n      <td>1</td>\n      <td>...</td>\n      <td>138.843221</td>\n      <td>93.425366</td>\n      <td>131.271094</td>\n      <td>108.450366</td>\n      <td>2.627747e+06</td>\n      <td>20.311334</td>\n      <td>39.458777</td>\n      <td>11.363088</td>\n      <td>11.956387</td>\n      <td>134.856963</td>\n    </tr>\n  </tbody>\n</table>\n<p>380 rows × 149 columns</p>\n</div>"
     },
     "execution_count": 197,
     "metadata": {},
     "output_type": "execute_result"
    }
   ],
   "source": [
    "PL20_21_fixtures"
   ],
   "metadata": {
    "collapsed": false,
    "pycharm": {
     "name": "#%%\n"
    }
   }
  },
  {
   "cell_type": "code",
   "execution_count": 198,
   "outputs": [
    {
     "data": {
      "text/plain": "     Unnamed: 0_01     Date_01 Time_01              HomeTeam_01  \\\n0                0  2020-09-12   12:30                   Fulham   \n1                1  2020-09-12   15:00           Crystal Palace   \n2                2  2020-09-12   17:30                Liverpool   \n3                3  2020-09-12   20:00          West Ham United   \n4                4  2020-09-13   14:00     West Bromwich Albion   \n..             ...         ...     ...                      ...   \n375            375  2021-05-23   16:00                Liverpool   \n376            376  2021-05-23   16:00          Manchester City   \n377            377  2021-05-23   16:00         Sheffield United   \n378            378  2021-05-23   16:00          West Ham United   \n379            379  2021-05-23   16:00  Wolverhampton Wanderers   \n\n           AwayTeam_01  FTHG_01  FTAG_01 FTR_01  \\\n0              Arsenal        0        3      A   \n1          Southampton        1        0      H   \n2         Leeds United        4        3      H   \n3     Newcastle United        0        2      A   \n4       Leicester City        0        3      A   \n..                 ...      ...      ...    ...   \n375     Crystal Palace        2        0      H   \n376            Everton        5        0      H   \n377            Burnley        1        0      H   \n378        Southampton        3        0      H   \n379  Manchester United        1        2      A   \n\n                          game_home_ID              game_away_ID_01  ...  \\\n0                     Fulham2020-09-12            Arsenal2020-09-12  ...   \n1             Crystal Palace2020-09-12        Southampton2020-09-12  ...   \n2                  Liverpool2020-09-12       Leeds United2020-09-12  ...   \n3            West Ham United2020-09-12   Newcastle United2020-09-12  ...   \n4       West Bromwich Albion2020-09-13     Leicester City2020-09-13  ...   \n..                                 ...                          ...  ...   \n375                Liverpool2021-05-23     Crystal Palace2021-05-23  ...   \n376          Manchester City2021-05-23            Everton2021-05-23  ...   \n377         Sheffield United2021-05-23            Burnley2021-05-23  ...   \n378          West Ham United2021-05-23        Southampton2021-05-23  ...   \n379  Wolverhampton Wanderers2021-05-23  Manchester United2021-05-23  ...   \n\n     influence_h  creativity_h    threat_h       bps_h    selected_h  \\\n0       0.000000      0.000000    0.000000    0.000000  0.000000e+00   \n1       0.000000      0.000000    0.000000    0.000000  0.000000e+00   \n2       0.000000      0.000000    0.000000    0.000000  0.000000e+00   \n3       0.000000      0.000000    0.000000    0.000000  0.000000e+00   \n4       0.000000      0.000000    0.000000    0.000000  0.000000e+00   \n..           ...           ...         ...         ...           ...   \n375   266.414317    234.391144  220.756633  229.462717  8.105905e+06   \n376   111.178071     60.333458   87.033731   80.524173  6.970648e+06   \n377   159.355210    122.629094   72.990733  145.129330  5.889365e+05   \n378   193.464996    156.014692  187.922775  137.725972  6.926223e+06   \n379   138.843221     93.425366  131.271094  108.450366  2.627747e+06   \n\n     rating_a_gk  rating_a_df  rating_a_mf  rating_a_att  rating_a_bench  \n0       0.000000     0.000000     0.000000      0.000000        0.000000  \n1       0.000000     0.000000     0.000000      0.000000        0.000000  \n2       0.000000     0.000000     0.000000      0.000000        0.000000  \n3       0.000000     0.000000     0.000000      0.000000        0.000000  \n4       0.000000     0.000000     0.000000      0.000000        0.000000  \n..           ...          ...          ...           ...             ...  \n375    22.039315    64.723511    33.235876     91.286118       30.650143  \n376    50.557816   105.287337    83.098085     70.789092       34.129200  \n377     6.099169    75.363725    85.307650     36.390672       40.976420  \n378    36.512269    94.477085    99.317408     32.709057      100.836827  \n379    20.311334    39.458777    11.363088     11.956387      134.856963  \n\n[380 rows x 428 columns]",
      "text/html": "<div>\n<style scoped>\n    .dataframe tbody tr th:only-of-type {\n        vertical-align: middle;\n    }\n\n    .dataframe tbody tr th {\n        vertical-align: top;\n    }\n\n    .dataframe thead th {\n        text-align: right;\n    }\n</style>\n<table border=\"1\" class=\"dataframe\">\n  <thead>\n    <tr style=\"text-align: right;\">\n      <th></th>\n      <th>Unnamed: 0_01</th>\n      <th>Date_01</th>\n      <th>Time_01</th>\n      <th>HomeTeam_01</th>\n      <th>AwayTeam_01</th>\n      <th>FTHG_01</th>\n      <th>FTAG_01</th>\n      <th>FTR_01</th>\n      <th>game_home_ID</th>\n      <th>game_away_ID_01</th>\n      <th>...</th>\n      <th>influence_h</th>\n      <th>creativity_h</th>\n      <th>threat_h</th>\n      <th>bps_h</th>\n      <th>selected_h</th>\n      <th>rating_a_gk</th>\n      <th>rating_a_df</th>\n      <th>rating_a_mf</th>\n      <th>rating_a_att</th>\n      <th>rating_a_bench</th>\n    </tr>\n  </thead>\n  <tbody>\n    <tr>\n      <th>0</th>\n      <td>0</td>\n      <td>2020-09-12</td>\n      <td>12:30</td>\n      <td>Fulham</td>\n      <td>Arsenal</td>\n      <td>0</td>\n      <td>3</td>\n      <td>A</td>\n      <td>Fulham2020-09-12</td>\n      <td>Arsenal2020-09-12</td>\n      <td>...</td>\n      <td>0.000000</td>\n      <td>0.000000</td>\n      <td>0.000000</td>\n      <td>0.000000</td>\n      <td>0.000000e+00</td>\n      <td>0.000000</td>\n      <td>0.000000</td>\n      <td>0.000000</td>\n      <td>0.000000</td>\n      <td>0.000000</td>\n    </tr>\n    <tr>\n      <th>1</th>\n      <td>1</td>\n      <td>2020-09-12</td>\n      <td>15:00</td>\n      <td>Crystal Palace</td>\n      <td>Southampton</td>\n      <td>1</td>\n      <td>0</td>\n      <td>H</td>\n      <td>Crystal Palace2020-09-12</td>\n      <td>Southampton2020-09-12</td>\n      <td>...</td>\n      <td>0.000000</td>\n      <td>0.000000</td>\n      <td>0.000000</td>\n      <td>0.000000</td>\n      <td>0.000000e+00</td>\n      <td>0.000000</td>\n      <td>0.000000</td>\n      <td>0.000000</td>\n      <td>0.000000</td>\n      <td>0.000000</td>\n    </tr>\n    <tr>\n      <th>2</th>\n      <td>2</td>\n      <td>2020-09-12</td>\n      <td>17:30</td>\n      <td>Liverpool</td>\n      <td>Leeds United</td>\n      <td>4</td>\n      <td>3</td>\n      <td>H</td>\n      <td>Liverpool2020-09-12</td>\n      <td>Leeds United2020-09-12</td>\n      <td>...</td>\n      <td>0.000000</td>\n      <td>0.000000</td>\n      <td>0.000000</td>\n      <td>0.000000</td>\n      <td>0.000000e+00</td>\n      <td>0.000000</td>\n      <td>0.000000</td>\n      <td>0.000000</td>\n      <td>0.000000</td>\n      <td>0.000000</td>\n    </tr>\n    <tr>\n      <th>3</th>\n      <td>3</td>\n      <td>2020-09-12</td>\n      <td>20:00</td>\n      <td>West Ham United</td>\n      <td>Newcastle United</td>\n      <td>0</td>\n      <td>2</td>\n      <td>A</td>\n      <td>West Ham United2020-09-12</td>\n      <td>Newcastle United2020-09-12</td>\n      <td>...</td>\n      <td>0.000000</td>\n      <td>0.000000</td>\n      <td>0.000000</td>\n      <td>0.000000</td>\n      <td>0.000000e+00</td>\n      <td>0.000000</td>\n      <td>0.000000</td>\n      <td>0.000000</td>\n      <td>0.000000</td>\n      <td>0.000000</td>\n    </tr>\n    <tr>\n      <th>4</th>\n      <td>4</td>\n      <td>2020-09-13</td>\n      <td>14:00</td>\n      <td>West Bromwich Albion</td>\n      <td>Leicester City</td>\n      <td>0</td>\n      <td>3</td>\n      <td>A</td>\n      <td>West Bromwich Albion2020-09-13</td>\n      <td>Leicester City2020-09-13</td>\n      <td>...</td>\n      <td>0.000000</td>\n      <td>0.000000</td>\n      <td>0.000000</td>\n      <td>0.000000</td>\n      <td>0.000000e+00</td>\n      <td>0.000000</td>\n      <td>0.000000</td>\n      <td>0.000000</td>\n      <td>0.000000</td>\n      <td>0.000000</td>\n    </tr>\n    <tr>\n      <th>...</th>\n      <td>...</td>\n      <td>...</td>\n      <td>...</td>\n      <td>...</td>\n      <td>...</td>\n      <td>...</td>\n      <td>...</td>\n      <td>...</td>\n      <td>...</td>\n      <td>...</td>\n      <td>...</td>\n      <td>...</td>\n      <td>...</td>\n      <td>...</td>\n      <td>...</td>\n      <td>...</td>\n      <td>...</td>\n      <td>...</td>\n      <td>...</td>\n      <td>...</td>\n      <td>...</td>\n    </tr>\n    <tr>\n      <th>375</th>\n      <td>375</td>\n      <td>2021-05-23</td>\n      <td>16:00</td>\n      <td>Liverpool</td>\n      <td>Crystal Palace</td>\n      <td>2</td>\n      <td>0</td>\n      <td>H</td>\n      <td>Liverpool2021-05-23</td>\n      <td>Crystal Palace2021-05-23</td>\n      <td>...</td>\n      <td>266.414317</td>\n      <td>234.391144</td>\n      <td>220.756633</td>\n      <td>229.462717</td>\n      <td>8.105905e+06</td>\n      <td>22.039315</td>\n      <td>64.723511</td>\n      <td>33.235876</td>\n      <td>91.286118</td>\n      <td>30.650143</td>\n    </tr>\n    <tr>\n      <th>376</th>\n      <td>376</td>\n      <td>2021-05-23</td>\n      <td>16:00</td>\n      <td>Manchester City</td>\n      <td>Everton</td>\n      <td>5</td>\n      <td>0</td>\n      <td>H</td>\n      <td>Manchester City2021-05-23</td>\n      <td>Everton2021-05-23</td>\n      <td>...</td>\n      <td>111.178071</td>\n      <td>60.333458</td>\n      <td>87.033731</td>\n      <td>80.524173</td>\n      <td>6.970648e+06</td>\n      <td>50.557816</td>\n      <td>105.287337</td>\n      <td>83.098085</td>\n      <td>70.789092</td>\n      <td>34.129200</td>\n    </tr>\n    <tr>\n      <th>377</th>\n      <td>377</td>\n      <td>2021-05-23</td>\n      <td>16:00</td>\n      <td>Sheffield United</td>\n      <td>Burnley</td>\n      <td>1</td>\n      <td>0</td>\n      <td>H</td>\n      <td>Sheffield United2021-05-23</td>\n      <td>Burnley2021-05-23</td>\n      <td>...</td>\n      <td>159.355210</td>\n      <td>122.629094</td>\n      <td>72.990733</td>\n      <td>145.129330</td>\n      <td>5.889365e+05</td>\n      <td>6.099169</td>\n      <td>75.363725</td>\n      <td>85.307650</td>\n      <td>36.390672</td>\n      <td>40.976420</td>\n    </tr>\n    <tr>\n      <th>378</th>\n      <td>378</td>\n      <td>2021-05-23</td>\n      <td>16:00</td>\n      <td>West Ham United</td>\n      <td>Southampton</td>\n      <td>3</td>\n      <td>0</td>\n      <td>H</td>\n      <td>West Ham United2021-05-23</td>\n      <td>Southampton2021-05-23</td>\n      <td>...</td>\n      <td>193.464996</td>\n      <td>156.014692</td>\n      <td>187.922775</td>\n      <td>137.725972</td>\n      <td>6.926223e+06</td>\n      <td>36.512269</td>\n      <td>94.477085</td>\n      <td>99.317408</td>\n      <td>32.709057</td>\n      <td>100.836827</td>\n    </tr>\n    <tr>\n      <th>379</th>\n      <td>379</td>\n      <td>2021-05-23</td>\n      <td>16:00</td>\n      <td>Wolverhampton Wanderers</td>\n      <td>Manchester United</td>\n      <td>1</td>\n      <td>2</td>\n      <td>A</td>\n      <td>Wolverhampton Wanderers2021-05-23</td>\n      <td>Manchester United2021-05-23</td>\n      <td>...</td>\n      <td>138.843221</td>\n      <td>93.425366</td>\n      <td>131.271094</td>\n      <td>108.450366</td>\n      <td>2.627747e+06</td>\n      <td>20.311334</td>\n      <td>39.458777</td>\n      <td>11.363088</td>\n      <td>11.956387</td>\n      <td>134.856963</td>\n    </tr>\n  </tbody>\n</table>\n<p>380 rows × 428 columns</p>\n</div>"
     },
     "execution_count": 198,
     "metadata": {},
     "output_type": "execute_result"
    }
   ],
   "source": [
    "player_ratings =  pd.merge(player_ratings_a_01, player_ratings_a_02, on= 'game_home_ID', how='left')\n",
    "player_ratings =  pd.merge(player_ratings, player_ratings_a_03, on= 'game_home_ID', how='left')\n",
    "player_ratings =  pd.merge(player_ratings, player_ratings_a_04, on= 'game_home_ID', how='left')\n",
    "player_ratings =  pd.merge(player_ratings, player_ratings_a_05, on= 'game_home_ID', how='left')\n",
    "player_ratings =  pd.merge(player_ratings, player_ratings_a_06, on= 'game_home_ID', how='left')\n",
    "player_ratings =  pd.merge(player_ratings, player_ratings_a_07, on= 'game_home_ID', how='left')\n",
    "player_ratings =  pd.merge(player_ratings, player_ratings_a_08, on= 'game_home_ID', how='left')\n",
    "player_ratings =  pd.merge(player_ratings, player_ratings_a_09, on= 'game_home_ID', how='left')\n",
    "player_ratings =  pd.merge(player_ratings, PL20_21_fixtures, on= 'game_home_ID', how='left')\n",
    "\n",
    "player_ratings"
   ],
   "metadata": {
    "collapsed": false,
    "pycharm": {
     "name": "#%%\n"
    }
   }
  },
  {
   "cell_type": "code",
   "execution_count": 199,
   "outputs": [],
   "source": [
    "player_ratings['rating_01_h'] = player_ratings['rating_h_gk_01'] + player_ratings ['rating_h_df_01'] + player_ratings['rating_h_mf_01'] + player_ratings['rating_h_att_01'] + player_ratings['rating_h_bench_01']\n",
    "player_ratings['rating_01_a'] = player_ratings['rating_a_gk_01'] + player_ratings ['rating_a_df_01'] + player_ratings['rating_a_mf_01'] + player_ratings['rating_a_att_01'] + player_ratings['rating_a_bench_01']\n",
    "player_ratings['rating_02_h'] = player_ratings['rating_h_gk_02'] + player_ratings ['rating_h_df_02'] + player_ratings['rating_h_mf_02'] + player_ratings['rating_h_att_02'] + player_ratings['rating_h_bench_02']\n",
    "player_ratings['rating_02_a'] = player_ratings['rating_a_gk_02'] + player_ratings ['rating_a_df_02'] + player_ratings['rating_a_mf_02'] + player_ratings['rating_a_att_02'] + player_ratings['rating_a_bench_02']\n",
    "player_ratings['rating_03_h'] = player_ratings['rating_h_gk_03'] + player_ratings ['rating_h_df_03'] + player_ratings['rating_h_mf_03'] + player_ratings['rating_h_att_03'] + player_ratings['rating_h_bench_03']\n",
    "player_ratings['rating_03_a'] = player_ratings['rating_a_gk_03'] + player_ratings ['rating_a_df_03'] + player_ratings['rating_a_mf_03'] + player_ratings['rating_a_att_03'] + player_ratings['rating_a_bench_03']\n",
    "player_ratings['rating_04_h'] = player_ratings['rating_h_gk_04'] + player_ratings ['rating_h_df_04'] + player_ratings['rating_h_mf_04'] + player_ratings['rating_h_att_04'] + player_ratings['rating_h_bench_04']\n",
    "player_ratings['rating_04_a'] = player_ratings['rating_a_gk_04'] + player_ratings ['rating_a_df_04'] + player_ratings['rating_a_mf_04'] + player_ratings['rating_a_att_04'] + player_ratings['rating_a_bench_04']\n",
    "player_ratings['rating_05_h'] = player_ratings['rating_h_gk_05'] + player_ratings ['rating_h_df_05'] + player_ratings['rating_h_mf_05'] + player_ratings['rating_h_att_05'] + player_ratings['rating_h_bench_05']\n",
    "player_ratings['rating_05_a'] = player_ratings['rating_a_gk_05'] + player_ratings ['rating_a_df_05'] + player_ratings['rating_a_mf_05'] + player_ratings['rating_a_att_05'] + player_ratings['rating_a_bench_05']\n",
    "player_ratings['rating_06_h'] = player_ratings['rating_h_gk_06'] + player_ratings ['rating_h_df_06'] + player_ratings['rating_h_mf_06'] + player_ratings['rating_h_att_06'] + player_ratings['rating_h_bench_06']\n",
    "player_ratings['rating_06_a'] = player_ratings['rating_a_gk_06'] + player_ratings ['rating_a_df_06'] + player_ratings['rating_a_mf_06'] + player_ratings['rating_a_att_06'] + player_ratings['rating_a_bench_06']\n",
    "player_ratings['rating_07_h'] = player_ratings['rating_h_gk_07'] + player_ratings ['rating_h_df_07'] + player_ratings['rating_h_mf_07'] + player_ratings['rating_h_att_07'] + player_ratings['rating_h_bench_07']\n",
    "player_ratings['rating_07_a'] = player_ratings['rating_a_gk_07'] + player_ratings ['rating_a_df_07'] + player_ratings['rating_a_mf_07'] + player_ratings['rating_a_att_07'] + player_ratings['rating_a_bench_07']\n",
    "player_ratings['rating_08_h'] = player_ratings['rating_h_gk_08'] + player_ratings ['rating_h_df_08'] + player_ratings['rating_h_mf_08'] + player_ratings['rating_h_att_08'] + player_ratings['rating_h_bench_08']\n",
    "player_ratings['rating_08_a'] = player_ratings['rating_a_gk_08'] + player_ratings ['rating_a_df_08'] + player_ratings['rating_a_mf_08'] + player_ratings['rating_a_att_08'] + player_ratings['rating_a_bench_08']\n",
    "player_ratings['rating_09_h'] = player_ratings['rating_h_gk_09'] + player_ratings ['rating_h_df_09'] + player_ratings['rating_h_mf_09'] + player_ratings['rating_h_att_09'] + player_ratings['rating_h_bench_09']\n",
    "player_ratings['rating_09_a'] = player_ratings['rating_a_gk_09'] + player_ratings ['rating_a_df_09'] + player_ratings['rating_a_mf_09'] + player_ratings['rating_a_att_09'] + player_ratings['rating_a_bench_09']\n",
    "\n",
    "player_ratings['rating_difference_01'] = player_ratings['rating_01_h'] - player_ratings['rating_01_a']\n",
    "player_ratings['rating_difference_02'] = player_ratings['rating_02_h'] - player_ratings['rating_02_a']\n",
    "player_ratings['rating_difference_03'] = player_ratings['rating_03_h'] - player_ratings['rating_03_a']\n",
    "player_ratings['rating_difference_04'] = player_ratings['rating_04_h'] - player_ratings['rating_04_a']\n",
    "player_ratings['rating_difference_05'] = player_ratings['rating_05_h'] - player_ratings['rating_05_a']\n",
    "player_ratings['rating_difference_06'] = player_ratings['rating_06_h'] - player_ratings['rating_06_a']\n",
    "player_ratings['rating_difference_07'] = player_ratings['rating_07_h'] - player_ratings['rating_07_a']\n",
    "player_ratings['rating_difference_08'] = player_ratings['rating_08_h'] - player_ratings['rating_08_a']\n",
    "player_ratings['rating_difference_09'] = player_ratings['rating_09_h'] - player_ratings['rating_09_a']"
   ],
   "metadata": {
    "collapsed": false,
    "pycharm": {
     "name": "#%%\n"
    }
   }
  },
  {
   "cell_type": "code",
   "execution_count": 252,
   "outputs": [],
   "source": [
    "#prepare Data for ML Algos\n",
    "#add column for H A X\n",
    "conditions = [\n",
    "    (player_ratings['FTR_01'] == 'H'),\n",
    "    (player_ratings['FTR_01'] == 'A'),\n",
    "    (player_ratings['FTR_01'] == 'D')]\n",
    "choices = [0, 1, 2]\n",
    "player_ratings['identifier'] = np.select(conditions, choices)\n",
    "#PL20_21_features.drop(PL20_21_features[ PL20_21_features.Wk < 6].index, inplace=True)\n",
    "y = player_ratings['identifier'].to_numpy()\n",
    "#feature_names = ['rating_h_gk_01', 'rating_a_gk_01', 'rating_h_df_01', 'rating_a_df_01', 'rating_h_mf_01', 'rating_a_mf_01', 'rating_h_att_01','rating_a_att_01', 'rating_h_bench_01', 'rating_a_bench_01', 'rating_h_gk_02', 'rating_a_gk_02', 'rating_h_df_02', 'rating_a_df_02', 'rating_h_mf_02', 'rating_a_mf_02', 'rating_h_att_02','rating_a_att_02', 'rating_h_bench_02', 'rating_a_bench_02', 'rating_h_gk_03', 'rating_a_gk_03', 'rating_h_df_03', 'rating_a_df_03', 'rating_h_mf_03', 'rating_a_mf_03', 'rating_h_att_03','rating_a_att_03', 'rating_h_bench_03', 'rating_a_bench_03', 'rating_h_gk_04', 'rating_a_gk_04', 'rating_h_df_04', 'rating_a_df_04', 'rating_h_mf_04', 'rating_a_mf_04', 'rating_h_att_04','rating_a_att_04', 'rating_h_bench_04', 'rating_a_bench_04', 'rating_h_gk_05', 'rating_a_gk_05', 'rating_h_df_05', 'rating_a_df_05', 'rating_h_mf_05', 'rating_a_mf_05', 'rating_h_att_05','rating_a_att_05', 'rating_h_bench_05', 'rating_a_bench_05', 'rating_h_gk_06', 'rating_a_gk_06', 'rating_h_df_06', 'rating_a_df_06', 'rating_h_mf_06', 'rating_a_mf_06', 'rating_h_att_06','rating_a_att_06', 'rating_h_bench_06', 'rating_a_bench_06', 'rating_h_gk_07', 'rating_a_gk_07', 'rating_h_df_07', 'rating_a_df_07', 'rating_h_mf_07', 'rating_a_mf_07', 'rating_h_att_07','rating_a_att_07', 'rating_h_bench_07', 'rating_a_bench_07', 'rating_h_gk_08', 'rating_a_gk_08', 'rating_h_df_08', 'rating_a_df_08', 'rating_h_mf_08', 'rating_a_mf_08', 'rating_h_att_08','rating_a_att_08', 'rating_h_bench_08', 'rating_a_bench_08', 'rating_h_gk_09', 'rating_a_gk_09', 'rating_h_df_09', 'rating_a_df_09', 'rating_h_mf_09', 'rating_a_mf_09', 'rating_h_att_09','rating_a_att_09', 'rating_h_bench_09', 'rating_a_bench_09']\n",
    "feature_names = ['rating_difference_01', 'rating_difference_02', 'rating_difference_03', 'rating_difference_04', 'rating_difference_05', 'rating_difference_06', 'rating_difference_07', 'rating_difference_08', 'rating_difference_09', 'Rating difference', 'Rating_Home', 'Rating_Away', 'ewmH', 'ewmA', 'ewmDifference', 'Elo_h_before','Elo_a_before', 'elo_difference', 'goalsH', 'goalsA', 'goalsDifference', 'shotsH', 'shotsA','shotsDifference', 'cornersH', 'cornersA', 'cornersDifference', 'formH', 'formA', 'form_difference']\n",
    "X = player_ratings[feature_names].to_numpy()\n",
    "#X = PL20_21_features[['Rating difference', 'eloA', 'eloDifference' ]].to_numpy()"
   ],
   "metadata": {
    "collapsed": false,
    "pycharm": {
     "name": "#%%\n"
    }
   }
  },
  {
   "cell_type": "code",
   "execution_count": 253,
   "outputs": [],
   "source": [
    "#split Data in training and test set\n",
    "X_train, X_test, y_train, y_test = train_test_split(X, y, test_size=0.2, random_state=42)"
   ],
   "metadata": {
    "collapsed": false,
    "pycharm": {
     "name": "#%%\n"
    }
   }
  },
  {
   "cell_type": "code",
   "execution_count": 254,
   "outputs": [
    {
     "data": {
      "text/plain": "array([False, False, False, False, False, False, False, False, False,\n        True, False, False, False, False, False, False, False, False,\n       False, False, False, False, False, False, False, False, False,\n       False, False, False])"
     },
     "execution_count": 254,
     "metadata": {},
     "output_type": "execute_result"
    }
   ],
   "source": [
    "sel = SelectFromModel(RandomForestClassifier(n_estimators = 100))\n",
    "sel.fit(X_train, y_train)\n",
    "selector = SelectKBest(f_classif, k=1)\n",
    "selector.fit(X_train, y_train)\n",
    "selector.get_support()\n"
   ],
   "metadata": {
    "collapsed": false,
    "pycharm": {
     "name": "#%%\n"
    }
   }
  },
  {
   "cell_type": "code",
   "execution_count": 255,
   "outputs": [],
   "source": [
    "rf_model = RandomForestClassifier()"
   ],
   "metadata": {
    "collapsed": false,
    "pycharm": {
     "name": "#%%\n"
    }
   }
  },
  {
   "cell_type": "code",
   "execution_count": 256,
   "outputs": [
    {
     "data": {
      "text/plain": "RandomForestClassifier()"
     },
     "execution_count": 256,
     "metadata": {},
     "output_type": "execute_result"
    }
   ],
   "source": [
    "rf_model.fit(X_train, y_train)"
   ],
   "metadata": {
    "collapsed": false,
    "pycharm": {
     "name": "#%%\n"
    }
   }
  },
  {
   "cell_type": "code",
   "execution_count": 257,
   "outputs": [
    {
     "data": {
      "text/plain": "0.5131578947368421"
     },
     "execution_count": 257,
     "metadata": {},
     "output_type": "execute_result"
    }
   ],
   "source": [
    "rf_model.score(X_test, y_test)"
   ],
   "metadata": {
    "collapsed": false,
    "pycharm": {
     "name": "#%%\n"
    }
   }
  },
  {
   "cell_type": "code",
   "execution_count": 258,
   "outputs": [
    {
     "name": "stdout",
     "output_type": "stream",
     "text": [
      "Best Feature: (380, 1)\n"
     ]
    }
   ],
   "source": [
    "select = SelectKBest(score_func=f_classif, k=1)\n",
    "z = select.fit_transform(X,y)\n",
    "\n",
    "print(\"Best Feature:\", z.shape)"
   ],
   "metadata": {
    "collapsed": false,
    "pycharm": {
     "name": "#%%\n"
    }
   }
  },
  {
   "cell_type": "code",
   "execution_count": 259,
   "outputs": [
    {
     "name": "stdout",
     "output_type": "stream",
     "text": [
      "Selected best 3:\n",
      "['Rating difference']\n"
     ]
    }
   ],
   "source": [
    "from numpy import array\n",
    "filter = select.get_support()\n",
    "features = array(feature_names)\n",
    "\n",
    "#print(\"All features:\")\n",
    "#print(features)\n",
    "\n",
    "print(\"Selected best 3:\")\n",
    "print(features[filter])\n",
    "#print(z)"
   ],
   "metadata": {
    "collapsed": false,
    "pycharm": {
     "name": "#%%\n"
    }
   }
  },
  {
   "cell_type": "code",
   "execution_count": 398,
   "outputs": [
    {
     "data": {
      "text/plain": "<Figure size 432x288 with 1 Axes>",
      "image/png": "[encoded data removed]"
     },
     "metadata": {
      "needs_background": "light"
     },
     "output_type": "display_data"
    }
   ],
   "source": [
    "    #start_time = time.time()\n",
    "importances = rf_model.feature_importances_\n",
    "std = np.std([tree.feature_importances_ for tree in rf_model.estimators_], axis=0)\n",
    "#elapsed_time = time.time() - start_time\n",
    "\n",
    "\n",
    "#feature_names = [f\"feature {i}\" for i in range(X.shape[1])]\n",
    "\n",
    "\n",
    "forest_importances = pd.Series(importances, index=feature_names)\n",
    "forest_importances = forest_importances.sort_values()\n",
    "fig, ax = plt.subplots()\n",
    "\n",
    "forest_importances.plot.barh(ax=ax, yerr=std)\n",
    "ax.set_title(\"Feature importances using MDI\")\n",
    "ax.set_xlabel(\"Mean decrease in impurity\")\n",
    "fig.tight_layout()"
   ],
   "metadata": {
    "collapsed": false,
    "pycharm": {
     "name": "#%%\n"
    }
   }
  },
  {
   "cell_type": "code",
   "execution_count": 397,
   "outputs": [
    {
     "ename": "AttributeError",
     "evalue": "'Series' object has no attribute 'rating_difference_01'",
     "output_type": "error",
     "traceback": [
      "\u001B[1;31m---------------------------------------------------------------------------\u001B[0m",
      "\u001B[1;31mAttributeError\u001B[0m                            Traceback (most recent call last)",
      "File \u001B[1;32m<timed exec>:53\u001B[0m, in \u001B[0;36m<module>\u001B[1;34m\u001B[0m\n",
      "File \u001B[1;32m~\\AppData\\Local\\Programs\\Python\\Python310\\lib\\site-packages\\pandas\\core\\generic.py:5583\u001B[0m, in \u001B[0;36mNDFrame.__getattr__\u001B[1;34m(self, name)\u001B[0m\n\u001B[0;32m   5576\u001B[0m \u001B[38;5;28;01mif\u001B[39;00m (\n\u001B[0;32m   5577\u001B[0m     name \u001B[38;5;129;01mnot\u001B[39;00m \u001B[38;5;129;01min\u001B[39;00m \u001B[38;5;28mself\u001B[39m\u001B[38;5;241m.\u001B[39m_internal_names_set\n\u001B[0;32m   5578\u001B[0m     \u001B[38;5;129;01mand\u001B[39;00m name \u001B[38;5;129;01mnot\u001B[39;00m \u001B[38;5;129;01min\u001B[39;00m \u001B[38;5;28mself\u001B[39m\u001B[38;5;241m.\u001B[39m_metadata\n\u001B[0;32m   5579\u001B[0m     \u001B[38;5;129;01mand\u001B[39;00m name \u001B[38;5;129;01mnot\u001B[39;00m \u001B[38;5;129;01min\u001B[39;00m \u001B[38;5;28mself\u001B[39m\u001B[38;5;241m.\u001B[39m_accessors\n\u001B[0;32m   5580\u001B[0m     \u001B[38;5;129;01mand\u001B[39;00m \u001B[38;5;28mself\u001B[39m\u001B[38;5;241m.\u001B[39m_info_axis\u001B[38;5;241m.\u001B[39m_can_hold_identifiers_and_holds_name(name)\n\u001B[0;32m   5581\u001B[0m ):\n\u001B[0;32m   5582\u001B[0m     \u001B[38;5;28;01mreturn\u001B[39;00m \u001B[38;5;28mself\u001B[39m[name]\n\u001B[1;32m-> 5583\u001B[0m \u001B[38;5;28;01mreturn\u001B[39;00m \u001B[38;5;28;43mobject\u001B[39;49m\u001B[38;5;241;43m.\u001B[39;49m\u001B[38;5;21;43m__getattribute__\u001B[39;49m\u001B[43m(\u001B[49m\u001B[38;5;28;43mself\u001B[39;49m\u001B[43m,\u001B[49m\u001B[43m \u001B[49m\u001B[43mname\u001B[49m\u001B[43m)\u001B[49m\n",
      "\u001B[1;31mAttributeError\u001B[0m: 'Series' object has no attribute 'rating_difference_01'"
     ]
    }
   ],
   "source": [
    "%%time\n",
    "#split Data in training and test set\n",
    "d_1 = 0\n",
    "d_2 = 0\n",
    "d_3 = 0\n",
    "d_4 = 0\n",
    "d_5 = 0\n",
    "d_6 = 0\n",
    "d_7 = 0\n",
    "d_8 = 0\n",
    "d_9 = 0\n",
    "rating_dif = 0\n",
    "rating_h = 0\n",
    "rating_a = 0\n",
    "ewm_h = 0\n",
    "ewm_a = 0\n",
    "ewm_dif = 0\n",
    "elo_h = 0\n",
    "elo_a = 0\n",
    "elo_dif = 0\n",
    "goals_h = 0\n",
    "goals_a = 0\n",
    "goals_dif = 0\n",
    "shots_h = 0\n",
    "shots_a = 0\n",
    "shots_dif = 0\n",
    "corners_h = 0\n",
    "corners_a = 0\n",
    "corners_dif = 0\n",
    "form_h = 0\n",
    "form_a = 0\n",
    "form_dif = 0\n",
    "\n",
    "\n",
    "score = []\n",
    "i = 1000\n",
    "for i in range(1, i):\n",
    "    X_train, X_test, y_train, y_test = train_test_split(X, y, test_size=0.2, random_state=42)\n",
    "    rf_model = RandomForestClassifier()\n",
    "    rf_model.fit(X_train, y_train)\n",
    "    score.append(rf_model.score(X_test, y_test))\n",
    "    #start_time = time.time()\n",
    "    importances = rf_model.feature_importances_\n",
    "    std = np.std([tree.feature_importances_ for tree in rf_model.estimators_], axis=0)\n",
    "    #elapsed_time = time.time() - start_time\n",
    "\n",
    "\n",
    "    #feature_names = [f\"feature {i}\" for i in range(X.shape[1])]\n",
    "\n",
    "\n",
    "    forest_importances = pd.Series(importances, index=feature_names)\n",
    "\n",
    "\n",
    "    d_1 = d_1 + forest_importances.rating_difference_01\n",
    "    d_2 = d_2 + forest_importances.rating_difference_02\n",
    "    d_3 = d_3 + forest_importances.rating_difference_03\n",
    "    d_4 = d_4 + forest_importances.rating_difference_04\n",
    "    d_5 = d_5 + forest_importances.rating_difference_05\n",
    "    d_6 = d_6 + forest_importances.rating_difference_06\n",
    "    d_7 = d_7 + forest_importances.rating_difference_07\n",
    "    d_8 = d_8 + forest_importances.rating_difference_08\n",
    "    d_9 = d_9 + forest_importances.rating_difference_09\n",
    "\n",
    "\n",
    "\n",
    "    rating_dif = rating_dif + forest_importances['Rating difference']\n",
    "    rating_h = rating_h + forest_importances.Rating_Home\n",
    "    rating_a = rating_a + forest_importances.Rating_Away\n",
    "    ewm_h = ewm_h + forest_importances.ewmH\n",
    "    ewm_a = ewm_a + forest_importances.ewmA\n",
    "    ewm_dif = ewm_dif + forest_importances.ewmDifference\n",
    "    elo_h = elo_h + forest_importances.Elo_h_before\n",
    "    elo_a = elo_a + forest_importances.Elo_a_before\n",
    "    elo_dif = elo_dif+ forest_importances.elo_difference\n",
    "    goals_h = goals_h+ forest_importances.goalsH\n",
    "    goals_a = goals_a+ forest_importances.goalsA\n",
    "    goals_dif = goals_dif+ forest_importances.goalsDifference\n",
    "    shots_h = shots_h+ forest_importances.shotsH\n",
    "    shots_a = shots_a+ forest_importances.shotsA\n",
    "    shots_dif = shots_dif+ forest_importances.shotsDifference\n",
    "    corners_h = corners_h+ forest_importances.cornersH\n",
    "    corners_a = corners_a+ forest_importances.cornersA\n",
    "    corners_dif = corners_dif+ forest_importances.cornersDifference\n",
    "    form_h = form_h+ forest_importances.formH\n",
    "    form_a = form_a+ forest_importances.formA\n",
    "    form_dif = form_dif+ forest_importances.form_difference\n",
    "\n",
    "fig, ax = plt.subplots()\n",
    "forest_importances.rating_difference_01 = d_1/i\n",
    "forest_importances.rating_difference_02 = d_2/i\n",
    "forest_importances.rating_difference_03 = d_3/i\n",
    "forest_importances.rating_difference_04 = d_4/i\n",
    "forest_importances.rating_difference_05 = d_5/i\n",
    "forest_importances.rating_difference_06 = d_6/i\n",
    "forest_importances.rating_difference_07 = d_7/i\n",
    "forest_importances.rating_difference_08 = d_8/i\n",
    "forest_importances.rating_difference_09 = d_9/i\n",
    "forest_importances['Rating difference'] = rating_dif/i\n",
    "forest_importances.Rating_Home = rating_h/i\n",
    "forest_importances.Rating_Away = rating_a/i\n",
    "forest_importances.ewmH = ewm_h/i\n",
    "forest_importances.ewmA = ewm_a/i\n",
    "forest_importances.ewmDifference = ewm_dif/i\n",
    "forest_importances.Elo_h_before = elo_h/i\n",
    "forest_importances.Elo_h_before = elo_a/i\n",
    "forest_importances.elo_difference = elo_dif/i\n",
    "forest_importances.goalsH = goals_h/i\n",
    "forest_importances.goalsA = goals_a/i\n",
    "forest_importances.goalsDifference = goals_dif/i\n",
    "forest_importances.shotsH = shots_h/i\n",
    "forest_importances.shotsA = shots_a/i\n",
    "forest_importances.shotsDifference = shots_dif/i\n",
    "forest_importances.cornersH = corners_h/i\n",
    "forest_importances.cornersA = corners_a/i\n",
    "forest_importances.cornersDifference = corners_dif/i\n",
    "forest_importances.formH = form_h/i\n",
    "forest_importances.formA = form_a/i\n",
    "forest_importances.form_difference = form_dif/i\n",
    "\n",
    "\n",
    "\n",
    "\n",
    "forest_importances = forest_importances.sort_values()\n",
    "forest_importances.plot.barh(ax=ax, yerr=std)\n",
    "ax.set_title(\"Feature importances using MDI\")\n",
    "ax.set_xlabel(\"Mean decrease in impurity\")\n",
    "fig.tight_layout(pad=-5, w_pad=0.5, h_pad=-2)\n",
    "print(np.mean(score))\n",
    "print(forest_importances.sort_values(ascending=False))\n",
    "\n"
   ],
   "metadata": {
    "collapsed": false,
    "pycharm": {
     "name": "#%%\n"
    }
   }
  },
  {
   "cell_type": "code",
   "execution_count": 311,
   "outputs": [
    {
     "data": {
      "text/plain": "     Unnamed: 0_09     Date_09 Time_09              HomeTeam_09  \\\n0                0  2020-09-12   12:30                   Fulham   \n1                1  2020-09-12   15:00           Crystal Palace   \n2                2  2020-09-12   17:30                Liverpool   \n3                3  2020-09-12   20:00          West Ham United   \n4                4  2020-09-13   14:00     West Bromwich Albion   \n..             ...         ...     ...                      ...   \n375            375  2021-05-23   16:00                Liverpool   \n376            376  2021-05-23   16:00          Manchester City   \n377            377  2021-05-23   16:00         Sheffield United   \n378            378  2021-05-23   16:00          West Ham United   \n379            379  2021-05-23   16:00  Wolverhampton Wanderers   \n\n           AwayTeam_09  FTHG_09  FTAG_09 FTR_09  \\\n0              Arsenal        0        3      A   \n1          Southampton        1        0      H   \n2         Leeds United        4        3      H   \n3     Newcastle United        0        2      A   \n4       Leicester City        0        3      A   \n..                 ...      ...      ...    ...   \n375     Crystal Palace        2        0      H   \n376            Everton        5        0      H   \n377            Burnley        1        0      H   \n378        Southampton        3        0      H   \n379  Manchester United        1        2      A   \n\n                          game_home_ID              game_away_ID_09  ...  \\\n0                     Fulham2020-09-12            Arsenal2020-09-12  ...   \n1             Crystal Palace2020-09-12        Southampton2020-09-12  ...   \n2                  Liverpool2020-09-12       Leeds United2020-09-12  ...   \n3            West Ham United2020-09-12   Newcastle United2020-09-12  ...   \n4       West Bromwich Albion2020-09-13     Leicester City2020-09-13  ...   \n..                                 ...                          ...  ...   \n375                Liverpool2021-05-23     Crystal Palace2021-05-23  ...   \n376          Manchester City2021-05-23            Everton2021-05-23  ...   \n377         Sheffield United2021-05-23            Burnley2021-05-23  ...   \n378          West Ham United2021-05-23        Southampton2021-05-23  ...   \n379  Wolverhampton Wanderers2021-05-23  Manchester United2021-05-23  ...   \n\n     att_difference  bench_difference  influence_difference  \\\n0          0.000000          0.000000              0.000000   \n1          0.000000          0.000000              0.000000   \n2          0.000000          0.000000              0.000000   \n3          0.000000          0.000000              0.000000   \n4          0.000000          0.000000              0.000000   \n..              ...               ...                   ...   \n375       14.278922         25.279522            158.174214   \n376      -41.715032         70.551168            -57.490544   \n377       27.336143         22.933582             27.687544   \n378       83.344220        -15.656909            145.588167   \n379       43.114728        -17.391492             94.425781   \n\n     creativity_difference  threat_difference  bps_difference  \\\n0                 0.000000           0.000000        0.000000   \n1                 0.000000           0.000000        0.000000   \n2                 0.000000           0.000000        0.000000   \n3                 0.000000           0.000000        0.000000   \n4                 0.000000           0.000000        0.000000   \n..                     ...                ...             ...   \n375              98.310169          95.265832      156.049672   \n376            -115.984351         -44.672924     -102.847780   \n377              32.584193         -68.221724       33.241672   \n378              70.495742         175.666343       79.939011   \n379              84.351032         118.114233       69.210043   \n\n     selected_difference   overall_h   overall_a  overall_difference  \n0           0.000000e+00    0.000000    0.000000            0.000000  \n1           0.000000e+00    0.000000    0.000000            0.000000  \n2           0.000000e+00    0.000000    0.000000            0.000000  \n3           0.000000e+00    0.000000    0.000000            0.000000  \n4           0.000000e+00    0.000000    0.000000            0.000000  \n..                   ...         ...         ...                 ...  \n375         5.900544e+06  451.836114  267.630667          184.205447  \n376         6.376243e+05  276.980872  355.553716          -78.572844  \n377        -6.920692e+05  349.741751  223.019166          126.722585  \n378         3.410067e+06  388.783331  378.471357           10.311974  \n379         2.110171e+06  340.334869  176.805772          163.529097  \n\n[380 rows x 193 columns]",
      "text/html": "<div>\n<style scoped>\n    .dataframe tbody tr th:only-of-type {\n        vertical-align: middle;\n    }\n\n    .dataframe tbody tr th {\n        vertical-align: top;\n    }\n\n    .dataframe thead th {\n        text-align: right;\n    }\n</style>\n<table border=\"1\" class=\"dataframe\">\n  <thead>\n    <tr style=\"text-align: right;\">\n      <th></th>\n      <th>Unnamed: 0_09</th>\n      <th>Date_09</th>\n      <th>Time_09</th>\n      <th>HomeTeam_09</th>\n      <th>AwayTeam_09</th>\n      <th>FTHG_09</th>\n      <th>FTAG_09</th>\n      <th>FTR_09</th>\n      <th>game_home_ID</th>\n      <th>game_away_ID_09</th>\n      <th>...</th>\n      <th>att_difference</th>\n      <th>bench_difference</th>\n      <th>influence_difference</th>\n      <th>creativity_difference</th>\n      <th>threat_difference</th>\n      <th>bps_difference</th>\n      <th>selected_difference</th>\n      <th>overall_h</th>\n      <th>overall_a</th>\n      <th>overall_difference</th>\n    </tr>\n  </thead>\n  <tbody>\n    <tr>\n      <th>0</th>\n      <td>0</td>\n      <td>2020-09-12</td>\n      <td>12:30</td>\n      <td>Fulham</td>\n      <td>Arsenal</td>\n      <td>0</td>\n      <td>3</td>\n      <td>A</td>\n      <td>Fulham2020-09-12</td>\n      <td>Arsenal2020-09-12</td>\n      <td>...</td>\n      <td>0.000000</td>\n      <td>0.000000</td>\n      <td>0.000000</td>\n      <td>0.000000</td>\n      <td>0.000000</td>\n      <td>0.000000</td>\n      <td>0.000000e+00</td>\n      <td>0.000000</td>\n      <td>0.000000</td>\n      <td>0.000000</td>\n    </tr>\n    <tr>\n      <th>1</th>\n      <td>1</td>\n      <td>2020-09-12</td>\n      <td>15:00</td>\n      <td>Crystal Palace</td>\n      <td>Southampton</td>\n      <td>1</td>\n      <td>0</td>\n      <td>H</td>\n      <td>Crystal Palace2020-09-12</td>\n      <td>Southampton2020-09-12</td>\n      <td>...</td>\n      <td>0.000000</td>\n      <td>0.000000</td>\n      <td>0.000000</td>\n      <td>0.000000</td>\n      <td>0.000000</td>\n      <td>0.000000</td>\n      <td>0.000000e+00</td>\n      <td>0.000000</td>\n      <td>0.000000</td>\n      <td>0.000000</td>\n    </tr>\n    <tr>\n      <th>2</th>\n      <td>2</td>\n      <td>2020-09-12</td>\n      <td>17:30</td>\n      <td>Liverpool</td>\n      <td>Leeds United</td>\n      <td>4</td>\n      <td>3</td>\n      <td>H</td>\n      <td>Liverpool2020-09-12</td>\n      <td>Leeds United2020-09-12</td>\n      <td>...</td>\n      <td>0.000000</td>\n      <td>0.000000</td>\n      <td>0.000000</td>\n      <td>0.000000</td>\n      <td>0.000000</td>\n      <td>0.000000</td>\n      <td>0.000000e+00</td>\n      <td>0.000000</td>\n      <td>0.000000</td>\n      <td>0.000000</td>\n    </tr>\n    <tr>\n      <th>3</th>\n      <td>3</td>\n      <td>2020-09-12</td>\n      <td>20:00</td>\n      <td>West Ham United</td>\n      <td>Newcastle United</td>\n      <td>0</td>\n      <td>2</td>\n      <td>A</td>\n      <td>West Ham United2020-09-12</td>\n      <td>Newcastle United2020-09-12</td>\n      <td>...</td>\n      <td>0.000000</td>\n      <td>0.000000</td>\n      <td>0.000000</td>\n      <td>0.000000</td>\n      <td>0.000000</td>\n      <td>0.000000</td>\n      <td>0.000000e+00</td>\n      <td>0.000000</td>\n      <td>0.000000</td>\n      <td>0.000000</td>\n    </tr>\n    <tr>\n      <th>4</th>\n      <td>4</td>\n      <td>2020-09-13</td>\n      <td>14:00</td>\n      <td>West Bromwich Albion</td>\n      <td>Leicester City</td>\n      <td>0</td>\n      <td>3</td>\n      <td>A</td>\n      <td>West Bromwich Albion2020-09-13</td>\n      <td>Leicester City2020-09-13</td>\n      <td>...</td>\n      <td>0.000000</td>\n      <td>0.000000</td>\n      <td>0.000000</td>\n      <td>0.000000</td>\n      <td>0.000000</td>\n      <td>0.000000</td>\n      <td>0.000000e+00</td>\n      <td>0.000000</td>\n      <td>0.000000</td>\n      <td>0.000000</td>\n    </tr>\n    <tr>\n      <th>...</th>\n      <td>...</td>\n      <td>...</td>\n      <td>...</td>\n      <td>...</td>\n      <td>...</td>\n      <td>...</td>\n      <td>...</td>\n      <td>...</td>\n      <td>...</td>\n      <td>...</td>\n      <td>...</td>\n      <td>...</td>\n      <td>...</td>\n      <td>...</td>\n      <td>...</td>\n      <td>...</td>\n      <td>...</td>\n      <td>...</td>\n      <td>...</td>\n      <td>...</td>\n      <td>...</td>\n    </tr>\n    <tr>\n      <th>375</th>\n      <td>375</td>\n      <td>2021-05-23</td>\n      <td>16:00</td>\n      <td>Liverpool</td>\n      <td>Crystal Palace</td>\n      <td>2</td>\n      <td>0</td>\n      <td>H</td>\n      <td>Liverpool2021-05-23</td>\n      <td>Crystal Palace2021-05-23</td>\n      <td>...</td>\n      <td>14.278922</td>\n      <td>25.279522</td>\n      <td>158.174214</td>\n      <td>98.310169</td>\n      <td>95.265832</td>\n      <td>156.049672</td>\n      <td>5.900544e+06</td>\n      <td>451.836114</td>\n      <td>267.630667</td>\n      <td>184.205447</td>\n    </tr>\n    <tr>\n      <th>376</th>\n      <td>376</td>\n      <td>2021-05-23</td>\n      <td>16:00</td>\n      <td>Manchester City</td>\n      <td>Everton</td>\n      <td>5</td>\n      <td>0</td>\n      <td>H</td>\n      <td>Manchester City2021-05-23</td>\n      <td>Everton2021-05-23</td>\n      <td>...</td>\n      <td>-41.715032</td>\n      <td>70.551168</td>\n      <td>-57.490544</td>\n      <td>-115.984351</td>\n      <td>-44.672924</td>\n      <td>-102.847780</td>\n      <td>6.376243e+05</td>\n      <td>276.980872</td>\n      <td>355.553716</td>\n      <td>-78.572844</td>\n    </tr>\n    <tr>\n      <th>377</th>\n      <td>377</td>\n      <td>2021-05-23</td>\n      <td>16:00</td>\n      <td>Sheffield United</td>\n      <td>Burnley</td>\n      <td>1</td>\n      <td>0</td>\n      <td>H</td>\n      <td>Sheffield United2021-05-23</td>\n      <td>Burnley2021-05-23</td>\n      <td>...</td>\n      <td>27.336143</td>\n      <td>22.933582</td>\n      <td>27.687544</td>\n      <td>32.584193</td>\n      <td>-68.221724</td>\n      <td>33.241672</td>\n      <td>-6.920692e+05</td>\n      <td>349.741751</td>\n      <td>223.019166</td>\n      <td>126.722585</td>\n    </tr>\n    <tr>\n      <th>378</th>\n      <td>378</td>\n      <td>2021-05-23</td>\n      <td>16:00</td>\n      <td>West Ham United</td>\n      <td>Southampton</td>\n      <td>3</td>\n      <td>0</td>\n      <td>H</td>\n      <td>West Ham United2021-05-23</td>\n      <td>Southampton2021-05-23</td>\n      <td>...</td>\n      <td>83.344220</td>\n      <td>-15.656909</td>\n      <td>145.588167</td>\n      <td>70.495742</td>\n      <td>175.666343</td>\n      <td>79.939011</td>\n      <td>3.410067e+06</td>\n      <td>388.783331</td>\n      <td>378.471357</td>\n      <td>10.311974</td>\n    </tr>\n    <tr>\n      <th>379</th>\n      <td>379</td>\n      <td>2021-05-23</td>\n      <td>16:00</td>\n      <td>Wolverhampton Wanderers</td>\n      <td>Manchester United</td>\n      <td>1</td>\n      <td>2</td>\n      <td>A</td>\n      <td>Wolverhampton Wanderers2021-05-23</td>\n      <td>Manchester United2021-05-23</td>\n      <td>...</td>\n      <td>43.114728</td>\n      <td>-17.391492</td>\n      <td>94.425781</td>\n      <td>84.351032</td>\n      <td>118.114233</td>\n      <td>69.210043</td>\n      <td>2.110171e+06</td>\n      <td>340.334869</td>\n      <td>176.805772</td>\n      <td>163.529097</td>\n    </tr>\n  </tbody>\n</table>\n<p>380 rows × 193 columns</p>\n</div>"
     },
     "execution_count": 311,
     "metadata": {},
     "output_type": "execute_result"
    }
   ],
   "source": [
    "#only stats with alpha = 0.9\n",
    "player_ratings_09 =  pd.merge(player_ratings_a_09, PL20_21_fixtures, on= 'game_home_ID', how='left')\n",
    "#create differences\n",
    "player_ratings_09['gk_difference'] = player_ratings_09['rating_h_gk_09'] - player_ratings_09['rating_a_gk_09']\n",
    "player_ratings_09['df_difference'] = player_ratings_09['rating_h_df_09'] - player_ratings_09['rating_a_df_09']\n",
    "player_ratings_09['mf_difference'] = player_ratings_09['rating_h_mf_09'] - player_ratings_09['rating_a_mf_09']\n",
    "player_ratings_09['att_difference'] = player_ratings_09['rating_h_att_09'] - player_ratings_09['rating_a_att_09']\n",
    "player_ratings_09['bench_difference'] = player_ratings_09['rating_h_bench_09'] - player_ratings_09['rating_a_bench_09']\n",
    "player_ratings_09['influence_difference'] = player_ratings_09['influence_h_09'] - player_ratings_09['influence_a_09']\n",
    "player_ratings_09['creativity_difference'] = player_ratings_09['creativity_h_09'] - player_ratings_09['creativity_a_09']\n",
    "player_ratings_09['threat_difference'] = player_ratings_09['threat_h_09'] - player_ratings_09['threat_a_09']\n",
    "player_ratings_09['bps_difference'] = player_ratings_09['bps_h_09'] - player_ratings_09['bps_a_09']\n",
    "player_ratings_09['selected_difference'] = player_ratings_09['selected_h_09'] - player_ratings_09['selected_a_09']\n",
    "player_ratings_09['overall_h'] = player_ratings_09['rating_h_gk_09'] + player_ratings_09['rating_h_df_09'] + player_ratings_09['rating_h_mf_09'] + player_ratings_09['rating_h_att_09'] + player_ratings_09['rating_h_bench_09']\n",
    "player_ratings_09['overall_a'] = player_ratings_09['rating_a_gk_09'] + player_ratings_09['rating_a_df_09'] + player_ratings_09['rating_a_mf_09'] + player_ratings_09['rating_a_att_09'] + player_ratings_09['rating_a_bench_09']\n",
    "player_ratings_09['overall_difference'] = player_ratings_09['overall_h'] - player_ratings_09['overall_a']\n",
    "player_ratings_09"
   ],
   "metadata": {
    "collapsed": false,
    "pycharm": {
     "name": "#%%\n"
    }
   }
  },
  {
   "cell_type": "code",
   "execution_count": 340,
   "outputs": [
    {
     "name": "stdout",
     "output_type": "stream",
     "text": [
      "0.5336387059833952\n",
      "0.47142857142857153\n"
     ]
    }
   ],
   "source": [
    "score = []\n",
    "score2 = []\n",
    "i = 500\n",
    "for i in range(1, i):\n",
    "    rf_model = RandomForestClassifier()\n",
    "    rf_model.fit(X_train, y_train)\n",
    "    xgb_model = xgb.XGBClassifier(seed=82)\n",
    "    xgb_model.fit(X_train, y_train)\n",
    "    score2.append(xgb_model.score(X_test, y_test))\n",
    "    score.append(rf_model.score(X_test, y_test))\n",
    "print(np.mean(score))\n",
    "print(np.mean(score2))"
   ],
   "metadata": {
    "collapsed": false,
    "pycharm": {
     "name": "#%%\n"
    }
   }
  },
  {
   "cell_type": "code",
   "execution_count": 395,
   "outputs": [
    {
     "name": "stdout",
     "output_type": "stream",
     "text": [
      "0.5263157894736842\n"
     ]
    },
    {
     "data": {
      "text/plain": "        H     D     A\n0    0.02  0.96  0.02\n1    0.72  0.24  0.04\n2    0.85  0.12  0.03\n3    0.62  0.34  0.04\n4    0.02  0.96  0.02\n..    ...   ...   ...\n375  0.86  0.11  0.03\n376  0.45  0.36  0.19\n377  0.80  0.16  0.04\n378  0.87  0.09  0.04\n379  0.17  0.74  0.09\n\n[380 rows x 3 columns]",
      "text/html": "<div>\n<style scoped>\n    .dataframe tbody tr th:only-of-type {\n        vertical-align: middle;\n    }\n\n    .dataframe tbody tr th {\n        vertical-align: top;\n    }\n\n    .dataframe thead th {\n        text-align: right;\n    }\n</style>\n<table border=\"1\" class=\"dataframe\">\n  <thead>\n    <tr style=\"text-align: right;\">\n      <th></th>\n      <th>H</th>\n      <th>D</th>\n      <th>A</th>\n    </tr>\n  </thead>\n  <tbody>\n    <tr>\n      <th>0</th>\n      <td>0.02</td>\n      <td>0.96</td>\n      <td>0.02</td>\n    </tr>\n    <tr>\n      <th>1</th>\n      <td>0.72</td>\n      <td>0.24</td>\n      <td>0.04</td>\n    </tr>\n    <tr>\n      <th>2</th>\n      <td>0.85</td>\n      <td>0.12</td>\n      <td>0.03</td>\n    </tr>\n    <tr>\n      <th>3</th>\n      <td>0.62</td>\n      <td>0.34</td>\n      <td>0.04</td>\n    </tr>\n    <tr>\n      <th>4</th>\n      <td>0.02</td>\n      <td>0.96</td>\n      <td>0.02</td>\n    </tr>\n    <tr>\n      <th>...</th>\n      <td>...</td>\n      <td>...</td>\n      <td>...</td>\n    </tr>\n    <tr>\n      <th>375</th>\n      <td>0.86</td>\n      <td>0.11</td>\n      <td>0.03</td>\n    </tr>\n    <tr>\n      <th>376</th>\n      <td>0.45</td>\n      <td>0.36</td>\n      <td>0.19</td>\n    </tr>\n    <tr>\n      <th>377</th>\n      <td>0.80</td>\n      <td>0.16</td>\n      <td>0.04</td>\n    </tr>\n    <tr>\n      <th>378</th>\n      <td>0.87</td>\n      <td>0.09</td>\n      <td>0.04</td>\n    </tr>\n    <tr>\n      <th>379</th>\n      <td>0.17</td>\n      <td>0.74</td>\n      <td>0.09</td>\n    </tr>\n  </tbody>\n</table>\n<p>380 rows × 3 columns</p>\n</div>"
     },
     "execution_count": 395,
     "metadata": {},
     "output_type": "execute_result"
    },
    {
     "data": {
      "text/plain": "<Figure size 432x288 with 1 Axes>",
      "image/png": "[encoded data removed]"
     },
     "metadata": {
      "needs_background": "light"
     },
     "output_type": "display_data"
    }
   ],
   "source": [
    "#prepare Data for ML Algos\n",
    "#add column for H A X\n",
    "#player_ratings_09_tmp = player_ratings_09.iloc[30:]\n",
    "player_ratings_09_tmp = player_ratings_09\n",
    "conditions = [\n",
    "    (player_ratings_09_tmp['FTR_09'] == 'H'),\n",
    "    (player_ratings_09_tmp['FTR_09'] == 'A'),\n",
    "    (player_ratings_09_tmp['FTR_09'] == 'D')]\n",
    "choices = [0, 1, 2]\n",
    "player_ratings_09_tmp['identifier'] = np.select(conditions, choices)\n",
    "#PL20_21_features.drop(PL20_21_features[ PL20_21_features.Wk < 6].index, inplace=True)\n",
    "y = player_ratings_09_tmp['identifier'].to_numpy()\n",
    "feature_names = ['rating_h_gk_09', 'Rating difference', 'Rating_Home', 'Rating_Away', 'ewmH', 'ewmA', 'ewmDifference', 'Elo_h_before','Elo_a_before', 'elo_difference', 'goalsH', 'goalsA', 'goalsDifference', 'shotsH', 'shotsA','shotsDifference', 'cornersH', 'cornersA', 'cornersDifference', 'formH', 'formA', 'form_difference', 'rating_a_gk_09', 'rating_h_df_09', 'rating_a_df_09', 'rating_h_mf_09', 'rating_a_mf_09', 'rating_h_att_09', 'rating_a_att_09', 'rating_h_bench_09', 'rating_a_bench_09', 'influence_h_09', 'influence_a_09', 'creativity_h_09', 'creativity_a_09', 'threat_h_09', 'threat_a_09', 'bps_h_09', 'bps_a_09', 'selected_h_09', 'selected_a_09', 'gk_difference', 'df_difference', 'mf_difference', 'att_difference', 'bench_difference','overall_difference' ,'influence_difference', 'creativity_difference', 'threat_difference', 'bps_difference', 'selected_difference', 'overall_h', 'overall_a']\n",
    "#feature_names = ['Rating difference', 'Rating_Home', 'Rating_Away', 'ewmH', 'ewmA', 'ewmDifference', 'Elo_h_before','Elo_a_before', 'elo_difference', 'goalsH', 'goalsA', 'goalsDifference', 'shotsH', 'shotsA','shotsDifference', 'cornersH', 'cornersA', 'cornersDifference', 'formH', 'formA', 'form_difference']\n",
    "X = player_ratings_09_tmp[feature_names].to_numpy()\n",
    "X_train, X_test, y_train, y_test = train_test_split(X, y, test_size=0.2, random_state=42)\n",
    "rf_model = RandomForestClassifier()\n",
    "rf_model.fit(X_train, y_train)\n",
    "score.append(rf_model.score(X_test, y_test))\n",
    "#start_time = time.time()\n",
    "importances = rf_model.feature_importances_\n",
    "std = np.std([tree.feature_importances_ for tree in rf_model.estimators_], axis=0)\n",
    "#elapsed_time = time.time() - start_time\n",
    "\n",
    "\n",
    "#feature_names = [f\"feature {i}\" for i in range(X.shape[1])]\n",
    "\n",
    "\n",
    "forest_importances = pd.Series(importances, index=feature_names)\n",
    "forest_importances = forest_importances.sort_values()\n",
    "fig, ax = plt.subplots()\n",
    "fig.tight_layout(pad=-15, w_pad=0.5, h_pad=-2)\n",
    "\n",
    "forest_importances.plot.barh(ax=ax, yerr=std)\n",
    "ax.set_title(\"Feature importances using MDI\")\n",
    "ax.set_xlabel(\"Mean decrease in impurity\")\n",
    "print(rf_model.score(X_test, y_test))\n",
    "\n",
    "np_prob = rf_model.predict_proba(X=X)\n",
    "df = pd.DataFrame(np_prob, columns = ['H','D','A'])\n",
    "df\n",
    "#df.to_csv('Data/2020-21/Fixtures/probabilities.csv')\n",
    "#fig.tight_layout(pad=-15, w_pad=0.5, h_pad=-2)"
   ],
   "metadata": {
    "collapsed": false,
    "pycharm": {
     "name": "#%%\n"
    }
   }
  },
  {
   "cell_type": "code",
   "execution_count": 384,
   "outputs": [],
   "source": [
    "df.to_csv('Data/2020-21/Fixtures/probabilities_ohne_pl_stats.csv')"
   ],
   "metadata": {
    "collapsed": false,
    "pycharm": {
     "name": "#%%\n"
    }
   }
  }
 ],
 "metadata": {
  "kernelspec": {
   "display_name": "Python 3",
   "language": "python",
   "name": "python3"
  },
  "language_info": {
   "codemirror_mode": {
    "name": "ipython",
    "version": 2
   },
   "file_extension": ".py",
   "mimetype": "text/x-python",
   "name": "python",
   "nbconvert_exporter": "python",
   "pygments_lexer": "ipython2",
   "version": "2.7.6"
  }
 },
 "nbformat": 4,
 "nbformat_minor": 0
}