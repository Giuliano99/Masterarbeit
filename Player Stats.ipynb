{
 "cells": [
  {
   "cell_type": "code",
   "execution_count": 1,
   "metadata": {
    "collapsed": true
   },
   "outputs": [],
   "source": [
    "#import necessary packages\n",
    "import pandas as pd\n",
    "import numpy as np\n",
    "from sklearn.ensemble import RandomForestClassifier\n",
    "import xgboost as xgb\n",
    "from sklearn.model_selection import train_test_split\n",
    "import time\n",
    "import matplotlib.pyplot as plt\n",
    "from sklearn.feature_selection import SelectFromModel\n",
    "from sklearn.feature_selection import SelectKBest, f_classif, chi2, f_regression"
   ]
  },
  {
   "cell_type": "code",
   "execution_count": 147,
   "outputs": [
    {
     "data": {
      "text/plain": "       Unnamed: 0          player_fl             player        date  \\\n0               0    Aaron Cresswell    Aaron Cresswell  2019-08-10   \n1               1       Aaron Lennon       Aaron Lennon  2019-08-10   \n2               2         Aaron Mooy         Aaron Mooy  2019-08-10   \n3               3     Aaron Ramsdale     Aaron Ramsdale  2019-08-10   \n4               4  Aaron Wan-Bissaka  Aaron Wan-Bissaka  2019-08-11   \n...           ...                ...                ...         ...   \n22556       22556    Youri Tielemans    Youri Tielemans  2020-07-26   \n22557       22557      Yves Bissouma      Yves Bissouma  2020-07-26   \n22558       22558        Zech Medley        Zech Medley  2020-07-26   \n22559       22559     Çaglar Söyüncü     Çağlar Söyüncü  2020-07-26   \n22560       22560       Ørjan Nyland       Ørjan Nyland  2020-07-26   \n\n          team_rating    category  minutes_fl  minutes_rating     rating  \\\n0            West Ham    Defender          90            90.0  16.471345   \n1             Burnley    Midfield           6             7.0   2.007932   \n2                   0           0           0             NaN   0.000000   \n3         Bournemouth  Goalkeeper          90            90.0  37.868320   \n4      Manchester Utd    Defender          90            90.0  34.567219   \n...               ...         ...         ...             ...        ...   \n22556  Leicester City    Midfield          72            72.0  23.693602   \n22557        Brighton    Midfield          72            72.0  10.941405   \n22558               0           0           0             NaN   0.000000   \n22559               0           0           0             NaN   0.000000   \n22560               0           0           0             NaN   0.000000   \n\n       bonus  ...  transfers_in  transfers_out  value  was_home  \\\n0          0  ...             0              0     50      True   \n1          0  ...             0              0     50      True   \n2          0  ...             0              0     50     False   \n3          0  ...             0              0     45      True   \n4          2  ...             0              0     55      True   \n...      ...  ...           ...            ...    ...       ...   \n22556      0  ...          1905           5008     61      True   \n22557      0  ...           147             70     50     False   \n22558      0  ...           325            172     40      True   \n22559      0  ...           165          95680     49      True   \n22560      0  ...           230           1344     43     False   \n\n       opponent_team  selected                                      player_ID  \\\n0                 11     23399       Aaron CresswellWest Ham United2019-08-10   \n1                 16      8105                  Aaron LennonBurnley2019-08-10   \n2                 18     16261                                            NaN   \n3                 15      3091            Aaron RamsdaleBournemouth2019-08-10   \n4                  6   1879259   Aaron Wan-BissakaManchester United2019-08-11   \n...              ...       ...                                            ...   \n22556             12    283764        Youri TielemansLeicester City2020-07-26   \n22557              5      2136  Yves BissoumaBrighton & Hove Albion2020-07-26   \n22558             18      2496                                            NaN   \n22559             12    688011                                            NaN   \n22560             19     25958                                            NaN   \n\n                                game_ID  \\\n0             West Ham United2019-08-10   \n1                     Burnley2019-08-10   \n2                                   NaN   \n3                 Bournemouth2019-08-10   \n4           Manchester United2019-08-11   \n...                                 ...   \n22556          Leicester City2020-07-26   \n22557  Brighton & Hove Albion2020-07-26   \n22558                               NaN   \n22559                               NaN   \n22560                               NaN   \n\n                                       player_id                   game_id  \n0              Aaron CresswellWest Ham2019-08-10        West Ham2019-08-10  \n1                  Aaron LennonBurnley2019-08-10         Burnley2019-08-10  \n2                          Aaron Mooy02019-08-10               02019-08-10  \n3            Aaron RamsdaleBournemouth2019-08-10     Bournemouth2019-08-10  \n4      Aaron Wan-BissakaManchester Utd2019-08-11  Manchester Utd2019-08-11  \n...                                          ...                       ...  \n22556    Youri TielemansLeicester City2020-07-26  Leicester City2020-07-26  \n22557            Yves BissoumaBrighton2020-07-26        Brighton2020-07-26  \n22558                     Zech Medley02020-07-26               02020-07-26  \n22559                  Çağlar Söyüncü02020-07-26               02020-07-26  \n22560                    Ørjan Nyland02020-07-26               02020-07-26  \n\n[22561 rows x 27 columns]",
      "text/html": "<div>\n<style scoped>\n    .dataframe tbody tr th:only-of-type {\n        vertical-align: middle;\n    }\n\n    .dataframe tbody tr th {\n        vertical-align: top;\n    }\n\n    .dataframe thead th {\n        text-align: right;\n    }\n</style>\n<table border=\"1\" class=\"dataframe\">\n  <thead>\n    <tr style=\"text-align: right;\">\n      <th></th>\n      <th>Unnamed: 0</th>\n      <th>player_fl</th>\n      <th>player</th>\n      <th>date</th>\n      <th>team_rating</th>\n      <th>category</th>\n      <th>minutes_fl</th>\n      <th>minutes_rating</th>\n      <th>rating</th>\n      <th>bonus</th>\n      <th>...</th>\n      <th>transfers_in</th>\n      <th>transfers_out</th>\n      <th>value</th>\n      <th>was_home</th>\n      <th>opponent_team</th>\n      <th>selected</th>\n      <th>player_ID</th>\n      <th>game_ID</th>\n      <th>player_id</th>\n      <th>game_id</th>\n    </tr>\n  </thead>\n  <tbody>\n    <tr>\n      <th>0</th>\n      <td>0</td>\n      <td>Aaron Cresswell</td>\n      <td>Aaron Cresswell</td>\n      <td>2019-08-10</td>\n      <td>West Ham</td>\n      <td>Defender</td>\n      <td>90</td>\n      <td>90.0</td>\n      <td>16.471345</td>\n      <td>0</td>\n      <td>...</td>\n      <td>0</td>\n      <td>0</td>\n      <td>50</td>\n      <td>True</td>\n      <td>11</td>\n      <td>23399</td>\n      <td>Aaron CresswellWest Ham United2019-08-10</td>\n      <td>West Ham United2019-08-10</td>\n      <td>Aaron CresswellWest Ham2019-08-10</td>\n      <td>West Ham2019-08-10</td>\n    </tr>\n    <tr>\n      <th>1</th>\n      <td>1</td>\n      <td>Aaron Lennon</td>\n      <td>Aaron Lennon</td>\n      <td>2019-08-10</td>\n      <td>Burnley</td>\n      <td>Midfield</td>\n      <td>6</td>\n      <td>7.0</td>\n      <td>2.007932</td>\n      <td>0</td>\n      <td>...</td>\n      <td>0</td>\n      <td>0</td>\n      <td>50</td>\n      <td>True</td>\n      <td>16</td>\n      <td>8105</td>\n      <td>Aaron LennonBurnley2019-08-10</td>\n      <td>Burnley2019-08-10</td>\n      <td>Aaron LennonBurnley2019-08-10</td>\n      <td>Burnley2019-08-10</td>\n    </tr>\n    <tr>\n      <th>2</th>\n      <td>2</td>\n      <td>Aaron Mooy</td>\n      <td>Aaron Mooy</td>\n      <td>2019-08-10</td>\n      <td>0</td>\n      <td>0</td>\n      <td>0</td>\n      <td>NaN</td>\n      <td>0.000000</td>\n      <td>0</td>\n      <td>...</td>\n      <td>0</td>\n      <td>0</td>\n      <td>50</td>\n      <td>False</td>\n      <td>18</td>\n      <td>16261</td>\n      <td>NaN</td>\n      <td>NaN</td>\n      <td>Aaron Mooy02019-08-10</td>\n      <td>02019-08-10</td>\n    </tr>\n    <tr>\n      <th>3</th>\n      <td>3</td>\n      <td>Aaron Ramsdale</td>\n      <td>Aaron Ramsdale</td>\n      <td>2019-08-10</td>\n      <td>Bournemouth</td>\n      <td>Goalkeeper</td>\n      <td>90</td>\n      <td>90.0</td>\n      <td>37.868320</td>\n      <td>0</td>\n      <td>...</td>\n      <td>0</td>\n      <td>0</td>\n      <td>45</td>\n      <td>True</td>\n      <td>15</td>\n      <td>3091</td>\n      <td>Aaron RamsdaleBournemouth2019-08-10</td>\n      <td>Bournemouth2019-08-10</td>\n      <td>Aaron RamsdaleBournemouth2019-08-10</td>\n      <td>Bournemouth2019-08-10</td>\n    </tr>\n    <tr>\n      <th>4</th>\n      <td>4</td>\n      <td>Aaron Wan-Bissaka</td>\n      <td>Aaron Wan-Bissaka</td>\n      <td>2019-08-11</td>\n      <td>Manchester Utd</td>\n      <td>Defender</td>\n      <td>90</td>\n      <td>90.0</td>\n      <td>34.567219</td>\n      <td>2</td>\n      <td>...</td>\n      <td>0</td>\n      <td>0</td>\n      <td>55</td>\n      <td>True</td>\n      <td>6</td>\n      <td>1879259</td>\n      <td>Aaron Wan-BissakaManchester United2019-08-11</td>\n      <td>Manchester United2019-08-11</td>\n      <td>Aaron Wan-BissakaManchester Utd2019-08-11</td>\n      <td>Manchester Utd2019-08-11</td>\n    </tr>\n    <tr>\n      <th>...</th>\n      <td>...</td>\n      <td>...</td>\n      <td>...</td>\n      <td>...</td>\n      <td>...</td>\n      <td>...</td>\n      <td>...</td>\n      <td>...</td>\n      <td>...</td>\n      <td>...</td>\n      <td>...</td>\n      <td>...</td>\n      <td>...</td>\n      <td>...</td>\n      <td>...</td>\n      <td>...</td>\n      <td>...</td>\n      <td>...</td>\n      <td>...</td>\n      <td>...</td>\n      <td>...</td>\n    </tr>\n    <tr>\n      <th>22556</th>\n      <td>22556</td>\n      <td>Youri Tielemans</td>\n      <td>Youri Tielemans</td>\n      <td>2020-07-26</td>\n      <td>Leicester City</td>\n      <td>Midfield</td>\n      <td>72</td>\n      <td>72.0</td>\n      <td>23.693602</td>\n      <td>0</td>\n      <td>...</td>\n      <td>1905</td>\n      <td>5008</td>\n      <td>61</td>\n      <td>True</td>\n      <td>12</td>\n      <td>283764</td>\n      <td>Youri TielemansLeicester City2020-07-26</td>\n      <td>Leicester City2020-07-26</td>\n      <td>Youri TielemansLeicester City2020-07-26</td>\n      <td>Leicester City2020-07-26</td>\n    </tr>\n    <tr>\n      <th>22557</th>\n      <td>22557</td>\n      <td>Yves Bissouma</td>\n      <td>Yves Bissouma</td>\n      <td>2020-07-26</td>\n      <td>Brighton</td>\n      <td>Midfield</td>\n      <td>72</td>\n      <td>72.0</td>\n      <td>10.941405</td>\n      <td>0</td>\n      <td>...</td>\n      <td>147</td>\n      <td>70</td>\n      <td>50</td>\n      <td>False</td>\n      <td>5</td>\n      <td>2136</td>\n      <td>Yves BissoumaBrighton &amp; Hove Albion2020-07-26</td>\n      <td>Brighton &amp; Hove Albion2020-07-26</td>\n      <td>Yves BissoumaBrighton2020-07-26</td>\n      <td>Brighton2020-07-26</td>\n    </tr>\n    <tr>\n      <th>22558</th>\n      <td>22558</td>\n      <td>Zech Medley</td>\n      <td>Zech Medley</td>\n      <td>2020-07-26</td>\n      <td>0</td>\n      <td>0</td>\n      <td>0</td>\n      <td>NaN</td>\n      <td>0.000000</td>\n      <td>0</td>\n      <td>...</td>\n      <td>325</td>\n      <td>172</td>\n      <td>40</td>\n      <td>True</td>\n      <td>18</td>\n      <td>2496</td>\n      <td>NaN</td>\n      <td>NaN</td>\n      <td>Zech Medley02020-07-26</td>\n      <td>02020-07-26</td>\n    </tr>\n    <tr>\n      <th>22559</th>\n      <td>22559</td>\n      <td>Çaglar Söyüncü</td>\n      <td>Çağlar Söyüncü</td>\n      <td>2020-07-26</td>\n      <td>0</td>\n      <td>0</td>\n      <td>0</td>\n      <td>NaN</td>\n      <td>0.000000</td>\n      <td>0</td>\n      <td>...</td>\n      <td>165</td>\n      <td>95680</td>\n      <td>49</td>\n      <td>True</td>\n      <td>12</td>\n      <td>688011</td>\n      <td>NaN</td>\n      <td>NaN</td>\n      <td>Çağlar Söyüncü02020-07-26</td>\n      <td>02020-07-26</td>\n    </tr>\n    <tr>\n      <th>22560</th>\n      <td>22560</td>\n      <td>Ørjan Nyland</td>\n      <td>Ørjan Nyland</td>\n      <td>2020-07-26</td>\n      <td>0</td>\n      <td>0</td>\n      <td>0</td>\n      <td>NaN</td>\n      <td>0.000000</td>\n      <td>0</td>\n      <td>...</td>\n      <td>230</td>\n      <td>1344</td>\n      <td>43</td>\n      <td>False</td>\n      <td>19</td>\n      <td>25958</td>\n      <td>NaN</td>\n      <td>NaN</td>\n      <td>Ørjan Nyland02020-07-26</td>\n      <td>02020-07-26</td>\n    </tr>\n  </tbody>\n</table>\n<p>22561 rows × 27 columns</p>\n</div>"
     },
     "execution_count": 147,
     "metadata": {},
     "output_type": "execute_result"
    }
   ],
   "source": [
    "#import data\n",
    "#2019_20\n",
    "PL19_20_fixtures = pd.read_csv('Data/2019-20/Fixtures/PL19_20_features.csv')\n",
    "PL19_20_fixtures.replace(['Brighton & Hove Albion', 'Manchester United', 'Newcastle United', 'Sheffield United', 'Tottenham Hotspur', 'West Bromwich Albion','West Ham United', 'Wolverhampton Wanderers'], ['Brighton', 'Manchester Utd','Newcastle Utd', 'Sheffield Utd', 'Tottenham', 'West Brom' ,'West Ham', 'Wolves'], inplace=True)\n",
    "PL19_20_lineups = pd.read_csv('Data/2019-20/Players/PL2019_lineups.csv')\n",
    "PL19_20_lineups.replace(['Brighton & Hove Albion', 'Manchester United', 'Newcastle United', 'Sheffield United', 'Tottenham Hotspur', 'West Bromwich Albion','West Ham United', 'Wolverhampton Wanderers'], ['Brighton', 'Manchester Utd','Newcastle Utd', 'Sheffield Utd', 'Tottenham', 'West Brom' ,'West Ham', 'Wolves'], inplace=True)\n",
    "PL19_20_player_stats = pd.read_csv('Data/2019-20/Players/PL2019_total.csv')\n",
    "PL19_20_player_stats['player'] = PL19_20_player_stats['player'].fillna(0)\n",
    "PL19_20_player_stats['team_rating'] = PL19_20_player_stats['team_rating'].fillna(0)\n",
    "PL19_20_player_stats['category'] = PL19_20_player_stats['category'].fillna(0)\n",
    "PL19_20_player_stats.replace(['Brighton & Hove Albion', 'Manchester United', 'Newcastle United', 'Sheffield United', 'Tottenham Hotspur', 'West Bromwich Albion','West Ham United', 'Wolverhampton Wanderers'], ['Brighton', 'Manchester Utd','Newcastle Utd', 'Sheffield Utd', 'Tottenham', 'West Brom' ,'West Ham', 'Wolves'], inplace=True)\n",
    "PL19_20_player_stats['player_id'] = PL19_20_player_stats['player'].astype(str) + PL19_20_player_stats['team_rating'].astype(str) + PL19_20_player_stats['date'].astype(str)\n",
    "PL19_20_player_stats['game_id'] = PL19_20_player_stats['team_rating'].astype(str) + PL19_20_player_stats['date'].astype(str)\n",
    "PL19_20_lineups['player_id'] = PL19_20_lineups['player'] + PL19_20_lineups['team'] + PL19_20_lineups['date'].astype(str)\n",
    "PL19_20_lineups['game_id'] = PL19_20_lineups['team'] + PL19_20_lineups['date'].astype(str)\n",
    "#2020_21\n",
    "PL20_21_fixtures = pd.read_csv('Data/2020-21/Fixtures/PL20_21_features.csv')\n",
    "PL20_21_lineups = pd.read_csv('Data/2020-21/Players/PL2020_lineups.csv')\n",
    "PL20_21_lineups.replace(['Brighton & Hove Albion', 'Manchester United', 'Newcastle United', 'Sheffield United', 'Tottenham Hotspur', 'West Bromwich Albion','West Ham United', 'Wolverhampton Wanderers'], ['Brighton', 'Manchester Utd','Newcastle Utd', 'Sheffield Utd', 'Tottenham', 'West Brom' ,'West Ham', 'Wolves'], inplace=True)\n",
    "PL20_21_player_stats = pd.read_csv('Data/2020-21/Players/PL2020_total.csv')\n",
    "PL20_21_lineups['player_id'] = PL20_21_lineups['player'] + PL20_21_lineups['team'] + PL20_21_lineups['date'].astype(str)\n",
    "PL20_21_lineups['game_id'] = PL20_21_lineups['team'] + PL20_21_lineups['date'].astype(str)\n",
    "PL20_21_lineups\n",
    "PL20_21_player_stats = PL20_21_player_stats.rename(columns={'player_ID':'player_id','game_ID':'game_id'})\n",
    "#2021_22\n",
    "PL21_22_fixtures = pd.read_csv('Data/2021-22/Fixtures/PL21_22_features.csv')\n",
    "PL21_22_lineups = pd.read_csv('Data/2021-22/Players/PL2021_lineups.csv')\n",
    "PL21_22_lineups.replace(['Brighton & Hove Albion', 'Manchester United', 'Newcastle United', 'Sheffield United', 'Tottenham Hotspur', 'West Bromwich Albion','West Ham United', 'Wolverhampton Wanderers'], ['Brighton', 'Manchester Utd','Newcastle Utd', 'Sheffield Utd', 'Tottenham', 'West Brom' ,'West Ham', 'Wolves'], inplace=True)\n",
    "PL21_22_player_stats = pd.read_csv('Data/2021-22/Players/PL2021_total.csv')\n",
    "PL21_22_player_stats['player'] = PL21_22_player_stats['player'].fillna(0)\n",
    "PL21_22_player_stats['category'] = PL21_22_player_stats['category'].fillna(0)\n",
    "PL21_22_lineups['player_id'] = PL21_22_lineups['player'] + PL21_22_lineups['team'] + PL21_22_lineups['date'].astype(str)\n",
    "PL21_22_lineups['game_id'] = PL21_22_lineups['team'] + PL21_22_lineups['date'].astype(str)\n",
    "PL21_22_lineups\n",
    "PL21_22_player_stats['player_id'] = PL21_22_player_stats['player'].astype(str) + PL21_22_player_stats['team'] + PL21_22_player_stats['date'].astype(str)\n",
    "PL21_22_player_stats['game_id'] = PL21_22_player_stats['team'] + PL21_22_player_stats['date'].astype(str)\n",
    "\n",
    "PL19_20_player_stats"
   ],
   "metadata": {
    "collapsed": false,
    "pycharm": {
     "name": "#%%\n"
    }
   }
  },
  {
   "cell_type": "code",
   "execution_count": 127,
   "outputs": [
    {
     "data": {
      "text/plain": "       Unnamed: 0                      player_fl             player  \\\n0               0                    Eric Bailly        Eric Bailly   \n1               1                   Keinan Davis       Keinan Davis   \n2               2         Ayotomiwa Dele-Bashiru                  0   \n3               3              James Ward-Prowse  James Ward-Prowse   \n4               4  Bruno Miguel Borges Fernandes    Bruno Fernandes   \n...           ...                            ...                ...   \n25442       25442                  Wilfred Ndidi      Wilfred Ndidi   \n25443       25443                   Matt Ritchie       Matt Ritchie   \n25444       25444                 Nathan Redmond     Nathan Redmond   \n25445       25445                    Mathew Ryan                  0   \n25446       25446                Ryan Fredericks    Ryan Fredericks   \n\n             date            team        team_rating  category  minutes_fl  \\\n0      2021-08-14  Manchester Utd                NaN         0           0   \n1      2021-08-14     Aston Villa                NaN         0           0   \n2      2021-08-14         Watford                NaN         0           0   \n3      2021-08-14     Southampton        Southampton  Midfield          90   \n4      2021-08-14  Manchester Utd  Manchester United  Midfield          90   \n...           ...             ...                ...       ...         ...   \n25442  2022-05-22  Leicester City                NaN         0           0   \n25443  2022-05-22   Newcastle Utd   Newcastle United   Forward           1   \n25444  2022-05-22     Southampton        Southampton   Forward          82   \n25445  2022-05-22        Brighton                NaN         0           0   \n25446  2022-05-22        West Ham                NaN         0           0   \n\n       minutes_rating     rating  ...  transfers_in  transfers_out  value  \\\n0                 NaN   0.000000  ...             0              0     50   \n1                 NaN   0.000000  ...             0              0     45   \n2                 NaN   0.000000  ...             0              0     45   \n3                90.0  28.509599  ...             0              0     65   \n4                90.0  51.721369  ...             0              0    120   \n...               ...        ...  ...           ...            ...    ...   \n25442             NaN   0.000000  ...            22            224     48   \n25443             2.0   4.998869  ...           396            253     49   \n25444            82.0  19.069354  ...           683            228     59   \n25445             NaN   0.000000  ...             0              2     45   \n25446             NaN   0.000000  ...           103             67     44   \n\n       was_home  opponent_team  selected  \\\n0          True             10      9363   \n1         False             18    169789   \n2          True              2      4092   \n3         False              8    299682   \n4          True             10   3381004   \n...         ...            ...       ...   \n25442      True             16     70366   \n25443     False              5     15999   \n25444     False              9     13856   \n25445      True             19       587   \n25446     False              4      8856   \n\n                                        player_ID  \\\n0                                             NaN   \n1                                             NaN   \n2                                             NaN   \n3          James Ward-ProwseSouthampton2021-08-14   \n4      Bruno FernandesManchester United2021-08-14   \n...                                           ...   \n25442                                         NaN   \n25443      Matt RitchieNewcastle United2022-05-22   \n25444         Nathan RedmondSouthampton2022-05-22   \n25445                                         NaN   \n25446                                         NaN   \n\n                           game_ID  \\\n0                              NaN   \n1                              NaN   \n2                              NaN   \n3            Southampton2021-08-14   \n4      Manchester United2021-08-14   \n...                            ...   \n25442                          NaN   \n25443   Newcastle United2022-05-22   \n25444        Southampton2022-05-22   \n25445                          NaN   \n25446                          NaN   \n\n                                        player_id                   game_id  \n0                                             NaN  Manchester Utd2021-08-14  \n1                                             NaN     Aston Villa2021-08-14  \n2                                             NaN         Watford2021-08-14  \n3          James Ward-ProwseSouthampton2021-08-14     Southampton2021-08-14  \n4      Bruno FernandesManchester United2021-08-14  Manchester Utd2021-08-14  \n...                                           ...                       ...  \n25442                                         NaN  Leicester City2022-05-22  \n25443      Matt RitchieNewcastle United2022-05-22   Newcastle Utd2022-05-22  \n25444         Nathan RedmondSouthampton2022-05-22     Southampton2022-05-22  \n25445                                         NaN        Brighton2022-05-22  \n25446                                         NaN        West Ham2022-05-22  \n\n[25447 rows x 29 columns]",
      "text/html": "<div>\n<style scoped>\n    .dataframe tbody tr th:only-of-type {\n        vertical-align: middle;\n    }\n\n    .dataframe tbody tr th {\n        vertical-align: top;\n    }\n\n    .dataframe thead th {\n        text-align: right;\n    }\n</style>\n<table border=\"1\" class=\"dataframe\">\n  <thead>\n    <tr style=\"text-align: right;\">\n      <th></th>\n      <th>Unnamed: 0</th>\n      <th>player_fl</th>\n      <th>player</th>\n      <th>date</th>\n      <th>team</th>\n      <th>team_rating</th>\n      <th>category</th>\n      <th>minutes_fl</th>\n      <th>minutes_rating</th>\n      <th>rating</th>\n      <th>...</th>\n      <th>transfers_in</th>\n      <th>transfers_out</th>\n      <th>value</th>\n      <th>was_home</th>\n      <th>opponent_team</th>\n      <th>selected</th>\n      <th>player_ID</th>\n      <th>game_ID</th>\n      <th>player_id</th>\n      <th>game_id</th>\n    </tr>\n  </thead>\n  <tbody>\n    <tr>\n      <th>0</th>\n      <td>0</td>\n      <td>Eric Bailly</td>\n      <td>Eric Bailly</td>\n      <td>2021-08-14</td>\n      <td>Manchester Utd</td>\n      <td>NaN</td>\n      <td>0</td>\n      <td>0</td>\n      <td>NaN</td>\n      <td>0.000000</td>\n      <td>...</td>\n      <td>0</td>\n      <td>0</td>\n      <td>50</td>\n      <td>True</td>\n      <td>10</td>\n      <td>9363</td>\n      <td>NaN</td>\n      <td>NaN</td>\n      <td>NaN</td>\n      <td>Manchester Utd2021-08-14</td>\n    </tr>\n    <tr>\n      <th>1</th>\n      <td>1</td>\n      <td>Keinan Davis</td>\n      <td>Keinan Davis</td>\n      <td>2021-08-14</td>\n      <td>Aston Villa</td>\n      <td>NaN</td>\n      <td>0</td>\n      <td>0</td>\n      <td>NaN</td>\n      <td>0.000000</td>\n      <td>...</td>\n      <td>0</td>\n      <td>0</td>\n      <td>45</td>\n      <td>False</td>\n      <td>18</td>\n      <td>169789</td>\n      <td>NaN</td>\n      <td>NaN</td>\n      <td>NaN</td>\n      <td>Aston Villa2021-08-14</td>\n    </tr>\n    <tr>\n      <th>2</th>\n      <td>2</td>\n      <td>Ayotomiwa Dele-Bashiru</td>\n      <td>0</td>\n      <td>2021-08-14</td>\n      <td>Watford</td>\n      <td>NaN</td>\n      <td>0</td>\n      <td>0</td>\n      <td>NaN</td>\n      <td>0.000000</td>\n      <td>...</td>\n      <td>0</td>\n      <td>0</td>\n      <td>45</td>\n      <td>True</td>\n      <td>2</td>\n      <td>4092</td>\n      <td>NaN</td>\n      <td>NaN</td>\n      <td>NaN</td>\n      <td>Watford2021-08-14</td>\n    </tr>\n    <tr>\n      <th>3</th>\n      <td>3</td>\n      <td>James Ward-Prowse</td>\n      <td>James Ward-Prowse</td>\n      <td>2021-08-14</td>\n      <td>Southampton</td>\n      <td>Southampton</td>\n      <td>Midfield</td>\n      <td>90</td>\n      <td>90.0</td>\n      <td>28.509599</td>\n      <td>...</td>\n      <td>0</td>\n      <td>0</td>\n      <td>65</td>\n      <td>False</td>\n      <td>8</td>\n      <td>299682</td>\n      <td>James Ward-ProwseSouthampton2021-08-14</td>\n      <td>Southampton2021-08-14</td>\n      <td>James Ward-ProwseSouthampton2021-08-14</td>\n      <td>Southampton2021-08-14</td>\n    </tr>\n    <tr>\n      <th>4</th>\n      <td>4</td>\n      <td>Bruno Miguel Borges Fernandes</td>\n      <td>Bruno Fernandes</td>\n      <td>2021-08-14</td>\n      <td>Manchester Utd</td>\n      <td>Manchester United</td>\n      <td>Midfield</td>\n      <td>90</td>\n      <td>90.0</td>\n      <td>51.721369</td>\n      <td>...</td>\n      <td>0</td>\n      <td>0</td>\n      <td>120</td>\n      <td>True</td>\n      <td>10</td>\n      <td>3381004</td>\n      <td>Bruno FernandesManchester United2021-08-14</td>\n      <td>Manchester United2021-08-14</td>\n      <td>Bruno FernandesManchester United2021-08-14</td>\n      <td>Manchester Utd2021-08-14</td>\n    </tr>\n    <tr>\n      <th>...</th>\n      <td>...</td>\n      <td>...</td>\n      <td>...</td>\n      <td>...</td>\n      <td>...</td>\n      <td>...</td>\n      <td>...</td>\n      <td>...</td>\n      <td>...</td>\n      <td>...</td>\n      <td>...</td>\n      <td>...</td>\n      <td>...</td>\n      <td>...</td>\n      <td>...</td>\n      <td>...</td>\n      <td>...</td>\n      <td>...</td>\n      <td>...</td>\n      <td>...</td>\n      <td>...</td>\n    </tr>\n    <tr>\n      <th>25442</th>\n      <td>25442</td>\n      <td>Wilfred Ndidi</td>\n      <td>Wilfred Ndidi</td>\n      <td>2022-05-22</td>\n      <td>Leicester City</td>\n      <td>NaN</td>\n      <td>0</td>\n      <td>0</td>\n      <td>NaN</td>\n      <td>0.000000</td>\n      <td>...</td>\n      <td>22</td>\n      <td>224</td>\n      <td>48</td>\n      <td>True</td>\n      <td>16</td>\n      <td>70366</td>\n      <td>NaN</td>\n      <td>NaN</td>\n      <td>NaN</td>\n      <td>Leicester City2022-05-22</td>\n    </tr>\n    <tr>\n      <th>25443</th>\n      <td>25443</td>\n      <td>Matt Ritchie</td>\n      <td>Matt Ritchie</td>\n      <td>2022-05-22</td>\n      <td>Newcastle Utd</td>\n      <td>Newcastle United</td>\n      <td>Forward</td>\n      <td>1</td>\n      <td>2.0</td>\n      <td>4.998869</td>\n      <td>...</td>\n      <td>396</td>\n      <td>253</td>\n      <td>49</td>\n      <td>False</td>\n      <td>5</td>\n      <td>15999</td>\n      <td>Matt RitchieNewcastle United2022-05-22</td>\n      <td>Newcastle United2022-05-22</td>\n      <td>Matt RitchieNewcastle United2022-05-22</td>\n      <td>Newcastle Utd2022-05-22</td>\n    </tr>\n    <tr>\n      <th>25444</th>\n      <td>25444</td>\n      <td>Nathan Redmond</td>\n      <td>Nathan Redmond</td>\n      <td>2022-05-22</td>\n      <td>Southampton</td>\n      <td>Southampton</td>\n      <td>Forward</td>\n      <td>82</td>\n      <td>82.0</td>\n      <td>19.069354</td>\n      <td>...</td>\n      <td>683</td>\n      <td>228</td>\n      <td>59</td>\n      <td>False</td>\n      <td>9</td>\n      <td>13856</td>\n      <td>Nathan RedmondSouthampton2022-05-22</td>\n      <td>Southampton2022-05-22</td>\n      <td>Nathan RedmondSouthampton2022-05-22</td>\n      <td>Southampton2022-05-22</td>\n    </tr>\n    <tr>\n      <th>25445</th>\n      <td>25445</td>\n      <td>Mathew Ryan</td>\n      <td>0</td>\n      <td>2022-05-22</td>\n      <td>Brighton</td>\n      <td>NaN</td>\n      <td>0</td>\n      <td>0</td>\n      <td>NaN</td>\n      <td>0.000000</td>\n      <td>...</td>\n      <td>0</td>\n      <td>2</td>\n      <td>45</td>\n      <td>True</td>\n      <td>19</td>\n      <td>587</td>\n      <td>NaN</td>\n      <td>NaN</td>\n      <td>NaN</td>\n      <td>Brighton2022-05-22</td>\n    </tr>\n    <tr>\n      <th>25446</th>\n      <td>25446</td>\n      <td>Ryan Fredericks</td>\n      <td>Ryan Fredericks</td>\n      <td>2022-05-22</td>\n      <td>West Ham</td>\n      <td>NaN</td>\n      <td>0</td>\n      <td>0</td>\n      <td>NaN</td>\n      <td>0.000000</td>\n      <td>...</td>\n      <td>103</td>\n      <td>67</td>\n      <td>44</td>\n      <td>False</td>\n      <td>4</td>\n      <td>8856</td>\n      <td>NaN</td>\n      <td>NaN</td>\n      <td>NaN</td>\n      <td>West Ham2022-05-22</td>\n    </tr>\n  </tbody>\n</table>\n<p>25447 rows × 29 columns</p>\n</div>"
     },
     "execution_count": 127,
     "metadata": {},
     "output_type": "execute_result"
    }
   ],
   "source": [
    "PL21_22_player_stats"
   ],
   "metadata": {
    "collapsed": false,
    "pycharm": {
     "name": "#%%\n"
    }
   }
  },
  {
   "cell_type": "code",
   "execution_count": 148,
   "outputs": [
    {
     "name": "stderr",
     "output_type": "stream",
     "text": [
      "C:\\Users\\giuli\\AppData\\Local\\Temp\\ipykernel_32576\\3116042645.py:6: FutureWarning: The frame.append method is deprecated and will be removed from pandas in a future version. Use pandas.concat instead.\n",
      "  return home.append(away)\n",
      "C:\\Users\\giuli\\AppData\\Local\\Temp\\ipykernel_32576\\3116042645.py:6: FutureWarning: The frame.append method is deprecated and will be removed from pandas in a future version. Use pandas.concat instead.\n",
      "  return home.append(away)\n",
      "C:\\Users\\giuli\\AppData\\Local\\Temp\\ipykernel_32576\\3116042645.py:6: FutureWarning: The frame.append method is deprecated and will be removed from pandas in a future version. Use pandas.concat instead.\n",
      "  return home.append(away)\n"
     ]
    },
    {
     "data": {
      "text/plain": "               Team  wk                   game_id\n0         Liverpool   1       Liverpool2019-08-09\n1          West Ham   1        West Ham2019-08-10\n2       Bournemouth   1     Bournemouth2019-08-10\n3           Burnley   1         Burnley2019-08-10\n4    Crystal Palace   1  Crystal Palace2019-08-10\n..              ...  ..                       ...\n375  Manchester Utd  38  Manchester Utd2020-07-26\n376    Norwich City  38    Norwich City2020-07-26\n377       Liverpool  38       Liverpool2020-07-26\n378   Sheffield Utd  38   Sheffield Utd2020-07-26\n379     Aston Villa  38     Aston Villa2020-07-26\n\n[760 rows x 3 columns]",
      "text/html": "<div>\n<style scoped>\n    .dataframe tbody tr th:only-of-type {\n        vertical-align: middle;\n    }\n\n    .dataframe tbody tr th {\n        vertical-align: top;\n    }\n\n    .dataframe thead th {\n        text-align: right;\n    }\n</style>\n<table border=\"1\" class=\"dataframe\">\n  <thead>\n    <tr style=\"text-align: right;\">\n      <th></th>\n      <th>Team</th>\n      <th>wk</th>\n      <th>game_id</th>\n    </tr>\n  </thead>\n  <tbody>\n    <tr>\n      <th>0</th>\n      <td>Liverpool</td>\n      <td>1</td>\n      <td>Liverpool2019-08-09</td>\n    </tr>\n    <tr>\n      <th>1</th>\n      <td>West Ham</td>\n      <td>1</td>\n      <td>West Ham2019-08-10</td>\n    </tr>\n    <tr>\n      <th>2</th>\n      <td>Bournemouth</td>\n      <td>1</td>\n      <td>Bournemouth2019-08-10</td>\n    </tr>\n    <tr>\n      <th>3</th>\n      <td>Burnley</td>\n      <td>1</td>\n      <td>Burnley2019-08-10</td>\n    </tr>\n    <tr>\n      <th>4</th>\n      <td>Crystal Palace</td>\n      <td>1</td>\n      <td>Crystal Palace2019-08-10</td>\n    </tr>\n    <tr>\n      <th>...</th>\n      <td>...</td>\n      <td>...</td>\n      <td>...</td>\n    </tr>\n    <tr>\n      <th>375</th>\n      <td>Manchester Utd</td>\n      <td>38</td>\n      <td>Manchester Utd2020-07-26</td>\n    </tr>\n    <tr>\n      <th>376</th>\n      <td>Norwich City</td>\n      <td>38</td>\n      <td>Norwich City2020-07-26</td>\n    </tr>\n    <tr>\n      <th>377</th>\n      <td>Liverpool</td>\n      <td>38</td>\n      <td>Liverpool2020-07-26</td>\n    </tr>\n    <tr>\n      <th>378</th>\n      <td>Sheffield Utd</td>\n      <td>38</td>\n      <td>Sheffield Utd2020-07-26</td>\n    </tr>\n    <tr>\n      <th>379</th>\n      <td>Aston Villa</td>\n      <td>38</td>\n      <td>Aston Villa2020-07-26</td>\n    </tr>\n  </tbody>\n</table>\n<p>760 rows × 3 columns</p>\n</div>"
     },
     "execution_count": 148,
     "metadata": {},
     "output_type": "execute_result"
    }
   ],
   "source": [
    "def get_wk(fixtures):\n",
    "    home = fixtures[['HomeTeam', 'Wk_h', 'game_home_ID']]\n",
    "    away = fixtures[['AwayTeam', 'Wk_a', 'game_away_ID']]\n",
    "    home = home.rename(columns={'HomeTeam':'Team','Wk_h':'wk', 'game_home_ID': 'game_id'})\n",
    "    away = away.rename(columns={'AwayTeam':'Team','Wk_a':'wk', 'game_away_ID': 'game_id'})\n",
    "    return home.append(away)\n",
    "game_weeks_19 = get_wk(PL19_20_fixtures)\n",
    "game_weeks_20 = get_wk(PL20_21_fixtures)\n",
    "game_weeks_21 = get_wk(PL21_22_fixtures)\n",
    "game_weeks_19\n"
   ],
   "metadata": {
    "collapsed": false,
    "pycharm": {
     "name": "#%%\n"
    }
   }
  },
  {
   "cell_type": "code",
   "execution_count": 149,
   "outputs": [],
   "source": [
    "#2019-20\n",
    "\n",
    "PL19_20_lineups_tmp =  pd.merge(PL19_20_lineups, game_weeks_19[['game_id', 'wk']], on= 'game_id', how='right')\n",
    "PL19_20_player_stats_tmp =  pd.merge(PL19_20_player_stats, game_weeks_19[['game_id', 'wk']], on= 'game_id', how='left')\n",
    "PL19_20_lineups_tmp = pd.merge(PL19_20_lineups_tmp, PL19_20_player_stats_tmp[['player_id', 'category']], on= 'player_id')\n",
    "#2020-21\n",
    "PL20_21_lineups_tmp =  pd.merge(PL20_21_lineups, game_weeks_20[['game_id', 'wk']], on= 'game_id', how='left')\n",
    "PL20_21_player_stats_tmp =  pd.merge(PL20_21_player_stats, game_weeks_20[['game_id', 'wk']], on= 'game_id', how='left')\n",
    "PL20_21_lineups_tmp = pd.merge(PL20_21_lineups_tmp, PL20_21_player_stats_tmp[['player_id', 'category']], on= 'player_id')\n",
    "#2021-22\n",
    "PL21_22_lineups_tmp =  pd.merge(PL21_22_lineups, game_weeks_21[['game_id', 'wk']], on= 'game_id', how='left')\n",
    "PL21_22_player_stats_tmp =  pd.merge(PL21_22_player_stats, game_weeks_21[['game_id', 'wk']], on= 'game_id', how='left')\n",
    "PL21_22_lineups_tmp = pd.merge(PL21_22_lineups_tmp, PL21_22_player_stats_tmp[['player_id', 'category']], on= 'player_id')\n",
    "\n",
    "\n",
    "\n"
   ],
   "metadata": {
    "collapsed": false,
    "pycharm": {
     "name": "#%%\n"
    }
   }
  },
  {
   "cell_type": "code",
   "execution_count": 150,
   "outputs": [
    {
     "data": {
      "text/plain": "           Date   Time         HomeTeam         AwayTeam  FTHG  FTAG FTR  \\\n0    2019-08-09  20:00        Liverpool     Norwich City     4     1   H   \n1    2019-08-10  12:30         West Ham  Manchester City     0     5   A   \n2    2019-08-10  15:00      Bournemouth    Sheffield Utd     1     1   D   \n3    2019-08-10  15:00          Burnley      Southampton     3     0   H   \n4    2019-08-10  15:00   Crystal Palace          Everton     0     0   D   \n..          ...    ...              ...              ...   ...   ...  ..   \n375  2020-07-26  16:00   Leicester City   Manchester Utd     0     2   A   \n376  2020-07-26  16:00  Manchester City     Norwich City     5     0   H   \n377  2020-07-26  16:00    Newcastle Utd        Liverpool     1     3   A   \n378  2020-07-26  16:00      Southampton    Sheffield Utd     3     1   H   \n379  2020-07-26  16:00         West Ham      Aston Villa     1     1   D   \n\n                  game_home_ID               game_away_ID  Wk_h  Wk_a  \n0          Liverpool2019-08-09     Norwich City2019-08-09     1     1  \n1           West Ham2019-08-10  Manchester City2019-08-10     1     1  \n2        Bournemouth2019-08-10    Sheffield Utd2019-08-10     1     1  \n3            Burnley2019-08-10      Southampton2019-08-10     1     1  \n4     Crystal Palace2019-08-10          Everton2019-08-10     1     1  \n..                         ...                        ...   ...   ...  \n375   Leicester City2020-07-26   Manchester Utd2020-07-26    38    38  \n376  Manchester City2020-07-26     Norwich City2020-07-26    38    38  \n377    Newcastle Utd2020-07-26        Liverpool2020-07-26    38    38  \n378      Southampton2020-07-26    Sheffield Utd2020-07-26    38    38  \n379         West Ham2020-07-26      Aston Villa2020-07-26    38    38  \n\n[380 rows x 11 columns]",
      "text/html": "<div>\n<style scoped>\n    .dataframe tbody tr th:only-of-type {\n        vertical-align: middle;\n    }\n\n    .dataframe tbody tr th {\n        vertical-align: top;\n    }\n\n    .dataframe thead th {\n        text-align: right;\n    }\n</style>\n<table border=\"1\" class=\"dataframe\">\n  <thead>\n    <tr style=\"text-align: right;\">\n      <th></th>\n      <th>Date</th>\n      <th>Time</th>\n      <th>HomeTeam</th>\n      <th>AwayTeam</th>\n      <th>FTHG</th>\n      <th>FTAG</th>\n      <th>FTR</th>\n      <th>game_home_ID</th>\n      <th>game_away_ID</th>\n      <th>Wk_h</th>\n      <th>Wk_a</th>\n    </tr>\n  </thead>\n  <tbody>\n    <tr>\n      <th>0</th>\n      <td>2019-08-09</td>\n      <td>20:00</td>\n      <td>Liverpool</td>\n      <td>Norwich City</td>\n      <td>4</td>\n      <td>1</td>\n      <td>H</td>\n      <td>Liverpool2019-08-09</td>\n      <td>Norwich City2019-08-09</td>\n      <td>1</td>\n      <td>1</td>\n    </tr>\n    <tr>\n      <th>1</th>\n      <td>2019-08-10</td>\n      <td>12:30</td>\n      <td>West Ham</td>\n      <td>Manchester City</td>\n      <td>0</td>\n      <td>5</td>\n      <td>A</td>\n      <td>West Ham2019-08-10</td>\n      <td>Manchester City2019-08-10</td>\n      <td>1</td>\n      <td>1</td>\n    </tr>\n    <tr>\n      <th>2</th>\n      <td>2019-08-10</td>\n      <td>15:00</td>\n      <td>Bournemouth</td>\n      <td>Sheffield Utd</td>\n      <td>1</td>\n      <td>1</td>\n      <td>D</td>\n      <td>Bournemouth2019-08-10</td>\n      <td>Sheffield Utd2019-08-10</td>\n      <td>1</td>\n      <td>1</td>\n    </tr>\n    <tr>\n      <th>3</th>\n      <td>2019-08-10</td>\n      <td>15:00</td>\n      <td>Burnley</td>\n      <td>Southampton</td>\n      <td>3</td>\n      <td>0</td>\n      <td>H</td>\n      <td>Burnley2019-08-10</td>\n      <td>Southampton2019-08-10</td>\n      <td>1</td>\n      <td>1</td>\n    </tr>\n    <tr>\n      <th>4</th>\n      <td>2019-08-10</td>\n      <td>15:00</td>\n      <td>Crystal Palace</td>\n      <td>Everton</td>\n      <td>0</td>\n      <td>0</td>\n      <td>D</td>\n      <td>Crystal Palace2019-08-10</td>\n      <td>Everton2019-08-10</td>\n      <td>1</td>\n      <td>1</td>\n    </tr>\n    <tr>\n      <th>...</th>\n      <td>...</td>\n      <td>...</td>\n      <td>...</td>\n      <td>...</td>\n      <td>...</td>\n      <td>...</td>\n      <td>...</td>\n      <td>...</td>\n      <td>...</td>\n      <td>...</td>\n      <td>...</td>\n    </tr>\n    <tr>\n      <th>375</th>\n      <td>2020-07-26</td>\n      <td>16:00</td>\n      <td>Leicester City</td>\n      <td>Manchester Utd</td>\n      <td>0</td>\n      <td>2</td>\n      <td>A</td>\n      <td>Leicester City2020-07-26</td>\n      <td>Manchester Utd2020-07-26</td>\n      <td>38</td>\n      <td>38</td>\n    </tr>\n    <tr>\n      <th>376</th>\n      <td>2020-07-26</td>\n      <td>16:00</td>\n      <td>Manchester City</td>\n      <td>Norwich City</td>\n      <td>5</td>\n      <td>0</td>\n      <td>H</td>\n      <td>Manchester City2020-07-26</td>\n      <td>Norwich City2020-07-26</td>\n      <td>38</td>\n      <td>38</td>\n    </tr>\n    <tr>\n      <th>377</th>\n      <td>2020-07-26</td>\n      <td>16:00</td>\n      <td>Newcastle Utd</td>\n      <td>Liverpool</td>\n      <td>1</td>\n      <td>3</td>\n      <td>A</td>\n      <td>Newcastle Utd2020-07-26</td>\n      <td>Liverpool2020-07-26</td>\n      <td>38</td>\n      <td>38</td>\n    </tr>\n    <tr>\n      <th>378</th>\n      <td>2020-07-26</td>\n      <td>16:00</td>\n      <td>Southampton</td>\n      <td>Sheffield Utd</td>\n      <td>3</td>\n      <td>1</td>\n      <td>H</td>\n      <td>Southampton2020-07-26</td>\n      <td>Sheffield Utd2020-07-26</td>\n      <td>38</td>\n      <td>38</td>\n    </tr>\n    <tr>\n      <th>379</th>\n      <td>2020-07-26</td>\n      <td>16:00</td>\n      <td>West Ham</td>\n      <td>Aston Villa</td>\n      <td>1</td>\n      <td>1</td>\n      <td>D</td>\n      <td>West Ham2020-07-26</td>\n      <td>Aston Villa2020-07-26</td>\n      <td>38</td>\n      <td>38</td>\n    </tr>\n  </tbody>\n</table>\n<p>380 rows × 11 columns</p>\n</div>"
     },
     "execution_count": 150,
     "metadata": {},
     "output_type": "execute_result"
    }
   ],
   "source": [
    "PL19_20_fixtures_tmp = PL19_20_fixtures[['Date', 'Time', 'HomeTeam', 'AwayTeam', 'FTHG', 'FTAG', 'FTR', 'game_home_ID', 'game_away_ID', 'Wk_h', 'Wk_a']]\n",
    "PL20_21_fixtures_tmp = PL20_21_fixtures[['Date', 'Time', 'HomeTeam', 'AwayTeam', 'FTHG', 'FTAG', 'FTR', 'game_home_ID', 'game_away_ID', 'Wk_h', 'Wk_a']]\n",
    "PL21_22_fixtures_tmp = PL21_22_fixtures[['Date', 'Time', 'HomeTeam', 'AwayTeam', 'FTHG', 'FTAG', 'FTR', 'game_home_ID', 'game_away_ID', 'Wk_h', 'Wk_a']]\n",
    "PL19_20_fixtures_tmp"
   ],
   "metadata": {
    "collapsed": false,
    "pycharm": {
     "name": "#%%\n"
    }
   }
  },
  {
   "cell_type": "code",
   "execution_count": 151,
   "outputs": [
    {
     "data": {
      "text/plain": "    Unnamed: 0 Div        Date   Time         HomeTeam         AwayTeam  FTHG  \\\n0            0  E0  2019-08-09  20:00        Liverpool     Norwich City     4   \n1            1  E0  2019-08-10  12:30         West Ham  Manchester City     0   \n2            2  E0  2019-08-10  15:00      Bournemouth    Sheffield Utd     1   \n3            3  E0  2019-08-10  15:00          Burnley      Southampton     3   \n4            4  E0  2019-08-10  15:00   Crystal Palace          Everton     0   \n5            5  E0  2019-08-10  15:00          Watford         Brighton     0   \n6            6  E0  2019-08-10  17:30        Tottenham      Aston Villa     3   \n7            7  E0  2019-08-11  14:00   Leicester City           Wolves     0   \n8            8  E0  2019-08-11  14:00    Newcastle Utd          Arsenal     0   \n9            9  E0  2019-08-11  16:30   Manchester Utd          Chelsea     4   \n10          10  E0  2019-08-17  12:30          Arsenal          Burnley     2   \n11          11  E0  2019-08-17  15:00      Aston Villa      Bournemouth     1   \n12          12  E0  2019-08-17  15:00         Brighton         West Ham     1   \n13          13  E0  2019-08-17  15:00          Everton          Watford     1   \n14          14  E0  2019-08-17  15:00     Norwich City    Newcastle Utd     3   \n15          15  E0  2019-08-17  15:00      Southampton        Liverpool     1   \n16          16  E0  2019-08-17  17:30  Manchester City        Tottenham     2   \n17          17  E0  2019-08-18  14:00    Sheffield Utd   Crystal Palace     1   \n18          18  E0  2019-08-18  16:30          Chelsea   Leicester City     1   \n19          19  E0  2019-08-19  20:00           Wolves   Manchester Utd     1   \n\n    FTAG FTR  HTHG  ...  Elo_h_after Elo_a_after Elo_h_before  Elo_a_before  \\\n0      1   H     4  ...      1515.00     1485.00       1500.0        1500.0   \n1      5   A     0  ...      1485.00     1515.00       1500.0        1500.0   \n2      1   D     0  ...      1500.00     1500.00       1500.0        1500.0   \n3      0   H     0  ...      1515.00     1485.00       1500.0        1500.0   \n4      0   D     0  ...      1500.00     1500.00       1500.0        1500.0   \n5      3   A     0  ...      1485.00     1515.00       1500.0        1500.0   \n6      1   H     0  ...      1515.00     1485.00       1500.0        1500.0   \n7      0   D     0  ...      1500.00     1500.00       1500.0        1500.0   \n8      1   A     0  ...      1485.00     1515.00       1500.0        1500.0   \n9      0   H     1  ...      1515.00     1485.00       1500.0        1500.0   \n10     1   H     1  ...      1530.00     1500.00       1515.0        1515.0   \n11     2   A     0  ...      1470.66     1514.34       1485.0        1500.0   \n12     1   D     0  ...      1513.71     1486.29       1515.0        1485.0   \n13     0   H     1  ...      1514.34     1470.66       1500.0        1485.0   \n14     1   H     1  ...      1500.00     1470.00       1485.0        1485.0   \n15     2   A     0  ...      1471.29     1528.71       1485.0        1515.0   \n16     2   D     2  ...      1515.00     1515.00       1515.0        1515.0   \n17     0   H     0  ...      1515.00     1485.00       1500.0        1500.0   \n18     1   D     1  ...      1485.66     1499.34       1485.0        1500.0   \n19     1   D     0  ...      1500.66     1514.34       1500.0        1515.0   \n\n    goalsDifference  shotsDifference  cornersDifference  ewmDifference  \\\n0               0.0              0.0                0.0            0.0   \n1               0.0              0.0                0.0            0.0   \n2               0.0              0.0                0.0            0.0   \n3               0.0              0.0                0.0            0.0   \n4               0.0              0.0                0.0            0.0   \n5               0.0              0.0                0.0            0.0   \n6               0.0              0.0                0.0            0.0   \n7               0.0              0.0                0.0            0.0   \n8               0.0              0.0                0.0            0.0   \n9               0.0              0.0                0.0            0.0   \n10              0.0              0.0                0.0            0.0   \n11              0.0              0.0                0.0           -1.0   \n12              0.0              0.0                0.0            3.0   \n13              0.0              0.0                0.0            1.0   \n14              0.0              0.0                0.0            0.0   \n15              0.0              0.0                0.0           -3.0   \n16              0.0              0.0                0.0            0.0   \n17              0.0              0.0                0.0            0.0   \n18              0.0              0.0                0.0           -1.0   \n19              0.0              0.0                0.0           -2.0   \n\n    elo_difference  form_difference  \n0              0.0              0.0  \n1              0.0              0.0  \n2              0.0              0.0  \n3              0.0              0.0  \n4              0.0              0.0  \n5              0.0              0.0  \n6              0.0              0.0  \n7              0.0              0.0  \n8              0.0              0.0  \n9              0.0              0.0  \n10             0.0              0.0  \n11           -15.0              0.0  \n12            30.0              0.0  \n13            15.0              0.0  \n14             0.0              0.0  \n15           -30.0              0.0  \n16             0.0              0.0  \n17             0.0              0.0  \n18           -15.0              0.0  \n19           -15.0              0.0  \n\n[20 rows x 134 columns]",
      "text/html": "<div>\n<style scoped>\n    .dataframe tbody tr th:only-of-type {\n        vertical-align: middle;\n    }\n\n    .dataframe tbody tr th {\n        vertical-align: top;\n    }\n\n    .dataframe thead th {\n        text-align: right;\n    }\n</style>\n<table border=\"1\" class=\"dataframe\">\n  <thead>\n    <tr style=\"text-align: right;\">\n      <th></th>\n      <th>Unnamed: 0</th>\n      <th>Div</th>\n      <th>Date</th>\n      <th>Time</th>\n      <th>HomeTeam</th>\n      <th>AwayTeam</th>\n      <th>FTHG</th>\n      <th>FTAG</th>\n      <th>FTR</th>\n      <th>HTHG</th>\n      <th>...</th>\n      <th>Elo_h_after</th>\n      <th>Elo_a_after</th>\n      <th>Elo_h_before</th>\n      <th>Elo_a_before</th>\n      <th>goalsDifference</th>\n      <th>shotsDifference</th>\n      <th>cornersDifference</th>\n      <th>ewmDifference</th>\n      <th>elo_difference</th>\n      <th>form_difference</th>\n    </tr>\n  </thead>\n  <tbody>\n    <tr>\n      <th>0</th>\n      <td>0</td>\n      <td>E0</td>\n      <td>2019-08-09</td>\n      <td>20:00</td>\n      <td>Liverpool</td>\n      <td>Norwich City</td>\n      <td>4</td>\n      <td>1</td>\n      <td>H</td>\n      <td>4</td>\n      <td>...</td>\n      <td>1515.00</td>\n      <td>1485.00</td>\n      <td>1500.0</td>\n      <td>1500.0</td>\n      <td>0.0</td>\n      <td>0.0</td>\n      <td>0.0</td>\n      <td>0.0</td>\n      <td>0.0</td>\n      <td>0.0</td>\n    </tr>\n    <tr>\n      <th>1</th>\n      <td>1</td>\n      <td>E0</td>\n      <td>2019-08-10</td>\n      <td>12:30</td>\n      <td>West Ham</td>\n      <td>Manchester City</td>\n      <td>0</td>\n      <td>5</td>\n      <td>A</td>\n      <td>0</td>\n      <td>...</td>\n      <td>1485.00</td>\n      <td>1515.00</td>\n      <td>1500.0</td>\n      <td>1500.0</td>\n      <td>0.0</td>\n      <td>0.0</td>\n      <td>0.0</td>\n      <td>0.0</td>\n      <td>0.0</td>\n      <td>0.0</td>\n    </tr>\n    <tr>\n      <th>2</th>\n      <td>2</td>\n      <td>E0</td>\n      <td>2019-08-10</td>\n      <td>15:00</td>\n      <td>Bournemouth</td>\n      <td>Sheffield Utd</td>\n      <td>1</td>\n      <td>1</td>\n      <td>D</td>\n      <td>0</td>\n      <td>...</td>\n      <td>1500.00</td>\n      <td>1500.00</td>\n      <td>1500.0</td>\n      <td>1500.0</td>\n      <td>0.0</td>\n      <td>0.0</td>\n      <td>0.0</td>\n      <td>0.0</td>\n      <td>0.0</td>\n      <td>0.0</td>\n    </tr>\n    <tr>\n      <th>3</th>\n      <td>3</td>\n      <td>E0</td>\n      <td>2019-08-10</td>\n      <td>15:00</td>\n      <td>Burnley</td>\n      <td>Southampton</td>\n      <td>3</td>\n      <td>0</td>\n      <td>H</td>\n      <td>0</td>\n      <td>...</td>\n      <td>1515.00</td>\n      <td>1485.00</td>\n      <td>1500.0</td>\n      <td>1500.0</td>\n      <td>0.0</td>\n      <td>0.0</td>\n      <td>0.0</td>\n      <td>0.0</td>\n      <td>0.0</td>\n      <td>0.0</td>\n    </tr>\n    <tr>\n      <th>4</th>\n      <td>4</td>\n      <td>E0</td>\n      <td>2019-08-10</td>\n      <td>15:00</td>\n      <td>Crystal Palace</td>\n      <td>Everton</td>\n      <td>0</td>\n      <td>0</td>\n      <td>D</td>\n      <td>0</td>\n      <td>...</td>\n      <td>1500.00</td>\n      <td>1500.00</td>\n      <td>1500.0</td>\n      <td>1500.0</td>\n      <td>0.0</td>\n      <td>0.0</td>\n      <td>0.0</td>\n      <td>0.0</td>\n      <td>0.0</td>\n      <td>0.0</td>\n    </tr>\n    <tr>\n      <th>5</th>\n      <td>5</td>\n      <td>E0</td>\n      <td>2019-08-10</td>\n      <td>15:00</td>\n      <td>Watford</td>\n      <td>Brighton</td>\n      <td>0</td>\n      <td>3</td>\n      <td>A</td>\n      <td>0</td>\n      <td>...</td>\n      <td>1485.00</td>\n      <td>1515.00</td>\n      <td>1500.0</td>\n      <td>1500.0</td>\n      <td>0.0</td>\n      <td>0.0</td>\n      <td>0.0</td>\n      <td>0.0</td>\n      <td>0.0</td>\n      <td>0.0</td>\n    </tr>\n    <tr>\n      <th>6</th>\n      <td>6</td>\n      <td>E0</td>\n      <td>2019-08-10</td>\n      <td>17:30</td>\n      <td>Tottenham</td>\n      <td>Aston Villa</td>\n      <td>3</td>\n      <td>1</td>\n      <td>H</td>\n      <td>0</td>\n      <td>...</td>\n      <td>1515.00</td>\n      <td>1485.00</td>\n      <td>1500.0</td>\n      <td>1500.0</td>\n      <td>0.0</td>\n      <td>0.0</td>\n      <td>0.0</td>\n      <td>0.0</td>\n      <td>0.0</td>\n      <td>0.0</td>\n    </tr>\n    <tr>\n      <th>7</th>\n      <td>7</td>\n      <td>E0</td>\n      <td>2019-08-11</td>\n      <td>14:00</td>\n      <td>Leicester City</td>\n      <td>Wolves</td>\n      <td>0</td>\n      <td>0</td>\n      <td>D</td>\n      <td>0</td>\n      <td>...</td>\n      <td>1500.00</td>\n      <td>1500.00</td>\n      <td>1500.0</td>\n      <td>1500.0</td>\n      <td>0.0</td>\n      <td>0.0</td>\n      <td>0.0</td>\n      <td>0.0</td>\n      <td>0.0</td>\n      <td>0.0</td>\n    </tr>\n    <tr>\n      <th>8</th>\n      <td>8</td>\n      <td>E0</td>\n      <td>2019-08-11</td>\n      <td>14:00</td>\n      <td>Newcastle Utd</td>\n      <td>Arsenal</td>\n      <td>0</td>\n      <td>1</td>\n      <td>A</td>\n      <td>0</td>\n      <td>...</td>\n      <td>1485.00</td>\n      <td>1515.00</td>\n      <td>1500.0</td>\n      <td>1500.0</td>\n      <td>0.0</td>\n      <td>0.0</td>\n      <td>0.0</td>\n      <td>0.0</td>\n      <td>0.0</td>\n      <td>0.0</td>\n    </tr>\n    <tr>\n      <th>9</th>\n      <td>9</td>\n      <td>E0</td>\n      <td>2019-08-11</td>\n      <td>16:30</td>\n      <td>Manchester Utd</td>\n      <td>Chelsea</td>\n      <td>4</td>\n      <td>0</td>\n      <td>H</td>\n      <td>1</td>\n      <td>...</td>\n      <td>1515.00</td>\n      <td>1485.00</td>\n      <td>1500.0</td>\n      <td>1500.0</td>\n      <td>0.0</td>\n      <td>0.0</td>\n      <td>0.0</td>\n      <td>0.0</td>\n      <td>0.0</td>\n      <td>0.0</td>\n    </tr>\n    <tr>\n      <th>10</th>\n      <td>10</td>\n      <td>E0</td>\n      <td>2019-08-17</td>\n      <td>12:30</td>\n      <td>Arsenal</td>\n      <td>Burnley</td>\n      <td>2</td>\n      <td>1</td>\n      <td>H</td>\n      <td>1</td>\n      <td>...</td>\n      <td>1530.00</td>\n      <td>1500.00</td>\n      <td>1515.0</td>\n      <td>1515.0</td>\n      <td>0.0</td>\n      <td>0.0</td>\n      <td>0.0</td>\n      <td>0.0</td>\n      <td>0.0</td>\n      <td>0.0</td>\n    </tr>\n    <tr>\n      <th>11</th>\n      <td>11</td>\n      <td>E0</td>\n      <td>2019-08-17</td>\n      <td>15:00</td>\n      <td>Aston Villa</td>\n      <td>Bournemouth</td>\n      <td>1</td>\n      <td>2</td>\n      <td>A</td>\n      <td>0</td>\n      <td>...</td>\n      <td>1470.66</td>\n      <td>1514.34</td>\n      <td>1485.0</td>\n      <td>1500.0</td>\n      <td>0.0</td>\n      <td>0.0</td>\n      <td>0.0</td>\n      <td>-1.0</td>\n      <td>-15.0</td>\n      <td>0.0</td>\n    </tr>\n    <tr>\n      <th>12</th>\n      <td>12</td>\n      <td>E0</td>\n      <td>2019-08-17</td>\n      <td>15:00</td>\n      <td>Brighton</td>\n      <td>West Ham</td>\n      <td>1</td>\n      <td>1</td>\n      <td>D</td>\n      <td>0</td>\n      <td>...</td>\n      <td>1513.71</td>\n      <td>1486.29</td>\n      <td>1515.0</td>\n      <td>1485.0</td>\n      <td>0.0</td>\n      <td>0.0</td>\n      <td>0.0</td>\n      <td>3.0</td>\n      <td>30.0</td>\n      <td>0.0</td>\n    </tr>\n    <tr>\n      <th>13</th>\n      <td>13</td>\n      <td>E0</td>\n      <td>2019-08-17</td>\n      <td>15:00</td>\n      <td>Everton</td>\n      <td>Watford</td>\n      <td>1</td>\n      <td>0</td>\n      <td>H</td>\n      <td>1</td>\n      <td>...</td>\n      <td>1514.34</td>\n      <td>1470.66</td>\n      <td>1500.0</td>\n      <td>1485.0</td>\n      <td>0.0</td>\n      <td>0.0</td>\n      <td>0.0</td>\n      <td>1.0</td>\n      <td>15.0</td>\n      <td>0.0</td>\n    </tr>\n    <tr>\n      <th>14</th>\n      <td>14</td>\n      <td>E0</td>\n      <td>2019-08-17</td>\n      <td>15:00</td>\n      <td>Norwich City</td>\n      <td>Newcastle Utd</td>\n      <td>3</td>\n      <td>1</td>\n      <td>H</td>\n      <td>1</td>\n      <td>...</td>\n      <td>1500.00</td>\n      <td>1470.00</td>\n      <td>1485.0</td>\n      <td>1485.0</td>\n      <td>0.0</td>\n      <td>0.0</td>\n      <td>0.0</td>\n      <td>0.0</td>\n      <td>0.0</td>\n      <td>0.0</td>\n    </tr>\n    <tr>\n      <th>15</th>\n      <td>15</td>\n      <td>E0</td>\n      <td>2019-08-17</td>\n      <td>15:00</td>\n      <td>Southampton</td>\n      <td>Liverpool</td>\n      <td>1</td>\n      <td>2</td>\n      <td>A</td>\n      <td>0</td>\n      <td>...</td>\n      <td>1471.29</td>\n      <td>1528.71</td>\n      <td>1485.0</td>\n      <td>1515.0</td>\n      <td>0.0</td>\n      <td>0.0</td>\n      <td>0.0</td>\n      <td>-3.0</td>\n      <td>-30.0</td>\n      <td>0.0</td>\n    </tr>\n    <tr>\n      <th>16</th>\n      <td>16</td>\n      <td>E0</td>\n      <td>2019-08-17</td>\n      <td>17:30</td>\n      <td>Manchester City</td>\n      <td>Tottenham</td>\n      <td>2</td>\n      <td>2</td>\n      <td>D</td>\n      <td>2</td>\n      <td>...</td>\n      <td>1515.00</td>\n      <td>1515.00</td>\n      <td>1515.0</td>\n      <td>1515.0</td>\n      <td>0.0</td>\n      <td>0.0</td>\n      <td>0.0</td>\n      <td>0.0</td>\n      <td>0.0</td>\n      <td>0.0</td>\n    </tr>\n    <tr>\n      <th>17</th>\n      <td>17</td>\n      <td>E0</td>\n      <td>2019-08-18</td>\n      <td>14:00</td>\n      <td>Sheffield Utd</td>\n      <td>Crystal Palace</td>\n      <td>1</td>\n      <td>0</td>\n      <td>H</td>\n      <td>0</td>\n      <td>...</td>\n      <td>1515.00</td>\n      <td>1485.00</td>\n      <td>1500.0</td>\n      <td>1500.0</td>\n      <td>0.0</td>\n      <td>0.0</td>\n      <td>0.0</td>\n      <td>0.0</td>\n      <td>0.0</td>\n      <td>0.0</td>\n    </tr>\n    <tr>\n      <th>18</th>\n      <td>18</td>\n      <td>E0</td>\n      <td>2019-08-18</td>\n      <td>16:30</td>\n      <td>Chelsea</td>\n      <td>Leicester City</td>\n      <td>1</td>\n      <td>1</td>\n      <td>D</td>\n      <td>1</td>\n      <td>...</td>\n      <td>1485.66</td>\n      <td>1499.34</td>\n      <td>1485.0</td>\n      <td>1500.0</td>\n      <td>0.0</td>\n      <td>0.0</td>\n      <td>0.0</td>\n      <td>-1.0</td>\n      <td>-15.0</td>\n      <td>0.0</td>\n    </tr>\n    <tr>\n      <th>19</th>\n      <td>19</td>\n      <td>E0</td>\n      <td>2019-08-19</td>\n      <td>20:00</td>\n      <td>Wolves</td>\n      <td>Manchester Utd</td>\n      <td>1</td>\n      <td>1</td>\n      <td>D</td>\n      <td>0</td>\n      <td>...</td>\n      <td>1500.66</td>\n      <td>1514.34</td>\n      <td>1500.0</td>\n      <td>1515.0</td>\n      <td>0.0</td>\n      <td>0.0</td>\n      <td>0.0</td>\n      <td>-2.0</td>\n      <td>-15.0</td>\n      <td>0.0</td>\n    </tr>\n  </tbody>\n</table>\n<p>20 rows × 134 columns</p>\n</div>"
     },
     "execution_count": 151,
     "metadata": {},
     "output_type": "execute_result"
    }
   ],
   "source": [
    "#PL20_21_fixtures\n",
    "test_fixtures = PL19_20_fixtures[:20]\n",
    "#test_fixtures = test_fixtures[:20]\n",
    "test_fixtures\n",
    "\n"
   ],
   "metadata": {
    "collapsed": false,
    "pycharm": {
     "name": "#%%\n"
    }
   }
  },
  {
   "cell_type": "code",
   "execution_count": 152,
   "outputs": [
    {
     "name": "stderr",
     "output_type": "stream",
     "text": [
      "C:\\Users\\giuli\\AppData\\Local\\Temp\\ipykernel_32576\\324412474.py:127: SettingWithCopyWarning: \n",
      "A value is trying to be set on a copy of a slice from a DataFrame.\n",
      "Try using .loc[row_indexer,col_indexer] = value instead\n",
      "\n",
      "See the caveats in the documentation: https://pandas.pydata.org/pandas-docs/stable/user_guide/indexing.html#returning-a-view-versus-a-copy\n",
      "  features.loc[index, 'rating_h_gk'] = rating_h_gk\n",
      "C:\\Users\\giuli\\AppData\\Local\\Temp\\ipykernel_32576\\324412474.py:128: SettingWithCopyWarning: \n",
      "A value is trying to be set on a copy of a slice from a DataFrame.\n",
      "Try using .loc[row_indexer,col_indexer] = value instead\n",
      "\n",
      "See the caveats in the documentation: https://pandas.pydata.org/pandas-docs/stable/user_guide/indexing.html#returning-a-view-versus-a-copy\n",
      "  features.loc[index, 'rating_h_df'] = rating_h_df\n",
      "C:\\Users\\giuli\\AppData\\Local\\Temp\\ipykernel_32576\\324412474.py:129: SettingWithCopyWarning: \n",
      "A value is trying to be set on a copy of a slice from a DataFrame.\n",
      "Try using .loc[row_indexer,col_indexer] = value instead\n",
      "\n",
      "See the caveats in the documentation: https://pandas.pydata.org/pandas-docs/stable/user_guide/indexing.html#returning-a-view-versus-a-copy\n",
      "  features.loc[index, 'rating_h_mf'] = rating_h_mf\n",
      "C:\\Users\\giuli\\AppData\\Local\\Temp\\ipykernel_32576\\324412474.py:130: SettingWithCopyWarning: \n",
      "A value is trying to be set on a copy of a slice from a DataFrame.\n",
      "Try using .loc[row_indexer,col_indexer] = value instead\n",
      "\n",
      "See the caveats in the documentation: https://pandas.pydata.org/pandas-docs/stable/user_guide/indexing.html#returning-a-view-versus-a-copy\n",
      "  features.loc[index, 'rating_h_att'] = rating_h_att\n",
      "C:\\Users\\giuli\\AppData\\Local\\Temp\\ipykernel_32576\\324412474.py:131: SettingWithCopyWarning: \n",
      "A value is trying to be set on a copy of a slice from a DataFrame.\n",
      "Try using .loc[row_indexer,col_indexer] = value instead\n",
      "\n",
      "See the caveats in the documentation: https://pandas.pydata.org/pandas-docs/stable/user_guide/indexing.html#returning-a-view-versus-a-copy\n",
      "  features.loc[index, 'rating_h_bench'] = rating_h_bench\n",
      "C:\\Users\\giuli\\AppData\\Local\\Temp\\ipykernel_32576\\324412474.py:132: SettingWithCopyWarning: \n",
      "A value is trying to be set on a copy of a slice from a DataFrame.\n",
      "Try using .loc[row_indexer,col_indexer] = value instead\n",
      "\n",
      "See the caveats in the documentation: https://pandas.pydata.org/pandas-docs/stable/user_guide/indexing.html#returning-a-view-versus-a-copy\n",
      "  features.loc[index, 'influence_h'] = influence_h\n",
      "C:\\Users\\giuli\\AppData\\Local\\Temp\\ipykernel_32576\\324412474.py:133: SettingWithCopyWarning: \n",
      "A value is trying to be set on a copy of a slice from a DataFrame.\n",
      "Try using .loc[row_indexer,col_indexer] = value instead\n",
      "\n",
      "See the caveats in the documentation: https://pandas.pydata.org/pandas-docs/stable/user_guide/indexing.html#returning-a-view-versus-a-copy\n",
      "  features.loc[index, 'creativity_h'] = creativity_h\n",
      "C:\\Users\\giuli\\AppData\\Local\\Temp\\ipykernel_32576\\324412474.py:134: SettingWithCopyWarning: \n",
      "A value is trying to be set on a copy of a slice from a DataFrame.\n",
      "Try using .loc[row_indexer,col_indexer] = value instead\n",
      "\n",
      "See the caveats in the documentation: https://pandas.pydata.org/pandas-docs/stable/user_guide/indexing.html#returning-a-view-versus-a-copy\n",
      "  features.loc[index, 'threat_h'] = threat_h\n",
      "C:\\Users\\giuli\\AppData\\Local\\Temp\\ipykernel_32576\\324412474.py:136: SettingWithCopyWarning: \n",
      "A value is trying to be set on a copy of a slice from a DataFrame.\n",
      "Try using .loc[row_indexer,col_indexer] = value instead\n",
      "\n",
      "See the caveats in the documentation: https://pandas.pydata.org/pandas-docs/stable/user_guide/indexing.html#returning-a-view-versus-a-copy\n",
      "  features.loc[index, 'bps_h'] = bps_h\n",
      "C:\\Users\\giuli\\AppData\\Local\\Temp\\ipykernel_32576\\324412474.py:137: SettingWithCopyWarning: \n",
      "A value is trying to be set on a copy of a slice from a DataFrame.\n",
      "Try using .loc[row_indexer,col_indexer] = value instead\n",
      "\n",
      "See the caveats in the documentation: https://pandas.pydata.org/pandas-docs/stable/user_guide/indexing.html#returning-a-view-versus-a-copy\n",
      "  features.loc[index, 'selected_h'] = selected_h\n",
      "C:\\Users\\giuli\\AppData\\Local\\Temp\\ipykernel_32576\\324412474.py:138: SettingWithCopyWarning: \n",
      "A value is trying to be set on a copy of a slice from a DataFrame.\n",
      "Try using .loc[row_indexer,col_indexer] = value instead\n",
      "\n",
      "See the caveats in the documentation: https://pandas.pydata.org/pandas-docs/stable/user_guide/indexing.html#returning-a-view-versus-a-copy\n",
      "  features.loc[index, 'rating_a_gk'] = rating_a_gk\n",
      "C:\\Users\\giuli\\AppData\\Local\\Temp\\ipykernel_32576\\324412474.py:139: SettingWithCopyWarning: \n",
      "A value is trying to be set on a copy of a slice from a DataFrame.\n",
      "Try using .loc[row_indexer,col_indexer] = value instead\n",
      "\n",
      "See the caveats in the documentation: https://pandas.pydata.org/pandas-docs/stable/user_guide/indexing.html#returning-a-view-versus-a-copy\n",
      "  features.loc[index, 'rating_a_df'] = rating_a_df\n",
      "C:\\Users\\giuli\\AppData\\Local\\Temp\\ipykernel_32576\\324412474.py:140: SettingWithCopyWarning: \n",
      "A value is trying to be set on a copy of a slice from a DataFrame.\n",
      "Try using .loc[row_indexer,col_indexer] = value instead\n",
      "\n",
      "See the caveats in the documentation: https://pandas.pydata.org/pandas-docs/stable/user_guide/indexing.html#returning-a-view-versus-a-copy\n",
      "  features.loc[index, 'rating_a_mf'] = rating_a_mf\n",
      "C:\\Users\\giuli\\AppData\\Local\\Temp\\ipykernel_32576\\324412474.py:141: SettingWithCopyWarning: \n",
      "A value is trying to be set on a copy of a slice from a DataFrame.\n",
      "Try using .loc[row_indexer,col_indexer] = value instead\n",
      "\n",
      "See the caveats in the documentation: https://pandas.pydata.org/pandas-docs/stable/user_guide/indexing.html#returning-a-view-versus-a-copy\n",
      "  features.loc[index, 'rating_a_att'] = rating_a_att\n",
      "C:\\Users\\giuli\\AppData\\Local\\Temp\\ipykernel_32576\\324412474.py:142: SettingWithCopyWarning: \n",
      "A value is trying to be set on a copy of a slice from a DataFrame.\n",
      "Try using .loc[row_indexer,col_indexer] = value instead\n",
      "\n",
      "See the caveats in the documentation: https://pandas.pydata.org/pandas-docs/stable/user_guide/indexing.html#returning-a-view-versus-a-copy\n",
      "  features.loc[index, 'rating_a_bench'] = rating_a_bench\n",
      "C:\\Users\\giuli\\AppData\\Local\\Temp\\ipykernel_32576\\324412474.py:143: SettingWithCopyWarning: \n",
      "A value is trying to be set on a copy of a slice from a DataFrame.\n",
      "Try using .loc[row_indexer,col_indexer] = value instead\n",
      "\n",
      "See the caveats in the documentation: https://pandas.pydata.org/pandas-docs/stable/user_guide/indexing.html#returning-a-view-versus-a-copy\n",
      "  features.loc[index, 'influence_a'] = influence_a\n",
      "C:\\Users\\giuli\\AppData\\Local\\Temp\\ipykernel_32576\\324412474.py:144: SettingWithCopyWarning: \n",
      "A value is trying to be set on a copy of a slice from a DataFrame.\n",
      "Try using .loc[row_indexer,col_indexer] = value instead\n",
      "\n",
      "See the caveats in the documentation: https://pandas.pydata.org/pandas-docs/stable/user_guide/indexing.html#returning-a-view-versus-a-copy\n",
      "  features.loc[index, 'creativity_a'] = creativity_a\n",
      "C:\\Users\\giuli\\AppData\\Local\\Temp\\ipykernel_32576\\324412474.py:145: SettingWithCopyWarning: \n",
      "A value is trying to be set on a copy of a slice from a DataFrame.\n",
      "Try using .loc[row_indexer,col_indexer] = value instead\n",
      "\n",
      "See the caveats in the documentation: https://pandas.pydata.org/pandas-docs/stable/user_guide/indexing.html#returning-a-view-versus-a-copy\n",
      "  features.loc[index, 'threat_a'] = threat_a\n",
      "C:\\Users\\giuli\\AppData\\Local\\Temp\\ipykernel_32576\\324412474.py:147: SettingWithCopyWarning: \n",
      "A value is trying to be set on a copy of a slice from a DataFrame.\n",
      "Try using .loc[row_indexer,col_indexer] = value instead\n",
      "\n",
      "See the caveats in the documentation: https://pandas.pydata.org/pandas-docs/stable/user_guide/indexing.html#returning-a-view-versus-a-copy\n",
      "  features.loc[index, 'bps_a'] = bps_a\n",
      "C:\\Users\\giuli\\AppData\\Local\\Temp\\ipykernel_32576\\324412474.py:148: SettingWithCopyWarning: \n",
      "A value is trying to be set on a copy of a slice from a DataFrame.\n",
      "Try using .loc[row_indexer,col_indexer] = value instead\n",
      "\n",
      "See the caveats in the documentation: https://pandas.pydata.org/pandas-docs/stable/user_guide/indexing.html#returning-a-view-versus-a-copy\n",
      "  features.loc[index, 'selected_a'] = selected_a\n"
     ]
    },
    {
     "name": "stdout",
     "output_type": "stream",
     "text": [
      "1\n",
      "2\n",
      "3\n",
      "4\n",
      "5\n",
      "6\n",
      "7\n",
      "8\n",
      "9\n",
      "10\n",
      "11\n",
      "12\n",
      "13\n",
      "14\n",
      "15\n",
      "16\n",
      "17\n",
      "18\n",
      "19\n",
      "20\n"
     ]
    },
    {
     "data": {
      "text/plain": "    Unnamed: 0 Div        Date   Time         HomeTeam         AwayTeam  FTHG  \\\n0            0  E0  2019-08-09  20:00        Liverpool     Norwich City     4   \n1            1  E0  2019-08-10  12:30         West Ham  Manchester City     0   \n2            2  E0  2019-08-10  15:00      Bournemouth    Sheffield Utd     1   \n3            3  E0  2019-08-10  15:00          Burnley      Southampton     3   \n4            4  E0  2019-08-10  15:00   Crystal Palace          Everton     0   \n5            5  E0  2019-08-10  15:00          Watford         Brighton     0   \n6            6  E0  2019-08-10  17:30        Tottenham      Aston Villa     3   \n7            7  E0  2019-08-11  14:00   Leicester City           Wolves     0   \n8            8  E0  2019-08-11  14:00    Newcastle Utd          Arsenal     0   \n9            9  E0  2019-08-11  16:30   Manchester Utd          Chelsea     4   \n10          10  E0  2019-08-17  12:30          Arsenal          Burnley     2   \n11          11  E0  2019-08-17  15:00      Aston Villa      Bournemouth     1   \n12          12  E0  2019-08-17  15:00         Brighton         West Ham     1   \n13          13  E0  2019-08-17  15:00          Everton          Watford     1   \n14          14  E0  2019-08-17  15:00     Norwich City    Newcastle Utd     3   \n15          15  E0  2019-08-17  15:00      Southampton        Liverpool     1   \n16          16  E0  2019-08-17  17:30  Manchester City        Tottenham     2   \n17          17  E0  2019-08-18  14:00    Sheffield Utd   Crystal Palace     1   \n18          18  E0  2019-08-18  16:30          Chelsea   Leicester City     1   \n19          19  E0  2019-08-19  20:00           Wolves   Manchester Utd     1   \n\n    FTAG FTR  HTHG  ...  rating_a_gk rating_a_df rating_a_mf  rating_a_att  \\\n0      1   H     4  ...     0.000000    0.000000    0.000000      0.000000   \n1      5   A     0  ...     0.000000    0.000000    0.000000      0.000000   \n2      1   D     0  ...     0.000000    0.000000    0.000000      0.000000   \n3      0   H     0  ...     0.000000    0.000000    0.000000      0.000000   \n4      0   D     0  ...     0.000000    0.000000    0.000000      0.000000   \n5      3   A     0  ...     0.000000    0.000000    0.000000      0.000000   \n6      1   H     0  ...     0.000000    0.000000    0.000000      0.000000   \n7      0   D     0  ...     0.000000    0.000000    0.000000      0.000000   \n8      1   A     0  ...     0.000000    0.000000    0.000000      0.000000   \n9      0   H     1  ...     0.000000    0.000000    0.000000      0.000000   \n10     1   H     1  ...    57.006959   80.131677   68.536763     60.277388   \n11     2   A     0  ...    37.868320   89.211104   86.034021     16.456845   \n12     1   D     0  ...    31.261110   33.770931   71.352486     14.402177   \n13     0   H     1  ...    12.183192  125.657539   92.152333     27.554208   \n14     1   H     1  ...    32.256114  104.910766   35.032538     26.635556   \n15     2   A     0  ...    42.769601   94.304494   17.482372     83.420654   \n16     2   D     2  ...    40.142495  148.035319  100.981021    111.079444   \n17     0   H     0  ...    42.600625   51.226176   61.312824     17.103578   \n18     1   D     1  ...    41.690617  132.673471  126.074627      5.569759   \n19     1   D     0  ...    73.577644  109.222012   84.793954    101.274076   \n\n    rating_a_bench  influence_a  creativity_a  threat_a  bps_a  selected_a  \n0         0.000000          0.0           0.0       0.0    0.0         0.0  \n1         0.000000          0.0           0.0       0.0    0.0         0.0  \n2         0.000000          0.0           0.0       0.0    0.0         0.0  \n3         0.000000          0.0           0.0       0.0    0.0         0.0  \n4         0.000000          0.0           0.0       0.0    0.0         0.0  \n5         0.000000          0.0           0.0       0.0    0.0         0.0  \n6         0.000000          0.0           0.0       0.0    0.0         0.0  \n7         0.000000          0.0           0.0       0.0    0.0         0.0  \n8         0.000000          0.0           0.0       0.0    0.0         0.0  \n9         0.000000          0.0           0.0       0.0    0.0         0.0  \n10        7.577692        281.8         105.2     160.0  261.0    763535.0  \n11        8.560304         89.2          95.8     111.0   96.0   4599551.0  \n12        7.785290         84.2          31.0      50.0   74.0    917811.0  \n13       13.459225         99.0          88.7      95.0   80.0   1781994.0  \n14       15.661872        120.0          65.8      52.0  113.0   1294931.0  \n15       78.745317        195.6         123.1     153.0  156.0   9938119.0  \n16       62.300571        247.8         284.0     263.0  205.0   3694256.0  \n17        5.569759        135.6          56.4     127.0  153.0   3741542.0  \n18       10.039662        143.6         134.3      96.0  186.0   3245192.0  \n19       33.749458        338.0         115.0     168.0  284.0   5463703.0  \n\n[20 rows x 154 columns]",
      "text/html": "<div>\n<style scoped>\n    .dataframe tbody tr th:only-of-type {\n        vertical-align: middle;\n    }\n\n    .dataframe tbody tr th {\n        vertical-align: top;\n    }\n\n    .dataframe thead th {\n        text-align: right;\n    }\n</style>\n<table border=\"1\" class=\"dataframe\">\n  <thead>\n    <tr style=\"text-align: right;\">\n      <th></th>\n      <th>Unnamed: 0</th>\n      <th>Div</th>\n      <th>Date</th>\n      <th>Time</th>\n      <th>HomeTeam</th>\n      <th>AwayTeam</th>\n      <th>FTHG</th>\n      <th>FTAG</th>\n      <th>FTR</th>\n      <th>HTHG</th>\n      <th>...</th>\n      <th>rating_a_gk</th>\n      <th>rating_a_df</th>\n      <th>rating_a_mf</th>\n      <th>rating_a_att</th>\n      <th>rating_a_bench</th>\n      <th>influence_a</th>\n      <th>creativity_a</th>\n      <th>threat_a</th>\n      <th>bps_a</th>\n      <th>selected_a</th>\n    </tr>\n  </thead>\n  <tbody>\n    <tr>\n      <th>0</th>\n      <td>0</td>\n      <td>E0</td>\n      <td>2019-08-09</td>\n      <td>20:00</td>\n      <td>Liverpool</td>\n      <td>Norwich City</td>\n      <td>4</td>\n      <td>1</td>\n      <td>H</td>\n      <td>4</td>\n      <td>...</td>\n      <td>0.000000</td>\n      <td>0.000000</td>\n      <td>0.000000</td>\n      <td>0.000000</td>\n      <td>0.000000</td>\n      <td>0.0</td>\n      <td>0.0</td>\n      <td>0.0</td>\n      <td>0.0</td>\n      <td>0.0</td>\n    </tr>\n    <tr>\n      <th>1</th>\n      <td>1</td>\n      <td>E0</td>\n      <td>2019-08-10</td>\n      <td>12:30</td>\n      <td>West Ham</td>\n      <td>Manchester City</td>\n      <td>0</td>\n      <td>5</td>\n      <td>A</td>\n      <td>0</td>\n      <td>...</td>\n      <td>0.000000</td>\n      <td>0.000000</td>\n      <td>0.000000</td>\n      <td>0.000000</td>\n      <td>0.000000</td>\n      <td>0.0</td>\n      <td>0.0</td>\n      <td>0.0</td>\n      <td>0.0</td>\n      <td>0.0</td>\n    </tr>\n    <tr>\n      <th>2</th>\n      <td>2</td>\n      <td>E0</td>\n      <td>2019-08-10</td>\n      <td>15:00</td>\n      <td>Bournemouth</td>\n      <td>Sheffield Utd</td>\n      <td>1</td>\n      <td>1</td>\n      <td>D</td>\n      <td>0</td>\n      <td>...</td>\n      <td>0.000000</td>\n      <td>0.000000</td>\n      <td>0.000000</td>\n      <td>0.000000</td>\n      <td>0.000000</td>\n      <td>0.0</td>\n      <td>0.0</td>\n      <td>0.0</td>\n      <td>0.0</td>\n      <td>0.0</td>\n    </tr>\n    <tr>\n      <th>3</th>\n      <td>3</td>\n      <td>E0</td>\n      <td>2019-08-10</td>\n      <td>15:00</td>\n      <td>Burnley</td>\n      <td>Southampton</td>\n      <td>3</td>\n      <td>0</td>\n      <td>H</td>\n      <td>0</td>\n      <td>...</td>\n      <td>0.000000</td>\n      <td>0.000000</td>\n      <td>0.000000</td>\n      <td>0.000000</td>\n      <td>0.000000</td>\n      <td>0.0</td>\n      <td>0.0</td>\n      <td>0.0</td>\n      <td>0.0</td>\n      <td>0.0</td>\n    </tr>\n    <tr>\n      <th>4</th>\n      <td>4</td>\n      <td>E0</td>\n      <td>2019-08-10</td>\n      <td>15:00</td>\n      <td>Crystal Palace</td>\n      <td>Everton</td>\n      <td>0</td>\n      <td>0</td>\n      <td>D</td>\n      <td>0</td>\n      <td>...</td>\n      <td>0.000000</td>\n      <td>0.000000</td>\n      <td>0.000000</td>\n      <td>0.000000</td>\n      <td>0.000000</td>\n      <td>0.0</td>\n      <td>0.0</td>\n      <td>0.0</td>\n      <td>0.0</td>\n      <td>0.0</td>\n    </tr>\n    <tr>\n      <th>5</th>\n      <td>5</td>\n      <td>E0</td>\n      <td>2019-08-10</td>\n      <td>15:00</td>\n      <td>Watford</td>\n      <td>Brighton</td>\n      <td>0</td>\n      <td>3</td>\n      <td>A</td>\n      <td>0</td>\n      <td>...</td>\n      <td>0.000000</td>\n      <td>0.000000</td>\n      <td>0.000000</td>\n      <td>0.000000</td>\n      <td>0.000000</td>\n      <td>0.0</td>\n      <td>0.0</td>\n      <td>0.0</td>\n      <td>0.0</td>\n      <td>0.0</td>\n    </tr>\n    <tr>\n      <th>6</th>\n      <td>6</td>\n      <td>E0</td>\n      <td>2019-08-10</td>\n      <td>17:30</td>\n      <td>Tottenham</td>\n      <td>Aston Villa</td>\n      <td>3</td>\n      <td>1</td>\n      <td>H</td>\n      <td>0</td>\n      <td>...</td>\n      <td>0.000000</td>\n      <td>0.000000</td>\n      <td>0.000000</td>\n      <td>0.000000</td>\n      <td>0.000000</td>\n      <td>0.0</td>\n      <td>0.0</td>\n      <td>0.0</td>\n      <td>0.0</td>\n      <td>0.0</td>\n    </tr>\n    <tr>\n      <th>7</th>\n      <td>7</td>\n      <td>E0</td>\n      <td>2019-08-11</td>\n      <td>14:00</td>\n      <td>Leicester City</td>\n      <td>Wolves</td>\n      <td>0</td>\n      <td>0</td>\n      <td>D</td>\n      <td>0</td>\n      <td>...</td>\n      <td>0.000000</td>\n      <td>0.000000</td>\n      <td>0.000000</td>\n      <td>0.000000</td>\n      <td>0.000000</td>\n      <td>0.0</td>\n      <td>0.0</td>\n      <td>0.0</td>\n      <td>0.0</td>\n      <td>0.0</td>\n    </tr>\n    <tr>\n      <th>8</th>\n      <td>8</td>\n      <td>E0</td>\n      <td>2019-08-11</td>\n      <td>14:00</td>\n      <td>Newcastle Utd</td>\n      <td>Arsenal</td>\n      <td>0</td>\n      <td>1</td>\n      <td>A</td>\n      <td>0</td>\n      <td>...</td>\n      <td>0.000000</td>\n      <td>0.000000</td>\n      <td>0.000000</td>\n      <td>0.000000</td>\n      <td>0.000000</td>\n      <td>0.0</td>\n      <td>0.0</td>\n      <td>0.0</td>\n      <td>0.0</td>\n      <td>0.0</td>\n    </tr>\n    <tr>\n      <th>9</th>\n      <td>9</td>\n      <td>E0</td>\n      <td>2019-08-11</td>\n      <td>16:30</td>\n      <td>Manchester Utd</td>\n      <td>Chelsea</td>\n      <td>4</td>\n      <td>0</td>\n      <td>H</td>\n      <td>1</td>\n      <td>...</td>\n      <td>0.000000</td>\n      <td>0.000000</td>\n      <td>0.000000</td>\n      <td>0.000000</td>\n      <td>0.000000</td>\n      <td>0.0</td>\n      <td>0.0</td>\n      <td>0.0</td>\n      <td>0.0</td>\n      <td>0.0</td>\n    </tr>\n    <tr>\n      <th>10</th>\n      <td>10</td>\n      <td>E0</td>\n      <td>2019-08-17</td>\n      <td>12:30</td>\n      <td>Arsenal</td>\n      <td>Burnley</td>\n      <td>2</td>\n      <td>1</td>\n      <td>H</td>\n      <td>1</td>\n      <td>...</td>\n      <td>57.006959</td>\n      <td>80.131677</td>\n      <td>68.536763</td>\n      <td>60.277388</td>\n      <td>7.577692</td>\n      <td>281.8</td>\n      <td>105.2</td>\n      <td>160.0</td>\n      <td>261.0</td>\n      <td>763535.0</td>\n    </tr>\n    <tr>\n      <th>11</th>\n      <td>11</td>\n      <td>E0</td>\n      <td>2019-08-17</td>\n      <td>15:00</td>\n      <td>Aston Villa</td>\n      <td>Bournemouth</td>\n      <td>1</td>\n      <td>2</td>\n      <td>A</td>\n      <td>0</td>\n      <td>...</td>\n      <td>37.868320</td>\n      <td>89.211104</td>\n      <td>86.034021</td>\n      <td>16.456845</td>\n      <td>8.560304</td>\n      <td>89.2</td>\n      <td>95.8</td>\n      <td>111.0</td>\n      <td>96.0</td>\n      <td>4599551.0</td>\n    </tr>\n    <tr>\n      <th>12</th>\n      <td>12</td>\n      <td>E0</td>\n      <td>2019-08-17</td>\n      <td>15:00</td>\n      <td>Brighton</td>\n      <td>West Ham</td>\n      <td>1</td>\n      <td>1</td>\n      <td>D</td>\n      <td>0</td>\n      <td>...</td>\n      <td>31.261110</td>\n      <td>33.770931</td>\n      <td>71.352486</td>\n      <td>14.402177</td>\n      <td>7.785290</td>\n      <td>84.2</td>\n      <td>31.0</td>\n      <td>50.0</td>\n      <td>74.0</td>\n      <td>917811.0</td>\n    </tr>\n    <tr>\n      <th>13</th>\n      <td>13</td>\n      <td>E0</td>\n      <td>2019-08-17</td>\n      <td>15:00</td>\n      <td>Everton</td>\n      <td>Watford</td>\n      <td>1</td>\n      <td>0</td>\n      <td>H</td>\n      <td>1</td>\n      <td>...</td>\n      <td>12.183192</td>\n      <td>125.657539</td>\n      <td>92.152333</td>\n      <td>27.554208</td>\n      <td>13.459225</td>\n      <td>99.0</td>\n      <td>88.7</td>\n      <td>95.0</td>\n      <td>80.0</td>\n      <td>1781994.0</td>\n    </tr>\n    <tr>\n      <th>14</th>\n      <td>14</td>\n      <td>E0</td>\n      <td>2019-08-17</td>\n      <td>15:00</td>\n      <td>Norwich City</td>\n      <td>Newcastle Utd</td>\n      <td>3</td>\n      <td>1</td>\n      <td>H</td>\n      <td>1</td>\n      <td>...</td>\n      <td>32.256114</td>\n      <td>104.910766</td>\n      <td>35.032538</td>\n      <td>26.635556</td>\n      <td>15.661872</td>\n      <td>120.0</td>\n      <td>65.8</td>\n      <td>52.0</td>\n      <td>113.0</td>\n      <td>1294931.0</td>\n    </tr>\n    <tr>\n      <th>15</th>\n      <td>15</td>\n      <td>E0</td>\n      <td>2019-08-17</td>\n      <td>15:00</td>\n      <td>Southampton</td>\n      <td>Liverpool</td>\n      <td>1</td>\n      <td>2</td>\n      <td>A</td>\n      <td>0</td>\n      <td>...</td>\n      <td>42.769601</td>\n      <td>94.304494</td>\n      <td>17.482372</td>\n      <td>83.420654</td>\n      <td>78.745317</td>\n      <td>195.6</td>\n      <td>123.1</td>\n      <td>153.0</td>\n      <td>156.0</td>\n      <td>9938119.0</td>\n    </tr>\n    <tr>\n      <th>16</th>\n      <td>16</td>\n      <td>E0</td>\n      <td>2019-08-17</td>\n      <td>17:30</td>\n      <td>Manchester City</td>\n      <td>Tottenham</td>\n      <td>2</td>\n      <td>2</td>\n      <td>D</td>\n      <td>2</td>\n      <td>...</td>\n      <td>40.142495</td>\n      <td>148.035319</td>\n      <td>100.981021</td>\n      <td>111.079444</td>\n      <td>62.300571</td>\n      <td>247.8</td>\n      <td>284.0</td>\n      <td>263.0</td>\n      <td>205.0</td>\n      <td>3694256.0</td>\n    </tr>\n    <tr>\n      <th>17</th>\n      <td>17</td>\n      <td>E0</td>\n      <td>2019-08-18</td>\n      <td>14:00</td>\n      <td>Sheffield Utd</td>\n      <td>Crystal Palace</td>\n      <td>1</td>\n      <td>0</td>\n      <td>H</td>\n      <td>0</td>\n      <td>...</td>\n      <td>42.600625</td>\n      <td>51.226176</td>\n      <td>61.312824</td>\n      <td>17.103578</td>\n      <td>5.569759</td>\n      <td>135.6</td>\n      <td>56.4</td>\n      <td>127.0</td>\n      <td>153.0</td>\n      <td>3741542.0</td>\n    </tr>\n    <tr>\n      <th>18</th>\n      <td>18</td>\n      <td>E0</td>\n      <td>2019-08-18</td>\n      <td>16:30</td>\n      <td>Chelsea</td>\n      <td>Leicester City</td>\n      <td>1</td>\n      <td>1</td>\n      <td>D</td>\n      <td>1</td>\n      <td>...</td>\n      <td>41.690617</td>\n      <td>132.673471</td>\n      <td>126.074627</td>\n      <td>5.569759</td>\n      <td>10.039662</td>\n      <td>143.6</td>\n      <td>134.3</td>\n      <td>96.0</td>\n      <td>186.0</td>\n      <td>3245192.0</td>\n    </tr>\n    <tr>\n      <th>19</th>\n      <td>19</td>\n      <td>E0</td>\n      <td>2019-08-19</td>\n      <td>20:00</td>\n      <td>Wolves</td>\n      <td>Manchester Utd</td>\n      <td>1</td>\n      <td>1</td>\n      <td>D</td>\n      <td>0</td>\n      <td>...</td>\n      <td>73.577644</td>\n      <td>109.222012</td>\n      <td>84.793954</td>\n      <td>101.274076</td>\n      <td>33.749458</td>\n      <td>338.0</td>\n      <td>115.0</td>\n      <td>168.0</td>\n      <td>284.0</td>\n      <td>5463703.0</td>\n    </tr>\n  </tbody>\n</table>\n<p>20 rows × 154 columns</p>\n</div>"
     },
     "execution_count": 152,
     "metadata": {},
     "output_type": "execute_result"
    }
   ],
   "source": [
    "def get_lineup(lineups_df, game_id):\n",
    "    rslt_df = lineups_df[lineups_df['game_id'] == game_id]\n",
    "    return rslt_df\n",
    "\n",
    "def get_player_stats(player_stats, lineup, wk):\n",
    "    tmp = pd.merge(player_stats, lineup[['player', 'start11']], on= 'player')\n",
    "    df = tmp.drop(tmp[tmp.wk > wk].index)\n",
    "    return df\n",
    "\n",
    "def get_player_points(player_df, player, wk, stat):\n",
    "    rslt_df = player_df[player_df['player'] ==player]\n",
    "    rslt_df2 = rslt_df[rslt_df['wk'] ==wk]\n",
    "    if rslt_df2.empty == True:\n",
    "        return 0\n",
    "    out = rslt_df2[stat]\n",
    "    #print(out)\n",
    "    out = out.values[0]\n",
    "    return out\n",
    "\n",
    "def get_stats_season(player_df, player, fr, to, stat):\n",
    "    test = []\n",
    "    out = 0\n",
    "    df2 = 0\n",
    "    if fr == to: return 0\n",
    "    for i in range(int(fr), int (to)):\n",
    "        out =  get_player_points(player_df ,player, i, stat)\n",
    "        test.append(out)\n",
    "        #print(test)\n",
    "        df = pd.Series(test)\n",
    "        df2 = df.ewm(alpha=0.9).mean()[len(df) - 1]\n",
    "    return df2\n",
    "\n",
    "def append_stats(features ,player_df,lineup_df ,stat):\n",
    "    index = 0\n",
    "    features_dict = features.to_dict('records')\n",
    "    #for index, row in features.iterrows():\n",
    "    start = time.process_time()\n",
    "    for row in features_dict:\n",
    "        lineup_h = get_lineup(lineup_df, row['game_home_ID'])\n",
    "        lineup_a = get_lineup(lineup_df, row['game_away_ID'])\n",
    "        lineup_h = lineup_h.to_dict('records')\n",
    "        lineup_a = lineup_a.to_dict('records')\n",
    "        rating_h_bench = 0\n",
    "        rating_h_gk = 0\n",
    "        rating_h_df = 0\n",
    "        rating_h_mf = 0\n",
    "        rating_h_att = 0\n",
    "        rating_a_bench = 0\n",
    "        rating_a_gk = 0\n",
    "        rating_a_df = 0\n",
    "        rating_a_mf = 0\n",
    "        rating_a_att = 0\n",
    "        influence_h = 0\n",
    "        influence_a = 0\n",
    "        creativity_h = 0\n",
    "        creativity_a = 0\n",
    "        threat_h = 0\n",
    "        threat_a = 0\n",
    "        selected_h = 0\n",
    "        selected_a = 0\n",
    "        bps_h = 0\n",
    "        bps_a = 0\n",
    "        #print(index)\n",
    "        for row_l in lineup_h:\n",
    "            if row_l['start11'] == False:\n",
    "                rating_h_bench = rating_h_bench + get_stats_season(player_df, row_l['player'],1, row_l['wk'], stat)\n",
    "            if row_l['category'] == 'Goalkeeper' and row_l['start11'] == True:\n",
    "                rating_h_gk = rating_h_gk + get_stats_season(player_df, row_l['player'],1, row_l['wk'], stat)\n",
    "                influence_h = influence_h + get_stats_season(player_df, row_l['player'],1, row_l['wk'], 'influence')\n",
    "                creativity_h = creativity_h + get_stats_season(player_df, row_l['player'],1, row_l['wk'], 'creativity')\n",
    "                threat_h = threat_h + get_stats_season(player_df, row_l['player'],1, row_l['wk'], 'threat')\n",
    "                bps_h = bps_h + get_stats_season(player_df, row_l['player'],1, row_l['wk'], 'bps')\n",
    "                selected_h = selected_h + get_stats_season(player_df, row_l['player'],1, row_l['wk'], 'selected')\n",
    "            elif row_l['category'] == 'Defender'and row_l['start11'] == True:\n",
    "                rating_h_df = rating_h_df + get_stats_season(player_df, row_l['player'],1, row_l['wk'], stat)\n",
    "                influence_h = influence_h + get_stats_season(player_df, row_l['player'],1, row_l['wk'], 'influence')\n",
    "                creativity_h = creativity_h + get_stats_season(player_df, row_l['player'],1, row_l['wk'], 'creativity')\n",
    "                threat_h = threat_h + get_stats_season(player_df, row_l['player'],1, row_l['wk'], 'threat')\n",
    "                bps_h = bps_h + get_stats_season(player_df, row_l['player'],1, row_l['wk'], 'bps')\n",
    "                selected_h = selected_h + get_stats_season(player_df, row_l['player'],1, row_l['wk'], 'selected')\n",
    "            elif row_l['category'] == 'Midfield'and row_l['start11'] == True:\n",
    "                rating_h_mf = rating_h_mf + get_stats_season(player_df, row_l['player'],1, row_l['wk'], stat)\n",
    "                influence_h = influence_h + get_stats_season(player_df, row_l['player'],1, row_l['wk'], 'influence')\n",
    "                creativity_h = creativity_h + get_stats_season(player_df, row_l['player'],1, row_l['wk'], 'creativity')\n",
    "                threat_h = threat_h + get_stats_season(player_df, row_l['player'],1, row_l['wk'], 'threat')\n",
    "                bps_h = bps_h + get_stats_season(player_df, row_l['player'],1, row_l['wk'], 'bps')\n",
    "                selected_h = selected_h + get_stats_season(player_df, row_l['player'],1, row_l['wk'], 'selected')\n",
    "            elif row_l['category'] == 'Forward'and row_l['start11'] == True:\n",
    "                rating_h_att = rating_h_att + get_stats_season(player_df, row_l['player'],1, row_l['wk'], stat)\n",
    "                influence_h = influence_h + get_stats_season(player_df, row_l['player'],1, row_l['wk'], 'influence')\n",
    "                creativity_h = creativity_h + get_stats_season(player_df, row_l['player'],1, row_l['wk'], 'creativity')\n",
    "                threat_h = threat_h + get_stats_season(player_df, row_l['player'],1, row_l['wk'], 'threat')\n",
    "                bps_h = bps_h + get_stats_season(player_df, row_l['player'],1, row_l['wk'], 'bps')\n",
    "                selected_h = selected_h + get_stats_season(player_df, row_l['player'],1, row_l['wk'], 'selected')\n",
    "\n",
    "        for row_l in lineup_a:\n",
    "            if row_l['start11'] == False:\n",
    "                rating_a_bench = rating_a_bench + get_stats_season(player_df, row_l['player'],1, row_l['wk'], stat)\n",
    "            if row_l['category'] == 'Goalkeeper' and row_l['start11'] == True:\n",
    "                rating_a_gk = rating_a_gk + get_stats_season(player_df, row_l['player'],1, row_l['wk'], stat)\n",
    "                influence_a = influence_a + get_stats_season(player_df, row_l['player'],1, row_l['wk'], 'influence')\n",
    "                creativity_a = creativity_a + get_stats_season(player_df, row_l['player'],1, row_l['wk'], 'creativity')\n",
    "                threat_a = threat_a + get_stats_season(player_df, row_l['player'],1, row_l['wk'], 'threat')\n",
    "                bps_a = bps_a + get_stats_season(player_df, row_l['player'],1, row_l['wk'], 'bps')\n",
    "                selected_a = selected_a + get_stats_season(player_df, row_l['player'],1, row_l['wk'], 'selected')\n",
    "            elif row_l['category'] == 'Defender'and row_l['start11'] == True:\n",
    "                rating_a_df = rating_a_df + get_stats_season(player_df, row_l['player'],1, row_l['wk'], stat)\n",
    "                influence_a = influence_a + get_stats_season(player_df, row_l['player'],1, row_l['wk'], 'influence')\n",
    "                creativity_a = creativity_a + get_stats_season(player_df, row_l['player'],1, row_l['wk'], 'creativity')\n",
    "                threat_a = threat_a + get_stats_season(player_df, row_l['player'],1, row_l['wk'], 'threat')\n",
    "                bps_a = bps_a + get_stats_season(player_df, row_l['player'],1, row_l['wk'], 'bps')\n",
    "                selected_a = selected_a + get_stats_season(player_df, row_l['player'],1, row_l['wk'], 'selected')\n",
    "            elif row_l['category'] == 'Midfield'and row_l['start11'] == True:\n",
    "                rating_a_mf = rating_a_mf + get_stats_season(player_df, row_l['player'],1, row_l['wk'], stat)\n",
    "                influence_a = influence_a + get_stats_season(player_df, row_l['player'],1, row_l['wk'], 'influence')\n",
    "                creativity_a = creativity_a + get_stats_season(player_df, row_l['player'],1, row_l['wk'], 'creativity')\n",
    "                threat_a = threat_a + get_stats_season(player_df, row_l['player'],1, row_l['wk'], 'threat')\n",
    "                bps_a = bps_a + get_stats_season(player_df, row_l['player'],1, row_l['wk'], 'bps')\n",
    "                selected_a = selected_a + get_stats_season(player_df, row_l['player'],1, row_l['wk'], 'selected')\n",
    "            elif row_l['category'] == 'Forward'and row_l['start11'] == True:\n",
    "                rating_a_att = rating_a_att + get_stats_season(player_df, row_l['player'],1, row_l['wk'], stat)\n",
    "                influence_a = influence_a + get_stats_season(player_df, row_l['player'],1, row_l['wk'], 'influence')\n",
    "                creativity_a = creativity_a + get_stats_season(player_df, row_l['player'],1, row_l['wk'], 'creativity')\n",
    "                threat_a = threat_a + get_stats_season(player_df, row_l['player'],1, row_l['wk'], 'threat')\n",
    "                bps_a = bps_a + get_stats_season(player_df, row_l['player'],1, row_l['wk'], 'bps')\n",
    "                selected_a = selected_a + get_stats_season(player_df, row_l['player'],1, row_l['wk'], 'selected')\n",
    "        features.loc[index, 'rating_h_gk'] = rating_h_gk\n",
    "        features.loc[index, 'rating_h_df'] = rating_h_df\n",
    "        features.loc[index, 'rating_h_mf'] = rating_h_mf\n",
    "        features.loc[index, 'rating_h_att'] = rating_h_att\n",
    "        features.loc[index, 'rating_h_bench'] = rating_h_bench\n",
    "        features.loc[index, 'influence_h'] = influence_h\n",
    "        features.loc[index, 'creativity_h'] = creativity_h\n",
    "        features.loc[index, 'threat_h'] = threat_h\n",
    "        features.loc[index, 'influence_h'] = influence_h\n",
    "        features.loc[index, 'bps_h'] = bps_h\n",
    "        features.loc[index, 'selected_h'] = selected_h\n",
    "        features.loc[index, 'rating_a_gk'] = rating_a_gk\n",
    "        features.loc[index, 'rating_a_df'] = rating_a_df\n",
    "        features.loc[index, 'rating_a_mf'] = rating_a_mf\n",
    "        features.loc[index, 'rating_a_att'] = rating_a_att\n",
    "        features.loc[index, 'rating_a_bench'] = rating_a_bench\n",
    "        features.loc[index, 'influence_a'] = influence_a\n",
    "        features.loc[index, 'creativity_a'] = creativity_a\n",
    "        features.loc[index, 'threat_a'] = threat_a\n",
    "        features.loc[index, 'influence_a'] = influence_a\n",
    "        features.loc[index, 'bps_a'] = bps_a\n",
    "        features.loc[index, 'selected_a'] = selected_a\n",
    "        index = index +1\n",
    "        print(index)\n",
    "    return features\n",
    "\n",
    "\n",
    "player_ratings_19_a_09 = append_stats(test_fixtures, PL19_20_player_stats_tmp,PL19_20_lineups_tmp ,'rating')\n",
    "player_ratings_19_a_09\n",
    "#get_stats_season(player_df=PL21_22_player_stats_tmp, player='James Ward-Prowse', fr=1, to=2, stat='rating')\n",
    "#player_ratings_21_a_09 = append_stats(test_fixtures, PL21_22_player_stats_tmp,PL21_22_lineups_tmp ,'rating')\n",
    "#player_ratings_a_04 = append_stats(PL20_21_fixtures_tmp, PL20_21_player_stats_tmp, 'rating')\n",
    "#player_ratings_a_04"
   ],
   "metadata": {
    "collapsed": false,
    "pycharm": {
     "name": "#%%\n"
    }
   }
  },
  {
   "cell_type": "code",
   "execution_count": 122,
   "outputs": [
    {
     "data": {
      "text/plain": "                  player       team  matchweek        date  start11  \\\n0             David Raya  Brentford        1.0  2021-08-13     True   \n1             Rico Henry  Brentford        1.0  2021-08-13     True   \n2          Ethan Pinnock  Brentford        1.0  2021-08-13     True   \n3     Christian Nørgaard  Brentford        1.0  2021-08-13     True   \n4            Sergi Canós  Brentford        1.0  2021-08-13     True   \n...                  ...        ...        ...         ...      ...   \n7332  Christian Kabasele    Watford       38.0  2022-05-22     True   \n7333         Edo Kayembe    Watford       38.0  2022-05-22     True   \n7334         Adam Masina    Watford       38.0  2022-05-22    False   \n7335         Dan Gosling    Watford       38.0  2022-05-22    False   \n7336               Cucho    Watford       38.0  2022-05-22    False   \n\n                                  player_id              game_id  wk  \\\n0             David RayaBrentford2021-08-13  Brentford2021-08-13   1   \n1             Rico HenryBrentford2021-08-13  Brentford2021-08-13   1   \n2          Ethan PinnockBrentford2021-08-13  Brentford2021-08-13   1   \n3     Christian NørgaardBrentford2021-08-13  Brentford2021-08-13   1   \n4            Sergi CanósBrentford2021-08-13  Brentford2021-08-13   1   \n...                                     ...                  ...  ..   \n7332    Christian KabaseleWatford2022-05-22    Watford2022-05-22  38   \n7333           Edo KayembeWatford2022-05-22    Watford2022-05-22  38   \n7334           Adam MasinaWatford2022-05-22    Watford2022-05-22  38   \n7335           Dan GoslingWatford2022-05-22    Watford2022-05-22  38   \n7336                 CuchoWatford2022-05-22    Watford2022-05-22  38   \n\n        category  \n0     Goalkeeper  \n1       Defender  \n2       Defender  \n3       Midfield  \n4       Defender  \n...          ...  \n7332    Defender  \n7333    Midfield  \n7334    Defender  \n7335    Midfield  \n7336     Forward  \n\n[7337 rows x 9 columns]",
      "text/html": "<div>\n<style scoped>\n    .dataframe tbody tr th:only-of-type {\n        vertical-align: middle;\n    }\n\n    .dataframe tbody tr th {\n        vertical-align: top;\n    }\n\n    .dataframe thead th {\n        text-align: right;\n    }\n</style>\n<table border=\"1\" class=\"dataframe\">\n  <thead>\n    <tr style=\"text-align: right;\">\n      <th></th>\n      <th>player</th>\n      <th>team</th>\n      <th>matchweek</th>\n      <th>date</th>\n      <th>start11</th>\n      <th>player_id</th>\n      <th>game_id</th>\n      <th>wk</th>\n      <th>category</th>\n    </tr>\n  </thead>\n  <tbody>\n    <tr>\n      <th>0</th>\n      <td>David Raya</td>\n      <td>Brentford</td>\n      <td>1.0</td>\n      <td>2021-08-13</td>\n      <td>True</td>\n      <td>David RayaBrentford2021-08-13</td>\n      <td>Brentford2021-08-13</td>\n      <td>1</td>\n      <td>Goalkeeper</td>\n    </tr>\n    <tr>\n      <th>1</th>\n      <td>Rico Henry</td>\n      <td>Brentford</td>\n      <td>1.0</td>\n      <td>2021-08-13</td>\n      <td>True</td>\n      <td>Rico HenryBrentford2021-08-13</td>\n      <td>Brentford2021-08-13</td>\n      <td>1</td>\n      <td>Defender</td>\n    </tr>\n    <tr>\n      <th>2</th>\n      <td>Ethan Pinnock</td>\n      <td>Brentford</td>\n      <td>1.0</td>\n      <td>2021-08-13</td>\n      <td>True</td>\n      <td>Ethan PinnockBrentford2021-08-13</td>\n      <td>Brentford2021-08-13</td>\n      <td>1</td>\n      <td>Defender</td>\n    </tr>\n    <tr>\n      <th>3</th>\n      <td>Christian Nørgaard</td>\n      <td>Brentford</td>\n      <td>1.0</td>\n      <td>2021-08-13</td>\n      <td>True</td>\n      <td>Christian NørgaardBrentford2021-08-13</td>\n      <td>Brentford2021-08-13</td>\n      <td>1</td>\n      <td>Midfield</td>\n    </tr>\n    <tr>\n      <th>4</th>\n      <td>Sergi Canós</td>\n      <td>Brentford</td>\n      <td>1.0</td>\n      <td>2021-08-13</td>\n      <td>True</td>\n      <td>Sergi CanósBrentford2021-08-13</td>\n      <td>Brentford2021-08-13</td>\n      <td>1</td>\n      <td>Defender</td>\n    </tr>\n    <tr>\n      <th>...</th>\n      <td>...</td>\n      <td>...</td>\n      <td>...</td>\n      <td>...</td>\n      <td>...</td>\n      <td>...</td>\n      <td>...</td>\n      <td>...</td>\n      <td>...</td>\n    </tr>\n    <tr>\n      <th>7332</th>\n      <td>Christian Kabasele</td>\n      <td>Watford</td>\n      <td>38.0</td>\n      <td>2022-05-22</td>\n      <td>True</td>\n      <td>Christian KabaseleWatford2022-05-22</td>\n      <td>Watford2022-05-22</td>\n      <td>38</td>\n      <td>Defender</td>\n    </tr>\n    <tr>\n      <th>7333</th>\n      <td>Edo Kayembe</td>\n      <td>Watford</td>\n      <td>38.0</td>\n      <td>2022-05-22</td>\n      <td>True</td>\n      <td>Edo KayembeWatford2022-05-22</td>\n      <td>Watford2022-05-22</td>\n      <td>38</td>\n      <td>Midfield</td>\n    </tr>\n    <tr>\n      <th>7334</th>\n      <td>Adam Masina</td>\n      <td>Watford</td>\n      <td>38.0</td>\n      <td>2022-05-22</td>\n      <td>False</td>\n      <td>Adam MasinaWatford2022-05-22</td>\n      <td>Watford2022-05-22</td>\n      <td>38</td>\n      <td>Defender</td>\n    </tr>\n    <tr>\n      <th>7335</th>\n      <td>Dan Gosling</td>\n      <td>Watford</td>\n      <td>38.0</td>\n      <td>2022-05-22</td>\n      <td>False</td>\n      <td>Dan GoslingWatford2022-05-22</td>\n      <td>Watford2022-05-22</td>\n      <td>38</td>\n      <td>Midfield</td>\n    </tr>\n    <tr>\n      <th>7336</th>\n      <td>Cucho</td>\n      <td>Watford</td>\n      <td>38.0</td>\n      <td>2022-05-22</td>\n      <td>False</td>\n      <td>CuchoWatford2022-05-22</td>\n      <td>Watford2022-05-22</td>\n      <td>38</td>\n      <td>Forward</td>\n    </tr>\n  </tbody>\n</table>\n<p>7337 rows × 9 columns</p>\n</div>"
     },
     "execution_count": 122,
     "metadata": {},
     "output_type": "execute_result"
    }
   ],
   "source": [
    "PL21_22_lineups_tmp"
   ],
   "metadata": {
    "collapsed": false,
    "pycharm": {
     "name": "#%%\n"
    }
   }
  },
  {
   "cell_type": "code",
   "execution_count": 153,
   "outputs": [
    {
     "name": "stderr",
     "output_type": "stream",
     "text": [
      "C:\\Users\\giuli\\AppData\\Local\\Temp\\ipykernel_32576\\324412474.py:127: SettingWithCopyWarning: \n",
      "A value is trying to be set on a copy of a slice from a DataFrame.\n",
      "Try using .loc[row_indexer,col_indexer] = value instead\n",
      "\n",
      "See the caveats in the documentation: https://pandas.pydata.org/pandas-docs/stable/user_guide/indexing.html#returning-a-view-versus-a-copy\n",
      "  features.loc[index, 'rating_h_gk'] = rating_h_gk\n",
      "C:\\Users\\giuli\\AppData\\Local\\Temp\\ipykernel_32576\\324412474.py:128: SettingWithCopyWarning: \n",
      "A value is trying to be set on a copy of a slice from a DataFrame.\n",
      "Try using .loc[row_indexer,col_indexer] = value instead\n",
      "\n",
      "See the caveats in the documentation: https://pandas.pydata.org/pandas-docs/stable/user_guide/indexing.html#returning-a-view-versus-a-copy\n",
      "  features.loc[index, 'rating_h_df'] = rating_h_df\n",
      "C:\\Users\\giuli\\AppData\\Local\\Temp\\ipykernel_32576\\324412474.py:129: SettingWithCopyWarning: \n",
      "A value is trying to be set on a copy of a slice from a DataFrame.\n",
      "Try using .loc[row_indexer,col_indexer] = value instead\n",
      "\n",
      "See the caveats in the documentation: https://pandas.pydata.org/pandas-docs/stable/user_guide/indexing.html#returning-a-view-versus-a-copy\n",
      "  features.loc[index, 'rating_h_mf'] = rating_h_mf\n",
      "C:\\Users\\giuli\\AppData\\Local\\Temp\\ipykernel_32576\\324412474.py:130: SettingWithCopyWarning: \n",
      "A value is trying to be set on a copy of a slice from a DataFrame.\n",
      "Try using .loc[row_indexer,col_indexer] = value instead\n",
      "\n",
      "See the caveats in the documentation: https://pandas.pydata.org/pandas-docs/stable/user_guide/indexing.html#returning-a-view-versus-a-copy\n",
      "  features.loc[index, 'rating_h_att'] = rating_h_att\n",
      "C:\\Users\\giuli\\AppData\\Local\\Temp\\ipykernel_32576\\324412474.py:131: SettingWithCopyWarning: \n",
      "A value is trying to be set on a copy of a slice from a DataFrame.\n",
      "Try using .loc[row_indexer,col_indexer] = value instead\n",
      "\n",
      "See the caveats in the documentation: https://pandas.pydata.org/pandas-docs/stable/user_guide/indexing.html#returning-a-view-versus-a-copy\n",
      "  features.loc[index, 'rating_h_bench'] = rating_h_bench\n",
      "C:\\Users\\giuli\\AppData\\Local\\Temp\\ipykernel_32576\\324412474.py:132: SettingWithCopyWarning: \n",
      "A value is trying to be set on a copy of a slice from a DataFrame.\n",
      "Try using .loc[row_indexer,col_indexer] = value instead\n",
      "\n",
      "See the caveats in the documentation: https://pandas.pydata.org/pandas-docs/stable/user_guide/indexing.html#returning-a-view-versus-a-copy\n",
      "  features.loc[index, 'influence_h'] = influence_h\n",
      "C:\\Users\\giuli\\AppData\\Local\\Temp\\ipykernel_32576\\324412474.py:133: SettingWithCopyWarning: \n",
      "A value is trying to be set on a copy of a slice from a DataFrame.\n",
      "Try using .loc[row_indexer,col_indexer] = value instead\n",
      "\n",
      "See the caveats in the documentation: https://pandas.pydata.org/pandas-docs/stable/user_guide/indexing.html#returning-a-view-versus-a-copy\n",
      "  features.loc[index, 'creativity_h'] = creativity_h\n",
      "C:\\Users\\giuli\\AppData\\Local\\Temp\\ipykernel_32576\\324412474.py:134: SettingWithCopyWarning: \n",
      "A value is trying to be set on a copy of a slice from a DataFrame.\n",
      "Try using .loc[row_indexer,col_indexer] = value instead\n",
      "\n",
      "See the caveats in the documentation: https://pandas.pydata.org/pandas-docs/stable/user_guide/indexing.html#returning-a-view-versus-a-copy\n",
      "  features.loc[index, 'threat_h'] = threat_h\n",
      "C:\\Users\\giuli\\AppData\\Local\\Temp\\ipykernel_32576\\324412474.py:136: SettingWithCopyWarning: \n",
      "A value is trying to be set on a copy of a slice from a DataFrame.\n",
      "Try using .loc[row_indexer,col_indexer] = value instead\n",
      "\n",
      "See the caveats in the documentation: https://pandas.pydata.org/pandas-docs/stable/user_guide/indexing.html#returning-a-view-versus-a-copy\n",
      "  features.loc[index, 'bps_h'] = bps_h\n",
      "C:\\Users\\giuli\\AppData\\Local\\Temp\\ipykernel_32576\\324412474.py:137: SettingWithCopyWarning: \n",
      "A value is trying to be set on a copy of a slice from a DataFrame.\n",
      "Try using .loc[row_indexer,col_indexer] = value instead\n",
      "\n",
      "See the caveats in the documentation: https://pandas.pydata.org/pandas-docs/stable/user_guide/indexing.html#returning-a-view-versus-a-copy\n",
      "  features.loc[index, 'selected_h'] = selected_h\n",
      "C:\\Users\\giuli\\AppData\\Local\\Temp\\ipykernel_32576\\324412474.py:138: SettingWithCopyWarning: \n",
      "A value is trying to be set on a copy of a slice from a DataFrame.\n",
      "Try using .loc[row_indexer,col_indexer] = value instead\n",
      "\n",
      "See the caveats in the documentation: https://pandas.pydata.org/pandas-docs/stable/user_guide/indexing.html#returning-a-view-versus-a-copy\n",
      "  features.loc[index, 'rating_a_gk'] = rating_a_gk\n",
      "C:\\Users\\giuli\\AppData\\Local\\Temp\\ipykernel_32576\\324412474.py:139: SettingWithCopyWarning: \n",
      "A value is trying to be set on a copy of a slice from a DataFrame.\n",
      "Try using .loc[row_indexer,col_indexer] = value instead\n",
      "\n",
      "See the caveats in the documentation: https://pandas.pydata.org/pandas-docs/stable/user_guide/indexing.html#returning-a-view-versus-a-copy\n",
      "  features.loc[index, 'rating_a_df'] = rating_a_df\n",
      "C:\\Users\\giuli\\AppData\\Local\\Temp\\ipykernel_32576\\324412474.py:140: SettingWithCopyWarning: \n",
      "A value is trying to be set on a copy of a slice from a DataFrame.\n",
      "Try using .loc[row_indexer,col_indexer] = value instead\n",
      "\n",
      "See the caveats in the documentation: https://pandas.pydata.org/pandas-docs/stable/user_guide/indexing.html#returning-a-view-versus-a-copy\n",
      "  features.loc[index, 'rating_a_mf'] = rating_a_mf\n",
      "C:\\Users\\giuli\\AppData\\Local\\Temp\\ipykernel_32576\\324412474.py:141: SettingWithCopyWarning: \n",
      "A value is trying to be set on a copy of a slice from a DataFrame.\n",
      "Try using .loc[row_indexer,col_indexer] = value instead\n",
      "\n",
      "See the caveats in the documentation: https://pandas.pydata.org/pandas-docs/stable/user_guide/indexing.html#returning-a-view-versus-a-copy\n",
      "  features.loc[index, 'rating_a_att'] = rating_a_att\n",
      "C:\\Users\\giuli\\AppData\\Local\\Temp\\ipykernel_32576\\324412474.py:142: SettingWithCopyWarning: \n",
      "A value is trying to be set on a copy of a slice from a DataFrame.\n",
      "Try using .loc[row_indexer,col_indexer] = value instead\n",
      "\n",
      "See the caveats in the documentation: https://pandas.pydata.org/pandas-docs/stable/user_guide/indexing.html#returning-a-view-versus-a-copy\n",
      "  features.loc[index, 'rating_a_bench'] = rating_a_bench\n",
      "C:\\Users\\giuli\\AppData\\Local\\Temp\\ipykernel_32576\\324412474.py:143: SettingWithCopyWarning: \n",
      "A value is trying to be set on a copy of a slice from a DataFrame.\n",
      "Try using .loc[row_indexer,col_indexer] = value instead\n",
      "\n",
      "See the caveats in the documentation: https://pandas.pydata.org/pandas-docs/stable/user_guide/indexing.html#returning-a-view-versus-a-copy\n",
      "  features.loc[index, 'influence_a'] = influence_a\n",
      "C:\\Users\\giuli\\AppData\\Local\\Temp\\ipykernel_32576\\324412474.py:144: SettingWithCopyWarning: \n",
      "A value is trying to be set on a copy of a slice from a DataFrame.\n",
      "Try using .loc[row_indexer,col_indexer] = value instead\n",
      "\n",
      "See the caveats in the documentation: https://pandas.pydata.org/pandas-docs/stable/user_guide/indexing.html#returning-a-view-versus-a-copy\n",
      "  features.loc[index, 'creativity_a'] = creativity_a\n",
      "C:\\Users\\giuli\\AppData\\Local\\Temp\\ipykernel_32576\\324412474.py:145: SettingWithCopyWarning: \n",
      "A value is trying to be set on a copy of a slice from a DataFrame.\n",
      "Try using .loc[row_indexer,col_indexer] = value instead\n",
      "\n",
      "See the caveats in the documentation: https://pandas.pydata.org/pandas-docs/stable/user_guide/indexing.html#returning-a-view-versus-a-copy\n",
      "  features.loc[index, 'threat_a'] = threat_a\n",
      "C:\\Users\\giuli\\AppData\\Local\\Temp\\ipykernel_32576\\324412474.py:147: SettingWithCopyWarning: \n",
      "A value is trying to be set on a copy of a slice from a DataFrame.\n",
      "Try using .loc[row_indexer,col_indexer] = value instead\n",
      "\n",
      "See the caveats in the documentation: https://pandas.pydata.org/pandas-docs/stable/user_guide/indexing.html#returning-a-view-versus-a-copy\n",
      "  features.loc[index, 'bps_a'] = bps_a\n",
      "C:\\Users\\giuli\\AppData\\Local\\Temp\\ipykernel_32576\\324412474.py:148: SettingWithCopyWarning: \n",
      "A value is trying to be set on a copy of a slice from a DataFrame.\n",
      "Try using .loc[row_indexer,col_indexer] = value instead\n",
      "\n",
      "See the caveats in the documentation: https://pandas.pydata.org/pandas-docs/stable/user_guide/indexing.html#returning-a-view-versus-a-copy\n",
      "  features.loc[index, 'selected_a'] = selected_a\n"
     ]
    },
    {
     "name": "stdout",
     "output_type": "stream",
     "text": [
      "1\n",
      "2\n",
      "3\n",
      "4\n",
      "5\n",
      "6\n",
      "7\n",
      "8\n",
      "9\n",
      "10\n",
      "11\n",
      "12\n",
      "13\n",
      "14\n",
      "15\n",
      "16\n",
      "17\n",
      "18\n",
      "19\n",
      "20\n",
      "21\n",
      "22\n",
      "23\n",
      "24\n",
      "25\n",
      "26\n",
      "27\n",
      "28\n",
      "29\n",
      "30\n",
      "31\n",
      "32\n",
      "33\n",
      "34\n",
      "35\n",
      "36\n",
      "37\n",
      "38\n",
      "39\n",
      "40\n",
      "41\n",
      "42\n",
      "43\n",
      "44\n",
      "45\n",
      "46\n",
      "47\n",
      "48\n",
      "49\n",
      "50\n",
      "51\n",
      "52\n",
      "53\n",
      "54\n",
      "55\n",
      "56\n",
      "57\n",
      "58\n",
      "59\n",
      "60\n",
      "61\n",
      "62\n",
      "63\n",
      "64\n",
      "65\n",
      "66\n",
      "67\n",
      "68\n",
      "69\n",
      "70\n",
      "71\n",
      "72\n",
      "73\n",
      "74\n",
      "75\n",
      "76\n",
      "77\n",
      "78\n",
      "79\n",
      "80\n",
      "81\n",
      "82\n",
      "83\n",
      "84\n",
      "85\n",
      "86\n",
      "87\n",
      "88\n",
      "89\n",
      "90\n",
      "91\n",
      "92\n",
      "93\n",
      "94\n",
      "95\n",
      "96\n",
      "97\n",
      "98\n",
      "99\n",
      "100\n",
      "101\n",
      "102\n",
      "103\n",
      "104\n",
      "105\n",
      "106\n",
      "107\n",
      "108\n",
      "109\n",
      "110\n",
      "111\n",
      "112\n",
      "113\n",
      "114\n",
      "115\n",
      "116\n",
      "117\n",
      "118\n",
      "119\n",
      "120\n",
      "121\n",
      "122\n",
      "123\n",
      "124\n",
      "125\n",
      "126\n",
      "127\n",
      "128\n",
      "129\n",
      "130\n",
      "131\n",
      "132\n",
      "133\n",
      "134\n",
      "135\n",
      "136\n",
      "137\n",
      "138\n",
      "139\n",
      "140\n",
      "141\n",
      "142\n",
      "143\n",
      "144\n",
      "145\n",
      "146\n",
      "147\n",
      "148\n",
      "149\n",
      "150\n",
      "151\n",
      "152\n",
      "153\n",
      "154\n",
      "155\n",
      "156\n",
      "157\n",
      "158\n",
      "159\n",
      "160\n",
      "161\n",
      "162\n",
      "163\n",
      "164\n",
      "165\n",
      "166\n",
      "167\n",
      "168\n",
      "169\n",
      "170\n",
      "171\n",
      "172\n",
      "173\n",
      "174\n",
      "175\n",
      "176\n",
      "177\n",
      "178\n",
      "179\n",
      "180\n",
      "181\n",
      "182\n",
      "183\n",
      "184\n",
      "185\n",
      "186\n",
      "187\n",
      "188\n",
      "189\n",
      "190\n",
      "191\n",
      "192\n",
      "193\n",
      "194\n",
      "195\n",
      "196\n",
      "197\n",
      "198\n",
      "199\n",
      "200\n",
      "201\n",
      "202\n",
      "203\n",
      "204\n",
      "205\n",
      "206\n",
      "207\n",
      "208\n",
      "209\n",
      "210\n",
      "211\n",
      "212\n",
      "213\n",
      "214\n",
      "215\n",
      "216\n",
      "217\n",
      "218\n",
      "219\n",
      "220\n",
      "221\n",
      "222\n",
      "223\n",
      "224\n",
      "225\n",
      "226\n",
      "227\n",
      "228\n",
      "229\n",
      "230\n",
      "231\n",
      "232\n",
      "233\n",
      "234\n",
      "235\n",
      "236\n",
      "237\n",
      "238\n",
      "239\n",
      "240\n",
      "241\n",
      "242\n",
      "243\n",
      "244\n",
      "245\n",
      "246\n",
      "247\n",
      "248\n",
      "249\n",
      "250\n",
      "251\n",
      "252\n",
      "253\n",
      "254\n",
      "255\n",
      "256\n",
      "257\n",
      "258\n",
      "259\n",
      "260\n",
      "261\n",
      "262\n",
      "263\n",
      "264\n",
      "265\n",
      "266\n",
      "267\n",
      "268\n",
      "269\n",
      "270\n",
      "271\n",
      "272\n",
      "273\n",
      "274\n",
      "275\n",
      "276\n",
      "277\n",
      "278\n",
      "279\n",
      "280\n",
      "281\n",
      "282\n",
      "283\n",
      "284\n",
      "285\n",
      "286\n",
      "287\n",
      "288\n",
      "289\n",
      "290\n",
      "291\n",
      "292\n",
      "293\n",
      "294\n",
      "295\n",
      "296\n",
      "297\n",
      "298\n",
      "299\n",
      "300\n",
      "301\n",
      "302\n",
      "303\n",
      "304\n",
      "305\n",
      "306\n",
      "307\n",
      "308\n",
      "309\n",
      "310\n",
      "311\n",
      "312\n",
      "313\n",
      "314\n",
      "315\n",
      "316\n",
      "317\n",
      "318\n",
      "319\n",
      "320\n",
      "321\n",
      "322\n",
      "323\n",
      "324\n",
      "325\n",
      "326\n",
      "327\n",
      "328\n",
      "329\n",
      "330\n",
      "331\n",
      "332\n",
      "333\n",
      "334\n",
      "335\n",
      "336\n",
      "337\n",
      "338\n",
      "339\n",
      "340\n",
      "341\n",
      "342\n",
      "343\n",
      "344\n",
      "345\n",
      "346\n",
      "347\n",
      "348\n",
      "349\n",
      "350\n",
      "351\n",
      "352\n",
      "353\n",
      "354\n",
      "355\n",
      "356\n",
      "357\n",
      "358\n",
      "359\n",
      "360\n",
      "361\n",
      "362\n",
      "363\n",
      "364\n",
      "365\n",
      "366\n",
      "367\n",
      "368\n",
      "369\n",
      "370\n",
      "371\n",
      "372\n",
      "373\n",
      "374\n",
      "375\n",
      "376\n",
      "377\n",
      "378\n",
      "379\n",
      "380\n",
      "CPU times: total: 21min 58s\n",
      "Wall time: 28min 20s\n"
     ]
    },
    {
     "data": {
      "text/plain": "           Date   Time         HomeTeam         AwayTeam  FTHG  FTAG FTR  \\\n0    2019-08-09  20:00        Liverpool     Norwich City     4     1   H   \n1    2019-08-10  12:30         West Ham  Manchester City     0     5   A   \n2    2019-08-10  15:00      Bournemouth    Sheffield Utd     1     1   D   \n3    2019-08-10  15:00          Burnley      Southampton     3     0   H   \n4    2019-08-10  15:00   Crystal Palace          Everton     0     0   D   \n..          ...    ...              ...              ...   ...   ...  ..   \n375  2020-07-26  16:00   Leicester City   Manchester Utd     0     2   A   \n376  2020-07-26  16:00  Manchester City     Norwich City     5     0   H   \n377  2020-07-26  16:00    Newcastle Utd        Liverpool     1     3   A   \n378  2020-07-26  16:00      Southampton    Sheffield Utd     3     1   H   \n379  2020-07-26  16:00         West Ham      Aston Villa     1     1   D   \n\n                  game_home_ID               game_away_ID  Wk_h  ...  \\\n0          Liverpool2019-08-09     Norwich City2019-08-09     1  ...   \n1           West Ham2019-08-10  Manchester City2019-08-10     1  ...   \n2        Bournemouth2019-08-10    Sheffield Utd2019-08-10     1  ...   \n3            Burnley2019-08-10      Southampton2019-08-10     1  ...   \n4     Crystal Palace2019-08-10          Everton2019-08-10     1  ...   \n..                         ...                        ...   ...  ...   \n375   Leicester City2020-07-26   Manchester Utd2020-07-26    38  ...   \n376  Manchester City2020-07-26     Norwich City2020-07-26    38  ...   \n377    Newcastle Utd2020-07-26        Liverpool2020-07-26    38  ...   \n378      Southampton2020-07-26    Sheffield Utd2020-07-26    38  ...   \n379         West Ham2020-07-26      Aston Villa2020-07-26    38  ...   \n\n     rating_a_gk  rating_a_df  rating_a_mf  rating_a_att  rating_a_bench  \\\n0       0.000000     0.000000     0.000000      0.000000        0.000000   \n1       0.000000     0.000000     0.000000      0.000000        0.000000   \n2       0.000000     0.000000     0.000000      0.000000        0.000000   \n3       0.000000     0.000000     0.000000      0.000000        0.000000   \n4       0.000000     0.000000     0.000000      0.000000        0.000000   \n..           ...          ...          ...           ...             ...   \n375    44.878377   125.328355    82.058080     95.169343       16.465348   \n376    71.536143    65.295611    18.807222     24.109720        1.247658   \n377    30.367880    82.832827    29.967888     36.093452      112.991424   \n378    32.532346   109.916893    34.627228      8.350710       10.322622   \n379    30.324161    57.533583    85.449618      5.860455        8.587638   \n\n     influence_a  creativity_a    threat_a       bps_a    selected_a  \n0       0.000000      0.000000    0.000000    0.000000  0.000000e+00  \n1       0.000000      0.000000    0.000000    0.000000  0.000000e+00  \n2       0.000000      0.000000    0.000000    0.000000  0.000000e+00  \n3       0.000000      0.000000    0.000000    0.000000  0.000000e+00  \n4       0.000000      0.000000    0.000000    0.000000  0.000000e+00  \n..           ...           ...         ...         ...           ...  \n375   185.716676    162.738526  131.698812  147.621855  1.135137e+07  \n376   143.394024     36.751759   52.108123   85.002512  1.432319e+06  \n377   191.264384     55.381715   77.869565  155.886248  6.034841e+06  \n378    93.912235     96.580645   77.492461   94.975871  5.663213e+06  \n379   169.115761     89.760868   93.332035  188.377490  2.098464e+06  \n\n[380 rows x 31 columns]",
      "text/html": "<div>\n<style scoped>\n    .dataframe tbody tr th:only-of-type {\n        vertical-align: middle;\n    }\n\n    .dataframe tbody tr th {\n        vertical-align: top;\n    }\n\n    .dataframe thead th {\n        text-align: right;\n    }\n</style>\n<table border=\"1\" class=\"dataframe\">\n  <thead>\n    <tr style=\"text-align: right;\">\n      <th></th>\n      <th>Date</th>\n      <th>Time</th>\n      <th>HomeTeam</th>\n      <th>AwayTeam</th>\n      <th>FTHG</th>\n      <th>FTAG</th>\n      <th>FTR</th>\n      <th>game_home_ID</th>\n      <th>game_away_ID</th>\n      <th>Wk_h</th>\n      <th>...</th>\n      <th>rating_a_gk</th>\n      <th>rating_a_df</th>\n      <th>rating_a_mf</th>\n      <th>rating_a_att</th>\n      <th>rating_a_bench</th>\n      <th>influence_a</th>\n      <th>creativity_a</th>\n      <th>threat_a</th>\n      <th>bps_a</th>\n      <th>selected_a</th>\n    </tr>\n  </thead>\n  <tbody>\n    <tr>\n      <th>0</th>\n      <td>2019-08-09</td>\n      <td>20:00</td>\n      <td>Liverpool</td>\n      <td>Norwich City</td>\n      <td>4</td>\n      <td>1</td>\n      <td>H</td>\n      <td>Liverpool2019-08-09</td>\n      <td>Norwich City2019-08-09</td>\n      <td>1</td>\n      <td>...</td>\n      <td>0.000000</td>\n      <td>0.000000</td>\n      <td>0.000000</td>\n      <td>0.000000</td>\n      <td>0.000000</td>\n      <td>0.000000</td>\n      <td>0.000000</td>\n      <td>0.000000</td>\n      <td>0.000000</td>\n      <td>0.000000e+00</td>\n    </tr>\n    <tr>\n      <th>1</th>\n      <td>2019-08-10</td>\n      <td>12:30</td>\n      <td>West Ham</td>\n      <td>Manchester City</td>\n      <td>0</td>\n      <td>5</td>\n      <td>A</td>\n      <td>West Ham2019-08-10</td>\n      <td>Manchester City2019-08-10</td>\n      <td>1</td>\n      <td>...</td>\n      <td>0.000000</td>\n      <td>0.000000</td>\n      <td>0.000000</td>\n      <td>0.000000</td>\n      <td>0.000000</td>\n      <td>0.000000</td>\n      <td>0.000000</td>\n      <td>0.000000</td>\n      <td>0.000000</td>\n      <td>0.000000e+00</td>\n    </tr>\n    <tr>\n      <th>2</th>\n      <td>2019-08-10</td>\n      <td>15:00</td>\n      <td>Bournemouth</td>\n      <td>Sheffield Utd</td>\n      <td>1</td>\n      <td>1</td>\n      <td>D</td>\n      <td>Bournemouth2019-08-10</td>\n      <td>Sheffield Utd2019-08-10</td>\n      <td>1</td>\n      <td>...</td>\n      <td>0.000000</td>\n      <td>0.000000</td>\n      <td>0.000000</td>\n      <td>0.000000</td>\n      <td>0.000000</td>\n      <td>0.000000</td>\n      <td>0.000000</td>\n      <td>0.000000</td>\n      <td>0.000000</td>\n      <td>0.000000e+00</td>\n    </tr>\n    <tr>\n      <th>3</th>\n      <td>2019-08-10</td>\n      <td>15:00</td>\n      <td>Burnley</td>\n      <td>Southampton</td>\n      <td>3</td>\n      <td>0</td>\n      <td>H</td>\n      <td>Burnley2019-08-10</td>\n      <td>Southampton2019-08-10</td>\n      <td>1</td>\n      <td>...</td>\n      <td>0.000000</td>\n      <td>0.000000</td>\n      <td>0.000000</td>\n      <td>0.000000</td>\n      <td>0.000000</td>\n      <td>0.000000</td>\n      <td>0.000000</td>\n      <td>0.000000</td>\n      <td>0.000000</td>\n      <td>0.000000e+00</td>\n    </tr>\n    <tr>\n      <th>4</th>\n      <td>2019-08-10</td>\n      <td>15:00</td>\n      <td>Crystal Palace</td>\n      <td>Everton</td>\n      <td>0</td>\n      <td>0</td>\n      <td>D</td>\n      <td>Crystal Palace2019-08-10</td>\n      <td>Everton2019-08-10</td>\n      <td>1</td>\n      <td>...</td>\n      <td>0.000000</td>\n      <td>0.000000</td>\n      <td>0.000000</td>\n      <td>0.000000</td>\n      <td>0.000000</td>\n      <td>0.000000</td>\n      <td>0.000000</td>\n      <td>0.000000</td>\n      <td>0.000000</td>\n      <td>0.000000e+00</td>\n    </tr>\n    <tr>\n      <th>...</th>\n      <td>...</td>\n      <td>...</td>\n      <td>...</td>\n      <td>...</td>\n      <td>...</td>\n      <td>...</td>\n      <td>...</td>\n      <td>...</td>\n      <td>...</td>\n      <td>...</td>\n      <td>...</td>\n      <td>...</td>\n      <td>...</td>\n      <td>...</td>\n      <td>...</td>\n      <td>...</td>\n      <td>...</td>\n      <td>...</td>\n      <td>...</td>\n      <td>...</td>\n      <td>...</td>\n    </tr>\n    <tr>\n      <th>375</th>\n      <td>2020-07-26</td>\n      <td>16:00</td>\n      <td>Leicester City</td>\n      <td>Manchester Utd</td>\n      <td>0</td>\n      <td>2</td>\n      <td>A</td>\n      <td>Leicester City2020-07-26</td>\n      <td>Manchester Utd2020-07-26</td>\n      <td>38</td>\n      <td>...</td>\n      <td>44.878377</td>\n      <td>125.328355</td>\n      <td>82.058080</td>\n      <td>95.169343</td>\n      <td>16.465348</td>\n      <td>185.716676</td>\n      <td>162.738526</td>\n      <td>131.698812</td>\n      <td>147.621855</td>\n      <td>1.135137e+07</td>\n    </tr>\n    <tr>\n      <th>376</th>\n      <td>2020-07-26</td>\n      <td>16:00</td>\n      <td>Manchester City</td>\n      <td>Norwich City</td>\n      <td>5</td>\n      <td>0</td>\n      <td>H</td>\n      <td>Manchester City2020-07-26</td>\n      <td>Norwich City2020-07-26</td>\n      <td>38</td>\n      <td>...</td>\n      <td>71.536143</td>\n      <td>65.295611</td>\n      <td>18.807222</td>\n      <td>24.109720</td>\n      <td>1.247658</td>\n      <td>143.394024</td>\n      <td>36.751759</td>\n      <td>52.108123</td>\n      <td>85.002512</td>\n      <td>1.432319e+06</td>\n    </tr>\n    <tr>\n      <th>377</th>\n      <td>2020-07-26</td>\n      <td>16:00</td>\n      <td>Newcastle Utd</td>\n      <td>Liverpool</td>\n      <td>1</td>\n      <td>3</td>\n      <td>A</td>\n      <td>Newcastle Utd2020-07-26</td>\n      <td>Liverpool2020-07-26</td>\n      <td>38</td>\n      <td>...</td>\n      <td>30.367880</td>\n      <td>82.832827</td>\n      <td>29.967888</td>\n      <td>36.093452</td>\n      <td>112.991424</td>\n      <td>191.264384</td>\n      <td>55.381715</td>\n      <td>77.869565</td>\n      <td>155.886248</td>\n      <td>6.034841e+06</td>\n    </tr>\n    <tr>\n      <th>378</th>\n      <td>2020-07-26</td>\n      <td>16:00</td>\n      <td>Southampton</td>\n      <td>Sheffield Utd</td>\n      <td>3</td>\n      <td>1</td>\n      <td>H</td>\n      <td>Southampton2020-07-26</td>\n      <td>Sheffield Utd2020-07-26</td>\n      <td>38</td>\n      <td>...</td>\n      <td>32.532346</td>\n      <td>109.916893</td>\n      <td>34.627228</td>\n      <td>8.350710</td>\n      <td>10.322622</td>\n      <td>93.912235</td>\n      <td>96.580645</td>\n      <td>77.492461</td>\n      <td>94.975871</td>\n      <td>5.663213e+06</td>\n    </tr>\n    <tr>\n      <th>379</th>\n      <td>2020-07-26</td>\n      <td>16:00</td>\n      <td>West Ham</td>\n      <td>Aston Villa</td>\n      <td>1</td>\n      <td>1</td>\n      <td>D</td>\n      <td>West Ham2020-07-26</td>\n      <td>Aston Villa2020-07-26</td>\n      <td>38</td>\n      <td>...</td>\n      <td>30.324161</td>\n      <td>57.533583</td>\n      <td>85.449618</td>\n      <td>5.860455</td>\n      <td>8.587638</td>\n      <td>169.115761</td>\n      <td>89.760868</td>\n      <td>93.332035</td>\n      <td>188.377490</td>\n      <td>2.098464e+06</td>\n    </tr>\n  </tbody>\n</table>\n<p>380 rows × 31 columns</p>\n</div>"
     },
     "execution_count": 153,
     "metadata": {},
     "output_type": "execute_result"
    }
   ],
   "source": [
    "%%time\n",
    "player_ratings_19_a_09 = append_stats(PL19_20_fixtures_tmp, PL19_20_player_stats_tmp,PL19_20_lineups_tmp ,'rating')\n",
    "#player_ratings_21_a_09 = append_stats(PL21_22_fixtures_tmp, PL21_22_player_stats_tmp,PL21_22_lineups_tmp ,'rating')\n",
    "#player_ratings_19_a_09 = append_stats(PL20_21_fixtures_tmp, PL20_21_player_stats_tmp, 'rating')\n",
    "player_ratings_19_a_09"
   ],
   "metadata": {
    "collapsed": false,
    "pycharm": {
     "name": "#%%\n"
    }
   }
  },
  {
   "cell_type": "code",
   "execution_count": 154,
   "outputs": [],
   "source": [
    "player_ratings_19_a_09.to_csv('Data/2019-20/Players/player_ratings_19_a_09.csv')\n",
    "#player_ratings_21_a_09.to_csv('Data/2021-22/Players/player_ratings_21_a_09.csv')"
   ],
   "metadata": {
    "collapsed": false,
    "pycharm": {
     "name": "#%%\n"
    }
   }
  },
  {
   "cell_type": "code",
   "execution_count": 89,
   "outputs": [],
   "source": [
    "#import player ratings for 2020 to find best alpha\n",
    "player_ratings_a_01 = pd.read_csv('Data/2020-21/Players/player_ratings_a_01.csv')\n",
    "player_ratings_a_02 = pd.read_csv('Data/2020-21/Players/player_ratings_a_02.csv')\n",
    "player_ratings_a_03 = pd.read_csv('Data/2020-21/Players/player_ratings_a_03.csv')\n",
    "player_ratings_a_04 = pd.read_csv('Data/2020-21/Players/player_ratings_a_04.csv')\n",
    "player_ratings_a_05 = pd.read_csv('Data/2020-21/Players/player_ratings_a_05.csv')\n",
    "player_ratings_a_06 = pd.read_csv('Data/2020-21/Players/player_ratings_a_06.csv')\n",
    "player_ratings_a_07 = pd.read_csv('Data/2020-21/Players/player_ratings_a_07.csv')\n",
    "player_ratings_a_08 = pd.read_csv('Data/2020-21/Players/player_ratings_a_08.csv')\n",
    "player_ratings_a_09 = pd.read_csv('Data/2020-21/Players/player_ratings_a_09.csv')\n",
    "\n",
    "player_ratings_a_01.replace(['Brighton & Hove Albion','Manchester United', 'Newcastle United', 'Sheffield United', 'Tottenham Hotspur', 'West Bromwich Albion', 'West Ham United','Wolverhampton Wanderers'], ['Brighton', 'Manchester Utd','Newcastle Utd', 'Sheffield Utd', 'Tottenham','West Brom' ,'West Ham', 'Wolves'], inplace=True)\n",
    "player_ratings_a_01['game_home_ID'] = player_ratings_a_01['HomeTeam'] + player_ratings_a_01['Date']\n",
    "player_ratings_a_01['game_away_ID'] = player_ratings_a_01['AwayTeam'] + player_ratings_a_01['Date']\n",
    "player_ratings_a_02.replace(['Brighton & Hove Albion','Manchester United', 'Newcastle United', 'Sheffield United', 'Tottenham Hotspur', 'West Bromwich Albion', 'West Ham United','Wolverhampton Wanderers'], ['Brighton', 'Manchester Utd','Newcastle Utd', 'Sheffield Utd', 'Tottenham','West Brom' ,'West Ham', 'Wolves'], inplace=True)\n",
    "player_ratings_a_02['game_home_ID'] = player_ratings_a_02['HomeTeam'] + player_ratings_a_02['Date']\n",
    "player_ratings_a_02['game_away_ID'] = player_ratings_a_02['AwayTeam'] + player_ratings_a_02['Date']\n",
    "player_ratings_a_03.replace(['Brighton & Hove Albion','Manchester United', 'Newcastle United', 'Sheffield United', 'Tottenham Hotspur', 'West Bromwich Albion', 'West Ham United','Wolverhampton Wanderers'], ['Brighton', 'Manchester Utd','Newcastle Utd', 'Sheffield Utd', 'Tottenham','West Brom' ,'West Ham', 'Wolves'], inplace=True)\n",
    "player_ratings_a_03['game_home_ID'] = player_ratings_a_03['HomeTeam'] + player_ratings_a_03['Date']\n",
    "player_ratings_a_03['game_away_ID'] = player_ratings_a_03['AwayTeam'] + player_ratings_a_03['Date']\n",
    "player_ratings_a_09.replace(['Brighton & Hove Albion','Manchester United', 'Newcastle United', 'Sheffield United', 'Tottenham Hotspur', 'West Bromwich Albion', 'West Ham United','Wolverhampton Wanderers'], ['Brighton', 'Manchester Utd','Newcastle Utd', 'Sheffield Utd', 'Tottenham','West Brom' ,'West Ham', 'Wolves'], inplace=True)\n",
    "player_ratings_a_09['game_home_ID'] = player_ratings_a_09['HomeTeam'] + player_ratings_a_09['Date']\n",
    "player_ratings_a_09['game_away_ID'] = player_ratings_a_09['AwayTeam'] + player_ratings_a_09['Date']\n",
    "player_ratings_a_04.replace(['Brighton & Hove Albion','Manchester United', 'Newcastle United', 'Sheffield United', 'Tottenham Hotspur', 'West Bromwich Albion', 'West Ham United','Wolverhampton Wanderers'], ['Brighton', 'Manchester Utd','Newcastle Utd', 'Sheffield Utd', 'Tottenham','West Brom' ,'West Ham', 'Wolves'], inplace=True)\n",
    "player_ratings_a_04['game_home_ID'] = player_ratings_a_04['HomeTeam'] + player_ratings_a_04['Date']\n",
    "player_ratings_a_04['game_away_ID'] = player_ratings_a_04['AwayTeam'] + player_ratings_a_04['Date']\n",
    "player_ratings_a_05.replace(['Brighton & Hove Albion','Manchester United', 'Newcastle United', 'Sheffield United', 'Tottenham Hotspur', 'West Bromwich Albion', 'West Ham United','Wolverhampton Wanderers'], ['Brighton', 'Manchester Utd','Newcastle Utd', 'Sheffield Utd', 'Tottenham','West Brom' ,'West Ham', 'Wolves'], inplace=True)\n",
    "player_ratings_a_05['game_home_ID'] = player_ratings_a_05['HomeTeam'] + player_ratings_a_05['Date']\n",
    "player_ratings_a_05['game_away_ID'] = player_ratings_a_05['AwayTeam'] + player_ratings_a_05['Date']\n",
    "player_ratings_a_06.replace(['Brighton & Hove Albion','Manchester United', 'Newcastle United', 'Sheffield United', 'Tottenham Hotspur', 'West Bromwich Albion', 'West Ham United','Wolverhampton Wanderers'], ['Brighton', 'Manchester Utd','Newcastle Utd', 'Sheffield Utd', 'Tottenham','West Brom' ,'West Ham', 'Wolves'], inplace=True)\n",
    "player_ratings_a_06['game_home_ID'] = player_ratings_a_06['HomeTeam'] + player_ratings_a_06['Date']\n",
    "player_ratings_a_06['game_away_ID'] = player_ratings_a_06['AwayTeam'] + player_ratings_a_06['Date']\n",
    "player_ratings_a_07.replace(['Brighton & Hove Albion','Manchester United', 'Newcastle United', 'Sheffield United', 'Tottenham Hotspur', 'West Bromwich Albion', 'West Ham United','Wolverhampton Wanderers'], ['Brighton', 'Manchester Utd','Newcastle Utd', 'Sheffield Utd', 'Tottenham','West Brom' ,'West Ham', 'Wolves'], inplace=True)\n",
    "player_ratings_a_07['game_home_ID'] = player_ratings_a_07['HomeTeam'] + player_ratings_a_07['Date']\n",
    "player_ratings_a_07['game_away_ID'] = player_ratings_a_07['AwayTeam'] + player_ratings_a_07['Date']\n",
    "player_ratings_a_08.replace(['Brighton & Hove Albion','Manchester United', 'Newcastle United', 'Sheffield United', 'Tottenham Hotspur', 'West Bromwich Albion', 'West Ham United','Wolverhampton Wanderers'], ['Brighton', 'Manchester Utd','Newcastle Utd', 'Sheffield Utd', 'Tottenham','West Brom' ,'West Ham', 'Wolves'], inplace=True)\n",
    "player_ratings_a_08['game_home_ID'] = player_ratings_a_08['HomeTeam'] + player_ratings_a_08['Date']\n",
    "player_ratings_a_08['game_away_ID'] = player_ratings_a_08['AwayTeam'] + player_ratings_a_08['Date']\n",
    "\n",
    "player_ratings_a_01 = player_ratings_a_01.add_suffix('_01')\n",
    "player_ratings_a_01 = player_ratings_a_01.rename(columns={'game_home_ID_01':'game_home_ID'})\n",
    "player_ratings_a_02 = player_ratings_a_02.add_suffix('_02')\n",
    "player_ratings_a_02 = player_ratings_a_02.rename(columns={'game_home_ID_02':'game_home_ID'})\n",
    "player_ratings_a_03 = player_ratings_a_03.add_suffix('_03')\n",
    "player_ratings_a_03 = player_ratings_a_03.rename(columns={'game_home_ID_03':'game_home_ID'})\n",
    "player_ratings_a_04 = player_ratings_a_04.add_suffix('_04')\n",
    "player_ratings_a_04 = player_ratings_a_04.rename(columns={'game_home_ID_04':'game_home_ID'})\n",
    "player_ratings_a_05 = player_ratings_a_05.add_suffix('_05')\n",
    "player_ratings_a_05 = player_ratings_a_05.rename(columns={'game_home_ID_05':'game_home_ID'})\n",
    "player_ratings_a_06 = player_ratings_a_06.add_suffix('_06')\n",
    "player_ratings_a_06 = player_ratings_a_06.rename(columns={'game_home_ID_06':'game_home_ID'})\n",
    "player_ratings_a_07 = player_ratings_a_07.add_suffix('_07')\n",
    "player_ratings_a_07 = player_ratings_a_07.rename(columns={'game_home_ID_07':'game_home_ID'})\n",
    "player_ratings_a_08 = player_ratings_a_08.add_suffix('_08')\n",
    "player_ratings_a_08 = player_ratings_a_08.rename(columns={'game_home_ID_08':'game_home_ID'})\n",
    "player_ratings_a_09 = player_ratings_a_09.add_suffix('_09')\n",
    "player_ratings_a_09 = player_ratings_a_09.rename(columns={'game_home_ID_09':'game_home_ID'})\n",
    "\n",
    "#import player ratings for other years\n",
    "player_ratings_19_a_09 = pd.read_csv('Data/2019-20/Players/player_ratings_19_a_09.csv')\n",
    "player_ratings_20_a_09 = pd.read_csv('Data/2020-21/Players/player_ratings_a_09.csv')\n",
    "player_ratings_19_a_09 = pd.read_csv('Data/2021-22/Players/player_ratings_21_a_09.csv')\n",
    "\n"
   ],
   "metadata": {
    "collapsed": false,
    "pycharm": {
     "name": "#%%\n"
    }
   }
  },
  {
   "cell_type": "code",
   "execution_count": 90,
   "outputs": [
    {
     "data": {
      "text/plain": "     Unnamed: 0 Div        Date   Time         HomeTeam        AwayTeam  FTHG  \\\n0             0  E0  2020-09-12  12:30           Fulham         Arsenal     0   \n1             1  E0  2020-09-12  15:00   Crystal Palace     Southampton     1   \n2             2  E0  2020-09-12  17:30        Liverpool    Leeds United     4   \n3             3  E0  2020-09-12  20:00         West Ham   Newcastle Utd     0   \n4             4  E0  2020-09-13  14:00        West Brom  Leicester City     0   \n..          ...  ..         ...    ...              ...             ...   ...   \n375         375  E0  2021-05-23  16:00        Liverpool  Crystal Palace     2   \n376         376  E0  2021-05-23  16:00  Manchester City         Everton     5   \n377         377  E0  2021-05-23  16:00    Sheffield Utd         Burnley     1   \n378         378  E0  2021-05-23  16:00         West Ham     Southampton     3   \n379         379  E0  2021-05-23  16:00           Wolves  Manchester Utd     1   \n\n     FTAG FTR  HTHG  ...  Elo_h_after Elo_a_after Elo_h_before  Elo_a_before  \\\n0       3   A     0  ...      1485.00     1515.00      1500.00       1500.00   \n1       0   H     1  ...      1515.00     1485.00      1500.00       1500.00   \n2       3   H     3  ...      1515.00     1485.00      1500.00       1500.00   \n3       2   A     0  ...      1485.00     1515.00      1500.00       1500.00   \n4       3   A     0  ...      1485.00     1515.00      1500.00       1500.00   \n..    ...  ..   ...  ...          ...         ...          ...           ...   \n375     0   H     1  ...      1591.89     1439.73      1582.38       1449.24   \n376     0   H     2  ...      1659.36     1508.70      1649.79       1518.27   \n377     0   H     1  ...      1358.16     1420.86      1338.90       1440.12   \n378     0   H     2  ...      1560.00     1420.08      1549.98       1430.10   \n379     2   A     1  ...      1443.72     1611.60      1452.60       1602.72   \n\n     goalsDifference  shotsDifference  cornersDifference  ewmDifference  \\\n0           0.000000         0.000000           0.000000       0.000000   \n1           0.000000         0.000000           0.000000       0.000000   \n2           0.000000         0.000000           0.000000       0.000000   \n3           0.000000         0.000000           0.000000       0.000000   \n4           0.000000         0.000000           0.000000       0.000000   \n..               ...              ...                ...            ...   \n375         2.500000        16.500000          12.833333      21.696989   \n376         2.166667         1.666667           6.000000      24.270973   \n377        -4.833333        -8.333333         -12.500000     -19.027000   \n378         2.833333        -3.500000          -6.666667      18.722710   \n379        -4.666667        -5.500000          -2.000000     -25.902790   \n\n     elo_difference  form_difference  \n0              0.00         0.000000  \n1              0.00         0.000000  \n2              0.00         0.000000  \n3              0.00         0.000000  \n4              0.00         0.000000  \n..              ...              ...  \n375          133.14         5.500000  \n376          131.52         1.666667  \n377         -101.22        -0.500000  \n378          119.88         2.500000  \n379         -150.12        -0.666667  \n\n[380 rows x 134 columns]",
      "text/html": "<div>\n<style scoped>\n    .dataframe tbody tr th:only-of-type {\n        vertical-align: middle;\n    }\n\n    .dataframe tbody tr th {\n        vertical-align: top;\n    }\n\n    .dataframe thead th {\n        text-align: right;\n    }\n</style>\n<table border=\"1\" class=\"dataframe\">\n  <thead>\n    <tr style=\"text-align: right;\">\n      <th></th>\n      <th>Unnamed: 0</th>\n      <th>Div</th>\n      <th>Date</th>\n      <th>Time</th>\n      <th>HomeTeam</th>\n      <th>AwayTeam</th>\n      <th>FTHG</th>\n      <th>FTAG</th>\n      <th>FTR</th>\n      <th>HTHG</th>\n      <th>...</th>\n      <th>Elo_h_after</th>\n      <th>Elo_a_after</th>\n      <th>Elo_h_before</th>\n      <th>Elo_a_before</th>\n      <th>goalsDifference</th>\n      <th>shotsDifference</th>\n      <th>cornersDifference</th>\n      <th>ewmDifference</th>\n      <th>elo_difference</th>\n      <th>form_difference</th>\n    </tr>\n  </thead>\n  <tbody>\n    <tr>\n      <th>0</th>\n      <td>0</td>\n      <td>E0</td>\n      <td>2020-09-12</td>\n      <td>12:30</td>\n      <td>Fulham</td>\n      <td>Arsenal</td>\n      <td>0</td>\n      <td>3</td>\n      <td>A</td>\n      <td>0</td>\n      <td>...</td>\n      <td>1485.00</td>\n      <td>1515.00</td>\n      <td>1500.00</td>\n      <td>1500.00</td>\n      <td>0.000000</td>\n      <td>0.000000</td>\n      <td>0.000000</td>\n      <td>0.000000</td>\n      <td>0.00</td>\n      <td>0.000000</td>\n    </tr>\n    <tr>\n      <th>1</th>\n      <td>1</td>\n      <td>E0</td>\n      <td>2020-09-12</td>\n      <td>15:00</td>\n      <td>Crystal Palace</td>\n      <td>Southampton</td>\n      <td>1</td>\n      <td>0</td>\n      <td>H</td>\n      <td>1</td>\n      <td>...</td>\n      <td>1515.00</td>\n      <td>1485.00</td>\n      <td>1500.00</td>\n      <td>1500.00</td>\n      <td>0.000000</td>\n      <td>0.000000</td>\n      <td>0.000000</td>\n      <td>0.000000</td>\n      <td>0.00</td>\n      <td>0.000000</td>\n    </tr>\n    <tr>\n      <th>2</th>\n      <td>2</td>\n      <td>E0</td>\n      <td>2020-09-12</td>\n      <td>17:30</td>\n      <td>Liverpool</td>\n      <td>Leeds United</td>\n      <td>4</td>\n      <td>3</td>\n      <td>H</td>\n      <td>3</td>\n      <td>...</td>\n      <td>1515.00</td>\n      <td>1485.00</td>\n      <td>1500.00</td>\n      <td>1500.00</td>\n      <td>0.000000</td>\n      <td>0.000000</td>\n      <td>0.000000</td>\n      <td>0.000000</td>\n      <td>0.00</td>\n      <td>0.000000</td>\n    </tr>\n    <tr>\n      <th>3</th>\n      <td>3</td>\n      <td>E0</td>\n      <td>2020-09-12</td>\n      <td>20:00</td>\n      <td>West Ham</td>\n      <td>Newcastle Utd</td>\n      <td>0</td>\n      <td>2</td>\n      <td>A</td>\n      <td>0</td>\n      <td>...</td>\n      <td>1485.00</td>\n      <td>1515.00</td>\n      <td>1500.00</td>\n      <td>1500.00</td>\n      <td>0.000000</td>\n      <td>0.000000</td>\n      <td>0.000000</td>\n      <td>0.000000</td>\n      <td>0.00</td>\n      <td>0.000000</td>\n    </tr>\n    <tr>\n      <th>4</th>\n      <td>4</td>\n      <td>E0</td>\n      <td>2020-09-13</td>\n      <td>14:00</td>\n      <td>West Brom</td>\n      <td>Leicester City</td>\n      <td>0</td>\n      <td>3</td>\n      <td>A</td>\n      <td>0</td>\n      <td>...</td>\n      <td>1485.00</td>\n      <td>1515.00</td>\n      <td>1500.00</td>\n      <td>1500.00</td>\n      <td>0.000000</td>\n      <td>0.000000</td>\n      <td>0.000000</td>\n      <td>0.000000</td>\n      <td>0.00</td>\n      <td>0.000000</td>\n    </tr>\n    <tr>\n      <th>...</th>\n      <td>...</td>\n      <td>...</td>\n      <td>...</td>\n      <td>...</td>\n      <td>...</td>\n      <td>...</td>\n      <td>...</td>\n      <td>...</td>\n      <td>...</td>\n      <td>...</td>\n      <td>...</td>\n      <td>...</td>\n      <td>...</td>\n      <td>...</td>\n      <td>...</td>\n      <td>...</td>\n      <td>...</td>\n      <td>...</td>\n      <td>...</td>\n      <td>...</td>\n      <td>...</td>\n    </tr>\n    <tr>\n      <th>375</th>\n      <td>375</td>\n      <td>E0</td>\n      <td>2021-05-23</td>\n      <td>16:00</td>\n      <td>Liverpool</td>\n      <td>Crystal Palace</td>\n      <td>2</td>\n      <td>0</td>\n      <td>H</td>\n      <td>1</td>\n      <td>...</td>\n      <td>1591.89</td>\n      <td>1439.73</td>\n      <td>1582.38</td>\n      <td>1449.24</td>\n      <td>2.500000</td>\n      <td>16.500000</td>\n      <td>12.833333</td>\n      <td>21.696989</td>\n      <td>133.14</td>\n      <td>5.500000</td>\n    </tr>\n    <tr>\n      <th>376</th>\n      <td>376</td>\n      <td>E0</td>\n      <td>2021-05-23</td>\n      <td>16:00</td>\n      <td>Manchester City</td>\n      <td>Everton</td>\n      <td>5</td>\n      <td>0</td>\n      <td>H</td>\n      <td>2</td>\n      <td>...</td>\n      <td>1659.36</td>\n      <td>1508.70</td>\n      <td>1649.79</td>\n      <td>1518.27</td>\n      <td>2.166667</td>\n      <td>1.666667</td>\n      <td>6.000000</td>\n      <td>24.270973</td>\n      <td>131.52</td>\n      <td>1.666667</td>\n    </tr>\n    <tr>\n      <th>377</th>\n      <td>377</td>\n      <td>E0</td>\n      <td>2021-05-23</td>\n      <td>16:00</td>\n      <td>Sheffield Utd</td>\n      <td>Burnley</td>\n      <td>1</td>\n      <td>0</td>\n      <td>H</td>\n      <td>1</td>\n      <td>...</td>\n      <td>1358.16</td>\n      <td>1420.86</td>\n      <td>1338.90</td>\n      <td>1440.12</td>\n      <td>-4.833333</td>\n      <td>-8.333333</td>\n      <td>-12.500000</td>\n      <td>-19.027000</td>\n      <td>-101.22</td>\n      <td>-0.500000</td>\n    </tr>\n    <tr>\n      <th>378</th>\n      <td>378</td>\n      <td>E0</td>\n      <td>2021-05-23</td>\n      <td>16:00</td>\n      <td>West Ham</td>\n      <td>Southampton</td>\n      <td>3</td>\n      <td>0</td>\n      <td>H</td>\n      <td>2</td>\n      <td>...</td>\n      <td>1560.00</td>\n      <td>1420.08</td>\n      <td>1549.98</td>\n      <td>1430.10</td>\n      <td>2.833333</td>\n      <td>-3.500000</td>\n      <td>-6.666667</td>\n      <td>18.722710</td>\n      <td>119.88</td>\n      <td>2.500000</td>\n    </tr>\n    <tr>\n      <th>379</th>\n      <td>379</td>\n      <td>E0</td>\n      <td>2021-05-23</td>\n      <td>16:00</td>\n      <td>Wolves</td>\n      <td>Manchester Utd</td>\n      <td>1</td>\n      <td>2</td>\n      <td>A</td>\n      <td>1</td>\n      <td>...</td>\n      <td>1443.72</td>\n      <td>1611.60</td>\n      <td>1452.60</td>\n      <td>1602.72</td>\n      <td>-4.666667</td>\n      <td>-5.500000</td>\n      <td>-2.000000</td>\n      <td>-25.902790</td>\n      <td>-150.12</td>\n      <td>-0.666667</td>\n    </tr>\n  </tbody>\n</table>\n<p>380 rows × 134 columns</p>\n</div>"
     },
     "execution_count": 90,
     "metadata": {},
     "output_type": "execute_result"
    }
   ],
   "source": [
    "PL20_21_fixtures"
   ],
   "metadata": {
    "collapsed": false,
    "pycharm": {
     "name": "#%%\n"
    }
   }
  },
  {
   "cell_type": "code",
   "execution_count": 91,
   "outputs": [
    {
     "data": {
      "text/plain": "     Unnamed: 0_01     Date_01 Time_01      HomeTeam_01     AwayTeam_01  \\\n0                0  2020-09-12   12:30           Fulham         Arsenal   \n1                1  2020-09-12   15:00   Crystal Palace     Southampton   \n2                2  2020-09-12   17:30        Liverpool    Leeds United   \n3                3  2020-09-12   20:00         West Ham   Newcastle Utd   \n4                4  2020-09-13   14:00        West Brom  Leicester City   \n..             ...         ...     ...              ...             ...   \n375            375  2021-05-23   16:00        Liverpool  Crystal Palace   \n376            376  2021-05-23   16:00  Manchester City         Everton   \n377            377  2021-05-23   16:00    Sheffield Utd         Burnley   \n378            378  2021-05-23   16:00         West Ham     Southampton   \n379            379  2021-05-23   16:00           Wolves  Manchester Utd   \n\n     FTHG_01  FTAG_01 FTR_01               game_home_ID  \\\n0          0        3      A           Fulham2020-09-12   \n1          1        0      H   Crystal Palace2020-09-12   \n2          4        3      H        Liverpool2020-09-12   \n3          0        2      A         West Ham2020-09-12   \n4          0        3      A        West Brom2020-09-13   \n..       ...      ...    ...                        ...   \n375        2        0      H        Liverpool2021-05-23   \n376        5        0      H  Manchester City2021-05-23   \n377        1        0      H    Sheffield Utd2021-05-23   \n378        3        0      H         West Ham2021-05-23   \n379        1        2      A           Wolves2021-05-23   \n\n              game_away_ID_01  ...  Elo_h_after  Elo_a_after  Elo_h_before  \\\n0           Arsenal2020-09-12  ...      1485.00      1515.00       1500.00   \n1       Southampton2020-09-12  ...      1515.00      1485.00       1500.00   \n2      Leeds United2020-09-12  ...      1515.00      1485.00       1500.00   \n3     Newcastle Utd2020-09-12  ...      1485.00      1515.00       1500.00   \n4    Leicester City2020-09-13  ...      1485.00      1515.00       1500.00   \n..                        ...  ...          ...          ...           ...   \n375  Crystal Palace2021-05-23  ...      1591.89      1439.73       1582.38   \n376         Everton2021-05-23  ...      1659.36      1508.70       1649.79   \n377         Burnley2021-05-23  ...      1358.16      1420.86       1338.90   \n378     Southampton2021-05-23  ...      1560.00      1420.08       1549.98   \n379  Manchester Utd2021-05-23  ...      1443.72      1611.60       1452.60   \n\n     Elo_a_before  goalsDifference  shotsDifference  cornersDifference  \\\n0         1500.00         0.000000         0.000000           0.000000   \n1         1500.00         0.000000         0.000000           0.000000   \n2         1500.00         0.000000         0.000000           0.000000   \n3         1500.00         0.000000         0.000000           0.000000   \n4         1500.00         0.000000         0.000000           0.000000   \n..            ...              ...              ...                ...   \n375       1449.24         2.500000        16.500000          12.833333   \n376       1518.27         2.166667         1.666667           6.000000   \n377       1440.12        -4.833333        -8.333333         -12.500000   \n378       1430.10         2.833333        -3.500000          -6.666667   \n379       1602.72        -4.666667        -5.500000          -2.000000   \n\n     ewmDifference  elo_difference  form_difference  \n0         0.000000            0.00         0.000000  \n1         0.000000            0.00         0.000000  \n2         0.000000            0.00         0.000000  \n3         0.000000            0.00         0.000000  \n4         0.000000            0.00         0.000000  \n..             ...             ...              ...  \n375      21.696989          133.14         5.500000  \n376      24.270973          131.52         1.666667  \n377     -19.027000         -101.22        -0.500000  \n378      18.722710          119.88         2.500000  \n379     -25.902790         -150.12        -0.666667  \n\n[380 rows x 413 columns]",
      "text/html": "<div>\n<style scoped>\n    .dataframe tbody tr th:only-of-type {\n        vertical-align: middle;\n    }\n\n    .dataframe tbody tr th {\n        vertical-align: top;\n    }\n\n    .dataframe thead th {\n        text-align: right;\n    }\n</style>\n<table border=\"1\" class=\"dataframe\">\n  <thead>\n    <tr style=\"text-align: right;\">\n      <th></th>\n      <th>Unnamed: 0_01</th>\n      <th>Date_01</th>\n      <th>Time_01</th>\n      <th>HomeTeam_01</th>\n      <th>AwayTeam_01</th>\n      <th>FTHG_01</th>\n      <th>FTAG_01</th>\n      <th>FTR_01</th>\n      <th>game_home_ID</th>\n      <th>game_away_ID_01</th>\n      <th>...</th>\n      <th>Elo_h_after</th>\n      <th>Elo_a_after</th>\n      <th>Elo_h_before</th>\n      <th>Elo_a_before</th>\n      <th>goalsDifference</th>\n      <th>shotsDifference</th>\n      <th>cornersDifference</th>\n      <th>ewmDifference</th>\n      <th>elo_difference</th>\n      <th>form_difference</th>\n    </tr>\n  </thead>\n  <tbody>\n    <tr>\n      <th>0</th>\n      <td>0</td>\n      <td>2020-09-12</td>\n      <td>12:30</td>\n      <td>Fulham</td>\n      <td>Arsenal</td>\n      <td>0</td>\n      <td>3</td>\n      <td>A</td>\n      <td>Fulham2020-09-12</td>\n      <td>Arsenal2020-09-12</td>\n      <td>...</td>\n      <td>1485.00</td>\n      <td>1515.00</td>\n      <td>1500.00</td>\n      <td>1500.00</td>\n      <td>0.000000</td>\n      <td>0.000000</td>\n      <td>0.000000</td>\n      <td>0.000000</td>\n      <td>0.00</td>\n      <td>0.000000</td>\n    </tr>\n    <tr>\n      <th>1</th>\n      <td>1</td>\n      <td>2020-09-12</td>\n      <td>15:00</td>\n      <td>Crystal Palace</td>\n      <td>Southampton</td>\n      <td>1</td>\n      <td>0</td>\n      <td>H</td>\n      <td>Crystal Palace2020-09-12</td>\n      <td>Southampton2020-09-12</td>\n      <td>...</td>\n      <td>1515.00</td>\n      <td>1485.00</td>\n      <td>1500.00</td>\n      <td>1500.00</td>\n      <td>0.000000</td>\n      <td>0.000000</td>\n      <td>0.000000</td>\n      <td>0.000000</td>\n      <td>0.00</td>\n      <td>0.000000</td>\n    </tr>\n    <tr>\n      <th>2</th>\n      <td>2</td>\n      <td>2020-09-12</td>\n      <td>17:30</td>\n      <td>Liverpool</td>\n      <td>Leeds United</td>\n      <td>4</td>\n      <td>3</td>\n      <td>H</td>\n      <td>Liverpool2020-09-12</td>\n      <td>Leeds United2020-09-12</td>\n      <td>...</td>\n      <td>1515.00</td>\n      <td>1485.00</td>\n      <td>1500.00</td>\n      <td>1500.00</td>\n      <td>0.000000</td>\n      <td>0.000000</td>\n      <td>0.000000</td>\n      <td>0.000000</td>\n      <td>0.00</td>\n      <td>0.000000</td>\n    </tr>\n    <tr>\n      <th>3</th>\n      <td>3</td>\n      <td>2020-09-12</td>\n      <td>20:00</td>\n      <td>West Ham</td>\n      <td>Newcastle Utd</td>\n      <td>0</td>\n      <td>2</td>\n      <td>A</td>\n      <td>West Ham2020-09-12</td>\n      <td>Newcastle Utd2020-09-12</td>\n      <td>...</td>\n      <td>1485.00</td>\n      <td>1515.00</td>\n      <td>1500.00</td>\n      <td>1500.00</td>\n      <td>0.000000</td>\n      <td>0.000000</td>\n      <td>0.000000</td>\n      <td>0.000000</td>\n      <td>0.00</td>\n      <td>0.000000</td>\n    </tr>\n    <tr>\n      <th>4</th>\n      <td>4</td>\n      <td>2020-09-13</td>\n      <td>14:00</td>\n      <td>West Brom</td>\n      <td>Leicester City</td>\n      <td>0</td>\n      <td>3</td>\n      <td>A</td>\n      <td>West Brom2020-09-13</td>\n      <td>Leicester City2020-09-13</td>\n      <td>...</td>\n      <td>1485.00</td>\n      <td>1515.00</td>\n      <td>1500.00</td>\n      <td>1500.00</td>\n      <td>0.000000</td>\n      <td>0.000000</td>\n      <td>0.000000</td>\n      <td>0.000000</td>\n      <td>0.00</td>\n      <td>0.000000</td>\n    </tr>\n    <tr>\n      <th>...</th>\n      <td>...</td>\n      <td>...</td>\n      <td>...</td>\n      <td>...</td>\n      <td>...</td>\n      <td>...</td>\n      <td>...</td>\n      <td>...</td>\n      <td>...</td>\n      <td>...</td>\n      <td>...</td>\n      <td>...</td>\n      <td>...</td>\n      <td>...</td>\n      <td>...</td>\n      <td>...</td>\n      <td>...</td>\n      <td>...</td>\n      <td>...</td>\n      <td>...</td>\n      <td>...</td>\n    </tr>\n    <tr>\n      <th>375</th>\n      <td>375</td>\n      <td>2021-05-23</td>\n      <td>16:00</td>\n      <td>Liverpool</td>\n      <td>Crystal Palace</td>\n      <td>2</td>\n      <td>0</td>\n      <td>H</td>\n      <td>Liverpool2021-05-23</td>\n      <td>Crystal Palace2021-05-23</td>\n      <td>...</td>\n      <td>1591.89</td>\n      <td>1439.73</td>\n      <td>1582.38</td>\n      <td>1449.24</td>\n      <td>2.500000</td>\n      <td>16.500000</td>\n      <td>12.833333</td>\n      <td>21.696989</td>\n      <td>133.14</td>\n      <td>5.500000</td>\n    </tr>\n    <tr>\n      <th>376</th>\n      <td>376</td>\n      <td>2021-05-23</td>\n      <td>16:00</td>\n      <td>Manchester City</td>\n      <td>Everton</td>\n      <td>5</td>\n      <td>0</td>\n      <td>H</td>\n      <td>Manchester City2021-05-23</td>\n      <td>Everton2021-05-23</td>\n      <td>...</td>\n      <td>1659.36</td>\n      <td>1508.70</td>\n      <td>1649.79</td>\n      <td>1518.27</td>\n      <td>2.166667</td>\n      <td>1.666667</td>\n      <td>6.000000</td>\n      <td>24.270973</td>\n      <td>131.52</td>\n      <td>1.666667</td>\n    </tr>\n    <tr>\n      <th>377</th>\n      <td>377</td>\n      <td>2021-05-23</td>\n      <td>16:00</td>\n      <td>Sheffield Utd</td>\n      <td>Burnley</td>\n      <td>1</td>\n      <td>0</td>\n      <td>H</td>\n      <td>Sheffield Utd2021-05-23</td>\n      <td>Burnley2021-05-23</td>\n      <td>...</td>\n      <td>1358.16</td>\n      <td>1420.86</td>\n      <td>1338.90</td>\n      <td>1440.12</td>\n      <td>-4.833333</td>\n      <td>-8.333333</td>\n      <td>-12.500000</td>\n      <td>-19.027000</td>\n      <td>-101.22</td>\n      <td>-0.500000</td>\n    </tr>\n    <tr>\n      <th>378</th>\n      <td>378</td>\n      <td>2021-05-23</td>\n      <td>16:00</td>\n      <td>West Ham</td>\n      <td>Southampton</td>\n      <td>3</td>\n      <td>0</td>\n      <td>H</td>\n      <td>West Ham2021-05-23</td>\n      <td>Southampton2021-05-23</td>\n      <td>...</td>\n      <td>1560.00</td>\n      <td>1420.08</td>\n      <td>1549.98</td>\n      <td>1430.10</td>\n      <td>2.833333</td>\n      <td>-3.500000</td>\n      <td>-6.666667</td>\n      <td>18.722710</td>\n      <td>119.88</td>\n      <td>2.500000</td>\n    </tr>\n    <tr>\n      <th>379</th>\n      <td>379</td>\n      <td>2021-05-23</td>\n      <td>16:00</td>\n      <td>Wolves</td>\n      <td>Manchester Utd</td>\n      <td>1</td>\n      <td>2</td>\n      <td>A</td>\n      <td>Wolves2021-05-23</td>\n      <td>Manchester Utd2021-05-23</td>\n      <td>...</td>\n      <td>1443.72</td>\n      <td>1611.60</td>\n      <td>1452.60</td>\n      <td>1602.72</td>\n      <td>-4.666667</td>\n      <td>-5.500000</td>\n      <td>-2.000000</td>\n      <td>-25.902790</td>\n      <td>-150.12</td>\n      <td>-0.666667</td>\n    </tr>\n  </tbody>\n</table>\n<p>380 rows × 413 columns</p>\n</div>"
     },
     "execution_count": 91,
     "metadata": {},
     "output_type": "execute_result"
    }
   ],
   "source": [
    "#merge player ratings for 2020\n",
    "player_ratings =  pd.merge(player_ratings_a_01, player_ratings_a_02, on= 'game_home_ID', how='left')\n",
    "player_ratings =  pd.merge(player_ratings, player_ratings_a_03, on= 'game_home_ID', how='left')\n",
    "player_ratings =  pd.merge(player_ratings, player_ratings_a_04, on= 'game_home_ID', how='left')\n",
    "player_ratings =  pd.merge(player_ratings, player_ratings_a_05, on= 'game_home_ID', how='left')\n",
    "player_ratings =  pd.merge(player_ratings, player_ratings_a_06, on= 'game_home_ID', how='left')\n",
    "player_ratings =  pd.merge(player_ratings, player_ratings_a_07, on= 'game_home_ID', how='left')\n",
    "player_ratings =  pd.merge(player_ratings, player_ratings_a_08, on= 'game_home_ID', how='left')\n",
    "player_ratings =  pd.merge(player_ratings, player_ratings_a_09, on= 'game_home_ID', how='left')\n",
    "player_ratings =  pd.merge(player_ratings, PL20_21_fixtures, on= 'game_home_ID', how='left')\n",
    "\n",
    "player_ratings"
   ],
   "metadata": {
    "collapsed": false,
    "pycharm": {
     "name": "#%%\n"
    }
   }
  },
  {
   "cell_type": "code",
   "execution_count": 92,
   "outputs": [
    {
     "data": {
      "text/plain": "     Unnamed: 0_01     Date_01 Time_01      HomeTeam_01     AwayTeam_01  \\\n0                0  2020-09-12   12:30           Fulham         Arsenal   \n1                1  2020-09-12   15:00   Crystal Palace     Southampton   \n2                2  2020-09-12   17:30        Liverpool    Leeds United   \n3                3  2020-09-12   20:00         West Ham   Newcastle Utd   \n4                4  2020-09-13   14:00        West Brom  Leicester City   \n..             ...         ...     ...              ...             ...   \n375            375  2021-05-23   16:00        Liverpool  Crystal Palace   \n376            376  2021-05-23   16:00  Manchester City         Everton   \n377            377  2021-05-23   16:00    Sheffield Utd         Burnley   \n378            378  2021-05-23   16:00         West Ham     Southampton   \n379            379  2021-05-23   16:00           Wolves  Manchester Utd   \n\n     FTHG_01  FTAG_01 FTR_01               game_home_ID  \\\n0          0        3      A           Fulham2020-09-12   \n1          1        0      H   Crystal Palace2020-09-12   \n2          4        3      H        Liverpool2020-09-12   \n3          0        2      A         West Ham2020-09-12   \n4          0        3      A        West Brom2020-09-13   \n..       ...      ...    ...                        ...   \n375        2        0      H        Liverpool2021-05-23   \n376        5        0      H  Manchester City2021-05-23   \n377        1        0      H    Sheffield Utd2021-05-23   \n378        3        0      H         West Ham2021-05-23   \n379        1        2      A           Wolves2021-05-23   \n\n              game_away_ID_01  ...  Elo_h_after  Elo_a_after  Elo_h_before  \\\n0           Arsenal2020-09-12  ...      1485.00      1515.00       1500.00   \n1       Southampton2020-09-12  ...      1515.00      1485.00       1500.00   \n2      Leeds United2020-09-12  ...      1515.00      1485.00       1500.00   \n3     Newcastle Utd2020-09-12  ...      1485.00      1515.00       1500.00   \n4    Leicester City2020-09-13  ...      1485.00      1515.00       1500.00   \n..                        ...  ...          ...          ...           ...   \n375  Crystal Palace2021-05-23  ...      1591.89      1439.73       1582.38   \n376         Everton2021-05-23  ...      1659.36      1508.70       1649.79   \n377         Burnley2021-05-23  ...      1358.16      1420.86       1338.90   \n378     Southampton2021-05-23  ...      1560.00      1420.08       1549.98   \n379  Manchester Utd2021-05-23  ...      1443.72      1611.60       1452.60   \n\n     Elo_a_before  goalsDifference  shotsDifference  cornersDifference  \\\n0         1500.00         0.000000         0.000000           0.000000   \n1         1500.00         0.000000         0.000000           0.000000   \n2         1500.00         0.000000         0.000000           0.000000   \n3         1500.00         0.000000         0.000000           0.000000   \n4         1500.00         0.000000         0.000000           0.000000   \n..            ...              ...              ...                ...   \n375       1449.24         2.500000        16.500000          12.833333   \n376       1518.27         2.166667         1.666667           6.000000   \n377       1440.12        -4.833333        -8.333333         -12.500000   \n378       1430.10         2.833333        -3.500000          -6.666667   \n379       1602.72        -4.666667        -5.500000          -2.000000   \n\n     ewmDifference  elo_difference  form_difference  \n0         0.000000            0.00         0.000000  \n1         0.000000            0.00         0.000000  \n2         0.000000            0.00         0.000000  \n3         0.000000            0.00         0.000000  \n4         0.000000            0.00         0.000000  \n..             ...             ...              ...  \n375      21.696989          133.14         5.500000  \n376      24.270973          131.52         1.666667  \n377     -19.027000         -101.22        -0.500000  \n378      18.722710          119.88         2.500000  \n379     -25.902790         -150.12        -0.666667  \n\n[380 rows x 413 columns]",
      "text/html": "<div>\n<style scoped>\n    .dataframe tbody tr th:only-of-type {\n        vertical-align: middle;\n    }\n\n    .dataframe tbody tr th {\n        vertical-align: top;\n    }\n\n    .dataframe thead th {\n        text-align: right;\n    }\n</style>\n<table border=\"1\" class=\"dataframe\">\n  <thead>\n    <tr style=\"text-align: right;\">\n      <th></th>\n      <th>Unnamed: 0_01</th>\n      <th>Date_01</th>\n      <th>Time_01</th>\n      <th>HomeTeam_01</th>\n      <th>AwayTeam_01</th>\n      <th>FTHG_01</th>\n      <th>FTAG_01</th>\n      <th>FTR_01</th>\n      <th>game_home_ID</th>\n      <th>game_away_ID_01</th>\n      <th>...</th>\n      <th>Elo_h_after</th>\n      <th>Elo_a_after</th>\n      <th>Elo_h_before</th>\n      <th>Elo_a_before</th>\n      <th>goalsDifference</th>\n      <th>shotsDifference</th>\n      <th>cornersDifference</th>\n      <th>ewmDifference</th>\n      <th>elo_difference</th>\n      <th>form_difference</th>\n    </tr>\n  </thead>\n  <tbody>\n    <tr>\n      <th>0</th>\n      <td>0</td>\n      <td>2020-09-12</td>\n      <td>12:30</td>\n      <td>Fulham</td>\n      <td>Arsenal</td>\n      <td>0</td>\n      <td>3</td>\n      <td>A</td>\n      <td>Fulham2020-09-12</td>\n      <td>Arsenal2020-09-12</td>\n      <td>...</td>\n      <td>1485.00</td>\n      <td>1515.00</td>\n      <td>1500.00</td>\n      <td>1500.00</td>\n      <td>0.000000</td>\n      <td>0.000000</td>\n      <td>0.000000</td>\n      <td>0.000000</td>\n      <td>0.00</td>\n      <td>0.000000</td>\n    </tr>\n    <tr>\n      <th>1</th>\n      <td>1</td>\n      <td>2020-09-12</td>\n      <td>15:00</td>\n      <td>Crystal Palace</td>\n      <td>Southampton</td>\n      <td>1</td>\n      <td>0</td>\n      <td>H</td>\n      <td>Crystal Palace2020-09-12</td>\n      <td>Southampton2020-09-12</td>\n      <td>...</td>\n      <td>1515.00</td>\n      <td>1485.00</td>\n      <td>1500.00</td>\n      <td>1500.00</td>\n      <td>0.000000</td>\n      <td>0.000000</td>\n      <td>0.000000</td>\n      <td>0.000000</td>\n      <td>0.00</td>\n      <td>0.000000</td>\n    </tr>\n    <tr>\n      <th>2</th>\n      <td>2</td>\n      <td>2020-09-12</td>\n      <td>17:30</td>\n      <td>Liverpool</td>\n      <td>Leeds United</td>\n      <td>4</td>\n      <td>3</td>\n      <td>H</td>\n      <td>Liverpool2020-09-12</td>\n      <td>Leeds United2020-09-12</td>\n      <td>...</td>\n      <td>1515.00</td>\n      <td>1485.00</td>\n      <td>1500.00</td>\n      <td>1500.00</td>\n      <td>0.000000</td>\n      <td>0.000000</td>\n      <td>0.000000</td>\n      <td>0.000000</td>\n      <td>0.00</td>\n      <td>0.000000</td>\n    </tr>\n    <tr>\n      <th>3</th>\n      <td>3</td>\n      <td>2020-09-12</td>\n      <td>20:00</td>\n      <td>West Ham</td>\n      <td>Newcastle Utd</td>\n      <td>0</td>\n      <td>2</td>\n      <td>A</td>\n      <td>West Ham2020-09-12</td>\n      <td>Newcastle Utd2020-09-12</td>\n      <td>...</td>\n      <td>1485.00</td>\n      <td>1515.00</td>\n      <td>1500.00</td>\n      <td>1500.00</td>\n      <td>0.000000</td>\n      <td>0.000000</td>\n      <td>0.000000</td>\n      <td>0.000000</td>\n      <td>0.00</td>\n      <td>0.000000</td>\n    </tr>\n    <tr>\n      <th>4</th>\n      <td>4</td>\n      <td>2020-09-13</td>\n      <td>14:00</td>\n      <td>West Brom</td>\n      <td>Leicester City</td>\n      <td>0</td>\n      <td>3</td>\n      <td>A</td>\n      <td>West Brom2020-09-13</td>\n      <td>Leicester City2020-09-13</td>\n      <td>...</td>\n      <td>1485.00</td>\n      <td>1515.00</td>\n      <td>1500.00</td>\n      <td>1500.00</td>\n      <td>0.000000</td>\n      <td>0.000000</td>\n      <td>0.000000</td>\n      <td>0.000000</td>\n      <td>0.00</td>\n      <td>0.000000</td>\n    </tr>\n    <tr>\n      <th>...</th>\n      <td>...</td>\n      <td>...</td>\n      <td>...</td>\n      <td>...</td>\n      <td>...</td>\n      <td>...</td>\n      <td>...</td>\n      <td>...</td>\n      <td>...</td>\n      <td>...</td>\n      <td>...</td>\n      <td>...</td>\n      <td>...</td>\n      <td>...</td>\n      <td>...</td>\n      <td>...</td>\n      <td>...</td>\n      <td>...</td>\n      <td>...</td>\n      <td>...</td>\n      <td>...</td>\n    </tr>\n    <tr>\n      <th>375</th>\n      <td>375</td>\n      <td>2021-05-23</td>\n      <td>16:00</td>\n      <td>Liverpool</td>\n      <td>Crystal Palace</td>\n      <td>2</td>\n      <td>0</td>\n      <td>H</td>\n      <td>Liverpool2021-05-23</td>\n      <td>Crystal Palace2021-05-23</td>\n      <td>...</td>\n      <td>1591.89</td>\n      <td>1439.73</td>\n      <td>1582.38</td>\n      <td>1449.24</td>\n      <td>2.500000</td>\n      <td>16.500000</td>\n      <td>12.833333</td>\n      <td>21.696989</td>\n      <td>133.14</td>\n      <td>5.500000</td>\n    </tr>\n    <tr>\n      <th>376</th>\n      <td>376</td>\n      <td>2021-05-23</td>\n      <td>16:00</td>\n      <td>Manchester City</td>\n      <td>Everton</td>\n      <td>5</td>\n      <td>0</td>\n      <td>H</td>\n      <td>Manchester City2021-05-23</td>\n      <td>Everton2021-05-23</td>\n      <td>...</td>\n      <td>1659.36</td>\n      <td>1508.70</td>\n      <td>1649.79</td>\n      <td>1518.27</td>\n      <td>2.166667</td>\n      <td>1.666667</td>\n      <td>6.000000</td>\n      <td>24.270973</td>\n      <td>131.52</td>\n      <td>1.666667</td>\n    </tr>\n    <tr>\n      <th>377</th>\n      <td>377</td>\n      <td>2021-05-23</td>\n      <td>16:00</td>\n      <td>Sheffield Utd</td>\n      <td>Burnley</td>\n      <td>1</td>\n      <td>0</td>\n      <td>H</td>\n      <td>Sheffield Utd2021-05-23</td>\n      <td>Burnley2021-05-23</td>\n      <td>...</td>\n      <td>1358.16</td>\n      <td>1420.86</td>\n      <td>1338.90</td>\n      <td>1440.12</td>\n      <td>-4.833333</td>\n      <td>-8.333333</td>\n      <td>-12.500000</td>\n      <td>-19.027000</td>\n      <td>-101.22</td>\n      <td>-0.500000</td>\n    </tr>\n    <tr>\n      <th>378</th>\n      <td>378</td>\n      <td>2021-05-23</td>\n      <td>16:00</td>\n      <td>West Ham</td>\n      <td>Southampton</td>\n      <td>3</td>\n      <td>0</td>\n      <td>H</td>\n      <td>West Ham2021-05-23</td>\n      <td>Southampton2021-05-23</td>\n      <td>...</td>\n      <td>1560.00</td>\n      <td>1420.08</td>\n      <td>1549.98</td>\n      <td>1430.10</td>\n      <td>2.833333</td>\n      <td>-3.500000</td>\n      <td>-6.666667</td>\n      <td>18.722710</td>\n      <td>119.88</td>\n      <td>2.500000</td>\n    </tr>\n    <tr>\n      <th>379</th>\n      <td>379</td>\n      <td>2021-05-23</td>\n      <td>16:00</td>\n      <td>Wolves</td>\n      <td>Manchester Utd</td>\n      <td>1</td>\n      <td>2</td>\n      <td>A</td>\n      <td>Wolves2021-05-23</td>\n      <td>Manchester Utd2021-05-23</td>\n      <td>...</td>\n      <td>1443.72</td>\n      <td>1611.60</td>\n      <td>1452.60</td>\n      <td>1602.72</td>\n      <td>-4.666667</td>\n      <td>-5.500000</td>\n      <td>-2.000000</td>\n      <td>-25.902790</td>\n      <td>-150.12</td>\n      <td>-0.666667</td>\n    </tr>\n  </tbody>\n</table>\n<p>380 rows × 413 columns</p>\n</div>"
     },
     "execution_count": 92,
     "metadata": {},
     "output_type": "execute_result"
    }
   ],
   "source": [
    "player_ratings"
   ],
   "metadata": {
    "collapsed": false,
    "pycharm": {
     "name": "#%%\n"
    }
   }
  },
  {
   "cell_type": "code",
   "execution_count": 93,
   "outputs": [
    {
     "data": {
      "text/plain": "     Unnamed: 0_01     Date_01 Time_01      HomeTeam_01     AwayTeam_01  \\\n0                0  2020-09-12   12:30           Fulham         Arsenal   \n1                1  2020-09-12   15:00   Crystal Palace     Southampton   \n2                2  2020-09-12   17:30        Liverpool    Leeds United   \n3                3  2020-09-12   20:00         West Ham   Newcastle Utd   \n4                4  2020-09-13   14:00        West Brom  Leicester City   \n..             ...         ...     ...              ...             ...   \n375            375  2021-05-23   16:00        Liverpool  Crystal Palace   \n376            376  2021-05-23   16:00  Manchester City         Everton   \n377            377  2021-05-23   16:00    Sheffield Utd         Burnley   \n378            378  2021-05-23   16:00         West Ham     Southampton   \n379            379  2021-05-23   16:00           Wolves  Manchester Utd   \n\n     FTHG_01  FTAG_01 FTR_01               game_home_ID  \\\n0          0        3      A           Fulham2020-09-12   \n1          1        0      H   Crystal Palace2020-09-12   \n2          4        3      H        Liverpool2020-09-12   \n3          0        2      A         West Ham2020-09-12   \n4          0        3      A        West Brom2020-09-13   \n..       ...      ...    ...                        ...   \n375        2        0      H        Liverpool2021-05-23   \n376        5        0      H  Manchester City2021-05-23   \n377        1        0      H    Sheffield Utd2021-05-23   \n378        3        0      H         West Ham2021-05-23   \n379        1        2      A           Wolves2021-05-23   \n\n              game_away_ID_01  ...  rating_09_a  rating_difference_01  \\\n0           Arsenal2020-09-12  ...     0.000000              0.000000   \n1       Southampton2020-09-12  ...     0.000000              0.000000   \n2      Leeds United2020-09-12  ...     0.000000              0.000000   \n3     Newcastle Utd2020-09-12  ...     0.000000              0.000000   \n4    Leicester City2020-09-13  ...     0.000000              0.000000   \n..                        ...  ...          ...                   ...   \n375  Crystal Palace2021-05-23  ...   267.630667            189.484622   \n376         Everton2021-05-23  ...   355.553716            107.102630   \n377         Burnley2021-05-23  ...   223.019166             30.734400   \n378     Southampton2021-05-23  ...   378.471357              9.021531   \n379  Manchester Utd2021-05-23  ...   176.805772            109.734627   \n\n     rating_difference_02  rating_difference_03  rating_difference_04  \\\n0                0.000000              0.000000              0.000000   \n1                0.000000              0.000000              0.000000   \n2                0.000000              0.000000              0.000000   \n3                0.000000              0.000000              0.000000   \n4                0.000000              0.000000              0.000000   \n..                    ...                   ...                   ...   \n375            203.850536            208.263737            206.228374   \n376             73.453381             42.993726             16.955596   \n377             40.851231             58.668588             75.280753   \n378              0.874779             -4.532831             -6.144555   \n379            123.466955            132.951793            140.184832   \n\n     rating_difference_05  rating_difference_06  rating_difference_07  \\\n0                0.000000              0.000000              0.000000   \n1                0.000000              0.000000              0.000000   \n2                0.000000              0.000000              0.000000   \n3                0.000000              0.000000              0.000000   \n4                0.000000              0.000000              0.000000   \n..                    ...                   ...                   ...   \n375            206.228374            195.201308            189.934758   \n376             16.955596            -25.852219            -44.316432   \n377             75.280753            100.370736            110.014915   \n378             -6.144555             -3.077857              0.711924   \n379            140.184832            150.738347            154.985933   \n\n     rating_difference_08  rating_difference_09  \n0                0.000000              0.000000  \n1                0.000000              0.000000  \n2                0.000000              0.000000  \n3                0.000000              0.000000  \n4                0.000000              0.000000  \n..                    ...                   ...  \n375            186.113059            184.205447  \n376            -61.729694            -78.572844  \n377            118.631575            126.722585  \n378              5.397323             10.311974  \n379            159.118287            163.529097  \n\n[380 rows x 440 columns]",
      "text/html": "<div>\n<style scoped>\n    .dataframe tbody tr th:only-of-type {\n        vertical-align: middle;\n    }\n\n    .dataframe tbody tr th {\n        vertical-align: top;\n    }\n\n    .dataframe thead th {\n        text-align: right;\n    }\n</style>\n<table border=\"1\" class=\"dataframe\">\n  <thead>\n    <tr style=\"text-align: right;\">\n      <th></th>\n      <th>Unnamed: 0_01</th>\n      <th>Date_01</th>\n      <th>Time_01</th>\n      <th>HomeTeam_01</th>\n      <th>AwayTeam_01</th>\n      <th>FTHG_01</th>\n      <th>FTAG_01</th>\n      <th>FTR_01</th>\n      <th>game_home_ID</th>\n      <th>game_away_ID_01</th>\n      <th>...</th>\n      <th>rating_09_a</th>\n      <th>rating_difference_01</th>\n      <th>rating_difference_02</th>\n      <th>rating_difference_03</th>\n      <th>rating_difference_04</th>\n      <th>rating_difference_05</th>\n      <th>rating_difference_06</th>\n      <th>rating_difference_07</th>\n      <th>rating_difference_08</th>\n      <th>rating_difference_09</th>\n    </tr>\n  </thead>\n  <tbody>\n    <tr>\n      <th>0</th>\n      <td>0</td>\n      <td>2020-09-12</td>\n      <td>12:30</td>\n      <td>Fulham</td>\n      <td>Arsenal</td>\n      <td>0</td>\n      <td>3</td>\n      <td>A</td>\n      <td>Fulham2020-09-12</td>\n      <td>Arsenal2020-09-12</td>\n      <td>...</td>\n      <td>0.000000</td>\n      <td>0.000000</td>\n      <td>0.000000</td>\n      <td>0.000000</td>\n      <td>0.000000</td>\n      <td>0.000000</td>\n      <td>0.000000</td>\n      <td>0.000000</td>\n      <td>0.000000</td>\n      <td>0.000000</td>\n    </tr>\n    <tr>\n      <th>1</th>\n      <td>1</td>\n      <td>2020-09-12</td>\n      <td>15:00</td>\n      <td>Crystal Palace</td>\n      <td>Southampton</td>\n      <td>1</td>\n      <td>0</td>\n      <td>H</td>\n      <td>Crystal Palace2020-09-12</td>\n      <td>Southampton2020-09-12</td>\n      <td>...</td>\n      <td>0.000000</td>\n      <td>0.000000</td>\n      <td>0.000000</td>\n      <td>0.000000</td>\n      <td>0.000000</td>\n      <td>0.000000</td>\n      <td>0.000000</td>\n      <td>0.000000</td>\n      <td>0.000000</td>\n      <td>0.000000</td>\n    </tr>\n    <tr>\n      <th>2</th>\n      <td>2</td>\n      <td>2020-09-12</td>\n      <td>17:30</td>\n      <td>Liverpool</td>\n      <td>Leeds United</td>\n      <td>4</td>\n      <td>3</td>\n      <td>H</td>\n      <td>Liverpool2020-09-12</td>\n      <td>Leeds United2020-09-12</td>\n      <td>...</td>\n      <td>0.000000</td>\n      <td>0.000000</td>\n      <td>0.000000</td>\n      <td>0.000000</td>\n      <td>0.000000</td>\n      <td>0.000000</td>\n      <td>0.000000</td>\n      <td>0.000000</td>\n      <td>0.000000</td>\n      <td>0.000000</td>\n    </tr>\n    <tr>\n      <th>3</th>\n      <td>3</td>\n      <td>2020-09-12</td>\n      <td>20:00</td>\n      <td>West Ham</td>\n      <td>Newcastle Utd</td>\n      <td>0</td>\n      <td>2</td>\n      <td>A</td>\n      <td>West Ham2020-09-12</td>\n      <td>Newcastle Utd2020-09-12</td>\n      <td>...</td>\n      <td>0.000000</td>\n      <td>0.000000</td>\n      <td>0.000000</td>\n      <td>0.000000</td>\n      <td>0.000000</td>\n      <td>0.000000</td>\n      <td>0.000000</td>\n      <td>0.000000</td>\n      <td>0.000000</td>\n      <td>0.000000</td>\n    </tr>\n    <tr>\n      <th>4</th>\n      <td>4</td>\n      <td>2020-09-13</td>\n      <td>14:00</td>\n      <td>West Brom</td>\n      <td>Leicester City</td>\n      <td>0</td>\n      <td>3</td>\n      <td>A</td>\n      <td>West Brom2020-09-13</td>\n      <td>Leicester City2020-09-13</td>\n      <td>...</td>\n      <td>0.000000</td>\n      <td>0.000000</td>\n      <td>0.000000</td>\n      <td>0.000000</td>\n      <td>0.000000</td>\n      <td>0.000000</td>\n      <td>0.000000</td>\n      <td>0.000000</td>\n      <td>0.000000</td>\n      <td>0.000000</td>\n    </tr>\n    <tr>\n      <th>...</th>\n      <td>...</td>\n      <td>...</td>\n      <td>...</td>\n      <td>...</td>\n      <td>...</td>\n      <td>...</td>\n      <td>...</td>\n      <td>...</td>\n      <td>...</td>\n      <td>...</td>\n      <td>...</td>\n      <td>...</td>\n      <td>...</td>\n      <td>...</td>\n      <td>...</td>\n      <td>...</td>\n      <td>...</td>\n      <td>...</td>\n      <td>...</td>\n      <td>...</td>\n      <td>...</td>\n    </tr>\n    <tr>\n      <th>375</th>\n      <td>375</td>\n      <td>2021-05-23</td>\n      <td>16:00</td>\n      <td>Liverpool</td>\n      <td>Crystal Palace</td>\n      <td>2</td>\n      <td>0</td>\n      <td>H</td>\n      <td>Liverpool2021-05-23</td>\n      <td>Crystal Palace2021-05-23</td>\n      <td>...</td>\n      <td>267.630667</td>\n      <td>189.484622</td>\n      <td>203.850536</td>\n      <td>208.263737</td>\n      <td>206.228374</td>\n      <td>206.228374</td>\n      <td>195.201308</td>\n      <td>189.934758</td>\n      <td>186.113059</td>\n      <td>184.205447</td>\n    </tr>\n    <tr>\n      <th>376</th>\n      <td>376</td>\n      <td>2021-05-23</td>\n      <td>16:00</td>\n      <td>Manchester City</td>\n      <td>Everton</td>\n      <td>5</td>\n      <td>0</td>\n      <td>H</td>\n      <td>Manchester City2021-05-23</td>\n      <td>Everton2021-05-23</td>\n      <td>...</td>\n      <td>355.553716</td>\n      <td>107.102630</td>\n      <td>73.453381</td>\n      <td>42.993726</td>\n      <td>16.955596</td>\n      <td>16.955596</td>\n      <td>-25.852219</td>\n      <td>-44.316432</td>\n      <td>-61.729694</td>\n      <td>-78.572844</td>\n    </tr>\n    <tr>\n      <th>377</th>\n      <td>377</td>\n      <td>2021-05-23</td>\n      <td>16:00</td>\n      <td>Sheffield Utd</td>\n      <td>Burnley</td>\n      <td>1</td>\n      <td>0</td>\n      <td>H</td>\n      <td>Sheffield Utd2021-05-23</td>\n      <td>Burnley2021-05-23</td>\n      <td>...</td>\n      <td>223.019166</td>\n      <td>30.734400</td>\n      <td>40.851231</td>\n      <td>58.668588</td>\n      <td>75.280753</td>\n      <td>75.280753</td>\n      <td>100.370736</td>\n      <td>110.014915</td>\n      <td>118.631575</td>\n      <td>126.722585</td>\n    </tr>\n    <tr>\n      <th>378</th>\n      <td>378</td>\n      <td>2021-05-23</td>\n      <td>16:00</td>\n      <td>West Ham</td>\n      <td>Southampton</td>\n      <td>3</td>\n      <td>0</td>\n      <td>H</td>\n      <td>West Ham2021-05-23</td>\n      <td>Southampton2021-05-23</td>\n      <td>...</td>\n      <td>378.471357</td>\n      <td>9.021531</td>\n      <td>0.874779</td>\n      <td>-4.532831</td>\n      <td>-6.144555</td>\n      <td>-6.144555</td>\n      <td>-3.077857</td>\n      <td>0.711924</td>\n      <td>5.397323</td>\n      <td>10.311974</td>\n    </tr>\n    <tr>\n      <th>379</th>\n      <td>379</td>\n      <td>2021-05-23</td>\n      <td>16:00</td>\n      <td>Wolves</td>\n      <td>Manchester Utd</td>\n      <td>1</td>\n      <td>2</td>\n      <td>A</td>\n      <td>Wolves2021-05-23</td>\n      <td>Manchester Utd2021-05-23</td>\n      <td>...</td>\n      <td>176.805772</td>\n      <td>109.734627</td>\n      <td>123.466955</td>\n      <td>132.951793</td>\n      <td>140.184832</td>\n      <td>140.184832</td>\n      <td>150.738347</td>\n      <td>154.985933</td>\n      <td>159.118287</td>\n      <td>163.529097</td>\n    </tr>\n  </tbody>\n</table>\n<p>380 rows × 440 columns</p>\n</div>"
     },
     "execution_count": 93,
     "metadata": {},
     "output_type": "execute_result"
    }
   ],
   "source": [
    "#calculate overall team rating for 2020\n",
    "player_ratings['rating_01_h'] = player_ratings['rating_h_gk_01'] + player_ratings ['rating_h_df_01'] + player_ratings['rating_h_mf_01'] + player_ratings['rating_h_att_01'] + player_ratings['rating_h_bench_01']\n",
    "player_ratings['rating_01_a'] = player_ratings['rating_a_gk_01'] + player_ratings ['rating_a_df_01'] + player_ratings['rating_a_mf_01'] + player_ratings['rating_a_att_01'] + player_ratings['rating_a_bench_01']\n",
    "player_ratings['rating_02_h'] = player_ratings['rating_h_gk_02'] + player_ratings ['rating_h_df_02'] + player_ratings['rating_h_mf_02'] + player_ratings['rating_h_att_02'] + player_ratings['rating_h_bench_02']\n",
    "player_ratings['rating_02_a'] = player_ratings['rating_a_gk_02'] + player_ratings ['rating_a_df_02'] + player_ratings['rating_a_mf_02'] + player_ratings['rating_a_att_02'] + player_ratings['rating_a_bench_02']\n",
    "player_ratings['rating_03_h'] = player_ratings['rating_h_gk_03'] + player_ratings ['rating_h_df_03'] + player_ratings['rating_h_mf_03'] + player_ratings['rating_h_att_03'] + player_ratings['rating_h_bench_03']\n",
    "player_ratings['rating_03_a'] = player_ratings['rating_a_gk_03'] + player_ratings ['rating_a_df_03'] + player_ratings['rating_a_mf_03'] + player_ratings['rating_a_att_03'] + player_ratings['rating_a_bench_03']\n",
    "player_ratings['rating_04_h'] = player_ratings['rating_h_gk_04'] + player_ratings ['rating_h_df_04'] + player_ratings['rating_h_mf_04'] + player_ratings['rating_h_att_04'] + player_ratings['rating_h_bench_04']\n",
    "player_ratings['rating_04_a'] = player_ratings['rating_a_gk_04'] + player_ratings ['rating_a_df_04'] + player_ratings['rating_a_mf_04'] + player_ratings['rating_a_att_04'] + player_ratings['rating_a_bench_04']\n",
    "player_ratings['rating_05_h'] = player_ratings['rating_h_gk_05'] + player_ratings ['rating_h_df_05'] + player_ratings['rating_h_mf_05'] + player_ratings['rating_h_att_05'] + player_ratings['rating_h_bench_05']\n",
    "player_ratings['rating_05_a'] = player_ratings['rating_a_gk_05'] + player_ratings ['rating_a_df_05'] + player_ratings['rating_a_mf_05'] + player_ratings['rating_a_att_05'] + player_ratings['rating_a_bench_05']\n",
    "player_ratings['rating_06_h'] = player_ratings['rating_h_gk_06'] + player_ratings ['rating_h_df_06'] + player_ratings['rating_h_mf_06'] + player_ratings['rating_h_att_06'] + player_ratings['rating_h_bench_06']\n",
    "player_ratings['rating_06_a'] = player_ratings['rating_a_gk_06'] + player_ratings ['rating_a_df_06'] + player_ratings['rating_a_mf_06'] + player_ratings['rating_a_att_06'] + player_ratings['rating_a_bench_06']\n",
    "player_ratings['rating_07_h'] = player_ratings['rating_h_gk_07'] + player_ratings ['rating_h_df_07'] + player_ratings['rating_h_mf_07'] + player_ratings['rating_h_att_07'] + player_ratings['rating_h_bench_07']\n",
    "player_ratings['rating_07_a'] = player_ratings['rating_a_gk_07'] + player_ratings ['rating_a_df_07'] + player_ratings['rating_a_mf_07'] + player_ratings['rating_a_att_07'] + player_ratings['rating_a_bench_07']\n",
    "player_ratings['rating_08_h'] = player_ratings['rating_h_gk_08'] + player_ratings ['rating_h_df_08'] + player_ratings['rating_h_mf_08'] + player_ratings['rating_h_att_08'] + player_ratings['rating_h_bench_08']\n",
    "player_ratings['rating_08_a'] = player_ratings['rating_a_gk_08'] + player_ratings ['rating_a_df_08'] + player_ratings['rating_a_mf_08'] + player_ratings['rating_a_att_08'] + player_ratings['rating_a_bench_08']\n",
    "player_ratings['rating_09_h'] = player_ratings['rating_h_gk_09'] + player_ratings ['rating_h_df_09'] + player_ratings['rating_h_mf_09'] + player_ratings['rating_h_att_09'] + player_ratings['rating_h_bench_09']\n",
    "player_ratings['rating_09_a'] = player_ratings['rating_a_gk_09'] + player_ratings ['rating_a_df_09'] + player_ratings['rating_a_mf_09'] + player_ratings['rating_a_att_09'] + player_ratings['rating_a_bench_09']\n",
    "\n",
    "player_ratings['rating_difference_01'] = player_ratings['rating_01_h'] - player_ratings['rating_01_a']\n",
    "player_ratings['rating_difference_02'] = player_ratings['rating_02_h'] - player_ratings['rating_02_a']\n",
    "player_ratings['rating_difference_03'] = player_ratings['rating_03_h'] - player_ratings['rating_03_a']\n",
    "player_ratings['rating_difference_04'] = player_ratings['rating_04_h'] - player_ratings['rating_04_a']\n",
    "player_ratings['rating_difference_05'] = player_ratings['rating_05_h'] - player_ratings['rating_05_a']\n",
    "player_ratings['rating_difference_06'] = player_ratings['rating_06_h'] - player_ratings['rating_06_a']\n",
    "player_ratings['rating_difference_07'] = player_ratings['rating_07_h'] - player_ratings['rating_07_a']\n",
    "player_ratings['rating_difference_08'] = player_ratings['rating_08_h'] - player_ratings['rating_08_a']\n",
    "player_ratings['rating_difference_09'] = player_ratings['rating_09_h'] - player_ratings['rating_09_a']\n",
    "player_ratings"
   ],
   "metadata": {
    "collapsed": false,
    "pycharm": {
     "name": "#%%\n"
    }
   }
  },
  {
   "cell_type": "code",
   "execution_count": 94,
   "outputs": [
    {
     "data": {
      "text/plain": "array([[  0.        ,   0.        ,   0.        , ...,   0.        ,\n          0.        ,   0.        ],\n       [  0.        ,   0.        ,   0.        , ...,   0.        ,\n          0.        ,   0.        ],\n       [  0.        ,   0.        ,   0.        , ...,   0.        ,\n          0.        ,   0.        ],\n       ...,\n       [ 30.73439985,  40.8512308 ,  58.6685878 , ...,   2.5       ,\n          3.        ,  -0.5       ],\n       [  9.02153099,   0.87477906,  -4.53283113, ...,   4.66666667,\n          2.16666667,   2.5       ],\n       [109.73462699, 123.46695542, 132.95179329, ...,   7.        ,\n          7.66666667,  -0.66666667]])"
     },
     "execution_count": 94,
     "metadata": {},
     "output_type": "execute_result"
    }
   ],
   "source": [
    "#prepare Data for ML Algos, including all features from benchmark + rating differences\n",
    "#add column for H A X\n",
    "conditions = [\n",
    "    (player_ratings['FTR_01'] == 'H'),\n",
    "    (player_ratings['FTR_01'] == 'A'),\n",
    "    (player_ratings['FTR_01'] == 'D')]\n",
    "choices = [0, 1, 2]\n",
    "player_ratings['identifier'] = np.select(conditions, choices)\n",
    "#PL20_21_features.drop(PL20_21_features[ PL20_21_features.Wk < 6].index, inplace=True)\n",
    "y = player_ratings['identifier'].to_numpy()\n",
    "#feature_names = ['rating_h_gk_01', 'rating_a_gk_01', 'rating_h_df_01', 'rating_a_df_01', 'rating_h_mf_01', 'rating_a_mf_01', 'rating_h_att_01','rating_a_att_01', 'rating_h_bench_01', 'rating_a_bench_01', 'rating_h_gk_02', 'rating_a_gk_02', 'rating_h_df_02', 'rating_a_df_02', 'rating_h_mf_02', 'rating_a_mf_02', 'rating_h_att_02','rating_a_att_02', 'rating_h_bench_02', 'rating_a_bench_02', 'rating_h_gk_03', 'rating_a_gk_03', 'rating_h_df_03', 'rating_a_df_03', 'rating_h_mf_03', 'rating_a_mf_03', 'rating_h_att_03','rating_a_att_03', 'rating_h_bench_03', 'rating_a_bench_03', 'rating_h_gk_04', 'rating_a_gk_04', 'rating_h_df_04', 'rating_a_df_04', 'rating_h_mf_04', 'rating_a_mf_04', 'rating_h_att_04','rating_a_att_04', 'rating_h_bench_04', 'rating_a_bench_04', 'rating_h_gk_05', 'rating_a_gk_05', 'rating_h_df_05', 'rating_a_df_05', 'rating_h_mf_05', 'rating_a_mf_05', 'rating_h_att_05','rating_a_att_05', 'rating_h_bench_05', 'rating_a_bench_05', 'rating_h_gk_06', 'rating_a_gk_06', 'rating_h_df_06', 'rating_a_df_06', 'rating_h_mf_06', 'rating_a_mf_06', 'rating_h_att_06','rating_a_att_06', 'rating_h_bench_06', 'rating_a_bench_06', 'rating_h_gk_07', 'rating_a_gk_07', 'rating_h_df_07', 'rating_a_df_07', 'rating_h_mf_07', 'rating_a_mf_07', 'rating_h_att_07','rating_a_att_07', 'rating_h_bench_07', 'rating_a_bench_07', 'rating_h_gk_08', 'rating_a_gk_08', 'rating_h_df_08', 'rating_a_df_08', 'rating_h_mf_08', 'rating_a_mf_08', 'rating_h_att_08','rating_a_att_08', 'rating_h_bench_08', 'rating_a_bench_08', 'rating_h_gk_09', 'rating_a_gk_09', 'rating_h_df_09', 'rating_a_df_09', 'rating_h_mf_09', 'rating_a_mf_09', 'rating_h_att_09','rating_a_att_09', 'rating_h_bench_09', 'rating_a_bench_09']\n",
    "feature_names = ['rating_difference_01', 'rating_difference_02', 'rating_difference_03', 'rating_difference_04', 'rating_difference_05', 'rating_difference_06', 'rating_difference_07', 'rating_difference_08', 'rating_difference_09', 'Rating difference', 'Rating_Home', 'Rating_Away', 'ewmH', 'ewmA', 'ewmDifference', 'Elo_h_before','Elo_a_before', 'elo_difference', 'goalsH', 'goalsA', 'goalsDifference', 'shotsH', 'shotsA','shotsDifference', 'cornersH', 'cornersA', 'cornersDifference', 'formH', 'formA', 'form_difference']\n",
    "X = player_ratings[feature_names].to_numpy()\n",
    "X"
   ],
   "metadata": {
    "collapsed": false,
    "pycharm": {
     "name": "#%%\n"
    }
   }
  },
  {
   "cell_type": "code",
   "execution_count": 95,
   "outputs": [
    {
     "data": {
      "text/plain": "RandomForestClassifier()"
     },
     "execution_count": 95,
     "metadata": {},
     "output_type": "execute_result"
    }
   ],
   "source": [
    "#split Data in training and test set and train model\n",
    "X_train, X_test, y_train, y_test = train_test_split(X, y, test_size=0.2, random_state=42)\n",
    "rf_model = RandomForestClassifier()\n",
    "rf_model.fit(X_train, y_train)"
   ],
   "metadata": {
    "collapsed": false,
    "pycharm": {
     "name": "#%%\n"
    }
   }
  },
  {
   "cell_type": "code",
   "execution_count": 96,
   "outputs": [
    {
     "data": {
      "text/plain": "0.5526315789473685"
     },
     "execution_count": 96,
     "metadata": {},
     "output_type": "execute_result"
    }
   ],
   "source": [
    "rf_model.score(X_test, y_test)"
   ],
   "metadata": {
    "collapsed": false,
    "pycharm": {
     "name": "#%%\n"
    }
   }
  },
  {
   "cell_type": "code",
   "execution_count": 97,
   "outputs": [],
   "source": [
    "# select = SelectKBest(score_func=f_classif, k=1)\n",
    "# z = select.fit_transform(X,y)\n",
    "#\n",
    "# print(\"Best Feature:\", z.shape)"
   ],
   "metadata": {
    "collapsed": false,
    "pycharm": {
     "name": "#%%\n"
    }
   }
  },
  {
   "cell_type": "code",
   "execution_count": 259,
   "outputs": [
    {
     "name": "stdout",
     "output_type": "stream",
     "text": [
      "Selected best 3:\n",
      "['Rating difference']\n"
     ]
    }
   ],
   "source": [
    "# from numpy import array\n",
    "# filter = select.get_support()\n",
    "# features = array(feature_names)\n",
    "#\n",
    "# #print(\"All features:\")\n",
    "# #print(features)\n",
    "#\n",
    "# print(\"Selected best 3:\")\n",
    "# print(features[filter])\n",
    "# #print(z)"
   ],
   "metadata": {
    "collapsed": false,
    "pycharm": {
     "name": "#%%\n"
    }
   }
  },
  {
   "cell_type": "code",
   "execution_count": 98,
   "outputs": [
    {
     "name": "stdout",
     "output_type": "stream",
     "text": [
      "0.5348242979821928\n",
      "Rating difference       0.049887\n",
      "Elo_a_before            0.042518\n",
      "Elo_h_before            0.041777\n",
      "shotsDifference         0.040843\n",
      "goalsH                  0.038322\n",
      "Rating_Away             0.037747\n",
      "elo_difference          0.035045\n",
      "rating_difference_09    0.034859\n",
      "ewmDifference           0.034798\n",
      "goalsDifference         0.034595\n",
      "shotsH                  0.034345\n",
      "ewmA                    0.033893\n",
      "cornersDifference       0.033734\n",
      "rating_difference_01    0.033703\n",
      "cornersA                0.033249\n",
      "cornersH                0.032415\n",
      "rating_difference_08    0.032251\n",
      "formH                   0.031979\n",
      "ewmH                    0.031850\n",
      "form_difference         0.031692\n",
      "rating_difference_05    0.031412\n",
      "rating_difference_06    0.030879\n",
      "rating_difference_07    0.030770\n",
      "rating_difference_02    0.030738\n",
      "rating_difference_04    0.030591\n",
      "shotsA                  0.030470\n",
      "rating_difference_03    0.030206\n",
      "goalsA                  0.027981\n",
      "formA                   0.027395\n",
      "Rating_Home             0.020468\n",
      "dtype: float64\n",
      "CPU times: total: 2min 41s\n",
      "Wall time: 2min 42s\n"
     ]
    },
    {
     "data": {
      "text/plain": "<Figure size 432x288 with 1 Axes>",
      "image/png": "[encoded data removed]"
     },
     "metadata": {
      "needs_background": "light"
     },
     "output_type": "display_data"
    }
   ],
   "source": [
    "%%time\n",
    "#split Data in training and test set\n",
    "d_1 = 0\n",
    "d_2 = 0\n",
    "d_3 = 0\n",
    "d_4 = 0\n",
    "d_5 = 0\n",
    "d_6 = 0\n",
    "d_7 = 0\n",
    "d_8 = 0\n",
    "d_9 = 0\n",
    "rating_dif = 0\n",
    "rating_h = 0\n",
    "rating_a = 0\n",
    "ewm_h = 0\n",
    "ewm_a = 0\n",
    "ewm_dif = 0\n",
    "elo_h = 0\n",
    "elo_a = 0\n",
    "elo_dif = 0\n",
    "goals_h = 0\n",
    "goals_a = 0\n",
    "goals_dif = 0\n",
    "shots_h = 0\n",
    "shots_a = 0\n",
    "shots_dif = 0\n",
    "corners_h = 0\n",
    "corners_a = 0\n",
    "corners_dif = 0\n",
    "form_h = 0\n",
    "form_a = 0\n",
    "form_dif = 0\n",
    "\n",
    "\n",
    "score = []\n",
    "i = 1000\n",
    "for i in range(1, i):\n",
    "    X_train, X_test, y_train, y_test = train_test_split(X, y, test_size=0.2, random_state=42)\n",
    "    rf_model = RandomForestClassifier()\n",
    "    rf_model.fit(X_train, y_train)\n",
    "    score.append(rf_model.score(X_test, y_test))\n",
    "    importances = rf_model.feature_importances_\n",
    "    std = np.std([tree.feature_importances_ for tree in rf_model.estimators_], axis=0)\n",
    "    forest_importances = pd.Series(importances, index=feature_names)\n",
    "    d_1 = d_1 + forest_importances.rating_difference_01\n",
    "    d_2 = d_2 + forest_importances.rating_difference_02\n",
    "    d_3 = d_3 + forest_importances.rating_difference_03\n",
    "    d_4 = d_4 + forest_importances.rating_difference_04\n",
    "    d_5 = d_5 + forest_importances.rating_difference_05\n",
    "    d_6 = d_6 + forest_importances.rating_difference_06\n",
    "    d_7 = d_7 + forest_importances.rating_difference_07\n",
    "    d_8 = d_8 + forest_importances.rating_difference_08\n",
    "    d_9 = d_9 + forest_importances.rating_difference_09\n",
    "\n",
    "    rating_dif = rating_dif + forest_importances['Rating difference']\n",
    "    rating_h = rating_h + forest_importances.Rating_Home\n",
    "    rating_a = rating_a + forest_importances.Rating_Away\n",
    "    ewm_h = ewm_h + forest_importances.ewmH\n",
    "    ewm_a = ewm_a + forest_importances.ewmA\n",
    "    ewm_dif = ewm_dif + forest_importances.ewmDifference\n",
    "    elo_h = elo_h + forest_importances.Elo_h_before\n",
    "    elo_a = elo_a + forest_importances.Elo_a_before\n",
    "    elo_dif = elo_dif+ forest_importances.elo_difference\n",
    "    goals_h = goals_h+ forest_importances.goalsH\n",
    "    goals_a = goals_a+ forest_importances.goalsA\n",
    "    goals_dif = goals_dif+ forest_importances.goalsDifference\n",
    "    shots_h = shots_h+ forest_importances.shotsH\n",
    "    shots_a = shots_a+ forest_importances.shotsA\n",
    "    shots_dif = shots_dif+ forest_importances.shotsDifference\n",
    "    corners_h = corners_h+ forest_importances.cornersH\n",
    "    corners_a = corners_a+ forest_importances.cornersA\n",
    "    corners_dif = corners_dif+ forest_importances.cornersDifference\n",
    "    form_h = form_h+ forest_importances.formH\n",
    "    form_a = form_a+ forest_importances.formA\n",
    "    form_dif = form_dif+ forest_importances.form_difference\n",
    "\n",
    "fig, ax = plt.subplots()\n",
    "forest_importances.rating_difference_01 = d_1/i\n",
    "forest_importances.rating_difference_02 = d_2/i\n",
    "forest_importances.rating_difference_03 = d_3/i\n",
    "forest_importances.rating_difference_04 = d_4/i\n",
    "forest_importances.rating_difference_05 = d_5/i\n",
    "forest_importances.rating_difference_06 = d_6/i\n",
    "forest_importances.rating_difference_07 = d_7/i\n",
    "forest_importances.rating_difference_08 = d_8/i\n",
    "forest_importances.rating_difference_09 = d_9/i\n",
    "forest_importances['Rating difference'] = rating_dif/i\n",
    "forest_importances.Rating_Home = rating_h/i\n",
    "forest_importances.Rating_Away = rating_a/i\n",
    "forest_importances.ewmH = ewm_h/i\n",
    "forest_importances.ewmA = ewm_a/i\n",
    "forest_importances.ewmDifference = ewm_dif/i\n",
    "forest_importances.Elo_h_before = elo_h/i\n",
    "forest_importances.Elo_h_before = elo_a/i\n",
    "forest_importances.elo_difference = elo_dif/i\n",
    "forest_importances.goalsH = goals_h/i\n",
    "forest_importances.goalsA = goals_a/i\n",
    "forest_importances.goalsDifference = goals_dif/i\n",
    "forest_importances.shotsH = shots_h/i\n",
    "forest_importances.shotsA = shots_a/i\n",
    "forest_importances.shotsDifference = shots_dif/i\n",
    "forest_importances.cornersH = corners_h/i\n",
    "forest_importances.cornersA = corners_a/i\n",
    "forest_importances.cornersDifference = corners_dif/i\n",
    "forest_importances.formH = form_h/i\n",
    "forest_importances.formA = form_a/i\n",
    "forest_importances.form_difference = form_dif/i\n",
    "\n",
    "\n",
    "\n",
    "\n",
    "forest_importances = forest_importances.sort_values()\n",
    "forest_importances.plot.barh(ax=ax, yerr=std)\n",
    "ax.set_title(\"Feature importances using MDI\")\n",
    "ax.set_xlabel(\"Mean decrease in impurity\")\n",
    "fig.tight_layout(pad=-5, w_pad=0.5, h_pad=-2)\n",
    "print(np.mean(score))\n",
    "print(forest_importances.sort_values(ascending=False))\n",
    "\n"
   ],
   "metadata": {
    "collapsed": false,
    "pycharm": {
     "name": "#%%\n"
    }
   }
  },
  {
   "cell_type": "code",
   "execution_count": 2,
   "outputs": [
    {
     "ename": "NameError",
     "evalue": "name 'player_ratings_a_09' is not defined",
     "output_type": "error",
     "traceback": [
      "\u001B[1;31m---------------------------------------------------------------------------\u001B[0m",
      "\u001B[1;31mNameError\u001B[0m                                 Traceback (most recent call last)",
      "Input \u001B[1;32mIn [2]\u001B[0m, in \u001B[0;36m<cell line: 2>\u001B[1;34m()\u001B[0m\n\u001B[0;32m      1\u001B[0m \u001B[38;5;66;03m#only stats with alpha = 0.9\u001B[39;00m\n\u001B[1;32m----> 2\u001B[0m player_ratings_09 \u001B[38;5;241m=\u001B[39m  pd\u001B[38;5;241m.\u001B[39mmerge(\u001B[43mplayer_ratings_a_09\u001B[49m, PL20_21_fixtures, on\u001B[38;5;241m=\u001B[39m \u001B[38;5;124m'\u001B[39m\u001B[38;5;124mgame_home_ID\u001B[39m\u001B[38;5;124m'\u001B[39m, how\u001B[38;5;241m=\u001B[39m\u001B[38;5;124m'\u001B[39m\u001B[38;5;124mleft\u001B[39m\u001B[38;5;124m'\u001B[39m)\n\u001B[0;32m      3\u001B[0m \u001B[38;5;66;03m#create differences\u001B[39;00m\n\u001B[0;32m      4\u001B[0m player_ratings_09[\u001B[38;5;124m'\u001B[39m\u001B[38;5;124mgk_difference\u001B[39m\u001B[38;5;124m'\u001B[39m] \u001B[38;5;241m=\u001B[39m player_ratings_09[\u001B[38;5;124m'\u001B[39m\u001B[38;5;124mrating_h_gk_09\u001B[39m\u001B[38;5;124m'\u001B[39m] \u001B[38;5;241m-\u001B[39m player_ratings_09[\u001B[38;5;124m'\u001B[39m\u001B[38;5;124mrating_a_gk_09\u001B[39m\u001B[38;5;124m'\u001B[39m]\n",
      "\u001B[1;31mNameError\u001B[0m: name 'player_ratings_a_09' is not defined"
     ]
    }
   ],
   "source": [
    "#only stats with alpha = 0.9\n",
    "player_ratings_09 =  pd.merge(player_ratings_a_09, PL20_21_fixtures, on= 'game_home_ID', how='left')\n",
    "#create differences\n",
    "player_ratings_09['gk_difference'] = player_ratings_09['rating_h_gk_09'] - player_ratings_09['rating_a_gk_09']\n",
    "player_ratings_09['df_difference'] = player_ratings_09['rating_h_df_09'] - player_ratings_09['rating_a_df_09']\n",
    "player_ratings_09['mf_difference'] = player_ratings_09['rating_h_mf_09'] - player_ratings_09['rating_a_mf_09']\n",
    "player_ratings_09['att_difference'] = player_ratings_09['rating_h_att_09'] - player_ratings_09['rating_a_att_09']\n",
    "player_ratings_09['bench_difference'] = player_ratings_09['rating_h_bench_09'] - player_ratings_09['rating_a_bench_09']\n",
    "player_ratings_09['influence_difference'] = player_ratings_09['influence_h_09'] - player_ratings_09['influence_a_09']\n",
    "player_ratings_09['creativity_difference'] = player_ratings_09['creativity_h_09'] - player_ratings_09['creativity_a_09']\n",
    "player_ratings_09['threat_difference'] = player_ratings_09['threat_h_09'] - player_ratings_09['threat_a_09']\n",
    "player_ratings_09['bps_difference'] = player_ratings_09['bps_h_09'] - player_ratings_09['bps_a_09']\n",
    "player_ratings_09['selected_difference'] = player_ratings_09['selected_h_09'] - player_ratings_09['selected_a_09']\n",
    "player_ratings_09['overall_h'] = player_ratings_09['rating_h_gk_09'] + player_ratings_09['rating_h_df_09'] + player_ratings_09['rating_h_mf_09'] + player_ratings_09['rating_h_att_09'] + player_ratings_09['rating_h_bench_09']\n",
    "player_ratings_09['overall_a'] = player_ratings_09['rating_a_gk_09'] + player_ratings_09['rating_a_df_09'] + player_ratings_09['rating_a_mf_09'] + player_ratings_09['rating_a_att_09'] + player_ratings_09['rating_a_bench_09']\n",
    "player_ratings_09['overall_difference'] = player_ratings_09['overall_h'] - player_ratings_09['overall_a']\n",
    "player_ratings_09"
   ],
   "metadata": {
    "collapsed": false,
    "pycharm": {
     "name": "#%%\n"
    }
   }
  },
  {
   "cell_type": "code",
   "execution_count": 99,
   "outputs": [
    {
     "name": "stdout",
     "output_type": "stream",
     "text": [
      "0.5327233414196816\n",
      "0.5131578947368423\n"
     ]
    }
   ],
   "source": [
    "score = []\n",
    "score2 = []\n",
    "i = 500\n",
    "for i in range(1, i):\n",
    "    rf_model = RandomForestClassifier()\n",
    "    rf_model.fit(X_train, y_train)\n",
    "    xgb_model = xgb.XGBClassifier(seed=82)\n",
    "    xgb_model.fit(X_train, y_train)\n",
    "    score2.append(xgb_model.score(X_test, y_test))\n",
    "    score.append(rf_model.score(X_test, y_test))\n",
    "print(np.mean(score))\n",
    "print(np.mean(score2))"
   ],
   "metadata": {
    "collapsed": false,
    "pycharm": {
     "name": "#%%\n"
    }
   }
  },
  {
   "cell_type": "code",
   "execution_count": 102,
   "outputs": [
    {
     "name": "stdout",
     "output_type": "stream",
     "text": [
      "0.5\n"
     ]
    },
    {
     "data": {
      "text/plain": "        H     D     A\n0    0.02  0.97  0.01\n1    0.76  0.22  0.02\n2    0.85  0.15  0.00\n3    0.68  0.30  0.02\n4    0.02  0.96  0.02\n..    ...   ...   ...\n375  0.87  0.11  0.02\n376  0.37  0.43  0.20\n377  0.80  0.14  0.06\n378  0.76  0.18  0.06\n379  0.10  0.81  0.09\n\n[380 rows x 3 columns]",
      "text/html": "<div>\n<style scoped>\n    .dataframe tbody tr th:only-of-type {\n        vertical-align: middle;\n    }\n\n    .dataframe tbody tr th {\n        vertical-align: top;\n    }\n\n    .dataframe thead th {\n        text-align: right;\n    }\n</style>\n<table border=\"1\" class=\"dataframe\">\n  <thead>\n    <tr style=\"text-align: right;\">\n      <th></th>\n      <th>H</th>\n      <th>D</th>\n      <th>A</th>\n    </tr>\n  </thead>\n  <tbody>\n    <tr>\n      <th>0</th>\n      <td>0.02</td>\n      <td>0.97</td>\n      <td>0.01</td>\n    </tr>\n    <tr>\n      <th>1</th>\n      <td>0.76</td>\n      <td>0.22</td>\n      <td>0.02</td>\n    </tr>\n    <tr>\n      <th>2</th>\n      <td>0.85</td>\n      <td>0.15</td>\n      <td>0.00</td>\n    </tr>\n    <tr>\n      <th>3</th>\n      <td>0.68</td>\n      <td>0.30</td>\n      <td>0.02</td>\n    </tr>\n    <tr>\n      <th>4</th>\n      <td>0.02</td>\n      <td>0.96</td>\n      <td>0.02</td>\n    </tr>\n    <tr>\n      <th>...</th>\n      <td>...</td>\n      <td>...</td>\n      <td>...</td>\n    </tr>\n    <tr>\n      <th>375</th>\n      <td>0.87</td>\n      <td>0.11</td>\n      <td>0.02</td>\n    </tr>\n    <tr>\n      <th>376</th>\n      <td>0.37</td>\n      <td>0.43</td>\n      <td>0.20</td>\n    </tr>\n    <tr>\n      <th>377</th>\n      <td>0.80</td>\n      <td>0.14</td>\n      <td>0.06</td>\n    </tr>\n    <tr>\n      <th>378</th>\n      <td>0.76</td>\n      <td>0.18</td>\n      <td>0.06</td>\n    </tr>\n    <tr>\n      <th>379</th>\n      <td>0.10</td>\n      <td>0.81</td>\n      <td>0.09</td>\n    </tr>\n  </tbody>\n</table>\n<p>380 rows × 3 columns</p>\n</div>"
     },
     "execution_count": 102,
     "metadata": {},
     "output_type": "execute_result"
    },
    {
     "data": {
      "text/plain": "<Figure size 432x288 with 1 Axes>",
      "image/png": "[encoded data removed]"
     },
     "metadata": {
      "needs_background": "light"
     },
     "output_type": "display_data"
    }
   ],
   "source": [
    "#prepare Data for ML Algos\n",
    "#add column for H A X\n",
    "#player_ratings_09_tmp = player_ratings_09.iloc[30:]\n",
    "player_ratings_09_tmp = player_ratings_09\n",
    "conditions = [\n",
    "    (player_ratings_09_tmp['FTR_09'] == 'H'),\n",
    "    (player_ratings_09_tmp['FTR_09'] == 'A'),\n",
    "    (player_ratings_09_tmp['FTR_09'] == 'D')]\n",
    "choices = [0, 1, 2]\n",
    "player_ratings_09_tmp['identifier'] = np.select(conditions, choices)\n",
    "#PL20_21_features.drop(PL20_21_features[ PL20_21_features.Wk < 6].index, inplace=True)\n",
    "y = player_ratings_09_tmp['identifier'].to_numpy()\n",
    "feature_names = ['rating_h_gk_09', 'Rating difference', 'Rating_Home', 'Rating_Away', 'ewmH', 'ewmA', 'ewmDifference', 'Elo_h_before','Elo_a_before', 'elo_difference', 'goalsH', 'goalsA', 'goalsDifference', 'shotsH', 'shotsA','shotsDifference', 'cornersH', 'cornersA', 'cornersDifference', 'formH', 'formA', 'form_difference', 'rating_a_gk_09', 'rating_h_df_09', 'rating_a_df_09', 'rating_h_mf_09', 'rating_a_mf_09', 'rating_h_att_09', 'rating_a_att_09', 'rating_h_bench_09', 'rating_a_bench_09', 'influence_h_09', 'influence_a_09', 'creativity_h_09', 'creativity_a_09', 'threat_h_09', 'threat_a_09', 'bps_h_09', 'bps_a_09', 'selected_h_09', 'selected_a_09', 'gk_difference', 'df_difference', 'mf_difference', 'att_difference', 'bench_difference','overall_difference' ,'influence_difference', 'creativity_difference', 'threat_difference', 'bps_difference', 'selected_difference', 'overall_h', 'overall_a']\n",
    "#feature_names = ['Rating difference', 'Rating_Home', 'Rating_Away', 'ewmH', 'ewmA', 'ewmDifference', 'Elo_h_before','Elo_a_before', 'elo_difference', 'goalsH', 'goalsA', 'goalsDifference', 'shotsH', 'shotsA','shotsDifference', 'cornersH', 'cornersA', 'cornersDifference', 'formH', 'formA', 'form_difference']\n",
    "X = player_ratings_09_tmp[feature_names].to_numpy()\n",
    "X_train, X_test, y_train, y_test = train_test_split(X, y, test_size=0.2, random_state=42)\n",
    "rf_model = RandomForestClassifier()\n",
    "rf_model.fit(X_train, y_train)\n",
    "score.append(rf_model.score(X_test, y_test))\n",
    "#start_time = time.time()\n",
    "importances = rf_model.feature_importances_\n",
    "std = np.std([tree.feature_importances_ for tree in rf_model.estimators_], axis=0)\n",
    "#elapsed_time = time.time() - start_time\n",
    "\n",
    "\n",
    "#feature_names = [f\"feature {i}\" for i in range(X.shape[1])]\n",
    "\n",
    "\n",
    "forest_importances = pd.Series(importances, index=feature_names)\n",
    "forest_importances = forest_importances.sort_values()\n",
    "fig, ax = plt.subplots()\n",
    "fig.tight_layout(pad=-15, w_pad=0.5, h_pad=-2)\n",
    "\n",
    "forest_importances.plot.barh(ax=ax, yerr=std)\n",
    "ax.set_title(\"Feature importances using MDI\")\n",
    "ax.set_xlabel(\"Mean decrease in impurity\")\n",
    "print(rf_model.score(X_test, y_test))\n",
    "\n",
    "np_prob = rf_model.predict_proba(X=X)\n",
    "df = pd.DataFrame(np_prob, columns = ['H','D','A'])\n",
    "df\n",
    "#df.to_csv('Data/2020-21/Fixtures/probabilities.csv')\n",
    "#fig.tight_layout(pad=-15, w_pad=0.5, h_pad=-2)"
   ],
   "metadata": {
    "collapsed": false,
    "pycharm": {
     "name": "#%%\n"
    }
   }
  },
  {
   "cell_type": "code",
   "execution_count": 384,
   "outputs": [],
   "source": [
    "df.to_csv('Data/2020-21/Fixtures/probabilities_ohne_pl_stats.csv')"
   ],
   "metadata": {
    "collapsed": false,
    "pycharm": {
     "name": "#%%\n"
    }
   }
  }
 ],
 "metadata": {
  "kernelspec": {
   "display_name": "Python 3",
   "language": "python",
   "name": "python3"
  },
  "language_info": {
   "codemirror_mode": {
    "name": "ipython",
    "version": 2
   },
   "file_extension": ".py",
   "mimetype": "text/x-python",
   "name": "python",
   "nbconvert_exporter": "python",
   "pygments_lexer": "ipython2",
   "version": "2.7.6"
  }
 },
 "nbformat": 4,
 "nbformat_minor": 0
}