{
 "cells": [
  {
   "cell_type": "code",
   "execution_count": 70,
   "metadata": {
    "collapsed": true
   },
   "outputs": [],
   "source": [
    "#import necessary packages\n",
    "import pandas as pd\n",
    "import numpy as np\n",
    "from sklearn.ensemble import RandomForestClassifier\n",
    "import xgboost as xgb\n",
    "from sklearn.model_selection import train_test_split\n",
    "import time\n",
    "import matplotlib.pyplot as plt"
   ]
  },
  {
   "cell_type": "code",
   "execution_count": 71,
   "outputs": [],
   "source": [
    "#import data\n",
    "PL20_21_fixtures = pd.read_csv('Data/2020-21/Fixtures/PL20_21_features.csv')\n",
    "PL20_21_lineups = pd.read_csv('Data/2020-21/Players/PL2020_lineups.csv')\n",
    "PL20_21_player_stats = pd.read_csv('Data/2020-21/Players/PL2020_total.csv')\n",
    "PL20_21_lineups['player_id'] = PL20_21_lineups['player'] + PL20_21_lineups['team'] + PL20_21_lineups['date'].astype(str)\n",
    "PL20_21_lineups['game_id'] = PL20_21_lineups['team'] + PL20_21_lineups['date'].astype(str)\n",
    "PL20_21_lineups\n",
    "PL20_21_player_stats = PL20_21_player_stats.rename(columns={'player_ID':'player_id','game_ID':'game_id'})"
   ],
   "metadata": {
    "collapsed": false,
    "pycharm": {
     "name": "#%%\n"
    }
   }
  },
  {
   "cell_type": "code",
   "execution_count": 72,
   "outputs": [
    {
     "data": {
      "text/plain": "       Unnamed: 0             player_fl              player        date  \\\n0               0        Aaron Connolly      Aaron Connolly  2020-09-14   \n1               1       Aaron Cresswell     Aaron Cresswell  2020-09-12   \n2               2            Aaron Mooy                   0  2020-09-14   \n3               3        Aaron Ramsdale      Aaron Ramsdale  2020-09-14   \n4               4    Abdoulaye Doucouré  Abdoulaye Doucouré  2020-09-13   \n...           ...                   ...                 ...         ...   \n24376       24376        Aaron Ramsdale      Aaron Ramsdale  2021-05-23   \n24377       24377          Adrien Silva                   0  2021-05-23   \n24378       24378        Sidnei Tavares      Sidnei Tavares  2021-05-23   \n24379       24379       Kalvin Phillips     Kalvin Phillips  2021-05-23   \n24380       24380  Raphael Dias Belloli            Raphinha  2021-05-23   \n\n                         team             team_rating    category position_fl  \\\n0      Brighton & Hove Albion  Brighton & Hove Albion     Forward         FWD   \n1             West Ham United         West Ham United    Defender         DEF   \n2      Brighton & Hove Albion                     NaN         NaN         MID   \n3            Sheffield United        Sheffield United  Goalkeeper          GK   \n4                     Everton                 Everton    Midfield         MID   \n...                       ...                     ...         ...         ...   \n24376        Sheffield United        Sheffield United  Goalkeeper          GK   \n24377          Leicester City                     NaN         NaN         MID   \n24378          Leicester City                     NaN         NaN         MID   \n24379            Leeds United            Leeds United    Midfield         MID   \n24380            Leeds United            Leeds United    Defender         MID   \n\n       minutes_fl  minutes_rating  ...  total_points  transfers_balance  \\\n0              45            46.0  ...             1                  0   \n1              90            90.0  ...             1                  0   \n2               0             NaN  ...             0                  0   \n3              90            90.0  ...             1                  0   \n4              90            90.0  ...             3                  0   \n...           ...             ...  ...           ...                ...   \n24376          90            90.0  ...             9              13618   \n24377           0             NaN  ...             0                -16   \n24378           0             NaN  ...             0                 32   \n24379          90            90.0  ...             6                210   \n24380          90            90.0  ...             5             124979   \n\n       transfers_in  transfers_out  value  was_home  opponent_team  selected  \\\n0                 0              0     55      True              5     32205   \n1                 0              0     50      True             14     70232   \n2                 0              0     50      True              5      2010   \n3                 0              0     50      True             20    462939   \n4                 0              0     55     False             17    143040   \n...             ...            ...    ...       ...            ...       ...   \n24376         17381           3763     46      True              4    162985   \n24377             0             16     44      True             17     16396   \n24378            60             28     44      True             17       337   \n24379           789            579     49      True             18     74008   \n24380        142069          17090     56      True             18    780314   \n\n                                            player_id  \\\n0      Aaron ConnollyBrighton & Hove Albion2020-09-14   \n1            Aaron CresswellWest Ham United2020-09-12   \n2                   0Brighton & Hove Albion2020-09-14   \n3            Aaron RamsdaleSheffield United2020-09-14   \n4                 Abdoulaye DoucouréEverton2020-09-13   \n...                                               ...   \n24376        Aaron RamsdaleSheffield United2021-05-23   \n24377                       0Leicester City2021-05-23   \n24378          Sidnei TavaresLeicester City2021-05-23   \n24379           Kalvin PhillipsLeeds United2021-05-23   \n24380                  RaphinhaLeeds United2021-05-23   \n\n                                game_id  \n0      Brighton & Hove Albion2020-09-14  \n1             West Ham United2020-09-12  \n2      Brighton & Hove Albion2020-09-14  \n3            Sheffield United2020-09-14  \n4                     Everton2020-09-13  \n...                                 ...  \n24376        Sheffield United2021-05-23  \n24377          Leicester City2021-05-23  \n24378          Leicester City2021-05-23  \n24379            Leeds United2021-05-23  \n24380            Leeds United2021-05-23  \n\n[24381 rows x 28 columns]",
      "text/html": "<div>\n<style scoped>\n    .dataframe tbody tr th:only-of-type {\n        vertical-align: middle;\n    }\n\n    .dataframe tbody tr th {\n        vertical-align: top;\n    }\n\n    .dataframe thead th {\n        text-align: right;\n    }\n</style>\n<table border=\"1\" class=\"dataframe\">\n  <thead>\n    <tr style=\"text-align: right;\">\n      <th></th>\n      <th>Unnamed: 0</th>\n      <th>player_fl</th>\n      <th>player</th>\n      <th>date</th>\n      <th>team</th>\n      <th>team_rating</th>\n      <th>category</th>\n      <th>position_fl</th>\n      <th>minutes_fl</th>\n      <th>minutes_rating</th>\n      <th>...</th>\n      <th>total_points</th>\n      <th>transfers_balance</th>\n      <th>transfers_in</th>\n      <th>transfers_out</th>\n      <th>value</th>\n      <th>was_home</th>\n      <th>opponent_team</th>\n      <th>selected</th>\n      <th>player_id</th>\n      <th>game_id</th>\n    </tr>\n  </thead>\n  <tbody>\n    <tr>\n      <th>0</th>\n      <td>0</td>\n      <td>Aaron Connolly</td>\n      <td>Aaron Connolly</td>\n      <td>2020-09-14</td>\n      <td>Brighton &amp; Hove Albion</td>\n      <td>Brighton &amp; Hove Albion</td>\n      <td>Forward</td>\n      <td>FWD</td>\n      <td>45</td>\n      <td>46.0</td>\n      <td>...</td>\n      <td>1</td>\n      <td>0</td>\n      <td>0</td>\n      <td>0</td>\n      <td>55</td>\n      <td>True</td>\n      <td>5</td>\n      <td>32205</td>\n      <td>Aaron ConnollyBrighton &amp; Hove Albion2020-09-14</td>\n      <td>Brighton &amp; Hove Albion2020-09-14</td>\n    </tr>\n    <tr>\n      <th>1</th>\n      <td>1</td>\n      <td>Aaron Cresswell</td>\n      <td>Aaron Cresswell</td>\n      <td>2020-09-12</td>\n      <td>West Ham United</td>\n      <td>West Ham United</td>\n      <td>Defender</td>\n      <td>DEF</td>\n      <td>90</td>\n      <td>90.0</td>\n      <td>...</td>\n      <td>1</td>\n      <td>0</td>\n      <td>0</td>\n      <td>0</td>\n      <td>50</td>\n      <td>True</td>\n      <td>14</td>\n      <td>70232</td>\n      <td>Aaron CresswellWest Ham United2020-09-12</td>\n      <td>West Ham United2020-09-12</td>\n    </tr>\n    <tr>\n      <th>2</th>\n      <td>2</td>\n      <td>Aaron Mooy</td>\n      <td>0</td>\n      <td>2020-09-14</td>\n      <td>Brighton &amp; Hove Albion</td>\n      <td>NaN</td>\n      <td>NaN</td>\n      <td>MID</td>\n      <td>0</td>\n      <td>NaN</td>\n      <td>...</td>\n      <td>0</td>\n      <td>0</td>\n      <td>0</td>\n      <td>0</td>\n      <td>50</td>\n      <td>True</td>\n      <td>5</td>\n      <td>2010</td>\n      <td>0Brighton &amp; Hove Albion2020-09-14</td>\n      <td>Brighton &amp; Hove Albion2020-09-14</td>\n    </tr>\n    <tr>\n      <th>3</th>\n      <td>3</td>\n      <td>Aaron Ramsdale</td>\n      <td>Aaron Ramsdale</td>\n      <td>2020-09-14</td>\n      <td>Sheffield United</td>\n      <td>Sheffield United</td>\n      <td>Goalkeeper</td>\n      <td>GK</td>\n      <td>90</td>\n      <td>90.0</td>\n      <td>...</td>\n      <td>1</td>\n      <td>0</td>\n      <td>0</td>\n      <td>0</td>\n      <td>50</td>\n      <td>True</td>\n      <td>20</td>\n      <td>462939</td>\n      <td>Aaron RamsdaleSheffield United2020-09-14</td>\n      <td>Sheffield United2020-09-14</td>\n    </tr>\n    <tr>\n      <th>4</th>\n      <td>4</td>\n      <td>Abdoulaye Doucouré</td>\n      <td>Abdoulaye Doucouré</td>\n      <td>2020-09-13</td>\n      <td>Everton</td>\n      <td>Everton</td>\n      <td>Midfield</td>\n      <td>MID</td>\n      <td>90</td>\n      <td>90.0</td>\n      <td>...</td>\n      <td>3</td>\n      <td>0</td>\n      <td>0</td>\n      <td>0</td>\n      <td>55</td>\n      <td>False</td>\n      <td>17</td>\n      <td>143040</td>\n      <td>Abdoulaye DoucouréEverton2020-09-13</td>\n      <td>Everton2020-09-13</td>\n    </tr>\n    <tr>\n      <th>...</th>\n      <td>...</td>\n      <td>...</td>\n      <td>...</td>\n      <td>...</td>\n      <td>...</td>\n      <td>...</td>\n      <td>...</td>\n      <td>...</td>\n      <td>...</td>\n      <td>...</td>\n      <td>...</td>\n      <td>...</td>\n      <td>...</td>\n      <td>...</td>\n      <td>...</td>\n      <td>...</td>\n      <td>...</td>\n      <td>...</td>\n      <td>...</td>\n      <td>...</td>\n      <td>...</td>\n    </tr>\n    <tr>\n      <th>24376</th>\n      <td>24376</td>\n      <td>Aaron Ramsdale</td>\n      <td>Aaron Ramsdale</td>\n      <td>2021-05-23</td>\n      <td>Sheffield United</td>\n      <td>Sheffield United</td>\n      <td>Goalkeeper</td>\n      <td>GK</td>\n      <td>90</td>\n      <td>90.0</td>\n      <td>...</td>\n      <td>9</td>\n      <td>13618</td>\n      <td>17381</td>\n      <td>3763</td>\n      <td>46</td>\n      <td>True</td>\n      <td>4</td>\n      <td>162985</td>\n      <td>Aaron RamsdaleSheffield United2021-05-23</td>\n      <td>Sheffield United2021-05-23</td>\n    </tr>\n    <tr>\n      <th>24377</th>\n      <td>24377</td>\n      <td>Adrien Silva</td>\n      <td>0</td>\n      <td>2021-05-23</td>\n      <td>Leicester City</td>\n      <td>NaN</td>\n      <td>NaN</td>\n      <td>MID</td>\n      <td>0</td>\n      <td>NaN</td>\n      <td>...</td>\n      <td>0</td>\n      <td>-16</td>\n      <td>0</td>\n      <td>16</td>\n      <td>44</td>\n      <td>True</td>\n      <td>17</td>\n      <td>16396</td>\n      <td>0Leicester City2021-05-23</td>\n      <td>Leicester City2021-05-23</td>\n    </tr>\n    <tr>\n      <th>24378</th>\n      <td>24378</td>\n      <td>Sidnei Tavares</td>\n      <td>Sidnei Tavares</td>\n      <td>2021-05-23</td>\n      <td>Leicester City</td>\n      <td>NaN</td>\n      <td>NaN</td>\n      <td>MID</td>\n      <td>0</td>\n      <td>NaN</td>\n      <td>...</td>\n      <td>0</td>\n      <td>32</td>\n      <td>60</td>\n      <td>28</td>\n      <td>44</td>\n      <td>True</td>\n      <td>17</td>\n      <td>337</td>\n      <td>Sidnei TavaresLeicester City2021-05-23</td>\n      <td>Leicester City2021-05-23</td>\n    </tr>\n    <tr>\n      <th>24379</th>\n      <td>24379</td>\n      <td>Kalvin Phillips</td>\n      <td>Kalvin Phillips</td>\n      <td>2021-05-23</td>\n      <td>Leeds United</td>\n      <td>Leeds United</td>\n      <td>Midfield</td>\n      <td>MID</td>\n      <td>90</td>\n      <td>90.0</td>\n      <td>...</td>\n      <td>6</td>\n      <td>210</td>\n      <td>789</td>\n      <td>579</td>\n      <td>49</td>\n      <td>True</td>\n      <td>18</td>\n      <td>74008</td>\n      <td>Kalvin PhillipsLeeds United2021-05-23</td>\n      <td>Leeds United2021-05-23</td>\n    </tr>\n    <tr>\n      <th>24380</th>\n      <td>24380</td>\n      <td>Raphael Dias Belloli</td>\n      <td>Raphinha</td>\n      <td>2021-05-23</td>\n      <td>Leeds United</td>\n      <td>Leeds United</td>\n      <td>Defender</td>\n      <td>MID</td>\n      <td>90</td>\n      <td>90.0</td>\n      <td>...</td>\n      <td>5</td>\n      <td>124979</td>\n      <td>142069</td>\n      <td>17090</td>\n      <td>56</td>\n      <td>True</td>\n      <td>18</td>\n      <td>780314</td>\n      <td>RaphinhaLeeds United2021-05-23</td>\n      <td>Leeds United2021-05-23</td>\n    </tr>\n  </tbody>\n</table>\n<p>24381 rows × 28 columns</p>\n</div>"
     },
     "execution_count": 72,
     "metadata": {},
     "output_type": "execute_result"
    }
   ],
   "source": [
    "PL20_21_player_stats"
   ],
   "metadata": {
    "collapsed": false,
    "pycharm": {
     "name": "#%%\n"
    }
   }
  },
  {
   "cell_type": "code",
   "execution_count": 73,
   "outputs": [
    {
     "data": {
      "text/plain": "     Unnamed: 0 Div        Date   Time                 HomeTeam  \\\n0             0  E0  2020-09-12  12:30                   Fulham   \n1             1  E0  2020-09-12  15:00           Crystal Palace   \n2             2  E0  2020-09-12  17:30                Liverpool   \n3             3  E0  2020-09-12  20:00          West Ham United   \n4             4  E0  2020-09-13  14:00     West Bromwich Albion   \n..          ...  ..         ...    ...                      ...   \n375         375  E0  2021-05-23  16:00                Liverpool   \n376         376  E0  2021-05-23  16:00          Manchester City   \n377         377  E0  2021-05-23  16:00         Sheffield United   \n378         378  E0  2021-05-23  16:00          West Ham United   \n379         379  E0  2021-05-23  16:00  Wolverhampton Wanderers   \n\n              AwayTeam  FTHG  FTAG FTR  HTHG  ...  Elo_h_after Elo_a_after  \\\n0              Arsenal     0     3   A     0  ...      1485.00     1515.00   \n1          Southampton     1     0   H     1  ...      1515.00     1485.00   \n2         Leeds United     4     3   H     3  ...      1515.00     1485.00   \n3     Newcastle United     0     2   A     0  ...      1485.00     1515.00   \n4       Leicester City     0     3   A     0  ...      1485.00     1515.00   \n..                 ...   ...   ...  ..   ...  ...          ...         ...   \n375     Crystal Palace     2     0   H     1  ...      1591.89     1439.73   \n376            Everton     5     0   H     2  ...      1659.36     1508.70   \n377            Burnley     1     0   H     1  ...      1358.16     1420.86   \n378        Southampton     3     0   H     2  ...      1560.00     1420.08   \n379  Manchester United     1     2   A     1  ...      1443.72     1611.60   \n\n    Elo_h_before  Elo_a_before  goalsDifference  shotsDifference  \\\n0        1500.00       1500.00         0.000000         0.000000   \n1        1500.00       1500.00         0.000000         0.000000   \n2        1500.00       1500.00         0.000000         0.000000   \n3        1500.00       1500.00         0.000000         0.000000   \n4        1500.00       1500.00         0.000000         0.000000   \n..           ...           ...              ...              ...   \n375      1582.38       1449.24         2.500000        16.500000   \n376      1649.79       1518.27         2.166667         1.666667   \n377      1338.90       1440.12        -4.833333        -8.333333   \n378      1549.98       1430.10         2.833333        -3.500000   \n379      1452.60       1602.72        -4.666667        -5.500000   \n\n     cornersDifference  ewmDifference  elo_difference  form_difference  \n0             0.000000       0.000000            0.00         0.000000  \n1             0.000000       0.000000            0.00         0.000000  \n2             0.000000       0.000000            0.00         0.000000  \n3             0.000000       0.000000            0.00         0.000000  \n4             0.000000       0.000000            0.00         0.000000  \n..                 ...            ...             ...              ...  \n375          12.833333      19.313782          133.14         5.500000  \n376           6.000000      24.719180          131.52         1.666667  \n377         -12.500000     -19.400129         -101.22        -0.500000  \n378          -6.666667      18.155503          119.88         2.500000  \n379          -2.000000     -25.615866         -150.12        -0.666667  \n\n[380 rows x 134 columns]",
      "text/html": "<div>\n<style scoped>\n    .dataframe tbody tr th:only-of-type {\n        vertical-align: middle;\n    }\n\n    .dataframe tbody tr th {\n        vertical-align: top;\n    }\n\n    .dataframe thead th {\n        text-align: right;\n    }\n</style>\n<table border=\"1\" class=\"dataframe\">\n  <thead>\n    <tr style=\"text-align: right;\">\n      <th></th>\n      <th>Unnamed: 0</th>\n      <th>Div</th>\n      <th>Date</th>\n      <th>Time</th>\n      <th>HomeTeam</th>\n      <th>AwayTeam</th>\n      <th>FTHG</th>\n      <th>FTAG</th>\n      <th>FTR</th>\n      <th>HTHG</th>\n      <th>...</th>\n      <th>Elo_h_after</th>\n      <th>Elo_a_after</th>\n      <th>Elo_h_before</th>\n      <th>Elo_a_before</th>\n      <th>goalsDifference</th>\n      <th>shotsDifference</th>\n      <th>cornersDifference</th>\n      <th>ewmDifference</th>\n      <th>elo_difference</th>\n      <th>form_difference</th>\n    </tr>\n  </thead>\n  <tbody>\n    <tr>\n      <th>0</th>\n      <td>0</td>\n      <td>E0</td>\n      <td>2020-09-12</td>\n      <td>12:30</td>\n      <td>Fulham</td>\n      <td>Arsenal</td>\n      <td>0</td>\n      <td>3</td>\n      <td>A</td>\n      <td>0</td>\n      <td>...</td>\n      <td>1485.00</td>\n      <td>1515.00</td>\n      <td>1500.00</td>\n      <td>1500.00</td>\n      <td>0.000000</td>\n      <td>0.000000</td>\n      <td>0.000000</td>\n      <td>0.000000</td>\n      <td>0.00</td>\n      <td>0.000000</td>\n    </tr>\n    <tr>\n      <th>1</th>\n      <td>1</td>\n      <td>E0</td>\n      <td>2020-09-12</td>\n      <td>15:00</td>\n      <td>Crystal Palace</td>\n      <td>Southampton</td>\n      <td>1</td>\n      <td>0</td>\n      <td>H</td>\n      <td>1</td>\n      <td>...</td>\n      <td>1515.00</td>\n      <td>1485.00</td>\n      <td>1500.00</td>\n      <td>1500.00</td>\n      <td>0.000000</td>\n      <td>0.000000</td>\n      <td>0.000000</td>\n      <td>0.000000</td>\n      <td>0.00</td>\n      <td>0.000000</td>\n    </tr>\n    <tr>\n      <th>2</th>\n      <td>2</td>\n      <td>E0</td>\n      <td>2020-09-12</td>\n      <td>17:30</td>\n      <td>Liverpool</td>\n      <td>Leeds United</td>\n      <td>4</td>\n      <td>3</td>\n      <td>H</td>\n      <td>3</td>\n      <td>...</td>\n      <td>1515.00</td>\n      <td>1485.00</td>\n      <td>1500.00</td>\n      <td>1500.00</td>\n      <td>0.000000</td>\n      <td>0.000000</td>\n      <td>0.000000</td>\n      <td>0.000000</td>\n      <td>0.00</td>\n      <td>0.000000</td>\n    </tr>\n    <tr>\n      <th>3</th>\n      <td>3</td>\n      <td>E0</td>\n      <td>2020-09-12</td>\n      <td>20:00</td>\n      <td>West Ham United</td>\n      <td>Newcastle United</td>\n      <td>0</td>\n      <td>2</td>\n      <td>A</td>\n      <td>0</td>\n      <td>...</td>\n      <td>1485.00</td>\n      <td>1515.00</td>\n      <td>1500.00</td>\n      <td>1500.00</td>\n      <td>0.000000</td>\n      <td>0.000000</td>\n      <td>0.000000</td>\n      <td>0.000000</td>\n      <td>0.00</td>\n      <td>0.000000</td>\n    </tr>\n    <tr>\n      <th>4</th>\n      <td>4</td>\n      <td>E0</td>\n      <td>2020-09-13</td>\n      <td>14:00</td>\n      <td>West Bromwich Albion</td>\n      <td>Leicester City</td>\n      <td>0</td>\n      <td>3</td>\n      <td>A</td>\n      <td>0</td>\n      <td>...</td>\n      <td>1485.00</td>\n      <td>1515.00</td>\n      <td>1500.00</td>\n      <td>1500.00</td>\n      <td>0.000000</td>\n      <td>0.000000</td>\n      <td>0.000000</td>\n      <td>0.000000</td>\n      <td>0.00</td>\n      <td>0.000000</td>\n    </tr>\n    <tr>\n      <th>...</th>\n      <td>...</td>\n      <td>...</td>\n      <td>...</td>\n      <td>...</td>\n      <td>...</td>\n      <td>...</td>\n      <td>...</td>\n      <td>...</td>\n      <td>...</td>\n      <td>...</td>\n      <td>...</td>\n      <td>...</td>\n      <td>...</td>\n      <td>...</td>\n      <td>...</td>\n      <td>...</td>\n      <td>...</td>\n      <td>...</td>\n      <td>...</td>\n      <td>...</td>\n      <td>...</td>\n    </tr>\n    <tr>\n      <th>375</th>\n      <td>375</td>\n      <td>E0</td>\n      <td>2021-05-23</td>\n      <td>16:00</td>\n      <td>Liverpool</td>\n      <td>Crystal Palace</td>\n      <td>2</td>\n      <td>0</td>\n      <td>H</td>\n      <td>1</td>\n      <td>...</td>\n      <td>1591.89</td>\n      <td>1439.73</td>\n      <td>1582.38</td>\n      <td>1449.24</td>\n      <td>2.500000</td>\n      <td>16.500000</td>\n      <td>12.833333</td>\n      <td>19.313782</td>\n      <td>133.14</td>\n      <td>5.500000</td>\n    </tr>\n    <tr>\n      <th>376</th>\n      <td>376</td>\n      <td>E0</td>\n      <td>2021-05-23</td>\n      <td>16:00</td>\n      <td>Manchester City</td>\n      <td>Everton</td>\n      <td>5</td>\n      <td>0</td>\n      <td>H</td>\n      <td>2</td>\n      <td>...</td>\n      <td>1659.36</td>\n      <td>1508.70</td>\n      <td>1649.79</td>\n      <td>1518.27</td>\n      <td>2.166667</td>\n      <td>1.666667</td>\n      <td>6.000000</td>\n      <td>24.719180</td>\n      <td>131.52</td>\n      <td>1.666667</td>\n    </tr>\n    <tr>\n      <th>377</th>\n      <td>377</td>\n      <td>E0</td>\n      <td>2021-05-23</td>\n      <td>16:00</td>\n      <td>Sheffield United</td>\n      <td>Burnley</td>\n      <td>1</td>\n      <td>0</td>\n      <td>H</td>\n      <td>1</td>\n      <td>...</td>\n      <td>1358.16</td>\n      <td>1420.86</td>\n      <td>1338.90</td>\n      <td>1440.12</td>\n      <td>-4.833333</td>\n      <td>-8.333333</td>\n      <td>-12.500000</td>\n      <td>-19.400129</td>\n      <td>-101.22</td>\n      <td>-0.500000</td>\n    </tr>\n    <tr>\n      <th>378</th>\n      <td>378</td>\n      <td>E0</td>\n      <td>2021-05-23</td>\n      <td>16:00</td>\n      <td>West Ham United</td>\n      <td>Southampton</td>\n      <td>3</td>\n      <td>0</td>\n      <td>H</td>\n      <td>2</td>\n      <td>...</td>\n      <td>1560.00</td>\n      <td>1420.08</td>\n      <td>1549.98</td>\n      <td>1430.10</td>\n      <td>2.833333</td>\n      <td>-3.500000</td>\n      <td>-6.666667</td>\n      <td>18.155503</td>\n      <td>119.88</td>\n      <td>2.500000</td>\n    </tr>\n    <tr>\n      <th>379</th>\n      <td>379</td>\n      <td>E0</td>\n      <td>2021-05-23</td>\n      <td>16:00</td>\n      <td>Wolverhampton Wanderers</td>\n      <td>Manchester United</td>\n      <td>1</td>\n      <td>2</td>\n      <td>A</td>\n      <td>1</td>\n      <td>...</td>\n      <td>1443.72</td>\n      <td>1611.60</td>\n      <td>1452.60</td>\n      <td>1602.72</td>\n      <td>-4.666667</td>\n      <td>-5.500000</td>\n      <td>-2.000000</td>\n      <td>-25.615866</td>\n      <td>-150.12</td>\n      <td>-0.666667</td>\n    </tr>\n  </tbody>\n</table>\n<p>380 rows × 134 columns</p>\n</div>"
     },
     "execution_count": 73,
     "metadata": {},
     "output_type": "execute_result"
    }
   ],
   "source": [
    "PL20_21_fixtures"
   ],
   "metadata": {
    "collapsed": false,
    "pycharm": {
     "name": "#%%\n"
    }
   }
  },
  {
   "cell_type": "code",
   "execution_count": 74,
   "outputs": [
    {
     "name": "stderr",
     "output_type": "stream",
     "text": [
      "C:\\Users\\giuli\\AppData\\Local\\Temp\\ipykernel_4408\\392273660.py:6: FutureWarning: The frame.append method is deprecated and will be removed from pandas in a future version. Use pandas.concat instead.\n",
      "  return home.append(away)\n"
     ]
    },
    {
     "data": {
      "text/plain": "                     Team  wk                         game_id\n0                  Fulham   1                Fulham2020-09-12\n1          Crystal Palace   1        Crystal Palace2020-09-12\n2               Liverpool   1             Liverpool2020-09-12\n3         West Ham United   1       West Ham United2020-09-12\n4    West Bromwich Albion   1  West Bromwich Albion2020-09-13\n..                    ...  ..                             ...\n375        Crystal Palace  38        Crystal Palace2021-05-23\n376               Everton  38               Everton2021-05-23\n377               Burnley  38               Burnley2021-05-23\n378           Southampton  38           Southampton2021-05-23\n379     Manchester United  38     Manchester United2021-05-23\n\n[760 rows x 3 columns]",
      "text/html": "<div>\n<style scoped>\n    .dataframe tbody tr th:only-of-type {\n        vertical-align: middle;\n    }\n\n    .dataframe tbody tr th {\n        vertical-align: top;\n    }\n\n    .dataframe thead th {\n        text-align: right;\n    }\n</style>\n<table border=\"1\" class=\"dataframe\">\n  <thead>\n    <tr style=\"text-align: right;\">\n      <th></th>\n      <th>Team</th>\n      <th>wk</th>\n      <th>game_id</th>\n    </tr>\n  </thead>\n  <tbody>\n    <tr>\n      <th>0</th>\n      <td>Fulham</td>\n      <td>1</td>\n      <td>Fulham2020-09-12</td>\n    </tr>\n    <tr>\n      <th>1</th>\n      <td>Crystal Palace</td>\n      <td>1</td>\n      <td>Crystal Palace2020-09-12</td>\n    </tr>\n    <tr>\n      <th>2</th>\n      <td>Liverpool</td>\n      <td>1</td>\n      <td>Liverpool2020-09-12</td>\n    </tr>\n    <tr>\n      <th>3</th>\n      <td>West Ham United</td>\n      <td>1</td>\n      <td>West Ham United2020-09-12</td>\n    </tr>\n    <tr>\n      <th>4</th>\n      <td>West Bromwich Albion</td>\n      <td>1</td>\n      <td>West Bromwich Albion2020-09-13</td>\n    </tr>\n    <tr>\n      <th>...</th>\n      <td>...</td>\n      <td>...</td>\n      <td>...</td>\n    </tr>\n    <tr>\n      <th>375</th>\n      <td>Crystal Palace</td>\n      <td>38</td>\n      <td>Crystal Palace2021-05-23</td>\n    </tr>\n    <tr>\n      <th>376</th>\n      <td>Everton</td>\n      <td>38</td>\n      <td>Everton2021-05-23</td>\n    </tr>\n    <tr>\n      <th>377</th>\n      <td>Burnley</td>\n      <td>38</td>\n      <td>Burnley2021-05-23</td>\n    </tr>\n    <tr>\n      <th>378</th>\n      <td>Southampton</td>\n      <td>38</td>\n      <td>Southampton2021-05-23</td>\n    </tr>\n    <tr>\n      <th>379</th>\n      <td>Manchester United</td>\n      <td>38</td>\n      <td>Manchester United2021-05-23</td>\n    </tr>\n  </tbody>\n</table>\n<p>760 rows × 3 columns</p>\n</div>"
     },
     "execution_count": 74,
     "metadata": {},
     "output_type": "execute_result"
    }
   ],
   "source": [
    "def get_wk(fixtures):\n",
    "    home = fixtures[['HomeTeam', 'Wk_h', 'game_home_ID']]\n",
    "    away = fixtures[['AwayTeam', 'Wk_a', 'game_away_ID']]\n",
    "    home = home.rename(columns={'HomeTeam':'Team','Wk_h':'wk', 'game_home_ID': 'game_id'})\n",
    "    away = away.rename(columns={'AwayTeam':'Team','Wk_a':'wk', 'game_away_ID': 'game_id'})\n",
    "    return home.append(away)\n",
    "game_weeks = get_wk(PL20_21_fixtures)\n",
    "game_weeks\n"
   ],
   "metadata": {
    "collapsed": false,
    "pycharm": {
     "name": "#%%\n"
    }
   }
  },
  {
   "cell_type": "code",
   "execution_count": 151,
   "outputs": [
    {
     "data": {
      "text/plain": "                player         team  matchweek        date  start11  \\\n0          Marek Rodák       Fulham        1.0  2020-09-12     True   \n1       Michael Hector       Fulham        1.0  2020-09-12     True   \n2           Denis Odoi       Fulham        1.0  2020-09-12     True   \n3      Neeskens Kebano       Fulham        1.0  2020-09-12     True   \n4          Tom Cairney       Fulham        1.0  2020-09-12     True   \n...                ...          ...        ...         ...      ...   \n14638  Michael Obafemi  Southampton       38.0  2021-05-23    False   \n14639     Nathan Tella  Southampton       38.0  2021-05-23    False   \n14640     Theo Walcott  Southampton       38.0  2021-05-23    False   \n14641     Dan Nlundulu  Southampton       38.0  2021-05-23    False   \n14642       Will Ferry  Southampton       38.0  2021-05-23    False   \n\n                                  player_id                game_id  wk  \\\n0               Marek RodákFulham2020-09-12       Fulham2020-09-12   1   \n1            Michael HectorFulham2020-09-12       Fulham2020-09-12   1   \n2                Denis OdoiFulham2020-09-12       Fulham2020-09-12   1   \n3           Neeskens KebanoFulham2020-09-12       Fulham2020-09-12   1   \n4               Tom CairneyFulham2020-09-12       Fulham2020-09-12   1   \n...                                     ...                    ...  ..   \n14638  Michael ObafemiSouthampton2021-05-23  Southampton2021-05-23  38   \n14639     Nathan TellaSouthampton2021-05-23  Southampton2021-05-23  38   \n14640     Theo WalcottSouthampton2021-05-23  Southampton2021-05-23  38   \n14641     Dan NlunduluSouthampton2021-05-23  Southampton2021-05-23  38   \n14642       Will FerrySouthampton2021-05-23  Southampton2021-05-23  38   \n\n         category  \n0      Goalkeeper  \n1        Defender  \n2        Defender  \n3         Forward  \n4        Midfield  \n...           ...  \n14638     Forward  \n14639     Forward  \n14640         NaN  \n14641         NaN  \n14642         NaN  \n\n[14643 rows x 9 columns]",
      "text/html": "<div>\n<style scoped>\n    .dataframe tbody tr th:only-of-type {\n        vertical-align: middle;\n    }\n\n    .dataframe tbody tr th {\n        vertical-align: top;\n    }\n\n    .dataframe thead th {\n        text-align: right;\n    }\n</style>\n<table border=\"1\" class=\"dataframe\">\n  <thead>\n    <tr style=\"text-align: right;\">\n      <th></th>\n      <th>player</th>\n      <th>team</th>\n      <th>matchweek</th>\n      <th>date</th>\n      <th>start11</th>\n      <th>player_id</th>\n      <th>game_id</th>\n      <th>wk</th>\n      <th>category</th>\n    </tr>\n  </thead>\n  <tbody>\n    <tr>\n      <th>0</th>\n      <td>Marek Rodák</td>\n      <td>Fulham</td>\n      <td>1.0</td>\n      <td>2020-09-12</td>\n      <td>True</td>\n      <td>Marek RodákFulham2020-09-12</td>\n      <td>Fulham2020-09-12</td>\n      <td>1</td>\n      <td>Goalkeeper</td>\n    </tr>\n    <tr>\n      <th>1</th>\n      <td>Michael Hector</td>\n      <td>Fulham</td>\n      <td>1.0</td>\n      <td>2020-09-12</td>\n      <td>True</td>\n      <td>Michael HectorFulham2020-09-12</td>\n      <td>Fulham2020-09-12</td>\n      <td>1</td>\n      <td>Defender</td>\n    </tr>\n    <tr>\n      <th>2</th>\n      <td>Denis Odoi</td>\n      <td>Fulham</td>\n      <td>1.0</td>\n      <td>2020-09-12</td>\n      <td>True</td>\n      <td>Denis OdoiFulham2020-09-12</td>\n      <td>Fulham2020-09-12</td>\n      <td>1</td>\n      <td>Defender</td>\n    </tr>\n    <tr>\n      <th>3</th>\n      <td>Neeskens Kebano</td>\n      <td>Fulham</td>\n      <td>1.0</td>\n      <td>2020-09-12</td>\n      <td>True</td>\n      <td>Neeskens KebanoFulham2020-09-12</td>\n      <td>Fulham2020-09-12</td>\n      <td>1</td>\n      <td>Forward</td>\n    </tr>\n    <tr>\n      <th>4</th>\n      <td>Tom Cairney</td>\n      <td>Fulham</td>\n      <td>1.0</td>\n      <td>2020-09-12</td>\n      <td>True</td>\n      <td>Tom CairneyFulham2020-09-12</td>\n      <td>Fulham2020-09-12</td>\n      <td>1</td>\n      <td>Midfield</td>\n    </tr>\n    <tr>\n      <th>...</th>\n      <td>...</td>\n      <td>...</td>\n      <td>...</td>\n      <td>...</td>\n      <td>...</td>\n      <td>...</td>\n      <td>...</td>\n      <td>...</td>\n      <td>...</td>\n    </tr>\n    <tr>\n      <th>14638</th>\n      <td>Michael Obafemi</td>\n      <td>Southampton</td>\n      <td>38.0</td>\n      <td>2021-05-23</td>\n      <td>False</td>\n      <td>Michael ObafemiSouthampton2021-05-23</td>\n      <td>Southampton2021-05-23</td>\n      <td>38</td>\n      <td>Forward</td>\n    </tr>\n    <tr>\n      <th>14639</th>\n      <td>Nathan Tella</td>\n      <td>Southampton</td>\n      <td>38.0</td>\n      <td>2021-05-23</td>\n      <td>False</td>\n      <td>Nathan TellaSouthampton2021-05-23</td>\n      <td>Southampton2021-05-23</td>\n      <td>38</td>\n      <td>Forward</td>\n    </tr>\n    <tr>\n      <th>14640</th>\n      <td>Theo Walcott</td>\n      <td>Southampton</td>\n      <td>38.0</td>\n      <td>2021-05-23</td>\n      <td>False</td>\n      <td>Theo WalcottSouthampton2021-05-23</td>\n      <td>Southampton2021-05-23</td>\n      <td>38</td>\n      <td>NaN</td>\n    </tr>\n    <tr>\n      <th>14641</th>\n      <td>Dan Nlundulu</td>\n      <td>Southampton</td>\n      <td>38.0</td>\n      <td>2021-05-23</td>\n      <td>False</td>\n      <td>Dan NlunduluSouthampton2021-05-23</td>\n      <td>Southampton2021-05-23</td>\n      <td>38</td>\n      <td>NaN</td>\n    </tr>\n    <tr>\n      <th>14642</th>\n      <td>Will Ferry</td>\n      <td>Southampton</td>\n      <td>38.0</td>\n      <td>2021-05-23</td>\n      <td>False</td>\n      <td>Will FerrySouthampton2021-05-23</td>\n      <td>Southampton2021-05-23</td>\n      <td>38</td>\n      <td>NaN</td>\n    </tr>\n  </tbody>\n</table>\n<p>14643 rows × 9 columns</p>\n</div>"
     },
     "execution_count": 151,
     "metadata": {},
     "output_type": "execute_result"
    }
   ],
   "source": [
    "PL20_21_lineups_tmp =  pd.merge(PL20_21_lineups, game_weeks[['game_id', 'wk']], on= 'game_id', how='left')\n",
    "PL20_21_player_stats_tmp =  pd.merge(PL20_21_player_stats, game_weeks[['game_id', 'wk']], on= 'game_id', how='left')\n",
    "PL20_21_lineups_tmp = pd.merge(PL20_21_lineups_tmp, PL20_21_player_stats_tmp[['player_id', 'category']], on= 'player_id')\n",
    "PL20_21_lineups_tmp"
   ],
   "metadata": {
    "collapsed": false,
    "pycharm": {
     "name": "#%%\n"
    }
   }
  },
  {
   "cell_type": "code",
   "execution_count": 76,
   "outputs": [
    {
     "data": {
      "text/plain": "                       player     team  matchweek        date  start11  \\\n18                 Bernd Leno  Arsenal        1.0  2020-09-12     True   \n19            Héctor Bellerín  Arsenal        1.0  2020-09-12     True   \n20             Kieran Tierney  Arsenal        1.0  2020-09-12     True   \n21         Gabriel Dos Santos  Arsenal        1.0  2020-09-12     True   \n22        Alexandre Lacazette  Arsenal        1.0  2020-09-12     True   \n23                    Willian  Arsenal        1.0  2020-09-12     True   \n24  Pierre-Emerick Aubameyang  Arsenal        1.0  2020-09-12     True   \n25     Ainsley Maitland-Niles  Arsenal        1.0  2020-09-12     True   \n26                Rob Holding  Arsenal        1.0  2020-09-12     True   \n27             Mohamed Elneny  Arsenal        1.0  2020-09-12     True   \n28               Granit Xhaka  Arsenal        1.0  2020-09-12     True   \n29                 Matt Macey  Arsenal        1.0  2020-09-12    False   \n30                Bukayo Saka  Arsenal        1.0  2020-09-12    False   \n31              Dani Ceballos  Arsenal        1.0  2020-09-12    False   \n32               Nicolas Pépé  Arsenal        1.0  2020-09-12    False   \n33                Joe Willock  Arsenal        1.0  2020-09-12    False   \n34              Eddie Nketiah  Arsenal        1.0  2020-09-12    False   \n35             Sead Kolašinac  Arsenal        1.0  2020-09-12    False   \n\n                                     player_id            game_id  wk  \n18                 Bernd LenoArsenal2020-09-12  Arsenal2020-09-12   1  \n19            Héctor BellerínArsenal2020-09-12  Arsenal2020-09-12   1  \n20             Kieran TierneyArsenal2020-09-12  Arsenal2020-09-12   1  \n21         Gabriel Dos SantosArsenal2020-09-12  Arsenal2020-09-12   1  \n22        Alexandre LacazetteArsenal2020-09-12  Arsenal2020-09-12   1  \n23                    WillianArsenal2020-09-12  Arsenal2020-09-12   1  \n24  Pierre-Emerick AubameyangArsenal2020-09-12  Arsenal2020-09-12   1  \n25     Ainsley Maitland-NilesArsenal2020-09-12  Arsenal2020-09-12   1  \n26                Rob HoldingArsenal2020-09-12  Arsenal2020-09-12   1  \n27             Mohamed ElnenyArsenal2020-09-12  Arsenal2020-09-12   1  \n28               Granit XhakaArsenal2020-09-12  Arsenal2020-09-12   1  \n29                 Matt MaceyArsenal2020-09-12  Arsenal2020-09-12   1  \n30                Bukayo SakaArsenal2020-09-12  Arsenal2020-09-12   1  \n31              Dani CeballosArsenal2020-09-12  Arsenal2020-09-12   1  \n32               Nicolas PépéArsenal2020-09-12  Arsenal2020-09-12   1  \n33                Joe WillockArsenal2020-09-12  Arsenal2020-09-12   1  \n34              Eddie NketiahArsenal2020-09-12  Arsenal2020-09-12   1  \n35             Sead KolašinacArsenal2020-09-12  Arsenal2020-09-12   1  ",
      "text/html": "<div>\n<style scoped>\n    .dataframe tbody tr th:only-of-type {\n        vertical-align: middle;\n    }\n\n    .dataframe tbody tr th {\n        vertical-align: top;\n    }\n\n    .dataframe thead th {\n        text-align: right;\n    }\n</style>\n<table border=\"1\" class=\"dataframe\">\n  <thead>\n    <tr style=\"text-align: right;\">\n      <th></th>\n      <th>player</th>\n      <th>team</th>\n      <th>matchweek</th>\n      <th>date</th>\n      <th>start11</th>\n      <th>player_id</th>\n      <th>game_id</th>\n      <th>wk</th>\n    </tr>\n  </thead>\n  <tbody>\n    <tr>\n      <th>18</th>\n      <td>Bernd Leno</td>\n      <td>Arsenal</td>\n      <td>1.0</td>\n      <td>2020-09-12</td>\n      <td>True</td>\n      <td>Bernd LenoArsenal2020-09-12</td>\n      <td>Arsenal2020-09-12</td>\n      <td>1</td>\n    </tr>\n    <tr>\n      <th>19</th>\n      <td>Héctor Bellerín</td>\n      <td>Arsenal</td>\n      <td>1.0</td>\n      <td>2020-09-12</td>\n      <td>True</td>\n      <td>Héctor BellerínArsenal2020-09-12</td>\n      <td>Arsenal2020-09-12</td>\n      <td>1</td>\n    </tr>\n    <tr>\n      <th>20</th>\n      <td>Kieran Tierney</td>\n      <td>Arsenal</td>\n      <td>1.0</td>\n      <td>2020-09-12</td>\n      <td>True</td>\n      <td>Kieran TierneyArsenal2020-09-12</td>\n      <td>Arsenal2020-09-12</td>\n      <td>1</td>\n    </tr>\n    <tr>\n      <th>21</th>\n      <td>Gabriel Dos Santos</td>\n      <td>Arsenal</td>\n      <td>1.0</td>\n      <td>2020-09-12</td>\n      <td>True</td>\n      <td>Gabriel Dos SantosArsenal2020-09-12</td>\n      <td>Arsenal2020-09-12</td>\n      <td>1</td>\n    </tr>\n    <tr>\n      <th>22</th>\n      <td>Alexandre Lacazette</td>\n      <td>Arsenal</td>\n      <td>1.0</td>\n      <td>2020-09-12</td>\n      <td>True</td>\n      <td>Alexandre LacazetteArsenal2020-09-12</td>\n      <td>Arsenal2020-09-12</td>\n      <td>1</td>\n    </tr>\n    <tr>\n      <th>23</th>\n      <td>Willian</td>\n      <td>Arsenal</td>\n      <td>1.0</td>\n      <td>2020-09-12</td>\n      <td>True</td>\n      <td>WillianArsenal2020-09-12</td>\n      <td>Arsenal2020-09-12</td>\n      <td>1</td>\n    </tr>\n    <tr>\n      <th>24</th>\n      <td>Pierre-Emerick Aubameyang</td>\n      <td>Arsenal</td>\n      <td>1.0</td>\n      <td>2020-09-12</td>\n      <td>True</td>\n      <td>Pierre-Emerick AubameyangArsenal2020-09-12</td>\n      <td>Arsenal2020-09-12</td>\n      <td>1</td>\n    </tr>\n    <tr>\n      <th>25</th>\n      <td>Ainsley Maitland-Niles</td>\n      <td>Arsenal</td>\n      <td>1.0</td>\n      <td>2020-09-12</td>\n      <td>True</td>\n      <td>Ainsley Maitland-NilesArsenal2020-09-12</td>\n      <td>Arsenal2020-09-12</td>\n      <td>1</td>\n    </tr>\n    <tr>\n      <th>26</th>\n      <td>Rob Holding</td>\n      <td>Arsenal</td>\n      <td>1.0</td>\n      <td>2020-09-12</td>\n      <td>True</td>\n      <td>Rob HoldingArsenal2020-09-12</td>\n      <td>Arsenal2020-09-12</td>\n      <td>1</td>\n    </tr>\n    <tr>\n      <th>27</th>\n      <td>Mohamed Elneny</td>\n      <td>Arsenal</td>\n      <td>1.0</td>\n      <td>2020-09-12</td>\n      <td>True</td>\n      <td>Mohamed ElnenyArsenal2020-09-12</td>\n      <td>Arsenal2020-09-12</td>\n      <td>1</td>\n    </tr>\n    <tr>\n      <th>28</th>\n      <td>Granit Xhaka</td>\n      <td>Arsenal</td>\n      <td>1.0</td>\n      <td>2020-09-12</td>\n      <td>True</td>\n      <td>Granit XhakaArsenal2020-09-12</td>\n      <td>Arsenal2020-09-12</td>\n      <td>1</td>\n    </tr>\n    <tr>\n      <th>29</th>\n      <td>Matt Macey</td>\n      <td>Arsenal</td>\n      <td>1.0</td>\n      <td>2020-09-12</td>\n      <td>False</td>\n      <td>Matt MaceyArsenal2020-09-12</td>\n      <td>Arsenal2020-09-12</td>\n      <td>1</td>\n    </tr>\n    <tr>\n      <th>30</th>\n      <td>Bukayo Saka</td>\n      <td>Arsenal</td>\n      <td>1.0</td>\n      <td>2020-09-12</td>\n      <td>False</td>\n      <td>Bukayo SakaArsenal2020-09-12</td>\n      <td>Arsenal2020-09-12</td>\n      <td>1</td>\n    </tr>\n    <tr>\n      <th>31</th>\n      <td>Dani Ceballos</td>\n      <td>Arsenal</td>\n      <td>1.0</td>\n      <td>2020-09-12</td>\n      <td>False</td>\n      <td>Dani CeballosArsenal2020-09-12</td>\n      <td>Arsenal2020-09-12</td>\n      <td>1</td>\n    </tr>\n    <tr>\n      <th>32</th>\n      <td>Nicolas Pépé</td>\n      <td>Arsenal</td>\n      <td>1.0</td>\n      <td>2020-09-12</td>\n      <td>False</td>\n      <td>Nicolas PépéArsenal2020-09-12</td>\n      <td>Arsenal2020-09-12</td>\n      <td>1</td>\n    </tr>\n    <tr>\n      <th>33</th>\n      <td>Joe Willock</td>\n      <td>Arsenal</td>\n      <td>1.0</td>\n      <td>2020-09-12</td>\n      <td>False</td>\n      <td>Joe WillockArsenal2020-09-12</td>\n      <td>Arsenal2020-09-12</td>\n      <td>1</td>\n    </tr>\n    <tr>\n      <th>34</th>\n      <td>Eddie Nketiah</td>\n      <td>Arsenal</td>\n      <td>1.0</td>\n      <td>2020-09-12</td>\n      <td>False</td>\n      <td>Eddie NketiahArsenal2020-09-12</td>\n      <td>Arsenal2020-09-12</td>\n      <td>1</td>\n    </tr>\n    <tr>\n      <th>35</th>\n      <td>Sead Kolašinac</td>\n      <td>Arsenal</td>\n      <td>1.0</td>\n      <td>2020-09-12</td>\n      <td>False</td>\n      <td>Sead KolašinacArsenal2020-09-12</td>\n      <td>Arsenal2020-09-12</td>\n      <td>1</td>\n    </tr>\n  </tbody>\n</table>\n</div>"
     },
     "execution_count": 76,
     "metadata": {},
     "output_type": "execute_result"
    }
   ],
   "source": [
    "def get_lineup(lineups_df, game_id):\n",
    "    rslt_df = lineups_df[lineups_df['game_id'] == game_id]\n",
    "    return rslt_df\n",
    "\n",
    "get_lineup( PL20_21_lineups_tmp, 'Arsenal2020-09-12',)"
   ],
   "metadata": {
    "collapsed": false,
    "pycharm": {
     "name": "#%%\n"
    }
   }
  },
  {
   "cell_type": "code",
   "execution_count": 155,
   "outputs": [
    {
     "data": {
      "text/plain": "    Unnamed: 0 Div        Date   Time                 HomeTeam  \\\n0            0  E0  2020-09-12  12:30                   Fulham   \n1            1  E0  2020-09-12  15:00           Crystal Palace   \n2            2  E0  2020-09-12  17:30                Liverpool   \n3            3  E0  2020-09-12  20:00          West Ham United   \n4            4  E0  2020-09-13  14:00     West Bromwich Albion   \n5            5  E0  2020-09-13  16:30        Tottenham Hotspur   \n6            6  E0  2020-09-14  20:15   Brighton & Hove Albion   \n7            7  E0  2020-09-14  18:00         Sheffield United   \n8            8  E0  2020-09-19  12:30                  Everton   \n9            9  E0  2020-09-19  15:00             Leeds United   \n10          10  E0  2020-09-19  17:30        Manchester United   \n11          11  E0  2020-09-19  20:00                  Arsenal   \n12          12  E0  2020-09-20  12:00              Southampton   \n13          13  E0  2020-09-20  14:00         Newcastle United   \n14          14  E0  2020-09-20  16:30                  Chelsea   \n15          15  E0  2020-09-20  19:00           Leicester City   \n16          16  E0  2020-09-21  18:00              Aston Villa   \n17          17  E0  2020-09-21  20:15  Wolverhampton Wanderers   \n18          18  E0  2020-09-26  12:30   Brighton & Hove Albion   \n19          19  E0  2020-09-26  15:00           Crystal Palace   \n20          20  E0  2020-09-26  17:30     West Bromwich Albion   \n21          21  E0  2020-09-26  20:00                  Burnley   \n22          22  E0  2020-09-27  12:00         Sheffield United   \n23          23  E0  2020-09-27  14:00        Tottenham Hotspur   \n24          24  E0  2020-09-27  16:30          Manchester City   \n25          25  E0  2020-09-27  19:00          West Ham United   \n26          26  E0  2020-09-28  17:45                   Fulham   \n27          27  E0  2020-09-28  20:00                Liverpool   \n36          36  E0  2020-10-04  16:30        Manchester United   \n37          37  E0  2020-10-04  19:15              Aston Villa   \n\n                   AwayTeam  FTHG  FTAG FTR  HTHG  ...  Elo_a_after  \\\n0                   Arsenal     0     3   A     0  ...      1515.00   \n1               Southampton     1     0   H     1  ...      1485.00   \n2              Leeds United     4     3   H     3  ...      1485.00   \n3          Newcastle United     0     2   A     0  ...      1515.00   \n4            Leicester City     0     3   A     0  ...      1515.00   \n5                   Everton     0     1   A     0  ...      1515.00   \n6                   Chelsea     1     3   A     0  ...      1515.00   \n7   Wolverhampton Wanderers     0     2   A     0  ...      1515.00   \n8      West Bromwich Albion     5     2   H     2  ...      1471.29   \n9                    Fulham     4     3   H     2  ...      1470.00   \n10           Crystal Palace     1     3   A     0  ...      1529.34   \n11          West Ham United     2     1   H     1  ...      1471.29   \n12        Tottenham Hotspur     2     5   A     1  ...      1500.00   \n13   Brighton & Hove Albion     0     3   A     0  ...      1501.29   \n14                Liverpool     0     2   A     0  ...      1530.00   \n15                  Burnley     4     2   H     1  ...      1485.66   \n16         Sheffield United     1     0   H     0  ...      1470.66   \n17          Manchester City     1     3   A     0  ...      1515.66   \n18        Manchester United     2     3   A     1  ...      1501.32   \n19                  Everton     1     2   A     1  ...      1543.74   \n20                  Chelsea     3     3   D     3  ...      1498.77   \n21              Southampton     0     1   A     0  ...      1485.69   \n22             Leeds United     0     1   A     0  ...      1513.74   \n23         Newcastle United     1     1   D     1  ...      1498.77   \n24           Leicester City     2     5   A     1  ...      1543.74   \n25  Wolverhampton Wanderers     4     0   H     1  ...      1483.14   \n26              Aston Villa     0     3   A     0  ...      1527.45   \n27                  Arsenal     3     1   H     2  ...      1513.77   \n36        Tottenham Hotspur     1     6   A     1  ...      1515.00   \n37                Liverpool     7     2   H     4  ...      1529.19   \n\n   Elo_h_before Elo_a_before  goalsDifference  shotsDifference  \\\n0       1500.00      1500.00              0.0              0.0   \n1       1500.00      1500.00              0.0              0.0   \n2       1500.00      1500.00              0.0              0.0   \n3       1500.00      1500.00              0.0              0.0   \n4       1500.00      1500.00              0.0              0.0   \n5       1500.00      1500.00              0.0              0.0   \n6       1500.00      1500.00              0.0              0.0   \n7       1500.00      1500.00              0.0              0.0   \n8       1515.00      1485.00              0.0              0.0   \n9       1485.00      1485.00              0.0              0.0   \n10      1500.00      1515.00              0.0              0.0   \n11      1515.00      1485.00              0.0              0.0   \n12      1485.00      1485.00              0.0              0.0   \n13      1515.00      1485.00              0.0              0.0   \n14      1515.00      1515.00              0.0              0.0   \n15      1515.00      1500.00              0.0              0.0   \n16      1500.00      1485.00              0.0              0.0   \n17      1515.00      1500.00              0.0              0.0   \n18      1501.29      1485.66              1.0              3.0   \n19      1529.34      1528.71              0.0             -1.0   \n20      1471.29      1500.00             -3.0             -4.0   \n21      1485.66      1470.00              0.0             -5.0   \n22      1470.66      1500.00             -3.0             -1.0   \n23      1500.00      1498.71             -2.0              3.0   \n24      1515.66      1529.34             -3.0             -7.0   \n25      1471.29      1499.34             -2.0             -1.0   \n26      1470.00      1514.34              0.0              2.0   \n27      1530.00      1528.71              1.0              0.0   \n36      1501.32      1499.94             -1.5             -4.0   \n37      1527.45      1544.94             -4.0             -7.0   \n\n    cornersDifference  ewmDifference  elo_difference  form_difference  \\\n0                 0.0       0.000000            0.00              0.0   \n1                 0.0       0.000000            0.00              0.0   \n2                 0.0       0.000000            0.00              0.0   \n3                 0.0       0.000000            0.00              0.0   \n4                 0.0       0.000000            0.00              0.0   \n5                 0.0       0.000000            0.00              0.0   \n6                 0.0       0.000000            0.00              0.0   \n7                 0.0       0.000000            0.00              0.0   \n8                 0.0       3.000000           30.00              0.0   \n9                 0.0       0.000000            0.00              0.0   \n10                0.0      -3.000000          -15.00              0.0   \n11                0.0       3.000000           30.00              0.0   \n12                0.0       0.000000            0.00              0.0   \n13                0.0       3.000000           30.00              0.0   \n14                0.0       0.000000            0.00              0.0   \n15                0.0       3.000000           15.00              0.0   \n16                0.0       0.000000           15.00              0.0   \n17                0.0       3.000000           15.00              0.0   \n18                4.0       1.875000           15.63              0.0   \n19                4.0       0.000000            0.63              0.0   \n20               -1.0      -3.000000          -28.71             -3.0   \n21               -3.0       0.000000           15.66              0.0   \n22               12.0      -1.875000          -29.34              0.0   \n23               -2.0      -1.125000            1.29             -3.0   \n24               -5.0      -1.875000          -13.68             -3.0   \n25                3.0      -3.000000          -28.05             -3.0   \n26                2.0      -3.000000          -44.34              0.0   \n27                6.0       0.000000            1.29              0.0   \n36                3.0      -1.084184            1.38             -1.5   \n37               -4.5      -2.104592          -17.49             -1.5   \n\n     rating_h  \n0   358.13138  \n1   358.13138  \n2   358.13138  \n3   358.13138  \n4   358.13138  \n5   358.13138  \n6   358.13138  \n7   358.13138  \n8   358.13138  \n9   358.13138  \n10  358.13138  \n11  358.13138  \n12  358.13138  \n13  358.13138  \n14  358.13138  \n15  358.13138  \n16  358.13138  \n17  358.13138  \n18  358.13138  \n19  358.13138  \n20  358.13138  \n21  358.13138  \n22  358.13138  \n23  358.13138  \n24  358.13138  \n25  358.13138  \n26  358.13138  \n27  358.13138  \n36  358.13138  \n37  358.13138  \n\n[30 rows x 135 columns]",
      "text/html": "<div>\n<style scoped>\n    .dataframe tbody tr th:only-of-type {\n        vertical-align: middle;\n    }\n\n    .dataframe tbody tr th {\n        vertical-align: top;\n    }\n\n    .dataframe thead th {\n        text-align: right;\n    }\n</style>\n<table border=\"1\" class=\"dataframe\">\n  <thead>\n    <tr style=\"text-align: right;\">\n      <th></th>\n      <th>Unnamed: 0</th>\n      <th>Div</th>\n      <th>Date</th>\n      <th>Time</th>\n      <th>HomeTeam</th>\n      <th>AwayTeam</th>\n      <th>FTHG</th>\n      <th>FTAG</th>\n      <th>FTR</th>\n      <th>HTHG</th>\n      <th>...</th>\n      <th>Elo_a_after</th>\n      <th>Elo_h_before</th>\n      <th>Elo_a_before</th>\n      <th>goalsDifference</th>\n      <th>shotsDifference</th>\n      <th>cornersDifference</th>\n      <th>ewmDifference</th>\n      <th>elo_difference</th>\n      <th>form_difference</th>\n      <th>rating_h</th>\n    </tr>\n  </thead>\n  <tbody>\n    <tr>\n      <th>0</th>\n      <td>0</td>\n      <td>E0</td>\n      <td>2020-09-12</td>\n      <td>12:30</td>\n      <td>Fulham</td>\n      <td>Arsenal</td>\n      <td>0</td>\n      <td>3</td>\n      <td>A</td>\n      <td>0</td>\n      <td>...</td>\n      <td>1515.00</td>\n      <td>1500.00</td>\n      <td>1500.00</td>\n      <td>0.0</td>\n      <td>0.0</td>\n      <td>0.0</td>\n      <td>0.000000</td>\n      <td>0.00</td>\n      <td>0.0</td>\n      <td>358.13138</td>\n    </tr>\n    <tr>\n      <th>1</th>\n      <td>1</td>\n      <td>E0</td>\n      <td>2020-09-12</td>\n      <td>15:00</td>\n      <td>Crystal Palace</td>\n      <td>Southampton</td>\n      <td>1</td>\n      <td>0</td>\n      <td>H</td>\n      <td>1</td>\n      <td>...</td>\n      <td>1485.00</td>\n      <td>1500.00</td>\n      <td>1500.00</td>\n      <td>0.0</td>\n      <td>0.0</td>\n      <td>0.0</td>\n      <td>0.000000</td>\n      <td>0.00</td>\n      <td>0.0</td>\n      <td>358.13138</td>\n    </tr>\n    <tr>\n      <th>2</th>\n      <td>2</td>\n      <td>E0</td>\n      <td>2020-09-12</td>\n      <td>17:30</td>\n      <td>Liverpool</td>\n      <td>Leeds United</td>\n      <td>4</td>\n      <td>3</td>\n      <td>H</td>\n      <td>3</td>\n      <td>...</td>\n      <td>1485.00</td>\n      <td>1500.00</td>\n      <td>1500.00</td>\n      <td>0.0</td>\n      <td>0.0</td>\n      <td>0.0</td>\n      <td>0.000000</td>\n      <td>0.00</td>\n      <td>0.0</td>\n      <td>358.13138</td>\n    </tr>\n    <tr>\n      <th>3</th>\n      <td>3</td>\n      <td>E0</td>\n      <td>2020-09-12</td>\n      <td>20:00</td>\n      <td>West Ham United</td>\n      <td>Newcastle United</td>\n      <td>0</td>\n      <td>2</td>\n      <td>A</td>\n      <td>0</td>\n      <td>...</td>\n      <td>1515.00</td>\n      <td>1500.00</td>\n      <td>1500.00</td>\n      <td>0.0</td>\n      <td>0.0</td>\n      <td>0.0</td>\n      <td>0.000000</td>\n      <td>0.00</td>\n      <td>0.0</td>\n      <td>358.13138</td>\n    </tr>\n    <tr>\n      <th>4</th>\n      <td>4</td>\n      <td>E0</td>\n      <td>2020-09-13</td>\n      <td>14:00</td>\n      <td>West Bromwich Albion</td>\n      <td>Leicester City</td>\n      <td>0</td>\n      <td>3</td>\n      <td>A</td>\n      <td>0</td>\n      <td>...</td>\n      <td>1515.00</td>\n      <td>1500.00</td>\n      <td>1500.00</td>\n      <td>0.0</td>\n      <td>0.0</td>\n      <td>0.0</td>\n      <td>0.000000</td>\n      <td>0.00</td>\n      <td>0.0</td>\n      <td>358.13138</td>\n    </tr>\n    <tr>\n      <th>5</th>\n      <td>5</td>\n      <td>E0</td>\n      <td>2020-09-13</td>\n      <td>16:30</td>\n      <td>Tottenham Hotspur</td>\n      <td>Everton</td>\n      <td>0</td>\n      <td>1</td>\n      <td>A</td>\n      <td>0</td>\n      <td>...</td>\n      <td>1515.00</td>\n      <td>1500.00</td>\n      <td>1500.00</td>\n      <td>0.0</td>\n      <td>0.0</td>\n      <td>0.0</td>\n      <td>0.000000</td>\n      <td>0.00</td>\n      <td>0.0</td>\n      <td>358.13138</td>\n    </tr>\n    <tr>\n      <th>6</th>\n      <td>6</td>\n      <td>E0</td>\n      <td>2020-09-14</td>\n      <td>20:15</td>\n      <td>Brighton &amp; Hove Albion</td>\n      <td>Chelsea</td>\n      <td>1</td>\n      <td>3</td>\n      <td>A</td>\n      <td>0</td>\n      <td>...</td>\n      <td>1515.00</td>\n      <td>1500.00</td>\n      <td>1500.00</td>\n      <td>0.0</td>\n      <td>0.0</td>\n      <td>0.0</td>\n      <td>0.000000</td>\n      <td>0.00</td>\n      <td>0.0</td>\n      <td>358.13138</td>\n    </tr>\n    <tr>\n      <th>7</th>\n      <td>7</td>\n      <td>E0</td>\n      <td>2020-09-14</td>\n      <td>18:00</td>\n      <td>Sheffield United</td>\n      <td>Wolverhampton Wanderers</td>\n      <td>0</td>\n      <td>2</td>\n      <td>A</td>\n      <td>0</td>\n      <td>...</td>\n      <td>1515.00</td>\n      <td>1500.00</td>\n      <td>1500.00</td>\n      <td>0.0</td>\n      <td>0.0</td>\n      <td>0.0</td>\n      <td>0.000000</td>\n      <td>0.00</td>\n      <td>0.0</td>\n      <td>358.13138</td>\n    </tr>\n    <tr>\n      <th>8</th>\n      <td>8</td>\n      <td>E0</td>\n      <td>2020-09-19</td>\n      <td>12:30</td>\n      <td>Everton</td>\n      <td>West Bromwich Albion</td>\n      <td>5</td>\n      <td>2</td>\n      <td>H</td>\n      <td>2</td>\n      <td>...</td>\n      <td>1471.29</td>\n      <td>1515.00</td>\n      <td>1485.00</td>\n      <td>0.0</td>\n      <td>0.0</td>\n      <td>0.0</td>\n      <td>3.000000</td>\n      <td>30.00</td>\n      <td>0.0</td>\n      <td>358.13138</td>\n    </tr>\n    <tr>\n      <th>9</th>\n      <td>9</td>\n      <td>E0</td>\n      <td>2020-09-19</td>\n      <td>15:00</td>\n      <td>Leeds United</td>\n      <td>Fulham</td>\n      <td>4</td>\n      <td>3</td>\n      <td>H</td>\n      <td>2</td>\n      <td>...</td>\n      <td>1470.00</td>\n      <td>1485.00</td>\n      <td>1485.00</td>\n      <td>0.0</td>\n      <td>0.0</td>\n      <td>0.0</td>\n      <td>0.000000</td>\n      <td>0.00</td>\n      <td>0.0</td>\n      <td>358.13138</td>\n    </tr>\n    <tr>\n      <th>10</th>\n      <td>10</td>\n      <td>E0</td>\n      <td>2020-09-19</td>\n      <td>17:30</td>\n      <td>Manchester United</td>\n      <td>Crystal Palace</td>\n      <td>1</td>\n      <td>3</td>\n      <td>A</td>\n      <td>0</td>\n      <td>...</td>\n      <td>1529.34</td>\n      <td>1500.00</td>\n      <td>1515.00</td>\n      <td>0.0</td>\n      <td>0.0</td>\n      <td>0.0</td>\n      <td>-3.000000</td>\n      <td>-15.00</td>\n      <td>0.0</td>\n      <td>358.13138</td>\n    </tr>\n    <tr>\n      <th>11</th>\n      <td>11</td>\n      <td>E0</td>\n      <td>2020-09-19</td>\n      <td>20:00</td>\n      <td>Arsenal</td>\n      <td>West Ham United</td>\n      <td>2</td>\n      <td>1</td>\n      <td>H</td>\n      <td>1</td>\n      <td>...</td>\n      <td>1471.29</td>\n      <td>1515.00</td>\n      <td>1485.00</td>\n      <td>0.0</td>\n      <td>0.0</td>\n      <td>0.0</td>\n      <td>3.000000</td>\n      <td>30.00</td>\n      <td>0.0</td>\n      <td>358.13138</td>\n    </tr>\n    <tr>\n      <th>12</th>\n      <td>12</td>\n      <td>E0</td>\n      <td>2020-09-20</td>\n      <td>12:00</td>\n      <td>Southampton</td>\n      <td>Tottenham Hotspur</td>\n      <td>2</td>\n      <td>5</td>\n      <td>A</td>\n      <td>1</td>\n      <td>...</td>\n      <td>1500.00</td>\n      <td>1485.00</td>\n      <td>1485.00</td>\n      <td>0.0</td>\n      <td>0.0</td>\n      <td>0.0</td>\n      <td>0.000000</td>\n      <td>0.00</td>\n      <td>0.0</td>\n      <td>358.13138</td>\n    </tr>\n    <tr>\n      <th>13</th>\n      <td>13</td>\n      <td>E0</td>\n      <td>2020-09-20</td>\n      <td>14:00</td>\n      <td>Newcastle United</td>\n      <td>Brighton &amp; Hove Albion</td>\n      <td>0</td>\n      <td>3</td>\n      <td>A</td>\n      <td>0</td>\n      <td>...</td>\n      <td>1501.29</td>\n      <td>1515.00</td>\n      <td>1485.00</td>\n      <td>0.0</td>\n      <td>0.0</td>\n      <td>0.0</td>\n      <td>3.000000</td>\n      <td>30.00</td>\n      <td>0.0</td>\n      <td>358.13138</td>\n    </tr>\n    <tr>\n      <th>14</th>\n      <td>14</td>\n      <td>E0</td>\n      <td>2020-09-20</td>\n      <td>16:30</td>\n      <td>Chelsea</td>\n      <td>Liverpool</td>\n      <td>0</td>\n      <td>2</td>\n      <td>A</td>\n      <td>0</td>\n      <td>...</td>\n      <td>1530.00</td>\n      <td>1515.00</td>\n      <td>1515.00</td>\n      <td>0.0</td>\n      <td>0.0</td>\n      <td>0.0</td>\n      <td>0.000000</td>\n      <td>0.00</td>\n      <td>0.0</td>\n      <td>358.13138</td>\n    </tr>\n    <tr>\n      <th>15</th>\n      <td>15</td>\n      <td>E0</td>\n      <td>2020-09-20</td>\n      <td>19:00</td>\n      <td>Leicester City</td>\n      <td>Burnley</td>\n      <td>4</td>\n      <td>2</td>\n      <td>H</td>\n      <td>1</td>\n      <td>...</td>\n      <td>1485.66</td>\n      <td>1515.00</td>\n      <td>1500.00</td>\n      <td>0.0</td>\n      <td>0.0</td>\n      <td>0.0</td>\n      <td>3.000000</td>\n      <td>15.00</td>\n      <td>0.0</td>\n      <td>358.13138</td>\n    </tr>\n    <tr>\n      <th>16</th>\n      <td>16</td>\n      <td>E0</td>\n      <td>2020-09-21</td>\n      <td>18:00</td>\n      <td>Aston Villa</td>\n      <td>Sheffield United</td>\n      <td>1</td>\n      <td>0</td>\n      <td>H</td>\n      <td>0</td>\n      <td>...</td>\n      <td>1470.66</td>\n      <td>1500.00</td>\n      <td>1485.00</td>\n      <td>0.0</td>\n      <td>0.0</td>\n      <td>0.0</td>\n      <td>0.000000</td>\n      <td>15.00</td>\n      <td>0.0</td>\n      <td>358.13138</td>\n    </tr>\n    <tr>\n      <th>17</th>\n      <td>17</td>\n      <td>E0</td>\n      <td>2020-09-21</td>\n      <td>20:15</td>\n      <td>Wolverhampton Wanderers</td>\n      <td>Manchester City</td>\n      <td>1</td>\n      <td>3</td>\n      <td>A</td>\n      <td>0</td>\n      <td>...</td>\n      <td>1515.66</td>\n      <td>1515.00</td>\n      <td>1500.00</td>\n      <td>0.0</td>\n      <td>0.0</td>\n      <td>0.0</td>\n      <td>3.000000</td>\n      <td>15.00</td>\n      <td>0.0</td>\n      <td>358.13138</td>\n    </tr>\n    <tr>\n      <th>18</th>\n      <td>18</td>\n      <td>E0</td>\n      <td>2020-09-26</td>\n      <td>12:30</td>\n      <td>Brighton &amp; Hove Albion</td>\n      <td>Manchester United</td>\n      <td>2</td>\n      <td>3</td>\n      <td>A</td>\n      <td>1</td>\n      <td>...</td>\n      <td>1501.32</td>\n      <td>1501.29</td>\n      <td>1485.66</td>\n      <td>1.0</td>\n      <td>3.0</td>\n      <td>4.0</td>\n      <td>1.875000</td>\n      <td>15.63</td>\n      <td>0.0</td>\n      <td>358.13138</td>\n    </tr>\n    <tr>\n      <th>19</th>\n      <td>19</td>\n      <td>E0</td>\n      <td>2020-09-26</td>\n      <td>15:00</td>\n      <td>Crystal Palace</td>\n      <td>Everton</td>\n      <td>1</td>\n      <td>2</td>\n      <td>A</td>\n      <td>1</td>\n      <td>...</td>\n      <td>1543.74</td>\n      <td>1529.34</td>\n      <td>1528.71</td>\n      <td>0.0</td>\n      <td>-1.0</td>\n      <td>4.0</td>\n      <td>0.000000</td>\n      <td>0.63</td>\n      <td>0.0</td>\n      <td>358.13138</td>\n    </tr>\n    <tr>\n      <th>20</th>\n      <td>20</td>\n      <td>E0</td>\n      <td>2020-09-26</td>\n      <td>17:30</td>\n      <td>West Bromwich Albion</td>\n      <td>Chelsea</td>\n      <td>3</td>\n      <td>3</td>\n      <td>D</td>\n      <td>3</td>\n      <td>...</td>\n      <td>1498.77</td>\n      <td>1471.29</td>\n      <td>1500.00</td>\n      <td>-3.0</td>\n      <td>-4.0</td>\n      <td>-1.0</td>\n      <td>-3.000000</td>\n      <td>-28.71</td>\n      <td>-3.0</td>\n      <td>358.13138</td>\n    </tr>\n    <tr>\n      <th>21</th>\n      <td>21</td>\n      <td>E0</td>\n      <td>2020-09-26</td>\n      <td>20:00</td>\n      <td>Burnley</td>\n      <td>Southampton</td>\n      <td>0</td>\n      <td>1</td>\n      <td>A</td>\n      <td>0</td>\n      <td>...</td>\n      <td>1485.69</td>\n      <td>1485.66</td>\n      <td>1470.00</td>\n      <td>0.0</td>\n      <td>-5.0</td>\n      <td>-3.0</td>\n      <td>0.000000</td>\n      <td>15.66</td>\n      <td>0.0</td>\n      <td>358.13138</td>\n    </tr>\n    <tr>\n      <th>22</th>\n      <td>22</td>\n      <td>E0</td>\n      <td>2020-09-27</td>\n      <td>12:00</td>\n      <td>Sheffield United</td>\n      <td>Leeds United</td>\n      <td>0</td>\n      <td>1</td>\n      <td>A</td>\n      <td>0</td>\n      <td>...</td>\n      <td>1513.74</td>\n      <td>1470.66</td>\n      <td>1500.00</td>\n      <td>-3.0</td>\n      <td>-1.0</td>\n      <td>12.0</td>\n      <td>-1.875000</td>\n      <td>-29.34</td>\n      <td>0.0</td>\n      <td>358.13138</td>\n    </tr>\n    <tr>\n      <th>23</th>\n      <td>23</td>\n      <td>E0</td>\n      <td>2020-09-27</td>\n      <td>14:00</td>\n      <td>Tottenham Hotspur</td>\n      <td>Newcastle United</td>\n      <td>1</td>\n      <td>1</td>\n      <td>D</td>\n      <td>1</td>\n      <td>...</td>\n      <td>1498.77</td>\n      <td>1500.00</td>\n      <td>1498.71</td>\n      <td>-2.0</td>\n      <td>3.0</td>\n      <td>-2.0</td>\n      <td>-1.125000</td>\n      <td>1.29</td>\n      <td>-3.0</td>\n      <td>358.13138</td>\n    </tr>\n    <tr>\n      <th>24</th>\n      <td>24</td>\n      <td>E0</td>\n      <td>2020-09-27</td>\n      <td>16:30</td>\n      <td>Manchester City</td>\n      <td>Leicester City</td>\n      <td>2</td>\n      <td>5</td>\n      <td>A</td>\n      <td>1</td>\n      <td>...</td>\n      <td>1543.74</td>\n      <td>1515.66</td>\n      <td>1529.34</td>\n      <td>-3.0</td>\n      <td>-7.0</td>\n      <td>-5.0</td>\n      <td>-1.875000</td>\n      <td>-13.68</td>\n      <td>-3.0</td>\n      <td>358.13138</td>\n    </tr>\n    <tr>\n      <th>25</th>\n      <td>25</td>\n      <td>E0</td>\n      <td>2020-09-27</td>\n      <td>19:00</td>\n      <td>West Ham United</td>\n      <td>Wolverhampton Wanderers</td>\n      <td>4</td>\n      <td>0</td>\n      <td>H</td>\n      <td>1</td>\n      <td>...</td>\n      <td>1483.14</td>\n      <td>1471.29</td>\n      <td>1499.34</td>\n      <td>-2.0</td>\n      <td>-1.0</td>\n      <td>3.0</td>\n      <td>-3.000000</td>\n      <td>-28.05</td>\n      <td>-3.0</td>\n      <td>358.13138</td>\n    </tr>\n    <tr>\n      <th>26</th>\n      <td>26</td>\n      <td>E0</td>\n      <td>2020-09-28</td>\n      <td>17:45</td>\n      <td>Fulham</td>\n      <td>Aston Villa</td>\n      <td>0</td>\n      <td>3</td>\n      <td>A</td>\n      <td>0</td>\n      <td>...</td>\n      <td>1527.45</td>\n      <td>1470.00</td>\n      <td>1514.34</td>\n      <td>0.0</td>\n      <td>2.0</td>\n      <td>2.0</td>\n      <td>-3.000000</td>\n      <td>-44.34</td>\n      <td>0.0</td>\n      <td>358.13138</td>\n    </tr>\n    <tr>\n      <th>27</th>\n      <td>27</td>\n      <td>E0</td>\n      <td>2020-09-28</td>\n      <td>20:00</td>\n      <td>Liverpool</td>\n      <td>Arsenal</td>\n      <td>3</td>\n      <td>1</td>\n      <td>H</td>\n      <td>2</td>\n      <td>...</td>\n      <td>1513.77</td>\n      <td>1530.00</td>\n      <td>1528.71</td>\n      <td>1.0</td>\n      <td>0.0</td>\n      <td>6.0</td>\n      <td>0.000000</td>\n      <td>1.29</td>\n      <td>0.0</td>\n      <td>358.13138</td>\n    </tr>\n    <tr>\n      <th>36</th>\n      <td>36</td>\n      <td>E0</td>\n      <td>2020-10-04</td>\n      <td>16:30</td>\n      <td>Manchester United</td>\n      <td>Tottenham Hotspur</td>\n      <td>1</td>\n      <td>6</td>\n      <td>A</td>\n      <td>1</td>\n      <td>...</td>\n      <td>1515.00</td>\n      <td>1501.32</td>\n      <td>1499.94</td>\n      <td>-1.5</td>\n      <td>-4.0</td>\n      <td>3.0</td>\n      <td>-1.084184</td>\n      <td>1.38</td>\n      <td>-1.5</td>\n      <td>358.13138</td>\n    </tr>\n    <tr>\n      <th>37</th>\n      <td>37</td>\n      <td>E0</td>\n      <td>2020-10-04</td>\n      <td>19:15</td>\n      <td>Aston Villa</td>\n      <td>Liverpool</td>\n      <td>7</td>\n      <td>2</td>\n      <td>H</td>\n      <td>4</td>\n      <td>...</td>\n      <td>1529.19</td>\n      <td>1527.45</td>\n      <td>1544.94</td>\n      <td>-4.0</td>\n      <td>-7.0</td>\n      <td>-4.5</td>\n      <td>-2.104592</td>\n      <td>-17.49</td>\n      <td>-1.5</td>\n      <td>358.13138</td>\n    </tr>\n  </tbody>\n</table>\n<p>30 rows × 135 columns</p>\n</div>"
     },
     "execution_count": 155,
     "metadata": {},
     "output_type": "execute_result"
    }
   ],
   "source": [
    "#PL20_21_fixtures\n",
    "test_fixtures = PL20_21_fixtures[PL20_21_fixtures['Wk_h'] < 4]\n",
    "test_fixtures"
   ],
   "metadata": {
    "collapsed": false,
    "pycharm": {
     "name": "#%%\n"
    }
   }
  },
  {
   "cell_type": "code",
   "execution_count": 172,
   "outputs": [
    {
     "name": "stdout",
     "output_type": "stream",
     "text": [
      "0\n",
      "1\n",
      "2\n",
      "3\n",
      "4\n",
      "5\n",
      "6\n",
      "7\n",
      "8\n",
      "9\n",
      "10\n",
      "11\n",
      "12\n",
      "13\n",
      "14\n",
      "15\n",
      "16\n",
      "17\n",
      "18\n",
      "19\n",
      "20\n",
      "21\n",
      "22\n",
      "23\n",
      "24\n",
      "25\n",
      "26\n",
      "27\n",
      "28\n",
      "29\n",
      "30\n",
      "31\n",
      "32\n",
      "33\n",
      "34\n",
      "35\n",
      "36\n",
      "37\n",
      "38\n",
      "39\n",
      "40\n",
      "41\n",
      "42\n",
      "43\n",
      "44\n",
      "45\n",
      "46\n",
      "47\n",
      "48\n",
      "49\n",
      "50\n",
      "51\n",
      "52\n",
      "53\n",
      "54\n",
      "55\n",
      "56\n",
      "57\n",
      "58\n",
      "59\n",
      "60\n",
      "61\n",
      "62\n",
      "63\n",
      "64\n",
      "65\n",
      "66\n",
      "67\n",
      "68\n",
      "69\n",
      "70\n",
      "71\n",
      "72\n",
      "73\n",
      "74\n",
      "75\n",
      "76\n",
      "77\n",
      "78\n",
      "79\n",
      "80\n",
      "81\n",
      "82\n",
      "83\n",
      "84\n",
      "85\n",
      "86\n",
      "87\n",
      "88\n",
      "89\n",
      "90\n",
      "91\n",
      "92\n",
      "93\n",
      "94\n",
      "95\n",
      "96\n",
      "97\n",
      "98\n",
      "99\n",
      "100\n",
      "101\n",
      "102\n",
      "103\n",
      "104\n",
      "105\n",
      "106\n",
      "107\n",
      "108\n",
      "109\n",
      "110\n",
      "111\n",
      "112\n",
      "113\n",
      "114\n",
      "115\n",
      "116\n",
      "117\n",
      "118\n",
      "119\n",
      "120\n",
      "121\n",
      "122\n",
      "123\n",
      "124\n",
      "125\n",
      "126\n",
      "127\n",
      "128\n",
      "129\n",
      "130\n",
      "131\n",
      "132\n",
      "133\n",
      "134\n",
      "135\n",
      "136\n",
      "137\n",
      "138\n",
      "139\n",
      "140\n",
      "141\n",
      "142\n",
      "143\n",
      "144\n",
      "145\n",
      "146\n",
      "147\n",
      "148\n",
      "149\n",
      "150\n",
      "151\n",
      "152\n",
      "153\n",
      "154\n",
      "155\n",
      "156\n",
      "157\n",
      "158\n",
      "159\n",
      "160\n",
      "161\n",
      "162\n",
      "163\n",
      "164\n",
      "165\n",
      "166\n",
      "167\n",
      "168\n",
      "169\n",
      "170\n",
      "171\n",
      "172\n",
      "173\n",
      "174\n",
      "175\n",
      "176\n",
      "177\n",
      "178\n",
      "179\n",
      "180\n",
      "181\n",
      "182\n",
      "183\n",
      "184\n",
      "185\n",
      "186\n",
      "187\n",
      "188\n",
      "189\n",
      "190\n",
      "191\n",
      "192\n",
      "193\n",
      "194\n",
      "195\n",
      "196\n",
      "197\n",
      "198\n",
      "199\n",
      "200\n",
      "201\n",
      "202\n",
      "203\n",
      "204\n",
      "205\n",
      "206\n",
      "207\n",
      "208\n",
      "209\n",
      "210\n",
      "211\n",
      "212\n",
      "213\n",
      "214\n",
      "215\n",
      "216\n",
      "217\n",
      "218\n",
      "219\n",
      "220\n",
      "221\n",
      "222\n",
      "223\n",
      "224\n",
      "225\n",
      "226\n",
      "227\n",
      "228\n",
      "229\n",
      "230\n",
      "231\n",
      "232\n",
      "233\n",
      "234\n",
      "235\n",
      "236\n",
      "237\n",
      "238\n",
      "239\n",
      "240\n",
      "241\n",
      "242\n",
      "243\n",
      "244\n",
      "245\n",
      "246\n",
      "247\n",
      "248\n",
      "249\n",
      "250\n",
      "251\n",
      "252\n",
      "253\n",
      "254\n",
      "255\n",
      "256\n",
      "257\n",
      "258\n",
      "259\n",
      "260\n",
      "261\n",
      "262\n",
      "263\n",
      "264\n",
      "265\n",
      "266\n",
      "267\n",
      "268\n",
      "269\n",
      "270\n",
      "271\n",
      "272\n",
      "273\n",
      "274\n",
      "275\n",
      "276\n",
      "277\n",
      "278\n",
      "279\n",
      "280\n",
      "281\n",
      "282\n",
      "283\n",
      "284\n",
      "285\n",
      "286\n",
      "287\n",
      "288\n",
      "289\n",
      "290\n",
      "291\n",
      "292\n",
      "293\n",
      "294\n",
      "295\n",
      "296\n",
      "297\n",
      "298\n",
      "299\n",
      "300\n",
      "301\n",
      "302\n",
      "303\n",
      "304\n",
      "305\n",
      "306\n",
      "307\n",
      "308\n",
      "309\n",
      "310\n",
      "311\n",
      "312\n",
      "313\n",
      "314\n",
      "315\n",
      "316\n",
      "317\n",
      "318\n",
      "319\n",
      "320\n",
      "321\n",
      "322\n",
      "323\n",
      "324\n",
      "325\n",
      "326\n",
      "327\n",
      "328\n",
      "329\n",
      "330\n",
      "331\n",
      "332\n",
      "333\n",
      "334\n",
      "335\n",
      "336\n",
      "337\n",
      "338\n",
      "339\n",
      "340\n",
      "341\n",
      "342\n",
      "343\n",
      "344\n",
      "345\n",
      "346\n",
      "347\n",
      "348\n",
      "349\n",
      "350\n",
      "351\n",
      "352\n",
      "353\n",
      "354\n",
      "355\n",
      "356\n",
      "357\n",
      "358\n",
      "359\n",
      "360\n",
      "361\n",
      "362\n",
      "363\n",
      "364\n",
      "365\n",
      "366\n",
      "367\n",
      "368\n",
      "369\n",
      "370\n",
      "371\n",
      "372\n",
      "373\n",
      "374\n",
      "375\n",
      "376\n",
      "377\n",
      "378\n",
      "379\n",
      "CPU times: total: 10min 32s\n",
      "Wall time: 10min 44s\n"
     ]
    },
    {
     "data": {
      "text/plain": "     Unnamed: 0 Div        Date   Time                 HomeTeam  \\\n0             0  E0  2020-09-12  12:30                   Fulham   \n1             1  E0  2020-09-12  15:00           Crystal Palace   \n2             2  E0  2020-09-12  17:30                Liverpool   \n3             3  E0  2020-09-12  20:00          West Ham United   \n4             4  E0  2020-09-13  14:00     West Bromwich Albion   \n..          ...  ..         ...    ...                      ...   \n375         375  E0  2021-05-23  16:00                Liverpool   \n376         376  E0  2021-05-23  16:00          Manchester City   \n377         377  E0  2021-05-23  16:00         Sheffield United   \n378         378  E0  2021-05-23  16:00          West Ham United   \n379         379  E0  2021-05-23  16:00  Wolverhampton Wanderers   \n\n              AwayTeam  FTHG  FTAG FTR  HTHG  ...  rating_h_gk rating_h_df  \\\n0              Arsenal     0     3   A     0  ...     0.000000    0.000000   \n1          Southampton     1     0   H     1  ...     0.000000    0.000000   \n2         Leeds United     4     3   H     3  ...     0.000000    0.000000   \n3     Newcastle United     0     2   A     0  ...     0.000000    0.000000   \n4       Leicester City     0     3   A     0  ...     0.000000    0.000000   \n..                 ...   ...   ...  ..   ...  ...          ...         ...   \n375     Crystal Palace     2     0   H     1  ...    49.842493  132.776843   \n376            Everton     5     0   H     2  ...    33.463307   68.601600   \n377            Burnley     1     0   H     1  ...    63.020119  123.639817   \n378        Southampton     3     0   H     2  ...    25.294511  102.080661   \n379  Manchester United     1     2   A     1  ...    33.974542  109.225445   \n\n    rating_h_mf  rating_h_att  rating_h_bench  rating_a_gk  rating_a_df  \\\n0      0.000000      0.000000        0.000000     0.000000     0.000000   \n1      0.000000      0.000000        0.000000     0.000000     0.000000   \n2      0.000000      0.000000        0.000000     0.000000     0.000000   \n3      0.000000      0.000000        0.000000     0.000000     0.000000   \n4      0.000000      0.000000        0.000000     0.000000     0.000000   \n..          ...           ...             ...          ...          ...   \n375   99.787807    144.741430       56.715791    22.039315    64.723511   \n376   57.479523    102.480879      173.106544    50.557816   105.287337   \n377   43.856606     70.806333       27.572720     6.099169    75.363725   \n378   83.798815    115.727065       75.281828    36.512269    94.518468   \n379   76.560527     73.181009       94.836204    20.311334    39.458777   \n\n     rating_a_mf  rating_a_att  rating_a_bench  \n0       0.000000      0.000000        0.000000  \n1       0.000000      0.000000        0.000000  \n2       0.000000      0.000000        0.000000  \n3       0.000000      0.000000        0.000000  \n4       0.000000      0.000000        0.000000  \n..           ...           ...             ...  \n375    51.555038     91.286118       30.650143  \n376    88.362955     70.789094       34.129200  \n377   117.693398     36.390672       40.976420  \n378    99.317408     64.056764      100.836827  \n379    11.363088     11.966056      134.856963  \n\n[380 rows x 145 columns]",
      "text/html": "<div>\n<style scoped>\n    .dataframe tbody tr th:only-of-type {\n        vertical-align: middle;\n    }\n\n    .dataframe tbody tr th {\n        vertical-align: top;\n    }\n\n    .dataframe thead th {\n        text-align: right;\n    }\n</style>\n<table border=\"1\" class=\"dataframe\">\n  <thead>\n    <tr style=\"text-align: right;\">\n      <th></th>\n      <th>Unnamed: 0</th>\n      <th>Div</th>\n      <th>Date</th>\n      <th>Time</th>\n      <th>HomeTeam</th>\n      <th>AwayTeam</th>\n      <th>FTHG</th>\n      <th>FTAG</th>\n      <th>FTR</th>\n      <th>HTHG</th>\n      <th>...</th>\n      <th>rating_h_gk</th>\n      <th>rating_h_df</th>\n      <th>rating_h_mf</th>\n      <th>rating_h_att</th>\n      <th>rating_h_bench</th>\n      <th>rating_a_gk</th>\n      <th>rating_a_df</th>\n      <th>rating_a_mf</th>\n      <th>rating_a_att</th>\n      <th>rating_a_bench</th>\n    </tr>\n  </thead>\n  <tbody>\n    <tr>\n      <th>0</th>\n      <td>0</td>\n      <td>E0</td>\n      <td>2020-09-12</td>\n      <td>12:30</td>\n      <td>Fulham</td>\n      <td>Arsenal</td>\n      <td>0</td>\n      <td>3</td>\n      <td>A</td>\n      <td>0</td>\n      <td>...</td>\n      <td>0.000000</td>\n      <td>0.000000</td>\n      <td>0.000000</td>\n      <td>0.000000</td>\n      <td>0.000000</td>\n      <td>0.000000</td>\n      <td>0.000000</td>\n      <td>0.000000</td>\n      <td>0.000000</td>\n      <td>0.000000</td>\n    </tr>\n    <tr>\n      <th>1</th>\n      <td>1</td>\n      <td>E0</td>\n      <td>2020-09-12</td>\n      <td>15:00</td>\n      <td>Crystal Palace</td>\n      <td>Southampton</td>\n      <td>1</td>\n      <td>0</td>\n      <td>H</td>\n      <td>1</td>\n      <td>...</td>\n      <td>0.000000</td>\n      <td>0.000000</td>\n      <td>0.000000</td>\n      <td>0.000000</td>\n      <td>0.000000</td>\n      <td>0.000000</td>\n      <td>0.000000</td>\n      <td>0.000000</td>\n      <td>0.000000</td>\n      <td>0.000000</td>\n    </tr>\n    <tr>\n      <th>2</th>\n      <td>2</td>\n      <td>E0</td>\n      <td>2020-09-12</td>\n      <td>17:30</td>\n      <td>Liverpool</td>\n      <td>Leeds United</td>\n      <td>4</td>\n      <td>3</td>\n      <td>H</td>\n      <td>3</td>\n      <td>...</td>\n      <td>0.000000</td>\n      <td>0.000000</td>\n      <td>0.000000</td>\n      <td>0.000000</td>\n      <td>0.000000</td>\n      <td>0.000000</td>\n      <td>0.000000</td>\n      <td>0.000000</td>\n      <td>0.000000</td>\n      <td>0.000000</td>\n    </tr>\n    <tr>\n      <th>3</th>\n      <td>3</td>\n      <td>E0</td>\n      <td>2020-09-12</td>\n      <td>20:00</td>\n      <td>West Ham United</td>\n      <td>Newcastle United</td>\n      <td>0</td>\n      <td>2</td>\n      <td>A</td>\n      <td>0</td>\n      <td>...</td>\n      <td>0.000000</td>\n      <td>0.000000</td>\n      <td>0.000000</td>\n      <td>0.000000</td>\n      <td>0.000000</td>\n      <td>0.000000</td>\n      <td>0.000000</td>\n      <td>0.000000</td>\n      <td>0.000000</td>\n      <td>0.000000</td>\n    </tr>\n    <tr>\n      <th>4</th>\n      <td>4</td>\n      <td>E0</td>\n      <td>2020-09-13</td>\n      <td>14:00</td>\n      <td>West Bromwich Albion</td>\n      <td>Leicester City</td>\n      <td>0</td>\n      <td>3</td>\n      <td>A</td>\n      <td>0</td>\n      <td>...</td>\n      <td>0.000000</td>\n      <td>0.000000</td>\n      <td>0.000000</td>\n      <td>0.000000</td>\n      <td>0.000000</td>\n      <td>0.000000</td>\n      <td>0.000000</td>\n      <td>0.000000</td>\n      <td>0.000000</td>\n      <td>0.000000</td>\n    </tr>\n    <tr>\n      <th>...</th>\n      <td>...</td>\n      <td>...</td>\n      <td>...</td>\n      <td>...</td>\n      <td>...</td>\n      <td>...</td>\n      <td>...</td>\n      <td>...</td>\n      <td>...</td>\n      <td>...</td>\n      <td>...</td>\n      <td>...</td>\n      <td>...</td>\n      <td>...</td>\n      <td>...</td>\n      <td>...</td>\n      <td>...</td>\n      <td>...</td>\n      <td>...</td>\n      <td>...</td>\n      <td>...</td>\n    </tr>\n    <tr>\n      <th>375</th>\n      <td>375</td>\n      <td>E0</td>\n      <td>2021-05-23</td>\n      <td>16:00</td>\n      <td>Liverpool</td>\n      <td>Crystal Palace</td>\n      <td>2</td>\n      <td>0</td>\n      <td>H</td>\n      <td>1</td>\n      <td>...</td>\n      <td>49.842493</td>\n      <td>132.776843</td>\n      <td>99.787807</td>\n      <td>144.741430</td>\n      <td>56.715791</td>\n      <td>22.039315</td>\n      <td>64.723511</td>\n      <td>51.555038</td>\n      <td>91.286118</td>\n      <td>30.650143</td>\n    </tr>\n    <tr>\n      <th>376</th>\n      <td>376</td>\n      <td>E0</td>\n      <td>2021-05-23</td>\n      <td>16:00</td>\n      <td>Manchester City</td>\n      <td>Everton</td>\n      <td>5</td>\n      <td>0</td>\n      <td>H</td>\n      <td>2</td>\n      <td>...</td>\n      <td>33.463307</td>\n      <td>68.601600</td>\n      <td>57.479523</td>\n      <td>102.480879</td>\n      <td>173.106544</td>\n      <td>50.557816</td>\n      <td>105.287337</td>\n      <td>88.362955</td>\n      <td>70.789094</td>\n      <td>34.129200</td>\n    </tr>\n    <tr>\n      <th>377</th>\n      <td>377</td>\n      <td>E0</td>\n      <td>2021-05-23</td>\n      <td>16:00</td>\n      <td>Sheffield United</td>\n      <td>Burnley</td>\n      <td>1</td>\n      <td>0</td>\n      <td>H</td>\n      <td>1</td>\n      <td>...</td>\n      <td>63.020119</td>\n      <td>123.639817</td>\n      <td>43.856606</td>\n      <td>70.806333</td>\n      <td>27.572720</td>\n      <td>6.099169</td>\n      <td>75.363725</td>\n      <td>117.693398</td>\n      <td>36.390672</td>\n      <td>40.976420</td>\n    </tr>\n    <tr>\n      <th>378</th>\n      <td>378</td>\n      <td>E0</td>\n      <td>2021-05-23</td>\n      <td>16:00</td>\n      <td>West Ham United</td>\n      <td>Southampton</td>\n      <td>3</td>\n      <td>0</td>\n      <td>H</td>\n      <td>2</td>\n      <td>...</td>\n      <td>25.294511</td>\n      <td>102.080661</td>\n      <td>83.798815</td>\n      <td>115.727065</td>\n      <td>75.281828</td>\n      <td>36.512269</td>\n      <td>94.518468</td>\n      <td>99.317408</td>\n      <td>64.056764</td>\n      <td>100.836827</td>\n    </tr>\n    <tr>\n      <th>379</th>\n      <td>379</td>\n      <td>E0</td>\n      <td>2021-05-23</td>\n      <td>16:00</td>\n      <td>Wolverhampton Wanderers</td>\n      <td>Manchester United</td>\n      <td>1</td>\n      <td>2</td>\n      <td>A</td>\n      <td>1</td>\n      <td>...</td>\n      <td>33.974542</td>\n      <td>109.225445</td>\n      <td>76.560527</td>\n      <td>73.181009</td>\n      <td>94.836204</td>\n      <td>20.311334</td>\n      <td>39.458777</td>\n      <td>11.363088</td>\n      <td>11.966056</td>\n      <td>134.856963</td>\n    </tr>\n  </tbody>\n</table>\n<p>380 rows × 145 columns</p>\n</div>"
     },
     "execution_count": 172,
     "metadata": {},
     "output_type": "execute_result"
    }
   ],
   "source": [
    "%%time\n",
    "def get_player_stats(player_stats, lineup, wk):\n",
    "    tmp = pd.merge(player_stats, lineup[['player', 'start11']], on= 'player')\n",
    "    df = tmp.drop(tmp[tmp.wk > wk].index)\n",
    "    return df\n",
    "\n",
    "def get_player_points(player_df, player, wk,stat):\n",
    "    rslt_df = player_df[player_df['player'] ==player]\n",
    "    rslt_df2 = rslt_df[rslt_df['wk'] ==wk]\n",
    "    if rslt_df2.empty == True:\n",
    "        return 0\n",
    "    out = rslt_df2[stat]\n",
    "    #print(out)\n",
    "    out = out.values[0]\n",
    "    return out\n",
    "\n",
    "def get_stats_season(player_df, player, fr, to, stat):\n",
    "    test = []\n",
    "    out = 0\n",
    "    df2 = 0\n",
    "    if fr == to: return 0\n",
    "    for i in range(fr, to):\n",
    "        out =  get_player_points(player_df ,player, i, stat)\n",
    "        test.append(out)\n",
    "        #print(test)\n",
    "        df = pd.Series(test)\n",
    "        df2 = df.ewm(alpha=0.4).mean()[len(df) - 1]\n",
    "    return df2\n",
    "\n",
    "def append_stats(features ,player_df):\n",
    "    for index, row in features.iterrows():\n",
    "        lineup_h = get_lineup(PL20_21_lineups_tmp, row['game_home_ID'])\n",
    "        lineup_a = get_lineup(PL20_21_lineups_tmp, row['game_away_ID'])\n",
    "        rating_h_bench = 0\n",
    "        rating_h_gk = 0\n",
    "        rating_h_df = 0\n",
    "        rating_h_mf = 0\n",
    "        rating_h_att = 0\n",
    "        rating_a_bench = 0\n",
    "        rating_a_gk = 0\n",
    "        rating_a_df = 0\n",
    "        rating_a_mf = 0\n",
    "        rating_a_att = 0\n",
    "        print(index)\n",
    "        for i, row_l in lineup_h.iterrows():\n",
    "            if row_l['start11'] == False:\n",
    "                rating_h_bench = rating_h_bench + get_stats_season(player_df, row_l['player'],1, row_l['wk'], 'rating')\n",
    "            if row_l['category'] == 'Goalkeeper':\n",
    "                rating_h_gk = rating_h_gk + get_stats_season(player_df, row_l['player'],1, row_l['wk'], 'rating')\n",
    "            elif row_l['category'] == 'Defender':\n",
    "                rating_h_df = rating_h_df + get_stats_season(player_df, row_l['player'],1, row_l['wk'], 'rating')\n",
    "            elif row_l['category'] == 'Midfield':\n",
    "                rating_h_mf = rating_h_mf + get_stats_season(player_df, row_l['player'],1, row_l['wk'], 'rating')\n",
    "            elif row_l['category'] == 'Forward':\n",
    "                rating_h_att = rating_h_att + get_stats_season(player_df, row_l['player'],1, row_l['wk'], 'rating')\n",
    "\n",
    "        for i, row_l in lineup_a.iterrows():\n",
    "            if row_l['start11'] == False:\n",
    "                rating_a_bench = rating_a_bench + get_stats_season(player_df, row_l['player'],1, row_l['wk'], 'rating')\n",
    "            if row_l['category'] == 'Goalkeeper':\n",
    "                rating_a_gk = rating_a_gk + get_stats_season(player_df, row_l['player'],1, row_l['wk'], 'rating')\n",
    "            elif row_l['category'] == 'Defender':\n",
    "                rating_a_df = rating_a_df + get_stats_season(player_df, row_l['player'],1, row_l['wk'], 'rating')\n",
    "            elif row_l['category'] == 'Midfield':\n",
    "                rating_a_mf = rating_a_mf + get_stats_season(player_df, row_l['player'],1, row_l['wk'], 'rating')\n",
    "            elif row_l['category'] == 'Forward':\n",
    "                rating_a_att = rating_a_att + get_stats_season(player_df, row_l['player'],1, row_l['wk'], 'rating')\n",
    "\n",
    "\n",
    "        features.loc[index, 'rating_h_gk'] = rating_h_gk\n",
    "        features.loc[index, 'rating_h_df'] = rating_h_df\n",
    "        features.loc[index, 'rating_h_mf'] = rating_h_mf\n",
    "        features.loc[index, 'rating_h_att'] = rating_h_att\n",
    "        features.loc[index, 'rating_h_bench'] = rating_h_bench\n",
    "        features.loc[index, 'rating_a_gk'] = rating_a_gk\n",
    "        features.loc[index, 'rating_a_df'] = rating_a_df\n",
    "        features.loc[index, 'rating_a_mf'] = rating_a_mf\n",
    "        features.loc[index, 'rating_a_att'] = rating_a_att\n",
    "        features.loc[index, 'rating_a_bench'] = rating_a_bench\n",
    "    return features\n",
    "\n",
    "\n",
    "\n",
    "\n",
    "\n",
    "#lineup = get_lineup(PL20_21_lineups_tmp, 'Arsenal2020-09-12')\n",
    "#lineup\n",
    "#t = get_player_stats(PL20_21_player_stats_tmp, lineup,4)\n",
    "#get_player_points(PL20_21_player_stats_tmp,'Ainsley Maitland-Niles', 1,'rating')\n",
    "#get_stats_season(PL20_21_player_stats_tmp,'Elia Caprile', 1,3,'rating')\n",
    "append_stats(PL20_21_fixtures, PL20_21_player_stats_tmp)"
   ],
   "metadata": {
    "collapsed": false,
    "pycharm": {
     "name": "#%%\n"
    }
   }
  },
  {
   "cell_type": "code",
   "execution_count": 168,
   "outputs": [
    {
     "data": {
      "text/plain": "     Unnamed: 0 Div        Date   Time                 HomeTeam  \\\n0             0  E0  2020-09-12  12:30                   Fulham   \n1             1  E0  2020-09-12  15:00           Crystal Palace   \n2             2  E0  2020-09-12  17:30                Liverpool   \n3             3  E0  2020-09-12  20:00          West Ham United   \n4             4  E0  2020-09-13  14:00     West Bromwich Albion   \n..          ...  ..         ...    ...                      ...   \n375         375  E0  2021-05-23  16:00                Liverpool   \n376         376  E0  2021-05-23  16:00          Manchester City   \n377         377  E0  2021-05-23  16:00         Sheffield United   \n378         378  E0  2021-05-23  16:00          West Ham United   \n379         379  E0  2021-05-23  16:00  Wolverhampton Wanderers   \n\n              AwayTeam  FTHG  FTAG FTR  HTHG  ...  rating_h_gk rating_h_df  \\\n0              Arsenal     0     3   A     0  ...          0.0         0.0   \n1          Southampton     1     0   H     1  ...          0.0         0.0   \n2         Leeds United     4     3   H     3  ...          0.0         0.0   \n3     Newcastle United     0     2   A     0  ...          0.0         0.0   \n4       Leicester City     0     3   A     0  ...          0.0         0.0   \n..                 ...   ...   ...  ..   ...  ...          ...         ...   \n375     Crystal Palace     2     0   H     1  ...          NaN         NaN   \n376            Everton     5     0   H     2  ...          NaN         NaN   \n377            Burnley     1     0   H     1  ...          NaN         NaN   \n378        Southampton     3     0   H     2  ...          NaN         NaN   \n379  Manchester United     1     2   A     1  ...          NaN         NaN   \n\n    rating_h_mf  rating_h_att  rating_h_bench  rating_a_gk  rating_a_df  \\\n0           0.0           0.0             0.0          0.0          0.0   \n1           0.0           0.0             0.0          0.0          0.0   \n2           0.0           0.0             0.0          0.0          0.0   \n3           0.0           0.0             0.0          0.0          0.0   \n4           0.0           0.0             0.0          0.0          0.0   \n..          ...           ...             ...          ...          ...   \n375         NaN           NaN             NaN          NaN          NaN   \n376         NaN           NaN             NaN          NaN          NaN   \n377         NaN           NaN             NaN          NaN          NaN   \n378         NaN           NaN             NaN          NaN          NaN   \n379         NaN           NaN             NaN          NaN          NaN   \n\n     rating_a_mf  rating_a_att  rating_a_bench  \n0            0.0           0.0             0.0  \n1            0.0           0.0             0.0  \n2            0.0           0.0             0.0  \n3            0.0           0.0             0.0  \n4            0.0           0.0             0.0  \n..           ...           ...             ...  \n375          NaN           NaN             NaN  \n376          NaN           NaN             NaN  \n377          NaN           NaN             NaN  \n378          NaN           NaN             NaN  \n379          NaN           NaN             NaN  \n\n[380 rows x 145 columns]",
      "text/html": "<div>\n<style scoped>\n    .dataframe tbody tr th:only-of-type {\n        vertical-align: middle;\n    }\n\n    .dataframe tbody tr th {\n        vertical-align: top;\n    }\n\n    .dataframe thead th {\n        text-align: right;\n    }\n</style>\n<table border=\"1\" class=\"dataframe\">\n  <thead>\n    <tr style=\"text-align: right;\">\n      <th></th>\n      <th>Unnamed: 0</th>\n      <th>Div</th>\n      <th>Date</th>\n      <th>Time</th>\n      <th>HomeTeam</th>\n      <th>AwayTeam</th>\n      <th>FTHG</th>\n      <th>FTAG</th>\n      <th>FTR</th>\n      <th>HTHG</th>\n      <th>...</th>\n      <th>rating_h_gk</th>\n      <th>rating_h_df</th>\n      <th>rating_h_mf</th>\n      <th>rating_h_att</th>\n      <th>rating_h_bench</th>\n      <th>rating_a_gk</th>\n      <th>rating_a_df</th>\n      <th>rating_a_mf</th>\n      <th>rating_a_att</th>\n      <th>rating_a_bench</th>\n    </tr>\n  </thead>\n  <tbody>\n    <tr>\n      <th>0</th>\n      <td>0</td>\n      <td>E0</td>\n      <td>2020-09-12</td>\n      <td>12:30</td>\n      <td>Fulham</td>\n      <td>Arsenal</td>\n      <td>0</td>\n      <td>3</td>\n      <td>A</td>\n      <td>0</td>\n      <td>...</td>\n      <td>0.0</td>\n      <td>0.0</td>\n      <td>0.0</td>\n      <td>0.0</td>\n      <td>0.0</td>\n      <td>0.0</td>\n      <td>0.0</td>\n      <td>0.0</td>\n      <td>0.0</td>\n      <td>0.0</td>\n    </tr>\n    <tr>\n      <th>1</th>\n      <td>1</td>\n      <td>E0</td>\n      <td>2020-09-12</td>\n      <td>15:00</td>\n      <td>Crystal Palace</td>\n      <td>Southampton</td>\n      <td>1</td>\n      <td>0</td>\n      <td>H</td>\n      <td>1</td>\n      <td>...</td>\n      <td>0.0</td>\n      <td>0.0</td>\n      <td>0.0</td>\n      <td>0.0</td>\n      <td>0.0</td>\n      <td>0.0</td>\n      <td>0.0</td>\n      <td>0.0</td>\n      <td>0.0</td>\n      <td>0.0</td>\n    </tr>\n    <tr>\n      <th>2</th>\n      <td>2</td>\n      <td>E0</td>\n      <td>2020-09-12</td>\n      <td>17:30</td>\n      <td>Liverpool</td>\n      <td>Leeds United</td>\n      <td>4</td>\n      <td>3</td>\n      <td>H</td>\n      <td>3</td>\n      <td>...</td>\n      <td>0.0</td>\n      <td>0.0</td>\n      <td>0.0</td>\n      <td>0.0</td>\n      <td>0.0</td>\n      <td>0.0</td>\n      <td>0.0</td>\n      <td>0.0</td>\n      <td>0.0</td>\n      <td>0.0</td>\n    </tr>\n    <tr>\n      <th>3</th>\n      <td>3</td>\n      <td>E0</td>\n      <td>2020-09-12</td>\n      <td>20:00</td>\n      <td>West Ham United</td>\n      <td>Newcastle United</td>\n      <td>0</td>\n      <td>2</td>\n      <td>A</td>\n      <td>0</td>\n      <td>...</td>\n      <td>0.0</td>\n      <td>0.0</td>\n      <td>0.0</td>\n      <td>0.0</td>\n      <td>0.0</td>\n      <td>0.0</td>\n      <td>0.0</td>\n      <td>0.0</td>\n      <td>0.0</td>\n      <td>0.0</td>\n    </tr>\n    <tr>\n      <th>4</th>\n      <td>4</td>\n      <td>E0</td>\n      <td>2020-09-13</td>\n      <td>14:00</td>\n      <td>West Bromwich Albion</td>\n      <td>Leicester City</td>\n      <td>0</td>\n      <td>3</td>\n      <td>A</td>\n      <td>0</td>\n      <td>...</td>\n      <td>0.0</td>\n      <td>0.0</td>\n      <td>0.0</td>\n      <td>0.0</td>\n      <td>0.0</td>\n      <td>0.0</td>\n      <td>0.0</td>\n      <td>0.0</td>\n      <td>0.0</td>\n      <td>0.0</td>\n    </tr>\n    <tr>\n      <th>...</th>\n      <td>...</td>\n      <td>...</td>\n      <td>...</td>\n      <td>...</td>\n      <td>...</td>\n      <td>...</td>\n      <td>...</td>\n      <td>...</td>\n      <td>...</td>\n      <td>...</td>\n      <td>...</td>\n      <td>...</td>\n      <td>...</td>\n      <td>...</td>\n      <td>...</td>\n      <td>...</td>\n      <td>...</td>\n      <td>...</td>\n      <td>...</td>\n      <td>...</td>\n      <td>...</td>\n    </tr>\n    <tr>\n      <th>375</th>\n      <td>375</td>\n      <td>E0</td>\n      <td>2021-05-23</td>\n      <td>16:00</td>\n      <td>Liverpool</td>\n      <td>Crystal Palace</td>\n      <td>2</td>\n      <td>0</td>\n      <td>H</td>\n      <td>1</td>\n      <td>...</td>\n      <td>NaN</td>\n      <td>NaN</td>\n      <td>NaN</td>\n      <td>NaN</td>\n      <td>NaN</td>\n      <td>NaN</td>\n      <td>NaN</td>\n      <td>NaN</td>\n      <td>NaN</td>\n      <td>NaN</td>\n    </tr>\n    <tr>\n      <th>376</th>\n      <td>376</td>\n      <td>E0</td>\n      <td>2021-05-23</td>\n      <td>16:00</td>\n      <td>Manchester City</td>\n      <td>Everton</td>\n      <td>5</td>\n      <td>0</td>\n      <td>H</td>\n      <td>2</td>\n      <td>...</td>\n      <td>NaN</td>\n      <td>NaN</td>\n      <td>NaN</td>\n      <td>NaN</td>\n      <td>NaN</td>\n      <td>NaN</td>\n      <td>NaN</td>\n      <td>NaN</td>\n      <td>NaN</td>\n      <td>NaN</td>\n    </tr>\n    <tr>\n      <th>377</th>\n      <td>377</td>\n      <td>E0</td>\n      <td>2021-05-23</td>\n      <td>16:00</td>\n      <td>Sheffield United</td>\n      <td>Burnley</td>\n      <td>1</td>\n      <td>0</td>\n      <td>H</td>\n      <td>1</td>\n      <td>...</td>\n      <td>NaN</td>\n      <td>NaN</td>\n      <td>NaN</td>\n      <td>NaN</td>\n      <td>NaN</td>\n      <td>NaN</td>\n      <td>NaN</td>\n      <td>NaN</td>\n      <td>NaN</td>\n      <td>NaN</td>\n    </tr>\n    <tr>\n      <th>378</th>\n      <td>378</td>\n      <td>E0</td>\n      <td>2021-05-23</td>\n      <td>16:00</td>\n      <td>West Ham United</td>\n      <td>Southampton</td>\n      <td>3</td>\n      <td>0</td>\n      <td>H</td>\n      <td>2</td>\n      <td>...</td>\n      <td>NaN</td>\n      <td>NaN</td>\n      <td>NaN</td>\n      <td>NaN</td>\n      <td>NaN</td>\n      <td>NaN</td>\n      <td>NaN</td>\n      <td>NaN</td>\n      <td>NaN</td>\n      <td>NaN</td>\n    </tr>\n    <tr>\n      <th>379</th>\n      <td>379</td>\n      <td>E0</td>\n      <td>2021-05-23</td>\n      <td>16:00</td>\n      <td>Wolverhampton Wanderers</td>\n      <td>Manchester United</td>\n      <td>1</td>\n      <td>2</td>\n      <td>A</td>\n      <td>1</td>\n      <td>...</td>\n      <td>NaN</td>\n      <td>NaN</td>\n      <td>NaN</td>\n      <td>NaN</td>\n      <td>NaN</td>\n      <td>NaN</td>\n      <td>NaN</td>\n      <td>NaN</td>\n      <td>NaN</td>\n      <td>NaN</td>\n    </tr>\n  </tbody>\n</table>\n<p>380 rows × 145 columns</p>\n</div>"
     },
     "execution_count": 168,
     "metadata": {},
     "output_type": "execute_result"
    }
   ],
   "source": [
    "PL20_21_fixtures"
   ],
   "metadata": {
    "collapsed": false,
    "pycharm": {
     "name": "#%%\n"
    }
   }
  },
  {
   "cell_type": "code",
   "execution_count": 50,
   "outputs": [
    {
     "data": {
      "text/plain": "                player         team  matchweek        date  start11  \\\n0          Marek Rodák       Fulham        1.0  2020-09-12     True   \n1       Michael Hector       Fulham        1.0  2020-09-12     True   \n2           Denis Odoi       Fulham        1.0  2020-09-12     True   \n3      Neeskens Kebano       Fulham        1.0  2020-09-12     True   \n4          Tom Cairney       Fulham        1.0  2020-09-12     True   \n...                ...          ...        ...         ...      ...   \n14641  Michael Obafemi  Southampton       38.0  2021-05-23    False   \n14642     Nathan Tella  Southampton       38.0  2021-05-23    False   \n14643     Theo Walcott  Southampton       38.0  2021-05-23    False   \n14644     Dan Nlundulu  Southampton       38.0  2021-05-23    False   \n14645       Will Ferry  Southampton       38.0  2021-05-23    False   \n\n                                  player_id                game_id  wk  \\\n0               Marek RodákFulham2020-09-12       Fulham2020-09-12   1   \n1            Michael HectorFulham2020-09-12       Fulham2020-09-12   1   \n2                Denis OdoiFulham2020-09-12       Fulham2020-09-12   1   \n3           Neeskens KebanoFulham2020-09-12       Fulham2020-09-12   1   \n4               Tom CairneyFulham2020-09-12       Fulham2020-09-12   1   \n...                                     ...                    ...  ..   \n14641  Michael ObafemiSouthampton2021-05-23  Southampton2021-05-23  38   \n14642     Nathan TellaSouthampton2021-05-23  Southampton2021-05-23  38   \n14643     Theo WalcottSouthampton2021-05-23  Southampton2021-05-23  38   \n14644     Dan NlunduluSouthampton2021-05-23  Southampton2021-05-23  38   \n14645       Will FerrySouthampton2021-05-23  Southampton2021-05-23  38   \n\n       category position  ...  ict_index  influence  creativity  threat  \\\n0           NaN       GK  ...        1.8       18.2         0.0     0.0   \n1      Defender       CB  ...        1.7       16.8         0.6     0.0   \n2      Defender       RB  ...        2.1       11.4         2.6     7.0   \n3       Forward       RW  ...        2.2        1.0         2.7    18.0   \n4      Midfield       DM  ...        1.7        7.0        10.2     0.0   \n...         ...      ...  ...        ...        ...         ...     ...   \n14641   Forward       FW  ...        0.0        0.0         0.3     0.0   \n14642   Forward       FW  ...        2.5        4.6         1.4    19.0   \n14643       NaN      NaN  ...        NaN        NaN         NaN     NaN   \n14644       NaN      NaN  ...        NaN        NaN         NaN     NaN   \n14645       NaN      NaN  ...        NaN        NaN         NaN     NaN   \n\n       total_points  transfers_in  transfers_out  transfers_balance  value  \\\n0               1.0           0.0            0.0                0.0   45.0   \n1               0.0           0.0            0.0                0.0   45.0   \n2               1.0           0.0            0.0                0.0   45.0   \n3               2.0           0.0            0.0                0.0   50.0   \n4               1.0           0.0            0.0                0.0   55.0   \n...             ...           ...            ...                ...    ...   \n14641           1.0         618.0          520.0               98.0   46.0   \n14642           1.0        1899.0         1061.0              838.0   43.0   \n14643           NaN           NaN            NaN                NaN    NaN   \n14644           NaN           NaN            NaN                NaN    NaN   \n14645           NaN           NaN            NaN                NaN    NaN   \n\n       was_home  \n0          True  \n1          True  \n2          True  \n3          True  \n4          True  \n...         ...  \n14641     False  \n14642     False  \n14643       NaN  \n14644       NaN  \n14645       NaN  \n\n[14646 rows x 25 columns]",
      "text/html": "<div>\n<style scoped>\n    .dataframe tbody tr th:only-of-type {\n        vertical-align: middle;\n    }\n\n    .dataframe tbody tr th {\n        vertical-align: top;\n    }\n\n    .dataframe thead th {\n        text-align: right;\n    }\n</style>\n<table border=\"1\" class=\"dataframe\">\n  <thead>\n    <tr style=\"text-align: right;\">\n      <th></th>\n      <th>player</th>\n      <th>team</th>\n      <th>matchweek</th>\n      <th>date</th>\n      <th>start11</th>\n      <th>player_id</th>\n      <th>game_id</th>\n      <th>wk</th>\n      <th>category</th>\n      <th>position</th>\n      <th>...</th>\n      <th>ict_index</th>\n      <th>influence</th>\n      <th>creativity</th>\n      <th>threat</th>\n      <th>total_points</th>\n      <th>transfers_in</th>\n      <th>transfers_out</th>\n      <th>transfers_balance</th>\n      <th>value</th>\n      <th>was_home</th>\n    </tr>\n  </thead>\n  <tbody>\n    <tr>\n      <th>0</th>\n      <td>Marek Rodák</td>\n      <td>Fulham</td>\n      <td>1.0</td>\n      <td>2020-09-12</td>\n      <td>True</td>\n      <td>Marek RodákFulham2020-09-12</td>\n      <td>Fulham2020-09-12</td>\n      <td>1</td>\n      <td>NaN</td>\n      <td>GK</td>\n      <td>...</td>\n      <td>1.8</td>\n      <td>18.2</td>\n      <td>0.0</td>\n      <td>0.0</td>\n      <td>1.0</td>\n      <td>0.0</td>\n      <td>0.0</td>\n      <td>0.0</td>\n      <td>45.0</td>\n      <td>True</td>\n    </tr>\n    <tr>\n      <th>1</th>\n      <td>Michael Hector</td>\n      <td>Fulham</td>\n      <td>1.0</td>\n      <td>2020-09-12</td>\n      <td>True</td>\n      <td>Michael HectorFulham2020-09-12</td>\n      <td>Fulham2020-09-12</td>\n      <td>1</td>\n      <td>Defender</td>\n      <td>CB</td>\n      <td>...</td>\n      <td>1.7</td>\n      <td>16.8</td>\n      <td>0.6</td>\n      <td>0.0</td>\n      <td>0.0</td>\n      <td>0.0</td>\n      <td>0.0</td>\n      <td>0.0</td>\n      <td>45.0</td>\n      <td>True</td>\n    </tr>\n    <tr>\n      <th>2</th>\n      <td>Denis Odoi</td>\n      <td>Fulham</td>\n      <td>1.0</td>\n      <td>2020-09-12</td>\n      <td>True</td>\n      <td>Denis OdoiFulham2020-09-12</td>\n      <td>Fulham2020-09-12</td>\n      <td>1</td>\n      <td>Defender</td>\n      <td>RB</td>\n      <td>...</td>\n      <td>2.1</td>\n      <td>11.4</td>\n      <td>2.6</td>\n      <td>7.0</td>\n      <td>1.0</td>\n      <td>0.0</td>\n      <td>0.0</td>\n      <td>0.0</td>\n      <td>45.0</td>\n      <td>True</td>\n    </tr>\n    <tr>\n      <th>3</th>\n      <td>Neeskens Kebano</td>\n      <td>Fulham</td>\n      <td>1.0</td>\n      <td>2020-09-12</td>\n      <td>True</td>\n      <td>Neeskens KebanoFulham2020-09-12</td>\n      <td>Fulham2020-09-12</td>\n      <td>1</td>\n      <td>Forward</td>\n      <td>RW</td>\n      <td>...</td>\n      <td>2.2</td>\n      <td>1.0</td>\n      <td>2.7</td>\n      <td>18.0</td>\n      <td>2.0</td>\n      <td>0.0</td>\n      <td>0.0</td>\n      <td>0.0</td>\n      <td>50.0</td>\n      <td>True</td>\n    </tr>\n    <tr>\n      <th>4</th>\n      <td>Tom Cairney</td>\n      <td>Fulham</td>\n      <td>1.0</td>\n      <td>2020-09-12</td>\n      <td>True</td>\n      <td>Tom CairneyFulham2020-09-12</td>\n      <td>Fulham2020-09-12</td>\n      <td>1</td>\n      <td>Midfield</td>\n      <td>DM</td>\n      <td>...</td>\n      <td>1.7</td>\n      <td>7.0</td>\n      <td>10.2</td>\n      <td>0.0</td>\n      <td>1.0</td>\n      <td>0.0</td>\n      <td>0.0</td>\n      <td>0.0</td>\n      <td>55.0</td>\n      <td>True</td>\n    </tr>\n    <tr>\n      <th>...</th>\n      <td>...</td>\n      <td>...</td>\n      <td>...</td>\n      <td>...</td>\n      <td>...</td>\n      <td>...</td>\n      <td>...</td>\n      <td>...</td>\n      <td>...</td>\n      <td>...</td>\n      <td>...</td>\n      <td>...</td>\n      <td>...</td>\n      <td>...</td>\n      <td>...</td>\n      <td>...</td>\n      <td>...</td>\n      <td>...</td>\n      <td>...</td>\n      <td>...</td>\n      <td>...</td>\n    </tr>\n    <tr>\n      <th>14641</th>\n      <td>Michael Obafemi</td>\n      <td>Southampton</td>\n      <td>38.0</td>\n      <td>2021-05-23</td>\n      <td>False</td>\n      <td>Michael ObafemiSouthampton2021-05-23</td>\n      <td>Southampton2021-05-23</td>\n      <td>38</td>\n      <td>Forward</td>\n      <td>FW</td>\n      <td>...</td>\n      <td>0.0</td>\n      <td>0.0</td>\n      <td>0.3</td>\n      <td>0.0</td>\n      <td>1.0</td>\n      <td>618.0</td>\n      <td>520.0</td>\n      <td>98.0</td>\n      <td>46.0</td>\n      <td>False</td>\n    </tr>\n    <tr>\n      <th>14642</th>\n      <td>Nathan Tella</td>\n      <td>Southampton</td>\n      <td>38.0</td>\n      <td>2021-05-23</td>\n      <td>False</td>\n      <td>Nathan TellaSouthampton2021-05-23</td>\n      <td>Southampton2021-05-23</td>\n      <td>38</td>\n      <td>Forward</td>\n      <td>FW</td>\n      <td>...</td>\n      <td>2.5</td>\n      <td>4.6</td>\n      <td>1.4</td>\n      <td>19.0</td>\n      <td>1.0</td>\n      <td>1899.0</td>\n      <td>1061.0</td>\n      <td>838.0</td>\n      <td>43.0</td>\n      <td>False</td>\n    </tr>\n    <tr>\n      <th>14643</th>\n      <td>Theo Walcott</td>\n      <td>Southampton</td>\n      <td>38.0</td>\n      <td>2021-05-23</td>\n      <td>False</td>\n      <td>Theo WalcottSouthampton2021-05-23</td>\n      <td>Southampton2021-05-23</td>\n      <td>38</td>\n      <td>NaN</td>\n      <td>NaN</td>\n      <td>...</td>\n      <td>NaN</td>\n      <td>NaN</td>\n      <td>NaN</td>\n      <td>NaN</td>\n      <td>NaN</td>\n      <td>NaN</td>\n      <td>NaN</td>\n      <td>NaN</td>\n      <td>NaN</td>\n      <td>NaN</td>\n    </tr>\n    <tr>\n      <th>14644</th>\n      <td>Dan Nlundulu</td>\n      <td>Southampton</td>\n      <td>38.0</td>\n      <td>2021-05-23</td>\n      <td>False</td>\n      <td>Dan NlunduluSouthampton2021-05-23</td>\n      <td>Southampton2021-05-23</td>\n      <td>38</td>\n      <td>NaN</td>\n      <td>NaN</td>\n      <td>...</td>\n      <td>NaN</td>\n      <td>NaN</td>\n      <td>NaN</td>\n      <td>NaN</td>\n      <td>NaN</td>\n      <td>NaN</td>\n      <td>NaN</td>\n      <td>NaN</td>\n      <td>NaN</td>\n      <td>NaN</td>\n    </tr>\n    <tr>\n      <th>14645</th>\n      <td>Will Ferry</td>\n      <td>Southampton</td>\n      <td>38.0</td>\n      <td>2021-05-23</td>\n      <td>False</td>\n      <td>Will FerrySouthampton2021-05-23</td>\n      <td>Southampton2021-05-23</td>\n      <td>38</td>\n      <td>NaN</td>\n      <td>NaN</td>\n      <td>...</td>\n      <td>NaN</td>\n      <td>NaN</td>\n      <td>NaN</td>\n      <td>NaN</td>\n      <td>NaN</td>\n      <td>NaN</td>\n      <td>NaN</td>\n      <td>NaN</td>\n      <td>NaN</td>\n      <td>NaN</td>\n    </tr>\n  </tbody>\n</table>\n<p>14646 rows × 25 columns</p>\n</div>"
     },
     "execution_count": 50,
     "metadata": {},
     "output_type": "execute_result"
    }
   ],
   "source": [
    "test =  pd.merge(PL20_21_lineups_tmp, PL20_21_player_stats_tmp[['player_id', 'category', 'position', 'minutes', 'rating', 'xP', 'bonus', 'bps', 'ict_index', 'influence', 'creativity', 'threat', 'total_points', 'transfers_in', 'transfers_out', 'transfers_balance', 'value', 'was_home']], on= 'player_id', how='left')\n",
    "test"
   ],
   "metadata": {
    "collapsed": false,
    "pycharm": {
     "name": "#%%\n"
    }
   }
  },
  {
   "cell_type": "code",
   "execution_count": 53,
   "outputs": [
    {
     "data": {
      "text/plain": "                    player                  team\n0              Marek Rodák                Fulham\n1           Michael Hector                Fulham\n2               Denis Odoi                Fulham\n3          Neeskens Kebano                Fulham\n4              Tom Cairney                Fulham\n...                    ...                   ...\n14441      Hannibal Mejbri     Manchester United\n14442  William Thomas Fish     Manchester United\n14523       Tim Iroegbunam  West Bromwich Albion\n14541      Tyrese Francois                Fulham\n14542     Sylvester Jasper                Fulham\n\n[653 rows x 2 columns]",
      "text/html": "<div>\n<style scoped>\n    .dataframe tbody tr th:only-of-type {\n        vertical-align: middle;\n    }\n\n    .dataframe tbody tr th {\n        vertical-align: top;\n    }\n\n    .dataframe thead th {\n        text-align: right;\n    }\n</style>\n<table border=\"1\" class=\"dataframe\">\n  <thead>\n    <tr style=\"text-align: right;\">\n      <th></th>\n      <th>player</th>\n      <th>team</th>\n    </tr>\n  </thead>\n  <tbody>\n    <tr>\n      <th>0</th>\n      <td>Marek Rodák</td>\n      <td>Fulham</td>\n    </tr>\n    <tr>\n      <th>1</th>\n      <td>Michael Hector</td>\n      <td>Fulham</td>\n    </tr>\n    <tr>\n      <th>2</th>\n      <td>Denis Odoi</td>\n      <td>Fulham</td>\n    </tr>\n    <tr>\n      <th>3</th>\n      <td>Neeskens Kebano</td>\n      <td>Fulham</td>\n    </tr>\n    <tr>\n      <th>4</th>\n      <td>Tom Cairney</td>\n      <td>Fulham</td>\n    </tr>\n    <tr>\n      <th>...</th>\n      <td>...</td>\n      <td>...</td>\n    </tr>\n    <tr>\n      <th>14441</th>\n      <td>Hannibal Mejbri</td>\n      <td>Manchester United</td>\n    </tr>\n    <tr>\n      <th>14442</th>\n      <td>William Thomas Fish</td>\n      <td>Manchester United</td>\n    </tr>\n    <tr>\n      <th>14523</th>\n      <td>Tim Iroegbunam</td>\n      <td>West Bromwich Albion</td>\n    </tr>\n    <tr>\n      <th>14541</th>\n      <td>Tyrese Francois</td>\n      <td>Fulham</td>\n    </tr>\n    <tr>\n      <th>14542</th>\n      <td>Sylvester Jasper</td>\n      <td>Fulham</td>\n    </tr>\n  </tbody>\n</table>\n<p>653 rows × 2 columns</p>\n</div>"
     },
     "execution_count": 53,
     "metadata": {},
     "output_type": "execute_result"
    }
   ],
   "source": [
    "PL20_21_lineups_p = PL20_21_lineups[['player', 'team']]\n",
    "PL20_21_lineups_p= PL20_21_lineups_p.drop_duplicates()\n",
    "PL20_21_lineups_p"
   ],
   "metadata": {
    "collapsed": false,
    "pycharm": {
     "name": "#%%\n"
    }
   }
  }
 ],
 "metadata": {
  "kernelspec": {
   "display_name": "Python 3",
   "language": "python",
   "name": "python3"
  },
  "language_info": {
   "codemirror_mode": {
    "name": "ipython",
    "version": 2
   },
   "file_extension": ".py",
   "mimetype": "text/x-python",
   "name": "python",
   "nbconvert_exporter": "python",
   "pygments_lexer": "ipython2",
   "version": "2.7.6"
  }
 },
 "nbformat": 4,
 "nbformat_minor": 0
}