{
 "cells": [
  {
   "cell_type": "code",
   "execution_count": 60,
   "metadata": {
    "collapsed": true
   },
   "outputs": [],
   "source": [
    "#import necessary packages\n",
    "import pandas as pd\n",
    "import numpy as np"
   ]
  },
  {
   "cell_type": "code",
   "execution_count": 61,
   "outputs": [
    {
     "data": {
      "text/plain": "              player  shots_on_target_against  goals_against_gk  saves  \\\n0        Marek Rodák                      5.0               3.0    2.0   \n1         Bernd Leno                      2.0               0.0    2.0   \n2     Vicente Guaita                      5.0               0.0    5.0   \n3      Alex McCarthy                      3.0               1.0    2.0   \n4            Alisson                      3.0               3.0    0.0   \n..               ...                      ...               ...    ...   \n760   Robert Sánchez                      4.0               2.0    2.0   \n761          Alisson                      4.0               0.0    4.0   \n762   Vicente Guaita                      5.0               2.0    3.0   \n763      Marek Rodák                      3.0               2.0    2.0   \n764  Martin Dúbravka                      0.0               0.0    0.0   \n\n     save_pct  psxg_gk  passes_completed_launched_gk  passes_gk  \\\n0        40.0      2.5                           6.0       22.0   \n1       100.0      0.0                           1.0       28.0   \n2       100.0      0.8                           6.0       20.0   \n3        66.7      0.7                           8.0       44.0   \n4         0.0      2.1                           2.0       26.0   \n..        ...      ...                           ...        ...   \n760      50.0      1.1                           6.0       50.0   \n761     100.0      1.1                           6.0       20.0   \n762      60.0      2.2                           9.0       27.0   \n763      66.7      1.5                           1.0       17.0   \n764       0.0      0.0                           6.0       30.0   \n\n     passes_throws_gk  pct_passes_launched_gk  \\\n0                 3.0                    40.9   \n1                 2.0                     0.0   \n2                 0.0                    95.0   \n3                 8.0                    38.6   \n4                 5.0                    34.6   \n..                ...                     ...   \n760               8.0                    24.0   \n761               3.0                    30.0   \n762               5.0                    70.4   \n763               4.0                    11.8   \n764               8.0                    30.0   \n\n     def_actions_outside_pen_area_gk                    Team  matchweek  \n0                                1.0                  Fulham        1.0  \n1                                1.0                 Arsenal        1.0  \n2                                0.0          Crystal Palace        1.0  \n3                                4.0             Southampton        1.0  \n4                                0.0               Liverpool        1.0  \n..                               ...                     ...        ...  \n760                              1.0  Brighton & Hove Albion       38.0  \n761                              1.0               Liverpool       38.0  \n762                              1.0          Crystal Palace       38.0  \n763                              0.0                  Fulham       38.0  \n764                              1.0        Newcastle United       38.0  \n\n[765 rows x 13 columns]",
      "text/html": "<div>\n<style scoped>\n    .dataframe tbody tr th:only-of-type {\n        vertical-align: middle;\n    }\n\n    .dataframe tbody tr th {\n        vertical-align: top;\n    }\n\n    .dataframe thead th {\n        text-align: right;\n    }\n</style>\n<table border=\"1\" class=\"dataframe\">\n  <thead>\n    <tr style=\"text-align: right;\">\n      <th></th>\n      <th>player</th>\n      <th>shots_on_target_against</th>\n      <th>goals_against_gk</th>\n      <th>saves</th>\n      <th>save_pct</th>\n      <th>psxg_gk</th>\n      <th>passes_completed_launched_gk</th>\n      <th>passes_gk</th>\n      <th>passes_throws_gk</th>\n      <th>pct_passes_launched_gk</th>\n      <th>def_actions_outside_pen_area_gk</th>\n      <th>Team</th>\n      <th>matchweek</th>\n    </tr>\n  </thead>\n  <tbody>\n    <tr>\n      <th>0</th>\n      <td>Marek Rodák</td>\n      <td>5.0</td>\n      <td>3.0</td>\n      <td>2.0</td>\n      <td>40.0</td>\n      <td>2.5</td>\n      <td>6.0</td>\n      <td>22.0</td>\n      <td>3.0</td>\n      <td>40.9</td>\n      <td>1.0</td>\n      <td>Fulham</td>\n      <td>1.0</td>\n    </tr>\n    <tr>\n      <th>1</th>\n      <td>Bernd Leno</td>\n      <td>2.0</td>\n      <td>0.0</td>\n      <td>2.0</td>\n      <td>100.0</td>\n      <td>0.0</td>\n      <td>1.0</td>\n      <td>28.0</td>\n      <td>2.0</td>\n      <td>0.0</td>\n      <td>1.0</td>\n      <td>Arsenal</td>\n      <td>1.0</td>\n    </tr>\n    <tr>\n      <th>2</th>\n      <td>Vicente Guaita</td>\n      <td>5.0</td>\n      <td>0.0</td>\n      <td>5.0</td>\n      <td>100.0</td>\n      <td>0.8</td>\n      <td>6.0</td>\n      <td>20.0</td>\n      <td>0.0</td>\n      <td>95.0</td>\n      <td>0.0</td>\n      <td>Crystal Palace</td>\n      <td>1.0</td>\n    </tr>\n    <tr>\n      <th>3</th>\n      <td>Alex McCarthy</td>\n      <td>3.0</td>\n      <td>1.0</td>\n      <td>2.0</td>\n      <td>66.7</td>\n      <td>0.7</td>\n      <td>8.0</td>\n      <td>44.0</td>\n      <td>8.0</td>\n      <td>38.6</td>\n      <td>4.0</td>\n      <td>Southampton</td>\n      <td>1.0</td>\n    </tr>\n    <tr>\n      <th>4</th>\n      <td>Alisson</td>\n      <td>3.0</td>\n      <td>3.0</td>\n      <td>0.0</td>\n      <td>0.0</td>\n      <td>2.1</td>\n      <td>2.0</td>\n      <td>26.0</td>\n      <td>5.0</td>\n      <td>34.6</td>\n      <td>0.0</td>\n      <td>Liverpool</td>\n      <td>1.0</td>\n    </tr>\n    <tr>\n      <th>...</th>\n      <td>...</td>\n      <td>...</td>\n      <td>...</td>\n      <td>...</td>\n      <td>...</td>\n      <td>...</td>\n      <td>...</td>\n      <td>...</td>\n      <td>...</td>\n      <td>...</td>\n      <td>...</td>\n      <td>...</td>\n      <td>...</td>\n    </tr>\n    <tr>\n      <th>760</th>\n      <td>Robert Sánchez</td>\n      <td>4.0</td>\n      <td>2.0</td>\n      <td>2.0</td>\n      <td>50.0</td>\n      <td>1.1</td>\n      <td>6.0</td>\n      <td>50.0</td>\n      <td>8.0</td>\n      <td>24.0</td>\n      <td>1.0</td>\n      <td>Brighton &amp; Hove Albion</td>\n      <td>38.0</td>\n    </tr>\n    <tr>\n      <th>761</th>\n      <td>Alisson</td>\n      <td>4.0</td>\n      <td>0.0</td>\n      <td>4.0</td>\n      <td>100.0</td>\n      <td>1.1</td>\n      <td>6.0</td>\n      <td>20.0</td>\n      <td>3.0</td>\n      <td>30.0</td>\n      <td>1.0</td>\n      <td>Liverpool</td>\n      <td>38.0</td>\n    </tr>\n    <tr>\n      <th>762</th>\n      <td>Vicente Guaita</td>\n      <td>5.0</td>\n      <td>2.0</td>\n      <td>3.0</td>\n      <td>60.0</td>\n      <td>2.2</td>\n      <td>9.0</td>\n      <td>27.0</td>\n      <td>5.0</td>\n      <td>70.4</td>\n      <td>1.0</td>\n      <td>Crystal Palace</td>\n      <td>38.0</td>\n    </tr>\n    <tr>\n      <th>763</th>\n      <td>Marek Rodák</td>\n      <td>3.0</td>\n      <td>2.0</td>\n      <td>2.0</td>\n      <td>66.7</td>\n      <td>1.5</td>\n      <td>1.0</td>\n      <td>17.0</td>\n      <td>4.0</td>\n      <td>11.8</td>\n      <td>0.0</td>\n      <td>Fulham</td>\n      <td>38.0</td>\n    </tr>\n    <tr>\n      <th>764</th>\n      <td>Martin Dúbravka</td>\n      <td>0.0</td>\n      <td>0.0</td>\n      <td>0.0</td>\n      <td>0.0</td>\n      <td>0.0</td>\n      <td>6.0</td>\n      <td>30.0</td>\n      <td>8.0</td>\n      <td>30.0</td>\n      <td>1.0</td>\n      <td>Newcastle United</td>\n      <td>38.0</td>\n    </tr>\n  </tbody>\n</table>\n<p>765 rows × 13 columns</p>\n</div>"
     },
     "execution_count": 61,
     "metadata": {},
     "output_type": "execute_result"
    }
   ],
   "source": [
    "PL2020_keepers = pd.read_csv('PL2020_keepers.csv')\n",
    "PL2020_players = pd.read_csv('PL2020_players.csv')\n",
    "PL2020_keepers"
   ],
   "metadata": {
    "collapsed": false,
    "pycharm": {
     "name": "#%%\n"
    }
   }
  },
  {
   "cell_type": "code",
   "execution_count": 62,
   "outputs": [
    {
     "data": {
      "text/plain": "player\nEmiliano Martínez         2359.637462\nIllan Meslier             2282.026687\nSam Johnstone             2224.987412\nAaron Ramsdale            2051.684290\nAlisson                   2047.550352\nKasper Schmeichel         2033.585096\nBernd Leno                1946.407351\nEderson                   1938.444109\nHugo Lloris               1937.540282\nJordan Pickford           1926.998993\nAlphonse Areola           1863.011078\nNick Pope                 1856.631420\nRobert Sánchez            1789.924471\nŁukasz Fabiański          1731.503021\nVicente Guaita            1723.645519\nAlex McCarthy             1694.894260\nEdouard Mendy             1676.729607\nRui Patrício              1435.120846\nKarl Darlow               1163.449144\nDavid de Gea              1044.229607\nMathew Ryan                718.255287\nMartin Dúbravka            693.084089\nDean Henderson             615.443102\nFraser Forster             421.427492\nKepa Arrizabalaga          391.540785\nRobin Olsen                342.303625\nKiko Casilla               176.825277\nAdrián                     137.842397\nCaoimhín Kelleher          124.541793\nDarren Randolph            124.436052\nBailey Peacock-Farrell     123.743706\nMarek Rodák                 67.978348\nJohn Ruddy                  64.984894\nDavid Button                57.346425\nWill Norris                 52.240685\nJoão Virgínia               49.181772\nRúnar Alex Rúnarsson        40.206445\nZack Steffen                38.192346\nJack Butland                31.190836\nScott Carson                17.839879\nWilly Caballero             17.170191\nName: Rating_gk, dtype: float64"
     },
     "execution_count": 62,
     "metadata": {},
     "output_type": "execute_result"
    }
   ],
   "source": [
    "#Goalkeeper Rating\n",
    "PL2020_keepers['Rating_gk'] = ((PL2020_keepers['psxg_gk'] - PL2020_keepers['goals_against_gk'])*10)+(PL2020_keepers['save_pct']/100*8) + (PL2020_keepers['goals_against_gk']*-8)  +(PL2020_keepers['saves']*6) + (PL2020_keepers['pct_passes_launched_gk']/100*4) + (PL2020_keepers['passes_gk']*2) + (PL2020_keepers['def_actions_outside_pen_area_gk']*2)\n",
    "\n",
    "\n",
    "OldMax = PL2020_keepers['Rating_gk'].max()\n",
    "OldMin = PL2020_keepers['Rating_gk'].min()\n",
    "NewMax = 100\n",
    "NewMin = 0\n",
    "\n",
    "\n",
    "OldRange = (OldMax - OldMin)\n",
    "NewRange = (NewMax - NewMin)\n",
    "PL2020_keepers['Rating_gk'] = (((PL2020_keepers['Rating_gk'] - OldMin) * NewRange) / OldRange) + NewMin\n",
    "gk21 = PL2020_keepers.groupby(['player']).sum()['Rating_gk']\n",
    "keeper_strength = gk21.sort_values(ascending=False)\n",
    "keeper_strength"
   ],
   "metadata": {
    "collapsed": false,
    "pycharm": {
     "name": "#%%\n"
    }
   }
  },
  {
   "cell_type": "code",
   "execution_count": 63,
   "outputs": [
    {
     "data": {
      "text/plain": "                        goals_against_gk  saves  psxg_gk    save_pct  \\\nplayer                                                                 \nAaron Ramsdale                      63.0  145.0     61.7   69.531579   \nAdrián                               9.0   10.0      8.0   65.466667   \nAlex McCarthy                       57.0   90.0     47.8   66.140000   \nAlisson                             32.0   82.0     38.0   74.096970   \nAlphonse Areola                     48.0  114.0     54.8   72.947222   \nBailey Peacock-Farrell              14.0   11.0      9.5   43.600000   \nBernd Leno                          37.0   84.0     37.0   68.160000   \nCaoimhín Kelleher                    1.0    6.0      2.2   87.500000   \nDarren Randolph                      3.0    6.0      3.6   69.433333   \nDavid Button                         2.0    5.0      1.7   71.400000   \nDavid de Gea                        32.0   58.0     30.0   60.392308   \nDean Henderson                      12.0   38.0     12.2   72.830769   \nEderson                             28.0   63.0     29.1   66.363889   \nEdouard Mendy                       25.0   55.0     23.9   61.145161   \nEmiliano Martínez                   46.0  135.0     52.5   70.781579   \nFraser Forster                      11.0   19.0      8.8   66.887500   \nHugo Lloris                         45.0  111.0     46.9   75.344737   \nIllan Meslier                       52.0  134.0     55.2   72.622857   \nJack Butland                         2.0    3.0      0.8   60.000000   \nJohn Ruddy                           1.0    3.0      1.1   37.500000   \nJordan Pickford                     39.0   90.0     38.7   68.090323   \nJoão Virgínia                        0.0    3.0      0.2  100.000000   \nKarl Darlow                         43.0   81.0     37.1   65.748000   \nKasper Schmeichel                   50.0   87.0     48.6   62.473684   \nKepa Arrizabalaga                    8.0   15.0      7.3   60.957143   \nKiko Casilla                         2.0   10.0      4.3   76.666667   \nMarek Rodák                          5.0    4.0      4.0   53.350000   \nMartin Dúbravka                     19.0   42.0     19.6   66.153846   \nMathew Ryan                         21.0   24.0     19.0   47.321429   \nNick Pope                           37.0  114.0     40.9   76.443750   \nRobert Sánchez                      27.0   63.0     30.8   69.092593   \nRobin Olsen                          9.0   18.0      9.4   72.714286   \nRui Patrício                        51.0   96.0     44.6   71.921622   \nRúnar Alex Rúnarsson                 0.0    2.0      0.1  100.000000   \nSam Johnstone                       74.0  161.0     75.4   71.962162   \nScott Carson                         3.0    1.0      2.4   33.300000   \nVicente Guaita                      64.0  105.0     62.0   63.545946   \nWill Norris                          4.0    2.0      1.1   33.350000   \nWilly Caballero                      3.0    0.0      1.5    0.000000   \nZack Steffen                         1.0    1.0      0.6   50.000000   \nŁukasz Fabiański                    44.0   96.0     44.8   68.362857   \n\n                        pct_passes_launched_gk  passes_gk  \\\nplayer                                                      \nAaron Ramsdale                       70.723684      860.0   \nAdrián                               35.433333       77.0   \nAlex McCarthy                        46.426667      898.0   \nAlisson                              22.796970      964.0   \nAlphonse Areola                      39.850000      752.0   \nBailey Peacock-Farrell               80.825000       84.0   \nBernd Leno                           22.002857      930.0   \nCaoimhín Kelleher                    31.400000       48.0   \nDarren Randolph                      66.666667       44.0   \nDavid Button                         68.000000       25.0   \nDavid de Gea                         34.400000      422.0   \nDean Henderson                       35.061538      220.0   \nEderson                              23.050000      932.0   \nEdouard Mendy                        23.603226      826.0   \nEmiliano Martínez                    51.957895     1041.0   \nFraser Forster                       47.862500      210.0   \nHugo Lloris                          46.365789      799.0   \nIllan Meslier                        28.242857     1082.0   \nJack Butland                         76.900000       13.0   \nJohn Ruddy                           61.100000       19.0   \nJordan Pickford                      54.574194      945.0   \nJoão Virgínia                        61.500000       13.0   \nKarl Darlow                          67.992000      506.0   \nKasper Schmeichel                    41.578947     1009.0   \nKepa Arrizabalaga                    32.800000      198.0   \nKiko Casilla                         20.833333       63.0   \nMarek Rodák                          26.350000       39.0   \nMartin Dúbravka                      39.484615      306.0   \nMathew Ryan                          29.721429      399.0   \nNick Pope                            74.500000      728.0   \nRobert Sánchez                       41.881481      918.0   \nRobin Olsen                          47.757143      148.0   \nRui Patrício                         52.075676      536.0   \nRúnar Alex Rúnarsson                 30.000000       10.0   \nSam Johnstone                        71.548649      987.0   \nScott Carson                          0.000000       14.0   \nVicente Guaita                       59.643243      766.0   \nWill Norris                          91.300000       37.0   \nWilly Caballero                      15.000000       20.0   \nZack Steffen                         25.000000       20.0   \nŁukasz Fabiański                     60.568571      731.0   \n\n                        def_actions_outside_pen_area_gk  diff  \nplayer                                                         \nAaron Ramsdale                                     22.0  -1.3  \nAdrián                                              1.0  -1.0  \nAlex McCarthy                                      20.0  -9.2  \nAlisson                                            44.0   6.0  \nAlphonse Areola                                    20.0   6.8  \nBailey Peacock-Farrell                              3.0  -4.5  \nBernd Leno                                         22.0   0.0  \nCaoimhín Kelleher                                   1.0   1.2  \nDarren Randolph                                     1.0   0.6  \nDavid Button                                        0.0  -0.3  \nDavid de Gea                                        9.0  -2.0  \nDean Henderson                                     14.0   0.2  \nEderson                                            23.0   1.1  \nEdouard Mendy                                      20.0  -1.1  \nEmiliano Martínez                                  21.0   6.5  \nFraser Forster                                      7.0  -2.2  \nHugo Lloris                                        16.0   1.9  \nIllan Meslier                                      20.0   3.2  \nJack Butland                                        2.0  -1.2  \nJohn Ruddy                                          0.0   0.1  \nJordan Pickford                                    19.0  -0.3  \nJoão Virgínia                                       0.0   0.2  \nKarl Darlow                                         6.0  -5.9  \nKasper Schmeichel                                  14.0  -1.4  \nKepa Arrizabalaga                                   6.0  -0.7  \nKiko Casilla                                        1.0   2.3  \nMarek Rodák                                         1.0  -1.0  \nMartin Dúbravka                                     6.0   0.6  \nMathew Ryan                                         7.0  -2.0  \nNick Pope                                          41.0   3.9  \nRobert Sánchez                                     14.0   3.8  \nRobin Olsen                                         1.0   0.4  \nRui Patrício                                        6.0  -6.4  \nRúnar Alex Rúnarsson                                0.0   0.1  \nSam Johnstone                                      26.0   1.4  \nScott Carson                                        0.0  -0.6  \nVicente Guaita                                     15.0  -2.0  \nWill Norris                                         1.0  -2.9  \nWilly Caballero                                     2.0  -1.5  \nZack Steffen                                        0.0  -0.4  \nŁukasz Fabiański                                   11.0   0.8  ",
      "text/html": "<div>\n<style scoped>\n    .dataframe tbody tr th:only-of-type {\n        vertical-align: middle;\n    }\n\n    .dataframe tbody tr th {\n        vertical-align: top;\n    }\n\n    .dataframe thead th {\n        text-align: right;\n    }\n</style>\n<table border=\"1\" class=\"dataframe\">\n  <thead>\n    <tr style=\"text-align: right;\">\n      <th></th>\n      <th>goals_against_gk</th>\n      <th>saves</th>\n      <th>psxg_gk</th>\n      <th>save_pct</th>\n      <th>pct_passes_launched_gk</th>\n      <th>passes_gk</th>\n      <th>def_actions_outside_pen_area_gk</th>\n      <th>diff</th>\n    </tr>\n    <tr>\n      <th>player</th>\n      <th></th>\n      <th></th>\n      <th></th>\n      <th></th>\n      <th></th>\n      <th></th>\n      <th></th>\n      <th></th>\n    </tr>\n  </thead>\n  <tbody>\n    <tr>\n      <th>Aaron Ramsdale</th>\n      <td>63.0</td>\n      <td>145.0</td>\n      <td>61.7</td>\n      <td>69.531579</td>\n      <td>70.723684</td>\n      <td>860.0</td>\n      <td>22.0</td>\n      <td>-1.3</td>\n    </tr>\n    <tr>\n      <th>Adrián</th>\n      <td>9.0</td>\n      <td>10.0</td>\n      <td>8.0</td>\n      <td>65.466667</td>\n      <td>35.433333</td>\n      <td>77.0</td>\n      <td>1.0</td>\n      <td>-1.0</td>\n    </tr>\n    <tr>\n      <th>Alex McCarthy</th>\n      <td>57.0</td>\n      <td>90.0</td>\n      <td>47.8</td>\n      <td>66.140000</td>\n      <td>46.426667</td>\n      <td>898.0</td>\n      <td>20.0</td>\n      <td>-9.2</td>\n    </tr>\n    <tr>\n      <th>Alisson</th>\n      <td>32.0</td>\n      <td>82.0</td>\n      <td>38.0</td>\n      <td>74.096970</td>\n      <td>22.796970</td>\n      <td>964.0</td>\n      <td>44.0</td>\n      <td>6.0</td>\n    </tr>\n    <tr>\n      <th>Alphonse Areola</th>\n      <td>48.0</td>\n      <td>114.0</td>\n      <td>54.8</td>\n      <td>72.947222</td>\n      <td>39.850000</td>\n      <td>752.0</td>\n      <td>20.0</td>\n      <td>6.8</td>\n    </tr>\n    <tr>\n      <th>Bailey Peacock-Farrell</th>\n      <td>14.0</td>\n      <td>11.0</td>\n      <td>9.5</td>\n      <td>43.600000</td>\n      <td>80.825000</td>\n      <td>84.0</td>\n      <td>3.0</td>\n      <td>-4.5</td>\n    </tr>\n    <tr>\n      <th>Bernd Leno</th>\n      <td>37.0</td>\n      <td>84.0</td>\n      <td>37.0</td>\n      <td>68.160000</td>\n      <td>22.002857</td>\n      <td>930.0</td>\n      <td>22.0</td>\n      <td>0.0</td>\n    </tr>\n    <tr>\n      <th>Caoimhín Kelleher</th>\n      <td>1.0</td>\n      <td>6.0</td>\n      <td>2.2</td>\n      <td>87.500000</td>\n      <td>31.400000</td>\n      <td>48.0</td>\n      <td>1.0</td>\n      <td>1.2</td>\n    </tr>\n    <tr>\n      <th>Darren Randolph</th>\n      <td>3.0</td>\n      <td>6.0</td>\n      <td>3.6</td>\n      <td>69.433333</td>\n      <td>66.666667</td>\n      <td>44.0</td>\n      <td>1.0</td>\n      <td>0.6</td>\n    </tr>\n    <tr>\n      <th>David Button</th>\n      <td>2.0</td>\n      <td>5.0</td>\n      <td>1.7</td>\n      <td>71.400000</td>\n      <td>68.000000</td>\n      <td>25.0</td>\n      <td>0.0</td>\n      <td>-0.3</td>\n    </tr>\n    <tr>\n      <th>David de Gea</th>\n      <td>32.0</td>\n      <td>58.0</td>\n      <td>30.0</td>\n      <td>60.392308</td>\n      <td>34.400000</td>\n      <td>422.0</td>\n      <td>9.0</td>\n      <td>-2.0</td>\n    </tr>\n    <tr>\n      <th>Dean Henderson</th>\n      <td>12.0</td>\n      <td>38.0</td>\n      <td>12.2</td>\n      <td>72.830769</td>\n      <td>35.061538</td>\n      <td>220.0</td>\n      <td>14.0</td>\n      <td>0.2</td>\n    </tr>\n    <tr>\n      <th>Ederson</th>\n      <td>28.0</td>\n      <td>63.0</td>\n      <td>29.1</td>\n      <td>66.363889</td>\n      <td>23.050000</td>\n      <td>932.0</td>\n      <td>23.0</td>\n      <td>1.1</td>\n    </tr>\n    <tr>\n      <th>Edouard Mendy</th>\n      <td>25.0</td>\n      <td>55.0</td>\n      <td>23.9</td>\n      <td>61.145161</td>\n      <td>23.603226</td>\n      <td>826.0</td>\n      <td>20.0</td>\n      <td>-1.1</td>\n    </tr>\n    <tr>\n      <th>Emiliano Martínez</th>\n      <td>46.0</td>\n      <td>135.0</td>\n      <td>52.5</td>\n      <td>70.781579</td>\n      <td>51.957895</td>\n      <td>1041.0</td>\n      <td>21.0</td>\n      <td>6.5</td>\n    </tr>\n    <tr>\n      <th>Fraser Forster</th>\n      <td>11.0</td>\n      <td>19.0</td>\n      <td>8.8</td>\n      <td>66.887500</td>\n      <td>47.862500</td>\n      <td>210.0</td>\n      <td>7.0</td>\n      <td>-2.2</td>\n    </tr>\n    <tr>\n      <th>Hugo Lloris</th>\n      <td>45.0</td>\n      <td>111.0</td>\n      <td>46.9</td>\n      <td>75.344737</td>\n      <td>46.365789</td>\n      <td>799.0</td>\n      <td>16.0</td>\n      <td>1.9</td>\n    </tr>\n    <tr>\n      <th>Illan Meslier</th>\n      <td>52.0</td>\n      <td>134.0</td>\n      <td>55.2</td>\n      <td>72.622857</td>\n      <td>28.242857</td>\n      <td>1082.0</td>\n      <td>20.0</td>\n      <td>3.2</td>\n    </tr>\n    <tr>\n      <th>Jack Butland</th>\n      <td>2.0</td>\n      <td>3.0</td>\n      <td>0.8</td>\n      <td>60.000000</td>\n      <td>76.900000</td>\n      <td>13.0</td>\n      <td>2.0</td>\n      <td>-1.2</td>\n    </tr>\n    <tr>\n      <th>John Ruddy</th>\n      <td>1.0</td>\n      <td>3.0</td>\n      <td>1.1</td>\n      <td>37.500000</td>\n      <td>61.100000</td>\n      <td>19.0</td>\n      <td>0.0</td>\n      <td>0.1</td>\n    </tr>\n    <tr>\n      <th>Jordan Pickford</th>\n      <td>39.0</td>\n      <td>90.0</td>\n      <td>38.7</td>\n      <td>68.090323</td>\n      <td>54.574194</td>\n      <td>945.0</td>\n      <td>19.0</td>\n      <td>-0.3</td>\n    </tr>\n    <tr>\n      <th>João Virgínia</th>\n      <td>0.0</td>\n      <td>3.0</td>\n      <td>0.2</td>\n      <td>100.000000</td>\n      <td>61.500000</td>\n      <td>13.0</td>\n      <td>0.0</td>\n      <td>0.2</td>\n    </tr>\n    <tr>\n      <th>Karl Darlow</th>\n      <td>43.0</td>\n      <td>81.0</td>\n      <td>37.1</td>\n      <td>65.748000</td>\n      <td>67.992000</td>\n      <td>506.0</td>\n      <td>6.0</td>\n      <td>-5.9</td>\n    </tr>\n    <tr>\n      <th>Kasper Schmeichel</th>\n      <td>50.0</td>\n      <td>87.0</td>\n      <td>48.6</td>\n      <td>62.473684</td>\n      <td>41.578947</td>\n      <td>1009.0</td>\n      <td>14.0</td>\n      <td>-1.4</td>\n    </tr>\n    <tr>\n      <th>Kepa Arrizabalaga</th>\n      <td>8.0</td>\n      <td>15.0</td>\n      <td>7.3</td>\n      <td>60.957143</td>\n      <td>32.800000</td>\n      <td>198.0</td>\n      <td>6.0</td>\n      <td>-0.7</td>\n    </tr>\n    <tr>\n      <th>Kiko Casilla</th>\n      <td>2.0</td>\n      <td>10.0</td>\n      <td>4.3</td>\n      <td>76.666667</td>\n      <td>20.833333</td>\n      <td>63.0</td>\n      <td>1.0</td>\n      <td>2.3</td>\n    </tr>\n    <tr>\n      <th>Marek Rodák</th>\n      <td>5.0</td>\n      <td>4.0</td>\n      <td>4.0</td>\n      <td>53.350000</td>\n      <td>26.350000</td>\n      <td>39.0</td>\n      <td>1.0</td>\n      <td>-1.0</td>\n    </tr>\n    <tr>\n      <th>Martin Dúbravka</th>\n      <td>19.0</td>\n      <td>42.0</td>\n      <td>19.6</td>\n      <td>66.153846</td>\n      <td>39.484615</td>\n      <td>306.0</td>\n      <td>6.0</td>\n      <td>0.6</td>\n    </tr>\n    <tr>\n      <th>Mathew Ryan</th>\n      <td>21.0</td>\n      <td>24.0</td>\n      <td>19.0</td>\n      <td>47.321429</td>\n      <td>29.721429</td>\n      <td>399.0</td>\n      <td>7.0</td>\n      <td>-2.0</td>\n    </tr>\n    <tr>\n      <th>Nick Pope</th>\n      <td>37.0</td>\n      <td>114.0</td>\n      <td>40.9</td>\n      <td>76.443750</td>\n      <td>74.500000</td>\n      <td>728.0</td>\n      <td>41.0</td>\n      <td>3.9</td>\n    </tr>\n    <tr>\n      <th>Robert Sánchez</th>\n      <td>27.0</td>\n      <td>63.0</td>\n      <td>30.8</td>\n      <td>69.092593</td>\n      <td>41.881481</td>\n      <td>918.0</td>\n      <td>14.0</td>\n      <td>3.8</td>\n    </tr>\n    <tr>\n      <th>Robin Olsen</th>\n      <td>9.0</td>\n      <td>18.0</td>\n      <td>9.4</td>\n      <td>72.714286</td>\n      <td>47.757143</td>\n      <td>148.0</td>\n      <td>1.0</td>\n      <td>0.4</td>\n    </tr>\n    <tr>\n      <th>Rui Patrício</th>\n      <td>51.0</td>\n      <td>96.0</td>\n      <td>44.6</td>\n      <td>71.921622</td>\n      <td>52.075676</td>\n      <td>536.0</td>\n      <td>6.0</td>\n      <td>-6.4</td>\n    </tr>\n    <tr>\n      <th>Rúnar Alex Rúnarsson</th>\n      <td>0.0</td>\n      <td>2.0</td>\n      <td>0.1</td>\n      <td>100.000000</td>\n      <td>30.000000</td>\n      <td>10.0</td>\n      <td>0.0</td>\n      <td>0.1</td>\n    </tr>\n    <tr>\n      <th>Sam Johnstone</th>\n      <td>74.0</td>\n      <td>161.0</td>\n      <td>75.4</td>\n      <td>71.962162</td>\n      <td>71.548649</td>\n      <td>987.0</td>\n      <td>26.0</td>\n      <td>1.4</td>\n    </tr>\n    <tr>\n      <th>Scott Carson</th>\n      <td>3.0</td>\n      <td>1.0</td>\n      <td>2.4</td>\n      <td>33.300000</td>\n      <td>0.000000</td>\n      <td>14.0</td>\n      <td>0.0</td>\n      <td>-0.6</td>\n    </tr>\n    <tr>\n      <th>Vicente Guaita</th>\n      <td>64.0</td>\n      <td>105.0</td>\n      <td>62.0</td>\n      <td>63.545946</td>\n      <td>59.643243</td>\n      <td>766.0</td>\n      <td>15.0</td>\n      <td>-2.0</td>\n    </tr>\n    <tr>\n      <th>Will Norris</th>\n      <td>4.0</td>\n      <td>2.0</td>\n      <td>1.1</td>\n      <td>33.350000</td>\n      <td>91.300000</td>\n      <td>37.0</td>\n      <td>1.0</td>\n      <td>-2.9</td>\n    </tr>\n    <tr>\n      <th>Willy Caballero</th>\n      <td>3.0</td>\n      <td>0.0</td>\n      <td>1.5</td>\n      <td>0.000000</td>\n      <td>15.000000</td>\n      <td>20.0</td>\n      <td>2.0</td>\n      <td>-1.5</td>\n    </tr>\n    <tr>\n      <th>Zack Steffen</th>\n      <td>1.0</td>\n      <td>1.0</td>\n      <td>0.6</td>\n      <td>50.000000</td>\n      <td>25.000000</td>\n      <td>20.0</td>\n      <td>0.0</td>\n      <td>-0.4</td>\n    </tr>\n    <tr>\n      <th>Łukasz Fabiański</th>\n      <td>44.0</td>\n      <td>96.0</td>\n      <td>44.8</td>\n      <td>68.362857</td>\n      <td>60.568571</td>\n      <td>731.0</td>\n      <td>11.0</td>\n      <td>0.8</td>\n    </tr>\n  </tbody>\n</table>\n</div>"
     },
     "execution_count": 63,
     "metadata": {},
     "output_type": "execute_result"
    }
   ],
   "source": [
    "gk_ga = PL2020_keepers.groupby(['player']).sum()['goals_against_gk']\n",
    "gk_saves = PL2020_keepers.groupby(['player']).sum()['saves']\n",
    "psxg_gk = PL2020_keepers.groupby(['player']).sum()['psxg_gk']\n",
    "save_pct = PL2020_keepers.groupby(['player']).mean()['save_pct']\n",
    "pct_passes_launched_gk = PL2020_keepers.groupby(['player']).mean()['pct_passes_launched_gk']\n",
    "passes_gk = PL2020_keepers.groupby(['player']).sum()['passes_gk']\n",
    "def_actions_outside_pen_area_gk = PL2020_keepers.groupby(['player']).sum()['def_actions_outside_pen_area_gk']\n",
    "gk_total = pd.merge(gk_ga, gk_saves , on='player', how='left')\n",
    "gk_total = pd.merge(gk_total,psxg_gk , on='player', how='left')\n",
    "gk_total = pd.merge(gk_total,save_pct , on='player', how='left')\n",
    "gk_total = pd.merge(gk_total,pct_passes_launched_gk , on='player', how='left')\n",
    "gk_total = pd.merge(gk_total,passes_gk , on='player', how='left')\n",
    "gk_total = pd.merge(gk_total,def_actions_outside_pen_area_gk , on='player', how='left')\n",
    "gk_total ['diff'] = gk_total['psxg_gk'] - gk_total['goals_against_gk']\n",
    "gk_total\n"
   ],
   "metadata": {
    "collapsed": false,
    "pycharm": {
     "name": "#%%\n"
    }
   }
  },
  {
   "cell_type": "code",
   "execution_count": 57,
   "outputs": [],
   "source": [
    "gk_total.to_excel('gk_total.xlsx')"
   ],
   "metadata": {
    "collapsed": false,
    "pycharm": {
     "name": "#%%\n"
    }
   }
  },
  {
   "cell_type": "code",
   "execution_count": 64,
   "outputs": [],
   "source": [
    "Defenders = PL2020_players.drop(PL2020_players[PL2020_players.category != 'Defender'].index)\n",
    "Midfielders = PL2020_players.drop(PL2020_players[PL2020_players.category != 'Midfield'].index)\n",
    "Forwards = PL2020_players.drop(PL2020_players[PL2020_players.category != 'Forward'].index)"
   ],
   "metadata": {
    "collapsed": false,
    "pycharm": {
     "name": "#%%\n"
    }
   }
  },
  {
   "cell_type": "code",
   "execution_count": 65,
   "outputs": [
    {
     "data": {
      "text/plain": "player\nAndrew Robertson          2181.838758\nLuke Ayling               2092.223364\nTrent Alexander-Arnold    2047.043051\nRúben Dias                1711.250200\nAaron Wan-Bissaka         1685.532945\n                             ...     \nAllan Tchaptchet             1.141944\nDan Nlundulu                 0.685166\nDwight Gayle                 0.685166\nWilliam Thomas Fish          0.456777\nFemi Seriki                  0.000000\nName: Rating_df, Length: 266, dtype: float64"
     },
     "execution_count": 65,
     "metadata": {},
     "output_type": "execute_result"
    }
   ],
   "source": [
    "#Defender Rating\n",
    "Defenders['Rating_df'] = (Defenders['tackles']*12)+(Defenders['progressive_carries']*5) + (Defenders['progressive_passes']*3) + (Defenders['assists']*3)+ (Defenders['passes']*2) + (Defenders['interceptions']) + (Defenders['blocks'])  +(Defenders['pressures'])  + (Defenders['goals'])   + (Defenders['passes_pct']/100)\n",
    "#Defenders['Rating_df'] = (Defenders['progressive_passes'])\n",
    "\n",
    "OldMax = Defenders['Rating_df'].max()\n",
    "OldMin = Defenders['Rating_df'].min()\n",
    "NewMax = 100\n",
    "NewMin = 0\n",
    "\n",
    "\n",
    "OldRange = (OldMax - OldMin)\n",
    "NewRange = (NewMax - NewMin)\n",
    "Defenders['Rating_df'] = (((Defenders['Rating_df'] - OldMin) * NewRange) / OldRange) + NewMin\n",
    "df21 = Defenders.groupby(['player']).sum()['Rating_df']\n",
    "df21_t = Defenders.groupby(['Team']).sum()['Rating_df']\n",
    "defender_strength = df21.sort_values(ascending=False)\n",
    "defender_strength_t = df21_t.sort_values(ascending=False)\n",
    "defender_strength"
   ],
   "metadata": {
    "collapsed": false,
    "pycharm": {
     "name": "#%%\n"
    }
   }
  },
  {
   "cell_type": "code",
   "execution_count": 67,
   "outputs": [
    {
     "data": {
      "text/plain": "                   tackles  progressive_carries  progressive_passes  assists  \\\nplayer                                                                         \nAaron Connolly         0.0                  1.0                 0.0      0.0   \nAaron Cresswell       31.0                 97.0               120.0      8.0   \nAaron Wan-Bissaka     97.0                211.0               125.0      4.0   \nAboubakar Kamara       1.0                  8.0                 7.0      0.0   \nAdam Lallana           0.0                  6.0                 4.0      0.0   \n...                    ...                  ...                 ...      ...   \nWilly Boly            41.0                 35.0                40.0      1.0   \nXherdan Shaqiri        0.0                  0.0                 1.0      0.0   \nYan Valery             3.0                  7.0                 2.0      0.0   \nYerry Mina            25.0                 73.0                45.0      0.0   \nÇağlar Söyüncü        31.0                 96.0                72.0      0.0   \n\n                   passes  interceptions  blocks  pressures  goals  passes_pct  \nplayer                                                                          \nAaron Connolly        3.0            0.0     0.0        2.0    0.0   66.700000  \nAaron Cresswell    2061.0           36.0    48.0      230.0    0.0   74.008333  \nAaron Wan-Bissaka  2065.0           66.0   113.0      434.0    2.0   85.605882  \nAboubakar Kamara     47.0            1.0     4.0       18.0    0.0   74.300000  \nAdam Lallana         56.0            1.0     3.0        8.0    0.0   85.200000  \n...                   ...            ...     ...        ...    ...         ...  \nWilly Boly         1003.0           23.0    27.0      160.0    1.0   81.238095  \nXherdan Shaqiri       4.0            0.0     0.0        2.0    0.0  100.000000  \nYan Valery           55.0            3.0     4.0       28.0    0.0   83.600000  \nYerry Mina         1227.0           13.0    38.0      148.0    2.0   84.104167  \nÇağlar Söyüncü     1351.0           27.0    22.0      166.0    1.0   84.969565  \n\n[266 rows x 10 columns]",
      "text/html": "<div>\n<style scoped>\n    .dataframe tbody tr th:only-of-type {\n        vertical-align: middle;\n    }\n\n    .dataframe tbody tr th {\n        vertical-align: top;\n    }\n\n    .dataframe thead th {\n        text-align: right;\n    }\n</style>\n<table border=\"1\" class=\"dataframe\">\n  <thead>\n    <tr style=\"text-align: right;\">\n      <th></th>\n      <th>tackles</th>\n      <th>progressive_carries</th>\n      <th>progressive_passes</th>\n      <th>assists</th>\n      <th>passes</th>\n      <th>interceptions</th>\n      <th>blocks</th>\n      <th>pressures</th>\n      <th>goals</th>\n      <th>passes_pct</th>\n    </tr>\n    <tr>\n      <th>player</th>\n      <th></th>\n      <th></th>\n      <th></th>\n      <th></th>\n      <th></th>\n      <th></th>\n      <th></th>\n      <th></th>\n      <th></th>\n      <th></th>\n    </tr>\n  </thead>\n  <tbody>\n    <tr>\n      <th>Aaron Connolly</th>\n      <td>0.0</td>\n      <td>1.0</td>\n      <td>0.0</td>\n      <td>0.0</td>\n      <td>3.0</td>\n      <td>0.0</td>\n      <td>0.0</td>\n      <td>2.0</td>\n      <td>0.0</td>\n      <td>66.700000</td>\n    </tr>\n    <tr>\n      <th>Aaron Cresswell</th>\n      <td>31.0</td>\n      <td>97.0</td>\n      <td>120.0</td>\n      <td>8.0</td>\n      <td>2061.0</td>\n      <td>36.0</td>\n      <td>48.0</td>\n      <td>230.0</td>\n      <td>0.0</td>\n      <td>74.008333</td>\n    </tr>\n    <tr>\n      <th>Aaron Wan-Bissaka</th>\n      <td>97.0</td>\n      <td>211.0</td>\n      <td>125.0</td>\n      <td>4.0</td>\n      <td>2065.0</td>\n      <td>66.0</td>\n      <td>113.0</td>\n      <td>434.0</td>\n      <td>2.0</td>\n      <td>85.605882</td>\n    </tr>\n    <tr>\n      <th>Aboubakar Kamara</th>\n      <td>1.0</td>\n      <td>8.0</td>\n      <td>7.0</td>\n      <td>0.0</td>\n      <td>47.0</td>\n      <td>1.0</td>\n      <td>4.0</td>\n      <td>18.0</td>\n      <td>0.0</td>\n      <td>74.300000</td>\n    </tr>\n    <tr>\n      <th>Adam Lallana</th>\n      <td>0.0</td>\n      <td>6.0</td>\n      <td>4.0</td>\n      <td>0.0</td>\n      <td>56.0</td>\n      <td>1.0</td>\n      <td>3.0</td>\n      <td>8.0</td>\n      <td>0.0</td>\n      <td>85.200000</td>\n    </tr>\n    <tr>\n      <th>...</th>\n      <td>...</td>\n      <td>...</td>\n      <td>...</td>\n      <td>...</td>\n      <td>...</td>\n      <td>...</td>\n      <td>...</td>\n      <td>...</td>\n      <td>...</td>\n      <td>...</td>\n    </tr>\n    <tr>\n      <th>Willy Boly</th>\n      <td>41.0</td>\n      <td>35.0</td>\n      <td>40.0</td>\n      <td>1.0</td>\n      <td>1003.0</td>\n      <td>23.0</td>\n      <td>27.0</td>\n      <td>160.0</td>\n      <td>1.0</td>\n      <td>81.238095</td>\n    </tr>\n    <tr>\n      <th>Xherdan Shaqiri</th>\n      <td>0.0</td>\n      <td>0.0</td>\n      <td>1.0</td>\n      <td>0.0</td>\n      <td>4.0</td>\n      <td>0.0</td>\n      <td>0.0</td>\n      <td>2.0</td>\n      <td>0.0</td>\n      <td>100.000000</td>\n    </tr>\n    <tr>\n      <th>Yan Valery</th>\n      <td>3.0</td>\n      <td>7.0</td>\n      <td>2.0</td>\n      <td>0.0</td>\n      <td>55.0</td>\n      <td>3.0</td>\n      <td>4.0</td>\n      <td>28.0</td>\n      <td>0.0</td>\n      <td>83.600000</td>\n    </tr>\n    <tr>\n      <th>Yerry Mina</th>\n      <td>25.0</td>\n      <td>73.0</td>\n      <td>45.0</td>\n      <td>0.0</td>\n      <td>1227.0</td>\n      <td>13.0</td>\n      <td>38.0</td>\n      <td>148.0</td>\n      <td>2.0</td>\n      <td>84.104167</td>\n    </tr>\n    <tr>\n      <th>Çağlar Söyüncü</th>\n      <td>31.0</td>\n      <td>96.0</td>\n      <td>72.0</td>\n      <td>0.0</td>\n      <td>1351.0</td>\n      <td>27.0</td>\n      <td>22.0</td>\n      <td>166.0</td>\n      <td>1.0</td>\n      <td>84.969565</td>\n    </tr>\n  </tbody>\n</table>\n<p>266 rows × 10 columns</p>\n</div>"
     },
     "execution_count": 67,
     "metadata": {},
     "output_type": "execute_result"
    }
   ],
   "source": [
    "def_tackl = Defenders.groupby(['player']).sum()['tackles']\n",
    "def_prog_car = Defenders.groupby(['player']).sum()['progressive_carries']\n",
    "def_prog_pas = Defenders.groupby(['player']).sum()['progressive_passes']\n",
    "def_ast = Defenders.groupby(['player']).sum()['assists']\n",
    "def_pas = Defenders.groupby(['player']).sum()['passes']\n",
    "def_int = Defenders.groupby(['player']).sum()['interceptions']\n",
    "def_blk = Defenders.groupby(['player']).sum()['blocks']\n",
    "def_pres = Defenders.groupby(['player']).sum()['pressures']\n",
    "def_gol = Defenders.groupby(['player']).sum()['goals']\n",
    "def_pas_pct = Defenders.groupby(['player']).mean()['passes_pct']\n",
    "def_total = pd.merge(def_tackl, def_prog_car , on='player', how='left')\n",
    "def_total = pd.merge(def_total,def_prog_pas , on='player', how='left')\n",
    "def_total = pd.merge(def_total,def_ast , on='player', how='left')\n",
    "def_total = pd.merge(def_total,def_pas , on='player', how='left')\n",
    "def_total = pd.merge(def_total,def_int , on='player', how='left')\n",
    "def_total = pd.merge(def_total,def_blk , on='player', how='left')\n",
    "def_total = pd.merge(def_total,def_pres , on='player', how='left')\n",
    "def_total = pd.merge(def_total,def_gol , on='player', how='left')\n",
    "def_total = pd.merge(def_total,def_pas_pct , on='player', how='left')\n",
    "\n",
    "def_total\n"
   ],
   "metadata": {
    "collapsed": false,
    "pycharm": {
     "name": "#%%\n"
    }
   }
  },
  {
   "cell_type": "code",
   "execution_count": 68,
   "outputs": [],
   "source": [
    "def_total.to_excel('def_total.xlsx')"
   ],
   "metadata": {
    "collapsed": false,
    "pycharm": {
     "name": "#%%\n"
    }
   }
  },
  {
   "cell_type": "code",
   "execution_count": 15,
   "outputs": [
    {
     "data": {
      "text/plain": "player\nBruno Fernandes    1657.815443\nPierre Højbjerg    1326.177024\nYouri Tielemans    1238.606403\nJohn McGinn        1202.636535\nKevin De Bruyne    1199.246704\n                      ...     \nJoel Mumbongo         0.000000\nFelipe Anderson       0.000000\nKenny Tete            0.000000\nLee Peltier           0.000000\nFernando Marçal       0.000000\nName: Rating_mf, Length: 295, dtype: float64"
     },
     "execution_count": 15,
     "metadata": {},
     "output_type": "execute_result"
    }
   ],
   "source": [
    "#Midfield Rating\n",
    "Midfielders['Rating_mf'] = (Midfielders['assists']*8)+(Midfielders['goals']*8) + (Midfielders['progressive_passes']*10) + (Midfielders['progressive_carries']*10) + (Midfielders['gca']*7)  +(Midfielders['pressures']*4)  + (Midfielders['sca']*5)   + (Midfielders['dribbles_completed']*2)\n",
    "#Midfielders['Rating_mf'] = (Midfielders['passes_pct'])\n",
    "\n",
    "OldMax = Midfielders['Rating_mf'].max()\n",
    "OldMin = Midfielders['Rating_mf'].min()\n",
    "NewMax = 100\n",
    "NewMin = 0\n",
    "\n",
    "\n",
    "OldRange = (OldMax - OldMin)\n",
    "NewRange = (NewMax - NewMin)\n",
    "Midfielders['Rating_mf'] = (((Midfielders['Rating_mf'] - OldMin) * NewRange) / OldRange) + NewMin\n",
    "mf21 = Midfielders.groupby(['player']).sum()['Rating_mf']\n",
    "mf21_t = Midfielders.groupby(['Team']).sum()['Rating_mf']\n",
    "midfield_strength = mf21.sort_values(ascending=False)\n",
    "midfield_strength_t = mf21_t.sort_values(ascending=False)\n",
    "midfield_strength"
   ],
   "metadata": {
    "collapsed": false,
    "pycharm": {
     "name": "#%%\n"
    }
   }
  },
  {
   "cell_type": "code",
   "execution_count": 74,
   "outputs": [
    {
     "data": {
      "text/plain": "                    assists  goals  progressive_passes  progressive_carries  \\\nplayer                                                                        \nAbdoulaye Doucouré      3.0    2.0                65.0                 81.0   \nAboubakar Kamara        0.0    0.0                 0.0                  1.0   \nAdam Lallana            1.0    0.0                60.0                 57.0   \nAdama Traoré            0.0    0.0                 0.0                  0.0   \nAdemola Lookman         1.0    0.0                27.0                 57.0   \n...                     ...    ...                 ...                  ...   \nYan Valery              0.0    0.0                 0.0                  1.0   \nYouri Tielemans         4.0    6.0               206.0                168.0   \nYves Bissouma           0.0    1.0               114.0                157.0   \nÉrik Lamela             0.0    1.0                10.0                 28.0   \nİlkay Gündoğan          2.0   13.0               118.0                175.0   \n\n                     gca    sca  dribbles_completed  pressures  \nplayer                                                          \nAbdoulaye Doucouré   5.0   41.0                17.0      544.0  \nAboubakar Kamara     0.0    1.0                 0.0       11.0  \nAdam Lallana         3.0   37.0                13.0      240.0  \nAdama Traoré         0.0    0.0                 0.0        7.0  \nAdemola Lookman      3.0   25.0                20.0      113.0  \n...                  ...    ...                 ...        ...  \nYan Valery           0.0    0.0                 0.0        4.0  \nYouri Tielemans     16.0  109.0                40.0      505.0  \nYves Bissouma        2.0   52.0                50.0      540.0  \nÉrik Lamela          0.0    8.0                 7.0       71.0  \nİlkay Gündoğan      10.0   82.0                29.0      214.0  \n\n[295 rows x 8 columns]",
      "text/html": "<div>\n<style scoped>\n    .dataframe tbody tr th:only-of-type {\n        vertical-align: middle;\n    }\n\n    .dataframe tbody tr th {\n        vertical-align: top;\n    }\n\n    .dataframe thead th {\n        text-align: right;\n    }\n</style>\n<table border=\"1\" class=\"dataframe\">\n  <thead>\n    <tr style=\"text-align: right;\">\n      <th></th>\n      <th>assists</th>\n      <th>goals</th>\n      <th>progressive_passes</th>\n      <th>progressive_carries</th>\n      <th>gca</th>\n      <th>sca</th>\n      <th>dribbles_completed</th>\n      <th>pressures</th>\n    </tr>\n    <tr>\n      <th>player</th>\n      <th></th>\n      <th></th>\n      <th></th>\n      <th></th>\n      <th></th>\n      <th></th>\n      <th></th>\n      <th></th>\n    </tr>\n  </thead>\n  <tbody>\n    <tr>\n      <th>Abdoulaye Doucouré</th>\n      <td>3.0</td>\n      <td>2.0</td>\n      <td>65.0</td>\n      <td>81.0</td>\n      <td>5.0</td>\n      <td>41.0</td>\n      <td>17.0</td>\n      <td>544.0</td>\n    </tr>\n    <tr>\n      <th>Aboubakar Kamara</th>\n      <td>0.0</td>\n      <td>0.0</td>\n      <td>0.0</td>\n      <td>1.0</td>\n      <td>0.0</td>\n      <td>1.0</td>\n      <td>0.0</td>\n      <td>11.0</td>\n    </tr>\n    <tr>\n      <th>Adam Lallana</th>\n      <td>1.0</td>\n      <td>0.0</td>\n      <td>60.0</td>\n      <td>57.0</td>\n      <td>3.0</td>\n      <td>37.0</td>\n      <td>13.0</td>\n      <td>240.0</td>\n    </tr>\n    <tr>\n      <th>Adama Traoré</th>\n      <td>0.0</td>\n      <td>0.0</td>\n      <td>0.0</td>\n      <td>0.0</td>\n      <td>0.0</td>\n      <td>0.0</td>\n      <td>0.0</td>\n      <td>7.0</td>\n    </tr>\n    <tr>\n      <th>Ademola Lookman</th>\n      <td>1.0</td>\n      <td>0.0</td>\n      <td>27.0</td>\n      <td>57.0</td>\n      <td>3.0</td>\n      <td>25.0</td>\n      <td>20.0</td>\n      <td>113.0</td>\n    </tr>\n    <tr>\n      <th>...</th>\n      <td>...</td>\n      <td>...</td>\n      <td>...</td>\n      <td>...</td>\n      <td>...</td>\n      <td>...</td>\n      <td>...</td>\n      <td>...</td>\n    </tr>\n    <tr>\n      <th>Yan Valery</th>\n      <td>0.0</td>\n      <td>0.0</td>\n      <td>0.0</td>\n      <td>1.0</td>\n      <td>0.0</td>\n      <td>0.0</td>\n      <td>0.0</td>\n      <td>4.0</td>\n    </tr>\n    <tr>\n      <th>Youri Tielemans</th>\n      <td>4.0</td>\n      <td>6.0</td>\n      <td>206.0</td>\n      <td>168.0</td>\n      <td>16.0</td>\n      <td>109.0</td>\n      <td>40.0</td>\n      <td>505.0</td>\n    </tr>\n    <tr>\n      <th>Yves Bissouma</th>\n      <td>0.0</td>\n      <td>1.0</td>\n      <td>114.0</td>\n      <td>157.0</td>\n      <td>2.0</td>\n      <td>52.0</td>\n      <td>50.0</td>\n      <td>540.0</td>\n    </tr>\n    <tr>\n      <th>Érik Lamela</th>\n      <td>0.0</td>\n      <td>1.0</td>\n      <td>10.0</td>\n      <td>28.0</td>\n      <td>0.0</td>\n      <td>8.0</td>\n      <td>7.0</td>\n      <td>71.0</td>\n    </tr>\n    <tr>\n      <th>İlkay Gündoğan</th>\n      <td>2.0</td>\n      <td>13.0</td>\n      <td>118.0</td>\n      <td>175.0</td>\n      <td>10.0</td>\n      <td>82.0</td>\n      <td>29.0</td>\n      <td>214.0</td>\n    </tr>\n  </tbody>\n</table>\n<p>295 rows × 8 columns</p>\n</div>"
     },
     "execution_count": 74,
     "metadata": {},
     "output_type": "execute_result"
    }
   ],
   "source": [
    "mid_as = Midfielders.groupby(['player']).sum()['assists']\n",
    "mid_gol = Midfielders.groupby(['player']).sum()['goals']\n",
    "mid_prog_pas = Midfielders.groupby(['player']).sum()['progressive_passes']\n",
    "mid_prog_car = Midfielders.groupby(['player']).sum()['progressive_carries']\n",
    "mid_gca = Midfielders.groupby(['player']).sum()['gca']\n",
    "mid_sca = Midfielders.groupby(['player']).sum()['sca']\n",
    "mid_drb = Midfielders.groupby(['player']).sum()['dribbles_completed']\n",
    "mid_pres = Midfielders.groupby(['player']).sum()['pressures']\n",
    "mid_total = pd.merge(mid_as, mid_gol , on='player', how='left')\n",
    "mid_total = pd.merge(mid_total,mid_prog_pas , on='player', how='left')\n",
    "mid_total = pd.merge(mid_total,mid_prog_car , on='player', how='left')\n",
    "mid_total = pd.merge(mid_total,mid_gca , on='player', how='left')\n",
    "mid_total = pd.merge(mid_total,mid_sca , on='player', how='left')\n",
    "mid_total = pd.merge(mid_total,mid_drb , on='player', how='left')\n",
    "mid_total = pd.merge(mid_total,mid_pres , on='player', how='left')\n",
    "\n",
    "mid_total"
   ],
   "metadata": {
    "collapsed": false,
    "pycharm": {
     "name": "#%%\n"
    }
   }
  },
  {
   "cell_type": "code",
   "execution_count": 75,
   "outputs": [],
   "source": [
    "mid_total.to_excel('mid_total.xlsx')"
   ],
   "metadata": {
    "collapsed": false,
    "pycharm": {
     "name": "#%%\n"
    }
   }
  },
  {
   "cell_type": "code",
   "execution_count": 16,
   "outputs": [
    {
     "data": {
      "text/plain": "player\nHarry Kane           1700.236967\nSon Heung-min        1529.146919\nMohamed Salah        1428.672986\nMarcus Rashford      1408.767773\nSadio Mané           1283.649289\n                        ...     \nLiam Delap             11.374408\nNélson Semedo          11.374408\nİlkay Gündoğan         11.374408\nDemarai Gray           10.426540\nAntwoine Hackford      10.426540\nName: Rating_fw, Length: 248, dtype: float64"
     },
     "execution_count": 16,
     "metadata": {},
     "output_type": "execute_result"
    }
   ],
   "source": [
    "#Forward Rating\n",
    "Forwards['Rating_fw'] = (Forwards['goals']*10)+(Forwards['assists']*9) + ((Forwards['goals'] - Forwards['xg'])*8) + ((Forwards['assists'] - Forwards['xa'])*8) + (Forwards['gca']*5) + (Forwards['sca']*4) + (Forwards['shots_on_target']*2)\n",
    "#Forwards['Rating_fw'] = (Forwards['dribbles'])\n",
    "\n",
    "OldMax = Forwards['Rating_fw'].max()\n",
    "OldMin = Forwards['Rating_fw'].min()\n",
    "NewMax = 100\n",
    "NewMin = 0\n",
    "\n",
    "\n",
    "OldRange = (OldMax - OldMin)\n",
    "NewRange = (NewMax - NewMin)\n",
    "Forwards['Rating_fw'] = ((((Forwards['Rating_fw'] - OldMin) * NewRange) / OldRange) + NewMin)*1.5\n",
    "fw21 = Forwards.groupby(['player']).sum()['Rating_fw']\n",
    "fw21_t = Forwards.groupby(['Team']).sum()['Rating_fw']\n",
    "forward_strength = fw21.sort_values(ascending=False)\n",
    "forward_strength_t = fw21_t.sort_values(ascending=False)\n",
    "forward_strength"
   ],
   "metadata": {
    "collapsed": false,
    "pycharm": {
     "name": "#%%\n"
    }
   }
  },
  {
   "cell_type": "code",
   "execution_count": 72,
   "outputs": [
    {
     "data": {
      "text/plain": "                  goals  assists   gca    sca  shots_on_target   xg   xa  \\\nplayer                                                                     \nAaron Connolly      2.0      1.0   1.0   12.0              8.0  3.6  0.1   \nAboubakar Kamara    0.0      0.0   0.0    4.0              1.0  0.3  0.3   \nAdam Lallana        1.0      0.0   1.0    5.0              3.0  1.5  0.8   \nAdama Traoré        2.0      2.0   6.0  107.0             13.0  2.0  5.1   \nAdemola Lookman     4.0      3.0   8.0   90.0             20.0  4.7  4.0   \n...                 ...      ...   ...    ...              ...  ...  ...   \nWillian             1.0      5.0  11.0   55.0              3.0  1.9  2.1   \nWillian José        1.0      0.0   1.0   17.0              6.0  1.8  0.4   \nXherdan Shaqiri     0.0      0.0   0.0    9.0              0.0  0.1  0.5   \nÉrik Lamela         0.0      0.0   5.0   18.0              3.0  0.7  0.3   \nİlkay Gündoğan      0.0      0.0   0.0    0.0              0.0  0.0  0.0   \n\n                  goals-xG  asists-xA  \nplayer                                 \nAaron Connolly        -1.6        0.9  \nAboubakar Kamara      -0.3       -0.3  \nAdam Lallana          -0.5       -0.8  \nAdama Traoré           0.0       -3.1  \nAdemola Lookman       -0.7       -1.0  \n...                    ...        ...  \nWillian               -0.9        2.9  \nWillian José          -0.8       -0.4  \nXherdan Shaqiri       -0.1       -0.5  \nÉrik Lamela           -0.7       -0.3  \nİlkay Gündoğan         0.0        0.0  \n\n[248 rows x 9 columns]",
      "text/html": "<div>\n<style scoped>\n    .dataframe tbody tr th:only-of-type {\n        vertical-align: middle;\n    }\n\n    .dataframe tbody tr th {\n        vertical-align: top;\n    }\n\n    .dataframe thead th {\n        text-align: right;\n    }\n</style>\n<table border=\"1\" class=\"dataframe\">\n  <thead>\n    <tr style=\"text-align: right;\">\n      <th></th>\n      <th>goals</th>\n      <th>assists</th>\n      <th>gca</th>\n      <th>sca</th>\n      <th>shots_on_target</th>\n      <th>xg</th>\n      <th>xa</th>\n      <th>goals-xG</th>\n      <th>asists-xA</th>\n    </tr>\n    <tr>\n      <th>player</th>\n      <th></th>\n      <th></th>\n      <th></th>\n      <th></th>\n      <th></th>\n      <th></th>\n      <th></th>\n      <th></th>\n      <th></th>\n    </tr>\n  </thead>\n  <tbody>\n    <tr>\n      <th>Aaron Connolly</th>\n      <td>2.0</td>\n      <td>1.0</td>\n      <td>1.0</td>\n      <td>12.0</td>\n      <td>8.0</td>\n      <td>3.6</td>\n      <td>0.1</td>\n      <td>-1.6</td>\n      <td>0.9</td>\n    </tr>\n    <tr>\n      <th>Aboubakar Kamara</th>\n      <td>0.0</td>\n      <td>0.0</td>\n      <td>0.0</td>\n      <td>4.0</td>\n      <td>1.0</td>\n      <td>0.3</td>\n      <td>0.3</td>\n      <td>-0.3</td>\n      <td>-0.3</td>\n    </tr>\n    <tr>\n      <th>Adam Lallana</th>\n      <td>1.0</td>\n      <td>0.0</td>\n      <td>1.0</td>\n      <td>5.0</td>\n      <td>3.0</td>\n      <td>1.5</td>\n      <td>0.8</td>\n      <td>-0.5</td>\n      <td>-0.8</td>\n    </tr>\n    <tr>\n      <th>Adama Traoré</th>\n      <td>2.0</td>\n      <td>2.0</td>\n      <td>6.0</td>\n      <td>107.0</td>\n      <td>13.0</td>\n      <td>2.0</td>\n      <td>5.1</td>\n      <td>0.0</td>\n      <td>-3.1</td>\n    </tr>\n    <tr>\n      <th>Ademola Lookman</th>\n      <td>4.0</td>\n      <td>3.0</td>\n      <td>8.0</td>\n      <td>90.0</td>\n      <td>20.0</td>\n      <td>4.7</td>\n      <td>4.0</td>\n      <td>-0.7</td>\n      <td>-1.0</td>\n    </tr>\n    <tr>\n      <th>...</th>\n      <td>...</td>\n      <td>...</td>\n      <td>...</td>\n      <td>...</td>\n      <td>...</td>\n      <td>...</td>\n      <td>...</td>\n      <td>...</td>\n      <td>...</td>\n    </tr>\n    <tr>\n      <th>Willian</th>\n      <td>1.0</td>\n      <td>5.0</td>\n      <td>11.0</td>\n      <td>55.0</td>\n      <td>3.0</td>\n      <td>1.9</td>\n      <td>2.1</td>\n      <td>-0.9</td>\n      <td>2.9</td>\n    </tr>\n    <tr>\n      <th>Willian José</th>\n      <td>1.0</td>\n      <td>0.0</td>\n      <td>1.0</td>\n      <td>17.0</td>\n      <td>6.0</td>\n      <td>1.8</td>\n      <td>0.4</td>\n      <td>-0.8</td>\n      <td>-0.4</td>\n    </tr>\n    <tr>\n      <th>Xherdan Shaqiri</th>\n      <td>0.0</td>\n      <td>0.0</td>\n      <td>0.0</td>\n      <td>9.0</td>\n      <td>0.0</td>\n      <td>0.1</td>\n      <td>0.5</td>\n      <td>-0.1</td>\n      <td>-0.5</td>\n    </tr>\n    <tr>\n      <th>Érik Lamela</th>\n      <td>0.0</td>\n      <td>0.0</td>\n      <td>5.0</td>\n      <td>18.0</td>\n      <td>3.0</td>\n      <td>0.7</td>\n      <td>0.3</td>\n      <td>-0.7</td>\n      <td>-0.3</td>\n    </tr>\n    <tr>\n      <th>İlkay Gündoğan</th>\n      <td>0.0</td>\n      <td>0.0</td>\n      <td>0.0</td>\n      <td>0.0</td>\n      <td>0.0</td>\n      <td>0.0</td>\n      <td>0.0</td>\n      <td>0.0</td>\n      <td>0.0</td>\n    </tr>\n  </tbody>\n</table>\n<p>248 rows × 9 columns</p>\n</div>"
     },
     "execution_count": 72,
     "metadata": {},
     "output_type": "execute_result"
    }
   ],
   "source": [
    "fw_gol = Forwards.groupby(['player']).sum()['goals']\n",
    "fw_as = Forwards.groupby(['player']).sum()['assists']\n",
    "fw_gca = Forwards.groupby(['player']).sum()['gca']\n",
    "fw_sca = Forwards.groupby(['player']).sum()['sca']\n",
    "fw_sot = Forwards.groupby(['player']).sum()['shots_on_target']\n",
    "fw_xG = Forwards.groupby(['player']).sum()['xg']\n",
    "fw_xA = Forwards.groupby(['player']).sum()['xa']\n",
    "fw_total = pd.merge(fw_gol, fw_as , on='player', how='left')\n",
    "fw_total = pd.merge(fw_total,fw_gca , on='player', how='left')\n",
    "fw_total = pd.merge(fw_total,fw_sca , on='player', how='left')\n",
    "fw_total = pd.merge(fw_total,fw_sot , on='player', how='left')\n",
    "fw_total = pd.merge(fw_total,fw_xG , on='player', how='left')\n",
    "fw_total = pd.merge(fw_total,fw_xA , on='player', how='left')\n",
    "fw_total ['goals-xG'] = fw_total['goals'] - fw_total['xg']\n",
    "fw_total ['asists-xA'] = fw_total['assists'] - fw_total['xa']\n",
    "\n",
    "fw_total"
   ],
   "metadata": {
    "collapsed": false,
    "pycharm": {
     "name": "#%%\n"
    }
   }
  },
  {
   "cell_type": "code",
   "execution_count": 73,
   "outputs": [],
   "source": [
    "fw_total.to_excel('fw_total.xlsx')"
   ],
   "metadata": {
    "collapsed": false,
    "pycharm": {
     "name": "#%%\n"
    }
   }
  }
 ],
 "metadata": {
  "kernelspec": {
   "display_name": "Python 3",
   "language": "python",
   "name": "python3"
  },
  "language_info": {
   "codemirror_mode": {
    "name": "ipython",
    "version": 2
   },
   "file_extension": ".py",
   "mimetype": "text/x-python",
   "name": "python",
   "nbconvert_exporter": "python",
   "pygments_lexer": "ipython2",
   "version": "2.7.6"
  }
 },
 "nbformat": 4,
 "nbformat_minor": 0
}