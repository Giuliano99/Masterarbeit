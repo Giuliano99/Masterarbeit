{
 "cells": [
  {
   "cell_type": "code",
   "execution_count": 7,
   "metadata": {
    "collapsed": true
   },
   "outputs": [],
   "source": [
    "#import necessary packages\n",
    "import pandas as pd"
   ]
  },
  {
   "cell_type": "code",
   "execution_count": 8,
   "outputs": [],
   "source": [
    "#import player data\n",
    "PL2020_keepers = pd.read_csv('PL2020_keepers.csv')\n",
    "PL2020_players = pd.read_csv('PL2020_players.csv')\n"
   ],
   "metadata": {
    "collapsed": false,
    "pycharm": {
     "name": "#%%\n"
    }
   }
  },
  {
   "cell_type": "code",
   "execution_count": 9,
   "outputs": [
    {
     "data": {
      "text/plain": "                player  minutes     age  gk_shots_on_target_against  \\\n0          Marek Rodák     90.0  23-274                         5.0   \n1           Bernd Leno     90.0  28-192                         2.0   \n2       Vicente Guaita     90.0  33-246                         5.0   \n3        Alex McCarthy     90.0  30-284                         3.0   \n4              Alisson     90.0  27-346                         3.0   \n..                 ...      ...     ...                         ...   \n760  Emiliano Martínez     90.0  28-263                         6.0   \n761      Edouard Mendy     45.0  29-083                         2.0   \n762  Kepa Arrizabalaga     45.0  26-232                         0.0   \n763   Łukasz Fabiański     90.0  36-035                         5.0   \n764      Alex McCarthy     90.0  31-171                         7.0   \n\n     gk_goals_against  gk_saves  gk_save_pct  gk_psxg  \\\n0                 3.0       2.0         40.0      2.5   \n1                 0.0       2.0        100.0      0.0   \n2                 0.0       5.0        100.0      0.8   \n3                 1.0       2.0         66.7      0.7   \n4                 3.0       0.0          0.0      2.1   \n..                ...       ...          ...      ...   \n760               1.0       5.0         83.3      1.2   \n761               1.0       1.0         50.0      1.1   \n762               1.0       0.0          0.0      0.6   \n763               0.0       5.0        100.0      1.0   \n764               3.0       4.0         57.1      1.8   \n\n     gk_passes_completed_launched  gk_passes  gk_passes_throws  \\\n0                             6.0       22.0               3.0   \n1                             1.0       28.0               2.0   \n2                             6.0       20.0               0.0   \n3                             8.0       44.0               8.0   \n4                             2.0       26.0               5.0   \n..                            ...        ...               ...   \n760                           9.0       24.0               4.0   \n761                           0.0        9.0               4.0   \n762                           2.0        9.0               0.0   \n763                          14.0       28.0               6.0   \n764                           4.0       23.0               5.0   \n\n     gk_pct_passes_launched  gk_def_actions_outside_pen_area             Team  \\\n0                      40.9                              1.0           Fulham   \n1                       0.0                              1.0          Arsenal   \n2                      95.0                              0.0   Crystal Palace   \n3                      38.6                              4.0      Southampton   \n4                      34.6                              0.0        Liverpool   \n..                      ...                              ...              ...   \n760                    62.5                              0.0      Aston Villa   \n761                     0.0                              0.0          Chelsea   \n762                    33.3                              1.0          Chelsea   \n763                    60.7                              0.0  West Ham United   \n764                    43.5                              0.0      Southampton   \n\n     matchweek        date position  \n0          1.0  2020-09-12       GK  \n1          1.0  2020-09-12       GK  \n2          1.0  2020-09-12       GK  \n3          1.0  2020-09-12       GK  \n4          1.0  2020-09-12       GK  \n..         ...         ...      ...  \n760       38.0  2021-05-23       GK  \n761       38.0  2021-05-23       GK  \n762       38.0  2021-05-23       GK  \n763       38.0  2021-05-23       GK  \n764       38.0  2021-05-23       GK  \n\n[765 rows x 17 columns]",
      "text/html": "<div>\n<style scoped>\n    .dataframe tbody tr th:only-of-type {\n        vertical-align: middle;\n    }\n\n    .dataframe tbody tr th {\n        vertical-align: top;\n    }\n\n    .dataframe thead th {\n        text-align: right;\n    }\n</style>\n<table border=\"1\" class=\"dataframe\">\n  <thead>\n    <tr style=\"text-align: right;\">\n      <th></th>\n      <th>player</th>\n      <th>minutes</th>\n      <th>age</th>\n      <th>gk_shots_on_target_against</th>\n      <th>gk_goals_against</th>\n      <th>gk_saves</th>\n      <th>gk_save_pct</th>\n      <th>gk_psxg</th>\n      <th>gk_passes_completed_launched</th>\n      <th>gk_passes</th>\n      <th>gk_passes_throws</th>\n      <th>gk_pct_passes_launched</th>\n      <th>gk_def_actions_outside_pen_area</th>\n      <th>Team</th>\n      <th>matchweek</th>\n      <th>date</th>\n      <th>position</th>\n    </tr>\n  </thead>\n  <tbody>\n    <tr>\n      <th>0</th>\n      <td>Marek Rodák</td>\n      <td>90.0</td>\n      <td>23-274</td>\n      <td>5.0</td>\n      <td>3.0</td>\n      <td>2.0</td>\n      <td>40.0</td>\n      <td>2.5</td>\n      <td>6.0</td>\n      <td>22.0</td>\n      <td>3.0</td>\n      <td>40.9</td>\n      <td>1.0</td>\n      <td>Fulham</td>\n      <td>1.0</td>\n      <td>2020-09-12</td>\n      <td>GK</td>\n    </tr>\n    <tr>\n      <th>1</th>\n      <td>Bernd Leno</td>\n      <td>90.0</td>\n      <td>28-192</td>\n      <td>2.0</td>\n      <td>0.0</td>\n      <td>2.0</td>\n      <td>100.0</td>\n      <td>0.0</td>\n      <td>1.0</td>\n      <td>28.0</td>\n      <td>2.0</td>\n      <td>0.0</td>\n      <td>1.0</td>\n      <td>Arsenal</td>\n      <td>1.0</td>\n      <td>2020-09-12</td>\n      <td>GK</td>\n    </tr>\n    <tr>\n      <th>2</th>\n      <td>Vicente Guaita</td>\n      <td>90.0</td>\n      <td>33-246</td>\n      <td>5.0</td>\n      <td>0.0</td>\n      <td>5.0</td>\n      <td>100.0</td>\n      <td>0.8</td>\n      <td>6.0</td>\n      <td>20.0</td>\n      <td>0.0</td>\n      <td>95.0</td>\n      <td>0.0</td>\n      <td>Crystal Palace</td>\n      <td>1.0</td>\n      <td>2020-09-12</td>\n      <td>GK</td>\n    </tr>\n    <tr>\n      <th>3</th>\n      <td>Alex McCarthy</td>\n      <td>90.0</td>\n      <td>30-284</td>\n      <td>3.0</td>\n      <td>1.0</td>\n      <td>2.0</td>\n      <td>66.7</td>\n      <td>0.7</td>\n      <td>8.0</td>\n      <td>44.0</td>\n      <td>8.0</td>\n      <td>38.6</td>\n      <td>4.0</td>\n      <td>Southampton</td>\n      <td>1.0</td>\n      <td>2020-09-12</td>\n      <td>GK</td>\n    </tr>\n    <tr>\n      <th>4</th>\n      <td>Alisson</td>\n      <td>90.0</td>\n      <td>27-346</td>\n      <td>3.0</td>\n      <td>3.0</td>\n      <td>0.0</td>\n      <td>0.0</td>\n      <td>2.1</td>\n      <td>2.0</td>\n      <td>26.0</td>\n      <td>5.0</td>\n      <td>34.6</td>\n      <td>0.0</td>\n      <td>Liverpool</td>\n      <td>1.0</td>\n      <td>2020-09-12</td>\n      <td>GK</td>\n    </tr>\n    <tr>\n      <th>...</th>\n      <td>...</td>\n      <td>...</td>\n      <td>...</td>\n      <td>...</td>\n      <td>...</td>\n      <td>...</td>\n      <td>...</td>\n      <td>...</td>\n      <td>...</td>\n      <td>...</td>\n      <td>...</td>\n      <td>...</td>\n      <td>...</td>\n      <td>...</td>\n      <td>...</td>\n      <td>...</td>\n      <td>...</td>\n    </tr>\n    <tr>\n      <th>760</th>\n      <td>Emiliano Martínez</td>\n      <td>90.0</td>\n      <td>28-263</td>\n      <td>6.0</td>\n      <td>1.0</td>\n      <td>5.0</td>\n      <td>83.3</td>\n      <td>1.2</td>\n      <td>9.0</td>\n      <td>24.0</td>\n      <td>4.0</td>\n      <td>62.5</td>\n      <td>0.0</td>\n      <td>Aston Villa</td>\n      <td>38.0</td>\n      <td>2021-05-23</td>\n      <td>GK</td>\n    </tr>\n    <tr>\n      <th>761</th>\n      <td>Edouard Mendy</td>\n      <td>45.0</td>\n      <td>29-083</td>\n      <td>2.0</td>\n      <td>1.0</td>\n      <td>1.0</td>\n      <td>50.0</td>\n      <td>1.1</td>\n      <td>0.0</td>\n      <td>9.0</td>\n      <td>4.0</td>\n      <td>0.0</td>\n      <td>0.0</td>\n      <td>Chelsea</td>\n      <td>38.0</td>\n      <td>2021-05-23</td>\n      <td>GK</td>\n    </tr>\n    <tr>\n      <th>762</th>\n      <td>Kepa Arrizabalaga</td>\n      <td>45.0</td>\n      <td>26-232</td>\n      <td>0.0</td>\n      <td>1.0</td>\n      <td>0.0</td>\n      <td>0.0</td>\n      <td>0.6</td>\n      <td>2.0</td>\n      <td>9.0</td>\n      <td>0.0</td>\n      <td>33.3</td>\n      <td>1.0</td>\n      <td>Chelsea</td>\n      <td>38.0</td>\n      <td>2021-05-23</td>\n      <td>GK</td>\n    </tr>\n    <tr>\n      <th>763</th>\n      <td>Łukasz Fabiański</td>\n      <td>90.0</td>\n      <td>36-035</td>\n      <td>5.0</td>\n      <td>0.0</td>\n      <td>5.0</td>\n      <td>100.0</td>\n      <td>1.0</td>\n      <td>14.0</td>\n      <td>28.0</td>\n      <td>6.0</td>\n      <td>60.7</td>\n      <td>0.0</td>\n      <td>West Ham United</td>\n      <td>38.0</td>\n      <td>2021-05-23</td>\n      <td>GK</td>\n    </tr>\n    <tr>\n      <th>764</th>\n      <td>Alex McCarthy</td>\n      <td>90.0</td>\n      <td>31-171</td>\n      <td>7.0</td>\n      <td>3.0</td>\n      <td>4.0</td>\n      <td>57.1</td>\n      <td>1.8</td>\n      <td>4.0</td>\n      <td>23.0</td>\n      <td>5.0</td>\n      <td>43.5</td>\n      <td>0.0</td>\n      <td>Southampton</td>\n      <td>38.0</td>\n      <td>2021-05-23</td>\n      <td>GK</td>\n    </tr>\n  </tbody>\n</table>\n<p>765 rows × 17 columns</p>\n</div>"
     },
     "execution_count": 9,
     "metadata": {},
     "output_type": "execute_result"
    }
   ],
   "source": [
    "PL2020_keepers"
   ],
   "metadata": {
    "collapsed": false,
    "pycharm": {
     "name": "#%%\n"
    }
   }
  },
  {
   "cell_type": "code",
   "execution_count": 12,
   "outputs": [
    {
     "data": {
      "text/plain": "player\nSam Johnstone             2091.372054\nEmiliano Martínez         2058.119541\nAaron Ramsdale            2026.029195\nIllan Meslier             1882.776437\nHugo Lloris               1848.701233\nAlphonse Areola           1805.062129\nNick Pope                 1771.324316\nVicente Guaita            1711.448504\nKasper Schmeichel         1687.675909\nŁukasz Fabiański          1669.865992\nRui Patrício              1623.920552\nAlisson                   1599.681014\nBernd Leno                1590.669614\nJordan Pickford           1544.800591\nEderson                   1537.454055\nAlex McCarthy             1385.192552\nEdouard Mendy             1315.387235\nRobert Sánchez            1297.367177\nKarl Darlow               1194.138343\nDavid de Gea              1096.817509\nMartin Dúbravka            642.768326\nDean Henderson             633.325442\nMathew Ryan                552.806561\nFraser Forster             353.379412\nRobin Olsen                322.950334\nKepa Arrizabalaga          308.117370\nKiko Casilla               166.380359\nBailey Peacock-Farrell     140.274838\nDarren Randolph            134.139691\nAdrián                     128.850738\nCaoimhín Kelleher          108.827152\nJohn Ruddy                  81.336703\nMarek Rodák                 69.025769\nDavid Button                57.173542\nWill Norris                 55.233525\nJoão Virgínia               53.285147\nRúnar Alex Rúnarsson        44.948828\nJack Butland                40.923401\nZack Steffen                33.548127\nScott Carson                23.674218\nWilly Caballero             15.748839\nName: Rating, dtype: float64"
     },
     "execution_count": 12,
     "metadata": {},
     "output_type": "execute_result"
    }
   ],
   "source": [
    "#Goalkeeper Rating\n",
    "PL2020_keepers['Rating'] = ((PL2020_keepers['gk_psxg'] - PL2020_keepers['gk_goals_against'])*8.066670338)+(PL2020_keepers['gk_save_pct']/100*2.556904605) + (PL2020_keepers['gk_goals_against']*-5.915922982)  +(PL2020_keepers['gk_saves']*8.969594364) + (PL2020_keepers['gk_pct_passes_launched']/100*7.810097531) + (PL2020_keepers['gk_psxg']*0.985661108) + (PL2020_keepers['gk_def_actions_outside_pen_area']*1.522476572)+ (PL2020_keepers['gk_passes']*0.228727318)\n",
    "\n",
    "\n",
    "OldMax = PL2020_keepers['Rating'].max()\n",
    "OldMin = PL2020_keepers['Rating'].min()\n",
    "NewMax = 100\n",
    "NewMin = 0\n",
    "\n",
    "\n",
    "OldRange = (OldMax - OldMin)\n",
    "NewRange = (NewMax - NewMin)\n",
    "PL2020_keepers['Rating'] = (((PL2020_keepers['Rating'] - OldMin) * NewRange) / OldRange) + NewMin\n",
    "gk21 = PL2020_keepers.groupby(['player']).sum()['Rating']\n",
    "keeper_strength = gk21.sort_values(ascending=False)\n",
    "keeper_strength"
   ],
   "metadata": {
    "collapsed": false,
    "pycharm": {
     "name": "#%%\n"
    }
   }
  },
  {
   "cell_type": "code",
   "execution_count": 13,
   "outputs": [],
   "source": [
    "# gk_ga = PL2020_keepers.groupby(['player']).sum()['goals_against_gk']\n",
    "# gk_saves = PL2020_keepers.groupby(['player']).sum()['saves']\n",
    "# psxg_gk = PL2020_keepers.groupby(['player']).sum()['psxg_gk']\n",
    "# save_pct = PL2020_keepers.groupby(['player']).mean()['save_pct']\n",
    "# pct_passes_launched_gk = PL2020_keepers.groupby(['player']).mean()['pct_passes_launched_gk']\n",
    "# passes_gk = PL2020_keepers.groupby(['player']).sum()['passes_gk']\n",
    "# def_actions_outside_pen_area_gk = PL2020_keepers.groupby(['player']).sum()['def_actions_outside_pen_area_gk']\n",
    "# gk_total = pd.merge(gk_ga, gk_saves , on='player', how='left')\n",
    "# gk_total = pd.merge(gk_total,psxg_gk , on='player', how='left')\n",
    "# gk_total = pd.merge(gk_total,save_pct , on='player', how='left')\n",
    "# gk_total = pd.merge(gk_total,pct_passes_launched_gk , on='player', how='left')\n",
    "# gk_total = pd.merge(gk_total,passes_gk , on='player', how='left')\n",
    "# gk_total = pd.merge(gk_total,def_actions_outside_pen_area_gk , on='player', how='left')\n",
    "# gk_total ['diff'] = gk_total['psxg_gk'] - gk_total['goals_against_gk']\n",
    "# gk_total\n"
   ],
   "metadata": {
    "collapsed": false,
    "pycharm": {
     "name": "#%%\n"
    }
   }
  },
  {
   "cell_type": "code",
   "execution_count": 14,
   "outputs": [],
   "source": [
    "#gk_total.to_excel('gk_total.xlsx')"
   ],
   "metadata": {
    "collapsed": false,
    "pycharm": {
     "name": "#%%\n"
    }
   }
  },
  {
   "cell_type": "code",
   "execution_count": 15,
   "outputs": [],
   "source": [
    "#split df in dfs for each player group\n",
    "Defenders = PL2020_players.drop(PL2020_players[PL2020_players.category != 'Defender'].index)\n",
    "Midfielders = PL2020_players.drop(PL2020_players[PL2020_players.category != 'Midfield'].index)\n",
    "Forwards = PL2020_players.drop(PL2020_players[PL2020_players.category != 'Forward'].index)"
   ],
   "metadata": {
    "collapsed": false,
    "pycharm": {
     "name": "#%%\n"
    }
   }
  },
  {
   "cell_type": "code",
   "execution_count": 16,
   "outputs": [
    {
     "data": {
      "text/plain": "player\nAndrew Robertson          1719.146091\nLuke Ayling               1683.875550\nTrent Alexander-Arnold    1592.473307\nAaron Wan-Bissaka         1435.635323\nRúben Dias                1422.795049\n                             ...     \nDan Nlundulu                 2.178251\nAllan Tchaptchet             0.757402\nDwight Gayle                 0.750528\nWilliam Thomas Fish          0.253613\nFemi Seriki                  0.000000\nName: Rating, Length: 266, dtype: float64"
     },
     "execution_count": 16,
     "metadata": {},
     "output_type": "execute_result"
    }
   ],
   "source": [
    "#Defender Rating\n",
    "Defenders['Rating'] = (Defenders['tackles']*6.141939015)+(Defenders['progressive_carries']*9.4230058) + (Defenders['progressive_passes']*1) + (Defenders['assists']*7.661351766)+ (Defenders['passes']*1.013737739) + (Defenders['interceptions']*1) + (Defenders['blocks']*1.526323093)  +(Defenders['pressures']*1)  + (Defenders['goals']*4.536477348)   + (Defenders['passes_pct']/100*7.693134296)\n",
    "\n",
    "\n",
    "OldMax = Defenders['Rating'].max()\n",
    "OldMin = Defenders['Rating'].min()\n",
    "NewMax = 100\n",
    "NewMin = 0\n",
    "\n",
    "\n",
    "OldRange = (OldMax - OldMin)\n",
    "NewRange = (NewMax - NewMin)\n",
    "Defenders['Rating'] = (((Defenders['Rating'] - OldMin) * NewRange) / OldRange) + NewMin\n",
    "df21 = Defenders.groupby(['player']).sum()['Rating']\n",
    "df21_t = Defenders.groupby(['Team']).sum()['Rating']\n",
    "defender_strength = df21.sort_values(ascending=False)\n",
    "defender_strength_t = df21_t.sort_values(ascending=False)\n",
    "defender_strength"
   ],
   "metadata": {
    "collapsed": false,
    "pycharm": {
     "name": "#%%\n"
    }
   }
  },
  {
   "cell_type": "code",
   "execution_count": 17,
   "outputs": [],
   "source": [
    "# def_tackl = Defenders.groupby(['player']).sum()['tackles']\n",
    "# def_prog_car = Defenders.groupby(['player']).sum()['progressive_carries']\n",
    "# def_prog_pas = Defenders.groupby(['player']).sum()['progressive_passes']\n",
    "# def_ast = Defenders.groupby(['player']).sum()['assists']\n",
    "# def_pas = Defenders.groupby(['player']).sum()['passes']\n",
    "# def_int = Defenders.groupby(['player']).sum()['interceptions']\n",
    "# def_blk = Defenders.groupby(['player']).sum()['blocks']\n",
    "# def_pres = Defenders.groupby(['player']).sum()['pressures']\n",
    "# def_gol = Defenders.groupby(['player']).sum()['goals']\n",
    "# def_pas_pct = Defenders.groupby(['player']).mean()['passes_pct']\n",
    "# def_total = pd.merge(def_tackl, def_prog_car , on='player', how='left')\n",
    "# def_total = pd.merge(def_total,def_prog_pas , on='player', how='left')\n",
    "# def_total = pd.merge(def_total,def_ast , on='player', how='left')\n",
    "# def_total = pd.merge(def_total,def_pas , on='player', how='left')\n",
    "# def_total = pd.merge(def_total,def_int , on='player', how='left')\n",
    "# def_total = pd.merge(def_total,def_blk , on='player', how='left')\n",
    "# def_total = pd.merge(def_total,def_pres , on='player', how='left')\n",
    "# def_total = pd.merge(def_total,def_gol , on='player', how='left')\n",
    "# def_total = pd.merge(def_total,def_pas_pct , on='player', how='left')\n",
    "#\n",
    "# def_total\n"
   ],
   "metadata": {
    "collapsed": false,
    "pycharm": {
     "name": "#%%\n"
    }
   }
  },
  {
   "cell_type": "code",
   "execution_count": 18,
   "outputs": [],
   "source": [
    "#def_total.to_excel('def_total.xlsx')"
   ],
   "metadata": {
    "collapsed": false,
    "pycharm": {
     "name": "#%%\n"
    }
   }
  },
  {
   "cell_type": "code",
   "execution_count": 19,
   "outputs": [
    {
     "data": {
      "text/plain": "player\nBruno Fernandes    1587.101964\nKevin De Bruyne    1194.061209\nYouri Tielemans    1053.138430\nJohn McGinn        1031.522981\nJack Harrison      1020.042191\n                      ...     \nFernando Marçal       0.000000\nCédric Soares         0.000000\nGareth Bale           0.000000\nLee Peltier           0.000000\nWes Morgan            0.000000\nName: Rating, Length: 295, dtype: float64"
     },
     "execution_count": 19,
     "metadata": {},
     "output_type": "execute_result"
    }
   ],
   "source": [
    "#Midfield Rating\n",
    "Midfielders['Rating'] = (Midfielders['assists']*9.896093302)+(Midfielders['goals']*8.24545131) + (Midfielders['progressive_passes']*1) + (Midfielders['progressive_carries']*1) + (Midfielders['gca']*9.974429519)  +(Midfielders['pressures']*1)  + (Midfielders['sca']*10)   + (Midfielders['dribbles_completed']*1.558838612)\n",
    "#Midfielders['Rating'] = (Midfielders['passes_pct'])\n",
    "\n",
    "OldMax = Midfielders['Rating'].max()\n",
    "OldMin = Midfielders['Rating'].min()\n",
    "NewMax = 100\n",
    "NewMin = 0\n",
    "\n",
    "\n",
    "OldRange = (OldMax - OldMin)\n",
    "NewRange = (NewMax - NewMin)\n",
    "Midfielders['Rating'] = (((Midfielders['Rating'] - OldMin) * NewRange) / OldRange) + NewMin\n",
    "mf21 = Midfielders.groupby(['player']).sum()['Rating']\n",
    "mf21_t = Midfielders.groupby(['Team']).sum()['Rating']\n",
    "midfield_strength = mf21.sort_values(ascending=False)\n",
    "midfield_strength_t = mf21_t.sort_values(ascending=False)\n",
    "midfield_strength"
   ],
   "metadata": {
    "collapsed": false,
    "pycharm": {
     "name": "#%%\n"
    }
   }
  },
  {
   "cell_type": "code",
   "execution_count": 20,
   "outputs": [],
   "source": [
    "# mid_as = Midfielders.groupby(['player']).sum()['assists']\n",
    "# mid_gol = Midfielders.groupby(['player']).sum()['goals']\n",
    "# mid_prog_pas = Midfielders.groupby(['player']).sum()['progressive_passes']\n",
    "# mid_prog_car = Midfielders.groupby(['player']).sum()['progressive_carries']\n",
    "# mid_gca = Midfielders.groupby(['player']).sum()['gca']\n",
    "# mid_sca = Midfielders.groupby(['player']).sum()['sca']\n",
    "# mid_drb = Midfielders.groupby(['player']).sum()['dribbles_completed']\n",
    "# mid_pres = Midfielders.groupby(['player']).sum()['pressures']\n",
    "# mid_total = pd.merge(mid_as, mid_gol , on='player', how='left')\n",
    "# mid_total = pd.merge(mid_total,mid_prog_pas , on='player', how='left')\n",
    "# mid_total = pd.merge(mid_total,mid_prog_car , on='player', how='left')\n",
    "# mid_total = pd.merge(mid_total,mid_gca , on='player', how='left')\n",
    "# mid_total = pd.merge(mid_total,mid_sca , on='player', how='left')\n",
    "# mid_total = pd.merge(mid_total,mid_drb , on='player', how='left')\n",
    "# mid_total = pd.merge(mid_total,mid_pres , on='player', how='left')\n",
    "#\n",
    "# mid_total"
   ],
   "metadata": {
    "collapsed": false,
    "pycharm": {
     "name": "#%%\n"
    }
   }
  },
  {
   "cell_type": "code",
   "execution_count": 21,
   "outputs": [],
   "source": [
    "#mid_total.to_excel('mid_total.xlsx')"
   ],
   "metadata": {
    "collapsed": false,
    "pycharm": {
     "name": "#%%\n"
    }
   }
  },
  {
   "cell_type": "code",
   "execution_count": 22,
   "outputs": [
    {
     "data": {
      "text/plain": "player\nHarry Kane           1756.958467\nSon Heung-min        1541.501485\nMohamed Salah        1532.329254\nMarcus Rashford      1466.069382\nOllie Watkins        1421.496524\n                        ...     \nNélson Semedo          11.105408\nLiam Cooper            11.105408\nİlkay Gündoğan         11.105408\nAntwoine Hackford      10.179957\nDemarai Gray           10.179957\nName: Rating, Length: 248, dtype: float64"
     },
     "execution_count": 22,
     "metadata": {},
     "output_type": "execute_result"
    }
   ],
   "source": [
    "#Forward Rating\n",
    "Forwards['Rating'] = (Forwards['goals']*5.701406026)+(Forwards['assists']*1.185545635) + ((Forwards['goals'] - Forwards['xg'])*5.509198531) + ((Forwards['assists'] - Forwards['xa'])*6.255697541) + (Forwards['gca']*4.072354183) + (Forwards['sca']*2.413883824) + (Forwards['shots_on_target']*5.056112447)\n",
    "#Forwards['Rating'] = (Forwards['dribbles'])\n",
    "\n",
    "OldMax = Forwards['Rating'].max()\n",
    "OldMin = Forwards['Rating'].min()\n",
    "NewMax = 100\n",
    "NewMin = 0\n",
    "\n",
    "\n",
    "OldRange = (OldMax - OldMin)\n",
    "NewRange = (NewMax - NewMin)\n",
    "Forwards['Rating'] = ((((Forwards['Rating'] - OldMin) * NewRange) / OldRange) + NewMin)*1.5\n",
    "fw21 = Forwards.groupby(['player']).sum()['Rating']\n",
    "fw21_t = Forwards.groupby(['Team']).sum()['Rating']\n",
    "forward_strength = fw21.sort_values(ascending=False)\n",
    "forward_strength_t = fw21_t.sort_values(ascending=False)\n",
    "forward_strength"
   ],
   "metadata": {
    "collapsed": false,
    "pycharm": {
     "name": "#%%\n"
    }
   }
  },
  {
   "cell_type": "code",
   "execution_count": 23,
   "outputs": [],
   "source": [
    "# fw_gol = Forwards.groupby(['player']).sum()['goals']\n",
    "# fw_as = Forwards.groupby(['player']).sum()['assists']\n",
    "# fw_gca = Forwards.groupby(['player']).sum()['gca']\n",
    "# fw_sca = Forwards.groupby(['player']).sum()['sca']\n",
    "# fw_sot = Forwards.groupby(['player']).sum()['shots_on_target']\n",
    "# fw_xG = Forwards.groupby(['player']).sum()['xg']\n",
    "# fw_xA = Forwards.groupby(['player']).sum()['xa']\n",
    "# fw_total = pd.merge(fw_gol, fw_as , on='player', how='left')\n",
    "# fw_total = pd.merge(fw_total,fw_gca , on='player', how='left')\n",
    "# fw_total = pd.merge(fw_total,fw_sca , on='player', how='left')\n",
    "# fw_total = pd.merge(fw_total,fw_sot , on='player', how='left')\n",
    "# fw_total = pd.merge(fw_total,fw_xG , on='player', how='left')\n",
    "# fw_total = pd.merge(fw_total,fw_xA , on='player', how='left')\n",
    "# fw_total ['goals-xG'] = fw_total['goals'] - fw_total['xg']\n",
    "# fw_total ['asists-xA'] = fw_total['assists'] - fw_total['xa']\n",
    "#\n",
    "# fw_total"
   ],
   "metadata": {
    "collapsed": false,
    "pycharm": {
     "name": "#%%\n"
    }
   }
  },
  {
   "cell_type": "code",
   "execution_count": 24,
   "outputs": [],
   "source": [
    "#fw_total.to_excel('fw_total.xlsx')"
   ],
   "metadata": {
    "collapsed": false,
    "pycharm": {
     "name": "#%%\n"
    }
   }
  },
  {
   "cell_type": "code",
   "execution_count": 29,
   "outputs": [
    {
     "data": {
      "text/plain": "                       player position     age  minutes             Team  \\\n0                   Joe Bryan       LB  26-361     90.0           Fulham   \n1                    Tim Ream       CB  32-343     90.0           Fulham   \n2              Michael Hector       CB  28-055     90.0           Fulham   \n3                  Denis Odoi       RB  32-108     90.0           Fulham   \n4      Ainsley Maitland-Niles       WB  23-014     90.0          Arsenal   \n...                       ...      ...     ...      ...              ...   \n10389       Emiliano Martínez       GK  28-263     90.0      Aston Villa   \n10390           Edouard Mendy       GK  29-083     45.0          Chelsea   \n10391       Kepa Arrizabalaga       GK  26-232     45.0          Chelsea   \n10392        Łukasz Fabiański       GK  36-035     90.0  West Ham United   \n10393           Alex McCarthy       GK  31-171     90.0      Southampton   \n\n       matchweek  category     Rating        date  \n0            1.0  Defender  30.040214  2020-09-12  \n1            1.0  Defender  33.442623  2020-09-12  \n2            1.0  Defender  37.665180  2020-09-12  \n3            1.0  Defender  33.911034  2020-09-12  \n4            1.0  Defender  25.875207  2020-09-12  \n...          ...       ...        ...         ...  \n10389       38.0       NaN  63.001016  2021-05-23  \n10390       38.0       NaN  33.585029  2021-05-23  \n10391       38.0       NaN  26.766151  2021-05-23  \n10392       38.0       NaN  71.562860  2021-05-23  \n10393       38.0       NaN  41.306842  2021-05-23  \n\n[10394 rows x 9 columns]",
      "text/html": "<div>\n<style scoped>\n    .dataframe tbody tr th:only-of-type {\n        vertical-align: middle;\n    }\n\n    .dataframe tbody tr th {\n        vertical-align: top;\n    }\n\n    .dataframe thead th {\n        text-align: right;\n    }\n</style>\n<table border=\"1\" class=\"dataframe\">\n  <thead>\n    <tr style=\"text-align: right;\">\n      <th></th>\n      <th>player</th>\n      <th>position</th>\n      <th>age</th>\n      <th>minutes</th>\n      <th>Team</th>\n      <th>matchweek</th>\n      <th>category</th>\n      <th>Rating</th>\n      <th>date</th>\n    </tr>\n  </thead>\n  <tbody>\n    <tr>\n      <th>0</th>\n      <td>Joe Bryan</td>\n      <td>LB</td>\n      <td>26-361</td>\n      <td>90.0</td>\n      <td>Fulham</td>\n      <td>1.0</td>\n      <td>Defender</td>\n      <td>30.040214</td>\n      <td>2020-09-12</td>\n    </tr>\n    <tr>\n      <th>1</th>\n      <td>Tim Ream</td>\n      <td>CB</td>\n      <td>32-343</td>\n      <td>90.0</td>\n      <td>Fulham</td>\n      <td>1.0</td>\n      <td>Defender</td>\n      <td>33.442623</td>\n      <td>2020-09-12</td>\n    </tr>\n    <tr>\n      <th>2</th>\n      <td>Michael Hector</td>\n      <td>CB</td>\n      <td>28-055</td>\n      <td>90.0</td>\n      <td>Fulham</td>\n      <td>1.0</td>\n      <td>Defender</td>\n      <td>37.665180</td>\n      <td>2020-09-12</td>\n    </tr>\n    <tr>\n      <th>3</th>\n      <td>Denis Odoi</td>\n      <td>RB</td>\n      <td>32-108</td>\n      <td>90.0</td>\n      <td>Fulham</td>\n      <td>1.0</td>\n      <td>Defender</td>\n      <td>33.911034</td>\n      <td>2020-09-12</td>\n    </tr>\n    <tr>\n      <th>4</th>\n      <td>Ainsley Maitland-Niles</td>\n      <td>WB</td>\n      <td>23-014</td>\n      <td>90.0</td>\n      <td>Arsenal</td>\n      <td>1.0</td>\n      <td>Defender</td>\n      <td>25.875207</td>\n      <td>2020-09-12</td>\n    </tr>\n    <tr>\n      <th>...</th>\n      <td>...</td>\n      <td>...</td>\n      <td>...</td>\n      <td>...</td>\n      <td>...</td>\n      <td>...</td>\n      <td>...</td>\n      <td>...</td>\n      <td>...</td>\n    </tr>\n    <tr>\n      <th>10389</th>\n      <td>Emiliano Martínez</td>\n      <td>GK</td>\n      <td>28-263</td>\n      <td>90.0</td>\n      <td>Aston Villa</td>\n      <td>38.0</td>\n      <td>NaN</td>\n      <td>63.001016</td>\n      <td>2021-05-23</td>\n    </tr>\n    <tr>\n      <th>10390</th>\n      <td>Edouard Mendy</td>\n      <td>GK</td>\n      <td>29-083</td>\n      <td>45.0</td>\n      <td>Chelsea</td>\n      <td>38.0</td>\n      <td>NaN</td>\n      <td>33.585029</td>\n      <td>2021-05-23</td>\n    </tr>\n    <tr>\n      <th>10391</th>\n      <td>Kepa Arrizabalaga</td>\n      <td>GK</td>\n      <td>26-232</td>\n      <td>45.0</td>\n      <td>Chelsea</td>\n      <td>38.0</td>\n      <td>NaN</td>\n      <td>26.766151</td>\n      <td>2021-05-23</td>\n    </tr>\n    <tr>\n      <th>10392</th>\n      <td>Łukasz Fabiański</td>\n      <td>GK</td>\n      <td>36-035</td>\n      <td>90.0</td>\n      <td>West Ham United</td>\n      <td>38.0</td>\n      <td>NaN</td>\n      <td>71.562860</td>\n      <td>2021-05-23</td>\n    </tr>\n    <tr>\n      <th>10393</th>\n      <td>Alex McCarthy</td>\n      <td>GK</td>\n      <td>31-171</td>\n      <td>90.0</td>\n      <td>Southampton</td>\n      <td>38.0</td>\n      <td>NaN</td>\n      <td>41.306842</td>\n      <td>2021-05-23</td>\n    </tr>\n  </tbody>\n</table>\n<p>10394 rows × 9 columns</p>\n</div>"
     },
     "execution_count": 29,
     "metadata": {},
     "output_type": "execute_result"
    }
   ],
   "source": [
    "total = pd.concat([Defenders, Midfielders, Forwards, PL2020_keepers], axis=0)\n",
    "total.reset_index(inplace=True, drop=True)\n",
    "PL2020_ratings = total[['player', 'position', 'age', 'minutes', 'Team', 'matchweek', 'category', 'Rating', 'date']]\n",
    "PL2020_ratings"
   ],
   "metadata": {
    "collapsed": false,
    "pycharm": {
     "name": "#%%\n"
    }
   }
  },
  {
   "cell_type": "code",
   "execution_count": 26,
   "outputs": [
    {
     "data": {
      "text/plain": "Team\nManchester City            18080.096794\nChelsea                    16562.818734\nLiverpool                  16366.066935\nManchester United          15999.074982\nLeeds United               15435.192247\nTottenham Hotspur          14807.661196\nLeicester City             14647.412566\nArsenal                    14582.068106\nAston Villa                14143.594371\nBrighton & Hove Albion     14055.866601\nSouthampton                13635.987959\nWolverhampton Wanderers    13611.329423\nEverton                    13319.298709\nFulham                     13300.466411\nWest Ham United            12578.614413\nSheffield United           12166.181859\nCrystal Palace             11769.947156\nNewcastle United           11738.261290\nBurnley                    11166.778012\nWest Bromwich Albion       11072.548038\nName: Rating, dtype: float64"
     },
     "execution_count": 26,
     "metadata": {},
     "output_type": "execute_result"
    }
   ],
   "source": [
    "mf21 = PL2020_ratings.groupby(['player']).sum()['Rating']\n",
    "mf21_t = PL2020_ratings.groupby(['Team']).sum()['Rating']\n",
    "midfield_strength = mf21.sort_values(ascending=False)\n",
    "midfield_strength_t = mf21_t.sort_values(ascending=False)\n",
    "midfield_strength_t"
   ],
   "metadata": {
    "collapsed": false,
    "pycharm": {
     "name": "#%%\n"
    }
   }
  },
  {
   "cell_type": "code",
   "execution_count": 30,
   "outputs": [],
   "source": [
    "PL2020_ratings.to_csv('PL2020_ratings.csv',index=False)"
   ],
   "metadata": {
    "collapsed": false,
    "pycharm": {
     "name": "#%%\n"
    }
   }
  },
  {
   "cell_type": "code",
   "execution_count": 28,
   "outputs": [
    {
     "data": {
      "text/plain": "                       player position     age  minutes             Team  \\\n0                   Joe Bryan       LB  26-361     90.0           Fulham   \n1                    Tim Ream       CB  32-343     90.0           Fulham   \n2              Michael Hector       CB  28-055     90.0           Fulham   \n3                  Denis Odoi       RB  32-108     90.0           Fulham   \n4      Ainsley Maitland-Niles       WB  23-014     90.0          Arsenal   \n...                       ...      ...     ...      ...              ...   \n10389       Emiliano Martínez       GK  28-263     90.0      Aston Villa   \n10390           Edouard Mendy       GK  29-083     45.0          Chelsea   \n10391       Kepa Arrizabalaga       GK  26-232     45.0          Chelsea   \n10392        Łukasz Fabiański       GK  36-035     90.0  West Ham United   \n10393           Alex McCarthy       GK  31-171     90.0      Southampton   \n\n       matchweek  category     Rating  \n0            1.0  Defender  30.040214  \n1            1.0  Defender  33.442623  \n2            1.0  Defender  37.665180  \n3            1.0  Defender  33.911034  \n4            1.0  Defender  25.875207  \n...          ...       ...        ...  \n10389       38.0       NaN  63.001016  \n10390       38.0       NaN  33.585029  \n10391       38.0       NaN  26.766151  \n10392       38.0       NaN  71.562860  \n10393       38.0       NaN  41.306842  \n\n[10394 rows x 8 columns]",
      "text/html": "<div>\n<style scoped>\n    .dataframe tbody tr th:only-of-type {\n        vertical-align: middle;\n    }\n\n    .dataframe tbody tr th {\n        vertical-align: top;\n    }\n\n    .dataframe thead th {\n        text-align: right;\n    }\n</style>\n<table border=\"1\" class=\"dataframe\">\n  <thead>\n    <tr style=\"text-align: right;\">\n      <th></th>\n      <th>player</th>\n      <th>position</th>\n      <th>age</th>\n      <th>minutes</th>\n      <th>Team</th>\n      <th>matchweek</th>\n      <th>category</th>\n      <th>Rating</th>\n    </tr>\n  </thead>\n  <tbody>\n    <tr>\n      <th>0</th>\n      <td>Joe Bryan</td>\n      <td>LB</td>\n      <td>26-361</td>\n      <td>90.0</td>\n      <td>Fulham</td>\n      <td>1.0</td>\n      <td>Defender</td>\n      <td>30.040214</td>\n    </tr>\n    <tr>\n      <th>1</th>\n      <td>Tim Ream</td>\n      <td>CB</td>\n      <td>32-343</td>\n      <td>90.0</td>\n      <td>Fulham</td>\n      <td>1.0</td>\n      <td>Defender</td>\n      <td>33.442623</td>\n    </tr>\n    <tr>\n      <th>2</th>\n      <td>Michael Hector</td>\n      <td>CB</td>\n      <td>28-055</td>\n      <td>90.0</td>\n      <td>Fulham</td>\n      <td>1.0</td>\n      <td>Defender</td>\n      <td>37.665180</td>\n    </tr>\n    <tr>\n      <th>3</th>\n      <td>Denis Odoi</td>\n      <td>RB</td>\n      <td>32-108</td>\n      <td>90.0</td>\n      <td>Fulham</td>\n      <td>1.0</td>\n      <td>Defender</td>\n      <td>33.911034</td>\n    </tr>\n    <tr>\n      <th>4</th>\n      <td>Ainsley Maitland-Niles</td>\n      <td>WB</td>\n      <td>23-014</td>\n      <td>90.0</td>\n      <td>Arsenal</td>\n      <td>1.0</td>\n      <td>Defender</td>\n      <td>25.875207</td>\n    </tr>\n    <tr>\n      <th>...</th>\n      <td>...</td>\n      <td>...</td>\n      <td>...</td>\n      <td>...</td>\n      <td>...</td>\n      <td>...</td>\n      <td>...</td>\n      <td>...</td>\n    </tr>\n    <tr>\n      <th>10389</th>\n      <td>Emiliano Martínez</td>\n      <td>GK</td>\n      <td>28-263</td>\n      <td>90.0</td>\n      <td>Aston Villa</td>\n      <td>38.0</td>\n      <td>NaN</td>\n      <td>63.001016</td>\n    </tr>\n    <tr>\n      <th>10390</th>\n      <td>Edouard Mendy</td>\n      <td>GK</td>\n      <td>29-083</td>\n      <td>45.0</td>\n      <td>Chelsea</td>\n      <td>38.0</td>\n      <td>NaN</td>\n      <td>33.585029</td>\n    </tr>\n    <tr>\n      <th>10391</th>\n      <td>Kepa Arrizabalaga</td>\n      <td>GK</td>\n      <td>26-232</td>\n      <td>45.0</td>\n      <td>Chelsea</td>\n      <td>38.0</td>\n      <td>NaN</td>\n      <td>26.766151</td>\n    </tr>\n    <tr>\n      <th>10392</th>\n      <td>Łukasz Fabiański</td>\n      <td>GK</td>\n      <td>36-035</td>\n      <td>90.0</td>\n      <td>West Ham United</td>\n      <td>38.0</td>\n      <td>NaN</td>\n      <td>71.562860</td>\n    </tr>\n    <tr>\n      <th>10393</th>\n      <td>Alex McCarthy</td>\n      <td>GK</td>\n      <td>31-171</td>\n      <td>90.0</td>\n      <td>Southampton</td>\n      <td>38.0</td>\n      <td>NaN</td>\n      <td>41.306842</td>\n    </tr>\n  </tbody>\n</table>\n<p>10394 rows × 8 columns</p>\n</div>"
     },
     "execution_count": 28,
     "metadata": {},
     "output_type": "execute_result"
    }
   ],
   "source": [
    "PL2020_ratings"
   ],
   "metadata": {
    "collapsed": false,
    "pycharm": {
     "name": "#%%\n"
    }
   }
  }
 ],
 "metadata": {
  "kernelspec": {
   "display_name": "Python 3",
   "language": "python",
   "name": "python3"
  },
  "language_info": {
   "codemirror_mode": {
    "name": "ipython",
    "version": 2
   },
   "file_extension": ".py",
   "mimetype": "text/x-python",
   "name": "python",
   "nbconvert_exporter": "python",
   "pygments_lexer": "ipython2",
   "version": "2.7.6"
  }
 },
 "nbformat": 4,
 "nbformat_minor": 0
}