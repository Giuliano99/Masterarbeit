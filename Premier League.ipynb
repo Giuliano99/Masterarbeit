{
 "cells": [
  {
   "cell_type": "code",
   "execution_count": 12,
   "metadata": {
    "collapsed": true
   },
   "outputs": [],
   "source": [
    "#import necessary packages\n",
    "import pandas as pd"
   ]
  },
  {
   "cell_type": "code",
   "execution_count": 27,
   "outputs": [],
   "source": [
    "#import player data\n",
    "PL2020_keepers = pd.read_csv('PL2020_keepers.csv')\n",
    "PL2020_players = pd.read_csv('PL2020_players.csv')"
   ],
   "metadata": {
    "collapsed": false,
    "pycharm": {
     "name": "#%%\n"
    }
   }
  },
  {
   "cell_type": "code",
   "execution_count": 14,
   "outputs": [
    {
     "data": {
      "text/plain": "player\nSam Johnstone             2091.372054\nEmiliano Martínez         2058.119541\nAaron Ramsdale            2026.029195\nIllan Meslier             1882.776437\nHugo Lloris               1848.701233\nAlphonse Areola           1805.062129\nNick Pope                 1771.324316\nVicente Guaita            1711.448504\nKasper Schmeichel         1687.675909\nŁukasz Fabiański          1669.865992\nRui Patrício              1623.920552\nAlisson                   1599.681014\nBernd Leno                1590.669614\nJordan Pickford           1544.800591\nEderson                   1537.454055\nAlex McCarthy             1385.192552\nEdouard Mendy             1315.387235\nRobert Sánchez            1297.367177\nKarl Darlow               1194.138343\nDavid de Gea              1096.817509\nMartin Dúbravka            642.768326\nDean Henderson             633.325442\nMathew Ryan                552.806561\nFraser Forster             353.379412\nRobin Olsen                322.950334\nKepa Arrizabalaga          308.117370\nKiko Casilla               166.380359\nBailey Peacock-Farrell     140.274838\nDarren Randolph            134.139691\nAdrián                     128.850738\nCaoimhín Kelleher          108.827152\nJohn Ruddy                  81.336703\nMarek Rodák                 69.025769\nDavid Button                57.173542\nWill Norris                 55.233525\nJoão Virgínia               53.285147\nRúnar Alex Rúnarsson        44.948828\nJack Butland                40.923401\nZack Steffen                33.548127\nScott Carson                23.674218\nWilly Caballero             15.748839\nName: Rating_gk, dtype: float64"
     },
     "execution_count": 14,
     "metadata": {},
     "output_type": "execute_result"
    }
   ],
   "source": [
    "#Goalkeeper Rating\n",
    "PL2020_keepers['Rating_gk'] = ((PL2020_keepers['psxg_gk'] - PL2020_keepers['goals_against_gk'])*8.066670338)+(PL2020_keepers['save_pct']/100*2.556904605) + (PL2020_keepers['goals_against_gk']*-5.915922982)  +(PL2020_keepers['saves']*8.969594364) + (PL2020_keepers['pct_passes_launched_gk']/100*7.810097531) + (PL2020_keepers['psxg_gk']*0.985661108) + (PL2020_keepers['def_actions_outside_pen_area_gk']*1.522476572)+ (PL2020_keepers['passes_gk']*0.228727318)\n",
    "\n",
    "\n",
    "OldMax = PL2020_keepers['Rating_gk'].max()\n",
    "OldMin = PL2020_keepers['Rating_gk'].min()\n",
    "NewMax = 100\n",
    "NewMin = 0\n",
    "\n",
    "\n",
    "OldRange = (OldMax - OldMin)\n",
    "NewRange = (NewMax - NewMin)\n",
    "PL2020_keepers['Rating_gk'] = (((PL2020_keepers['Rating_gk'] - OldMin) * NewRange) / OldRange) + NewMin\n",
    "gk21 = PL2020_keepers.groupby(['player']).sum()['Rating_gk']\n",
    "keeper_strength = gk21.sort_values(ascending=False)\n",
    "keeper_strength"
   ],
   "metadata": {
    "collapsed": false,
    "pycharm": {
     "name": "#%%\n"
    }
   }
  },
  {
   "cell_type": "code",
   "execution_count": 15,
   "outputs": [],
   "source": [
    "# gk_ga = PL2020_keepers.groupby(['player']).sum()['goals_against_gk']\n",
    "# gk_saves = PL2020_keepers.groupby(['player']).sum()['saves']\n",
    "# psxg_gk = PL2020_keepers.groupby(['player']).sum()['psxg_gk']\n",
    "# save_pct = PL2020_keepers.groupby(['player']).mean()['save_pct']\n",
    "# pct_passes_launched_gk = PL2020_keepers.groupby(['player']).mean()['pct_passes_launched_gk']\n",
    "# passes_gk = PL2020_keepers.groupby(['player']).sum()['passes_gk']\n",
    "# def_actions_outside_pen_area_gk = PL2020_keepers.groupby(['player']).sum()['def_actions_outside_pen_area_gk']\n",
    "# gk_total = pd.merge(gk_ga, gk_saves , on='player', how='left')\n",
    "# gk_total = pd.merge(gk_total,psxg_gk , on='player', how='left')\n",
    "# gk_total = pd.merge(gk_total,save_pct , on='player', how='left')\n",
    "# gk_total = pd.merge(gk_total,pct_passes_launched_gk , on='player', how='left')\n",
    "# gk_total = pd.merge(gk_total,passes_gk , on='player', how='left')\n",
    "# gk_total = pd.merge(gk_total,def_actions_outside_pen_area_gk , on='player', how='left')\n",
    "# gk_total ['diff'] = gk_total['psxg_gk'] - gk_total['goals_against_gk']\n",
    "# gk_total\n"
   ],
   "metadata": {
    "collapsed": false,
    "pycharm": {
     "name": "#%%\n"
    }
   }
  },
  {
   "cell_type": "code",
   "execution_count": 16,
   "outputs": [],
   "source": [
    "#gk_total.to_excel('gk_total.xlsx')"
   ],
   "metadata": {
    "collapsed": false,
    "pycharm": {
     "name": "#%%\n"
    }
   }
  },
  {
   "cell_type": "code",
   "execution_count": 17,
   "outputs": [],
   "source": [
    "#split df in dfs for each player group\n",
    "Defenders = PL2020_players.drop(PL2020_players[PL2020_players.category != 'Defender'].index)\n",
    "Midfielders = PL2020_players.drop(PL2020_players[PL2020_players.category != 'Midfield'].index)\n",
    "Forwards = PL2020_players.drop(PL2020_players[PL2020_players.category != 'Forward'].index)"
   ],
   "metadata": {
    "collapsed": false,
    "pycharm": {
     "name": "#%%\n"
    }
   }
  },
  {
   "cell_type": "code",
   "execution_count": 18,
   "outputs": [
    {
     "data": {
      "text/plain": "player\nAndrew Robertson          1719.146091\nLuke Ayling               1683.875550\nTrent Alexander-Arnold    1592.473307\nAaron Wan-Bissaka         1435.635323\nRúben Dias                1422.795049\n                             ...     \nDan Nlundulu                 2.178251\nAllan Tchaptchet             0.757402\nDwight Gayle                 0.750528\nWilliam Thomas Fish          0.253613\nFemi Seriki                  0.000000\nName: Rating_df, Length: 266, dtype: float64"
     },
     "execution_count": 18,
     "metadata": {},
     "output_type": "execute_result"
    }
   ],
   "source": [
    "#Defender Rating\n",
    "Defenders['Rating_df'] = (Defenders['tackles']*6.141939015)+(Defenders['progressive_carries']*9.4230058) + (Defenders['progressive_passes']*1) + (Defenders['assists']*7.661351766)+ (Defenders['passes']*1.013737739) + (Defenders['interceptions']*1) + (Defenders['blocks']*1.526323093)  +(Defenders['pressures']*1)  + (Defenders['goals']*4.536477348)   + (Defenders['passes_pct']/100*7.693134296)\n",
    "\n",
    "\n",
    "OldMax = Defenders['Rating_df'].max()\n",
    "OldMin = Defenders['Rating_df'].min()\n",
    "NewMax = 100\n",
    "NewMin = 0\n",
    "\n",
    "\n",
    "OldRange = (OldMax - OldMin)\n",
    "NewRange = (NewMax - NewMin)\n",
    "Defenders['Rating_df'] = (((Defenders['Rating_df'] - OldMin) * NewRange) / OldRange) + NewMin\n",
    "df21 = Defenders.groupby(['player']).sum()['Rating_df']\n",
    "df21_t = Defenders.groupby(['Team']).sum()['Rating_df']\n",
    "defender_strength = df21.sort_values(ascending=False)\n",
    "defender_strength_t = df21_t.sort_values(ascending=False)\n",
    "defender_strength"
   ],
   "metadata": {
    "collapsed": false,
    "pycharm": {
     "name": "#%%\n"
    }
   }
  },
  {
   "cell_type": "code",
   "execution_count": 19,
   "outputs": [],
   "source": [
    "# def_tackl = Defenders.groupby(['player']).sum()['tackles']\n",
    "# def_prog_car = Defenders.groupby(['player']).sum()['progressive_carries']\n",
    "# def_prog_pas = Defenders.groupby(['player']).sum()['progressive_passes']\n",
    "# def_ast = Defenders.groupby(['player']).sum()['assists']\n",
    "# def_pas = Defenders.groupby(['player']).sum()['passes']\n",
    "# def_int = Defenders.groupby(['player']).sum()['interceptions']\n",
    "# def_blk = Defenders.groupby(['player']).sum()['blocks']\n",
    "# def_pres = Defenders.groupby(['player']).sum()['pressures']\n",
    "# def_gol = Defenders.groupby(['player']).sum()['goals']\n",
    "# def_pas_pct = Defenders.groupby(['player']).mean()['passes_pct']\n",
    "# def_total = pd.merge(def_tackl, def_prog_car , on='player', how='left')\n",
    "# def_total = pd.merge(def_total,def_prog_pas , on='player', how='left')\n",
    "# def_total = pd.merge(def_total,def_ast , on='player', how='left')\n",
    "# def_total = pd.merge(def_total,def_pas , on='player', how='left')\n",
    "# def_total = pd.merge(def_total,def_int , on='player', how='left')\n",
    "# def_total = pd.merge(def_total,def_blk , on='player', how='left')\n",
    "# def_total = pd.merge(def_total,def_pres , on='player', how='left')\n",
    "# def_total = pd.merge(def_total,def_gol , on='player', how='left')\n",
    "# def_total = pd.merge(def_total,def_pas_pct , on='player', how='left')\n",
    "#\n",
    "# def_total\n"
   ],
   "metadata": {
    "collapsed": false,
    "pycharm": {
     "name": "#%%\n"
    }
   }
  },
  {
   "cell_type": "code",
   "execution_count": 20,
   "outputs": [],
   "source": [
    "#def_total.to_excel('def_total.xlsx')"
   ],
   "metadata": {
    "collapsed": false,
    "pycharm": {
     "name": "#%%\n"
    }
   }
  },
  {
   "cell_type": "code",
   "execution_count": 21,
   "outputs": [
    {
     "data": {
      "text/plain": "player\nBruno Fernandes    1587.101964\nKevin De Bruyne    1194.061209\nYouri Tielemans    1053.138430\nJohn McGinn        1031.522981\nJack Harrison      1020.042191\n                      ...     \nFernando Marçal       0.000000\nCédric Soares         0.000000\nGareth Bale           0.000000\nLee Peltier           0.000000\nWes Morgan            0.000000\nName: Rating_mf, Length: 295, dtype: float64"
     },
     "execution_count": 21,
     "metadata": {},
     "output_type": "execute_result"
    }
   ],
   "source": [
    "#Midfield Rating\n",
    "Midfielders['Rating_mf'] = (Midfielders['assists']*9.896093302)+(Midfielders['goals']*8.24545131) + (Midfielders['progressive_passes']*1) + (Midfielders['progressive_carries']*1) + (Midfielders['gca']*9.974429519)  +(Midfielders['pressures']*1)  + (Midfielders['sca']*10)   + (Midfielders['dribbles_completed']*1.558838612)\n",
    "#Midfielders['Rating_mf'] = (Midfielders['passes_pct'])\n",
    "\n",
    "OldMax = Midfielders['Rating_mf'].max()\n",
    "OldMin = Midfielders['Rating_mf'].min()\n",
    "NewMax = 100\n",
    "NewMin = 0\n",
    "\n",
    "\n",
    "OldRange = (OldMax - OldMin)\n",
    "NewRange = (NewMax - NewMin)\n",
    "Midfielders['Rating_mf'] = (((Midfielders['Rating_mf'] - OldMin) * NewRange) / OldRange) + NewMin\n",
    "mf21 = Midfielders.groupby(['player']).sum()['Rating_mf']\n",
    "mf21_t = Midfielders.groupby(['Team']).sum()['Rating_mf']\n",
    "midfield_strength = mf21.sort_values(ascending=False)\n",
    "midfield_strength_t = mf21_t.sort_values(ascending=False)\n",
    "midfield_strength"
   ],
   "metadata": {
    "collapsed": false,
    "pycharm": {
     "name": "#%%\n"
    }
   }
  },
  {
   "cell_type": "code",
   "execution_count": 22,
   "outputs": [],
   "source": [
    "# mid_as = Midfielders.groupby(['player']).sum()['assists']\n",
    "# mid_gol = Midfielders.groupby(['player']).sum()['goals']\n",
    "# mid_prog_pas = Midfielders.groupby(['player']).sum()['progressive_passes']\n",
    "# mid_prog_car = Midfielders.groupby(['player']).sum()['progressive_carries']\n",
    "# mid_gca = Midfielders.groupby(['player']).sum()['gca']\n",
    "# mid_sca = Midfielders.groupby(['player']).sum()['sca']\n",
    "# mid_drb = Midfielders.groupby(['player']).sum()['dribbles_completed']\n",
    "# mid_pres = Midfielders.groupby(['player']).sum()['pressures']\n",
    "# mid_total = pd.merge(mid_as, mid_gol , on='player', how='left')\n",
    "# mid_total = pd.merge(mid_total,mid_prog_pas , on='player', how='left')\n",
    "# mid_total = pd.merge(mid_total,mid_prog_car , on='player', how='left')\n",
    "# mid_total = pd.merge(mid_total,mid_gca , on='player', how='left')\n",
    "# mid_total = pd.merge(mid_total,mid_sca , on='player', how='left')\n",
    "# mid_total = pd.merge(mid_total,mid_drb , on='player', how='left')\n",
    "# mid_total = pd.merge(mid_total,mid_pres , on='player', how='left')\n",
    "#\n",
    "# mid_total"
   ],
   "metadata": {
    "collapsed": false,
    "pycharm": {
     "name": "#%%\n"
    }
   }
  },
  {
   "cell_type": "code",
   "execution_count": 23,
   "outputs": [],
   "source": [
    "#mid_total.to_excel('mid_total.xlsx')"
   ],
   "metadata": {
    "collapsed": false,
    "pycharm": {
     "name": "#%%\n"
    }
   }
  },
  {
   "cell_type": "code",
   "execution_count": 24,
   "outputs": [
    {
     "data": {
      "text/plain": "player\nHarry Kane           1756.958467\nSon Heung-min        1541.501485\nMohamed Salah        1532.329254\nMarcus Rashford      1466.069382\nOllie Watkins        1421.496524\n                        ...     \nNélson Semedo          11.105408\nLiam Cooper            11.105408\nİlkay Gündoğan         11.105408\nAntwoine Hackford      10.179957\nDemarai Gray           10.179957\nName: Rating_fw, Length: 248, dtype: float64"
     },
     "execution_count": 24,
     "metadata": {},
     "output_type": "execute_result"
    }
   ],
   "source": [
    "#Forward Rating\n",
    "Forwards['Rating_fw'] = (Forwards['goals']*5.701406026)+(Forwards['assists']*1.185545635) + ((Forwards['goals'] - Forwards['xg'])*5.509198531) + ((Forwards['assists'] - Forwards['xa'])*6.255697541) + (Forwards['gca']*4.072354183) + (Forwards['sca']*2.413883824) + (Forwards['shots_on_target']*5.056112447)\n",
    "#Forwards['Rating_fw'] = (Forwards['dribbles'])\n",
    "\n",
    "OldMax = Forwards['Rating_fw'].max()\n",
    "OldMin = Forwards['Rating_fw'].min()\n",
    "NewMax = 100\n",
    "NewMin = 0\n",
    "\n",
    "\n",
    "OldRange = (OldMax - OldMin)\n",
    "NewRange = (NewMax - NewMin)\n",
    "Forwards['Rating_fw'] = ((((Forwards['Rating_fw'] - OldMin) * NewRange) / OldRange) + NewMin)*1.5\n",
    "fw21 = Forwards.groupby(['player']).sum()['Rating_fw']\n",
    "fw21_t = Forwards.groupby(['Team']).sum()['Rating_fw']\n",
    "forward_strength = fw21.sort_values(ascending=False)\n",
    "forward_strength_t = fw21_t.sort_values(ascending=False)\n",
    "forward_strength"
   ],
   "metadata": {
    "collapsed": false,
    "pycharm": {
     "name": "#%%\n"
    }
   }
  },
  {
   "cell_type": "code",
   "execution_count": 25,
   "outputs": [],
   "source": [
    "# fw_gol = Forwards.groupby(['player']).sum()['goals']\n",
    "# fw_as = Forwards.groupby(['player']).sum()['assists']\n",
    "# fw_gca = Forwards.groupby(['player']).sum()['gca']\n",
    "# fw_sca = Forwards.groupby(['player']).sum()['sca']\n",
    "# fw_sot = Forwards.groupby(['player']).sum()['shots_on_target']\n",
    "# fw_xG = Forwards.groupby(['player']).sum()['xg']\n",
    "# fw_xA = Forwards.groupby(['player']).sum()['xa']\n",
    "# fw_total = pd.merge(fw_gol, fw_as , on='player', how='left')\n",
    "# fw_total = pd.merge(fw_total,fw_gca , on='player', how='left')\n",
    "# fw_total = pd.merge(fw_total,fw_sca , on='player', how='left')\n",
    "# fw_total = pd.merge(fw_total,fw_sot , on='player', how='left')\n",
    "# fw_total = pd.merge(fw_total,fw_xG , on='player', how='left')\n",
    "# fw_total = pd.merge(fw_total,fw_xA , on='player', how='left')\n",
    "# fw_total ['goals-xG'] = fw_total['goals'] - fw_total['xg']\n",
    "# fw_total ['asists-xA'] = fw_total['assists'] - fw_total['xa']\n",
    "#\n",
    "# fw_total"
   ],
   "metadata": {
    "collapsed": false,
    "pycharm": {
     "name": "#%%\n"
    }
   }
  },
  {
   "cell_type": "code",
   "execution_count": 26,
   "outputs": [],
   "source": [
    "#fw_total.to_excel('fw_total.xlsx')"
   ],
   "metadata": {
    "collapsed": false,
    "pycharm": {
     "name": "#%%\n"
    }
   }
  }
 ],
 "metadata": {
  "kernelspec": {
   "display_name": "Python 3",
   "language": "python",
   "name": "python3"
  },
  "language_info": {
   "codemirror_mode": {
    "name": "ipython",
    "version": 2
   },
   "file_extension": ".py",
   "mimetype": "text/x-python",
   "name": "python",
   "nbconvert_exporter": "python",
   "pygments_lexer": "ipython2",
   "version": "2.7.6"
  }
 },
 "nbformat": 4,
 "nbformat_minor": 0
}