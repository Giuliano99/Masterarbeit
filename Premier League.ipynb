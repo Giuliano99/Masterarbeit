{
 "cells": [
  {
   "cell_type": "code",
   "execution_count": 1,
   "metadata": {
    "collapsed": true
   },
   "outputs": [],
   "source": [
    "#import necessary packages\n",
    "import pandas as pd"
   ]
  },
  {
   "cell_type": "code",
   "execution_count": 41,
   "outputs": [],
   "source": [
    "#import player data\n",
    "PL2019_keepers = pd.read_csv('PL2019_keepers.csv')\n",
    "PL2019_players = pd.read_csv('PL2019_players.csv')\n",
    "PL2020_keepers = pd.read_csv('PL2020_keepers.csv')\n",
    "PL2020_players = pd.read_csv('PL2020_players.csv')\n",
    "PL2021_keepers = pd.read_csv('PL2021_keepers.csv')\n",
    "PL2021_players = pd.read_csv('PL2021_players.csv')"
   ],
   "metadata": {
    "collapsed": false,
    "pycharm": {
     "name": "#%%\n"
    }
   }
  },
  {
   "cell_type": "code",
   "execution_count": 42,
   "outputs": [
    {
     "data": {
      "text/plain": "              player  minutes     age  gk_shots_on_target_against  \\\n0         David Raya     90.0  25-332                         4.0   \n1         Bernd Leno     90.0  29-162                         3.0   \n2       David de Gea     90.0  30-280                         3.0   \n3      Illan Meslier     90.0  21-165                         8.0   \n4    Daniel Bachmann     90.0  27-036                         1.0   \n..               ...      ...     ...                         ...   \n758       John Ruddy     45.0  35-210                         5.0   \n759          Ederson     90.0  28-278                         2.0   \n760      Robin Olsen     90.0  32-134                         5.0   \n761    Edouard Mendy     90.0  30-082                         3.0   \n762  Daniel Bachmann     90.0  27-317                         8.0   \n\n     gk_goals_against  gk_saves  gk_save_pct  gk_psxg  \\\n0                 0.0       4.0        100.0      0.4   \n1                 2.0       1.0         33.3      0.9   \n2                 1.0       2.0         66.7      0.6   \n3                 5.0       3.0         37.5      1.9   \n4                 2.0       0.0          0.0      1.5   \n..                ...       ...          ...      ...   \n758               2.0       3.0         60.0      1.4   \n759               2.0       0.0          0.0      0.7   \n760               3.0       2.0         40.0      2.6   \n761               1.0       2.0         66.7      1.1   \n762               2.0       6.0         75.0      2.3   \n\n     gk_passes_completed_launched  gk_passes  gk_passes_throws  \\\n0                            10.0       35.0               5.0   \n1                             3.0       26.0               3.0   \n2                             9.0       23.0               3.0   \n3                             8.0       38.0              10.0   \n4                             7.0       24.0               5.0   \n..                            ...        ...               ...   \n758                           2.0        7.0               1.0   \n759                           9.0       22.0               3.0   \n760                          11.0       28.0               6.0   \n761                           2.0       21.0               3.0   \n762                           9.0       22.0               4.0   \n\n     gk_pct_passes_launched  gk_def_actions_outside_pen_area  \\\n0                      60.0                              0.0   \n1                      19.2                              0.0   \n2                      17.4                              0.0   \n3                      42.1                              1.0   \n4                      50.0                              0.0   \n..                      ...                              ...   \n758                    85.7                              0.0   \n759                    36.4                              0.0   \n760                    64.3                              0.0   \n761                     9.5                              2.0   \n762                    59.1                              0.0   \n\n                        Team  matchweek        date position  \n0                  Brentford        1.0  2021-08-13       GK  \n1                    Arsenal        1.0  2021-08-13       GK  \n2          Manchester United        1.0  2021-08-14       GK  \n3               Leeds United        1.0  2021-08-14       GK  \n4                    Watford        1.0  2021-08-14       GK  \n..                       ...        ...         ...      ...  \n758  Wolverhampton Wanderers       38.0  2022-05-22       GK  \n759          Manchester City       38.0  2022-05-22       GK  \n760              Aston Villa       38.0  2022-05-22       GK  \n761                  Chelsea       38.0  2022-05-22       GK  \n762                  Watford       38.0  2022-05-22       GK  \n\n[763 rows x 17 columns]",
      "text/html": "<div>\n<style scoped>\n    .dataframe tbody tr th:only-of-type {\n        vertical-align: middle;\n    }\n\n    .dataframe tbody tr th {\n        vertical-align: top;\n    }\n\n    .dataframe thead th {\n        text-align: right;\n    }\n</style>\n<table border=\"1\" class=\"dataframe\">\n  <thead>\n    <tr style=\"text-align: right;\">\n      <th></th>\n      <th>player</th>\n      <th>minutes</th>\n      <th>age</th>\n      <th>gk_shots_on_target_against</th>\n      <th>gk_goals_against</th>\n      <th>gk_saves</th>\n      <th>gk_save_pct</th>\n      <th>gk_psxg</th>\n      <th>gk_passes_completed_launched</th>\n      <th>gk_passes</th>\n      <th>gk_passes_throws</th>\n      <th>gk_pct_passes_launched</th>\n      <th>gk_def_actions_outside_pen_area</th>\n      <th>Team</th>\n      <th>matchweek</th>\n      <th>date</th>\n      <th>position</th>\n    </tr>\n  </thead>\n  <tbody>\n    <tr>\n      <th>0</th>\n      <td>David Raya</td>\n      <td>90.0</td>\n      <td>25-332</td>\n      <td>4.0</td>\n      <td>0.0</td>\n      <td>4.0</td>\n      <td>100.0</td>\n      <td>0.4</td>\n      <td>10.0</td>\n      <td>35.0</td>\n      <td>5.0</td>\n      <td>60.0</td>\n      <td>0.0</td>\n      <td>Brentford</td>\n      <td>1.0</td>\n      <td>2021-08-13</td>\n      <td>GK</td>\n    </tr>\n    <tr>\n      <th>1</th>\n      <td>Bernd Leno</td>\n      <td>90.0</td>\n      <td>29-162</td>\n      <td>3.0</td>\n      <td>2.0</td>\n      <td>1.0</td>\n      <td>33.3</td>\n      <td>0.9</td>\n      <td>3.0</td>\n      <td>26.0</td>\n      <td>3.0</td>\n      <td>19.2</td>\n      <td>0.0</td>\n      <td>Arsenal</td>\n      <td>1.0</td>\n      <td>2021-08-13</td>\n      <td>GK</td>\n    </tr>\n    <tr>\n      <th>2</th>\n      <td>David de Gea</td>\n      <td>90.0</td>\n      <td>30-280</td>\n      <td>3.0</td>\n      <td>1.0</td>\n      <td>2.0</td>\n      <td>66.7</td>\n      <td>0.6</td>\n      <td>9.0</td>\n      <td>23.0</td>\n      <td>3.0</td>\n      <td>17.4</td>\n      <td>0.0</td>\n      <td>Manchester United</td>\n      <td>1.0</td>\n      <td>2021-08-14</td>\n      <td>GK</td>\n    </tr>\n    <tr>\n      <th>3</th>\n      <td>Illan Meslier</td>\n      <td>90.0</td>\n      <td>21-165</td>\n      <td>8.0</td>\n      <td>5.0</td>\n      <td>3.0</td>\n      <td>37.5</td>\n      <td>1.9</td>\n      <td>8.0</td>\n      <td>38.0</td>\n      <td>10.0</td>\n      <td>42.1</td>\n      <td>1.0</td>\n      <td>Leeds United</td>\n      <td>1.0</td>\n      <td>2021-08-14</td>\n      <td>GK</td>\n    </tr>\n    <tr>\n      <th>4</th>\n      <td>Daniel Bachmann</td>\n      <td>90.0</td>\n      <td>27-036</td>\n      <td>1.0</td>\n      <td>2.0</td>\n      <td>0.0</td>\n      <td>0.0</td>\n      <td>1.5</td>\n      <td>7.0</td>\n      <td>24.0</td>\n      <td>5.0</td>\n      <td>50.0</td>\n      <td>0.0</td>\n      <td>Watford</td>\n      <td>1.0</td>\n      <td>2021-08-14</td>\n      <td>GK</td>\n    </tr>\n    <tr>\n      <th>...</th>\n      <td>...</td>\n      <td>...</td>\n      <td>...</td>\n      <td>...</td>\n      <td>...</td>\n      <td>...</td>\n      <td>...</td>\n      <td>...</td>\n      <td>...</td>\n      <td>...</td>\n      <td>...</td>\n      <td>...</td>\n      <td>...</td>\n      <td>...</td>\n      <td>...</td>\n      <td>...</td>\n      <td>...</td>\n    </tr>\n    <tr>\n      <th>758</th>\n      <td>John Ruddy</td>\n      <td>45.0</td>\n      <td>35-210</td>\n      <td>5.0</td>\n      <td>2.0</td>\n      <td>3.0</td>\n      <td>60.0</td>\n      <td>1.4</td>\n      <td>2.0</td>\n      <td>7.0</td>\n      <td>1.0</td>\n      <td>85.7</td>\n      <td>0.0</td>\n      <td>Wolverhampton Wanderers</td>\n      <td>38.0</td>\n      <td>2022-05-22</td>\n      <td>GK</td>\n    </tr>\n    <tr>\n      <th>759</th>\n      <td>Ederson</td>\n      <td>90.0</td>\n      <td>28-278</td>\n      <td>2.0</td>\n      <td>2.0</td>\n      <td>0.0</td>\n      <td>0.0</td>\n      <td>0.7</td>\n      <td>9.0</td>\n      <td>22.0</td>\n      <td>3.0</td>\n      <td>36.4</td>\n      <td>0.0</td>\n      <td>Manchester City</td>\n      <td>38.0</td>\n      <td>2022-05-22</td>\n      <td>GK</td>\n    </tr>\n    <tr>\n      <th>760</th>\n      <td>Robin Olsen</td>\n      <td>90.0</td>\n      <td>32-134</td>\n      <td>5.0</td>\n      <td>3.0</td>\n      <td>2.0</td>\n      <td>40.0</td>\n      <td>2.6</td>\n      <td>11.0</td>\n      <td>28.0</td>\n      <td>6.0</td>\n      <td>64.3</td>\n      <td>0.0</td>\n      <td>Aston Villa</td>\n      <td>38.0</td>\n      <td>2022-05-22</td>\n      <td>GK</td>\n    </tr>\n    <tr>\n      <th>761</th>\n      <td>Edouard Mendy</td>\n      <td>90.0</td>\n      <td>30-082</td>\n      <td>3.0</td>\n      <td>1.0</td>\n      <td>2.0</td>\n      <td>66.7</td>\n      <td>1.1</td>\n      <td>2.0</td>\n      <td>21.0</td>\n      <td>3.0</td>\n      <td>9.5</td>\n      <td>2.0</td>\n      <td>Chelsea</td>\n      <td>38.0</td>\n      <td>2022-05-22</td>\n      <td>GK</td>\n    </tr>\n    <tr>\n      <th>762</th>\n      <td>Daniel Bachmann</td>\n      <td>90.0</td>\n      <td>27-317</td>\n      <td>8.0</td>\n      <td>2.0</td>\n      <td>6.0</td>\n      <td>75.0</td>\n      <td>2.3</td>\n      <td>9.0</td>\n      <td>22.0</td>\n      <td>4.0</td>\n      <td>59.1</td>\n      <td>0.0</td>\n      <td>Watford</td>\n      <td>38.0</td>\n      <td>2022-05-22</td>\n      <td>GK</td>\n    </tr>\n  </tbody>\n</table>\n<p>763 rows × 17 columns</p>\n</div>"
     },
     "execution_count": 42,
     "metadata": {},
     "output_type": "execute_result"
    }
   ],
   "source": [
    "PL2021_keepers"
   ],
   "metadata": {
    "collapsed": false,
    "pycharm": {
     "name": "#%%\n"
    }
   }
  },
  {
   "cell_type": "code",
   "execution_count": 45,
   "outputs": [
    {
     "data": {
      "text/plain": "player\nSam Johnstone             2091.372054\nEmiliano Martínez         2058.119541\nAaron Ramsdale            2026.029195\nIllan Meslier             1882.776437\nHugo Lloris               1848.701233\nAlphonse Areola           1805.062129\nNick Pope                 1771.324316\nVicente Guaita            1711.448504\nKasper Schmeichel         1687.675909\nŁukasz Fabiański          1669.865992\nRui Patrício              1623.920552\nAlisson                   1599.681014\nBernd Leno                1590.669614\nJordan Pickford           1544.800591\nEderson                   1537.454055\nAlex McCarthy             1385.192552\nEdouard Mendy             1315.387235\nRobert Sánchez            1297.367177\nKarl Darlow               1194.138343\nDavid de Gea              1096.817509\nMartin Dúbravka            642.768326\nDean Henderson             633.325442\nMathew Ryan                552.806561\nFraser Forster             353.379412\nRobin Olsen                322.950334\nKepa Arrizabalaga          308.117370\nKiko Casilla               166.380359\nBailey Peacock-Farrell     140.274838\nDarren Randolph            134.139691\nAdrián                     128.850738\nCaoimhín Kelleher          108.827152\nJohn Ruddy                  81.336703\nMarek Rodák                 69.025769\nDavid Button                57.173542\nWill Norris                 55.233525\nJoão Virgínia               53.285147\nRúnar Alex Rúnarsson        44.948828\nJack Butland                40.923401\nZack Steffen                33.548127\nScott Carson                23.674218\nWilly Caballero             15.748839\nName: Rating, dtype: float64"
     },
     "execution_count": 45,
     "metadata": {},
     "output_type": "execute_result"
    }
   ],
   "source": [
    "#Goalkeeper Rating\n",
    "def calculate_gk_rating(df):\n",
    "    df['Rating'] = ((df['gk_psxg'] - df['gk_goals_against'])*8.066670338)+(df['gk_save_pct']/100*2.556904605) + (df['gk_goals_against']*-5.915922982)  +(df['gk_saves']*8.969594364) + (df['gk_pct_passes_launched']/100*7.810097531) + (df['gk_psxg']*0.985661108) + (df['gk_def_actions_outside_pen_area']*1.522476572)+ (df['gk_passes']*0.228727318)\n",
    "\n",
    "\n",
    "    OldMax = df['Rating'].max()\n",
    "    OldMin = df['Rating'].min()\n",
    "    NewMax = 100\n",
    "    NewMin = 0\n",
    "\n",
    "\n",
    "    OldRange = (OldMax - OldMin)\n",
    "    NewRange = (NewMax - NewMin)\n",
    "    df['Rating'] = (((df['Rating'] - OldMin) * NewRange) / OldRange) + NewMin\n",
    "    return df\n",
    "\n",
    "PL2019_keepers = calculate_gk_rating(PL2019_keepers)\n",
    "PL2020_keepers = calculate_gk_rating(PL2020_keepers)\n",
    "PL2021_keepers = calculate_gk_rating(PL2021_keepers)\n",
    "\n",
    "\n",
    "gk21 = PL2020_keepers.groupby(['player']).sum()['Rating']\n",
    "keeper_strength = gk21.sort_values(ascending=False)\n",
    "keeper_strength"
   ],
   "metadata": {
    "collapsed": false,
    "pycharm": {
     "name": "#%%\n"
    }
   }
  },
  {
   "cell_type": "code",
   "execution_count": 13,
   "outputs": [],
   "source": [
    "# gk_ga = PL2020_keepers.groupby(['player']).sum()['goals_against_gk']\n",
    "# gk_saves = PL2020_keepers.groupby(['player']).sum()['saves']\n",
    "# psxg_gk = PL2020_keepers.groupby(['player']).sum()['psxg_gk']\n",
    "# save_pct = PL2020_keepers.groupby(['player']).mean()['save_pct']\n",
    "# pct_passes_launched_gk = PL2020_keepers.groupby(['player']).mean()['pct_passes_launched_gk']\n",
    "# passes_gk = PL2020_keepers.groupby(['player']).sum()['passes_gk']\n",
    "# def_actions_outside_pen_area_gk = PL2020_keepers.groupby(['player']).sum()['def_actions_outside_pen_area_gk']\n",
    "# gk_total = pd.merge(gk_ga, gk_saves , on='player', how='left')\n",
    "# gk_total = pd.merge(gk_total,psxg_gk , on='player', how='left')\n",
    "# gk_total = pd.merge(gk_total,save_pct , on='player', how='left')\n",
    "# gk_total = pd.merge(gk_total,pct_passes_launched_gk , on='player', how='left')\n",
    "# gk_total = pd.merge(gk_total,passes_gk , on='player', how='left')\n",
    "# gk_total = pd.merge(gk_total,def_actions_outside_pen_area_gk , on='player', how='left')\n",
    "# gk_total ['diff'] = gk_total['psxg_gk'] - gk_total['goals_against_gk']\n",
    "# gk_total\n"
   ],
   "metadata": {
    "collapsed": false,
    "pycharm": {
     "name": "#%%\n"
    }
   }
  },
  {
   "cell_type": "code",
   "execution_count": 14,
   "outputs": [],
   "source": [
    "#gk_total.to_excel('gk_total.xlsx')"
   ],
   "metadata": {
    "collapsed": false,
    "pycharm": {
     "name": "#%%\n"
    }
   }
  },
  {
   "cell_type": "code",
   "execution_count": 46,
   "outputs": [],
   "source": [
    "#split df in dfs for each player group\n",
    "def split_player_groups(df):\n",
    "    Defenders = df.drop(df[df.category != 'Defender'].index)\n",
    "    Midfielders = df.drop(df[df.category != 'Midfield'].index)\n",
    "    Forwards = df.drop(df[df.category != 'Forward'].index)\n",
    "    return Defenders, Midfielders, Forwards\n",
    "\n",
    "Defenders_19, Midfielders_19, Forwards_19 = split_player_groups(PL2019_players)\n",
    "Defenders_20, Midfielders_20, Forwards_20 = split_player_groups(PL2020_players)\n",
    "Defenders_21, Midfielders_21, Forwards_21 = split_player_groups(PL2021_players)\n"
   ],
   "metadata": {
    "collapsed": false,
    "pycharm": {
     "name": "#%%\n"
    }
   }
  },
  {
   "cell_type": "code",
   "execution_count": 53,
   "outputs": [
    {
     "data": {
      "text/plain": "player\nAndrew Robertson          1719.146091\nLuke Ayling               1683.875550\nTrent Alexander-Arnold    1592.473307\nAaron Wan-Bissaka         1435.635323\nRúben Dias                1422.795049\n                             ...     \nDan Nlundulu                 2.178251\nAllan Tchaptchet             0.757402\nDwight Gayle                 0.750528\nWilliam Thomas Fish          0.253613\nFemi Seriki                  0.000000\nName: Rating, Length: 266, dtype: float64"
     },
     "execution_count": 53,
     "metadata": {},
     "output_type": "execute_result"
    }
   ],
   "source": [
    "#Defender Rating\n",
    "def calculate_df_rating(df):\n",
    "    df['Rating'] = (df['tackles']*6.141939015)+(df['progressive_carries']*9.4230058) + (df['progressive_passes']*1) + (df['assists']*7.661351766)+ (df['passes']*1.013737739) + (df['interceptions']*1) + (df['blocks']*1.526323093)  +(df['pressures']*1)  + (df['goals']*4.536477348)   + (df['passes_pct']/100*7.693134296)\n",
    "\n",
    "\n",
    "    OldMax = df['Rating'].max()\n",
    "    OldMin = df['Rating'].min()\n",
    "    NewMax = 100\n",
    "    NewMin = 0\n",
    "\n",
    "\n",
    "    OldRange = (OldMax - OldMin)\n",
    "    NewRange = (NewMax - NewMin)\n",
    "    df['Rating'] = (((df['Rating'] - OldMin) * NewRange) / OldRange) + NewMin\n",
    "    return df\n",
    "\n",
    "Defenders_19 = calculate_df_rating(Defenders_19)\n",
    "Defenders_20 = calculate_df_rating(Defenders_20)\n",
    "Defenders_21 = calculate_df_rating(Defenders_21)\n",
    "\n",
    "\n",
    "df21 = Defenders_20.groupby(['player']).sum()['Rating']\n",
    "df21_t = Defenders_20.groupby(['Team']).sum()['Rating']\n",
    "defender_strength = df21.sort_values(ascending=False)\n",
    "defender_strength_t = df21_t.sort_values(ascending=False)\n",
    "defender_strength"
   ],
   "metadata": {
    "collapsed": false,
    "pycharm": {
     "name": "#%%\n"
    }
   }
  },
  {
   "cell_type": "code",
   "execution_count": 31,
   "outputs": [],
   "source": [
    "# def_tackl = Defenders.groupby(['player']).sum()['tackles']\n",
    "# def_prog_car = Defenders.groupby(['player']).sum()['progressive_carries']\n",
    "# def_prog_pas = Defenders.groupby(['player']).sum()['progressive_passes']\n",
    "# def_ast = Defenders.groupby(['player']).sum()['assists']\n",
    "# def_pas = Defenders.groupby(['player']).sum()['passes']\n",
    "# def_int = Defenders.groupby(['player']).sum()['interceptions']\n",
    "# def_blk = Defenders.groupby(['player']).sum()['blocks']\n",
    "# def_pres = Defenders.groupby(['player']).sum()['pressures']\n",
    "# def_gol = Defenders.groupby(['player']).sum()['goals']\n",
    "# def_pas_pct = Defenders.groupby(['player']).mean()['passes_pct']\n",
    "# def_total = pd.merge(def_tackl, def_prog_car , on='player', how='left')\n",
    "# def_total = pd.merge(def_total,def_prog_pas , on='player', how='left')\n",
    "# def_total = pd.merge(def_total,def_ast , on='player', how='left')\n",
    "# def_total = pd.merge(def_total,def_pas , on='player', how='left')\n",
    "# def_total = pd.merge(def_total,def_int , on='player', how='left')\n",
    "# def_total = pd.merge(def_total,def_blk , on='player', how='left')\n",
    "# def_total = pd.merge(def_total,def_pres , on='player', how='left')\n",
    "# def_total = pd.merge(def_total,def_gol , on='player', how='left')\n",
    "# def_total = pd.merge(def_total,def_pas_pct , on='player', how='left')\n",
    "#\n",
    "# def_total\n"
   ],
   "metadata": {
    "collapsed": false,
    "pycharm": {
     "name": "#%%\n"
    }
   }
  },
  {
   "cell_type": "code",
   "execution_count": 32,
   "outputs": [],
   "source": [
    "#def_total.to_excel('def_total.xlsx')"
   ],
   "metadata": {
    "collapsed": false,
    "pycharm": {
     "name": "#%%\n"
    }
   }
  },
  {
   "cell_type": "code",
   "execution_count": 52,
   "outputs": [
    {
     "data": {
      "text/plain": "player\nMartin Ødegaard      1407.859323\nBruno Fernandes      1383.388836\nKevin De Bruyne      1365.814968\nJames Ward-Prowse    1193.608448\nConor Gallagher      1190.445393\n                        ...     \nDaniel Amartey          0.557725\nShane Duffy             0.000000\nCristian Romero         0.000000\nDaniel Chesters         0.000000\nMatěj Vydra             0.000000\nName: Rating, Length: 282, dtype: float64"
     },
     "execution_count": 52,
     "metadata": {},
     "output_type": "execute_result"
    }
   ],
   "source": [
    "#Midfield Rating\n",
    "def calculate_mf_rating(df):\n",
    "    df['Rating'] = (df['assists']*9.896093302)+(df['goals']*8.24545131) + (df['progressive_passes']*1) + (df['progressive_carries']*1) + (df['gca']*9.974429519)  +(df['pressures']*1)  + (df['sca']*10)   + (df['dribbles_completed']*1.558838612)\n",
    "    #df['Rating'] = (df['passes_pct'])\n",
    "\n",
    "    OldMax = df['Rating'].max()\n",
    "    OldMin = df['Rating'].min()\n",
    "    NewMax = 100\n",
    "    NewMin = 0\n",
    "\n",
    "\n",
    "    OldRange = (OldMax - OldMin)\n",
    "    NewRange = (NewMax - NewMin)\n",
    "    df['Rating'] = (((df['Rating'] - OldMin) * NewRange) / OldRange) + NewMin\n",
    "    return df\n",
    "\n",
    "Midfielders_19 = calculate_mf_rating(Midfielders_19)\n",
    "Midfielders_20 = calculate_mf_rating(Midfielders_20)\n",
    "Midfielders_21 = calculate_mf_rating(Midfielders_21)\n",
    "\n",
    "\n",
    "mf21 = Midfielders_21.groupby(['player']).sum()['Rating']\n",
    "mf21_t = Midfielders_20.groupby(['Team']).sum()['Rating']\n",
    "midfield_strength = mf21.sort_values(ascending=False)\n",
    "midfield_strength_t = mf21_t.sort_values(ascending=False)\n",
    "midfield_strength\n",
    "\n"
   ],
   "metadata": {
    "collapsed": false,
    "pycharm": {
     "name": "#%%\n"
    }
   }
  },
  {
   "cell_type": "code",
   "execution_count": 34,
   "outputs": [],
   "source": [
    "# mid_as = Midfielders.groupby(['player']).sum()['assists']\n",
    "# mid_gol = Midfielders.groupby(['player']).sum()['goals']\n",
    "# mid_prog_pas = Midfielders.groupby(['player']).sum()['progressive_passes']\n",
    "# mid_prog_car = Midfielders.groupby(['player']).sum()['progressive_carries']\n",
    "# mid_gca = Midfielders.groupby(['player']).sum()['gca']\n",
    "# mid_sca = Midfielders.groupby(['player']).sum()['sca']\n",
    "# mid_drb = Midfielders.groupby(['player']).sum()['dribbles_completed']\n",
    "# mid_pres = Midfielders.groupby(['player']).sum()['pressures']\n",
    "# mid_total = pd.merge(mid_as, mid_gol , on='player', how='left')\n",
    "# mid_total = pd.merge(mid_total,mid_prog_pas , on='player', how='left')\n",
    "# mid_total = pd.merge(mid_total,mid_prog_car , on='player', how='left')\n",
    "# mid_total = pd.merge(mid_total,mid_gca , on='player', how='left')\n",
    "# mid_total = pd.merge(mid_total,mid_sca , on='player', how='left')\n",
    "# mid_total = pd.merge(mid_total,mid_drb , on='player', how='left')\n",
    "# mid_total = pd.merge(mid_total,mid_pres , on='player', how='left')\n",
    "#\n",
    "# mid_total"
   ],
   "metadata": {
    "collapsed": false,
    "pycharm": {
     "name": "#%%\n"
    }
   }
  },
  {
   "cell_type": "code",
   "execution_count": 35,
   "outputs": [
    {
     "data": {
      "text/plain": "                           player  shirtnumber nationality position     age  \\\n0                Aboubakar Kamara         47.0      mr MTN       FW  25-189   \n1             Aleksandar Mitrović          9.0      rs SRB       FW  25-362   \n2                  Ivan Cavaleiro         17.0      pt POR       LW  26-330   \n3                 Neeskens Kebano          7.0      cd COD       RW  28-186   \n4      Andre-Frank Zambo Anguissa         29.0      cm CMR       RW  24-301   \n...                           ...          ...         ...      ...     ...   \n10369                Jarrod Bowen         20.0     eng ENG       RW  24-154   \n10380             Takumi Minamino         19.0      jp JPN       FW  26-127   \n10381                Nathan Tella         23.0     eng ENG       FW  21-322   \n10382                  Danny Ings          9.0     eng ENG       FW  28-304   \n10383             Michael Obafemi         14.0      ie IRL       FW  20-321   \n\n       minutes  goals  assists  touches  sca  ...  passes  passes_pct  \\\n0         62.0    0.0      0.0     26.0  0.0  ...    16.0        87.5   \n1         28.0    0.0      0.0      7.0  0.0  ...     5.0        60.0   \n2         90.0    0.0      0.0     41.0  3.0  ...    35.0        80.0   \n3         62.0    0.0      0.0     30.0  1.0  ...    23.0        82.6   \n4         28.0    0.0      0.0     23.0  1.0  ...    17.0        94.1   \n...        ...    ...      ...      ...  ...  ...     ...         ...   \n10369     83.0    0.0      0.0     31.0  4.0  ...    16.0        56.3   \n10380     61.0    0.0      0.0     32.0  3.0  ...    20.0        90.0   \n10381     29.0    0.0      0.0     13.0  1.0  ...    12.0        50.0   \n10382     83.0    0.0      0.0     24.0  2.0  ...    16.0        75.0   \n10383      7.0    0.0      0.0      3.0  0.0  ...     3.0       100.0   \n\n       progressive_passes  progressive_carries  dribbles_completed  dribbles  \\\n0                     0.0                  2.0                 0.0       2.0   \n1                     0.0                  0.0                 1.0       1.0   \n2                     2.0                  4.0                 3.0       4.0   \n3                     1.0                  3.0                 2.0       3.0   \n4                     1.0                  2.0                 1.0       1.0   \n...                   ...                  ...                 ...       ...   \n10369                 1.0                  3.0                 2.0       3.0   \n10380                 1.0                  2.0                 1.0       1.0   \n10381                 0.0                  2.0                 1.0       1.0   \n10382                 1.0                  0.0                 0.0       0.0   \n10383                 0.0                  0.0                 0.0       0.0   \n\n                  Team  matchweek        date  category  \n0               Fulham        1.0  2020-09-12   Forward  \n1               Fulham        1.0  2020-09-12   Forward  \n2               Fulham        1.0  2020-09-12   Forward  \n3               Fulham        1.0  2020-09-12   Forward  \n4               Fulham        1.0  2020-09-12   Forward  \n...                ...        ...         ...       ...  \n10369  West Ham United       38.0  2021-05-23   Forward  \n10380      Southampton       38.0  2021-05-23   Forward  \n10381      Southampton       38.0  2021-05-23   Forward  \n10382      Southampton       38.0  2021-05-23   Forward  \n10383      Southampton       38.0  2021-05-23   Forward  \n\n[2651 rows x 30 columns]",
      "text/html": "<div>\n<style scoped>\n    .dataframe tbody tr th:only-of-type {\n        vertical-align: middle;\n    }\n\n    .dataframe tbody tr th {\n        vertical-align: top;\n    }\n\n    .dataframe thead th {\n        text-align: right;\n    }\n</style>\n<table border=\"1\" class=\"dataframe\">\n  <thead>\n    <tr style=\"text-align: right;\">\n      <th></th>\n      <th>player</th>\n      <th>shirtnumber</th>\n      <th>nationality</th>\n      <th>position</th>\n      <th>age</th>\n      <th>minutes</th>\n      <th>goals</th>\n      <th>assists</th>\n      <th>touches</th>\n      <th>sca</th>\n      <th>...</th>\n      <th>passes</th>\n      <th>passes_pct</th>\n      <th>progressive_passes</th>\n      <th>progressive_carries</th>\n      <th>dribbles_completed</th>\n      <th>dribbles</th>\n      <th>Team</th>\n      <th>matchweek</th>\n      <th>date</th>\n      <th>category</th>\n    </tr>\n  </thead>\n  <tbody>\n    <tr>\n      <th>0</th>\n      <td>Aboubakar Kamara</td>\n      <td>47.0</td>\n      <td>mr MTN</td>\n      <td>FW</td>\n      <td>25-189</td>\n      <td>62.0</td>\n      <td>0.0</td>\n      <td>0.0</td>\n      <td>26.0</td>\n      <td>0.0</td>\n      <td>...</td>\n      <td>16.0</td>\n      <td>87.5</td>\n      <td>0.0</td>\n      <td>2.0</td>\n      <td>0.0</td>\n      <td>2.0</td>\n      <td>Fulham</td>\n      <td>1.0</td>\n      <td>2020-09-12</td>\n      <td>Forward</td>\n    </tr>\n    <tr>\n      <th>1</th>\n      <td>Aleksandar Mitrović</td>\n      <td>9.0</td>\n      <td>rs SRB</td>\n      <td>FW</td>\n      <td>25-362</td>\n      <td>28.0</td>\n      <td>0.0</td>\n      <td>0.0</td>\n      <td>7.0</td>\n      <td>0.0</td>\n      <td>...</td>\n      <td>5.0</td>\n      <td>60.0</td>\n      <td>0.0</td>\n      <td>0.0</td>\n      <td>1.0</td>\n      <td>1.0</td>\n      <td>Fulham</td>\n      <td>1.0</td>\n      <td>2020-09-12</td>\n      <td>Forward</td>\n    </tr>\n    <tr>\n      <th>2</th>\n      <td>Ivan Cavaleiro</td>\n      <td>17.0</td>\n      <td>pt POR</td>\n      <td>LW</td>\n      <td>26-330</td>\n      <td>90.0</td>\n      <td>0.0</td>\n      <td>0.0</td>\n      <td>41.0</td>\n      <td>3.0</td>\n      <td>...</td>\n      <td>35.0</td>\n      <td>80.0</td>\n      <td>2.0</td>\n      <td>4.0</td>\n      <td>3.0</td>\n      <td>4.0</td>\n      <td>Fulham</td>\n      <td>1.0</td>\n      <td>2020-09-12</td>\n      <td>Forward</td>\n    </tr>\n    <tr>\n      <th>3</th>\n      <td>Neeskens Kebano</td>\n      <td>7.0</td>\n      <td>cd COD</td>\n      <td>RW</td>\n      <td>28-186</td>\n      <td>62.0</td>\n      <td>0.0</td>\n      <td>0.0</td>\n      <td>30.0</td>\n      <td>1.0</td>\n      <td>...</td>\n      <td>23.0</td>\n      <td>82.6</td>\n      <td>1.0</td>\n      <td>3.0</td>\n      <td>2.0</td>\n      <td>3.0</td>\n      <td>Fulham</td>\n      <td>1.0</td>\n      <td>2020-09-12</td>\n      <td>Forward</td>\n    </tr>\n    <tr>\n      <th>4</th>\n      <td>Andre-Frank Zambo Anguissa</td>\n      <td>29.0</td>\n      <td>cm CMR</td>\n      <td>RW</td>\n      <td>24-301</td>\n      <td>28.0</td>\n      <td>0.0</td>\n      <td>0.0</td>\n      <td>23.0</td>\n      <td>1.0</td>\n      <td>...</td>\n      <td>17.0</td>\n      <td>94.1</td>\n      <td>1.0</td>\n      <td>2.0</td>\n      <td>1.0</td>\n      <td>1.0</td>\n      <td>Fulham</td>\n      <td>1.0</td>\n      <td>2020-09-12</td>\n      <td>Forward</td>\n    </tr>\n    <tr>\n      <th>...</th>\n      <td>...</td>\n      <td>...</td>\n      <td>...</td>\n      <td>...</td>\n      <td>...</td>\n      <td>...</td>\n      <td>...</td>\n      <td>...</td>\n      <td>...</td>\n      <td>...</td>\n      <td>...</td>\n      <td>...</td>\n      <td>...</td>\n      <td>...</td>\n      <td>...</td>\n      <td>...</td>\n      <td>...</td>\n      <td>...</td>\n      <td>...</td>\n      <td>...</td>\n      <td>...</td>\n    </tr>\n    <tr>\n      <th>10369</th>\n      <td>Jarrod Bowen</td>\n      <td>20.0</td>\n      <td>eng ENG</td>\n      <td>RW</td>\n      <td>24-154</td>\n      <td>83.0</td>\n      <td>0.0</td>\n      <td>0.0</td>\n      <td>31.0</td>\n      <td>4.0</td>\n      <td>...</td>\n      <td>16.0</td>\n      <td>56.3</td>\n      <td>1.0</td>\n      <td>3.0</td>\n      <td>2.0</td>\n      <td>3.0</td>\n      <td>West Ham United</td>\n      <td>38.0</td>\n      <td>2021-05-23</td>\n      <td>Forward</td>\n    </tr>\n    <tr>\n      <th>10380</th>\n      <td>Takumi Minamino</td>\n      <td>19.0</td>\n      <td>jp JPN</td>\n      <td>FW</td>\n      <td>26-127</td>\n      <td>61.0</td>\n      <td>0.0</td>\n      <td>0.0</td>\n      <td>32.0</td>\n      <td>3.0</td>\n      <td>...</td>\n      <td>20.0</td>\n      <td>90.0</td>\n      <td>1.0</td>\n      <td>2.0</td>\n      <td>1.0</td>\n      <td>1.0</td>\n      <td>Southampton</td>\n      <td>38.0</td>\n      <td>2021-05-23</td>\n      <td>Forward</td>\n    </tr>\n    <tr>\n      <th>10381</th>\n      <td>Nathan Tella</td>\n      <td>23.0</td>\n      <td>eng ENG</td>\n      <td>FW</td>\n      <td>21-322</td>\n      <td>29.0</td>\n      <td>0.0</td>\n      <td>0.0</td>\n      <td>13.0</td>\n      <td>1.0</td>\n      <td>...</td>\n      <td>12.0</td>\n      <td>50.0</td>\n      <td>0.0</td>\n      <td>2.0</td>\n      <td>1.0</td>\n      <td>1.0</td>\n      <td>Southampton</td>\n      <td>38.0</td>\n      <td>2021-05-23</td>\n      <td>Forward</td>\n    </tr>\n    <tr>\n      <th>10382</th>\n      <td>Danny Ings</td>\n      <td>9.0</td>\n      <td>eng ENG</td>\n      <td>FW</td>\n      <td>28-304</td>\n      <td>83.0</td>\n      <td>0.0</td>\n      <td>0.0</td>\n      <td>24.0</td>\n      <td>2.0</td>\n      <td>...</td>\n      <td>16.0</td>\n      <td>75.0</td>\n      <td>1.0</td>\n      <td>0.0</td>\n      <td>0.0</td>\n      <td>0.0</td>\n      <td>Southampton</td>\n      <td>38.0</td>\n      <td>2021-05-23</td>\n      <td>Forward</td>\n    </tr>\n    <tr>\n      <th>10383</th>\n      <td>Michael Obafemi</td>\n      <td>14.0</td>\n      <td>ie IRL</td>\n      <td>FW</td>\n      <td>20-321</td>\n      <td>7.0</td>\n      <td>0.0</td>\n      <td>0.0</td>\n      <td>3.0</td>\n      <td>0.0</td>\n      <td>...</td>\n      <td>3.0</td>\n      <td>100.0</td>\n      <td>0.0</td>\n      <td>0.0</td>\n      <td>0.0</td>\n      <td>0.0</td>\n      <td>Southampton</td>\n      <td>38.0</td>\n      <td>2021-05-23</td>\n      <td>Forward</td>\n    </tr>\n  </tbody>\n</table>\n<p>2651 rows × 30 columns</p>\n</div>"
     },
     "execution_count": 35,
     "metadata": {},
     "output_type": "execute_result"
    }
   ],
   "source": [
    "#mid_total.to_excel('mid_total.xlsx')\n",
    "Forwards_20"
   ],
   "metadata": {
    "collapsed": false,
    "pycharm": {
     "name": "#%%\n"
    }
   }
  },
  {
   "cell_type": "code",
   "execution_count": 56,
   "outputs": [
    {
     "data": {
      "text/plain": "player\nMohamed Salah       1024.940537\nHarry Kane           895.799180\nJarrod Bowen         737.587925\nSadio Mané           724.528011\nMichail Antonio      704.752454\n                       ...     \nShandon Baptiste       4.998869\nShola Shoretire        4.998869\nDale Stephens          4.998869\nJürgen Locadia         4.443439\nTrézéguet              4.443439\nName: Rating, Length: 219, dtype: float64"
     },
     "execution_count": 56,
     "metadata": {},
     "output_type": "execute_result"
    }
   ],
   "source": [
    "#Forward Rating\n",
    "def calculate_att_rating(df):\n",
    "    df['Rating'] = (df['goals']*5.701406026)+(df['assists']*1.185545635) + ((df['goals'] - df['xg'])*5.509198531) + ((df['assists'] - df['xa'])*6.255697541) + (df['gca']*4.072354183) + (df['sca']*2.413883824) + (df['shots_on_target']*5.056112447)\n",
    "    #df['Rating'] = (df['dribbles'])\n",
    "\n",
    "    OldMax = df['Rating'].max()\n",
    "    OldMin = df['Rating'].min()\n",
    "    NewMax = 100\n",
    "    NewMin = 0\n",
    "\n",
    "\n",
    "    OldRange = (OldMax - OldMin)\n",
    "    NewRange = (NewMax - NewMin)\n",
    "    df['Rating'] = ((((df['Rating'] - OldMin) * NewRange) / OldRange) + NewMin)\n",
    "    return df\n",
    "\n",
    "Forwards_19 = calculate_att_rating(Forwards_19)\n",
    "Forwards_20 = calculate_att_rating(Forwards_20)\n",
    "Forwards_21 = calculate_att_rating(Forwards_21)\n",
    "\n",
    "\n",
    "fw21 = Forwards_21.groupby(['player']).sum()['Rating']\n",
    "fw21_t = Forwards_20.groupby(['Team']).sum()['Rating']\n",
    "forward_strength = fw21.sort_values(ascending=False)\n",
    "forward_strength_t = fw21_t.sort_values(ascending=False)\n",
    "forward_strength\n"
   ],
   "metadata": {
    "collapsed": false,
    "pycharm": {
     "name": "#%%\n"
    }
   }
  },
  {
   "cell_type": "code",
   "execution_count": 23,
   "outputs": [],
   "source": [
    "# fw_gol = Forwards.groupby(['player']).sum()['goals']\n",
    "# fw_as = Forwards.groupby(['player']).sum()['assists']\n",
    "# fw_gca = Forwards.groupby(['player']).sum()['gca']\n",
    "# fw_sca = Forwards.groupby(['player']).sum()['sca']\n",
    "# fw_sot = Forwards.groupby(['player']).sum()['shots_on_target']\n",
    "# fw_xG = Forwards.groupby(['player']).sum()['xg']\n",
    "# fw_xA = Forwards.groupby(['player']).sum()['xa']\n",
    "# fw_total = pd.merge(fw_gol, fw_as , on='player', how='left')\n",
    "# fw_total = pd.merge(fw_total,fw_gca , on='player', how='left')\n",
    "# fw_total = pd.merge(fw_total,fw_sca , on='player', how='left')\n",
    "# fw_total = pd.merge(fw_total,fw_sot , on='player', how='left')\n",
    "# fw_total = pd.merge(fw_total,fw_xG , on='player', how='left')\n",
    "# fw_total = pd.merge(fw_total,fw_xA , on='player', how='left')\n",
    "# fw_total ['goals-xG'] = fw_total['goals'] - fw_total['xg']\n",
    "# fw_total ['asists-xA'] = fw_total['assists'] - fw_total['xa']\n",
    "#\n",
    "# fw_total"
   ],
   "metadata": {
    "collapsed": false,
    "pycharm": {
     "name": "#%%\n"
    }
   }
  },
  {
   "cell_type": "code",
   "execution_count": 24,
   "outputs": [],
   "source": [
    "#fw_total.to_excel('fw_total.xlsx')"
   ],
   "metadata": {
    "collapsed": false,
    "pycharm": {
     "name": "#%%\n"
    }
   }
  },
  {
   "cell_type": "code",
   "execution_count": 65,
   "outputs": [
    {
     "data": {
      "text/plain": "                       player position     age  minutes               Team  \\\n0            Andrew Robertson       LB  25-151     90.0          Liverpool   \n1             Virgil van Dijk       CB  28-032     90.0          Liverpool   \n2                   Joe Gomez       CB  22-078     90.0          Liverpool   \n3      Trent Alexander-Arnold       RB  20-306     90.0          Liverpool   \n4                 Jamal Lewis       LB  21-196     90.0       Norwich City   \n...                       ...      ...     ...      ...                ...   \n10611            David de Gea       GK  29-262     90.0  Manchester United   \n10612                 Ederson       GK  26-344     90.0    Manchester City   \n10613                Tim Krul       GK  32-114     90.0       Norwich City   \n10614           Alex McCarthy       GK  30-236     90.0        Southampton   \n10615          Dean Henderson       GK  23-136     90.0   Sheffield United   \n\n       matchweek    category     Rating        date  \n0            1.0    Defender  38.324184  2019-08-09  \n1            1.0    Defender  23.823938  2019-08-09  \n2            1.0    Defender  22.788262  2019-08-09  \n3            1.0    Defender  32.156373  2019-08-09  \n4            1.0    Defender  38.828733  2019-08-09  \n...          ...         ...        ...         ...  \n10611       38.0  Goalkeeper  55.802267  2020-07-26  \n10612       38.0  Goalkeeper  57.421139  2020-07-26  \n10613       38.0  Goalkeeper  29.910324  2020-07-26  \n10614       38.0  Goalkeeper  40.027284  2020-07-26  \n10615       38.0  Goalkeeper  17.657389  2020-07-26  \n\n[10616 rows x 9 columns]",
      "text/html": "<div>\n<style scoped>\n    .dataframe tbody tr th:only-of-type {\n        vertical-align: middle;\n    }\n\n    .dataframe tbody tr th {\n        vertical-align: top;\n    }\n\n    .dataframe thead th {\n        text-align: right;\n    }\n</style>\n<table border=\"1\" class=\"dataframe\">\n  <thead>\n    <tr style=\"text-align: right;\">\n      <th></th>\n      <th>player</th>\n      <th>position</th>\n      <th>age</th>\n      <th>minutes</th>\n      <th>Team</th>\n      <th>matchweek</th>\n      <th>category</th>\n      <th>Rating</th>\n      <th>date</th>\n    </tr>\n  </thead>\n  <tbody>\n    <tr>\n      <th>0</th>\n      <td>Andrew Robertson</td>\n      <td>LB</td>\n      <td>25-151</td>\n      <td>90.0</td>\n      <td>Liverpool</td>\n      <td>1.0</td>\n      <td>Defender</td>\n      <td>38.324184</td>\n      <td>2019-08-09</td>\n    </tr>\n    <tr>\n      <th>1</th>\n      <td>Virgil van Dijk</td>\n      <td>CB</td>\n      <td>28-032</td>\n      <td>90.0</td>\n      <td>Liverpool</td>\n      <td>1.0</td>\n      <td>Defender</td>\n      <td>23.823938</td>\n      <td>2019-08-09</td>\n    </tr>\n    <tr>\n      <th>2</th>\n      <td>Joe Gomez</td>\n      <td>CB</td>\n      <td>22-078</td>\n      <td>90.0</td>\n      <td>Liverpool</td>\n      <td>1.0</td>\n      <td>Defender</td>\n      <td>22.788262</td>\n      <td>2019-08-09</td>\n    </tr>\n    <tr>\n      <th>3</th>\n      <td>Trent Alexander-Arnold</td>\n      <td>RB</td>\n      <td>20-306</td>\n      <td>90.0</td>\n      <td>Liverpool</td>\n      <td>1.0</td>\n      <td>Defender</td>\n      <td>32.156373</td>\n      <td>2019-08-09</td>\n    </tr>\n    <tr>\n      <th>4</th>\n      <td>Jamal Lewis</td>\n      <td>LB</td>\n      <td>21-196</td>\n      <td>90.0</td>\n      <td>Norwich City</td>\n      <td>1.0</td>\n      <td>Defender</td>\n      <td>38.828733</td>\n      <td>2019-08-09</td>\n    </tr>\n    <tr>\n      <th>...</th>\n      <td>...</td>\n      <td>...</td>\n      <td>...</td>\n      <td>...</td>\n      <td>...</td>\n      <td>...</td>\n      <td>...</td>\n      <td>...</td>\n      <td>...</td>\n    </tr>\n    <tr>\n      <th>10611</th>\n      <td>David de Gea</td>\n      <td>GK</td>\n      <td>29-262</td>\n      <td>90.0</td>\n      <td>Manchester United</td>\n      <td>38.0</td>\n      <td>Goalkeeper</td>\n      <td>55.802267</td>\n      <td>2020-07-26</td>\n    </tr>\n    <tr>\n      <th>10612</th>\n      <td>Ederson</td>\n      <td>GK</td>\n      <td>26-344</td>\n      <td>90.0</td>\n      <td>Manchester City</td>\n      <td>38.0</td>\n      <td>Goalkeeper</td>\n      <td>57.421139</td>\n      <td>2020-07-26</td>\n    </tr>\n    <tr>\n      <th>10613</th>\n      <td>Tim Krul</td>\n      <td>GK</td>\n      <td>32-114</td>\n      <td>90.0</td>\n      <td>Norwich City</td>\n      <td>38.0</td>\n      <td>Goalkeeper</td>\n      <td>29.910324</td>\n      <td>2020-07-26</td>\n    </tr>\n    <tr>\n      <th>10614</th>\n      <td>Alex McCarthy</td>\n      <td>GK</td>\n      <td>30-236</td>\n      <td>90.0</td>\n      <td>Southampton</td>\n      <td>38.0</td>\n      <td>Goalkeeper</td>\n      <td>40.027284</td>\n      <td>2020-07-26</td>\n    </tr>\n    <tr>\n      <th>10615</th>\n      <td>Dean Henderson</td>\n      <td>GK</td>\n      <td>23-136</td>\n      <td>90.0</td>\n      <td>Sheffield United</td>\n      <td>38.0</td>\n      <td>Goalkeeper</td>\n      <td>17.657389</td>\n      <td>2020-07-26</td>\n    </tr>\n  </tbody>\n</table>\n<p>10616 rows × 9 columns</p>\n</div>"
     },
     "execution_count": 65,
     "metadata": {},
     "output_type": "execute_result"
    }
   ],
   "source": [
    "total_19 = pd.concat([Defenders_19, Midfielders_19, Forwards_19, PL2019_keepers], axis=0)\n",
    "total_20 = pd.concat([Defenders_20, Midfielders_20, Forwards_20, PL2020_keepers], axis=0)\n",
    "total_21 = pd.concat([Defenders_21, Midfielders_21, Forwards_21, PL2021_keepers], axis=0)\n",
    "total_19.reset_index(inplace=True, drop=True)\n",
    "total_20.reset_index(inplace=True, drop=True)\n",
    "total_21.reset_index(inplace=True, drop=True)\n",
    "PL2019_ratings = total_19[['player', 'position', 'age', 'minutes', 'Team', 'matchweek', 'category', 'Rating', 'date']]\n",
    "PL2020_ratings = total_20[['player', 'position', 'age', 'minutes', 'Team', 'matchweek', 'category', 'Rating', 'date']]\n",
    "PL2021_ratings = total_21[['player', 'position', 'age', 'minutes', 'Team', 'matchweek', 'category', 'Rating', 'date']]\n",
    "PL2019_ratings = PL2019_ratings.fillna('Goalkeeper')\n",
    "PL2020_ratings = PL2020_ratings.fillna('Goalkeeper')\n",
    "PL2021_ratings = PL2021_ratings.fillna('Goalkeeper')\n",
    "PL2019_ratings\n"
   ],
   "metadata": {
    "collapsed": false,
    "pycharm": {
     "name": "#%%\n"
    }
   }
  },
  {
   "cell_type": "code",
   "execution_count": 69,
   "outputs": [
    {
     "data": {
      "text/plain": "Team\nManchester City            16484.914259\nChelsea                    15108.264757\nLeeds United               14794.928986\nLiverpool                  14630.102667\nManchester United          14431.264864\nLeicester City             13524.063149\nArsenal                    13046.599759\nTottenham Hotspur          13014.957913\nBrighton & Hove Albion     12996.174512\nSouthampton                12602.453642\nAston Villa                12465.759820\nWolverhampton Wanderers    12347.805885\nFulham                     12197.409679\nEverton                    12146.659390\nSheffield United           11296.122975\nWest Ham United            11293.194695\nCrystal Palace             10668.485438\nNewcastle United           10667.429167\nWest Bromwich Albion       10384.556345\nBurnley                    10308.347512\nName: Rating, dtype: float64"
     },
     "execution_count": 69,
     "metadata": {},
     "output_type": "execute_result"
    }
   ],
   "source": [
    "mf21 = PL2020_ratings.groupby(['player']).sum()['Rating']\n",
    "mf21_t = PL2020_ratings.groupby(['Team']).sum()['Rating']\n",
    "midfield_strength = mf21.sort_values(ascending=False)\n",
    "midfield_strength_t = mf21_t.sort_values(ascending=False)\n",
    "midfield_strength_t"
   ],
   "metadata": {
    "collapsed": false,
    "pycharm": {
     "name": "#%%\n"
    }
   }
  },
  {
   "cell_type": "code",
   "execution_count": 70,
   "outputs": [],
   "source": [
    "PL2019_ratings.to_csv('PL2019_ratings.csv',index=False)\n",
    "PL2020_ratings.to_csv('PL2020_ratings.csv',index=False)\n",
    "PL2021_ratings.to_csv('PL2021_ratings.csv',index=False)"
   ],
   "metadata": {
    "collapsed": false,
    "pycharm": {
     "name": "#%%\n"
    }
   }
  },
  {
   "cell_type": "code",
   "execution_count": 28,
   "outputs": [
    {
     "data": {
      "text/plain": "                       player position     age  minutes             Team  \\\n0                   Joe Bryan       LB  26-361     90.0           Fulham   \n1                    Tim Ream       CB  32-343     90.0           Fulham   \n2              Michael Hector       CB  28-055     90.0           Fulham   \n3                  Denis Odoi       RB  32-108     90.0           Fulham   \n4      Ainsley Maitland-Niles       WB  23-014     90.0          Arsenal   \n...                       ...      ...     ...      ...              ...   \n10389       Emiliano Martínez       GK  28-263     90.0      Aston Villa   \n10390           Edouard Mendy       GK  29-083     45.0          Chelsea   \n10391       Kepa Arrizabalaga       GK  26-232     45.0          Chelsea   \n10392        Łukasz Fabiański       GK  36-035     90.0  West Ham United   \n10393           Alex McCarthy       GK  31-171     90.0      Southampton   \n\n       matchweek  category     Rating  \n0            1.0  Defender  30.040214  \n1            1.0  Defender  33.442623  \n2            1.0  Defender  37.665180  \n3            1.0  Defender  33.911034  \n4            1.0  Defender  25.875207  \n...          ...       ...        ...  \n10389       38.0       NaN  63.001016  \n10390       38.0       NaN  33.585029  \n10391       38.0       NaN  26.766151  \n10392       38.0       NaN  71.562860  \n10393       38.0       NaN  41.306842  \n\n[10394 rows x 8 columns]",
      "text/html": "<div>\n<style scoped>\n    .dataframe tbody tr th:only-of-type {\n        vertical-align: middle;\n    }\n\n    .dataframe tbody tr th {\n        vertical-align: top;\n    }\n\n    .dataframe thead th {\n        text-align: right;\n    }\n</style>\n<table border=\"1\" class=\"dataframe\">\n  <thead>\n    <tr style=\"text-align: right;\">\n      <th></th>\n      <th>player</th>\n      <th>position</th>\n      <th>age</th>\n      <th>minutes</th>\n      <th>Team</th>\n      <th>matchweek</th>\n      <th>category</th>\n      <th>Rating</th>\n    </tr>\n  </thead>\n  <tbody>\n    <tr>\n      <th>0</th>\n      <td>Joe Bryan</td>\n      <td>LB</td>\n      <td>26-361</td>\n      <td>90.0</td>\n      <td>Fulham</td>\n      <td>1.0</td>\n      <td>Defender</td>\n      <td>30.040214</td>\n    </tr>\n    <tr>\n      <th>1</th>\n      <td>Tim Ream</td>\n      <td>CB</td>\n      <td>32-343</td>\n      <td>90.0</td>\n      <td>Fulham</td>\n      <td>1.0</td>\n      <td>Defender</td>\n      <td>33.442623</td>\n    </tr>\n    <tr>\n      <th>2</th>\n      <td>Michael Hector</td>\n      <td>CB</td>\n      <td>28-055</td>\n      <td>90.0</td>\n      <td>Fulham</td>\n      <td>1.0</td>\n      <td>Defender</td>\n      <td>37.665180</td>\n    </tr>\n    <tr>\n      <th>3</th>\n      <td>Denis Odoi</td>\n      <td>RB</td>\n      <td>32-108</td>\n      <td>90.0</td>\n      <td>Fulham</td>\n      <td>1.0</td>\n      <td>Defender</td>\n      <td>33.911034</td>\n    </tr>\n    <tr>\n      <th>4</th>\n      <td>Ainsley Maitland-Niles</td>\n      <td>WB</td>\n      <td>23-014</td>\n      <td>90.0</td>\n      <td>Arsenal</td>\n      <td>1.0</td>\n      <td>Defender</td>\n      <td>25.875207</td>\n    </tr>\n    <tr>\n      <th>...</th>\n      <td>...</td>\n      <td>...</td>\n      <td>...</td>\n      <td>...</td>\n      <td>...</td>\n      <td>...</td>\n      <td>...</td>\n      <td>...</td>\n    </tr>\n    <tr>\n      <th>10389</th>\n      <td>Emiliano Martínez</td>\n      <td>GK</td>\n      <td>28-263</td>\n      <td>90.0</td>\n      <td>Aston Villa</td>\n      <td>38.0</td>\n      <td>NaN</td>\n      <td>63.001016</td>\n    </tr>\n    <tr>\n      <th>10390</th>\n      <td>Edouard Mendy</td>\n      <td>GK</td>\n      <td>29-083</td>\n      <td>45.0</td>\n      <td>Chelsea</td>\n      <td>38.0</td>\n      <td>NaN</td>\n      <td>33.585029</td>\n    </tr>\n    <tr>\n      <th>10391</th>\n      <td>Kepa Arrizabalaga</td>\n      <td>GK</td>\n      <td>26-232</td>\n      <td>45.0</td>\n      <td>Chelsea</td>\n      <td>38.0</td>\n      <td>NaN</td>\n      <td>26.766151</td>\n    </tr>\n    <tr>\n      <th>10392</th>\n      <td>Łukasz Fabiański</td>\n      <td>GK</td>\n      <td>36-035</td>\n      <td>90.0</td>\n      <td>West Ham United</td>\n      <td>38.0</td>\n      <td>NaN</td>\n      <td>71.562860</td>\n    </tr>\n    <tr>\n      <th>10393</th>\n      <td>Alex McCarthy</td>\n      <td>GK</td>\n      <td>31-171</td>\n      <td>90.0</td>\n      <td>Southampton</td>\n      <td>38.0</td>\n      <td>NaN</td>\n      <td>41.306842</td>\n    </tr>\n  </tbody>\n</table>\n<p>10394 rows × 8 columns</p>\n</div>"
     },
     "execution_count": 28,
     "metadata": {},
     "output_type": "execute_result"
    }
   ],
   "source": [
    "PL2020_ratings"
   ],
   "metadata": {
    "collapsed": false,
    "pycharm": {
     "name": "#%%\n"
    }
   }
  }
 ],
 "metadata": {
  "kernelspec": {
   "display_name": "Python 3",
   "language": "python",
   "name": "python3"
  },
  "language_info": {
   "codemirror_mode": {
    "name": "ipython",
    "version": 2
   },
   "file_extension": ".py",
   "mimetype": "text/x-python",
   "name": "python",
   "nbconvert_exporter": "python",
   "pygments_lexer": "ipython2",
   "version": "2.7.6"
  }
 },
 "nbformat": 4,
 "nbformat_minor": 0
}