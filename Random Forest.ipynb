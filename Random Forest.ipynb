{
 "cells": [
  {
   "cell_type": "code",
   "execution_count": 2,
   "metadata": {
    "collapsed": true
   },
   "outputs": [],
   "source": [
    "#import necessary packages\n",
    "import pandas as pd\n",
    "import numpy as np\n",
    "from sklearn.ensemble import RandomForestClassifier\n",
    "import xgboost as xgb\n",
    "from sklearn.model_selection import train_test_split\n",
    "import time\n",
    "import matplotlib.pyplot as plt"
   ]
  },
  {
   "cell_type": "code",
   "execution_count": 7,
   "outputs": [
    {
     "data": {
      "text/plain": "    Div        Date   Time         HomeTeam        AwayTeam  FTHG  FTAG FTR  \\\n0    E0  2021-08-13  20:00        Brentford         Arsenal     2     0   H   \n1    E0  2021-08-14  12:30   Manchester Utd    Leeds United     5     1   H   \n2    E0  2021-08-14  15:00          Burnley        Brighton     1     2   A   \n3    E0  2021-08-14  15:00          Chelsea  Crystal Palace     3     0   H   \n4    E0  2021-08-14  15:00          Everton     Southampton     3     1   H   \n..   ..         ...    ...              ...             ...   ...   ...  ..   \n375  E0  2022-05-22  16:00   Crystal Palace  Manchester Utd     1     0   H   \n376  E0  2022-05-22  16:00   Leicester City     Southampton     4     1   H   \n377  E0  2022-05-22  16:00        Liverpool          Wolves     3     1   H   \n378  E0  2022-05-22  16:00  Manchester City     Aston Villa     3     2   H   \n379  E0  2022-05-22  16:00     Norwich City       Tottenham     0     5   A   \n\n     HTHG  HTAG  ... PCAHA MaxCAHH  MaxCAHA  AvgCAHH  AvgCAHA  Rating_Home  \\\n0       1     0  ...  2.13    2.05     2.17     1.80     2.09           73   \n1       1     0  ...  1.77    2.19     1.93     2.10     1.79           83   \n2       1     0  ...  2.14    1.82     2.19     1.79     2.12           76   \n3       2     0  ...  1.81    2.16     1.93     2.06     1.82           83   \n4       0     1  ...  1.88    2.08     1.90     2.03     1.86           79   \n..    ...   ...  ...   ...     ...      ...      ...      ...          ...   \n375     1     0  ...  2.23    1.88     2.25     1.74     2.16           76   \n376     0     0  ...  2.03    1.94     2.26     1.87     2.01           80   \n377     1     1  ...  1.83    2.19     1.99     2.07     1.80           84   \n378     0     1  ...  1.86    2.09     2.03     2.01     1.87           85   \n379     0     2  ...  1.94    2.16     1.98     1.99     1.89           74   \n\n     Rating_Away  Rating difference               game_home_ID  \\\n0             79                 -6        Brentford2021-08-13   \n1             76                  7   Manchester Utd2021-08-14   \n2             75                  1          Burnley2021-08-14   \n3             76                  7          Chelsea2021-08-14   \n4             76                  3          Everton2021-08-14   \n..           ...                ...                        ...   \n375           83                 -7   Crystal Palace2022-05-22   \n376           76                  4   Leicester City2022-05-22   \n377           78                  6        Liverpool2022-05-22   \n378           78                  7  Manchester City2022-05-22   \n379           82                 -8     Norwich City2022-05-22   \n\n                 game_away_ID  \n0           Arsenal2021-08-13  \n1      Leeds United2021-08-14  \n2          Brighton2021-08-14  \n3    Crystal Palace2021-08-14  \n4       Southampton2021-08-14  \n..                        ...  \n375  Manchester Utd2022-05-22  \n376     Southampton2022-05-22  \n377          Wolves2022-05-22  \n378     Aston Villa2022-05-22  \n379       Tottenham2022-05-22  \n\n[380 rows x 111 columns]",
      "text/html": "<div>\n<style scoped>\n    .dataframe tbody tr th:only-of-type {\n        vertical-align: middle;\n    }\n\n    .dataframe tbody tr th {\n        vertical-align: top;\n    }\n\n    .dataframe thead th {\n        text-align: right;\n    }\n</style>\n<table border=\"1\" class=\"dataframe\">\n  <thead>\n    <tr style=\"text-align: right;\">\n      <th></th>\n      <th>Div</th>\n      <th>Date</th>\n      <th>Time</th>\n      <th>HomeTeam</th>\n      <th>AwayTeam</th>\n      <th>FTHG</th>\n      <th>FTAG</th>\n      <th>FTR</th>\n      <th>HTHG</th>\n      <th>HTAG</th>\n      <th>...</th>\n      <th>PCAHA</th>\n      <th>MaxCAHH</th>\n      <th>MaxCAHA</th>\n      <th>AvgCAHH</th>\n      <th>AvgCAHA</th>\n      <th>Rating_Home</th>\n      <th>Rating_Away</th>\n      <th>Rating difference</th>\n      <th>game_home_ID</th>\n      <th>game_away_ID</th>\n    </tr>\n  </thead>\n  <tbody>\n    <tr>\n      <th>0</th>\n      <td>E0</td>\n      <td>2021-08-13</td>\n      <td>20:00</td>\n      <td>Brentford</td>\n      <td>Arsenal</td>\n      <td>2</td>\n      <td>0</td>\n      <td>H</td>\n      <td>1</td>\n      <td>0</td>\n      <td>...</td>\n      <td>2.13</td>\n      <td>2.05</td>\n      <td>2.17</td>\n      <td>1.80</td>\n      <td>2.09</td>\n      <td>73</td>\n      <td>79</td>\n      <td>-6</td>\n      <td>Brentford2021-08-13</td>\n      <td>Arsenal2021-08-13</td>\n    </tr>\n    <tr>\n      <th>1</th>\n      <td>E0</td>\n      <td>2021-08-14</td>\n      <td>12:30</td>\n      <td>Manchester Utd</td>\n      <td>Leeds United</td>\n      <td>5</td>\n      <td>1</td>\n      <td>H</td>\n      <td>1</td>\n      <td>0</td>\n      <td>...</td>\n      <td>1.77</td>\n      <td>2.19</td>\n      <td>1.93</td>\n      <td>2.10</td>\n      <td>1.79</td>\n      <td>83</td>\n      <td>76</td>\n      <td>7</td>\n      <td>Manchester Utd2021-08-14</td>\n      <td>Leeds United2021-08-14</td>\n    </tr>\n    <tr>\n      <th>2</th>\n      <td>E0</td>\n      <td>2021-08-14</td>\n      <td>15:00</td>\n      <td>Burnley</td>\n      <td>Brighton</td>\n      <td>1</td>\n      <td>2</td>\n      <td>A</td>\n      <td>1</td>\n      <td>0</td>\n      <td>...</td>\n      <td>2.14</td>\n      <td>1.82</td>\n      <td>2.19</td>\n      <td>1.79</td>\n      <td>2.12</td>\n      <td>76</td>\n      <td>75</td>\n      <td>1</td>\n      <td>Burnley2021-08-14</td>\n      <td>Brighton2021-08-14</td>\n    </tr>\n    <tr>\n      <th>3</th>\n      <td>E0</td>\n      <td>2021-08-14</td>\n      <td>15:00</td>\n      <td>Chelsea</td>\n      <td>Crystal Palace</td>\n      <td>3</td>\n      <td>0</td>\n      <td>H</td>\n      <td>2</td>\n      <td>0</td>\n      <td>...</td>\n      <td>1.81</td>\n      <td>2.16</td>\n      <td>1.93</td>\n      <td>2.06</td>\n      <td>1.82</td>\n      <td>83</td>\n      <td>76</td>\n      <td>7</td>\n      <td>Chelsea2021-08-14</td>\n      <td>Crystal Palace2021-08-14</td>\n    </tr>\n    <tr>\n      <th>4</th>\n      <td>E0</td>\n      <td>2021-08-14</td>\n      <td>15:00</td>\n      <td>Everton</td>\n      <td>Southampton</td>\n      <td>3</td>\n      <td>1</td>\n      <td>H</td>\n      <td>0</td>\n      <td>1</td>\n      <td>...</td>\n      <td>1.88</td>\n      <td>2.08</td>\n      <td>1.90</td>\n      <td>2.03</td>\n      <td>1.86</td>\n      <td>79</td>\n      <td>76</td>\n      <td>3</td>\n      <td>Everton2021-08-14</td>\n      <td>Southampton2021-08-14</td>\n    </tr>\n    <tr>\n      <th>...</th>\n      <td>...</td>\n      <td>...</td>\n      <td>...</td>\n      <td>...</td>\n      <td>...</td>\n      <td>...</td>\n      <td>...</td>\n      <td>...</td>\n      <td>...</td>\n      <td>...</td>\n      <td>...</td>\n      <td>...</td>\n      <td>...</td>\n      <td>...</td>\n      <td>...</td>\n      <td>...</td>\n      <td>...</td>\n      <td>...</td>\n      <td>...</td>\n      <td>...</td>\n      <td>...</td>\n    </tr>\n    <tr>\n      <th>375</th>\n      <td>E0</td>\n      <td>2022-05-22</td>\n      <td>16:00</td>\n      <td>Crystal Palace</td>\n      <td>Manchester Utd</td>\n      <td>1</td>\n      <td>0</td>\n      <td>H</td>\n      <td>1</td>\n      <td>0</td>\n      <td>...</td>\n      <td>2.23</td>\n      <td>1.88</td>\n      <td>2.25</td>\n      <td>1.74</td>\n      <td>2.16</td>\n      <td>76</td>\n      <td>83</td>\n      <td>-7</td>\n      <td>Crystal Palace2022-05-22</td>\n      <td>Manchester Utd2022-05-22</td>\n    </tr>\n    <tr>\n      <th>376</th>\n      <td>E0</td>\n      <td>2022-05-22</td>\n      <td>16:00</td>\n      <td>Leicester City</td>\n      <td>Southampton</td>\n      <td>4</td>\n      <td>1</td>\n      <td>H</td>\n      <td>0</td>\n      <td>0</td>\n      <td>...</td>\n      <td>2.03</td>\n      <td>1.94</td>\n      <td>2.26</td>\n      <td>1.87</td>\n      <td>2.01</td>\n      <td>80</td>\n      <td>76</td>\n      <td>4</td>\n      <td>Leicester City2022-05-22</td>\n      <td>Southampton2022-05-22</td>\n    </tr>\n    <tr>\n      <th>377</th>\n      <td>E0</td>\n      <td>2022-05-22</td>\n      <td>16:00</td>\n      <td>Liverpool</td>\n      <td>Wolves</td>\n      <td>3</td>\n      <td>1</td>\n      <td>H</td>\n      <td>1</td>\n      <td>1</td>\n      <td>...</td>\n      <td>1.83</td>\n      <td>2.19</td>\n      <td>1.99</td>\n      <td>2.07</td>\n      <td>1.80</td>\n      <td>84</td>\n      <td>78</td>\n      <td>6</td>\n      <td>Liverpool2022-05-22</td>\n      <td>Wolves2022-05-22</td>\n    </tr>\n    <tr>\n      <th>378</th>\n      <td>E0</td>\n      <td>2022-05-22</td>\n      <td>16:00</td>\n      <td>Manchester City</td>\n      <td>Aston Villa</td>\n      <td>3</td>\n      <td>2</td>\n      <td>H</td>\n      <td>0</td>\n      <td>1</td>\n      <td>...</td>\n      <td>1.86</td>\n      <td>2.09</td>\n      <td>2.03</td>\n      <td>2.01</td>\n      <td>1.87</td>\n      <td>85</td>\n      <td>78</td>\n      <td>7</td>\n      <td>Manchester City2022-05-22</td>\n      <td>Aston Villa2022-05-22</td>\n    </tr>\n    <tr>\n      <th>379</th>\n      <td>E0</td>\n      <td>2022-05-22</td>\n      <td>16:00</td>\n      <td>Norwich City</td>\n      <td>Tottenham</td>\n      <td>0</td>\n      <td>5</td>\n      <td>A</td>\n      <td>0</td>\n      <td>2</td>\n      <td>...</td>\n      <td>1.94</td>\n      <td>2.16</td>\n      <td>1.98</td>\n      <td>1.99</td>\n      <td>1.89</td>\n      <td>74</td>\n      <td>82</td>\n      <td>-8</td>\n      <td>Norwich City2022-05-22</td>\n      <td>Tottenham2022-05-22</td>\n    </tr>\n  </tbody>\n</table>\n<p>380 rows × 111 columns</p>\n</div>"
     },
     "execution_count": 7,
     "metadata": {},
     "output_type": "execute_result"
    }
   ],
   "source": [
    "#import Data\n",
    "PL19_20_fixtures = pd.read_csv('Data/2019-20/Fixtures/PL19_20_fixtures.csv')\n",
    "PL20_21_fixtures = pd.read_csv('Data/2020-21/Fixtures/PL20_21_fixtures.csv')\n",
    "PL21_22_fixtures = pd.read_csv('Data/2021-22/Fixtures/PL21_22_fixtures.csv')\n",
    "#PL20_21_fixtures.replace(['Manchester Utd', 'Tottenham'], ['Manchester United','Tottenham Hotspur'], inplace=True)\n",
    "PL19_20_fixtures['game_home_ID'] = PL19_20_fixtures['HomeTeam'] + PL19_20_fixtures['Date'].astype(str)\n",
    "PL19_20_fixtures['game_away_ID'] = PL19_20_fixtures['AwayTeam'] + PL19_20_fixtures['Date'].astype(str)\n",
    "PL20_21_fixtures['game_home_ID'] = PL20_21_fixtures['HomeTeam'] + PL20_21_fixtures['Date'].astype(str)\n",
    "PL20_21_fixtures['game_away_ID'] = PL20_21_fixtures['AwayTeam'] + PL20_21_fixtures['Date'].astype(str)\n",
    "PL21_22_fixtures['game_home_ID'] = PL21_22_fixtures['HomeTeam'] + PL21_22_fixtures['Date'].astype(str)\n",
    "PL21_22_fixtures['game_away_ID'] = PL21_22_fixtures['AwayTeam'] + PL21_22_fixtures['Date'].astype(str)\n",
    "PL21_22_fixtures"
   ],
   "metadata": {
    "collapsed": false,
    "pycharm": {
     "name": "#%%\n"
    }
   }
  },
  {
   "cell_type": "code",
   "execution_count": 8,
   "outputs": [
    {
     "data": {
      "text/plain": "    Div        Date   Time         HomeTeam        AwayTeam  FTHG  FTAG FTR  \\\n0    E0  2021-08-13  20:00        Brentford         Arsenal     2     0   H   \n1    E0  2021-08-14  12:30   Manchester Utd    Leeds United     5     1   H   \n2    E0  2021-08-14  15:00          Burnley        Brighton     1     2   A   \n3    E0  2021-08-14  15:00          Chelsea  Crystal Palace     3     0   H   \n4    E0  2021-08-14  15:00          Everton     Southampton     3     1   H   \n..   ..         ...    ...              ...             ...   ...   ...  ..   \n375  E0  2022-05-22  16:00   Crystal Palace  Manchester Utd     1     0   H   \n376  E0  2022-05-22  16:00   Leicester City     Southampton     4     1   H   \n377  E0  2022-05-22  16:00        Liverpool          Wolves     3     1   H   \n378  E0  2022-05-22  16:00  Manchester City     Aston Villa     3     2   H   \n379  E0  2022-05-22  16:00     Norwich City       Tottenham     0     5   A   \n\n     HTHG  HTAG  ... MaxCAHA AvgCAHH  AvgCAHA  Rating_Home  Rating_Away  \\\n0       1     0  ...    2.17    1.80     2.09           73           79   \n1       1     0  ...    1.93    2.10     1.79           83           76   \n2       1     0  ...    2.19    1.79     2.12           76           75   \n3       2     0  ...    1.93    2.06     1.82           83           76   \n4       0     1  ...    1.90    2.03     1.86           79           76   \n..    ...   ...  ...     ...     ...      ...          ...          ...   \n375     1     0  ...    2.25    1.74     2.16           76           83   \n376     0     0  ...    2.26    1.87     2.01           80           76   \n377     1     1  ...    1.99    2.07     1.80           84           78   \n378     0     1  ...    2.03    2.01     1.87           85           78   \n379     0     2  ...    1.98    1.99     1.89           74           82   \n\n     Rating difference               game_home_ID              game_away_ID  \\\n0                   -6        Brentford2021-08-13         Arsenal2021-08-13   \n1                    7   Manchester Utd2021-08-14    Leeds United2021-08-14   \n2                    1          Burnley2021-08-14        Brighton2021-08-14   \n3                    7          Chelsea2021-08-14  Crystal Palace2021-08-14   \n4                    3          Everton2021-08-14     Southampton2021-08-14   \n..                 ...                        ...                       ...   \n375                 -7   Crystal Palace2022-05-22  Manchester Utd2022-05-22   \n376                  4   Leicester City2022-05-22     Southampton2022-05-22   \n377                  6        Liverpool2022-05-22          Wolves2022-05-22   \n378                  7  Manchester City2022-05-22     Aston Villa2022-05-22   \n379                 -8     Norwich City2022-05-22       Tottenham2022-05-22   \n\n     Wk_h  Wk_a  \n0       1     1  \n1       1     1  \n2       1     1  \n3       1     1  \n4       1     1  \n..    ...   ...  \n375    38    38  \n376    38    38  \n377    38    38  \n378    38    38  \n379    38    38  \n\n[380 rows x 113 columns]",
      "text/html": "<div>\n<style scoped>\n    .dataframe tbody tr th:only-of-type {\n        vertical-align: middle;\n    }\n\n    .dataframe tbody tr th {\n        vertical-align: top;\n    }\n\n    .dataframe thead th {\n        text-align: right;\n    }\n</style>\n<table border=\"1\" class=\"dataframe\">\n  <thead>\n    <tr style=\"text-align: right;\">\n      <th></th>\n      <th>Div</th>\n      <th>Date</th>\n      <th>Time</th>\n      <th>HomeTeam</th>\n      <th>AwayTeam</th>\n      <th>FTHG</th>\n      <th>FTAG</th>\n      <th>FTR</th>\n      <th>HTHG</th>\n      <th>HTAG</th>\n      <th>...</th>\n      <th>MaxCAHA</th>\n      <th>AvgCAHH</th>\n      <th>AvgCAHA</th>\n      <th>Rating_Home</th>\n      <th>Rating_Away</th>\n      <th>Rating difference</th>\n      <th>game_home_ID</th>\n      <th>game_away_ID</th>\n      <th>Wk_h</th>\n      <th>Wk_a</th>\n    </tr>\n  </thead>\n  <tbody>\n    <tr>\n      <th>0</th>\n      <td>E0</td>\n      <td>2021-08-13</td>\n      <td>20:00</td>\n      <td>Brentford</td>\n      <td>Arsenal</td>\n      <td>2</td>\n      <td>0</td>\n      <td>H</td>\n      <td>1</td>\n      <td>0</td>\n      <td>...</td>\n      <td>2.17</td>\n      <td>1.80</td>\n      <td>2.09</td>\n      <td>73</td>\n      <td>79</td>\n      <td>-6</td>\n      <td>Brentford2021-08-13</td>\n      <td>Arsenal2021-08-13</td>\n      <td>1</td>\n      <td>1</td>\n    </tr>\n    <tr>\n      <th>1</th>\n      <td>E0</td>\n      <td>2021-08-14</td>\n      <td>12:30</td>\n      <td>Manchester Utd</td>\n      <td>Leeds United</td>\n      <td>5</td>\n      <td>1</td>\n      <td>H</td>\n      <td>1</td>\n      <td>0</td>\n      <td>...</td>\n      <td>1.93</td>\n      <td>2.10</td>\n      <td>1.79</td>\n      <td>83</td>\n      <td>76</td>\n      <td>7</td>\n      <td>Manchester Utd2021-08-14</td>\n      <td>Leeds United2021-08-14</td>\n      <td>1</td>\n      <td>1</td>\n    </tr>\n    <tr>\n      <th>2</th>\n      <td>E0</td>\n      <td>2021-08-14</td>\n      <td>15:00</td>\n      <td>Burnley</td>\n      <td>Brighton</td>\n      <td>1</td>\n      <td>2</td>\n      <td>A</td>\n      <td>1</td>\n      <td>0</td>\n      <td>...</td>\n      <td>2.19</td>\n      <td>1.79</td>\n      <td>2.12</td>\n      <td>76</td>\n      <td>75</td>\n      <td>1</td>\n      <td>Burnley2021-08-14</td>\n      <td>Brighton2021-08-14</td>\n      <td>1</td>\n      <td>1</td>\n    </tr>\n    <tr>\n      <th>3</th>\n      <td>E0</td>\n      <td>2021-08-14</td>\n      <td>15:00</td>\n      <td>Chelsea</td>\n      <td>Crystal Palace</td>\n      <td>3</td>\n      <td>0</td>\n      <td>H</td>\n      <td>2</td>\n      <td>0</td>\n      <td>...</td>\n      <td>1.93</td>\n      <td>2.06</td>\n      <td>1.82</td>\n      <td>83</td>\n      <td>76</td>\n      <td>7</td>\n      <td>Chelsea2021-08-14</td>\n      <td>Crystal Palace2021-08-14</td>\n      <td>1</td>\n      <td>1</td>\n    </tr>\n    <tr>\n      <th>4</th>\n      <td>E0</td>\n      <td>2021-08-14</td>\n      <td>15:00</td>\n      <td>Everton</td>\n      <td>Southampton</td>\n      <td>3</td>\n      <td>1</td>\n      <td>H</td>\n      <td>0</td>\n      <td>1</td>\n      <td>...</td>\n      <td>1.90</td>\n      <td>2.03</td>\n      <td>1.86</td>\n      <td>79</td>\n      <td>76</td>\n      <td>3</td>\n      <td>Everton2021-08-14</td>\n      <td>Southampton2021-08-14</td>\n      <td>1</td>\n      <td>1</td>\n    </tr>\n    <tr>\n      <th>...</th>\n      <td>...</td>\n      <td>...</td>\n      <td>...</td>\n      <td>...</td>\n      <td>...</td>\n      <td>...</td>\n      <td>...</td>\n      <td>...</td>\n      <td>...</td>\n      <td>...</td>\n      <td>...</td>\n      <td>...</td>\n      <td>...</td>\n      <td>...</td>\n      <td>...</td>\n      <td>...</td>\n      <td>...</td>\n      <td>...</td>\n      <td>...</td>\n      <td>...</td>\n      <td>...</td>\n    </tr>\n    <tr>\n      <th>375</th>\n      <td>E0</td>\n      <td>2022-05-22</td>\n      <td>16:00</td>\n      <td>Crystal Palace</td>\n      <td>Manchester Utd</td>\n      <td>1</td>\n      <td>0</td>\n      <td>H</td>\n      <td>1</td>\n      <td>0</td>\n      <td>...</td>\n      <td>2.25</td>\n      <td>1.74</td>\n      <td>2.16</td>\n      <td>76</td>\n      <td>83</td>\n      <td>-7</td>\n      <td>Crystal Palace2022-05-22</td>\n      <td>Manchester Utd2022-05-22</td>\n      <td>38</td>\n      <td>38</td>\n    </tr>\n    <tr>\n      <th>376</th>\n      <td>E0</td>\n      <td>2022-05-22</td>\n      <td>16:00</td>\n      <td>Leicester City</td>\n      <td>Southampton</td>\n      <td>4</td>\n      <td>1</td>\n      <td>H</td>\n      <td>0</td>\n      <td>0</td>\n      <td>...</td>\n      <td>2.26</td>\n      <td>1.87</td>\n      <td>2.01</td>\n      <td>80</td>\n      <td>76</td>\n      <td>4</td>\n      <td>Leicester City2022-05-22</td>\n      <td>Southampton2022-05-22</td>\n      <td>38</td>\n      <td>38</td>\n    </tr>\n    <tr>\n      <th>377</th>\n      <td>E0</td>\n      <td>2022-05-22</td>\n      <td>16:00</td>\n      <td>Liverpool</td>\n      <td>Wolves</td>\n      <td>3</td>\n      <td>1</td>\n      <td>H</td>\n      <td>1</td>\n      <td>1</td>\n      <td>...</td>\n      <td>1.99</td>\n      <td>2.07</td>\n      <td>1.80</td>\n      <td>84</td>\n      <td>78</td>\n      <td>6</td>\n      <td>Liverpool2022-05-22</td>\n      <td>Wolves2022-05-22</td>\n      <td>38</td>\n      <td>38</td>\n    </tr>\n    <tr>\n      <th>378</th>\n      <td>E0</td>\n      <td>2022-05-22</td>\n      <td>16:00</td>\n      <td>Manchester City</td>\n      <td>Aston Villa</td>\n      <td>3</td>\n      <td>2</td>\n      <td>H</td>\n      <td>0</td>\n      <td>1</td>\n      <td>...</td>\n      <td>2.03</td>\n      <td>2.01</td>\n      <td>1.87</td>\n      <td>85</td>\n      <td>78</td>\n      <td>7</td>\n      <td>Manchester City2022-05-22</td>\n      <td>Aston Villa2022-05-22</td>\n      <td>38</td>\n      <td>38</td>\n    </tr>\n    <tr>\n      <th>379</th>\n      <td>E0</td>\n      <td>2022-05-22</td>\n      <td>16:00</td>\n      <td>Norwich City</td>\n      <td>Tottenham</td>\n      <td>0</td>\n      <td>5</td>\n      <td>A</td>\n      <td>0</td>\n      <td>2</td>\n      <td>...</td>\n      <td>1.98</td>\n      <td>1.99</td>\n      <td>1.89</td>\n      <td>74</td>\n      <td>82</td>\n      <td>-8</td>\n      <td>Norwich City2022-05-22</td>\n      <td>Tottenham2022-05-22</td>\n      <td>38</td>\n      <td>38</td>\n    </tr>\n  </tbody>\n</table>\n<p>380 rows × 113 columns</p>\n</div>"
     },
     "execution_count": 8,
     "metadata": {},
     "output_type": "execute_result"
    }
   ],
   "source": [
    "#generate gameweeks dependening on the order of the games\n",
    "def generate_gameweeks(df):\n",
    "    teams = df.HomeTeam.unique().tolist()\n",
    "    df['Wk_h'] = 0\n",
    "    df['Wk_a'] = 0\n",
    "    for team in teams:\n",
    "        count = 1\n",
    "        for index, row in df.iterrows():\n",
    "            if row['HomeTeam'] == team:\n",
    "                df.at[index, 'Wk_h'] = count\n",
    "                count = count + 1\n",
    "            elif row['AwayTeam'] == team:\n",
    "                df.at[index, 'Wk_a'] = count\n",
    "                count = count + 1\n",
    "    return df\n",
    "\n",
    "PL19_20_fixtures = generate_gameweeks(PL19_20_fixtures)\n",
    "PL20_21_fixtures = generate_gameweeks(PL20_21_fixtures)\n",
    "PL21_22_fixtures = generate_gameweeks(PL21_22_fixtures)\n",
    "\n",
    "PL21_22_fixtures"
   ],
   "metadata": {
    "collapsed": false,
    "pycharm": {
     "name": "#%%\n"
    }
   }
  },
  {
   "cell_type": "code",
   "execution_count": 43,
   "outputs": [
    {
     "data": {
      "text/plain": "    Div        Date   Time         HomeTeam        AwayTeam  FTHG  FTAG FTR  \\\n0    E0  2021-08-13  20:00        Brentford         Arsenal     2     0   H   \n1    E0  2021-08-14  12:30   Manchester Utd    Leeds United     5     1   H   \n2    E0  2021-08-14  15:00          Burnley        Brighton     1     2   A   \n3    E0  2021-08-14  15:00          Chelsea  Crystal Palace     3     0   H   \n4    E0  2021-08-14  15:00          Everton     Southampton     3     1   H   \n..   ..         ...    ...              ...             ...   ...   ...  ..   \n375  E0  2022-05-22  16:00   Crystal Palace  Manchester Utd     1     0   H   \n376  E0  2022-05-22  16:00   Leicester City     Southampton     4     1   H   \n377  E0  2022-05-22  16:00        Liverpool          Wolves     3     1   H   \n378  E0  2022-05-22  16:00  Manchester City     Aston Villa     3     2   H   \n379  E0  2022-05-22  16:00     Norwich City       Tottenham     0     5   A   \n\n     HTHG  HTAG  ...   cornersH   cornersA       ewmH       ewmA     formH  \\\n0       1     0  ...   0.000000   0.000000   0.000000   0.000000  0.000000   \n1       1     0  ...   0.000000   0.000000   0.000000   0.000000  0.000000   \n2       1     0  ...   0.000000   0.000000   0.000000   0.000000  0.000000   \n3       2     0  ...   0.000000   0.000000   0.000000   0.000000  0.000000   \n4       0     1  ...   0.000000   0.000000   0.000000   0.000000  0.000000   \n..    ...   ...  ...        ...        ...        ...        ...       ...   \n375     1     0  ...  19.166667  18.000000  44.986690  57.968997  3.333333   \n376     0     0  ...  18.666667  20.833333  48.866999  39.999897  3.333333   \n377     1     1  ...  25.166667  15.166667  88.668667  50.899000  7.833333   \n378     0     1  ...  23.166667  18.666667  89.866667  44.889669  8.500000   \n379     0     2  ...  18.000000  17.166667  21.900000  67.668690  3.000000   \n\n        formA  Elo_h_after  Elo_a_after  Elo_h_before  Elo_a_before  \n0    0.000000       1515.0       1485.0        1500.0        1500.0  \n1    0.000000          NaN          NaN           NaN           NaN  \n2    0.000000          NaN          NaN           NaN           NaN  \n3    0.000000          NaN          NaN           NaN           NaN  \n4    0.000000          NaN          NaN           NaN           NaN  \n..        ...          ...          ...           ...           ...  \n375  3.333333          NaN          NaN           NaN           NaN  \n376  3.000000          NaN          NaN           NaN           NaN  \n377  3.333333          NaN          NaN           NaN           NaN  \n378  4.500000          NaN          NaN           NaN           NaN  \n379  6.000000          NaN          NaN           NaN           NaN  \n\n[380 rows x 127 columns]",
      "text/html": "<div>\n<style scoped>\n    .dataframe tbody tr th:only-of-type {\n        vertical-align: middle;\n    }\n\n    .dataframe tbody tr th {\n        vertical-align: top;\n    }\n\n    .dataframe thead th {\n        text-align: right;\n    }\n</style>\n<table border=\"1\" class=\"dataframe\">\n  <thead>\n    <tr style=\"text-align: right;\">\n      <th></th>\n      <th>Div</th>\n      <th>Date</th>\n      <th>Time</th>\n      <th>HomeTeam</th>\n      <th>AwayTeam</th>\n      <th>FTHG</th>\n      <th>FTAG</th>\n      <th>FTR</th>\n      <th>HTHG</th>\n      <th>HTAG</th>\n      <th>...</th>\n      <th>cornersH</th>\n      <th>cornersA</th>\n      <th>ewmH</th>\n      <th>ewmA</th>\n      <th>formH</th>\n      <th>formA</th>\n      <th>Elo_h_after</th>\n      <th>Elo_a_after</th>\n      <th>Elo_h_before</th>\n      <th>Elo_a_before</th>\n    </tr>\n  </thead>\n  <tbody>\n    <tr>\n      <th>0</th>\n      <td>E0</td>\n      <td>2021-08-13</td>\n      <td>20:00</td>\n      <td>Brentford</td>\n      <td>Arsenal</td>\n      <td>2</td>\n      <td>0</td>\n      <td>H</td>\n      <td>1</td>\n      <td>0</td>\n      <td>...</td>\n      <td>0.000000</td>\n      <td>0.000000</td>\n      <td>0.000000</td>\n      <td>0.000000</td>\n      <td>0.000000</td>\n      <td>0.000000</td>\n      <td>1515.0</td>\n      <td>1485.0</td>\n      <td>1500.0</td>\n      <td>1500.0</td>\n    </tr>\n    <tr>\n      <th>1</th>\n      <td>E0</td>\n      <td>2021-08-14</td>\n      <td>12:30</td>\n      <td>Manchester Utd</td>\n      <td>Leeds United</td>\n      <td>5</td>\n      <td>1</td>\n      <td>H</td>\n      <td>1</td>\n      <td>0</td>\n      <td>...</td>\n      <td>0.000000</td>\n      <td>0.000000</td>\n      <td>0.000000</td>\n      <td>0.000000</td>\n      <td>0.000000</td>\n      <td>0.000000</td>\n      <td>NaN</td>\n      <td>NaN</td>\n      <td>NaN</td>\n      <td>NaN</td>\n    </tr>\n    <tr>\n      <th>2</th>\n      <td>E0</td>\n      <td>2021-08-14</td>\n      <td>15:00</td>\n      <td>Burnley</td>\n      <td>Brighton</td>\n      <td>1</td>\n      <td>2</td>\n      <td>A</td>\n      <td>1</td>\n      <td>0</td>\n      <td>...</td>\n      <td>0.000000</td>\n      <td>0.000000</td>\n      <td>0.000000</td>\n      <td>0.000000</td>\n      <td>0.000000</td>\n      <td>0.000000</td>\n      <td>NaN</td>\n      <td>NaN</td>\n      <td>NaN</td>\n      <td>NaN</td>\n    </tr>\n    <tr>\n      <th>3</th>\n      <td>E0</td>\n      <td>2021-08-14</td>\n      <td>15:00</td>\n      <td>Chelsea</td>\n      <td>Crystal Palace</td>\n      <td>3</td>\n      <td>0</td>\n      <td>H</td>\n      <td>2</td>\n      <td>0</td>\n      <td>...</td>\n      <td>0.000000</td>\n      <td>0.000000</td>\n      <td>0.000000</td>\n      <td>0.000000</td>\n      <td>0.000000</td>\n      <td>0.000000</td>\n      <td>NaN</td>\n      <td>NaN</td>\n      <td>NaN</td>\n      <td>NaN</td>\n    </tr>\n    <tr>\n      <th>4</th>\n      <td>E0</td>\n      <td>2021-08-14</td>\n      <td>15:00</td>\n      <td>Everton</td>\n      <td>Southampton</td>\n      <td>3</td>\n      <td>1</td>\n      <td>H</td>\n      <td>0</td>\n      <td>1</td>\n      <td>...</td>\n      <td>0.000000</td>\n      <td>0.000000</td>\n      <td>0.000000</td>\n      <td>0.000000</td>\n      <td>0.000000</td>\n      <td>0.000000</td>\n      <td>NaN</td>\n      <td>NaN</td>\n      <td>NaN</td>\n      <td>NaN</td>\n    </tr>\n    <tr>\n      <th>...</th>\n      <td>...</td>\n      <td>...</td>\n      <td>...</td>\n      <td>...</td>\n      <td>...</td>\n      <td>...</td>\n      <td>...</td>\n      <td>...</td>\n      <td>...</td>\n      <td>...</td>\n      <td>...</td>\n      <td>...</td>\n      <td>...</td>\n      <td>...</td>\n      <td>...</td>\n      <td>...</td>\n      <td>...</td>\n      <td>...</td>\n      <td>...</td>\n      <td>...</td>\n      <td>...</td>\n    </tr>\n    <tr>\n      <th>375</th>\n      <td>E0</td>\n      <td>2022-05-22</td>\n      <td>16:00</td>\n      <td>Crystal Palace</td>\n      <td>Manchester Utd</td>\n      <td>1</td>\n      <td>0</td>\n      <td>H</td>\n      <td>1</td>\n      <td>0</td>\n      <td>...</td>\n      <td>19.166667</td>\n      <td>18.000000</td>\n      <td>44.986690</td>\n      <td>57.968997</td>\n      <td>3.333333</td>\n      <td>3.333333</td>\n      <td>NaN</td>\n      <td>NaN</td>\n      <td>NaN</td>\n      <td>NaN</td>\n    </tr>\n    <tr>\n      <th>376</th>\n      <td>E0</td>\n      <td>2022-05-22</td>\n      <td>16:00</td>\n      <td>Leicester City</td>\n      <td>Southampton</td>\n      <td>4</td>\n      <td>1</td>\n      <td>H</td>\n      <td>0</td>\n      <td>0</td>\n      <td>...</td>\n      <td>18.666667</td>\n      <td>20.833333</td>\n      <td>48.866999</td>\n      <td>39.999897</td>\n      <td>3.333333</td>\n      <td>3.000000</td>\n      <td>NaN</td>\n      <td>NaN</td>\n      <td>NaN</td>\n      <td>NaN</td>\n    </tr>\n    <tr>\n      <th>377</th>\n      <td>E0</td>\n      <td>2022-05-22</td>\n      <td>16:00</td>\n      <td>Liverpool</td>\n      <td>Wolves</td>\n      <td>3</td>\n      <td>1</td>\n      <td>H</td>\n      <td>1</td>\n      <td>1</td>\n      <td>...</td>\n      <td>25.166667</td>\n      <td>15.166667</td>\n      <td>88.668667</td>\n      <td>50.899000</td>\n      <td>7.833333</td>\n      <td>3.333333</td>\n      <td>NaN</td>\n      <td>NaN</td>\n      <td>NaN</td>\n      <td>NaN</td>\n    </tr>\n    <tr>\n      <th>378</th>\n      <td>E0</td>\n      <td>2022-05-22</td>\n      <td>16:00</td>\n      <td>Manchester City</td>\n      <td>Aston Villa</td>\n      <td>3</td>\n      <td>2</td>\n      <td>H</td>\n      <td>0</td>\n      <td>1</td>\n      <td>...</td>\n      <td>23.166667</td>\n      <td>18.666667</td>\n      <td>89.866667</td>\n      <td>44.889669</td>\n      <td>8.500000</td>\n      <td>4.500000</td>\n      <td>NaN</td>\n      <td>NaN</td>\n      <td>NaN</td>\n      <td>NaN</td>\n    </tr>\n    <tr>\n      <th>379</th>\n      <td>E0</td>\n      <td>2022-05-22</td>\n      <td>16:00</td>\n      <td>Norwich City</td>\n      <td>Tottenham</td>\n      <td>0</td>\n      <td>5</td>\n      <td>A</td>\n      <td>0</td>\n      <td>2</td>\n      <td>...</td>\n      <td>18.000000</td>\n      <td>17.166667</td>\n      <td>21.900000</td>\n      <td>67.668690</td>\n      <td>3.000000</td>\n      <td>6.000000</td>\n      <td>NaN</td>\n      <td>NaN</td>\n      <td>NaN</td>\n      <td>NaN</td>\n    </tr>\n  </tbody>\n</table>\n<p>380 rows × 127 columns</p>\n</div>"
     },
     "execution_count": 43,
     "metadata": {},
     "output_type": "execute_result"
    }
   ],
   "source": [
    "#functions for feature Engineering\n",
    "def get_points(team, wk, df):\n",
    "    #print(df.type)\n",
    "    for index, row in df.iterrows():\n",
    "        #print(row[['HomeTeam','Wk']])\n",
    "        if row['Wk_h'] == wk and row['HomeTeam'] == team:\n",
    "            if row['FTR'] == 'H':\n",
    "                return 3\n",
    "            if row['FTR'] == 'D':\n",
    "                return 1\n",
    "            else:\n",
    "                return 0\n",
    "        if row['Wk_a'] == wk and row['AwayTeam'] == team:\n",
    "            if row['FTR'] == 'A':\n",
    "                return 3\n",
    "            if row['FTR'] == 'D':\n",
    "                return 1\n",
    "            else:\n",
    "                return 0\n",
    "\n",
    "\n",
    "def get_stats(team, wk, stat, df):\n",
    "    for index, row in df.iterrows():\n",
    "        #print(row[['HomeTeam','Wk']])\n",
    "        if row['Wk_h'] == wk and row['HomeTeam'] == team:\n",
    "            if stat == 'goals':\n",
    "                return row['FTHG']\n",
    "            elif stat == 'shots':\n",
    "                return row['HST']\n",
    "            elif stat == 'corners':\n",
    "                return row['HC']\n",
    "        elif row['Wk_a'] == wk and row['AwayTeam'] == team:\n",
    "            if stat == 'goals':\n",
    "                return row['FTAG']\n",
    "            elif stat == 'shots':\n",
    "                return row['AST']\n",
    "            elif stat == 'corners':\n",
    "                return row['AC']\n",
    "            return row[stat]\n",
    "\n",
    "\n",
    "def get_points_season(team, fr, to, df):\n",
    "    test = []\n",
    "    out = 0\n",
    "    df2 = 0\n",
    "    if fr == to: return 0\n",
    "    for i in range(fr, to):\n",
    "        out = out + get_points(team, i, df)\n",
    "        test.append(out)\n",
    "        df3 = pd.Series(test)\n",
    "        df2 = df3.rolling(len(df3)).mean()\n",
    "        df2 = df2[len(df3) - 1]\n",
    "        #print(df2[len(df)-1])\n",
    "        #print(df2)\n",
    "    return df2\n",
    "\n",
    "\n",
    "def get_stats_season(team, fr, to, category, df):\n",
    "    test = []\n",
    "    out = 0\n",
    "    df2 = 0\n",
    "    if fr == to: return 0\n",
    "    for i in range(fr, to):\n",
    "        out = out + get_stats(team, i, category, df)\n",
    "        test.append(out)\n",
    "        df3 = pd.Series(test)\n",
    "        df2 = df3.rolling(len(df3)).mean()\n",
    "        df2 = df2[len(df3) - 1]\n",
    "        #df2 = df.ewm(alpha=0.4).mean()[len(df) - 1]\n",
    "    return df2\n",
    "\n",
    "\n",
    "def get_ewm_season(team, fr, to, df):\n",
    "    test = []\n",
    "    out = 0\n",
    "    if fr == to: return 0\n",
    "    for i in range(fr, to):\n",
    "        out = out + get_points(team, i, df)\n",
    "        test.append(out)\n",
    "        df3 = pd.Series(test)\n",
    "        df2 = df3.ewm(alpha=0.9).mean()[len(df3) - 1]\n",
    "    return df2\n",
    "\n",
    "\n",
    "def append_form(timespan, df):\n",
    "    formH = []\n",
    "    formA = []\n",
    "    for index, row in df.iterrows():\n",
    "        wk_h = row['Wk_h']\n",
    "        wk_a = row['Wk_a']\n",
    "        teamH = row['HomeTeam']\n",
    "        teamA = row['AwayTeam']\n",
    "        if int(wk_h) - timespan < 1:\n",
    "            pointsH = get_points_season(teamH, 1, int(wk_h) - 1, df)\n",
    "        else:\n",
    "            pointsH = get_points_season(teamH, int(wk_h) - timespan, int(wk_h) - 1, df=df)\n",
    "        if int(wk_a) - timespan < 1:\n",
    "            pointsA = get_points_season(teamA, 1, int(wk_a) - 1, df)\n",
    "        else:\n",
    "            pointsA = get_points_season(teamA, int(wk_a) - timespan, int(wk_a) - 1, df=df)\n",
    "        formH.append(pointsH)\n",
    "        formA.append(pointsA)\n",
    "    df['formH'] = formH\n",
    "    df['formA'] = formA\n",
    "    return df\n",
    "\n",
    "\n",
    "def append_ewm(timespan, df):\n",
    "    formH = []\n",
    "    formA = []\n",
    "    for index, row in df.iterrows():\n",
    "        wk_h = row['Wk_h']\n",
    "        wk_a = row['Wk_a']\n",
    "        teamH = row['HomeTeam']\n",
    "        teamA = row['AwayTeam']\n",
    "        if int(wk_h) - timespan < 1:\n",
    "            pointsH = get_ewm_season(teamH, 1, int(wk_h), df)\n",
    "        else:\n",
    "            pointsH = get_ewm_season(teamH, int(wk_h) - timespan, int(wk_h) - 1, df)\n",
    "        if int(wk_a) - timespan < 1:\n",
    "            pointsA = get_ewm_season(teamA, 1, int(wk_a), df)\n",
    "        else:\n",
    "            pointsA = get_ewm_season(teamA, int(wk_a) - timespan, int(wk_a) - 1, df)\n",
    "        formH.append(pointsH)\n",
    "        formA.append(pointsA)\n",
    "    df['ewmH'] = formH\n",
    "    df['ewmA'] = formA\n",
    "    return df\n",
    "\n",
    "\n",
    "def append_stats(timespan, df):\n",
    "    goals_h = []\n",
    "    goals_A = []\n",
    "    shots_H = []\n",
    "    shots_A = []\n",
    "    corners_H = []\n",
    "    corners_A = []\n",
    "\n",
    "    for index, row in df.iterrows():\n",
    "        wk_h = row['Wk_h']\n",
    "        wk_a = row['Wk_a']\n",
    "        teamH = row['HomeTeam']\n",
    "        teamA = row['AwayTeam']\n",
    "        if int(wk_h) - timespan < 1:\n",
    "            goalsH = get_stats_season(teamH, 1, int(wk_h) - 1, 'goals', df)\n",
    "            shotsH = get_stats_season(teamH, 1, int(wk_h) - 1, 'shots', df)\n",
    "            cornersH = get_stats_season(teamH, 1, int(wk_h) - 1, 'corners', df)\n",
    "        else:\n",
    "            goalsH = get_stats_season(teamH, int(wk_h) - timespan, int(wk_h) - 1, 'goals', df)\n",
    "            shotsH = get_stats_season(teamH, int(wk_h) - timespan, int(wk_h) - 1, 'shots', df)\n",
    "            cornersH = get_stats_season(teamH, int(wk_h) - timespan, int(wk_h) - 1, 'corners', df)\n",
    "\n",
    "        if int(wk_a) - timespan < 1:\n",
    "            goalsA = get_stats_season(teamA, 1, int(wk_a) - 1, 'goals', df)\n",
    "            shotsA = get_stats_season(teamA, 1, int(wk_a) - 1, 'shots', df)\n",
    "            cornersA = get_stats_season(teamA, 1, int(wk_a) - 1, 'corners', df)\n",
    "        else:\n",
    "            goalsA = get_stats_season(teamA, int(wk_a) - timespan, int(wk_a) - 1, 'goals', df)\n",
    "            shotsA = get_stats_season(teamA, int(wk_a) - timespan, int(wk_a) - 1, 'shots', df)\n",
    "            cornersA = get_stats_season(teamA, int(wk_a) - timespan, int(wk_a) - 1, 'corners', df)\n",
    "\n",
    "        goals_h.append(goalsH)\n",
    "        goals_A.append(goalsA)\n",
    "        shots_H.append(shotsH)\n",
    "        shots_A.append(shotsA)\n",
    "        corners_H.append(cornersH)\n",
    "        corners_A.append(cornersA)\n",
    "    df['goalsH'] = goals_h\n",
    "    df['goalsA'] = goals_A\n",
    "    df['shotsH'] = shots_H\n",
    "    df['shotsA'] = shots_A\n",
    "    df['cornersH'] = corners_H\n",
    "    df['cornersA'] = corners_A\n",
    "    return df\n",
    "\n",
    "\n",
    "#Elo Rating\n",
    "def expected_result(loc, aw):\n",
    "    dr = loc - aw\n",
    "    we = (1 / (10 ** (-dr / 400) + 1))\n",
    "    return [np.round(we, 3), 1 - np.round(we, 3)]\n",
    "\n",
    "\n",
    "def actual_result(loc, aw):\n",
    "    if loc < aw:\n",
    "        wa = 1\n",
    "        wl = 0\n",
    "    elif loc > aw:\n",
    "        wa = 0\n",
    "        wl = 1\n",
    "    elif loc == aw:\n",
    "        wa = 0.5\n",
    "        wl = 0.5\n",
    "    return [wl, wa]\n",
    "\n",
    "\n",
    "def calculate_elo(elo_l, elo_v, local_goals, away_goals, k_value):\n",
    "    k = k_value\n",
    "    wl, wv = actual_result(local_goals, away_goals)\n",
    "    wel, wev = expected_result(elo_l, elo_v)\n",
    "\n",
    "    elo_ln = elo_l + k * (wl - wel)\n",
    "    elo_vn = elo_v + k * (wv - wev)\n",
    "\n",
    "    return elo_ln, elo_vn\n",
    "\n",
    "def calculate_elo_season(df):\n",
    "    current_elo = {}\n",
    "    for idx, row in df.iterrows():\n",
    "\n",
    "        local = row['HomeTeam']\n",
    "        away = row['AwayTeam']\n",
    "        local_goals = row['FTHG']\n",
    "        away_goals = row['FTAG']\n",
    "        #tournament = row['tournament']\n",
    "\n",
    "        if local not in current_elo.keys():\n",
    "            current_elo[local] = 1500\n",
    "\n",
    "        if away not in current_elo.keys():\n",
    "            current_elo[away] = 1500\n",
    "\n",
    "        elo_l = current_elo[local]\n",
    "        elo_v = current_elo[away]\n",
    "        elo_ln, elo_vn = calculate_elo(elo_l, elo_v, local_goals, away_goals, 30)\n",
    "\n",
    "        current_elo[local] = elo_ln\n",
    "        current_elo[away] = elo_vn\n",
    "\n",
    "        df.loc[idx, 'Elo_h_after'] = elo_ln\n",
    "        df.loc[idx, 'Elo_a_after'] = elo_vn\n",
    "        df.loc[idx, 'Elo_h_before'] = elo_l\n",
    "        df.loc[idx, 'Elo_a_before'] = elo_v\n",
    "        return df\n",
    "calculate_elo_season(PL21_22_fixtures)\n",
    "#append_form(7, PL20_21_fixtures)"
   ],
   "metadata": {
    "collapsed": false,
    "pycharm": {
     "name": "#%%\n"
    }
   }
  },
  {
   "cell_type": "code",
   "execution_count": 41,
   "outputs": [
    {
     "data": {
      "text/plain": "    Div        Date   Time         HomeTeam        AwayTeam  FTHG  FTAG FTR  \\\n0    E0  2021-08-13  20:00        Brentford         Arsenal     2     0   H   \n1    E0  2021-08-14  12:30   Manchester Utd    Leeds United     5     1   H   \n2    E0  2021-08-14  15:00          Burnley        Brighton     1     2   A   \n3    E0  2021-08-14  15:00          Chelsea  Crystal Palace     3     0   H   \n4    E0  2021-08-14  15:00          Everton     Southampton     3     1   H   \n..   ..         ...    ...              ...             ...   ...   ...  ..   \n375  E0  2022-05-22  16:00   Crystal Palace  Manchester Utd     1     0   H   \n376  E0  2022-05-22  16:00   Leicester City     Southampton     4     1   H   \n377  E0  2022-05-22  16:00        Liverpool          Wolves     3     1   H   \n378  E0  2022-05-22  16:00  Manchester City     Aston Villa     3     2   H   \n379  E0  2022-05-22  16:00     Norwich City       Tottenham     0     5   A   \n\n     HTHG  HTAG  ...   cornersH   cornersA       ewmH       ewmA     formH  \\\n0       1     0  ...   0.000000   0.000000   0.000000   0.000000  0.000000   \n1       1     0  ...   0.000000   0.000000   0.000000   0.000000  0.000000   \n2       1     0  ...   0.000000   0.000000   0.000000   0.000000  0.000000   \n3       2     0  ...   0.000000   0.000000   0.000000   0.000000  0.000000   \n4       0     1  ...   0.000000   0.000000   0.000000   0.000000  0.000000   \n..    ...   ...  ...        ...        ...        ...        ...       ...   \n375     1     0  ...  19.166667  18.000000  44.986690  57.968997  3.333333   \n376     0     0  ...  18.666667  20.833333  48.866999  39.999897  3.333333   \n377     1     1  ...  25.166667  15.166667  88.668667  50.899000  7.833333   \n378     0     1  ...  23.166667  18.666667  89.866667  44.889669  8.500000   \n379     0     2  ...  18.000000  17.166667  21.900000  67.668690  3.000000   \n\n        formA  Elo_h_after  Elo_a_after  Elo_h_before  Elo_a_before  \n0    0.000000       1515.0       1485.0        1500.0        1500.0  \n1    0.000000          NaN          NaN           NaN           NaN  \n2    0.000000          NaN          NaN           NaN           NaN  \n3    0.000000          NaN          NaN           NaN           NaN  \n4    0.000000          NaN          NaN           NaN           NaN  \n..        ...          ...          ...           ...           ...  \n375  3.333333          NaN          NaN           NaN           NaN  \n376  3.000000          NaN          NaN           NaN           NaN  \n377  3.333333          NaN          NaN           NaN           NaN  \n378  4.500000          NaN          NaN           NaN           NaN  \n379  6.000000          NaN          NaN           NaN           NaN  \n\n[380 rows x 127 columns]",
      "text/html": "<div>\n<style scoped>\n    .dataframe tbody tr th:only-of-type {\n        vertical-align: middle;\n    }\n\n    .dataframe tbody tr th {\n        vertical-align: top;\n    }\n\n    .dataframe thead th {\n        text-align: right;\n    }\n</style>\n<table border=\"1\" class=\"dataframe\">\n  <thead>\n    <tr style=\"text-align: right;\">\n      <th></th>\n      <th>Div</th>\n      <th>Date</th>\n      <th>Time</th>\n      <th>HomeTeam</th>\n      <th>AwayTeam</th>\n      <th>FTHG</th>\n      <th>FTAG</th>\n      <th>FTR</th>\n      <th>HTHG</th>\n      <th>HTAG</th>\n      <th>...</th>\n      <th>cornersH</th>\n      <th>cornersA</th>\n      <th>ewmH</th>\n      <th>ewmA</th>\n      <th>formH</th>\n      <th>formA</th>\n      <th>Elo_h_after</th>\n      <th>Elo_a_after</th>\n      <th>Elo_h_before</th>\n      <th>Elo_a_before</th>\n    </tr>\n  </thead>\n  <tbody>\n    <tr>\n      <th>0</th>\n      <td>E0</td>\n      <td>2021-08-13</td>\n      <td>20:00</td>\n      <td>Brentford</td>\n      <td>Arsenal</td>\n      <td>2</td>\n      <td>0</td>\n      <td>H</td>\n      <td>1</td>\n      <td>0</td>\n      <td>...</td>\n      <td>0.000000</td>\n      <td>0.000000</td>\n      <td>0.000000</td>\n      <td>0.000000</td>\n      <td>0.000000</td>\n      <td>0.000000</td>\n      <td>1515.0</td>\n      <td>1485.0</td>\n      <td>1500.0</td>\n      <td>1500.0</td>\n    </tr>\n    <tr>\n      <th>1</th>\n      <td>E0</td>\n      <td>2021-08-14</td>\n      <td>12:30</td>\n      <td>Manchester Utd</td>\n      <td>Leeds United</td>\n      <td>5</td>\n      <td>1</td>\n      <td>H</td>\n      <td>1</td>\n      <td>0</td>\n      <td>...</td>\n      <td>0.000000</td>\n      <td>0.000000</td>\n      <td>0.000000</td>\n      <td>0.000000</td>\n      <td>0.000000</td>\n      <td>0.000000</td>\n      <td>NaN</td>\n      <td>NaN</td>\n      <td>NaN</td>\n      <td>NaN</td>\n    </tr>\n    <tr>\n      <th>2</th>\n      <td>E0</td>\n      <td>2021-08-14</td>\n      <td>15:00</td>\n      <td>Burnley</td>\n      <td>Brighton</td>\n      <td>1</td>\n      <td>2</td>\n      <td>A</td>\n      <td>1</td>\n      <td>0</td>\n      <td>...</td>\n      <td>0.000000</td>\n      <td>0.000000</td>\n      <td>0.000000</td>\n      <td>0.000000</td>\n      <td>0.000000</td>\n      <td>0.000000</td>\n      <td>NaN</td>\n      <td>NaN</td>\n      <td>NaN</td>\n      <td>NaN</td>\n    </tr>\n    <tr>\n      <th>3</th>\n      <td>E0</td>\n      <td>2021-08-14</td>\n      <td>15:00</td>\n      <td>Chelsea</td>\n      <td>Crystal Palace</td>\n      <td>3</td>\n      <td>0</td>\n      <td>H</td>\n      <td>2</td>\n      <td>0</td>\n      <td>...</td>\n      <td>0.000000</td>\n      <td>0.000000</td>\n      <td>0.000000</td>\n      <td>0.000000</td>\n      <td>0.000000</td>\n      <td>0.000000</td>\n      <td>NaN</td>\n      <td>NaN</td>\n      <td>NaN</td>\n      <td>NaN</td>\n    </tr>\n    <tr>\n      <th>4</th>\n      <td>E0</td>\n      <td>2021-08-14</td>\n      <td>15:00</td>\n      <td>Everton</td>\n      <td>Southampton</td>\n      <td>3</td>\n      <td>1</td>\n      <td>H</td>\n      <td>0</td>\n      <td>1</td>\n      <td>...</td>\n      <td>0.000000</td>\n      <td>0.000000</td>\n      <td>0.000000</td>\n      <td>0.000000</td>\n      <td>0.000000</td>\n      <td>0.000000</td>\n      <td>NaN</td>\n      <td>NaN</td>\n      <td>NaN</td>\n      <td>NaN</td>\n    </tr>\n    <tr>\n      <th>...</th>\n      <td>...</td>\n      <td>...</td>\n      <td>...</td>\n      <td>...</td>\n      <td>...</td>\n      <td>...</td>\n      <td>...</td>\n      <td>...</td>\n      <td>...</td>\n      <td>...</td>\n      <td>...</td>\n      <td>...</td>\n      <td>...</td>\n      <td>...</td>\n      <td>...</td>\n      <td>...</td>\n      <td>...</td>\n      <td>...</td>\n      <td>...</td>\n      <td>...</td>\n      <td>...</td>\n    </tr>\n    <tr>\n      <th>375</th>\n      <td>E0</td>\n      <td>2022-05-22</td>\n      <td>16:00</td>\n      <td>Crystal Palace</td>\n      <td>Manchester Utd</td>\n      <td>1</td>\n      <td>0</td>\n      <td>H</td>\n      <td>1</td>\n      <td>0</td>\n      <td>...</td>\n      <td>19.166667</td>\n      <td>18.000000</td>\n      <td>44.986690</td>\n      <td>57.968997</td>\n      <td>3.333333</td>\n      <td>3.333333</td>\n      <td>NaN</td>\n      <td>NaN</td>\n      <td>NaN</td>\n      <td>NaN</td>\n    </tr>\n    <tr>\n      <th>376</th>\n      <td>E0</td>\n      <td>2022-05-22</td>\n      <td>16:00</td>\n      <td>Leicester City</td>\n      <td>Southampton</td>\n      <td>4</td>\n      <td>1</td>\n      <td>H</td>\n      <td>0</td>\n      <td>0</td>\n      <td>...</td>\n      <td>18.666667</td>\n      <td>20.833333</td>\n      <td>48.866999</td>\n      <td>39.999897</td>\n      <td>3.333333</td>\n      <td>3.000000</td>\n      <td>NaN</td>\n      <td>NaN</td>\n      <td>NaN</td>\n      <td>NaN</td>\n    </tr>\n    <tr>\n      <th>377</th>\n      <td>E0</td>\n      <td>2022-05-22</td>\n      <td>16:00</td>\n      <td>Liverpool</td>\n      <td>Wolves</td>\n      <td>3</td>\n      <td>1</td>\n      <td>H</td>\n      <td>1</td>\n      <td>1</td>\n      <td>...</td>\n      <td>25.166667</td>\n      <td>15.166667</td>\n      <td>88.668667</td>\n      <td>50.899000</td>\n      <td>7.833333</td>\n      <td>3.333333</td>\n      <td>NaN</td>\n      <td>NaN</td>\n      <td>NaN</td>\n      <td>NaN</td>\n    </tr>\n    <tr>\n      <th>378</th>\n      <td>E0</td>\n      <td>2022-05-22</td>\n      <td>16:00</td>\n      <td>Manchester City</td>\n      <td>Aston Villa</td>\n      <td>3</td>\n      <td>2</td>\n      <td>H</td>\n      <td>0</td>\n      <td>1</td>\n      <td>...</td>\n      <td>23.166667</td>\n      <td>18.666667</td>\n      <td>89.866667</td>\n      <td>44.889669</td>\n      <td>8.500000</td>\n      <td>4.500000</td>\n      <td>NaN</td>\n      <td>NaN</td>\n      <td>NaN</td>\n      <td>NaN</td>\n    </tr>\n    <tr>\n      <th>379</th>\n      <td>E0</td>\n      <td>2022-05-22</td>\n      <td>16:00</td>\n      <td>Norwich City</td>\n      <td>Tottenham</td>\n      <td>0</td>\n      <td>5</td>\n      <td>A</td>\n      <td>0</td>\n      <td>2</td>\n      <td>...</td>\n      <td>18.000000</td>\n      <td>17.166667</td>\n      <td>21.900000</td>\n      <td>67.668690</td>\n      <td>3.000000</td>\n      <td>6.000000</td>\n      <td>NaN</td>\n      <td>NaN</td>\n      <td>NaN</td>\n      <td>NaN</td>\n    </tr>\n  </tbody>\n</table>\n<p>380 rows × 127 columns</p>\n</div>"
     },
     "execution_count": 41,
     "metadata": {},
     "output_type": "execute_result"
    }
   ],
   "source": [
    "#PL19_20_fixtures = calculate_elo_season(PL19_20_fixtures)\n",
    "PL21_22_fixtures = calculate_elo_season(PL21_22_fixtures)\n",
    "PL21_22_fixtures"
   ],
   "metadata": {
    "collapsed": false,
    "pycharm": {
     "name": "#%%\n"
    }
   }
  },
  {
   "cell_type": "code",
   "execution_count": 40,
   "outputs": [
    {
     "data": {
      "text/plain": "    Div        Date   Time         HomeTeam        AwayTeam  FTHG  FTAG FTR  \\\n0    E0  2021-08-13  20:00        Brentford         Arsenal     2     0   H   \n1    E0  2021-08-14  12:30   Manchester Utd    Leeds United     5     1   H   \n2    E0  2021-08-14  15:00          Burnley        Brighton     1     2   A   \n3    E0  2021-08-14  15:00          Chelsea  Crystal Palace     3     0   H   \n4    E0  2021-08-14  15:00          Everton     Southampton     3     1   H   \n..   ..         ...    ...              ...             ...   ...   ...  ..   \n375  E0  2022-05-22  16:00   Crystal Palace  Manchester Utd     1     0   H   \n376  E0  2022-05-22  16:00   Leicester City     Southampton     4     1   H   \n377  E0  2022-05-22  16:00        Liverpool          Wolves     3     1   H   \n378  E0  2022-05-22  16:00  Manchester City     Aston Villa     3     2   H   \n379  E0  2022-05-22  16:00     Norwich City       Tottenham     0     5   A   \n\n     HTHG  HTAG  ...   cornersH   cornersA       ewmH       ewmA     formH  \\\n0       1     0  ...   0.000000   0.000000   0.000000   0.000000  0.000000   \n1       1     0  ...   0.000000   0.000000   0.000000   0.000000  0.000000   \n2       1     0  ...   0.000000   0.000000   0.000000   0.000000  0.000000   \n3       2     0  ...   0.000000   0.000000   0.000000   0.000000  0.000000   \n4       0     1  ...   0.000000   0.000000   0.000000   0.000000  0.000000   \n..    ...   ...  ...        ...        ...        ...        ...       ...   \n375     1     0  ...  19.166667  18.000000  44.986690  57.968997  3.333333   \n376     0     0  ...  18.666667  20.833333  48.866999  39.999897  3.333333   \n377     1     1  ...  25.166667  15.166667  88.668667  50.899000  7.833333   \n378     0     1  ...  23.166667  18.666667  89.866667  44.889669  8.500000   \n379     0     2  ...  18.000000  17.166667  21.900000  67.668690  3.000000   \n\n        formA  Elo_h_after  Elo_a_after  Elo_h_before  Elo_a_before  \n0    0.000000       1515.0       1485.0        1500.0        1500.0  \n1    0.000000          NaN          NaN           NaN           NaN  \n2    0.000000          NaN          NaN           NaN           NaN  \n3    0.000000          NaN          NaN           NaN           NaN  \n4    0.000000          NaN          NaN           NaN           NaN  \n..        ...          ...          ...           ...           ...  \n375  3.333333          NaN          NaN           NaN           NaN  \n376  3.000000          NaN          NaN           NaN           NaN  \n377  3.333333          NaN          NaN           NaN           NaN  \n378  4.500000          NaN          NaN           NaN           NaN  \n379  6.000000          NaN          NaN           NaN           NaN  \n\n[380 rows x 127 columns]",
      "text/html": "<div>\n<style scoped>\n    .dataframe tbody tr th:only-of-type {\n        vertical-align: middle;\n    }\n\n    .dataframe tbody tr th {\n        vertical-align: top;\n    }\n\n    .dataframe thead th {\n        text-align: right;\n    }\n</style>\n<table border=\"1\" class=\"dataframe\">\n  <thead>\n    <tr style=\"text-align: right;\">\n      <th></th>\n      <th>Div</th>\n      <th>Date</th>\n      <th>Time</th>\n      <th>HomeTeam</th>\n      <th>AwayTeam</th>\n      <th>FTHG</th>\n      <th>FTAG</th>\n      <th>FTR</th>\n      <th>HTHG</th>\n      <th>HTAG</th>\n      <th>...</th>\n      <th>cornersH</th>\n      <th>cornersA</th>\n      <th>ewmH</th>\n      <th>ewmA</th>\n      <th>formH</th>\n      <th>formA</th>\n      <th>Elo_h_after</th>\n      <th>Elo_a_after</th>\n      <th>Elo_h_before</th>\n      <th>Elo_a_before</th>\n    </tr>\n  </thead>\n  <tbody>\n    <tr>\n      <th>0</th>\n      <td>E0</td>\n      <td>2021-08-13</td>\n      <td>20:00</td>\n      <td>Brentford</td>\n      <td>Arsenal</td>\n      <td>2</td>\n      <td>0</td>\n      <td>H</td>\n      <td>1</td>\n      <td>0</td>\n      <td>...</td>\n      <td>0.000000</td>\n      <td>0.000000</td>\n      <td>0.000000</td>\n      <td>0.000000</td>\n      <td>0.000000</td>\n      <td>0.000000</td>\n      <td>1515.0</td>\n      <td>1485.0</td>\n      <td>1500.0</td>\n      <td>1500.0</td>\n    </tr>\n    <tr>\n      <th>1</th>\n      <td>E0</td>\n      <td>2021-08-14</td>\n      <td>12:30</td>\n      <td>Manchester Utd</td>\n      <td>Leeds United</td>\n      <td>5</td>\n      <td>1</td>\n      <td>H</td>\n      <td>1</td>\n      <td>0</td>\n      <td>...</td>\n      <td>0.000000</td>\n      <td>0.000000</td>\n      <td>0.000000</td>\n      <td>0.000000</td>\n      <td>0.000000</td>\n      <td>0.000000</td>\n      <td>NaN</td>\n      <td>NaN</td>\n      <td>NaN</td>\n      <td>NaN</td>\n    </tr>\n    <tr>\n      <th>2</th>\n      <td>E0</td>\n      <td>2021-08-14</td>\n      <td>15:00</td>\n      <td>Burnley</td>\n      <td>Brighton</td>\n      <td>1</td>\n      <td>2</td>\n      <td>A</td>\n      <td>1</td>\n      <td>0</td>\n      <td>...</td>\n      <td>0.000000</td>\n      <td>0.000000</td>\n      <td>0.000000</td>\n      <td>0.000000</td>\n      <td>0.000000</td>\n      <td>0.000000</td>\n      <td>NaN</td>\n      <td>NaN</td>\n      <td>NaN</td>\n      <td>NaN</td>\n    </tr>\n    <tr>\n      <th>3</th>\n      <td>E0</td>\n      <td>2021-08-14</td>\n      <td>15:00</td>\n      <td>Chelsea</td>\n      <td>Crystal Palace</td>\n      <td>3</td>\n      <td>0</td>\n      <td>H</td>\n      <td>2</td>\n      <td>0</td>\n      <td>...</td>\n      <td>0.000000</td>\n      <td>0.000000</td>\n      <td>0.000000</td>\n      <td>0.000000</td>\n      <td>0.000000</td>\n      <td>0.000000</td>\n      <td>NaN</td>\n      <td>NaN</td>\n      <td>NaN</td>\n      <td>NaN</td>\n    </tr>\n    <tr>\n      <th>4</th>\n      <td>E0</td>\n      <td>2021-08-14</td>\n      <td>15:00</td>\n      <td>Everton</td>\n      <td>Southampton</td>\n      <td>3</td>\n      <td>1</td>\n      <td>H</td>\n      <td>0</td>\n      <td>1</td>\n      <td>...</td>\n      <td>0.000000</td>\n      <td>0.000000</td>\n      <td>0.000000</td>\n      <td>0.000000</td>\n      <td>0.000000</td>\n      <td>0.000000</td>\n      <td>NaN</td>\n      <td>NaN</td>\n      <td>NaN</td>\n      <td>NaN</td>\n    </tr>\n    <tr>\n      <th>...</th>\n      <td>...</td>\n      <td>...</td>\n      <td>...</td>\n      <td>...</td>\n      <td>...</td>\n      <td>...</td>\n      <td>...</td>\n      <td>...</td>\n      <td>...</td>\n      <td>...</td>\n      <td>...</td>\n      <td>...</td>\n      <td>...</td>\n      <td>...</td>\n      <td>...</td>\n      <td>...</td>\n      <td>...</td>\n      <td>...</td>\n      <td>...</td>\n      <td>...</td>\n      <td>...</td>\n    </tr>\n    <tr>\n      <th>375</th>\n      <td>E0</td>\n      <td>2022-05-22</td>\n      <td>16:00</td>\n      <td>Crystal Palace</td>\n      <td>Manchester Utd</td>\n      <td>1</td>\n      <td>0</td>\n      <td>H</td>\n      <td>1</td>\n      <td>0</td>\n      <td>...</td>\n      <td>19.166667</td>\n      <td>18.000000</td>\n      <td>44.986690</td>\n      <td>57.968997</td>\n      <td>3.333333</td>\n      <td>3.333333</td>\n      <td>NaN</td>\n      <td>NaN</td>\n      <td>NaN</td>\n      <td>NaN</td>\n    </tr>\n    <tr>\n      <th>376</th>\n      <td>E0</td>\n      <td>2022-05-22</td>\n      <td>16:00</td>\n      <td>Leicester City</td>\n      <td>Southampton</td>\n      <td>4</td>\n      <td>1</td>\n      <td>H</td>\n      <td>0</td>\n      <td>0</td>\n      <td>...</td>\n      <td>18.666667</td>\n      <td>20.833333</td>\n      <td>48.866999</td>\n      <td>39.999897</td>\n      <td>3.333333</td>\n      <td>3.000000</td>\n      <td>NaN</td>\n      <td>NaN</td>\n      <td>NaN</td>\n      <td>NaN</td>\n    </tr>\n    <tr>\n      <th>377</th>\n      <td>E0</td>\n      <td>2022-05-22</td>\n      <td>16:00</td>\n      <td>Liverpool</td>\n      <td>Wolves</td>\n      <td>3</td>\n      <td>1</td>\n      <td>H</td>\n      <td>1</td>\n      <td>1</td>\n      <td>...</td>\n      <td>25.166667</td>\n      <td>15.166667</td>\n      <td>88.668667</td>\n      <td>50.899000</td>\n      <td>7.833333</td>\n      <td>3.333333</td>\n      <td>NaN</td>\n      <td>NaN</td>\n      <td>NaN</td>\n      <td>NaN</td>\n    </tr>\n    <tr>\n      <th>378</th>\n      <td>E0</td>\n      <td>2022-05-22</td>\n      <td>16:00</td>\n      <td>Manchester City</td>\n      <td>Aston Villa</td>\n      <td>3</td>\n      <td>2</td>\n      <td>H</td>\n      <td>0</td>\n      <td>1</td>\n      <td>...</td>\n      <td>23.166667</td>\n      <td>18.666667</td>\n      <td>89.866667</td>\n      <td>44.889669</td>\n      <td>8.500000</td>\n      <td>4.500000</td>\n      <td>NaN</td>\n      <td>NaN</td>\n      <td>NaN</td>\n      <td>NaN</td>\n    </tr>\n    <tr>\n      <th>379</th>\n      <td>E0</td>\n      <td>2022-05-22</td>\n      <td>16:00</td>\n      <td>Norwich City</td>\n      <td>Tottenham</td>\n      <td>0</td>\n      <td>5</td>\n      <td>A</td>\n      <td>0</td>\n      <td>2</td>\n      <td>...</td>\n      <td>18.000000</td>\n      <td>17.166667</td>\n      <td>21.900000</td>\n      <td>67.668690</td>\n      <td>3.000000</td>\n      <td>6.000000</td>\n      <td>NaN</td>\n      <td>NaN</td>\n      <td>NaN</td>\n      <td>NaN</td>\n    </tr>\n  </tbody>\n</table>\n<p>380 rows × 127 columns</p>\n</div>"
     },
     "execution_count": 40,
     "metadata": {},
     "output_type": "execute_result"
    }
   ],
   "source": [
    "PL21_22_fixtures"
   ],
   "metadata": {
    "collapsed": false,
    "pycharm": {
     "name": "#%%\n"
    }
   }
  },
  {
   "cell_type": "code",
   "execution_count": 33,
   "outputs": [],
   "source": [
    "#add features to table\n",
    "PL19_20_fixtures = append_stats(7, PL19_20_fixtures)\n",
    "PL19_20_fixtures = append_ewm(40, PL19_20_fixtures)\n",
    "PL19_20_fixtures = append_form(7, PL19_20_fixtures)\n",
    "PL19_20_fixtures = calculate_elo_season(PL19_20_fixtures)\n",
    "PL20_21_fixtures = append_stats(7, PL20_21_fixtures)\n",
    "PL20_21_fixtures = append_ewm(40, PL20_21_fixtures)\n",
    "PL20_21_fixtures = append_form(7, PL20_21_fixtures)\n",
    "PL20_21_fixtures = calculate_elo_season(PL20_21_fixtures)\n",
    "PL21_22_fixtures = append_stats(7, PL21_22_fixtures)\n",
    "PL21_22_fixtures = append_ewm(40, PL21_22_fixtures)\n",
    "PL21_22_fixtures = append_form(7, PL21_22_fixtures)\n",
    "PL21_22_fixtures = calculate_elo_season(PL21_22_fixtures)\n"
   ],
   "metadata": {
    "collapsed": false,
    "pycharm": {
     "name": "#%%\n"
    }
   }
  },
  {
   "cell_type": "code",
   "execution_count": 45,
   "outputs": [
    {
     "data": {
      "text/plain": "    Div        Date   Time         HomeTeam        AwayTeam  FTHG  FTAG FTR  \\\n0    E0  2021-08-13  20:00        Brentford         Arsenal     2     0   H   \n1    E0  2021-08-14  12:30   Manchester Utd    Leeds United     5     1   H   \n2    E0  2021-08-14  15:00          Burnley        Brighton     1     2   A   \n3    E0  2021-08-14  15:00          Chelsea  Crystal Palace     3     0   H   \n4    E0  2021-08-14  15:00          Everton     Southampton     3     1   H   \n..   ..         ...    ...              ...             ...   ...   ...  ..   \n375  E0  2022-05-22  16:00   Crystal Palace  Manchester Utd     1     0   H   \n376  E0  2022-05-22  16:00   Leicester City     Southampton     4     1   H   \n377  E0  2022-05-22  16:00        Liverpool          Wolves     3     1   H   \n378  E0  2022-05-22  16:00  Manchester City     Aston Villa     3     2   H   \n379  E0  2022-05-22  16:00     Norwich City       Tottenham     0     5   A   \n\n     HTHG  HTAG  ...   cornersH   cornersA       ewmH       ewmA     formH  \\\n0       1     0  ...   0.000000   0.000000   0.000000   0.000000  0.000000   \n1       1     0  ...   0.000000   0.000000   0.000000   0.000000  0.000000   \n2       1     0  ...   0.000000   0.000000   0.000000   0.000000  0.000000   \n3       2     0  ...   0.000000   0.000000   0.000000   0.000000  0.000000   \n4       0     1  ...   0.000000   0.000000   0.000000   0.000000  0.000000   \n..    ...   ...  ...        ...        ...        ...        ...       ...   \n375     1     0  ...  19.166667  18.000000  44.986690  57.968997  3.333333   \n376     0     0  ...  18.666667  20.833333  48.866999  39.999897  3.333333   \n377     1     1  ...  25.166667  15.166667  88.668667  50.899000  7.833333   \n378     0     1  ...  23.166667  18.666667  89.866667  44.889669  8.500000   \n379     0     2  ...  18.000000  17.166667  21.900000  67.668690  3.000000   \n\n        formA  Elo_h_after  Elo_a_after  Elo_h_before  Elo_a_before  \n0    0.000000      1515.00      1485.00       1500.00       1500.00  \n1    0.000000      1515.00      1485.00       1500.00       1500.00  \n2    0.000000      1485.00      1515.00       1500.00       1500.00  \n3    0.000000      1515.00      1485.00       1500.00       1500.00  \n4    0.000000      1515.00      1485.00       1500.00       1500.00  \n..        ...          ...          ...           ...           ...  \n375  3.333333      1498.11      1506.66       1481.31       1523.46  \n376  3.000000      1503.48      1420.47       1490.97       1432.98  \n377  3.333333      1716.99      1461.21       1711.08       1467.12  \n378  4.500000      1703.55      1460.85       1697.25       1467.15  \n379  6.000000      1329.81      1603.29       1335.24       1597.86  \n\n[380 rows x 127 columns]",
      "text/html": "<div>\n<style scoped>\n    .dataframe tbody tr th:only-of-type {\n        vertical-align: middle;\n    }\n\n    .dataframe tbody tr th {\n        vertical-align: top;\n    }\n\n    .dataframe thead th {\n        text-align: right;\n    }\n</style>\n<table border=\"1\" class=\"dataframe\">\n  <thead>\n    <tr style=\"text-align: right;\">\n      <th></th>\n      <th>Div</th>\n      <th>Date</th>\n      <th>Time</th>\n      <th>HomeTeam</th>\n      <th>AwayTeam</th>\n      <th>FTHG</th>\n      <th>FTAG</th>\n      <th>FTR</th>\n      <th>HTHG</th>\n      <th>HTAG</th>\n      <th>...</th>\n      <th>cornersH</th>\n      <th>cornersA</th>\n      <th>ewmH</th>\n      <th>ewmA</th>\n      <th>formH</th>\n      <th>formA</th>\n      <th>Elo_h_after</th>\n      <th>Elo_a_after</th>\n      <th>Elo_h_before</th>\n      <th>Elo_a_before</th>\n    </tr>\n  </thead>\n  <tbody>\n    <tr>\n      <th>0</th>\n      <td>E0</td>\n      <td>2021-08-13</td>\n      <td>20:00</td>\n      <td>Brentford</td>\n      <td>Arsenal</td>\n      <td>2</td>\n      <td>0</td>\n      <td>H</td>\n      <td>1</td>\n      <td>0</td>\n      <td>...</td>\n      <td>0.000000</td>\n      <td>0.000000</td>\n      <td>0.000000</td>\n      <td>0.000000</td>\n      <td>0.000000</td>\n      <td>0.000000</td>\n      <td>1515.00</td>\n      <td>1485.00</td>\n      <td>1500.00</td>\n      <td>1500.00</td>\n    </tr>\n    <tr>\n      <th>1</th>\n      <td>E0</td>\n      <td>2021-08-14</td>\n      <td>12:30</td>\n      <td>Manchester Utd</td>\n      <td>Leeds United</td>\n      <td>5</td>\n      <td>1</td>\n      <td>H</td>\n      <td>1</td>\n      <td>0</td>\n      <td>...</td>\n      <td>0.000000</td>\n      <td>0.000000</td>\n      <td>0.000000</td>\n      <td>0.000000</td>\n      <td>0.000000</td>\n      <td>0.000000</td>\n      <td>1515.00</td>\n      <td>1485.00</td>\n      <td>1500.00</td>\n      <td>1500.00</td>\n    </tr>\n    <tr>\n      <th>2</th>\n      <td>E0</td>\n      <td>2021-08-14</td>\n      <td>15:00</td>\n      <td>Burnley</td>\n      <td>Brighton</td>\n      <td>1</td>\n      <td>2</td>\n      <td>A</td>\n      <td>1</td>\n      <td>0</td>\n      <td>...</td>\n      <td>0.000000</td>\n      <td>0.000000</td>\n      <td>0.000000</td>\n      <td>0.000000</td>\n      <td>0.000000</td>\n      <td>0.000000</td>\n      <td>1485.00</td>\n      <td>1515.00</td>\n      <td>1500.00</td>\n      <td>1500.00</td>\n    </tr>\n    <tr>\n      <th>3</th>\n      <td>E0</td>\n      <td>2021-08-14</td>\n      <td>15:00</td>\n      <td>Chelsea</td>\n      <td>Crystal Palace</td>\n      <td>3</td>\n      <td>0</td>\n      <td>H</td>\n      <td>2</td>\n      <td>0</td>\n      <td>...</td>\n      <td>0.000000</td>\n      <td>0.000000</td>\n      <td>0.000000</td>\n      <td>0.000000</td>\n      <td>0.000000</td>\n      <td>0.000000</td>\n      <td>1515.00</td>\n      <td>1485.00</td>\n      <td>1500.00</td>\n      <td>1500.00</td>\n    </tr>\n    <tr>\n      <th>4</th>\n      <td>E0</td>\n      <td>2021-08-14</td>\n      <td>15:00</td>\n      <td>Everton</td>\n      <td>Southampton</td>\n      <td>3</td>\n      <td>1</td>\n      <td>H</td>\n      <td>0</td>\n      <td>1</td>\n      <td>...</td>\n      <td>0.000000</td>\n      <td>0.000000</td>\n      <td>0.000000</td>\n      <td>0.000000</td>\n      <td>0.000000</td>\n      <td>0.000000</td>\n      <td>1515.00</td>\n      <td>1485.00</td>\n      <td>1500.00</td>\n      <td>1500.00</td>\n    </tr>\n    <tr>\n      <th>...</th>\n      <td>...</td>\n      <td>...</td>\n      <td>...</td>\n      <td>...</td>\n      <td>...</td>\n      <td>...</td>\n      <td>...</td>\n      <td>...</td>\n      <td>...</td>\n      <td>...</td>\n      <td>...</td>\n      <td>...</td>\n      <td>...</td>\n      <td>...</td>\n      <td>...</td>\n      <td>...</td>\n      <td>...</td>\n      <td>...</td>\n      <td>...</td>\n      <td>...</td>\n      <td>...</td>\n    </tr>\n    <tr>\n      <th>375</th>\n      <td>E0</td>\n      <td>2022-05-22</td>\n      <td>16:00</td>\n      <td>Crystal Palace</td>\n      <td>Manchester Utd</td>\n      <td>1</td>\n      <td>0</td>\n      <td>H</td>\n      <td>1</td>\n      <td>0</td>\n      <td>...</td>\n      <td>19.166667</td>\n      <td>18.000000</td>\n      <td>44.986690</td>\n      <td>57.968997</td>\n      <td>3.333333</td>\n      <td>3.333333</td>\n      <td>1498.11</td>\n      <td>1506.66</td>\n      <td>1481.31</td>\n      <td>1523.46</td>\n    </tr>\n    <tr>\n      <th>376</th>\n      <td>E0</td>\n      <td>2022-05-22</td>\n      <td>16:00</td>\n      <td>Leicester City</td>\n      <td>Southampton</td>\n      <td>4</td>\n      <td>1</td>\n      <td>H</td>\n      <td>0</td>\n      <td>0</td>\n      <td>...</td>\n      <td>18.666667</td>\n      <td>20.833333</td>\n      <td>48.866999</td>\n      <td>39.999897</td>\n      <td>3.333333</td>\n      <td>3.000000</td>\n      <td>1503.48</td>\n      <td>1420.47</td>\n      <td>1490.97</td>\n      <td>1432.98</td>\n    </tr>\n    <tr>\n      <th>377</th>\n      <td>E0</td>\n      <td>2022-05-22</td>\n      <td>16:00</td>\n      <td>Liverpool</td>\n      <td>Wolves</td>\n      <td>3</td>\n      <td>1</td>\n      <td>H</td>\n      <td>1</td>\n      <td>1</td>\n      <td>...</td>\n      <td>25.166667</td>\n      <td>15.166667</td>\n      <td>88.668667</td>\n      <td>50.899000</td>\n      <td>7.833333</td>\n      <td>3.333333</td>\n      <td>1716.99</td>\n      <td>1461.21</td>\n      <td>1711.08</td>\n      <td>1467.12</td>\n    </tr>\n    <tr>\n      <th>378</th>\n      <td>E0</td>\n      <td>2022-05-22</td>\n      <td>16:00</td>\n      <td>Manchester City</td>\n      <td>Aston Villa</td>\n      <td>3</td>\n      <td>2</td>\n      <td>H</td>\n      <td>0</td>\n      <td>1</td>\n      <td>...</td>\n      <td>23.166667</td>\n      <td>18.666667</td>\n      <td>89.866667</td>\n      <td>44.889669</td>\n      <td>8.500000</td>\n      <td>4.500000</td>\n      <td>1703.55</td>\n      <td>1460.85</td>\n      <td>1697.25</td>\n      <td>1467.15</td>\n    </tr>\n    <tr>\n      <th>379</th>\n      <td>E0</td>\n      <td>2022-05-22</td>\n      <td>16:00</td>\n      <td>Norwich City</td>\n      <td>Tottenham</td>\n      <td>0</td>\n      <td>5</td>\n      <td>A</td>\n      <td>0</td>\n      <td>2</td>\n      <td>...</td>\n      <td>18.000000</td>\n      <td>17.166667</td>\n      <td>21.900000</td>\n      <td>67.668690</td>\n      <td>3.000000</td>\n      <td>6.000000</td>\n      <td>1329.81</td>\n      <td>1603.29</td>\n      <td>1335.24</td>\n      <td>1597.86</td>\n    </tr>\n  </tbody>\n</table>\n<p>380 rows × 127 columns</p>\n</div>"
     },
     "execution_count": 45,
     "metadata": {},
     "output_type": "execute_result"
    }
   ],
   "source": [
    "# #calculate Elo scores\n",
    "#\n",
    "# current_elo = {}\n",
    "# for idx, row in PL21_22_fixtures.iterrows():\n",
    "#\n",
    "#         local = row['HomeTeam']\n",
    "#         away = row['AwayTeam']\n",
    "#         local_goals = row['FTHG']\n",
    "#         away_goals = row['FTAG']\n",
    "#         #tournament = row['tournament']\n",
    "#\n",
    "#         if local not in current_elo.keys():\n",
    "#             current_elo[local] = 1500\n",
    "#\n",
    "#         if away not in current_elo.keys():\n",
    "#             current_elo[away] = 1500\n",
    "#\n",
    "#         elo_l = current_elo[local]\n",
    "#         elo_v = current_elo[away]\n",
    "#         elo_ln, elo_vn = calculate_elo(elo_l, elo_v, local_goals, away_goals, 30)\n",
    "#\n",
    "#         current_elo[local] = elo_ln\n",
    "#         current_elo[away] = elo_vn\n",
    "#\n",
    "#         PL21_22_fixtures.loc[idx, 'Elo_h_after'] = elo_ln\n",
    "#         PL21_22_fixtures.loc[idx, 'Elo_a_after'] = elo_vn\n",
    "#         PL21_22_fixtures.loc[idx, 'Elo_h_before'] = elo_l\n",
    "#         PL21_22_fixtures.loc[idx, 'Elo_a_before'] = elo_v\n",
    "# PL21_22_fixtures"
   ],
   "metadata": {
    "collapsed": false,
    "pycharm": {
     "name": "#%%\n"
    }
   }
  },
  {
   "cell_type": "code",
   "execution_count": 49,
   "outputs": [
    {
     "data": {
      "text/plain": "    Div        Date   Time         HomeTeam        AwayTeam  FTHG  FTAG FTR  \\\n0    E0  2020-09-12  12:30           Fulham         Arsenal     0     3   A   \n1    E0  2020-09-12  15:00   Crystal Palace     Southampton     1     0   H   \n2    E0  2020-09-12  17:30        Liverpool    Leeds United     4     3   H   \n3    E0  2020-09-12  20:00         West Ham   Newcastle Utd     0     2   A   \n4    E0  2020-09-13  14:00        West Brom  Leicester City     0     3   A   \n..   ..         ...    ...              ...             ...   ...   ...  ..   \n375  E0  2021-05-23  16:00        Liverpool  Crystal Palace     2     0   H   \n376  E0  2021-05-23  16:00  Manchester City         Everton     5     0   H   \n377  E0  2021-05-23  16:00    Sheffield Utd         Burnley     1     0   H   \n378  E0  2021-05-23  16:00         West Ham     Southampton     3     0   H   \n379  E0  2021-05-23  16:00           Wolves  Manchester Utd     1     2   A   \n\n     HTHG  HTAG  ... Elo_h_after Elo_a_after  Elo_h_before  Elo_a_before  \\\n0       0     1  ...     1485.00     1515.00       1500.00       1500.00   \n1       1     0  ...     1515.00     1485.00       1500.00       1500.00   \n2       3     2  ...     1515.00     1485.00       1500.00       1500.00   \n3       0     0  ...     1485.00     1515.00       1500.00       1500.00   \n4       0     0  ...     1485.00     1515.00       1500.00       1500.00   \n..    ...   ...  ...         ...         ...           ...           ...   \n375     1     0  ...     1591.89     1439.73       1582.38       1449.24   \n376     2     0  ...     1659.36     1508.70       1649.79       1518.27   \n377     1     0  ...     1358.16     1420.86       1338.90       1440.12   \n378     2     0  ...     1560.00     1420.08       1549.98       1430.10   \n379     1     2  ...     1443.72     1611.60       1452.60       1602.72   \n\n     goalsDifference  shotsDifference  cornersDifference  ewmDifference  \\\n0           0.000000         0.000000           0.000000       0.000000   \n1           0.000000         0.000000           0.000000       0.000000   \n2           0.000000         0.000000           0.000000       0.000000   \n3           0.000000         0.000000           0.000000       0.000000   \n4           0.000000         0.000000           0.000000       0.000000   \n..               ...              ...                ...            ...   \n375         2.500000        16.500000          12.833333      21.696989   \n376         2.166667         1.666667           6.000000      24.270973   \n377        -4.833333        -8.333333         -12.500000     -19.027000   \n378         2.833333        -3.500000          -6.666667      18.722710   \n379        -4.666667        -5.500000          -2.000000     -25.902790   \n\n     elo_difference  form_difference  \n0              0.00         0.000000  \n1              0.00         0.000000  \n2              0.00         0.000000  \n3              0.00         0.000000  \n4              0.00         0.000000  \n..              ...              ...  \n375          133.14         5.500000  \n376          131.52         1.666667  \n377         -101.22        -0.500000  \n378          119.88         2.500000  \n379         -150.12        -0.666667  \n\n[380 rows x 133 columns]",
      "text/html": "<div>\n<style scoped>\n    .dataframe tbody tr th:only-of-type {\n        vertical-align: middle;\n    }\n\n    .dataframe tbody tr th {\n        vertical-align: top;\n    }\n\n    .dataframe thead th {\n        text-align: right;\n    }\n</style>\n<table border=\"1\" class=\"dataframe\">\n  <thead>\n    <tr style=\"text-align: right;\">\n      <th></th>\n      <th>Div</th>\n      <th>Date</th>\n      <th>Time</th>\n      <th>HomeTeam</th>\n      <th>AwayTeam</th>\n      <th>FTHG</th>\n      <th>FTAG</th>\n      <th>FTR</th>\n      <th>HTHG</th>\n      <th>HTAG</th>\n      <th>...</th>\n      <th>Elo_h_after</th>\n      <th>Elo_a_after</th>\n      <th>Elo_h_before</th>\n      <th>Elo_a_before</th>\n      <th>goalsDifference</th>\n      <th>shotsDifference</th>\n      <th>cornersDifference</th>\n      <th>ewmDifference</th>\n      <th>elo_difference</th>\n      <th>form_difference</th>\n    </tr>\n  </thead>\n  <tbody>\n    <tr>\n      <th>0</th>\n      <td>E0</td>\n      <td>2020-09-12</td>\n      <td>12:30</td>\n      <td>Fulham</td>\n      <td>Arsenal</td>\n      <td>0</td>\n      <td>3</td>\n      <td>A</td>\n      <td>0</td>\n      <td>1</td>\n      <td>...</td>\n      <td>1485.00</td>\n      <td>1515.00</td>\n      <td>1500.00</td>\n      <td>1500.00</td>\n      <td>0.000000</td>\n      <td>0.000000</td>\n      <td>0.000000</td>\n      <td>0.000000</td>\n      <td>0.00</td>\n      <td>0.000000</td>\n    </tr>\n    <tr>\n      <th>1</th>\n      <td>E0</td>\n      <td>2020-09-12</td>\n      <td>15:00</td>\n      <td>Crystal Palace</td>\n      <td>Southampton</td>\n      <td>1</td>\n      <td>0</td>\n      <td>H</td>\n      <td>1</td>\n      <td>0</td>\n      <td>...</td>\n      <td>1515.00</td>\n      <td>1485.00</td>\n      <td>1500.00</td>\n      <td>1500.00</td>\n      <td>0.000000</td>\n      <td>0.000000</td>\n      <td>0.000000</td>\n      <td>0.000000</td>\n      <td>0.00</td>\n      <td>0.000000</td>\n    </tr>\n    <tr>\n      <th>2</th>\n      <td>E0</td>\n      <td>2020-09-12</td>\n      <td>17:30</td>\n      <td>Liverpool</td>\n      <td>Leeds United</td>\n      <td>4</td>\n      <td>3</td>\n      <td>H</td>\n      <td>3</td>\n      <td>2</td>\n      <td>...</td>\n      <td>1515.00</td>\n      <td>1485.00</td>\n      <td>1500.00</td>\n      <td>1500.00</td>\n      <td>0.000000</td>\n      <td>0.000000</td>\n      <td>0.000000</td>\n      <td>0.000000</td>\n      <td>0.00</td>\n      <td>0.000000</td>\n    </tr>\n    <tr>\n      <th>3</th>\n      <td>E0</td>\n      <td>2020-09-12</td>\n      <td>20:00</td>\n      <td>West Ham</td>\n      <td>Newcastle Utd</td>\n      <td>0</td>\n      <td>2</td>\n      <td>A</td>\n      <td>0</td>\n      <td>0</td>\n      <td>...</td>\n      <td>1485.00</td>\n      <td>1515.00</td>\n      <td>1500.00</td>\n      <td>1500.00</td>\n      <td>0.000000</td>\n      <td>0.000000</td>\n      <td>0.000000</td>\n      <td>0.000000</td>\n      <td>0.00</td>\n      <td>0.000000</td>\n    </tr>\n    <tr>\n      <th>4</th>\n      <td>E0</td>\n      <td>2020-09-13</td>\n      <td>14:00</td>\n      <td>West Brom</td>\n      <td>Leicester City</td>\n      <td>0</td>\n      <td>3</td>\n      <td>A</td>\n      <td>0</td>\n      <td>0</td>\n      <td>...</td>\n      <td>1485.00</td>\n      <td>1515.00</td>\n      <td>1500.00</td>\n      <td>1500.00</td>\n      <td>0.000000</td>\n      <td>0.000000</td>\n      <td>0.000000</td>\n      <td>0.000000</td>\n      <td>0.00</td>\n      <td>0.000000</td>\n    </tr>\n    <tr>\n      <th>...</th>\n      <td>...</td>\n      <td>...</td>\n      <td>...</td>\n      <td>...</td>\n      <td>...</td>\n      <td>...</td>\n      <td>...</td>\n      <td>...</td>\n      <td>...</td>\n      <td>...</td>\n      <td>...</td>\n      <td>...</td>\n      <td>...</td>\n      <td>...</td>\n      <td>...</td>\n      <td>...</td>\n      <td>...</td>\n      <td>...</td>\n      <td>...</td>\n      <td>...</td>\n      <td>...</td>\n    </tr>\n    <tr>\n      <th>375</th>\n      <td>E0</td>\n      <td>2021-05-23</td>\n      <td>16:00</td>\n      <td>Liverpool</td>\n      <td>Crystal Palace</td>\n      <td>2</td>\n      <td>0</td>\n      <td>H</td>\n      <td>1</td>\n      <td>0</td>\n      <td>...</td>\n      <td>1591.89</td>\n      <td>1439.73</td>\n      <td>1582.38</td>\n      <td>1449.24</td>\n      <td>2.500000</td>\n      <td>16.500000</td>\n      <td>12.833333</td>\n      <td>21.696989</td>\n      <td>133.14</td>\n      <td>5.500000</td>\n    </tr>\n    <tr>\n      <th>376</th>\n      <td>E0</td>\n      <td>2021-05-23</td>\n      <td>16:00</td>\n      <td>Manchester City</td>\n      <td>Everton</td>\n      <td>5</td>\n      <td>0</td>\n      <td>H</td>\n      <td>2</td>\n      <td>0</td>\n      <td>...</td>\n      <td>1659.36</td>\n      <td>1508.70</td>\n      <td>1649.79</td>\n      <td>1518.27</td>\n      <td>2.166667</td>\n      <td>1.666667</td>\n      <td>6.000000</td>\n      <td>24.270973</td>\n      <td>131.52</td>\n      <td>1.666667</td>\n    </tr>\n    <tr>\n      <th>377</th>\n      <td>E0</td>\n      <td>2021-05-23</td>\n      <td>16:00</td>\n      <td>Sheffield Utd</td>\n      <td>Burnley</td>\n      <td>1</td>\n      <td>0</td>\n      <td>H</td>\n      <td>1</td>\n      <td>0</td>\n      <td>...</td>\n      <td>1358.16</td>\n      <td>1420.86</td>\n      <td>1338.90</td>\n      <td>1440.12</td>\n      <td>-4.833333</td>\n      <td>-8.333333</td>\n      <td>-12.500000</td>\n      <td>-19.027000</td>\n      <td>-101.22</td>\n      <td>-0.500000</td>\n    </tr>\n    <tr>\n      <th>378</th>\n      <td>E0</td>\n      <td>2021-05-23</td>\n      <td>16:00</td>\n      <td>West Ham</td>\n      <td>Southampton</td>\n      <td>3</td>\n      <td>0</td>\n      <td>H</td>\n      <td>2</td>\n      <td>0</td>\n      <td>...</td>\n      <td>1560.00</td>\n      <td>1420.08</td>\n      <td>1549.98</td>\n      <td>1430.10</td>\n      <td>2.833333</td>\n      <td>-3.500000</td>\n      <td>-6.666667</td>\n      <td>18.722710</td>\n      <td>119.88</td>\n      <td>2.500000</td>\n    </tr>\n    <tr>\n      <th>379</th>\n      <td>E0</td>\n      <td>2021-05-23</td>\n      <td>16:00</td>\n      <td>Wolves</td>\n      <td>Manchester Utd</td>\n      <td>1</td>\n      <td>2</td>\n      <td>A</td>\n      <td>1</td>\n      <td>2</td>\n      <td>...</td>\n      <td>1443.72</td>\n      <td>1611.60</td>\n      <td>1452.60</td>\n      <td>1602.72</td>\n      <td>-4.666667</td>\n      <td>-5.500000</td>\n      <td>-2.000000</td>\n      <td>-25.902790</td>\n      <td>-150.12</td>\n      <td>-0.666667</td>\n    </tr>\n  </tbody>\n</table>\n<p>380 rows × 133 columns</p>\n</div>"
     },
     "execution_count": 49,
     "metadata": {},
     "output_type": "execute_result"
    }
   ],
   "source": [
    "#calculate Differences\n",
    "def calculate_differences(df):\n",
    "    df['goalsDifference'] = df['goalsH'] - df['goalsA']\n",
    "    df['shotsDifference'] = df['shotsH'] - df['shotsA']\n",
    "    df['cornersDifference'] = df['cornersH'] - df['cornersA']\n",
    "    df['ewmDifference'] = df['ewmH'] - df['ewmA']\n",
    "    df['elo_difference'] = df['Elo_h_before'] - df['Elo_a_before']\n",
    "    df['form_difference'] = df['formH'] - df['formA']\n",
    "    return df\n",
    "PL19_20_fixtures = calculate_differences(PL19_20_fixtures)\n",
    "PL20_21_fixtures = calculate_differences(PL20_21_fixtures)\n",
    "PL21_22_fixtures = calculate_differences(PL21_22_fixtures)\n",
    "\n",
    "#PL20_21_fixtures['form_difference_side'] = PL20_21_fixtures['formH_side'] - PL20_21_fixtures['formA_side']\n",
    "PL20_21_fixtures"
   ],
   "metadata": {
    "collapsed": false,
    "pycharm": {
     "name": "#%%\n"
    }
   }
  },
  {
   "cell_type": "code",
   "execution_count": 636,
   "outputs": [
    {
     "data": {
      "text/plain": "A    153\nH    144\nD     83\nName: FTR, dtype: int64"
     },
     "execution_count": 636,
     "metadata": {},
     "output_type": "execute_result"
    }
   ],
   "source": [
    "test = PL20_21_fixtures['FTR']\n",
    "test.value_counts()"
   ],
   "metadata": {
    "collapsed": false,
    "pycharm": {
     "name": "#%%\n"
    }
   }
  },
  {
   "cell_type": "code",
   "execution_count": 52,
   "outputs": [],
   "source": [
    "#export features as csv\n",
    "PL19_20_fixtures.to_csv('Data/2019-20/Fixtures/PL19_20_features.csv')\n",
    "PL20_21_fixtures.to_csv('Data/2020-21/Fixtures/PL20_21_features.csv')\n",
    "PL21_22_fixtures.to_csv('Data/2021-22/Fixtures/PL21_22_features.csv')"
   ],
   "metadata": {
    "collapsed": false,
    "pycharm": {
     "name": "#%%\n"
    }
   }
  },
  {
   "cell_type": "code",
   "execution_count": 54,
   "outputs": [
    {
     "data": {
      "text/plain": "     Unnamed: 0 Div        Date   Time         HomeTeam         AwayTeam  \\\n0             0  E0  2019-08-09  20:00        Liverpool     Norwich City   \n1             1  E0  2019-08-10  12:30         West Ham  Manchester City   \n2             2  E0  2019-08-10  15:00      Bournemouth    Sheffield Utd   \n3             3  E0  2019-08-10  15:00          Burnley      Southampton   \n4             4  E0  2019-08-10  15:00   Crystal Palace          Everton   \n..          ...  ..         ...    ...              ...              ...   \n375         375  E0  2020-07-26  16:00   Leicester City   Manchester Utd   \n376         376  E0  2020-07-26  16:00  Manchester City     Norwich City   \n377         377  E0  2020-07-26  16:00    Newcastle Utd        Liverpool   \n378         378  E0  2020-07-26  16:00      Southampton    Sheffield Utd   \n379         379  E0  2020-07-26  16:00         West Ham      Aston Villa   \n\n     FTHG  FTAG FTR  HTHG  ...  Elo_h_after Elo_a_after Elo_h_before  \\\n0       4     1   H     4  ...      1515.00     1485.00      1500.00   \n1       0     5   A     0  ...      1485.00     1515.00      1500.00   \n2       1     1   D     0  ...      1500.00     1500.00      1500.00   \n3       3     0   H     0  ...      1515.00     1485.00      1500.00   \n4       0     0   D     0  ...      1500.00     1500.00      1500.00   \n..    ...   ...  ..   ...  ...          ...         ...          ...   \n375     0     2   A     0  ...      1500.87     1598.97      1512.69   \n376     5     0   H     2  ...      1637.85     1309.92      1633.74   \n377     1     3   A     1  ...      1448.82     1696.44      1454.97   \n378     3     1   H     0  ...      1522.65     1502.76      1507.17   \n379     1     1   D     0  ...      1446.54     1424.88      1447.56   \n\n     Elo_a_before  goalsDifference  shotsDifference  cornersDifference  \\\n0         1500.00         0.000000         0.000000           0.000000   \n1         1500.00         0.000000         0.000000           0.000000   \n2         1500.00         0.000000         0.000000           0.000000   \n3         1500.00         0.000000         0.000000           0.000000   \n4         1500.00         0.000000         0.000000           0.000000   \n..            ...              ...              ...                ...   \n375       1587.15        -7.333333       -10.333333          -8.333333   \n376       1314.03         8.333333        13.333333          15.333333   \n377       1690.29        -1.166667        -6.166667          -9.166667   \n378       1518.24        -0.166667         6.000000          -3.333333   \n379       1423.86         3.833333         7.000000          -1.166667   \n\n     ewmDifference  elo_difference  form_difference  \n0         0.000000            0.00         0.000000  \n1         0.000000            0.00         0.000000  \n2         0.000000            0.00         0.000000  \n3         0.000000            0.00         0.000000  \n4         0.000000            0.00         0.000000  \n..             ...             ...              ...  \n375      -0.898797          -74.46        -5.833333  \n376      56.666697          319.71         5.500000  \n377     -51.798683         -235.32        -2.666667  \n378      -5.307820          -11.07        -0.166667  \n379       4.179987           23.70         2.500000  \n\n[380 rows x 134 columns]",
      "text/html": "<div>\n<style scoped>\n    .dataframe tbody tr th:only-of-type {\n        vertical-align: middle;\n    }\n\n    .dataframe tbody tr th {\n        vertical-align: top;\n    }\n\n    .dataframe thead th {\n        text-align: right;\n    }\n</style>\n<table border=\"1\" class=\"dataframe\">\n  <thead>\n    <tr style=\"text-align: right;\">\n      <th></th>\n      <th>Unnamed: 0</th>\n      <th>Div</th>\n      <th>Date</th>\n      <th>Time</th>\n      <th>HomeTeam</th>\n      <th>AwayTeam</th>\n      <th>FTHG</th>\n      <th>FTAG</th>\n      <th>FTR</th>\n      <th>HTHG</th>\n      <th>...</th>\n      <th>Elo_h_after</th>\n      <th>Elo_a_after</th>\n      <th>Elo_h_before</th>\n      <th>Elo_a_before</th>\n      <th>goalsDifference</th>\n      <th>shotsDifference</th>\n      <th>cornersDifference</th>\n      <th>ewmDifference</th>\n      <th>elo_difference</th>\n      <th>form_difference</th>\n    </tr>\n  </thead>\n  <tbody>\n    <tr>\n      <th>0</th>\n      <td>0</td>\n      <td>E0</td>\n      <td>2019-08-09</td>\n      <td>20:00</td>\n      <td>Liverpool</td>\n      <td>Norwich City</td>\n      <td>4</td>\n      <td>1</td>\n      <td>H</td>\n      <td>4</td>\n      <td>...</td>\n      <td>1515.00</td>\n      <td>1485.00</td>\n      <td>1500.00</td>\n      <td>1500.00</td>\n      <td>0.000000</td>\n      <td>0.000000</td>\n      <td>0.000000</td>\n      <td>0.000000</td>\n      <td>0.00</td>\n      <td>0.000000</td>\n    </tr>\n    <tr>\n      <th>1</th>\n      <td>1</td>\n      <td>E0</td>\n      <td>2019-08-10</td>\n      <td>12:30</td>\n      <td>West Ham</td>\n      <td>Manchester City</td>\n      <td>0</td>\n      <td>5</td>\n      <td>A</td>\n      <td>0</td>\n      <td>...</td>\n      <td>1485.00</td>\n      <td>1515.00</td>\n      <td>1500.00</td>\n      <td>1500.00</td>\n      <td>0.000000</td>\n      <td>0.000000</td>\n      <td>0.000000</td>\n      <td>0.000000</td>\n      <td>0.00</td>\n      <td>0.000000</td>\n    </tr>\n    <tr>\n      <th>2</th>\n      <td>2</td>\n      <td>E0</td>\n      <td>2019-08-10</td>\n      <td>15:00</td>\n      <td>Bournemouth</td>\n      <td>Sheffield Utd</td>\n      <td>1</td>\n      <td>1</td>\n      <td>D</td>\n      <td>0</td>\n      <td>...</td>\n      <td>1500.00</td>\n      <td>1500.00</td>\n      <td>1500.00</td>\n      <td>1500.00</td>\n      <td>0.000000</td>\n      <td>0.000000</td>\n      <td>0.000000</td>\n      <td>0.000000</td>\n      <td>0.00</td>\n      <td>0.000000</td>\n    </tr>\n    <tr>\n      <th>3</th>\n      <td>3</td>\n      <td>E0</td>\n      <td>2019-08-10</td>\n      <td>15:00</td>\n      <td>Burnley</td>\n      <td>Southampton</td>\n      <td>3</td>\n      <td>0</td>\n      <td>H</td>\n      <td>0</td>\n      <td>...</td>\n      <td>1515.00</td>\n      <td>1485.00</td>\n      <td>1500.00</td>\n      <td>1500.00</td>\n      <td>0.000000</td>\n      <td>0.000000</td>\n      <td>0.000000</td>\n      <td>0.000000</td>\n      <td>0.00</td>\n      <td>0.000000</td>\n    </tr>\n    <tr>\n      <th>4</th>\n      <td>4</td>\n      <td>E0</td>\n      <td>2019-08-10</td>\n      <td>15:00</td>\n      <td>Crystal Palace</td>\n      <td>Everton</td>\n      <td>0</td>\n      <td>0</td>\n      <td>D</td>\n      <td>0</td>\n      <td>...</td>\n      <td>1500.00</td>\n      <td>1500.00</td>\n      <td>1500.00</td>\n      <td>1500.00</td>\n      <td>0.000000</td>\n      <td>0.000000</td>\n      <td>0.000000</td>\n      <td>0.000000</td>\n      <td>0.00</td>\n      <td>0.000000</td>\n    </tr>\n    <tr>\n      <th>...</th>\n      <td>...</td>\n      <td>...</td>\n      <td>...</td>\n      <td>...</td>\n      <td>...</td>\n      <td>...</td>\n      <td>...</td>\n      <td>...</td>\n      <td>...</td>\n      <td>...</td>\n      <td>...</td>\n      <td>...</td>\n      <td>...</td>\n      <td>...</td>\n      <td>...</td>\n      <td>...</td>\n      <td>...</td>\n      <td>...</td>\n      <td>...</td>\n      <td>...</td>\n      <td>...</td>\n    </tr>\n    <tr>\n      <th>375</th>\n      <td>375</td>\n      <td>E0</td>\n      <td>2020-07-26</td>\n      <td>16:00</td>\n      <td>Leicester City</td>\n      <td>Manchester Utd</td>\n      <td>0</td>\n      <td>2</td>\n      <td>A</td>\n      <td>0</td>\n      <td>...</td>\n      <td>1500.87</td>\n      <td>1598.97</td>\n      <td>1512.69</td>\n      <td>1587.15</td>\n      <td>-7.333333</td>\n      <td>-10.333333</td>\n      <td>-8.333333</td>\n      <td>-0.898797</td>\n      <td>-74.46</td>\n      <td>-5.833333</td>\n    </tr>\n    <tr>\n      <th>376</th>\n      <td>376</td>\n      <td>E0</td>\n      <td>2020-07-26</td>\n      <td>16:00</td>\n      <td>Manchester City</td>\n      <td>Norwich City</td>\n      <td>5</td>\n      <td>0</td>\n      <td>H</td>\n      <td>2</td>\n      <td>...</td>\n      <td>1637.85</td>\n      <td>1309.92</td>\n      <td>1633.74</td>\n      <td>1314.03</td>\n      <td>8.333333</td>\n      <td>13.333333</td>\n      <td>15.333333</td>\n      <td>56.666697</td>\n      <td>319.71</td>\n      <td>5.500000</td>\n    </tr>\n    <tr>\n      <th>377</th>\n      <td>377</td>\n      <td>E0</td>\n      <td>2020-07-26</td>\n      <td>16:00</td>\n      <td>Newcastle Utd</td>\n      <td>Liverpool</td>\n      <td>1</td>\n      <td>3</td>\n      <td>A</td>\n      <td>1</td>\n      <td>...</td>\n      <td>1448.82</td>\n      <td>1696.44</td>\n      <td>1454.97</td>\n      <td>1690.29</td>\n      <td>-1.166667</td>\n      <td>-6.166667</td>\n      <td>-9.166667</td>\n      <td>-51.798683</td>\n      <td>-235.32</td>\n      <td>-2.666667</td>\n    </tr>\n    <tr>\n      <th>378</th>\n      <td>378</td>\n      <td>E0</td>\n      <td>2020-07-26</td>\n      <td>16:00</td>\n      <td>Southampton</td>\n      <td>Sheffield Utd</td>\n      <td>3</td>\n      <td>1</td>\n      <td>H</td>\n      <td>0</td>\n      <td>...</td>\n      <td>1522.65</td>\n      <td>1502.76</td>\n      <td>1507.17</td>\n      <td>1518.24</td>\n      <td>-0.166667</td>\n      <td>6.000000</td>\n      <td>-3.333333</td>\n      <td>-5.307820</td>\n      <td>-11.07</td>\n      <td>-0.166667</td>\n    </tr>\n    <tr>\n      <th>379</th>\n      <td>379</td>\n      <td>E0</td>\n      <td>2020-07-26</td>\n      <td>16:00</td>\n      <td>West Ham</td>\n      <td>Aston Villa</td>\n      <td>1</td>\n      <td>1</td>\n      <td>D</td>\n      <td>0</td>\n      <td>...</td>\n      <td>1446.54</td>\n      <td>1424.88</td>\n      <td>1447.56</td>\n      <td>1423.86</td>\n      <td>3.833333</td>\n      <td>7.000000</td>\n      <td>-1.166667</td>\n      <td>4.179987</td>\n      <td>23.70</td>\n      <td>2.500000</td>\n    </tr>\n  </tbody>\n</table>\n<p>380 rows × 134 columns</p>\n</div>"
     },
     "execution_count": 54,
     "metadata": {},
     "output_type": "execute_result"
    }
   ],
   "source": [
    "PL19_20_features = pd.read_csv('Data/2019-20/Fixtures/PL19_20_features.csv')\n",
    "PL20_21_features = pd.read_csv('Data/2020-21/Fixtures/PL20_21_features.csv')\n",
    "PL21_22_features = pd.read_csv('Data/2021-22/Fixtures/PL21_22_features.csv')\n",
    "PL19_20_features"
   ],
   "metadata": {
    "collapsed": false,
    "pycharm": {
     "name": "#%%\n"
    }
   }
  },
  {
   "cell_type": "code",
   "execution_count": 59,
   "outputs": [
    {
     "data": {
      "text/plain": "     Unnamed: 0 Div        Date   Time         HomeTeam        AwayTeam  FTHG  \\\n30           30  E0  2019-08-31  12:30      Southampton  Manchester Utd     1   \n31           31  E0  2019-08-31  15:00          Chelsea   Sheffield Utd     2   \n32           32  E0  2019-08-31  15:00   Crystal Palace     Aston Villa     1   \n33           33  E0  2019-08-31  15:00   Leicester City     Bournemouth     3   \n34           34  E0  2019-08-31  15:00  Manchester City        Brighton     4   \n..          ...  ..         ...    ...              ...             ...   ...   \n375         375  E0  2022-05-22  16:00   Crystal Palace  Manchester Utd     1   \n376         376  E0  2022-05-22  16:00   Leicester City     Southampton     4   \n377         377  E0  2022-05-22  16:00        Liverpool          Wolves     3   \n378         378  E0  2022-05-22  16:00  Manchester City     Aston Villa     3   \n379         379  E0  2022-05-22  16:00     Norwich City       Tottenham     0   \n\n     FTAG FTR  HTHG  ...  Elo_h_after Elo_a_after Elo_h_before  Elo_a_before  \\\n30      1   D     0  ...      1488.54     1497.66      1488.12       1498.08   \n31      2   D     2  ...      1501.20     1499.40      1501.29       1499.31   \n32      0   H     0  ...      1515.66     1473.15      1501.26       1487.55   \n33      1   H     2  ...      1529.34     1485.06      1515.03       1499.37   \n34      0   H     2  ...      1543.56     1483.29      1529.97       1496.88   \n..    ...  ..   ...  ...          ...         ...          ...           ...   \n375     0   H     1  ...      1498.11     1506.66      1481.31       1523.46   \n376     1   H     0  ...      1503.48     1420.47      1490.97       1432.98   \n377     1   H     1  ...      1716.99     1461.21      1711.08       1467.12   \n378     2   H     0  ...      1703.55     1460.85      1697.25       1467.15   \n379     5   A     0  ...      1329.81     1603.29      1335.24       1597.86   \n\n     goalsDifference  shotsDifference  cornersDifference  ewmDifference  \\\n30         -4.000000        -1.500000           3.500000      -1.288288   \n31         -1.000000         5.000000          -1.000000      -0.279279   \n32         -1.500000        -3.500000           3.000000       1.000000   \n33         -1.500000        -2.500000           9.000000       0.720721   \n34          2.500000         9.000000           1.500000       2.702703   \n..               ...              ...                ...            ...   \n375        -1.333333        -1.666667           1.166667     -12.982307   \n376         1.833333         4.666667          -2.166667       8.867102   \n377         5.000000         6.166667          10.000000      37.769667   \n378         9.000000         1.333333           4.500000      44.976998   \n379        -2.666667         3.166667           0.833333     -45.768690   \n\n     elo_difference  form_difference  \n30            -9.96        -3.500000  \n31             1.98        -2.000000  \n32            13.71         1.000000  \n33            15.66        -1.000000  \n34            33.09         0.000000  \n..              ...              ...  \n375          -42.15         0.000000  \n376           57.99         0.333333  \n377          243.96         4.500000  \n378          230.10         4.000000  \n379         -262.62        -3.000000  \n\n[1050 rows x 134 columns]",
      "text/html": "<div>\n<style scoped>\n    .dataframe tbody tr th:only-of-type {\n        vertical-align: middle;\n    }\n\n    .dataframe tbody tr th {\n        vertical-align: top;\n    }\n\n    .dataframe thead th {\n        text-align: right;\n    }\n</style>\n<table border=\"1\" class=\"dataframe\">\n  <thead>\n    <tr style=\"text-align: right;\">\n      <th></th>\n      <th>Unnamed: 0</th>\n      <th>Div</th>\n      <th>Date</th>\n      <th>Time</th>\n      <th>HomeTeam</th>\n      <th>AwayTeam</th>\n      <th>FTHG</th>\n      <th>FTAG</th>\n      <th>FTR</th>\n      <th>HTHG</th>\n      <th>...</th>\n      <th>Elo_h_after</th>\n      <th>Elo_a_after</th>\n      <th>Elo_h_before</th>\n      <th>Elo_a_before</th>\n      <th>goalsDifference</th>\n      <th>shotsDifference</th>\n      <th>cornersDifference</th>\n      <th>ewmDifference</th>\n      <th>elo_difference</th>\n      <th>form_difference</th>\n    </tr>\n  </thead>\n  <tbody>\n    <tr>\n      <th>30</th>\n      <td>30</td>\n      <td>E0</td>\n      <td>2019-08-31</td>\n      <td>12:30</td>\n      <td>Southampton</td>\n      <td>Manchester Utd</td>\n      <td>1</td>\n      <td>1</td>\n      <td>D</td>\n      <td>0</td>\n      <td>...</td>\n      <td>1488.54</td>\n      <td>1497.66</td>\n      <td>1488.12</td>\n      <td>1498.08</td>\n      <td>-4.000000</td>\n      <td>-1.500000</td>\n      <td>3.500000</td>\n      <td>-1.288288</td>\n      <td>-9.96</td>\n      <td>-3.500000</td>\n    </tr>\n    <tr>\n      <th>31</th>\n      <td>31</td>\n      <td>E0</td>\n      <td>2019-08-31</td>\n      <td>15:00</td>\n      <td>Chelsea</td>\n      <td>Sheffield Utd</td>\n      <td>2</td>\n      <td>2</td>\n      <td>D</td>\n      <td>2</td>\n      <td>...</td>\n      <td>1501.20</td>\n      <td>1499.40</td>\n      <td>1501.29</td>\n      <td>1499.31</td>\n      <td>-1.000000</td>\n      <td>5.000000</td>\n      <td>-1.000000</td>\n      <td>-0.279279</td>\n      <td>1.98</td>\n      <td>-2.000000</td>\n    </tr>\n    <tr>\n      <th>32</th>\n      <td>32</td>\n      <td>E0</td>\n      <td>2019-08-31</td>\n      <td>15:00</td>\n      <td>Crystal Palace</td>\n      <td>Aston Villa</td>\n      <td>1</td>\n      <td>0</td>\n      <td>H</td>\n      <td>0</td>\n      <td>...</td>\n      <td>1515.66</td>\n      <td>1473.15</td>\n      <td>1501.26</td>\n      <td>1487.55</td>\n      <td>-1.500000</td>\n      <td>-3.500000</td>\n      <td>3.000000</td>\n      <td>1.000000</td>\n      <td>13.71</td>\n      <td>1.000000</td>\n    </tr>\n    <tr>\n      <th>33</th>\n      <td>33</td>\n      <td>E0</td>\n      <td>2019-08-31</td>\n      <td>15:00</td>\n      <td>Leicester City</td>\n      <td>Bournemouth</td>\n      <td>3</td>\n      <td>1</td>\n      <td>H</td>\n      <td>2</td>\n      <td>...</td>\n      <td>1529.34</td>\n      <td>1485.06</td>\n      <td>1515.03</td>\n      <td>1499.37</td>\n      <td>-1.500000</td>\n      <td>-2.500000</td>\n      <td>9.000000</td>\n      <td>0.720721</td>\n      <td>15.66</td>\n      <td>-1.000000</td>\n    </tr>\n    <tr>\n      <th>34</th>\n      <td>34</td>\n      <td>E0</td>\n      <td>2019-08-31</td>\n      <td>15:00</td>\n      <td>Manchester City</td>\n      <td>Brighton</td>\n      <td>4</td>\n      <td>0</td>\n      <td>H</td>\n      <td>2</td>\n      <td>...</td>\n      <td>1543.56</td>\n      <td>1483.29</td>\n      <td>1529.97</td>\n      <td>1496.88</td>\n      <td>2.500000</td>\n      <td>9.000000</td>\n      <td>1.500000</td>\n      <td>2.702703</td>\n      <td>33.09</td>\n      <td>0.000000</td>\n    </tr>\n    <tr>\n      <th>...</th>\n      <td>...</td>\n      <td>...</td>\n      <td>...</td>\n      <td>...</td>\n      <td>...</td>\n      <td>...</td>\n      <td>...</td>\n      <td>...</td>\n      <td>...</td>\n      <td>...</td>\n      <td>...</td>\n      <td>...</td>\n      <td>...</td>\n      <td>...</td>\n      <td>...</td>\n      <td>...</td>\n      <td>...</td>\n      <td>...</td>\n      <td>...</td>\n      <td>...</td>\n      <td>...</td>\n    </tr>\n    <tr>\n      <th>375</th>\n      <td>375</td>\n      <td>E0</td>\n      <td>2022-05-22</td>\n      <td>16:00</td>\n      <td>Crystal Palace</td>\n      <td>Manchester Utd</td>\n      <td>1</td>\n      <td>0</td>\n      <td>H</td>\n      <td>1</td>\n      <td>...</td>\n      <td>1498.11</td>\n      <td>1506.66</td>\n      <td>1481.31</td>\n      <td>1523.46</td>\n      <td>-1.333333</td>\n      <td>-1.666667</td>\n      <td>1.166667</td>\n      <td>-12.982307</td>\n      <td>-42.15</td>\n      <td>0.000000</td>\n    </tr>\n    <tr>\n      <th>376</th>\n      <td>376</td>\n      <td>E0</td>\n      <td>2022-05-22</td>\n      <td>16:00</td>\n      <td>Leicester City</td>\n      <td>Southampton</td>\n      <td>4</td>\n      <td>1</td>\n      <td>H</td>\n      <td>0</td>\n      <td>...</td>\n      <td>1503.48</td>\n      <td>1420.47</td>\n      <td>1490.97</td>\n      <td>1432.98</td>\n      <td>1.833333</td>\n      <td>4.666667</td>\n      <td>-2.166667</td>\n      <td>8.867102</td>\n      <td>57.99</td>\n      <td>0.333333</td>\n    </tr>\n    <tr>\n      <th>377</th>\n      <td>377</td>\n      <td>E0</td>\n      <td>2022-05-22</td>\n      <td>16:00</td>\n      <td>Liverpool</td>\n      <td>Wolves</td>\n      <td>3</td>\n      <td>1</td>\n      <td>H</td>\n      <td>1</td>\n      <td>...</td>\n      <td>1716.99</td>\n      <td>1461.21</td>\n      <td>1711.08</td>\n      <td>1467.12</td>\n      <td>5.000000</td>\n      <td>6.166667</td>\n      <td>10.000000</td>\n      <td>37.769667</td>\n      <td>243.96</td>\n      <td>4.500000</td>\n    </tr>\n    <tr>\n      <th>378</th>\n      <td>378</td>\n      <td>E0</td>\n      <td>2022-05-22</td>\n      <td>16:00</td>\n      <td>Manchester City</td>\n      <td>Aston Villa</td>\n      <td>3</td>\n      <td>2</td>\n      <td>H</td>\n      <td>0</td>\n      <td>...</td>\n      <td>1703.55</td>\n      <td>1460.85</td>\n      <td>1697.25</td>\n      <td>1467.15</td>\n      <td>9.000000</td>\n      <td>1.333333</td>\n      <td>4.500000</td>\n      <td>44.976998</td>\n      <td>230.10</td>\n      <td>4.000000</td>\n    </tr>\n    <tr>\n      <th>379</th>\n      <td>379</td>\n      <td>E0</td>\n      <td>2022-05-22</td>\n      <td>16:00</td>\n      <td>Norwich City</td>\n      <td>Tottenham</td>\n      <td>0</td>\n      <td>5</td>\n      <td>A</td>\n      <td>0</td>\n      <td>...</td>\n      <td>1329.81</td>\n      <td>1603.29</td>\n      <td>1335.24</td>\n      <td>1597.86</td>\n      <td>-2.666667</td>\n      <td>3.166667</td>\n      <td>0.833333</td>\n      <td>-45.768690</td>\n      <td>-262.62</td>\n      <td>-3.000000</td>\n    </tr>\n  </tbody>\n</table>\n<p>1050 rows × 134 columns</p>\n</div>"
     },
     "execution_count": 59,
     "metadata": {},
     "output_type": "execute_result"
    }
   ],
   "source": [
    "#remove first 3 gameweeks\n",
    "PL19_20_features_tmp  = PL19_20_features.iloc[ -350:]\n",
    "PL20_21_features_tmp  = PL20_21_features.iloc[ -350:]\n",
    "PL21_22_features_tmp  = PL21_22_features.iloc[ -350:]\n",
    "#concatenate seasons\n",
    "PL_total = pd.concat([PL19_20_features_tmp, PL20_21_features_tmp, PL21_22_features_tmp])\n",
    "PL_total"
   ],
   "metadata": {
    "collapsed": false,
    "pycharm": {
     "name": "#%%\n"
    }
   }
  },
  {
   "cell_type": "code",
   "execution_count": 60,
   "outputs": [],
   "source": [
    "#prepare Data for ML Algos\n",
    "#add column for H A X\n",
    "conditions = [\n",
    "    (PL_total['FTR'] == 'H'),\n",
    "    (PL_total['FTR'] == 'A'),\n",
    "    (PL_total['FTR'] == 'D')]\n",
    "choices = [0, 1, 2]\n",
    "PL_total['identifier'] = np.select(conditions, choices)\n",
    "#PL_total.drop(PL_total[ PL_total.Wk < 6].index, inplace=True)\n",
    "y = PL_total['identifier'].to_numpy()\n",
    "feature_names = ['Rating difference', 'Rating_Home', 'Rating_Away', 'ewmH', 'ewmA', 'ewmDifference', 'Elo_h_before', 'Elo_a_before', 'elo_difference', 'goalsH', 'goalsA', 'goalsDifference', 'shotsH', 'shotsA', 'shotsDifference', 'cornersH', 'cornersA', 'cornersDifference', 'formH', 'formA', 'form_difference']\n",
    "#feature_names = ['Rating difference', 'elo_difference', 'ewmDifference', 'goalsDifference', 'shotsDifference', 'cornersDifference', 'form_difference']\n",
    "X = PL_total[feature_names].to_numpy()\n",
    "#X = PL20_21_features[['Rating difference', 'eloA', 'eloDifference' ]].to_numpy()\n"
   ],
   "metadata": {
    "collapsed": false,
    "pycharm": {
     "name": "#%%\n"
    }
   }
  },
  {
   "cell_type": "code",
   "execution_count": 61,
   "outputs": [],
   "source": [
    "#split Data in training and test set\n",
    "X_train, X_test, y_train, y_test = train_test_split(X, y, test_size=0.2, random_state=42)"
   ],
   "metadata": {
    "collapsed": false,
    "pycharm": {
     "name": "#%%\n"
    }
   }
  },
  {
   "cell_type": "code",
   "execution_count": 62,
   "outputs": [
    {
     "name": "stdout",
     "output_type": "stream",
     "text": [
      "X_train : (840, 21)\n",
      "y_train : (840,)\n",
      "X_test : (210, 21)\n",
      "y_test : (210,)\n"
     ]
    }
   ],
   "source": [
    "print(f'X_train : {X_train.shape}')\n",
    "print(f'y_train : {y_train.shape}')\n",
    "print(f'X_test : {X_test.shape}')\n",
    "print(f'y_test : {y_test.shape}')"
   ],
   "metadata": {
    "collapsed": false,
    "pycharm": {
     "name": "#%%\n"
    }
   }
  },
  {
   "cell_type": "code",
   "execution_count": 63,
   "outputs": [],
   "source": [
    "#set up classifiers\n",
    "rf_model = RandomForestClassifier()\n",
    "xgb_model = xgb.XGBClassifier(seed=82)\n"
   ],
   "metadata": {
    "collapsed": false,
    "pycharm": {
     "name": "#%%\n"
    }
   }
  },
  {
   "cell_type": "code",
   "execution_count": 64,
   "outputs": [
    {
     "data": {
      "text/plain": "{'bootstrap': True,\n 'ccp_alpha': 0.0,\n 'class_weight': None,\n 'criterion': 'gini',\n 'max_depth': None,\n 'max_features': 'auto',\n 'max_leaf_nodes': None,\n 'max_samples': None,\n 'min_impurity_decrease': 0.0,\n 'min_samples_leaf': 1,\n 'min_samples_split': 2,\n 'min_weight_fraction_leaf': 0.0,\n 'n_estimators': 100,\n 'n_jobs': None,\n 'oob_score': False,\n 'random_state': None,\n 'verbose': 0,\n 'warm_start': False}"
     },
     "execution_count": 64,
     "metadata": {},
     "output_type": "execute_result"
    }
   ],
   "source": [
    "rf_model.fit(X_train, y_train)\n",
    "xgb_model.fit(X_train, y_train)\n",
    "rf_model.get_params()"
   ],
   "metadata": {
    "collapsed": false,
    "pycharm": {
     "name": "#%%\n"
    }
   }
  },
  {
   "cell_type": "code",
   "execution_count": 65,
   "outputs": [
    {
     "data": {
      "text/plain": "0.47619047619047616"
     },
     "execution_count": 65,
     "metadata": {},
     "output_type": "execute_result"
    }
   ],
   "source": [
    "rf_model.score(X_test, y_test)"
   ],
   "metadata": {
    "collapsed": false,
    "pycharm": {
     "name": "#%%\n"
    }
   }
  },
  {
   "cell_type": "code",
   "execution_count": 67,
   "outputs": [
    {
     "data": {
      "text/plain": "0.5"
     },
     "execution_count": 67,
     "metadata": {},
     "output_type": "execute_result"
    }
   ],
   "source": [
    "xgb_model.score(X_test, y_test)"
   ],
   "metadata": {
    "collapsed": false,
    "pycharm": {
     "name": "#%%\n"
    }
   }
  },
  {
   "cell_type": "code",
   "execution_count": 68,
   "outputs": [],
   "source": [
    "rf1 = []\n",
    "rf2 = []\n",
    "xg1 = []\n",
    "xg2 = []\n",
    "x = 0\n",
    "for i in range(100):\n",
    "    #split Data in training and test set\n",
    "    X_train, X_test, y_train, y_test = train_test_split(X, y, test_size=0.2, random_state=42)\n",
    "    #create manual test and training sets, without gw 1-3\n",
    "    X_train21 = np.split(X, [40, 340, 380], axis=0)\n",
    "    X_train2 = X_train21[1]\n",
    "    X_test2 = X_train21[2]\n",
    "    y_train21 = np.split(y, [40, 340, 380], axis=0)\n",
    "    y_train2 = y_train21[1]\n",
    "    y_test2 = y_train21[2]\n",
    "    #set up classifiers\n",
    "    rf_model = RandomForestClassifier()\n",
    "    xgb_model = xgb.XGBClassifier(seed=82)\n",
    "    rf_model2 = RandomForestClassifier()\n",
    "    xgb_model2 = xgb.XGBClassifier(seed=82)\n",
    "    rf_model2.fit(X_train2, y_train2)\n",
    "    xgb_model2.fit(X_train2, y_train2)\n",
    "    rf_model2.get_params()\n",
    "    rf_model.fit(X_train, y_train)\n",
    "    xgb_model.fit(X_train, y_train)\n",
    "    rf_model.get_params()\n",
    "    rf1.append(rf_model.score(X_test, y_test))\n",
    "    rf2.append(rf_model2.score(X_test2, y_test2))\n",
    "    xg1.append(xgb_model.score(X_test, y_test))\n",
    "    xg2.append(xgb_model2.score(X_test2, y_test2))\n"
   ],
   "metadata": {
    "collapsed": false,
    "pycharm": {
     "name": "#%%\n"
    }
   }
  },
  {
   "cell_type": "code",
   "execution_count": 69,
   "outputs": [
    {
     "name": "stdout",
     "output_type": "stream",
     "text": [
      "RF1 0.49266666666666636\n",
      "RF2 0.36100000000000015\n",
      "XGB1 0.5\n",
      "XGB2 0.32499999999999957\n"
     ]
    }
   ],
   "source": [
    "def Average(lst):\n",
    "    return sum(lst) / len(lst)\n",
    "\n",
    "\n",
    "print('RF1', Average(rf1))\n",
    "print('RF2', Average(rf2))\n",
    "print('XGB1', Average(xg1))\n",
    "print('XGB2', Average(xg2))"
   ],
   "metadata": {
    "collapsed": false,
    "pycharm": {
     "name": "#%%\n"
    }
   }
  },
  {
   "cell_type": "code",
   "execution_count": 653,
   "outputs": [
    {
     "data": {
      "text/plain": "<Figure size 432x288 with 1 Axes>",
      "image/png": "[encoded data removed]"
     },
     "metadata": {
      "needs_background": "light"
     },
     "output_type": "display_data"
    }
   ],
   "source": [
    "    #start_time = time.time()\n",
    "importances = rf_model.feature_importances_\n",
    "std = np.std([tree.feature_importances_ for tree in rf_model.estimators_], axis=0)\n",
    "#elapsed_time = time.time() - start_time\n",
    "\n",
    "\n",
    "#feature_names = [f\"feature {i}\" for i in range(X.shape[1])]\n",
    "\n",
    "\n",
    "forest_importances = pd.Series(importances, index=feature_names)\n",
    "forest_importances = forest_importances.sort_values()\n",
    "fig, ax = plt.subplots()\n",
    "\n",
    "forest_importances.plot.barh(ax=ax, yerr=std)\n",
    "ax.set_title(\"Feature importances using MDI\")\n",
    "ax.set_xlabel(\"Mean decrease in impurity\")\n",
    "fig.tight_layout()"
   ],
   "metadata": {
    "collapsed": false,
    "pycharm": {
     "name": "#%%\n"
    }
   }
  },
  {
   "cell_type": "code",
   "execution_count": 654,
   "outputs": [],
   "source": [
    "#for measuring training time\n",
    "from time import time\n",
    "# F1 score (also F-score or F-measure) is a measure of a test's accuracy.\n",
    "#It considers both the precision p and the recall r of the test to compute\n",
    "#the score: p is the number of correct positive results divided by the number of\n",
    "#all positive results, and r is the number of correct positive results divided by\n",
    "#the number of positive results that should have been returned. The F1 score can be\n",
    "#interpreted as a weighted average of the precision and recall, where an F1 score\n",
    "#reaches its best value at 1 and worst at 0.\n",
    "from sklearn.metrics import f1_score\n",
    "\n",
    "\n",
    "def train_classifier(clf, X_train, y_train):\n",
    "    ''' Fits a classifier to the training data. '''\n",
    "\n",
    "    # Start the clock, train the classifier, then stop the clock\n",
    "    start = time()\n",
    "    clf.fit(X_train, y_train)\n",
    "    end = time()\n",
    "\n",
    "    # Print the results\n",
    "    print(\"Trained model in {:.4f} seconds\".format(end - start))\n",
    "\n",
    "\n",
    "def predict_labels(clf, features, target):\n",
    "    ''' Makes predictions using a fit classifier based on F1 score. '''\n",
    "\n",
    "    # Start the clock, make predictions, then stop the clock\n",
    "    start = time()\n",
    "    y_pred = clf.predict(features)\n",
    "\n",
    "    end = time()\n",
    "    # Print and return results\n",
    "    print(\"Made predictions in {:.4f} seconds.\".format(end - start))\n",
    "\n",
    "    return f1_score(target, y_pred, average='weighted'), sum(target == y_pred) / float(len(y_pred))\n",
    "\n",
    "\n",
    "def train_predict(clf, X_train, y_train, X_test, y_test):\n",
    "    ''' Train and predict using a classifer based on F1 score. '''\n",
    "\n",
    "    # Indicate the classifier and the training set size\n",
    "    print(\"Training a {} using a training set size of {}. . .\".format(clf.__class__.__name__, len(X_train)))\n",
    "\n",
    "    # Train the classifier\n",
    "    train_classifier(clf, X_train, y_train)\n",
    "\n",
    "    # Print the results of prediction for both training and testing\n",
    "    f1, acc = predict_labels(clf, X_train, y_train)\n",
    "    print(f1, acc)\n",
    "    print(\"F1 score and accuracy score for training set: {:.4f} , {:.4f}.\".format(f1, acc))\n",
    "\n",
    "    f1, acc = predict_labels(clf, X_test, y_test)\n",
    "    print(\"F1 score and accuracy score for test set: {:.4f} , {:.4f}.\".format(f1, acc))"
   ],
   "metadata": {
    "collapsed": false,
    "pycharm": {
     "name": "#%%\n"
    }
   }
  },
  {
   "cell_type": "code",
   "execution_count": 655,
   "outputs": [
    {
     "name": "stdout",
     "output_type": "stream",
     "text": [
      "Training a XGBClassifier using a training set size of 304. . .\n",
      "Trained model in 0.2005 seconds\n",
      "Made predictions in 0.0040 seconds.\n",
      "1.0 1.0\n",
      "F1 score and accuracy score for training set: 1.0000 , 1.0000.\n",
      "Made predictions in 0.0030 seconds.\n",
      "F1 score and accuracy score for test set: 0.4328 , 0.4737.\n",
      "\n",
      "Training a RandomForestClassifier using a training set size of 304. . .\n",
      "Trained model in 0.1470 seconds\n",
      "Made predictions in 0.0120 seconds.\n",
      "1.0 1.0\n",
      "F1 score and accuracy score for training set: 1.0000 , 1.0000.\n",
      "Made predictions in 0.0080 seconds.\n",
      "F1 score and accuracy score for test set: 0.5036 , 0.5658.\n"
     ]
    }
   ],
   "source": [
    "train_predict(xgb_model, X_train, y_train, X_test, y_test)\n",
    "print('')\n",
    "train_predict(rf_model, X_train, y_train, X_test, y_test)"
   ],
   "metadata": {
    "collapsed": false,
    "pycharm": {
     "name": "#%%\n"
    }
   }
  },
  {
   "cell_type": "code",
   "execution_count": null,
   "outputs": [],
   "source": [],
   "metadata": {
    "collapsed": false,
    "pycharm": {
     "name": "#%%\n"
    }
   }
  }
 ],
 "metadata": {
  "kernelspec": {
   "display_name": "Python 3",
   "language": "python",
   "name": "python3"
  },
  "language_info": {
   "codemirror_mode": {
    "name": "ipython",
    "version": 2
   },
   "file_extension": ".py",
   "mimetype": "text/x-python",
   "name": "python",
   "nbconvert_exporter": "python",
   "pygments_lexer": "ipython2",
   "version": "2.7.6"
  }
 },
 "nbformat": 4,
 "nbformat_minor": 0
}