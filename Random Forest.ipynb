{
 "cells": [
  {
   "cell_type": "code",
   "execution_count": 2,
   "metadata": {
    "collapsed": true
   },
   "outputs": [],
   "source": [
    "#import necessary packages\n",
    "import pandas as pd\n",
    "import numpy as np\n",
    "from sklearn.ensemble import RandomForestClassifier\n",
    "import xgboost as xgb\n",
    "from sklearn.model_selection import train_test_split\n",
    "import time\n",
    "import matplotlib.pyplot as plt"
   ]
  },
  {
   "cell_type": "code",
   "execution_count": 7,
   "outputs": [
    {
     "data": {
      "text/plain": "    Div        Date   Time         HomeTeam        AwayTeam  FTHG  FTAG FTR  \\\n0    E0  2021-08-13  20:00        Brentford         Arsenal     2     0   H   \n1    E0  2021-08-14  12:30   Manchester Utd    Leeds United     5     1   H   \n2    E0  2021-08-14  15:00          Burnley        Brighton     1     2   A   \n3    E0  2021-08-14  15:00          Chelsea  Crystal Palace     3     0   H   \n4    E0  2021-08-14  15:00          Everton     Southampton     3     1   H   \n..   ..         ...    ...              ...             ...   ...   ...  ..   \n375  E0  2022-05-22  16:00   Crystal Palace  Manchester Utd     1     0   H   \n376  E0  2022-05-22  16:00   Leicester City     Southampton     4     1   H   \n377  E0  2022-05-22  16:00        Liverpool          Wolves     3     1   H   \n378  E0  2022-05-22  16:00  Manchester City     Aston Villa     3     2   H   \n379  E0  2022-05-22  16:00     Norwich City       Tottenham     0     5   A   \n\n     HTHG  HTAG  ... PCAHA MaxCAHH  MaxCAHA  AvgCAHH  AvgCAHA  Rating_Home  \\\n0       1     0  ...  2.13    2.05     2.17     1.80     2.09           73   \n1       1     0  ...  1.77    2.19     1.93     2.10     1.79           83   \n2       1     0  ...  2.14    1.82     2.19     1.79     2.12           76   \n3       2     0  ...  1.81    2.16     1.93     2.06     1.82           83   \n4       0     1  ...  1.88    2.08     1.90     2.03     1.86           79   \n..    ...   ...  ...   ...     ...      ...      ...      ...          ...   \n375     1     0  ...  2.23    1.88     2.25     1.74     2.16           76   \n376     0     0  ...  2.03    1.94     2.26     1.87     2.01           80   \n377     1     1  ...  1.83    2.19     1.99     2.07     1.80           84   \n378     0     1  ...  1.86    2.09     2.03     2.01     1.87           85   \n379     0     2  ...  1.94    2.16     1.98     1.99     1.89           74   \n\n     Rating_Away  Rating difference               game_home_ID  \\\n0             79                 -6        Brentford2021-08-13   \n1             76                  7   Manchester Utd2021-08-14   \n2             75                  1          Burnley2021-08-14   \n3             76                  7          Chelsea2021-08-14   \n4             76                  3          Everton2021-08-14   \n..           ...                ...                        ...   \n375           83                 -7   Crystal Palace2022-05-22   \n376           76                  4   Leicester City2022-05-22   \n377           78                  6        Liverpool2022-05-22   \n378           78                  7  Manchester City2022-05-22   \n379           82                 -8     Norwich City2022-05-22   \n\n                 game_away_ID  \n0           Arsenal2021-08-13  \n1      Leeds United2021-08-14  \n2          Brighton2021-08-14  \n3    Crystal Palace2021-08-14  \n4       Southampton2021-08-14  \n..                        ...  \n375  Manchester Utd2022-05-22  \n376     Southampton2022-05-22  \n377          Wolves2022-05-22  \n378     Aston Villa2022-05-22  \n379       Tottenham2022-05-22  \n\n[380 rows x 111 columns]",
      "text/html": "<div>\n<style scoped>\n    .dataframe tbody tr th:only-of-type {\n        vertical-align: middle;\n    }\n\n    .dataframe tbody tr th {\n        vertical-align: top;\n    }\n\n    .dataframe thead th {\n        text-align: right;\n    }\n</style>\n<table border=\"1\" class=\"dataframe\">\n  <thead>\n    <tr style=\"text-align: right;\">\n      <th></th>\n      <th>Div</th>\n      <th>Date</th>\n      <th>Time</th>\n      <th>HomeTeam</th>\n      <th>AwayTeam</th>\n      <th>FTHG</th>\n      <th>FTAG</th>\n      <th>FTR</th>\n      <th>HTHG</th>\n      <th>HTAG</th>\n      <th>...</th>\n      <th>PCAHA</th>\n      <th>MaxCAHH</th>\n      <th>MaxCAHA</th>\n      <th>AvgCAHH</th>\n      <th>AvgCAHA</th>\n      <th>Rating_Home</th>\n      <th>Rating_Away</th>\n      <th>Rating difference</th>\n      <th>game_home_ID</th>\n      <th>game_away_ID</th>\n    </tr>\n  </thead>\n  <tbody>\n    <tr>\n      <th>0</th>\n      <td>E0</td>\n      <td>2021-08-13</td>\n      <td>20:00</td>\n      <td>Brentford</td>\n      <td>Arsenal</td>\n      <td>2</td>\n      <td>0</td>\n      <td>H</td>\n      <td>1</td>\n      <td>0</td>\n      <td>...</td>\n      <td>2.13</td>\n      <td>2.05</td>\n      <td>2.17</td>\n      <td>1.80</td>\n      <td>2.09</td>\n      <td>73</td>\n      <td>79</td>\n      <td>-6</td>\n      <td>Brentford2021-08-13</td>\n      <td>Arsenal2021-08-13</td>\n    </tr>\n    <tr>\n      <th>1</th>\n      <td>E0</td>\n      <td>2021-08-14</td>\n      <td>12:30</td>\n      <td>Manchester Utd</td>\n      <td>Leeds United</td>\n      <td>5</td>\n      <td>1</td>\n      <td>H</td>\n      <td>1</td>\n      <td>0</td>\n      <td>...</td>\n      <td>1.77</td>\n      <td>2.19</td>\n      <td>1.93</td>\n      <td>2.10</td>\n      <td>1.79</td>\n      <td>83</td>\n      <td>76</td>\n      <td>7</td>\n      <td>Manchester Utd2021-08-14</td>\n      <td>Leeds United2021-08-14</td>\n    </tr>\n    <tr>\n      <th>2</th>\n      <td>E0</td>\n      <td>2021-08-14</td>\n      <td>15:00</td>\n      <td>Burnley</td>\n      <td>Brighton</td>\n      <td>1</td>\n      <td>2</td>\n      <td>A</td>\n      <td>1</td>\n      <td>0</td>\n      <td>...</td>\n      <td>2.14</td>\n      <td>1.82</td>\n      <td>2.19</td>\n      <td>1.79</td>\n      <td>2.12</td>\n      <td>76</td>\n      <td>75</td>\n      <td>1</td>\n      <td>Burnley2021-08-14</td>\n      <td>Brighton2021-08-14</td>\n    </tr>\n    <tr>\n      <th>3</th>\n      <td>E0</td>\n      <td>2021-08-14</td>\n      <td>15:00</td>\n      <td>Chelsea</td>\n      <td>Crystal Palace</td>\n      <td>3</td>\n      <td>0</td>\n      <td>H</td>\n      <td>2</td>\n      <td>0</td>\n      <td>...</td>\n      <td>1.81</td>\n      <td>2.16</td>\n      <td>1.93</td>\n      <td>2.06</td>\n      <td>1.82</td>\n      <td>83</td>\n      <td>76</td>\n      <td>7</td>\n      <td>Chelsea2021-08-14</td>\n      <td>Crystal Palace2021-08-14</td>\n    </tr>\n    <tr>\n      <th>4</th>\n      <td>E0</td>\n      <td>2021-08-14</td>\n      <td>15:00</td>\n      <td>Everton</td>\n      <td>Southampton</td>\n      <td>3</td>\n      <td>1</td>\n      <td>H</td>\n      <td>0</td>\n      <td>1</td>\n      <td>...</td>\n      <td>1.88</td>\n      <td>2.08</td>\n      <td>1.90</td>\n      <td>2.03</td>\n      <td>1.86</td>\n      <td>79</td>\n      <td>76</td>\n      <td>3</td>\n      <td>Everton2021-08-14</td>\n      <td>Southampton2021-08-14</td>\n    </tr>\n    <tr>\n      <th>...</th>\n      <td>...</td>\n      <td>...</td>\n      <td>...</td>\n      <td>...</td>\n      <td>...</td>\n      <td>...</td>\n      <td>...</td>\n      <td>...</td>\n      <td>...</td>\n      <td>...</td>\n      <td>...</td>\n      <td>...</td>\n      <td>...</td>\n      <td>...</td>\n      <td>...</td>\n      <td>...</td>\n      <td>...</td>\n      <td>...</td>\n      <td>...</td>\n      <td>...</td>\n      <td>...</td>\n    </tr>\n    <tr>\n      <th>375</th>\n      <td>E0</td>\n      <td>2022-05-22</td>\n      <td>16:00</td>\n      <td>Crystal Palace</td>\n      <td>Manchester Utd</td>\n      <td>1</td>\n      <td>0</td>\n      <td>H</td>\n      <td>1</td>\n      <td>0</td>\n      <td>...</td>\n      <td>2.23</td>\n      <td>1.88</td>\n      <td>2.25</td>\n      <td>1.74</td>\n      <td>2.16</td>\n      <td>76</td>\n      <td>83</td>\n      <td>-7</td>\n      <td>Crystal Palace2022-05-22</td>\n      <td>Manchester Utd2022-05-22</td>\n    </tr>\n    <tr>\n      <th>376</th>\n      <td>E0</td>\n      <td>2022-05-22</td>\n      <td>16:00</td>\n      <td>Leicester City</td>\n      <td>Southampton</td>\n      <td>4</td>\n      <td>1</td>\n      <td>H</td>\n      <td>0</td>\n      <td>0</td>\n      <td>...</td>\n      <td>2.03</td>\n      <td>1.94</td>\n      <td>2.26</td>\n      <td>1.87</td>\n      <td>2.01</td>\n      <td>80</td>\n      <td>76</td>\n      <td>4</td>\n      <td>Leicester City2022-05-22</td>\n      <td>Southampton2022-05-22</td>\n    </tr>\n    <tr>\n      <th>377</th>\n      <td>E0</td>\n      <td>2022-05-22</td>\n      <td>16:00</td>\n      <td>Liverpool</td>\n      <td>Wolves</td>\n      <td>3</td>\n      <td>1</td>\n      <td>H</td>\n      <td>1</td>\n      <td>1</td>\n      <td>...</td>\n      <td>1.83</td>\n      <td>2.19</td>\n      <td>1.99</td>\n      <td>2.07</td>\n      <td>1.80</td>\n      <td>84</td>\n      <td>78</td>\n      <td>6</td>\n      <td>Liverpool2022-05-22</td>\n      <td>Wolves2022-05-22</td>\n    </tr>\n    <tr>\n      <th>378</th>\n      <td>E0</td>\n      <td>2022-05-22</td>\n      <td>16:00</td>\n      <td>Manchester City</td>\n      <td>Aston Villa</td>\n      <td>3</td>\n      <td>2</td>\n      <td>H</td>\n      <td>0</td>\n      <td>1</td>\n      <td>...</td>\n      <td>1.86</td>\n      <td>2.09</td>\n      <td>2.03</td>\n      <td>2.01</td>\n      <td>1.87</td>\n      <td>85</td>\n      <td>78</td>\n      <td>7</td>\n      <td>Manchester City2022-05-22</td>\n      <td>Aston Villa2022-05-22</td>\n    </tr>\n    <tr>\n      <th>379</th>\n      <td>E0</td>\n      <td>2022-05-22</td>\n      <td>16:00</td>\n      <td>Norwich City</td>\n      <td>Tottenham</td>\n      <td>0</td>\n      <td>5</td>\n      <td>A</td>\n      <td>0</td>\n      <td>2</td>\n      <td>...</td>\n      <td>1.94</td>\n      <td>2.16</td>\n      <td>1.98</td>\n      <td>1.99</td>\n      <td>1.89</td>\n      <td>74</td>\n      <td>82</td>\n      <td>-8</td>\n      <td>Norwich City2022-05-22</td>\n      <td>Tottenham2022-05-22</td>\n    </tr>\n  </tbody>\n</table>\n<p>380 rows × 111 columns</p>\n</div>"
     },
     "execution_count": 7,
     "metadata": {},
     "output_type": "execute_result"
    }
   ],
   "source": [
    "#import Data\n",
    "PL19_20_fixtures = pd.read_csv('Data/2019-20/Fixtures/PL19_20_fixtures.csv')\n",
    "PL20_21_fixtures = pd.read_csv('Data/2020-21/Fixtures/PL20_21_fixtures.csv')\n",
    "PL21_22_fixtures = pd.read_csv('Data/2021-22/Fixtures/PL21_22_fixtures.csv')\n",
    "#PL20_21_fixtures.replace(['Manchester Utd', 'Tottenham'], ['Manchester United','Tottenham Hotspur'], inplace=True)\n",
    "PL19_20_fixtures['game_home_ID'] = PL19_20_fixtures['HomeTeam'] + PL19_20_fixtures['Date'].astype(str)\n",
    "PL19_20_fixtures['game_away_ID'] = PL19_20_fixtures['AwayTeam'] + PL19_20_fixtures['Date'].astype(str)\n",
    "PL20_21_fixtures['game_home_ID'] = PL20_21_fixtures['HomeTeam'] + PL20_21_fixtures['Date'].astype(str)\n",
    "PL20_21_fixtures['game_away_ID'] = PL20_21_fixtures['AwayTeam'] + PL20_21_fixtures['Date'].astype(str)\n",
    "PL21_22_fixtures['game_home_ID'] = PL21_22_fixtures['HomeTeam'] + PL21_22_fixtures['Date'].astype(str)\n",
    "PL21_22_fixtures['game_away_ID'] = PL21_22_fixtures['AwayTeam'] + PL21_22_fixtures['Date'].astype(str)\n",
    "PL21_22_fixtures"
   ],
   "metadata": {
    "collapsed": false,
    "pycharm": {
     "name": "#%%\n"
    }
   }
  },
  {
   "cell_type": "code",
   "execution_count": 8,
   "outputs": [
    {
     "data": {
      "text/plain": "    Div        Date   Time         HomeTeam        AwayTeam  FTHG  FTAG FTR  \\\n0    E0  2021-08-13  20:00        Brentford         Arsenal     2     0   H   \n1    E0  2021-08-14  12:30   Manchester Utd    Leeds United     5     1   H   \n2    E0  2021-08-14  15:00          Burnley        Brighton     1     2   A   \n3    E0  2021-08-14  15:00          Chelsea  Crystal Palace     3     0   H   \n4    E0  2021-08-14  15:00          Everton     Southampton     3     1   H   \n..   ..         ...    ...              ...             ...   ...   ...  ..   \n375  E0  2022-05-22  16:00   Crystal Palace  Manchester Utd     1     0   H   \n376  E0  2022-05-22  16:00   Leicester City     Southampton     4     1   H   \n377  E0  2022-05-22  16:00        Liverpool          Wolves     3     1   H   \n378  E0  2022-05-22  16:00  Manchester City     Aston Villa     3     2   H   \n379  E0  2022-05-22  16:00     Norwich City       Tottenham     0     5   A   \n\n     HTHG  HTAG  ... MaxCAHA AvgCAHH  AvgCAHA  Rating_Home  Rating_Away  \\\n0       1     0  ...    2.17    1.80     2.09           73           79   \n1       1     0  ...    1.93    2.10     1.79           83           76   \n2       1     0  ...    2.19    1.79     2.12           76           75   \n3       2     0  ...    1.93    2.06     1.82           83           76   \n4       0     1  ...    1.90    2.03     1.86           79           76   \n..    ...   ...  ...     ...     ...      ...          ...          ...   \n375     1     0  ...    2.25    1.74     2.16           76           83   \n376     0     0  ...    2.26    1.87     2.01           80           76   \n377     1     1  ...    1.99    2.07     1.80           84           78   \n378     0     1  ...    2.03    2.01     1.87           85           78   \n379     0     2  ...    1.98    1.99     1.89           74           82   \n\n     Rating difference               game_home_ID              game_away_ID  \\\n0                   -6        Brentford2021-08-13         Arsenal2021-08-13   \n1                    7   Manchester Utd2021-08-14    Leeds United2021-08-14   \n2                    1          Burnley2021-08-14        Brighton2021-08-14   \n3                    7          Chelsea2021-08-14  Crystal Palace2021-08-14   \n4                    3          Everton2021-08-14     Southampton2021-08-14   \n..                 ...                        ...                       ...   \n375                 -7   Crystal Palace2022-05-22  Manchester Utd2022-05-22   \n376                  4   Leicester City2022-05-22     Southampton2022-05-22   \n377                  6        Liverpool2022-05-22          Wolves2022-05-22   \n378                  7  Manchester City2022-05-22     Aston Villa2022-05-22   \n379                 -8     Norwich City2022-05-22       Tottenham2022-05-22   \n\n     Wk_h  Wk_a  \n0       1     1  \n1       1     1  \n2       1     1  \n3       1     1  \n4       1     1  \n..    ...   ...  \n375    38    38  \n376    38    38  \n377    38    38  \n378    38    38  \n379    38    38  \n\n[380 rows x 113 columns]",
      "text/html": "<div>\n<style scoped>\n    .dataframe tbody tr th:only-of-type {\n        vertical-align: middle;\n    }\n\n    .dataframe tbody tr th {\n        vertical-align: top;\n    }\n\n    .dataframe thead th {\n        text-align: right;\n    }\n</style>\n<table border=\"1\" class=\"dataframe\">\n  <thead>\n    <tr style=\"text-align: right;\">\n      <th></th>\n      <th>Div</th>\n      <th>Date</th>\n      <th>Time</th>\n      <th>HomeTeam</th>\n      <th>AwayTeam</th>\n      <th>FTHG</th>\n      <th>FTAG</th>\n      <th>FTR</th>\n      <th>HTHG</th>\n      <th>HTAG</th>\n      <th>...</th>\n      <th>MaxCAHA</th>\n      <th>AvgCAHH</th>\n      <th>AvgCAHA</th>\n      <th>Rating_Home</th>\n      <th>Rating_Away</th>\n      <th>Rating difference</th>\n      <th>game_home_ID</th>\n      <th>game_away_ID</th>\n      <th>Wk_h</th>\n      <th>Wk_a</th>\n    </tr>\n  </thead>\n  <tbody>\n    <tr>\n      <th>0</th>\n      <td>E0</td>\n      <td>2021-08-13</td>\n      <td>20:00</td>\n      <td>Brentford</td>\n      <td>Arsenal</td>\n      <td>2</td>\n      <td>0</td>\n      <td>H</td>\n      <td>1</td>\n      <td>0</td>\n      <td>...</td>\n      <td>2.17</td>\n      <td>1.80</td>\n      <td>2.09</td>\n      <td>73</td>\n      <td>79</td>\n      <td>-6</td>\n      <td>Brentford2021-08-13</td>\n      <td>Arsenal2021-08-13</td>\n      <td>1</td>\n      <td>1</td>\n    </tr>\n    <tr>\n      <th>1</th>\n      <td>E0</td>\n      <td>2021-08-14</td>\n      <td>12:30</td>\n      <td>Manchester Utd</td>\n      <td>Leeds United</td>\n      <td>5</td>\n      <td>1</td>\n      <td>H</td>\n      <td>1</td>\n      <td>0</td>\n      <td>...</td>\n      <td>1.93</td>\n      <td>2.10</td>\n      <td>1.79</td>\n      <td>83</td>\n      <td>76</td>\n      <td>7</td>\n      <td>Manchester Utd2021-08-14</td>\n      <td>Leeds United2021-08-14</td>\n      <td>1</td>\n      <td>1</td>\n    </tr>\n    <tr>\n      <th>2</th>\n      <td>E0</td>\n      <td>2021-08-14</td>\n      <td>15:00</td>\n      <td>Burnley</td>\n      <td>Brighton</td>\n      <td>1</td>\n      <td>2</td>\n      <td>A</td>\n      <td>1</td>\n      <td>0</td>\n      <td>...</td>\n      <td>2.19</td>\n      <td>1.79</td>\n      <td>2.12</td>\n      <td>76</td>\n      <td>75</td>\n      <td>1</td>\n      <td>Burnley2021-08-14</td>\n      <td>Brighton2021-08-14</td>\n      <td>1</td>\n      <td>1</td>\n    </tr>\n    <tr>\n      <th>3</th>\n      <td>E0</td>\n      <td>2021-08-14</td>\n      <td>15:00</td>\n      <td>Chelsea</td>\n      <td>Crystal Palace</td>\n      <td>3</td>\n      <td>0</td>\n      <td>H</td>\n      <td>2</td>\n      <td>0</td>\n      <td>...</td>\n      <td>1.93</td>\n      <td>2.06</td>\n      <td>1.82</td>\n      <td>83</td>\n      <td>76</td>\n      <td>7</td>\n      <td>Chelsea2021-08-14</td>\n      <td>Crystal Palace2021-08-14</td>\n      <td>1</td>\n      <td>1</td>\n    </tr>\n    <tr>\n      <th>4</th>\n      <td>E0</td>\n      <td>2021-08-14</td>\n      <td>15:00</td>\n      <td>Everton</td>\n      <td>Southampton</td>\n      <td>3</td>\n      <td>1</td>\n      <td>H</td>\n      <td>0</td>\n      <td>1</td>\n      <td>...</td>\n      <td>1.90</td>\n      <td>2.03</td>\n      <td>1.86</td>\n      <td>79</td>\n      <td>76</td>\n      <td>3</td>\n      <td>Everton2021-08-14</td>\n      <td>Southampton2021-08-14</td>\n      <td>1</td>\n      <td>1</td>\n    </tr>\n    <tr>\n      <th>...</th>\n      <td>...</td>\n      <td>...</td>\n      <td>...</td>\n      <td>...</td>\n      <td>...</td>\n      <td>...</td>\n      <td>...</td>\n      <td>...</td>\n      <td>...</td>\n      <td>...</td>\n      <td>...</td>\n      <td>...</td>\n      <td>...</td>\n      <td>...</td>\n      <td>...</td>\n      <td>...</td>\n      <td>...</td>\n      <td>...</td>\n      <td>...</td>\n      <td>...</td>\n      <td>...</td>\n    </tr>\n    <tr>\n      <th>375</th>\n      <td>E0</td>\n      <td>2022-05-22</td>\n      <td>16:00</td>\n      <td>Crystal Palace</td>\n      <td>Manchester Utd</td>\n      <td>1</td>\n      <td>0</td>\n      <td>H</td>\n      <td>1</td>\n      <td>0</td>\n      <td>...</td>\n      <td>2.25</td>\n      <td>1.74</td>\n      <td>2.16</td>\n      <td>76</td>\n      <td>83</td>\n      <td>-7</td>\n      <td>Crystal Palace2022-05-22</td>\n      <td>Manchester Utd2022-05-22</td>\n      <td>38</td>\n      <td>38</td>\n    </tr>\n    <tr>\n      <th>376</th>\n      <td>E0</td>\n      <td>2022-05-22</td>\n      <td>16:00</td>\n      <td>Leicester City</td>\n      <td>Southampton</td>\n      <td>4</td>\n      <td>1</td>\n      <td>H</td>\n      <td>0</td>\n      <td>0</td>\n      <td>...</td>\n      <td>2.26</td>\n      <td>1.87</td>\n      <td>2.01</td>\n      <td>80</td>\n      <td>76</td>\n      <td>4</td>\n      <td>Leicester City2022-05-22</td>\n      <td>Southampton2022-05-22</td>\n      <td>38</td>\n      <td>38</td>\n    </tr>\n    <tr>\n      <th>377</th>\n      <td>E0</td>\n      <td>2022-05-22</td>\n      <td>16:00</td>\n      <td>Liverpool</td>\n      <td>Wolves</td>\n      <td>3</td>\n      <td>1</td>\n      <td>H</td>\n      <td>1</td>\n      <td>1</td>\n      <td>...</td>\n      <td>1.99</td>\n      <td>2.07</td>\n      <td>1.80</td>\n      <td>84</td>\n      <td>78</td>\n      <td>6</td>\n      <td>Liverpool2022-05-22</td>\n      <td>Wolves2022-05-22</td>\n      <td>38</td>\n      <td>38</td>\n    </tr>\n    <tr>\n      <th>378</th>\n      <td>E0</td>\n      <td>2022-05-22</td>\n      <td>16:00</td>\n      <td>Manchester City</td>\n      <td>Aston Villa</td>\n      <td>3</td>\n      <td>2</td>\n      <td>H</td>\n      <td>0</td>\n      <td>1</td>\n      <td>...</td>\n      <td>2.03</td>\n      <td>2.01</td>\n      <td>1.87</td>\n      <td>85</td>\n      <td>78</td>\n      <td>7</td>\n      <td>Manchester City2022-05-22</td>\n      <td>Aston Villa2022-05-22</td>\n      <td>38</td>\n      <td>38</td>\n    </tr>\n    <tr>\n      <th>379</th>\n      <td>E0</td>\n      <td>2022-05-22</td>\n      <td>16:00</td>\n      <td>Norwich City</td>\n      <td>Tottenham</td>\n      <td>0</td>\n      <td>5</td>\n      <td>A</td>\n      <td>0</td>\n      <td>2</td>\n      <td>...</td>\n      <td>1.98</td>\n      <td>1.99</td>\n      <td>1.89</td>\n      <td>74</td>\n      <td>82</td>\n      <td>-8</td>\n      <td>Norwich City2022-05-22</td>\n      <td>Tottenham2022-05-22</td>\n      <td>38</td>\n      <td>38</td>\n    </tr>\n  </tbody>\n</table>\n<p>380 rows × 113 columns</p>\n</div>"
     },
     "execution_count": 8,
     "metadata": {},
     "output_type": "execute_result"
    }
   ],
   "source": [
    "#generate gameweeks dependening on the order of the games\n",
    "def generate_gameweeks(df):\n",
    "    teams = df.HomeTeam.unique().tolist()\n",
    "    df['Wk_h'] = 0\n",
    "    df['Wk_a'] = 0\n",
    "    for team in teams:\n",
    "        count = 1\n",
    "        for index, row in df.iterrows():\n",
    "            if row['HomeTeam'] == team:\n",
    "                df.at[index, 'Wk_h'] = count\n",
    "                count = count + 1\n",
    "            elif row['AwayTeam'] == team:\n",
    "                df.at[index, 'Wk_a'] = count\n",
    "                count = count + 1\n",
    "    return df\n",
    "\n",
    "PL19_20_fixtures = generate_gameweeks(PL19_20_fixtures)\n",
    "PL20_21_fixtures = generate_gameweeks(PL20_21_fixtures)\n",
    "PL21_22_fixtures = generate_gameweeks(PL21_22_fixtures)\n",
    "\n",
    "PL21_22_fixtures"
   ],
   "metadata": {
    "collapsed": false,
    "pycharm": {
     "name": "#%%\n"
    }
   }
  },
  {
   "cell_type": "code",
   "execution_count": 628,
   "outputs": [],
   "source": [
    "#functions for feature Engineering\n",
    "def get_points(team, wk):\n",
    "    for index, row in PL20_21_fixtures.iterrows():\n",
    "        #print(row[['HomeTeam','Wk']])\n",
    "        if row['Wk_h'] == wk and row['HomeTeam'] == team:\n",
    "            if row['FTR'] == 'H':\n",
    "                return 3\n",
    "            if row['FTR'] == 'D':\n",
    "                return 1\n",
    "            else:\n",
    "                return 0\n",
    "        if row['Wk_a'] == wk and row['AwayTeam'] == team:\n",
    "            if row['FTR'] == 'A':\n",
    "                return 3\n",
    "            if row['FTR'] == 'D':\n",
    "                return 1\n",
    "            else:\n",
    "                return 0\n",
    "\n",
    "\n",
    "def get_stats(team, wk, stat):\n",
    "    for index, row in PL20_21_fixtures.iterrows():\n",
    "        #print(row[['HomeTeam','Wk']])\n",
    "        if row['Wk_h'] == wk and row['HomeTeam'] == team:\n",
    "            if stat == 'goals':\n",
    "                return row['FTHG']\n",
    "            elif stat == 'shots':\n",
    "                return row['HST']\n",
    "            elif stat == 'corners':\n",
    "                return row['HC']\n",
    "        elif row['Wk_a'] == wk and row['AwayTeam'] == team:\n",
    "            if stat == 'goals':\n",
    "                return row['FTAG']\n",
    "            elif stat == 'shots':\n",
    "                return row['AST']\n",
    "            elif stat == 'corners':\n",
    "                return row['AC']\n",
    "            return row[stat]\n",
    "\n",
    "\n",
    "def get_points_season(team, fr, to):\n",
    "    test = []\n",
    "    out = 0\n",
    "    df2 = 0\n",
    "    if fr == to: return 0\n",
    "    for i in range(fr, to):\n",
    "        out = out + get_points(team, i)\n",
    "        test.append(out)\n",
    "        df = pd.Series(test)\n",
    "        df2 = df.rolling(len(df)).mean()\n",
    "        df2 = df2[len(df) - 1]\n",
    "        #print(df2[len(df)-1])\n",
    "        #print(df2)\n",
    "    return df2\n",
    "\n",
    "\n",
    "def get_stats_season(team, fr, to, category):\n",
    "    test = []\n",
    "    out = 0\n",
    "    df2 = 0\n",
    "    if fr == to: return 0\n",
    "    for i in range(fr, to):\n",
    "        out = out + get_stats(team, i, category)\n",
    "        test.append(out)\n",
    "        df = pd.Series(test)\n",
    "        df2 = df.rolling(len(df)).mean()\n",
    "        df2 = df2[len(df) - 1]\n",
    "        #df2 = df.ewm(alpha=0.4).mean()[len(df) - 1]\n",
    "    return df2\n",
    "\n",
    "\n",
    "def get_ewm_season(team, fr, to):\n",
    "    test = []\n",
    "    out = 0\n",
    "    if fr == to: return 0\n",
    "    for i in range(fr, to):\n",
    "        out = out + get_points(team, i)\n",
    "        test.append(out)\n",
    "        df = pd.Series(test)\n",
    "        df2 = df.ewm(alpha=0.4).mean()[len(df) - 1]\n",
    "    return df2\n",
    "\n",
    "\n",
    "def append_form(timespan):\n",
    "    formH = []\n",
    "    formA = []\n",
    "    for index, row in PL20_21_fixtures.iterrows():\n",
    "        wk_h = row['Wk_h']\n",
    "        wk_a = row['Wk_a']\n",
    "        teamH = row['HomeTeam']\n",
    "        teamA = row['AwayTeam']\n",
    "        if int(wk_h) - timespan < 1:\n",
    "            pointsH = get_points_season(teamH, 1, int(wk_h) - 1)\n",
    "        else:\n",
    "            pointsH = get_points_season(teamH, int(wk_h) - timespan, int(wk_h) - 1)\n",
    "        if int(wk_a) - timespan < 1:\n",
    "            pointsA = get_points_season(teamA, 1, int(wk_a) - 1)\n",
    "        else:\n",
    "            pointsA = get_points_season(teamA, int(wk_a) - timespan, int(wk_a) - 1)\n",
    "        formH.append(pointsH)\n",
    "        formA.append(pointsA)\n",
    "    PL20_21_fixtures['formH'] = formH\n",
    "    PL20_21_fixtures['formA'] = formA\n",
    "\n",
    "\n",
    "def append_ewm(timespan):\n",
    "    formH = []\n",
    "    formA = []\n",
    "    for index, row in PL20_21_fixtures.iterrows():\n",
    "        wk_h = row['Wk_h']\n",
    "        wk_a = row['Wk_a']\n",
    "        teamH = row['HomeTeam']\n",
    "        teamA = row['AwayTeam']\n",
    "        if int(wk_h) - timespan < 1:\n",
    "            pointsH = get_ewm_season(teamH, 1, int(wk_h))\n",
    "        else:\n",
    "            pointsH = get_ewm_season(teamH, int(wk_h) - timespan, int(wk_h) - 1)\n",
    "        if int(wk_a) - timespan < 1:\n",
    "            pointsA = get_ewm_season(teamA, 1, int(wk_a))\n",
    "        else:\n",
    "            pointsA = get_ewm_season(teamA, int(wk_a) - timespan, int(wk_a) - 1)\n",
    "        formH.append(pointsH)\n",
    "        formA.append(pointsA)\n",
    "    PL20_21_fixtures['ewmH'] = formH\n",
    "    PL20_21_fixtures['ewmA'] = formA\n",
    "\n",
    "\n",
    "def append_stats(timespan):\n",
    "    goals_h = []\n",
    "    goals_A = []\n",
    "    shots_H = []\n",
    "    shots_A = []\n",
    "    corners_H = []\n",
    "    corners_A = []\n",
    "\n",
    "    for index, row in PL20_21_fixtures.iterrows():\n",
    "        wk_h = row['Wk_h']\n",
    "        wk_a = row['Wk_a']\n",
    "        teamH = row['HomeTeam']\n",
    "        teamA = row['AwayTeam']\n",
    "        if int(wk_h) - timespan < 1:\n",
    "            goalsH = get_stats_season(teamH, 1, int(wk_h) - 1, 'goals')\n",
    "            shotsH = get_stats_season(teamH, 1, int(wk_h) - 1, 'shots')\n",
    "            cornersH = get_stats_season(teamH, 1, int(wk_h) - 1, 'corners')\n",
    "        else:\n",
    "            goalsH = get_stats_season(teamH, int(wk_h) - timespan, int(wk_h) - 1, 'goals')\n",
    "            shotsH = get_stats_season(teamH, int(wk_h) - timespan, int(wk_h) - 1, 'shots')\n",
    "            cornersH = get_stats_season(teamH, int(wk_h) - timespan, int(wk_h) - 1, 'corners')\n",
    "\n",
    "        if int(wk_a) - timespan < 1:\n",
    "            goalsA = get_stats_season(teamA, 1, int(wk_a) - 1, 'goals')\n",
    "            shotsA = get_stats_season(teamA, 1, int(wk_a) - 1, 'shots')\n",
    "            cornersA = get_stats_season(teamA, 1, int(wk_a) - 1, 'corners')\n",
    "        else:\n",
    "            goalsA = get_stats_season(teamA, int(wk_a) - timespan, int(wk_a) - 1, 'goals')\n",
    "            shotsA = get_stats_season(teamA, int(wk_a) - timespan, int(wk_a) - 1, 'shots')\n",
    "            cornersA = get_stats_season(teamA, int(wk_a) - timespan, int(wk_a) - 1, 'corners')\n",
    "\n",
    "        goals_h.append(goalsH)\n",
    "        goals_A.append(goalsA)\n",
    "        shots_H.append(shotsH)\n",
    "        shots_A.append(shotsA)\n",
    "        corners_H.append(cornersH)\n",
    "        corners_A.append(cornersA)\n",
    "    PL20_21_fixtures['goalsH'] = goals_h\n",
    "    PL20_21_fixtures['goalsA'] = goals_A\n",
    "    PL20_21_fixtures['shotsH'] = shots_H\n",
    "    PL20_21_fixtures['shotsA'] = shots_A\n",
    "    PL20_21_fixtures['cornersH'] = corners_H\n",
    "    PL20_21_fixtures['cornersA'] = corners_A\n",
    "\n",
    "\n",
    "#Elo Rating\n",
    "def expected_result(loc, aw):\n",
    "    dr = loc - aw\n",
    "    we = (1 / (10 ** (-dr / 400) + 1))\n",
    "    return [np.round(we, 3), 1 - np.round(we, 3)]\n",
    "\n",
    "\n",
    "def actual_result(loc, aw):\n",
    "    if loc < aw:\n",
    "        wa = 1\n",
    "        wl = 0\n",
    "    elif loc > aw:\n",
    "        wa = 0\n",
    "        wl = 1\n",
    "    elif loc == aw:\n",
    "        wa = 0.5\n",
    "        wl = 0.5\n",
    "    return [wl, wa]\n",
    "\n",
    "\n",
    "def calculate_elo(elo_l, elo_v, local_goals, away_goals, k_value):\n",
    "    k = k_value\n",
    "    wl, wv = actual_result(local_goals, away_goals)\n",
    "    wel, wev = expected_result(elo_l, elo_v)\n",
    "\n",
    "    elo_ln = elo_l + k * (wl - wel)\n",
    "    elo_vn = elo_v + k * (wv - wev)\n",
    "\n",
    "    return elo_ln, elo_vn"
   ],
   "metadata": {
    "collapsed": false,
    "pycharm": {
     "name": "#%%\n"
    }
   }
  },
  {
   "cell_type": "code",
   "execution_count": 629,
   "outputs": [],
   "source": [
    "def get_points_side(team, wk, home):\n",
    "    for index, row in PL20_21_fixtures.iterrows():\n",
    "        if row['Wk_h'] == wk and row['HomeTeam'] == team and home == True:\n",
    "            if row['FTR'] == 'H':\n",
    "                return 3\n",
    "            if row['FTR'] == 'D':\n",
    "                return 1\n",
    "            else:\n",
    "                return 0\n",
    "        if row['Wk_a'] == wk and row['AwayTeam'] == team and home == False:\n",
    "            if row['FTR'] == 'A':\n",
    "                return 3\n",
    "            if row['FTR'] == 'D':\n",
    "                return 1\n",
    "            else:\n",
    "                return 0\n",
    "    if wk > 2:\n",
    "        return get_points_side(team, wk - 1, home)\n",
    "    else:\n",
    "        return 0\n",
    "\n",
    "\n",
    "def get_points_season_side(team, fr, to, home):\n",
    "    out = 0\n",
    "    for i in range(fr, to):\n",
    "        out = out + get_points_side(team, i, home)\n",
    "    return out\n",
    "\n",
    "\n",
    "def append_form_side(timespan):\n",
    "    formH = []\n",
    "    formA = []\n",
    "    for index, row in PL20_21_fixtures.iterrows():\n",
    "        wk_h = row['Wk_h']\n",
    "        wk_a = row['Wk_a']\n",
    "        teamH = row['HomeTeam']\n",
    "        teamA = row['AwayTeam']\n",
    "        if int(wk_h) - timespan < 1:\n",
    "            pointsH = get_points_season_side(teamH, 1, int(wk_h) - 1, True)\n",
    "        else:\n",
    "            pointsH = get_points_season_side(teamH, int(wk_h) - timespan, int(wk_h) - 1, True)\n",
    "        if int(wk_a) - timespan < 1:\n",
    "            pointsA = get_points_season_side(teamA, 1, int(wk_a) - 1, False)\n",
    "        else:\n",
    "            pointsA = get_points_season_side(teamA, int(wk_a) - timespan, int(wk_a) - 1, False)\n",
    "        formH.append(pointsH)\n",
    "        formA.append(pointsA)\n",
    "    PL20_21_fixtures['formH_side'] = formH\n",
    "    PL20_21_fixtures['formA_side'] = formA\n"
   ],
   "metadata": {
    "collapsed": false,
    "pycharm": {
     "name": "#%%\n"
    }
   }
  },
  {
   "cell_type": "code",
   "execution_count": 630,
   "outputs": [],
   "source": [
    "#add features to table\n",
    "append_stats(7)\n",
    "append_ewm(40)\n",
    "append_form(7)\n",
    "\n",
    "#append_form_side(7)\n",
    "#print(get_points_side( 'Arsenal', 1, True))"
   ],
   "metadata": {
    "collapsed": false,
    "pycharm": {
     "name": "#%%\n"
    }
   }
  },
  {
   "cell_type": "code",
   "execution_count": 631,
   "outputs": [
    {
     "data": {
      "text/plain": "    Div        Date   Time                 HomeTeam           AwayTeam  FTHG  \\\n0    E0  2020-09-12  12:30                   Fulham            Arsenal     0   \n1    E0  2020-09-12  15:00           Crystal Palace        Southampton     1   \n2    E0  2020-09-12  17:30                Liverpool       Leeds United     4   \n3    E0  2020-09-12  20:00          West Ham United   Newcastle United     0   \n4    E0  2020-09-13  14:00     West Bromwich Albion     Leicester City     0   \n..   ..         ...    ...                      ...                ...   ...   \n375  E0  2021-05-23  16:00                Liverpool     Crystal Palace     2   \n376  E0  2021-05-23  16:00          Manchester City            Everton     5   \n377  E0  2021-05-23  16:00         Sheffield United            Burnley     1   \n378  E0  2021-05-23  16:00          West Ham United        Southampton     3   \n379  E0  2021-05-23  16:00  Wolverhampton Wanderers  Manchester United     1   \n\n     FTAG FTR  HTHG  HTAG  ...    goalsH    goalsA     shotsH     shotsA  \\\n0       3   A     0     1  ...  0.000000  0.000000   0.000000   0.000000   \n1       0   H     1     0  ...  0.000000  0.000000   0.000000   0.000000   \n2       3   H     3     2  ...  0.000000  0.000000   0.000000   0.000000   \n3       2   A     0     0  ...  0.000000  0.000000   0.000000   0.000000   \n4       3   A     0     0  ...  0.000000  0.000000   0.000000   0.000000   \n..    ...  ..   ...   ...  ...       ...       ...        ...        ...   \n375     0   H     1     0  ...  6.166667  3.666667  28.500000  12.000000   \n376     0   H     2     0  ...  6.166667  4.000000  15.666667  14.000000   \n377     0   H     1     0  ...  0.833333  5.666667   6.666667  15.000000   \n378     0   H     2     0  ...  5.833333  3.000000  12.833333  16.333333   \n379     2   A     1     2  ...  3.000000  7.666667  16.000000  21.500000   \n\n      cornersH   cornersA       ewmH       ewmA     formH     formA  \n0     0.000000   0.000000   0.000000   0.000000  0.000000  0.000000  \n1     0.000000   0.000000   0.000000   0.000000  0.000000  0.000000  \n2     0.000000   0.000000   0.000000   0.000000  0.000000  0.000000  \n3     0.000000   0.000000   0.000000   0.000000  0.000000  0.000000  \n4     0.000000   0.000000   0.000000   0.000000  0.000000  0.000000  \n..         ...        ...        ...        ...       ...       ...  \n375  25.166667  12.333333  61.786751  42.472970  7.500000  2.000000  \n376  21.666667  15.666667  81.106115  56.386935  7.000000  5.333333  \n377  11.166667  23.666667  18.674571  38.074699  2.500000  3.000000  \n378  14.500000  21.166667  59.287588  41.132084  4.666667  2.166667  \n379  18.666667  20.666667  43.982500  69.598366  7.000000  7.666667  \n\n[380 rows x 123 columns]",
      "text/html": "<div>\n<style scoped>\n    .dataframe tbody tr th:only-of-type {\n        vertical-align: middle;\n    }\n\n    .dataframe tbody tr th {\n        vertical-align: top;\n    }\n\n    .dataframe thead th {\n        text-align: right;\n    }\n</style>\n<table border=\"1\" class=\"dataframe\">\n  <thead>\n    <tr style=\"text-align: right;\">\n      <th></th>\n      <th>Div</th>\n      <th>Date</th>\n      <th>Time</th>\n      <th>HomeTeam</th>\n      <th>AwayTeam</th>\n      <th>FTHG</th>\n      <th>FTAG</th>\n      <th>FTR</th>\n      <th>HTHG</th>\n      <th>HTAG</th>\n      <th>...</th>\n      <th>goalsH</th>\n      <th>goalsA</th>\n      <th>shotsH</th>\n      <th>shotsA</th>\n      <th>cornersH</th>\n      <th>cornersA</th>\n      <th>ewmH</th>\n      <th>ewmA</th>\n      <th>formH</th>\n      <th>formA</th>\n    </tr>\n  </thead>\n  <tbody>\n    <tr>\n      <th>0</th>\n      <td>E0</td>\n      <td>2020-09-12</td>\n      <td>12:30</td>\n      <td>Fulham</td>\n      <td>Arsenal</td>\n      <td>0</td>\n      <td>3</td>\n      <td>A</td>\n      <td>0</td>\n      <td>1</td>\n      <td>...</td>\n      <td>0.000000</td>\n      <td>0.000000</td>\n      <td>0.000000</td>\n      <td>0.000000</td>\n      <td>0.000000</td>\n      <td>0.000000</td>\n      <td>0.000000</td>\n      <td>0.000000</td>\n      <td>0.000000</td>\n      <td>0.000000</td>\n    </tr>\n    <tr>\n      <th>1</th>\n      <td>E0</td>\n      <td>2020-09-12</td>\n      <td>15:00</td>\n      <td>Crystal Palace</td>\n      <td>Southampton</td>\n      <td>1</td>\n      <td>0</td>\n      <td>H</td>\n      <td>1</td>\n      <td>0</td>\n      <td>...</td>\n      <td>0.000000</td>\n      <td>0.000000</td>\n      <td>0.000000</td>\n      <td>0.000000</td>\n      <td>0.000000</td>\n      <td>0.000000</td>\n      <td>0.000000</td>\n      <td>0.000000</td>\n      <td>0.000000</td>\n      <td>0.000000</td>\n    </tr>\n    <tr>\n      <th>2</th>\n      <td>E0</td>\n      <td>2020-09-12</td>\n      <td>17:30</td>\n      <td>Liverpool</td>\n      <td>Leeds United</td>\n      <td>4</td>\n      <td>3</td>\n      <td>H</td>\n      <td>3</td>\n      <td>2</td>\n      <td>...</td>\n      <td>0.000000</td>\n      <td>0.000000</td>\n      <td>0.000000</td>\n      <td>0.000000</td>\n      <td>0.000000</td>\n      <td>0.000000</td>\n      <td>0.000000</td>\n      <td>0.000000</td>\n      <td>0.000000</td>\n      <td>0.000000</td>\n    </tr>\n    <tr>\n      <th>3</th>\n      <td>E0</td>\n      <td>2020-09-12</td>\n      <td>20:00</td>\n      <td>West Ham United</td>\n      <td>Newcastle United</td>\n      <td>0</td>\n      <td>2</td>\n      <td>A</td>\n      <td>0</td>\n      <td>0</td>\n      <td>...</td>\n      <td>0.000000</td>\n      <td>0.000000</td>\n      <td>0.000000</td>\n      <td>0.000000</td>\n      <td>0.000000</td>\n      <td>0.000000</td>\n      <td>0.000000</td>\n      <td>0.000000</td>\n      <td>0.000000</td>\n      <td>0.000000</td>\n    </tr>\n    <tr>\n      <th>4</th>\n      <td>E0</td>\n      <td>2020-09-13</td>\n      <td>14:00</td>\n      <td>West Bromwich Albion</td>\n      <td>Leicester City</td>\n      <td>0</td>\n      <td>3</td>\n      <td>A</td>\n      <td>0</td>\n      <td>0</td>\n      <td>...</td>\n      <td>0.000000</td>\n      <td>0.000000</td>\n      <td>0.000000</td>\n      <td>0.000000</td>\n      <td>0.000000</td>\n      <td>0.000000</td>\n      <td>0.000000</td>\n      <td>0.000000</td>\n      <td>0.000000</td>\n      <td>0.000000</td>\n    </tr>\n    <tr>\n      <th>...</th>\n      <td>...</td>\n      <td>...</td>\n      <td>...</td>\n      <td>...</td>\n      <td>...</td>\n      <td>...</td>\n      <td>...</td>\n      <td>...</td>\n      <td>...</td>\n      <td>...</td>\n      <td>...</td>\n      <td>...</td>\n      <td>...</td>\n      <td>...</td>\n      <td>...</td>\n      <td>...</td>\n      <td>...</td>\n      <td>...</td>\n      <td>...</td>\n      <td>...</td>\n      <td>...</td>\n    </tr>\n    <tr>\n      <th>375</th>\n      <td>E0</td>\n      <td>2021-05-23</td>\n      <td>16:00</td>\n      <td>Liverpool</td>\n      <td>Crystal Palace</td>\n      <td>2</td>\n      <td>0</td>\n      <td>H</td>\n      <td>1</td>\n      <td>0</td>\n      <td>...</td>\n      <td>6.166667</td>\n      <td>3.666667</td>\n      <td>28.500000</td>\n      <td>12.000000</td>\n      <td>25.166667</td>\n      <td>12.333333</td>\n      <td>61.786751</td>\n      <td>42.472970</td>\n      <td>7.500000</td>\n      <td>2.000000</td>\n    </tr>\n    <tr>\n      <th>376</th>\n      <td>E0</td>\n      <td>2021-05-23</td>\n      <td>16:00</td>\n      <td>Manchester City</td>\n      <td>Everton</td>\n      <td>5</td>\n      <td>0</td>\n      <td>H</td>\n      <td>2</td>\n      <td>0</td>\n      <td>...</td>\n      <td>6.166667</td>\n      <td>4.000000</td>\n      <td>15.666667</td>\n      <td>14.000000</td>\n      <td>21.666667</td>\n      <td>15.666667</td>\n      <td>81.106115</td>\n      <td>56.386935</td>\n      <td>7.000000</td>\n      <td>5.333333</td>\n    </tr>\n    <tr>\n      <th>377</th>\n      <td>E0</td>\n      <td>2021-05-23</td>\n      <td>16:00</td>\n      <td>Sheffield United</td>\n      <td>Burnley</td>\n      <td>1</td>\n      <td>0</td>\n      <td>H</td>\n      <td>1</td>\n      <td>0</td>\n      <td>...</td>\n      <td>0.833333</td>\n      <td>5.666667</td>\n      <td>6.666667</td>\n      <td>15.000000</td>\n      <td>11.166667</td>\n      <td>23.666667</td>\n      <td>18.674571</td>\n      <td>38.074699</td>\n      <td>2.500000</td>\n      <td>3.000000</td>\n    </tr>\n    <tr>\n      <th>378</th>\n      <td>E0</td>\n      <td>2021-05-23</td>\n      <td>16:00</td>\n      <td>West Ham United</td>\n      <td>Southampton</td>\n      <td>3</td>\n      <td>0</td>\n      <td>H</td>\n      <td>2</td>\n      <td>0</td>\n      <td>...</td>\n      <td>5.833333</td>\n      <td>3.000000</td>\n      <td>12.833333</td>\n      <td>16.333333</td>\n      <td>14.500000</td>\n      <td>21.166667</td>\n      <td>59.287588</td>\n      <td>41.132084</td>\n      <td>4.666667</td>\n      <td>2.166667</td>\n    </tr>\n    <tr>\n      <th>379</th>\n      <td>E0</td>\n      <td>2021-05-23</td>\n      <td>16:00</td>\n      <td>Wolverhampton Wanderers</td>\n      <td>Manchester United</td>\n      <td>1</td>\n      <td>2</td>\n      <td>A</td>\n      <td>1</td>\n      <td>2</td>\n      <td>...</td>\n      <td>3.000000</td>\n      <td>7.666667</td>\n      <td>16.000000</td>\n      <td>21.500000</td>\n      <td>18.666667</td>\n      <td>20.666667</td>\n      <td>43.982500</td>\n      <td>69.598366</td>\n      <td>7.000000</td>\n      <td>7.666667</td>\n    </tr>\n  </tbody>\n</table>\n<p>380 rows × 123 columns</p>\n</div>"
     },
     "execution_count": 631,
     "metadata": {},
     "output_type": "execute_result"
    }
   ],
   "source": [
    "PL20_21_fixtures"
   ],
   "metadata": {
    "collapsed": false,
    "pycharm": {
     "name": "#%%\n"
    }
   }
  },
  {
   "cell_type": "code",
   "execution_count": 632,
   "outputs": [],
   "source": [
    "#calculate Elo scores\n",
    "current_elo = {}\n",
    "for idx, row in PL20_21_fixtures.iterrows():\n",
    "\n",
    "    local = row['HomeTeam']\n",
    "    away = row['AwayTeam']\n",
    "    local_goals = row['FTHG']\n",
    "    away_goals = row['FTAG']\n",
    "    #tournament = row['tournament']\n",
    "\n",
    "    if local not in current_elo.keys():\n",
    "        current_elo[local] = 1500\n",
    "\n",
    "    if away not in current_elo.keys():\n",
    "        current_elo[away] = 1500\n",
    "\n",
    "    elo_l = current_elo[local]\n",
    "    elo_v = current_elo[away]\n",
    "    elo_ln, elo_vn = calculate_elo(elo_l, elo_v, local_goals, away_goals, 30)\n",
    "\n",
    "    current_elo[local] = elo_ln\n",
    "    current_elo[away] = elo_vn\n",
    "\n",
    "    PL20_21_fixtures.loc[idx, 'Elo_h_after'] = elo_ln\n",
    "    PL20_21_fixtures.loc[idx, 'Elo_a_after'] = elo_vn\n",
    "    PL20_21_fixtures.loc[idx, 'Elo_h_before'] = elo_l\n",
    "    PL20_21_fixtures.loc[idx, 'Elo_a_before'] = elo_v"
   ],
   "metadata": {
    "collapsed": false,
    "pycharm": {
     "name": "#%%\n"
    }
   }
  },
  {
   "cell_type": "code",
   "execution_count": 634,
   "outputs": [
    {
     "data": {
      "text/plain": "    Div        Date   Time                 HomeTeam           AwayTeam  FTHG  \\\n0    E0  2020-09-12  12:30                   Fulham            Arsenal     0   \n1    E0  2020-09-12  15:00           Crystal Palace        Southampton     1   \n2    E0  2020-09-12  17:30                Liverpool       Leeds United     4   \n3    E0  2020-09-12  20:00          West Ham United   Newcastle United     0   \n4    E0  2020-09-13  14:00     West Bromwich Albion     Leicester City     0   \n..   ..         ...    ...                      ...                ...   ...   \n375  E0  2021-05-23  16:00                Liverpool     Crystal Palace     2   \n376  E0  2021-05-23  16:00          Manchester City            Everton     5   \n377  E0  2021-05-23  16:00         Sheffield United            Burnley     1   \n378  E0  2021-05-23  16:00          West Ham United        Southampton     3   \n379  E0  2021-05-23  16:00  Wolverhampton Wanderers  Manchester United     1   \n\n     FTAG FTR  HTHG  HTAG  ... Elo_h_after Elo_a_after  Elo_h_before  \\\n0       3   A     0     1  ...     1485.00     1515.00       1500.00   \n1       0   H     1     0  ...     1515.00     1485.00       1500.00   \n2       3   H     3     2  ...     1515.00     1485.00       1500.00   \n3       2   A     0     0  ...     1485.00     1515.00       1500.00   \n4       3   A     0     0  ...     1485.00     1515.00       1500.00   \n..    ...  ..   ...   ...  ...         ...         ...           ...   \n375     0   H     1     0  ...     1591.89     1439.73       1582.38   \n376     0   H     2     0  ...     1659.36     1508.70       1649.79   \n377     0   H     1     0  ...     1358.16     1420.86       1338.90   \n378     0   H     2     0  ...     1560.00     1420.08       1549.98   \n379     2   A     1     2  ...     1443.72     1611.60       1452.60   \n\n     Elo_a_before  goalsDifference  shotsDifference  cornersDifference  \\\n0         1500.00         0.000000         0.000000           0.000000   \n1         1500.00         0.000000         0.000000           0.000000   \n2         1500.00         0.000000         0.000000           0.000000   \n3         1500.00         0.000000         0.000000           0.000000   \n4         1500.00         0.000000         0.000000           0.000000   \n..            ...              ...              ...                ...   \n375       1449.24         2.500000        16.500000          12.833333   \n376       1518.27         2.166667         1.666667           6.000000   \n377       1440.12        -4.833333        -8.333333         -12.500000   \n378       1430.10         2.833333        -3.500000          -6.666667   \n379       1602.72        -4.666667        -5.500000          -2.000000   \n\n     ewmDifference  elo_difference  form_difference  \n0         0.000000            0.00         0.000000  \n1         0.000000            0.00         0.000000  \n2         0.000000            0.00         0.000000  \n3         0.000000            0.00         0.000000  \n4         0.000000            0.00         0.000000  \n..             ...             ...              ...  \n375      19.313782          133.14         5.500000  \n376      24.719180          131.52         1.666667  \n377     -19.400129         -101.22        -0.500000  \n378      18.155503          119.88         2.500000  \n379     -25.615866         -150.12        -0.666667  \n\n[380 rows x 133 columns]",
      "text/html": "<div>\n<style scoped>\n    .dataframe tbody tr th:only-of-type {\n        vertical-align: middle;\n    }\n\n    .dataframe tbody tr th {\n        vertical-align: top;\n    }\n\n    .dataframe thead th {\n        text-align: right;\n    }\n</style>\n<table border=\"1\" class=\"dataframe\">\n  <thead>\n    <tr style=\"text-align: right;\">\n      <th></th>\n      <th>Div</th>\n      <th>Date</th>\n      <th>Time</th>\n      <th>HomeTeam</th>\n      <th>AwayTeam</th>\n      <th>FTHG</th>\n      <th>FTAG</th>\n      <th>FTR</th>\n      <th>HTHG</th>\n      <th>HTAG</th>\n      <th>...</th>\n      <th>Elo_h_after</th>\n      <th>Elo_a_after</th>\n      <th>Elo_h_before</th>\n      <th>Elo_a_before</th>\n      <th>goalsDifference</th>\n      <th>shotsDifference</th>\n      <th>cornersDifference</th>\n      <th>ewmDifference</th>\n      <th>elo_difference</th>\n      <th>form_difference</th>\n    </tr>\n  </thead>\n  <tbody>\n    <tr>\n      <th>0</th>\n      <td>E0</td>\n      <td>2020-09-12</td>\n      <td>12:30</td>\n      <td>Fulham</td>\n      <td>Arsenal</td>\n      <td>0</td>\n      <td>3</td>\n      <td>A</td>\n      <td>0</td>\n      <td>1</td>\n      <td>...</td>\n      <td>1485.00</td>\n      <td>1515.00</td>\n      <td>1500.00</td>\n      <td>1500.00</td>\n      <td>0.000000</td>\n      <td>0.000000</td>\n      <td>0.000000</td>\n      <td>0.000000</td>\n      <td>0.00</td>\n      <td>0.000000</td>\n    </tr>\n    <tr>\n      <th>1</th>\n      <td>E0</td>\n      <td>2020-09-12</td>\n      <td>15:00</td>\n      <td>Crystal Palace</td>\n      <td>Southampton</td>\n      <td>1</td>\n      <td>0</td>\n      <td>H</td>\n      <td>1</td>\n      <td>0</td>\n      <td>...</td>\n      <td>1515.00</td>\n      <td>1485.00</td>\n      <td>1500.00</td>\n      <td>1500.00</td>\n      <td>0.000000</td>\n      <td>0.000000</td>\n      <td>0.000000</td>\n      <td>0.000000</td>\n      <td>0.00</td>\n      <td>0.000000</td>\n    </tr>\n    <tr>\n      <th>2</th>\n      <td>E0</td>\n      <td>2020-09-12</td>\n      <td>17:30</td>\n      <td>Liverpool</td>\n      <td>Leeds United</td>\n      <td>4</td>\n      <td>3</td>\n      <td>H</td>\n      <td>3</td>\n      <td>2</td>\n      <td>...</td>\n      <td>1515.00</td>\n      <td>1485.00</td>\n      <td>1500.00</td>\n      <td>1500.00</td>\n      <td>0.000000</td>\n      <td>0.000000</td>\n      <td>0.000000</td>\n      <td>0.000000</td>\n      <td>0.00</td>\n      <td>0.000000</td>\n    </tr>\n    <tr>\n      <th>3</th>\n      <td>E0</td>\n      <td>2020-09-12</td>\n      <td>20:00</td>\n      <td>West Ham United</td>\n      <td>Newcastle United</td>\n      <td>0</td>\n      <td>2</td>\n      <td>A</td>\n      <td>0</td>\n      <td>0</td>\n      <td>...</td>\n      <td>1485.00</td>\n      <td>1515.00</td>\n      <td>1500.00</td>\n      <td>1500.00</td>\n      <td>0.000000</td>\n      <td>0.000000</td>\n      <td>0.000000</td>\n      <td>0.000000</td>\n      <td>0.00</td>\n      <td>0.000000</td>\n    </tr>\n    <tr>\n      <th>4</th>\n      <td>E0</td>\n      <td>2020-09-13</td>\n      <td>14:00</td>\n      <td>West Bromwich Albion</td>\n      <td>Leicester City</td>\n      <td>0</td>\n      <td>3</td>\n      <td>A</td>\n      <td>0</td>\n      <td>0</td>\n      <td>...</td>\n      <td>1485.00</td>\n      <td>1515.00</td>\n      <td>1500.00</td>\n      <td>1500.00</td>\n      <td>0.000000</td>\n      <td>0.000000</td>\n      <td>0.000000</td>\n      <td>0.000000</td>\n      <td>0.00</td>\n      <td>0.000000</td>\n    </tr>\n    <tr>\n      <th>...</th>\n      <td>...</td>\n      <td>...</td>\n      <td>...</td>\n      <td>...</td>\n      <td>...</td>\n      <td>...</td>\n      <td>...</td>\n      <td>...</td>\n      <td>...</td>\n      <td>...</td>\n      <td>...</td>\n      <td>...</td>\n      <td>...</td>\n      <td>...</td>\n      <td>...</td>\n      <td>...</td>\n      <td>...</td>\n      <td>...</td>\n      <td>...</td>\n      <td>...</td>\n      <td>...</td>\n    </tr>\n    <tr>\n      <th>375</th>\n      <td>E0</td>\n      <td>2021-05-23</td>\n      <td>16:00</td>\n      <td>Liverpool</td>\n      <td>Crystal Palace</td>\n      <td>2</td>\n      <td>0</td>\n      <td>H</td>\n      <td>1</td>\n      <td>0</td>\n      <td>...</td>\n      <td>1591.89</td>\n      <td>1439.73</td>\n      <td>1582.38</td>\n      <td>1449.24</td>\n      <td>2.500000</td>\n      <td>16.500000</td>\n      <td>12.833333</td>\n      <td>19.313782</td>\n      <td>133.14</td>\n      <td>5.500000</td>\n    </tr>\n    <tr>\n      <th>376</th>\n      <td>E0</td>\n      <td>2021-05-23</td>\n      <td>16:00</td>\n      <td>Manchester City</td>\n      <td>Everton</td>\n      <td>5</td>\n      <td>0</td>\n      <td>H</td>\n      <td>2</td>\n      <td>0</td>\n      <td>...</td>\n      <td>1659.36</td>\n      <td>1508.70</td>\n      <td>1649.79</td>\n      <td>1518.27</td>\n      <td>2.166667</td>\n      <td>1.666667</td>\n      <td>6.000000</td>\n      <td>24.719180</td>\n      <td>131.52</td>\n      <td>1.666667</td>\n    </tr>\n    <tr>\n      <th>377</th>\n      <td>E0</td>\n      <td>2021-05-23</td>\n      <td>16:00</td>\n      <td>Sheffield United</td>\n      <td>Burnley</td>\n      <td>1</td>\n      <td>0</td>\n      <td>H</td>\n      <td>1</td>\n      <td>0</td>\n      <td>...</td>\n      <td>1358.16</td>\n      <td>1420.86</td>\n      <td>1338.90</td>\n      <td>1440.12</td>\n      <td>-4.833333</td>\n      <td>-8.333333</td>\n      <td>-12.500000</td>\n      <td>-19.400129</td>\n      <td>-101.22</td>\n      <td>-0.500000</td>\n    </tr>\n    <tr>\n      <th>378</th>\n      <td>E0</td>\n      <td>2021-05-23</td>\n      <td>16:00</td>\n      <td>West Ham United</td>\n      <td>Southampton</td>\n      <td>3</td>\n      <td>0</td>\n      <td>H</td>\n      <td>2</td>\n      <td>0</td>\n      <td>...</td>\n      <td>1560.00</td>\n      <td>1420.08</td>\n      <td>1549.98</td>\n      <td>1430.10</td>\n      <td>2.833333</td>\n      <td>-3.500000</td>\n      <td>-6.666667</td>\n      <td>18.155503</td>\n      <td>119.88</td>\n      <td>2.500000</td>\n    </tr>\n    <tr>\n      <th>379</th>\n      <td>E0</td>\n      <td>2021-05-23</td>\n      <td>16:00</td>\n      <td>Wolverhampton Wanderers</td>\n      <td>Manchester United</td>\n      <td>1</td>\n      <td>2</td>\n      <td>A</td>\n      <td>1</td>\n      <td>2</td>\n      <td>...</td>\n      <td>1443.72</td>\n      <td>1611.60</td>\n      <td>1452.60</td>\n      <td>1602.72</td>\n      <td>-4.666667</td>\n      <td>-5.500000</td>\n      <td>-2.000000</td>\n      <td>-25.615866</td>\n      <td>-150.12</td>\n      <td>-0.666667</td>\n    </tr>\n  </tbody>\n</table>\n<p>380 rows × 133 columns</p>\n</div>"
     },
     "execution_count": 634,
     "metadata": {},
     "output_type": "execute_result"
    }
   ],
   "source": [
    "#calculate Differences\n",
    "PL20_21_fixtures['goalsDifference'] = PL20_21_fixtures['goalsH'] - PL20_21_fixtures['goalsA']\n",
    "PL20_21_fixtures\n",
    "\n",
    "PL20_21_fixtures['shotsDifference'] = PL20_21_fixtures['shotsH'] - PL20_21_fixtures['shotsA']\n",
    "PL20_21_fixtures\n",
    "\n",
    "PL20_21_fixtures['cornersDifference'] = PL20_21_fixtures['cornersH'] - PL20_21_fixtures['cornersA']\n",
    "PL20_21_fixtures\n",
    "\n",
    "PL20_21_fixtures['ewmDifference'] = PL20_21_fixtures['ewmH'] - PL20_21_fixtures['ewmA']\n",
    "PL20_21_fixtures\n",
    "\n",
    "PL20_21_fixtures['elo_difference'] = PL20_21_fixtures['Elo_h_before'] - PL20_21_fixtures['Elo_a_before']\n",
    "PL20_21_fixtures\n",
    "\n",
    "PL20_21_fixtures['form_difference'] = PL20_21_fixtures['formH'] - PL20_21_fixtures['formA']\n",
    "PL20_21_fixtures\n",
    "\n",
    "#PL20_21_fixtures['form_difference_side'] = PL20_21_fixtures['formH_side'] - PL20_21_fixtures['formA_side']\n",
    "PL20_21_fixtures"
   ],
   "metadata": {
    "collapsed": false,
    "pycharm": {
     "name": "#%%\n"
    }
   }
  },
  {
   "cell_type": "code",
   "execution_count": 635,
   "outputs": [
    {
     "data": {
      "text/plain": "    Div        Date   Time   HomeTeam                 AwayTeam  FTHG  FTAG  \\\n2    E0  2020-09-12  17:30  Liverpool             Leeds United     4     3   \n27   E0  2020-09-28  20:00  Liverpool                  Arsenal     3     1   \n52   E0  2020-10-24  20:00  Liverpool         Sheffield United     2     1   \n61   E0  2020-10-31  17:30  Liverpool          West Ham United     2     1   \n85   E0  2020-11-22  19:15  Liverpool           Leicester City     3     0   \n105  E0  2020-12-06  19:15  Liverpool  Wolverhampton Wanderers     4     0   \n123  E0  2020-12-16  20:00  Liverpool        Tottenham Hotspur     2     1   \n145  E0  2020-12-27  16:30  Liverpool     West Bromwich Albion     1     1   \n176  E0  2021-01-17  16:30  Liverpool        Manchester United     0     0   \n183  E0  2021-01-21  20:00  Liverpool                  Burnley     0     1   \n213  E0  2021-02-03  20:15  Liverpool   Brighton & Hove Albion     0     1   \n222  E0  2021-02-07  16:30  Liverpool          Manchester City     1     4   \n240  E0  2021-02-20  17:30  Liverpool                  Everton     0     2   \n264  E0  2021-03-04  20:15  Liverpool                  Chelsea     0     1   \n270  E0  2021-03-07  14:00  Liverpool                   Fulham     0     1   \n302  E0  2021-04-10  15:00  Liverpool              Aston Villa     2     1   \n321  E0  2021-04-24  12:30  Liverpool         Newcastle United     1     1   \n341  E0  2021-05-08  20:15  Liverpool              Southampton     2     0   \n375  E0  2021-05-23  16:00  Liverpool           Crystal Palace     2     0   \n\n    FTR  HTHG  HTAG  ... Elo_h_after Elo_a_after  Elo_h_before  Elo_a_before  \\\n2     H     3     2  ...     1515.00     1485.00       1500.00       1500.00   \n27    H     2     1  ...     1544.94     1513.77       1530.00       1528.71   \n52    H     1     1  ...     1541.73     1432.92       1530.36       1444.29   \n61    H     1     1  ...     1555.20     1492.41       1541.73       1505.88   \n85    H     2     0  ...     1569.15     1540.74       1554.06       1555.83   \n105   H     1     0  ...     1578.72     1514.88       1565.31       1528.29   \n123   H     1     1  ...     1587.63     1557.00       1572.66       1571.97   \n145   D     1     0  ...     1591.11     1411.41       1598.73       1403.79   \n176   D     0     0  ...     1570.41     1600.29       1569.00       1601.70   \n183   A     0     0  ...     1550.46     1471.23       1570.41       1451.28   \n213   A     0     0  ...     1560.81     1487.49       1580.52       1467.78   \n222   A     0     0  ...     1548.75     1642.05       1560.81       1629.99   \n240   A     0     1  ...     1518.63     1530.78       1534.47       1514.94   \n264   A     0     1  ...     1513.23     1567.95       1527.06       1554.12   \n270   A     0     1  ...     1495.32     1462.53       1513.23       1444.62   \n302   H     0     1  ...     1539.66     1484.19       1525.86       1497.99   \n321   D     1     0  ...     1535.13     1458.87       1538.67       1455.33   \n341   H     1     0  ...     1545.36     1410.30       1535.13       1420.53   \n375   H     1     0  ...     1591.89     1439.73       1582.38       1449.24   \n\n     goalsDifference  shotsDifference  cornersDifference  ewmDifference  \\\n2           0.000000         0.000000           0.000000       0.000000   \n27          1.000000         0.000000           6.000000       0.000000   \n52          7.250000        11.250000           4.000000       8.381679   \n61          3.600000         7.600000          10.200000       4.274168   \n85         -1.333333         8.166667           1.666667       0.071603   \n105         3.166667         9.500000           3.166667       4.230733   \n123         2.166667         8.666667           2.000000       0.167494   \n145         5.166667        11.166667          -5.166667      20.797890   \n176         1.833333         1.166667           6.666667      -0.230326   \n183         5.166667        11.000000          13.166667      17.610074   \n213        -2.833333         0.333333          16.666667      18.757014   \n222        -7.833333        -9.666667           3.166667      -4.438620   \n240        -1.166667         5.000000           8.333333       3.114784   \n264         2.166667        -1.000000         -11.000000      -0.610667   \n270         2.333333         4.000000           4.333333      20.220927   \n302         0.333333         5.833333           5.833333       4.203252   \n321         1.166667         0.333333           2.500000      18.460931   \n341        -3.000000        -5.166667           1.500000      15.792182   \n375         2.500000        16.500000          12.833333      19.313782   \n\n     elo_difference  form_difference  \n2              0.00         0.000000  \n27             1.29         0.000000  \n52            86.07         6.750000  \n61            35.85         4.200000  \n85            -1.77         0.500000  \n105           37.02        -2.666667  \n123            0.69        -1.333333  \n145          194.94         4.333333  \n176          -32.70         0.333333  \n183          119.13        -0.500000  \n213          112.74         0.000000  \n222          -69.18        -7.333333  \n240           19.53        -1.166667  \n264          -27.06        -2.666667  \n270           68.61        -1.000000  \n302           27.87        -0.833333  \n321           83.34         2.666667  \n341          114.60         0.166667  \n375          133.14         5.500000  \n\n[19 rows x 133 columns]",
      "text/html": "<div>\n<style scoped>\n    .dataframe tbody tr th:only-of-type {\n        vertical-align: middle;\n    }\n\n    .dataframe tbody tr th {\n        vertical-align: top;\n    }\n\n    .dataframe thead th {\n        text-align: right;\n    }\n</style>\n<table border=\"1\" class=\"dataframe\">\n  <thead>\n    <tr style=\"text-align: right;\">\n      <th></th>\n      <th>Div</th>\n      <th>Date</th>\n      <th>Time</th>\n      <th>HomeTeam</th>\n      <th>AwayTeam</th>\n      <th>FTHG</th>\n      <th>FTAG</th>\n      <th>FTR</th>\n      <th>HTHG</th>\n      <th>HTAG</th>\n      <th>...</th>\n      <th>Elo_h_after</th>\n      <th>Elo_a_after</th>\n      <th>Elo_h_before</th>\n      <th>Elo_a_before</th>\n      <th>goalsDifference</th>\n      <th>shotsDifference</th>\n      <th>cornersDifference</th>\n      <th>ewmDifference</th>\n      <th>elo_difference</th>\n      <th>form_difference</th>\n    </tr>\n  </thead>\n  <tbody>\n    <tr>\n      <th>2</th>\n      <td>E0</td>\n      <td>2020-09-12</td>\n      <td>17:30</td>\n      <td>Liverpool</td>\n      <td>Leeds United</td>\n      <td>4</td>\n      <td>3</td>\n      <td>H</td>\n      <td>3</td>\n      <td>2</td>\n      <td>...</td>\n      <td>1515.00</td>\n      <td>1485.00</td>\n      <td>1500.00</td>\n      <td>1500.00</td>\n      <td>0.000000</td>\n      <td>0.000000</td>\n      <td>0.000000</td>\n      <td>0.000000</td>\n      <td>0.00</td>\n      <td>0.000000</td>\n    </tr>\n    <tr>\n      <th>27</th>\n      <td>E0</td>\n      <td>2020-09-28</td>\n      <td>20:00</td>\n      <td>Liverpool</td>\n      <td>Arsenal</td>\n      <td>3</td>\n      <td>1</td>\n      <td>H</td>\n      <td>2</td>\n      <td>1</td>\n      <td>...</td>\n      <td>1544.94</td>\n      <td>1513.77</td>\n      <td>1530.00</td>\n      <td>1528.71</td>\n      <td>1.000000</td>\n      <td>0.000000</td>\n      <td>6.000000</td>\n      <td>0.000000</td>\n      <td>1.29</td>\n      <td>0.000000</td>\n    </tr>\n    <tr>\n      <th>52</th>\n      <td>E0</td>\n      <td>2020-10-24</td>\n      <td>20:00</td>\n      <td>Liverpool</td>\n      <td>Sheffield United</td>\n      <td>2</td>\n      <td>1</td>\n      <td>H</td>\n      <td>1</td>\n      <td>1</td>\n      <td>...</td>\n      <td>1541.73</td>\n      <td>1432.92</td>\n      <td>1530.36</td>\n      <td>1444.29</td>\n      <td>7.250000</td>\n      <td>11.250000</td>\n      <td>4.000000</td>\n      <td>8.381679</td>\n      <td>86.07</td>\n      <td>6.750000</td>\n    </tr>\n    <tr>\n      <th>61</th>\n      <td>E0</td>\n      <td>2020-10-31</td>\n      <td>17:30</td>\n      <td>Liverpool</td>\n      <td>West Ham United</td>\n      <td>2</td>\n      <td>1</td>\n      <td>H</td>\n      <td>1</td>\n      <td>1</td>\n      <td>...</td>\n      <td>1555.20</td>\n      <td>1492.41</td>\n      <td>1541.73</td>\n      <td>1505.88</td>\n      <td>3.600000</td>\n      <td>7.600000</td>\n      <td>10.200000</td>\n      <td>4.274168</td>\n      <td>35.85</td>\n      <td>4.200000</td>\n    </tr>\n    <tr>\n      <th>85</th>\n      <td>E0</td>\n      <td>2020-11-22</td>\n      <td>19:15</td>\n      <td>Liverpool</td>\n      <td>Leicester City</td>\n      <td>3</td>\n      <td>0</td>\n      <td>H</td>\n      <td>2</td>\n      <td>0</td>\n      <td>...</td>\n      <td>1569.15</td>\n      <td>1540.74</td>\n      <td>1554.06</td>\n      <td>1555.83</td>\n      <td>-1.333333</td>\n      <td>8.166667</td>\n      <td>1.666667</td>\n      <td>0.071603</td>\n      <td>-1.77</td>\n      <td>0.500000</td>\n    </tr>\n    <tr>\n      <th>105</th>\n      <td>E0</td>\n      <td>2020-12-06</td>\n      <td>19:15</td>\n      <td>Liverpool</td>\n      <td>Wolverhampton Wanderers</td>\n      <td>4</td>\n      <td>0</td>\n      <td>H</td>\n      <td>1</td>\n      <td>0</td>\n      <td>...</td>\n      <td>1578.72</td>\n      <td>1514.88</td>\n      <td>1565.31</td>\n      <td>1528.29</td>\n      <td>3.166667</td>\n      <td>9.500000</td>\n      <td>3.166667</td>\n      <td>4.230733</td>\n      <td>37.02</td>\n      <td>-2.666667</td>\n    </tr>\n    <tr>\n      <th>123</th>\n      <td>E0</td>\n      <td>2020-12-16</td>\n      <td>20:00</td>\n      <td>Liverpool</td>\n      <td>Tottenham Hotspur</td>\n      <td>2</td>\n      <td>1</td>\n      <td>H</td>\n      <td>1</td>\n      <td>1</td>\n      <td>...</td>\n      <td>1587.63</td>\n      <td>1557.00</td>\n      <td>1572.66</td>\n      <td>1571.97</td>\n      <td>2.166667</td>\n      <td>8.666667</td>\n      <td>2.000000</td>\n      <td>0.167494</td>\n      <td>0.69</td>\n      <td>-1.333333</td>\n    </tr>\n    <tr>\n      <th>145</th>\n      <td>E0</td>\n      <td>2020-12-27</td>\n      <td>16:30</td>\n      <td>Liverpool</td>\n      <td>West Bromwich Albion</td>\n      <td>1</td>\n      <td>1</td>\n      <td>D</td>\n      <td>1</td>\n      <td>0</td>\n      <td>...</td>\n      <td>1591.11</td>\n      <td>1411.41</td>\n      <td>1598.73</td>\n      <td>1403.79</td>\n      <td>5.166667</td>\n      <td>11.166667</td>\n      <td>-5.166667</td>\n      <td>20.797890</td>\n      <td>194.94</td>\n      <td>4.333333</td>\n    </tr>\n    <tr>\n      <th>176</th>\n      <td>E0</td>\n      <td>2021-01-17</td>\n      <td>16:30</td>\n      <td>Liverpool</td>\n      <td>Manchester United</td>\n      <td>0</td>\n      <td>0</td>\n      <td>D</td>\n      <td>0</td>\n      <td>0</td>\n      <td>...</td>\n      <td>1570.41</td>\n      <td>1600.29</td>\n      <td>1569.00</td>\n      <td>1601.70</td>\n      <td>1.833333</td>\n      <td>1.166667</td>\n      <td>6.666667</td>\n      <td>-0.230326</td>\n      <td>-32.70</td>\n      <td>0.333333</td>\n    </tr>\n    <tr>\n      <th>183</th>\n      <td>E0</td>\n      <td>2021-01-21</td>\n      <td>20:00</td>\n      <td>Liverpool</td>\n      <td>Burnley</td>\n      <td>0</td>\n      <td>1</td>\n      <td>A</td>\n      <td>0</td>\n      <td>0</td>\n      <td>...</td>\n      <td>1550.46</td>\n      <td>1471.23</td>\n      <td>1570.41</td>\n      <td>1451.28</td>\n      <td>5.166667</td>\n      <td>11.000000</td>\n      <td>13.166667</td>\n      <td>17.610074</td>\n      <td>119.13</td>\n      <td>-0.500000</td>\n    </tr>\n    <tr>\n      <th>213</th>\n      <td>E0</td>\n      <td>2021-02-03</td>\n      <td>20:15</td>\n      <td>Liverpool</td>\n      <td>Brighton &amp; Hove Albion</td>\n      <td>0</td>\n      <td>1</td>\n      <td>A</td>\n      <td>0</td>\n      <td>0</td>\n      <td>...</td>\n      <td>1560.81</td>\n      <td>1487.49</td>\n      <td>1580.52</td>\n      <td>1467.78</td>\n      <td>-2.833333</td>\n      <td>0.333333</td>\n      <td>16.666667</td>\n      <td>18.757014</td>\n      <td>112.74</td>\n      <td>0.000000</td>\n    </tr>\n    <tr>\n      <th>222</th>\n      <td>E0</td>\n      <td>2021-02-07</td>\n      <td>16:30</td>\n      <td>Liverpool</td>\n      <td>Manchester City</td>\n      <td>1</td>\n      <td>4</td>\n      <td>A</td>\n      <td>0</td>\n      <td>0</td>\n      <td>...</td>\n      <td>1548.75</td>\n      <td>1642.05</td>\n      <td>1560.81</td>\n      <td>1629.99</td>\n      <td>-7.833333</td>\n      <td>-9.666667</td>\n      <td>3.166667</td>\n      <td>-4.438620</td>\n      <td>-69.18</td>\n      <td>-7.333333</td>\n    </tr>\n    <tr>\n      <th>240</th>\n      <td>E0</td>\n      <td>2021-02-20</td>\n      <td>17:30</td>\n      <td>Liverpool</td>\n      <td>Everton</td>\n      <td>0</td>\n      <td>2</td>\n      <td>A</td>\n      <td>0</td>\n      <td>1</td>\n      <td>...</td>\n      <td>1518.63</td>\n      <td>1530.78</td>\n      <td>1534.47</td>\n      <td>1514.94</td>\n      <td>-1.166667</td>\n      <td>5.000000</td>\n      <td>8.333333</td>\n      <td>3.114784</td>\n      <td>19.53</td>\n      <td>-1.166667</td>\n    </tr>\n    <tr>\n      <th>264</th>\n      <td>E0</td>\n      <td>2021-03-04</td>\n      <td>20:15</td>\n      <td>Liverpool</td>\n      <td>Chelsea</td>\n      <td>0</td>\n      <td>1</td>\n      <td>A</td>\n      <td>0</td>\n      <td>1</td>\n      <td>...</td>\n      <td>1513.23</td>\n      <td>1567.95</td>\n      <td>1527.06</td>\n      <td>1554.12</td>\n      <td>2.166667</td>\n      <td>-1.000000</td>\n      <td>-11.000000</td>\n      <td>-0.610667</td>\n      <td>-27.06</td>\n      <td>-2.666667</td>\n    </tr>\n    <tr>\n      <th>270</th>\n      <td>E0</td>\n      <td>2021-03-07</td>\n      <td>14:00</td>\n      <td>Liverpool</td>\n      <td>Fulham</td>\n      <td>0</td>\n      <td>1</td>\n      <td>A</td>\n      <td>0</td>\n      <td>1</td>\n      <td>...</td>\n      <td>1495.32</td>\n      <td>1462.53</td>\n      <td>1513.23</td>\n      <td>1444.62</td>\n      <td>2.333333</td>\n      <td>4.000000</td>\n      <td>4.333333</td>\n      <td>20.220927</td>\n      <td>68.61</td>\n      <td>-1.000000</td>\n    </tr>\n    <tr>\n      <th>302</th>\n      <td>E0</td>\n      <td>2021-04-10</td>\n      <td>15:00</td>\n      <td>Liverpool</td>\n      <td>Aston Villa</td>\n      <td>2</td>\n      <td>1</td>\n      <td>H</td>\n      <td>0</td>\n      <td>1</td>\n      <td>...</td>\n      <td>1539.66</td>\n      <td>1484.19</td>\n      <td>1525.86</td>\n      <td>1497.99</td>\n      <td>0.333333</td>\n      <td>5.833333</td>\n      <td>5.833333</td>\n      <td>4.203252</td>\n      <td>27.87</td>\n      <td>-0.833333</td>\n    </tr>\n    <tr>\n      <th>321</th>\n      <td>E0</td>\n      <td>2021-04-24</td>\n      <td>12:30</td>\n      <td>Liverpool</td>\n      <td>Newcastle United</td>\n      <td>1</td>\n      <td>1</td>\n      <td>D</td>\n      <td>1</td>\n      <td>0</td>\n      <td>...</td>\n      <td>1535.13</td>\n      <td>1458.87</td>\n      <td>1538.67</td>\n      <td>1455.33</td>\n      <td>1.166667</td>\n      <td>0.333333</td>\n      <td>2.500000</td>\n      <td>18.460931</td>\n      <td>83.34</td>\n      <td>2.666667</td>\n    </tr>\n    <tr>\n      <th>341</th>\n      <td>E0</td>\n      <td>2021-05-08</td>\n      <td>20:15</td>\n      <td>Liverpool</td>\n      <td>Southampton</td>\n      <td>2</td>\n      <td>0</td>\n      <td>H</td>\n      <td>1</td>\n      <td>0</td>\n      <td>...</td>\n      <td>1545.36</td>\n      <td>1410.30</td>\n      <td>1535.13</td>\n      <td>1420.53</td>\n      <td>-3.000000</td>\n      <td>-5.166667</td>\n      <td>1.500000</td>\n      <td>15.792182</td>\n      <td>114.60</td>\n      <td>0.166667</td>\n    </tr>\n    <tr>\n      <th>375</th>\n      <td>E0</td>\n      <td>2021-05-23</td>\n      <td>16:00</td>\n      <td>Liverpool</td>\n      <td>Crystal Palace</td>\n      <td>2</td>\n      <td>0</td>\n      <td>H</td>\n      <td>1</td>\n      <td>0</td>\n      <td>...</td>\n      <td>1591.89</td>\n      <td>1439.73</td>\n      <td>1582.38</td>\n      <td>1449.24</td>\n      <td>2.500000</td>\n      <td>16.500000</td>\n      <td>12.833333</td>\n      <td>19.313782</td>\n      <td>133.14</td>\n      <td>5.500000</td>\n    </tr>\n  </tbody>\n</table>\n<p>19 rows × 133 columns</p>\n</div>"
     },
     "execution_count": 635,
     "metadata": {},
     "output_type": "execute_result"
    }
   ],
   "source": [
    "rslt_df = PL20_21_fixtures[PL20_21_fixtures['HomeTeam'] == 'Liverpool']\n",
    "#rslt_df2 = PL20_21_fixtures[PL20_21_fixtures['AwayTeam'] == 'Liverpool' ]\n",
    "rslt_df\n",
    "#rslt_df.append(rslt_df2).sort_index()"
   ],
   "metadata": {
    "collapsed": false,
    "pycharm": {
     "name": "#%%\n"
    }
   }
  },
  {
   "cell_type": "code",
   "execution_count": 636,
   "outputs": [
    {
     "data": {
      "text/plain": "A    153\nH    144\nD     83\nName: FTR, dtype: int64"
     },
     "execution_count": 636,
     "metadata": {},
     "output_type": "execute_result"
    }
   ],
   "source": [
    "test = PL20_21_fixtures['FTR']\n",
    "test.value_counts()"
   ],
   "metadata": {
    "collapsed": false,
    "pycharm": {
     "name": "#%%\n"
    }
   }
  },
  {
   "cell_type": "code",
   "execution_count": 637,
   "outputs": [],
   "source": [
    "#elos=PL20_21_fixtures[['Date_x','HomeTeam','Elo_h_after']].rename(columns={'home_team':'Team','Elo_h_after':'Elo'}).append(PL20_21_fixtures[['Date_x','AwayTeam','Elo_a_after']].rename(columns={'away_team':'Team','Elo_a_after':'Elo'}))\n",
    "#elos"
   ],
   "metadata": {
    "collapsed": false,
    "pycharm": {
     "name": "#%%\n"
    }
   }
  },
  {
   "cell_type": "code",
   "execution_count": 638,
   "outputs": [],
   "source": [
    "PL20_21_fixtures.to_csv('Data/2020-21/Fixtures/PL20_21_features.csv')"
   ],
   "metadata": {
    "collapsed": false,
    "pycharm": {
     "name": "#%%\n"
    }
   }
  },
  {
   "cell_type": "code",
   "execution_count": 639,
   "outputs": [
    {
     "data": {
      "text/plain": "     Unnamed: 0 Div        Date   Time                 HomeTeam  \\\n0             0  E0  2020-09-12  12:30                   Fulham   \n1             1  E0  2020-09-12  15:00           Crystal Palace   \n2             2  E0  2020-09-12  17:30                Liverpool   \n3             3  E0  2020-09-12  20:00          West Ham United   \n4             4  E0  2020-09-13  14:00     West Bromwich Albion   \n..          ...  ..         ...    ...                      ...   \n375         375  E0  2021-05-23  16:00                Liverpool   \n376         376  E0  2021-05-23  16:00          Manchester City   \n377         377  E0  2021-05-23  16:00         Sheffield United   \n378         378  E0  2021-05-23  16:00          West Ham United   \n379         379  E0  2021-05-23  16:00  Wolverhampton Wanderers   \n\n              AwayTeam  FTHG  FTAG FTR  HTHG  ...  Elo_h_after Elo_a_after  \\\n0              Arsenal     0     3   A     0  ...      1485.00     1515.00   \n1          Southampton     1     0   H     1  ...      1515.00     1485.00   \n2         Leeds United     4     3   H     3  ...      1515.00     1485.00   \n3     Newcastle United     0     2   A     0  ...      1485.00     1515.00   \n4       Leicester City     0     3   A     0  ...      1485.00     1515.00   \n..                 ...   ...   ...  ..   ...  ...          ...         ...   \n375     Crystal Palace     2     0   H     1  ...      1591.89     1439.73   \n376            Everton     5     0   H     2  ...      1659.36     1508.70   \n377            Burnley     1     0   H     1  ...      1358.16     1420.86   \n378        Southampton     3     0   H     2  ...      1560.00     1420.08   \n379  Manchester United     1     2   A     1  ...      1443.72     1611.60   \n\n    Elo_h_before  Elo_a_before  goalsDifference  shotsDifference  \\\n0        1500.00       1500.00         0.000000         0.000000   \n1        1500.00       1500.00         0.000000         0.000000   \n2        1500.00       1500.00         0.000000         0.000000   \n3        1500.00       1500.00         0.000000         0.000000   \n4        1500.00       1500.00         0.000000         0.000000   \n..           ...           ...              ...              ...   \n375      1582.38       1449.24         2.500000        16.500000   \n376      1649.79       1518.27         2.166667         1.666667   \n377      1338.90       1440.12        -4.833333        -8.333333   \n378      1549.98       1430.10         2.833333        -3.500000   \n379      1452.60       1602.72        -4.666667        -5.500000   \n\n     cornersDifference  ewmDifference  elo_difference  form_difference  \n0             0.000000       0.000000            0.00         0.000000  \n1             0.000000       0.000000            0.00         0.000000  \n2             0.000000       0.000000            0.00         0.000000  \n3             0.000000       0.000000            0.00         0.000000  \n4             0.000000       0.000000            0.00         0.000000  \n..                 ...            ...             ...              ...  \n375          12.833333      19.313782          133.14         5.500000  \n376           6.000000      24.719180          131.52         1.666667  \n377         -12.500000     -19.400129         -101.22        -0.500000  \n378          -6.666667      18.155503          119.88         2.500000  \n379          -2.000000     -25.615866         -150.12        -0.666667  \n\n[380 rows x 134 columns]",
      "text/html": "<div>\n<style scoped>\n    .dataframe tbody tr th:only-of-type {\n        vertical-align: middle;\n    }\n\n    .dataframe tbody tr th {\n        vertical-align: top;\n    }\n\n    .dataframe thead th {\n        text-align: right;\n    }\n</style>\n<table border=\"1\" class=\"dataframe\">\n  <thead>\n    <tr style=\"text-align: right;\">\n      <th></th>\n      <th>Unnamed: 0</th>\n      <th>Div</th>\n      <th>Date</th>\n      <th>Time</th>\n      <th>HomeTeam</th>\n      <th>AwayTeam</th>\n      <th>FTHG</th>\n      <th>FTAG</th>\n      <th>FTR</th>\n      <th>HTHG</th>\n      <th>...</th>\n      <th>Elo_h_after</th>\n      <th>Elo_a_after</th>\n      <th>Elo_h_before</th>\n      <th>Elo_a_before</th>\n      <th>goalsDifference</th>\n      <th>shotsDifference</th>\n      <th>cornersDifference</th>\n      <th>ewmDifference</th>\n      <th>elo_difference</th>\n      <th>form_difference</th>\n    </tr>\n  </thead>\n  <tbody>\n    <tr>\n      <th>0</th>\n      <td>0</td>\n      <td>E0</td>\n      <td>2020-09-12</td>\n      <td>12:30</td>\n      <td>Fulham</td>\n      <td>Arsenal</td>\n      <td>0</td>\n      <td>3</td>\n      <td>A</td>\n      <td>0</td>\n      <td>...</td>\n      <td>1485.00</td>\n      <td>1515.00</td>\n      <td>1500.00</td>\n      <td>1500.00</td>\n      <td>0.000000</td>\n      <td>0.000000</td>\n      <td>0.000000</td>\n      <td>0.000000</td>\n      <td>0.00</td>\n      <td>0.000000</td>\n    </tr>\n    <tr>\n      <th>1</th>\n      <td>1</td>\n      <td>E0</td>\n      <td>2020-09-12</td>\n      <td>15:00</td>\n      <td>Crystal Palace</td>\n      <td>Southampton</td>\n      <td>1</td>\n      <td>0</td>\n      <td>H</td>\n      <td>1</td>\n      <td>...</td>\n      <td>1515.00</td>\n      <td>1485.00</td>\n      <td>1500.00</td>\n      <td>1500.00</td>\n      <td>0.000000</td>\n      <td>0.000000</td>\n      <td>0.000000</td>\n      <td>0.000000</td>\n      <td>0.00</td>\n      <td>0.000000</td>\n    </tr>\n    <tr>\n      <th>2</th>\n      <td>2</td>\n      <td>E0</td>\n      <td>2020-09-12</td>\n      <td>17:30</td>\n      <td>Liverpool</td>\n      <td>Leeds United</td>\n      <td>4</td>\n      <td>3</td>\n      <td>H</td>\n      <td>3</td>\n      <td>...</td>\n      <td>1515.00</td>\n      <td>1485.00</td>\n      <td>1500.00</td>\n      <td>1500.00</td>\n      <td>0.000000</td>\n      <td>0.000000</td>\n      <td>0.000000</td>\n      <td>0.000000</td>\n      <td>0.00</td>\n      <td>0.000000</td>\n    </tr>\n    <tr>\n      <th>3</th>\n      <td>3</td>\n      <td>E0</td>\n      <td>2020-09-12</td>\n      <td>20:00</td>\n      <td>West Ham United</td>\n      <td>Newcastle United</td>\n      <td>0</td>\n      <td>2</td>\n      <td>A</td>\n      <td>0</td>\n      <td>...</td>\n      <td>1485.00</td>\n      <td>1515.00</td>\n      <td>1500.00</td>\n      <td>1500.00</td>\n      <td>0.000000</td>\n      <td>0.000000</td>\n      <td>0.000000</td>\n      <td>0.000000</td>\n      <td>0.00</td>\n      <td>0.000000</td>\n    </tr>\n    <tr>\n      <th>4</th>\n      <td>4</td>\n      <td>E0</td>\n      <td>2020-09-13</td>\n      <td>14:00</td>\n      <td>West Bromwich Albion</td>\n      <td>Leicester City</td>\n      <td>0</td>\n      <td>3</td>\n      <td>A</td>\n      <td>0</td>\n      <td>...</td>\n      <td>1485.00</td>\n      <td>1515.00</td>\n      <td>1500.00</td>\n      <td>1500.00</td>\n      <td>0.000000</td>\n      <td>0.000000</td>\n      <td>0.000000</td>\n      <td>0.000000</td>\n      <td>0.00</td>\n      <td>0.000000</td>\n    </tr>\n    <tr>\n      <th>...</th>\n      <td>...</td>\n      <td>...</td>\n      <td>...</td>\n      <td>...</td>\n      <td>...</td>\n      <td>...</td>\n      <td>...</td>\n      <td>...</td>\n      <td>...</td>\n      <td>...</td>\n      <td>...</td>\n      <td>...</td>\n      <td>...</td>\n      <td>...</td>\n      <td>...</td>\n      <td>...</td>\n      <td>...</td>\n      <td>...</td>\n      <td>...</td>\n      <td>...</td>\n      <td>...</td>\n    </tr>\n    <tr>\n      <th>375</th>\n      <td>375</td>\n      <td>E0</td>\n      <td>2021-05-23</td>\n      <td>16:00</td>\n      <td>Liverpool</td>\n      <td>Crystal Palace</td>\n      <td>2</td>\n      <td>0</td>\n      <td>H</td>\n      <td>1</td>\n      <td>...</td>\n      <td>1591.89</td>\n      <td>1439.73</td>\n      <td>1582.38</td>\n      <td>1449.24</td>\n      <td>2.500000</td>\n      <td>16.500000</td>\n      <td>12.833333</td>\n      <td>19.313782</td>\n      <td>133.14</td>\n      <td>5.500000</td>\n    </tr>\n    <tr>\n      <th>376</th>\n      <td>376</td>\n      <td>E0</td>\n      <td>2021-05-23</td>\n      <td>16:00</td>\n      <td>Manchester City</td>\n      <td>Everton</td>\n      <td>5</td>\n      <td>0</td>\n      <td>H</td>\n      <td>2</td>\n      <td>...</td>\n      <td>1659.36</td>\n      <td>1508.70</td>\n      <td>1649.79</td>\n      <td>1518.27</td>\n      <td>2.166667</td>\n      <td>1.666667</td>\n      <td>6.000000</td>\n      <td>24.719180</td>\n      <td>131.52</td>\n      <td>1.666667</td>\n    </tr>\n    <tr>\n      <th>377</th>\n      <td>377</td>\n      <td>E0</td>\n      <td>2021-05-23</td>\n      <td>16:00</td>\n      <td>Sheffield United</td>\n      <td>Burnley</td>\n      <td>1</td>\n      <td>0</td>\n      <td>H</td>\n      <td>1</td>\n      <td>...</td>\n      <td>1358.16</td>\n      <td>1420.86</td>\n      <td>1338.90</td>\n      <td>1440.12</td>\n      <td>-4.833333</td>\n      <td>-8.333333</td>\n      <td>-12.500000</td>\n      <td>-19.400129</td>\n      <td>-101.22</td>\n      <td>-0.500000</td>\n    </tr>\n    <tr>\n      <th>378</th>\n      <td>378</td>\n      <td>E0</td>\n      <td>2021-05-23</td>\n      <td>16:00</td>\n      <td>West Ham United</td>\n      <td>Southampton</td>\n      <td>3</td>\n      <td>0</td>\n      <td>H</td>\n      <td>2</td>\n      <td>...</td>\n      <td>1560.00</td>\n      <td>1420.08</td>\n      <td>1549.98</td>\n      <td>1430.10</td>\n      <td>2.833333</td>\n      <td>-3.500000</td>\n      <td>-6.666667</td>\n      <td>18.155503</td>\n      <td>119.88</td>\n      <td>2.500000</td>\n    </tr>\n    <tr>\n      <th>379</th>\n      <td>379</td>\n      <td>E0</td>\n      <td>2021-05-23</td>\n      <td>16:00</td>\n      <td>Wolverhampton Wanderers</td>\n      <td>Manchester United</td>\n      <td>1</td>\n      <td>2</td>\n      <td>A</td>\n      <td>1</td>\n      <td>...</td>\n      <td>1443.72</td>\n      <td>1611.60</td>\n      <td>1452.60</td>\n      <td>1602.72</td>\n      <td>-4.666667</td>\n      <td>-5.500000</td>\n      <td>-2.000000</td>\n      <td>-25.615866</td>\n      <td>-150.12</td>\n      <td>-0.666667</td>\n    </tr>\n  </tbody>\n</table>\n<p>380 rows × 134 columns</p>\n</div>"
     },
     "execution_count": 639,
     "metadata": {},
     "output_type": "execute_result"
    }
   ],
   "source": [
    "PL20_21_features = pd.read_csv('Data/2020-21/Fixtures/PL20_21_features.csv')\n",
    "PL20_21_features"
   ],
   "metadata": {
    "collapsed": false,
    "pycharm": {
     "name": "#%%\n"
    }
   }
  },
  {
   "cell_type": "code",
   "execution_count": 640,
   "outputs": [],
   "source": [
    "#prepare Data for ML Algos\n",
    "#add column for H A X\n",
    "conditions = [\n",
    "    (PL20_21_features['FTR'] == 'H'),\n",
    "    (PL20_21_features['FTR'] == 'A'),\n",
    "    (PL20_21_features['FTR'] == 'D')]\n",
    "choices = [0, 1, 2]\n",
    "PL20_21_features['identifier'] = np.select(conditions, choices)\n",
    "#PL20_21_features.drop(PL20_21_features[ PL20_21_features.Wk < 6].index, inplace=True)\n",
    "y = PL20_21_features['identifier'].to_numpy()\n",
    "feature_names = ['Rating difference', 'Rating_Home', 'Rating_Away', 'ewmH', 'ewmA', 'ewmDifference', 'Elo_h_before',\n",
    "                 'Elo_a_before', 'elo_difference', 'goalsH', 'goalsA', 'goalsDifference', 'shotsH', 'shotsA',\n",
    "                 'shotsDifference', 'cornersH', 'cornersA', 'cornersDifference', 'formH', 'formA', 'form_difference']\n",
    "#feature_names = ['Rating difference', 'elo_difference', 'ewmDifference', 'goalsDifference', 'shotsDifference', 'cornersDifference', 'form_difference']\n",
    "X = PL20_21_features[feature_names].to_numpy()\n",
    "#X = PL20_21_features[['Rating difference', 'eloA', 'eloDifference' ]].to_numpy()\n"
   ],
   "metadata": {
    "collapsed": false,
    "pycharm": {
     "name": "#%%\n"
    }
   }
  },
  {
   "cell_type": "code",
   "execution_count": 641,
   "outputs": [],
   "source": [
    "#split Data in training and test set\n",
    "X_train, X_test, y_train, y_test = train_test_split(X, y, test_size=0.2, random_state=42)"
   ],
   "metadata": {
    "collapsed": false,
    "pycharm": {
     "name": "#%%\n"
    }
   }
  },
  {
   "cell_type": "code",
   "execution_count": 642,
   "outputs": [],
   "source": [
    "#create manual test and training sets, without gw 1-3\n",
    "X_train21 = np.split(X, [40, 340, 380], axis=0)\n",
    "X_train2 = X_train21[1]\n",
    "X_test2 = X_train21[2]\n",
    "y_train21 = np.split(y, [40, 340, 380], axis=0)\n",
    "y_train2 = y_train21[1]\n",
    "y_test2 = y_train21[2]"
   ],
   "metadata": {
    "collapsed": false,
    "pycharm": {
     "name": "#%%\n"
    }
   }
  },
  {
   "cell_type": "code",
   "execution_count": 643,
   "outputs": [
    {
     "name": "stdout",
     "output_type": "stream",
     "text": [
      "X_train : (304, 21)\n",
      "y_train : (304,)\n",
      "X_test : (76, 21)\n",
      "y_test : (76,)\n",
      "X_train2 : (300, 21)\n",
      "y_train2 : (300,)\n",
      "X_test2 : (40, 21)\n",
      "y_test2 : (40,)\n"
     ]
    }
   ],
   "source": [
    "print(f'X_train : {X_train.shape}')\n",
    "print(f'y_train : {y_train.shape}')\n",
    "print(f'X_test : {X_test.shape}')\n",
    "print(f'y_test : {y_test.shape}')\n",
    "print(f'X_train2 : {X_train2.shape}')\n",
    "print(f'y_train2 : {y_train2.shape}')\n",
    "print(f'X_test2 : {X_test2.shape}')\n",
    "print(f'y_test2 : {y_test2.shape}')"
   ],
   "metadata": {
    "collapsed": false,
    "pycharm": {
     "name": "#%%\n"
    }
   }
  },
  {
   "cell_type": "code",
   "execution_count": 644,
   "outputs": [],
   "source": [
    "#set up classifiers\n",
    "rf_model = RandomForestClassifier()\n",
    "xgb_model = xgb.XGBClassifier(seed=82)\n",
    "rf_model2 = RandomForestClassifier()\n",
    "xgb_model2 = xgb.XGBClassifier(seed=82)"
   ],
   "metadata": {
    "collapsed": false,
    "pycharm": {
     "name": "#%%\n"
    }
   }
  },
  {
   "cell_type": "code",
   "execution_count": 645,
   "outputs": [
    {
     "data": {
      "text/plain": "{'bootstrap': True,\n 'ccp_alpha': 0.0,\n 'class_weight': None,\n 'criterion': 'gini',\n 'max_depth': None,\n 'max_features': 'auto',\n 'max_leaf_nodes': None,\n 'max_samples': None,\n 'min_impurity_decrease': 0.0,\n 'min_samples_leaf': 1,\n 'min_samples_split': 2,\n 'min_weight_fraction_leaf': 0.0,\n 'n_estimators': 100,\n 'n_jobs': None,\n 'oob_score': False,\n 'random_state': None,\n 'verbose': 0,\n 'warm_start': False}"
     },
     "execution_count": 645,
     "metadata": {},
     "output_type": "execute_result"
    }
   ],
   "source": [
    "rf_model2.fit(X_train2, y_train2)\n",
    "xgb_model2.fit(X_train2, y_train2)\n",
    "rf_model2.get_params()"
   ],
   "metadata": {
    "collapsed": false,
    "pycharm": {
     "name": "#%%\n"
    }
   }
  },
  {
   "cell_type": "code",
   "execution_count": 646,
   "outputs": [
    {
     "data": {
      "text/plain": "{'bootstrap': True,\n 'ccp_alpha': 0.0,\n 'class_weight': None,\n 'criterion': 'gini',\n 'max_depth': None,\n 'max_features': 'auto',\n 'max_leaf_nodes': None,\n 'max_samples': None,\n 'min_impurity_decrease': 0.0,\n 'min_samples_leaf': 1,\n 'min_samples_split': 2,\n 'min_weight_fraction_leaf': 0.0,\n 'n_estimators': 100,\n 'n_jobs': None,\n 'oob_score': False,\n 'random_state': None,\n 'verbose': 0,\n 'warm_start': False}"
     },
     "execution_count": 646,
     "metadata": {},
     "output_type": "execute_result"
    }
   ],
   "source": [
    "rf_model.fit(X_train, y_train)\n",
    "xgb_model.fit(X_train, y_train)\n",
    "rf_model.get_params()"
   ],
   "metadata": {
    "collapsed": false,
    "pycharm": {
     "name": "#%%\n"
    }
   }
  },
  {
   "cell_type": "code",
   "execution_count": 647,
   "outputs": [
    {
     "data": {
      "text/plain": "0.4868421052631579"
     },
     "execution_count": 647,
     "metadata": {},
     "output_type": "execute_result"
    }
   ],
   "source": [
    "rf_model.score(X_test, y_test)"
   ],
   "metadata": {
    "collapsed": false,
    "pycharm": {
     "name": "#%%\n"
    }
   }
  },
  {
   "cell_type": "code",
   "execution_count": 648,
   "outputs": [
    {
     "data": {
      "text/plain": "0.6"
     },
     "execution_count": 648,
     "metadata": {},
     "output_type": "execute_result"
    }
   ],
   "source": [
    "rf_model2.score(X_test2, y_test2)"
   ],
   "metadata": {
    "collapsed": false,
    "pycharm": {
     "name": "#%%\n"
    }
   }
  },
  {
   "cell_type": "code",
   "execution_count": 649,
   "outputs": [
    {
     "data": {
      "text/plain": "0.47368421052631576"
     },
     "execution_count": 649,
     "metadata": {},
     "output_type": "execute_result"
    }
   ],
   "source": [
    "xgb_model.score(X_test, y_test)"
   ],
   "metadata": {
    "collapsed": false,
    "pycharm": {
     "name": "#%%\n"
    }
   }
  },
  {
   "cell_type": "code",
   "execution_count": 650,
   "outputs": [
    {
     "data": {
      "text/plain": "0.525"
     },
     "execution_count": 650,
     "metadata": {},
     "output_type": "execute_result"
    }
   ],
   "source": [
    "xgb_model2.score(X_test2, y_test2)"
   ],
   "metadata": {
    "collapsed": false,
    "pycharm": {
     "name": "#%%\n"
    }
   }
  },
  {
   "cell_type": "code",
   "execution_count": 651,
   "outputs": [],
   "source": [
    "rf1 = []\n",
    "rf2 = []\n",
    "xg1 = []\n",
    "xg2 = []\n",
    "x = 0\n",
    "for i in range(100):\n",
    "    #split Data in training and test set\n",
    "    X_train, X_test, y_train, y_test = train_test_split(X, y, test_size=0.2, random_state=42)\n",
    "    #create manual test and training sets, without gw 1-3\n",
    "    X_train21 = np.split(X, [40, 340, 380], axis=0)\n",
    "    X_train2 = X_train21[1]\n",
    "    X_test2 = X_train21[2]\n",
    "    y_train21 = np.split(y, [40, 340, 380], axis=0)\n",
    "    y_train2 = y_train21[1]\n",
    "    y_test2 = y_train21[2]\n",
    "    #set up classifiers\n",
    "    rf_model = RandomForestClassifier()\n",
    "    xgb_model = xgb.XGBClassifier(seed=82)\n",
    "    rf_model2 = RandomForestClassifier()\n",
    "    xgb_model2 = xgb.XGBClassifier(seed=82)\n",
    "    rf_model2.fit(X_train2, y_train2)\n",
    "    xgb_model2.fit(X_train2, y_train2)\n",
    "    rf_model2.get_params()\n",
    "    rf_model.fit(X_train, y_train)\n",
    "    xgb_model.fit(X_train, y_train)\n",
    "    rf_model.get_params()\n",
    "    rf1.append(rf_model.score(X_test, y_test))\n",
    "    rf2.append(rf_model2.score(X_test2, y_test2))\n",
    "    xg1.append(xgb_model.score(X_test, y_test))\n",
    "    xg2.append(xgb_model2.score(X_test2, y_test2))\n"
   ],
   "metadata": {
    "collapsed": false,
    "pycharm": {
     "name": "#%%\n"
    }
   }
  },
  {
   "cell_type": "code",
   "execution_count": 652,
   "outputs": [
    {
     "name": "stdout",
     "output_type": "stream",
     "text": [
      "RF1 0.5210526315789478\n",
      "RF2 0.5122500000000002\n",
      "XGB1 0.4736842105263152\n",
      "XGB2 0.524999999999999\n"
     ]
    }
   ],
   "source": [
    "def Average(lst):\n",
    "    return sum(lst) / len(lst)\n",
    "\n",
    "\n",
    "print('RF1', Average(rf1))\n",
    "print('RF2', Average(rf2))\n",
    "print('XGB1', Average(xg1))\n",
    "print('XGB2', Average(xg2))"
   ],
   "metadata": {
    "collapsed": false,
    "pycharm": {
     "name": "#%%\n"
    }
   }
  },
  {
   "cell_type": "code",
   "execution_count": 653,
   "outputs": [
    {
     "data": {
      "text/plain": "<Figure size 432x288 with 1 Axes>",
      "image/png": "[encoded data removed]"
     },
     "metadata": {
      "needs_background": "light"
     },
     "output_type": "display_data"
    }
   ],
   "source": [
    "    #start_time = time.time()\n",
    "importances = rf_model.feature_importances_\n",
    "std = np.std([tree.feature_importances_ for tree in rf_model.estimators_], axis=0)\n",
    "#elapsed_time = time.time() - start_time\n",
    "\n",
    "\n",
    "#feature_names = [f\"feature {i}\" for i in range(X.shape[1])]\n",
    "\n",
    "\n",
    "forest_importances = pd.Series(importances, index=feature_names)\n",
    "forest_importances = forest_importances.sort_values()\n",
    "fig, ax = plt.subplots()\n",
    "\n",
    "forest_importances.plot.barh(ax=ax, yerr=std)\n",
    "ax.set_title(\"Feature importances using MDI\")\n",
    "ax.set_xlabel(\"Mean decrease in impurity\")\n",
    "fig.tight_layout()"
   ],
   "metadata": {
    "collapsed": false,
    "pycharm": {
     "name": "#%%\n"
    }
   }
  },
  {
   "cell_type": "code",
   "execution_count": 654,
   "outputs": [],
   "source": [
    "#for measuring training time\n",
    "from time import time\n",
    "# F1 score (also F-score or F-measure) is a measure of a test's accuracy.\n",
    "#It considers both the precision p and the recall r of the test to compute\n",
    "#the score: p is the number of correct positive results divided by the number of\n",
    "#all positive results, and r is the number of correct positive results divided by\n",
    "#the number of positive results that should have been returned. The F1 score can be\n",
    "#interpreted as a weighted average of the precision and recall, where an F1 score\n",
    "#reaches its best value at 1 and worst at 0.\n",
    "from sklearn.metrics import f1_score\n",
    "\n",
    "\n",
    "def train_classifier(clf, X_train, y_train):\n",
    "    ''' Fits a classifier to the training data. '''\n",
    "\n",
    "    # Start the clock, train the classifier, then stop the clock\n",
    "    start = time()\n",
    "    clf.fit(X_train, y_train)\n",
    "    end = time()\n",
    "\n",
    "    # Print the results\n",
    "    print(\"Trained model in {:.4f} seconds\".format(end - start))\n",
    "\n",
    "\n",
    "def predict_labels(clf, features, target):\n",
    "    ''' Makes predictions using a fit classifier based on F1 score. '''\n",
    "\n",
    "    # Start the clock, make predictions, then stop the clock\n",
    "    start = time()\n",
    "    y_pred = clf.predict(features)\n",
    "\n",
    "    end = time()\n",
    "    # Print and return results\n",
    "    print(\"Made predictions in {:.4f} seconds.\".format(end - start))\n",
    "\n",
    "    return f1_score(target, y_pred, average='weighted'), sum(target == y_pred) / float(len(y_pred))\n",
    "\n",
    "\n",
    "def train_predict(clf, X_train, y_train, X_test, y_test):\n",
    "    ''' Train and predict using a classifer based on F1 score. '''\n",
    "\n",
    "    # Indicate the classifier and the training set size\n",
    "    print(\"Training a {} using a training set size of {}. . .\".format(clf.__class__.__name__, len(X_train)))\n",
    "\n",
    "    # Train the classifier\n",
    "    train_classifier(clf, X_train, y_train)\n",
    "\n",
    "    # Print the results of prediction for both training and testing\n",
    "    f1, acc = predict_labels(clf, X_train, y_train)\n",
    "    print(f1, acc)\n",
    "    print(\"F1 score and accuracy score for training set: {:.4f} , {:.4f}.\".format(f1, acc))\n",
    "\n",
    "    f1, acc = predict_labels(clf, X_test, y_test)\n",
    "    print(\"F1 score and accuracy score for test set: {:.4f} , {:.4f}.\".format(f1, acc))"
   ],
   "metadata": {
    "collapsed": false,
    "pycharm": {
     "name": "#%%\n"
    }
   }
  },
  {
   "cell_type": "code",
   "execution_count": 655,
   "outputs": [
    {
     "name": "stdout",
     "output_type": "stream",
     "text": [
      "Training a XGBClassifier using a training set size of 304. . .\n",
      "Trained model in 0.2005 seconds\n",
      "Made predictions in 0.0040 seconds.\n",
      "1.0 1.0\n",
      "F1 score and accuracy score for training set: 1.0000 , 1.0000.\n",
      "Made predictions in 0.0030 seconds.\n",
      "F1 score and accuracy score for test set: 0.4328 , 0.4737.\n",
      "\n",
      "Training a RandomForestClassifier using a training set size of 304. . .\n",
      "Trained model in 0.1470 seconds\n",
      "Made predictions in 0.0120 seconds.\n",
      "1.0 1.0\n",
      "F1 score and accuracy score for training set: 1.0000 , 1.0000.\n",
      "Made predictions in 0.0080 seconds.\n",
      "F1 score and accuracy score for test set: 0.5036 , 0.5658.\n"
     ]
    }
   ],
   "source": [
    "train_predict(xgb_model, X_train, y_train, X_test, y_test)\n",
    "print('')\n",
    "train_predict(rf_model, X_train, y_train, X_test, y_test)"
   ],
   "metadata": {
    "collapsed": false,
    "pycharm": {
     "name": "#%%\n"
    }
   }
  },
  {
   "cell_type": "code",
   "execution_count": null,
   "outputs": [],
   "source": [],
   "metadata": {
    "collapsed": false,
    "pycharm": {
     "name": "#%%\n"
    }
   }
  }
 ],
 "metadata": {
  "kernelspec": {
   "display_name": "Python 3",
   "language": "python",
   "name": "python3"
  },
  "language_info": {
   "codemirror_mode": {
    "name": "ipython",
    "version": 2
   },
   "file_extension": ".py",
   "mimetype": "text/x-python",
   "name": "python",
   "nbconvert_exporter": "python",
   "pygments_lexer": "ipython2",
   "version": "2.7.6"
  }
 },
 "nbformat": 4,
 "nbformat_minor": 0
}