{
 "cells": [
  {
   "cell_type": "code",
   "execution_count": 4,
   "metadata": {
    "collapsed": true
   },
   "outputs": [],
   "source": [
    "#import necessary packages\n",
    "import pandas as pd\n",
    "import numpy as np\n",
    "from sklearn.ensemble import RandomForestClassifier\n",
    "import xgboost as xgb\n",
    "from sklearn.model_selection import train_test_split\n",
    "from elosports.elo import Elo\n",
    "import time\n",
    "import matplotlib.pyplot as plt\n",
    "\n"
   ]
  },
  {
   "cell_type": "code",
   "execution_count": 5,
   "outputs": [
    {
     "data": {
      "text/plain": "     Unnamed: 0 Div      Date_x Time_x         HomeTeam        AwayTeam  FTHG  \\\n0             0  E0  2020-09-12  12:30           Fulham         Arsenal     0   \n1             1  E0  2020-09-12  15:00   Crystal Palace     Southampton     1   \n2             2  E0  2020-09-12  17:30        Liverpool    Leeds United     4   \n3             3  E0  2020-09-12  20:00         West Ham   Newcastle Utd     0   \n4             4  E0  2020-09-13  14:00        West Brom  Leicester City     0   \n..          ...  ..         ...    ...              ...             ...   ...   \n375         375  E0  2021-05-23  16:00        Liverpool  Crystal Palace     2   \n376         376  E0  2021-05-23  16:00  Manchester City         Everton     5   \n377         377  E0  2021-05-23  16:00    Sheffield Utd         Burnley     1   \n378         378  E0  2021-05-23  16:00         West Ham     Southampton     3   \n379         379  E0  2021-05-23  16:00           Wolves  Manchester Utd     1   \n\n     FTAG FTR  HTHG  ...  form5GamesDifference         eloH         eloA  \\\n0       3   A     0  ...                     0  1500.000000  1500.000000   \n1       0   H     1  ...                     0  1500.000000  1500.000000   \n2       3   H     3  ...                     0  1500.000000  1500.000000   \n3       2   A     0  ...                     0  1500.000000  1500.000000   \n4       3   A     0  ...                     0  1500.000000  1500.000000   \n..    ...  ..   ...  ...                   ...          ...          ...   \n375     0   H     1  ...                     7  1572.195622  1458.109252   \n376     0   H     2  ...                     0  1629.646004  1521.033816   \n377     0   H     1  ...                     0  1362.194200  1452.510491   \n378     0   H     2  ...                     3  1551.974233  1441.808453   \n379     2   A     1  ...                    -1  1463.871959  1594.689424   \n\n     eloDifference  pointsH  pointsA  pointsDifference       ewmH       ewmA  \\\n0         0.000000        0        0                 0   0.000000   0.000000   \n1         0.000000        0        0                 0   0.000000   0.000000   \n2         0.000000        0        0                 0   0.000000   0.000000   \n3         0.000000        0        0                 0   0.000000   0.000000   \n4         0.000000        0        0                 0   0.000000   0.000000   \n..             ...      ...      ...               ...        ...        ...   \n375     114.086370       66       44                22  55.583420  38.955230   \n376     108.612188       83       59                24  74.762554  51.714922   \n377     -90.316291       20       39               -19  16.142893  35.046032   \n378     110.165781       62       43                19  54.832741  38.529670   \n379    -130.817466       45       71               -26  40.422662  64.232758   \n\n     ewmDifference  \n0         0.000000  \n1         0.000000  \n2         0.000000  \n3         0.000000  \n4         0.000000  \n..             ...  \n375      16.628190  \n376      23.047631  \n377     -18.903139  \n378      16.303071  \n379     -23.810096  \n\n[380 rows x 137 columns]",
      "text/html": "<div>\n<style scoped>\n    .dataframe tbody tr th:only-of-type {\n        vertical-align: middle;\n    }\n\n    .dataframe tbody tr th {\n        vertical-align: top;\n    }\n\n    .dataframe thead th {\n        text-align: right;\n    }\n</style>\n<table border=\"1\" class=\"dataframe\">\n  <thead>\n    <tr style=\"text-align: right;\">\n      <th></th>\n      <th>Unnamed: 0</th>\n      <th>Div</th>\n      <th>Date_x</th>\n      <th>Time_x</th>\n      <th>HomeTeam</th>\n      <th>AwayTeam</th>\n      <th>FTHG</th>\n      <th>FTAG</th>\n      <th>FTR</th>\n      <th>HTHG</th>\n      <th>...</th>\n      <th>form5GamesDifference</th>\n      <th>eloH</th>\n      <th>eloA</th>\n      <th>eloDifference</th>\n      <th>pointsH</th>\n      <th>pointsA</th>\n      <th>pointsDifference</th>\n      <th>ewmH</th>\n      <th>ewmA</th>\n      <th>ewmDifference</th>\n    </tr>\n  </thead>\n  <tbody>\n    <tr>\n      <th>0</th>\n      <td>0</td>\n      <td>E0</td>\n      <td>2020-09-12</td>\n      <td>12:30</td>\n      <td>Fulham</td>\n      <td>Arsenal</td>\n      <td>0</td>\n      <td>3</td>\n      <td>A</td>\n      <td>0</td>\n      <td>...</td>\n      <td>0</td>\n      <td>1500.000000</td>\n      <td>1500.000000</td>\n      <td>0.000000</td>\n      <td>0</td>\n      <td>0</td>\n      <td>0</td>\n      <td>0.000000</td>\n      <td>0.000000</td>\n      <td>0.000000</td>\n    </tr>\n    <tr>\n      <th>1</th>\n      <td>1</td>\n      <td>E0</td>\n      <td>2020-09-12</td>\n      <td>15:00</td>\n      <td>Crystal Palace</td>\n      <td>Southampton</td>\n      <td>1</td>\n      <td>0</td>\n      <td>H</td>\n      <td>1</td>\n      <td>...</td>\n      <td>0</td>\n      <td>1500.000000</td>\n      <td>1500.000000</td>\n      <td>0.000000</td>\n      <td>0</td>\n      <td>0</td>\n      <td>0</td>\n      <td>0.000000</td>\n      <td>0.000000</td>\n      <td>0.000000</td>\n    </tr>\n    <tr>\n      <th>2</th>\n      <td>2</td>\n      <td>E0</td>\n      <td>2020-09-12</td>\n      <td>17:30</td>\n      <td>Liverpool</td>\n      <td>Leeds United</td>\n      <td>4</td>\n      <td>3</td>\n      <td>H</td>\n      <td>3</td>\n      <td>...</td>\n      <td>0</td>\n      <td>1500.000000</td>\n      <td>1500.000000</td>\n      <td>0.000000</td>\n      <td>0</td>\n      <td>0</td>\n      <td>0</td>\n      <td>0.000000</td>\n      <td>0.000000</td>\n      <td>0.000000</td>\n    </tr>\n    <tr>\n      <th>3</th>\n      <td>3</td>\n      <td>E0</td>\n      <td>2020-09-12</td>\n      <td>20:00</td>\n      <td>West Ham</td>\n      <td>Newcastle Utd</td>\n      <td>0</td>\n      <td>2</td>\n      <td>A</td>\n      <td>0</td>\n      <td>...</td>\n      <td>0</td>\n      <td>1500.000000</td>\n      <td>1500.000000</td>\n      <td>0.000000</td>\n      <td>0</td>\n      <td>0</td>\n      <td>0</td>\n      <td>0.000000</td>\n      <td>0.000000</td>\n      <td>0.000000</td>\n    </tr>\n    <tr>\n      <th>4</th>\n      <td>4</td>\n      <td>E0</td>\n      <td>2020-09-13</td>\n      <td>14:00</td>\n      <td>West Brom</td>\n      <td>Leicester City</td>\n      <td>0</td>\n      <td>3</td>\n      <td>A</td>\n      <td>0</td>\n      <td>...</td>\n      <td>0</td>\n      <td>1500.000000</td>\n      <td>1500.000000</td>\n      <td>0.000000</td>\n      <td>0</td>\n      <td>0</td>\n      <td>0</td>\n      <td>0.000000</td>\n      <td>0.000000</td>\n      <td>0.000000</td>\n    </tr>\n    <tr>\n      <th>...</th>\n      <td>...</td>\n      <td>...</td>\n      <td>...</td>\n      <td>...</td>\n      <td>...</td>\n      <td>...</td>\n      <td>...</td>\n      <td>...</td>\n      <td>...</td>\n      <td>...</td>\n      <td>...</td>\n      <td>...</td>\n      <td>...</td>\n      <td>...</td>\n      <td>...</td>\n      <td>...</td>\n      <td>...</td>\n      <td>...</td>\n      <td>...</td>\n      <td>...</td>\n      <td>...</td>\n    </tr>\n    <tr>\n      <th>375</th>\n      <td>375</td>\n      <td>E0</td>\n      <td>2021-05-23</td>\n      <td>16:00</td>\n      <td>Liverpool</td>\n      <td>Crystal Palace</td>\n      <td>2</td>\n      <td>0</td>\n      <td>H</td>\n      <td>1</td>\n      <td>...</td>\n      <td>7</td>\n      <td>1572.195622</td>\n      <td>1458.109252</td>\n      <td>114.086370</td>\n      <td>66</td>\n      <td>44</td>\n      <td>22</td>\n      <td>55.583420</td>\n      <td>38.955230</td>\n      <td>16.628190</td>\n    </tr>\n    <tr>\n      <th>376</th>\n      <td>376</td>\n      <td>E0</td>\n      <td>2021-05-23</td>\n      <td>16:00</td>\n      <td>Manchester City</td>\n      <td>Everton</td>\n      <td>5</td>\n      <td>0</td>\n      <td>H</td>\n      <td>2</td>\n      <td>...</td>\n      <td>0</td>\n      <td>1629.646004</td>\n      <td>1521.033816</td>\n      <td>108.612188</td>\n      <td>83</td>\n      <td>59</td>\n      <td>24</td>\n      <td>74.762554</td>\n      <td>51.714922</td>\n      <td>23.047631</td>\n    </tr>\n    <tr>\n      <th>377</th>\n      <td>377</td>\n      <td>E0</td>\n      <td>2021-05-23</td>\n      <td>16:00</td>\n      <td>Sheffield Utd</td>\n      <td>Burnley</td>\n      <td>1</td>\n      <td>0</td>\n      <td>H</td>\n      <td>1</td>\n      <td>...</td>\n      <td>0</td>\n      <td>1362.194200</td>\n      <td>1452.510491</td>\n      <td>-90.316291</td>\n      <td>20</td>\n      <td>39</td>\n      <td>-19</td>\n      <td>16.142893</td>\n      <td>35.046032</td>\n      <td>-18.903139</td>\n    </tr>\n    <tr>\n      <th>378</th>\n      <td>378</td>\n      <td>E0</td>\n      <td>2021-05-23</td>\n      <td>16:00</td>\n      <td>West Ham</td>\n      <td>Southampton</td>\n      <td>3</td>\n      <td>0</td>\n      <td>H</td>\n      <td>2</td>\n      <td>...</td>\n      <td>3</td>\n      <td>1551.974233</td>\n      <td>1441.808453</td>\n      <td>110.165781</td>\n      <td>62</td>\n      <td>43</td>\n      <td>19</td>\n      <td>54.832741</td>\n      <td>38.529670</td>\n      <td>16.303071</td>\n    </tr>\n    <tr>\n      <th>379</th>\n      <td>379</td>\n      <td>E0</td>\n      <td>2021-05-23</td>\n      <td>16:00</td>\n      <td>Wolves</td>\n      <td>Manchester Utd</td>\n      <td>1</td>\n      <td>2</td>\n      <td>A</td>\n      <td>1</td>\n      <td>...</td>\n      <td>-1</td>\n      <td>1463.871959</td>\n      <td>1594.689424</td>\n      <td>-130.817466</td>\n      <td>45</td>\n      <td>71</td>\n      <td>-26</td>\n      <td>40.422662</td>\n      <td>64.232758</td>\n      <td>-23.810096</td>\n    </tr>\n  </tbody>\n</table>\n<p>380 rows × 137 columns</p>\n</div>"
     },
     "execution_count": 5,
     "metadata": {},
     "output_type": "execute_result"
    }
   ],
   "source": [
    "PL_21_team_ratings = pd.read_csv('PL21_teamratings.csv')\n",
    "PL_21_team_ratings"
   ],
   "metadata": {
    "collapsed": false,
    "pycharm": {
     "name": "#%%\n"
    }
   }
  },
  {
   "cell_type": "code",
   "execution_count": 187,
   "outputs": [],
   "source": [
    "def get_points(team, wk):\n",
    "    for index, row in PL_21_team_ratings.iterrows():\n",
    "        #print(row[['HomeTeam','Wk']])\n",
    "        if row['Wk'] == wk and row['HomeTeam'] == team:\n",
    "            if row['FTR'] == 'H':\n",
    "                return 3\n",
    "            elif row['FTR'] == 'D':\n",
    "                return 1\n",
    "            else: return 0\n",
    "        if row['Wk'] == wk and row['AwayTeam'] == team:\n",
    "            if row['FTR'] == 'A':\n",
    "                return 3\n",
    "            elif row['FTR'] == 'D':\n",
    "                return 1\n",
    "            else: return 0\n",
    "\n",
    "def get_stats(team, wk, stat):\n",
    "    for index, row in PL_21_team_ratings.iterrows():\n",
    "        #print(row[['HomeTeam','Wk']])\n",
    "        if row['Wk'] == wk and row['HomeTeam'] == team:\n",
    "            if stat == 'goals':\n",
    "                return row['FTHG']\n",
    "            elif stat == 'shots':\n",
    "                return row['HST']\n",
    "            elif stat == 'corners':\n",
    "                return row['HC']\n",
    "        elif row['Wk'] == wk and row['AwayTeam'] == team:\n",
    "            if stat == 'goals':\n",
    "                return row['FTAG']\n",
    "            elif stat == 'shots':\n",
    "                return row['AST']\n",
    "            elif stat == 'corners':\n",
    "                return row['AC']\n",
    "            return row[stat]\n",
    "\n",
    "\n",
    "def get_points_season(team, fr, to):\n",
    "    out = 0\n",
    "    for i in range(fr,to):\n",
    "        out = out + get_points(team, i)\n",
    "    return out\n",
    "\n",
    "def get_stats_season(team, fr, to, category):\n",
    "    out = 0\n",
    "    for i in range(fr,to):\n",
    "        out = out + get_stats(team, i, category)\n",
    "    return out\n",
    "\n",
    "def get_ewm_season(team, fr, to):\n",
    "    test = []\n",
    "    out = 0\n",
    "    PL_21_team_ratings2 = pd.Series(test)\n",
    "    if fr == to: return 0\n",
    "    for i in range(fr,to):\n",
    "        out = out + get_points(team, i)\n",
    "        test.append(out)\n",
    "        df=pd.Series(test)\n",
    "        df2 = df.ewm(span=10).mean()[len(df)-1]\n",
    "    #print(df2.dtype)\n",
    "#    if df2.empty: return 0\n",
    "    return df2\n",
    "\n",
    "\n",
    "def append_form(timespan):\n",
    "    formH = []\n",
    "    formA = []\n",
    "    for index, row in PL_21_team_ratings.iterrows():\n",
    "        wk = row['Wk']\n",
    "        teamH = row['HomeTeam']\n",
    "        teamA = row['AwayTeam']\n",
    "        if int(wk) - timespan < 1:\n",
    "            pointsH = get_points_season(teamH, 1, int(wk))\n",
    "            pointsA = get_points_season(teamA, 1, int(wk))\n",
    "        else:\n",
    "            pointsH = get_points_season(teamH, int(wk)-timespan, int(wk))\n",
    "            pointsA = get_points_season(teamA, int(wk)-timespan, int(wk))\n",
    "        formH.append(pointsH)\n",
    "        formA.append(pointsA)\n",
    "    PL_21_team_ratings['pointsH'] = formH\n",
    "    PL_21_team_ratings['pointsA'] = formA\n",
    "\n",
    "def append_ewm(timespan):\n",
    "    formH = []\n",
    "    formA = []\n",
    "    for index, row in PL_21_team_ratings.iterrows():\n",
    "        wk = row['Wk']\n",
    "        teamH = row['HomeTeam']\n",
    "        teamA = row['AwayTeam']\n",
    "        if int(wk) - timespan < 1:\n",
    "            pointsH = get_ewm_season(teamH, 1, int(wk))\n",
    "            pointsA = get_ewm_season(teamA, 1, int(wk))\n",
    "        else:\n",
    "            pointsH = get_ewm_season(teamH, int(wk)-timespan, int(wk))\n",
    "            pointsA = get_ewm_season(teamA, int(wk)-timespan, int(wk))\n",
    "        formH.append(pointsH)\n",
    "        formA.append(pointsA)\n",
    "    PL_21_team_ratings['ewmH'] = formH\n",
    "    PL_21_team_ratings['ewmA'] = formA\n",
    "\n",
    "def append_stats(timespan):\n",
    "    goals_h = []\n",
    "    goals_A = []\n",
    "    shots_H = []\n",
    "    shots_A = []\n",
    "    corners_H = []\n",
    "    corners_A = []\n",
    "\n",
    "    for index, row in PL_21_team_ratings.iterrows():\n",
    "        wk = row['Wk']\n",
    "        teamH = row['HomeTeam']\n",
    "        teamA = row['AwayTeam']\n",
    "        if int(wk) - timespan < 1:\n",
    "            goalsH = get_stats_season(teamH, 1, int(wk), 'goals')\n",
    "            shotsH = get_stats_season(teamH, 1, int(wk), 'shots')\n",
    "            cornersH = get_stats_season(teamH, 1, int(wk), 'corners')\n",
    "            goalsA = get_stats_season(teamA, 1, int(wk), 'goals')\n",
    "            shotsA = get_stats_season(teamA, 1, int(wk), 'shots')\n",
    "            cornersA = get_stats_season(teamA, 1, int(wk), 'corners')\n",
    "\n",
    "        else:\n",
    "            goalsH = get_stats_season(teamH, int(wk)-timespan, int(wk), 'goals')\n",
    "            shotsH = get_stats_season(teamH, int(wk)-timespan, int(wk), 'shots')\n",
    "            cornersH = get_stats_season(teamH, int(wk)-timespan, int(wk), 'corners')\n",
    "            goalsA = get_stats_season(teamA, int(wk)-timespan, int(wk), 'goals')\n",
    "            shotsA = get_stats_season(teamA, int(wk)-timespan, int(wk), 'shots')\n",
    "            cornersA = get_stats_season(teamA, int(wk)-timespan, int(wk), 'corners')\n",
    "\n",
    "\n",
    "        goals_h.append(goalsH)\n",
    "        goals_A.append(goalsA)\n",
    "        shots_H.append(shotsH)\n",
    "        shots_A.append(shotsA)\n",
    "        corners_H.append(cornersH)\n",
    "        corners_A.append(cornersA)\n",
    "    PL_21_team_ratings['goalsH'] = goals_h\n",
    "    PL_21_team_ratings['goalsA'] = goals_A\n",
    "    PL_21_team_ratings['shotsH'] = shots_H\n",
    "    PL_21_team_ratings['shotsA'] = shots_A\n",
    "    PL_21_team_ratings['cornersH'] = corners_H\n",
    "    PL_21_team_ratings['cornersA'] = corners_A\n",
    "\n",
    "#get_ewm_season('Liverpool', 1, 3)\n",
    "#print(get_ewm_season('Liverpool', 1, 1))\n",
    "\n",
    "#for i in range(1,20):\n",
    "#    print( get_ewm_season('Liverpool',1,i))\n",
    "#append_ewm(39)\n",
    "#PL_21_team_ratings\n",
    "#get_stats('Arsenal', 1, 'goals')\n",
    "append_stats(6)\n",
    "\n",
    "\n",
    "\n",
    "\n"
   ],
   "metadata": {
    "collapsed": false,
    "pycharm": {
     "name": "#%%\n"
    }
   }
  },
  {
   "cell_type": "code",
   "execution_count": 189,
   "outputs": [
    {
     "data": {
      "text/plain": "     Unnamed: 0.1  Unnamed: 0 Div      Date_x Time_x         HomeTeam  \\\n0               0           0  E0  2020-09-12  12:30           Fulham   \n1               1           1  E0  2020-09-12  15:00   Crystal Palace   \n2               2           2  E0  2020-09-12  17:30        Liverpool   \n3               3           3  E0  2020-09-12  20:00         West Ham   \n4               4           4  E0  2020-09-13  14:00        West Brom   \n..            ...         ...  ..         ...    ...              ...   \n375           375         375  E0  2021-05-23  16:00        Liverpool   \n376           376         376  E0  2021-05-23  16:00  Manchester City   \n377           377         377  E0  2021-05-23  16:00    Sheffield Utd   \n378           378         378  E0  2021-05-23  16:00         West Ham   \n379           379         379  E0  2021-05-23  16:00           Wolves   \n\n           AwayTeam  FTHG  FTAG FTR  ...  identifier  goalsH goalsA shotsH  \\\n0           Arsenal     0     3   A  ...           1       0      0      0   \n1       Southampton     1     0   H  ...           0       0      0      0   \n2      Leeds United     4     3   H  ...           0       0      0      0   \n3     Newcastle Utd     0     2   A  ...           1       0      0      0   \n4    Leicester City     0     3   A  ...           1       0      0      0   \n..              ...   ...   ...  ..  ...         ...     ...    ...    ...   \n375  Crystal Palace     2     0   H  ...           0      13      8     39   \n376         Everton     5     0   H  ...           0      16      6     30   \n377         Burnley     1     0   H  ...           0       2      8     10   \n378     Southampton     3     0   H  ...           0       8      9     24   \n379  Manchester Utd     1     2   A  ...           1       4     10     29   \n\n     shotsA  cornersH  cornersA  goalsDifference  shotsDifference  \\\n0         0         0         0                0                0   \n1         0         0         0                0                0   \n2         0         0         0                0                0   \n3         0         0         0                0                0   \n4         0         0         0                0                0   \n..      ...       ...       ...              ...              ...   \n375      32        46        36                5                7   \n376      24        36        36               10                6   \n377      26        22        29               -6              -16   \n378      31        32        31               -1               -7   \n379      30        42        35               -6               -1   \n\n     cornersDifference  \n0                    0  \n1                    0  \n2                    0  \n3                    0  \n4                    0  \n..                 ...  \n375                 10  \n376                  0  \n377                 -7  \n378                  1  \n379                  7  \n\n[380 rows x 153 columns]",
      "text/html": "<div>\n<style scoped>\n    .dataframe tbody tr th:only-of-type {\n        vertical-align: middle;\n    }\n\n    .dataframe tbody tr th {\n        vertical-align: top;\n    }\n\n    .dataframe thead th {\n        text-align: right;\n    }\n</style>\n<table border=\"1\" class=\"dataframe\">\n  <thead>\n    <tr style=\"text-align: right;\">\n      <th></th>\n      <th>Unnamed: 0.1</th>\n      <th>Unnamed: 0</th>\n      <th>Div</th>\n      <th>Date_x</th>\n      <th>Time_x</th>\n      <th>HomeTeam</th>\n      <th>AwayTeam</th>\n      <th>FTHG</th>\n      <th>FTAG</th>\n      <th>FTR</th>\n      <th>...</th>\n      <th>identifier</th>\n      <th>goalsH</th>\n      <th>goalsA</th>\n      <th>shotsH</th>\n      <th>shotsA</th>\n      <th>cornersH</th>\n      <th>cornersA</th>\n      <th>goalsDifference</th>\n      <th>shotsDifference</th>\n      <th>cornersDifference</th>\n    </tr>\n  </thead>\n  <tbody>\n    <tr>\n      <th>0</th>\n      <td>0</td>\n      <td>0</td>\n      <td>E0</td>\n      <td>2020-09-12</td>\n      <td>12:30</td>\n      <td>Fulham</td>\n      <td>Arsenal</td>\n      <td>0</td>\n      <td>3</td>\n      <td>A</td>\n      <td>...</td>\n      <td>1</td>\n      <td>0</td>\n      <td>0</td>\n      <td>0</td>\n      <td>0</td>\n      <td>0</td>\n      <td>0</td>\n      <td>0</td>\n      <td>0</td>\n      <td>0</td>\n    </tr>\n    <tr>\n      <th>1</th>\n      <td>1</td>\n      <td>1</td>\n      <td>E0</td>\n      <td>2020-09-12</td>\n      <td>15:00</td>\n      <td>Crystal Palace</td>\n      <td>Southampton</td>\n      <td>1</td>\n      <td>0</td>\n      <td>H</td>\n      <td>...</td>\n      <td>0</td>\n      <td>0</td>\n      <td>0</td>\n      <td>0</td>\n      <td>0</td>\n      <td>0</td>\n      <td>0</td>\n      <td>0</td>\n      <td>0</td>\n      <td>0</td>\n    </tr>\n    <tr>\n      <th>2</th>\n      <td>2</td>\n      <td>2</td>\n      <td>E0</td>\n      <td>2020-09-12</td>\n      <td>17:30</td>\n      <td>Liverpool</td>\n      <td>Leeds United</td>\n      <td>4</td>\n      <td>3</td>\n      <td>H</td>\n      <td>...</td>\n      <td>0</td>\n      <td>0</td>\n      <td>0</td>\n      <td>0</td>\n      <td>0</td>\n      <td>0</td>\n      <td>0</td>\n      <td>0</td>\n      <td>0</td>\n      <td>0</td>\n    </tr>\n    <tr>\n      <th>3</th>\n      <td>3</td>\n      <td>3</td>\n      <td>E0</td>\n      <td>2020-09-12</td>\n      <td>20:00</td>\n      <td>West Ham</td>\n      <td>Newcastle Utd</td>\n      <td>0</td>\n      <td>2</td>\n      <td>A</td>\n      <td>...</td>\n      <td>1</td>\n      <td>0</td>\n      <td>0</td>\n      <td>0</td>\n      <td>0</td>\n      <td>0</td>\n      <td>0</td>\n      <td>0</td>\n      <td>0</td>\n      <td>0</td>\n    </tr>\n    <tr>\n      <th>4</th>\n      <td>4</td>\n      <td>4</td>\n      <td>E0</td>\n      <td>2020-09-13</td>\n      <td>14:00</td>\n      <td>West Brom</td>\n      <td>Leicester City</td>\n      <td>0</td>\n      <td>3</td>\n      <td>A</td>\n      <td>...</td>\n      <td>1</td>\n      <td>0</td>\n      <td>0</td>\n      <td>0</td>\n      <td>0</td>\n      <td>0</td>\n      <td>0</td>\n      <td>0</td>\n      <td>0</td>\n      <td>0</td>\n    </tr>\n    <tr>\n      <th>...</th>\n      <td>...</td>\n      <td>...</td>\n      <td>...</td>\n      <td>...</td>\n      <td>...</td>\n      <td>...</td>\n      <td>...</td>\n      <td>...</td>\n      <td>...</td>\n      <td>...</td>\n      <td>...</td>\n      <td>...</td>\n      <td>...</td>\n      <td>...</td>\n      <td>...</td>\n      <td>...</td>\n      <td>...</td>\n      <td>...</td>\n      <td>...</td>\n      <td>...</td>\n      <td>...</td>\n    </tr>\n    <tr>\n      <th>375</th>\n      <td>375</td>\n      <td>375</td>\n      <td>E0</td>\n      <td>2021-05-23</td>\n      <td>16:00</td>\n      <td>Liverpool</td>\n      <td>Crystal Palace</td>\n      <td>2</td>\n      <td>0</td>\n      <td>H</td>\n      <td>...</td>\n      <td>0</td>\n      <td>13</td>\n      <td>8</td>\n      <td>39</td>\n      <td>32</td>\n      <td>46</td>\n      <td>36</td>\n      <td>5</td>\n      <td>7</td>\n      <td>10</td>\n    </tr>\n    <tr>\n      <th>376</th>\n      <td>376</td>\n      <td>376</td>\n      <td>E0</td>\n      <td>2021-05-23</td>\n      <td>16:00</td>\n      <td>Manchester City</td>\n      <td>Everton</td>\n      <td>5</td>\n      <td>0</td>\n      <td>H</td>\n      <td>...</td>\n      <td>0</td>\n      <td>16</td>\n      <td>6</td>\n      <td>30</td>\n      <td>24</td>\n      <td>36</td>\n      <td>36</td>\n      <td>10</td>\n      <td>6</td>\n      <td>0</td>\n    </tr>\n    <tr>\n      <th>377</th>\n      <td>377</td>\n      <td>377</td>\n      <td>E0</td>\n      <td>2021-05-23</td>\n      <td>16:00</td>\n      <td>Sheffield Utd</td>\n      <td>Burnley</td>\n      <td>1</td>\n      <td>0</td>\n      <td>H</td>\n      <td>...</td>\n      <td>0</td>\n      <td>2</td>\n      <td>8</td>\n      <td>10</td>\n      <td>26</td>\n      <td>22</td>\n      <td>29</td>\n      <td>-6</td>\n      <td>-16</td>\n      <td>-7</td>\n    </tr>\n    <tr>\n      <th>378</th>\n      <td>378</td>\n      <td>378</td>\n      <td>E0</td>\n      <td>2021-05-23</td>\n      <td>16:00</td>\n      <td>West Ham</td>\n      <td>Southampton</td>\n      <td>3</td>\n      <td>0</td>\n      <td>H</td>\n      <td>...</td>\n      <td>0</td>\n      <td>8</td>\n      <td>9</td>\n      <td>24</td>\n      <td>31</td>\n      <td>32</td>\n      <td>31</td>\n      <td>-1</td>\n      <td>-7</td>\n      <td>1</td>\n    </tr>\n    <tr>\n      <th>379</th>\n      <td>379</td>\n      <td>379</td>\n      <td>E0</td>\n      <td>2021-05-23</td>\n      <td>16:00</td>\n      <td>Wolves</td>\n      <td>Manchester Utd</td>\n      <td>1</td>\n      <td>2</td>\n      <td>A</td>\n      <td>...</td>\n      <td>1</td>\n      <td>4</td>\n      <td>10</td>\n      <td>29</td>\n      <td>30</td>\n      <td>42</td>\n      <td>35</td>\n      <td>-6</td>\n      <td>-1</td>\n      <td>7</td>\n    </tr>\n  </tbody>\n</table>\n<p>380 rows × 153 columns</p>\n</div>"
     },
     "execution_count": 189,
     "metadata": {},
     "output_type": "execute_result"
    }
   ],
   "source": [
    "PL_21_team_ratings['goalsDifference'] = PL_21_team_ratings['goalsH'] - PL_21_team_ratings['goalsA']\n",
    "PL_21_team_ratings\n",
    "\n",
    "PL_21_team_ratings['shotsDifference'] = PL_21_team_ratings['shotsH'] - PL_21_team_ratings['shotsA']\n",
    "PL_21_team_ratings\n",
    "\n",
    "PL_21_team_ratings['cornersDifference'] = PL_21_team_ratings['cornersH'] - PL_21_team_ratings['cornersA']\n",
    "PL_21_team_ratings"
   ],
   "metadata": {
    "collapsed": false,
    "pycharm": {
     "name": "#%%\n"
    }
   }
  },
  {
   "cell_type": "code",
   "execution_count": 6,
   "outputs": [
    {
     "data": {
      "text/plain": "     Unnamed: 0 Div      Date_x Time_x         HomeTeam        AwayTeam  FTHG  \\\n0             0  E0  2020-09-12  12:30           Fulham         Arsenal     0   \n1             1  E0  2020-09-12  15:00   Crystal Palace     Southampton     1   \n2             2  E0  2020-09-12  17:30        Liverpool    Leeds United     4   \n3             3  E0  2020-09-12  20:00         West Ham   Newcastle Utd     0   \n4             4  E0  2020-09-13  14:00        West Brom  Leicester City     0   \n..          ...  ..         ...    ...              ...             ...   ...   \n375         375  E0  2021-05-23  16:00        Liverpool  Crystal Palace     2   \n376         376  E0  2021-05-23  16:00  Manchester City         Everton     5   \n377         377  E0  2021-05-23  16:00    Sheffield Utd         Burnley     1   \n378         378  E0  2021-05-23  16:00         West Ham     Southampton     3   \n379         379  E0  2021-05-23  16:00           Wolves  Manchester Utd     1   \n\n     FTAG FTR  HTHG  ...  form5GamesDifference         eloH         eloA  \\\n0       3   A     0  ...                     0  1500.000000  1500.000000   \n1       0   H     1  ...                     0  1500.000000  1500.000000   \n2       3   H     3  ...                     0  1500.000000  1500.000000   \n3       2   A     0  ...                     0  1500.000000  1500.000000   \n4       3   A     0  ...                     0  1500.000000  1500.000000   \n..    ...  ..   ...  ...                   ...          ...          ...   \n375     0   H     1  ...                     7  1572.195622  1458.109252   \n376     0   H     2  ...                     0  1629.646004  1521.033816   \n377     0   H     1  ...                     0  1362.194200  1452.510491   \n378     0   H     2  ...                     3  1551.974233  1441.808453   \n379     2   A     1  ...                    -1  1463.871959  1594.689424   \n\n     eloDifference  pointsH  pointsA  pointsDifference       ewmH       ewmA  \\\n0         0.000000        0        0                 0   0.000000   0.000000   \n1         0.000000        0        0                 0   0.000000   0.000000   \n2         0.000000        0        0                 0   0.000000   0.000000   \n3         0.000000        0        0                 0   0.000000   0.000000   \n4         0.000000        0        0                 0   0.000000   0.000000   \n..             ...      ...      ...               ...        ...        ...   \n375     114.086370       66       44                22  55.583420  38.955230   \n376     108.612188       83       59                24  74.762554  51.714922   \n377     -90.316291       20       39               -19  16.142893  35.046032   \n378     110.165781       62       43                19  54.832741  38.529670   \n379    -130.817466       45       71               -26  40.422662  64.232758   \n\n     ewmDifference  \n0         0.000000  \n1         0.000000  \n2         0.000000  \n3         0.000000  \n4         0.000000  \n..             ...  \n375      16.628190  \n376      23.047631  \n377     -18.903139  \n378      16.303071  \n379     -23.810096  \n\n[380 rows x 137 columns]",
      "text/html": "<div>\n<style scoped>\n    .dataframe tbody tr th:only-of-type {\n        vertical-align: middle;\n    }\n\n    .dataframe tbody tr th {\n        vertical-align: top;\n    }\n\n    .dataframe thead th {\n        text-align: right;\n    }\n</style>\n<table border=\"1\" class=\"dataframe\">\n  <thead>\n    <tr style=\"text-align: right;\">\n      <th></th>\n      <th>Unnamed: 0</th>\n      <th>Div</th>\n      <th>Date_x</th>\n      <th>Time_x</th>\n      <th>HomeTeam</th>\n      <th>AwayTeam</th>\n      <th>FTHG</th>\n      <th>FTAG</th>\n      <th>FTR</th>\n      <th>HTHG</th>\n      <th>...</th>\n      <th>form5GamesDifference</th>\n      <th>eloH</th>\n      <th>eloA</th>\n      <th>eloDifference</th>\n      <th>pointsH</th>\n      <th>pointsA</th>\n      <th>pointsDifference</th>\n      <th>ewmH</th>\n      <th>ewmA</th>\n      <th>ewmDifference</th>\n    </tr>\n  </thead>\n  <tbody>\n    <tr>\n      <th>0</th>\n      <td>0</td>\n      <td>E0</td>\n      <td>2020-09-12</td>\n      <td>12:30</td>\n      <td>Fulham</td>\n      <td>Arsenal</td>\n      <td>0</td>\n      <td>3</td>\n      <td>A</td>\n      <td>0</td>\n      <td>...</td>\n      <td>0</td>\n      <td>1500.000000</td>\n      <td>1500.000000</td>\n      <td>0.000000</td>\n      <td>0</td>\n      <td>0</td>\n      <td>0</td>\n      <td>0.000000</td>\n      <td>0.000000</td>\n      <td>0.000000</td>\n    </tr>\n    <tr>\n      <th>1</th>\n      <td>1</td>\n      <td>E0</td>\n      <td>2020-09-12</td>\n      <td>15:00</td>\n      <td>Crystal Palace</td>\n      <td>Southampton</td>\n      <td>1</td>\n      <td>0</td>\n      <td>H</td>\n      <td>1</td>\n      <td>...</td>\n      <td>0</td>\n      <td>1500.000000</td>\n      <td>1500.000000</td>\n      <td>0.000000</td>\n      <td>0</td>\n      <td>0</td>\n      <td>0</td>\n      <td>0.000000</td>\n      <td>0.000000</td>\n      <td>0.000000</td>\n    </tr>\n    <tr>\n      <th>2</th>\n      <td>2</td>\n      <td>E0</td>\n      <td>2020-09-12</td>\n      <td>17:30</td>\n      <td>Liverpool</td>\n      <td>Leeds United</td>\n      <td>4</td>\n      <td>3</td>\n      <td>H</td>\n      <td>3</td>\n      <td>...</td>\n      <td>0</td>\n      <td>1500.000000</td>\n      <td>1500.000000</td>\n      <td>0.000000</td>\n      <td>0</td>\n      <td>0</td>\n      <td>0</td>\n      <td>0.000000</td>\n      <td>0.000000</td>\n      <td>0.000000</td>\n    </tr>\n    <tr>\n      <th>3</th>\n      <td>3</td>\n      <td>E0</td>\n      <td>2020-09-12</td>\n      <td>20:00</td>\n      <td>West Ham</td>\n      <td>Newcastle Utd</td>\n      <td>0</td>\n      <td>2</td>\n      <td>A</td>\n      <td>0</td>\n      <td>...</td>\n      <td>0</td>\n      <td>1500.000000</td>\n      <td>1500.000000</td>\n      <td>0.000000</td>\n      <td>0</td>\n      <td>0</td>\n      <td>0</td>\n      <td>0.000000</td>\n      <td>0.000000</td>\n      <td>0.000000</td>\n    </tr>\n    <tr>\n      <th>4</th>\n      <td>4</td>\n      <td>E0</td>\n      <td>2020-09-13</td>\n      <td>14:00</td>\n      <td>West Brom</td>\n      <td>Leicester City</td>\n      <td>0</td>\n      <td>3</td>\n      <td>A</td>\n      <td>0</td>\n      <td>...</td>\n      <td>0</td>\n      <td>1500.000000</td>\n      <td>1500.000000</td>\n      <td>0.000000</td>\n      <td>0</td>\n      <td>0</td>\n      <td>0</td>\n      <td>0.000000</td>\n      <td>0.000000</td>\n      <td>0.000000</td>\n    </tr>\n    <tr>\n      <th>...</th>\n      <td>...</td>\n      <td>...</td>\n      <td>...</td>\n      <td>...</td>\n      <td>...</td>\n      <td>...</td>\n      <td>...</td>\n      <td>...</td>\n      <td>...</td>\n      <td>...</td>\n      <td>...</td>\n      <td>...</td>\n      <td>...</td>\n      <td>...</td>\n      <td>...</td>\n      <td>...</td>\n      <td>...</td>\n      <td>...</td>\n      <td>...</td>\n      <td>...</td>\n      <td>...</td>\n    </tr>\n    <tr>\n      <th>375</th>\n      <td>375</td>\n      <td>E0</td>\n      <td>2021-05-23</td>\n      <td>16:00</td>\n      <td>Liverpool</td>\n      <td>Crystal Palace</td>\n      <td>2</td>\n      <td>0</td>\n      <td>H</td>\n      <td>1</td>\n      <td>...</td>\n      <td>7</td>\n      <td>1572.195622</td>\n      <td>1458.109252</td>\n      <td>114.086370</td>\n      <td>66</td>\n      <td>44</td>\n      <td>22</td>\n      <td>55.583420</td>\n      <td>38.955230</td>\n      <td>16.628190</td>\n    </tr>\n    <tr>\n      <th>376</th>\n      <td>376</td>\n      <td>E0</td>\n      <td>2021-05-23</td>\n      <td>16:00</td>\n      <td>Manchester City</td>\n      <td>Everton</td>\n      <td>5</td>\n      <td>0</td>\n      <td>H</td>\n      <td>2</td>\n      <td>...</td>\n      <td>0</td>\n      <td>1629.646004</td>\n      <td>1521.033816</td>\n      <td>108.612188</td>\n      <td>83</td>\n      <td>59</td>\n      <td>24</td>\n      <td>74.762554</td>\n      <td>51.714922</td>\n      <td>23.047631</td>\n    </tr>\n    <tr>\n      <th>377</th>\n      <td>377</td>\n      <td>E0</td>\n      <td>2021-05-23</td>\n      <td>16:00</td>\n      <td>Sheffield Utd</td>\n      <td>Burnley</td>\n      <td>1</td>\n      <td>0</td>\n      <td>H</td>\n      <td>1</td>\n      <td>...</td>\n      <td>0</td>\n      <td>1362.194200</td>\n      <td>1452.510491</td>\n      <td>-90.316291</td>\n      <td>20</td>\n      <td>39</td>\n      <td>-19</td>\n      <td>16.142893</td>\n      <td>35.046032</td>\n      <td>-18.903139</td>\n    </tr>\n    <tr>\n      <th>378</th>\n      <td>378</td>\n      <td>E0</td>\n      <td>2021-05-23</td>\n      <td>16:00</td>\n      <td>West Ham</td>\n      <td>Southampton</td>\n      <td>3</td>\n      <td>0</td>\n      <td>H</td>\n      <td>2</td>\n      <td>...</td>\n      <td>3</td>\n      <td>1551.974233</td>\n      <td>1441.808453</td>\n      <td>110.165781</td>\n      <td>62</td>\n      <td>43</td>\n      <td>19</td>\n      <td>54.832741</td>\n      <td>38.529670</td>\n      <td>16.303071</td>\n    </tr>\n    <tr>\n      <th>379</th>\n      <td>379</td>\n      <td>E0</td>\n      <td>2021-05-23</td>\n      <td>16:00</td>\n      <td>Wolves</td>\n      <td>Manchester Utd</td>\n      <td>1</td>\n      <td>2</td>\n      <td>A</td>\n      <td>1</td>\n      <td>...</td>\n      <td>-1</td>\n      <td>1463.871959</td>\n      <td>1594.689424</td>\n      <td>-130.817466</td>\n      <td>45</td>\n      <td>71</td>\n      <td>-26</td>\n      <td>40.422662</td>\n      <td>64.232758</td>\n      <td>-23.810096</td>\n    </tr>\n  </tbody>\n</table>\n<p>380 rows × 137 columns</p>\n</div>"
     },
     "execution_count": 6,
     "metadata": {},
     "output_type": "execute_result"
    }
   ],
   "source": [
    "PL_21_team_ratings['ewmDifference'] = PL_21_team_ratings['ewmH'] - PL_21_team_ratings['ewmA']\n",
    "PL_21_team_ratings"
   ],
   "metadata": {
    "collapsed": false,
    "pycharm": {
     "name": "#%%\n"
    }
   }
  },
  {
   "cell_type": "code",
   "execution_count": 6,
   "outputs": [],
   "source": [
    "#Elo Rating 2\n",
    "def expected_result(loc,aw):\n",
    "    dr=loc-aw\n",
    "    we=(1/(10**(-dr/400)+1))\n",
    "    return [np.round(we,3),1-np.round(we,3)]\n",
    "\n",
    "def actual_result(loc,aw):\n",
    "    if loc<aw:\n",
    "        wa=1\n",
    "        wl=0\n",
    "    elif loc>aw:\n",
    "        wa=0\n",
    "        wl=1\n",
    "    elif loc==aw:\n",
    "        wa=0.5\n",
    "        wl=0.5\n",
    "    return [wl,wa]\n",
    "\n",
    "def calculate_elo(elo_l,elo_v,local_goals,away_goals,k_value):\n",
    "\n",
    "    k=k_value\n",
    "    wl,wv=actual_result(local_goals,away_goals)\n",
    "    wel,wev=expected_result(elo_l,elo_v)\n",
    "\n",
    "    elo_ln=elo_l+k*(wl-wel)\n",
    "    elo_vn=elo_v+k*(wv-wev)\n",
    "\n",
    "    return elo_ln,elo_vn"
   ],
   "metadata": {
    "collapsed": false,
    "pycharm": {
     "name": "#%%\n"
    }
   }
  },
  {
   "cell_type": "code",
   "execution_count": 9,
   "outputs": [
    {
     "data": {
      "text/plain": "     Unnamed: 0 Div      Date_x Time_x         HomeTeam        AwayTeam  FTHG  \\\n0             0  E0  2020-09-12  12:30           Fulham         Arsenal     0   \n1             1  E0  2020-09-12  15:00   Crystal Palace     Southampton     1   \n2             2  E0  2020-09-12  17:30        Liverpool    Leeds United     4   \n3             3  E0  2020-09-12  20:00         West Ham   Newcastle Utd     0   \n4             4  E0  2020-09-13  14:00        West Brom  Leicester City     0   \n..          ...  ..         ...    ...              ...             ...   ...   \n375         375  E0  2021-05-23  16:00        Liverpool  Crystal Palace     2   \n376         376  E0  2021-05-23  16:00  Manchester City         Everton     5   \n377         377  E0  2021-05-23  16:00    Sheffield Utd         Burnley     1   \n378         378  E0  2021-05-23  16:00         West Ham     Southampton     3   \n379         379  E0  2021-05-23  16:00           Wolves  Manchester Utd     1   \n\n     FTAG FTR  HTHG  ...  form5GamesDifference         eloH         eloA  \\\n0       3   A     0  ...                     0  1500.000000  1500.000000   \n1       0   H     1  ...                     0  1500.000000  1500.000000   \n2       3   H     3  ...                     0  1500.000000  1500.000000   \n3       2   A     0  ...                     0  1500.000000  1500.000000   \n4       3   A     0  ...                     0  1500.000000  1500.000000   \n..    ...  ..   ...  ...                   ...          ...          ...   \n375     0   H     1  ...                     7  1572.195622  1458.109252   \n376     0   H     2  ...                     0  1629.646004  1521.033816   \n377     0   H     1  ...                     0  1362.194200  1452.510491   \n378     0   H     2  ...                     3  1551.974233  1441.808453   \n379     2   A     1  ...                    -1  1463.871959  1594.689424   \n\n     eloDifference  pointsH  pointsA  pointsDifference       ewmH       ewmA  \\\n0         0.000000        0        0                 0   0.000000   0.000000   \n1         0.000000        0        0                 0   0.000000   0.000000   \n2         0.000000        0        0                 0   0.000000   0.000000   \n3         0.000000        0        0                 0   0.000000   0.000000   \n4         0.000000        0        0                 0   0.000000   0.000000   \n..             ...      ...      ...               ...        ...        ...   \n375     114.086370       66       44                22  55.583420  38.955230   \n376     108.612188       83       59                24  74.762554  51.714922   \n377     -90.316291       20       39               -19  16.142893  35.046032   \n378     110.165781       62       43                19  54.832741  38.529670   \n379    -130.817466       45       71               -26  40.422662  64.232758   \n\n     ewmDifference  \n0         0.000000  \n1         0.000000  \n2         0.000000  \n3         0.000000  \n4         0.000000  \n..             ...  \n375      16.628190  \n376      23.047631  \n377     -18.903139  \n378      16.303071  \n379     -23.810096  \n\n[380 rows x 137 columns]",
      "text/html": "<div>\n<style scoped>\n    .dataframe tbody tr th:only-of-type {\n        vertical-align: middle;\n    }\n\n    .dataframe tbody tr th {\n        vertical-align: top;\n    }\n\n    .dataframe thead th {\n        text-align: right;\n    }\n</style>\n<table border=\"1\" class=\"dataframe\">\n  <thead>\n    <tr style=\"text-align: right;\">\n      <th></th>\n      <th>Unnamed: 0</th>\n      <th>Div</th>\n      <th>Date_x</th>\n      <th>Time_x</th>\n      <th>HomeTeam</th>\n      <th>AwayTeam</th>\n      <th>FTHG</th>\n      <th>FTAG</th>\n      <th>FTR</th>\n      <th>HTHG</th>\n      <th>...</th>\n      <th>form5GamesDifference</th>\n      <th>eloH</th>\n      <th>eloA</th>\n      <th>eloDifference</th>\n      <th>pointsH</th>\n      <th>pointsA</th>\n      <th>pointsDifference</th>\n      <th>ewmH</th>\n      <th>ewmA</th>\n      <th>ewmDifference</th>\n    </tr>\n  </thead>\n  <tbody>\n    <tr>\n      <th>0</th>\n      <td>0</td>\n      <td>E0</td>\n      <td>2020-09-12</td>\n      <td>12:30</td>\n      <td>Fulham</td>\n      <td>Arsenal</td>\n      <td>0</td>\n      <td>3</td>\n      <td>A</td>\n      <td>0</td>\n      <td>...</td>\n      <td>0</td>\n      <td>1500.000000</td>\n      <td>1500.000000</td>\n      <td>0.000000</td>\n      <td>0</td>\n      <td>0</td>\n      <td>0</td>\n      <td>0.000000</td>\n      <td>0.000000</td>\n      <td>0.000000</td>\n    </tr>\n    <tr>\n      <th>1</th>\n      <td>1</td>\n      <td>E0</td>\n      <td>2020-09-12</td>\n      <td>15:00</td>\n      <td>Crystal Palace</td>\n      <td>Southampton</td>\n      <td>1</td>\n      <td>0</td>\n      <td>H</td>\n      <td>1</td>\n      <td>...</td>\n      <td>0</td>\n      <td>1500.000000</td>\n      <td>1500.000000</td>\n      <td>0.000000</td>\n      <td>0</td>\n      <td>0</td>\n      <td>0</td>\n      <td>0.000000</td>\n      <td>0.000000</td>\n      <td>0.000000</td>\n    </tr>\n    <tr>\n      <th>2</th>\n      <td>2</td>\n      <td>E0</td>\n      <td>2020-09-12</td>\n      <td>17:30</td>\n      <td>Liverpool</td>\n      <td>Leeds United</td>\n      <td>4</td>\n      <td>3</td>\n      <td>H</td>\n      <td>3</td>\n      <td>...</td>\n      <td>0</td>\n      <td>1500.000000</td>\n      <td>1500.000000</td>\n      <td>0.000000</td>\n      <td>0</td>\n      <td>0</td>\n      <td>0</td>\n      <td>0.000000</td>\n      <td>0.000000</td>\n      <td>0.000000</td>\n    </tr>\n    <tr>\n      <th>3</th>\n      <td>3</td>\n      <td>E0</td>\n      <td>2020-09-12</td>\n      <td>20:00</td>\n      <td>West Ham</td>\n      <td>Newcastle Utd</td>\n      <td>0</td>\n      <td>2</td>\n      <td>A</td>\n      <td>0</td>\n      <td>...</td>\n      <td>0</td>\n      <td>1500.000000</td>\n      <td>1500.000000</td>\n      <td>0.000000</td>\n      <td>0</td>\n      <td>0</td>\n      <td>0</td>\n      <td>0.000000</td>\n      <td>0.000000</td>\n      <td>0.000000</td>\n    </tr>\n    <tr>\n      <th>4</th>\n      <td>4</td>\n      <td>E0</td>\n      <td>2020-09-13</td>\n      <td>14:00</td>\n      <td>West Brom</td>\n      <td>Leicester City</td>\n      <td>0</td>\n      <td>3</td>\n      <td>A</td>\n      <td>0</td>\n      <td>...</td>\n      <td>0</td>\n      <td>1500.000000</td>\n      <td>1500.000000</td>\n      <td>0.000000</td>\n      <td>0</td>\n      <td>0</td>\n      <td>0</td>\n      <td>0.000000</td>\n      <td>0.000000</td>\n      <td>0.000000</td>\n    </tr>\n    <tr>\n      <th>...</th>\n      <td>...</td>\n      <td>...</td>\n      <td>...</td>\n      <td>...</td>\n      <td>...</td>\n      <td>...</td>\n      <td>...</td>\n      <td>...</td>\n      <td>...</td>\n      <td>...</td>\n      <td>...</td>\n      <td>...</td>\n      <td>...</td>\n      <td>...</td>\n      <td>...</td>\n      <td>...</td>\n      <td>...</td>\n      <td>...</td>\n      <td>...</td>\n      <td>...</td>\n      <td>...</td>\n    </tr>\n    <tr>\n      <th>375</th>\n      <td>375</td>\n      <td>E0</td>\n      <td>2021-05-23</td>\n      <td>16:00</td>\n      <td>Liverpool</td>\n      <td>Crystal Palace</td>\n      <td>2</td>\n      <td>0</td>\n      <td>H</td>\n      <td>1</td>\n      <td>...</td>\n      <td>7</td>\n      <td>1572.195622</td>\n      <td>1458.109252</td>\n      <td>114.086370</td>\n      <td>66</td>\n      <td>44</td>\n      <td>22</td>\n      <td>55.583420</td>\n      <td>38.955230</td>\n      <td>16.628190</td>\n    </tr>\n    <tr>\n      <th>376</th>\n      <td>376</td>\n      <td>E0</td>\n      <td>2021-05-23</td>\n      <td>16:00</td>\n      <td>Manchester City</td>\n      <td>Everton</td>\n      <td>5</td>\n      <td>0</td>\n      <td>H</td>\n      <td>2</td>\n      <td>...</td>\n      <td>0</td>\n      <td>1629.646004</td>\n      <td>1521.033816</td>\n      <td>108.612188</td>\n      <td>83</td>\n      <td>59</td>\n      <td>24</td>\n      <td>74.762554</td>\n      <td>51.714922</td>\n      <td>23.047631</td>\n    </tr>\n    <tr>\n      <th>377</th>\n      <td>377</td>\n      <td>E0</td>\n      <td>2021-05-23</td>\n      <td>16:00</td>\n      <td>Sheffield Utd</td>\n      <td>Burnley</td>\n      <td>1</td>\n      <td>0</td>\n      <td>H</td>\n      <td>1</td>\n      <td>...</td>\n      <td>0</td>\n      <td>1362.194200</td>\n      <td>1452.510491</td>\n      <td>-90.316291</td>\n      <td>20</td>\n      <td>39</td>\n      <td>-19</td>\n      <td>16.142893</td>\n      <td>35.046032</td>\n      <td>-18.903139</td>\n    </tr>\n    <tr>\n      <th>378</th>\n      <td>378</td>\n      <td>E0</td>\n      <td>2021-05-23</td>\n      <td>16:00</td>\n      <td>West Ham</td>\n      <td>Southampton</td>\n      <td>3</td>\n      <td>0</td>\n      <td>H</td>\n      <td>2</td>\n      <td>...</td>\n      <td>3</td>\n      <td>1551.974233</td>\n      <td>1441.808453</td>\n      <td>110.165781</td>\n      <td>62</td>\n      <td>43</td>\n      <td>19</td>\n      <td>54.832741</td>\n      <td>38.529670</td>\n      <td>16.303071</td>\n    </tr>\n    <tr>\n      <th>379</th>\n      <td>379</td>\n      <td>E0</td>\n      <td>2021-05-23</td>\n      <td>16:00</td>\n      <td>Wolves</td>\n      <td>Manchester Utd</td>\n      <td>1</td>\n      <td>2</td>\n      <td>A</td>\n      <td>1</td>\n      <td>...</td>\n      <td>-1</td>\n      <td>1463.871959</td>\n      <td>1594.689424</td>\n      <td>-130.817466</td>\n      <td>45</td>\n      <td>71</td>\n      <td>-26</td>\n      <td>40.422662</td>\n      <td>64.232758</td>\n      <td>-23.810096</td>\n    </tr>\n  </tbody>\n</table>\n<p>380 rows × 137 columns</p>\n</div>"
     },
     "execution_count": 9,
     "metadata": {},
     "output_type": "execute_result"
    }
   ],
   "source": [
    "PL_21_team_ratings"
   ],
   "metadata": {
    "collapsed": false,
    "pycharm": {
     "name": "#%%\n"
    }
   }
  },
  {
   "cell_type": "code",
   "execution_count": 158,
   "outputs": [],
   "source": [
    "current_elo={}\n",
    "for idx,row in PL_21_team_ratings.iterrows():\n",
    "\n",
    "    local=row['HomeTeam']\n",
    "    away=row['AwayTeam']\n",
    "    local_goals=row['FTHG']\n",
    "    away_goals=row['FTAG']\n",
    "    #tournament = row['tournament']\n",
    "\n",
    "\n",
    "    if local not in current_elo.keys():\n",
    "        current_elo[local]=1400\n",
    "\n",
    "    if away not in current_elo.keys():\n",
    "        current_elo[away]=1400\n",
    "\n",
    "    elo_l=current_elo[local]\n",
    "    elo_v=current_elo[away]\n",
    "    elo_ln,elo_vn=calculate_elo(elo_l,elo_v,local_goals,away_goals,30)\n",
    "\n",
    "    current_elo[local]=elo_ln\n",
    "    current_elo[away]=elo_vn\n",
    "\n",
    "    PL_21_team_ratings.loc[idx,'Elo_h_after']=elo_ln\n",
    "    PL_21_team_ratings.loc[idx,'Elo_a_after']=elo_vn\n",
    "    PL_21_team_ratings.loc[idx,'Elo_h_before']=elo_l\n",
    "    PL_21_team_ratings.loc[idx,'Elo_a_before']=elo_v"
   ],
   "metadata": {
    "collapsed": false,
    "pycharm": {
     "name": "#%%\n"
    }
   }
  },
  {
   "cell_type": "code",
   "execution_count": 159,
   "outputs": [
    {
     "data": {
      "text/plain": "     Unnamed: 0.1  Unnamed: 0 Div      Date_x Time_x         HomeTeam  \\\n0               0           0  E0  2020-09-12  12:30           Fulham   \n1               1           1  E0  2020-09-12  15:00   Crystal Palace   \n2               2           2  E0  2020-09-12  17:30        Liverpool   \n3               3           3  E0  2020-09-12  20:00         West Ham   \n4               4           4  E0  2020-09-13  14:00        West Brom   \n..            ...         ...  ..         ...    ...              ...   \n375           375         375  E0  2021-05-23  16:00        Liverpool   \n376           376         376  E0  2021-05-23  16:00  Manchester City   \n377           377         377  E0  2021-05-23  16:00    Sheffield Utd   \n378           378         378  E0  2021-05-23  16:00         West Ham   \n379           379         379  E0  2021-05-23  16:00           Wolves   \n\n           AwayTeam  FTHG  FTAG FTR  ...  pointsDifference       ewmH  \\\n0           Arsenal     0     3   A  ...                 0   0.000000   \n1       Southampton     1     0   H  ...                 0   0.000000   \n2      Leeds United     4     3   H  ...                 0   0.000000   \n3     Newcastle Utd     0     2   A  ...                 0   0.000000   \n4    Leicester City     0     3   A  ...                 0   0.000000   \n..              ...   ...   ...  ..  ...               ...        ...   \n375  Crystal Palace     2     0   H  ...                22  55.583420   \n376         Everton     5     0   H  ...                24  74.762554   \n377         Burnley     1     0   H  ...               -19  16.142893   \n378     Southampton     3     0   H  ...                19  54.832741   \n379  Manchester Utd     1     2   A  ...               -26  40.422662   \n\n          ewmA ewmDifference  Elo_h_after  Elo_a_after  Elo_h_before  \\\n0     0.000000      0.000000      1385.00      1415.00       1400.00   \n1     0.000000      0.000000      1415.00      1385.00       1400.00   \n2     0.000000      0.000000      1415.00      1385.00       1400.00   \n3     0.000000      0.000000      1385.00      1415.00       1400.00   \n4     0.000000      0.000000      1385.00      1415.00       1400.00   \n..         ...           ...          ...          ...           ...   \n375  38.955230     16.628190      1491.89      1339.73       1482.38   \n376  51.714922     23.047631      1559.36      1408.70       1549.79   \n377  35.046032    -18.903139      1258.16      1320.86       1238.90   \n378  38.529670     16.303071      1460.00      1320.08       1449.98   \n379  64.232758    -23.810096      1343.72      1511.60       1352.60   \n\n     Elo_a_before  elo_difference  identifier  \n0         1400.00            0.00           1  \n1         1400.00            0.00           0  \n2         1400.00            0.00           0  \n3         1400.00            0.00           1  \n4         1400.00            0.00           1  \n..            ...             ...         ...  \n375       1349.24          133.14           0  \n376       1418.27          131.52           0  \n377       1340.12         -101.22           0  \n378       1330.10          119.88           0  \n379       1502.72         -150.12           1  \n\n[380 rows x 144 columns]",
      "text/html": "<div>\n<style scoped>\n    .dataframe tbody tr th:only-of-type {\n        vertical-align: middle;\n    }\n\n    .dataframe tbody tr th {\n        vertical-align: top;\n    }\n\n    .dataframe thead th {\n        text-align: right;\n    }\n</style>\n<table border=\"1\" class=\"dataframe\">\n  <thead>\n    <tr style=\"text-align: right;\">\n      <th></th>\n      <th>Unnamed: 0.1</th>\n      <th>Unnamed: 0</th>\n      <th>Div</th>\n      <th>Date_x</th>\n      <th>Time_x</th>\n      <th>HomeTeam</th>\n      <th>AwayTeam</th>\n      <th>FTHG</th>\n      <th>FTAG</th>\n      <th>FTR</th>\n      <th>...</th>\n      <th>pointsDifference</th>\n      <th>ewmH</th>\n      <th>ewmA</th>\n      <th>ewmDifference</th>\n      <th>Elo_h_after</th>\n      <th>Elo_a_after</th>\n      <th>Elo_h_before</th>\n      <th>Elo_a_before</th>\n      <th>elo_difference</th>\n      <th>identifier</th>\n    </tr>\n  </thead>\n  <tbody>\n    <tr>\n      <th>0</th>\n      <td>0</td>\n      <td>0</td>\n      <td>E0</td>\n      <td>2020-09-12</td>\n      <td>12:30</td>\n      <td>Fulham</td>\n      <td>Arsenal</td>\n      <td>0</td>\n      <td>3</td>\n      <td>A</td>\n      <td>...</td>\n      <td>0</td>\n      <td>0.000000</td>\n      <td>0.000000</td>\n      <td>0.000000</td>\n      <td>1385.00</td>\n      <td>1415.00</td>\n      <td>1400.00</td>\n      <td>1400.00</td>\n      <td>0.00</td>\n      <td>1</td>\n    </tr>\n    <tr>\n      <th>1</th>\n      <td>1</td>\n      <td>1</td>\n      <td>E0</td>\n      <td>2020-09-12</td>\n      <td>15:00</td>\n      <td>Crystal Palace</td>\n      <td>Southampton</td>\n      <td>1</td>\n      <td>0</td>\n      <td>H</td>\n      <td>...</td>\n      <td>0</td>\n      <td>0.000000</td>\n      <td>0.000000</td>\n      <td>0.000000</td>\n      <td>1415.00</td>\n      <td>1385.00</td>\n      <td>1400.00</td>\n      <td>1400.00</td>\n      <td>0.00</td>\n      <td>0</td>\n    </tr>\n    <tr>\n      <th>2</th>\n      <td>2</td>\n      <td>2</td>\n      <td>E0</td>\n      <td>2020-09-12</td>\n      <td>17:30</td>\n      <td>Liverpool</td>\n      <td>Leeds United</td>\n      <td>4</td>\n      <td>3</td>\n      <td>H</td>\n      <td>...</td>\n      <td>0</td>\n      <td>0.000000</td>\n      <td>0.000000</td>\n      <td>0.000000</td>\n      <td>1415.00</td>\n      <td>1385.00</td>\n      <td>1400.00</td>\n      <td>1400.00</td>\n      <td>0.00</td>\n      <td>0</td>\n    </tr>\n    <tr>\n      <th>3</th>\n      <td>3</td>\n      <td>3</td>\n      <td>E0</td>\n      <td>2020-09-12</td>\n      <td>20:00</td>\n      <td>West Ham</td>\n      <td>Newcastle Utd</td>\n      <td>0</td>\n      <td>2</td>\n      <td>A</td>\n      <td>...</td>\n      <td>0</td>\n      <td>0.000000</td>\n      <td>0.000000</td>\n      <td>0.000000</td>\n      <td>1385.00</td>\n      <td>1415.00</td>\n      <td>1400.00</td>\n      <td>1400.00</td>\n      <td>0.00</td>\n      <td>1</td>\n    </tr>\n    <tr>\n      <th>4</th>\n      <td>4</td>\n      <td>4</td>\n      <td>E0</td>\n      <td>2020-09-13</td>\n      <td>14:00</td>\n      <td>West Brom</td>\n      <td>Leicester City</td>\n      <td>0</td>\n      <td>3</td>\n      <td>A</td>\n      <td>...</td>\n      <td>0</td>\n      <td>0.000000</td>\n      <td>0.000000</td>\n      <td>0.000000</td>\n      <td>1385.00</td>\n      <td>1415.00</td>\n      <td>1400.00</td>\n      <td>1400.00</td>\n      <td>0.00</td>\n      <td>1</td>\n    </tr>\n    <tr>\n      <th>...</th>\n      <td>...</td>\n      <td>...</td>\n      <td>...</td>\n      <td>...</td>\n      <td>...</td>\n      <td>...</td>\n      <td>...</td>\n      <td>...</td>\n      <td>...</td>\n      <td>...</td>\n      <td>...</td>\n      <td>...</td>\n      <td>...</td>\n      <td>...</td>\n      <td>...</td>\n      <td>...</td>\n      <td>...</td>\n      <td>...</td>\n      <td>...</td>\n      <td>...</td>\n      <td>...</td>\n    </tr>\n    <tr>\n      <th>375</th>\n      <td>375</td>\n      <td>375</td>\n      <td>E0</td>\n      <td>2021-05-23</td>\n      <td>16:00</td>\n      <td>Liverpool</td>\n      <td>Crystal Palace</td>\n      <td>2</td>\n      <td>0</td>\n      <td>H</td>\n      <td>...</td>\n      <td>22</td>\n      <td>55.583420</td>\n      <td>38.955230</td>\n      <td>16.628190</td>\n      <td>1491.89</td>\n      <td>1339.73</td>\n      <td>1482.38</td>\n      <td>1349.24</td>\n      <td>133.14</td>\n      <td>0</td>\n    </tr>\n    <tr>\n      <th>376</th>\n      <td>376</td>\n      <td>376</td>\n      <td>E0</td>\n      <td>2021-05-23</td>\n      <td>16:00</td>\n      <td>Manchester City</td>\n      <td>Everton</td>\n      <td>5</td>\n      <td>0</td>\n      <td>H</td>\n      <td>...</td>\n      <td>24</td>\n      <td>74.762554</td>\n      <td>51.714922</td>\n      <td>23.047631</td>\n      <td>1559.36</td>\n      <td>1408.70</td>\n      <td>1549.79</td>\n      <td>1418.27</td>\n      <td>131.52</td>\n      <td>0</td>\n    </tr>\n    <tr>\n      <th>377</th>\n      <td>377</td>\n      <td>377</td>\n      <td>E0</td>\n      <td>2021-05-23</td>\n      <td>16:00</td>\n      <td>Sheffield Utd</td>\n      <td>Burnley</td>\n      <td>1</td>\n      <td>0</td>\n      <td>H</td>\n      <td>...</td>\n      <td>-19</td>\n      <td>16.142893</td>\n      <td>35.046032</td>\n      <td>-18.903139</td>\n      <td>1258.16</td>\n      <td>1320.86</td>\n      <td>1238.90</td>\n      <td>1340.12</td>\n      <td>-101.22</td>\n      <td>0</td>\n    </tr>\n    <tr>\n      <th>378</th>\n      <td>378</td>\n      <td>378</td>\n      <td>E0</td>\n      <td>2021-05-23</td>\n      <td>16:00</td>\n      <td>West Ham</td>\n      <td>Southampton</td>\n      <td>3</td>\n      <td>0</td>\n      <td>H</td>\n      <td>...</td>\n      <td>19</td>\n      <td>54.832741</td>\n      <td>38.529670</td>\n      <td>16.303071</td>\n      <td>1460.00</td>\n      <td>1320.08</td>\n      <td>1449.98</td>\n      <td>1330.10</td>\n      <td>119.88</td>\n      <td>0</td>\n    </tr>\n    <tr>\n      <th>379</th>\n      <td>379</td>\n      <td>379</td>\n      <td>E0</td>\n      <td>2021-05-23</td>\n      <td>16:00</td>\n      <td>Wolves</td>\n      <td>Manchester Utd</td>\n      <td>1</td>\n      <td>2</td>\n      <td>A</td>\n      <td>...</td>\n      <td>-26</td>\n      <td>40.422662</td>\n      <td>64.232758</td>\n      <td>-23.810096</td>\n      <td>1343.72</td>\n      <td>1511.60</td>\n      <td>1352.60</td>\n      <td>1502.72</td>\n      <td>-150.12</td>\n      <td>1</td>\n    </tr>\n  </tbody>\n</table>\n<p>380 rows × 144 columns</p>\n</div>"
     },
     "execution_count": 159,
     "metadata": {},
     "output_type": "execute_result"
    }
   ],
   "source": [
    "PL_21_team_ratings['elo_difference'] = PL_21_team_ratings['Elo_h_before'] - PL_21_team_ratings['Elo_a_before']\n",
    "PL_21_team_ratings"
   ],
   "metadata": {
    "collapsed": false,
    "pycharm": {
     "name": "#%%\n"
    }
   }
  },
  {
   "cell_type": "code",
   "execution_count": 160,
   "outputs": [
    {
     "name": "stderr",
     "output_type": "stream",
     "text": [
      "C:\\Users\\giuli\\AppData\\Local\\Temp\\ipykernel_47328\\676894385.py:1: FutureWarning: The frame.append method is deprecated and will be removed from pandas in a future version. Use pandas.concat instead.\n",
      "  elos=PL_21_team_ratings[['Date_x','HomeTeam','Elo_h_after']].rename(columns={'home_team':'Team','Elo_h_after':'Elo'}).append(PL_21_team_ratings[['Date_x','AwayTeam','Elo_a_after']].rename(columns={'away_team':'Team','Elo_a_after':'Elo'}))\n"
     ]
    },
    {
     "data": {
      "text/plain": "         Date_x        HomeTeam      Elo        AwayTeam\n0    2020-09-12          Fulham  1385.00             NaN\n1    2020-09-12  Crystal Palace  1415.00             NaN\n2    2020-09-12       Liverpool  1415.00             NaN\n3    2020-09-12        West Ham  1385.00             NaN\n4    2020-09-13       West Brom  1385.00             NaN\n..          ...             ...      ...             ...\n375  2021-05-23             NaN  1339.73  Crystal Palace\n376  2021-05-23             NaN  1408.70         Everton\n377  2021-05-23             NaN  1320.86         Burnley\n378  2021-05-23             NaN  1320.08     Southampton\n379  2021-05-23             NaN  1511.60  Manchester Utd\n\n[760 rows x 4 columns]",
      "text/html": "<div>\n<style scoped>\n    .dataframe tbody tr th:only-of-type {\n        vertical-align: middle;\n    }\n\n    .dataframe tbody tr th {\n        vertical-align: top;\n    }\n\n    .dataframe thead th {\n        text-align: right;\n    }\n</style>\n<table border=\"1\" class=\"dataframe\">\n  <thead>\n    <tr style=\"text-align: right;\">\n      <th></th>\n      <th>Date_x</th>\n      <th>HomeTeam</th>\n      <th>Elo</th>\n      <th>AwayTeam</th>\n    </tr>\n  </thead>\n  <tbody>\n    <tr>\n      <th>0</th>\n      <td>2020-09-12</td>\n      <td>Fulham</td>\n      <td>1385.00</td>\n      <td>NaN</td>\n    </tr>\n    <tr>\n      <th>1</th>\n      <td>2020-09-12</td>\n      <td>Crystal Palace</td>\n      <td>1415.00</td>\n      <td>NaN</td>\n    </tr>\n    <tr>\n      <th>2</th>\n      <td>2020-09-12</td>\n      <td>Liverpool</td>\n      <td>1415.00</td>\n      <td>NaN</td>\n    </tr>\n    <tr>\n      <th>3</th>\n      <td>2020-09-12</td>\n      <td>West Ham</td>\n      <td>1385.00</td>\n      <td>NaN</td>\n    </tr>\n    <tr>\n      <th>4</th>\n      <td>2020-09-13</td>\n      <td>West Brom</td>\n      <td>1385.00</td>\n      <td>NaN</td>\n    </tr>\n    <tr>\n      <th>...</th>\n      <td>...</td>\n      <td>...</td>\n      <td>...</td>\n      <td>...</td>\n    </tr>\n    <tr>\n      <th>375</th>\n      <td>2021-05-23</td>\n      <td>NaN</td>\n      <td>1339.73</td>\n      <td>Crystal Palace</td>\n    </tr>\n    <tr>\n      <th>376</th>\n      <td>2021-05-23</td>\n      <td>NaN</td>\n      <td>1408.70</td>\n      <td>Everton</td>\n    </tr>\n    <tr>\n      <th>377</th>\n      <td>2021-05-23</td>\n      <td>NaN</td>\n      <td>1320.86</td>\n      <td>Burnley</td>\n    </tr>\n    <tr>\n      <th>378</th>\n      <td>2021-05-23</td>\n      <td>NaN</td>\n      <td>1320.08</td>\n      <td>Southampton</td>\n    </tr>\n    <tr>\n      <th>379</th>\n      <td>2021-05-23</td>\n      <td>NaN</td>\n      <td>1511.60</td>\n      <td>Manchester Utd</td>\n    </tr>\n  </tbody>\n</table>\n<p>760 rows × 4 columns</p>\n</div>"
     },
     "execution_count": 160,
     "metadata": {},
     "output_type": "execute_result"
    }
   ],
   "source": [
    "elos=PL_21_team_ratings[['Date_x','HomeTeam','Elo_h_after']].rename(columns={'home_team':'Team','Elo_h_after':'Elo'}).append(PL_21_team_ratings[['Date_x','AwayTeam','Elo_a_after']].rename(columns={'away_team':'Team','Elo_a_after':'Elo'}))\n",
    "elos"
   ],
   "metadata": {
    "collapsed": false,
    "pycharm": {
     "name": "#%%\n"
    }
   }
  },
  {
   "cell_type": "code",
   "execution_count": 190,
   "outputs": [],
   "source": [
    "PL_21_team_ratings.to_csv('PL21_teamratings.csv')"
   ],
   "metadata": {
    "collapsed": false,
    "pycharm": {
     "name": "#%%\n"
    }
   }
  },
  {
   "cell_type": "code",
   "execution_count": 135,
   "outputs": [
    {
     "data": {
      "text/plain": "     Unnamed: 0.1  Unnamed: 0 Div      Date_x Time_x         HomeTeam  \\\n0               0           0  E0  2020-09-12  12:30           Fulham   \n1               1           1  E0  2020-09-12  15:00   Crystal Palace   \n2               2           2  E0  2020-09-12  17:30        Liverpool   \n3               3           3  E0  2020-09-12  20:00         West Ham   \n4               4           4  E0  2020-09-13  14:00        West Brom   \n..            ...         ...  ..         ...    ...              ...   \n375           375         375  E0  2021-05-23  16:00        Liverpool   \n376           376         376  E0  2021-05-23  16:00  Manchester City   \n377           377         377  E0  2021-05-23  16:00    Sheffield Utd   \n378           378         378  E0  2021-05-23  16:00         West Ham   \n379           379         379  E0  2021-05-23  16:00           Wolves   \n\n           AwayTeam  FTHG  FTAG FTR  ...  pointsA  pointsDifference  \\\n0           Arsenal     0     3   A  ...        0                 0   \n1       Southampton     1     0   H  ...        0                 0   \n2      Leeds United     4     3   H  ...        0                 0   \n3     Newcastle Utd     0     2   A  ...        0                 0   \n4    Leicester City     0     3   A  ...        0                 0   \n..              ...   ...   ...  ..  ...      ...               ...   \n375  Crystal Palace     2     0   H  ...       44                22   \n376         Everton     5     0   H  ...       59                24   \n377         Burnley     1     0   H  ...       39               -19   \n378     Southampton     3     0   H  ...       43                19   \n379  Manchester Utd     1     2   A  ...       71               -26   \n\n          ewmH       ewmA  ewmDifference  Elo_h_after  Elo_a_after  \\\n0     0.000000   0.000000       0.000000      1490.00      1510.00   \n1     0.000000   0.000000       0.000000      1510.00      1490.00   \n2     0.000000   0.000000       0.000000      1510.00      1490.00   \n3     0.000000   0.000000       0.000000      1490.00      1510.00   \n4     0.000000   0.000000       0.000000      1490.00      1510.00   \n..         ...        ...            ...          ...          ...   \n375  55.583420  38.955230      16.628190      1570.88      1454.64   \n376  74.762554  51.714922      23.047631      1630.34      1512.52   \n377  16.142893  35.046032     -18.903139      1378.74      1439.46   \n378  54.832741  38.529670      16.303071      1549.68      1441.04   \n379  40.422662  64.232758     -23.810096      1459.56      1592.08   \n\n     Elo_h_before  Elo_a_before  elo_difference  \n0         1500.00       1500.00            0.00  \n1         1500.00       1500.00            0.00  \n2         1500.00       1500.00            0.00  \n3         1500.00       1500.00            0.00  \n4         1500.00       1500.00            0.00  \n..            ...           ...             ...  \n375       1563.74       1461.78          101.96  \n376       1623.24       1519.62          103.62  \n377       1366.32       1451.88          -85.56  \n378       1542.32       1448.40           93.92  \n379       1466.26       1585.38         -119.12  \n\n[380 rows x 143 columns]",
      "text/html": "<div>\n<style scoped>\n    .dataframe tbody tr th:only-of-type {\n        vertical-align: middle;\n    }\n\n    .dataframe tbody tr th {\n        vertical-align: top;\n    }\n\n    .dataframe thead th {\n        text-align: right;\n    }\n</style>\n<table border=\"1\" class=\"dataframe\">\n  <thead>\n    <tr style=\"text-align: right;\">\n      <th></th>\n      <th>Unnamed: 0.1</th>\n      <th>Unnamed: 0</th>\n      <th>Div</th>\n      <th>Date_x</th>\n      <th>Time_x</th>\n      <th>HomeTeam</th>\n      <th>AwayTeam</th>\n      <th>FTHG</th>\n      <th>FTAG</th>\n      <th>FTR</th>\n      <th>...</th>\n      <th>pointsA</th>\n      <th>pointsDifference</th>\n      <th>ewmH</th>\n      <th>ewmA</th>\n      <th>ewmDifference</th>\n      <th>Elo_h_after</th>\n      <th>Elo_a_after</th>\n      <th>Elo_h_before</th>\n      <th>Elo_a_before</th>\n      <th>elo_difference</th>\n    </tr>\n  </thead>\n  <tbody>\n    <tr>\n      <th>0</th>\n      <td>0</td>\n      <td>0</td>\n      <td>E0</td>\n      <td>2020-09-12</td>\n      <td>12:30</td>\n      <td>Fulham</td>\n      <td>Arsenal</td>\n      <td>0</td>\n      <td>3</td>\n      <td>A</td>\n      <td>...</td>\n      <td>0</td>\n      <td>0</td>\n      <td>0.000000</td>\n      <td>0.000000</td>\n      <td>0.000000</td>\n      <td>1490.00</td>\n      <td>1510.00</td>\n      <td>1500.00</td>\n      <td>1500.00</td>\n      <td>0.00</td>\n    </tr>\n    <tr>\n      <th>1</th>\n      <td>1</td>\n      <td>1</td>\n      <td>E0</td>\n      <td>2020-09-12</td>\n      <td>15:00</td>\n      <td>Crystal Palace</td>\n      <td>Southampton</td>\n      <td>1</td>\n      <td>0</td>\n      <td>H</td>\n      <td>...</td>\n      <td>0</td>\n      <td>0</td>\n      <td>0.000000</td>\n      <td>0.000000</td>\n      <td>0.000000</td>\n      <td>1510.00</td>\n      <td>1490.00</td>\n      <td>1500.00</td>\n      <td>1500.00</td>\n      <td>0.00</td>\n    </tr>\n    <tr>\n      <th>2</th>\n      <td>2</td>\n      <td>2</td>\n      <td>E0</td>\n      <td>2020-09-12</td>\n      <td>17:30</td>\n      <td>Liverpool</td>\n      <td>Leeds United</td>\n      <td>4</td>\n      <td>3</td>\n      <td>H</td>\n      <td>...</td>\n      <td>0</td>\n      <td>0</td>\n      <td>0.000000</td>\n      <td>0.000000</td>\n      <td>0.000000</td>\n      <td>1510.00</td>\n      <td>1490.00</td>\n      <td>1500.00</td>\n      <td>1500.00</td>\n      <td>0.00</td>\n    </tr>\n    <tr>\n      <th>3</th>\n      <td>3</td>\n      <td>3</td>\n      <td>E0</td>\n      <td>2020-09-12</td>\n      <td>20:00</td>\n      <td>West Ham</td>\n      <td>Newcastle Utd</td>\n      <td>0</td>\n      <td>2</td>\n      <td>A</td>\n      <td>...</td>\n      <td>0</td>\n      <td>0</td>\n      <td>0.000000</td>\n      <td>0.000000</td>\n      <td>0.000000</td>\n      <td>1490.00</td>\n      <td>1510.00</td>\n      <td>1500.00</td>\n      <td>1500.00</td>\n      <td>0.00</td>\n    </tr>\n    <tr>\n      <th>4</th>\n      <td>4</td>\n      <td>4</td>\n      <td>E0</td>\n      <td>2020-09-13</td>\n      <td>14:00</td>\n      <td>West Brom</td>\n      <td>Leicester City</td>\n      <td>0</td>\n      <td>3</td>\n      <td>A</td>\n      <td>...</td>\n      <td>0</td>\n      <td>0</td>\n      <td>0.000000</td>\n      <td>0.000000</td>\n      <td>0.000000</td>\n      <td>1490.00</td>\n      <td>1510.00</td>\n      <td>1500.00</td>\n      <td>1500.00</td>\n      <td>0.00</td>\n    </tr>\n    <tr>\n      <th>...</th>\n      <td>...</td>\n      <td>...</td>\n      <td>...</td>\n      <td>...</td>\n      <td>...</td>\n      <td>...</td>\n      <td>...</td>\n      <td>...</td>\n      <td>...</td>\n      <td>...</td>\n      <td>...</td>\n      <td>...</td>\n      <td>...</td>\n      <td>...</td>\n      <td>...</td>\n      <td>...</td>\n      <td>...</td>\n      <td>...</td>\n      <td>...</td>\n      <td>...</td>\n      <td>...</td>\n    </tr>\n    <tr>\n      <th>375</th>\n      <td>375</td>\n      <td>375</td>\n      <td>E0</td>\n      <td>2021-05-23</td>\n      <td>16:00</td>\n      <td>Liverpool</td>\n      <td>Crystal Palace</td>\n      <td>2</td>\n      <td>0</td>\n      <td>H</td>\n      <td>...</td>\n      <td>44</td>\n      <td>22</td>\n      <td>55.583420</td>\n      <td>38.955230</td>\n      <td>16.628190</td>\n      <td>1570.88</td>\n      <td>1454.64</td>\n      <td>1563.74</td>\n      <td>1461.78</td>\n      <td>101.96</td>\n    </tr>\n    <tr>\n      <th>376</th>\n      <td>376</td>\n      <td>376</td>\n      <td>E0</td>\n      <td>2021-05-23</td>\n      <td>16:00</td>\n      <td>Manchester City</td>\n      <td>Everton</td>\n      <td>5</td>\n      <td>0</td>\n      <td>H</td>\n      <td>...</td>\n      <td>59</td>\n      <td>24</td>\n      <td>74.762554</td>\n      <td>51.714922</td>\n      <td>23.047631</td>\n      <td>1630.34</td>\n      <td>1512.52</td>\n      <td>1623.24</td>\n      <td>1519.62</td>\n      <td>103.62</td>\n    </tr>\n    <tr>\n      <th>377</th>\n      <td>377</td>\n      <td>377</td>\n      <td>E0</td>\n      <td>2021-05-23</td>\n      <td>16:00</td>\n      <td>Sheffield Utd</td>\n      <td>Burnley</td>\n      <td>1</td>\n      <td>0</td>\n      <td>H</td>\n      <td>...</td>\n      <td>39</td>\n      <td>-19</td>\n      <td>16.142893</td>\n      <td>35.046032</td>\n      <td>-18.903139</td>\n      <td>1378.74</td>\n      <td>1439.46</td>\n      <td>1366.32</td>\n      <td>1451.88</td>\n      <td>-85.56</td>\n    </tr>\n    <tr>\n      <th>378</th>\n      <td>378</td>\n      <td>378</td>\n      <td>E0</td>\n      <td>2021-05-23</td>\n      <td>16:00</td>\n      <td>West Ham</td>\n      <td>Southampton</td>\n      <td>3</td>\n      <td>0</td>\n      <td>H</td>\n      <td>...</td>\n      <td>43</td>\n      <td>19</td>\n      <td>54.832741</td>\n      <td>38.529670</td>\n      <td>16.303071</td>\n      <td>1549.68</td>\n      <td>1441.04</td>\n      <td>1542.32</td>\n      <td>1448.40</td>\n      <td>93.92</td>\n    </tr>\n    <tr>\n      <th>379</th>\n      <td>379</td>\n      <td>379</td>\n      <td>E0</td>\n      <td>2021-05-23</td>\n      <td>16:00</td>\n      <td>Wolves</td>\n      <td>Manchester Utd</td>\n      <td>1</td>\n      <td>2</td>\n      <td>A</td>\n      <td>...</td>\n      <td>71</td>\n      <td>-26</td>\n      <td>40.422662</td>\n      <td>64.232758</td>\n      <td>-23.810096</td>\n      <td>1459.56</td>\n      <td>1592.08</td>\n      <td>1466.26</td>\n      <td>1585.38</td>\n      <td>-119.12</td>\n    </tr>\n  </tbody>\n</table>\n<p>380 rows × 143 columns</p>\n</div>"
     },
     "execution_count": 135,
     "metadata": {},
     "output_type": "execute_result"
    }
   ],
   "source": [
    "PL_21_team_ratings = pd.read_csv('PL21_teamratings.csv')\n",
    "PL_21_team_ratings"
   ],
   "metadata": {
    "collapsed": false,
    "pycharm": {
     "name": "#%%\n"
    }
   }
  },
  {
   "cell_type": "code",
   "execution_count": 191,
   "outputs": [],
   "source": [
    "#add column for H A X\n",
    "conditions = [\n",
    "    (PL_21_team_ratings['FTR'] == 'H'),\n",
    "    (PL_21_team_ratings['FTR'] == 'A'),\n",
    "    (PL_21_team_ratings['FTR'] == 'D')]\n",
    "choices = [0, 1, 2]\n",
    "PL_21_team_ratings['identifier'] = np.select(conditions, choices)\n",
    "#PL_21_team_ratings.drop(PL_21_team_ratings[ PL_21_team_ratings.Wk < 6].index, inplace=True)\n",
    "y = PL_21_team_ratings['identifier'].to_numpy()\n",
    "feature_names = ['Rating difference','Rating_Home', 'Rating_Away','pointsH', 'pointsA', 'pointsDifference', 'form5GamesDifference', 'ewmH', 'ewmA', 'ewmDifference', 'Elo_h_before', 'Elo_a_before', 'elo_difference', 'goalsDifference' ,'shotsDifference', 'cornersDifference']\n",
    "#feature_names = ['Rating difference', 'eloH', 'eloA', 'eloDifference', 'ewmDifference']\n",
    "X = PL_21_team_ratings[feature_names].to_numpy()\n",
    "#X = PL_21_team_ratings[['Rating difference', 'eloA', 'eloDifference' ]].to_numpy()\n"
   ],
   "metadata": {
    "collapsed": false,
    "pycharm": {
     "name": "#%%\n"
    }
   }
  },
  {
   "cell_type": "code",
   "execution_count": 192,
   "outputs": [],
   "source": [
    "X_train, X_test, y_train, y_test = train_test_split(X, y, test_size=0.2, random_state=42)"
   ],
   "metadata": {
    "collapsed": false,
    "pycharm": {
     "name": "#%%\n"
    }
   }
  },
  {
   "cell_type": "code",
   "execution_count": 193,
   "outputs": [],
   "source": [
    "X_train21 = np.split(X,[40, 340, 380], axis=0)\n",
    "X_train2 = X_train21[1]\n",
    "X_test2 = X_train21[2]\n",
    "y_train21 = np.split(y,[40, 340, 380], axis=0)\n",
    "y_train2 = y_train21[1]\n",
    "y_test2 = y_train21[2]"
   ],
   "metadata": {
    "collapsed": false,
    "pycharm": {
     "name": "#%%\n"
    }
   }
  },
  {
   "cell_type": "code",
   "execution_count": 194,
   "outputs": [
    {
     "name": "stdout",
     "output_type": "stream",
     "text": [
      "X_train : (304, 16)\n",
      "y_train : (304,)\n",
      "X_test : (76, 16)\n",
      "y_test : (76,)\n",
      "X_train2 : (300, 16)\n",
      "y_train2 : (300,)\n",
      "X_test2 : (40, 16)\n",
      "y_test2 : (40,)\n"
     ]
    }
   ],
   "source": [
    "print(f'X_train : {X_train.shape}')\n",
    "print(f'y_train : {y_train.shape}')\n",
    "print(f'X_test : {X_test.shape}')\n",
    "print(f'y_test : {y_test.shape}')\n",
    "print(f'X_train2 : {X_train2.shape}')\n",
    "print(f'y_train2 : {y_train2.shape}')\n",
    "print(f'X_test2 : {X_test2.shape}')\n",
    "print(f'y_test2 : {y_test2.shape}')"
   ],
   "metadata": {
    "collapsed": false,
    "pycharm": {
     "name": "#%%\n"
    }
   }
  },
  {
   "cell_type": "code",
   "execution_count": 195,
   "outputs": [],
   "source": [
    "rf_model = RandomForestClassifier()\n",
    "xgb_model = xgb.XGBClassifier(seed = 82)"
   ],
   "metadata": {
    "collapsed": false,
    "pycharm": {
     "name": "#%%\n"
    }
   }
  },
  {
   "cell_type": "code",
   "execution_count": 204,
   "outputs": [
    {
     "data": {
      "text/plain": "{'bootstrap': True,\n 'ccp_alpha': 0.0,\n 'class_weight': None,\n 'criterion': 'gini',\n 'max_depth': None,\n 'max_features': 'auto',\n 'max_leaf_nodes': None,\n 'max_samples': None,\n 'min_impurity_decrease': 0.0,\n 'min_samples_leaf': 1,\n 'min_samples_split': 2,\n 'min_weight_fraction_leaf': 0.0,\n 'n_estimators': 100,\n 'n_jobs': None,\n 'oob_score': False,\n 'random_state': None,\n 'verbose': 0,\n 'warm_start': False}"
     },
     "execution_count": 204,
     "metadata": {},
     "output_type": "execute_result"
    }
   ],
   "source": [
    "rf_model.fit(X_train2, y_train2)\n",
    "xgb_model.fit(X_train2, y_train2)\n",
    "rf_model.get_params()"
   ],
   "metadata": {
    "collapsed": false,
    "pycharm": {
     "name": "#%%\n"
    }
   }
  },
  {
   "cell_type": "code",
   "execution_count": 197,
   "outputs": [
    {
     "data": {
      "text/plain": "{'bootstrap': True,\n 'ccp_alpha': 0.0,\n 'class_weight': None,\n 'criterion': 'gini',\n 'max_depth': None,\n 'max_features': 'auto',\n 'max_leaf_nodes': None,\n 'max_samples': None,\n 'min_impurity_decrease': 0.0,\n 'min_samples_leaf': 1,\n 'min_samples_split': 2,\n 'min_weight_fraction_leaf': 0.0,\n 'n_estimators': 100,\n 'n_jobs': None,\n 'oob_score': False,\n 'random_state': None,\n 'verbose': 0,\n 'warm_start': False}"
     },
     "execution_count": 197,
     "metadata": {},
     "output_type": "execute_result"
    }
   ],
   "source": [
    "rf_model.fit(X_train, y_train)\n",
    "xgb_model.fit(X_train, y_train)\n",
    "rf_model.get_params()"
   ],
   "metadata": {
    "collapsed": false,
    "pycharm": {
     "name": "#%%\n"
    }
   }
  },
  {
   "cell_type": "code",
   "execution_count": 198,
   "outputs": [
    {
     "data": {
      "text/plain": "0.5263157894736842"
     },
     "execution_count": 198,
     "metadata": {},
     "output_type": "execute_result"
    }
   ],
   "source": [
    "rf_model.score(X_test, y_test)"
   ],
   "metadata": {
    "collapsed": false,
    "pycharm": {
     "name": "#%%\n"
    }
   }
  },
  {
   "cell_type": "code",
   "execution_count": 205,
   "outputs": [
    {
     "data": {
      "text/plain": "0.5"
     },
     "execution_count": 205,
     "metadata": {},
     "output_type": "execute_result"
    }
   ],
   "source": [
    "rf_model.score(X_test2, y_test2)"
   ],
   "metadata": {
    "collapsed": false,
    "pycharm": {
     "name": "#%%\n"
    }
   }
  },
  {
   "cell_type": "code",
   "execution_count": 200,
   "outputs": [
    {
     "data": {
      "text/plain": "0.5"
     },
     "execution_count": 200,
     "metadata": {},
     "output_type": "execute_result"
    }
   ],
   "source": [
    "xgb_model.score(X_test, y_test)"
   ],
   "metadata": {
    "collapsed": false,
    "pycharm": {
     "name": "#%%\n"
    }
   }
  },
  {
   "cell_type": "code",
   "execution_count": 206,
   "outputs": [
    {
     "data": {
      "text/plain": "0.4"
     },
     "execution_count": 206,
     "metadata": {},
     "output_type": "execute_result"
    }
   ],
   "source": [
    "xgb_model.score(X_test2, y_test2)"
   ],
   "metadata": {
    "collapsed": false,
    "pycharm": {
     "name": "#%%\n"
    }
   }
  },
  {
   "cell_type": "code",
   "execution_count": 210,
   "outputs": [
    {
     "data": {
      "text/plain": "<Figure size 432x288 with 1 Axes>",
      "image/png": "[encoded data removed]"
     },
     "metadata": {
      "needs_background": "light"
     },
     "output_type": "display_data"
    }
   ],
   "source": [
    "#start_time = time.time()\n",
    "importances = rf_model.feature_importances_\n",
    "std = np.std([tree.feature_importances_ for tree in rf_model.estimators_], axis=0)\n",
    "#elapsed_time = time.time() - start_time\n",
    "\n",
    "\n",
    "#feature_names = [f\"feature {i}\" for i in range(X.shape[1])]\n",
    "\n",
    "\n",
    "forest_importances = pd.Series(importances, index=feature_names)\n",
    "forest_importances= forest_importances.sort_values()\n",
    "fig, ax = plt.subplots()\n",
    "\n",
    "\n",
    "forest_importances.plot.barh( ax=ax, yerr=std)\n",
    "ax.set_title(\"Feature importances using MDI\")\n",
    "ax.set_xlabel(\"Mean decrease in impurity\")\n",
    "fig.tight_layout()"
   ],
   "metadata": {
    "collapsed": false,
    "pycharm": {
     "name": "#%%\n"
    }
   }
  },
  {
   "cell_type": "code",
   "execution_count": 203,
   "outputs": [],
   "source": [
    "#for measuring training time\n",
    "from time import time\n",
    "# F1 score (also F-score or F-measure) is a measure of a test's accuracy.\n",
    "#It considers both the precision p and the recall r of the test to compute\n",
    "#the score: p is the number of correct positive results divided by the number of\n",
    "#all positive results, and r is the number of correct positive results divided by\n",
    "#the number of positive results that should have been returned. The F1 score can be\n",
    "#interpreted as a weighted average of the precision and recall, where an F1 score\n",
    "#reaches its best value at 1 and worst at 0.\n",
    "from sklearn.metrics import f1_score\n",
    "\n",
    "def train_classifier(clf, X_train, y_train):\n",
    "    ''' Fits a classifier to the training data. '''\n",
    "\n",
    "    # Start the clock, train the classifier, then stop the clock\n",
    "    start = time()\n",
    "    clf.fit(X_train, y_train)\n",
    "    end = time()\n",
    "\n",
    "    # Print the results\n",
    "    print (\"Trained model in {:.4f} seconds\".format(end - start))\n",
    "\n",
    "\n",
    "def predict_labels(clf, features, target):\n",
    "    ''' Makes predictions using a fit classifier based on F1 score. '''\n",
    "\n",
    "    # Start the clock, make predictions, then stop the clock\n",
    "    start = time()\n",
    "    y_pred = clf.predict(features)\n",
    "\n",
    "    end = time()\n",
    "    # Print and return results\n",
    "    print (\"Made predictions in {:.4f} seconds.\".format(end - start))\n",
    "\n",
    "    return f1_score(target, y_pred, average='weighted'),sum(target == y_pred) / float(len(y_pred))\n",
    "\n",
    "\n",
    "def train_predict(clf, X_train, y_train, X_test, y_test):\n",
    "    ''' Train and predict using a classifer based on F1 score. '''\n",
    "\n",
    "    # Indicate the classifier and the training set size\n",
    "    print (\"Training a {} using a training set size of {}. . .\".format(clf.__class__.__name__, len(X_train)))\n",
    "\n",
    "    # Train the classifier\n",
    "    train_classifier(clf, X_train, y_train)\n",
    "\n",
    "    # Print the results of prediction for both training and testing\n",
    "    f1, acc = predict_labels(clf, X_train, y_train)\n",
    "    print (f1, acc)\n",
    "    print (\"F1 score and accuracy score for training set: {:.4f} , {:.4f}.\".format(f1 , acc))\n",
    "\n",
    "    f1, acc = predict_labels(clf, X_test, y_test)\n",
    "    print (\"F1 score and accuracy score for test set: {:.4f} , {:.4f}.\".format(f1 , acc))"
   ],
   "metadata": {
    "collapsed": false,
    "pycharm": {
     "name": "#%%\n"
    }
   }
  },
  {
   "cell_type": "code",
   "execution_count": 225,
   "outputs": [
    {
     "name": "stdout",
     "output_type": "stream",
     "text": [
      "Training a XGBClassifier using a training set size of 304. . .\n",
      "Trained model in 0.3911 seconds\n",
      "Made predictions in 0.0156 seconds.\n",
      "1.0 1.0\n",
      "F1 score and accuracy score for training set: 1.0000 , 1.0000.\n",
      "Made predictions in 0.0000 seconds.\n",
      "F1 score and accuracy score for test set: 0.4669 , 0.4737.\n",
      "\n",
      "Training a RandomForestClassifier using a training set size of 304. . .\n",
      "Trained model in 0.2512 seconds\n",
      "Made predictions in 0.0317 seconds.\n",
      "1.0 1.0\n",
      "F1 score and accuracy score for training set: 1.0000 , 1.0000.\n",
      "Made predictions in 0.0156 seconds.\n",
      "F1 score and accuracy score for test set: 0.3832 , 0.3816.\n"
     ]
    }
   ],
   "source": [
    "train_predict(xgb_model, X_train, y_train, X_test, y_test)\n",
    "print ('')\n",
    "train_predict(rf_model, X_train, y_train, X_test, y_test)"
   ],
   "metadata": {
    "collapsed": false,
    "pycharm": {
     "name": "#%%\n"
    }
   }
  },
  {
   "cell_type": "code",
   "execution_count": 334,
   "outputs": [
    {
     "data": {
      "text/plain": "    Div      Date_x Time_x         HomeTeam        AwayTeam  FTHG  FTAG FTR  \\\n0    E0  2020-09-12  12:30           Fulham         Arsenal     0     3   A   \n1    E0  2020-09-12  15:00   Crystal Palace     Southampton     1     0   H   \n2    E0  2020-09-12  17:30        Liverpool    Leeds United     4     3   H   \n3    E0  2020-09-12  20:00         West Ham   Newcastle Utd     0     2   A   \n4    E0  2020-09-13  14:00        West Brom  Leicester City     0     3   A   \n..   ..         ...    ...              ...             ...   ...   ...  ..   \n375  E0  2021-05-23  16:00        Liverpool  Crystal Palace     2     0   H   \n376  E0  2021-05-23  16:00  Manchester City         Everton     5     0   H   \n377  E0  2021-05-23  16:00    Sheffield Utd         Burnley     1     0   H   \n378  E0  2021-05-23  16:00         West Ham     Southampton     3     0   H   \n379  E0  2021-05-23  16:00           Wolves  Manchester Utd     1     2   A   \n\n     HTHG  HTAG  ... form3GamesDifference form5GamesH  form5GamesA  \\\n0       0     1  ...                    0           0            0   \n1       1     0  ...                    0           0            0   \n2       3     2  ...                    0           0            0   \n3       0     0  ...                    0           0            0   \n4       0     0  ...                    0           0            0   \n..    ...   ...  ...                  ...         ...          ...   \n375     1     0  ...                    3          13            6   \n376     2     0  ...                   -3           9            9   \n377     1     0  ...                    0           6            6   \n378     2     0  ...                    1           7            4   \n379     1     2  ...                   -1           4            5   \n\n     form5GamesDifference  form7GamesH  form7GamesA  form7GamesDifference  \\\n0                       0            0            0                     0   \n1                       0            0            0                     0   \n2                       0            0            0                     0   \n3                       0            0            0                     0   \n4                       0            0            0                     0   \n..                    ...          ...          ...                   ...   \n375                     7           17            6                    11   \n376                     0           12           11                     1   \n377                     0            6            6                     0   \n378                     3           10            7                     3   \n379                    -1           10           11                    -1   \n\n     identifier         eloH         eloA  \n0             1  1500.000000  1500.000000  \n1             0  1500.000000  1500.000000  \n2             0  1500.000000  1500.000000  \n3             1  1500.000000  1500.000000  \n4             1  1500.000000  1500.000000  \n..          ...          ...          ...  \n375           0  1572.195622  1458.109252  \n376           0  1629.646004  1521.033816  \n377           0  1362.194200  1452.510491  \n378           0  1551.974233  1441.808453  \n379           1  1463.871959  1594.689424  \n\n[380 rows x 139 columns]",
      "text/html": "<div>\n<style scoped>\n    .dataframe tbody tr th:only-of-type {\n        vertical-align: middle;\n    }\n\n    .dataframe tbody tr th {\n        vertical-align: top;\n    }\n\n    .dataframe thead th {\n        text-align: right;\n    }\n</style>\n<table border=\"1\" class=\"dataframe\">\n  <thead>\n    <tr style=\"text-align: right;\">\n      <th></th>\n      <th>Div</th>\n      <th>Date_x</th>\n      <th>Time_x</th>\n      <th>HomeTeam</th>\n      <th>AwayTeam</th>\n      <th>FTHG</th>\n      <th>FTAG</th>\n      <th>FTR</th>\n      <th>HTHG</th>\n      <th>HTAG</th>\n      <th>...</th>\n      <th>form3GamesDifference</th>\n      <th>form5GamesH</th>\n      <th>form5GamesA</th>\n      <th>form5GamesDifference</th>\n      <th>form7GamesH</th>\n      <th>form7GamesA</th>\n      <th>form7GamesDifference</th>\n      <th>identifier</th>\n      <th>eloH</th>\n      <th>eloA</th>\n    </tr>\n  </thead>\n  <tbody>\n    <tr>\n      <th>0</th>\n      <td>E0</td>\n      <td>2020-09-12</td>\n      <td>12:30</td>\n      <td>Fulham</td>\n      <td>Arsenal</td>\n      <td>0</td>\n      <td>3</td>\n      <td>A</td>\n      <td>0</td>\n      <td>1</td>\n      <td>...</td>\n      <td>0</td>\n      <td>0</td>\n      <td>0</td>\n      <td>0</td>\n      <td>0</td>\n      <td>0</td>\n      <td>0</td>\n      <td>1</td>\n      <td>1500.000000</td>\n      <td>1500.000000</td>\n    </tr>\n    <tr>\n      <th>1</th>\n      <td>E0</td>\n      <td>2020-09-12</td>\n      <td>15:00</td>\n      <td>Crystal Palace</td>\n      <td>Southampton</td>\n      <td>1</td>\n      <td>0</td>\n      <td>H</td>\n      <td>1</td>\n      <td>0</td>\n      <td>...</td>\n      <td>0</td>\n      <td>0</td>\n      <td>0</td>\n      <td>0</td>\n      <td>0</td>\n      <td>0</td>\n      <td>0</td>\n      <td>0</td>\n      <td>1500.000000</td>\n      <td>1500.000000</td>\n    </tr>\n    <tr>\n      <th>2</th>\n      <td>E0</td>\n      <td>2020-09-12</td>\n      <td>17:30</td>\n      <td>Liverpool</td>\n      <td>Leeds United</td>\n      <td>4</td>\n      <td>3</td>\n      <td>H</td>\n      <td>3</td>\n      <td>2</td>\n      <td>...</td>\n      <td>0</td>\n      <td>0</td>\n      <td>0</td>\n      <td>0</td>\n      <td>0</td>\n      <td>0</td>\n      <td>0</td>\n      <td>0</td>\n      <td>1500.000000</td>\n      <td>1500.000000</td>\n    </tr>\n    <tr>\n      <th>3</th>\n      <td>E0</td>\n      <td>2020-09-12</td>\n      <td>20:00</td>\n      <td>West Ham</td>\n      <td>Newcastle Utd</td>\n      <td>0</td>\n      <td>2</td>\n      <td>A</td>\n      <td>0</td>\n      <td>0</td>\n      <td>...</td>\n      <td>0</td>\n      <td>0</td>\n      <td>0</td>\n      <td>0</td>\n      <td>0</td>\n      <td>0</td>\n      <td>0</td>\n      <td>1</td>\n      <td>1500.000000</td>\n      <td>1500.000000</td>\n    </tr>\n    <tr>\n      <th>4</th>\n      <td>E0</td>\n      <td>2020-09-13</td>\n      <td>14:00</td>\n      <td>West Brom</td>\n      <td>Leicester City</td>\n      <td>0</td>\n      <td>3</td>\n      <td>A</td>\n      <td>0</td>\n      <td>0</td>\n      <td>...</td>\n      <td>0</td>\n      <td>0</td>\n      <td>0</td>\n      <td>0</td>\n      <td>0</td>\n      <td>0</td>\n      <td>0</td>\n      <td>1</td>\n      <td>1500.000000</td>\n      <td>1500.000000</td>\n    </tr>\n    <tr>\n      <th>...</th>\n      <td>...</td>\n      <td>...</td>\n      <td>...</td>\n      <td>...</td>\n      <td>...</td>\n      <td>...</td>\n      <td>...</td>\n      <td>...</td>\n      <td>...</td>\n      <td>...</td>\n      <td>...</td>\n      <td>...</td>\n      <td>...</td>\n      <td>...</td>\n      <td>...</td>\n      <td>...</td>\n      <td>...</td>\n      <td>...</td>\n      <td>...</td>\n      <td>...</td>\n      <td>...</td>\n    </tr>\n    <tr>\n      <th>375</th>\n      <td>E0</td>\n      <td>2021-05-23</td>\n      <td>16:00</td>\n      <td>Liverpool</td>\n      <td>Crystal Palace</td>\n      <td>2</td>\n      <td>0</td>\n      <td>H</td>\n      <td>1</td>\n      <td>0</td>\n      <td>...</td>\n      <td>3</td>\n      <td>13</td>\n      <td>6</td>\n      <td>7</td>\n      <td>17</td>\n      <td>6</td>\n      <td>11</td>\n      <td>0</td>\n      <td>1572.195622</td>\n      <td>1458.109252</td>\n    </tr>\n    <tr>\n      <th>376</th>\n      <td>E0</td>\n      <td>2021-05-23</td>\n      <td>16:00</td>\n      <td>Manchester City</td>\n      <td>Everton</td>\n      <td>5</td>\n      <td>0</td>\n      <td>H</td>\n      <td>2</td>\n      <td>0</td>\n      <td>...</td>\n      <td>-3</td>\n      <td>9</td>\n      <td>9</td>\n      <td>0</td>\n      <td>12</td>\n      <td>11</td>\n      <td>1</td>\n      <td>0</td>\n      <td>1629.646004</td>\n      <td>1521.033816</td>\n    </tr>\n    <tr>\n      <th>377</th>\n      <td>E0</td>\n      <td>2021-05-23</td>\n      <td>16:00</td>\n      <td>Sheffield Utd</td>\n      <td>Burnley</td>\n      <td>1</td>\n      <td>0</td>\n      <td>H</td>\n      <td>1</td>\n      <td>0</td>\n      <td>...</td>\n      <td>0</td>\n      <td>6</td>\n      <td>6</td>\n      <td>0</td>\n      <td>6</td>\n      <td>6</td>\n      <td>0</td>\n      <td>0</td>\n      <td>1362.194200</td>\n      <td>1452.510491</td>\n    </tr>\n    <tr>\n      <th>378</th>\n      <td>E0</td>\n      <td>2021-05-23</td>\n      <td>16:00</td>\n      <td>West Ham</td>\n      <td>Southampton</td>\n      <td>3</td>\n      <td>0</td>\n      <td>H</td>\n      <td>2</td>\n      <td>0</td>\n      <td>...</td>\n      <td>1</td>\n      <td>7</td>\n      <td>4</td>\n      <td>3</td>\n      <td>10</td>\n      <td>7</td>\n      <td>3</td>\n      <td>0</td>\n      <td>1551.974233</td>\n      <td>1441.808453</td>\n    </tr>\n    <tr>\n      <th>379</th>\n      <td>E0</td>\n      <td>2021-05-23</td>\n      <td>16:00</td>\n      <td>Wolves</td>\n      <td>Manchester Utd</td>\n      <td>1</td>\n      <td>2</td>\n      <td>A</td>\n      <td>1</td>\n      <td>2</td>\n      <td>...</td>\n      <td>-1</td>\n      <td>4</td>\n      <td>5</td>\n      <td>-1</td>\n      <td>10</td>\n      <td>11</td>\n      <td>-1</td>\n      <td>1</td>\n      <td>1463.871959</td>\n      <td>1594.689424</td>\n    </tr>\n  </tbody>\n</table>\n<p>380 rows × 139 columns</p>\n</div>"
     },
     "execution_count": 334,
     "metadata": {},
     "output_type": "execute_result"
    }
   ],
   "source": [
    "def calculate_elo():\n",
    "    eloH = []\n",
    "    eloA = []\n",
    "    for index, row in PL_21_team_ratings.iterrows():\n",
    "        eloH.append(eloLeague.ratingDict.get(row['HomeTeam']))\n",
    "        eloA.append(eloLeague.ratingDict.get(row['AwayTeam']))\n",
    "        if row['FTR'] == 'H':\n",
    "            eloLeague.gameOver(winner= row['HomeTeam'], loser=row['AwayTeam'], winnerHome=True)\n",
    "        elif row['FTR'] == 'A':\n",
    "            eloLeague.gameOver(winner=row['AwayTeam'], loser=row['HomeTeam'], winnerHome=False)\n",
    "    PL_21_team_ratings['eloH'] = eloH\n",
    "    PL_21_team_ratings['eloA'] = eloA\n",
    "calculate_elo()\n",
    "PL_21_team_ratings"
   ],
   "metadata": {
    "collapsed": false,
    "pycharm": {
     "name": "#%%\n"
    }
   }
  }
 ],
 "metadata": {
  "kernelspec": {
   "display_name": "Python 3",
   "language": "python",
   "name": "python3"
  },
  "language_info": {
   "codemirror_mode": {
    "name": "ipython",
    "version": 2
   },
   "file_extension": ".py",
   "mimetype": "text/x-python",
   "name": "python",
   "nbconvert_exporter": "python",
   "pygments_lexer": "ipython2",
   "version": "2.7.6"
  }
 },
 "nbformat": 4,
 "nbformat_minor": 0
}