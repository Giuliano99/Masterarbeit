{
 "cells": [
  {
   "cell_type": "code",
   "execution_count": 22,
   "metadata": {
    "collapsed": true
   },
   "outputs": [],
   "source": [
    "#import necessary packages\n",
    "import pandas as pd\n",
    "import numpy as np\n",
    "from sklearn.ensemble import RandomForestClassifier\n",
    "import xgboost as xgb\n",
    "from sklearn.model_selection import train_test_split\n",
    "import time\n",
    "import matplotlib.pyplot as plt"
   ]
  },
  {
   "cell_type": "code",
   "execution_count": 23,
   "outputs": [
    {
     "data": {
      "text/plain": "    Div        Date   Time                 HomeTeam          AwayTeam  FTHG  \\\n0    E0  2020-09-12  12:30                   Fulham           Arsenal     0   \n1    E0  2020-09-12  15:00           Crystal Palace       Southampton     1   \n2    E0  2020-09-12  17:30                Liverpool      Leeds United     4   \n3    E0  2020-09-12  20:00          West Ham United  Newcastle United     0   \n4    E0  2020-09-13  14:00     West Bromwich Albion    Leicester City     0   \n..   ..         ...    ...                      ...               ...   ...   \n375  E0  2021-05-23  16:00                Liverpool    Crystal Palace     2   \n376  E0  2021-05-23  16:00          Manchester City           Everton     5   \n377  E0  2021-05-23  16:00         Sheffield United           Burnley     1   \n378  E0  2021-05-23  16:00          West Ham United       Southampton     3   \n379  E0  2021-05-23  16:00  Wolverhampton Wanderers    Manchester Utd     1   \n\n     FTAG FTR  HTHG  HTAG  ... B365CAHA PCAHH  PCAHA  MaxCAHH  MaxCAHA  \\\n0       3   A     0     1  ...     1.89  2.02   1.91     2.13     1.92   \n1       0   H     1     0  ...     2.13  1.79   2.17     1.85     2.18   \n2       3   H     3     2  ...     2.05  1.85   2.08     1.90     2.16   \n3       2   A     0     0  ...     1.87  2.04   1.88     2.09     1.91   \n4       3   A     0     0  ...     1.98  1.93   1.99     1.95     2.01   \n..    ...  ..   ...   ...  ...      ...   ...    ...      ...      ...   \n375     0   H     1     0  ...     2.04  1.88   2.03     1.98     2.14   \n376     0   H     2     0  ...     1.89  1.99   1.89     2.20     2.00   \n377     0   H     1     0  ...     1.86  2.05   1.86     2.17     1.90   \n378     0   H     2     0  ...     1.90  2.02   1.91     2.06     2.01   \n379     2   A     1     2  ...     1.86  2.10   1.84     2.10     1.94   \n\n     AvgCAHH  AvgCAHA  Rating_Home  Rating_Away  Rating difference  \n0       2.02     1.87           73           80                 -7  \n1       1.79     2.12           77           76                  1  \n2       1.84     2.04           85           72                 13  \n3       2.02     1.86           78           77                  1  \n4       1.91     1.97           72           80                 -8  \n..       ...      ...          ...          ...                ...  \n375     1.88     2.00           85           77                  8  \n376     2.03     1.85           85           78                  7  \n377     2.03     1.84           75           76                 -1  \n378     1.99     1.89           78           76                  2  \n379     2.00     1.88           79           82                 -3  \n\n[380 rows x 109 columns]",
      "text/html": "<div>\n<style scoped>\n    .dataframe tbody tr th:only-of-type {\n        vertical-align: middle;\n    }\n\n    .dataframe tbody tr th {\n        vertical-align: top;\n    }\n\n    .dataframe thead th {\n        text-align: right;\n    }\n</style>\n<table border=\"1\" class=\"dataframe\">\n  <thead>\n    <tr style=\"text-align: right;\">\n      <th></th>\n      <th>Div</th>\n      <th>Date</th>\n      <th>Time</th>\n      <th>HomeTeam</th>\n      <th>AwayTeam</th>\n      <th>FTHG</th>\n      <th>FTAG</th>\n      <th>FTR</th>\n      <th>HTHG</th>\n      <th>HTAG</th>\n      <th>...</th>\n      <th>B365CAHA</th>\n      <th>PCAHH</th>\n      <th>PCAHA</th>\n      <th>MaxCAHH</th>\n      <th>MaxCAHA</th>\n      <th>AvgCAHH</th>\n      <th>AvgCAHA</th>\n      <th>Rating_Home</th>\n      <th>Rating_Away</th>\n      <th>Rating difference</th>\n    </tr>\n  </thead>\n  <tbody>\n    <tr>\n      <th>0</th>\n      <td>E0</td>\n      <td>2020-09-12</td>\n      <td>12:30</td>\n      <td>Fulham</td>\n      <td>Arsenal</td>\n      <td>0</td>\n      <td>3</td>\n      <td>A</td>\n      <td>0</td>\n      <td>1</td>\n      <td>...</td>\n      <td>1.89</td>\n      <td>2.02</td>\n      <td>1.91</td>\n      <td>2.13</td>\n      <td>1.92</td>\n      <td>2.02</td>\n      <td>1.87</td>\n      <td>73</td>\n      <td>80</td>\n      <td>-7</td>\n    </tr>\n    <tr>\n      <th>1</th>\n      <td>E0</td>\n      <td>2020-09-12</td>\n      <td>15:00</td>\n      <td>Crystal Palace</td>\n      <td>Southampton</td>\n      <td>1</td>\n      <td>0</td>\n      <td>H</td>\n      <td>1</td>\n      <td>0</td>\n      <td>...</td>\n      <td>2.13</td>\n      <td>1.79</td>\n      <td>2.17</td>\n      <td>1.85</td>\n      <td>2.18</td>\n      <td>1.79</td>\n      <td>2.12</td>\n      <td>77</td>\n      <td>76</td>\n      <td>1</td>\n    </tr>\n    <tr>\n      <th>2</th>\n      <td>E0</td>\n      <td>2020-09-12</td>\n      <td>17:30</td>\n      <td>Liverpool</td>\n      <td>Leeds United</td>\n      <td>4</td>\n      <td>3</td>\n      <td>H</td>\n      <td>3</td>\n      <td>2</td>\n      <td>...</td>\n      <td>2.05</td>\n      <td>1.85</td>\n      <td>2.08</td>\n      <td>1.90</td>\n      <td>2.16</td>\n      <td>1.84</td>\n      <td>2.04</td>\n      <td>85</td>\n      <td>72</td>\n      <td>13</td>\n    </tr>\n    <tr>\n      <th>3</th>\n      <td>E0</td>\n      <td>2020-09-12</td>\n      <td>20:00</td>\n      <td>West Ham United</td>\n      <td>Newcastle United</td>\n      <td>0</td>\n      <td>2</td>\n      <td>A</td>\n      <td>0</td>\n      <td>0</td>\n      <td>...</td>\n      <td>1.87</td>\n      <td>2.04</td>\n      <td>1.88</td>\n      <td>2.09</td>\n      <td>1.91</td>\n      <td>2.02</td>\n      <td>1.86</td>\n      <td>78</td>\n      <td>77</td>\n      <td>1</td>\n    </tr>\n    <tr>\n      <th>4</th>\n      <td>E0</td>\n      <td>2020-09-13</td>\n      <td>14:00</td>\n      <td>West Bromwich Albion</td>\n      <td>Leicester City</td>\n      <td>0</td>\n      <td>3</td>\n      <td>A</td>\n      <td>0</td>\n      <td>0</td>\n      <td>...</td>\n      <td>1.98</td>\n      <td>1.93</td>\n      <td>1.99</td>\n      <td>1.95</td>\n      <td>2.01</td>\n      <td>1.91</td>\n      <td>1.97</td>\n      <td>72</td>\n      <td>80</td>\n      <td>-8</td>\n    </tr>\n    <tr>\n      <th>...</th>\n      <td>...</td>\n      <td>...</td>\n      <td>...</td>\n      <td>...</td>\n      <td>...</td>\n      <td>...</td>\n      <td>...</td>\n      <td>...</td>\n      <td>...</td>\n      <td>...</td>\n      <td>...</td>\n      <td>...</td>\n      <td>...</td>\n      <td>...</td>\n      <td>...</td>\n      <td>...</td>\n      <td>...</td>\n      <td>...</td>\n      <td>...</td>\n      <td>...</td>\n      <td>...</td>\n    </tr>\n    <tr>\n      <th>375</th>\n      <td>E0</td>\n      <td>2021-05-23</td>\n      <td>16:00</td>\n      <td>Liverpool</td>\n      <td>Crystal Palace</td>\n      <td>2</td>\n      <td>0</td>\n      <td>H</td>\n      <td>1</td>\n      <td>0</td>\n      <td>...</td>\n      <td>2.04</td>\n      <td>1.88</td>\n      <td>2.03</td>\n      <td>1.98</td>\n      <td>2.14</td>\n      <td>1.88</td>\n      <td>2.00</td>\n      <td>85</td>\n      <td>77</td>\n      <td>8</td>\n    </tr>\n    <tr>\n      <th>376</th>\n      <td>E0</td>\n      <td>2021-05-23</td>\n      <td>16:00</td>\n      <td>Manchester City</td>\n      <td>Everton</td>\n      <td>5</td>\n      <td>0</td>\n      <td>H</td>\n      <td>2</td>\n      <td>0</td>\n      <td>...</td>\n      <td>1.89</td>\n      <td>1.99</td>\n      <td>1.89</td>\n      <td>2.20</td>\n      <td>2.00</td>\n      <td>2.03</td>\n      <td>1.85</td>\n      <td>85</td>\n      <td>78</td>\n      <td>7</td>\n    </tr>\n    <tr>\n      <th>377</th>\n      <td>E0</td>\n      <td>2021-05-23</td>\n      <td>16:00</td>\n      <td>Sheffield United</td>\n      <td>Burnley</td>\n      <td>1</td>\n      <td>0</td>\n      <td>H</td>\n      <td>1</td>\n      <td>0</td>\n      <td>...</td>\n      <td>1.86</td>\n      <td>2.05</td>\n      <td>1.86</td>\n      <td>2.17</td>\n      <td>1.90</td>\n      <td>2.03</td>\n      <td>1.84</td>\n      <td>75</td>\n      <td>76</td>\n      <td>-1</td>\n    </tr>\n    <tr>\n      <th>378</th>\n      <td>E0</td>\n      <td>2021-05-23</td>\n      <td>16:00</td>\n      <td>West Ham United</td>\n      <td>Southampton</td>\n      <td>3</td>\n      <td>0</td>\n      <td>H</td>\n      <td>2</td>\n      <td>0</td>\n      <td>...</td>\n      <td>1.90</td>\n      <td>2.02</td>\n      <td>1.91</td>\n      <td>2.06</td>\n      <td>2.01</td>\n      <td>1.99</td>\n      <td>1.89</td>\n      <td>78</td>\n      <td>76</td>\n      <td>2</td>\n    </tr>\n    <tr>\n      <th>379</th>\n      <td>E0</td>\n      <td>2021-05-23</td>\n      <td>16:00</td>\n      <td>Wolverhampton Wanderers</td>\n      <td>Manchester Utd</td>\n      <td>1</td>\n      <td>2</td>\n      <td>A</td>\n      <td>1</td>\n      <td>2</td>\n      <td>...</td>\n      <td>1.86</td>\n      <td>2.10</td>\n      <td>1.84</td>\n      <td>2.10</td>\n      <td>1.94</td>\n      <td>2.00</td>\n      <td>1.88</td>\n      <td>79</td>\n      <td>82</td>\n      <td>-3</td>\n    </tr>\n  </tbody>\n</table>\n<p>380 rows × 109 columns</p>\n</div>"
     },
     "execution_count": 23,
     "metadata": {},
     "output_type": "execute_result"
    }
   ],
   "source": [
    "#import Data\n",
    "PL20_21_fixtures = pd.read_csv('Data/2020-21/Fixtures/PL20_21_fixtures.csv')\n",
    "PL20_21_fixtures"
   ],
   "metadata": {
    "collapsed": false,
    "pycharm": {
     "name": "#%%\n"
    }
   }
  },
  {
   "cell_type": "code",
   "execution_count": 41,
   "outputs": [
    {
     "name": "stdout",
     "output_type": "stream",
     "text": [
      "['Fulham', 'Crystal Palace', 'Liverpool', 'West Ham United', 'West Bromwich Albion', 'Tottenham', 'Brighton & Hove Albion', 'Sheffield United', 'Everton', 'Leeds United', 'Manchester Utd', 'Arsenal', 'Southampton', 'Newcastle United', 'Chelsea', 'Leicester City', 'Aston Villa', 'Wolverhampton Wanderers', 'Burnley', 'Manchester City']\n"
     ]
    },
    {
     "data": {
      "text/plain": "    Div        Date   Time                 HomeTeam          AwayTeam  FTHG  \\\n0    E0  2020-09-12  12:30                   Fulham           Arsenal     0   \n1    E0  2020-09-12  15:00           Crystal Palace       Southampton     1   \n2    E0  2020-09-12  17:30                Liverpool      Leeds United     4   \n3    E0  2020-09-12  20:00          West Ham United  Newcastle United     0   \n4    E0  2020-09-13  14:00     West Bromwich Albion    Leicester City     0   \n..   ..         ...    ...                      ...               ...   ...   \n375  E0  2021-05-23  16:00                Liverpool    Crystal Palace     2   \n376  E0  2021-05-23  16:00          Manchester City           Everton     5   \n377  E0  2021-05-23  16:00         Sheffield United           Burnley     1   \n378  E0  2021-05-23  16:00          West Ham United       Southampton     3   \n379  E0  2021-05-23  16:00  Wolverhampton Wanderers    Manchester Utd     1   \n\n     FTAG FTR  HTHG  HTAG  ... MaxCAHH MaxCAHA  AvgCAHH  AvgCAHA  Rating_Home  \\\n0       3   A     0     1  ...    2.13    1.92     2.02     1.87           73   \n1       0   H     1     0  ...    1.85    2.18     1.79     2.12           77   \n2       3   H     3     2  ...    1.90    2.16     1.84     2.04           85   \n3       2   A     0     0  ...    2.09    1.91     2.02     1.86           78   \n4       3   A     0     0  ...    1.95    2.01     1.91     1.97           72   \n..    ...  ..   ...   ...  ...     ...     ...      ...      ...          ...   \n375     0   H     1     0  ...    1.98    2.14     1.88     2.00           85   \n376     0   H     2     0  ...    2.20    2.00     2.03     1.85           85   \n377     0   H     1     0  ...    2.17    1.90     2.03     1.84           75   \n378     0   H     2     0  ...    2.06    2.01     1.99     1.89           78   \n379     2   A     1     2  ...    2.10    1.94     2.00     1.88           79   \n\n     Rating_Away  Rating difference  Wk  Wk_h  Wk_a  \n0             80                 -7   1     1     1  \n1             76                  1   1     1     1  \n2             72                 13   1     1     1  \n3             77                  1   1     1     1  \n4             80                 -8   1     1     1  \n..           ...                ...  ..   ...   ...  \n375           77                  8  38    38    38  \n376           78                  7  38    38    38  \n377           76                 -1  38    38    38  \n378           76                  2  38    38    38  \n379           82                 -3  38    38    38  \n\n[380 rows x 112 columns]",
      "text/html": "<div>\n<style scoped>\n    .dataframe tbody tr th:only-of-type {\n        vertical-align: middle;\n    }\n\n    .dataframe tbody tr th {\n        vertical-align: top;\n    }\n\n    .dataframe thead th {\n        text-align: right;\n    }\n</style>\n<table border=\"1\" class=\"dataframe\">\n  <thead>\n    <tr style=\"text-align: right;\">\n      <th></th>\n      <th>Div</th>\n      <th>Date</th>\n      <th>Time</th>\n      <th>HomeTeam</th>\n      <th>AwayTeam</th>\n      <th>FTHG</th>\n      <th>FTAG</th>\n      <th>FTR</th>\n      <th>HTHG</th>\n      <th>HTAG</th>\n      <th>...</th>\n      <th>MaxCAHH</th>\n      <th>MaxCAHA</th>\n      <th>AvgCAHH</th>\n      <th>AvgCAHA</th>\n      <th>Rating_Home</th>\n      <th>Rating_Away</th>\n      <th>Rating difference</th>\n      <th>Wk</th>\n      <th>Wk_h</th>\n      <th>Wk_a</th>\n    </tr>\n  </thead>\n  <tbody>\n    <tr>\n      <th>0</th>\n      <td>E0</td>\n      <td>2020-09-12</td>\n      <td>12:30</td>\n      <td>Fulham</td>\n      <td>Arsenal</td>\n      <td>0</td>\n      <td>3</td>\n      <td>A</td>\n      <td>0</td>\n      <td>1</td>\n      <td>...</td>\n      <td>2.13</td>\n      <td>1.92</td>\n      <td>2.02</td>\n      <td>1.87</td>\n      <td>73</td>\n      <td>80</td>\n      <td>-7</td>\n      <td>1</td>\n      <td>1</td>\n      <td>1</td>\n    </tr>\n    <tr>\n      <th>1</th>\n      <td>E0</td>\n      <td>2020-09-12</td>\n      <td>15:00</td>\n      <td>Crystal Palace</td>\n      <td>Southampton</td>\n      <td>1</td>\n      <td>0</td>\n      <td>H</td>\n      <td>1</td>\n      <td>0</td>\n      <td>...</td>\n      <td>1.85</td>\n      <td>2.18</td>\n      <td>1.79</td>\n      <td>2.12</td>\n      <td>77</td>\n      <td>76</td>\n      <td>1</td>\n      <td>1</td>\n      <td>1</td>\n      <td>1</td>\n    </tr>\n    <tr>\n      <th>2</th>\n      <td>E0</td>\n      <td>2020-09-12</td>\n      <td>17:30</td>\n      <td>Liverpool</td>\n      <td>Leeds United</td>\n      <td>4</td>\n      <td>3</td>\n      <td>H</td>\n      <td>3</td>\n      <td>2</td>\n      <td>...</td>\n      <td>1.90</td>\n      <td>2.16</td>\n      <td>1.84</td>\n      <td>2.04</td>\n      <td>85</td>\n      <td>72</td>\n      <td>13</td>\n      <td>1</td>\n      <td>1</td>\n      <td>1</td>\n    </tr>\n    <tr>\n      <th>3</th>\n      <td>E0</td>\n      <td>2020-09-12</td>\n      <td>20:00</td>\n      <td>West Ham United</td>\n      <td>Newcastle United</td>\n      <td>0</td>\n      <td>2</td>\n      <td>A</td>\n      <td>0</td>\n      <td>0</td>\n      <td>...</td>\n      <td>2.09</td>\n      <td>1.91</td>\n      <td>2.02</td>\n      <td>1.86</td>\n      <td>78</td>\n      <td>77</td>\n      <td>1</td>\n      <td>1</td>\n      <td>1</td>\n      <td>1</td>\n    </tr>\n    <tr>\n      <th>4</th>\n      <td>E0</td>\n      <td>2020-09-13</td>\n      <td>14:00</td>\n      <td>West Bromwich Albion</td>\n      <td>Leicester City</td>\n      <td>0</td>\n      <td>3</td>\n      <td>A</td>\n      <td>0</td>\n      <td>0</td>\n      <td>...</td>\n      <td>1.95</td>\n      <td>2.01</td>\n      <td>1.91</td>\n      <td>1.97</td>\n      <td>72</td>\n      <td>80</td>\n      <td>-8</td>\n      <td>1</td>\n      <td>1</td>\n      <td>1</td>\n    </tr>\n    <tr>\n      <th>...</th>\n      <td>...</td>\n      <td>...</td>\n      <td>...</td>\n      <td>...</td>\n      <td>...</td>\n      <td>...</td>\n      <td>...</td>\n      <td>...</td>\n      <td>...</td>\n      <td>...</td>\n      <td>...</td>\n      <td>...</td>\n      <td>...</td>\n      <td>...</td>\n      <td>...</td>\n      <td>...</td>\n      <td>...</td>\n      <td>...</td>\n      <td>...</td>\n      <td>...</td>\n      <td>...</td>\n    </tr>\n    <tr>\n      <th>375</th>\n      <td>E0</td>\n      <td>2021-05-23</td>\n      <td>16:00</td>\n      <td>Liverpool</td>\n      <td>Crystal Palace</td>\n      <td>2</td>\n      <td>0</td>\n      <td>H</td>\n      <td>1</td>\n      <td>0</td>\n      <td>...</td>\n      <td>1.98</td>\n      <td>2.14</td>\n      <td>1.88</td>\n      <td>2.00</td>\n      <td>85</td>\n      <td>77</td>\n      <td>8</td>\n      <td>38</td>\n      <td>38</td>\n      <td>38</td>\n    </tr>\n    <tr>\n      <th>376</th>\n      <td>E0</td>\n      <td>2021-05-23</td>\n      <td>16:00</td>\n      <td>Manchester City</td>\n      <td>Everton</td>\n      <td>5</td>\n      <td>0</td>\n      <td>H</td>\n      <td>2</td>\n      <td>0</td>\n      <td>...</td>\n      <td>2.20</td>\n      <td>2.00</td>\n      <td>2.03</td>\n      <td>1.85</td>\n      <td>85</td>\n      <td>78</td>\n      <td>7</td>\n      <td>38</td>\n      <td>38</td>\n      <td>38</td>\n    </tr>\n    <tr>\n      <th>377</th>\n      <td>E0</td>\n      <td>2021-05-23</td>\n      <td>16:00</td>\n      <td>Sheffield United</td>\n      <td>Burnley</td>\n      <td>1</td>\n      <td>0</td>\n      <td>H</td>\n      <td>1</td>\n      <td>0</td>\n      <td>...</td>\n      <td>2.17</td>\n      <td>1.90</td>\n      <td>2.03</td>\n      <td>1.84</td>\n      <td>75</td>\n      <td>76</td>\n      <td>-1</td>\n      <td>38</td>\n      <td>38</td>\n      <td>38</td>\n    </tr>\n    <tr>\n      <th>378</th>\n      <td>E0</td>\n      <td>2021-05-23</td>\n      <td>16:00</td>\n      <td>West Ham United</td>\n      <td>Southampton</td>\n      <td>3</td>\n      <td>0</td>\n      <td>H</td>\n      <td>2</td>\n      <td>0</td>\n      <td>...</td>\n      <td>2.06</td>\n      <td>2.01</td>\n      <td>1.99</td>\n      <td>1.89</td>\n      <td>78</td>\n      <td>76</td>\n      <td>2</td>\n      <td>38</td>\n      <td>38</td>\n      <td>38</td>\n    </tr>\n    <tr>\n      <th>379</th>\n      <td>E0</td>\n      <td>2021-05-23</td>\n      <td>16:00</td>\n      <td>Wolverhampton Wanderers</td>\n      <td>Manchester Utd</td>\n      <td>1</td>\n      <td>2</td>\n      <td>A</td>\n      <td>1</td>\n      <td>2</td>\n      <td>...</td>\n      <td>2.10</td>\n      <td>1.94</td>\n      <td>2.00</td>\n      <td>1.88</td>\n      <td>79</td>\n      <td>82</td>\n      <td>-3</td>\n      <td>38</td>\n      <td>38</td>\n      <td>38</td>\n    </tr>\n  </tbody>\n</table>\n<p>380 rows × 112 columns</p>\n</div>"
     },
     "execution_count": 41,
     "metadata": {},
     "output_type": "execute_result"
    }
   ],
   "source": [
    "print(PL20_21_fixtures.HomeTeam.unique().tolist())\n",
    "teams = PL20_21_fixtures.HomeTeam.unique().tolist()\n",
    "PL20_21_fixtures['Wk_h'] = 0\n",
    "PL20_21_fixtures['Wk_a'] = 0\n",
    "for team in teams:\n",
    "    count = 1\n",
    "    for index, row in PL20_21_fixtures.iterrows():\n",
    "        if row['HomeTeam'] == team:\n",
    "            PL20_21_fixtures.at[index, 'Wk_h'] = count\n",
    "            count = count + 1\n",
    "        elif row['AwayTeam'] == team:\n",
    "            PL20_21_fixtures.at[index, 'Wk_a'] = count\n",
    "            count = count + 1\n",
    "\n",
    "PL20_21_fixtures"
   ],
   "metadata": {
    "collapsed": false,
    "pycharm": {
     "name": "#%%\n"
    }
   }
  },
  {
   "cell_type": "code",
   "execution_count": 527,
   "outputs": [],
   "source": [
    "#functions for feature Engineering\n",
    "def get_points(team, wk):\n",
    "    for index, row in PL20_21_fixtures.iterrows():\n",
    "        #print(row[['HomeTeam','Wk']])\n",
    "        if row['Wk_h'] == wk and row['HomeTeam'] == team:\n",
    "            if row['FTR'] == 'H':\n",
    "                return 3\n",
    "            if row['FTR'] == 'D':\n",
    "                return 1\n",
    "            else:\n",
    "                return 0\n",
    "        if row['Wk_a'] == wk and row['AwayTeam'] == team:\n",
    "            if row['FTR'] == 'A':\n",
    "                return 3\n",
    "            if row['FTR'] == 'D':\n",
    "                return 1\n",
    "            else:\n",
    "                return 0\n",
    "\n",
    "\n",
    "def get_stats(team, wk, stat):\n",
    "    for index, row in PL20_21_fixtures.iterrows():\n",
    "        #print(row[['HomeTeam','Wk']])\n",
    "        if row['Wk_h'] == wk and row['HomeTeam'] == team:\n",
    "            if stat == 'goals':\n",
    "                return row['FTHG']\n",
    "            elif stat == 'shots':\n",
    "                return row['HST']\n",
    "            elif stat == 'corners':\n",
    "                return row['HC']\n",
    "        elif row['Wk_a'] == wk and row['AwayTeam'] == team:\n",
    "            if stat == 'goals':\n",
    "                return row['FTAG']\n",
    "            elif stat == 'shots':\n",
    "                return row['AST']\n",
    "            elif stat == 'corners':\n",
    "                return row['AC']\n",
    "            return row[stat]\n",
    "\n",
    "\n",
    "def get_points_season(team, fr, to):\n",
    "    out = 0\n",
    "    for i in range(fr, to):\n",
    "        out = out + get_points(team, i)\n",
    "    return out\n",
    "\n",
    "\n",
    "def get_stats_season(team, fr, to, category):\n",
    "    test = []\n",
    "    out = 0\n",
    "    df2 = 0\n",
    "    if fr == to: return 0\n",
    "    for i in range(fr, to):\n",
    "        out = out + get_stats(team, i, category)\n",
    "        test.append(out)\n",
    "        df = pd.Series(test)\n",
    "        df2 = df.ewm(alpha=0.4).mean()[len(df) - 1]\n",
    "    return df2\n",
    "\n",
    "\n",
    "def get_ewm_season(team, fr, to):\n",
    "    test = []\n",
    "    out = 0\n",
    "    if fr == to: return 0\n",
    "    for i in range(fr, to):\n",
    "        out = out + get_points(team, i)\n",
    "        test.append(out)\n",
    "        df = pd.Series(test)\n",
    "        df2 = df.ewm(alpha=0.4).mean()[len(df) - 1]\n",
    "    return df2\n",
    "\n",
    "\n",
    "def append_form(timespan):\n",
    "    formH = []\n",
    "    formA = []\n",
    "    for index, row in PL20_21_fixtures.iterrows():\n",
    "        wk_h = row['Wk_h']\n",
    "        wk_a = row['Wk_a']\n",
    "        teamH = row['HomeTeam']\n",
    "        teamA = row['AwayTeam']\n",
    "        if int(wk_h) - timespan < 1:\n",
    "            pointsH = get_points_season(teamH, 1, int(wk_h) - 1)\n",
    "        else:\n",
    "            pointsH = get_points_season(teamH, int(wk_h) - timespan, int(wk_h) - 1)\n",
    "        if int(wk_a) - timespan < 1:\n",
    "            pointsA = get_points_season(teamA, 1, int(wk_a) - 1)\n",
    "        else:\n",
    "            pointsA = get_points_season(teamA, int(wk_a) - timespan, int(wk_a) - 1)\n",
    "        formH.append(pointsH)\n",
    "        formA.append(pointsA)\n",
    "    PL20_21_fixtures['formH'] = formH\n",
    "    PL20_21_fixtures['formA'] = formA\n",
    "\n",
    "\n",
    "def append_ewm(timespan):\n",
    "    formH = []\n",
    "    formA = []\n",
    "    for index, row in PL20_21_fixtures.iterrows():\n",
    "        wk_h = row['Wk_h']\n",
    "        wk_a = row['Wk_a']\n",
    "        teamH = row['HomeTeam']\n",
    "        teamA = row['AwayTeam']\n",
    "        if int(wk_h) - timespan < 1:\n",
    "            pointsH = get_ewm_season(teamH, 1, int(wk_h))\n",
    "        else:\n",
    "            pointsH = get_ewm_season(teamH, int(wk_h) - timespan, int(wk_h) - 1)\n",
    "        if int(wk_a) - timespan < 1:\n",
    "            pointsA = get_ewm_season(teamA, 1, int(wk_a))\n",
    "        else:\n",
    "            pointsA = get_ewm_season(teamA, int(wk_a) - timespan, int(wk_a) - 1)\n",
    "        formH.append(pointsH)\n",
    "        formA.append(pointsA)\n",
    "    PL20_21_fixtures['ewmH'] = formH\n",
    "    PL20_21_fixtures['ewmA'] = formA\n",
    "\n",
    "\n",
    "def append_stats(timespan):\n",
    "    goals_h = []\n",
    "    goals_A = []\n",
    "    shots_H = []\n",
    "    shots_A = []\n",
    "    corners_H = []\n",
    "    corners_A = []\n",
    "\n",
    "    for index, row in PL20_21_fixtures.iterrows():\n",
    "        wk_h = row['Wk_h']\n",
    "        wk_a = row['Wk_a']\n",
    "        teamH = row['HomeTeam']\n",
    "        teamA = row['AwayTeam']\n",
    "        if int(wk_h) - timespan < 1:\n",
    "            goalsH = get_stats_season(teamH, 1, int(wk_h) - 1, 'goals')\n",
    "            shotsH = get_stats_season(teamH, 1, int(wk_h) - 1, 'shots')\n",
    "            cornersH = get_stats_season(teamH, 1, int(wk_h) - 1, 'corners')\n",
    "        else:\n",
    "            goalsH = get_stats_season(teamH, int(wk_h) - timespan, int(wk_h) - 1, 'goals')\n",
    "            shotsH = get_stats_season(teamH, int(wk_h) - timespan, int(wk_h) - 1, 'shots')\n",
    "            cornersH = get_stats_season(teamH, int(wk_h) - timespan, int(wk_h) - 1, 'corners')\n",
    "\n",
    "        if int(wk_a) - timespan < 1:\n",
    "            goalsA = get_stats_season(teamA, 1, int(wk_a) - 1, 'goals')\n",
    "            shotsA = get_stats_season(teamA, 1, int(wk_a) - 1, 'shots')\n",
    "            cornersA = get_stats_season(teamA, 1, int(wk_a) - 1, 'corners')\n",
    "        else:\n",
    "            goalsA = get_stats_season(teamA, int(wk_a) - timespan, int(wk_a) - 1, 'goals')\n",
    "            shotsA = get_stats_season(teamA, int(wk_a) - timespan, int(wk_a) - 1, 'shots')\n",
    "            cornersA = get_stats_season(teamA, int(wk_a) - timespan, int(wk_a) - 1, 'corners')\n",
    "\n",
    "        goals_h.append(goalsH)\n",
    "        goals_A.append(goalsA)\n",
    "        shots_H.append(shotsH)\n",
    "        shots_A.append(shotsA)\n",
    "        corners_H.append(cornersH)\n",
    "        corners_A.append(cornersA)\n",
    "    PL20_21_fixtures['goalsH'] = goals_h\n",
    "    PL20_21_fixtures['goalsA'] = goals_A\n",
    "    PL20_21_fixtures['shotsH'] = shots_H\n",
    "    PL20_21_fixtures['shotsA'] = shots_A\n",
    "    PL20_21_fixtures['cornersH'] = corners_H\n",
    "    PL20_21_fixtures['cornersA'] = corners_A\n",
    "\n",
    "\n",
    "#Elo Rating\n",
    "def expected_result(loc, aw):\n",
    "    dr = loc - aw\n",
    "    we = (1 / (10 ** (-dr / 400) + 1))\n",
    "    return [np.round(we, 3), 1 - np.round(we, 3)]\n",
    "\n",
    "\n",
    "def actual_result(loc, aw):\n",
    "    if loc < aw:\n",
    "        wa = 1\n",
    "        wl = 0\n",
    "    elif loc > aw:\n",
    "        wa = 0\n",
    "        wl = 1\n",
    "    elif loc == aw:\n",
    "        wa = 0.5\n",
    "        wl = 0.5\n",
    "    return [wl, wa]\n",
    "\n",
    "\n",
    "def calculate_elo(elo_l, elo_v, local_goals, away_goals, k_value):\n",
    "    k = k_value\n",
    "    wl, wv = actual_result(local_goals, away_goals)\n",
    "    wel, wev = expected_result(elo_l, elo_v)\n",
    "\n",
    "    elo_ln = elo_l + k * (wl - wel)\n",
    "    elo_vn = elo_v + k * (wv - wev)\n",
    "\n",
    "    return elo_ln, elo_vn"
   ],
   "metadata": {
    "collapsed": false,
    "pycharm": {
     "name": "#%%\n"
    }
   }
  },
  {
   "cell_type": "code",
   "execution_count": 528,
   "outputs": [],
   "source": [
    "def get_points_side(team, wk, home):\n",
    "    for index, row in PL20_21_fixtures.iterrows():\n",
    "        if row['Wk_h'] == wk and row['HomeTeam'] == team and home == True:\n",
    "            if row['FTR'] == 'H':\n",
    "                return 3\n",
    "            if row['FTR'] == 'D':\n",
    "                return 1\n",
    "            else:\n",
    "                return 0\n",
    "        if row['Wk_a'] == wk and row['AwayTeam'] == team and home == False:\n",
    "            if row['FTR'] == 'A':\n",
    "                return 3\n",
    "            if row['FTR'] == 'D':\n",
    "                return 1\n",
    "            else:\n",
    "                return 0\n",
    "    if wk > 2:\n",
    "        return get_points_side(team, wk - 1, home)\n",
    "    else:\n",
    "        return 0\n",
    "\n",
    "\n",
    "def get_points_season_side(team, fr, to, home):\n",
    "    out = 0\n",
    "    for i in range(fr, to):\n",
    "        out = out + get_points_side(team, i, home)\n",
    "    return out\n",
    "\n",
    "\n",
    "def append_form_side(timespan):\n",
    "    formH = []\n",
    "    formA = []\n",
    "    for index, row in PL20_21_fixtures.iterrows():\n",
    "        wk_h = row['Wk_h']\n",
    "        wk_a = row['Wk_a']\n",
    "        teamH = row['HomeTeam']\n",
    "        teamA = row['AwayTeam']\n",
    "        if int(wk_h) - timespan < 1:\n",
    "            pointsH = get_points_season_side(teamH, 1, int(wk_h) - 1, True)\n",
    "        else:\n",
    "            pointsH = get_points_season_side(teamH, int(wk_h) - timespan, int(wk_h) - 1, True)\n",
    "        if int(wk_a) - timespan < 1:\n",
    "            pointsA = get_points_season_side(teamA, 1, int(wk_a) - 1, False)\n",
    "        else:\n",
    "            pointsA = get_points_season_side(teamA, int(wk_a) - timespan, int(wk_a) - 1, False)\n",
    "        formH.append(pointsH)\n",
    "        formA.append(pointsA)\n",
    "    PL20_21_fixtures['formH_side'] = formH\n",
    "    PL20_21_fixtures['formA_side'] = formA\n"
   ],
   "metadata": {
    "collapsed": false,
    "pycharm": {
     "name": "#%%\n"
    }
   }
  },
  {
   "cell_type": "code",
   "execution_count": 530,
   "outputs": [],
   "source": [
    "#add features to table\n",
    "append_stats(40)\n",
    "append_ewm(40)\n",
    "append_form(7)\n",
    "\n",
    "#append_form_side(7)\n",
    "#print(get_points_side( 'Arsenal', 1, True))"
   ],
   "metadata": {
    "collapsed": false,
    "pycharm": {
     "name": "#%%\n"
    }
   }
  },
  {
   "cell_type": "code",
   "execution_count": 531,
   "outputs": [],
   "source": [
    "#calculate Elo scores\n",
    "current_elo = {}\n",
    "for idx, row in PL20_21_fixtures.iterrows():\n",
    "\n",
    "    local = row['HomeTeam']\n",
    "    away = row['AwayTeam']\n",
    "    local_goals = row['FTHG']\n",
    "    away_goals = row['FTAG']\n",
    "    #tournament = row['tournament']\n",
    "\n",
    "    if local not in current_elo.keys():\n",
    "        current_elo[local] = 1500\n",
    "\n",
    "    if away not in current_elo.keys():\n",
    "        current_elo[away] = 1500\n",
    "\n",
    "    elo_l = current_elo[local]\n",
    "    elo_v = current_elo[away]\n",
    "    elo_ln, elo_vn = calculate_elo(elo_l, elo_v, local_goals, away_goals, 30)\n",
    "\n",
    "    current_elo[local] = elo_ln\n",
    "    current_elo[away] = elo_vn\n",
    "\n",
    "    PL20_21_fixtures.loc[idx, 'Elo_h_after'] = elo_ln\n",
    "    PL20_21_fixtures.loc[idx, 'Elo_a_after'] = elo_vn\n",
    "    PL20_21_fixtures.loc[idx, 'Elo_h_before'] = elo_l\n",
    "    PL20_21_fixtures.loc[idx, 'Elo_a_before'] = elo_v"
   ],
   "metadata": {
    "collapsed": false,
    "pycharm": {
     "name": "#%%\n"
    }
   }
  },
  {
   "cell_type": "code",
   "execution_count": 532,
   "outputs": [
    {
     "data": {
      "text/plain": "    Div        Date   Time                 HomeTeam          AwayTeam  FTHG  \\\n0    E0  2020-09-12  12:30                   Fulham           Arsenal     0   \n1    E0  2020-09-12  15:00           Crystal Palace       Southampton     1   \n2    E0  2020-09-12  17:30                Liverpool      Leeds United     4   \n3    E0  2020-09-12  20:00          West Ham United  Newcastle United     0   \n4    E0  2020-09-13  14:00     West Bromwich Albion    Leicester City     0   \n..   ..         ...    ...                      ...               ...   ...   \n375  E0  2021-05-23  16:00                Liverpool    Crystal Palace     2   \n376  E0  2021-05-23  16:00          Manchester City           Everton     5   \n377  E0  2021-05-23  16:00         Sheffield United           Burnley     1   \n378  E0  2021-05-23  16:00          West Ham United       Southampton     3   \n379  E0  2021-05-23  16:00  Wolverhampton Wanderers    Manchester Utd     1   \n\n     FTAG FTR  HTHG  HTAG  ... Elo_a_before goalsDifference  shotsDifference  \\\n0       3   A     0     1  ...      1500.00        0.000000         0.000000   \n1       0   H     1     0  ...      1500.00        0.000000         0.000000   \n2       3   H     3     2  ...      1500.00        0.000000         0.000000   \n3       2   A     0     0  ...      1500.00        0.000000         0.000000   \n4       3   A     0     0  ...      1500.00        0.000000         0.000000   \n..    ...  ..   ...   ...  ...          ...             ...              ...   \n375     0   H     1     0  ...      1449.24       22.293071        83.652912   \n376     0   H     2     0  ...      1518.27       26.720509        62.728504   \n377     0   H     1     0  ...      1440.12      -13.076847       -24.222834   \n378     0   H     2     0  ...      1430.10       10.735182        -3.845682   \n379     2   A     1     2  ...      1602.72      -33.443084       -56.596367   \n\n     cornersDifference  ewmDifference  elo_difference  form_difference  \\\n0             0.000000       0.000000            0.00                0   \n1             0.000000       0.000000            0.00                0   \n2             0.000000       0.000000            0.00                0   \n3             0.000000       0.000000            0.00                0   \n4             0.000000       0.000000            0.00                0   \n..                 ...            ...             ...              ...   \n375          92.166285      19.313782          133.14                8   \n376          82.475726      24.719180          131.52                4   \n377           5.545160     -19.400129         -101.22                0   \n378          -8.857148      18.155503          119.88                0   \n379           1.538009     -25.615866         -150.12                0   \n\n     formH_side  formA_side  form_difference_side  \n0             0           0                     0  \n1             0           0                     0  \n2             0           0                     0  \n3             0           0                     0  \n4             0           0                     0  \n..          ...         ...                   ...  \n375          16           4                    12  \n376           3          12                    -9  \n377           6          12                    -6  \n378           6           0                     6  \n379           9          16                    -7  \n\n[380 rows x 135 columns]",
      "text/html": "<div>\n<style scoped>\n    .dataframe tbody tr th:only-of-type {\n        vertical-align: middle;\n    }\n\n    .dataframe tbody tr th {\n        vertical-align: top;\n    }\n\n    .dataframe thead th {\n        text-align: right;\n    }\n</style>\n<table border=\"1\" class=\"dataframe\">\n  <thead>\n    <tr style=\"text-align: right;\">\n      <th></th>\n      <th>Div</th>\n      <th>Date</th>\n      <th>Time</th>\n      <th>HomeTeam</th>\n      <th>AwayTeam</th>\n      <th>FTHG</th>\n      <th>FTAG</th>\n      <th>FTR</th>\n      <th>HTHG</th>\n      <th>HTAG</th>\n      <th>...</th>\n      <th>Elo_a_before</th>\n      <th>goalsDifference</th>\n      <th>shotsDifference</th>\n      <th>cornersDifference</th>\n      <th>ewmDifference</th>\n      <th>elo_difference</th>\n      <th>form_difference</th>\n      <th>formH_side</th>\n      <th>formA_side</th>\n      <th>form_difference_side</th>\n    </tr>\n  </thead>\n  <tbody>\n    <tr>\n      <th>0</th>\n      <td>E0</td>\n      <td>2020-09-12</td>\n      <td>12:30</td>\n      <td>Fulham</td>\n      <td>Arsenal</td>\n      <td>0</td>\n      <td>3</td>\n      <td>A</td>\n      <td>0</td>\n      <td>1</td>\n      <td>...</td>\n      <td>1500.00</td>\n      <td>0.000000</td>\n      <td>0.000000</td>\n      <td>0.000000</td>\n      <td>0.000000</td>\n      <td>0.00</td>\n      <td>0</td>\n      <td>0</td>\n      <td>0</td>\n      <td>0</td>\n    </tr>\n    <tr>\n      <th>1</th>\n      <td>E0</td>\n      <td>2020-09-12</td>\n      <td>15:00</td>\n      <td>Crystal Palace</td>\n      <td>Southampton</td>\n      <td>1</td>\n      <td>0</td>\n      <td>H</td>\n      <td>1</td>\n      <td>0</td>\n      <td>...</td>\n      <td>1500.00</td>\n      <td>0.000000</td>\n      <td>0.000000</td>\n      <td>0.000000</td>\n      <td>0.000000</td>\n      <td>0.00</td>\n      <td>0</td>\n      <td>0</td>\n      <td>0</td>\n      <td>0</td>\n    </tr>\n    <tr>\n      <th>2</th>\n      <td>E0</td>\n      <td>2020-09-12</td>\n      <td>17:30</td>\n      <td>Liverpool</td>\n      <td>Leeds United</td>\n      <td>4</td>\n      <td>3</td>\n      <td>H</td>\n      <td>3</td>\n      <td>2</td>\n      <td>...</td>\n      <td>1500.00</td>\n      <td>0.000000</td>\n      <td>0.000000</td>\n      <td>0.000000</td>\n      <td>0.000000</td>\n      <td>0.00</td>\n      <td>0</td>\n      <td>0</td>\n      <td>0</td>\n      <td>0</td>\n    </tr>\n    <tr>\n      <th>3</th>\n      <td>E0</td>\n      <td>2020-09-12</td>\n      <td>20:00</td>\n      <td>West Ham United</td>\n      <td>Newcastle United</td>\n      <td>0</td>\n      <td>2</td>\n      <td>A</td>\n      <td>0</td>\n      <td>0</td>\n      <td>...</td>\n      <td>1500.00</td>\n      <td>0.000000</td>\n      <td>0.000000</td>\n      <td>0.000000</td>\n      <td>0.000000</td>\n      <td>0.00</td>\n      <td>0</td>\n      <td>0</td>\n      <td>0</td>\n      <td>0</td>\n    </tr>\n    <tr>\n      <th>4</th>\n      <td>E0</td>\n      <td>2020-09-13</td>\n      <td>14:00</td>\n      <td>West Bromwich Albion</td>\n      <td>Leicester City</td>\n      <td>0</td>\n      <td>3</td>\n      <td>A</td>\n      <td>0</td>\n      <td>0</td>\n      <td>...</td>\n      <td>1500.00</td>\n      <td>0.000000</td>\n      <td>0.000000</td>\n      <td>0.000000</td>\n      <td>0.000000</td>\n      <td>0.00</td>\n      <td>0</td>\n      <td>0</td>\n      <td>0</td>\n      <td>0</td>\n    </tr>\n    <tr>\n      <th>...</th>\n      <td>...</td>\n      <td>...</td>\n      <td>...</td>\n      <td>...</td>\n      <td>...</td>\n      <td>...</td>\n      <td>...</td>\n      <td>...</td>\n      <td>...</td>\n      <td>...</td>\n      <td>...</td>\n      <td>...</td>\n      <td>...</td>\n      <td>...</td>\n      <td>...</td>\n      <td>...</td>\n      <td>...</td>\n      <td>...</td>\n      <td>...</td>\n      <td>...</td>\n      <td>...</td>\n    </tr>\n    <tr>\n      <th>375</th>\n      <td>E0</td>\n      <td>2021-05-23</td>\n      <td>16:00</td>\n      <td>Liverpool</td>\n      <td>Crystal Palace</td>\n      <td>2</td>\n      <td>0</td>\n      <td>H</td>\n      <td>1</td>\n      <td>0</td>\n      <td>...</td>\n      <td>1449.24</td>\n      <td>22.293071</td>\n      <td>83.652912</td>\n      <td>92.166285</td>\n      <td>19.313782</td>\n      <td>133.14</td>\n      <td>8</td>\n      <td>16</td>\n      <td>4</td>\n      <td>12</td>\n    </tr>\n    <tr>\n      <th>376</th>\n      <td>E0</td>\n      <td>2021-05-23</td>\n      <td>16:00</td>\n      <td>Manchester City</td>\n      <td>Everton</td>\n      <td>5</td>\n      <td>0</td>\n      <td>H</td>\n      <td>2</td>\n      <td>0</td>\n      <td>...</td>\n      <td>1518.27</td>\n      <td>26.720509</td>\n      <td>62.728504</td>\n      <td>82.475726</td>\n      <td>24.719180</td>\n      <td>131.52</td>\n      <td>4</td>\n      <td>3</td>\n      <td>12</td>\n      <td>-9</td>\n    </tr>\n    <tr>\n      <th>377</th>\n      <td>E0</td>\n      <td>2021-05-23</td>\n      <td>16:00</td>\n      <td>Sheffield United</td>\n      <td>Burnley</td>\n      <td>1</td>\n      <td>0</td>\n      <td>H</td>\n      <td>1</td>\n      <td>0</td>\n      <td>...</td>\n      <td>1440.12</td>\n      <td>-13.076847</td>\n      <td>-24.222834</td>\n      <td>5.545160</td>\n      <td>-19.400129</td>\n      <td>-101.22</td>\n      <td>0</td>\n      <td>6</td>\n      <td>12</td>\n      <td>-6</td>\n    </tr>\n    <tr>\n      <th>378</th>\n      <td>E0</td>\n      <td>2021-05-23</td>\n      <td>16:00</td>\n      <td>West Ham United</td>\n      <td>Southampton</td>\n      <td>3</td>\n      <td>0</td>\n      <td>H</td>\n      <td>2</td>\n      <td>0</td>\n      <td>...</td>\n      <td>1430.10</td>\n      <td>10.735182</td>\n      <td>-3.845682</td>\n      <td>-8.857148</td>\n      <td>18.155503</td>\n      <td>119.88</td>\n      <td>0</td>\n      <td>6</td>\n      <td>0</td>\n      <td>6</td>\n    </tr>\n    <tr>\n      <th>379</th>\n      <td>E0</td>\n      <td>2021-05-23</td>\n      <td>16:00</td>\n      <td>Wolverhampton Wanderers</td>\n      <td>Manchester Utd</td>\n      <td>1</td>\n      <td>2</td>\n      <td>A</td>\n      <td>1</td>\n      <td>2</td>\n      <td>...</td>\n      <td>1602.72</td>\n      <td>-33.443084</td>\n      <td>-56.596367</td>\n      <td>1.538009</td>\n      <td>-25.615866</td>\n      <td>-150.12</td>\n      <td>0</td>\n      <td>9</td>\n      <td>16</td>\n      <td>-7</td>\n    </tr>\n  </tbody>\n</table>\n<p>380 rows × 135 columns</p>\n</div>"
     },
     "execution_count": 532,
     "metadata": {},
     "output_type": "execute_result"
    }
   ],
   "source": [
    "#calculate Differences\n",
    "PL20_21_fixtures['goalsDifference'] = PL20_21_fixtures['goalsH'] - PL20_21_fixtures['goalsA']\n",
    "PL20_21_fixtures\n",
    "\n",
    "PL20_21_fixtures['shotsDifference'] = PL20_21_fixtures['shotsH'] - PL20_21_fixtures['shotsA']\n",
    "PL20_21_fixtures\n",
    "\n",
    "PL20_21_fixtures['cornersDifference'] = PL20_21_fixtures['cornersH'] - PL20_21_fixtures['cornersA']\n",
    "PL20_21_fixtures\n",
    "\n",
    "PL20_21_fixtures['ewmDifference'] = PL20_21_fixtures['ewmH'] - PL20_21_fixtures['ewmA']\n",
    "PL20_21_fixtures\n",
    "\n",
    "PL20_21_fixtures['elo_difference'] = PL20_21_fixtures['Elo_h_before'] - PL20_21_fixtures['Elo_a_before']\n",
    "PL20_21_fixtures\n",
    "\n",
    "PL20_21_fixtures['form_difference'] = PL20_21_fixtures['formH'] - PL20_21_fixtures['formA']\n",
    "PL20_21_fixtures\n",
    "\n",
    "PL20_21_fixtures['form_difference_side'] = PL20_21_fixtures['formH_side'] - PL20_21_fixtures['formA_side']\n",
    "PL20_21_fixtures"
   ],
   "metadata": {
    "collapsed": false,
    "pycharm": {
     "name": "#%%\n"
    }
   }
  },
  {
   "cell_type": "code",
   "execution_count": 533,
   "outputs": [
    {
     "data": {
      "text/plain": "    Div        Date   Time   HomeTeam                 AwayTeam  FTHG  FTAG  \\\n2    E0  2020-09-12  17:30  Liverpool             Leeds United     4     3   \n27   E0  2020-09-28  20:00  Liverpool                  Arsenal     3     1   \n52   E0  2020-10-24  20:00  Liverpool         Sheffield United     2     1   \n61   E0  2020-10-31  17:30  Liverpool          West Ham United     2     1   \n85   E0  2020-11-22  19:15  Liverpool           Leicester City     3     0   \n105  E0  2020-12-06  19:15  Liverpool  Wolverhampton Wanderers     4     0   \n123  E0  2020-12-16  20:00  Liverpool                Tottenham     2     1   \n145  E0  2020-12-27  16:30  Liverpool     West Bromwich Albion     1     1   \n176  E0  2021-01-17  16:30  Liverpool           Manchester Utd     0     0   \n183  E0  2021-01-21  20:00  Liverpool                  Burnley     0     1   \n213  E0  2021-02-03  20:15  Liverpool   Brighton & Hove Albion     0     1   \n222  E0  2021-02-07  16:30  Liverpool          Manchester City     1     4   \n240  E0  2021-02-20  17:30  Liverpool                  Everton     0     2   \n264  E0  2021-03-04  20:15  Liverpool                  Chelsea     0     1   \n270  E0  2021-03-07  14:00  Liverpool                   Fulham     0     1   \n302  E0  2021-04-10  15:00  Liverpool              Aston Villa     2     1   \n321  E0  2021-04-24  12:30  Liverpool         Newcastle United     1     1   \n341  E0  2021-05-08  20:15  Liverpool              Southampton     2     0   \n375  E0  2021-05-23  16:00  Liverpool           Crystal Palace     2     0   \n\n    FTR  HTHG  HTAG  ... Elo_a_before goalsDifference  shotsDifference  \\\n2     H     3     2  ...      1500.00        0.000000         0.000000   \n27    H     2     1  ...      1528.71        1.000000         0.000000   \n52    H     1     1  ...      1444.29        8.466912        14.202206   \n61    H     1     1  ...      1505.88        2.965996         9.804303   \n85    H     2     0  ...      1555.83        0.380284        10.273012   \n105   H     1     0  ...      1528.29       10.167517        24.426093   \n123   H     1     1  ...      1571.97        1.260568        11.496774   \n145   D     1     0  ...      1403.79       17.384513        40.926812   \n176   D     0     0  ...      1601.70        4.659704        10.873044   \n183   A     0     0  ...      1451.28       27.200076        54.421919   \n213   A     0     0  ...      1467.78       16.761128        45.998369   \n222   A     0     0  ...      1629.99        6.595275        10.512829   \n240   A     0     1  ...      1514.94       10.034379        35.480428   \n264   A     0     1  ...      1554.12        5.109417        10.858324   \n270   A     0     1  ...      1444.62       25.122616        43.601989   \n302   H     0     1  ...      1497.99        8.546242        11.549781   \n321   D     1     0  ...      1455.33       20.535679        57.270247   \n341   H     1     0  ...      1420.53       13.470176        38.251072   \n375   H     1     0  ...      1449.24       22.293071        83.652912   \n\n     cornersDifference  ewmDifference  elo_difference  form_difference  \\\n2             0.000000       0.000000            0.00                0   \n27            6.000000       0.000000            1.29                0   \n52            6.154412       8.381679           86.07                9   \n61           12.977793       4.274168           35.85                3   \n85            8.049093       0.071603           -1.77                1   \n105          17.916523       4.230733           37.02                0   \n123          18.821578       0.167494            0.69               -2   \n145          24.254334      20.797890          194.94                8   \n176          15.984279      -0.230326          -32.70               -2   \n183          39.447502      17.610074          119.13               -1   \n213          24.435137      18.757014          112.74                0   \n222          -3.972804      -4.438620          -69.18              -10   \n240          49.414277       3.114784           19.53               -1   \n264           8.457019      -0.610667          -27.06               -8   \n270          68.638871      20.220927           68.61               -3   \n302          25.214923       4.203252           27.87                1   \n321          65.207330      18.460931           83.34                5   \n341          59.035926      15.792182          114.60                4   \n375          92.166285      19.313782          133.14                8   \n\n     formH_side  formA_side  form_difference_side  \n2             0           0                     0  \n27            3           3                     0  \n52            9           0                     9  \n61           12           4                     8  \n85           15          15                     0  \n105          18           9                     9  \n123          18          14                     4  \n145          18           1                    17  \n176          14          12                     2  \n183          12           5                     7  \n213           4           9                    -5  \n222           3          18                   -15  \n240           1          14                   -13  \n264           0          10                   -10  \n270           0           8                    -8  \n302           0           6                    -6  \n321           3           5                    -2  \n341           6           3                     3  \n375          16           4                    12  \n\n[19 rows x 135 columns]",
      "text/html": "<div>\n<style scoped>\n    .dataframe tbody tr th:only-of-type {\n        vertical-align: middle;\n    }\n\n    .dataframe tbody tr th {\n        vertical-align: top;\n    }\n\n    .dataframe thead th {\n        text-align: right;\n    }\n</style>\n<table border=\"1\" class=\"dataframe\">\n  <thead>\n    <tr style=\"text-align: right;\">\n      <th></th>\n      <th>Div</th>\n      <th>Date</th>\n      <th>Time</th>\n      <th>HomeTeam</th>\n      <th>AwayTeam</th>\n      <th>FTHG</th>\n      <th>FTAG</th>\n      <th>FTR</th>\n      <th>HTHG</th>\n      <th>HTAG</th>\n      <th>...</th>\n      <th>Elo_a_before</th>\n      <th>goalsDifference</th>\n      <th>shotsDifference</th>\n      <th>cornersDifference</th>\n      <th>ewmDifference</th>\n      <th>elo_difference</th>\n      <th>form_difference</th>\n      <th>formH_side</th>\n      <th>formA_side</th>\n      <th>form_difference_side</th>\n    </tr>\n  </thead>\n  <tbody>\n    <tr>\n      <th>2</th>\n      <td>E0</td>\n      <td>2020-09-12</td>\n      <td>17:30</td>\n      <td>Liverpool</td>\n      <td>Leeds United</td>\n      <td>4</td>\n      <td>3</td>\n      <td>H</td>\n      <td>3</td>\n      <td>2</td>\n      <td>...</td>\n      <td>1500.00</td>\n      <td>0.000000</td>\n      <td>0.000000</td>\n      <td>0.000000</td>\n      <td>0.000000</td>\n      <td>0.00</td>\n      <td>0</td>\n      <td>0</td>\n      <td>0</td>\n      <td>0</td>\n    </tr>\n    <tr>\n      <th>27</th>\n      <td>E0</td>\n      <td>2020-09-28</td>\n      <td>20:00</td>\n      <td>Liverpool</td>\n      <td>Arsenal</td>\n      <td>3</td>\n      <td>1</td>\n      <td>H</td>\n      <td>2</td>\n      <td>1</td>\n      <td>...</td>\n      <td>1528.71</td>\n      <td>1.000000</td>\n      <td>0.000000</td>\n      <td>6.000000</td>\n      <td>0.000000</td>\n      <td>1.29</td>\n      <td>0</td>\n      <td>3</td>\n      <td>3</td>\n      <td>0</td>\n    </tr>\n    <tr>\n      <th>52</th>\n      <td>E0</td>\n      <td>2020-10-24</td>\n      <td>20:00</td>\n      <td>Liverpool</td>\n      <td>Sheffield United</td>\n      <td>2</td>\n      <td>1</td>\n      <td>H</td>\n      <td>1</td>\n      <td>1</td>\n      <td>...</td>\n      <td>1444.29</td>\n      <td>8.466912</td>\n      <td>14.202206</td>\n      <td>6.154412</td>\n      <td>8.381679</td>\n      <td>86.07</td>\n      <td>9</td>\n      <td>9</td>\n      <td>0</td>\n      <td>9</td>\n    </tr>\n    <tr>\n      <th>61</th>\n      <td>E0</td>\n      <td>2020-10-31</td>\n      <td>17:30</td>\n      <td>Liverpool</td>\n      <td>West Ham United</td>\n      <td>2</td>\n      <td>1</td>\n      <td>H</td>\n      <td>1</td>\n      <td>1</td>\n      <td>...</td>\n      <td>1505.88</td>\n      <td>2.965996</td>\n      <td>9.804303</td>\n      <td>12.977793</td>\n      <td>4.274168</td>\n      <td>35.85</td>\n      <td>3</td>\n      <td>12</td>\n      <td>4</td>\n      <td>8</td>\n    </tr>\n    <tr>\n      <th>85</th>\n      <td>E0</td>\n      <td>2020-11-22</td>\n      <td>19:15</td>\n      <td>Liverpool</td>\n      <td>Leicester City</td>\n      <td>3</td>\n      <td>0</td>\n      <td>H</td>\n      <td>2</td>\n      <td>0</td>\n      <td>...</td>\n      <td>1555.83</td>\n      <td>0.380284</td>\n      <td>10.273012</td>\n      <td>8.049093</td>\n      <td>0.071603</td>\n      <td>-1.77</td>\n      <td>1</td>\n      <td>15</td>\n      <td>15</td>\n      <td>0</td>\n    </tr>\n    <tr>\n      <th>105</th>\n      <td>E0</td>\n      <td>2020-12-06</td>\n      <td>19:15</td>\n      <td>Liverpool</td>\n      <td>Wolverhampton Wanderers</td>\n      <td>4</td>\n      <td>0</td>\n      <td>H</td>\n      <td>1</td>\n      <td>0</td>\n      <td>...</td>\n      <td>1528.29</td>\n      <td>10.167517</td>\n      <td>24.426093</td>\n      <td>17.916523</td>\n      <td>4.230733</td>\n      <td>37.02</td>\n      <td>0</td>\n      <td>18</td>\n      <td>9</td>\n      <td>9</td>\n    </tr>\n    <tr>\n      <th>123</th>\n      <td>E0</td>\n      <td>2020-12-16</td>\n      <td>20:00</td>\n      <td>Liverpool</td>\n      <td>Tottenham</td>\n      <td>2</td>\n      <td>1</td>\n      <td>H</td>\n      <td>1</td>\n      <td>1</td>\n      <td>...</td>\n      <td>1571.97</td>\n      <td>1.260568</td>\n      <td>11.496774</td>\n      <td>18.821578</td>\n      <td>0.167494</td>\n      <td>0.69</td>\n      <td>-2</td>\n      <td>18</td>\n      <td>14</td>\n      <td>4</td>\n    </tr>\n    <tr>\n      <th>145</th>\n      <td>E0</td>\n      <td>2020-12-27</td>\n      <td>16:30</td>\n      <td>Liverpool</td>\n      <td>West Bromwich Albion</td>\n      <td>1</td>\n      <td>1</td>\n      <td>D</td>\n      <td>1</td>\n      <td>0</td>\n      <td>...</td>\n      <td>1403.79</td>\n      <td>17.384513</td>\n      <td>40.926812</td>\n      <td>24.254334</td>\n      <td>20.797890</td>\n      <td>194.94</td>\n      <td>8</td>\n      <td>18</td>\n      <td>1</td>\n      <td>17</td>\n    </tr>\n    <tr>\n      <th>176</th>\n      <td>E0</td>\n      <td>2021-01-17</td>\n      <td>16:30</td>\n      <td>Liverpool</td>\n      <td>Manchester Utd</td>\n      <td>0</td>\n      <td>0</td>\n      <td>D</td>\n      <td>0</td>\n      <td>0</td>\n      <td>...</td>\n      <td>1601.70</td>\n      <td>4.659704</td>\n      <td>10.873044</td>\n      <td>15.984279</td>\n      <td>-0.230326</td>\n      <td>-32.70</td>\n      <td>-2</td>\n      <td>14</td>\n      <td>12</td>\n      <td>2</td>\n    </tr>\n    <tr>\n      <th>183</th>\n      <td>E0</td>\n      <td>2021-01-21</td>\n      <td>20:00</td>\n      <td>Liverpool</td>\n      <td>Burnley</td>\n      <td>0</td>\n      <td>1</td>\n      <td>A</td>\n      <td>0</td>\n      <td>0</td>\n      <td>...</td>\n      <td>1451.28</td>\n      <td>27.200076</td>\n      <td>54.421919</td>\n      <td>39.447502</td>\n      <td>17.610074</td>\n      <td>119.13</td>\n      <td>-1</td>\n      <td>12</td>\n      <td>5</td>\n      <td>7</td>\n    </tr>\n    <tr>\n      <th>213</th>\n      <td>E0</td>\n      <td>2021-02-03</td>\n      <td>20:15</td>\n      <td>Liverpool</td>\n      <td>Brighton &amp; Hove Albion</td>\n      <td>0</td>\n      <td>1</td>\n      <td>A</td>\n      <td>0</td>\n      <td>0</td>\n      <td>...</td>\n      <td>1467.78</td>\n      <td>16.761128</td>\n      <td>45.998369</td>\n      <td>24.435137</td>\n      <td>18.757014</td>\n      <td>112.74</td>\n      <td>0</td>\n      <td>4</td>\n      <td>9</td>\n      <td>-5</td>\n    </tr>\n    <tr>\n      <th>222</th>\n      <td>E0</td>\n      <td>2021-02-07</td>\n      <td>16:30</td>\n      <td>Liverpool</td>\n      <td>Manchester City</td>\n      <td>1</td>\n      <td>4</td>\n      <td>A</td>\n      <td>0</td>\n      <td>0</td>\n      <td>...</td>\n      <td>1629.99</td>\n      <td>6.595275</td>\n      <td>10.512829</td>\n      <td>-3.972804</td>\n      <td>-4.438620</td>\n      <td>-69.18</td>\n      <td>-10</td>\n      <td>3</td>\n      <td>18</td>\n      <td>-15</td>\n    </tr>\n    <tr>\n      <th>240</th>\n      <td>E0</td>\n      <td>2021-02-20</td>\n      <td>17:30</td>\n      <td>Liverpool</td>\n      <td>Everton</td>\n      <td>0</td>\n      <td>2</td>\n      <td>A</td>\n      <td>0</td>\n      <td>1</td>\n      <td>...</td>\n      <td>1514.94</td>\n      <td>10.034379</td>\n      <td>35.480428</td>\n      <td>49.414277</td>\n      <td>3.114784</td>\n      <td>19.53</td>\n      <td>-1</td>\n      <td>1</td>\n      <td>14</td>\n      <td>-13</td>\n    </tr>\n    <tr>\n      <th>264</th>\n      <td>E0</td>\n      <td>2021-03-04</td>\n      <td>20:15</td>\n      <td>Liverpool</td>\n      <td>Chelsea</td>\n      <td>0</td>\n      <td>1</td>\n      <td>A</td>\n      <td>0</td>\n      <td>1</td>\n      <td>...</td>\n      <td>1554.12</td>\n      <td>5.109417</td>\n      <td>10.858324</td>\n      <td>8.457019</td>\n      <td>-0.610667</td>\n      <td>-27.06</td>\n      <td>-8</td>\n      <td>0</td>\n      <td>10</td>\n      <td>-10</td>\n    </tr>\n    <tr>\n      <th>270</th>\n      <td>E0</td>\n      <td>2021-03-07</td>\n      <td>14:00</td>\n      <td>Liverpool</td>\n      <td>Fulham</td>\n      <td>0</td>\n      <td>1</td>\n      <td>A</td>\n      <td>0</td>\n      <td>1</td>\n      <td>...</td>\n      <td>1444.62</td>\n      <td>25.122616</td>\n      <td>43.601989</td>\n      <td>68.638871</td>\n      <td>20.220927</td>\n      <td>68.61</td>\n      <td>-3</td>\n      <td>0</td>\n      <td>8</td>\n      <td>-8</td>\n    </tr>\n    <tr>\n      <th>302</th>\n      <td>E0</td>\n      <td>2021-04-10</td>\n      <td>15:00</td>\n      <td>Liverpool</td>\n      <td>Aston Villa</td>\n      <td>2</td>\n      <td>1</td>\n      <td>H</td>\n      <td>0</td>\n      <td>1</td>\n      <td>...</td>\n      <td>1497.99</td>\n      <td>8.546242</td>\n      <td>11.549781</td>\n      <td>25.214923</td>\n      <td>4.203252</td>\n      <td>27.87</td>\n      <td>1</td>\n      <td>0</td>\n      <td>6</td>\n      <td>-6</td>\n    </tr>\n    <tr>\n      <th>321</th>\n      <td>E0</td>\n      <td>2021-04-24</td>\n      <td>12:30</td>\n      <td>Liverpool</td>\n      <td>Newcastle United</td>\n      <td>1</td>\n      <td>1</td>\n      <td>D</td>\n      <td>1</td>\n      <td>0</td>\n      <td>...</td>\n      <td>1455.33</td>\n      <td>20.535679</td>\n      <td>57.270247</td>\n      <td>65.207330</td>\n      <td>18.460931</td>\n      <td>83.34</td>\n      <td>5</td>\n      <td>3</td>\n      <td>5</td>\n      <td>-2</td>\n    </tr>\n    <tr>\n      <th>341</th>\n      <td>E0</td>\n      <td>2021-05-08</td>\n      <td>20:15</td>\n      <td>Liverpool</td>\n      <td>Southampton</td>\n      <td>2</td>\n      <td>0</td>\n      <td>H</td>\n      <td>1</td>\n      <td>0</td>\n      <td>...</td>\n      <td>1420.53</td>\n      <td>13.470176</td>\n      <td>38.251072</td>\n      <td>59.035926</td>\n      <td>15.792182</td>\n      <td>114.60</td>\n      <td>4</td>\n      <td>6</td>\n      <td>3</td>\n      <td>3</td>\n    </tr>\n    <tr>\n      <th>375</th>\n      <td>E0</td>\n      <td>2021-05-23</td>\n      <td>16:00</td>\n      <td>Liverpool</td>\n      <td>Crystal Palace</td>\n      <td>2</td>\n      <td>0</td>\n      <td>H</td>\n      <td>1</td>\n      <td>0</td>\n      <td>...</td>\n      <td>1449.24</td>\n      <td>22.293071</td>\n      <td>83.652912</td>\n      <td>92.166285</td>\n      <td>19.313782</td>\n      <td>133.14</td>\n      <td>8</td>\n      <td>16</td>\n      <td>4</td>\n      <td>12</td>\n    </tr>\n  </tbody>\n</table>\n<p>19 rows × 135 columns</p>\n</div>"
     },
     "execution_count": 533,
     "metadata": {},
     "output_type": "execute_result"
    }
   ],
   "source": [
    "rslt_df = PL20_21_fixtures[PL20_21_fixtures['HomeTeam'] == 'Liverpool']\n",
    "#rslt_df2 = PL20_21_fixtures[PL20_21_fixtures['AwayTeam'] == 'Liverpool' ]\n",
    "rslt_df\n",
    "#rslt_df.append(rslt_df2).sort_index()"
   ],
   "metadata": {
    "collapsed": false,
    "pycharm": {
     "name": "#%%\n"
    }
   }
  },
  {
   "cell_type": "code",
   "execution_count": 534,
   "outputs": [
    {
     "data": {
      "text/plain": "A    153\nH    144\nD     83\nName: FTR, dtype: int64"
     },
     "execution_count": 534,
     "metadata": {},
     "output_type": "execute_result"
    }
   ],
   "source": [
    "test = PL20_21_fixtures['FTR']\n",
    "test.value_counts()"
   ],
   "metadata": {
    "collapsed": false,
    "pycharm": {
     "name": "#%%\n"
    }
   }
  },
  {
   "cell_type": "code",
   "execution_count": 535,
   "outputs": [],
   "source": [
    "#elos=PL20_21_fixtures[['Date_x','HomeTeam','Elo_h_after']].rename(columns={'home_team':'Team','Elo_h_after':'Elo'}).append(PL20_21_fixtures[['Date_x','AwayTeam','Elo_a_after']].rename(columns={'away_team':'Team','Elo_a_after':'Elo'}))\n",
    "#elos"
   ],
   "metadata": {
    "collapsed": false,
    "pycharm": {
     "name": "#%%\n"
    }
   }
  },
  {
   "cell_type": "code",
   "execution_count": 536,
   "outputs": [],
   "source": [
    "PL20_21_fixtures.to_csv('Data/2020-21/Fixtures/PL20_21_features.csv')"
   ],
   "metadata": {
    "collapsed": false,
    "pycharm": {
     "name": "#%%\n"
    }
   }
  },
  {
   "cell_type": "code",
   "execution_count": 537,
   "outputs": [
    {
     "data": {
      "text/plain": "     Unnamed: 0 Div        Date   Time                 HomeTeam  \\\n0             0  E0  2020-09-12  12:30                   Fulham   \n1             1  E0  2020-09-12  15:00           Crystal Palace   \n2             2  E0  2020-09-12  17:30                Liverpool   \n3             3  E0  2020-09-12  20:00          West Ham United   \n4             4  E0  2020-09-13  14:00     West Bromwich Albion   \n..          ...  ..         ...    ...                      ...   \n375         375  E0  2021-05-23  16:00                Liverpool   \n376         376  E0  2021-05-23  16:00          Manchester City   \n377         377  E0  2021-05-23  16:00         Sheffield United   \n378         378  E0  2021-05-23  16:00          West Ham United   \n379         379  E0  2021-05-23  16:00  Wolverhampton Wanderers   \n\n             AwayTeam  FTHG  FTAG FTR  HTHG  ...  Elo_a_before  \\\n0             Arsenal     0     3   A     0  ...       1500.00   \n1         Southampton     1     0   H     1  ...       1500.00   \n2        Leeds United     4     3   H     3  ...       1500.00   \n3    Newcastle United     0     2   A     0  ...       1500.00   \n4      Leicester City     0     3   A     0  ...       1500.00   \n..                ...   ...   ...  ..   ...  ...           ...   \n375    Crystal Palace     2     0   H     1  ...       1449.24   \n376           Everton     5     0   H     2  ...       1518.27   \n377           Burnley     1     0   H     1  ...       1440.12   \n378       Southampton     3     0   H     2  ...       1430.10   \n379    Manchester Utd     1     2   A     1  ...       1602.72   \n\n    goalsDifference shotsDifference  cornersDifference  ewmDifference  \\\n0          0.000000        0.000000           0.000000       0.000000   \n1          0.000000        0.000000           0.000000       0.000000   \n2          0.000000        0.000000           0.000000       0.000000   \n3          0.000000        0.000000           0.000000       0.000000   \n4          0.000000        0.000000           0.000000       0.000000   \n..              ...             ...                ...            ...   \n375       22.293071       83.652912          92.166285      19.313782   \n376       26.720509       62.728504          82.475726      24.719180   \n377      -13.076847      -24.222834           5.545160     -19.400129   \n378       10.735182       -3.845682          -8.857148      18.155503   \n379      -33.443084      -56.596367           1.538009     -25.615866   \n\n     elo_difference  form_difference  formH_side  formA_side  \\\n0              0.00                0           0           0   \n1              0.00                0           0           0   \n2              0.00                0           0           0   \n3              0.00                0           0           0   \n4              0.00                0           0           0   \n..              ...              ...         ...         ...   \n375          133.14                8          16           4   \n376          131.52                4           3          12   \n377         -101.22                0           6          12   \n378          119.88                0           6           0   \n379         -150.12                0           9          16   \n\n     form_difference_side  \n0                       0  \n1                       0  \n2                       0  \n3                       0  \n4                       0  \n..                    ...  \n375                    12  \n376                    -9  \n377                    -6  \n378                     6  \n379                    -7  \n\n[380 rows x 136 columns]",
      "text/html": "<div>\n<style scoped>\n    .dataframe tbody tr th:only-of-type {\n        vertical-align: middle;\n    }\n\n    .dataframe tbody tr th {\n        vertical-align: top;\n    }\n\n    .dataframe thead th {\n        text-align: right;\n    }\n</style>\n<table border=\"1\" class=\"dataframe\">\n  <thead>\n    <tr style=\"text-align: right;\">\n      <th></th>\n      <th>Unnamed: 0</th>\n      <th>Div</th>\n      <th>Date</th>\n      <th>Time</th>\n      <th>HomeTeam</th>\n      <th>AwayTeam</th>\n      <th>FTHG</th>\n      <th>FTAG</th>\n      <th>FTR</th>\n      <th>HTHG</th>\n      <th>...</th>\n      <th>Elo_a_before</th>\n      <th>goalsDifference</th>\n      <th>shotsDifference</th>\n      <th>cornersDifference</th>\n      <th>ewmDifference</th>\n      <th>elo_difference</th>\n      <th>form_difference</th>\n      <th>formH_side</th>\n      <th>formA_side</th>\n      <th>form_difference_side</th>\n    </tr>\n  </thead>\n  <tbody>\n    <tr>\n      <th>0</th>\n      <td>0</td>\n      <td>E0</td>\n      <td>2020-09-12</td>\n      <td>12:30</td>\n      <td>Fulham</td>\n      <td>Arsenal</td>\n      <td>0</td>\n      <td>3</td>\n      <td>A</td>\n      <td>0</td>\n      <td>...</td>\n      <td>1500.00</td>\n      <td>0.000000</td>\n      <td>0.000000</td>\n      <td>0.000000</td>\n      <td>0.000000</td>\n      <td>0.00</td>\n      <td>0</td>\n      <td>0</td>\n      <td>0</td>\n      <td>0</td>\n    </tr>\n    <tr>\n      <th>1</th>\n      <td>1</td>\n      <td>E0</td>\n      <td>2020-09-12</td>\n      <td>15:00</td>\n      <td>Crystal Palace</td>\n      <td>Southampton</td>\n      <td>1</td>\n      <td>0</td>\n      <td>H</td>\n      <td>1</td>\n      <td>...</td>\n      <td>1500.00</td>\n      <td>0.000000</td>\n      <td>0.000000</td>\n      <td>0.000000</td>\n      <td>0.000000</td>\n      <td>0.00</td>\n      <td>0</td>\n      <td>0</td>\n      <td>0</td>\n      <td>0</td>\n    </tr>\n    <tr>\n      <th>2</th>\n      <td>2</td>\n      <td>E0</td>\n      <td>2020-09-12</td>\n      <td>17:30</td>\n      <td>Liverpool</td>\n      <td>Leeds United</td>\n      <td>4</td>\n      <td>3</td>\n      <td>H</td>\n      <td>3</td>\n      <td>...</td>\n      <td>1500.00</td>\n      <td>0.000000</td>\n      <td>0.000000</td>\n      <td>0.000000</td>\n      <td>0.000000</td>\n      <td>0.00</td>\n      <td>0</td>\n      <td>0</td>\n      <td>0</td>\n      <td>0</td>\n    </tr>\n    <tr>\n      <th>3</th>\n      <td>3</td>\n      <td>E0</td>\n      <td>2020-09-12</td>\n      <td>20:00</td>\n      <td>West Ham United</td>\n      <td>Newcastle United</td>\n      <td>0</td>\n      <td>2</td>\n      <td>A</td>\n      <td>0</td>\n      <td>...</td>\n      <td>1500.00</td>\n      <td>0.000000</td>\n      <td>0.000000</td>\n      <td>0.000000</td>\n      <td>0.000000</td>\n      <td>0.00</td>\n      <td>0</td>\n      <td>0</td>\n      <td>0</td>\n      <td>0</td>\n    </tr>\n    <tr>\n      <th>4</th>\n      <td>4</td>\n      <td>E0</td>\n      <td>2020-09-13</td>\n      <td>14:00</td>\n      <td>West Bromwich Albion</td>\n      <td>Leicester City</td>\n      <td>0</td>\n      <td>3</td>\n      <td>A</td>\n      <td>0</td>\n      <td>...</td>\n      <td>1500.00</td>\n      <td>0.000000</td>\n      <td>0.000000</td>\n      <td>0.000000</td>\n      <td>0.000000</td>\n      <td>0.00</td>\n      <td>0</td>\n      <td>0</td>\n      <td>0</td>\n      <td>0</td>\n    </tr>\n    <tr>\n      <th>...</th>\n      <td>...</td>\n      <td>...</td>\n      <td>...</td>\n      <td>...</td>\n      <td>...</td>\n      <td>...</td>\n      <td>...</td>\n      <td>...</td>\n      <td>...</td>\n      <td>...</td>\n      <td>...</td>\n      <td>...</td>\n      <td>...</td>\n      <td>...</td>\n      <td>...</td>\n      <td>...</td>\n      <td>...</td>\n      <td>...</td>\n      <td>...</td>\n      <td>...</td>\n      <td>...</td>\n    </tr>\n    <tr>\n      <th>375</th>\n      <td>375</td>\n      <td>E0</td>\n      <td>2021-05-23</td>\n      <td>16:00</td>\n      <td>Liverpool</td>\n      <td>Crystal Palace</td>\n      <td>2</td>\n      <td>0</td>\n      <td>H</td>\n      <td>1</td>\n      <td>...</td>\n      <td>1449.24</td>\n      <td>22.293071</td>\n      <td>83.652912</td>\n      <td>92.166285</td>\n      <td>19.313782</td>\n      <td>133.14</td>\n      <td>8</td>\n      <td>16</td>\n      <td>4</td>\n      <td>12</td>\n    </tr>\n    <tr>\n      <th>376</th>\n      <td>376</td>\n      <td>E0</td>\n      <td>2021-05-23</td>\n      <td>16:00</td>\n      <td>Manchester City</td>\n      <td>Everton</td>\n      <td>5</td>\n      <td>0</td>\n      <td>H</td>\n      <td>2</td>\n      <td>...</td>\n      <td>1518.27</td>\n      <td>26.720509</td>\n      <td>62.728504</td>\n      <td>82.475726</td>\n      <td>24.719180</td>\n      <td>131.52</td>\n      <td>4</td>\n      <td>3</td>\n      <td>12</td>\n      <td>-9</td>\n    </tr>\n    <tr>\n      <th>377</th>\n      <td>377</td>\n      <td>E0</td>\n      <td>2021-05-23</td>\n      <td>16:00</td>\n      <td>Sheffield United</td>\n      <td>Burnley</td>\n      <td>1</td>\n      <td>0</td>\n      <td>H</td>\n      <td>1</td>\n      <td>...</td>\n      <td>1440.12</td>\n      <td>-13.076847</td>\n      <td>-24.222834</td>\n      <td>5.545160</td>\n      <td>-19.400129</td>\n      <td>-101.22</td>\n      <td>0</td>\n      <td>6</td>\n      <td>12</td>\n      <td>-6</td>\n    </tr>\n    <tr>\n      <th>378</th>\n      <td>378</td>\n      <td>E0</td>\n      <td>2021-05-23</td>\n      <td>16:00</td>\n      <td>West Ham United</td>\n      <td>Southampton</td>\n      <td>3</td>\n      <td>0</td>\n      <td>H</td>\n      <td>2</td>\n      <td>...</td>\n      <td>1430.10</td>\n      <td>10.735182</td>\n      <td>-3.845682</td>\n      <td>-8.857148</td>\n      <td>18.155503</td>\n      <td>119.88</td>\n      <td>0</td>\n      <td>6</td>\n      <td>0</td>\n      <td>6</td>\n    </tr>\n    <tr>\n      <th>379</th>\n      <td>379</td>\n      <td>E0</td>\n      <td>2021-05-23</td>\n      <td>16:00</td>\n      <td>Wolverhampton Wanderers</td>\n      <td>Manchester Utd</td>\n      <td>1</td>\n      <td>2</td>\n      <td>A</td>\n      <td>1</td>\n      <td>...</td>\n      <td>1602.72</td>\n      <td>-33.443084</td>\n      <td>-56.596367</td>\n      <td>1.538009</td>\n      <td>-25.615866</td>\n      <td>-150.12</td>\n      <td>0</td>\n      <td>9</td>\n      <td>16</td>\n      <td>-7</td>\n    </tr>\n  </tbody>\n</table>\n<p>380 rows × 136 columns</p>\n</div>"
     },
     "execution_count": 537,
     "metadata": {},
     "output_type": "execute_result"
    }
   ],
   "source": [
    "PL20_21_features = pd.read_csv('Data/2020-21/Fixtures/PL20_21_features.csv')\n",
    "PL20_21_features"
   ],
   "metadata": {
    "collapsed": false,
    "pycharm": {
     "name": "#%%\n"
    }
   }
  },
  {
   "cell_type": "code",
   "execution_count": 538,
   "outputs": [],
   "source": [
    "#prepare Data for ML Algos\n",
    "#add column for H A X\n",
    "conditions = [\n",
    "    (PL20_21_features['FTR'] == 'H'),\n",
    "    (PL20_21_features['FTR'] == 'A'),\n",
    "    (PL20_21_features['FTR'] == 'D')]\n",
    "choices = [0, 1, 2]\n",
    "PL20_21_features['identifier'] = np.select(conditions, choices)\n",
    "#PL20_21_features.drop(PL20_21_features[ PL20_21_features.Wk < 6].index, inplace=True)\n",
    "y = PL20_21_features['identifier'].to_numpy()\n",
    "feature_names = ['Rating difference', 'Rating_Home', 'Rating_Away', 'ewmH', 'ewmA', 'ewmDifference', 'Elo_h_before','Elo_a_before', 'elo_difference', 'goalsH', 'goalsA', 'goalsDifference', 'shotsH', 'shotsA','shotsDifference', 'cornersH', 'cornersA', 'cornersDifference', 'formH', 'formA', 'form_difference']\n",
    "#feature_names = ['Rating difference', 'elo_difference', 'ewmDifference', 'goalsDifference', 'shotsDifference', 'cornersDifference', 'form_difference']\n",
    "X = PL20_21_features[feature_names].to_numpy()\n",
    "#X = PL20_21_features[['Rating difference', 'eloA', 'eloDifference' ]].to_numpy()\n"
   ],
   "metadata": {
    "collapsed": false,
    "pycharm": {
     "name": "#%%\n"
    }
   }
  },
  {
   "cell_type": "code",
   "execution_count": 539,
   "outputs": [],
   "source": [
    "#split Data in training and test set\n",
    "X_train, X_test, y_train, y_test = train_test_split(X, y, test_size=0.2, random_state=42)"
   ],
   "metadata": {
    "collapsed": false,
    "pycharm": {
     "name": "#%%\n"
    }
   }
  },
  {
   "cell_type": "code",
   "execution_count": 540,
   "outputs": [],
   "source": [
    "#create manual test and training sets, without gw 1-3\n",
    "X_train21 = np.split(X, [40, 340, 380], axis=0)\n",
    "X_train2 = X_train21[1]\n",
    "X_test2 = X_train21[2]\n",
    "y_train21 = np.split(y, [40, 340, 380], axis=0)\n",
    "y_train2 = y_train21[1]\n",
    "y_test2 = y_train21[2]"
   ],
   "metadata": {
    "collapsed": false,
    "pycharm": {
     "name": "#%%\n"
    }
   }
  },
  {
   "cell_type": "code",
   "execution_count": 541,
   "outputs": [
    {
     "name": "stdout",
     "output_type": "stream",
     "text": [
      "X_train : (304, 21)\n",
      "y_train : (304,)\n",
      "X_test : (76, 21)\n",
      "y_test : (76,)\n",
      "X_train2 : (300, 21)\n",
      "y_train2 : (300,)\n",
      "X_test2 : (40, 21)\n",
      "y_test2 : (40,)\n"
     ]
    }
   ],
   "source": [
    "print(f'X_train : {X_train.shape}')\n",
    "print(f'y_train : {y_train.shape}')\n",
    "print(f'X_test : {X_test.shape}')\n",
    "print(f'y_test : {y_test.shape}')\n",
    "print(f'X_train2 : {X_train2.shape}')\n",
    "print(f'y_train2 : {y_train2.shape}')\n",
    "print(f'X_test2 : {X_test2.shape}')\n",
    "print(f'y_test2 : {y_test2.shape}')"
   ],
   "metadata": {
    "collapsed": false,
    "pycharm": {
     "name": "#%%\n"
    }
   }
  },
  {
   "cell_type": "code",
   "execution_count": 542,
   "outputs": [],
   "source": [
    "#set up classifiers\n",
    "rf_model = RandomForestClassifier()\n",
    "xgb_model = xgb.XGBClassifier(seed=82)\n",
    "rf_model2 = RandomForestClassifier()\n",
    "xgb_model2 = xgb.XGBClassifier(seed=82)"
   ],
   "metadata": {
    "collapsed": false,
    "pycharm": {
     "name": "#%%\n"
    }
   }
  },
  {
   "cell_type": "code",
   "execution_count": 543,
   "outputs": [
    {
     "data": {
      "text/plain": "{'bootstrap': True,\n 'ccp_alpha': 0.0,\n 'class_weight': None,\n 'criterion': 'gini',\n 'max_depth': None,\n 'max_features': 'auto',\n 'max_leaf_nodes': None,\n 'max_samples': None,\n 'min_impurity_decrease': 0.0,\n 'min_samples_leaf': 1,\n 'min_samples_split': 2,\n 'min_weight_fraction_leaf': 0.0,\n 'n_estimators': 100,\n 'n_jobs': None,\n 'oob_score': False,\n 'random_state': None,\n 'verbose': 0,\n 'warm_start': False}"
     },
     "execution_count": 543,
     "metadata": {},
     "output_type": "execute_result"
    }
   ],
   "source": [
    "rf_model2.fit(X_train2, y_train2)\n",
    "xgb_model2.fit(X_train2, y_train2)\n",
    "rf_model2.get_params()"
   ],
   "metadata": {
    "collapsed": false,
    "pycharm": {
     "name": "#%%\n"
    }
   }
  },
  {
   "cell_type": "code",
   "execution_count": 544,
   "outputs": [
    {
     "data": {
      "text/plain": "{'bootstrap': True,\n 'ccp_alpha': 0.0,\n 'class_weight': None,\n 'criterion': 'gini',\n 'max_depth': None,\n 'max_features': 'auto',\n 'max_leaf_nodes': None,\n 'max_samples': None,\n 'min_impurity_decrease': 0.0,\n 'min_samples_leaf': 1,\n 'min_samples_split': 2,\n 'min_weight_fraction_leaf': 0.0,\n 'n_estimators': 100,\n 'n_jobs': None,\n 'oob_score': False,\n 'random_state': None,\n 'verbose': 0,\n 'warm_start': False}"
     },
     "execution_count": 544,
     "metadata": {},
     "output_type": "execute_result"
    }
   ],
   "source": [
    "rf_model.fit(X_train, y_train)\n",
    "xgb_model.fit(X_train, y_train)\n",
    "rf_model.get_params()"
   ],
   "metadata": {
    "collapsed": false,
    "pycharm": {
     "name": "#%%\n"
    }
   }
  },
  {
   "cell_type": "code",
   "execution_count": 545,
   "outputs": [
    {
     "data": {
      "text/plain": "0.5131578947368421"
     },
     "execution_count": 545,
     "metadata": {},
     "output_type": "execute_result"
    }
   ],
   "source": [
    "rf_model.score(X_test, y_test)"
   ],
   "metadata": {
    "collapsed": false,
    "pycharm": {
     "name": "#%%\n"
    }
   }
  },
  {
   "cell_type": "code",
   "execution_count": 546,
   "outputs": [
    {
     "data": {
      "text/plain": "0.625"
     },
     "execution_count": 546,
     "metadata": {},
     "output_type": "execute_result"
    }
   ],
   "source": [
    "rf_model2.score(X_test2, y_test2)"
   ],
   "metadata": {
    "collapsed": false,
    "pycharm": {
     "name": "#%%\n"
    }
   }
  },
  {
   "cell_type": "code",
   "execution_count": 547,
   "outputs": [
    {
     "data": {
      "text/plain": "0.5131578947368421"
     },
     "execution_count": 547,
     "metadata": {},
     "output_type": "execute_result"
    }
   ],
   "source": [
    "xgb_model.score(X_test, y_test)"
   ],
   "metadata": {
    "collapsed": false,
    "pycharm": {
     "name": "#%%\n"
    }
   }
  },
  {
   "cell_type": "code",
   "execution_count": 548,
   "outputs": [
    {
     "data": {
      "text/plain": "0.5"
     },
     "execution_count": 548,
     "metadata": {},
     "output_type": "execute_result"
    }
   ],
   "source": [
    "xgb_model2.score(X_test2, y_test2)"
   ],
   "metadata": {
    "collapsed": false,
    "pycharm": {
     "name": "#%%\n"
    }
   }
  },
  {
   "cell_type": "code",
   "execution_count": 549,
   "outputs": [],
   "source": [
    "rf1 = []\n",
    "rf2 = []\n",
    "xg1 = []\n",
    "xg2 = []\n",
    "x = 0\n",
    "for i in range(100):\n",
    "    #split Data in training and test set\n",
    "    X_train, X_test, y_train, y_test = train_test_split(X, y, test_size=0.2, random_state=42)\n",
    "    #create manual test and training sets, without gw 1-3\n",
    "    X_train21 = np.split(X, [40, 340, 380], axis=0)\n",
    "    X_train2 = X_train21[1]\n",
    "    X_test2 = X_train21[2]\n",
    "    y_train21 = np.split(y, [40, 340, 380], axis=0)\n",
    "    y_train2 = y_train21[1]\n",
    "    y_test2 = y_train21[2]\n",
    "    #set up classifiers\n",
    "    rf_model = RandomForestClassifier()\n",
    "    xgb_model = xgb.XGBClassifier(seed=82)\n",
    "    rf_model2 = RandomForestClassifier()\n",
    "    xgb_model2 = xgb.XGBClassifier(seed=82)\n",
    "    rf_model2.fit(X_train2, y_train2)\n",
    "    xgb_model2.fit(X_train2, y_train2)\n",
    "    rf_model2.get_params()\n",
    "    rf_model.fit(X_train, y_train)\n",
    "    xgb_model.fit(X_train, y_train)\n",
    "    rf_model.get_params()\n",
    "    rf1.append( rf_model.score(X_test, y_test))\n",
    "    rf2.append(rf_model2.score(X_test2, y_test2))\n",
    "    xg1.append(xgb_model.score(X_test, y_test))\n",
    "    xg2.append(xgb_model2.score(X_test2, y_test2))\n"
   ],
   "metadata": {
    "collapsed": false,
    "pycharm": {
     "name": "#%%\n"
    }
   }
  },
  {
   "cell_type": "code",
   "execution_count": 550,
   "outputs": [
    {
     "name": "stdout",
     "output_type": "stream",
     "text": [
      "RF1 0.535789473684211\n",
      "RF2 0.5862500000000005\n",
      "XGB1 0.5131578947368424\n",
      "XGB2 0.5\n"
     ]
    }
   ],
   "source": [
    "def Average(lst):\n",
    "    return sum(lst) / len(lst)\n",
    "\n",
    "print('RF1', Average(rf1))\n",
    "print('RF2', Average(rf2))\n",
    "print('XGB1' , Average(xg1))\n",
    "print('XGB2' , Average(xg2))"
   ],
   "metadata": {
    "collapsed": false,
    "pycharm": {
     "name": "#%%\n"
    }
   }
  },
  {
   "cell_type": "code",
   "execution_count": 469,
   "outputs": [
    {
     "data": {
      "text/plain": "<Figure size 432x288 with 1 Axes>",
      "image/png": "[encoded data removed]"
     },
     "metadata": {
      "needs_background": "light"
     },
     "output_type": "display_data"
    }
   ],
   "source": [
    "    #start_time = time.time()\n",
    "importances = rf_model.feature_importances_\n",
    "std = np.std([tree.feature_importances_ for tree in rf_model.estimators_], axis=0)\n",
    "#elapsed_time = time.time() - start_time\n",
    "\n",
    "\n",
    "#feature_names = [f\"feature {i}\" for i in range(X.shape[1])]\n",
    "\n",
    "\n",
    "forest_importances = pd.Series(importances, index=feature_names)\n",
    "forest_importances = forest_importances.sort_values()\n",
    "fig, ax = plt.subplots()\n",
    "\n",
    "forest_importances.plot.barh(ax=ax, yerr=std)\n",
    "ax.set_title(\"Feature importances using MDI\")\n",
    "ax.set_xlabel(\"Mean decrease in impurity\")\n",
    "fig.tight_layout()"
   ],
   "metadata": {
    "collapsed": false,
    "pycharm": {
     "name": "#%%\n"
    }
   }
  },
  {
   "cell_type": "code",
   "execution_count": 227,
   "outputs": [],
   "source": [
    "#for measuring training time\n",
    "from time import time\n",
    "# F1 score (also F-score or F-measure) is a measure of a test's accuracy.\n",
    "#It considers both the precision p and the recall r of the test to compute\n",
    "#the score: p is the number of correct positive results divided by the number of\n",
    "#all positive results, and r is the number of correct positive results divided by\n",
    "#the number of positive results that should have been returned. The F1 score can be\n",
    "#interpreted as a weighted average of the precision and recall, where an F1 score\n",
    "#reaches its best value at 1 and worst at 0.\n",
    "from sklearn.metrics import f1_score\n",
    "\n",
    "\n",
    "def train_classifier(clf, X_train, y_train):\n",
    "    ''' Fits a classifier to the training data. '''\n",
    "\n",
    "    # Start the clock, train the classifier, then stop the clock\n",
    "    start = time()\n",
    "    clf.fit(X_train, y_train)\n",
    "    end = time()\n",
    "\n",
    "    # Print the results\n",
    "    print(\"Trained model in {:.4f} seconds\".format(end - start))\n",
    "\n",
    "\n",
    "def predict_labels(clf, features, target):\n",
    "    ''' Makes predictions using a fit classifier based on F1 score. '''\n",
    "\n",
    "    # Start the clock, make predictions, then stop the clock\n",
    "    start = time()\n",
    "    y_pred = clf.predict(features)\n",
    "\n",
    "    end = time()\n",
    "    # Print and return results\n",
    "    print(\"Made predictions in {:.4f} seconds.\".format(end - start))\n",
    "\n",
    "    return f1_score(target, y_pred, average='weighted'), sum(target == y_pred) / float(len(y_pred))\n",
    "\n",
    "\n",
    "def train_predict(clf, X_train, y_train, X_test, y_test):\n",
    "    ''' Train and predict using a classifer based on F1 score. '''\n",
    "\n",
    "    # Indicate the classifier and the training set size\n",
    "    print(\"Training a {} using a training set size of {}. . .\".format(clf.__class__.__name__, len(X_train)))\n",
    "\n",
    "    # Train the classifier\n",
    "    train_classifier(clf, X_train, y_train)\n",
    "\n",
    "    # Print the results of prediction for both training and testing\n",
    "    f1, acc = predict_labels(clf, X_train, y_train)\n",
    "    print(f1, acc)\n",
    "    print(\"F1 score and accuracy score for training set: {:.4f} , {:.4f}.\".format(f1, acc))\n",
    "\n",
    "    f1, acc = predict_labels(clf, X_test, y_test)\n",
    "    print(\"F1 score and accuracy score for test set: {:.4f} , {:.4f}.\".format(f1, acc))"
   ],
   "metadata": {
    "collapsed": false,
    "pycharm": {
     "name": "#%%\n"
    }
   }
  },
  {
   "cell_type": "code",
   "execution_count": 225,
   "outputs": [
    {
     "name": "stdout",
     "output_type": "stream",
     "text": [
      "Training a XGBClassifier using a training set size of 304. . .\n",
      "Trained model in 0.3911 seconds\n",
      "Made predictions in 0.0156 seconds.\n",
      "1.0 1.0\n",
      "F1 score and accuracy score for training set: 1.0000 , 1.0000.\n",
      "Made predictions in 0.0000 seconds.\n",
      "F1 score and accuracy score for test set: 0.4669 , 0.4737.\n",
      "\n",
      "Training a RandomForestClassifier using a training set size of 304. . .\n",
      "Trained model in 0.2512 seconds\n",
      "Made predictions in 0.0317 seconds.\n",
      "1.0 1.0\n",
      "F1 score and accuracy score for training set: 1.0000 , 1.0000.\n",
      "Made predictions in 0.0156 seconds.\n",
      "F1 score and accuracy score for test set: 0.3832 , 0.3816.\n"
     ]
    }
   ],
   "source": [
    "train_predict(xgb_model, X_train, y_train, X_test, y_test)\n",
    "print('')\n",
    "train_predict(rf_model, X_train, y_train, X_test, y_test)"
   ],
   "metadata": {
    "collapsed": false,
    "pycharm": {
     "name": "#%%\n"
    }
   }
  }
 ],
 "metadata": {
  "kernelspec": {
   "display_name": "Python 3",
   "language": "python",
   "name": "python3"
  },
  "language_info": {
   "codemirror_mode": {
    "name": "ipython",
    "version": 2
   },
   "file_extension": ".py",
   "mimetype": "text/x-python",
   "name": "python",
   "nbconvert_exporter": "python",
   "pygments_lexer": "ipython2",
   "version": "2.7.6"
  }
 },
 "nbformat": 4,
 "nbformat_minor": 0
}