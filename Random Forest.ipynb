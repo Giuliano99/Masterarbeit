{
 "cells": [
  {
   "cell_type": "code",
   "execution_count": 413,
   "metadata": {
    "collapsed": true
   },
   "outputs": [],
   "source": [
    "#import necessary packages\n",
    "import pandas as pd\n",
    "import numpy as np\n",
    "from sklearn.ensemble import RandomForestClassifier\n",
    "import xgboost as xgb\n",
    "from sklearn.model_selection import train_test_split\n",
    "from elosports.elo import Elo\n",
    "import time\n",
    "import matplotlib.pyplot as plt\n",
    "\n"
   ]
  },
  {
   "cell_type": "code",
   "execution_count": 414,
   "outputs": [
    {
     "data": {
      "text/plain": "    Div      Date_x Time_x         HomeTeam        AwayTeam  FTHG  FTAG FTR  \\\n0    E0  2020-09-12  12:30           Fulham         Arsenal     0     3   A   \n1    E0  2020-09-12  15:00   Crystal Palace     Southampton     1     0   H   \n2    E0  2020-09-12  17:30        Liverpool    Leeds United     4     3   H   \n3    E0  2020-09-12  20:00         West Ham   Newcastle Utd     0     2   A   \n4    E0  2020-09-13  14:00        West Brom  Leicester City     0     3   A   \n..   ..         ...    ...              ...             ...   ...   ...  ..   \n375  E0  2021-05-23  16:00        Liverpool  Crystal Palace     2     0   H   \n376  E0  2021-05-23  16:00  Manchester City         Everton     5     0   H   \n377  E0  2021-05-23  16:00    Sheffield Utd         Burnley     1     0   H   \n378  E0  2021-05-23  16:00         West Ham     Southampton     3     0   H   \n379  E0  2021-05-23  16:00           Wolves  Manchester Utd     1     2   A   \n\n     HTHG  HTAG  ...   xG Score  xG.1            Away  Attendance  \\\n0       0     1  ...  0.2   0–3   1.8         Arsenal         NaN   \n1       1     0  ...  0.7   1–0   0.8     Southampton         NaN   \n2       3     2  ...  3.3   4–3   0.6    Leeds United         NaN   \n3       0     0  ...  1.1   0–2   1.5   Newcastle Utd         NaN   \n4       0     0  ...  0.5   0–3   2.2  Leicester City         NaN   \n..    ...   ...  ...  ...   ...   ...             ...         ...   \n375     1     0  ...  1.8   2–0   0.7  Crystal Palace      9901.0   \n376     2     0  ...  2.6   5–0   1.2         Everton     10000.0   \n377     1     0  ...  0.6   1–0   1.0         Burnley      5000.0   \n378     2     0  ...  1.6   3–0   1.5     Southampton     10000.0   \n379     1     2  ...  0.9   1–2   1.7  Manchester Utd      4500.0   \n\n                Venue        Referee_y  Match Report  Notes  Rating difference  \n0      Craven Cottage   Chris Kavanagh  Match Report    NaN          -6.272727  \n1       Selhurst Park    Jonathan Moss  Match Report    NaN           0.151515  \n2             Anfield   Michael Oliver  Match Report    NaN          10.606061  \n3      London Stadium   Stuart Attwell  Match Report    NaN          -1.969697  \n4       The Hawthorns   Anthony Taylor  Match Report    NaN          -6.432765  \n..                ...              ...           ...    ...                ...  \n375           Anfield     Craig Pawson  Match Report    NaN           7.121212  \n376    Etihad Stadium   Michael Oliver  Match Report    NaN           3.090909  \n377      Bramall Lane     Kevin Friend  Match Report    NaN          -0.231183  \n378    London Stadium  Martin Atkinson  Match Report    NaN           0.000000  \n379  Molineux Stadium        Mike Dean  Match Report    NaN          -8.181818  \n\n[380 rows x 124 columns]",
      "text/html": "<div>\n<style scoped>\n    .dataframe tbody tr th:only-of-type {\n        vertical-align: middle;\n    }\n\n    .dataframe tbody tr th {\n        vertical-align: top;\n    }\n\n    .dataframe thead th {\n        text-align: right;\n    }\n</style>\n<table border=\"1\" class=\"dataframe\">\n  <thead>\n    <tr style=\"text-align: right;\">\n      <th></th>\n      <th>Div</th>\n      <th>Date_x</th>\n      <th>Time_x</th>\n      <th>HomeTeam</th>\n      <th>AwayTeam</th>\n      <th>FTHG</th>\n      <th>FTAG</th>\n      <th>FTR</th>\n      <th>HTHG</th>\n      <th>HTAG</th>\n      <th>...</th>\n      <th>xG</th>\n      <th>Score</th>\n      <th>xG.1</th>\n      <th>Away</th>\n      <th>Attendance</th>\n      <th>Venue</th>\n      <th>Referee_y</th>\n      <th>Match Report</th>\n      <th>Notes</th>\n      <th>Rating difference</th>\n    </tr>\n  </thead>\n  <tbody>\n    <tr>\n      <th>0</th>\n      <td>E0</td>\n      <td>2020-09-12</td>\n      <td>12:30</td>\n      <td>Fulham</td>\n      <td>Arsenal</td>\n      <td>0</td>\n      <td>3</td>\n      <td>A</td>\n      <td>0</td>\n      <td>1</td>\n      <td>...</td>\n      <td>0.2</td>\n      <td>0–3</td>\n      <td>1.8</td>\n      <td>Arsenal</td>\n      <td>NaN</td>\n      <td>Craven Cottage</td>\n      <td>Chris Kavanagh</td>\n      <td>Match Report</td>\n      <td>NaN</td>\n      <td>-6.272727</td>\n    </tr>\n    <tr>\n      <th>1</th>\n      <td>E0</td>\n      <td>2020-09-12</td>\n      <td>15:00</td>\n      <td>Crystal Palace</td>\n      <td>Southampton</td>\n      <td>1</td>\n      <td>0</td>\n      <td>H</td>\n      <td>1</td>\n      <td>0</td>\n      <td>...</td>\n      <td>0.7</td>\n      <td>1–0</td>\n      <td>0.8</td>\n      <td>Southampton</td>\n      <td>NaN</td>\n      <td>Selhurst Park</td>\n      <td>Jonathan Moss</td>\n      <td>Match Report</td>\n      <td>NaN</td>\n      <td>0.151515</td>\n    </tr>\n    <tr>\n      <th>2</th>\n      <td>E0</td>\n      <td>2020-09-12</td>\n      <td>17:30</td>\n      <td>Liverpool</td>\n      <td>Leeds United</td>\n      <td>4</td>\n      <td>3</td>\n      <td>H</td>\n      <td>3</td>\n      <td>2</td>\n      <td>...</td>\n      <td>3.3</td>\n      <td>4–3</td>\n      <td>0.6</td>\n      <td>Leeds United</td>\n      <td>NaN</td>\n      <td>Anfield</td>\n      <td>Michael Oliver</td>\n      <td>Match Report</td>\n      <td>NaN</td>\n      <td>10.606061</td>\n    </tr>\n    <tr>\n      <th>3</th>\n      <td>E0</td>\n      <td>2020-09-12</td>\n      <td>20:00</td>\n      <td>West Ham</td>\n      <td>Newcastle Utd</td>\n      <td>0</td>\n      <td>2</td>\n      <td>A</td>\n      <td>0</td>\n      <td>0</td>\n      <td>...</td>\n      <td>1.1</td>\n      <td>0–2</td>\n      <td>1.5</td>\n      <td>Newcastle Utd</td>\n      <td>NaN</td>\n      <td>London Stadium</td>\n      <td>Stuart Attwell</td>\n      <td>Match Report</td>\n      <td>NaN</td>\n      <td>-1.969697</td>\n    </tr>\n    <tr>\n      <th>4</th>\n      <td>E0</td>\n      <td>2020-09-13</td>\n      <td>14:00</td>\n      <td>West Brom</td>\n      <td>Leicester City</td>\n      <td>0</td>\n      <td>3</td>\n      <td>A</td>\n      <td>0</td>\n      <td>0</td>\n      <td>...</td>\n      <td>0.5</td>\n      <td>0–3</td>\n      <td>2.2</td>\n      <td>Leicester City</td>\n      <td>NaN</td>\n      <td>The Hawthorns</td>\n      <td>Anthony Taylor</td>\n      <td>Match Report</td>\n      <td>NaN</td>\n      <td>-6.432765</td>\n    </tr>\n    <tr>\n      <th>...</th>\n      <td>...</td>\n      <td>...</td>\n      <td>...</td>\n      <td>...</td>\n      <td>...</td>\n      <td>...</td>\n      <td>...</td>\n      <td>...</td>\n      <td>...</td>\n      <td>...</td>\n      <td>...</td>\n      <td>...</td>\n      <td>...</td>\n      <td>...</td>\n      <td>...</td>\n      <td>...</td>\n      <td>...</td>\n      <td>...</td>\n      <td>...</td>\n      <td>...</td>\n      <td>...</td>\n    </tr>\n    <tr>\n      <th>375</th>\n      <td>E0</td>\n      <td>2021-05-23</td>\n      <td>16:00</td>\n      <td>Liverpool</td>\n      <td>Crystal Palace</td>\n      <td>2</td>\n      <td>0</td>\n      <td>H</td>\n      <td>1</td>\n      <td>0</td>\n      <td>...</td>\n      <td>1.8</td>\n      <td>2–0</td>\n      <td>0.7</td>\n      <td>Crystal Palace</td>\n      <td>9901.0</td>\n      <td>Anfield</td>\n      <td>Craig Pawson</td>\n      <td>Match Report</td>\n      <td>NaN</td>\n      <td>7.121212</td>\n    </tr>\n    <tr>\n      <th>376</th>\n      <td>E0</td>\n      <td>2021-05-23</td>\n      <td>16:00</td>\n      <td>Manchester City</td>\n      <td>Everton</td>\n      <td>5</td>\n      <td>0</td>\n      <td>H</td>\n      <td>2</td>\n      <td>0</td>\n      <td>...</td>\n      <td>2.6</td>\n      <td>5–0</td>\n      <td>1.2</td>\n      <td>Everton</td>\n      <td>10000.0</td>\n      <td>Etihad Stadium</td>\n      <td>Michael Oliver</td>\n      <td>Match Report</td>\n      <td>NaN</td>\n      <td>3.090909</td>\n    </tr>\n    <tr>\n      <th>377</th>\n      <td>E0</td>\n      <td>2021-05-23</td>\n      <td>16:00</td>\n      <td>Sheffield Utd</td>\n      <td>Burnley</td>\n      <td>1</td>\n      <td>0</td>\n      <td>H</td>\n      <td>1</td>\n      <td>0</td>\n      <td>...</td>\n      <td>0.6</td>\n      <td>1–0</td>\n      <td>1.0</td>\n      <td>Burnley</td>\n      <td>5000.0</td>\n      <td>Bramall Lane</td>\n      <td>Kevin Friend</td>\n      <td>Match Report</td>\n      <td>NaN</td>\n      <td>-0.231183</td>\n    </tr>\n    <tr>\n      <th>378</th>\n      <td>E0</td>\n      <td>2021-05-23</td>\n      <td>16:00</td>\n      <td>West Ham</td>\n      <td>Southampton</td>\n      <td>3</td>\n      <td>0</td>\n      <td>H</td>\n      <td>2</td>\n      <td>0</td>\n      <td>...</td>\n      <td>1.6</td>\n      <td>3–0</td>\n      <td>1.5</td>\n      <td>Southampton</td>\n      <td>10000.0</td>\n      <td>London Stadium</td>\n      <td>Martin Atkinson</td>\n      <td>Match Report</td>\n      <td>NaN</td>\n      <td>0.000000</td>\n    </tr>\n    <tr>\n      <th>379</th>\n      <td>E0</td>\n      <td>2021-05-23</td>\n      <td>16:00</td>\n      <td>Wolves</td>\n      <td>Manchester Utd</td>\n      <td>1</td>\n      <td>2</td>\n      <td>A</td>\n      <td>1</td>\n      <td>2</td>\n      <td>...</td>\n      <td>0.9</td>\n      <td>1–2</td>\n      <td>1.7</td>\n      <td>Manchester Utd</td>\n      <td>4500.0</td>\n      <td>Molineux Stadium</td>\n      <td>Mike Dean</td>\n      <td>Match Report</td>\n      <td>NaN</td>\n      <td>-8.181818</td>\n    </tr>\n  </tbody>\n</table>\n<p>380 rows × 124 columns</p>\n</div>"
     },
     "execution_count": 414,
     "metadata": {},
     "output_type": "execute_result"
    }
   ],
   "source": [
    "PL_21_team_ratings = pd.read_csv('PL21_teamratings.csv')\n",
    "PL_21_team_ratings\n"
   ],
   "metadata": {
    "collapsed": false,
    "pycharm": {
     "name": "#%%\n"
    }
   }
  },
  {
   "cell_type": "code",
   "execution_count": 420,
   "outputs": [
    {
     "data": {
      "text/plain": "    Div      Date_x Time_x         HomeTeam        AwayTeam  FTHG  FTAG FTR  \\\n0    E0  2020-09-12  12:30           Fulham         Arsenal     0     3   A   \n1    E0  2020-09-12  15:00   Crystal Palace     Southampton     1     0   H   \n2    E0  2020-09-12  17:30        Liverpool    Leeds United     4     3   H   \n3    E0  2020-09-12  20:00         West Ham   Newcastle Utd     0     2   A   \n4    E0  2020-09-13  14:00        West Brom  Leicester City     0     3   A   \n..   ..         ...    ...              ...             ...   ...   ...  ..   \n375  E0  2021-05-23  16:00        Liverpool  Crystal Palace     2     0   H   \n376  E0  2021-05-23  16:00  Manchester City         Everton     5     0   H   \n377  E0  2021-05-23  16:00    Sheffield Utd         Burnley     1     0   H   \n378  E0  2021-05-23  16:00         West Ham     Southampton     3     0   H   \n379  E0  2021-05-23  16:00           Wolves  Manchester Utd     1     2   A   \n\n     HTHG  HTAG  ... Notes Rating difference  form5GamesH  form5GamesA  \\\n0       0     1  ...   NaN         -6.272727            0            0   \n1       1     0  ...   NaN          0.151515            0            0   \n2       3     2  ...   NaN         10.606061            0            0   \n3       0     0  ...   NaN         -1.969697            0            0   \n4       0     0  ...   NaN         -6.432765            0            0   \n..    ...   ...  ...   ...               ...          ...          ...   \n375     1     0  ...   NaN          7.121212           13            6   \n376     2     0  ...   NaN          3.090909            9            9   \n377     1     0  ...   NaN         -0.231183            6            6   \n378     2     0  ...   NaN          0.000000            7            4   \n379     1     2  ...   NaN         -8.181818            4            5   \n\n     form5GamesDifference         eloH         eloA  eloDifference  pointsH  \\\n0                       0  1500.000000  1500.000000       0.000000        0   \n1                       0  1500.000000  1500.000000       0.000000        0   \n2                       0  1500.000000  1500.000000       0.000000        0   \n3                       0  1500.000000  1500.000000       0.000000        0   \n4                       0  1500.000000  1500.000000       0.000000        0   \n..                    ...          ...          ...            ...      ...   \n375                     7  1572.195622  1458.109252     114.086370       66   \n376                     0  1629.646004  1521.033816     108.612188       83   \n377                     0  1362.194200  1452.510491     -90.316291       20   \n378                     3  1551.974233  1441.808453     110.165781       62   \n379                    -1  1463.871959  1594.689424    -130.817466       45   \n\n     pointsA  \n0          0  \n1          0  \n2          0  \n3          0  \n4          0  \n..       ...  \n375       44  \n376       59  \n377       39  \n378       43  \n379       71  \n\n[380 rows x 132 columns]",
      "text/html": "<div>\n<style scoped>\n    .dataframe tbody tr th:only-of-type {\n        vertical-align: middle;\n    }\n\n    .dataframe tbody tr th {\n        vertical-align: top;\n    }\n\n    .dataframe thead th {\n        text-align: right;\n    }\n</style>\n<table border=\"1\" class=\"dataframe\">\n  <thead>\n    <tr style=\"text-align: right;\">\n      <th></th>\n      <th>Div</th>\n      <th>Date_x</th>\n      <th>Time_x</th>\n      <th>HomeTeam</th>\n      <th>AwayTeam</th>\n      <th>FTHG</th>\n      <th>FTAG</th>\n      <th>FTR</th>\n      <th>HTHG</th>\n      <th>HTAG</th>\n      <th>...</th>\n      <th>Notes</th>\n      <th>Rating difference</th>\n      <th>form5GamesH</th>\n      <th>form5GamesA</th>\n      <th>form5GamesDifference</th>\n      <th>eloH</th>\n      <th>eloA</th>\n      <th>eloDifference</th>\n      <th>pointsH</th>\n      <th>pointsA</th>\n    </tr>\n  </thead>\n  <tbody>\n    <tr>\n      <th>0</th>\n      <td>E0</td>\n      <td>2020-09-12</td>\n      <td>12:30</td>\n      <td>Fulham</td>\n      <td>Arsenal</td>\n      <td>0</td>\n      <td>3</td>\n      <td>A</td>\n      <td>0</td>\n      <td>1</td>\n      <td>...</td>\n      <td>NaN</td>\n      <td>-6.272727</td>\n      <td>0</td>\n      <td>0</td>\n      <td>0</td>\n      <td>1500.000000</td>\n      <td>1500.000000</td>\n      <td>0.000000</td>\n      <td>0</td>\n      <td>0</td>\n    </tr>\n    <tr>\n      <th>1</th>\n      <td>E0</td>\n      <td>2020-09-12</td>\n      <td>15:00</td>\n      <td>Crystal Palace</td>\n      <td>Southampton</td>\n      <td>1</td>\n      <td>0</td>\n      <td>H</td>\n      <td>1</td>\n      <td>0</td>\n      <td>...</td>\n      <td>NaN</td>\n      <td>0.151515</td>\n      <td>0</td>\n      <td>0</td>\n      <td>0</td>\n      <td>1500.000000</td>\n      <td>1500.000000</td>\n      <td>0.000000</td>\n      <td>0</td>\n      <td>0</td>\n    </tr>\n    <tr>\n      <th>2</th>\n      <td>E0</td>\n      <td>2020-09-12</td>\n      <td>17:30</td>\n      <td>Liverpool</td>\n      <td>Leeds United</td>\n      <td>4</td>\n      <td>3</td>\n      <td>H</td>\n      <td>3</td>\n      <td>2</td>\n      <td>...</td>\n      <td>NaN</td>\n      <td>10.606061</td>\n      <td>0</td>\n      <td>0</td>\n      <td>0</td>\n      <td>1500.000000</td>\n      <td>1500.000000</td>\n      <td>0.000000</td>\n      <td>0</td>\n      <td>0</td>\n    </tr>\n    <tr>\n      <th>3</th>\n      <td>E0</td>\n      <td>2020-09-12</td>\n      <td>20:00</td>\n      <td>West Ham</td>\n      <td>Newcastle Utd</td>\n      <td>0</td>\n      <td>2</td>\n      <td>A</td>\n      <td>0</td>\n      <td>0</td>\n      <td>...</td>\n      <td>NaN</td>\n      <td>-1.969697</td>\n      <td>0</td>\n      <td>0</td>\n      <td>0</td>\n      <td>1500.000000</td>\n      <td>1500.000000</td>\n      <td>0.000000</td>\n      <td>0</td>\n      <td>0</td>\n    </tr>\n    <tr>\n      <th>4</th>\n      <td>E0</td>\n      <td>2020-09-13</td>\n      <td>14:00</td>\n      <td>West Brom</td>\n      <td>Leicester City</td>\n      <td>0</td>\n      <td>3</td>\n      <td>A</td>\n      <td>0</td>\n      <td>0</td>\n      <td>...</td>\n      <td>NaN</td>\n      <td>-6.432765</td>\n      <td>0</td>\n      <td>0</td>\n      <td>0</td>\n      <td>1500.000000</td>\n      <td>1500.000000</td>\n      <td>0.000000</td>\n      <td>0</td>\n      <td>0</td>\n    </tr>\n    <tr>\n      <th>...</th>\n      <td>...</td>\n      <td>...</td>\n      <td>...</td>\n      <td>...</td>\n      <td>...</td>\n      <td>...</td>\n      <td>...</td>\n      <td>...</td>\n      <td>...</td>\n      <td>...</td>\n      <td>...</td>\n      <td>...</td>\n      <td>...</td>\n      <td>...</td>\n      <td>...</td>\n      <td>...</td>\n      <td>...</td>\n      <td>...</td>\n      <td>...</td>\n      <td>...</td>\n      <td>...</td>\n    </tr>\n    <tr>\n      <th>375</th>\n      <td>E0</td>\n      <td>2021-05-23</td>\n      <td>16:00</td>\n      <td>Liverpool</td>\n      <td>Crystal Palace</td>\n      <td>2</td>\n      <td>0</td>\n      <td>H</td>\n      <td>1</td>\n      <td>0</td>\n      <td>...</td>\n      <td>NaN</td>\n      <td>7.121212</td>\n      <td>13</td>\n      <td>6</td>\n      <td>7</td>\n      <td>1572.195622</td>\n      <td>1458.109252</td>\n      <td>114.086370</td>\n      <td>66</td>\n      <td>44</td>\n    </tr>\n    <tr>\n      <th>376</th>\n      <td>E0</td>\n      <td>2021-05-23</td>\n      <td>16:00</td>\n      <td>Manchester City</td>\n      <td>Everton</td>\n      <td>5</td>\n      <td>0</td>\n      <td>H</td>\n      <td>2</td>\n      <td>0</td>\n      <td>...</td>\n      <td>NaN</td>\n      <td>3.090909</td>\n      <td>9</td>\n      <td>9</td>\n      <td>0</td>\n      <td>1629.646004</td>\n      <td>1521.033816</td>\n      <td>108.612188</td>\n      <td>83</td>\n      <td>59</td>\n    </tr>\n    <tr>\n      <th>377</th>\n      <td>E0</td>\n      <td>2021-05-23</td>\n      <td>16:00</td>\n      <td>Sheffield Utd</td>\n      <td>Burnley</td>\n      <td>1</td>\n      <td>0</td>\n      <td>H</td>\n      <td>1</td>\n      <td>0</td>\n      <td>...</td>\n      <td>NaN</td>\n      <td>-0.231183</td>\n      <td>6</td>\n      <td>6</td>\n      <td>0</td>\n      <td>1362.194200</td>\n      <td>1452.510491</td>\n      <td>-90.316291</td>\n      <td>20</td>\n      <td>39</td>\n    </tr>\n    <tr>\n      <th>378</th>\n      <td>E0</td>\n      <td>2021-05-23</td>\n      <td>16:00</td>\n      <td>West Ham</td>\n      <td>Southampton</td>\n      <td>3</td>\n      <td>0</td>\n      <td>H</td>\n      <td>2</td>\n      <td>0</td>\n      <td>...</td>\n      <td>NaN</td>\n      <td>0.000000</td>\n      <td>7</td>\n      <td>4</td>\n      <td>3</td>\n      <td>1551.974233</td>\n      <td>1441.808453</td>\n      <td>110.165781</td>\n      <td>62</td>\n      <td>43</td>\n    </tr>\n    <tr>\n      <th>379</th>\n      <td>E0</td>\n      <td>2021-05-23</td>\n      <td>16:00</td>\n      <td>Wolves</td>\n      <td>Manchester Utd</td>\n      <td>1</td>\n      <td>2</td>\n      <td>A</td>\n      <td>1</td>\n      <td>2</td>\n      <td>...</td>\n      <td>NaN</td>\n      <td>-8.181818</td>\n      <td>4</td>\n      <td>5</td>\n      <td>-1</td>\n      <td>1463.871959</td>\n      <td>1594.689424</td>\n      <td>-130.817466</td>\n      <td>45</td>\n      <td>71</td>\n    </tr>\n  </tbody>\n</table>\n<p>380 rows × 132 columns</p>\n</div>"
     },
     "execution_count": 420,
     "metadata": {},
     "output_type": "execute_result"
    }
   ],
   "source": [
    "def get_points(team, wk):\n",
    "    for index, row in PL_21_team_ratings.iterrows():\n",
    "        #print(row[['HomeTeam','Wk']])\n",
    "        if row['Wk'] == wk and row['HomeTeam'] == team:\n",
    "            if row['FTR'] == 'H':\n",
    "                return 3\n",
    "            elif row['FTR'] == 'D':\n",
    "                return 1\n",
    "            else: return 0\n",
    "        if row['Wk'] == wk and row['AwayTeam'] == team:\n",
    "            if row['FTR'] == 'A':\n",
    "                return 3\n",
    "            elif row['FTR'] == 'D':\n",
    "                return 1\n",
    "            else: return 0\n",
    "\n",
    "def get_points_season(team, fr, to):\n",
    "    out = 0\n",
    "    for i in range(fr,to):\n",
    "        out = out + get_points(team, i)\n",
    "\n",
    "    return out\n",
    "\n",
    "\n",
    "def append_form(timespan):\n",
    "    formH = []\n",
    "    formA = []\n",
    "    for index, row in PL_21_team_ratings.iterrows():\n",
    "        wk = row['Wk']\n",
    "        teamH = row['HomeTeam']\n",
    "        teamA = row['AwayTeam']\n",
    "        if int(wk) - timespan < 1:\n",
    "            pointsH = get_points_season(teamH, 1, int(wk))\n",
    "            pointsA = get_points_season(teamA, 1, int(wk))\n",
    "        else:\n",
    "            pointsH = get_points_season(teamH, int(wk)-timespan, int(wk))\n",
    "            pointsA = get_points_season(teamA, int(wk)-timespan, int(wk))\n",
    "        formH.append(pointsH)\n",
    "        formA.append(pointsA)\n",
    "    PL_21_team_ratings['pointsH'] = formH\n",
    "    PL_21_team_ratings['pointsA'] = formA\n",
    "\n",
    "append_form(39)\n",
    "PL_21_team_ratings\n",
    "\n",
    "\n",
    "\n",
    "\n"
   ],
   "metadata": {
    "collapsed": false,
    "pycharm": {
     "name": "#%%\n"
    }
   }
  },
  {
   "cell_type": "code",
   "execution_count": 416,
   "outputs": [
    {
     "data": {
      "text/plain": "    Div      Date_x Time_x         HomeTeam        AwayTeam  FTHG  FTAG FTR  \\\n0    E0  2020-09-12  12:30           Fulham         Arsenal     0     3   A   \n1    E0  2020-09-12  15:00   Crystal Palace     Southampton     1     0   H   \n2    E0  2020-09-12  17:30        Liverpool    Leeds United     4     3   H   \n3    E0  2020-09-12  20:00         West Ham   Newcastle Utd     0     2   A   \n4    E0  2020-09-13  14:00        West Brom  Leicester City     0     3   A   \n..   ..         ...    ...              ...             ...   ...   ...  ..   \n375  E0  2021-05-23  16:00        Liverpool  Crystal Palace     2     0   H   \n376  E0  2021-05-23  16:00  Manchester City         Everton     5     0   H   \n377  E0  2021-05-23  16:00    Sheffield Utd         Burnley     1     0   H   \n378  E0  2021-05-23  16:00         West Ham     Southampton     3     0   H   \n379  E0  2021-05-23  16:00           Wolves  Manchester Utd     1     2   A   \n\n     HTHG  HTAG  ...            Away Attendance             Venue  \\\n0       0     1  ...         Arsenal        NaN    Craven Cottage   \n1       1     0  ...     Southampton        NaN     Selhurst Park   \n2       3     2  ...    Leeds United        NaN           Anfield   \n3       0     0  ...   Newcastle Utd        NaN    London Stadium   \n4       0     0  ...  Leicester City        NaN     The Hawthorns   \n..    ...   ...  ...             ...        ...               ...   \n375     1     0  ...  Crystal Palace     9901.0           Anfield   \n376     2     0  ...         Everton    10000.0    Etihad Stadium   \n377     1     0  ...         Burnley     5000.0      Bramall Lane   \n378     2     0  ...     Southampton    10000.0    London Stadium   \n379     1     2  ...  Manchester Utd     4500.0  Molineux Stadium   \n\n           Referee_y  Match Report  Notes  Rating difference  form5GamesH  \\\n0     Chris Kavanagh  Match Report    NaN          -6.272727            0   \n1      Jonathan Moss  Match Report    NaN           0.151515            0   \n2     Michael Oliver  Match Report    NaN          10.606061            0   \n3     Stuart Attwell  Match Report    NaN          -1.969697            0   \n4     Anthony Taylor  Match Report    NaN          -6.432765            0   \n..               ...           ...    ...                ...          ...   \n375     Craig Pawson  Match Report    NaN           7.121212           13   \n376   Michael Oliver  Match Report    NaN           3.090909            9   \n377     Kevin Friend  Match Report    NaN          -0.231183            6   \n378  Martin Atkinson  Match Report    NaN           0.000000            7   \n379        Mike Dean  Match Report    NaN          -8.181818            4   \n\n     form5GamesA  form5GamesDifference  \n0              0                     0  \n1              0                     0  \n2              0                     0  \n3              0                     0  \n4              0                     0  \n..           ...                   ...  \n375            6                     7  \n376            9                     0  \n377            6                     0  \n378            4                     3  \n379            5                    -1  \n\n[380 rows x 127 columns]",
      "text/html": "<div>\n<style scoped>\n    .dataframe tbody tr th:only-of-type {\n        vertical-align: middle;\n    }\n\n    .dataframe tbody tr th {\n        vertical-align: top;\n    }\n\n    .dataframe thead th {\n        text-align: right;\n    }\n</style>\n<table border=\"1\" class=\"dataframe\">\n  <thead>\n    <tr style=\"text-align: right;\">\n      <th></th>\n      <th>Div</th>\n      <th>Date_x</th>\n      <th>Time_x</th>\n      <th>HomeTeam</th>\n      <th>AwayTeam</th>\n      <th>FTHG</th>\n      <th>FTAG</th>\n      <th>FTR</th>\n      <th>HTHG</th>\n      <th>HTAG</th>\n      <th>...</th>\n      <th>Away</th>\n      <th>Attendance</th>\n      <th>Venue</th>\n      <th>Referee_y</th>\n      <th>Match Report</th>\n      <th>Notes</th>\n      <th>Rating difference</th>\n      <th>form5GamesH</th>\n      <th>form5GamesA</th>\n      <th>form5GamesDifference</th>\n    </tr>\n  </thead>\n  <tbody>\n    <tr>\n      <th>0</th>\n      <td>E0</td>\n      <td>2020-09-12</td>\n      <td>12:30</td>\n      <td>Fulham</td>\n      <td>Arsenal</td>\n      <td>0</td>\n      <td>3</td>\n      <td>A</td>\n      <td>0</td>\n      <td>1</td>\n      <td>...</td>\n      <td>Arsenal</td>\n      <td>NaN</td>\n      <td>Craven Cottage</td>\n      <td>Chris Kavanagh</td>\n      <td>Match Report</td>\n      <td>NaN</td>\n      <td>-6.272727</td>\n      <td>0</td>\n      <td>0</td>\n      <td>0</td>\n    </tr>\n    <tr>\n      <th>1</th>\n      <td>E0</td>\n      <td>2020-09-12</td>\n      <td>15:00</td>\n      <td>Crystal Palace</td>\n      <td>Southampton</td>\n      <td>1</td>\n      <td>0</td>\n      <td>H</td>\n      <td>1</td>\n      <td>0</td>\n      <td>...</td>\n      <td>Southampton</td>\n      <td>NaN</td>\n      <td>Selhurst Park</td>\n      <td>Jonathan Moss</td>\n      <td>Match Report</td>\n      <td>NaN</td>\n      <td>0.151515</td>\n      <td>0</td>\n      <td>0</td>\n      <td>0</td>\n    </tr>\n    <tr>\n      <th>2</th>\n      <td>E0</td>\n      <td>2020-09-12</td>\n      <td>17:30</td>\n      <td>Liverpool</td>\n      <td>Leeds United</td>\n      <td>4</td>\n      <td>3</td>\n      <td>H</td>\n      <td>3</td>\n      <td>2</td>\n      <td>...</td>\n      <td>Leeds United</td>\n      <td>NaN</td>\n      <td>Anfield</td>\n      <td>Michael Oliver</td>\n      <td>Match Report</td>\n      <td>NaN</td>\n      <td>10.606061</td>\n      <td>0</td>\n      <td>0</td>\n      <td>0</td>\n    </tr>\n    <tr>\n      <th>3</th>\n      <td>E0</td>\n      <td>2020-09-12</td>\n      <td>20:00</td>\n      <td>West Ham</td>\n      <td>Newcastle Utd</td>\n      <td>0</td>\n      <td>2</td>\n      <td>A</td>\n      <td>0</td>\n      <td>0</td>\n      <td>...</td>\n      <td>Newcastle Utd</td>\n      <td>NaN</td>\n      <td>London Stadium</td>\n      <td>Stuart Attwell</td>\n      <td>Match Report</td>\n      <td>NaN</td>\n      <td>-1.969697</td>\n      <td>0</td>\n      <td>0</td>\n      <td>0</td>\n    </tr>\n    <tr>\n      <th>4</th>\n      <td>E0</td>\n      <td>2020-09-13</td>\n      <td>14:00</td>\n      <td>West Brom</td>\n      <td>Leicester City</td>\n      <td>0</td>\n      <td>3</td>\n      <td>A</td>\n      <td>0</td>\n      <td>0</td>\n      <td>...</td>\n      <td>Leicester City</td>\n      <td>NaN</td>\n      <td>The Hawthorns</td>\n      <td>Anthony Taylor</td>\n      <td>Match Report</td>\n      <td>NaN</td>\n      <td>-6.432765</td>\n      <td>0</td>\n      <td>0</td>\n      <td>0</td>\n    </tr>\n    <tr>\n      <th>...</th>\n      <td>...</td>\n      <td>...</td>\n      <td>...</td>\n      <td>...</td>\n      <td>...</td>\n      <td>...</td>\n      <td>...</td>\n      <td>...</td>\n      <td>...</td>\n      <td>...</td>\n      <td>...</td>\n      <td>...</td>\n      <td>...</td>\n      <td>...</td>\n      <td>...</td>\n      <td>...</td>\n      <td>...</td>\n      <td>...</td>\n      <td>...</td>\n      <td>...</td>\n      <td>...</td>\n    </tr>\n    <tr>\n      <th>375</th>\n      <td>E0</td>\n      <td>2021-05-23</td>\n      <td>16:00</td>\n      <td>Liverpool</td>\n      <td>Crystal Palace</td>\n      <td>2</td>\n      <td>0</td>\n      <td>H</td>\n      <td>1</td>\n      <td>0</td>\n      <td>...</td>\n      <td>Crystal Palace</td>\n      <td>9901.0</td>\n      <td>Anfield</td>\n      <td>Craig Pawson</td>\n      <td>Match Report</td>\n      <td>NaN</td>\n      <td>7.121212</td>\n      <td>13</td>\n      <td>6</td>\n      <td>7</td>\n    </tr>\n    <tr>\n      <th>376</th>\n      <td>E0</td>\n      <td>2021-05-23</td>\n      <td>16:00</td>\n      <td>Manchester City</td>\n      <td>Everton</td>\n      <td>5</td>\n      <td>0</td>\n      <td>H</td>\n      <td>2</td>\n      <td>0</td>\n      <td>...</td>\n      <td>Everton</td>\n      <td>10000.0</td>\n      <td>Etihad Stadium</td>\n      <td>Michael Oliver</td>\n      <td>Match Report</td>\n      <td>NaN</td>\n      <td>3.090909</td>\n      <td>9</td>\n      <td>9</td>\n      <td>0</td>\n    </tr>\n    <tr>\n      <th>377</th>\n      <td>E0</td>\n      <td>2021-05-23</td>\n      <td>16:00</td>\n      <td>Sheffield Utd</td>\n      <td>Burnley</td>\n      <td>1</td>\n      <td>0</td>\n      <td>H</td>\n      <td>1</td>\n      <td>0</td>\n      <td>...</td>\n      <td>Burnley</td>\n      <td>5000.0</td>\n      <td>Bramall Lane</td>\n      <td>Kevin Friend</td>\n      <td>Match Report</td>\n      <td>NaN</td>\n      <td>-0.231183</td>\n      <td>6</td>\n      <td>6</td>\n      <td>0</td>\n    </tr>\n    <tr>\n      <th>378</th>\n      <td>E0</td>\n      <td>2021-05-23</td>\n      <td>16:00</td>\n      <td>West Ham</td>\n      <td>Southampton</td>\n      <td>3</td>\n      <td>0</td>\n      <td>H</td>\n      <td>2</td>\n      <td>0</td>\n      <td>...</td>\n      <td>Southampton</td>\n      <td>10000.0</td>\n      <td>London Stadium</td>\n      <td>Martin Atkinson</td>\n      <td>Match Report</td>\n      <td>NaN</td>\n      <td>0.000000</td>\n      <td>7</td>\n      <td>4</td>\n      <td>3</td>\n    </tr>\n    <tr>\n      <th>379</th>\n      <td>E0</td>\n      <td>2021-05-23</td>\n      <td>16:00</td>\n      <td>Wolves</td>\n      <td>Manchester Utd</td>\n      <td>1</td>\n      <td>2</td>\n      <td>A</td>\n      <td>1</td>\n      <td>2</td>\n      <td>...</td>\n      <td>Manchester Utd</td>\n      <td>4500.0</td>\n      <td>Molineux Stadium</td>\n      <td>Mike Dean</td>\n      <td>Match Report</td>\n      <td>NaN</td>\n      <td>-8.181818</td>\n      <td>4</td>\n      <td>5</td>\n      <td>-1</td>\n    </tr>\n  </tbody>\n</table>\n<p>380 rows × 127 columns</p>\n</div>"
     },
     "execution_count": 416,
     "metadata": {},
     "output_type": "execute_result"
    }
   ],
   "source": [
    "PL_21_team_ratings['form5GamesDifference'] = PL_21_team_ratings['form5GamesH'] - PL_21_team_ratings['form5GamesA']\n",
    "PL_21_team_ratings"
   ],
   "metadata": {
    "collapsed": false,
    "pycharm": {
     "name": "#%%\n"
    }
   }
  },
  {
   "cell_type": "code",
   "execution_count": 418,
   "outputs": [
    {
     "data": {
      "text/plain": "    Div      Date_x Time_x         HomeTeam        AwayTeam  FTHG  FTAG FTR  \\\n0    E0  2020-09-12  12:30           Fulham         Arsenal     0     3   A   \n1    E0  2020-09-12  15:00   Crystal Palace     Southampton     1     0   H   \n2    E0  2020-09-12  17:30        Liverpool    Leeds United     4     3   H   \n3    E0  2020-09-12  20:00         West Ham   Newcastle Utd     0     2   A   \n4    E0  2020-09-13  14:00        West Brom  Leicester City     0     3   A   \n..   ..         ...    ...              ...             ...   ...   ...  ..   \n375  E0  2021-05-23  16:00        Liverpool  Crystal Palace     2     0   H   \n376  E0  2021-05-23  16:00  Manchester City         Everton     5     0   H   \n377  E0  2021-05-23  16:00    Sheffield Utd         Burnley     1     0   H   \n378  E0  2021-05-23  16:00         West Ham     Southampton     3     0   H   \n379  E0  2021-05-23  16:00           Wolves  Manchester Utd     1     2   A   \n\n     HTHG  HTAG  ...             Venue        Referee_y  Match Report  Notes  \\\n0       0     1  ...    Craven Cottage   Chris Kavanagh  Match Report    NaN   \n1       1     0  ...     Selhurst Park    Jonathan Moss  Match Report    NaN   \n2       3     2  ...           Anfield   Michael Oliver  Match Report    NaN   \n3       0     0  ...    London Stadium   Stuart Attwell  Match Report    NaN   \n4       0     0  ...     The Hawthorns   Anthony Taylor  Match Report    NaN   \n..    ...   ...  ...               ...              ...           ...    ...   \n375     1     0  ...           Anfield     Craig Pawson  Match Report    NaN   \n376     2     0  ...    Etihad Stadium   Michael Oliver  Match Report    NaN   \n377     1     0  ...      Bramall Lane     Kevin Friend  Match Report    NaN   \n378     2     0  ...    London Stadium  Martin Atkinson  Match Report    NaN   \n379     1     2  ...  Molineux Stadium        Mike Dean  Match Report    NaN   \n\n     Rating difference  form5GamesH  form5GamesA  form5GamesDifference  \\\n0            -6.272727            0            0                     0   \n1             0.151515            0            0                     0   \n2            10.606061            0            0                     0   \n3            -1.969697            0            0                     0   \n4            -6.432765            0            0                     0   \n..                 ...          ...          ...                   ...   \n375           7.121212           13            6                     7   \n376           3.090909            9            9                     0   \n377          -0.231183            6            6                     0   \n378           0.000000            7            4                     3   \n379          -8.181818            4            5                    -1   \n\n            eloH         eloA  \n0    1500.000000  1500.000000  \n1    1500.000000  1500.000000  \n2    1500.000000  1500.000000  \n3    1500.000000  1500.000000  \n4    1500.000000  1500.000000  \n..           ...          ...  \n375  1572.195622  1458.109252  \n376  1629.646004  1521.033816  \n377  1362.194200  1452.510491  \n378  1551.974233  1441.808453  \n379  1463.871959  1594.689424  \n\n[380 rows x 129 columns]",
      "text/html": "<div>\n<style scoped>\n    .dataframe tbody tr th:only-of-type {\n        vertical-align: middle;\n    }\n\n    .dataframe tbody tr th {\n        vertical-align: top;\n    }\n\n    .dataframe thead th {\n        text-align: right;\n    }\n</style>\n<table border=\"1\" class=\"dataframe\">\n  <thead>\n    <tr style=\"text-align: right;\">\n      <th></th>\n      <th>Div</th>\n      <th>Date_x</th>\n      <th>Time_x</th>\n      <th>HomeTeam</th>\n      <th>AwayTeam</th>\n      <th>FTHG</th>\n      <th>FTAG</th>\n      <th>FTR</th>\n      <th>HTHG</th>\n      <th>HTAG</th>\n      <th>...</th>\n      <th>Venue</th>\n      <th>Referee_y</th>\n      <th>Match Report</th>\n      <th>Notes</th>\n      <th>Rating difference</th>\n      <th>form5GamesH</th>\n      <th>form5GamesA</th>\n      <th>form5GamesDifference</th>\n      <th>eloH</th>\n      <th>eloA</th>\n    </tr>\n  </thead>\n  <tbody>\n    <tr>\n      <th>0</th>\n      <td>E0</td>\n      <td>2020-09-12</td>\n      <td>12:30</td>\n      <td>Fulham</td>\n      <td>Arsenal</td>\n      <td>0</td>\n      <td>3</td>\n      <td>A</td>\n      <td>0</td>\n      <td>1</td>\n      <td>...</td>\n      <td>Craven Cottage</td>\n      <td>Chris Kavanagh</td>\n      <td>Match Report</td>\n      <td>NaN</td>\n      <td>-6.272727</td>\n      <td>0</td>\n      <td>0</td>\n      <td>0</td>\n      <td>1500.000000</td>\n      <td>1500.000000</td>\n    </tr>\n    <tr>\n      <th>1</th>\n      <td>E0</td>\n      <td>2020-09-12</td>\n      <td>15:00</td>\n      <td>Crystal Palace</td>\n      <td>Southampton</td>\n      <td>1</td>\n      <td>0</td>\n      <td>H</td>\n      <td>1</td>\n      <td>0</td>\n      <td>...</td>\n      <td>Selhurst Park</td>\n      <td>Jonathan Moss</td>\n      <td>Match Report</td>\n      <td>NaN</td>\n      <td>0.151515</td>\n      <td>0</td>\n      <td>0</td>\n      <td>0</td>\n      <td>1500.000000</td>\n      <td>1500.000000</td>\n    </tr>\n    <tr>\n      <th>2</th>\n      <td>E0</td>\n      <td>2020-09-12</td>\n      <td>17:30</td>\n      <td>Liverpool</td>\n      <td>Leeds United</td>\n      <td>4</td>\n      <td>3</td>\n      <td>H</td>\n      <td>3</td>\n      <td>2</td>\n      <td>...</td>\n      <td>Anfield</td>\n      <td>Michael Oliver</td>\n      <td>Match Report</td>\n      <td>NaN</td>\n      <td>10.606061</td>\n      <td>0</td>\n      <td>0</td>\n      <td>0</td>\n      <td>1500.000000</td>\n      <td>1500.000000</td>\n    </tr>\n    <tr>\n      <th>3</th>\n      <td>E0</td>\n      <td>2020-09-12</td>\n      <td>20:00</td>\n      <td>West Ham</td>\n      <td>Newcastle Utd</td>\n      <td>0</td>\n      <td>2</td>\n      <td>A</td>\n      <td>0</td>\n      <td>0</td>\n      <td>...</td>\n      <td>London Stadium</td>\n      <td>Stuart Attwell</td>\n      <td>Match Report</td>\n      <td>NaN</td>\n      <td>-1.969697</td>\n      <td>0</td>\n      <td>0</td>\n      <td>0</td>\n      <td>1500.000000</td>\n      <td>1500.000000</td>\n    </tr>\n    <tr>\n      <th>4</th>\n      <td>E0</td>\n      <td>2020-09-13</td>\n      <td>14:00</td>\n      <td>West Brom</td>\n      <td>Leicester City</td>\n      <td>0</td>\n      <td>3</td>\n      <td>A</td>\n      <td>0</td>\n      <td>0</td>\n      <td>...</td>\n      <td>The Hawthorns</td>\n      <td>Anthony Taylor</td>\n      <td>Match Report</td>\n      <td>NaN</td>\n      <td>-6.432765</td>\n      <td>0</td>\n      <td>0</td>\n      <td>0</td>\n      <td>1500.000000</td>\n      <td>1500.000000</td>\n    </tr>\n    <tr>\n      <th>...</th>\n      <td>...</td>\n      <td>...</td>\n      <td>...</td>\n      <td>...</td>\n      <td>...</td>\n      <td>...</td>\n      <td>...</td>\n      <td>...</td>\n      <td>...</td>\n      <td>...</td>\n      <td>...</td>\n      <td>...</td>\n      <td>...</td>\n      <td>...</td>\n      <td>...</td>\n      <td>...</td>\n      <td>...</td>\n      <td>...</td>\n      <td>...</td>\n      <td>...</td>\n      <td>...</td>\n    </tr>\n    <tr>\n      <th>375</th>\n      <td>E0</td>\n      <td>2021-05-23</td>\n      <td>16:00</td>\n      <td>Liverpool</td>\n      <td>Crystal Palace</td>\n      <td>2</td>\n      <td>0</td>\n      <td>H</td>\n      <td>1</td>\n      <td>0</td>\n      <td>...</td>\n      <td>Anfield</td>\n      <td>Craig Pawson</td>\n      <td>Match Report</td>\n      <td>NaN</td>\n      <td>7.121212</td>\n      <td>13</td>\n      <td>6</td>\n      <td>7</td>\n      <td>1572.195622</td>\n      <td>1458.109252</td>\n    </tr>\n    <tr>\n      <th>376</th>\n      <td>E0</td>\n      <td>2021-05-23</td>\n      <td>16:00</td>\n      <td>Manchester City</td>\n      <td>Everton</td>\n      <td>5</td>\n      <td>0</td>\n      <td>H</td>\n      <td>2</td>\n      <td>0</td>\n      <td>...</td>\n      <td>Etihad Stadium</td>\n      <td>Michael Oliver</td>\n      <td>Match Report</td>\n      <td>NaN</td>\n      <td>3.090909</td>\n      <td>9</td>\n      <td>9</td>\n      <td>0</td>\n      <td>1629.646004</td>\n      <td>1521.033816</td>\n    </tr>\n    <tr>\n      <th>377</th>\n      <td>E0</td>\n      <td>2021-05-23</td>\n      <td>16:00</td>\n      <td>Sheffield Utd</td>\n      <td>Burnley</td>\n      <td>1</td>\n      <td>0</td>\n      <td>H</td>\n      <td>1</td>\n      <td>0</td>\n      <td>...</td>\n      <td>Bramall Lane</td>\n      <td>Kevin Friend</td>\n      <td>Match Report</td>\n      <td>NaN</td>\n      <td>-0.231183</td>\n      <td>6</td>\n      <td>6</td>\n      <td>0</td>\n      <td>1362.194200</td>\n      <td>1452.510491</td>\n    </tr>\n    <tr>\n      <th>378</th>\n      <td>E0</td>\n      <td>2021-05-23</td>\n      <td>16:00</td>\n      <td>West Ham</td>\n      <td>Southampton</td>\n      <td>3</td>\n      <td>0</td>\n      <td>H</td>\n      <td>2</td>\n      <td>0</td>\n      <td>...</td>\n      <td>London Stadium</td>\n      <td>Martin Atkinson</td>\n      <td>Match Report</td>\n      <td>NaN</td>\n      <td>0.000000</td>\n      <td>7</td>\n      <td>4</td>\n      <td>3</td>\n      <td>1551.974233</td>\n      <td>1441.808453</td>\n    </tr>\n    <tr>\n      <th>379</th>\n      <td>E0</td>\n      <td>2021-05-23</td>\n      <td>16:00</td>\n      <td>Wolves</td>\n      <td>Manchester Utd</td>\n      <td>1</td>\n      <td>2</td>\n      <td>A</td>\n      <td>1</td>\n      <td>2</td>\n      <td>...</td>\n      <td>Molineux Stadium</td>\n      <td>Mike Dean</td>\n      <td>Match Report</td>\n      <td>NaN</td>\n      <td>-8.181818</td>\n      <td>4</td>\n      <td>5</td>\n      <td>-1</td>\n      <td>1463.871959</td>\n      <td>1594.689424</td>\n    </tr>\n  </tbody>\n</table>\n<p>380 rows × 129 columns</p>\n</div>"
     },
     "execution_count": 418,
     "metadata": {},
     "output_type": "execute_result"
    }
   ],
   "source": [
    "eloLeague = Elo(k = 20)\n",
    "eloLeague.addPlayer(\"Arsenal\", rating = 1500)\n",
    "eloLeague.addPlayer(\"Aston Villa\", rating = 1500)\n",
    "eloLeague.addPlayer(\"Brighton\", rating = 1500)\n",
    "eloLeague.addPlayer(\"Burnley\", rating = 1500)\n",
    "eloLeague.addPlayer(\"Chelsea\", rating = 1500)\n",
    "eloLeague.addPlayer(\"Crystal Palace\", rating = 1500)\n",
    "eloLeague.addPlayer(\"Everton\", rating = 1500)\n",
    "eloLeague.addPlayer(\"Fulham\", rating = 1500)\n",
    "eloLeague.addPlayer(\"Leeds United\", rating = 1500)\n",
    "eloLeague.addPlayer(\"Leicester City\", rating = 1500)\n",
    "eloLeague.addPlayer(\"Liverpool\", rating = 1500)\n",
    "eloLeague.addPlayer(\"Manchester City\", rating = 1500)\n",
    "eloLeague.addPlayer(\"Manchester Utd\", rating = 1500)\n",
    "eloLeague.addPlayer(\"Newcastle Utd\", rating = 1500)\n",
    "eloLeague.addPlayer(\"Sheffield Utd\", rating = 1500)\n",
    "eloLeague.addPlayer(\"Southampton\", rating = 1500)\n",
    "eloLeague.addPlayer(\"Tottenham\", rating = 1500)\n",
    "eloLeague.addPlayer(\"West Brom\", rating = 1500)\n",
    "eloLeague.addPlayer(\"West Ham\", rating = 1500)\n",
    "eloLeague.addPlayer(\"Wolves\", rating = 1500)\n",
    "def calculate_elo():\n",
    "    eloH = []\n",
    "    eloA = []\n",
    "    for index, row in PL_21_team_ratings.iterrows():\n",
    "        eloH.append(eloLeague.ratingDict.get(row['HomeTeam']))\n",
    "        eloA.append(eloLeague.ratingDict.get(row['AwayTeam']))\n",
    "        if row['FTR'] == 'H':\n",
    "            eloLeague.gameOver(winner= row['HomeTeam'], loser=row['AwayTeam'], winnerHome=True)\n",
    "        elif row['FTR'] == 'A':\n",
    "            eloLeague.gameOver(winner=row['AwayTeam'], loser=row['HomeTeam'], winnerHome=False)\n",
    "    PL_21_team_ratings['eloH'] = eloH\n",
    "    PL_21_team_ratings['eloA'] = eloA\n",
    "calculate_elo()\n",
    "PL_21_team_ratings\n",
    "\n",
    "\n"
   ],
   "metadata": {
    "collapsed": false,
    "pycharm": {
     "name": "#%%\n"
    }
   }
  },
  {
   "cell_type": "code",
   "execution_count": 421,
   "outputs": [
    {
     "data": {
      "text/plain": "    Div      Date_x Time_x         HomeTeam        AwayTeam  FTHG  FTAG FTR  \\\n0    E0  2020-09-12  12:30           Fulham         Arsenal     0     3   A   \n1    E0  2020-09-12  15:00   Crystal Palace     Southampton     1     0   H   \n2    E0  2020-09-12  17:30        Liverpool    Leeds United     4     3   H   \n3    E0  2020-09-12  20:00         West Ham   Newcastle Utd     0     2   A   \n4    E0  2020-09-13  14:00        West Brom  Leicester City     0     3   A   \n..   ..         ...    ...              ...             ...   ...   ...  ..   \n375  E0  2021-05-23  16:00        Liverpool  Crystal Palace     2     0   H   \n376  E0  2021-05-23  16:00  Manchester City         Everton     5     0   H   \n377  E0  2021-05-23  16:00    Sheffield Utd         Burnley     1     0   H   \n378  E0  2021-05-23  16:00         West Ham     Southampton     3     0   H   \n379  E0  2021-05-23  16:00           Wolves  Manchester Utd     1     2   A   \n\n     HTHG  HTAG  ... Rating difference form5GamesH  form5GamesA  \\\n0       0     1  ...         -6.272727           0            0   \n1       1     0  ...          0.151515           0            0   \n2       3     2  ...         10.606061           0            0   \n3       0     0  ...         -1.969697           0            0   \n4       0     0  ...         -6.432765           0            0   \n..    ...   ...  ...               ...         ...          ...   \n375     1     0  ...          7.121212          13            6   \n376     2     0  ...          3.090909           9            9   \n377     1     0  ...         -0.231183           6            6   \n378     2     0  ...          0.000000           7            4   \n379     1     2  ...         -8.181818           4            5   \n\n     form5GamesDifference         eloH         eloA  eloDifference  pointsH  \\\n0                       0  1500.000000  1500.000000       0.000000        0   \n1                       0  1500.000000  1500.000000       0.000000        0   \n2                       0  1500.000000  1500.000000       0.000000        0   \n3                       0  1500.000000  1500.000000       0.000000        0   \n4                       0  1500.000000  1500.000000       0.000000        0   \n..                    ...          ...          ...            ...      ...   \n375                     7  1572.195622  1458.109252     114.086370       66   \n376                     0  1629.646004  1521.033816     108.612188       83   \n377                     0  1362.194200  1452.510491     -90.316291       20   \n378                     3  1551.974233  1441.808453     110.165781       62   \n379                    -1  1463.871959  1594.689424    -130.817466       45   \n\n     pointsA  pointsDifference  \n0          0                 0  \n1          0                 0  \n2          0                 0  \n3          0                 0  \n4          0                 0  \n..       ...               ...  \n375       44                22  \n376       59                24  \n377       39               -19  \n378       43                19  \n379       71               -26  \n\n[380 rows x 133 columns]",
      "text/html": "<div>\n<style scoped>\n    .dataframe tbody tr th:only-of-type {\n        vertical-align: middle;\n    }\n\n    .dataframe tbody tr th {\n        vertical-align: top;\n    }\n\n    .dataframe thead th {\n        text-align: right;\n    }\n</style>\n<table border=\"1\" class=\"dataframe\">\n  <thead>\n    <tr style=\"text-align: right;\">\n      <th></th>\n      <th>Div</th>\n      <th>Date_x</th>\n      <th>Time_x</th>\n      <th>HomeTeam</th>\n      <th>AwayTeam</th>\n      <th>FTHG</th>\n      <th>FTAG</th>\n      <th>FTR</th>\n      <th>HTHG</th>\n      <th>HTAG</th>\n      <th>...</th>\n      <th>Rating difference</th>\n      <th>form5GamesH</th>\n      <th>form5GamesA</th>\n      <th>form5GamesDifference</th>\n      <th>eloH</th>\n      <th>eloA</th>\n      <th>eloDifference</th>\n      <th>pointsH</th>\n      <th>pointsA</th>\n      <th>pointsDifference</th>\n    </tr>\n  </thead>\n  <tbody>\n    <tr>\n      <th>0</th>\n      <td>E0</td>\n      <td>2020-09-12</td>\n      <td>12:30</td>\n      <td>Fulham</td>\n      <td>Arsenal</td>\n      <td>0</td>\n      <td>3</td>\n      <td>A</td>\n      <td>0</td>\n      <td>1</td>\n      <td>...</td>\n      <td>-6.272727</td>\n      <td>0</td>\n      <td>0</td>\n      <td>0</td>\n      <td>1500.000000</td>\n      <td>1500.000000</td>\n      <td>0.000000</td>\n      <td>0</td>\n      <td>0</td>\n      <td>0</td>\n    </tr>\n    <tr>\n      <th>1</th>\n      <td>E0</td>\n      <td>2020-09-12</td>\n      <td>15:00</td>\n      <td>Crystal Palace</td>\n      <td>Southampton</td>\n      <td>1</td>\n      <td>0</td>\n      <td>H</td>\n      <td>1</td>\n      <td>0</td>\n      <td>...</td>\n      <td>0.151515</td>\n      <td>0</td>\n      <td>0</td>\n      <td>0</td>\n      <td>1500.000000</td>\n      <td>1500.000000</td>\n      <td>0.000000</td>\n      <td>0</td>\n      <td>0</td>\n      <td>0</td>\n    </tr>\n    <tr>\n      <th>2</th>\n      <td>E0</td>\n      <td>2020-09-12</td>\n      <td>17:30</td>\n      <td>Liverpool</td>\n      <td>Leeds United</td>\n      <td>4</td>\n      <td>3</td>\n      <td>H</td>\n      <td>3</td>\n      <td>2</td>\n      <td>...</td>\n      <td>10.606061</td>\n      <td>0</td>\n      <td>0</td>\n      <td>0</td>\n      <td>1500.000000</td>\n      <td>1500.000000</td>\n      <td>0.000000</td>\n      <td>0</td>\n      <td>0</td>\n      <td>0</td>\n    </tr>\n    <tr>\n      <th>3</th>\n      <td>E0</td>\n      <td>2020-09-12</td>\n      <td>20:00</td>\n      <td>West Ham</td>\n      <td>Newcastle Utd</td>\n      <td>0</td>\n      <td>2</td>\n      <td>A</td>\n      <td>0</td>\n      <td>0</td>\n      <td>...</td>\n      <td>-1.969697</td>\n      <td>0</td>\n      <td>0</td>\n      <td>0</td>\n      <td>1500.000000</td>\n      <td>1500.000000</td>\n      <td>0.000000</td>\n      <td>0</td>\n      <td>0</td>\n      <td>0</td>\n    </tr>\n    <tr>\n      <th>4</th>\n      <td>E0</td>\n      <td>2020-09-13</td>\n      <td>14:00</td>\n      <td>West Brom</td>\n      <td>Leicester City</td>\n      <td>0</td>\n      <td>3</td>\n      <td>A</td>\n      <td>0</td>\n      <td>0</td>\n      <td>...</td>\n      <td>-6.432765</td>\n      <td>0</td>\n      <td>0</td>\n      <td>0</td>\n      <td>1500.000000</td>\n      <td>1500.000000</td>\n      <td>0.000000</td>\n      <td>0</td>\n      <td>0</td>\n      <td>0</td>\n    </tr>\n    <tr>\n      <th>...</th>\n      <td>...</td>\n      <td>...</td>\n      <td>...</td>\n      <td>...</td>\n      <td>...</td>\n      <td>...</td>\n      <td>...</td>\n      <td>...</td>\n      <td>...</td>\n      <td>...</td>\n      <td>...</td>\n      <td>...</td>\n      <td>...</td>\n      <td>...</td>\n      <td>...</td>\n      <td>...</td>\n      <td>...</td>\n      <td>...</td>\n      <td>...</td>\n      <td>...</td>\n      <td>...</td>\n    </tr>\n    <tr>\n      <th>375</th>\n      <td>E0</td>\n      <td>2021-05-23</td>\n      <td>16:00</td>\n      <td>Liverpool</td>\n      <td>Crystal Palace</td>\n      <td>2</td>\n      <td>0</td>\n      <td>H</td>\n      <td>1</td>\n      <td>0</td>\n      <td>...</td>\n      <td>7.121212</td>\n      <td>13</td>\n      <td>6</td>\n      <td>7</td>\n      <td>1572.195622</td>\n      <td>1458.109252</td>\n      <td>114.086370</td>\n      <td>66</td>\n      <td>44</td>\n      <td>22</td>\n    </tr>\n    <tr>\n      <th>376</th>\n      <td>E0</td>\n      <td>2021-05-23</td>\n      <td>16:00</td>\n      <td>Manchester City</td>\n      <td>Everton</td>\n      <td>5</td>\n      <td>0</td>\n      <td>H</td>\n      <td>2</td>\n      <td>0</td>\n      <td>...</td>\n      <td>3.090909</td>\n      <td>9</td>\n      <td>9</td>\n      <td>0</td>\n      <td>1629.646004</td>\n      <td>1521.033816</td>\n      <td>108.612188</td>\n      <td>83</td>\n      <td>59</td>\n      <td>24</td>\n    </tr>\n    <tr>\n      <th>377</th>\n      <td>E0</td>\n      <td>2021-05-23</td>\n      <td>16:00</td>\n      <td>Sheffield Utd</td>\n      <td>Burnley</td>\n      <td>1</td>\n      <td>0</td>\n      <td>H</td>\n      <td>1</td>\n      <td>0</td>\n      <td>...</td>\n      <td>-0.231183</td>\n      <td>6</td>\n      <td>6</td>\n      <td>0</td>\n      <td>1362.194200</td>\n      <td>1452.510491</td>\n      <td>-90.316291</td>\n      <td>20</td>\n      <td>39</td>\n      <td>-19</td>\n    </tr>\n    <tr>\n      <th>378</th>\n      <td>E0</td>\n      <td>2021-05-23</td>\n      <td>16:00</td>\n      <td>West Ham</td>\n      <td>Southampton</td>\n      <td>3</td>\n      <td>0</td>\n      <td>H</td>\n      <td>2</td>\n      <td>0</td>\n      <td>...</td>\n      <td>0.000000</td>\n      <td>7</td>\n      <td>4</td>\n      <td>3</td>\n      <td>1551.974233</td>\n      <td>1441.808453</td>\n      <td>110.165781</td>\n      <td>62</td>\n      <td>43</td>\n      <td>19</td>\n    </tr>\n    <tr>\n      <th>379</th>\n      <td>E0</td>\n      <td>2021-05-23</td>\n      <td>16:00</td>\n      <td>Wolves</td>\n      <td>Manchester Utd</td>\n      <td>1</td>\n      <td>2</td>\n      <td>A</td>\n      <td>1</td>\n      <td>2</td>\n      <td>...</td>\n      <td>-8.181818</td>\n      <td>4</td>\n      <td>5</td>\n      <td>-1</td>\n      <td>1463.871959</td>\n      <td>1594.689424</td>\n      <td>-130.817466</td>\n      <td>45</td>\n      <td>71</td>\n      <td>-26</td>\n    </tr>\n  </tbody>\n</table>\n<p>380 rows × 133 columns</p>\n</div>"
     },
     "execution_count": 421,
     "metadata": {},
     "output_type": "execute_result"
    }
   ],
   "source": [
    "PL_21_team_ratings['pointsDifference'] = PL_21_team_ratings['pointsH'] - PL_21_team_ratings['pointsA']\n",
    "PL_21_team_ratings"
   ],
   "metadata": {
    "collapsed": false,
    "pycharm": {
     "name": "#%%\n"
    }
   }
  },
  {
   "cell_type": "code",
   "execution_count": 423,
   "outputs": [
    {
     "data": {
      "text/plain": "    Div      Date_x Time_x         HomeTeam        AwayTeam  FTHG  FTAG FTR  \\\n0    E0  2020-09-12  12:30           Fulham         Arsenal     0     3   A   \n1    E0  2020-09-12  15:00   Crystal Palace     Southampton     1     0   H   \n2    E0  2020-09-12  17:30        Liverpool    Leeds United     4     3   H   \n3    E0  2020-09-12  20:00         West Ham   Newcastle Utd     0     2   A   \n4    E0  2020-09-13  14:00        West Brom  Leicester City     0     3   A   \n..   ..         ...    ...              ...             ...   ...   ...  ..   \n375  E0  2021-05-23  16:00        Liverpool  Crystal Palace     2     0   H   \n376  E0  2021-05-23  16:00  Manchester City         Everton     5     0   H   \n377  E0  2021-05-23  16:00    Sheffield Utd         Burnley     1     0   H   \n378  E0  2021-05-23  16:00         West Ham     Southampton     3     0   H   \n379  E0  2021-05-23  16:00           Wolves  Manchester Utd     1     2   A   \n\n     HTHG  HTAG  ... Rating difference form5GamesH  form5GamesA  \\\n0       0     1  ...         -6.272727           0            0   \n1       1     0  ...          0.151515           0            0   \n2       3     2  ...         10.606061           0            0   \n3       0     0  ...         -1.969697           0            0   \n4       0     0  ...         -6.432765           0            0   \n..    ...   ...  ...               ...         ...          ...   \n375     1     0  ...          7.121212          13            6   \n376     2     0  ...          3.090909           9            9   \n377     1     0  ...         -0.231183           6            6   \n378     2     0  ...          0.000000           7            4   \n379     1     2  ...         -8.181818           4            5   \n\n     form5GamesDifference         eloH         eloA  eloDifference  pointsH  \\\n0                       0  1500.000000  1500.000000       0.000000        0   \n1                       0  1500.000000  1500.000000       0.000000        0   \n2                       0  1500.000000  1500.000000       0.000000        0   \n3                       0  1500.000000  1500.000000       0.000000        0   \n4                       0  1500.000000  1500.000000       0.000000        0   \n..                    ...          ...          ...            ...      ...   \n375                     7  1572.195622  1458.109252     114.086370       66   \n376                     0  1629.646004  1521.033816     108.612188       83   \n377                     0  1362.194200  1452.510491     -90.316291       20   \n378                     3  1551.974233  1441.808453     110.165781       62   \n379                    -1  1463.871959  1594.689424    -130.817466       45   \n\n     pointsA  pointsDifference  \n0          0                 0  \n1          0                 0  \n2          0                 0  \n3          0                 0  \n4          0                 0  \n..       ...               ...  \n375       44                22  \n376       59                24  \n377       39               -19  \n378       43                19  \n379       71               -26  \n\n[380 rows x 133 columns]",
      "text/html": "<div>\n<style scoped>\n    .dataframe tbody tr th:only-of-type {\n        vertical-align: middle;\n    }\n\n    .dataframe tbody tr th {\n        vertical-align: top;\n    }\n\n    .dataframe thead th {\n        text-align: right;\n    }\n</style>\n<table border=\"1\" class=\"dataframe\">\n  <thead>\n    <tr style=\"text-align: right;\">\n      <th></th>\n      <th>Div</th>\n      <th>Date_x</th>\n      <th>Time_x</th>\n      <th>HomeTeam</th>\n      <th>AwayTeam</th>\n      <th>FTHG</th>\n      <th>FTAG</th>\n      <th>FTR</th>\n      <th>HTHG</th>\n      <th>HTAG</th>\n      <th>...</th>\n      <th>Rating difference</th>\n      <th>form5GamesH</th>\n      <th>form5GamesA</th>\n      <th>form5GamesDifference</th>\n      <th>eloH</th>\n      <th>eloA</th>\n      <th>eloDifference</th>\n      <th>pointsH</th>\n      <th>pointsA</th>\n      <th>pointsDifference</th>\n    </tr>\n  </thead>\n  <tbody>\n    <tr>\n      <th>0</th>\n      <td>E0</td>\n      <td>2020-09-12</td>\n      <td>12:30</td>\n      <td>Fulham</td>\n      <td>Arsenal</td>\n      <td>0</td>\n      <td>3</td>\n      <td>A</td>\n      <td>0</td>\n      <td>1</td>\n      <td>...</td>\n      <td>-6.272727</td>\n      <td>0</td>\n      <td>0</td>\n      <td>0</td>\n      <td>1500.000000</td>\n      <td>1500.000000</td>\n      <td>0.000000</td>\n      <td>0</td>\n      <td>0</td>\n      <td>0</td>\n    </tr>\n    <tr>\n      <th>1</th>\n      <td>E0</td>\n      <td>2020-09-12</td>\n      <td>15:00</td>\n      <td>Crystal Palace</td>\n      <td>Southampton</td>\n      <td>1</td>\n      <td>0</td>\n      <td>H</td>\n      <td>1</td>\n      <td>0</td>\n      <td>...</td>\n      <td>0.151515</td>\n      <td>0</td>\n      <td>0</td>\n      <td>0</td>\n      <td>1500.000000</td>\n      <td>1500.000000</td>\n      <td>0.000000</td>\n      <td>0</td>\n      <td>0</td>\n      <td>0</td>\n    </tr>\n    <tr>\n      <th>2</th>\n      <td>E0</td>\n      <td>2020-09-12</td>\n      <td>17:30</td>\n      <td>Liverpool</td>\n      <td>Leeds United</td>\n      <td>4</td>\n      <td>3</td>\n      <td>H</td>\n      <td>3</td>\n      <td>2</td>\n      <td>...</td>\n      <td>10.606061</td>\n      <td>0</td>\n      <td>0</td>\n      <td>0</td>\n      <td>1500.000000</td>\n      <td>1500.000000</td>\n      <td>0.000000</td>\n      <td>0</td>\n      <td>0</td>\n      <td>0</td>\n    </tr>\n    <tr>\n      <th>3</th>\n      <td>E0</td>\n      <td>2020-09-12</td>\n      <td>20:00</td>\n      <td>West Ham</td>\n      <td>Newcastle Utd</td>\n      <td>0</td>\n      <td>2</td>\n      <td>A</td>\n      <td>0</td>\n      <td>0</td>\n      <td>...</td>\n      <td>-1.969697</td>\n      <td>0</td>\n      <td>0</td>\n      <td>0</td>\n      <td>1500.000000</td>\n      <td>1500.000000</td>\n      <td>0.000000</td>\n      <td>0</td>\n      <td>0</td>\n      <td>0</td>\n    </tr>\n    <tr>\n      <th>4</th>\n      <td>E0</td>\n      <td>2020-09-13</td>\n      <td>14:00</td>\n      <td>West Brom</td>\n      <td>Leicester City</td>\n      <td>0</td>\n      <td>3</td>\n      <td>A</td>\n      <td>0</td>\n      <td>0</td>\n      <td>...</td>\n      <td>-6.432765</td>\n      <td>0</td>\n      <td>0</td>\n      <td>0</td>\n      <td>1500.000000</td>\n      <td>1500.000000</td>\n      <td>0.000000</td>\n      <td>0</td>\n      <td>0</td>\n      <td>0</td>\n    </tr>\n    <tr>\n      <th>...</th>\n      <td>...</td>\n      <td>...</td>\n      <td>...</td>\n      <td>...</td>\n      <td>...</td>\n      <td>...</td>\n      <td>...</td>\n      <td>...</td>\n      <td>...</td>\n      <td>...</td>\n      <td>...</td>\n      <td>...</td>\n      <td>...</td>\n      <td>...</td>\n      <td>...</td>\n      <td>...</td>\n      <td>...</td>\n      <td>...</td>\n      <td>...</td>\n      <td>...</td>\n      <td>...</td>\n    </tr>\n    <tr>\n      <th>375</th>\n      <td>E0</td>\n      <td>2021-05-23</td>\n      <td>16:00</td>\n      <td>Liverpool</td>\n      <td>Crystal Palace</td>\n      <td>2</td>\n      <td>0</td>\n      <td>H</td>\n      <td>1</td>\n      <td>0</td>\n      <td>...</td>\n      <td>7.121212</td>\n      <td>13</td>\n      <td>6</td>\n      <td>7</td>\n      <td>1572.195622</td>\n      <td>1458.109252</td>\n      <td>114.086370</td>\n      <td>66</td>\n      <td>44</td>\n      <td>22</td>\n    </tr>\n    <tr>\n      <th>376</th>\n      <td>E0</td>\n      <td>2021-05-23</td>\n      <td>16:00</td>\n      <td>Manchester City</td>\n      <td>Everton</td>\n      <td>5</td>\n      <td>0</td>\n      <td>H</td>\n      <td>2</td>\n      <td>0</td>\n      <td>...</td>\n      <td>3.090909</td>\n      <td>9</td>\n      <td>9</td>\n      <td>0</td>\n      <td>1629.646004</td>\n      <td>1521.033816</td>\n      <td>108.612188</td>\n      <td>83</td>\n      <td>59</td>\n      <td>24</td>\n    </tr>\n    <tr>\n      <th>377</th>\n      <td>E0</td>\n      <td>2021-05-23</td>\n      <td>16:00</td>\n      <td>Sheffield Utd</td>\n      <td>Burnley</td>\n      <td>1</td>\n      <td>0</td>\n      <td>H</td>\n      <td>1</td>\n      <td>0</td>\n      <td>...</td>\n      <td>-0.231183</td>\n      <td>6</td>\n      <td>6</td>\n      <td>0</td>\n      <td>1362.194200</td>\n      <td>1452.510491</td>\n      <td>-90.316291</td>\n      <td>20</td>\n      <td>39</td>\n      <td>-19</td>\n    </tr>\n    <tr>\n      <th>378</th>\n      <td>E0</td>\n      <td>2021-05-23</td>\n      <td>16:00</td>\n      <td>West Ham</td>\n      <td>Southampton</td>\n      <td>3</td>\n      <td>0</td>\n      <td>H</td>\n      <td>2</td>\n      <td>0</td>\n      <td>...</td>\n      <td>0.000000</td>\n      <td>7</td>\n      <td>4</td>\n      <td>3</td>\n      <td>1551.974233</td>\n      <td>1441.808453</td>\n      <td>110.165781</td>\n      <td>62</td>\n      <td>43</td>\n      <td>19</td>\n    </tr>\n    <tr>\n      <th>379</th>\n      <td>E0</td>\n      <td>2021-05-23</td>\n      <td>16:00</td>\n      <td>Wolves</td>\n      <td>Manchester Utd</td>\n      <td>1</td>\n      <td>2</td>\n      <td>A</td>\n      <td>1</td>\n      <td>2</td>\n      <td>...</td>\n      <td>-8.181818</td>\n      <td>4</td>\n      <td>5</td>\n      <td>-1</td>\n      <td>1463.871959</td>\n      <td>1594.689424</td>\n      <td>-130.817466</td>\n      <td>45</td>\n      <td>71</td>\n      <td>-26</td>\n    </tr>\n  </tbody>\n</table>\n<p>380 rows × 133 columns</p>\n</div>"
     },
     "execution_count": 423,
     "metadata": {},
     "output_type": "execute_result"
    }
   ],
   "source": [
    "PL_21_team_ratings = pd.read_csv('PL21_teamratings.csv')\n",
    "PL_21_team_ratings"
   ],
   "metadata": {
    "collapsed": false,
    "pycharm": {
     "name": "#%%\n"
    }
   }
  },
  {
   "cell_type": "code",
   "execution_count": 504,
   "outputs": [],
   "source": [
    "#add column for H A X\n",
    "conditions = [\n",
    "    (PL_21_team_ratings['FTR'] == 'H'),\n",
    "    (PL_21_team_ratings['FTR'] == 'A'),\n",
    "    (PL_21_team_ratings['FTR'] == 'D')]\n",
    "choices = [0, 1, 2]\n",
    "PL_21_team_ratings['identifier'] = np.select(conditions, choices)\n",
    "#PL_21_team_ratings.drop(PL_21_team_ratings[ PL_21_team_ratings.Wk < 4].index, inplace=True)\n",
    "y = PL_21_team_ratings['identifier'].to_numpy()\n",
    "X = PL_21_team_ratings[['Rating difference','Rating_Home', 'Rating_Away','pointsH', 'pointsA', 'pointsDifference', 'form5GamesH', 'form5GamesA', 'form5GamesDifference', 'eloH', 'eloA', 'eloDifference' ]].to_numpy()\n",
    "#X = PL_21_team_ratings[['Rating difference', 'eloA', 'eloDifference' ]].to_numpy()"
   ],
   "metadata": {
    "collapsed": false,
    "pycharm": {
     "name": "#%%\n"
    }
   }
  },
  {
   "cell_type": "code",
   "execution_count": 505,
   "outputs": [],
   "source": [
    "X_train, X_test, y_train, y_test = train_test_split(X, y, test_size=0.15, random_state=42)"
   ],
   "metadata": {
    "collapsed": false,
    "pycharm": {
     "name": "#%%\n"
    }
   }
  },
  {
   "cell_type": "code",
   "execution_count": 506,
   "outputs": [
    {
     "name": "stdout",
     "output_type": "stream",
     "text": [
      "X_train : (323, 12)\n",
      "y_train : (323,)\n",
      "X_test : (57, 12)\n",
      "y_test : (57,)\n"
     ]
    }
   ],
   "source": [
    "print(f'X_train : {X_train.shape}')\n",
    "print(f'y_train : {y_train.shape}')\n",
    "print(f'X_test : {X_test.shape}')\n",
    "print(f'y_test : {y_test.shape}')"
   ],
   "metadata": {
    "collapsed": false,
    "pycharm": {
     "name": "#%%\n"
    }
   }
  },
  {
   "cell_type": "code",
   "execution_count": 507,
   "outputs": [],
   "source": [
    "rf_model = RandomForestClassifier()\n",
    "xgb_model = xgb.XGBClassifier(seed = 82)"
   ],
   "metadata": {
    "collapsed": false,
    "pycharm": {
     "name": "#%%\n"
    }
   }
  },
  {
   "cell_type": "code",
   "execution_count": 508,
   "outputs": [
    {
     "data": {
      "text/plain": "{'bootstrap': True,\n 'ccp_alpha': 0.0,\n 'class_weight': None,\n 'criterion': 'gini',\n 'max_depth': None,\n 'max_features': 'auto',\n 'max_leaf_nodes': None,\n 'max_samples': None,\n 'min_impurity_decrease': 0.0,\n 'min_samples_leaf': 1,\n 'min_samples_split': 2,\n 'min_weight_fraction_leaf': 0.0,\n 'n_estimators': 100,\n 'n_jobs': None,\n 'oob_score': False,\n 'random_state': None,\n 'verbose': 0,\n 'warm_start': False}"
     },
     "execution_count": 508,
     "metadata": {},
     "output_type": "execute_result"
    }
   ],
   "source": [
    "rf_model.fit(X_train, y_train)\n",
    "xgb_model.fit(X_train, y_train)\n",
    "rf_model.get_params()"
   ],
   "metadata": {
    "collapsed": false,
    "pycharm": {
     "name": "#%%\n"
    }
   }
  },
  {
   "cell_type": "code",
   "execution_count": 509,
   "outputs": [
    {
     "data": {
      "text/plain": "0.5087719298245614"
     },
     "execution_count": 509,
     "metadata": {},
     "output_type": "execute_result"
    }
   ],
   "source": [
    "rf_model.score(X_test, y_test)"
   ],
   "metadata": {
    "collapsed": false,
    "pycharm": {
     "name": "#%%\n"
    }
   }
  },
  {
   "cell_type": "code",
   "execution_count": 510,
   "outputs": [
    {
     "data": {
      "text/plain": "0.45614035087719296"
     },
     "execution_count": 510,
     "metadata": {},
     "output_type": "execute_result"
    }
   ],
   "source": [
    "xgb_model.score(X_test, y_test)"
   ],
   "metadata": {
    "collapsed": false,
    "pycharm": {
     "name": "#%%\n"
    }
   }
  },
  {
   "cell_type": "code",
   "execution_count": 511,
   "outputs": [
    {
     "name": "stdout",
     "output_type": "stream",
     "text": [
      "Elapsed time to compute the importances: 0.024 seconds\n"
     ]
    }
   ],
   "source": [
    "\n",
    "\n",
    "start_time = time.time()\n",
    "importances = rf_model.feature_importances_\n",
    "std = np.std([tree.feature_importances_ for tree in rf_model.estimators_], axis=0)\n",
    "elapsed_time = time.time() - start_time\n",
    "\n",
    "print(f\"Elapsed time to compute the importances: {elapsed_time:.3f} seconds\")"
   ],
   "metadata": {
    "collapsed": false,
    "pycharm": {
     "name": "#%%\n"
    }
   }
  },
  {
   "cell_type": "code",
   "execution_count": 512,
   "outputs": [
    {
     "data": {
      "text/plain": "<Figure size 432x288 with 1 Axes>",
      "image/png": "[encoded data removed]"
     },
     "metadata": {
      "needs_background": "light"
     },
     "output_type": "display_data"
    }
   ],
   "source": [
    "\n",
    "feature_names = [f\"feature {i}\" for i in range(X.shape[1])]\n",
    "forest_importances = pd.Series(importances, index=feature_names)\n",
    "\n",
    "fig, ax = plt.subplots()\n",
    "forest_importances.plot.bar(yerr=std, ax=ax)\n",
    "ax.set_title(\"Feature importances using MDI\")\n",
    "ax.set_ylabel(\"Mean decrease in impurity\")\n",
    "fig.tight_layout()"
   ],
   "metadata": {
    "collapsed": false,
    "pycharm": {
     "name": "#%%\n"
    }
   }
  },
  {
   "cell_type": "code",
   "execution_count": 388,
   "outputs": [],
   "source": [
    "#for measuring training time\n",
    "from time import time\n",
    "# F1 score (also F-score or F-measure) is a measure of a test's accuracy.\n",
    "#It considers both the precision p and the recall r of the test to compute\n",
    "#the score: p is the number of correct positive results divided by the number of\n",
    "#all positive results, and r is the number of correct positive results divided by\n",
    "#the number of positive results that should have been returned. The F1 score can be\n",
    "#interpreted as a weighted average of the precision and recall, where an F1 score\n",
    "#reaches its best value at 1 and worst at 0.\n",
    "from sklearn.metrics import f1_score\n",
    "\n",
    "def train_classifier(clf, X_train, y_train):\n",
    "    ''' Fits a classifier to the training data. '''\n",
    "\n",
    "    # Start the clock, train the classifier, then stop the clock\n",
    "    start = time()\n",
    "    clf.fit(X_train, y_train)\n",
    "    end = time()\n",
    "\n",
    "    # Print the results\n",
    "    print (\"Trained model in {:.4f} seconds\".format(end - start))\n",
    "\n",
    "\n",
    "def predict_labels(clf, features, target):\n",
    "    ''' Makes predictions using a fit classifier based on F1 score. '''\n",
    "\n",
    "    # Start the clock, make predictions, then stop the clock\n",
    "    start = time()\n",
    "    y_pred = clf.predict(features)\n",
    "\n",
    "    end = time()\n",
    "    # Print and return results\n",
    "    print (\"Made predictions in {:.4f} seconds.\".format(end - start))\n",
    "\n",
    "    return f1_score(target, y_pred, average='weighted'),sum(target == y_pred) / float(len(y_pred))\n",
    "\n",
    "\n",
    "def train_predict(clf, X_train, y_train, X_test, y_test):\n",
    "    ''' Train and predict using a classifer based on F1 score. '''\n",
    "\n",
    "    # Indicate the classifier and the training set size\n",
    "    print (\"Training a {} using a training set size of {}. . .\".format(clf.__class__.__name__, len(X_train)))\n",
    "\n",
    "    # Train the classifier\n",
    "    train_classifier(clf, X_train, y_train)\n",
    "\n",
    "    # Print the results of prediction for both training and testing\n",
    "    f1, acc = predict_labels(clf, X_train, y_train)\n",
    "    print (f1, acc)\n",
    "    print (\"F1 score and accuracy score for training set: {:.4f} , {:.4f}.\".format(f1 , acc))\n",
    "\n",
    "    f1, acc = predict_labels(clf, X_test, y_test)\n",
    "    print (\"F1 score and accuracy score for test set: {:.4f} , {:.4f}.\".format(f1 , acc))"
   ],
   "metadata": {
    "collapsed": false,
    "pycharm": {
     "name": "#%%\n"
    }
   }
  },
  {
   "cell_type": "code",
   "execution_count": 225,
   "outputs": [
    {
     "name": "stdout",
     "output_type": "stream",
     "text": [
      "Training a XGBClassifier using a training set size of 304. . .\n",
      "Trained model in 0.3911 seconds\n",
      "Made predictions in 0.0156 seconds.\n",
      "1.0 1.0\n",
      "F1 score and accuracy score for training set: 1.0000 , 1.0000.\n",
      "Made predictions in 0.0000 seconds.\n",
      "F1 score and accuracy score for test set: 0.4669 , 0.4737.\n",
      "\n",
      "Training a RandomForestClassifier using a training set size of 304. . .\n",
      "Trained model in 0.2512 seconds\n",
      "Made predictions in 0.0317 seconds.\n",
      "1.0 1.0\n",
      "F1 score and accuracy score for training set: 1.0000 , 1.0000.\n",
      "Made predictions in 0.0156 seconds.\n",
      "F1 score and accuracy score for test set: 0.3832 , 0.3816.\n"
     ]
    }
   ],
   "source": [
    "train_predict(xgb_model, X_train, y_train, X_test, y_test)\n",
    "print ('')\n",
    "train_predict(rf_model, X_train, y_train, X_test, y_test)"
   ],
   "metadata": {
    "collapsed": false,
    "pycharm": {
     "name": "#%%\n"
    }
   }
  },
  {
   "cell_type": "code",
   "execution_count": 334,
   "outputs": [
    {
     "data": {
      "text/plain": "    Div      Date_x Time_x         HomeTeam        AwayTeam  FTHG  FTAG FTR  \\\n0    E0  2020-09-12  12:30           Fulham         Arsenal     0     3   A   \n1    E0  2020-09-12  15:00   Crystal Palace     Southampton     1     0   H   \n2    E0  2020-09-12  17:30        Liverpool    Leeds United     4     3   H   \n3    E0  2020-09-12  20:00         West Ham   Newcastle Utd     0     2   A   \n4    E0  2020-09-13  14:00        West Brom  Leicester City     0     3   A   \n..   ..         ...    ...              ...             ...   ...   ...  ..   \n375  E0  2021-05-23  16:00        Liverpool  Crystal Palace     2     0   H   \n376  E0  2021-05-23  16:00  Manchester City         Everton     5     0   H   \n377  E0  2021-05-23  16:00    Sheffield Utd         Burnley     1     0   H   \n378  E0  2021-05-23  16:00         West Ham     Southampton     3     0   H   \n379  E0  2021-05-23  16:00           Wolves  Manchester Utd     1     2   A   \n\n     HTHG  HTAG  ... form3GamesDifference form5GamesH  form5GamesA  \\\n0       0     1  ...                    0           0            0   \n1       1     0  ...                    0           0            0   \n2       3     2  ...                    0           0            0   \n3       0     0  ...                    0           0            0   \n4       0     0  ...                    0           0            0   \n..    ...   ...  ...                  ...         ...          ...   \n375     1     0  ...                    3          13            6   \n376     2     0  ...                   -3           9            9   \n377     1     0  ...                    0           6            6   \n378     2     0  ...                    1           7            4   \n379     1     2  ...                   -1           4            5   \n\n     form5GamesDifference  form7GamesH  form7GamesA  form7GamesDifference  \\\n0                       0            0            0                     0   \n1                       0            0            0                     0   \n2                       0            0            0                     0   \n3                       0            0            0                     0   \n4                       0            0            0                     0   \n..                    ...          ...          ...                   ...   \n375                     7           17            6                    11   \n376                     0           12           11                     1   \n377                     0            6            6                     0   \n378                     3           10            7                     3   \n379                    -1           10           11                    -1   \n\n     identifier         eloH         eloA  \n0             1  1500.000000  1500.000000  \n1             0  1500.000000  1500.000000  \n2             0  1500.000000  1500.000000  \n3             1  1500.000000  1500.000000  \n4             1  1500.000000  1500.000000  \n..          ...          ...          ...  \n375           0  1572.195622  1458.109252  \n376           0  1629.646004  1521.033816  \n377           0  1362.194200  1452.510491  \n378           0  1551.974233  1441.808453  \n379           1  1463.871959  1594.689424  \n\n[380 rows x 139 columns]",
      "text/html": "<div>\n<style scoped>\n    .dataframe tbody tr th:only-of-type {\n        vertical-align: middle;\n    }\n\n    .dataframe tbody tr th {\n        vertical-align: top;\n    }\n\n    .dataframe thead th {\n        text-align: right;\n    }\n</style>\n<table border=\"1\" class=\"dataframe\">\n  <thead>\n    <tr style=\"text-align: right;\">\n      <th></th>\n      <th>Div</th>\n      <th>Date_x</th>\n      <th>Time_x</th>\n      <th>HomeTeam</th>\n      <th>AwayTeam</th>\n      <th>FTHG</th>\n      <th>FTAG</th>\n      <th>FTR</th>\n      <th>HTHG</th>\n      <th>HTAG</th>\n      <th>...</th>\n      <th>form3GamesDifference</th>\n      <th>form5GamesH</th>\n      <th>form5GamesA</th>\n      <th>form5GamesDifference</th>\n      <th>form7GamesH</th>\n      <th>form7GamesA</th>\n      <th>form7GamesDifference</th>\n      <th>identifier</th>\n      <th>eloH</th>\n      <th>eloA</th>\n    </tr>\n  </thead>\n  <tbody>\n    <tr>\n      <th>0</th>\n      <td>E0</td>\n      <td>2020-09-12</td>\n      <td>12:30</td>\n      <td>Fulham</td>\n      <td>Arsenal</td>\n      <td>0</td>\n      <td>3</td>\n      <td>A</td>\n      <td>0</td>\n      <td>1</td>\n      <td>...</td>\n      <td>0</td>\n      <td>0</td>\n      <td>0</td>\n      <td>0</td>\n      <td>0</td>\n      <td>0</td>\n      <td>0</td>\n      <td>1</td>\n      <td>1500.000000</td>\n      <td>1500.000000</td>\n    </tr>\n    <tr>\n      <th>1</th>\n      <td>E0</td>\n      <td>2020-09-12</td>\n      <td>15:00</td>\n      <td>Crystal Palace</td>\n      <td>Southampton</td>\n      <td>1</td>\n      <td>0</td>\n      <td>H</td>\n      <td>1</td>\n      <td>0</td>\n      <td>...</td>\n      <td>0</td>\n      <td>0</td>\n      <td>0</td>\n      <td>0</td>\n      <td>0</td>\n      <td>0</td>\n      <td>0</td>\n      <td>0</td>\n      <td>1500.000000</td>\n      <td>1500.000000</td>\n    </tr>\n    <tr>\n      <th>2</th>\n      <td>E0</td>\n      <td>2020-09-12</td>\n      <td>17:30</td>\n      <td>Liverpool</td>\n      <td>Leeds United</td>\n      <td>4</td>\n      <td>3</td>\n      <td>H</td>\n      <td>3</td>\n      <td>2</td>\n      <td>...</td>\n      <td>0</td>\n      <td>0</td>\n      <td>0</td>\n      <td>0</td>\n      <td>0</td>\n      <td>0</td>\n      <td>0</td>\n      <td>0</td>\n      <td>1500.000000</td>\n      <td>1500.000000</td>\n    </tr>\n    <tr>\n      <th>3</th>\n      <td>E0</td>\n      <td>2020-09-12</td>\n      <td>20:00</td>\n      <td>West Ham</td>\n      <td>Newcastle Utd</td>\n      <td>0</td>\n      <td>2</td>\n      <td>A</td>\n      <td>0</td>\n      <td>0</td>\n      <td>...</td>\n      <td>0</td>\n      <td>0</td>\n      <td>0</td>\n      <td>0</td>\n      <td>0</td>\n      <td>0</td>\n      <td>0</td>\n      <td>1</td>\n      <td>1500.000000</td>\n      <td>1500.000000</td>\n    </tr>\n    <tr>\n      <th>4</th>\n      <td>E0</td>\n      <td>2020-09-13</td>\n      <td>14:00</td>\n      <td>West Brom</td>\n      <td>Leicester City</td>\n      <td>0</td>\n      <td>3</td>\n      <td>A</td>\n      <td>0</td>\n      <td>0</td>\n      <td>...</td>\n      <td>0</td>\n      <td>0</td>\n      <td>0</td>\n      <td>0</td>\n      <td>0</td>\n      <td>0</td>\n      <td>0</td>\n      <td>1</td>\n      <td>1500.000000</td>\n      <td>1500.000000</td>\n    </tr>\n    <tr>\n      <th>...</th>\n      <td>...</td>\n      <td>...</td>\n      <td>...</td>\n      <td>...</td>\n      <td>...</td>\n      <td>...</td>\n      <td>...</td>\n      <td>...</td>\n      <td>...</td>\n      <td>...</td>\n      <td>...</td>\n      <td>...</td>\n      <td>...</td>\n      <td>...</td>\n      <td>...</td>\n      <td>...</td>\n      <td>...</td>\n      <td>...</td>\n      <td>...</td>\n      <td>...</td>\n      <td>...</td>\n    </tr>\n    <tr>\n      <th>375</th>\n      <td>E0</td>\n      <td>2021-05-23</td>\n      <td>16:00</td>\n      <td>Liverpool</td>\n      <td>Crystal Palace</td>\n      <td>2</td>\n      <td>0</td>\n      <td>H</td>\n      <td>1</td>\n      <td>0</td>\n      <td>...</td>\n      <td>3</td>\n      <td>13</td>\n      <td>6</td>\n      <td>7</td>\n      <td>17</td>\n      <td>6</td>\n      <td>11</td>\n      <td>0</td>\n      <td>1572.195622</td>\n      <td>1458.109252</td>\n    </tr>\n    <tr>\n      <th>376</th>\n      <td>E0</td>\n      <td>2021-05-23</td>\n      <td>16:00</td>\n      <td>Manchester City</td>\n      <td>Everton</td>\n      <td>5</td>\n      <td>0</td>\n      <td>H</td>\n      <td>2</td>\n      <td>0</td>\n      <td>...</td>\n      <td>-3</td>\n      <td>9</td>\n      <td>9</td>\n      <td>0</td>\n      <td>12</td>\n      <td>11</td>\n      <td>1</td>\n      <td>0</td>\n      <td>1629.646004</td>\n      <td>1521.033816</td>\n    </tr>\n    <tr>\n      <th>377</th>\n      <td>E0</td>\n      <td>2021-05-23</td>\n      <td>16:00</td>\n      <td>Sheffield Utd</td>\n      <td>Burnley</td>\n      <td>1</td>\n      <td>0</td>\n      <td>H</td>\n      <td>1</td>\n      <td>0</td>\n      <td>...</td>\n      <td>0</td>\n      <td>6</td>\n      <td>6</td>\n      <td>0</td>\n      <td>6</td>\n      <td>6</td>\n      <td>0</td>\n      <td>0</td>\n      <td>1362.194200</td>\n      <td>1452.510491</td>\n    </tr>\n    <tr>\n      <th>378</th>\n      <td>E0</td>\n      <td>2021-05-23</td>\n      <td>16:00</td>\n      <td>West Ham</td>\n      <td>Southampton</td>\n      <td>3</td>\n      <td>0</td>\n      <td>H</td>\n      <td>2</td>\n      <td>0</td>\n      <td>...</td>\n      <td>1</td>\n      <td>7</td>\n      <td>4</td>\n      <td>3</td>\n      <td>10</td>\n      <td>7</td>\n      <td>3</td>\n      <td>0</td>\n      <td>1551.974233</td>\n      <td>1441.808453</td>\n    </tr>\n    <tr>\n      <th>379</th>\n      <td>E0</td>\n      <td>2021-05-23</td>\n      <td>16:00</td>\n      <td>Wolves</td>\n      <td>Manchester Utd</td>\n      <td>1</td>\n      <td>2</td>\n      <td>A</td>\n      <td>1</td>\n      <td>2</td>\n      <td>...</td>\n      <td>-1</td>\n      <td>4</td>\n      <td>5</td>\n      <td>-1</td>\n      <td>10</td>\n      <td>11</td>\n      <td>-1</td>\n      <td>1</td>\n      <td>1463.871959</td>\n      <td>1594.689424</td>\n    </tr>\n  </tbody>\n</table>\n<p>380 rows × 139 columns</p>\n</div>"
     },
     "execution_count": 334,
     "metadata": {},
     "output_type": "execute_result"
    }
   ],
   "source": [
    "def calculate_elo():\n",
    "    eloH = []\n",
    "    eloA = []\n",
    "    for index, row in PL_21_team_ratings.iterrows():\n",
    "        eloH.append(eloLeague.ratingDict.get(row['HomeTeam']))\n",
    "        eloA.append(eloLeague.ratingDict.get(row['AwayTeam']))\n",
    "        if row['FTR'] == 'H':\n",
    "            eloLeague.gameOver(winner= row['HomeTeam'], loser=row['AwayTeam'], winnerHome=True)\n",
    "        elif row['FTR'] == 'A':\n",
    "            eloLeague.gameOver(winner=row['AwayTeam'], loser=row['HomeTeam'], winnerHome=False)\n",
    "    PL_21_team_ratings['eloH'] = eloH\n",
    "    PL_21_team_ratings['eloA'] = eloA\n",
    "calculate_elo()\n",
    "PL_21_team_ratings"
   ],
   "metadata": {
    "collapsed": false,
    "pycharm": {
     "name": "#%%\n"
    }
   }
  }
 ],
 "metadata": {
  "kernelspec": {
   "display_name": "Python 3",
   "language": "python",
   "name": "python3"
  },
  "language_info": {
   "codemirror_mode": {
    "name": "ipython",
    "version": 2
   },
   "file_extension": ".py",
   "mimetype": "text/x-python",
   "name": "python",
   "nbconvert_exporter": "python",
   "pygments_lexer": "ipython2",
   "version": "2.7.6"
  }
 },
 "nbformat": 4,
 "nbformat_minor": 0
}