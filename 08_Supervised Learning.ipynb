{
 "cells": [
  {
   "cell_type": "code",
   "execution_count": 1,
   "metadata": {
    "collapsed": true
   },
   "outputs": [],
   "source": [
    "#notebook for perform ml algorithms\n",
    "#import necessary packages\n",
    "import pandas as pd\n",
    "import numpy as np\n",
    "from sklearn.ensemble import RandomForestClassifier\n",
    "import xgboost as xgb\n",
    "from sklearn.model_selection import train_test_split, GridSearchCV, RandomizedSearchCV\n",
    "from sklearn.metrics import classification_report, confusion_matrix, accuracy_score\n",
    "import matplotlib.pyplot as plt\n",
    "from sklearn.metrics import confusion_matrix, ConfusionMatrixDisplay\n",
    "from sklearn import tree"
   ]
  },
  {
   "cell_type": "code",
   "execution_count": 2,
   "outputs": [
    {
     "data": {
      "text/plain": "     Unnamed: 0 Div        Date   Time         HomeTeam         AwayTeam  \\\n30           30  E0  2021-09-11  12:30   Crystal Palace        Tottenham   \n31           31  E0  2021-09-11  15:00          Arsenal     Norwich City   \n32           32  E0  2021-09-11  15:00        Brentford         Brighton   \n33           33  E0  2021-09-11  15:00   Leicester City  Manchester City   \n34           34  E0  2021-09-11  15:00   Manchester Utd    Newcastle Utd   \n..          ...  ..         ...    ...              ...              ...   \n375         375  E0  2022-05-22  16:00   Crystal Palace   Manchester Utd   \n376         376  E0  2022-05-22  16:00   Leicester City      Southampton   \n377         377  E0  2022-05-22  16:00        Liverpool           Wolves   \n378         378  E0  2022-05-22  16:00  Manchester City      Aston Villa   \n379         379  E0  2022-05-22  16:00     Norwich City        Tottenham   \n\n     FTHG  FTAG FTR  HTHG  ...  Elo_h_after Elo_a_after Elo_h_before  \\\n30      3     0   H     0  ...      1505.52     1525.14      1488.18   \n31      1     0   H     0  ...      1472.46     1441.35      1457.52   \n32      0     1   A     0  ...      1498.17     1529.25      1513.11   \n33      0     1   A     0  ...      1498.71     1528.77      1513.71   \n34      4     1   H     1  ...      1539.48     1458.09      1526.88   \n..    ...   ...  ..   ...  ...          ...         ...          ...   \n375     1     0   H     1  ...      1498.11     1506.66      1481.31   \n376     4     1   H     0  ...      1503.48     1420.47      1490.97   \n377     3     1   H     1  ...      1716.99     1461.21      1711.08   \n378     3     2   H     0  ...      1703.55     1460.85      1697.25   \n379     0     5   A     0  ...      1329.81     1603.29      1335.24   \n\n     Elo_a_before  goalsDifference  shotsDifference  cornersDifference  \\\n30        1542.48        -1.500000        -4.000000          -1.500000   \n31        1456.29         0.000000         2.500000           6.000000   \n32        1514.31        -1.000000        -5.000000          -5.000000   \n33        1513.77        -1.000000        -0.500000          -9.000000   \n34        1470.69         3.500000         6.500000          -0.500000   \n..            ...              ...              ...                ...   \n375       1523.46        -1.333333        -1.666667           1.166667   \n376       1432.98         1.833333         4.666667          -2.166667   \n377       1467.12         5.000000         6.166667          10.000000   \n378       1467.15         9.000000         1.333333           4.500000   \n379       1597.86        -2.666667         3.166667           0.833333   \n\n     ewmDifference  elo_difference  form_difference  \n30       -6.783784          -54.30        -4.000000  \n31        0.000000            1.23         0.000000  \n32       -1.081081           -1.20        -1.000000  \n33        0.027027           -0.06         1.500000  \n34        5.792793           56.19         3.500000  \n..             ...             ...              ...  \n375     -12.982307          -42.15         0.000000  \n376       8.867102           57.99         0.333333  \n377      37.769667          243.96         4.500000  \n378      44.976998          230.10         4.000000  \n379     -45.768690         -262.62        -3.000000  \n\n[350 rows x 134 columns]",
      "text/html": "<div>\n<style scoped>\n    .dataframe tbody tr th:only-of-type {\n        vertical-align: middle;\n    }\n\n    .dataframe tbody tr th {\n        vertical-align: top;\n    }\n\n    .dataframe thead th {\n        text-align: right;\n    }\n</style>\n<table border=\"1\" class=\"dataframe\">\n  <thead>\n    <tr style=\"text-align: right;\">\n      <th></th>\n      <th>Unnamed: 0</th>\n      <th>Div</th>\n      <th>Date</th>\n      <th>Time</th>\n      <th>HomeTeam</th>\n      <th>AwayTeam</th>\n      <th>FTHG</th>\n      <th>FTAG</th>\n      <th>FTR</th>\n      <th>HTHG</th>\n      <th>...</th>\n      <th>Elo_h_after</th>\n      <th>Elo_a_after</th>\n      <th>Elo_h_before</th>\n      <th>Elo_a_before</th>\n      <th>goalsDifference</th>\n      <th>shotsDifference</th>\n      <th>cornersDifference</th>\n      <th>ewmDifference</th>\n      <th>elo_difference</th>\n      <th>form_difference</th>\n    </tr>\n  </thead>\n  <tbody>\n    <tr>\n      <th>30</th>\n      <td>30</td>\n      <td>E0</td>\n      <td>2021-09-11</td>\n      <td>12:30</td>\n      <td>Crystal Palace</td>\n      <td>Tottenham</td>\n      <td>3</td>\n      <td>0</td>\n      <td>H</td>\n      <td>0</td>\n      <td>...</td>\n      <td>1505.52</td>\n      <td>1525.14</td>\n      <td>1488.18</td>\n      <td>1542.48</td>\n      <td>-1.500000</td>\n      <td>-4.000000</td>\n      <td>-1.500000</td>\n      <td>-6.783784</td>\n      <td>-54.30</td>\n      <td>-4.000000</td>\n    </tr>\n    <tr>\n      <th>31</th>\n      <td>31</td>\n      <td>E0</td>\n      <td>2021-09-11</td>\n      <td>15:00</td>\n      <td>Arsenal</td>\n      <td>Norwich City</td>\n      <td>1</td>\n      <td>0</td>\n      <td>H</td>\n      <td>0</td>\n      <td>...</td>\n      <td>1472.46</td>\n      <td>1441.35</td>\n      <td>1457.52</td>\n      <td>1456.29</td>\n      <td>0.000000</td>\n      <td>2.500000</td>\n      <td>6.000000</td>\n      <td>0.000000</td>\n      <td>1.23</td>\n      <td>0.000000</td>\n    </tr>\n    <tr>\n      <th>32</th>\n      <td>32</td>\n      <td>E0</td>\n      <td>2021-09-11</td>\n      <td>15:00</td>\n      <td>Brentford</td>\n      <td>Brighton</td>\n      <td>0</td>\n      <td>1</td>\n      <td>A</td>\n      <td>0</td>\n      <td>...</td>\n      <td>1498.17</td>\n      <td>1529.25</td>\n      <td>1513.11</td>\n      <td>1514.31</td>\n      <td>-1.000000</td>\n      <td>-5.000000</td>\n      <td>-5.000000</td>\n      <td>-1.081081</td>\n      <td>-1.20</td>\n      <td>-1.000000</td>\n    </tr>\n    <tr>\n      <th>33</th>\n      <td>33</td>\n      <td>E0</td>\n      <td>2021-09-11</td>\n      <td>15:00</td>\n      <td>Leicester City</td>\n      <td>Manchester City</td>\n      <td>0</td>\n      <td>1</td>\n      <td>A</td>\n      <td>0</td>\n      <td>...</td>\n      <td>1498.71</td>\n      <td>1528.77</td>\n      <td>1513.71</td>\n      <td>1513.77</td>\n      <td>-1.000000</td>\n      <td>-0.500000</td>\n      <td>-9.000000</td>\n      <td>0.027027</td>\n      <td>-0.06</td>\n      <td>1.500000</td>\n    </tr>\n    <tr>\n      <th>34</th>\n      <td>34</td>\n      <td>E0</td>\n      <td>2021-09-11</td>\n      <td>15:00</td>\n      <td>Manchester Utd</td>\n      <td>Newcastle Utd</td>\n      <td>4</td>\n      <td>1</td>\n      <td>H</td>\n      <td>1</td>\n      <td>...</td>\n      <td>1539.48</td>\n      <td>1458.09</td>\n      <td>1526.88</td>\n      <td>1470.69</td>\n      <td>3.500000</td>\n      <td>6.500000</td>\n      <td>-0.500000</td>\n      <td>5.792793</td>\n      <td>56.19</td>\n      <td>3.500000</td>\n    </tr>\n    <tr>\n      <th>...</th>\n      <td>...</td>\n      <td>...</td>\n      <td>...</td>\n      <td>...</td>\n      <td>...</td>\n      <td>...</td>\n      <td>...</td>\n      <td>...</td>\n      <td>...</td>\n      <td>...</td>\n      <td>...</td>\n      <td>...</td>\n      <td>...</td>\n      <td>...</td>\n      <td>...</td>\n      <td>...</td>\n      <td>...</td>\n      <td>...</td>\n      <td>...</td>\n      <td>...</td>\n      <td>...</td>\n    </tr>\n    <tr>\n      <th>375</th>\n      <td>375</td>\n      <td>E0</td>\n      <td>2022-05-22</td>\n      <td>16:00</td>\n      <td>Crystal Palace</td>\n      <td>Manchester Utd</td>\n      <td>1</td>\n      <td>0</td>\n      <td>H</td>\n      <td>1</td>\n      <td>...</td>\n      <td>1498.11</td>\n      <td>1506.66</td>\n      <td>1481.31</td>\n      <td>1523.46</td>\n      <td>-1.333333</td>\n      <td>-1.666667</td>\n      <td>1.166667</td>\n      <td>-12.982307</td>\n      <td>-42.15</td>\n      <td>0.000000</td>\n    </tr>\n    <tr>\n      <th>376</th>\n      <td>376</td>\n      <td>E0</td>\n      <td>2022-05-22</td>\n      <td>16:00</td>\n      <td>Leicester City</td>\n      <td>Southampton</td>\n      <td>4</td>\n      <td>1</td>\n      <td>H</td>\n      <td>0</td>\n      <td>...</td>\n      <td>1503.48</td>\n      <td>1420.47</td>\n      <td>1490.97</td>\n      <td>1432.98</td>\n      <td>1.833333</td>\n      <td>4.666667</td>\n      <td>-2.166667</td>\n      <td>8.867102</td>\n      <td>57.99</td>\n      <td>0.333333</td>\n    </tr>\n    <tr>\n      <th>377</th>\n      <td>377</td>\n      <td>E0</td>\n      <td>2022-05-22</td>\n      <td>16:00</td>\n      <td>Liverpool</td>\n      <td>Wolves</td>\n      <td>3</td>\n      <td>1</td>\n      <td>H</td>\n      <td>1</td>\n      <td>...</td>\n      <td>1716.99</td>\n      <td>1461.21</td>\n      <td>1711.08</td>\n      <td>1467.12</td>\n      <td>5.000000</td>\n      <td>6.166667</td>\n      <td>10.000000</td>\n      <td>37.769667</td>\n      <td>243.96</td>\n      <td>4.500000</td>\n    </tr>\n    <tr>\n      <th>378</th>\n      <td>378</td>\n      <td>E0</td>\n      <td>2022-05-22</td>\n      <td>16:00</td>\n      <td>Manchester City</td>\n      <td>Aston Villa</td>\n      <td>3</td>\n      <td>2</td>\n      <td>H</td>\n      <td>0</td>\n      <td>...</td>\n      <td>1703.55</td>\n      <td>1460.85</td>\n      <td>1697.25</td>\n      <td>1467.15</td>\n      <td>9.000000</td>\n      <td>1.333333</td>\n      <td>4.500000</td>\n      <td>44.976998</td>\n      <td>230.10</td>\n      <td>4.000000</td>\n    </tr>\n    <tr>\n      <th>379</th>\n      <td>379</td>\n      <td>E0</td>\n      <td>2022-05-22</td>\n      <td>16:00</td>\n      <td>Norwich City</td>\n      <td>Tottenham</td>\n      <td>0</td>\n      <td>5</td>\n      <td>A</td>\n      <td>0</td>\n      <td>...</td>\n      <td>1329.81</td>\n      <td>1603.29</td>\n      <td>1335.24</td>\n      <td>1597.86</td>\n      <td>-2.666667</td>\n      <td>3.166667</td>\n      <td>0.833333</td>\n      <td>-45.768690</td>\n      <td>-262.62</td>\n      <td>-3.000000</td>\n    </tr>\n  </tbody>\n</table>\n<p>350 rows × 134 columns</p>\n</div>"
     },
     "execution_count": 2,
     "metadata": {},
     "output_type": "execute_result"
    }
   ],
   "source": [
    "#import and prepare data\n",
    "#player_ratings_19 = pd.read_csv('Data/2019-20/Players/player_ratings_19_a_09.csv')\n",
    "player_ratings_19 = pd.read_csv('Data/2019-20/Players/player_ratings_2019.csv')\n",
    "features_19 = pd.read_csv('Data/2019-20/Fixtures/PL19_20_features.csv')\n",
    "#exclude gameweeks 1-3\n",
    "features_19.drop(features_19[features_19.Wk_h < 4].index, inplace=True)\n",
    "player_ratings_20 = pd.read_csv('Data/2020-21/Players/player_ratings_a_09.csv')\n",
    "features_20 = pd.read_csv('Data/2020-21/Fixtures/PL20_21_features.csv')\n",
    "features_20.drop(features_20[features_20.Wk_h < 4].index, inplace=True)\n",
    "player_ratings_21 = pd.read_csv('Data/2021-22/Players/player_ratings_21_a_09.csv')\n",
    "features_21 = pd.read_csv('Data/2021-22/Fixtures/PL21_22_features.csv')\n",
    "features_21.drop(features_21[features_21.Wk_h < 4].index, inplace=True)\n",
    "player_ratings_20.replace(['Brighton & Hove Albion','Manchester United', 'Newcastle United', 'Sheffield United', 'Tottenham Hotspur', 'West Bromwich Albion', 'West Ham United','Wolverhampton Wanderers'], ['Brighton', 'Manchester Utd','Newcastle Utd', 'Sheffield Utd', 'Tottenham','West Brom' ,'West Ham', 'Wolves'], inplace=True)\n",
    "player_ratings_20['game_home_ID'] = player_ratings_20['HomeTeam'] + player_ratings_20['Date']\n",
    "player_ratings_20['game_away_ID'] = player_ratings_20['AwayTeam'] + player_ratings_20['Date']\n",
    "player_ratings_20.drop(player_ratings_20[player_ratings_20.Wk_h < 4].index, inplace=True)\n",
    "features_21"
   ],
   "metadata": {
    "collapsed": false,
    "pycharm": {
     "name": "#%%\n"
    }
   }
  },
  {
   "cell_type": "code",
   "execution_count": 3,
   "outputs": [],
   "source": [
    "#merge dataframes of 3 seasons\n",
    "PL_2019_total =  pd.merge(features_19, player_ratings_19, on= 'game_home_ID', how='left')\n",
    "PL_2020_total =  pd.merge(features_20, player_ratings_20, on= 'game_home_ID', how='left')\n",
    "PL_2021_total =  pd.merge(features_21, player_ratings_21, on= 'game_home_ID', how='left')\n",
    "frames = [PL_2019_total, PL_2020_total, PL_2021_total]\n",
    "PL_19_20_21_all_features = pd.concat(frames)"
   ],
   "metadata": {
    "collapsed": false,
    "pycharm": {
     "name": "#%%\n"
    }
   }
  },
  {
   "cell_type": "code",
   "execution_count": 40,
   "outputs": [
    {
     "data": {
      "text/plain": "     Unnamed: 0_x Div      Date_x Time_x       HomeTeam_x      AwayTeam_x  \\\n0              30  E0  2019-08-31  12:30      Southampton  Manchester Utd   \n1              31  E0  2019-08-31  15:00          Chelsea   Sheffield Utd   \n2              32  E0  2019-08-31  15:00   Crystal Palace     Aston Villa   \n3              33  E0  2019-08-31  15:00   Leicester City     Bournemouth   \n4              34  E0  2019-08-31  15:00  Manchester City        Brighton   \n..            ...  ..         ...    ...              ...             ...   \n345           375  E0  2022-05-22  16:00   Crystal Palace  Manchester Utd   \n346           376  E0  2022-05-22  16:00   Leicester City     Southampton   \n347           377  E0  2022-05-22  16:00        Liverpool          Wolves   \n348           378  E0  2022-05-22  16:00  Manchester City     Aston Villa   \n349           379  E0  2022-05-22  16:00     Norwich City       Tottenham   \n\n     FTHG_x  FTAG_x FTR_x  HTHG  ...  Attack_Rating_Difference  \\\n0         1       1     D     0  ...                 -8.696108   \n1         2       2     D     2  ...                 97.174211   \n2         1       0     H     0  ...                -22.700878   \n3         3       1     H     2  ...                 -8.118451   \n4         4       0     H     2  ...                 20.274545   \n..      ...     ...   ...   ...  ...                       ...   \n345       1       0     H     1  ...                 -2.441324   \n346       4       1     H     0  ...                 29.145907   \n347       3       1     H     1  ...                 -1.378848   \n348       3       2     H     0  ...                 25.620656   \n349       0       5     A     0  ...                 30.765114   \n\n    Bench_Rating_Difference Influence_Difference  Creativity_Difference  \\\n0                -13.029503            29.643243             -56.994595   \n1                  2.612414           128.670270             128.120721   \n2                 11.903258             8.221622             -70.580180   \n3                 15.382999             6.879279              12.309009   \n4                 16.194642           169.688288              98.920721   \n..                      ...                  ...                    ...   \n345               83.527907           -55.839647             -71.843929   \n346               22.307791            24.274186               8.288232   \n347              189.332683           -37.028619            -137.912185   \n348               77.550764           -56.131097             -25.603259   \n349               13.385995           -24.936126             -83.747128   \n\n     Threat_Difference  BPS_Difference  Selected_Difference  Overall_Rating_H  \\\n0           -91.072072       72.252252        -7.090981e+06        237.478074   \n1           139.981982      105.180180         1.377962e+06        419.652975   \n2            21.954955      -72.369369         2.088097e+06        211.433752   \n3           -11.549550       15.963964        -1.301976e+06        303.887309   \n4           114.045045      114.009009         7.638306e+06        475.117929   \n..                 ...             ...                  ...               ...   \n345         -27.652552      -44.959147         6.086770e+05        267.620547   \n346         -30.099457       10.599418         4.572563e+06        279.762870   \n347         -66.928122      -36.540463         6.056832e+06        443.826626   \n348          48.868307      -16.173457         4.954865e+06        483.907694   \n349        -152.865619     -103.433483        -6.675290e+06        284.572945   \n\n     Overall_Rating_A  Overall_Rating_Difference  \n0          322.462585                 -84.984511  \n1          256.024819                 163.628156  \n2          257.259711                 -45.825959  \n3          235.442842                  68.444467  \n4          223.994842                 251.123087  \n..                ...                        ...  \n345        244.663001                  22.957546  \n346        208.863974                  70.898896  \n347        324.107370                 119.719256  \n348        374.647236                 109.260458  \n349        427.838931                -143.265987  \n\n[1050 rows x 178 columns]",
      "text/html": "<div>\n<style scoped>\n    .dataframe tbody tr th:only-of-type {\n        vertical-align: middle;\n    }\n\n    .dataframe tbody tr th {\n        vertical-align: top;\n    }\n\n    .dataframe thead th {\n        text-align: right;\n    }\n</style>\n<table border=\"1\" class=\"dataframe\">\n  <thead>\n    <tr style=\"text-align: right;\">\n      <th></th>\n      <th>Unnamed: 0_x</th>\n      <th>Div</th>\n      <th>Date_x</th>\n      <th>Time_x</th>\n      <th>HomeTeam_x</th>\n      <th>AwayTeam_x</th>\n      <th>FTHG_x</th>\n      <th>FTAG_x</th>\n      <th>FTR_x</th>\n      <th>HTHG</th>\n      <th>...</th>\n      <th>Attack_Rating_Difference</th>\n      <th>Bench_Rating_Difference</th>\n      <th>Influence_Difference</th>\n      <th>Creativity_Difference</th>\n      <th>Threat_Difference</th>\n      <th>BPS_Difference</th>\n      <th>Selected_Difference</th>\n      <th>Overall_Rating_H</th>\n      <th>Overall_Rating_A</th>\n      <th>Overall_Rating_Difference</th>\n    </tr>\n  </thead>\n  <tbody>\n    <tr>\n      <th>0</th>\n      <td>30</td>\n      <td>E0</td>\n      <td>2019-08-31</td>\n      <td>12:30</td>\n      <td>Southampton</td>\n      <td>Manchester Utd</td>\n      <td>1</td>\n      <td>1</td>\n      <td>D</td>\n      <td>0</td>\n      <td>...</td>\n      <td>-8.696108</td>\n      <td>-13.029503</td>\n      <td>29.643243</td>\n      <td>-56.994595</td>\n      <td>-91.072072</td>\n      <td>72.252252</td>\n      <td>-7.090981e+06</td>\n      <td>237.478074</td>\n      <td>322.462585</td>\n      <td>-84.984511</td>\n    </tr>\n    <tr>\n      <th>1</th>\n      <td>31</td>\n      <td>E0</td>\n      <td>2019-08-31</td>\n      <td>15:00</td>\n      <td>Chelsea</td>\n      <td>Sheffield Utd</td>\n      <td>2</td>\n      <td>2</td>\n      <td>D</td>\n      <td>2</td>\n      <td>...</td>\n      <td>97.174211</td>\n      <td>2.612414</td>\n      <td>128.670270</td>\n      <td>128.120721</td>\n      <td>139.981982</td>\n      <td>105.180180</td>\n      <td>1.377962e+06</td>\n      <td>419.652975</td>\n      <td>256.024819</td>\n      <td>163.628156</td>\n    </tr>\n    <tr>\n      <th>2</th>\n      <td>32</td>\n      <td>E0</td>\n      <td>2019-08-31</td>\n      <td>15:00</td>\n      <td>Crystal Palace</td>\n      <td>Aston Villa</td>\n      <td>1</td>\n      <td>0</td>\n      <td>H</td>\n      <td>0</td>\n      <td>...</td>\n      <td>-22.700878</td>\n      <td>11.903258</td>\n      <td>8.221622</td>\n      <td>-70.580180</td>\n      <td>21.954955</td>\n      <td>-72.369369</td>\n      <td>2.088097e+06</td>\n      <td>211.433752</td>\n      <td>257.259711</td>\n      <td>-45.825959</td>\n    </tr>\n    <tr>\n      <th>3</th>\n      <td>33</td>\n      <td>E0</td>\n      <td>2019-08-31</td>\n      <td>15:00</td>\n      <td>Leicester City</td>\n      <td>Bournemouth</td>\n      <td>3</td>\n      <td>1</td>\n      <td>H</td>\n      <td>2</td>\n      <td>...</td>\n      <td>-8.118451</td>\n      <td>15.382999</td>\n      <td>6.879279</td>\n      <td>12.309009</td>\n      <td>-11.549550</td>\n      <td>15.963964</td>\n      <td>-1.301976e+06</td>\n      <td>303.887309</td>\n      <td>235.442842</td>\n      <td>68.444467</td>\n    </tr>\n    <tr>\n      <th>4</th>\n      <td>34</td>\n      <td>E0</td>\n      <td>2019-08-31</td>\n      <td>15:00</td>\n      <td>Manchester City</td>\n      <td>Brighton</td>\n      <td>4</td>\n      <td>0</td>\n      <td>H</td>\n      <td>2</td>\n      <td>...</td>\n      <td>20.274545</td>\n      <td>16.194642</td>\n      <td>169.688288</td>\n      <td>98.920721</td>\n      <td>114.045045</td>\n      <td>114.009009</td>\n      <td>7.638306e+06</td>\n      <td>475.117929</td>\n      <td>223.994842</td>\n      <td>251.123087</td>\n    </tr>\n    <tr>\n      <th>...</th>\n      <td>...</td>\n      <td>...</td>\n      <td>...</td>\n      <td>...</td>\n      <td>...</td>\n      <td>...</td>\n      <td>...</td>\n      <td>...</td>\n      <td>...</td>\n      <td>...</td>\n      <td>...</td>\n      <td>...</td>\n      <td>...</td>\n      <td>...</td>\n      <td>...</td>\n      <td>...</td>\n      <td>...</td>\n      <td>...</td>\n      <td>...</td>\n      <td>...</td>\n      <td>...</td>\n    </tr>\n    <tr>\n      <th>345</th>\n      <td>375</td>\n      <td>E0</td>\n      <td>2022-05-22</td>\n      <td>16:00</td>\n      <td>Crystal Palace</td>\n      <td>Manchester Utd</td>\n      <td>1</td>\n      <td>0</td>\n      <td>H</td>\n      <td>1</td>\n      <td>...</td>\n      <td>-2.441324</td>\n      <td>83.527907</td>\n      <td>-55.839647</td>\n      <td>-71.843929</td>\n      <td>-27.652552</td>\n      <td>-44.959147</td>\n      <td>6.086770e+05</td>\n      <td>267.620547</td>\n      <td>244.663001</td>\n      <td>22.957546</td>\n    </tr>\n    <tr>\n      <th>346</th>\n      <td>376</td>\n      <td>E0</td>\n      <td>2022-05-22</td>\n      <td>16:00</td>\n      <td>Leicester City</td>\n      <td>Southampton</td>\n      <td>4</td>\n      <td>1</td>\n      <td>H</td>\n      <td>0</td>\n      <td>...</td>\n      <td>29.145907</td>\n      <td>22.307791</td>\n      <td>24.274186</td>\n      <td>8.288232</td>\n      <td>-30.099457</td>\n      <td>10.599418</td>\n      <td>4.572563e+06</td>\n      <td>279.762870</td>\n      <td>208.863974</td>\n      <td>70.898896</td>\n    </tr>\n    <tr>\n      <th>347</th>\n      <td>377</td>\n      <td>E0</td>\n      <td>2022-05-22</td>\n      <td>16:00</td>\n      <td>Liverpool</td>\n      <td>Wolves</td>\n      <td>3</td>\n      <td>1</td>\n      <td>H</td>\n      <td>1</td>\n      <td>...</td>\n      <td>-1.378848</td>\n      <td>189.332683</td>\n      <td>-37.028619</td>\n      <td>-137.912185</td>\n      <td>-66.928122</td>\n      <td>-36.540463</td>\n      <td>6.056832e+06</td>\n      <td>443.826626</td>\n      <td>324.107370</td>\n      <td>119.719256</td>\n    </tr>\n    <tr>\n      <th>348</th>\n      <td>378</td>\n      <td>E0</td>\n      <td>2022-05-22</td>\n      <td>16:00</td>\n      <td>Manchester City</td>\n      <td>Aston Villa</td>\n      <td>3</td>\n      <td>2</td>\n      <td>H</td>\n      <td>0</td>\n      <td>...</td>\n      <td>25.620656</td>\n      <td>77.550764</td>\n      <td>-56.131097</td>\n      <td>-25.603259</td>\n      <td>48.868307</td>\n      <td>-16.173457</td>\n      <td>4.954865e+06</td>\n      <td>483.907694</td>\n      <td>374.647236</td>\n      <td>109.260458</td>\n    </tr>\n    <tr>\n      <th>349</th>\n      <td>379</td>\n      <td>E0</td>\n      <td>2022-05-22</td>\n      <td>16:00</td>\n      <td>Norwich City</td>\n      <td>Tottenham</td>\n      <td>0</td>\n      <td>5</td>\n      <td>A</td>\n      <td>0</td>\n      <td>...</td>\n      <td>30.765114</td>\n      <td>13.385995</td>\n      <td>-24.936126</td>\n      <td>-83.747128</td>\n      <td>-152.865619</td>\n      <td>-103.433483</td>\n      <td>-6.675290e+06</td>\n      <td>284.572945</td>\n      <td>427.838931</td>\n      <td>-143.265987</td>\n    </tr>\n  </tbody>\n</table>\n<p>1050 rows × 178 columns</p>\n</div>"
     },
     "execution_count": 40,
     "metadata": {},
     "output_type": "execute_result"
    }
   ],
   "source": [
    "#calculate differences for player ratings\n",
    "PL_19_20_21_all_features['gk_difference'] = PL_19_20_21_all_features['rating_h_gk'] - PL_19_20_21_all_features['rating_a_gk']\n",
    "PL_19_20_21_all_features['df_difference'] = PL_19_20_21_all_features['rating_h_df'] - PL_19_20_21_all_features['rating_a_df']\n",
    "PL_19_20_21_all_features['mf_difference'] = PL_19_20_21_all_features['rating_h_mf'] - PL_19_20_21_all_features['rating_a_mf']\n",
    "PL_19_20_21_all_features['att_difference'] = PL_19_20_21_all_features['rating_h_att'] - PL_19_20_21_all_features['rating_a_att']\n",
    "PL_19_20_21_all_features['bench_difference'] = PL_19_20_21_all_features['rating_h_bench'] - PL_19_20_21_all_features['rating_a_bench']\n",
    "PL_19_20_21_all_features['influence_difference'] = PL_19_20_21_all_features['influence_h'] - PL_19_20_21_all_features['influence_a']\n",
    "PL_19_20_21_all_features['creativity_difference'] = PL_19_20_21_all_features['creativity_h'] - PL_19_20_21_all_features['creativity_a']\n",
    "PL_19_20_21_all_features['threat_difference'] = PL_19_20_21_all_features['threat_h'] - PL_19_20_21_all_features['threat_a']\n",
    "PL_19_20_21_all_features['bps_difference'] = PL_19_20_21_all_features['bps_h'] - PL_19_20_21_all_features['bps_a']\n",
    "PL_19_20_21_all_features['selected_difference'] = PL_19_20_21_all_features['selected_h'] - PL_19_20_21_all_features['selected_a']\n",
    "PL_19_20_21_all_features['overall_h'] = PL_19_20_21_all_features['rating_h_gk'] + PL_19_20_21_all_features['rating_h_df'] + PL_19_20_21_all_features['rating_h_mf'] + PL_19_20_21_all_features['rating_h_att'] + PL_19_20_21_all_features['rating_h_bench']\n",
    "PL_19_20_21_all_features['overall_a'] = PL_19_20_21_all_features['rating_a_gk'] + PL_19_20_21_all_features['rating_a_df'] + PL_19_20_21_all_features['rating_a_mf'] + PL_19_20_21_all_features['rating_a_att'] + PL_19_20_21_all_features['rating_a_bench']\n",
    "PL_19_20_21_all_features['overall_difference'] = PL_19_20_21_all_features['overall_h'] - PL_19_20_21_all_features['overall_a']\n",
    "PL_19_20_21_all_features\n"
   ],
   "metadata": {
    "collapsed": false,
    "pycharm": {
     "name": "#%%\n"
    }
   }
  },
  {
   "cell_type": "code",
   "execution_count": 42,
   "outputs": [
    {
     "data": {
      "text/plain": "array(['D', 'D', 'H', ..., 'H', 'H', 'A'], dtype=object)"
     },
     "execution_count": 42,
     "metadata": {},
     "output_type": "execute_result"
    }
   ],
   "source": [
    "#rename column names\n",
    "PL_19_20_21_all_features.rename(columns={\"ewmH\": \"Points_H\", \"ewmA\": \"Points_A\", \"ewmDifference\": \"Points_Difference\", \"Rating_Home\": \"FIFA_Rating_H\", \"Rating_Away\": \"FIFA_Rating_A\", \"Rating difference\": \"FIFA_Rating_Difference\", \"goalsH\": \"Goals_H\", \"goalsA\": \"Goals_A\",  \"goalsDifference\": \"Goals_Difference\", \"shotsH\": \"Shots_H\", \"shotsA\": \"Shots_A\", \"shotsDifference\": \"Shots_Difference\", \"cornersH\": \"Corners_H\", \"cornersA\": \"Corners_A\", \"cornersDifference\": \"Corners_Difference\", \"formH\": \"Form_H\", \"formA\": \"Form_A\", \"form_difference\": \"Form_Difference\", \"Elo_h_before\": \"Elo_H\", \"Elo_a_before\": \"Elo_A\", \"elo_difference\": \"Elo_Difference\",\"rating_a_gk\":\"Goalkeeper_Rating_A\",\"rating_h_gk\":\"Goalkeeper_Rating_H\",\"gk_difference\":\"Goalkeeper_Rating_Difference\",\"rating_a_df\":\"Defense_Rating_A\",\"rating_h_df\":\"Defense_Rating_H\",\"df_difference\":\"Defense_Rating_Difference\",\"rating_a_mf\":\"Midfield_Rating_A\",\"rating_H_mf\":\"Midfield_Rating_H\",\"mf_difference\":\"Midfield_Rating_Difference\",\"rating_a_att\":\"Attack_Rating_A\",\"att_difference\":\"Attack_Rating_Difference\",\"rating_h_bench\":\"Bench_Rating_H\",\"rating_a_bench\":\"Bench_Rating_A\", \"bench_difference\":\"Bench_Rating_Difference\", \"overall_h\":\"Overall_Rating_H\", \"overall_a\":\"Overall_Rating_A\", \"overall_difference\":\"Overall_Rating_Difference\", \"selected_h\":\"Selected_H\", \"selected_a\":\"Selected_A\", \"selected_difference\":\"Selected_Difference\", \"bps_h\":\"BPS_H\", \"bps_a\":\"BPS_A\", \"bps_difference\":\"BPS_Difference\", \"influence_h\":\"Influence_H\", \"influence_a\":\"Influence_A\", \"influence_difference\":\"Influence_Difference\", \"creativity_h\":\"Creativity_H\", \"creativity_a\":\"Creativity_A\", \"creativity_difference\":\"Creativity_Difference\", \"threat_h\":\"Threat_H\", \"threat_a\":\"Threat_A\", \"threat_difference\":\"Threat_Difference\" }, inplace=True)\n",
    "PL_19_20_21_all_features"
   ],
   "metadata": {
    "collapsed": false,
    "pycharm": {
     "name": "#%%\n"
    }
   }
  },
  {
   "cell_type": "code",
   "execution_count": 8,
   "outputs": [
    {
     "data": {
      "text/plain": "array(['D', 'D', 'H', 'H', 'H', 'D', 'H', 'A', 'H', 'D', 'H', 'D', 'H',\n       'A', 'H', 'A', 'H', 'H', 'D', 'D', 'A', 'H', 'H', 'A', 'H', 'D',\n       'D', 'H', 'H', 'A', 'A', 'D', 'D', 'H', 'H', 'H', 'H', 'A', 'H',\n       'D', 'H', 'H', 'H', 'A', 'D', 'A', 'H', 'A', 'A', 'H', 'H', 'H',\n       'D', 'H', 'H', 'D', 'D', 'A', 'D', 'H', 'A', 'H', 'H', 'D', 'D',\n       'A', 'D', 'D', 'H', 'A', 'H', 'D', 'A', 'H', 'H', 'H', 'A', 'A',\n       'A', 'D', 'A', 'H', 'H', 'H', 'A', 'D', 'H', 'H', 'H', 'H', 'A',\n       'D', 'A', 'A', 'A', 'A', 'A', 'H', 'D', 'H', 'D', 'A', 'A', 'H',\n       'H', 'H', 'D', 'D', 'H', 'D', 'H', 'A', 'H', 'H', 'H', 'H', 'H',\n       'H', 'A', 'A', 'H', 'A', 'H', 'D', 'A', 'A', 'H', 'A', 'D', 'A',\n       'H', 'H', 'A', 'D', 'H', 'A', 'D', 'A', 'A', 'D', 'D', 'A', 'A',\n       'A', 'H', 'A', 'H', 'H', 'A', 'H', 'H', 'D', 'A', 'H', 'H', 'D',\n       'H', 'A', 'H', 'H', 'A', 'D', 'H', 'D', 'A', 'A', 'A', 'H', 'H',\n       'D', 'A', 'A', 'H', 'H', 'H', 'D', 'H', 'H', 'H', 'H', 'D', 'H',\n       'H', 'A', 'H', 'D', 'A', 'A', 'A', 'D', 'D', 'D', 'D', 'H', 'A',\n       'D', 'H', 'H', 'H', 'H', 'H', 'A', 'D', 'A', 'D', 'H', 'H', 'A',\n       'A', 'A', 'D', 'H', 'A', 'H', 'D', 'A', 'D', 'D', 'D', 'H', 'H',\n       'D', 'H', 'D', 'A', 'A', 'A', 'H', 'A', 'H', 'H', 'H', 'H', 'D',\n       'H', 'A', 'H', 'H', 'H', 'H', 'H', 'A', 'D', 'D', 'H', 'H', 'D',\n       'A', 'H', 'H', 'H', 'H', 'A', 'D', 'D', 'H', 'H', 'H', 'D', 'H',\n       'A', 'D', 'D', 'H', 'A', 'A', 'H', 'A', 'D', 'H', 'D', 'H', 'H',\n       'D', 'A', 'H', 'H', 'H', 'A', 'H', 'A', 'A', 'A', 'A', 'H', 'A',\n       'H', 'H', 'H', 'H', 'A', 'H', 'H', 'A', 'H', 'D', 'D', 'H', 'H',\n       'H', 'A', 'H', 'D', 'H', 'H', 'A', 'A', 'D', 'D', 'A', 'A', 'H',\n       'D', 'H', 'A', 'H', 'H', 'H', 'H', 'D', 'H', 'D', 'H', 'A', 'H',\n       'D', 'H', 'A', 'D', 'H', 'A', 'A', 'H', 'D', 'A', 'H', 'A', 'H',\n       'D', 'H', 'H', 'A', 'H', 'D', 'A', 'A', 'H', 'A', 'H', 'D', 'H',\n       'H', 'D', 'H', 'A', 'H', 'H', 'H', 'D', 'D', 'H', 'A', 'D', 'D',\n       'D', 'A', 'D', 'A', 'A', 'D', 'A', 'D', 'H', 'H', 'D', 'A', 'D',\n       'A', 'H', 'A', 'A', 'H', 'A', 'H', 'A', 'H', 'H', 'A', 'D', 'H',\n       'A', 'H', 'H', 'H', 'A', 'H', 'D', 'A', 'A', 'A', 'H', 'H', 'A',\n       'A', 'D', 'H', 'H', 'D', 'A', 'D', 'H', 'A', 'H', 'A', 'D', 'A',\n       'A', 'H', 'D', 'H', 'A', 'H', 'A', 'A', 'H', 'H', 'A', 'A', 'A',\n       'H', 'D', 'H', 'H', 'D', 'D', 'A', 'H', 'H', 'D', 'D', 'H', 'A',\n       'D', 'H', 'D', 'D', 'A', 'A', 'A', 'H', 'D', 'D', 'A', 'H', 'A',\n       'H', 'H', 'D', 'H', 'D', 'H', 'H', 'A', 'H', 'D', 'D', 'D', 'D',\n       'D', 'A', 'H', 'D', 'A', 'H', 'D', 'A', 'H', 'H', 'H', 'D', 'A',\n       'A', 'A', 'H', 'H', 'A', 'A', 'H', 'D', 'D', 'A', 'A', 'H', 'A',\n       'H', 'A', 'D', 'H', 'H', 'H', 'H', 'H', 'A', 'A', 'H', 'A', 'A',\n       'A', 'A', 'H', 'D', 'D', 'D', 'A', 'A', 'A', 'H', 'H', 'D', 'D',\n       'A', 'H', 'A', 'A', 'H', 'H', 'H', 'H', 'A', 'A', 'A', 'A', 'A',\n       'A', 'A', 'H', 'D', 'H', 'D', 'D', 'H', 'D', 'A', 'A', 'H', 'H',\n       'A', 'H', 'D', 'A', 'D', 'H', 'A', 'H', 'H', 'D', 'A', 'H', 'D',\n       'D', 'A', 'H', 'H', 'A', 'A', 'H', 'A', 'H', 'H', 'H', 'A', 'D',\n       'D', 'A', 'H', 'D', 'A', 'H', 'H', 'D', 'H', 'D', 'A', 'A', 'A',\n       'D', 'A', 'D', 'A', 'D', 'A', 'A', 'H', 'H', 'H', 'H', 'D', 'D',\n       'H', 'A', 'A', 'A', 'H', 'H', 'H', 'A', 'A', 'H', 'D', 'A', 'A',\n       'H', 'A', 'A', 'H', 'D', 'H', 'H', 'D', 'A', 'A', 'A', 'H', 'A',\n       'A', 'H', 'A', 'A', 'H', 'D', 'D', 'H', 'H', 'D', 'H', 'D', 'D',\n       'H', 'A', 'H', 'A', 'D', 'A', 'H', 'A', 'D', 'D', 'H', 'D', 'A',\n       'H', 'H', 'A', 'A', 'H', 'D', 'A', 'A', 'H', 'A', 'A', 'H', 'H',\n       'A', 'A', 'H', 'A', 'A', 'H', 'A', 'D', 'A', 'A', 'A', 'H', 'D',\n       'H', 'H', 'A', 'A', 'D', 'A', 'H', 'H', 'H', 'H', 'A', 'A', 'A',\n       'A', 'H', 'H', 'A', 'H', 'A', 'H', 'H', 'H', 'H', 'A', 'H', 'H',\n       'A', 'A', 'H', 'D', 'A', 'H', 'A', 'H', 'D', 'A', 'A', 'H', 'D',\n       'A', 'H', 'H', 'A', 'A', 'A', 'A', 'H', 'A', 'D', 'D', 'D', 'A',\n       'H', 'D', 'D', 'D', 'H', 'H', 'H', 'D', 'D', 'H', 'A', 'D', 'A',\n       'A', 'H', 'H', 'D', 'H', 'A', 'A', 'A', 'D'], dtype=object)"
     },
     "execution_count": 8,
     "metadata": {},
     "output_type": "execute_result"
    }
   ],
   "source": [
    "#prepare Data for ML Algos, including all features from benchmark + rating differences\n",
    "\n",
    "y = PL_19_20_21_all_features['FTR_x'].to_numpy()\n",
    "#all features used for benchmark\n",
    "feature_names_benchmark = ['FIFA_Rating_Difference', 'FIFA_Rating_H', 'FIFA_Rating_H', 'Points_H', 'Points_A', 'Points_Difference', 'Elo_H', 'Elo_A', 'Elo_Difference', 'Goals_H', 'Goals_A', 'Goals_Difference', 'Shots_H', 'Shots_A', 'Shots_Difference', 'Corners_H', 'Corners_A', 'Corners_Difference', 'Form_H', 'Form_A', 'Form_Difference']\n",
    "\n",
    "#features including player stats\n",
    "feature_names_player_stats = ['Goalkeeper_Rating_H', 'FIFA_Rating_Difference', 'FIFA_Rating_H', 'FIFA_Rating_H', 'Points_H', 'Points_A', 'Points_Difference', 'Elo_H', 'Elo_A', 'Elo_Difference', 'Goals_H', 'Goals_A', 'Goals_Difference', 'Shots_H', 'Shots_A', 'Shots_Difference', 'Corners_H', 'Corners_A', 'Corners_Difference', 'Form_H', 'Form_A', 'Form_Difference', 'Goalkeeper_Rating_A', 'Defense_Rating_H', 'Defense_Rating_A', 'Midfield_Rating_H', 'Midfield_Rating_A', 'Attack_Rating_H', 'Attack_Rating_A', 'Bench_Rating_H', 'Bench_Rating_A', 'Influence_H', 'Influence_A', 'Creativity_H', 'Creativity_A', 'Threat_H', 'Threat_A', 'BPS_H', 'BPS_A', 'Selected_H', 'Selected_A', 'Goalkeeper_Rating_Difference', 'Defense_Rating_Difference', 'Midfield_Rating_Difference', 'Attack_Rating_Difference', 'Bench_Rating_Difference','Overall_Rating_Difference' ,'Influence_Difference', 'Creativity_Difference', 'Threat_Difference', 'BPS_Difference', 'Selected_Difference', 'Overall_Rating_H', 'Overall_Rating_A']\n",
    "feature_names_differences = ['FIFA_Rating_Difference', 'Points_Difference', 'Elo_Difference', 'Goals_Difference', 'Shots_Difference', 'Corners_Difference', 'Form_Difference', 'gk_difference', 'df_difference', 'mf_difference', 'att_difference', 'bench_difference','overall_difference' ,'influence_difference', 'creativity_difference', 'threat_difference', 'bps_difference', 'selected_difference', 'overall_h', 'overall_a']\n",
    "y"
   ],
   "metadata": {
    "collapsed": false,
    "pycharm": {
     "name": "#%%\n"
    }
   }
  },
  {
   "cell_type": "code",
   "execution_count": 9,
   "outputs": [
    {
     "data": {
      "text/plain": "     Unnamed: 0_x Div      Date_x Time_x       HomeTeam_x      AwayTeam_x  \\\n0              30  E0  2019-08-31  12:30      Southampton  Manchester Utd   \n1              31  E0  2019-08-31  15:00          Chelsea   Sheffield Utd   \n2              32  E0  2019-08-31  15:00   Crystal Palace     Aston Villa   \n3              33  E0  2019-08-31  15:00   Leicester City     Bournemouth   \n4              34  E0  2019-08-31  15:00  Manchester City        Brighton   \n..            ...  ..         ...    ...              ...             ...   \n345           375  E0  2022-05-22  16:00   Crystal Palace  Manchester Utd   \n346           376  E0  2022-05-22  16:00   Leicester City     Southampton   \n347           377  E0  2022-05-22  16:00        Liverpool          Wolves   \n348           378  E0  2022-05-22  16:00  Manchester City     Aston Villa   \n349           379  E0  2022-05-22  16:00     Norwich City       Tottenham   \n\n     FTHG_x  FTAG_x FTR_x  HTHG  ...  att_difference bench_difference  \\\n0         1       1     D     0  ...       -8.696108       -13.029503   \n1         2       2     D     2  ...       97.174211         2.612414   \n2         1       0     H     0  ...      -22.700878        11.903258   \n3         3       1     H     2  ...       -8.118451        15.382999   \n4         4       0     H     2  ...       20.274545        16.194642   \n..      ...     ...   ...   ...  ...             ...              ...   \n345       1       0     H     1  ...       -2.441324        83.527907   \n346       4       1     H     0  ...       29.145907        22.307791   \n347       3       1     H     1  ...       -1.378848       189.332683   \n348       3       2     H     0  ...       25.620656        77.550764   \n349       0       5     A     0  ...       30.765114        13.385995   \n\n    influence_difference  creativity_difference  threat_difference  \\\n0              29.643243             -56.994595         -91.072072   \n1             128.670270             128.120721         139.981982   \n2               8.221622             -70.580180          21.954955   \n3               6.879279              12.309009         -11.549550   \n4             169.688288              98.920721         114.045045   \n..                   ...                    ...                ...   \n345           -55.839647             -71.843929         -27.652552   \n346            24.274186               8.288232         -30.099457   \n347           -37.028619            -137.912185         -66.928122   \n348           -56.131097             -25.603259          48.868307   \n349           -24.936126             -83.747128        -152.865619   \n\n     bps_difference  selected_difference   overall_h   overall_a  \\\n0         72.252252        -7.090981e+06  237.478074  322.462585   \n1        105.180180         1.377962e+06  419.652975  256.024819   \n2        -72.369369         2.088097e+06  211.433752  257.259711   \n3         15.963964        -1.301976e+06  303.887309  235.442842   \n4        114.009009         7.638306e+06  475.117929  223.994842   \n..              ...                  ...         ...         ...   \n345      -44.959147         6.086770e+05  267.620547  244.663001   \n346       10.599418         4.572563e+06  279.762870  208.863974   \n347      -36.540463         6.056832e+06  443.826626  324.107370   \n348      -16.173457         4.954865e+06  483.907694  374.647236   \n349     -103.433483        -6.675290e+06  284.572945  427.838931   \n\n     overall_difference  \n0            -84.984511  \n1            163.628156  \n2            -45.825959  \n3             68.444467  \n4            251.123087  \n..                  ...  \n345           22.957546  \n346           70.898896  \n347          119.719256  \n348          109.260458  \n349         -143.265987  \n\n[1050 rows x 178 columns]",
      "text/html": "<div>\n<style scoped>\n    .dataframe tbody tr th:only-of-type {\n        vertical-align: middle;\n    }\n\n    .dataframe tbody tr th {\n        vertical-align: top;\n    }\n\n    .dataframe thead th {\n        text-align: right;\n    }\n</style>\n<table border=\"1\" class=\"dataframe\">\n  <thead>\n    <tr style=\"text-align: right;\">\n      <th></th>\n      <th>Unnamed: 0_x</th>\n      <th>Div</th>\n      <th>Date_x</th>\n      <th>Time_x</th>\n      <th>HomeTeam_x</th>\n      <th>AwayTeam_x</th>\n      <th>FTHG_x</th>\n      <th>FTAG_x</th>\n      <th>FTR_x</th>\n      <th>HTHG</th>\n      <th>...</th>\n      <th>att_difference</th>\n      <th>bench_difference</th>\n      <th>influence_difference</th>\n      <th>creativity_difference</th>\n      <th>threat_difference</th>\n      <th>bps_difference</th>\n      <th>selected_difference</th>\n      <th>overall_h</th>\n      <th>overall_a</th>\n      <th>overall_difference</th>\n    </tr>\n  </thead>\n  <tbody>\n    <tr>\n      <th>0</th>\n      <td>30</td>\n      <td>E0</td>\n      <td>2019-08-31</td>\n      <td>12:30</td>\n      <td>Southampton</td>\n      <td>Manchester Utd</td>\n      <td>1</td>\n      <td>1</td>\n      <td>D</td>\n      <td>0</td>\n      <td>...</td>\n      <td>-8.696108</td>\n      <td>-13.029503</td>\n      <td>29.643243</td>\n      <td>-56.994595</td>\n      <td>-91.072072</td>\n      <td>72.252252</td>\n      <td>-7.090981e+06</td>\n      <td>237.478074</td>\n      <td>322.462585</td>\n      <td>-84.984511</td>\n    </tr>\n    <tr>\n      <th>1</th>\n      <td>31</td>\n      <td>E0</td>\n      <td>2019-08-31</td>\n      <td>15:00</td>\n      <td>Chelsea</td>\n      <td>Sheffield Utd</td>\n      <td>2</td>\n      <td>2</td>\n      <td>D</td>\n      <td>2</td>\n      <td>...</td>\n      <td>97.174211</td>\n      <td>2.612414</td>\n      <td>128.670270</td>\n      <td>128.120721</td>\n      <td>139.981982</td>\n      <td>105.180180</td>\n      <td>1.377962e+06</td>\n      <td>419.652975</td>\n      <td>256.024819</td>\n      <td>163.628156</td>\n    </tr>\n    <tr>\n      <th>2</th>\n      <td>32</td>\n      <td>E0</td>\n      <td>2019-08-31</td>\n      <td>15:00</td>\n      <td>Crystal Palace</td>\n      <td>Aston Villa</td>\n      <td>1</td>\n      <td>0</td>\n      <td>H</td>\n      <td>0</td>\n      <td>...</td>\n      <td>-22.700878</td>\n      <td>11.903258</td>\n      <td>8.221622</td>\n      <td>-70.580180</td>\n      <td>21.954955</td>\n      <td>-72.369369</td>\n      <td>2.088097e+06</td>\n      <td>211.433752</td>\n      <td>257.259711</td>\n      <td>-45.825959</td>\n    </tr>\n    <tr>\n      <th>3</th>\n      <td>33</td>\n      <td>E0</td>\n      <td>2019-08-31</td>\n      <td>15:00</td>\n      <td>Leicester City</td>\n      <td>Bournemouth</td>\n      <td>3</td>\n      <td>1</td>\n      <td>H</td>\n      <td>2</td>\n      <td>...</td>\n      <td>-8.118451</td>\n      <td>15.382999</td>\n      <td>6.879279</td>\n      <td>12.309009</td>\n      <td>-11.549550</td>\n      <td>15.963964</td>\n      <td>-1.301976e+06</td>\n      <td>303.887309</td>\n      <td>235.442842</td>\n      <td>68.444467</td>\n    </tr>\n    <tr>\n      <th>4</th>\n      <td>34</td>\n      <td>E0</td>\n      <td>2019-08-31</td>\n      <td>15:00</td>\n      <td>Manchester City</td>\n      <td>Brighton</td>\n      <td>4</td>\n      <td>0</td>\n      <td>H</td>\n      <td>2</td>\n      <td>...</td>\n      <td>20.274545</td>\n      <td>16.194642</td>\n      <td>169.688288</td>\n      <td>98.920721</td>\n      <td>114.045045</td>\n      <td>114.009009</td>\n      <td>7.638306e+06</td>\n      <td>475.117929</td>\n      <td>223.994842</td>\n      <td>251.123087</td>\n    </tr>\n    <tr>\n      <th>...</th>\n      <td>...</td>\n      <td>...</td>\n      <td>...</td>\n      <td>...</td>\n      <td>...</td>\n      <td>...</td>\n      <td>...</td>\n      <td>...</td>\n      <td>...</td>\n      <td>...</td>\n      <td>...</td>\n      <td>...</td>\n      <td>...</td>\n      <td>...</td>\n      <td>...</td>\n      <td>...</td>\n      <td>...</td>\n      <td>...</td>\n      <td>...</td>\n      <td>...</td>\n      <td>...</td>\n    </tr>\n    <tr>\n      <th>345</th>\n      <td>375</td>\n      <td>E0</td>\n      <td>2022-05-22</td>\n      <td>16:00</td>\n      <td>Crystal Palace</td>\n      <td>Manchester Utd</td>\n      <td>1</td>\n      <td>0</td>\n      <td>H</td>\n      <td>1</td>\n      <td>...</td>\n      <td>-2.441324</td>\n      <td>83.527907</td>\n      <td>-55.839647</td>\n      <td>-71.843929</td>\n      <td>-27.652552</td>\n      <td>-44.959147</td>\n      <td>6.086770e+05</td>\n      <td>267.620547</td>\n      <td>244.663001</td>\n      <td>22.957546</td>\n    </tr>\n    <tr>\n      <th>346</th>\n      <td>376</td>\n      <td>E0</td>\n      <td>2022-05-22</td>\n      <td>16:00</td>\n      <td>Leicester City</td>\n      <td>Southampton</td>\n      <td>4</td>\n      <td>1</td>\n      <td>H</td>\n      <td>0</td>\n      <td>...</td>\n      <td>29.145907</td>\n      <td>22.307791</td>\n      <td>24.274186</td>\n      <td>8.288232</td>\n      <td>-30.099457</td>\n      <td>10.599418</td>\n      <td>4.572563e+06</td>\n      <td>279.762870</td>\n      <td>208.863974</td>\n      <td>70.898896</td>\n    </tr>\n    <tr>\n      <th>347</th>\n      <td>377</td>\n      <td>E0</td>\n      <td>2022-05-22</td>\n      <td>16:00</td>\n      <td>Liverpool</td>\n      <td>Wolves</td>\n      <td>3</td>\n      <td>1</td>\n      <td>H</td>\n      <td>1</td>\n      <td>...</td>\n      <td>-1.378848</td>\n      <td>189.332683</td>\n      <td>-37.028619</td>\n      <td>-137.912185</td>\n      <td>-66.928122</td>\n      <td>-36.540463</td>\n      <td>6.056832e+06</td>\n      <td>443.826626</td>\n      <td>324.107370</td>\n      <td>119.719256</td>\n    </tr>\n    <tr>\n      <th>348</th>\n      <td>378</td>\n      <td>E0</td>\n      <td>2022-05-22</td>\n      <td>16:00</td>\n      <td>Manchester City</td>\n      <td>Aston Villa</td>\n      <td>3</td>\n      <td>2</td>\n      <td>H</td>\n      <td>0</td>\n      <td>...</td>\n      <td>25.620656</td>\n      <td>77.550764</td>\n      <td>-56.131097</td>\n      <td>-25.603259</td>\n      <td>48.868307</td>\n      <td>-16.173457</td>\n      <td>4.954865e+06</td>\n      <td>483.907694</td>\n      <td>374.647236</td>\n      <td>109.260458</td>\n    </tr>\n    <tr>\n      <th>349</th>\n      <td>379</td>\n      <td>E0</td>\n      <td>2022-05-22</td>\n      <td>16:00</td>\n      <td>Norwich City</td>\n      <td>Tottenham</td>\n      <td>0</td>\n      <td>5</td>\n      <td>A</td>\n      <td>0</td>\n      <td>...</td>\n      <td>30.765114</td>\n      <td>13.385995</td>\n      <td>-24.936126</td>\n      <td>-83.747128</td>\n      <td>-152.865619</td>\n      <td>-103.433483</td>\n      <td>-6.675290e+06</td>\n      <td>284.572945</td>\n      <td>427.838931</td>\n      <td>-143.265987</td>\n    </tr>\n  </tbody>\n</table>\n<p>1050 rows × 178 columns</p>\n</div>"
     },
     "execution_count": 9,
     "metadata": {},
     "output_type": "execute_result"
    }
   ],
   "source": [
    "#split Data in training and test set and train model\n",
    "#training set: season 19/20 and 20/21\n",
    "#test set: season 21/22\n",
    "\n",
    "#all features from benchmark\n",
    "X_benchmark = PL_19_20_21_all_features[feature_names_benchmark].to_numpy()\n",
    "X_differences = PL_19_20_21_all_features[feature_names_differences].to_numpy()\n",
    "#all features including player stats\n",
    "X_player_stats = PL_19_20_21_all_features[feature_names_player_stats].to_numpy()\n",
    "X_train_player_stats = X_player_stats[:750]\n",
    "X_test_player_stats = X_player_stats[-350:]\n",
    "X_train_benchmark = X_benchmark[:750]\n",
    "X_test_benchmark = X_benchmark[-350:]\n",
    "X_train_differences = X_differences[:750]\n",
    "X_test_differences = X_differences[-350:]\n",
    "\n",
    "\n",
    "y_train_player_stats = y[:750]\n",
    "y_test_player_stats = y[-350:]\n",
    "y_train_player_stats"
   ],
   "metadata": {
    "collapsed": false,
    "pycharm": {
     "name": "#%%\n"
    }
   }
  },
  {
   "cell_type": "code",
   "execution_count": 51,
   "outputs": [
    {
     "data": {
      "text/plain": "RandomForestClassifier(random_state=6)"
     },
     "execution_count": 51,
     "metadata": {},
     "output_type": "execute_result"
    }
   ],
   "source": [
    "#Hyperparameter Tuning\n",
    "from sklearn.model_selection import RandomizedSearchCV\n",
    "# Number of trees in random forest\n",
    "n_estimators = [int(x) for x in np.linspace(start = 200, stop = 2000, num = 10)]\n",
    "# Number of features to consider at every split\n",
    "max_features = ['auto', 'sqrt']\n",
    "# Maximum number of levels in tree\n",
    "max_depth = [int(x) for x in np.linspace(10, 110, num = 11)]\n",
    "max_depth.append(None)\n",
    "# Minimum number of samples required to split a node\n",
    "min_samples_split = [2, 5, 10]\n",
    "# Minimum number of samples required at each leaf node\n",
    "min_samples_leaf = [1, 2, 4]\n",
    "# Method of selecting samples for training each tree\n",
    "bootstrap = [True, False]\n",
    "# Create the random grid\n",
    "random_grid = {'n_estimators': n_estimators,\n",
    "               'max_features': max_features,\n",
    "               'max_depth': max_depth,\n",
    "               'min_samples_split': min_samples_split,\n",
    "               'min_samples_leaf': min_samples_leaf,\n",
    "               'bootstrap': bootstrap}\n",
    "print(random_grid)"
   ],
   "metadata": {
    "collapsed": false,
    "pycharm": {
     "name": "#%%\n"
    }
   }
  },
  {
   "cell_type": "code",
   "execution_count": 53,
   "outputs": [
    {
     "name": "stdout",
     "output_type": "stream",
     "text": [
      "Fitting 4 folds for each of 150 candidates, totalling 600 fits\n",
      "Fitting 4 folds for each of 150 candidates, totalling 600 fits\n"
     ]
    },
    {
     "data": {
      "text/plain": "RandomizedSearchCV(cv=4, estimator=RandomForestClassifier(random_state=6),\n                   n_iter=150, n_jobs=-1,\n                   param_distributions={'bootstrap': [True, False],\n                                        'max_depth': [10, 20, 30, 40, 50, 60,\n                                                      70, 80, 90, 100, 110,\n                                                      None],\n                                        'max_features': ['auto', 'sqrt'],\n                                        'min_samples_leaf': [1, 2, 4],\n                                        'min_samples_split': [2, 5, 10],\n                                        'n_estimators': [200, 400, 600, 800,\n                                                         1000, 1200, 1400, 1600,\n                                                         1800, 2000]},\n                   random_state=42, verbose=3)"
     },
     "execution_count": 53,
     "metadata": {},
     "output_type": "execute_result"
    }
   ],
   "source": [
    "#perform random search for hyperparameter tuning\n",
    "\n",
    "#rs classic model\n",
    "rand_search_bechmark = RandomizedSearchCV(estimator = rand_clf_benchmark, param_distributions = random_grid, n_iter = 150, cv = 4, verbose=3, random_state=42, n_jobs = -1)\n",
    "rand_search_bechmark.fit(X_train_benchmark, y_train_player_stats)\n",
    "\n",
    "#rs improved model\n",
    "rand_search_improved = RandomizedSearchCV(estimator = rand_clf_improved, param_distributions = random_grid, n_iter = 150, cv = 4, verbose=3, random_state=42, n_jobs = -1)\n",
    "rand_search_improved.fit(X_train_player_stats, y_train_player_stats)"
   ],
   "metadata": {
    "collapsed": false,
    "pycharm": {
     "name": "#%%\n"
    }
   }
  },
  {
   "cell_type": "code",
   "execution_count": 54,
   "outputs": [
    {
     "data": {
      "text/plain": "{'n_estimators': 400,\n 'min_samples_split': 10,\n 'min_samples_leaf': 4,\n 'max_features': 'auto',\n 'max_depth': 70,\n 'bootstrap': True}"
     },
     "execution_count": 54,
     "metadata": {},
     "output_type": "execute_result"
    }
   ],
   "source": [
    "#display best parameters classic model\n",
    "rand_search_bechmark.best_params_"
   ],
   "metadata": {
    "collapsed": false,
    "pycharm": {
     "name": "#%%\n"
    }
   }
  },
  {
   "cell_type": "code",
   "execution_count": 55,
   "outputs": [
    {
     "data": {
      "text/plain": "{'n_estimators': 200,\n 'min_samples_split': 5,\n 'min_samples_leaf': 4,\n 'max_features': 'auto',\n 'max_depth': 80,\n 'bootstrap': True}"
     },
     "execution_count": 55,
     "metadata": {},
     "output_type": "execute_result"
    }
   ],
   "source": [
    "#display best parameters improved model\n",
    "rand_search_improved.best_params_"
   ],
   "metadata": {
    "collapsed": false,
    "pycharm": {
     "name": "#%%\n"
    }
   }
  },
  {
   "cell_type": "code",
   "execution_count": 56,
   "outputs": [],
   "source": [
    "#set up model with best parameters from random search\n",
    "rand_clf_res_benchmark = RandomForestClassifier(\n",
    " n_estimators = 400,\n",
    " min_samples_split = 10,\n",
    " min_samples_leaf = 4,\n",
    " max_features = 'auto',\n",
    " max_depth = 70)"
   ],
   "metadata": {
    "collapsed": false,
    "pycharm": {
     "name": "#%%\n"
    }
   }
  },
  {
   "cell_type": "code",
   "execution_count": 57,
   "outputs": [],
   "source": [
    "#set up model with best parameters from random search\n",
    "rand_clf_res_improved = RandomForestClassifier(\n",
    " n_estimators = 200,\n",
    " min_samples_split = 5,\n",
    " min_samples_leaf = 4,\n",
    " max_features = 'auto',\n",
    " max_depth = 80)"
   ],
   "metadata": {
    "collapsed": false,
    "pycharm": {
     "name": "#%%\n"
    }
   }
  },
  {
   "cell_type": "code",
   "execution_count": 58,
   "outputs": [],
   "source": [
    "#create grid close to values from random search\n",
    "grid_param_benchmark = {\n",
    " 'n_estimators': [200, 300, 400, 800],\n",
    " 'min_samples_split': [5,10,15],\n",
    " 'min_samples_leaf':  [2,4,6],\n",
    " 'max_features': ['auto', 'sqrt'],\n",
    " 'max_depth': [60, 80, 100]\n",
    "}"
   ],
   "metadata": {
    "collapsed": false,
    "pycharm": {
     "name": "#%%\n"
    }
   }
  },
  {
   "cell_type": "code",
   "execution_count": 59,
   "outputs": [],
   "source": [
    "#create grid close to values from random search\n",
    "grid_param_improved = {\n",
    " 'n_estimators': [50, 100, 200, 600],\n",
    " 'min_samples_split': [2,5,10],\n",
    " 'min_samples_leaf':  [2,4,6],\n",
    " 'max_features': ['auto', 'sqrt'],\n",
    " 'max_depth': [60, 80, 100]\n",
    "}"
   ],
   "metadata": {
    "collapsed": false,
    "pycharm": {
     "name": "#%%\n"
    }
   }
  },
  {
   "cell_type": "code",
   "execution_count": 61,
   "outputs": [
    {
     "name": "stdout",
     "output_type": "stream",
     "text": [
      "Fitting 5 folds for each of 216 candidates, totalling 1080 fits\n",
      "Fitting 5 folds for each of 216 candidates, totalling 1080 fits\n"
     ]
    },
    {
     "data": {
      "text/plain": "GridSearchCV(cv=5, estimator=RandomForestClassifier(random_state=6), n_jobs=-1,\n             param_grid={'max_depth': [60, 80, 100],\n                         'max_features': ['auto', 'sqrt'],\n                         'min_samples_leaf': [2, 4, 6],\n                         'min_samples_split': [2, 5, 10],\n                         'n_estimators': [50, 100, 200, 600]},\n             verbose=3)"
     },
     "execution_count": 61,
     "metadata": {},
     "output_type": "execute_result"
    }
   ],
   "source": [
    "#perform grid search\n",
    "#classic model\n",
    "grid_search_benchmark = GridSearchCV(estimator=rand_clf_benchmark, param_grid=grid_param_benchmark, cv=5, n_jobs=-1, verbose=3)\n",
    "grid_search_benchmark.fit(X_train_player_stats, y_train_player_stats)\n",
    "#improved model\n",
    "grid_search_improved = GridSearchCV(estimator=rand_clf_benchmark, param_grid=grid_param_improved, cv=5, n_jobs=-1, verbose=3)\n",
    "grid_search_improved.fit(X_train_player_stats, y_train_player_stats)"
   ],
   "metadata": {
    "collapsed": false,
    "pycharm": {
     "name": "#%%\n"
    }
   }
  },
  {
   "cell_type": "code",
   "execution_count": 63,
   "outputs": [
    {
     "data": {
      "text/plain": "{'max_depth': 60,\n 'max_features': 'auto',\n 'min_samples_leaf': 4,\n 'min_samples_split': 5,\n 'n_estimators': 300}"
     },
     "execution_count": 63,
     "metadata": {},
     "output_type": "execute_result"
    }
   ],
   "source": [
    "#display best parameters\n",
    "grid_search_benchmark.best_params_"
   ],
   "metadata": {
    "collapsed": false,
    "pycharm": {
     "name": "#%%\n"
    }
   }
  },
  {
   "cell_type": "code",
   "execution_count": 62,
   "outputs": [
    {
     "data": {
      "text/plain": "{'max_depth': 60,\n 'max_features': 'auto',\n 'min_samples_leaf': 4,\n 'min_samples_split': 10,\n 'n_estimators': 100}"
     },
     "execution_count": 62,
     "metadata": {},
     "output_type": "execute_result"
    }
   ],
   "source": [
    "#display best parameters\n",
    "grid_search_improved.best_params_"
   ],
   "metadata": {
    "collapsed": false,
    "pycharm": {
     "name": "#%%\n"
    }
   }
  },
  {
   "cell_type": "code",
   "execution_count": 12,
   "outputs": [],
   "source": [
    "#build model with best parameters from grid search\n",
    "grid_clf_benchmark = RandomForestClassifier(\n",
    " n_estimators = 300,\n",
    " min_samples_split = 5,\n",
    " min_samples_leaf = 4,\n",
    " max_features = 'auto',\n",
    " max_depth = 60)"
   ],
   "metadata": {
    "collapsed": false,
    "pycharm": {
     "name": "#%%\n"
    }
   }
  },
  {
   "cell_type": "code",
   "execution_count": 13,
   "outputs": [],
   "source": [
    "#build model with best parameters from grid search\n",
    "grid_clf_improved = RandomForestClassifier(\n",
    " n_estimators = 100,\n",
    " min_samples_split = 10,\n",
    " min_samples_leaf = 4,\n",
    " max_features = 'auto',\n",
    " max_depth = 2)\n"
   ],
   "metadata": {
    "collapsed": false,
    "pycharm": {
     "name": "#%%\n"
    }
   }
  },
  {
   "cell_type": "code",
   "execution_count": 91,
   "outputs": [],
   "source": [
    "#fit models\n",
    "model_benchmark = grid_clf_benchmark.fit(X_train_benchmark, y_train_player_stats)\n",
    "model_improved = grid_clf_improved.fit(X_train_differences, y_train_player_stats)"
   ],
   "metadata": {
    "collapsed": false,
    "pycharm": {
     "name": "#%%\n"
    }
   }
  },
  {
   "cell_type": "code",
   "execution_count": 111,
   "outputs": [
    {
     "data": {
      "text/plain": "<Figure size 864x504 with 1 Axes>",
      "image/png": "[encoded data removed]"
     },
     "metadata": {
      "needs_background": "light"
     },
     "output_type": "display_data"
    }
   ],
   "source": [
    "plt.figure(figsize=(12,7))\n",
    "_ = tree.plot_tree(model_improved.estimators_[7], feature_names=feature_names_differences, filled=True)"
   ],
   "metadata": {
    "collapsed": false,
    "pycharm": {
     "name": "#%%\n"
    }
   }
  },
  {
   "cell_type": "code",
   "execution_count": 97,
   "outputs": [
    {
     "name": "stdout",
     "output_type": "stream",
     "text": [
      "rand_clf_mean: 0.5942857142857143\n",
      "rand_clf_max: 0.5942857142857143\n",
      "rand_clf_res_mean: 0.5951428571428572\n",
      "rand_clf_res_max: 0.6028571428571429\n",
      "grid_clf_mean: 0.5977142857142858\n",
      "grid_clf_max: 0.6114285714285714\n"
     ]
    }
   ],
   "source": [
    "# def find_best_model(clf):\n",
    "#     avg_score = []\n",
    "#     highscore = 0\n",
    "#     out = 0\n",
    "#     for i in range (0,10):\n",
    "#         #model = clf.fit(X_train_benchmark, y_train_player_stats)\n",
    "#         #score = model.score(X_test_benchmark, y_test_player_stats)\n",
    "#         model = clf.fit(X_train_player_stats, y_train_player_stats)\n",
    "#         score = model.score(X_test_player_stats, y_test_player_stats)\n",
    "#         avg_score.append(score)\n",
    "#         #print('Score', score)\n",
    "#         #if score >= 0.65:\n",
    "#          #   return model\n",
    "#     return avg_score\n",
    "#\n",
    "#\n",
    "# test = find_best_model(rand_clf)\n",
    "# test2 = find_best_model(rand_clf_res)\n",
    "# test3 = find_best_model(grid_clf)\n",
    "# print('rand_clf_mean:', np.mean(test))\n",
    "# print('rand_clf_max:', np.max(test))\n",
    "# print('rand_clf_res_mean:', np.mean(test2))\n",
    "# print('rand_clf_res_max:', np.max(test2))\n",
    "# print('grid_clf_mean:', np.mean(test3))\n",
    "# print('grid_clf_max:', np.max(test3))"
   ],
   "metadata": {
    "collapsed": false,
    "pycharm": {
     "name": "#%%\n"
    }
   }
  },
  {
   "cell_type": "code",
   "execution_count": 293,
   "outputs": [
    {
     "name": "stdout",
     "output_type": "stream",
     "text": [
      "Score 0.5914285714285714\n"
     ]
    }
   ],
   "source": [
    "# def find_best_model(clf):\n",
    "#     avg_score = []\n",
    "#     highscore = 0\n",
    "#     out = 0\n",
    "#     for i in range (0,200):\n",
    "#         #model = clf.fit(X_train_benchmark, y_train_player_stats)\n",
    "#         #score = model.score(X_test_benchmark, y_test_player_stats)\n",
    "#         model = clf.fit(X_train_player_stats, y_train_player_stats)\n",
    "#         score = model.score(X_test_player_stats, y_test_player_stats)\n",
    "#         #avg_score.append(score)\n",
    "#         print('Score', score)\n",
    "#         if score > 0.59:\n",
    "#             return model\n",
    "#     return model\n",
    "# #rand_clf = find_best_model(rand_clf)\n",
    "# rand_clf_res = find_best_model(rand_clf_res)\n",
    "# #grid_clf = find_best_model(grid_clf)"
   ],
   "metadata": {
    "collapsed": false,
    "pycharm": {
     "name": "#%%\n"
    }
   }
  },
  {
   "cell_type": "code",
   "execution_count": 66,
   "outputs": [
    {
     "name": "stdout",
     "output_type": "stream",
     "text": [
      "0.5885714285714285\n"
     ]
    },
    {
     "data": {
      "text/plain": "<Figure size 432x288 with 1 Axes>",
      "image/png": "[encoded data removed]"
     },
     "metadata": {
      "needs_background": "light"
     },
     "output_type": "display_data"
    }
   ],
   "source": [
    "#show scores for hyperparameter tuning\n",
    "#print('Rand_clf', rand_clf_benchmark.score(X_test_player_stats, y_test_player_stats))\n",
    "#print('Rand_clf_res',rand_clf_res_benchmark.score(X_test_player_stats, y_test_player_stats))\n",
    "#print('Grid_clf_res',grid_clf_benchmark.score(X_test_player_stats, y_test_player_stats))\n",
    "rf_model_benchmark = RandomForestClassifier(random_state=42)\n",
    "rf_model_benchmark.fit(X_train_benchmark, y_train_player_stats)\n",
    "print (rf_model_benchmark.score(X_test_benchmark, y_test_player_stats))\n",
    "#feature importances benchmark\n",
    "importances = rf_model_benchmark.feature_importances_\n",
    "std = np.std([tree.feature_importances_ for tree in rf_model_benchmark.estimators_], axis=0)\n",
    "forest_importances = pd.Series(importances, index=feature_names_benchmark)\n",
    "forest_importances = forest_importances.sort_values()\n",
    "fig, ax = plt.subplots()\n",
    "forest_importances =  forest_importances.sort_values(ascending=False)[:10]\n",
    "forest_importances =  forest_importances.sort_values()\n",
    "forest_importances.plot.barh(ax=ax)\n",
    "ax.set_title(\"Feature importances using MDI\")\n",
    "ax.set_xlabel(\"Mean decrease in impurity\")\n",
    "fig.tight_layout(pad=-5, w_pad=2, h_pad=2)"
   ],
   "metadata": {
    "collapsed": false,
    "pycharm": {
     "name": "#%%\n"
    }
   }
  },
  {
   "cell_type": "code",
   "execution_count": 69,
   "outputs": [
    {
     "name": "stdout",
     "output_type": "stream",
     "text": [
      "0.5971428571428572\n"
     ]
    },
    {
     "data": {
      "text/plain": "<Figure size 432x288 with 1 Axes>",
      "image/png": "[encoded data removed]"
     },
     "metadata": {
      "needs_background": "light"
     },
     "output_type": "display_data"
    }
   ],
   "source": [
    "#show scores for hyperparameter tuning\n",
    "#print('Rand_clf', rand_clf_benchmark.score(X_test_player_stats, y_test_player_stats))\n",
    "#print('Rand_clf_res',rand_clf_res_benchmark.score(X_test_player_stats, y_test_player_stats))\n",
    "#print('Grid_clf_res',grid_clf_benchmark.score(X_test_player_stats, y_test_player_stats))\n",
    "\n",
    "rf_model_player_stats = RandomForestClassifier(random_state=42)\n",
    "rf_model_player_stats.fit(X_train_player_stats, y_train_player_stats)\n",
    "print (rf_model_player_stats.score(X_test_player_stats, y_test_player_stats))\n",
    "#feature importances benchmark\n",
    "importances = rf_model_player_stats.feature_importances_\n",
    "std = np.std([tree.feature_importances_ for tree in rf_model_player_stats.estimators_], axis=0)\n",
    "forest_importances = pd.Series(importances, index=feature_names_player_stats)\n",
    "forest_importances = forest_importances.sort_values()\n",
    "fig, ax = plt.subplots()\n",
    "forest_importances =  forest_importances.sort_values(ascending=False)[:10]\n",
    "forest_importances =  forest_importances.sort_values()\n",
    "forest_importances.plot.barh(ax=ax)\n",
    "ax.set_title(\"Feature importances using MDI\")\n",
    "ax.set_xlabel(\"Mean decrease in impurity\")\n",
    "fig.tight_layout(pad=-5, w_pad=2, h_pad=2)"
   ],
   "metadata": {
    "collapsed": false,
    "pycharm": {
     "name": "#%%\n"
    }
   }
  },
  {
   "cell_type": "code",
   "execution_count": 45,
   "outputs": [
    {
     "name": "stdout",
     "output_type": "stream",
     "text": [
      "0.5971428571428572\n"
     ]
    },
    {
     "data": {
      "text/plain": "<Figure size 432x288 with 1 Axes>",
      "image/png": "[encoded data removed]"
     },
     "metadata": {
      "needs_background": "light"
     },
     "output_type": "display_data"
    }
   ],
   "source": [
    "#show scores for hyperparameter tuning\n",
    "#print('Rand_clf', rand_clf_benchmark.score(X_test_player_stats, y_test_player_stats))\n",
    "#print('Rand_clf_res',rand_clf_res_benchmark.score(X_test_player_stats, y_test_player_stats))\n",
    "#print('Grid_clf_res',grid_clf_benchmark.score(X_test_player_stats, y_test_player_stats))\n",
    "\n",
    "rf_model_player_stats = RandomForestClassifier(random_state=42)\n",
    "rf_model_player_stats.fit(X_train_player_stats, y_train_player_stats)\n",
    "print (rf_model_player_stats.score(X_test_player_stats, y_test_player_stats))\n",
    "#feature importances benchmark\n",
    "importances = rf_model_player_stats.feature_importances_\n",
    "std = np.std([tree.feature_importances_ for tree in rf_model_player_stats.estimators_], axis=0)\n",
    "forest_importances = pd.Series(importances, index=feature_names_player_stats)\n",
    "forest_importances = forest_importances.sort_values()\n",
    "fig, ax = plt.subplots()\n",
    "forest_importances =  forest_importances.sort_values(ascending=False)[:10]\n",
    "forest_importances =  forest_importances.sort_values()\n",
    "forest_importances.plot.barh(ax=ax)\n",
    "ax.set_title(\"Feature importances using MDI\")\n",
    "ax.set_xlabel(\"Mean decrease in impurity\")\n",
    "fig.tight_layout(pad=-5, w_pad=2, h_pad=2)"
   ],
   "metadata": {
    "collapsed": false,
    "pycharm": {
     "name": "#%%\n"
    }
   }
  },
  {
   "cell_type": "code",
   "execution_count": null,
   "outputs": [],
   "source": [],
   "metadata": {
    "collapsed": false,
    "pycharm": {
     "name": "#%%\n"
    }
   }
  },
  {
   "cell_type": "code",
   "execution_count": null,
   "outputs": [],
   "source": [
    "#build rf model for benchmarks\n",
    "rf_model_player_stats = grid_clf\n",
    "rf_model_benchmark = RandomForestClassifier(\n",
    " n_estimators = 800,\n",
    " min_samples_split = 3,\n",
    " min_samples_leaf = 2,\n",
    " max_features = 'auto',\n",
    " max_depth = 80)\n",
    "rf_model_benchmark = rf_model_benchmark.fit(X_train_benchmark, y_train_player_stats)\n",
    "\n",
    "#feature importances benchmark\n",
    "importances = rf_model_player_stats.feature_importances_\n",
    "std = np.std([tree.feature_importances_ for tree in rf_model_player_stats.estimators_], axis=0)\n",
    "forest_importances = pd.Series(importances, index=feature_names_player_stats)\n",
    "forest_importances = forest_importances.sort_values()\n",
    "fig, ax = plt.subplots()\n",
    "\n",
    "forest_importances.plot.barh(ax=ax, yerr=std)\n",
    "ax.set_title(\"Feature importances using MDI\")\n",
    "ax.set_xlabel(\"Mean decrease in impurity\")\n",
    "fig.tight_layout(pad=-20, w_pad=0.5, h_pad=-2)\n",
    "print('rf_model_benchmark',rf_model_player_stats.score(X_test_player_stats, y_test_player_stats))"
   ],
   "metadata": {
    "collapsed": false,
    "pycharm": {
     "name": "#%%\n"
    }
   }
  },
  {
   "cell_type": "code",
   "execution_count": 15,
   "outputs": [
    {
     "ename": "NameError",
     "evalue": "name 'grid_clf' is not defined",
     "output_type": "error",
     "traceback": [
      "\u001B[1;31m---------------------------------------------------------------------------\u001B[0m",
      "\u001B[1;31mNameError\u001B[0m                                 Traceback (most recent call last)",
      "Input \u001B[1;32mIn [15]\u001B[0m, in \u001B[0;36m<cell line: 2>\u001B[1;34m()\u001B[0m\n\u001B[0;32m      1\u001B[0m \u001B[38;5;66;03m#build rf model for benchmarks\u001B[39;00m\n\u001B[1;32m----> 2\u001B[0m rf_model_player_stats \u001B[38;5;241m=\u001B[39m \u001B[43mgrid_clf\u001B[49m\n\u001B[0;32m      3\u001B[0m rf_model_benchmark \u001B[38;5;241m=\u001B[39m RandomForestClassifier(\n\u001B[0;32m      4\u001B[0m  n_estimators \u001B[38;5;241m=\u001B[39m \u001B[38;5;241m800\u001B[39m,\n\u001B[0;32m      5\u001B[0m  min_samples_split \u001B[38;5;241m=\u001B[39m \u001B[38;5;241m3\u001B[39m,\n\u001B[0;32m      6\u001B[0m  min_samples_leaf \u001B[38;5;241m=\u001B[39m \u001B[38;5;241m2\u001B[39m,\n\u001B[0;32m      7\u001B[0m  max_features \u001B[38;5;241m=\u001B[39m \u001B[38;5;124m'\u001B[39m\u001B[38;5;124mauto\u001B[39m\u001B[38;5;124m'\u001B[39m,\n\u001B[0;32m      8\u001B[0m  max_depth \u001B[38;5;241m=\u001B[39m \u001B[38;5;241m80\u001B[39m)\n\u001B[0;32m      9\u001B[0m rf_model_benchmark \u001B[38;5;241m=\u001B[39m rf_model_benchmark\u001B[38;5;241m.\u001B[39mfit(X_train_benchmark, y_train_player_stats)\n",
      "\u001B[1;31mNameError\u001B[0m: name 'grid_clf' is not defined"
     ]
    }
   ],
   "source": [
    "#build rf model for benchmarks\n",
    "rf_model_player_stats = grid_clf\n",
    "rf_model_benchmark = RandomForestClassifier(\n",
    " n_estimators = 800,\n",
    " min_samples_split = 3,\n",
    " min_samples_leaf = 2,\n",
    " max_features = 'auto',\n",
    " max_depth = 80)\n",
    "rf_model_benchmark = rf_model_benchmark.fit(X_train_benchmark, y_train_player_stats)\n",
    "\n",
    "#feature importances benchmark\n",
    "importances = rf_model_player_stats.feature_importances_\n",
    "std = np.std([tree.feature_importances_ for tree in rf_model_player_stats.estimators_], axis=0)\n",
    "forest_importances = pd.Series(importances, index=feature_names_player_stats)\n",
    "forest_importances = forest_importances.sort_values()\n",
    "fig, ax = plt.subplots()\n",
    "\n",
    "forest_importances.plot.barh(ax=ax, yerr=std)\n",
    "ax.set_title(\"Feature importances using MDI\")\n",
    "ax.set_xlabel(\"Mean decrease in impurity\")\n",
    "fig.tight_layout(pad=-20, w_pad=0.5, h_pad=-2)\n",
    "print('rf_model_benchmark',rf_model_player_stats.score(X_test_player_stats, y_test_player_stats))"
   ],
   "metadata": {
    "collapsed": false,
    "pycharm": {
     "name": "#%%\n"
    }
   }
  },
  {
   "cell_type": "code",
   "execution_count": 344,
   "outputs": [
    {
     "name": "stdout",
     "output_type": "stream",
     "text": [
      "rf_model_benchmark 0.5914285714285714\n",
      "rf_model_player_stats 0.6028571428571429\n"
     ]
    }
   ],
   "source": [
    "#rf_model_player_stats = grid_clf\n",
    "print('rf_model_benchmark',rf_model_benchmark.score(X_test_benchmark, y_test_player_stats))\n",
    "print('rf_model_player_stats',rf_model_player_stats.score(X_test_player_stats, y_test_player_stats))"
   ],
   "metadata": {
    "collapsed": false,
    "pycharm": {
     "name": "#%%\n"
    }
   }
  },
  {
   "cell_type": "code",
   "execution_count": 314,
   "outputs": [
    {
     "data": {
      "text/plain": "    benchmark_vote\n0                H\n1                H\n2                A\n3                A\n4                H\n..             ...\n345              D\n346              H\n347              H\n348              H\n349              A\n\n[350 rows x 1 columns]",
      "text/html": "<div>\n<style scoped>\n    .dataframe tbody tr th:only-of-type {\n        vertical-align: middle;\n    }\n\n    .dataframe tbody tr th {\n        vertical-align: top;\n    }\n\n    .dataframe thead th {\n        text-align: right;\n    }\n</style>\n<table border=\"1\" class=\"dataframe\">\n  <thead>\n    <tr style=\"text-align: right;\">\n      <th></th>\n      <th>benchmark_vote</th>\n    </tr>\n  </thead>\n  <tbody>\n    <tr>\n      <th>0</th>\n      <td>H</td>\n    </tr>\n    <tr>\n      <th>1</th>\n      <td>H</td>\n    </tr>\n    <tr>\n      <th>2</th>\n      <td>A</td>\n    </tr>\n    <tr>\n      <th>3</th>\n      <td>A</td>\n    </tr>\n    <tr>\n      <th>4</th>\n      <td>H</td>\n    </tr>\n    <tr>\n      <th>...</th>\n      <td>...</td>\n    </tr>\n    <tr>\n      <th>345</th>\n      <td>D</td>\n    </tr>\n    <tr>\n      <th>346</th>\n      <td>H</td>\n    </tr>\n    <tr>\n      <th>347</th>\n      <td>H</td>\n    </tr>\n    <tr>\n      <th>348</th>\n      <td>H</td>\n    </tr>\n    <tr>\n      <th>349</th>\n      <td>A</td>\n    </tr>\n  </tbody>\n</table>\n<p>350 rows × 1 columns</p>\n</div>"
     },
     "execution_count": 314,
     "metadata": {},
     "output_type": "execute_result"
    }
   ],
   "source": [
    "#analysis of the models\n",
    "votes_benchmark = rf_model_benchmark.predict(X=X_test_benchmark)\n",
    "votes_player_stats = rf_model_player_stats.predict(X=X_test_player_stats)\n",
    "votes_benchmark = pd.DataFrame(votes_benchmark, columns=['benchmark_vote'])\n",
    "votes_player_stats = pd.DataFrame(votes_player_stats, columns=['player_stats_vote'])"
   ],
   "metadata": {
    "collapsed": false,
    "pycharm": {
     "name": "#%%\n"
    }
   }
  },
  {
   "cell_type": "code",
   "execution_count": 324,
   "outputs": [
    {
     "data": {
      "text/plain": "array([[0.18630357, 0.17600298, 0.63769345],\n       [0.131125  , 0.20928274, 0.65959226],\n       [0.67919196, 0.15128125, 0.16952679],\n       ...,\n       [0.30150893, 0.11861607, 0.579875  ],\n       [0.18831548, 0.13936607, 0.67231845],\n       [0.59120089, 0.22260417, 0.18619494]])"
     },
     "execution_count": 324,
     "metadata": {},
     "output_type": "execute_result"
    }
   ],
   "source": [
    "probs_player_stats = rf_model_player_stats.predict_proba(X=X_test_player_stats)\n",
    "probs_benchmark = rf_model_benchmark.predict_proba(X=X_test_benchmark)\n"
   ],
   "metadata": {
    "collapsed": false,
    "pycharm": {
     "name": "#%%\n"
    }
   }
  },
  {
   "cell_type": "code",
   "execution_count": null,
   "outputs": [],
   "source": [
    "probs_benchmark = pd.DataFrame(probs_benchmark, columns=['A', 'D', 'H'])\n",
    "#probs_benchmark.to_csv('Data/Total/probs_benchmark.csv')\n",
    "probs_benchmark"
   ],
   "metadata": {
    "collapsed": false,
    "pycharm": {
     "name": "#%%\n"
    }
   }
  },
  {
   "cell_type": "code",
   "execution_count": 326,
   "outputs": [
    {
     "data": {
      "text/plain": "            A         D         H\n0    0.186304  0.176003  0.637693\n1    0.131125  0.209283  0.659592\n2    0.679192  0.151281  0.169527\n3    0.739292  0.156836  0.103872\n4    0.064545  0.068092  0.867363\n..        ...       ...       ...\n345  0.370964  0.358476  0.270560\n346  0.178146  0.199979  0.621875\n347  0.301509  0.118616  0.579875\n348  0.188315  0.139366  0.672318\n349  0.591201  0.222604  0.186195\n\n[350 rows x 3 columns]",
      "text/html": "<div>\n<style scoped>\n    .dataframe tbody tr th:only-of-type {\n        vertical-align: middle;\n    }\n\n    .dataframe tbody tr th {\n        vertical-align: top;\n    }\n\n    .dataframe thead th {\n        text-align: right;\n    }\n</style>\n<table border=\"1\" class=\"dataframe\">\n  <thead>\n    <tr style=\"text-align: right;\">\n      <th></th>\n      <th>A</th>\n      <th>D</th>\n      <th>H</th>\n    </tr>\n  </thead>\n  <tbody>\n    <tr>\n      <th>0</th>\n      <td>0.186304</td>\n      <td>0.176003</td>\n      <td>0.637693</td>\n    </tr>\n    <tr>\n      <th>1</th>\n      <td>0.131125</td>\n      <td>0.209283</td>\n      <td>0.659592</td>\n    </tr>\n    <tr>\n      <th>2</th>\n      <td>0.679192</td>\n      <td>0.151281</td>\n      <td>0.169527</td>\n    </tr>\n    <tr>\n      <th>3</th>\n      <td>0.739292</td>\n      <td>0.156836</td>\n      <td>0.103872</td>\n    </tr>\n    <tr>\n      <th>4</th>\n      <td>0.064545</td>\n      <td>0.068092</td>\n      <td>0.867363</td>\n    </tr>\n    <tr>\n      <th>...</th>\n      <td>...</td>\n      <td>...</td>\n      <td>...</td>\n    </tr>\n    <tr>\n      <th>345</th>\n      <td>0.370964</td>\n      <td>0.358476</td>\n      <td>0.270560</td>\n    </tr>\n    <tr>\n      <th>346</th>\n      <td>0.178146</td>\n      <td>0.199979</td>\n      <td>0.621875</td>\n    </tr>\n    <tr>\n      <th>347</th>\n      <td>0.301509</td>\n      <td>0.118616</td>\n      <td>0.579875</td>\n    </tr>\n    <tr>\n      <th>348</th>\n      <td>0.188315</td>\n      <td>0.139366</td>\n      <td>0.672318</td>\n    </tr>\n    <tr>\n      <th>349</th>\n      <td>0.591201</td>\n      <td>0.222604</td>\n      <td>0.186195</td>\n    </tr>\n  </tbody>\n</table>\n<p>350 rows × 3 columns</p>\n</div>"
     },
     "execution_count": 326,
     "metadata": {},
     "output_type": "execute_result"
    }
   ],
   "source": [
    "probs_player_stats = pd.DataFrame(probs_player_stats, columns=['A', 'D', 'H'])\n",
    "#probs_player_stats.to_csv('Data/Total/probs_player_stats.csv')\n",
    "probs_player_stats"
   ],
   "metadata": {
    "collapsed": false,
    "pycharm": {
     "name": "#%%\n"
    }
   }
  },
  {
   "cell_type": "code",
   "execution_count": 316,
   "outputs": [
    {
     "data": {
      "text/plain": "            HomeTeam         AwayTeam FTR         H         D         A  \\\n0     Crystal Palace        Tottenham   H  0.637693  0.176003  0.186304   \n1            Arsenal     Norwich City   H  0.659592  0.209283  0.131125   \n2          Brentford         Brighton   A  0.169527  0.151281  0.679192   \n3     Leicester City  Manchester City   A  0.103872  0.156836  0.739292   \n4     Manchester Utd    Newcastle Utd   H  0.867363  0.068092  0.064545   \n..               ...              ...  ..       ...       ...       ...   \n345   Crystal Palace   Manchester Utd   H  0.270560  0.358476  0.370964   \n346   Leicester City      Southampton   H  0.621875  0.199979  0.178146   \n347        Liverpool           Wolves   H  0.579875  0.118616  0.301509   \n348  Manchester City      Aston Villa   H  0.672318  0.139366  0.188315   \n349     Norwich City        Tottenham   A  0.186195  0.222604  0.591201   \n\n    player_stats_vote  \n0                   H  \n1                   H  \n2                   A  \n3                   A  \n4                   H  \n..                ...  \n345                 A  \n346                 H  \n347                 H  \n348                 H  \n349                 A  \n\n[350 rows x 7 columns]",
      "text/html": "<div>\n<style scoped>\n    .dataframe tbody tr th:only-of-type {\n        vertical-align: middle;\n    }\n\n    .dataframe tbody tr th {\n        vertical-align: top;\n    }\n\n    .dataframe thead th {\n        text-align: right;\n    }\n</style>\n<table border=\"1\" class=\"dataframe\">\n  <thead>\n    <tr style=\"text-align: right;\">\n      <th></th>\n      <th>HomeTeam</th>\n      <th>AwayTeam</th>\n      <th>FTR</th>\n      <th>H</th>\n      <th>D</th>\n      <th>A</th>\n      <th>player_stats_vote</th>\n    </tr>\n  </thead>\n  <tbody>\n    <tr>\n      <th>0</th>\n      <td>Crystal Palace</td>\n      <td>Tottenham</td>\n      <td>H</td>\n      <td>0.637693</td>\n      <td>0.176003</td>\n      <td>0.186304</td>\n      <td>H</td>\n    </tr>\n    <tr>\n      <th>1</th>\n      <td>Arsenal</td>\n      <td>Norwich City</td>\n      <td>H</td>\n      <td>0.659592</td>\n      <td>0.209283</td>\n      <td>0.131125</td>\n      <td>H</td>\n    </tr>\n    <tr>\n      <th>2</th>\n      <td>Brentford</td>\n      <td>Brighton</td>\n      <td>A</td>\n      <td>0.169527</td>\n      <td>0.151281</td>\n      <td>0.679192</td>\n      <td>A</td>\n    </tr>\n    <tr>\n      <th>3</th>\n      <td>Leicester City</td>\n      <td>Manchester City</td>\n      <td>A</td>\n      <td>0.103872</td>\n      <td>0.156836</td>\n      <td>0.739292</td>\n      <td>A</td>\n    </tr>\n    <tr>\n      <th>4</th>\n      <td>Manchester Utd</td>\n      <td>Newcastle Utd</td>\n      <td>H</td>\n      <td>0.867363</td>\n      <td>0.068092</td>\n      <td>0.064545</td>\n      <td>H</td>\n    </tr>\n    <tr>\n      <th>...</th>\n      <td>...</td>\n      <td>...</td>\n      <td>...</td>\n      <td>...</td>\n      <td>...</td>\n      <td>...</td>\n      <td>...</td>\n    </tr>\n    <tr>\n      <th>345</th>\n      <td>Crystal Palace</td>\n      <td>Manchester Utd</td>\n      <td>H</td>\n      <td>0.270560</td>\n      <td>0.358476</td>\n      <td>0.370964</td>\n      <td>A</td>\n    </tr>\n    <tr>\n      <th>346</th>\n      <td>Leicester City</td>\n      <td>Southampton</td>\n      <td>H</td>\n      <td>0.621875</td>\n      <td>0.199979</td>\n      <td>0.178146</td>\n      <td>H</td>\n    </tr>\n    <tr>\n      <th>347</th>\n      <td>Liverpool</td>\n      <td>Wolves</td>\n      <td>H</td>\n      <td>0.579875</td>\n      <td>0.118616</td>\n      <td>0.301509</td>\n      <td>H</td>\n    </tr>\n    <tr>\n      <th>348</th>\n      <td>Manchester City</td>\n      <td>Aston Villa</td>\n      <td>H</td>\n      <td>0.672318</td>\n      <td>0.139366</td>\n      <td>0.188315</td>\n      <td>H</td>\n    </tr>\n    <tr>\n      <th>349</th>\n      <td>Norwich City</td>\n      <td>Tottenham</td>\n      <td>A</td>\n      <td>0.186195</td>\n      <td>0.222604</td>\n      <td>0.591201</td>\n      <td>A</td>\n    </tr>\n  </tbody>\n</table>\n<p>350 rows × 7 columns</p>\n</div>"
     },
     "execution_count": 316,
     "metadata": {},
     "output_type": "execute_result"
    }
   ],
   "source": [
    "probs_player_stats_tmp = PL_19_20_21_all_features[-350:].join(probs_player_stats)\n",
    "probs_player_stats_tmp = probs_player_stats_tmp[['HomeTeam_x', 'AwayTeam_x', 'FTR_x', 'H', 'D', 'A']]\n",
    "probs_player_stats_tmp = probs_player_stats_tmp.rename(columns={'HomeTeam_x':'HomeTeam','AwayTeam_x':'AwayTeam', 'FTR_x': 'FTR'})\n",
    "probs_player_stats_tmp = probs_player_stats_tmp[-350:].join(votes_player_stats)\n",
    "probs_player_stats_tmp\n",
    "\n"
   ],
   "metadata": {
    "collapsed": false,
    "pycharm": {
     "name": "#%%\n"
    }
   }
  },
  {
   "cell_type": "code",
   "execution_count": 317,
   "outputs": [
    {
     "data": {
      "text/plain": "            HomeTeam         AwayTeam FTR         H         D         A  \\\n0     Crystal Palace        Tottenham   H  0.637693  0.176003  0.186304   \n1            Arsenal     Norwich City   H  0.659592  0.209283  0.131125   \n2          Brentford         Brighton   A  0.169527  0.151281  0.679192   \n3     Leicester City  Manchester City   A  0.103872  0.156836  0.739292   \n4     Manchester Utd    Newcastle Utd   H  0.867363  0.068092  0.064545   \n..               ...              ...  ..       ...       ...       ...   \n345   Crystal Palace   Manchester Utd   H  0.270560  0.358476  0.370964   \n346   Leicester City      Southampton   H  0.621875  0.199979  0.178146   \n347        Liverpool           Wolves   H  0.579875  0.118616  0.301509   \n348  Manchester City      Aston Villa   H  0.672318  0.139366  0.188315   \n349     Norwich City        Tottenham   A  0.186195  0.222604  0.591201   \n\n    player_stats_vote  \n0                   H  \n1                   H  \n2                   A  \n3                   A  \n4                   H  \n..                ...  \n345                 A  \n346                 H  \n347                 H  \n348                 H  \n349                 A  \n\n[350 rows x 7 columns]",
      "text/html": "<div>\n<style scoped>\n    .dataframe tbody tr th:only-of-type {\n        vertical-align: middle;\n    }\n\n    .dataframe tbody tr th {\n        vertical-align: top;\n    }\n\n    .dataframe thead th {\n        text-align: right;\n    }\n</style>\n<table border=\"1\" class=\"dataframe\">\n  <thead>\n    <tr style=\"text-align: right;\">\n      <th></th>\n      <th>HomeTeam</th>\n      <th>AwayTeam</th>\n      <th>FTR</th>\n      <th>H</th>\n      <th>D</th>\n      <th>A</th>\n      <th>player_stats_vote</th>\n    </tr>\n  </thead>\n  <tbody>\n    <tr>\n      <th>0</th>\n      <td>Crystal Palace</td>\n      <td>Tottenham</td>\n      <td>H</td>\n      <td>0.637693</td>\n      <td>0.176003</td>\n      <td>0.186304</td>\n      <td>H</td>\n    </tr>\n    <tr>\n      <th>1</th>\n      <td>Arsenal</td>\n      <td>Norwich City</td>\n      <td>H</td>\n      <td>0.659592</td>\n      <td>0.209283</td>\n      <td>0.131125</td>\n      <td>H</td>\n    </tr>\n    <tr>\n      <th>2</th>\n      <td>Brentford</td>\n      <td>Brighton</td>\n      <td>A</td>\n      <td>0.169527</td>\n      <td>0.151281</td>\n      <td>0.679192</td>\n      <td>A</td>\n    </tr>\n    <tr>\n      <th>3</th>\n      <td>Leicester City</td>\n      <td>Manchester City</td>\n      <td>A</td>\n      <td>0.103872</td>\n      <td>0.156836</td>\n      <td>0.739292</td>\n      <td>A</td>\n    </tr>\n    <tr>\n      <th>4</th>\n      <td>Manchester Utd</td>\n      <td>Newcastle Utd</td>\n      <td>H</td>\n      <td>0.867363</td>\n      <td>0.068092</td>\n      <td>0.064545</td>\n      <td>H</td>\n    </tr>\n    <tr>\n      <th>...</th>\n      <td>...</td>\n      <td>...</td>\n      <td>...</td>\n      <td>...</td>\n      <td>...</td>\n      <td>...</td>\n      <td>...</td>\n    </tr>\n    <tr>\n      <th>345</th>\n      <td>Crystal Palace</td>\n      <td>Manchester Utd</td>\n      <td>H</td>\n      <td>0.270560</td>\n      <td>0.358476</td>\n      <td>0.370964</td>\n      <td>A</td>\n    </tr>\n    <tr>\n      <th>346</th>\n      <td>Leicester City</td>\n      <td>Southampton</td>\n      <td>H</td>\n      <td>0.621875</td>\n      <td>0.199979</td>\n      <td>0.178146</td>\n      <td>H</td>\n    </tr>\n    <tr>\n      <th>347</th>\n      <td>Liverpool</td>\n      <td>Wolves</td>\n      <td>H</td>\n      <td>0.579875</td>\n      <td>0.118616</td>\n      <td>0.301509</td>\n      <td>H</td>\n    </tr>\n    <tr>\n      <th>348</th>\n      <td>Manchester City</td>\n      <td>Aston Villa</td>\n      <td>H</td>\n      <td>0.672318</td>\n      <td>0.139366</td>\n      <td>0.188315</td>\n      <td>H</td>\n    </tr>\n    <tr>\n      <th>349</th>\n      <td>Norwich City</td>\n      <td>Tottenham</td>\n      <td>A</td>\n      <td>0.186195</td>\n      <td>0.222604</td>\n      <td>0.591201</td>\n      <td>A</td>\n    </tr>\n  </tbody>\n</table>\n<p>350 rows × 7 columns</p>\n</div>"
     },
     "execution_count": 317,
     "metadata": {},
     "output_type": "execute_result"
    }
   ],
   "source": [
    "probs_player_stats_tmp.to_csv('Data/Total/probs_player_stats_info.csv')\n",
    "probs_player_stats_tmp"
   ],
   "metadata": {
    "collapsed": false,
    "pycharm": {
     "name": "#%%\n"
    }
   }
  },
  {
   "cell_type": "code",
   "execution_count": 327,
   "outputs": [
    {
     "data": {
      "text/plain": "            HomeTeam         AwayTeam FTR         H         D         A  \\\n0     Crystal Palace        Tottenham   H  0.539113  0.211893  0.248994   \n1            Arsenal     Norwich City   H  0.737461  0.177193  0.085345   \n2          Brentford         Brighton   A  0.134107  0.225988  0.639905   \n3     Leicester City  Manchester City   A  0.117018  0.200910  0.682072   \n4     Manchester Utd    Newcastle Utd   H  0.831342  0.107375  0.061283   \n..               ...              ...  ..       ...       ...       ...   \n345   Crystal Palace   Manchester Utd   H  0.181013  0.472850  0.346137   \n346   Leicester City      Southampton   H  0.538856  0.280801  0.180344   \n347        Liverpool           Wolves   H  0.771868  0.099832  0.128301   \n348  Manchester City      Aston Villa   H  0.760083  0.101201  0.138716   \n349     Norwich City        Tottenham   A  0.205960  0.237749  0.556292   \n\n    benchmark_vote  \n0                H  \n1                H  \n2                A  \n3                A  \n4                H  \n..             ...  \n345              D  \n346              H  \n347              H  \n348              H  \n349              A  \n\n[350 rows x 7 columns]",
      "text/html": "<div>\n<style scoped>\n    .dataframe tbody tr th:only-of-type {\n        vertical-align: middle;\n    }\n\n    .dataframe tbody tr th {\n        vertical-align: top;\n    }\n\n    .dataframe thead th {\n        text-align: right;\n    }\n</style>\n<table border=\"1\" class=\"dataframe\">\n  <thead>\n    <tr style=\"text-align: right;\">\n      <th></th>\n      <th>HomeTeam</th>\n      <th>AwayTeam</th>\n      <th>FTR</th>\n      <th>H</th>\n      <th>D</th>\n      <th>A</th>\n      <th>benchmark_vote</th>\n    </tr>\n  </thead>\n  <tbody>\n    <tr>\n      <th>0</th>\n      <td>Crystal Palace</td>\n      <td>Tottenham</td>\n      <td>H</td>\n      <td>0.539113</td>\n      <td>0.211893</td>\n      <td>0.248994</td>\n      <td>H</td>\n    </tr>\n    <tr>\n      <th>1</th>\n      <td>Arsenal</td>\n      <td>Norwich City</td>\n      <td>H</td>\n      <td>0.737461</td>\n      <td>0.177193</td>\n      <td>0.085345</td>\n      <td>H</td>\n    </tr>\n    <tr>\n      <th>2</th>\n      <td>Brentford</td>\n      <td>Brighton</td>\n      <td>A</td>\n      <td>0.134107</td>\n      <td>0.225988</td>\n      <td>0.639905</td>\n      <td>A</td>\n    </tr>\n    <tr>\n      <th>3</th>\n      <td>Leicester City</td>\n      <td>Manchester City</td>\n      <td>A</td>\n      <td>0.117018</td>\n      <td>0.200910</td>\n      <td>0.682072</td>\n      <td>A</td>\n    </tr>\n    <tr>\n      <th>4</th>\n      <td>Manchester Utd</td>\n      <td>Newcastle Utd</td>\n      <td>H</td>\n      <td>0.831342</td>\n      <td>0.107375</td>\n      <td>0.061283</td>\n      <td>H</td>\n    </tr>\n    <tr>\n      <th>...</th>\n      <td>...</td>\n      <td>...</td>\n      <td>...</td>\n      <td>...</td>\n      <td>...</td>\n      <td>...</td>\n      <td>...</td>\n    </tr>\n    <tr>\n      <th>345</th>\n      <td>Crystal Palace</td>\n      <td>Manchester Utd</td>\n      <td>H</td>\n      <td>0.181013</td>\n      <td>0.472850</td>\n      <td>0.346137</td>\n      <td>D</td>\n    </tr>\n    <tr>\n      <th>346</th>\n      <td>Leicester City</td>\n      <td>Southampton</td>\n      <td>H</td>\n      <td>0.538856</td>\n      <td>0.280801</td>\n      <td>0.180344</td>\n      <td>H</td>\n    </tr>\n    <tr>\n      <th>347</th>\n      <td>Liverpool</td>\n      <td>Wolves</td>\n      <td>H</td>\n      <td>0.771868</td>\n      <td>0.099832</td>\n      <td>0.128301</td>\n      <td>H</td>\n    </tr>\n    <tr>\n      <th>348</th>\n      <td>Manchester City</td>\n      <td>Aston Villa</td>\n      <td>H</td>\n      <td>0.760083</td>\n      <td>0.101201</td>\n      <td>0.138716</td>\n      <td>H</td>\n    </tr>\n    <tr>\n      <th>349</th>\n      <td>Norwich City</td>\n      <td>Tottenham</td>\n      <td>A</td>\n      <td>0.205960</td>\n      <td>0.237749</td>\n      <td>0.556292</td>\n      <td>A</td>\n    </tr>\n  </tbody>\n</table>\n<p>350 rows × 7 columns</p>\n</div>"
     },
     "execution_count": 327,
     "metadata": {},
     "output_type": "execute_result"
    }
   ],
   "source": [
    "probs_benchmark_tmp = PL_19_20_21_all_features[-350:].join(probs_benchmark)\n",
    "probs_benchmark_tmp = probs_benchmark_tmp[['HomeTeam_x', 'AwayTeam_x', 'FTR_x', 'H', 'D', 'A']]\n",
    "probs_benchmark_tmp = probs_benchmark_tmp.rename(columns={'HomeTeam_x':'HomeTeam','AwayTeam_x':'AwayTeam', 'FTR_x': 'FTR'})\n",
    "probs_benchmark_tmp = probs_benchmark_tmp[-350:].join(votes_benchmark)\n",
    "probs_benchmark_tmp"
   ],
   "metadata": {
    "collapsed": false,
    "pycharm": {
     "name": "#%%\n"
    }
   }
  },
  {
   "cell_type": "code",
   "execution_count": 328,
   "outputs": [
    {
     "data": {
      "text/plain": "            HomeTeam         AwayTeam FTR         H         D         A  \\\n0     Crystal Palace        Tottenham   H  0.539113  0.211893  0.248994   \n1            Arsenal     Norwich City   H  0.737461  0.177193  0.085345   \n2          Brentford         Brighton   A  0.134107  0.225988  0.639905   \n3     Leicester City  Manchester City   A  0.117018  0.200910  0.682072   \n4     Manchester Utd    Newcastle Utd   H  0.831342  0.107375  0.061283   \n..               ...              ...  ..       ...       ...       ...   \n345   Crystal Palace   Manchester Utd   H  0.181013  0.472850  0.346137   \n346   Leicester City      Southampton   H  0.538856  0.280801  0.180344   \n347        Liverpool           Wolves   H  0.771868  0.099832  0.128301   \n348  Manchester City      Aston Villa   H  0.760083  0.101201  0.138716   \n349     Norwich City        Tottenham   A  0.205960  0.237749  0.556292   \n\n    benchmark_vote  \n0                H  \n1                H  \n2                A  \n3                A  \n4                H  \n..             ...  \n345              D  \n346              H  \n347              H  \n348              H  \n349              A  \n\n[350 rows x 7 columns]",
      "text/html": "<div>\n<style scoped>\n    .dataframe tbody tr th:only-of-type {\n        vertical-align: middle;\n    }\n\n    .dataframe tbody tr th {\n        vertical-align: top;\n    }\n\n    .dataframe thead th {\n        text-align: right;\n    }\n</style>\n<table border=\"1\" class=\"dataframe\">\n  <thead>\n    <tr style=\"text-align: right;\">\n      <th></th>\n      <th>HomeTeam</th>\n      <th>AwayTeam</th>\n      <th>FTR</th>\n      <th>H</th>\n      <th>D</th>\n      <th>A</th>\n      <th>benchmark_vote</th>\n    </tr>\n  </thead>\n  <tbody>\n    <tr>\n      <th>0</th>\n      <td>Crystal Palace</td>\n      <td>Tottenham</td>\n      <td>H</td>\n      <td>0.539113</td>\n      <td>0.211893</td>\n      <td>0.248994</td>\n      <td>H</td>\n    </tr>\n    <tr>\n      <th>1</th>\n      <td>Arsenal</td>\n      <td>Norwich City</td>\n      <td>H</td>\n      <td>0.737461</td>\n      <td>0.177193</td>\n      <td>0.085345</td>\n      <td>H</td>\n    </tr>\n    <tr>\n      <th>2</th>\n      <td>Brentford</td>\n      <td>Brighton</td>\n      <td>A</td>\n      <td>0.134107</td>\n      <td>0.225988</td>\n      <td>0.639905</td>\n      <td>A</td>\n    </tr>\n    <tr>\n      <th>3</th>\n      <td>Leicester City</td>\n      <td>Manchester City</td>\n      <td>A</td>\n      <td>0.117018</td>\n      <td>0.200910</td>\n      <td>0.682072</td>\n      <td>A</td>\n    </tr>\n    <tr>\n      <th>4</th>\n      <td>Manchester Utd</td>\n      <td>Newcastle Utd</td>\n      <td>H</td>\n      <td>0.831342</td>\n      <td>0.107375</td>\n      <td>0.061283</td>\n      <td>H</td>\n    </tr>\n    <tr>\n      <th>...</th>\n      <td>...</td>\n      <td>...</td>\n      <td>...</td>\n      <td>...</td>\n      <td>...</td>\n      <td>...</td>\n      <td>...</td>\n    </tr>\n    <tr>\n      <th>345</th>\n      <td>Crystal Palace</td>\n      <td>Manchester Utd</td>\n      <td>H</td>\n      <td>0.181013</td>\n      <td>0.472850</td>\n      <td>0.346137</td>\n      <td>D</td>\n    </tr>\n    <tr>\n      <th>346</th>\n      <td>Leicester City</td>\n      <td>Southampton</td>\n      <td>H</td>\n      <td>0.538856</td>\n      <td>0.280801</td>\n      <td>0.180344</td>\n      <td>H</td>\n    </tr>\n    <tr>\n      <th>347</th>\n      <td>Liverpool</td>\n      <td>Wolves</td>\n      <td>H</td>\n      <td>0.771868</td>\n      <td>0.099832</td>\n      <td>0.128301</td>\n      <td>H</td>\n    </tr>\n    <tr>\n      <th>348</th>\n      <td>Manchester City</td>\n      <td>Aston Villa</td>\n      <td>H</td>\n      <td>0.760083</td>\n      <td>0.101201</td>\n      <td>0.138716</td>\n      <td>H</td>\n    </tr>\n    <tr>\n      <th>349</th>\n      <td>Norwich City</td>\n      <td>Tottenham</td>\n      <td>A</td>\n      <td>0.205960</td>\n      <td>0.237749</td>\n      <td>0.556292</td>\n      <td>A</td>\n    </tr>\n  </tbody>\n</table>\n<p>350 rows × 7 columns</p>\n</div>"
     },
     "execution_count": 328,
     "metadata": {},
     "output_type": "execute_result"
    }
   ],
   "source": [
    "probs_benchmark_tmp.to_csv('Data/Total/probs_benchmark_info.csv')\n",
    "probs_benchmark_tmp"
   ],
   "metadata": {
    "collapsed": false,
    "pycharm": {
     "name": "#%%\n"
    }
   }
  },
  {
   "cell_type": "code",
   "execution_count": 329,
   "outputs": [
    {
     "data": {
      "text/plain": "<Figure size 432x288 with 2 Axes>",
      "image/png": "[encoded data removed]"
     },
     "metadata": {
      "needs_background": "light"
     },
     "output_type": "display_data"
    }
   ],
   "source": [
    "#confusion matrix benchmark\n",
    "cm= confusion_matrix(y_test_player_stats, votes_benchmark, labels=np.flip(rf_model_benchmark.classes_))\n",
    "disp = ConfusionMatrixDisplay(confusion_matrix=cm, display_labels=np.flip(rf_model_benchmark.classes_))\n",
    "disp.plot(cmap='Blues_r')\n",
    "plt.show()"
   ],
   "metadata": {
    "collapsed": false,
    "pycharm": {
     "name": "#%%\n"
    }
   }
  },
  {
   "cell_type": "code",
   "execution_count": 330,
   "outputs": [
    {
     "data": {
      "text/plain": "<Figure size 432x288 with 2 Axes>",
      "image/png": "[encoded data removed]"
     },
     "metadata": {
      "needs_background": "light"
     },
     "output_type": "display_data"
    }
   ],
   "source": [
    "#confusion matrix player stats\n",
    "cm= confusion_matrix(y_test_player_stats, votes_player_stats, labels=np.flip(rf_model_player_stats.classes_))\n",
    "disp = ConfusionMatrixDisplay(confusion_matrix=cm, display_labels=np.flip(rf_model_player_stats.classes_))\n",
    "disp.plot(cmap='Blues_r')\n",
    "plt.show()"
   ],
   "metadata": {
    "collapsed": false,
    "pycharm": {
     "name": "#%%\n"
    }
   }
  },
  {
   "cell_type": "code",
   "execution_count": 336,
   "outputs": [
    {
     "name": "stdout",
     "output_type": "stream",
     "text": [
      "              precision    recall  f1-score   support\n",
      "\n",
      "           A       0.58      0.70      0.64       121\n",
      "           D       0.66      0.24      0.35        80\n",
      "           H       0.63      0.74      0.69       149\n",
      "\n",
      "    accuracy                           0.61       350\n",
      "   macro avg       0.62      0.56      0.56       350\n",
      "weighted avg       0.62      0.61      0.59       350\n",
      "\n",
      "0.6142857142857143\n"
     ]
    }
   ],
   "source": [
    "#classification report for benchmarks and player stats\n",
    "print(classification_report(y_test_player_stats, votes_player_stats))\n",
    "print(accuracy_score(y_test_player_stats, votes_player_stats))"
   ],
   "metadata": {
    "collapsed": false,
    "pycharm": {
     "name": "#%%\n"
    }
   }
  },
  {
   "cell_type": "code",
   "execution_count": 345,
   "outputs": [
    {
     "data": {
      "text/plain": "<Figure size 432x288 with 1 Axes>",
      "image/png": "[encoded data removed]"
     },
     "metadata": {
      "needs_background": "light"
     },
     "output_type": "display_data"
    }
   ],
   "source": [
    "#feature importances benchmark\n",
    "importances = rf_model_benchmark.feature_importances_\n",
    "std = np.std([tree.feature_importances_ for tree in rf_model_benchmark.estimators_], axis=0)\n",
    "forest_importances = pd.Series(importances, index=feature_names_benchmark)\n",
    "forest_importances = forest_importances.sort_values()\n",
    "fig, ax = plt.subplots()\n",
    "\n",
    "forest_importances.plot.barh(ax=ax, yerr=std)\n",
    "ax.set_title(\"Feature importances using MDI\")\n",
    "ax.set_xlabel(\"Mean decrease in impurity\")\n",
    "fig.tight_layout(pad=-5, w_pad=0.5, h_pad=-2)"
   ],
   "metadata": {
    "collapsed": false,
    "pycharm": {
     "name": "#%%\n"
    }
   }
  },
  {
   "cell_type": "markdown",
   "source": [],
   "metadata": {
    "collapsed": false
   }
  }
 ],
 "metadata": {
  "kernelspec": {
   "display_name": "Python 3",
   "language": "python",
   "name": "python3"
  },
  "language_info": {
   "codemirror_mode": {
    "name": "ipython",
    "version": 2
   },
   "file_extension": ".py",
   "mimetype": "text/x-python",
   "name": "python",
   "nbconvert_exporter": "python",
   "pygments_lexer": "ipython2",
   "version": "2.7.6"
  }
 },
 "nbformat": 4,
 "nbformat_minor": 0
}