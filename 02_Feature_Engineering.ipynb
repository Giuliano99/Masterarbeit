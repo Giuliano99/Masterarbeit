{
 "cells": [
  {
   "cell_type": "code",
   "execution_count": 59,
   "outputs": [],
   "source": [
    "#notebook for engineer features using game results and stats\n",
    "#import necessary packages\n",
    "import pandas as pd\n",
    "import numpy as np\n",
    "from sklearn.ensemble import RandomForestClassifier\n",
    "import xgboost as xgb\n",
    "from sklearn.model_selection import train_test_split\n",
    "import time\n",
    "import matplotlib.pyplot as plt\n",
    "import graphviz\n",
    "from sklearn.tree import export_graphviz\n",
    "from sklearn import tree\n",
    "from dtreeviz.trees import dtreeviz"
   ],
   "metadata": {
    "collapsed": false,
    "pycharm": {
     "name": "#%%\n"
    }
   }
  },
  {
   "cell_type": "code",
   "execution_count": 2,
   "outputs": [
    {
     "data": {
      "text/plain": "    Div        Date   Time         HomeTeam        AwayTeam  FTHG  FTAG FTR  \\\n0    E0  2021-08-13  20:00        Brentford         Arsenal     2     0   H   \n1    E0  2021-08-14  12:30   Manchester Utd    Leeds United     5     1   H   \n2    E0  2021-08-14  15:00          Burnley        Brighton     1     2   A   \n3    E0  2021-08-14  15:00          Chelsea  Crystal Palace     3     0   H   \n4    E0  2021-08-14  15:00          Everton     Southampton     3     1   H   \n..   ..         ...    ...              ...             ...   ...   ...  ..   \n375  E0  2022-05-22  16:00   Crystal Palace  Manchester Utd     1     0   H   \n376  E0  2022-05-22  16:00   Leicester City     Southampton     4     1   H   \n377  E0  2022-05-22  16:00        Liverpool          Wolves     3     1   H   \n378  E0  2022-05-22  16:00  Manchester City     Aston Villa     3     2   H   \n379  E0  2022-05-22  16:00     Norwich City       Tottenham     0     5   A   \n\n     HTHG  HTAG  ... PCAHA MaxCAHH  MaxCAHA  AvgCAHH  AvgCAHA  Rating_Home  \\\n0       1     0  ...  2.13    2.05     2.17     1.80     2.09           73   \n1       1     0  ...  1.77    2.19     1.93     2.10     1.79           83   \n2       1     0  ...  2.14    1.82     2.19     1.79     2.12           76   \n3       2     0  ...  1.81    2.16     1.93     2.06     1.82           83   \n4       0     1  ...  1.88    2.08     1.90     2.03     1.86           79   \n..    ...   ...  ...   ...     ...      ...      ...      ...          ...   \n375     1     0  ...  2.23    1.88     2.25     1.74     2.16           76   \n376     0     0  ...  2.03    1.94     2.26     1.87     2.01           80   \n377     1     1  ...  1.83    2.19     1.99     2.07     1.80           84   \n378     0     1  ...  1.86    2.09     2.03     2.01     1.87           85   \n379     0     2  ...  1.94    2.16     1.98     1.99     1.89           74   \n\n     Rating_Away  Rating difference               game_home_ID  \\\n0             79                 -6        Brentford2021-08-13   \n1             76                  7   Manchester Utd2021-08-14   \n2             75                  1          Burnley2021-08-14   \n3             76                  7          Chelsea2021-08-14   \n4             76                  3          Everton2021-08-14   \n..           ...                ...                        ...   \n375           83                 -7   Crystal Palace2022-05-22   \n376           76                  4   Leicester City2022-05-22   \n377           78                  6        Liverpool2022-05-22   \n378           78                  7  Manchester City2022-05-22   \n379           82                 -8     Norwich City2022-05-22   \n\n                 game_away_ID  \n0           Arsenal2021-08-13  \n1      Leeds United2021-08-14  \n2          Brighton2021-08-14  \n3    Crystal Palace2021-08-14  \n4       Southampton2021-08-14  \n..                        ...  \n375  Manchester Utd2022-05-22  \n376     Southampton2022-05-22  \n377          Wolves2022-05-22  \n378     Aston Villa2022-05-22  \n379       Tottenham2022-05-22  \n\n[380 rows x 111 columns]",
      "text/html": "<div>\n<style scoped>\n    .dataframe tbody tr th:only-of-type {\n        vertical-align: middle;\n    }\n\n    .dataframe tbody tr th {\n        vertical-align: top;\n    }\n\n    .dataframe thead th {\n        text-align: right;\n    }\n</style>\n<table border=\"1\" class=\"dataframe\">\n  <thead>\n    <tr style=\"text-align: right;\">\n      <th></th>\n      <th>Div</th>\n      <th>Date</th>\n      <th>Time</th>\n      <th>HomeTeam</th>\n      <th>AwayTeam</th>\n      <th>FTHG</th>\n      <th>FTAG</th>\n      <th>FTR</th>\n      <th>HTHG</th>\n      <th>HTAG</th>\n      <th>...</th>\n      <th>PCAHA</th>\n      <th>MaxCAHH</th>\n      <th>MaxCAHA</th>\n      <th>AvgCAHH</th>\n      <th>AvgCAHA</th>\n      <th>Rating_Home</th>\n      <th>Rating_Away</th>\n      <th>Rating difference</th>\n      <th>game_home_ID</th>\n      <th>game_away_ID</th>\n    </tr>\n  </thead>\n  <tbody>\n    <tr>\n      <th>0</th>\n      <td>E0</td>\n      <td>2021-08-13</td>\n      <td>20:00</td>\n      <td>Brentford</td>\n      <td>Arsenal</td>\n      <td>2</td>\n      <td>0</td>\n      <td>H</td>\n      <td>1</td>\n      <td>0</td>\n      <td>...</td>\n      <td>2.13</td>\n      <td>2.05</td>\n      <td>2.17</td>\n      <td>1.80</td>\n      <td>2.09</td>\n      <td>73</td>\n      <td>79</td>\n      <td>-6</td>\n      <td>Brentford2021-08-13</td>\n      <td>Arsenal2021-08-13</td>\n    </tr>\n    <tr>\n      <th>1</th>\n      <td>E0</td>\n      <td>2021-08-14</td>\n      <td>12:30</td>\n      <td>Manchester Utd</td>\n      <td>Leeds United</td>\n      <td>5</td>\n      <td>1</td>\n      <td>H</td>\n      <td>1</td>\n      <td>0</td>\n      <td>...</td>\n      <td>1.77</td>\n      <td>2.19</td>\n      <td>1.93</td>\n      <td>2.10</td>\n      <td>1.79</td>\n      <td>83</td>\n      <td>76</td>\n      <td>7</td>\n      <td>Manchester Utd2021-08-14</td>\n      <td>Leeds United2021-08-14</td>\n    </tr>\n    <tr>\n      <th>2</th>\n      <td>E0</td>\n      <td>2021-08-14</td>\n      <td>15:00</td>\n      <td>Burnley</td>\n      <td>Brighton</td>\n      <td>1</td>\n      <td>2</td>\n      <td>A</td>\n      <td>1</td>\n      <td>0</td>\n      <td>...</td>\n      <td>2.14</td>\n      <td>1.82</td>\n      <td>2.19</td>\n      <td>1.79</td>\n      <td>2.12</td>\n      <td>76</td>\n      <td>75</td>\n      <td>1</td>\n      <td>Burnley2021-08-14</td>\n      <td>Brighton2021-08-14</td>\n    </tr>\n    <tr>\n      <th>3</th>\n      <td>E0</td>\n      <td>2021-08-14</td>\n      <td>15:00</td>\n      <td>Chelsea</td>\n      <td>Crystal Palace</td>\n      <td>3</td>\n      <td>0</td>\n      <td>H</td>\n      <td>2</td>\n      <td>0</td>\n      <td>...</td>\n      <td>1.81</td>\n      <td>2.16</td>\n      <td>1.93</td>\n      <td>2.06</td>\n      <td>1.82</td>\n      <td>83</td>\n      <td>76</td>\n      <td>7</td>\n      <td>Chelsea2021-08-14</td>\n      <td>Crystal Palace2021-08-14</td>\n    </tr>\n    <tr>\n      <th>4</th>\n      <td>E0</td>\n      <td>2021-08-14</td>\n      <td>15:00</td>\n      <td>Everton</td>\n      <td>Southampton</td>\n      <td>3</td>\n      <td>1</td>\n      <td>H</td>\n      <td>0</td>\n      <td>1</td>\n      <td>...</td>\n      <td>1.88</td>\n      <td>2.08</td>\n      <td>1.90</td>\n      <td>2.03</td>\n      <td>1.86</td>\n      <td>79</td>\n      <td>76</td>\n      <td>3</td>\n      <td>Everton2021-08-14</td>\n      <td>Southampton2021-08-14</td>\n    </tr>\n    <tr>\n      <th>...</th>\n      <td>...</td>\n      <td>...</td>\n      <td>...</td>\n      <td>...</td>\n      <td>...</td>\n      <td>...</td>\n      <td>...</td>\n      <td>...</td>\n      <td>...</td>\n      <td>...</td>\n      <td>...</td>\n      <td>...</td>\n      <td>...</td>\n      <td>...</td>\n      <td>...</td>\n      <td>...</td>\n      <td>...</td>\n      <td>...</td>\n      <td>...</td>\n      <td>...</td>\n      <td>...</td>\n    </tr>\n    <tr>\n      <th>375</th>\n      <td>E0</td>\n      <td>2022-05-22</td>\n      <td>16:00</td>\n      <td>Crystal Palace</td>\n      <td>Manchester Utd</td>\n      <td>1</td>\n      <td>0</td>\n      <td>H</td>\n      <td>1</td>\n      <td>0</td>\n      <td>...</td>\n      <td>2.23</td>\n      <td>1.88</td>\n      <td>2.25</td>\n      <td>1.74</td>\n      <td>2.16</td>\n      <td>76</td>\n      <td>83</td>\n      <td>-7</td>\n      <td>Crystal Palace2022-05-22</td>\n      <td>Manchester Utd2022-05-22</td>\n    </tr>\n    <tr>\n      <th>376</th>\n      <td>E0</td>\n      <td>2022-05-22</td>\n      <td>16:00</td>\n      <td>Leicester City</td>\n      <td>Southampton</td>\n      <td>4</td>\n      <td>1</td>\n      <td>H</td>\n      <td>0</td>\n      <td>0</td>\n      <td>...</td>\n      <td>2.03</td>\n      <td>1.94</td>\n      <td>2.26</td>\n      <td>1.87</td>\n      <td>2.01</td>\n      <td>80</td>\n      <td>76</td>\n      <td>4</td>\n      <td>Leicester City2022-05-22</td>\n      <td>Southampton2022-05-22</td>\n    </tr>\n    <tr>\n      <th>377</th>\n      <td>E0</td>\n      <td>2022-05-22</td>\n      <td>16:00</td>\n      <td>Liverpool</td>\n      <td>Wolves</td>\n      <td>3</td>\n      <td>1</td>\n      <td>H</td>\n      <td>1</td>\n      <td>1</td>\n      <td>...</td>\n      <td>1.83</td>\n      <td>2.19</td>\n      <td>1.99</td>\n      <td>2.07</td>\n      <td>1.80</td>\n      <td>84</td>\n      <td>78</td>\n      <td>6</td>\n      <td>Liverpool2022-05-22</td>\n      <td>Wolves2022-05-22</td>\n    </tr>\n    <tr>\n      <th>378</th>\n      <td>E0</td>\n      <td>2022-05-22</td>\n      <td>16:00</td>\n      <td>Manchester City</td>\n      <td>Aston Villa</td>\n      <td>3</td>\n      <td>2</td>\n      <td>H</td>\n      <td>0</td>\n      <td>1</td>\n      <td>...</td>\n      <td>1.86</td>\n      <td>2.09</td>\n      <td>2.03</td>\n      <td>2.01</td>\n      <td>1.87</td>\n      <td>85</td>\n      <td>78</td>\n      <td>7</td>\n      <td>Manchester City2022-05-22</td>\n      <td>Aston Villa2022-05-22</td>\n    </tr>\n    <tr>\n      <th>379</th>\n      <td>E0</td>\n      <td>2022-05-22</td>\n      <td>16:00</td>\n      <td>Norwich City</td>\n      <td>Tottenham</td>\n      <td>0</td>\n      <td>5</td>\n      <td>A</td>\n      <td>0</td>\n      <td>2</td>\n      <td>...</td>\n      <td>1.94</td>\n      <td>2.16</td>\n      <td>1.98</td>\n      <td>1.99</td>\n      <td>1.89</td>\n      <td>74</td>\n      <td>82</td>\n      <td>-8</td>\n      <td>Norwich City2022-05-22</td>\n      <td>Tottenham2022-05-22</td>\n    </tr>\n  </tbody>\n</table>\n<p>380 rows × 111 columns</p>\n</div>"
     },
     "execution_count": 2,
     "metadata": {},
     "output_type": "execute_result"
    }
   ],
   "source": [
    "#import Data\n",
    "PL19_20_fixtures = pd.read_csv('Data/2019-20/Fixtures/PL19_20_fixtures.csv')\n",
    "PL20_21_fixtures = pd.read_csv('Data/2020-21/Fixtures/PL20_21_fixtures.csv')\n",
    "PL21_22_fixtures = pd.read_csv('Data/2021-22/Fixtures/PL21_22_fixtures.csv')\n",
    "PL19_20_fixtures['game_home_ID'] = PL19_20_fixtures['HomeTeam'] + PL19_20_fixtures['Date'].astype(str)\n",
    "PL19_20_fixtures['game_away_ID'] = PL19_20_fixtures['AwayTeam'] + PL19_20_fixtures['Date'].astype(str)\n",
    "PL20_21_fixtures['game_home_ID'] = PL20_21_fixtures['HomeTeam'] + PL20_21_fixtures['Date'].astype(str)\n",
    "PL20_21_fixtures['game_away_ID'] = PL20_21_fixtures['AwayTeam'] + PL20_21_fixtures['Date'].astype(str)\n",
    "PL21_22_fixtures['game_home_ID'] = PL21_22_fixtures['HomeTeam'] + PL21_22_fixtures['Date'].astype(str)\n",
    "PL21_22_fixtures['game_away_ID'] = PL21_22_fixtures['AwayTeam'] + PL21_22_fixtures['Date'].astype(str)\n",
    "PL21_22_fixtures"
   ],
   "metadata": {
    "collapsed": false,
    "pycharm": {
     "name": "#%%\n"
    }
   }
  },
  {
   "cell_type": "code",
   "execution_count": 3,
   "outputs": [
    {
     "data": {
      "text/plain": "    Div        Date   Time         HomeTeam        AwayTeam  FTHG  FTAG FTR  \\\n0    E0  2021-08-13  20:00        Brentford         Arsenal     2     0   H   \n1    E0  2021-08-14  12:30   Manchester Utd    Leeds United     5     1   H   \n2    E0  2021-08-14  15:00          Burnley        Brighton     1     2   A   \n3    E0  2021-08-14  15:00          Chelsea  Crystal Palace     3     0   H   \n4    E0  2021-08-14  15:00          Everton     Southampton     3     1   H   \n..   ..         ...    ...              ...             ...   ...   ...  ..   \n375  E0  2022-05-22  16:00   Crystal Palace  Manchester Utd     1     0   H   \n376  E0  2022-05-22  16:00   Leicester City     Southampton     4     1   H   \n377  E0  2022-05-22  16:00        Liverpool          Wolves     3     1   H   \n378  E0  2022-05-22  16:00  Manchester City     Aston Villa     3     2   H   \n379  E0  2022-05-22  16:00     Norwich City       Tottenham     0     5   A   \n\n     HTHG  HTAG  ... MaxCAHA AvgCAHH  AvgCAHA  Rating_Home  Rating_Away  \\\n0       1     0  ...    2.17    1.80     2.09           73           79   \n1       1     0  ...    1.93    2.10     1.79           83           76   \n2       1     0  ...    2.19    1.79     2.12           76           75   \n3       2     0  ...    1.93    2.06     1.82           83           76   \n4       0     1  ...    1.90    2.03     1.86           79           76   \n..    ...   ...  ...     ...     ...      ...          ...          ...   \n375     1     0  ...    2.25    1.74     2.16           76           83   \n376     0     0  ...    2.26    1.87     2.01           80           76   \n377     1     1  ...    1.99    2.07     1.80           84           78   \n378     0     1  ...    2.03    2.01     1.87           85           78   \n379     0     2  ...    1.98    1.99     1.89           74           82   \n\n     Rating difference               game_home_ID              game_away_ID  \\\n0                   -6        Brentford2021-08-13         Arsenal2021-08-13   \n1                    7   Manchester Utd2021-08-14    Leeds United2021-08-14   \n2                    1          Burnley2021-08-14        Brighton2021-08-14   \n3                    7          Chelsea2021-08-14  Crystal Palace2021-08-14   \n4                    3          Everton2021-08-14     Southampton2021-08-14   \n..                 ...                        ...                       ...   \n375                 -7   Crystal Palace2022-05-22  Manchester Utd2022-05-22   \n376                  4   Leicester City2022-05-22     Southampton2022-05-22   \n377                  6        Liverpool2022-05-22          Wolves2022-05-22   \n378                  7  Manchester City2022-05-22     Aston Villa2022-05-22   \n379                 -8     Norwich City2022-05-22       Tottenham2022-05-22   \n\n     Wk_h  Wk_a  \n0       1     1  \n1       1     1  \n2       1     1  \n3       1     1  \n4       1     1  \n..    ...   ...  \n375    38    38  \n376    38    38  \n377    38    38  \n378    38    38  \n379    38    38  \n\n[380 rows x 113 columns]",
      "text/html": "<div>\n<style scoped>\n    .dataframe tbody tr th:only-of-type {\n        vertical-align: middle;\n    }\n\n    .dataframe tbody tr th {\n        vertical-align: top;\n    }\n\n    .dataframe thead th {\n        text-align: right;\n    }\n</style>\n<table border=\"1\" class=\"dataframe\">\n  <thead>\n    <tr style=\"text-align: right;\">\n      <th></th>\n      <th>Div</th>\n      <th>Date</th>\n      <th>Time</th>\n      <th>HomeTeam</th>\n      <th>AwayTeam</th>\n      <th>FTHG</th>\n      <th>FTAG</th>\n      <th>FTR</th>\n      <th>HTHG</th>\n      <th>HTAG</th>\n      <th>...</th>\n      <th>MaxCAHA</th>\n      <th>AvgCAHH</th>\n      <th>AvgCAHA</th>\n      <th>Rating_Home</th>\n      <th>Rating_Away</th>\n      <th>Rating difference</th>\n      <th>game_home_ID</th>\n      <th>game_away_ID</th>\n      <th>Wk_h</th>\n      <th>Wk_a</th>\n    </tr>\n  </thead>\n  <tbody>\n    <tr>\n      <th>0</th>\n      <td>E0</td>\n      <td>2021-08-13</td>\n      <td>20:00</td>\n      <td>Brentford</td>\n      <td>Arsenal</td>\n      <td>2</td>\n      <td>0</td>\n      <td>H</td>\n      <td>1</td>\n      <td>0</td>\n      <td>...</td>\n      <td>2.17</td>\n      <td>1.80</td>\n      <td>2.09</td>\n      <td>73</td>\n      <td>79</td>\n      <td>-6</td>\n      <td>Brentford2021-08-13</td>\n      <td>Arsenal2021-08-13</td>\n      <td>1</td>\n      <td>1</td>\n    </tr>\n    <tr>\n      <th>1</th>\n      <td>E0</td>\n      <td>2021-08-14</td>\n      <td>12:30</td>\n      <td>Manchester Utd</td>\n      <td>Leeds United</td>\n      <td>5</td>\n      <td>1</td>\n      <td>H</td>\n      <td>1</td>\n      <td>0</td>\n      <td>...</td>\n      <td>1.93</td>\n      <td>2.10</td>\n      <td>1.79</td>\n      <td>83</td>\n      <td>76</td>\n      <td>7</td>\n      <td>Manchester Utd2021-08-14</td>\n      <td>Leeds United2021-08-14</td>\n      <td>1</td>\n      <td>1</td>\n    </tr>\n    <tr>\n      <th>2</th>\n      <td>E0</td>\n      <td>2021-08-14</td>\n      <td>15:00</td>\n      <td>Burnley</td>\n      <td>Brighton</td>\n      <td>1</td>\n      <td>2</td>\n      <td>A</td>\n      <td>1</td>\n      <td>0</td>\n      <td>...</td>\n      <td>2.19</td>\n      <td>1.79</td>\n      <td>2.12</td>\n      <td>76</td>\n      <td>75</td>\n      <td>1</td>\n      <td>Burnley2021-08-14</td>\n      <td>Brighton2021-08-14</td>\n      <td>1</td>\n      <td>1</td>\n    </tr>\n    <tr>\n      <th>3</th>\n      <td>E0</td>\n      <td>2021-08-14</td>\n      <td>15:00</td>\n      <td>Chelsea</td>\n      <td>Crystal Palace</td>\n      <td>3</td>\n      <td>0</td>\n      <td>H</td>\n      <td>2</td>\n      <td>0</td>\n      <td>...</td>\n      <td>1.93</td>\n      <td>2.06</td>\n      <td>1.82</td>\n      <td>83</td>\n      <td>76</td>\n      <td>7</td>\n      <td>Chelsea2021-08-14</td>\n      <td>Crystal Palace2021-08-14</td>\n      <td>1</td>\n      <td>1</td>\n    </tr>\n    <tr>\n      <th>4</th>\n      <td>E0</td>\n      <td>2021-08-14</td>\n      <td>15:00</td>\n      <td>Everton</td>\n      <td>Southampton</td>\n      <td>3</td>\n      <td>1</td>\n      <td>H</td>\n      <td>0</td>\n      <td>1</td>\n      <td>...</td>\n      <td>1.90</td>\n      <td>2.03</td>\n      <td>1.86</td>\n      <td>79</td>\n      <td>76</td>\n      <td>3</td>\n      <td>Everton2021-08-14</td>\n      <td>Southampton2021-08-14</td>\n      <td>1</td>\n      <td>1</td>\n    </tr>\n    <tr>\n      <th>...</th>\n      <td>...</td>\n      <td>...</td>\n      <td>...</td>\n      <td>...</td>\n      <td>...</td>\n      <td>...</td>\n      <td>...</td>\n      <td>...</td>\n      <td>...</td>\n      <td>...</td>\n      <td>...</td>\n      <td>...</td>\n      <td>...</td>\n      <td>...</td>\n      <td>...</td>\n      <td>...</td>\n      <td>...</td>\n      <td>...</td>\n      <td>...</td>\n      <td>...</td>\n      <td>...</td>\n    </tr>\n    <tr>\n      <th>375</th>\n      <td>E0</td>\n      <td>2022-05-22</td>\n      <td>16:00</td>\n      <td>Crystal Palace</td>\n      <td>Manchester Utd</td>\n      <td>1</td>\n      <td>0</td>\n      <td>H</td>\n      <td>1</td>\n      <td>0</td>\n      <td>...</td>\n      <td>2.25</td>\n      <td>1.74</td>\n      <td>2.16</td>\n      <td>76</td>\n      <td>83</td>\n      <td>-7</td>\n      <td>Crystal Palace2022-05-22</td>\n      <td>Manchester Utd2022-05-22</td>\n      <td>38</td>\n      <td>38</td>\n    </tr>\n    <tr>\n      <th>376</th>\n      <td>E0</td>\n      <td>2022-05-22</td>\n      <td>16:00</td>\n      <td>Leicester City</td>\n      <td>Southampton</td>\n      <td>4</td>\n      <td>1</td>\n      <td>H</td>\n      <td>0</td>\n      <td>0</td>\n      <td>...</td>\n      <td>2.26</td>\n      <td>1.87</td>\n      <td>2.01</td>\n      <td>80</td>\n      <td>76</td>\n      <td>4</td>\n      <td>Leicester City2022-05-22</td>\n      <td>Southampton2022-05-22</td>\n      <td>38</td>\n      <td>38</td>\n    </tr>\n    <tr>\n      <th>377</th>\n      <td>E0</td>\n      <td>2022-05-22</td>\n      <td>16:00</td>\n      <td>Liverpool</td>\n      <td>Wolves</td>\n      <td>3</td>\n      <td>1</td>\n      <td>H</td>\n      <td>1</td>\n      <td>1</td>\n      <td>...</td>\n      <td>1.99</td>\n      <td>2.07</td>\n      <td>1.80</td>\n      <td>84</td>\n      <td>78</td>\n      <td>6</td>\n      <td>Liverpool2022-05-22</td>\n      <td>Wolves2022-05-22</td>\n      <td>38</td>\n      <td>38</td>\n    </tr>\n    <tr>\n      <th>378</th>\n      <td>E0</td>\n      <td>2022-05-22</td>\n      <td>16:00</td>\n      <td>Manchester City</td>\n      <td>Aston Villa</td>\n      <td>3</td>\n      <td>2</td>\n      <td>H</td>\n      <td>0</td>\n      <td>1</td>\n      <td>...</td>\n      <td>2.03</td>\n      <td>2.01</td>\n      <td>1.87</td>\n      <td>85</td>\n      <td>78</td>\n      <td>7</td>\n      <td>Manchester City2022-05-22</td>\n      <td>Aston Villa2022-05-22</td>\n      <td>38</td>\n      <td>38</td>\n    </tr>\n    <tr>\n      <th>379</th>\n      <td>E0</td>\n      <td>2022-05-22</td>\n      <td>16:00</td>\n      <td>Norwich City</td>\n      <td>Tottenham</td>\n      <td>0</td>\n      <td>5</td>\n      <td>A</td>\n      <td>0</td>\n      <td>2</td>\n      <td>...</td>\n      <td>1.98</td>\n      <td>1.99</td>\n      <td>1.89</td>\n      <td>74</td>\n      <td>82</td>\n      <td>-8</td>\n      <td>Norwich City2022-05-22</td>\n      <td>Tottenham2022-05-22</td>\n      <td>38</td>\n      <td>38</td>\n    </tr>\n  </tbody>\n</table>\n<p>380 rows × 113 columns</p>\n</div>"
     },
     "execution_count": 3,
     "metadata": {},
     "output_type": "execute_result"
    }
   ],
   "source": [
    "#generate gameweeks dependening on the order of the games\n",
    "def generate_gameweeks(df):\n",
    "    teams = df.HomeTeam.unique().tolist()\n",
    "    df['Wk_h'] = 0\n",
    "    df['Wk_a'] = 0\n",
    "    for team in teams:\n",
    "        count = 1\n",
    "        for index, row in df.iterrows():\n",
    "            if row['HomeTeam'] == team:\n",
    "                df.at[index, 'Wk_h'] = count\n",
    "                count = count + 1\n",
    "            elif row['AwayTeam'] == team:\n",
    "                df.at[index, 'Wk_a'] = count\n",
    "                count = count + 1\n",
    "    return df\n",
    "PL19_20_fixtures = generate_gameweeks(PL19_20_fixtures)\n",
    "PL20_21_fixtures = generate_gameweeks(PL20_21_fixtures)\n",
    "PL21_22_fixtures = generate_gameweeks(PL21_22_fixtures)\n",
    "\n",
    "PL21_22_fixtures"
   ],
   "metadata": {
    "collapsed": false,
    "pycharm": {
     "name": "#%%\n"
    }
   }
  },
  {
   "cell_type": "code",
   "execution_count": 4,
   "outputs": [
    {
     "data": {
      "text/plain": "    Div        Date   Time         HomeTeam        AwayTeam  FTHG  FTAG FTR  \\\n0    E0  2021-08-13  20:00        Brentford         Arsenal     2     0   H   \n1    E0  2021-08-14  12:30   Manchester Utd    Leeds United     5     1   H   \n2    E0  2021-08-14  15:00          Burnley        Brighton     1     2   A   \n3    E0  2021-08-14  15:00          Chelsea  Crystal Palace     3     0   H   \n4    E0  2021-08-14  15:00          Everton     Southampton     3     1   H   \n..   ..         ...    ...              ...             ...   ...   ...  ..   \n375  E0  2022-05-22  16:00   Crystal Palace  Manchester Utd     1     0   H   \n376  E0  2022-05-22  16:00   Leicester City     Southampton     4     1   H   \n377  E0  2022-05-22  16:00        Liverpool          Wolves     3     1   H   \n378  E0  2022-05-22  16:00  Manchester City     Aston Villa     3     2   H   \n379  E0  2022-05-22  16:00     Norwich City       Tottenham     0     5   A   \n\n     HTHG  HTAG  ... Rating_Away Rating difference               game_home_ID  \\\n0       1     0  ...          79                -6        Brentford2021-08-13   \n1       1     0  ...          76                 7   Manchester Utd2021-08-14   \n2       1     0  ...          75                 1          Burnley2021-08-14   \n3       2     0  ...          76                 7          Chelsea2021-08-14   \n4       0     1  ...          76                 3          Everton2021-08-14   \n..    ...   ...  ...         ...               ...                        ...   \n375     1     0  ...          83                -7   Crystal Palace2022-05-22   \n376     0     0  ...          76                 4   Leicester City2022-05-22   \n377     1     1  ...          78                 6        Liverpool2022-05-22   \n378     0     1  ...          78                 7  Manchester City2022-05-22   \n379     0     2  ...          82                -8     Norwich City2022-05-22   \n\n                 game_away_ID  Wk_h  Wk_a  Elo_h_after  Elo_a_after  \\\n0           Arsenal2021-08-13     1     1       1515.0       1485.0   \n1      Leeds United2021-08-14     1     1          NaN          NaN   \n2          Brighton2021-08-14     1     1          NaN          NaN   \n3    Crystal Palace2021-08-14     1     1          NaN          NaN   \n4       Southampton2021-08-14     1     1          NaN          NaN   \n..                        ...   ...   ...          ...          ...   \n375  Manchester Utd2022-05-22    38    38          NaN          NaN   \n376     Southampton2022-05-22    38    38          NaN          NaN   \n377          Wolves2022-05-22    38    38          NaN          NaN   \n378     Aston Villa2022-05-22    38    38          NaN          NaN   \n379       Tottenham2022-05-22    38    38          NaN          NaN   \n\n     Elo_h_before  Elo_a_before  \n0          1500.0        1500.0  \n1             NaN           NaN  \n2             NaN           NaN  \n3             NaN           NaN  \n4             NaN           NaN  \n..            ...           ...  \n375           NaN           NaN  \n376           NaN           NaN  \n377           NaN           NaN  \n378           NaN           NaN  \n379           NaN           NaN  \n\n[380 rows x 117 columns]",
      "text/html": "<div>\n<style scoped>\n    .dataframe tbody tr th:only-of-type {\n        vertical-align: middle;\n    }\n\n    .dataframe tbody tr th {\n        vertical-align: top;\n    }\n\n    .dataframe thead th {\n        text-align: right;\n    }\n</style>\n<table border=\"1\" class=\"dataframe\">\n  <thead>\n    <tr style=\"text-align: right;\">\n      <th></th>\n      <th>Div</th>\n      <th>Date</th>\n      <th>Time</th>\n      <th>HomeTeam</th>\n      <th>AwayTeam</th>\n      <th>FTHG</th>\n      <th>FTAG</th>\n      <th>FTR</th>\n      <th>HTHG</th>\n      <th>HTAG</th>\n      <th>...</th>\n      <th>Rating_Away</th>\n      <th>Rating difference</th>\n      <th>game_home_ID</th>\n      <th>game_away_ID</th>\n      <th>Wk_h</th>\n      <th>Wk_a</th>\n      <th>Elo_h_after</th>\n      <th>Elo_a_after</th>\n      <th>Elo_h_before</th>\n      <th>Elo_a_before</th>\n    </tr>\n  </thead>\n  <tbody>\n    <tr>\n      <th>0</th>\n      <td>E0</td>\n      <td>2021-08-13</td>\n      <td>20:00</td>\n      <td>Brentford</td>\n      <td>Arsenal</td>\n      <td>2</td>\n      <td>0</td>\n      <td>H</td>\n      <td>1</td>\n      <td>0</td>\n      <td>...</td>\n      <td>79</td>\n      <td>-6</td>\n      <td>Brentford2021-08-13</td>\n      <td>Arsenal2021-08-13</td>\n      <td>1</td>\n      <td>1</td>\n      <td>1515.0</td>\n      <td>1485.0</td>\n      <td>1500.0</td>\n      <td>1500.0</td>\n    </tr>\n    <tr>\n      <th>1</th>\n      <td>E0</td>\n      <td>2021-08-14</td>\n      <td>12:30</td>\n      <td>Manchester Utd</td>\n      <td>Leeds United</td>\n      <td>5</td>\n      <td>1</td>\n      <td>H</td>\n      <td>1</td>\n      <td>0</td>\n      <td>...</td>\n      <td>76</td>\n      <td>7</td>\n      <td>Manchester Utd2021-08-14</td>\n      <td>Leeds United2021-08-14</td>\n      <td>1</td>\n      <td>1</td>\n      <td>NaN</td>\n      <td>NaN</td>\n      <td>NaN</td>\n      <td>NaN</td>\n    </tr>\n    <tr>\n      <th>2</th>\n      <td>E0</td>\n      <td>2021-08-14</td>\n      <td>15:00</td>\n      <td>Burnley</td>\n      <td>Brighton</td>\n      <td>1</td>\n      <td>2</td>\n      <td>A</td>\n      <td>1</td>\n      <td>0</td>\n      <td>...</td>\n      <td>75</td>\n      <td>1</td>\n      <td>Burnley2021-08-14</td>\n      <td>Brighton2021-08-14</td>\n      <td>1</td>\n      <td>1</td>\n      <td>NaN</td>\n      <td>NaN</td>\n      <td>NaN</td>\n      <td>NaN</td>\n    </tr>\n    <tr>\n      <th>3</th>\n      <td>E0</td>\n      <td>2021-08-14</td>\n      <td>15:00</td>\n      <td>Chelsea</td>\n      <td>Crystal Palace</td>\n      <td>3</td>\n      <td>0</td>\n      <td>H</td>\n      <td>2</td>\n      <td>0</td>\n      <td>...</td>\n      <td>76</td>\n      <td>7</td>\n      <td>Chelsea2021-08-14</td>\n      <td>Crystal Palace2021-08-14</td>\n      <td>1</td>\n      <td>1</td>\n      <td>NaN</td>\n      <td>NaN</td>\n      <td>NaN</td>\n      <td>NaN</td>\n    </tr>\n    <tr>\n      <th>4</th>\n      <td>E0</td>\n      <td>2021-08-14</td>\n      <td>15:00</td>\n      <td>Everton</td>\n      <td>Southampton</td>\n      <td>3</td>\n      <td>1</td>\n      <td>H</td>\n      <td>0</td>\n      <td>1</td>\n      <td>...</td>\n      <td>76</td>\n      <td>3</td>\n      <td>Everton2021-08-14</td>\n      <td>Southampton2021-08-14</td>\n      <td>1</td>\n      <td>1</td>\n      <td>NaN</td>\n      <td>NaN</td>\n      <td>NaN</td>\n      <td>NaN</td>\n    </tr>\n    <tr>\n      <th>...</th>\n      <td>...</td>\n      <td>...</td>\n      <td>...</td>\n      <td>...</td>\n      <td>...</td>\n      <td>...</td>\n      <td>...</td>\n      <td>...</td>\n      <td>...</td>\n      <td>...</td>\n      <td>...</td>\n      <td>...</td>\n      <td>...</td>\n      <td>...</td>\n      <td>...</td>\n      <td>...</td>\n      <td>...</td>\n      <td>...</td>\n      <td>...</td>\n      <td>...</td>\n      <td>...</td>\n    </tr>\n    <tr>\n      <th>375</th>\n      <td>E0</td>\n      <td>2022-05-22</td>\n      <td>16:00</td>\n      <td>Crystal Palace</td>\n      <td>Manchester Utd</td>\n      <td>1</td>\n      <td>0</td>\n      <td>H</td>\n      <td>1</td>\n      <td>0</td>\n      <td>...</td>\n      <td>83</td>\n      <td>-7</td>\n      <td>Crystal Palace2022-05-22</td>\n      <td>Manchester Utd2022-05-22</td>\n      <td>38</td>\n      <td>38</td>\n      <td>NaN</td>\n      <td>NaN</td>\n      <td>NaN</td>\n      <td>NaN</td>\n    </tr>\n    <tr>\n      <th>376</th>\n      <td>E0</td>\n      <td>2022-05-22</td>\n      <td>16:00</td>\n      <td>Leicester City</td>\n      <td>Southampton</td>\n      <td>4</td>\n      <td>1</td>\n      <td>H</td>\n      <td>0</td>\n      <td>0</td>\n      <td>...</td>\n      <td>76</td>\n      <td>4</td>\n      <td>Leicester City2022-05-22</td>\n      <td>Southampton2022-05-22</td>\n      <td>38</td>\n      <td>38</td>\n      <td>NaN</td>\n      <td>NaN</td>\n      <td>NaN</td>\n      <td>NaN</td>\n    </tr>\n    <tr>\n      <th>377</th>\n      <td>E0</td>\n      <td>2022-05-22</td>\n      <td>16:00</td>\n      <td>Liverpool</td>\n      <td>Wolves</td>\n      <td>3</td>\n      <td>1</td>\n      <td>H</td>\n      <td>1</td>\n      <td>1</td>\n      <td>...</td>\n      <td>78</td>\n      <td>6</td>\n      <td>Liverpool2022-05-22</td>\n      <td>Wolves2022-05-22</td>\n      <td>38</td>\n      <td>38</td>\n      <td>NaN</td>\n      <td>NaN</td>\n      <td>NaN</td>\n      <td>NaN</td>\n    </tr>\n    <tr>\n      <th>378</th>\n      <td>E0</td>\n      <td>2022-05-22</td>\n      <td>16:00</td>\n      <td>Manchester City</td>\n      <td>Aston Villa</td>\n      <td>3</td>\n      <td>2</td>\n      <td>H</td>\n      <td>0</td>\n      <td>1</td>\n      <td>...</td>\n      <td>78</td>\n      <td>7</td>\n      <td>Manchester City2022-05-22</td>\n      <td>Aston Villa2022-05-22</td>\n      <td>38</td>\n      <td>38</td>\n      <td>NaN</td>\n      <td>NaN</td>\n      <td>NaN</td>\n      <td>NaN</td>\n    </tr>\n    <tr>\n      <th>379</th>\n      <td>E0</td>\n      <td>2022-05-22</td>\n      <td>16:00</td>\n      <td>Norwich City</td>\n      <td>Tottenham</td>\n      <td>0</td>\n      <td>5</td>\n      <td>A</td>\n      <td>0</td>\n      <td>2</td>\n      <td>...</td>\n      <td>82</td>\n      <td>-8</td>\n      <td>Norwich City2022-05-22</td>\n      <td>Tottenham2022-05-22</td>\n      <td>38</td>\n      <td>38</td>\n      <td>NaN</td>\n      <td>NaN</td>\n      <td>NaN</td>\n      <td>NaN</td>\n    </tr>\n  </tbody>\n</table>\n<p>380 rows × 117 columns</p>\n</div>"
     },
     "execution_count": 4,
     "metadata": {},
     "output_type": "execute_result"
    }
   ],
   "source": [
    "#functions for feature Engineering\n",
    "\n",
    "#get points for one game\n",
    "def get_points(team, wk, df):\n",
    "    for index, row in df.iterrows():\n",
    "        if row['Wk_h'] == wk and row['HomeTeam'] == team:\n",
    "            if row['FTR'] == 'H':\n",
    "                return 3\n",
    "            if row['FTR'] == 'D':\n",
    "                return 1\n",
    "            else:\n",
    "                return 0\n",
    "        if row['Wk_a'] == wk and row['AwayTeam'] == team:\n",
    "            if row['FTR'] == 'A':\n",
    "                return 3\n",
    "            if row['FTR'] == 'D':\n",
    "                return 1\n",
    "            else:\n",
    "                return 0\n",
    "\n",
    "#get values for statistics (shots, corners, goals)\n",
    "def get_stats(team, wk, stat, df):\n",
    "    for index, row in df.iterrows():\n",
    "        #print(row[['HomeTeam','Wk']])\n",
    "        if row['Wk_h'] == wk and row['HomeTeam'] == team:\n",
    "            if stat == 'goals':\n",
    "                return row['FTHG']\n",
    "            elif stat == 'shots':\n",
    "                return row['HST']\n",
    "            elif stat == 'corners':\n",
    "                return row['HC']\n",
    "        elif row['Wk_a'] == wk and row['AwayTeam'] == team:\n",
    "            if stat == 'goals':\n",
    "                return row['FTAG']\n",
    "            elif stat == 'shots':\n",
    "                return row['AST']\n",
    "            elif stat == 'corners':\n",
    "                return row['AC']\n",
    "            return row[stat]\n",
    "\n",
    "#sum points over a season\n",
    "def get_points_season(team, fr, to, df):\n",
    "    test = []\n",
    "    out = 0\n",
    "    df2 = 0\n",
    "    if fr == to: return 0\n",
    "    for i in range(fr, to):\n",
    "        out = out + get_points(team, i, df)\n",
    "        test.append(out)\n",
    "        df3 = pd.Series(test)\n",
    "        df2 = df3.rolling(len(df3)).mean()\n",
    "        df2 = df2[len(df3) - 1]\n",
    "    return df2\n",
    "\n",
    "#sum stats values over a season\n",
    "def get_stats_season(team, fr, to, category, df):\n",
    "    test = []\n",
    "    out = 0\n",
    "    df2 = 0\n",
    "    if fr == to: return 0\n",
    "    for i in range(fr, to):\n",
    "        out = out + get_stats(team, i, category, df)\n",
    "        test.append(out)\n",
    "        df3 = pd.Series(test)\n",
    "        df2 = df3.rolling(len(df3)).mean()\n",
    "        df2 = df2[len(df3) - 1]\n",
    "        #df2 = df.ewm(alpha=0.4).mean()[len(df) - 1]\n",
    "    return df2\n",
    "\n",
    "#get ewm over a season\n",
    "def get_ewm_season(team, fr, to, df):\n",
    "    test = []\n",
    "    out = 0\n",
    "    if fr == to: return 0\n",
    "    for i in range(fr, to):\n",
    "        out = out + get_points(team, i, df)\n",
    "        test.append(out)\n",
    "        df3 = pd.Series(test)\n",
    "        df2 = df3.ewm(alpha=0.9).mean()[len(df3) - 1]\n",
    "    return df2\n",
    "\n",
    "#append form to df\n",
    "def append_form(timespan, df):\n",
    "    formH = []\n",
    "    formA = []\n",
    "    for index, row in df.iterrows():\n",
    "        wk_h = row['Wk_h']\n",
    "        wk_a = row['Wk_a']\n",
    "        teamH = row['HomeTeam']\n",
    "        teamA = row['AwayTeam']\n",
    "        if int(wk_h) - timespan < 1:\n",
    "            pointsH = get_points_season(teamH, 1, int(wk_h) - 1, df)\n",
    "        else:\n",
    "            pointsH = get_points_season(teamH, int(wk_h) - timespan, int(wk_h) - 1, df=df)\n",
    "        if int(wk_a) - timespan < 1:\n",
    "            pointsA = get_points_season(teamA, 1, int(wk_a) - 1, df)\n",
    "        else:\n",
    "            pointsA = get_points_season(teamA, int(wk_a) - timespan, int(wk_a) - 1, df=df)\n",
    "        formH.append(pointsH)\n",
    "        formA.append(pointsA)\n",
    "    df['formH'] = formH\n",
    "    df['formA'] = formA\n",
    "    return df\n",
    "\n",
    "#append ewm to df\n",
    "def append_ewm(timespan, df):\n",
    "    formH = []\n",
    "    formA = []\n",
    "    for index, row in df.iterrows():\n",
    "        wk_h = row['Wk_h']\n",
    "        wk_a = row['Wk_a']\n",
    "        teamH = row['HomeTeam']\n",
    "        teamA = row['AwayTeam']\n",
    "        if int(wk_h) - timespan < 1:\n",
    "            pointsH = get_ewm_season(teamH, 1, int(wk_h), df)\n",
    "        else:\n",
    "            pointsH = get_ewm_season(teamH, int(wk_h) - timespan, int(wk_h) - 1, df)\n",
    "        if int(wk_a) - timespan < 1:\n",
    "            pointsA = get_ewm_season(teamA, 1, int(wk_a), df)\n",
    "        else:\n",
    "            pointsA = get_ewm_season(teamA, int(wk_a) - timespan, int(wk_a) - 1, df)\n",
    "        formH.append(pointsH)\n",
    "        formA.append(pointsA)\n",
    "    df['ewmH'] = formH\n",
    "    df['ewmA'] = formA\n",
    "    return df\n",
    "\n",
    "#append stats to df\n",
    "def append_stats(timespan, df):\n",
    "    goals_h = []\n",
    "    goals_A = []\n",
    "    shots_H = []\n",
    "    shots_A = []\n",
    "    corners_H = []\n",
    "    corners_A = []\n",
    "\n",
    "    for index, row in df.iterrows():\n",
    "        wk_h = row['Wk_h']\n",
    "        wk_a = row['Wk_a']\n",
    "        teamH = row['HomeTeam']\n",
    "        teamA = row['AwayTeam']\n",
    "        if int(wk_h) - timespan < 1:\n",
    "            goalsH = get_stats_season(teamH, 1, int(wk_h) - 1, 'goals', df)\n",
    "            shotsH = get_stats_season(teamH, 1, int(wk_h) - 1, 'shots', df)\n",
    "            cornersH = get_stats_season(teamH, 1, int(wk_h) - 1, 'corners', df)\n",
    "        else:\n",
    "            goalsH = get_stats_season(teamH, int(wk_h) - timespan, int(wk_h) - 1, 'goals', df)\n",
    "            shotsH = get_stats_season(teamH, int(wk_h) - timespan, int(wk_h) - 1, 'shots', df)\n",
    "            cornersH = get_stats_season(teamH, int(wk_h) - timespan, int(wk_h) - 1, 'corners', df)\n",
    "\n",
    "        if int(wk_a) - timespan < 1:\n",
    "            goalsA = get_stats_season(teamA, 1, int(wk_a) - 1, 'goals', df)\n",
    "            shotsA = get_stats_season(teamA, 1, int(wk_a) - 1, 'shots', df)\n",
    "            cornersA = get_stats_season(teamA, 1, int(wk_a) - 1, 'corners', df)\n",
    "        else:\n",
    "            goalsA = get_stats_season(teamA, int(wk_a) - timespan, int(wk_a) - 1, 'goals', df)\n",
    "            shotsA = get_stats_season(teamA, int(wk_a) - timespan, int(wk_a) - 1, 'shots', df)\n",
    "            cornersA = get_stats_season(teamA, int(wk_a) - timespan, int(wk_a) - 1, 'corners', df)\n",
    "\n",
    "        goals_h.append(goalsH)\n",
    "        goals_A.append(goalsA)\n",
    "        shots_H.append(shotsH)\n",
    "        shots_A.append(shotsA)\n",
    "        corners_H.append(cornersH)\n",
    "        corners_A.append(cornersA)\n",
    "    df['goalsH'] = goals_h\n",
    "    df['goalsA'] = goals_A\n",
    "    df['shotsH'] = shots_H\n",
    "    df['shotsA'] = shots_A\n",
    "    df['cornersH'] = corners_H\n",
    "    df['cornersA'] = corners_A\n",
    "    return df\n",
    "\n",
    "\n",
    "#Calculate Elo Rating\n",
    "def expected_result(loc, aw):\n",
    "    dr = loc - aw\n",
    "    we = (1 / (10 ** (-dr / 400) + 1))\n",
    "    return [np.round(we, 3), 1 - np.round(we, 3)]\n",
    "\n",
    "def actual_result(loc, aw):\n",
    "    if loc < aw:\n",
    "        wa = 1\n",
    "        wl = 0\n",
    "    elif loc > aw:\n",
    "        wa = 0\n",
    "        wl = 1\n",
    "    elif loc == aw:\n",
    "        wa = 0.5\n",
    "        wl = 0.5\n",
    "    return [wl, wa]\n",
    "\n",
    "\n",
    "def calculate_elo(elo_l, elo_v, local_goals, away_goals, k_value):\n",
    "    k = k_value\n",
    "    wl, wv = actual_result(local_goals, away_goals)\n",
    "    wel, wev = expected_result(elo_l, elo_v)\n",
    "\n",
    "    elo_ln = elo_l + k * (wl - wel)\n",
    "    elo_vn = elo_v + k * (wv - wev)\n",
    "\n",
    "    return elo_ln, elo_vn\n",
    "\n",
    "def calculate_elo_season(df):\n",
    "    current_elo = {}\n",
    "    for idx, row in df.iterrows():\n",
    "\n",
    "        local = row['HomeTeam']\n",
    "        away = row['AwayTeam']\n",
    "        local_goals = row['FTHG']\n",
    "        away_goals = row['FTAG']\n",
    "        #tournament = row['tournament']\n",
    "\n",
    "        if local not in current_elo.keys():\n",
    "            current_elo[local] = 1500\n",
    "\n",
    "        if away not in current_elo.keys():\n",
    "            current_elo[away] = 1500\n",
    "\n",
    "        elo_l = current_elo[local]\n",
    "        elo_v = current_elo[away]\n",
    "        elo_ln, elo_vn = calculate_elo(elo_l, elo_v, local_goals, away_goals, 30)\n",
    "\n",
    "        current_elo[local] = elo_ln\n",
    "        current_elo[away] = elo_vn\n",
    "\n",
    "        df.loc[idx, 'Elo_h_after'] = elo_ln\n",
    "        df.loc[idx, 'Elo_a_after'] = elo_vn\n",
    "        df.loc[idx, 'Elo_h_before'] = elo_l\n",
    "        df.loc[idx, 'Elo_a_before'] = elo_v\n",
    "        return df\n",
    "calculate_elo_season(PL21_22_fixtures)"
   ],
   "metadata": {
    "collapsed": false,
    "pycharm": {
     "name": "#%%\n"
    }
   }
  },
  {
   "cell_type": "code",
   "execution_count": 5,
   "outputs": [
    {
     "data": {
      "text/plain": "    Div        Date   Time         HomeTeam        AwayTeam  FTHG  FTAG FTR  \\\n0    E0  2021-08-13  20:00        Brentford         Arsenal     2     0   H   \n1    E0  2021-08-14  12:30   Manchester Utd    Leeds United     5     1   H   \n2    E0  2021-08-14  15:00          Burnley        Brighton     1     2   A   \n3    E0  2021-08-14  15:00          Chelsea  Crystal Palace     3     0   H   \n4    E0  2021-08-14  15:00          Everton     Southampton     3     1   H   \n..   ..         ...    ...              ...             ...   ...   ...  ..   \n375  E0  2022-05-22  16:00   Crystal Palace  Manchester Utd     1     0   H   \n376  E0  2022-05-22  16:00   Leicester City     Southampton     4     1   H   \n377  E0  2022-05-22  16:00        Liverpool          Wolves     3     1   H   \n378  E0  2022-05-22  16:00  Manchester City     Aston Villa     3     2   H   \n379  E0  2022-05-22  16:00     Norwich City       Tottenham     0     5   A   \n\n     HTHG  HTAG  ... Rating_Away Rating difference               game_home_ID  \\\n0       1     0  ...          79                -6        Brentford2021-08-13   \n1       1     0  ...          76                 7   Manchester Utd2021-08-14   \n2       1     0  ...          75                 1          Burnley2021-08-14   \n3       2     0  ...          76                 7          Chelsea2021-08-14   \n4       0     1  ...          76                 3          Everton2021-08-14   \n..    ...   ...  ...         ...               ...                        ...   \n375     1     0  ...          83                -7   Crystal Palace2022-05-22   \n376     0     0  ...          76                 4   Leicester City2022-05-22   \n377     1     1  ...          78                 6        Liverpool2022-05-22   \n378     0     1  ...          78                 7  Manchester City2022-05-22   \n379     0     2  ...          82                -8     Norwich City2022-05-22   \n\n                 game_away_ID  Wk_h  Wk_a  Elo_h_after  Elo_a_after  \\\n0           Arsenal2021-08-13     1     1       1515.0       1485.0   \n1      Leeds United2021-08-14     1     1          NaN          NaN   \n2          Brighton2021-08-14     1     1          NaN          NaN   \n3    Crystal Palace2021-08-14     1     1          NaN          NaN   \n4       Southampton2021-08-14     1     1          NaN          NaN   \n..                        ...   ...   ...          ...          ...   \n375  Manchester Utd2022-05-22    38    38          NaN          NaN   \n376     Southampton2022-05-22    38    38          NaN          NaN   \n377          Wolves2022-05-22    38    38          NaN          NaN   \n378     Aston Villa2022-05-22    38    38          NaN          NaN   \n379       Tottenham2022-05-22    38    38          NaN          NaN   \n\n     Elo_h_before  Elo_a_before  \n0          1500.0        1500.0  \n1             NaN           NaN  \n2             NaN           NaN  \n3             NaN           NaN  \n4             NaN           NaN  \n..            ...           ...  \n375           NaN           NaN  \n376           NaN           NaN  \n377           NaN           NaN  \n378           NaN           NaN  \n379           NaN           NaN  \n\n[380 rows x 117 columns]",
      "text/html": "<div>\n<style scoped>\n    .dataframe tbody tr th:only-of-type {\n        vertical-align: middle;\n    }\n\n    .dataframe tbody tr th {\n        vertical-align: top;\n    }\n\n    .dataframe thead th {\n        text-align: right;\n    }\n</style>\n<table border=\"1\" class=\"dataframe\">\n  <thead>\n    <tr style=\"text-align: right;\">\n      <th></th>\n      <th>Div</th>\n      <th>Date</th>\n      <th>Time</th>\n      <th>HomeTeam</th>\n      <th>AwayTeam</th>\n      <th>FTHG</th>\n      <th>FTAG</th>\n      <th>FTR</th>\n      <th>HTHG</th>\n      <th>HTAG</th>\n      <th>...</th>\n      <th>Rating_Away</th>\n      <th>Rating difference</th>\n      <th>game_home_ID</th>\n      <th>game_away_ID</th>\n      <th>Wk_h</th>\n      <th>Wk_a</th>\n      <th>Elo_h_after</th>\n      <th>Elo_a_after</th>\n      <th>Elo_h_before</th>\n      <th>Elo_a_before</th>\n    </tr>\n  </thead>\n  <tbody>\n    <tr>\n      <th>0</th>\n      <td>E0</td>\n      <td>2021-08-13</td>\n      <td>20:00</td>\n      <td>Brentford</td>\n      <td>Arsenal</td>\n      <td>2</td>\n      <td>0</td>\n      <td>H</td>\n      <td>1</td>\n      <td>0</td>\n      <td>...</td>\n      <td>79</td>\n      <td>-6</td>\n      <td>Brentford2021-08-13</td>\n      <td>Arsenal2021-08-13</td>\n      <td>1</td>\n      <td>1</td>\n      <td>1515.0</td>\n      <td>1485.0</td>\n      <td>1500.0</td>\n      <td>1500.0</td>\n    </tr>\n    <tr>\n      <th>1</th>\n      <td>E0</td>\n      <td>2021-08-14</td>\n      <td>12:30</td>\n      <td>Manchester Utd</td>\n      <td>Leeds United</td>\n      <td>5</td>\n      <td>1</td>\n      <td>H</td>\n      <td>1</td>\n      <td>0</td>\n      <td>...</td>\n      <td>76</td>\n      <td>7</td>\n      <td>Manchester Utd2021-08-14</td>\n      <td>Leeds United2021-08-14</td>\n      <td>1</td>\n      <td>1</td>\n      <td>NaN</td>\n      <td>NaN</td>\n      <td>NaN</td>\n      <td>NaN</td>\n    </tr>\n    <tr>\n      <th>2</th>\n      <td>E0</td>\n      <td>2021-08-14</td>\n      <td>15:00</td>\n      <td>Burnley</td>\n      <td>Brighton</td>\n      <td>1</td>\n      <td>2</td>\n      <td>A</td>\n      <td>1</td>\n      <td>0</td>\n      <td>...</td>\n      <td>75</td>\n      <td>1</td>\n      <td>Burnley2021-08-14</td>\n      <td>Brighton2021-08-14</td>\n      <td>1</td>\n      <td>1</td>\n      <td>NaN</td>\n      <td>NaN</td>\n      <td>NaN</td>\n      <td>NaN</td>\n    </tr>\n    <tr>\n      <th>3</th>\n      <td>E0</td>\n      <td>2021-08-14</td>\n      <td>15:00</td>\n      <td>Chelsea</td>\n      <td>Crystal Palace</td>\n      <td>3</td>\n      <td>0</td>\n      <td>H</td>\n      <td>2</td>\n      <td>0</td>\n      <td>...</td>\n      <td>76</td>\n      <td>7</td>\n      <td>Chelsea2021-08-14</td>\n      <td>Crystal Palace2021-08-14</td>\n      <td>1</td>\n      <td>1</td>\n      <td>NaN</td>\n      <td>NaN</td>\n      <td>NaN</td>\n      <td>NaN</td>\n    </tr>\n    <tr>\n      <th>4</th>\n      <td>E0</td>\n      <td>2021-08-14</td>\n      <td>15:00</td>\n      <td>Everton</td>\n      <td>Southampton</td>\n      <td>3</td>\n      <td>1</td>\n      <td>H</td>\n      <td>0</td>\n      <td>1</td>\n      <td>...</td>\n      <td>76</td>\n      <td>3</td>\n      <td>Everton2021-08-14</td>\n      <td>Southampton2021-08-14</td>\n      <td>1</td>\n      <td>1</td>\n      <td>NaN</td>\n      <td>NaN</td>\n      <td>NaN</td>\n      <td>NaN</td>\n    </tr>\n    <tr>\n      <th>...</th>\n      <td>...</td>\n      <td>...</td>\n      <td>...</td>\n      <td>...</td>\n      <td>...</td>\n      <td>...</td>\n      <td>...</td>\n      <td>...</td>\n      <td>...</td>\n      <td>...</td>\n      <td>...</td>\n      <td>...</td>\n      <td>...</td>\n      <td>...</td>\n      <td>...</td>\n      <td>...</td>\n      <td>...</td>\n      <td>...</td>\n      <td>...</td>\n      <td>...</td>\n      <td>...</td>\n    </tr>\n    <tr>\n      <th>375</th>\n      <td>E0</td>\n      <td>2022-05-22</td>\n      <td>16:00</td>\n      <td>Crystal Palace</td>\n      <td>Manchester Utd</td>\n      <td>1</td>\n      <td>0</td>\n      <td>H</td>\n      <td>1</td>\n      <td>0</td>\n      <td>...</td>\n      <td>83</td>\n      <td>-7</td>\n      <td>Crystal Palace2022-05-22</td>\n      <td>Manchester Utd2022-05-22</td>\n      <td>38</td>\n      <td>38</td>\n      <td>NaN</td>\n      <td>NaN</td>\n      <td>NaN</td>\n      <td>NaN</td>\n    </tr>\n    <tr>\n      <th>376</th>\n      <td>E0</td>\n      <td>2022-05-22</td>\n      <td>16:00</td>\n      <td>Leicester City</td>\n      <td>Southampton</td>\n      <td>4</td>\n      <td>1</td>\n      <td>H</td>\n      <td>0</td>\n      <td>0</td>\n      <td>...</td>\n      <td>76</td>\n      <td>4</td>\n      <td>Leicester City2022-05-22</td>\n      <td>Southampton2022-05-22</td>\n      <td>38</td>\n      <td>38</td>\n      <td>NaN</td>\n      <td>NaN</td>\n      <td>NaN</td>\n      <td>NaN</td>\n    </tr>\n    <tr>\n      <th>377</th>\n      <td>E0</td>\n      <td>2022-05-22</td>\n      <td>16:00</td>\n      <td>Liverpool</td>\n      <td>Wolves</td>\n      <td>3</td>\n      <td>1</td>\n      <td>H</td>\n      <td>1</td>\n      <td>1</td>\n      <td>...</td>\n      <td>78</td>\n      <td>6</td>\n      <td>Liverpool2022-05-22</td>\n      <td>Wolves2022-05-22</td>\n      <td>38</td>\n      <td>38</td>\n      <td>NaN</td>\n      <td>NaN</td>\n      <td>NaN</td>\n      <td>NaN</td>\n    </tr>\n    <tr>\n      <th>378</th>\n      <td>E0</td>\n      <td>2022-05-22</td>\n      <td>16:00</td>\n      <td>Manchester City</td>\n      <td>Aston Villa</td>\n      <td>3</td>\n      <td>2</td>\n      <td>H</td>\n      <td>0</td>\n      <td>1</td>\n      <td>...</td>\n      <td>78</td>\n      <td>7</td>\n      <td>Manchester City2022-05-22</td>\n      <td>Aston Villa2022-05-22</td>\n      <td>38</td>\n      <td>38</td>\n      <td>NaN</td>\n      <td>NaN</td>\n      <td>NaN</td>\n      <td>NaN</td>\n    </tr>\n    <tr>\n      <th>379</th>\n      <td>E0</td>\n      <td>2022-05-22</td>\n      <td>16:00</td>\n      <td>Norwich City</td>\n      <td>Tottenham</td>\n      <td>0</td>\n      <td>5</td>\n      <td>A</td>\n      <td>0</td>\n      <td>2</td>\n      <td>...</td>\n      <td>82</td>\n      <td>-8</td>\n      <td>Norwich City2022-05-22</td>\n      <td>Tottenham2022-05-22</td>\n      <td>38</td>\n      <td>38</td>\n      <td>NaN</td>\n      <td>NaN</td>\n      <td>NaN</td>\n      <td>NaN</td>\n    </tr>\n  </tbody>\n</table>\n<p>380 rows × 117 columns</p>\n</div>"
     },
     "execution_count": 5,
     "metadata": {},
     "output_type": "execute_result"
    }
   ],
   "source": [
    "PL19_20_fixtures = calculate_elo_season(PL19_20_fixtures)\n",
    "PL21_22_fixtures = calculate_elo_season(PL21_22_fixtures)\n",
    "PL21_22_fixtures"
   ],
   "metadata": {
    "collapsed": false,
    "pycharm": {
     "name": "#%%\n"
    }
   }
  },
  {
   "cell_type": "code",
   "execution_count": 7,
   "outputs": [
    {
     "ename": "KeyboardInterrupt",
     "evalue": "",
     "output_type": "error",
     "traceback": [
      "\u001B[1;31m---------------------------------------------------------------------------\u001B[0m",
      "\u001B[1;31mKeyboardInterrupt\u001B[0m                         Traceback (most recent call last)",
      "Input \u001B[1;32mIn [7]\u001B[0m, in \u001B[0;36m<cell line: 2>\u001B[1;34m()\u001B[0m\n\u001B[0;32m      1\u001B[0m \u001B[38;5;66;03m#add features to table\u001B[39;00m\n\u001B[1;32m----> 2\u001B[0m PL19_20_fixtures \u001B[38;5;241m=\u001B[39m \u001B[43mappend_stats\u001B[49m\u001B[43m(\u001B[49m\u001B[38;5;241;43m7\u001B[39;49m\u001B[43m,\u001B[49m\u001B[43m \u001B[49m\u001B[43mPL19_20_fixtures\u001B[49m\u001B[43m)\u001B[49m\n\u001B[0;32m      3\u001B[0m PL19_20_fixtures \u001B[38;5;241m=\u001B[39m append_ewm(\u001B[38;5;241m40\u001B[39m, PL19_20_fixtures)\n\u001B[0;32m      4\u001B[0m PL19_20_fixtures \u001B[38;5;241m=\u001B[39m append_form(\u001B[38;5;241m7\u001B[39m, PL19_20_fixtures)\n",
      "Input \u001B[1;32mIn [4]\u001B[0m, in \u001B[0;36mappend_stats\u001B[1;34m(timespan, df)\u001B[0m\n\u001B[0;32m    156\u001B[0m     cornersA \u001B[38;5;241m=\u001B[39m get_stats_season(teamA, \u001B[38;5;241m1\u001B[39m, \u001B[38;5;28mint\u001B[39m(wk_a) \u001B[38;5;241m-\u001B[39m \u001B[38;5;241m1\u001B[39m, \u001B[38;5;124m'\u001B[39m\u001B[38;5;124mcorners\u001B[39m\u001B[38;5;124m'\u001B[39m, df)\n\u001B[0;32m    157\u001B[0m \u001B[38;5;28;01melse\u001B[39;00m:\n\u001B[1;32m--> 158\u001B[0m     goalsA \u001B[38;5;241m=\u001B[39m \u001B[43mget_stats_season\u001B[49m\u001B[43m(\u001B[49m\u001B[43mteamA\u001B[49m\u001B[43m,\u001B[49m\u001B[43m \u001B[49m\u001B[38;5;28;43mint\u001B[39;49m\u001B[43m(\u001B[49m\u001B[43mwk_a\u001B[49m\u001B[43m)\u001B[49m\u001B[43m \u001B[49m\u001B[38;5;241;43m-\u001B[39;49m\u001B[43m \u001B[49m\u001B[43mtimespan\u001B[49m\u001B[43m,\u001B[49m\u001B[43m \u001B[49m\u001B[38;5;28;43mint\u001B[39;49m\u001B[43m(\u001B[49m\u001B[43mwk_a\u001B[49m\u001B[43m)\u001B[49m\u001B[43m \u001B[49m\u001B[38;5;241;43m-\u001B[39;49m\u001B[43m \u001B[49m\u001B[38;5;241;43m1\u001B[39;49m\u001B[43m,\u001B[49m\u001B[43m \u001B[49m\u001B[38;5;124;43m'\u001B[39;49m\u001B[38;5;124;43mgoals\u001B[39;49m\u001B[38;5;124;43m'\u001B[39;49m\u001B[43m,\u001B[49m\u001B[43m \u001B[49m\u001B[43mdf\u001B[49m\u001B[43m)\u001B[49m\n\u001B[0;32m    159\u001B[0m     shotsA \u001B[38;5;241m=\u001B[39m get_stats_season(teamA, \u001B[38;5;28mint\u001B[39m(wk_a) \u001B[38;5;241m-\u001B[39m timespan, \u001B[38;5;28mint\u001B[39m(wk_a) \u001B[38;5;241m-\u001B[39m \u001B[38;5;241m1\u001B[39m, \u001B[38;5;124m'\u001B[39m\u001B[38;5;124mshots\u001B[39m\u001B[38;5;124m'\u001B[39m, df)\n\u001B[0;32m    160\u001B[0m     cornersA \u001B[38;5;241m=\u001B[39m get_stats_season(teamA, \u001B[38;5;28mint\u001B[39m(wk_a) \u001B[38;5;241m-\u001B[39m timespan, \u001B[38;5;28mint\u001B[39m(wk_a) \u001B[38;5;241m-\u001B[39m \u001B[38;5;241m1\u001B[39m, \u001B[38;5;124m'\u001B[39m\u001B[38;5;124mcorners\u001B[39m\u001B[38;5;124m'\u001B[39m, df)\n",
      "Input \u001B[1;32mIn [4]\u001B[0m, in \u001B[0;36mget_stats_season\u001B[1;34m(team, fr, to, category, df)\u001B[0m\n\u001B[0;32m     65\u001B[0m test\u001B[38;5;241m.\u001B[39mappend(out)\n\u001B[0;32m     66\u001B[0m df3 \u001B[38;5;241m=\u001B[39m pd\u001B[38;5;241m.\u001B[39mSeries(test)\n\u001B[1;32m---> 67\u001B[0m df2 \u001B[38;5;241m=\u001B[39m \u001B[43mdf3\u001B[49m\u001B[38;5;241;43m.\u001B[39;49m\u001B[43mrolling\u001B[49m\u001B[43m(\u001B[49m\u001B[38;5;28;43mlen\u001B[39;49m\u001B[43m(\u001B[49m\u001B[43mdf3\u001B[49m\u001B[43m)\u001B[49m\u001B[43m)\u001B[49m\u001B[38;5;241;43m.\u001B[39;49m\u001B[43mmean\u001B[49m\u001B[43m(\u001B[49m\u001B[43m)\u001B[49m\n\u001B[0;32m     68\u001B[0m df2 \u001B[38;5;241m=\u001B[39m df2[\u001B[38;5;28mlen\u001B[39m(df3) \u001B[38;5;241m-\u001B[39m \u001B[38;5;241m1\u001B[39m]\n\u001B[0;32m     69\u001B[0m \u001B[38;5;66;03m#df2 = df.ewm(alpha=0.4).mean()[len(df) - 1]\u001B[39;00m\n",
      "File \u001B[1;32m~\\AppData\\Local\\Programs\\Python\\Python310\\lib\\site-packages\\pandas\\core\\window\\rolling.py:2039\u001B[0m, in \u001B[0;36mRolling.mean\u001B[1;34m(self, engine, engine_kwargs, *args, **kwargs)\u001B[0m\n\u001B[0;32m   1993\u001B[0m \u001B[38;5;129m@doc\u001B[39m(\n\u001B[0;32m   1994\u001B[0m     template_header,\n\u001B[0;32m   1995\u001B[0m     create_section_header(\u001B[38;5;124m\"\u001B[39m\u001B[38;5;124mParameters\u001B[39m\u001B[38;5;124m\"\u001B[39m),\n\u001B[1;32m   (...)\u001B[0m\n\u001B[0;32m   2036\u001B[0m     \u001B[38;5;241m*\u001B[39m\u001B[38;5;241m*\u001B[39mkwargs,\n\u001B[0;32m   2037\u001B[0m ):\n\u001B[0;32m   2038\u001B[0m     nv\u001B[38;5;241m.\u001B[39mvalidate_rolling_func(\u001B[38;5;124m\"\u001B[39m\u001B[38;5;124mmean\u001B[39m\u001B[38;5;124m\"\u001B[39m, args, kwargs)\n\u001B[1;32m-> 2039\u001B[0m     \u001B[38;5;28;01mreturn\u001B[39;00m \u001B[38;5;28msuper\u001B[39m()\u001B[38;5;241m.\u001B[39mmean(\u001B[38;5;241m*\u001B[39margs, engine\u001B[38;5;241m=\u001B[39mengine, engine_kwargs\u001B[38;5;241m=\u001B[39mengine_kwargs, \u001B[38;5;241m*\u001B[39m\u001B[38;5;241m*\u001B[39mkwargs)\n",
      "File \u001B[1;32m~\\AppData\\Local\\Programs\\Python\\Python310\\lib\\site-packages\\pandas\\core\\window\\rolling.py:1450\u001B[0m, in \u001B[0;36mRollingAndExpandingMixin.mean\u001B[1;34m(self, engine, engine_kwargs, *args, **kwargs)\u001B[0m\n\u001B[0;32m   1448\u001B[0m         \u001B[38;5;28;01mreturn\u001B[39;00m \u001B[38;5;28mself\u001B[39m\u001B[38;5;241m.\u001B[39m_numba_apply(sliding_mean, \u001B[38;5;124m\"\u001B[39m\u001B[38;5;124mrolling_mean\u001B[39m\u001B[38;5;124m\"\u001B[39m, engine_kwargs)\n\u001B[0;32m   1449\u001B[0m window_func \u001B[38;5;241m=\u001B[39m window_aggregations\u001B[38;5;241m.\u001B[39mroll_mean\n\u001B[1;32m-> 1450\u001B[0m \u001B[38;5;28;01mreturn\u001B[39;00m \u001B[38;5;28mself\u001B[39m\u001B[38;5;241m.\u001B[39m_apply(window_func, name\u001B[38;5;241m=\u001B[39m\u001B[38;5;124m\"\u001B[39m\u001B[38;5;124mmean\u001B[39m\u001B[38;5;124m\"\u001B[39m, \u001B[38;5;241m*\u001B[39m\u001B[38;5;241m*\u001B[39mkwargs)\n",
      "File \u001B[1;32m~\\AppData\\Local\\Programs\\Python\\Python310\\lib\\site-packages\\pandas\\core\\window\\rolling.py:590\u001B[0m, in \u001B[0;36mBaseWindow._apply\u001B[1;34m(self, func, name, numba_cache_key, numba_args, **kwargs)\u001B[0m\n\u001B[0;32m    587\u001B[0m     \u001B[38;5;28;01mreturn\u001B[39;00m result\n\u001B[0;32m    589\u001B[0m \u001B[38;5;28;01mif\u001B[39;00m \u001B[38;5;28mself\u001B[39m\u001B[38;5;241m.\u001B[39mmethod \u001B[38;5;241m==\u001B[39m \u001B[38;5;124m\"\u001B[39m\u001B[38;5;124msingle\u001B[39m\u001B[38;5;124m\"\u001B[39m:\n\u001B[1;32m--> 590\u001B[0m     \u001B[38;5;28;01mreturn\u001B[39;00m \u001B[38;5;28;43mself\u001B[39;49m\u001B[38;5;241;43m.\u001B[39;49m\u001B[43m_apply_blockwise\u001B[49m\u001B[43m(\u001B[49m\u001B[43mhomogeneous_func\u001B[49m\u001B[43m,\u001B[49m\u001B[43m \u001B[49m\u001B[43mname\u001B[49m\u001B[43m)\u001B[49m\n\u001B[0;32m    591\u001B[0m \u001B[38;5;28;01melse\u001B[39;00m:\n\u001B[0;32m    592\u001B[0m     \u001B[38;5;28;01mreturn\u001B[39;00m \u001B[38;5;28mself\u001B[39m\u001B[38;5;241m.\u001B[39m_apply_tablewise(homogeneous_func, name)\n",
      "File \u001B[1;32m~\\AppData\\Local\\Programs\\Python\\Python310\\lib\\site-packages\\pandas\\core\\window\\rolling.py:442\u001B[0m, in \u001B[0;36mBaseWindow._apply_blockwise\u001B[1;34m(self, homogeneous_func, name)\u001B[0m\n\u001B[0;32m    437\u001B[0m \u001B[38;5;124;03m\"\"\"\u001B[39;00m\n\u001B[0;32m    438\u001B[0m \u001B[38;5;124;03mApply the given function to the DataFrame broken down into homogeneous\u001B[39;00m\n\u001B[0;32m    439\u001B[0m \u001B[38;5;124;03msub-frames.\u001B[39;00m\n\u001B[0;32m    440\u001B[0m \u001B[38;5;124;03m\"\"\"\u001B[39;00m\n\u001B[0;32m    441\u001B[0m \u001B[38;5;28;01mif\u001B[39;00m \u001B[38;5;28mself\u001B[39m\u001B[38;5;241m.\u001B[39m_selected_obj\u001B[38;5;241m.\u001B[39mndim \u001B[38;5;241m==\u001B[39m \u001B[38;5;241m1\u001B[39m:\n\u001B[1;32m--> 442\u001B[0m     \u001B[38;5;28;01mreturn\u001B[39;00m \u001B[38;5;28;43mself\u001B[39;49m\u001B[38;5;241;43m.\u001B[39;49m\u001B[43m_apply_series\u001B[49m\u001B[43m(\u001B[49m\u001B[43mhomogeneous_func\u001B[49m\u001B[43m,\u001B[49m\u001B[43m \u001B[49m\u001B[43mname\u001B[49m\u001B[43m)\u001B[49m\n\u001B[0;32m    444\u001B[0m obj \u001B[38;5;241m=\u001B[39m \u001B[38;5;28mself\u001B[39m\u001B[38;5;241m.\u001B[39m_create_data(\u001B[38;5;28mself\u001B[39m\u001B[38;5;241m.\u001B[39m_selected_obj)\n\u001B[0;32m    445\u001B[0m \u001B[38;5;28;01mif\u001B[39;00m name \u001B[38;5;241m==\u001B[39m \u001B[38;5;124m\"\u001B[39m\u001B[38;5;124mcount\u001B[39m\u001B[38;5;124m\"\u001B[39m:\n\u001B[0;32m    446\u001B[0m     \u001B[38;5;66;03m# GH 12541: Special case for count where we support date-like types\u001B[39;00m\n",
      "File \u001B[1;32m~\\AppData\\Local\\Programs\\Python\\Python310\\lib\\site-packages\\pandas\\core\\window\\rolling.py:431\u001B[0m, in \u001B[0;36mBaseWindow._apply_series\u001B[1;34m(self, homogeneous_func, name)\u001B[0m\n\u001B[0;32m    428\u001B[0m \u001B[38;5;28;01mexcept\u001B[39;00m (\u001B[38;5;167;01mTypeError\u001B[39;00m, \u001B[38;5;167;01mNotImplementedError\u001B[39;00m) \u001B[38;5;28;01mas\u001B[39;00m err:\n\u001B[0;32m    429\u001B[0m     \u001B[38;5;28;01mraise\u001B[39;00m DataError(\u001B[38;5;124m\"\u001B[39m\u001B[38;5;124mNo numeric types to aggregate\u001B[39m\u001B[38;5;124m\"\u001B[39m) \u001B[38;5;28;01mfrom\u001B[39;00m \u001B[38;5;21;01merr\u001B[39;00m\n\u001B[1;32m--> 431\u001B[0m result \u001B[38;5;241m=\u001B[39m \u001B[43mhomogeneous_func\u001B[49m\u001B[43m(\u001B[49m\u001B[43mvalues\u001B[49m\u001B[43m)\u001B[49m\n\u001B[0;32m    432\u001B[0m \u001B[38;5;28;01mreturn\u001B[39;00m obj\u001B[38;5;241m.\u001B[39m_constructor(result, index\u001B[38;5;241m=\u001B[39mobj\u001B[38;5;241m.\u001B[39mindex, name\u001B[38;5;241m=\u001B[39mobj\u001B[38;5;241m.\u001B[39mname)\n",
      "File \u001B[1;32m~\\AppData\\Local\\Programs\\Python\\Python310\\lib\\site-packages\\pandas\\core\\window\\rolling.py:582\u001B[0m, in \u001B[0;36mBaseWindow._apply.<locals>.homogeneous_func\u001B[1;34m(values)\u001B[0m\n\u001B[0;32m    579\u001B[0m     \u001B[38;5;28;01mreturn\u001B[39;00m func(x, start, end, min_periods, \u001B[38;5;241m*\u001B[39mnumba_args)\n\u001B[0;32m    581\u001B[0m \u001B[38;5;28;01mwith\u001B[39;00m np\u001B[38;5;241m.\u001B[39merrstate(\u001B[38;5;28mall\u001B[39m\u001B[38;5;241m=\u001B[39m\u001B[38;5;124m\"\u001B[39m\u001B[38;5;124mignore\u001B[39m\u001B[38;5;124m\"\u001B[39m):\n\u001B[1;32m--> 582\u001B[0m     result \u001B[38;5;241m=\u001B[39m \u001B[43mcalc\u001B[49m\u001B[43m(\u001B[49m\u001B[43mvalues\u001B[49m\u001B[43m)\u001B[49m\n\u001B[0;32m    584\u001B[0m \u001B[38;5;28;01mif\u001B[39;00m numba_cache_key \u001B[38;5;129;01mis\u001B[39;00m \u001B[38;5;129;01mnot\u001B[39;00m \u001B[38;5;28;01mNone\u001B[39;00m:\n\u001B[0;32m    585\u001B[0m     NUMBA_FUNC_CACHE[numba_cache_key] \u001B[38;5;241m=\u001B[39m func\n",
      "File \u001B[1;32m~\\AppData\\Local\\Programs\\Python\\Python310\\lib\\site-packages\\pandas\\core\\window\\rolling.py:579\u001B[0m, in \u001B[0;36mBaseWindow._apply.<locals>.homogeneous_func.<locals>.calc\u001B[1;34m(x)\u001B[0m\n\u001B[0;32m    571\u001B[0m start, end \u001B[38;5;241m=\u001B[39m window_indexer\u001B[38;5;241m.\u001B[39mget_window_bounds(\n\u001B[0;32m    572\u001B[0m     num_values\u001B[38;5;241m=\u001B[39m\u001B[38;5;28mlen\u001B[39m(x),\n\u001B[0;32m    573\u001B[0m     min_periods\u001B[38;5;241m=\u001B[39mmin_periods,\n\u001B[0;32m    574\u001B[0m     center\u001B[38;5;241m=\u001B[39m\u001B[38;5;28mself\u001B[39m\u001B[38;5;241m.\u001B[39mcenter,\n\u001B[0;32m    575\u001B[0m     closed\u001B[38;5;241m=\u001B[39m\u001B[38;5;28mself\u001B[39m\u001B[38;5;241m.\u001B[39mclosed,\n\u001B[0;32m    576\u001B[0m )\n\u001B[0;32m    577\u001B[0m \u001B[38;5;28mself\u001B[39m\u001B[38;5;241m.\u001B[39m_check_window_bounds(start, end, \u001B[38;5;28mlen\u001B[39m(x))\n\u001B[1;32m--> 579\u001B[0m \u001B[38;5;28;01mreturn\u001B[39;00m \u001B[43mfunc\u001B[49m\u001B[43m(\u001B[49m\u001B[43mx\u001B[49m\u001B[43m,\u001B[49m\u001B[43m \u001B[49m\u001B[43mstart\u001B[49m\u001B[43m,\u001B[49m\u001B[43m \u001B[49m\u001B[43mend\u001B[49m\u001B[43m,\u001B[49m\u001B[43m \u001B[49m\u001B[43mmin_periods\u001B[49m\u001B[43m,\u001B[49m\u001B[43m \u001B[49m\u001B[38;5;241;43m*\u001B[39;49m\u001B[43mnumba_args\u001B[49m\u001B[43m)\u001B[49m\n",
      "\u001B[1;31mKeyboardInterrupt\u001B[0m: "
     ]
    }
   ],
   "source": [
    "#add features to table\n",
    "PL19_20_fixtures = append_stats(7, PL19_20_fixtures)\n",
    "PL19_20_fixtures = append_ewm(40, PL19_20_fixtures)\n",
    "PL19_20_fixtures = append_form(7, PL19_20_fixtures)\n",
    "PL19_20_fixtures = calculate_elo_season(PL19_20_fixtures)\n",
    "PL20_21_fixtures = append_stats(7, PL20_21_fixtures)\n",
    "PL20_21_fixtures = append_ewm(40, PL20_21_fixtures)\n",
    "PL20_21_fixtures = append_form(7, PL20_21_fixtures)\n",
    "PL20_21_fixtures = calculate_elo_season(PL20_21_fixtures)\n",
    "PL21_22_fixtures = append_stats(7, PL21_22_fixtures)\n",
    "PL21_22_fixtures = append_ewm(40, PL21_22_fixtures)\n",
    "PL21_22_fixtures = append_form(7, PL21_22_fixtures)\n",
    "PL21_22_fixtures = calculate_elo_season(PL21_22_fixtures)\n"
   ],
   "metadata": {
    "collapsed": false,
    "pycharm": {
     "name": "#%%\n"
    }
   }
  },
  {
   "cell_type": "code",
   "execution_count": 52,
   "outputs": [],
   "source": [
    "#calculate Differences\n",
    "def calculate_differences(df):\n",
    "    df['goalsDifference'] = df['goalsH'] - df['goalsA']\n",
    "    df['shotsDifference'] = df['shotsH'] - df['shotsA']\n",
    "    df['cornersDifference'] = df['cornersH'] - df['cornersA']\n",
    "    df['ewmDifference'] = df['ewmH'] - df['ewmA']\n",
    "    df['elo_difference'] = df['Elo_h_before'] - df['Elo_a_before']\n",
    "    df['form_difference'] = df['formH'] - df['formA']\n",
    "    return df\n",
    "PL19_20_fixtures = calculate_differences(PL19_20_fixtures)\n",
    "PL20_21_fixtures = calculate_differences(PL20_21_fixtures)\n",
    "PL21_22_fixtures = calculate_differences(PL21_22_fixtures)\n",
    "\n",
    "PL20_21_fixtures"
   ],
   "metadata": {
    "collapsed": false,
    "pycharm": {
     "name": "#%%\n"
    }
   }
  },
  {
   "cell_type": "code",
   "execution_count": 2,
   "outputs": [
    {
     "data": {
      "text/plain": "     Unnamed: 0 Div        Date   Time         HomeTeam         AwayTeam  \\\n0             0  E0  2019-08-09  20:00        Liverpool     Norwich City   \n1             1  E0  2019-08-10  12:30         West Ham  Manchester City   \n2             2  E0  2019-08-10  15:00      Bournemouth    Sheffield Utd   \n3             3  E0  2019-08-10  15:00          Burnley      Southampton   \n4             4  E0  2019-08-10  15:00   Crystal Palace          Everton   \n..          ...  ..         ...    ...              ...              ...   \n375         375  E0  2020-07-26  16:00   Leicester City   Manchester Utd   \n376         376  E0  2020-07-26  16:00  Manchester City     Norwich City   \n377         377  E0  2020-07-26  16:00    Newcastle Utd        Liverpool   \n378         378  E0  2020-07-26  16:00      Southampton    Sheffield Utd   \n379         379  E0  2020-07-26  16:00         West Ham      Aston Villa   \n\n     FTHG  FTAG FTR  HTHG  ...  Elo_h_after Elo_a_after Elo_h_before  \\\n0       4     1   H     4  ...      1515.00     1485.00      1500.00   \n1       0     5   A     0  ...      1485.00     1515.00      1500.00   \n2       1     1   D     0  ...      1500.00     1500.00      1500.00   \n3       3     0   H     0  ...      1515.00     1485.00      1500.00   \n4       0     0   D     0  ...      1500.00     1500.00      1500.00   \n..    ...   ...  ..   ...  ...          ...         ...          ...   \n375     0     2   A     0  ...      1500.87     1598.97      1512.69   \n376     5     0   H     2  ...      1637.85     1309.92      1633.74   \n377     1     3   A     1  ...      1448.82     1696.44      1454.97   \n378     3     1   H     0  ...      1522.65     1502.76      1507.17   \n379     1     1   D     0  ...      1446.54     1424.88      1447.56   \n\n     Elo_a_before  goalsDifference  shotsDifference  cornersDifference  \\\n0         1500.00         0.000000         0.000000           0.000000   \n1         1500.00         0.000000         0.000000           0.000000   \n2         1500.00         0.000000         0.000000           0.000000   \n3         1500.00         0.000000         0.000000           0.000000   \n4         1500.00         0.000000         0.000000           0.000000   \n..            ...              ...              ...                ...   \n375       1587.15        -7.333333       -10.333333          -8.333333   \n376       1314.03         8.333333        13.333333          15.333333   \n377       1690.29        -1.166667        -6.166667          -9.166667   \n378       1518.24        -0.166667         6.000000          -3.333333   \n379       1423.86         3.833333         7.000000          -1.166667   \n\n     ewmDifference  elo_difference  form_difference  \n0         0.000000            0.00         0.000000  \n1         0.000000            0.00         0.000000  \n2         0.000000            0.00         0.000000  \n3         0.000000            0.00         0.000000  \n4         0.000000            0.00         0.000000  \n..             ...             ...              ...  \n375      -0.898797          -74.46        -5.833333  \n376      56.666697          319.71         5.500000  \n377     -51.798683         -235.32        -2.666667  \n378      -5.307820          -11.07        -0.166667  \n379       4.179987           23.70         2.500000  \n\n[380 rows x 134 columns]",
      "text/html": "<div>\n<style scoped>\n    .dataframe tbody tr th:only-of-type {\n        vertical-align: middle;\n    }\n\n    .dataframe tbody tr th {\n        vertical-align: top;\n    }\n\n    .dataframe thead th {\n        text-align: right;\n    }\n</style>\n<table border=\"1\" class=\"dataframe\">\n  <thead>\n    <tr style=\"text-align: right;\">\n      <th></th>\n      <th>Unnamed: 0</th>\n      <th>Div</th>\n      <th>Date</th>\n      <th>Time</th>\n      <th>HomeTeam</th>\n      <th>AwayTeam</th>\n      <th>FTHG</th>\n      <th>FTAG</th>\n      <th>FTR</th>\n      <th>HTHG</th>\n      <th>...</th>\n      <th>Elo_h_after</th>\n      <th>Elo_a_after</th>\n      <th>Elo_h_before</th>\n      <th>Elo_a_before</th>\n      <th>goalsDifference</th>\n      <th>shotsDifference</th>\n      <th>cornersDifference</th>\n      <th>ewmDifference</th>\n      <th>elo_difference</th>\n      <th>form_difference</th>\n    </tr>\n  </thead>\n  <tbody>\n    <tr>\n      <th>0</th>\n      <td>0</td>\n      <td>E0</td>\n      <td>2019-08-09</td>\n      <td>20:00</td>\n      <td>Liverpool</td>\n      <td>Norwich City</td>\n      <td>4</td>\n      <td>1</td>\n      <td>H</td>\n      <td>4</td>\n      <td>...</td>\n      <td>1515.00</td>\n      <td>1485.00</td>\n      <td>1500.00</td>\n      <td>1500.00</td>\n      <td>0.000000</td>\n      <td>0.000000</td>\n      <td>0.000000</td>\n      <td>0.000000</td>\n      <td>0.00</td>\n      <td>0.000000</td>\n    </tr>\n    <tr>\n      <th>1</th>\n      <td>1</td>\n      <td>E0</td>\n      <td>2019-08-10</td>\n      <td>12:30</td>\n      <td>West Ham</td>\n      <td>Manchester City</td>\n      <td>0</td>\n      <td>5</td>\n      <td>A</td>\n      <td>0</td>\n      <td>...</td>\n      <td>1485.00</td>\n      <td>1515.00</td>\n      <td>1500.00</td>\n      <td>1500.00</td>\n      <td>0.000000</td>\n      <td>0.000000</td>\n      <td>0.000000</td>\n      <td>0.000000</td>\n      <td>0.00</td>\n      <td>0.000000</td>\n    </tr>\n    <tr>\n      <th>2</th>\n      <td>2</td>\n      <td>E0</td>\n      <td>2019-08-10</td>\n      <td>15:00</td>\n      <td>Bournemouth</td>\n      <td>Sheffield Utd</td>\n      <td>1</td>\n      <td>1</td>\n      <td>D</td>\n      <td>0</td>\n      <td>...</td>\n      <td>1500.00</td>\n      <td>1500.00</td>\n      <td>1500.00</td>\n      <td>1500.00</td>\n      <td>0.000000</td>\n      <td>0.000000</td>\n      <td>0.000000</td>\n      <td>0.000000</td>\n      <td>0.00</td>\n      <td>0.000000</td>\n    </tr>\n    <tr>\n      <th>3</th>\n      <td>3</td>\n      <td>E0</td>\n      <td>2019-08-10</td>\n      <td>15:00</td>\n      <td>Burnley</td>\n      <td>Southampton</td>\n      <td>3</td>\n      <td>0</td>\n      <td>H</td>\n      <td>0</td>\n      <td>...</td>\n      <td>1515.00</td>\n      <td>1485.00</td>\n      <td>1500.00</td>\n      <td>1500.00</td>\n      <td>0.000000</td>\n      <td>0.000000</td>\n      <td>0.000000</td>\n      <td>0.000000</td>\n      <td>0.00</td>\n      <td>0.000000</td>\n    </tr>\n    <tr>\n      <th>4</th>\n      <td>4</td>\n      <td>E0</td>\n      <td>2019-08-10</td>\n      <td>15:00</td>\n      <td>Crystal Palace</td>\n      <td>Everton</td>\n      <td>0</td>\n      <td>0</td>\n      <td>D</td>\n      <td>0</td>\n      <td>...</td>\n      <td>1500.00</td>\n      <td>1500.00</td>\n      <td>1500.00</td>\n      <td>1500.00</td>\n      <td>0.000000</td>\n      <td>0.000000</td>\n      <td>0.000000</td>\n      <td>0.000000</td>\n      <td>0.00</td>\n      <td>0.000000</td>\n    </tr>\n    <tr>\n      <th>...</th>\n      <td>...</td>\n      <td>...</td>\n      <td>...</td>\n      <td>...</td>\n      <td>...</td>\n      <td>...</td>\n      <td>...</td>\n      <td>...</td>\n      <td>...</td>\n      <td>...</td>\n      <td>...</td>\n      <td>...</td>\n      <td>...</td>\n      <td>...</td>\n      <td>...</td>\n      <td>...</td>\n      <td>...</td>\n      <td>...</td>\n      <td>...</td>\n      <td>...</td>\n      <td>...</td>\n    </tr>\n    <tr>\n      <th>375</th>\n      <td>375</td>\n      <td>E0</td>\n      <td>2020-07-26</td>\n      <td>16:00</td>\n      <td>Leicester City</td>\n      <td>Manchester Utd</td>\n      <td>0</td>\n      <td>2</td>\n      <td>A</td>\n      <td>0</td>\n      <td>...</td>\n      <td>1500.87</td>\n      <td>1598.97</td>\n      <td>1512.69</td>\n      <td>1587.15</td>\n      <td>-7.333333</td>\n      <td>-10.333333</td>\n      <td>-8.333333</td>\n      <td>-0.898797</td>\n      <td>-74.46</td>\n      <td>-5.833333</td>\n    </tr>\n    <tr>\n      <th>376</th>\n      <td>376</td>\n      <td>E0</td>\n      <td>2020-07-26</td>\n      <td>16:00</td>\n      <td>Manchester City</td>\n      <td>Norwich City</td>\n      <td>5</td>\n      <td>0</td>\n      <td>H</td>\n      <td>2</td>\n      <td>...</td>\n      <td>1637.85</td>\n      <td>1309.92</td>\n      <td>1633.74</td>\n      <td>1314.03</td>\n      <td>8.333333</td>\n      <td>13.333333</td>\n      <td>15.333333</td>\n      <td>56.666697</td>\n      <td>319.71</td>\n      <td>5.500000</td>\n    </tr>\n    <tr>\n      <th>377</th>\n      <td>377</td>\n      <td>E0</td>\n      <td>2020-07-26</td>\n      <td>16:00</td>\n      <td>Newcastle Utd</td>\n      <td>Liverpool</td>\n      <td>1</td>\n      <td>3</td>\n      <td>A</td>\n      <td>1</td>\n      <td>...</td>\n      <td>1448.82</td>\n      <td>1696.44</td>\n      <td>1454.97</td>\n      <td>1690.29</td>\n      <td>-1.166667</td>\n      <td>-6.166667</td>\n      <td>-9.166667</td>\n      <td>-51.798683</td>\n      <td>-235.32</td>\n      <td>-2.666667</td>\n    </tr>\n    <tr>\n      <th>378</th>\n      <td>378</td>\n      <td>E0</td>\n      <td>2020-07-26</td>\n      <td>16:00</td>\n      <td>Southampton</td>\n      <td>Sheffield Utd</td>\n      <td>3</td>\n      <td>1</td>\n      <td>H</td>\n      <td>0</td>\n      <td>...</td>\n      <td>1522.65</td>\n      <td>1502.76</td>\n      <td>1507.17</td>\n      <td>1518.24</td>\n      <td>-0.166667</td>\n      <td>6.000000</td>\n      <td>-3.333333</td>\n      <td>-5.307820</td>\n      <td>-11.07</td>\n      <td>-0.166667</td>\n    </tr>\n    <tr>\n      <th>379</th>\n      <td>379</td>\n      <td>E0</td>\n      <td>2020-07-26</td>\n      <td>16:00</td>\n      <td>West Ham</td>\n      <td>Aston Villa</td>\n      <td>1</td>\n      <td>1</td>\n      <td>D</td>\n      <td>0</td>\n      <td>...</td>\n      <td>1446.54</td>\n      <td>1424.88</td>\n      <td>1447.56</td>\n      <td>1423.86</td>\n      <td>3.833333</td>\n      <td>7.000000</td>\n      <td>-1.166667</td>\n      <td>4.179987</td>\n      <td>23.70</td>\n      <td>2.500000</td>\n    </tr>\n  </tbody>\n</table>\n<p>380 rows × 134 columns</p>\n</div>"
     },
     "execution_count": 2,
     "metadata": {},
     "output_type": "execute_result"
    }
   ],
   "source": [
    "#export features as csv\n",
    "PL19_20_fixtures.to_csv('Data/2019-20/Fixtures/PL19_20_features.csv')\n",
    "PL20_21_fixtures.to_csv('Data/2020-21/Fixtures/PL20_21_features.csv')\n",
    "PL21_22_fixtures.to_csv('Data/2021-22/Fixtures/PL21_22_features.csv')"
   ],
   "metadata": {
    "collapsed": false,
    "pycharm": {
     "name": "#%%\n"
    }
   }
  }
 ],
 "metadata": {
  "kernelspec": {
   "display_name": "Python 3",
   "language": "python",
   "name": "python3"
  },
  "language_info": {
   "codemirror_mode": {
    "name": "ipython",
    "version": 2
   },
   "file_extension": ".py",
   "mimetype": "text/x-python",
   "name": "python",
   "nbconvert_exporter": "python",
   "pygments_lexer": "ipython2",
   "version": "2.7.6"
  }
 },
 "nbformat": 4,
 "nbformat_minor": 0
}