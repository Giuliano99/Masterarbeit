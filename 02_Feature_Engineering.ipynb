{
 "cells": [
  {
   "cell_type": "code",
   "execution_count": 1,
   "outputs": [],
   "source": [
    "#notebook for engineer features using game results and stats\n",
    "#import necessary packages\n",
    "import pandas as pd\n",
    "import numpy as np"
   ],
   "metadata": {
    "collapsed": false,
    "pycharm": {
     "name": "#%%\n"
    }
   }
  },
  {
   "cell_type": "code",
   "execution_count": 3,
   "outputs": [],
   "source": [
    "#import Data\n",
    "PL19_20_fixtures = pd.read_csv('Data/2019-20/Fixtures/PL19_20_fixtures.csv')\n",
    "PL20_21_fixtures = pd.read_csv('Data/2020-21/Fixtures/PL20_21_fixtures.csv')\n",
    "PL21_22_fixtures = pd.read_csv('Data/2021-22/Fixtures/PL21_22_fixtures.csv')\n",
    "PL19_20_fixtures['game_home_ID'] = PL19_20_fixtures['HomeTeam'] + PL19_20_fixtures['Date'].astype(str)\n",
    "PL19_20_fixtures['game_away_ID'] = PL19_20_fixtures['AwayTeam'] + PL19_20_fixtures['Date'].astype(str)\n",
    "PL20_21_fixtures['game_home_ID'] = PL20_21_fixtures['HomeTeam'] + PL20_21_fixtures['Date'].astype(str)\n",
    "PL20_21_fixtures['game_away_ID'] = PL20_21_fixtures['AwayTeam'] + PL20_21_fixtures['Date'].astype(str)\n",
    "PL21_22_fixtures['game_home_ID'] = PL21_22_fixtures['HomeTeam'] + PL21_22_fixtures['Date'].astype(str)\n",
    "PL21_22_fixtures['game_away_ID'] = PL21_22_fixtures['AwayTeam'] + PL21_22_fixtures['Date'].astype(str)"
   ],
   "metadata": {
    "collapsed": false,
    "pycharm": {
     "name": "#%%\n"
    }
   }
  },
  {
   "cell_type": "code",
   "execution_count": 4,
   "outputs": [
    {
     "data": {
      "text/plain": "    Div        Date   Time         HomeTeam        AwayTeam  FTHG  FTAG FTR  \\\n0    E0  2021-08-13  20:00        Brentford         Arsenal     2     0   H   \n1    E0  2021-08-14  12:30   Manchester Utd    Leeds United     5     1   H   \n2    E0  2021-08-14  15:00          Burnley        Brighton     1     2   A   \n3    E0  2021-08-14  15:00          Chelsea  Crystal Palace     3     0   H   \n4    E0  2021-08-14  15:00          Everton     Southampton     3     1   H   \n..   ..         ...    ...              ...             ...   ...   ...  ..   \n375  E0  2022-05-22  16:00   Crystal Palace  Manchester Utd     1     0   H   \n376  E0  2022-05-22  16:00   Leicester City     Southampton     4     1   H   \n377  E0  2022-05-22  16:00        Liverpool          Wolves     3     1   H   \n378  E0  2022-05-22  16:00  Manchester City     Aston Villa     3     2   H   \n379  E0  2022-05-22  16:00     Norwich City       Tottenham     0     5   A   \n\n     HTHG  HTAG  ... MaxCAHA AvgCAHH  AvgCAHA  Rating_Home  Rating_Away  \\\n0       1     0  ...    2.17    1.80     2.09           73           79   \n1       1     0  ...    1.93    2.10     1.79           83           76   \n2       1     0  ...    2.19    1.79     2.12           76           75   \n3       2     0  ...    1.93    2.06     1.82           83           76   \n4       0     1  ...    1.90    2.03     1.86           79           76   \n..    ...   ...  ...     ...     ...      ...          ...          ...   \n375     1     0  ...    2.25    1.74     2.16           76           83   \n376     0     0  ...    2.26    1.87     2.01           80           76   \n377     1     1  ...    1.99    2.07     1.80           84           78   \n378     0     1  ...    2.03    2.01     1.87           85           78   \n379     0     2  ...    1.98    1.99     1.89           74           82   \n\n     Rating difference               game_home_ID              game_away_ID  \\\n0                   -6        Brentford2021-08-13         Arsenal2021-08-13   \n1                    7   Manchester Utd2021-08-14    Leeds United2021-08-14   \n2                    1          Burnley2021-08-14        Brighton2021-08-14   \n3                    7          Chelsea2021-08-14  Crystal Palace2021-08-14   \n4                    3          Everton2021-08-14     Southampton2021-08-14   \n..                 ...                        ...                       ...   \n375                 -7   Crystal Palace2022-05-22  Manchester Utd2022-05-22   \n376                  4   Leicester City2022-05-22     Southampton2022-05-22   \n377                  6        Liverpool2022-05-22          Wolves2022-05-22   \n378                  7  Manchester City2022-05-22     Aston Villa2022-05-22   \n379                 -8     Norwich City2022-05-22       Tottenham2022-05-22   \n\n     Wk_h  Wk_a  \n0       1     1  \n1       1     1  \n2       1     1  \n3       1     1  \n4       1     1  \n..    ...   ...  \n375    38    38  \n376    38    38  \n377    38    38  \n378    38    38  \n379    38    38  \n\n[380 rows x 113 columns]",
      "text/html": "<div>\n<style scoped>\n    .dataframe tbody tr th:only-of-type {\n        vertical-align: middle;\n    }\n\n    .dataframe tbody tr th {\n        vertical-align: top;\n    }\n\n    .dataframe thead th {\n        text-align: right;\n    }\n</style>\n<table border=\"1\" class=\"dataframe\">\n  <thead>\n    <tr style=\"text-align: right;\">\n      <th></th>\n      <th>Div</th>\n      <th>Date</th>\n      <th>Time</th>\n      <th>HomeTeam</th>\n      <th>AwayTeam</th>\n      <th>FTHG</th>\n      <th>FTAG</th>\n      <th>FTR</th>\n      <th>HTHG</th>\n      <th>HTAG</th>\n      <th>...</th>\n      <th>MaxCAHA</th>\n      <th>AvgCAHH</th>\n      <th>AvgCAHA</th>\n      <th>Rating_Home</th>\n      <th>Rating_Away</th>\n      <th>Rating difference</th>\n      <th>game_home_ID</th>\n      <th>game_away_ID</th>\n      <th>Wk_h</th>\n      <th>Wk_a</th>\n    </tr>\n  </thead>\n  <tbody>\n    <tr>\n      <th>0</th>\n      <td>E0</td>\n      <td>2021-08-13</td>\n      <td>20:00</td>\n      <td>Brentford</td>\n      <td>Arsenal</td>\n      <td>2</td>\n      <td>0</td>\n      <td>H</td>\n      <td>1</td>\n      <td>0</td>\n      <td>...</td>\n      <td>2.17</td>\n      <td>1.80</td>\n      <td>2.09</td>\n      <td>73</td>\n      <td>79</td>\n      <td>-6</td>\n      <td>Brentford2021-08-13</td>\n      <td>Arsenal2021-08-13</td>\n      <td>1</td>\n      <td>1</td>\n    </tr>\n    <tr>\n      <th>1</th>\n      <td>E0</td>\n      <td>2021-08-14</td>\n      <td>12:30</td>\n      <td>Manchester Utd</td>\n      <td>Leeds United</td>\n      <td>5</td>\n      <td>1</td>\n      <td>H</td>\n      <td>1</td>\n      <td>0</td>\n      <td>...</td>\n      <td>1.93</td>\n      <td>2.10</td>\n      <td>1.79</td>\n      <td>83</td>\n      <td>76</td>\n      <td>7</td>\n      <td>Manchester Utd2021-08-14</td>\n      <td>Leeds United2021-08-14</td>\n      <td>1</td>\n      <td>1</td>\n    </tr>\n    <tr>\n      <th>2</th>\n      <td>E0</td>\n      <td>2021-08-14</td>\n      <td>15:00</td>\n      <td>Burnley</td>\n      <td>Brighton</td>\n      <td>1</td>\n      <td>2</td>\n      <td>A</td>\n      <td>1</td>\n      <td>0</td>\n      <td>...</td>\n      <td>2.19</td>\n      <td>1.79</td>\n      <td>2.12</td>\n      <td>76</td>\n      <td>75</td>\n      <td>1</td>\n      <td>Burnley2021-08-14</td>\n      <td>Brighton2021-08-14</td>\n      <td>1</td>\n      <td>1</td>\n    </tr>\n    <tr>\n      <th>3</th>\n      <td>E0</td>\n      <td>2021-08-14</td>\n      <td>15:00</td>\n      <td>Chelsea</td>\n      <td>Crystal Palace</td>\n      <td>3</td>\n      <td>0</td>\n      <td>H</td>\n      <td>2</td>\n      <td>0</td>\n      <td>...</td>\n      <td>1.93</td>\n      <td>2.06</td>\n      <td>1.82</td>\n      <td>83</td>\n      <td>76</td>\n      <td>7</td>\n      <td>Chelsea2021-08-14</td>\n      <td>Crystal Palace2021-08-14</td>\n      <td>1</td>\n      <td>1</td>\n    </tr>\n    <tr>\n      <th>4</th>\n      <td>E0</td>\n      <td>2021-08-14</td>\n      <td>15:00</td>\n      <td>Everton</td>\n      <td>Southampton</td>\n      <td>3</td>\n      <td>1</td>\n      <td>H</td>\n      <td>0</td>\n      <td>1</td>\n      <td>...</td>\n      <td>1.90</td>\n      <td>2.03</td>\n      <td>1.86</td>\n      <td>79</td>\n      <td>76</td>\n      <td>3</td>\n      <td>Everton2021-08-14</td>\n      <td>Southampton2021-08-14</td>\n      <td>1</td>\n      <td>1</td>\n    </tr>\n    <tr>\n      <th>...</th>\n      <td>...</td>\n      <td>...</td>\n      <td>...</td>\n      <td>...</td>\n      <td>...</td>\n      <td>...</td>\n      <td>...</td>\n      <td>...</td>\n      <td>...</td>\n      <td>...</td>\n      <td>...</td>\n      <td>...</td>\n      <td>...</td>\n      <td>...</td>\n      <td>...</td>\n      <td>...</td>\n      <td>...</td>\n      <td>...</td>\n      <td>...</td>\n      <td>...</td>\n      <td>...</td>\n    </tr>\n    <tr>\n      <th>375</th>\n      <td>E0</td>\n      <td>2022-05-22</td>\n      <td>16:00</td>\n      <td>Crystal Palace</td>\n      <td>Manchester Utd</td>\n      <td>1</td>\n      <td>0</td>\n      <td>H</td>\n      <td>1</td>\n      <td>0</td>\n      <td>...</td>\n      <td>2.25</td>\n      <td>1.74</td>\n      <td>2.16</td>\n      <td>76</td>\n      <td>83</td>\n      <td>-7</td>\n      <td>Crystal Palace2022-05-22</td>\n      <td>Manchester Utd2022-05-22</td>\n      <td>38</td>\n      <td>38</td>\n    </tr>\n    <tr>\n      <th>376</th>\n      <td>E0</td>\n      <td>2022-05-22</td>\n      <td>16:00</td>\n      <td>Leicester City</td>\n      <td>Southampton</td>\n      <td>4</td>\n      <td>1</td>\n      <td>H</td>\n      <td>0</td>\n      <td>0</td>\n      <td>...</td>\n      <td>2.26</td>\n      <td>1.87</td>\n      <td>2.01</td>\n      <td>80</td>\n      <td>76</td>\n      <td>4</td>\n      <td>Leicester City2022-05-22</td>\n      <td>Southampton2022-05-22</td>\n      <td>38</td>\n      <td>38</td>\n    </tr>\n    <tr>\n      <th>377</th>\n      <td>E0</td>\n      <td>2022-05-22</td>\n      <td>16:00</td>\n      <td>Liverpool</td>\n      <td>Wolves</td>\n      <td>3</td>\n      <td>1</td>\n      <td>H</td>\n      <td>1</td>\n      <td>1</td>\n      <td>...</td>\n      <td>1.99</td>\n      <td>2.07</td>\n      <td>1.80</td>\n      <td>84</td>\n      <td>78</td>\n      <td>6</td>\n      <td>Liverpool2022-05-22</td>\n      <td>Wolves2022-05-22</td>\n      <td>38</td>\n      <td>38</td>\n    </tr>\n    <tr>\n      <th>378</th>\n      <td>E0</td>\n      <td>2022-05-22</td>\n      <td>16:00</td>\n      <td>Manchester City</td>\n      <td>Aston Villa</td>\n      <td>3</td>\n      <td>2</td>\n      <td>H</td>\n      <td>0</td>\n      <td>1</td>\n      <td>...</td>\n      <td>2.03</td>\n      <td>2.01</td>\n      <td>1.87</td>\n      <td>85</td>\n      <td>78</td>\n      <td>7</td>\n      <td>Manchester City2022-05-22</td>\n      <td>Aston Villa2022-05-22</td>\n      <td>38</td>\n      <td>38</td>\n    </tr>\n    <tr>\n      <th>379</th>\n      <td>E0</td>\n      <td>2022-05-22</td>\n      <td>16:00</td>\n      <td>Norwich City</td>\n      <td>Tottenham</td>\n      <td>0</td>\n      <td>5</td>\n      <td>A</td>\n      <td>0</td>\n      <td>2</td>\n      <td>...</td>\n      <td>1.98</td>\n      <td>1.99</td>\n      <td>1.89</td>\n      <td>74</td>\n      <td>82</td>\n      <td>-8</td>\n      <td>Norwich City2022-05-22</td>\n      <td>Tottenham2022-05-22</td>\n      <td>38</td>\n      <td>38</td>\n    </tr>\n  </tbody>\n</table>\n<p>380 rows × 113 columns</p>\n</div>"
     },
     "execution_count": 4,
     "metadata": {},
     "output_type": "execute_result"
    }
   ],
   "source": [
    "#generate gameweeks dependening on the order of the games\n",
    "def generate_gameweeks(df):\n",
    "    teams = df.HomeTeam.unique().tolist()\n",
    "    df['Wk_h'] = 0\n",
    "    df['Wk_a'] = 0\n",
    "    for team in teams:\n",
    "        count = 1\n",
    "        for index, row in df.iterrows():\n",
    "            if row['HomeTeam'] == team:\n",
    "                df.at[index, 'Wk_h'] = count\n",
    "                count = count + 1\n",
    "            elif row['AwayTeam'] == team:\n",
    "                df.at[index, 'Wk_a'] = count\n",
    "                count = count + 1\n",
    "    return df\n",
    "PL19_20_fixtures = generate_gameweeks(PL19_20_fixtures)\n",
    "PL20_21_fixtures = generate_gameweeks(PL20_21_fixtures)\n",
    "PL21_22_fixtures = generate_gameweeks(PL21_22_fixtures)\n",
    "\n",
    "PL21_22_fixtures"
   ],
   "metadata": {
    "collapsed": false,
    "pycharm": {
     "name": "#%%\n"
    }
   }
  },
  {
   "cell_type": "code",
   "execution_count": 5,
   "outputs": [
    {
     "data": {
      "text/plain": "    Div        Date   Time         HomeTeam        AwayTeam  FTHG  FTAG FTR  \\\n0    E0  2021-08-13  20:00        Brentford         Arsenal     2     0   H   \n1    E0  2021-08-14  12:30   Manchester Utd    Leeds United     5     1   H   \n2    E0  2021-08-14  15:00          Burnley        Brighton     1     2   A   \n3    E0  2021-08-14  15:00          Chelsea  Crystal Palace     3     0   H   \n4    E0  2021-08-14  15:00          Everton     Southampton     3     1   H   \n..   ..         ...    ...              ...             ...   ...   ...  ..   \n375  E0  2022-05-22  16:00   Crystal Palace  Manchester Utd     1     0   H   \n376  E0  2022-05-22  16:00   Leicester City     Southampton     4     1   H   \n377  E0  2022-05-22  16:00        Liverpool          Wolves     3     1   H   \n378  E0  2022-05-22  16:00  Manchester City     Aston Villa     3     2   H   \n379  E0  2022-05-22  16:00     Norwich City       Tottenham     0     5   A   \n\n     HTHG  HTAG  ... Rating_Away Rating difference               game_home_ID  \\\n0       1     0  ...          79                -6        Brentford2021-08-13   \n1       1     0  ...          76                 7   Manchester Utd2021-08-14   \n2       1     0  ...          75                 1          Burnley2021-08-14   \n3       2     0  ...          76                 7          Chelsea2021-08-14   \n4       0     1  ...          76                 3          Everton2021-08-14   \n..    ...   ...  ...         ...               ...                        ...   \n375     1     0  ...          83                -7   Crystal Palace2022-05-22   \n376     0     0  ...          76                 4   Leicester City2022-05-22   \n377     1     1  ...          78                 6        Liverpool2022-05-22   \n378     0     1  ...          78                 7  Manchester City2022-05-22   \n379     0     2  ...          82                -8     Norwich City2022-05-22   \n\n                 game_away_ID  Wk_h  Wk_a  Elo_h_after  Elo_a_after  \\\n0           Arsenal2021-08-13     1     1       1515.0       1485.0   \n1      Leeds United2021-08-14     1     1          NaN          NaN   \n2          Brighton2021-08-14     1     1          NaN          NaN   \n3    Crystal Palace2021-08-14     1     1          NaN          NaN   \n4       Southampton2021-08-14     1     1          NaN          NaN   \n..                        ...   ...   ...          ...          ...   \n375  Manchester Utd2022-05-22    38    38          NaN          NaN   \n376     Southampton2022-05-22    38    38          NaN          NaN   \n377          Wolves2022-05-22    38    38          NaN          NaN   \n378     Aston Villa2022-05-22    38    38          NaN          NaN   \n379       Tottenham2022-05-22    38    38          NaN          NaN   \n\n     Elo_h_before  Elo_a_before  \n0          1500.0        1500.0  \n1             NaN           NaN  \n2             NaN           NaN  \n3             NaN           NaN  \n4             NaN           NaN  \n..            ...           ...  \n375           NaN           NaN  \n376           NaN           NaN  \n377           NaN           NaN  \n378           NaN           NaN  \n379           NaN           NaN  \n\n[380 rows x 117 columns]",
      "text/html": "<div>\n<style scoped>\n    .dataframe tbody tr th:only-of-type {\n        vertical-align: middle;\n    }\n\n    .dataframe tbody tr th {\n        vertical-align: top;\n    }\n\n    .dataframe thead th {\n        text-align: right;\n    }\n</style>\n<table border=\"1\" class=\"dataframe\">\n  <thead>\n    <tr style=\"text-align: right;\">\n      <th></th>\n      <th>Div</th>\n      <th>Date</th>\n      <th>Time</th>\n      <th>HomeTeam</th>\n      <th>AwayTeam</th>\n      <th>FTHG</th>\n      <th>FTAG</th>\n      <th>FTR</th>\n      <th>HTHG</th>\n      <th>HTAG</th>\n      <th>...</th>\n      <th>Rating_Away</th>\n      <th>Rating difference</th>\n      <th>game_home_ID</th>\n      <th>game_away_ID</th>\n      <th>Wk_h</th>\n      <th>Wk_a</th>\n      <th>Elo_h_after</th>\n      <th>Elo_a_after</th>\n      <th>Elo_h_before</th>\n      <th>Elo_a_before</th>\n    </tr>\n  </thead>\n  <tbody>\n    <tr>\n      <th>0</th>\n      <td>E0</td>\n      <td>2021-08-13</td>\n      <td>20:00</td>\n      <td>Brentford</td>\n      <td>Arsenal</td>\n      <td>2</td>\n      <td>0</td>\n      <td>H</td>\n      <td>1</td>\n      <td>0</td>\n      <td>...</td>\n      <td>79</td>\n      <td>-6</td>\n      <td>Brentford2021-08-13</td>\n      <td>Arsenal2021-08-13</td>\n      <td>1</td>\n      <td>1</td>\n      <td>1515.0</td>\n      <td>1485.0</td>\n      <td>1500.0</td>\n      <td>1500.0</td>\n    </tr>\n    <tr>\n      <th>1</th>\n      <td>E0</td>\n      <td>2021-08-14</td>\n      <td>12:30</td>\n      <td>Manchester Utd</td>\n      <td>Leeds United</td>\n      <td>5</td>\n      <td>1</td>\n      <td>H</td>\n      <td>1</td>\n      <td>0</td>\n      <td>...</td>\n      <td>76</td>\n      <td>7</td>\n      <td>Manchester Utd2021-08-14</td>\n      <td>Leeds United2021-08-14</td>\n      <td>1</td>\n      <td>1</td>\n      <td>NaN</td>\n      <td>NaN</td>\n      <td>NaN</td>\n      <td>NaN</td>\n    </tr>\n    <tr>\n      <th>2</th>\n      <td>E0</td>\n      <td>2021-08-14</td>\n      <td>15:00</td>\n      <td>Burnley</td>\n      <td>Brighton</td>\n      <td>1</td>\n      <td>2</td>\n      <td>A</td>\n      <td>1</td>\n      <td>0</td>\n      <td>...</td>\n      <td>75</td>\n      <td>1</td>\n      <td>Burnley2021-08-14</td>\n      <td>Brighton2021-08-14</td>\n      <td>1</td>\n      <td>1</td>\n      <td>NaN</td>\n      <td>NaN</td>\n      <td>NaN</td>\n      <td>NaN</td>\n    </tr>\n    <tr>\n      <th>3</th>\n      <td>E0</td>\n      <td>2021-08-14</td>\n      <td>15:00</td>\n      <td>Chelsea</td>\n      <td>Crystal Palace</td>\n      <td>3</td>\n      <td>0</td>\n      <td>H</td>\n      <td>2</td>\n      <td>0</td>\n      <td>...</td>\n      <td>76</td>\n      <td>7</td>\n      <td>Chelsea2021-08-14</td>\n      <td>Crystal Palace2021-08-14</td>\n      <td>1</td>\n      <td>1</td>\n      <td>NaN</td>\n      <td>NaN</td>\n      <td>NaN</td>\n      <td>NaN</td>\n    </tr>\n    <tr>\n      <th>4</th>\n      <td>E0</td>\n      <td>2021-08-14</td>\n      <td>15:00</td>\n      <td>Everton</td>\n      <td>Southampton</td>\n      <td>3</td>\n      <td>1</td>\n      <td>H</td>\n      <td>0</td>\n      <td>1</td>\n      <td>...</td>\n      <td>76</td>\n      <td>3</td>\n      <td>Everton2021-08-14</td>\n      <td>Southampton2021-08-14</td>\n      <td>1</td>\n      <td>1</td>\n      <td>NaN</td>\n      <td>NaN</td>\n      <td>NaN</td>\n      <td>NaN</td>\n    </tr>\n    <tr>\n      <th>...</th>\n      <td>...</td>\n      <td>...</td>\n      <td>...</td>\n      <td>...</td>\n      <td>...</td>\n      <td>...</td>\n      <td>...</td>\n      <td>...</td>\n      <td>...</td>\n      <td>...</td>\n      <td>...</td>\n      <td>...</td>\n      <td>...</td>\n      <td>...</td>\n      <td>...</td>\n      <td>...</td>\n      <td>...</td>\n      <td>...</td>\n      <td>...</td>\n      <td>...</td>\n      <td>...</td>\n    </tr>\n    <tr>\n      <th>375</th>\n      <td>E0</td>\n      <td>2022-05-22</td>\n      <td>16:00</td>\n      <td>Crystal Palace</td>\n      <td>Manchester Utd</td>\n      <td>1</td>\n      <td>0</td>\n      <td>H</td>\n      <td>1</td>\n      <td>0</td>\n      <td>...</td>\n      <td>83</td>\n      <td>-7</td>\n      <td>Crystal Palace2022-05-22</td>\n      <td>Manchester Utd2022-05-22</td>\n      <td>38</td>\n      <td>38</td>\n      <td>NaN</td>\n      <td>NaN</td>\n      <td>NaN</td>\n      <td>NaN</td>\n    </tr>\n    <tr>\n      <th>376</th>\n      <td>E0</td>\n      <td>2022-05-22</td>\n      <td>16:00</td>\n      <td>Leicester City</td>\n      <td>Southampton</td>\n      <td>4</td>\n      <td>1</td>\n      <td>H</td>\n      <td>0</td>\n      <td>0</td>\n      <td>...</td>\n      <td>76</td>\n      <td>4</td>\n      <td>Leicester City2022-05-22</td>\n      <td>Southampton2022-05-22</td>\n      <td>38</td>\n      <td>38</td>\n      <td>NaN</td>\n      <td>NaN</td>\n      <td>NaN</td>\n      <td>NaN</td>\n    </tr>\n    <tr>\n      <th>377</th>\n      <td>E0</td>\n      <td>2022-05-22</td>\n      <td>16:00</td>\n      <td>Liverpool</td>\n      <td>Wolves</td>\n      <td>3</td>\n      <td>1</td>\n      <td>H</td>\n      <td>1</td>\n      <td>1</td>\n      <td>...</td>\n      <td>78</td>\n      <td>6</td>\n      <td>Liverpool2022-05-22</td>\n      <td>Wolves2022-05-22</td>\n      <td>38</td>\n      <td>38</td>\n      <td>NaN</td>\n      <td>NaN</td>\n      <td>NaN</td>\n      <td>NaN</td>\n    </tr>\n    <tr>\n      <th>378</th>\n      <td>E0</td>\n      <td>2022-05-22</td>\n      <td>16:00</td>\n      <td>Manchester City</td>\n      <td>Aston Villa</td>\n      <td>3</td>\n      <td>2</td>\n      <td>H</td>\n      <td>0</td>\n      <td>1</td>\n      <td>...</td>\n      <td>78</td>\n      <td>7</td>\n      <td>Manchester City2022-05-22</td>\n      <td>Aston Villa2022-05-22</td>\n      <td>38</td>\n      <td>38</td>\n      <td>NaN</td>\n      <td>NaN</td>\n      <td>NaN</td>\n      <td>NaN</td>\n    </tr>\n    <tr>\n      <th>379</th>\n      <td>E0</td>\n      <td>2022-05-22</td>\n      <td>16:00</td>\n      <td>Norwich City</td>\n      <td>Tottenham</td>\n      <td>0</td>\n      <td>5</td>\n      <td>A</td>\n      <td>0</td>\n      <td>2</td>\n      <td>...</td>\n      <td>82</td>\n      <td>-8</td>\n      <td>Norwich City2022-05-22</td>\n      <td>Tottenham2022-05-22</td>\n      <td>38</td>\n      <td>38</td>\n      <td>NaN</td>\n      <td>NaN</td>\n      <td>NaN</td>\n      <td>NaN</td>\n    </tr>\n  </tbody>\n</table>\n<p>380 rows × 117 columns</p>\n</div>"
     },
     "execution_count": 5,
     "metadata": {},
     "output_type": "execute_result"
    }
   ],
   "source": [
    "#functions for feature Engineering\n",
    "\n",
    "#get points for one game\n",
    "def get_points(team, wk, df):\n",
    "    for index, row in df.iterrows():\n",
    "        if row['Wk_h'] == wk and row['HomeTeam'] == team:\n",
    "            if row['FTR'] == 'H':\n",
    "                return 3\n",
    "            if row['FTR'] == 'D':\n",
    "                return 1\n",
    "            else:\n",
    "                return 0\n",
    "        if row['Wk_a'] == wk and row['AwayTeam'] == team:\n",
    "            if row['FTR'] == 'A':\n",
    "                return 3\n",
    "            if row['FTR'] == 'D':\n",
    "                return 1\n",
    "            else:\n",
    "                return 0\n",
    "\n",
    "#get values for statistics (shots, corners, goals)\n",
    "def get_stats(team, wk, stat, df):\n",
    "    for index, row in df.iterrows():\n",
    "        #print(row[['HomeTeam','Wk']])\n",
    "        if row['Wk_h'] == wk and row['HomeTeam'] == team:\n",
    "            if stat == 'goals':\n",
    "                return row['FTHG']\n",
    "            elif stat == 'shots':\n",
    "                return row['HST']\n",
    "            elif stat == 'corners':\n",
    "                return row['HC']\n",
    "        elif row['Wk_a'] == wk and row['AwayTeam'] == team:\n",
    "            if stat == 'goals':\n",
    "                return row['FTAG']\n",
    "            elif stat == 'shots':\n",
    "                return row['AST']\n",
    "            elif stat == 'corners':\n",
    "                return row['AC']\n",
    "            return row[stat]\n",
    "\n",
    "#sum points over a season\n",
    "def get_points_season(team, fr, to, df):\n",
    "    test = []\n",
    "    out = 0\n",
    "    df2 = 0\n",
    "    if fr == to: return 0\n",
    "    for i in range(fr, to):\n",
    "        out = out + get_points(team, i, df)\n",
    "        test.append(out)\n",
    "        df3 = pd.Series(test)\n",
    "        df2 = df3.rolling(len(df3)).mean()\n",
    "        df2 = df2[len(df3) - 1]\n",
    "    return df2\n",
    "\n",
    "#sum stats values over a season\n",
    "def get_stats_season(team, fr, to, category, df):\n",
    "    test = []\n",
    "    out = 0\n",
    "    df2 = 0\n",
    "    if fr == to: return 0\n",
    "    for i in range(fr, to):\n",
    "        out = out + get_stats(team, i, category, df)\n",
    "        test.append(out)\n",
    "        df3 = pd.Series(test)\n",
    "        df2 = df3.rolling(len(df3)).mean()\n",
    "        df2 = df2[len(df3) - 1]\n",
    "        #df2 = df.ewm(alpha=0.4).mean()[len(df) - 1]\n",
    "    return df2\n",
    "\n",
    "#get ewm over a season\n",
    "def get_ewm_season(team, fr, to, df):\n",
    "    test = []\n",
    "    out = 0\n",
    "    if fr == to: return 0\n",
    "    for i in range(fr, to):\n",
    "        out = out + get_points(team, i, df)\n",
    "        test.append(out)\n",
    "        df3 = pd.Series(test)\n",
    "        df2 = df3.ewm(alpha=0.9).mean()[len(df3) - 1]\n",
    "    return df2\n",
    "\n",
    "#append form to df\n",
    "def append_form(timespan, df):\n",
    "    formH = []\n",
    "    formA = []\n",
    "    for index, row in df.iterrows():\n",
    "        wk_h = row['Wk_h']\n",
    "        wk_a = row['Wk_a']\n",
    "        teamH = row['HomeTeam']\n",
    "        teamA = row['AwayTeam']\n",
    "        if int(wk_h) - timespan < 1:\n",
    "            pointsH = get_points_season(teamH, 1, int(wk_h) - 1, df)\n",
    "        else:\n",
    "            pointsH = get_points_season(teamH, int(wk_h) - timespan, int(wk_h) - 1, df=df)\n",
    "        if int(wk_a) - timespan < 1:\n",
    "            pointsA = get_points_season(teamA, 1, int(wk_a) - 1, df)\n",
    "        else:\n",
    "            pointsA = get_points_season(teamA, int(wk_a) - timespan, int(wk_a) - 1, df=df)\n",
    "        formH.append(pointsH)\n",
    "        formA.append(pointsA)\n",
    "    df['formH'] = formH\n",
    "    df['formA'] = formA\n",
    "    return df\n",
    "\n",
    "#append ewm to df\n",
    "def append_ewm(timespan, df):\n",
    "    formH = []\n",
    "    formA = []\n",
    "    for index, row in df.iterrows():\n",
    "        wk_h = row['Wk_h']\n",
    "        wk_a = row['Wk_a']\n",
    "        teamH = row['HomeTeam']\n",
    "        teamA = row['AwayTeam']\n",
    "        if int(wk_h) - timespan < 1:\n",
    "            pointsH = get_ewm_season(teamH, 1, int(wk_h), df)\n",
    "        else:\n",
    "            pointsH = get_ewm_season(teamH, int(wk_h) - timespan, int(wk_h) - 1, df)\n",
    "        if int(wk_a) - timespan < 1:\n",
    "            pointsA = get_ewm_season(teamA, 1, int(wk_a), df)\n",
    "        else:\n",
    "            pointsA = get_ewm_season(teamA, int(wk_a) - timespan, int(wk_a) - 1, df)\n",
    "        formH.append(pointsH)\n",
    "        formA.append(pointsA)\n",
    "    df['ewmH'] = formH\n",
    "    df['ewmA'] = formA\n",
    "    return df\n",
    "\n",
    "#append stats to df\n",
    "def append_stats(timespan, df):\n",
    "    goals_h = []\n",
    "    goals_A = []\n",
    "    shots_H = []\n",
    "    shots_A = []\n",
    "    corners_H = []\n",
    "    corners_A = []\n",
    "\n",
    "    for index, row in df.iterrows():\n",
    "        wk_h = row['Wk_h']\n",
    "        wk_a = row['Wk_a']\n",
    "        teamH = row['HomeTeam']\n",
    "        teamA = row['AwayTeam']\n",
    "        if int(wk_h) - timespan < 1:\n",
    "            goalsH = get_stats_season(teamH, 1, int(wk_h) - 1, 'goals', df)\n",
    "            shotsH = get_stats_season(teamH, 1, int(wk_h) - 1, 'shots', df)\n",
    "            cornersH = get_stats_season(teamH, 1, int(wk_h) - 1, 'corners', df)\n",
    "        else:\n",
    "            goalsH = get_stats_season(teamH, int(wk_h) - timespan, int(wk_h) - 1, 'goals', df)\n",
    "            shotsH = get_stats_season(teamH, int(wk_h) - timespan, int(wk_h) - 1, 'shots', df)\n",
    "            cornersH = get_stats_season(teamH, int(wk_h) - timespan, int(wk_h) - 1, 'corners', df)\n",
    "\n",
    "        if int(wk_a) - timespan < 1:\n",
    "            goalsA = get_stats_season(teamA, 1, int(wk_a) - 1, 'goals', df)\n",
    "            shotsA = get_stats_season(teamA, 1, int(wk_a) - 1, 'shots', df)\n",
    "            cornersA = get_stats_season(teamA, 1, int(wk_a) - 1, 'corners', df)\n",
    "        else:\n",
    "            goalsA = get_stats_season(teamA, int(wk_a) - timespan, int(wk_a) - 1, 'goals', df)\n",
    "            shotsA = get_stats_season(teamA, int(wk_a) - timespan, int(wk_a) - 1, 'shots', df)\n",
    "            cornersA = get_stats_season(teamA, int(wk_a) - timespan, int(wk_a) - 1, 'corners', df)\n",
    "\n",
    "        goals_h.append(goalsH)\n",
    "        goals_A.append(goalsA)\n",
    "        shots_H.append(shotsH)\n",
    "        shots_A.append(shotsA)\n",
    "        corners_H.append(cornersH)\n",
    "        corners_A.append(cornersA)\n",
    "    df['goalsH'] = goals_h\n",
    "    df['goalsA'] = goals_A\n",
    "    df['shotsH'] = shots_H\n",
    "    df['shotsA'] = shots_A\n",
    "    df['cornersH'] = corners_H\n",
    "    df['cornersA'] = corners_A\n",
    "    return df\n",
    "\n",
    "\n",
    "#Calculate Elo Rating\n",
    "def expected_result(loc, aw):\n",
    "    dr = loc - aw\n",
    "    we = (1 / (10 ** (-dr / 400) + 1))\n",
    "    return [np.round(we, 3), 1 - np.round(we, 3)]\n",
    "\n",
    "def actual_result(loc, aw):\n",
    "    if loc < aw:\n",
    "        wa = 1\n",
    "        wl = 0\n",
    "    elif loc > aw:\n",
    "        wa = 0\n",
    "        wl = 1\n",
    "    elif loc == aw:\n",
    "        wa = 0.5\n",
    "        wl = 0.5\n",
    "    return [wl, wa]\n",
    "\n",
    "\n",
    "def calculate_elo(elo_l, elo_v, local_goals, away_goals, k_value):\n",
    "    k = k_value\n",
    "    wl, wv = actual_result(local_goals, away_goals)\n",
    "    wel, wev = expected_result(elo_l, elo_v)\n",
    "\n",
    "    elo_ln = elo_l + k * (wl - wel)\n",
    "    elo_vn = elo_v + k * (wv - wev)\n",
    "\n",
    "    return elo_ln, elo_vn\n",
    "\n",
    "def calculate_elo_season(df):\n",
    "    current_elo = {}\n",
    "    for idx, row in df.iterrows():\n",
    "\n",
    "        local = row['HomeTeam']\n",
    "        away = row['AwayTeam']\n",
    "        local_goals = row['FTHG']\n",
    "        away_goals = row['FTAG']\n",
    "        #tournament = row['tournament']\n",
    "\n",
    "        if local not in current_elo.keys():\n",
    "            current_elo[local] = 1500\n",
    "\n",
    "        if away not in current_elo.keys():\n",
    "            current_elo[away] = 1500\n",
    "\n",
    "        elo_l = current_elo[local]\n",
    "        elo_v = current_elo[away]\n",
    "        elo_ln, elo_vn = calculate_elo(elo_l, elo_v, local_goals, away_goals, 30)\n",
    "\n",
    "        current_elo[local] = elo_ln\n",
    "        current_elo[away] = elo_vn\n",
    "\n",
    "        df.loc[idx, 'Elo_h_after'] = elo_ln\n",
    "        df.loc[idx, 'Elo_a_after'] = elo_vn\n",
    "        df.loc[idx, 'Elo_h_before'] = elo_l\n",
    "        df.loc[idx, 'Elo_a_before'] = elo_v\n",
    "        return df\n",
    "calculate_elo_season(PL21_22_fixtures)"
   ],
   "metadata": {
    "collapsed": false,
    "pycharm": {
     "name": "#%%\n"
    }
   }
  },
  {
   "cell_type": "code",
   "execution_count": 6,
   "outputs": [],
   "source": [
    "PL19_20_fixtures = calculate_elo_season(PL19_20_fixtures)\n",
    "PL21_22_fixtures = calculate_elo_season(PL21_22_fixtures)"
   ],
   "metadata": {
    "collapsed": false,
    "pycharm": {
     "name": "#%%\n"
    }
   }
  },
  {
   "cell_type": "code",
   "execution_count": 7,
   "outputs": [],
   "source": [
    "#add features to table\n",
    "PL19_20_fixtures = append_stats(7, PL19_20_fixtures)\n",
    "PL19_20_fixtures = append_ewm(40, PL19_20_fixtures)\n",
    "PL19_20_fixtures = append_form(7, PL19_20_fixtures)\n",
    "PL19_20_fixtures = calculate_elo_season(PL19_20_fixtures)\n",
    "PL20_21_fixtures = append_stats(7, PL20_21_fixtures)\n",
    "PL20_21_fixtures = append_ewm(40, PL20_21_fixtures)\n",
    "PL20_21_fixtures = append_form(7, PL20_21_fixtures)\n",
    "PL20_21_fixtures = calculate_elo_season(PL20_21_fixtures)\n",
    "PL21_22_fixtures = append_stats(7, PL21_22_fixtures)\n",
    "PL21_22_fixtures = append_ewm(40, PL21_22_fixtures)\n",
    "PL21_22_fixtures = append_form(7, PL21_22_fixtures)\n",
    "PL21_22_fixtures = calculate_elo_season(PL21_22_fixtures)\n"
   ],
   "metadata": {
    "collapsed": false,
    "pycharm": {
     "name": "#%%\n"
    }
   }
  },
  {
   "cell_type": "code",
   "execution_count": 9,
   "outputs": [
    {
     "data": {
      "text/plain": "    Div        Date   Time         HomeTeam        AwayTeam  FTHG  FTAG FTR  \\\n0    E0  2020-09-12  12:30           Fulham         Arsenal     0     3   A   \n1    E0  2020-09-12  15:00   Crystal Palace     Southampton     1     0   H   \n2    E0  2020-09-12  17:30        Liverpool    Leeds United     4     3   H   \n3    E0  2020-09-12  20:00         West Ham   Newcastle Utd     0     2   A   \n4    E0  2020-09-13  14:00        West Brom  Leicester City     0     3   A   \n..   ..         ...    ...              ...             ...   ...   ...  ..   \n375  E0  2021-05-23  16:00        Liverpool  Crystal Palace     2     0   H   \n376  E0  2021-05-23  16:00  Manchester City         Everton     5     0   H   \n377  E0  2021-05-23  16:00    Sheffield Utd         Burnley     1     0   H   \n378  E0  2021-05-23  16:00         West Ham     Southampton     3     0   H   \n379  E0  2021-05-23  16:00           Wolves  Manchester Utd     1     2   A   \n\n     HTHG  HTAG  ... Elo_h_after Elo_a_after  Elo_h_before  Elo_a_before  \\\n0       0     1  ...      1485.0      1515.0        1500.0        1500.0   \n1       1     0  ...         NaN         NaN           NaN           NaN   \n2       3     2  ...         NaN         NaN           NaN           NaN   \n3       0     0  ...         NaN         NaN           NaN           NaN   \n4       0     0  ...         NaN         NaN           NaN           NaN   \n..    ...   ...  ...         ...         ...           ...           ...   \n375     1     0  ...         NaN         NaN           NaN           NaN   \n376     2     0  ...         NaN         NaN           NaN           NaN   \n377     1     0  ...         NaN         NaN           NaN           NaN   \n378     2     0  ...         NaN         NaN           NaN           NaN   \n379     1     2  ...         NaN         NaN           NaN           NaN   \n\n     goalsDifference  shotsDifference  cornersDifference  ewmDifference  \\\n0           0.000000         0.000000           0.000000       0.000000   \n1           0.000000         0.000000           0.000000       0.000000   \n2           0.000000         0.000000           0.000000       0.000000   \n3           0.000000         0.000000           0.000000       0.000000   \n4           0.000000         0.000000           0.000000       0.000000   \n..               ...              ...                ...            ...   \n375         2.500000        16.500000          12.833333      21.696989   \n376         2.166667         1.666667           6.000000      24.270973   \n377        -4.833333        -8.333333         -12.500000     -19.027000   \n378         2.833333        -3.500000          -6.666667      18.722710   \n379        -4.666667        -5.500000          -2.000000     -25.902790   \n\n     elo_difference  form_difference  \n0               0.0         0.000000  \n1               NaN         0.000000  \n2               NaN         0.000000  \n3               NaN         0.000000  \n4               NaN         0.000000  \n..              ...              ...  \n375             NaN         5.500000  \n376             NaN         1.666667  \n377             NaN        -0.500000  \n378             NaN         2.500000  \n379             NaN        -0.666667  \n\n[380 rows x 133 columns]",
      "text/html": "<div>\n<style scoped>\n    .dataframe tbody tr th:only-of-type {\n        vertical-align: middle;\n    }\n\n    .dataframe tbody tr th {\n        vertical-align: top;\n    }\n\n    .dataframe thead th {\n        text-align: right;\n    }\n</style>\n<table border=\"1\" class=\"dataframe\">\n  <thead>\n    <tr style=\"text-align: right;\">\n      <th></th>\n      <th>Div</th>\n      <th>Date</th>\n      <th>Time</th>\n      <th>HomeTeam</th>\n      <th>AwayTeam</th>\n      <th>FTHG</th>\n      <th>FTAG</th>\n      <th>FTR</th>\n      <th>HTHG</th>\n      <th>HTAG</th>\n      <th>...</th>\n      <th>Elo_h_after</th>\n      <th>Elo_a_after</th>\n      <th>Elo_h_before</th>\n      <th>Elo_a_before</th>\n      <th>goalsDifference</th>\n      <th>shotsDifference</th>\n      <th>cornersDifference</th>\n      <th>ewmDifference</th>\n      <th>elo_difference</th>\n      <th>form_difference</th>\n    </tr>\n  </thead>\n  <tbody>\n    <tr>\n      <th>0</th>\n      <td>E0</td>\n      <td>2020-09-12</td>\n      <td>12:30</td>\n      <td>Fulham</td>\n      <td>Arsenal</td>\n      <td>0</td>\n      <td>3</td>\n      <td>A</td>\n      <td>0</td>\n      <td>1</td>\n      <td>...</td>\n      <td>1485.0</td>\n      <td>1515.0</td>\n      <td>1500.0</td>\n      <td>1500.0</td>\n      <td>0.000000</td>\n      <td>0.000000</td>\n      <td>0.000000</td>\n      <td>0.000000</td>\n      <td>0.0</td>\n      <td>0.000000</td>\n    </tr>\n    <tr>\n      <th>1</th>\n      <td>E0</td>\n      <td>2020-09-12</td>\n      <td>15:00</td>\n      <td>Crystal Palace</td>\n      <td>Southampton</td>\n      <td>1</td>\n      <td>0</td>\n      <td>H</td>\n      <td>1</td>\n      <td>0</td>\n      <td>...</td>\n      <td>NaN</td>\n      <td>NaN</td>\n      <td>NaN</td>\n      <td>NaN</td>\n      <td>0.000000</td>\n      <td>0.000000</td>\n      <td>0.000000</td>\n      <td>0.000000</td>\n      <td>NaN</td>\n      <td>0.000000</td>\n    </tr>\n    <tr>\n      <th>2</th>\n      <td>E0</td>\n      <td>2020-09-12</td>\n      <td>17:30</td>\n      <td>Liverpool</td>\n      <td>Leeds United</td>\n      <td>4</td>\n      <td>3</td>\n      <td>H</td>\n      <td>3</td>\n      <td>2</td>\n      <td>...</td>\n      <td>NaN</td>\n      <td>NaN</td>\n      <td>NaN</td>\n      <td>NaN</td>\n      <td>0.000000</td>\n      <td>0.000000</td>\n      <td>0.000000</td>\n      <td>0.000000</td>\n      <td>NaN</td>\n      <td>0.000000</td>\n    </tr>\n    <tr>\n      <th>3</th>\n      <td>E0</td>\n      <td>2020-09-12</td>\n      <td>20:00</td>\n      <td>West Ham</td>\n      <td>Newcastle Utd</td>\n      <td>0</td>\n      <td>2</td>\n      <td>A</td>\n      <td>0</td>\n      <td>0</td>\n      <td>...</td>\n      <td>NaN</td>\n      <td>NaN</td>\n      <td>NaN</td>\n      <td>NaN</td>\n      <td>0.000000</td>\n      <td>0.000000</td>\n      <td>0.000000</td>\n      <td>0.000000</td>\n      <td>NaN</td>\n      <td>0.000000</td>\n    </tr>\n    <tr>\n      <th>4</th>\n      <td>E0</td>\n      <td>2020-09-13</td>\n      <td>14:00</td>\n      <td>West Brom</td>\n      <td>Leicester City</td>\n      <td>0</td>\n      <td>3</td>\n      <td>A</td>\n      <td>0</td>\n      <td>0</td>\n      <td>...</td>\n      <td>NaN</td>\n      <td>NaN</td>\n      <td>NaN</td>\n      <td>NaN</td>\n      <td>0.000000</td>\n      <td>0.000000</td>\n      <td>0.000000</td>\n      <td>0.000000</td>\n      <td>NaN</td>\n      <td>0.000000</td>\n    </tr>\n    <tr>\n      <th>...</th>\n      <td>...</td>\n      <td>...</td>\n      <td>...</td>\n      <td>...</td>\n      <td>...</td>\n      <td>...</td>\n      <td>...</td>\n      <td>...</td>\n      <td>...</td>\n      <td>...</td>\n      <td>...</td>\n      <td>...</td>\n      <td>...</td>\n      <td>...</td>\n      <td>...</td>\n      <td>...</td>\n      <td>...</td>\n      <td>...</td>\n      <td>...</td>\n      <td>...</td>\n      <td>...</td>\n    </tr>\n    <tr>\n      <th>375</th>\n      <td>E0</td>\n      <td>2021-05-23</td>\n      <td>16:00</td>\n      <td>Liverpool</td>\n      <td>Crystal Palace</td>\n      <td>2</td>\n      <td>0</td>\n      <td>H</td>\n      <td>1</td>\n      <td>0</td>\n      <td>...</td>\n      <td>NaN</td>\n      <td>NaN</td>\n      <td>NaN</td>\n      <td>NaN</td>\n      <td>2.500000</td>\n      <td>16.500000</td>\n      <td>12.833333</td>\n      <td>21.696989</td>\n      <td>NaN</td>\n      <td>5.500000</td>\n    </tr>\n    <tr>\n      <th>376</th>\n      <td>E0</td>\n      <td>2021-05-23</td>\n      <td>16:00</td>\n      <td>Manchester City</td>\n      <td>Everton</td>\n      <td>5</td>\n      <td>0</td>\n      <td>H</td>\n      <td>2</td>\n      <td>0</td>\n      <td>...</td>\n      <td>NaN</td>\n      <td>NaN</td>\n      <td>NaN</td>\n      <td>NaN</td>\n      <td>2.166667</td>\n      <td>1.666667</td>\n      <td>6.000000</td>\n      <td>24.270973</td>\n      <td>NaN</td>\n      <td>1.666667</td>\n    </tr>\n    <tr>\n      <th>377</th>\n      <td>E0</td>\n      <td>2021-05-23</td>\n      <td>16:00</td>\n      <td>Sheffield Utd</td>\n      <td>Burnley</td>\n      <td>1</td>\n      <td>0</td>\n      <td>H</td>\n      <td>1</td>\n      <td>0</td>\n      <td>...</td>\n      <td>NaN</td>\n      <td>NaN</td>\n      <td>NaN</td>\n      <td>NaN</td>\n      <td>-4.833333</td>\n      <td>-8.333333</td>\n      <td>-12.500000</td>\n      <td>-19.027000</td>\n      <td>NaN</td>\n      <td>-0.500000</td>\n    </tr>\n    <tr>\n      <th>378</th>\n      <td>E0</td>\n      <td>2021-05-23</td>\n      <td>16:00</td>\n      <td>West Ham</td>\n      <td>Southampton</td>\n      <td>3</td>\n      <td>0</td>\n      <td>H</td>\n      <td>2</td>\n      <td>0</td>\n      <td>...</td>\n      <td>NaN</td>\n      <td>NaN</td>\n      <td>NaN</td>\n      <td>NaN</td>\n      <td>2.833333</td>\n      <td>-3.500000</td>\n      <td>-6.666667</td>\n      <td>18.722710</td>\n      <td>NaN</td>\n      <td>2.500000</td>\n    </tr>\n    <tr>\n      <th>379</th>\n      <td>E0</td>\n      <td>2021-05-23</td>\n      <td>16:00</td>\n      <td>Wolves</td>\n      <td>Manchester Utd</td>\n      <td>1</td>\n      <td>2</td>\n      <td>A</td>\n      <td>1</td>\n      <td>2</td>\n      <td>...</td>\n      <td>NaN</td>\n      <td>NaN</td>\n      <td>NaN</td>\n      <td>NaN</td>\n      <td>-4.666667</td>\n      <td>-5.500000</td>\n      <td>-2.000000</td>\n      <td>-25.902790</td>\n      <td>NaN</td>\n      <td>-0.666667</td>\n    </tr>\n  </tbody>\n</table>\n<p>380 rows × 133 columns</p>\n</div>"
     },
     "execution_count": 9,
     "metadata": {},
     "output_type": "execute_result"
    }
   ],
   "source": [
    "#calculate Differences\n",
    "def calculate_differences(df):\n",
    "    df['goalsDifference'] = df['goalsH'] - df['goalsA']\n",
    "    df['shotsDifference'] = df['shotsH'] - df['shotsA']\n",
    "    df['cornersDifference'] = df['cornersH'] - df['cornersA']\n",
    "    df['ewmDifference'] = df['ewmH'] - df['ewmA']\n",
    "    df['elo_difference'] = df['Elo_h_before'] - df['Elo_a_before']\n",
    "    df['form_difference'] = df['formH'] - df['formA']\n",
    "    return df\n",
    "PL19_20_fixtures = calculate_differences(PL19_20_fixtures)\n",
    "PL20_21_fixtures = calculate_differences(PL20_21_fixtures)\n",
    "PL21_22_fixtures = calculate_differences(PL21_22_fixtures)\n",
    "\n",
    "PL20_21_fixtures"
   ],
   "metadata": {
    "collapsed": false,
    "pycharm": {
     "name": "#%%\n"
    }
   }
  },
  {
   "cell_type": "code",
   "execution_count": 8,
   "outputs": [],
   "source": [
    "#export features as csv\n",
    "#PL19_20_fixtures.to_csv('Data/2019-20/Fixtures/PL19_20_features.csv')\n",
    "#PL20_21_fixtures.to_csv('Data/2020-21/Fixtures/PL20_21_features.csv')\n",
    "#PL21_22_fixtures.to_csv('Data/2021-22/Fixtures/PL21_22_features.csv')"
   ],
   "metadata": {
    "collapsed": false,
    "pycharm": {
     "name": "#%%\n"
    }
   }
  }
 ],
 "metadata": {
  "kernelspec": {
   "display_name": "Python 3",
   "language": "python",
   "name": "python3"
  },
  "language_info": {
   "codemirror_mode": {
    "name": "ipython",
    "version": 2
   },
   "file_extension": ".py",
   "mimetype": "text/x-python",
   "name": "python",
   "nbconvert_exporter": "python",
   "pygments_lexer": "ipython2",
   "version": "2.7.6"
  }
 },
 "nbformat": 4,
 "nbformat_minor": 0
}