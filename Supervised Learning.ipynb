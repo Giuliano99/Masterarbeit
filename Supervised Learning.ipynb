{
 "cells": [
  {
   "cell_type": "code",
   "execution_count": 168,
   "metadata": {
    "collapsed": true
   },
   "outputs": [],
   "source": [
    "#notebook for perform ml algorithms\n",
    "#import necessary packages\n",
    "import pandas as pd\n",
    "import numpy as np\n",
    "from sklearn.ensemble import RandomForestClassifier\n",
    "import xgboost as xgb\n",
    "from sklearn.model_selection import train_test_split, GridSearchCV, RandomizedSearchCV\n",
    "from sklearn.metrics import classification_report, confusion_matrix, accuracy_score\n",
    "import matplotlib.pyplot as plt\n",
    "from sklearn.datasets import make_classification\n",
    "import seaborn as sn\n",
    "from sklearn.metrics import confusion_matrix, ConfusionMatrixDisplay"
   ]
  },
  {
   "cell_type": "code",
   "execution_count": 2,
   "outputs": [
    {
     "data": {
      "text/plain": "     Unnamed: 0 Div        Date   Time         HomeTeam         AwayTeam  \\\n30           30  E0  2021-09-11  12:30   Crystal Palace        Tottenham   \n31           31  E0  2021-09-11  15:00          Arsenal     Norwich City   \n32           32  E0  2021-09-11  15:00        Brentford         Brighton   \n33           33  E0  2021-09-11  15:00   Leicester City  Manchester City   \n34           34  E0  2021-09-11  15:00   Manchester Utd    Newcastle Utd   \n..          ...  ..         ...    ...              ...              ...   \n375         375  E0  2022-05-22  16:00   Crystal Palace   Manchester Utd   \n376         376  E0  2022-05-22  16:00   Leicester City      Southampton   \n377         377  E0  2022-05-22  16:00        Liverpool           Wolves   \n378         378  E0  2022-05-22  16:00  Manchester City      Aston Villa   \n379         379  E0  2022-05-22  16:00     Norwich City        Tottenham   \n\n     FTHG  FTAG FTR  HTHG  ...  Elo_h_after Elo_a_after Elo_h_before  \\\n30      3     0   H     0  ...      1505.52     1525.14      1488.18   \n31      1     0   H     0  ...      1472.46     1441.35      1457.52   \n32      0     1   A     0  ...      1498.17     1529.25      1513.11   \n33      0     1   A     0  ...      1498.71     1528.77      1513.71   \n34      4     1   H     1  ...      1539.48     1458.09      1526.88   \n..    ...   ...  ..   ...  ...          ...         ...          ...   \n375     1     0   H     1  ...      1498.11     1506.66      1481.31   \n376     4     1   H     0  ...      1503.48     1420.47      1490.97   \n377     3     1   H     1  ...      1716.99     1461.21      1711.08   \n378     3     2   H     0  ...      1703.55     1460.85      1697.25   \n379     0     5   A     0  ...      1329.81     1603.29      1335.24   \n\n     Elo_a_before  goalsDifference  shotsDifference  cornersDifference  \\\n30        1542.48        -1.500000        -4.000000          -1.500000   \n31        1456.29         0.000000         2.500000           6.000000   \n32        1514.31        -1.000000        -5.000000          -5.000000   \n33        1513.77        -1.000000        -0.500000          -9.000000   \n34        1470.69         3.500000         6.500000          -0.500000   \n..            ...              ...              ...                ...   \n375       1523.46        -1.333333        -1.666667           1.166667   \n376       1432.98         1.833333         4.666667          -2.166667   \n377       1467.12         5.000000         6.166667          10.000000   \n378       1467.15         9.000000         1.333333           4.500000   \n379       1597.86        -2.666667         3.166667           0.833333   \n\n     ewmDifference  elo_difference  form_difference  \n30       -6.783784          -54.30        -4.000000  \n31        0.000000            1.23         0.000000  \n32       -1.081081           -1.20        -1.000000  \n33        0.027027           -0.06         1.500000  \n34        5.792793           56.19         3.500000  \n..             ...             ...              ...  \n375     -12.982307          -42.15         0.000000  \n376       8.867102           57.99         0.333333  \n377      37.769667          243.96         4.500000  \n378      44.976998          230.10         4.000000  \n379     -45.768690         -262.62        -3.000000  \n\n[350 rows x 134 columns]",
      "text/html": "<div>\n<style scoped>\n    .dataframe tbody tr th:only-of-type {\n        vertical-align: middle;\n    }\n\n    .dataframe tbody tr th {\n        vertical-align: top;\n    }\n\n    .dataframe thead th {\n        text-align: right;\n    }\n</style>\n<table border=\"1\" class=\"dataframe\">\n  <thead>\n    <tr style=\"text-align: right;\">\n      <th></th>\n      <th>Unnamed: 0</th>\n      <th>Div</th>\n      <th>Date</th>\n      <th>Time</th>\n      <th>HomeTeam</th>\n      <th>AwayTeam</th>\n      <th>FTHG</th>\n      <th>FTAG</th>\n      <th>FTR</th>\n      <th>HTHG</th>\n      <th>...</th>\n      <th>Elo_h_after</th>\n      <th>Elo_a_after</th>\n      <th>Elo_h_before</th>\n      <th>Elo_a_before</th>\n      <th>goalsDifference</th>\n      <th>shotsDifference</th>\n      <th>cornersDifference</th>\n      <th>ewmDifference</th>\n      <th>elo_difference</th>\n      <th>form_difference</th>\n    </tr>\n  </thead>\n  <tbody>\n    <tr>\n      <th>30</th>\n      <td>30</td>\n      <td>E0</td>\n      <td>2021-09-11</td>\n      <td>12:30</td>\n      <td>Crystal Palace</td>\n      <td>Tottenham</td>\n      <td>3</td>\n      <td>0</td>\n      <td>H</td>\n      <td>0</td>\n      <td>...</td>\n      <td>1505.52</td>\n      <td>1525.14</td>\n      <td>1488.18</td>\n      <td>1542.48</td>\n      <td>-1.500000</td>\n      <td>-4.000000</td>\n      <td>-1.500000</td>\n      <td>-6.783784</td>\n      <td>-54.30</td>\n      <td>-4.000000</td>\n    </tr>\n    <tr>\n      <th>31</th>\n      <td>31</td>\n      <td>E0</td>\n      <td>2021-09-11</td>\n      <td>15:00</td>\n      <td>Arsenal</td>\n      <td>Norwich City</td>\n      <td>1</td>\n      <td>0</td>\n      <td>H</td>\n      <td>0</td>\n      <td>...</td>\n      <td>1472.46</td>\n      <td>1441.35</td>\n      <td>1457.52</td>\n      <td>1456.29</td>\n      <td>0.000000</td>\n      <td>2.500000</td>\n      <td>6.000000</td>\n      <td>0.000000</td>\n      <td>1.23</td>\n      <td>0.000000</td>\n    </tr>\n    <tr>\n      <th>32</th>\n      <td>32</td>\n      <td>E0</td>\n      <td>2021-09-11</td>\n      <td>15:00</td>\n      <td>Brentford</td>\n      <td>Brighton</td>\n      <td>0</td>\n      <td>1</td>\n      <td>A</td>\n      <td>0</td>\n      <td>...</td>\n      <td>1498.17</td>\n      <td>1529.25</td>\n      <td>1513.11</td>\n      <td>1514.31</td>\n      <td>-1.000000</td>\n      <td>-5.000000</td>\n      <td>-5.000000</td>\n      <td>-1.081081</td>\n      <td>-1.20</td>\n      <td>-1.000000</td>\n    </tr>\n    <tr>\n      <th>33</th>\n      <td>33</td>\n      <td>E0</td>\n      <td>2021-09-11</td>\n      <td>15:00</td>\n      <td>Leicester City</td>\n      <td>Manchester City</td>\n      <td>0</td>\n      <td>1</td>\n      <td>A</td>\n      <td>0</td>\n      <td>...</td>\n      <td>1498.71</td>\n      <td>1528.77</td>\n      <td>1513.71</td>\n      <td>1513.77</td>\n      <td>-1.000000</td>\n      <td>-0.500000</td>\n      <td>-9.000000</td>\n      <td>0.027027</td>\n      <td>-0.06</td>\n      <td>1.500000</td>\n    </tr>\n    <tr>\n      <th>34</th>\n      <td>34</td>\n      <td>E0</td>\n      <td>2021-09-11</td>\n      <td>15:00</td>\n      <td>Manchester Utd</td>\n      <td>Newcastle Utd</td>\n      <td>4</td>\n      <td>1</td>\n      <td>H</td>\n      <td>1</td>\n      <td>...</td>\n      <td>1539.48</td>\n      <td>1458.09</td>\n      <td>1526.88</td>\n      <td>1470.69</td>\n      <td>3.500000</td>\n      <td>6.500000</td>\n      <td>-0.500000</td>\n      <td>5.792793</td>\n      <td>56.19</td>\n      <td>3.500000</td>\n    </tr>\n    <tr>\n      <th>...</th>\n      <td>...</td>\n      <td>...</td>\n      <td>...</td>\n      <td>...</td>\n      <td>...</td>\n      <td>...</td>\n      <td>...</td>\n      <td>...</td>\n      <td>...</td>\n      <td>...</td>\n      <td>...</td>\n      <td>...</td>\n      <td>...</td>\n      <td>...</td>\n      <td>...</td>\n      <td>...</td>\n      <td>...</td>\n      <td>...</td>\n      <td>...</td>\n      <td>...</td>\n      <td>...</td>\n    </tr>\n    <tr>\n      <th>375</th>\n      <td>375</td>\n      <td>E0</td>\n      <td>2022-05-22</td>\n      <td>16:00</td>\n      <td>Crystal Palace</td>\n      <td>Manchester Utd</td>\n      <td>1</td>\n      <td>0</td>\n      <td>H</td>\n      <td>1</td>\n      <td>...</td>\n      <td>1498.11</td>\n      <td>1506.66</td>\n      <td>1481.31</td>\n      <td>1523.46</td>\n      <td>-1.333333</td>\n      <td>-1.666667</td>\n      <td>1.166667</td>\n      <td>-12.982307</td>\n      <td>-42.15</td>\n      <td>0.000000</td>\n    </tr>\n    <tr>\n      <th>376</th>\n      <td>376</td>\n      <td>E0</td>\n      <td>2022-05-22</td>\n      <td>16:00</td>\n      <td>Leicester City</td>\n      <td>Southampton</td>\n      <td>4</td>\n      <td>1</td>\n      <td>H</td>\n      <td>0</td>\n      <td>...</td>\n      <td>1503.48</td>\n      <td>1420.47</td>\n      <td>1490.97</td>\n      <td>1432.98</td>\n      <td>1.833333</td>\n      <td>4.666667</td>\n      <td>-2.166667</td>\n      <td>8.867102</td>\n      <td>57.99</td>\n      <td>0.333333</td>\n    </tr>\n    <tr>\n      <th>377</th>\n      <td>377</td>\n      <td>E0</td>\n      <td>2022-05-22</td>\n      <td>16:00</td>\n      <td>Liverpool</td>\n      <td>Wolves</td>\n      <td>3</td>\n      <td>1</td>\n      <td>H</td>\n      <td>1</td>\n      <td>...</td>\n      <td>1716.99</td>\n      <td>1461.21</td>\n      <td>1711.08</td>\n      <td>1467.12</td>\n      <td>5.000000</td>\n      <td>6.166667</td>\n      <td>10.000000</td>\n      <td>37.769667</td>\n      <td>243.96</td>\n      <td>4.500000</td>\n    </tr>\n    <tr>\n      <th>378</th>\n      <td>378</td>\n      <td>E0</td>\n      <td>2022-05-22</td>\n      <td>16:00</td>\n      <td>Manchester City</td>\n      <td>Aston Villa</td>\n      <td>3</td>\n      <td>2</td>\n      <td>H</td>\n      <td>0</td>\n      <td>...</td>\n      <td>1703.55</td>\n      <td>1460.85</td>\n      <td>1697.25</td>\n      <td>1467.15</td>\n      <td>9.000000</td>\n      <td>1.333333</td>\n      <td>4.500000</td>\n      <td>44.976998</td>\n      <td>230.10</td>\n      <td>4.000000</td>\n    </tr>\n    <tr>\n      <th>379</th>\n      <td>379</td>\n      <td>E0</td>\n      <td>2022-05-22</td>\n      <td>16:00</td>\n      <td>Norwich City</td>\n      <td>Tottenham</td>\n      <td>0</td>\n      <td>5</td>\n      <td>A</td>\n      <td>0</td>\n      <td>...</td>\n      <td>1329.81</td>\n      <td>1603.29</td>\n      <td>1335.24</td>\n      <td>1597.86</td>\n      <td>-2.666667</td>\n      <td>3.166667</td>\n      <td>0.833333</td>\n      <td>-45.768690</td>\n      <td>-262.62</td>\n      <td>-3.000000</td>\n    </tr>\n  </tbody>\n</table>\n<p>350 rows × 134 columns</p>\n</div>"
     },
     "execution_count": 2,
     "metadata": {},
     "output_type": "execute_result"
    }
   ],
   "source": [
    "#import and prepare data\n",
    "player_ratings_19 = pd.read_csv('Data/2019-20/Players/player_ratings_19_a_09.csv')\n",
    "features_19 = pd.read_csv('Data/2019-20/Fixtures/PL19_20_features.csv')\n",
    "#exclude gameweeks 1-3\n",
    "features_19.drop(features_19[features_19.Wk_h < 4].index, inplace=True)\n",
    "player_ratings_20 = pd.read_csv('Data/2020-21/Players/player_ratings_a_09.csv')\n",
    "features_20 = pd.read_csv('Data/2020-21/Fixtures/PL20_21_features.csv')\n",
    "features_20.drop(features_20[features_20.Wk_h < 4].index, inplace=True)\n",
    "player_ratings_21 = pd.read_csv('Data/2021-22/Players/player_ratings_21_a_09.csv')\n",
    "features_21 = pd.read_csv('Data/2021-22/Fixtures/PL21_22_features.csv')\n",
    "features_21.drop(features_21[features_21.Wk_h < 4].index, inplace=True)\n",
    "player_ratings_20.replace(['Brighton & Hove Albion','Manchester United', 'Newcastle United', 'Sheffield United', 'Tottenham Hotspur', 'West Bromwich Albion', 'West Ham United','Wolverhampton Wanderers'], ['Brighton', 'Manchester Utd','Newcastle Utd', 'Sheffield Utd', 'Tottenham','West Brom' ,'West Ham', 'Wolves'], inplace=True)\n",
    "player_ratings_20['game_home_ID'] = player_ratings_20['HomeTeam'] + player_ratings_20['Date']\n",
    "player_ratings_20['game_away_ID'] = player_ratings_20['AwayTeam'] + player_ratings_20['Date']\n",
    "player_ratings_20.drop(player_ratings_20[player_ratings_20.Wk_h < 4].index, inplace=True)\n",
    "features_21"
   ],
   "metadata": {
    "collapsed": false,
    "pycharm": {
     "name": "#%%\n"
    }
   }
  },
  {
   "cell_type": "code",
   "execution_count": 4,
   "outputs": [
    {
     "data": {
      "text/plain": "     Unnamed: 0_x Div      Date_x Time_x       HomeTeam_x      AwayTeam_x  \\\n0              30  E0  2019-08-31  12:30      Southampton  Manchester Utd   \n1              31  E0  2019-08-31  15:00          Chelsea   Sheffield Utd   \n2              32  E0  2019-08-31  15:00   Crystal Palace     Aston Villa   \n3              33  E0  2019-08-31  15:00   Leicester City     Bournemouth   \n4              34  E0  2019-08-31  15:00  Manchester City        Brighton   \n..            ...  ..         ...    ...              ...             ...   \n345           375  E0  2022-05-22  16:00   Crystal Palace  Manchester Utd   \n346           376  E0  2022-05-22  16:00   Leicester City     Southampton   \n347           377  E0  2022-05-22  16:00        Liverpool          Wolves   \n348           378  E0  2022-05-22  16:00  Manchester City     Aston Villa   \n349           379  E0  2022-05-22  16:00     Norwich City       Tottenham   \n\n     FTHG_x  FTAG_x FTR_x  HTHG  ...  rating_a_gk rating_a_df rating_a_mf  \\\n0         1       1     D     0  ...    20.641209  180.145904   56.972852   \n1         2       2     D     2  ...    23.885922  130.639893   61.162521   \n2         1       0     H     0  ...    29.488526   64.773615   82.120631   \n3         3       1     H     2  ...    31.163130   58.769298   82.006199   \n4         4       0     H     2  ...    32.895815   81.276387   25.286296   \n..      ...     ...   ...   ...  ...          ...         ...         ...   \n345       1       0     H     1  ...    11.750857   96.896682   69.117198   \n346       4       1     H     0  ...    30.426248   90.718082   38.302624   \n347       3       1     H     1  ...     0.634142  158.514461   67.462373   \n348       3       2     H     0  ...     0.000000  138.256940  193.946287   \n349       0       5     A     0  ...    34.588229  187.956044  131.234551   \n\n     rating_a_att  rating_a_bench  influence_a  creativity_a    threat_a  \\\n0       48.633782       16.068837   119.153153    168.309910  178.081081   \n1       34.465713        5.870770   171.733333    113.054955  109.324324   \n2       79.960598        0.916340   195.585586    103.043243   81.135135   \n3       40.354356       23.149859   195.951351     80.441441  122.513514   \n4       67.316595       17.219749   132.708108    133.936937  152.936937   \n..            ...             ...          ...           ...         ...   \n345     19.445436       47.452827   134.023334    103.132912   78.215625   \n346     27.739725       21.677295   184.049913     35.385130   50.186897   \n347     28.278849       69.217545   154.614288    170.164161  153.131430   \n348     15.334034       27.109975   202.612485    230.250828  198.143528   \n349     24.163421       49.896686   179.113967    190.662403  238.745705   \n\n          bps_a    selected_a  \n0     94.243243  7.569864e+06  \n1    142.297297  1.280639e+06  \n2    196.090090  1.682107e+06  \n3    126.126126  3.708388e+06  \n4    108.342342  2.252684e+06  \n..          ...           ...  \n345  112.788455  3.120155e+06  \n346  128.755329  9.541940e+05  \n347  132.815157  2.843078e+06  \n348  148.016855  5.887781e+06  \n349  214.693192  7.783386e+06  \n\n[1050 rows x 165 columns]",
      "text/html": "<div>\n<style scoped>\n    .dataframe tbody tr th:only-of-type {\n        vertical-align: middle;\n    }\n\n    .dataframe tbody tr th {\n        vertical-align: top;\n    }\n\n    .dataframe thead th {\n        text-align: right;\n    }\n</style>\n<table border=\"1\" class=\"dataframe\">\n  <thead>\n    <tr style=\"text-align: right;\">\n      <th></th>\n      <th>Unnamed: 0_x</th>\n      <th>Div</th>\n      <th>Date_x</th>\n      <th>Time_x</th>\n      <th>HomeTeam_x</th>\n      <th>AwayTeam_x</th>\n      <th>FTHG_x</th>\n      <th>FTAG_x</th>\n      <th>FTR_x</th>\n      <th>HTHG</th>\n      <th>...</th>\n      <th>rating_a_gk</th>\n      <th>rating_a_df</th>\n      <th>rating_a_mf</th>\n      <th>rating_a_att</th>\n      <th>rating_a_bench</th>\n      <th>influence_a</th>\n      <th>creativity_a</th>\n      <th>threat_a</th>\n      <th>bps_a</th>\n      <th>selected_a</th>\n    </tr>\n  </thead>\n  <tbody>\n    <tr>\n      <th>0</th>\n      <td>30</td>\n      <td>E0</td>\n      <td>2019-08-31</td>\n      <td>12:30</td>\n      <td>Southampton</td>\n      <td>Manchester Utd</td>\n      <td>1</td>\n      <td>1</td>\n      <td>D</td>\n      <td>0</td>\n      <td>...</td>\n      <td>20.641209</td>\n      <td>180.145904</td>\n      <td>56.972852</td>\n      <td>48.633782</td>\n      <td>16.068837</td>\n      <td>119.153153</td>\n      <td>168.309910</td>\n      <td>178.081081</td>\n      <td>94.243243</td>\n      <td>7.569864e+06</td>\n    </tr>\n    <tr>\n      <th>1</th>\n      <td>31</td>\n      <td>E0</td>\n      <td>2019-08-31</td>\n      <td>15:00</td>\n      <td>Chelsea</td>\n      <td>Sheffield Utd</td>\n      <td>2</td>\n      <td>2</td>\n      <td>D</td>\n      <td>2</td>\n      <td>...</td>\n      <td>23.885922</td>\n      <td>130.639893</td>\n      <td>61.162521</td>\n      <td>34.465713</td>\n      <td>5.870770</td>\n      <td>171.733333</td>\n      <td>113.054955</td>\n      <td>109.324324</td>\n      <td>142.297297</td>\n      <td>1.280639e+06</td>\n    </tr>\n    <tr>\n      <th>2</th>\n      <td>32</td>\n      <td>E0</td>\n      <td>2019-08-31</td>\n      <td>15:00</td>\n      <td>Crystal Palace</td>\n      <td>Aston Villa</td>\n      <td>1</td>\n      <td>0</td>\n      <td>H</td>\n      <td>0</td>\n      <td>...</td>\n      <td>29.488526</td>\n      <td>64.773615</td>\n      <td>82.120631</td>\n      <td>79.960598</td>\n      <td>0.916340</td>\n      <td>195.585586</td>\n      <td>103.043243</td>\n      <td>81.135135</td>\n      <td>196.090090</td>\n      <td>1.682107e+06</td>\n    </tr>\n    <tr>\n      <th>3</th>\n      <td>33</td>\n      <td>E0</td>\n      <td>2019-08-31</td>\n      <td>15:00</td>\n      <td>Leicester City</td>\n      <td>Bournemouth</td>\n      <td>3</td>\n      <td>1</td>\n      <td>H</td>\n      <td>2</td>\n      <td>...</td>\n      <td>31.163130</td>\n      <td>58.769298</td>\n      <td>82.006199</td>\n      <td>40.354356</td>\n      <td>23.149859</td>\n      <td>195.951351</td>\n      <td>80.441441</td>\n      <td>122.513514</td>\n      <td>126.126126</td>\n      <td>3.708388e+06</td>\n    </tr>\n    <tr>\n      <th>4</th>\n      <td>34</td>\n      <td>E0</td>\n      <td>2019-08-31</td>\n      <td>15:00</td>\n      <td>Manchester City</td>\n      <td>Brighton</td>\n      <td>4</td>\n      <td>0</td>\n      <td>H</td>\n      <td>2</td>\n      <td>...</td>\n      <td>32.895815</td>\n      <td>81.276387</td>\n      <td>25.286296</td>\n      <td>67.316595</td>\n      <td>17.219749</td>\n      <td>132.708108</td>\n      <td>133.936937</td>\n      <td>152.936937</td>\n      <td>108.342342</td>\n      <td>2.252684e+06</td>\n    </tr>\n    <tr>\n      <th>...</th>\n      <td>...</td>\n      <td>...</td>\n      <td>...</td>\n      <td>...</td>\n      <td>...</td>\n      <td>...</td>\n      <td>...</td>\n      <td>...</td>\n      <td>...</td>\n      <td>...</td>\n      <td>...</td>\n      <td>...</td>\n      <td>...</td>\n      <td>...</td>\n      <td>...</td>\n      <td>...</td>\n      <td>...</td>\n      <td>...</td>\n      <td>...</td>\n      <td>...</td>\n      <td>...</td>\n    </tr>\n    <tr>\n      <th>345</th>\n      <td>375</td>\n      <td>E0</td>\n      <td>2022-05-22</td>\n      <td>16:00</td>\n      <td>Crystal Palace</td>\n      <td>Manchester Utd</td>\n      <td>1</td>\n      <td>0</td>\n      <td>H</td>\n      <td>1</td>\n      <td>...</td>\n      <td>11.750857</td>\n      <td>96.896682</td>\n      <td>69.117198</td>\n      <td>19.445436</td>\n      <td>47.452827</td>\n      <td>134.023334</td>\n      <td>103.132912</td>\n      <td>78.215625</td>\n      <td>112.788455</td>\n      <td>3.120155e+06</td>\n    </tr>\n    <tr>\n      <th>346</th>\n      <td>376</td>\n      <td>E0</td>\n      <td>2022-05-22</td>\n      <td>16:00</td>\n      <td>Leicester City</td>\n      <td>Southampton</td>\n      <td>4</td>\n      <td>1</td>\n      <td>H</td>\n      <td>0</td>\n      <td>...</td>\n      <td>30.426248</td>\n      <td>90.718082</td>\n      <td>38.302624</td>\n      <td>27.739725</td>\n      <td>21.677295</td>\n      <td>184.049913</td>\n      <td>35.385130</td>\n      <td>50.186897</td>\n      <td>128.755329</td>\n      <td>9.541940e+05</td>\n    </tr>\n    <tr>\n      <th>347</th>\n      <td>377</td>\n      <td>E0</td>\n      <td>2022-05-22</td>\n      <td>16:00</td>\n      <td>Liverpool</td>\n      <td>Wolves</td>\n      <td>3</td>\n      <td>1</td>\n      <td>H</td>\n      <td>1</td>\n      <td>...</td>\n      <td>0.634142</td>\n      <td>158.514461</td>\n      <td>67.462373</td>\n      <td>28.278849</td>\n      <td>69.217545</td>\n      <td>154.614288</td>\n      <td>170.164161</td>\n      <td>153.131430</td>\n      <td>132.815157</td>\n      <td>2.843078e+06</td>\n    </tr>\n    <tr>\n      <th>348</th>\n      <td>378</td>\n      <td>E0</td>\n      <td>2022-05-22</td>\n      <td>16:00</td>\n      <td>Manchester City</td>\n      <td>Aston Villa</td>\n      <td>3</td>\n      <td>2</td>\n      <td>H</td>\n      <td>0</td>\n      <td>...</td>\n      <td>0.000000</td>\n      <td>138.256940</td>\n      <td>193.946287</td>\n      <td>15.334034</td>\n      <td>27.109975</td>\n      <td>202.612485</td>\n      <td>230.250828</td>\n      <td>198.143528</td>\n      <td>148.016855</td>\n      <td>5.887781e+06</td>\n    </tr>\n    <tr>\n      <th>349</th>\n      <td>379</td>\n      <td>E0</td>\n      <td>2022-05-22</td>\n      <td>16:00</td>\n      <td>Norwich City</td>\n      <td>Tottenham</td>\n      <td>0</td>\n      <td>5</td>\n      <td>A</td>\n      <td>0</td>\n      <td>...</td>\n      <td>34.588229</td>\n      <td>187.956044</td>\n      <td>131.234551</td>\n      <td>24.163421</td>\n      <td>49.896686</td>\n      <td>179.113967</td>\n      <td>190.662403</td>\n      <td>238.745705</td>\n      <td>214.693192</td>\n      <td>7.783386e+06</td>\n    </tr>\n  </tbody>\n</table>\n<p>1050 rows × 165 columns</p>\n</div>"
     },
     "execution_count": 4,
     "metadata": {},
     "output_type": "execute_result"
    }
   ],
   "source": [
    "#merge dataframes of 3 seasons\n",
    "PL_2019_total =  pd.merge(features_19, player_ratings_19, on= 'game_home_ID', how='left')\n",
    "PL_2020_total =  pd.merge(features_20, player_ratings_20, on= 'game_home_ID', how='left')\n",
    "PL_2021_total =  pd.merge(features_21, player_ratings_21, on= 'game_home_ID', how='left')\n",
    "frames = [PL_2019_total, PL_2020_total, PL_2021_total]\n",
    "PL_19_20_21_all_features = pd.concat(frames)"
   ],
   "metadata": {
    "collapsed": false,
    "pycharm": {
     "name": "#%%\n"
    }
   }
  },
  {
   "cell_type": "code",
   "execution_count": 5,
   "outputs": [
    {
     "data": {
      "text/plain": "     Unnamed: 0_x Div      Date_x Time_x       HomeTeam_x      AwayTeam_x  \\\n0              30  E0  2019-08-31  12:30      Southampton  Manchester Utd   \n1              31  E0  2019-08-31  15:00          Chelsea   Sheffield Utd   \n2              32  E0  2019-08-31  15:00   Crystal Palace     Aston Villa   \n3              33  E0  2019-08-31  15:00   Leicester City     Bournemouth   \n4              34  E0  2019-08-31  15:00  Manchester City        Brighton   \n..            ...  ..         ...    ...              ...             ...   \n345           375  E0  2022-05-22  16:00   Crystal Palace  Manchester Utd   \n346           376  E0  2022-05-22  16:00   Leicester City     Southampton   \n347           377  E0  2022-05-22  16:00        Liverpool          Wolves   \n348           378  E0  2022-05-22  16:00  Manchester City     Aston Villa   \n349           379  E0  2022-05-22  16:00     Norwich City       Tottenham   \n\n     FTHG_x  FTAG_x FTR_x  HTHG  ...  att_difference bench_difference  \\\n0         1       1     D     0  ...       -8.696108       -13.029503   \n1         2       2     D     2  ...       97.174211         2.612414   \n2         1       0     H     0  ...      -22.700878        11.903258   \n3         3       1     H     2  ...       -8.118451        15.382999   \n4         4       0     H     2  ...       20.274545        16.194642   \n..      ...     ...   ...   ...  ...             ...              ...   \n345       1       0     H     1  ...       -2.441324        83.527907   \n346       4       1     H     0  ...       29.145907        22.307791   \n347       3       1     H     1  ...       -1.378848       189.332683   \n348       3       2     H     0  ...       25.620656        77.550764   \n349       0       5     A     0  ...       30.765114        13.385995   \n\n    influence_difference  creativity_difference  threat_difference  \\\n0              29.643243             -56.994595         -91.072072   \n1             128.670270             128.120721         139.981982   \n2               8.221622             -70.580180          21.954955   \n3               6.879279              12.309009         -11.549550   \n4             169.688288              98.920721         114.045045   \n..                   ...                    ...                ...   \n345           -55.839647             -71.843929         -27.652552   \n346            24.274186               8.288232         -30.099457   \n347           -37.028619            -137.912185         -66.928122   \n348           -56.131097             -25.603259          48.868307   \n349           -24.936126             -83.747128        -152.865619   \n\n     bps_difference  selected_difference   overall_h   overall_a  \\\n0         72.252252        -7.090981e+06  237.478074  322.462585   \n1        105.180180         1.377962e+06  419.652975  256.024819   \n2        -72.369369         2.088097e+06  211.433752  257.259711   \n3         15.963964        -1.301976e+06  303.887309  235.442842   \n4        114.009009         7.638306e+06  475.117929  223.994842   \n..              ...                  ...         ...         ...   \n345      -44.959147         6.086770e+05  267.620547  244.663001   \n346       10.599418         4.572563e+06  279.762870  208.863974   \n347      -36.540463         6.056832e+06  443.826626  324.107370   \n348      -16.173457         4.954865e+06  483.907694  374.647236   \n349     -103.433483        -6.675290e+06  284.572945  427.838931   \n\n     overall_difference  \n0            -84.984511  \n1            163.628156  \n2            -45.825959  \n3             68.444467  \n4            251.123087  \n..                  ...  \n345           22.957546  \n346           70.898896  \n347          119.719256  \n348          109.260458  \n349         -143.265987  \n\n[1050 rows x 178 columns]",
      "text/html": "<div>\n<style scoped>\n    .dataframe tbody tr th:only-of-type {\n        vertical-align: middle;\n    }\n\n    .dataframe tbody tr th {\n        vertical-align: top;\n    }\n\n    .dataframe thead th {\n        text-align: right;\n    }\n</style>\n<table border=\"1\" class=\"dataframe\">\n  <thead>\n    <tr style=\"text-align: right;\">\n      <th></th>\n      <th>Unnamed: 0_x</th>\n      <th>Div</th>\n      <th>Date_x</th>\n      <th>Time_x</th>\n      <th>HomeTeam_x</th>\n      <th>AwayTeam_x</th>\n      <th>FTHG_x</th>\n      <th>FTAG_x</th>\n      <th>FTR_x</th>\n      <th>HTHG</th>\n      <th>...</th>\n      <th>att_difference</th>\n      <th>bench_difference</th>\n      <th>influence_difference</th>\n      <th>creativity_difference</th>\n      <th>threat_difference</th>\n      <th>bps_difference</th>\n      <th>selected_difference</th>\n      <th>overall_h</th>\n      <th>overall_a</th>\n      <th>overall_difference</th>\n    </tr>\n  </thead>\n  <tbody>\n    <tr>\n      <th>0</th>\n      <td>30</td>\n      <td>E0</td>\n      <td>2019-08-31</td>\n      <td>12:30</td>\n      <td>Southampton</td>\n      <td>Manchester Utd</td>\n      <td>1</td>\n      <td>1</td>\n      <td>D</td>\n      <td>0</td>\n      <td>...</td>\n      <td>-8.696108</td>\n      <td>-13.029503</td>\n      <td>29.643243</td>\n      <td>-56.994595</td>\n      <td>-91.072072</td>\n      <td>72.252252</td>\n      <td>-7.090981e+06</td>\n      <td>237.478074</td>\n      <td>322.462585</td>\n      <td>-84.984511</td>\n    </tr>\n    <tr>\n      <th>1</th>\n      <td>31</td>\n      <td>E0</td>\n      <td>2019-08-31</td>\n      <td>15:00</td>\n      <td>Chelsea</td>\n      <td>Sheffield Utd</td>\n      <td>2</td>\n      <td>2</td>\n      <td>D</td>\n      <td>2</td>\n      <td>...</td>\n      <td>97.174211</td>\n      <td>2.612414</td>\n      <td>128.670270</td>\n      <td>128.120721</td>\n      <td>139.981982</td>\n      <td>105.180180</td>\n      <td>1.377962e+06</td>\n      <td>419.652975</td>\n      <td>256.024819</td>\n      <td>163.628156</td>\n    </tr>\n    <tr>\n      <th>2</th>\n      <td>32</td>\n      <td>E0</td>\n      <td>2019-08-31</td>\n      <td>15:00</td>\n      <td>Crystal Palace</td>\n      <td>Aston Villa</td>\n      <td>1</td>\n      <td>0</td>\n      <td>H</td>\n      <td>0</td>\n      <td>...</td>\n      <td>-22.700878</td>\n      <td>11.903258</td>\n      <td>8.221622</td>\n      <td>-70.580180</td>\n      <td>21.954955</td>\n      <td>-72.369369</td>\n      <td>2.088097e+06</td>\n      <td>211.433752</td>\n      <td>257.259711</td>\n      <td>-45.825959</td>\n    </tr>\n    <tr>\n      <th>3</th>\n      <td>33</td>\n      <td>E0</td>\n      <td>2019-08-31</td>\n      <td>15:00</td>\n      <td>Leicester City</td>\n      <td>Bournemouth</td>\n      <td>3</td>\n      <td>1</td>\n      <td>H</td>\n      <td>2</td>\n      <td>...</td>\n      <td>-8.118451</td>\n      <td>15.382999</td>\n      <td>6.879279</td>\n      <td>12.309009</td>\n      <td>-11.549550</td>\n      <td>15.963964</td>\n      <td>-1.301976e+06</td>\n      <td>303.887309</td>\n      <td>235.442842</td>\n      <td>68.444467</td>\n    </tr>\n    <tr>\n      <th>4</th>\n      <td>34</td>\n      <td>E0</td>\n      <td>2019-08-31</td>\n      <td>15:00</td>\n      <td>Manchester City</td>\n      <td>Brighton</td>\n      <td>4</td>\n      <td>0</td>\n      <td>H</td>\n      <td>2</td>\n      <td>...</td>\n      <td>20.274545</td>\n      <td>16.194642</td>\n      <td>169.688288</td>\n      <td>98.920721</td>\n      <td>114.045045</td>\n      <td>114.009009</td>\n      <td>7.638306e+06</td>\n      <td>475.117929</td>\n      <td>223.994842</td>\n      <td>251.123087</td>\n    </tr>\n    <tr>\n      <th>...</th>\n      <td>...</td>\n      <td>...</td>\n      <td>...</td>\n      <td>...</td>\n      <td>...</td>\n      <td>...</td>\n      <td>...</td>\n      <td>...</td>\n      <td>...</td>\n      <td>...</td>\n      <td>...</td>\n      <td>...</td>\n      <td>...</td>\n      <td>...</td>\n      <td>...</td>\n      <td>...</td>\n      <td>...</td>\n      <td>...</td>\n      <td>...</td>\n      <td>...</td>\n      <td>...</td>\n    </tr>\n    <tr>\n      <th>345</th>\n      <td>375</td>\n      <td>E0</td>\n      <td>2022-05-22</td>\n      <td>16:00</td>\n      <td>Crystal Palace</td>\n      <td>Manchester Utd</td>\n      <td>1</td>\n      <td>0</td>\n      <td>H</td>\n      <td>1</td>\n      <td>...</td>\n      <td>-2.441324</td>\n      <td>83.527907</td>\n      <td>-55.839647</td>\n      <td>-71.843929</td>\n      <td>-27.652552</td>\n      <td>-44.959147</td>\n      <td>6.086770e+05</td>\n      <td>267.620547</td>\n      <td>244.663001</td>\n      <td>22.957546</td>\n    </tr>\n    <tr>\n      <th>346</th>\n      <td>376</td>\n      <td>E0</td>\n      <td>2022-05-22</td>\n      <td>16:00</td>\n      <td>Leicester City</td>\n      <td>Southampton</td>\n      <td>4</td>\n      <td>1</td>\n      <td>H</td>\n      <td>0</td>\n      <td>...</td>\n      <td>29.145907</td>\n      <td>22.307791</td>\n      <td>24.274186</td>\n      <td>8.288232</td>\n      <td>-30.099457</td>\n      <td>10.599418</td>\n      <td>4.572563e+06</td>\n      <td>279.762870</td>\n      <td>208.863974</td>\n      <td>70.898896</td>\n    </tr>\n    <tr>\n      <th>347</th>\n      <td>377</td>\n      <td>E0</td>\n      <td>2022-05-22</td>\n      <td>16:00</td>\n      <td>Liverpool</td>\n      <td>Wolves</td>\n      <td>3</td>\n      <td>1</td>\n      <td>H</td>\n      <td>1</td>\n      <td>...</td>\n      <td>-1.378848</td>\n      <td>189.332683</td>\n      <td>-37.028619</td>\n      <td>-137.912185</td>\n      <td>-66.928122</td>\n      <td>-36.540463</td>\n      <td>6.056832e+06</td>\n      <td>443.826626</td>\n      <td>324.107370</td>\n      <td>119.719256</td>\n    </tr>\n    <tr>\n      <th>348</th>\n      <td>378</td>\n      <td>E0</td>\n      <td>2022-05-22</td>\n      <td>16:00</td>\n      <td>Manchester City</td>\n      <td>Aston Villa</td>\n      <td>3</td>\n      <td>2</td>\n      <td>H</td>\n      <td>0</td>\n      <td>...</td>\n      <td>25.620656</td>\n      <td>77.550764</td>\n      <td>-56.131097</td>\n      <td>-25.603259</td>\n      <td>48.868307</td>\n      <td>-16.173457</td>\n      <td>4.954865e+06</td>\n      <td>483.907694</td>\n      <td>374.647236</td>\n      <td>109.260458</td>\n    </tr>\n    <tr>\n      <th>349</th>\n      <td>379</td>\n      <td>E0</td>\n      <td>2022-05-22</td>\n      <td>16:00</td>\n      <td>Norwich City</td>\n      <td>Tottenham</td>\n      <td>0</td>\n      <td>5</td>\n      <td>A</td>\n      <td>0</td>\n      <td>...</td>\n      <td>30.765114</td>\n      <td>13.385995</td>\n      <td>-24.936126</td>\n      <td>-83.747128</td>\n      <td>-152.865619</td>\n      <td>-103.433483</td>\n      <td>-6.675290e+06</td>\n      <td>284.572945</td>\n      <td>427.838931</td>\n      <td>-143.265987</td>\n    </tr>\n  </tbody>\n</table>\n<p>1050 rows × 178 columns</p>\n</div>"
     },
     "execution_count": 5,
     "metadata": {},
     "output_type": "execute_result"
    }
   ],
   "source": [
    "#calculate differences for player ratings\n",
    "PL_19_20_21_all_features['gk_difference'] = PL_19_20_21_all_features['rating_h_gk'] - PL_19_20_21_all_features['rating_a_gk']\n",
    "PL_19_20_21_all_features['df_difference'] = PL_19_20_21_all_features['rating_h_df'] - PL_19_20_21_all_features['rating_a_df']\n",
    "PL_19_20_21_all_features['mf_difference'] = PL_19_20_21_all_features['rating_h_mf'] - PL_19_20_21_all_features['rating_a_mf']\n",
    "PL_19_20_21_all_features['att_difference'] = PL_19_20_21_all_features['rating_h_att'] - PL_19_20_21_all_features['rating_a_att']\n",
    "PL_19_20_21_all_features['bench_difference'] = PL_19_20_21_all_features['rating_h_bench'] - PL_19_20_21_all_features['rating_a_bench']\n",
    "PL_19_20_21_all_features['influence_difference'] = PL_19_20_21_all_features['influence_h'] - PL_19_20_21_all_features['influence_a']\n",
    "PL_19_20_21_all_features['creativity_difference'] = PL_19_20_21_all_features['creativity_h'] - PL_19_20_21_all_features['creativity_a']\n",
    "PL_19_20_21_all_features['threat_difference'] = PL_19_20_21_all_features['threat_h'] - PL_19_20_21_all_features['threat_a']\n",
    "PL_19_20_21_all_features['bps_difference'] = PL_19_20_21_all_features['bps_h'] - PL_19_20_21_all_features['bps_a']\n",
    "PL_19_20_21_all_features['selected_difference'] = PL_19_20_21_all_features['selected_h'] - PL_19_20_21_all_features['selected_a']\n",
    "PL_19_20_21_all_features['overall_h'] = PL_19_20_21_all_features['rating_h_gk'] + PL_19_20_21_all_features['rating_h_df'] + PL_19_20_21_all_features['rating_h_mf'] + PL_19_20_21_all_features['rating_h_att'] + PL_19_20_21_all_features['rating_h_bench']\n",
    "PL_19_20_21_all_features['overall_a'] = PL_19_20_21_all_features['rating_a_gk'] + PL_19_20_21_all_features['rating_a_df'] + PL_19_20_21_all_features['rating_a_mf'] + PL_19_20_21_all_features['rating_a_att'] + PL_19_20_21_all_features['rating_a_bench']\n",
    "PL_19_20_21_all_features['overall_difference'] = PL_19_20_21_all_features['overall_h'] - PL_19_20_21_all_features['overall_a']\n",
    "PL_19_20_21_all_features"
   ],
   "metadata": {
    "collapsed": false,
    "pycharm": {
     "name": "#%%\n"
    }
   }
  },
  {
   "cell_type": "code",
   "execution_count": 151,
   "outputs": [
    {
     "data": {
      "text/plain": "     Unnamed: 0_x Div      Date_x Time_x       HomeTeam_x      AwayTeam_x  \\\n0              30  E0  2019-08-31  12:30      Southampton  Manchester Utd   \n1              31  E0  2019-08-31  15:00          Chelsea   Sheffield Utd   \n2              32  E0  2019-08-31  15:00   Crystal Palace     Aston Villa   \n3              33  E0  2019-08-31  15:00   Leicester City     Bournemouth   \n4              34  E0  2019-08-31  15:00  Manchester City        Brighton   \n..            ...  ..         ...    ...              ...             ...   \n345           375  E0  2022-05-22  16:00   Crystal Palace  Manchester Utd   \n346           376  E0  2022-05-22  16:00   Leicester City     Southampton   \n347           377  E0  2022-05-22  16:00        Liverpool          Wolves   \n348           378  E0  2022-05-22  16:00  Manchester City     Aston Villa   \n349           379  E0  2022-05-22  16:00     Norwich City       Tottenham   \n\n     FTHG_x  FTAG_x FTR_x  HTHG  ...  bench_difference influence_difference  \\\n0         1       1     D     0  ...        -13.029503            29.643243   \n1         2       2     D     2  ...          2.612414           128.670270   \n2         1       0     H     0  ...         11.903258             8.221622   \n3         3       1     H     2  ...         15.382999             6.879279   \n4         4       0     H     2  ...         16.194642           169.688288   \n..      ...     ...   ...   ...  ...               ...                  ...   \n345       1       0     H     1  ...         83.527907           -55.839647   \n346       4       1     H     0  ...         22.307791            24.274186   \n347       3       1     H     1  ...        189.332683           -37.028619   \n348       3       2     H     0  ...         77.550764           -56.131097   \n349       0       5     A     0  ...         13.385995           -24.936126   \n\n    creativity_difference  threat_difference  bps_difference  \\\n0              -56.994595         -91.072072       72.252252   \n1              128.120721         139.981982      105.180180   \n2              -70.580180          21.954955      -72.369369   \n3               12.309009         -11.549550       15.963964   \n4               98.920721         114.045045      114.009009   \n..                    ...                ...             ...   \n345            -71.843929         -27.652552      -44.959147   \n346              8.288232         -30.099457       10.599418   \n347           -137.912185         -66.928122      -36.540463   \n348            -25.603259          48.868307      -16.173457   \n349            -83.747128        -152.865619     -103.433483   \n\n     selected_difference   overall_h   overall_a  overall_difference  \\\n0          -7.090981e+06  237.478074  322.462585          -84.984511   \n1           1.377962e+06  419.652975  256.024819          163.628156   \n2           2.088097e+06  211.433752  257.259711          -45.825959   \n3          -1.301976e+06  303.887309  235.442842           68.444467   \n4           7.638306e+06  475.117929  223.994842          251.123087   \n..                   ...         ...         ...                 ...   \n345         6.086770e+05  267.620547  244.663001           22.957546   \n346         4.572563e+06  279.762870  208.863974           70.898896   \n347         6.056832e+06  443.826626  324.107370          119.719256   \n348         4.954865e+06  483.907694  374.647236          109.260458   \n349        -6.675290e+06  284.572945  427.838931         -143.265987   \n\n     identifier  \n0             2  \n1             2  \n2             0  \n3             0  \n4             0  \n..          ...  \n345           0  \n346           0  \n347           0  \n348           0  \n349           1  \n\n[1050 rows x 179 columns]",
      "text/html": "<div>\n<style scoped>\n    .dataframe tbody tr th:only-of-type {\n        vertical-align: middle;\n    }\n\n    .dataframe tbody tr th {\n        vertical-align: top;\n    }\n\n    .dataframe thead th {\n        text-align: right;\n    }\n</style>\n<table border=\"1\" class=\"dataframe\">\n  <thead>\n    <tr style=\"text-align: right;\">\n      <th></th>\n      <th>Unnamed: 0_x</th>\n      <th>Div</th>\n      <th>Date_x</th>\n      <th>Time_x</th>\n      <th>HomeTeam_x</th>\n      <th>AwayTeam_x</th>\n      <th>FTHG_x</th>\n      <th>FTAG_x</th>\n      <th>FTR_x</th>\n      <th>HTHG</th>\n      <th>...</th>\n      <th>bench_difference</th>\n      <th>influence_difference</th>\n      <th>creativity_difference</th>\n      <th>threat_difference</th>\n      <th>bps_difference</th>\n      <th>selected_difference</th>\n      <th>overall_h</th>\n      <th>overall_a</th>\n      <th>overall_difference</th>\n      <th>identifier</th>\n    </tr>\n  </thead>\n  <tbody>\n    <tr>\n      <th>0</th>\n      <td>30</td>\n      <td>E0</td>\n      <td>2019-08-31</td>\n      <td>12:30</td>\n      <td>Southampton</td>\n      <td>Manchester Utd</td>\n      <td>1</td>\n      <td>1</td>\n      <td>D</td>\n      <td>0</td>\n      <td>...</td>\n      <td>-13.029503</td>\n      <td>29.643243</td>\n      <td>-56.994595</td>\n      <td>-91.072072</td>\n      <td>72.252252</td>\n      <td>-7.090981e+06</td>\n      <td>237.478074</td>\n      <td>322.462585</td>\n      <td>-84.984511</td>\n      <td>2</td>\n    </tr>\n    <tr>\n      <th>1</th>\n      <td>31</td>\n      <td>E0</td>\n      <td>2019-08-31</td>\n      <td>15:00</td>\n      <td>Chelsea</td>\n      <td>Sheffield Utd</td>\n      <td>2</td>\n      <td>2</td>\n      <td>D</td>\n      <td>2</td>\n      <td>...</td>\n      <td>2.612414</td>\n      <td>128.670270</td>\n      <td>128.120721</td>\n      <td>139.981982</td>\n      <td>105.180180</td>\n      <td>1.377962e+06</td>\n      <td>419.652975</td>\n      <td>256.024819</td>\n      <td>163.628156</td>\n      <td>2</td>\n    </tr>\n    <tr>\n      <th>2</th>\n      <td>32</td>\n      <td>E0</td>\n      <td>2019-08-31</td>\n      <td>15:00</td>\n      <td>Crystal Palace</td>\n      <td>Aston Villa</td>\n      <td>1</td>\n      <td>0</td>\n      <td>H</td>\n      <td>0</td>\n      <td>...</td>\n      <td>11.903258</td>\n      <td>8.221622</td>\n      <td>-70.580180</td>\n      <td>21.954955</td>\n      <td>-72.369369</td>\n      <td>2.088097e+06</td>\n      <td>211.433752</td>\n      <td>257.259711</td>\n      <td>-45.825959</td>\n      <td>0</td>\n    </tr>\n    <tr>\n      <th>3</th>\n      <td>33</td>\n      <td>E0</td>\n      <td>2019-08-31</td>\n      <td>15:00</td>\n      <td>Leicester City</td>\n      <td>Bournemouth</td>\n      <td>3</td>\n      <td>1</td>\n      <td>H</td>\n      <td>2</td>\n      <td>...</td>\n      <td>15.382999</td>\n      <td>6.879279</td>\n      <td>12.309009</td>\n      <td>-11.549550</td>\n      <td>15.963964</td>\n      <td>-1.301976e+06</td>\n      <td>303.887309</td>\n      <td>235.442842</td>\n      <td>68.444467</td>\n      <td>0</td>\n    </tr>\n    <tr>\n      <th>4</th>\n      <td>34</td>\n      <td>E0</td>\n      <td>2019-08-31</td>\n      <td>15:00</td>\n      <td>Manchester City</td>\n      <td>Brighton</td>\n      <td>4</td>\n      <td>0</td>\n      <td>H</td>\n      <td>2</td>\n      <td>...</td>\n      <td>16.194642</td>\n      <td>169.688288</td>\n      <td>98.920721</td>\n      <td>114.045045</td>\n      <td>114.009009</td>\n      <td>7.638306e+06</td>\n      <td>475.117929</td>\n      <td>223.994842</td>\n      <td>251.123087</td>\n      <td>0</td>\n    </tr>\n    <tr>\n      <th>...</th>\n      <td>...</td>\n      <td>...</td>\n      <td>...</td>\n      <td>...</td>\n      <td>...</td>\n      <td>...</td>\n      <td>...</td>\n      <td>...</td>\n      <td>...</td>\n      <td>...</td>\n      <td>...</td>\n      <td>...</td>\n      <td>...</td>\n      <td>...</td>\n      <td>...</td>\n      <td>...</td>\n      <td>...</td>\n      <td>...</td>\n      <td>...</td>\n      <td>...</td>\n      <td>...</td>\n    </tr>\n    <tr>\n      <th>345</th>\n      <td>375</td>\n      <td>E0</td>\n      <td>2022-05-22</td>\n      <td>16:00</td>\n      <td>Crystal Palace</td>\n      <td>Manchester Utd</td>\n      <td>1</td>\n      <td>0</td>\n      <td>H</td>\n      <td>1</td>\n      <td>...</td>\n      <td>83.527907</td>\n      <td>-55.839647</td>\n      <td>-71.843929</td>\n      <td>-27.652552</td>\n      <td>-44.959147</td>\n      <td>6.086770e+05</td>\n      <td>267.620547</td>\n      <td>244.663001</td>\n      <td>22.957546</td>\n      <td>0</td>\n    </tr>\n    <tr>\n      <th>346</th>\n      <td>376</td>\n      <td>E0</td>\n      <td>2022-05-22</td>\n      <td>16:00</td>\n      <td>Leicester City</td>\n      <td>Southampton</td>\n      <td>4</td>\n      <td>1</td>\n      <td>H</td>\n      <td>0</td>\n      <td>...</td>\n      <td>22.307791</td>\n      <td>24.274186</td>\n      <td>8.288232</td>\n      <td>-30.099457</td>\n      <td>10.599418</td>\n      <td>4.572563e+06</td>\n      <td>279.762870</td>\n      <td>208.863974</td>\n      <td>70.898896</td>\n      <td>0</td>\n    </tr>\n    <tr>\n      <th>347</th>\n      <td>377</td>\n      <td>E0</td>\n      <td>2022-05-22</td>\n      <td>16:00</td>\n      <td>Liverpool</td>\n      <td>Wolves</td>\n      <td>3</td>\n      <td>1</td>\n      <td>H</td>\n      <td>1</td>\n      <td>...</td>\n      <td>189.332683</td>\n      <td>-37.028619</td>\n      <td>-137.912185</td>\n      <td>-66.928122</td>\n      <td>-36.540463</td>\n      <td>6.056832e+06</td>\n      <td>443.826626</td>\n      <td>324.107370</td>\n      <td>119.719256</td>\n      <td>0</td>\n    </tr>\n    <tr>\n      <th>348</th>\n      <td>378</td>\n      <td>E0</td>\n      <td>2022-05-22</td>\n      <td>16:00</td>\n      <td>Manchester City</td>\n      <td>Aston Villa</td>\n      <td>3</td>\n      <td>2</td>\n      <td>H</td>\n      <td>0</td>\n      <td>...</td>\n      <td>77.550764</td>\n      <td>-56.131097</td>\n      <td>-25.603259</td>\n      <td>48.868307</td>\n      <td>-16.173457</td>\n      <td>4.954865e+06</td>\n      <td>483.907694</td>\n      <td>374.647236</td>\n      <td>109.260458</td>\n      <td>0</td>\n    </tr>\n    <tr>\n      <th>349</th>\n      <td>379</td>\n      <td>E0</td>\n      <td>2022-05-22</td>\n      <td>16:00</td>\n      <td>Norwich City</td>\n      <td>Tottenham</td>\n      <td>0</td>\n      <td>5</td>\n      <td>A</td>\n      <td>0</td>\n      <td>...</td>\n      <td>13.385995</td>\n      <td>-24.936126</td>\n      <td>-83.747128</td>\n      <td>-152.865619</td>\n      <td>-103.433483</td>\n      <td>-6.675290e+06</td>\n      <td>284.572945</td>\n      <td>427.838931</td>\n      <td>-143.265987</td>\n      <td>1</td>\n    </tr>\n  </tbody>\n</table>\n<p>1050 rows × 179 columns</p>\n</div>"
     },
     "execution_count": 151,
     "metadata": {},
     "output_type": "execute_result"
    }
   ],
   "source": [
    "#prepare Data for ML Algos, including all features from benchmark + rating differences\n",
    "#add column for H A X\n",
    "conditions = [\n",
    "    (PL_19_20_21_all_features['FTR_x'] == 'H'),\n",
    "    (PL_19_20_21_all_features['FTR_x'] == 'A'),\n",
    "    (PL_19_20_21_all_features['FTR_x'] == 'D')]\n",
    "choices = [0, 1, 2]\n",
    "PL_19_20_21_all_features['identifier'] = np.select(conditions, choices)\n",
    "y = PL_19_20_21_all_features['identifier'].to_numpy()\n",
    "#all features used for benchmark\n",
    "feature_names_benchmark = ['Rating difference', 'Rating_Home', 'Rating_Away', 'ewmH', 'ewmA', 'ewmDifference', 'Elo_h_before','Elo_a_before', 'elo_difference', 'goalsH', 'goalsA', 'goalsDifference', 'shotsH', 'shotsA','shotsDifference', 'cornersH', 'cornersA', 'cornersDifference', 'formH', 'formA', 'form_difference']\n",
    "#features including player stats\n",
    "feature_names_player_stats = ['rating_h_gk', 'Rating difference', 'Rating_Home', 'Rating_Away', 'ewmH', 'ewmA', 'ewmDifference', 'Elo_h_before','Elo_a_before', 'elo_difference', 'goalsH', 'goalsA', 'goalsDifference', 'shotsH', 'shotsA','shotsDifference', 'cornersH', 'cornersA', 'cornersDifference', 'formH', 'formA', 'form_difference', 'rating_a_gk', 'rating_h_df', 'rating_a_df', 'rating_h_mf', 'rating_a_mf', 'rating_h_att', 'rating_a_att', 'rating_h_bench', 'rating_a_bench', 'influence_h', 'influence_a', 'creativity_h', 'creativity_a', 'threat_h', 'threat_a', 'bps_h', 'bps_a', 'selected_h', 'selected_a', 'gk_difference', 'df_difference', 'mf_difference', 'att_difference', 'bench_difference','overall_difference' ,'influence_difference', 'creativity_difference', 'threat_difference', 'bps_difference', 'selected_difference', 'overall_h', 'overall_a']\n",
    "PL_19_20_21_all_features"
   ],
   "metadata": {
    "collapsed": false,
    "pycharm": {
     "name": "#%%\n"
    }
   }
  },
  {
   "cell_type": "code",
   "execution_count": 89,
   "outputs": [],
   "source": [
    "#split Data in training and test set and train model\n",
    "#training set = season 19/20 and 20/21\n",
    "#test set = season 21/22\n",
    "\n",
    "#all features from benchmark\n",
    "X_benchmark = PL_19_20_21_all_features[feature_names_benchmark].to_numpy()\n",
    "#all features including player stats\n",
    "X_player_stats = PL_19_20_21_all_features[feature_names_player_stats].to_numpy()\n",
    "X_train_player_stats = X_player_stats[:750]\n",
    "X_test_player_stats = X_player_stats[-350:]\n",
    "X_train_benchmark = X_benchmark[:750]\n",
    "X_test_benchmark = X_benchmark[-350:]\n",
    "y_train_player_stats = y[:750]\n",
    "y_test_player_stats = y[-350:]"
   ],
   "metadata": {
    "collapsed": false,
    "pycharm": {
     "name": "#%%\n"
    }
   }
  },
  {
   "cell_type": "code",
   "execution_count": 91,
   "outputs": [
    {
     "name": "stdout",
     "output_type": "stream",
     "text": [
      "{'n_estimators': [200, 400, 600, 800, 1000, 1200, 1400, 1600, 1800, 2000], 'max_features': ['auto', 'sqrt'], 'max_depth': [10, 20, 30, 40, 50, 60, 70, 80, 90, 100, 110, None], 'min_samples_split': [2, 5, 10], 'min_samples_leaf': [1, 2, 4], 'bootstrap': [True, False]}\n"
     ]
    }
   ],
   "source": [
    "#Hyperparameter Tuning\n",
    "from sklearn.model_selection import RandomizedSearchCV\n",
    "# Number of trees in random forest\n",
    "n_estimators = [int(x) for x in np.linspace(start = 200, stop = 2000, num = 10)]\n",
    "# Number of features to consider at every split\n",
    "max_features = ['auto', 'sqrt']\n",
    "# Maximum number of levels in tree\n",
    "max_depth = [int(x) for x in np.linspace(10, 110, num = 11)]\n",
    "max_depth.append(None)\n",
    "# Minimum number of samples required to split a node\n",
    "min_samples_split = [2, 5, 10]\n",
    "# Minimum number of samples required at each leaf node\n",
    "min_samples_leaf = [1, 2, 4]\n",
    "# Method of selecting samples for training each tree\n",
    "bootstrap = [True, False]\n",
    "# Create the random grid\n",
    "random_grid = {'n_estimators': n_estimators,\n",
    "               'max_features': max_features,\n",
    "               'max_depth': max_depth,\n",
    "               'min_samples_split': min_samples_split,\n",
    "               'min_samples_leaf': min_samples_leaf,\n",
    "               'bootstrap': bootstrap}\n",
    "print(random_grid)"
   ],
   "metadata": {
    "collapsed": false,
    "pycharm": {
     "name": "#%%\n"
    }
   }
  },
  {
   "cell_type": "code",
   "execution_count": 102,
   "outputs": [
    {
     "data": {
      "text/plain": "{'bootstrap': True,\n 'ccp_alpha': 0.0,\n 'class_weight': None,\n 'criterion': 'gini',\n 'max_depth': None,\n 'max_features': 'auto',\n 'max_leaf_nodes': None,\n 'max_samples': None,\n 'min_impurity_decrease': 0.0,\n 'min_samples_leaf': 1,\n 'min_samples_split': 2,\n 'min_weight_fraction_leaf': 0.0,\n 'n_estimators': 100,\n 'n_jobs': None,\n 'oob_score': False,\n 'random_state': 6,\n 'verbose': 0,\n 'warm_start': False}"
     },
     "execution_count": 102,
     "metadata": {},
     "output_type": "execute_result"
    }
   ],
   "source": [
    "#set up Random forest classifier\n",
    "rand_clf = RandomForestClassifier(random_state=6)\n",
    "rand_clf.get_params()"
   ],
   "metadata": {
    "collapsed": false,
    "pycharm": {
     "name": "#%%\n"
    }
   }
  },
  {
   "cell_type": "code",
   "execution_count": 93,
   "outputs": [
    {
     "data": {
      "text/plain": "RandomForestClassifier(random_state=6)"
     },
     "execution_count": 93,
     "metadata": {},
     "output_type": "execute_result"
    }
   ],
   "source": [
    "#train model with training data\n",
    "rand_clf.fit(X_train_player_stats, y_train_player_stats)\n"
   ],
   "metadata": {
    "collapsed": false,
    "pycharm": {
     "name": "#%%\n"
    }
   }
  },
  {
   "cell_type": "code",
   "execution_count": 56,
   "outputs": [],
   "source": [
    "#perform random search for hyperparameter tuning\n",
    "rand_search = RandomizedSearchCV(estimator = rand_clf, param_distributions = random_grid, n_iter = 150, cv = 4, verbose=3, random_state=42, n_jobs = -1)\n",
    "rand_search.fit(X_train_player_stats, y_train_player_stats)"
   ],
   "metadata": {
    "collapsed": false,
    "pycharm": {
     "name": "#%%\n"
    }
   }
  },
  {
   "cell_type": "code",
   "execution_count": 58,
   "outputs": [
    {
     "data": {
      "text/plain": "{'n_estimators': 1000,\n 'min_samples_split': 10,\n 'min_samples_leaf': 4,\n 'max_features': 'auto',\n 'max_depth': 80,\n 'bootstrap': True}"
     },
     "execution_count": 58,
     "metadata": {},
     "output_type": "execute_result"
    }
   ],
   "source": [
    "#display best parameters\n",
    "rand_search.best_params_"
   ],
   "metadata": {
    "collapsed": false,
    "pycharm": {
     "name": "#%%\n"
    }
   }
  },
  {
   "cell_type": "code",
   "execution_count": 94,
   "outputs": [],
   "source": [
    "#set up model with best parameters from random search\n",
    "rand_clf_res = RandomForestClassifier(\n",
    " n_estimators = 1000,\n",
    " min_samples_split = 10,\n",
    " min_samples_leaf = 4,\n",
    " max_features = 'auto',\n",
    " max_depth = 80)"
   ],
   "metadata": {
    "collapsed": false,
    "pycharm": {
     "name": "#%%\n"
    }
   }
  },
  {
   "cell_type": "code",
   "execution_count": 77,
   "outputs": [],
   "source": [
    "#create grid close to values from random search\n",
    "grid_param = {\n",
    " 'n_estimators': [800, 1000, 1200, 2000],\n",
    " 'min_samples_split': [5,10,15],\n",
    " 'min_samples_leaf':  [2,4,6],\n",
    " 'max_features': ['auto', 'sqrt'],\n",
    " 'max_depth': [60, 80, 100]\n",
    "}"
   ],
   "metadata": {
    "collapsed": false,
    "pycharm": {
     "name": "#%%\n"
    }
   }
  },
  {
   "cell_type": "code",
   "execution_count": 78,
   "outputs": [],
   "source": [
    "#perform grid search\n",
    "grid_search = GridSearchCV(estimator=rand_clf, param_grid=grid_param, cv=5, n_jobs=-1, verbose=3)\n",
    "grid_search.fit(X_train_player_stats, y_train_player_stats)"
   ],
   "metadata": {
    "collapsed": false,
    "pycharm": {
     "name": "#%%\n"
    }
   }
  },
  {
   "cell_type": "code",
   "execution_count": 80,
   "outputs": [
    {
     "data": {
      "text/plain": "{'max_depth': 60,\n 'max_features': 'auto',\n 'min_samples_leaf': 6,\n 'min_samples_split': 15,\n 'n_estimators': 2000}"
     },
     "execution_count": 80,
     "metadata": {},
     "output_type": "execute_result"
    }
   ],
   "source": [
    "#display best parameters\n",
    "grid_search.best_params_"
   ],
   "metadata": {
    "collapsed": false,
    "pycharm": {
     "name": "#%%\n"
    }
   }
  },
  {
   "cell_type": "code",
   "execution_count": 95,
   "outputs": [],
   "source": [
    "#build model with best parameters from grid search\n",
    "grid_clf = RandomForestClassifier(\n",
    " n_estimators = 800,\n",
    " min_samples_split = 3,\n",
    " min_samples_leaf = 2,\n",
    " max_features = 'auto',\n",
    " max_depth = 80)"
   ],
   "metadata": {
    "collapsed": false,
    "pycharm": {
     "name": "#%%\n"
    }
   }
  },
  {
   "cell_type": "code",
   "execution_count": 97,
   "outputs": [
    {
     "name": "stdout",
     "output_type": "stream",
     "text": [
      "rand_clf_mean: 0.5942857142857143\n",
      "rand_clf_max: 0.5942857142857143\n",
      "rand_clf_res_mean: 0.5951428571428572\n",
      "rand_clf_res_max: 0.6028571428571429\n",
      "grid_clf_mean: 0.5977142857142858\n",
      "grid_clf_max: 0.6114285714285714\n"
     ]
    }
   ],
   "source": [
    "def find_best_model(clf):\n",
    "    avg_score = []\n",
    "    highscore = 0\n",
    "    out = 0\n",
    "    for i in range (0,10):\n",
    "        #model = clf.fit(X_train_benchmark, y_train_player_stats)\n",
    "        #score = model.score(X_test_benchmark, y_test_player_stats)\n",
    "        model = clf.fit(X_train_player_stats, y_train_player_stats)\n",
    "        score = model.score(X_test_player_stats, y_test_player_stats)\n",
    "        avg_score.append(score)\n",
    "        #print('Score', score)\n",
    "        #if score >= 0.65:\n",
    "         #   return model\n",
    "    return avg_score\n",
    "\n",
    "\n",
    "test = find_best_model(rand_clf)\n",
    "test2 = find_best_model(rand_clf_res)\n",
    "test3 = find_best_model(grid_clf)\n",
    "print('rand_clf_mean:', np.mean(test))\n",
    "print('rand_clf_max:', np.max(test))\n",
    "print('rand_clf_res_mean:', np.mean(test2))\n",
    "print('rand_clf_res_max:', np.max(test2))\n",
    "print('grid_clf_mean:', np.mean(test3))\n",
    "print('grid_clf_max:', np.max(test3))"
   ],
   "metadata": {
    "collapsed": false,
    "pycharm": {
     "name": "#%%\n"
    }
   }
  },
  {
   "cell_type": "code",
   "execution_count": 121,
   "outputs": [
    {
     "name": "stdout",
     "output_type": "stream",
     "text": [
      "Score 0.5971428571428572\n",
      "Score 0.6\n",
      "Score 0.6028571428571429\n",
      "Score 0.6\n",
      "Score 0.6085714285714285\n",
      "Score 0.5914285714285714\n",
      "Score 0.6085714285714285\n",
      "Score 0.5971428571428572\n",
      "Score 0.6028571428571429\n",
      "Score 0.5914285714285714\n",
      "Score 0.6\n",
      "Score 0.6057142857142858\n",
      "Score 0.5857142857142857\n",
      "Score 0.5971428571428572\n",
      "Score 0.5885714285714285\n",
      "Score 0.6\n",
      "Score 0.6057142857142858\n",
      "Score 0.5942857142857143\n",
      "Score 0.5971428571428572\n",
      "Score 0.5942857142857143\n",
      "Score 0.5914285714285714\n",
      "Score 0.6\n",
      "Score 0.5914285714285714\n",
      "Score 0.5971428571428572\n",
      "Score 0.5942857142857143\n",
      "Score 0.6\n",
      "Score 0.6028571428571429\n",
      "Score 0.6028571428571429\n",
      "Score 0.6\n",
      "Score 0.5971428571428572\n",
      "Score 0.5914285714285714\n",
      "Score 0.6028571428571429\n",
      "Score 0.5971428571428572\n",
      "Score 0.6\n",
      "Score 0.5914285714285714\n",
      "Score 0.5971428571428572\n",
      "Score 0.6028571428571429\n",
      "Score 0.6028571428571429\n",
      "Score 0.6028571428571429\n",
      "Score 0.5914285714285714\n",
      "Score 0.6\n",
      "Score 0.5942857142857143\n",
      "Score 0.6\n",
      "Score 0.6057142857142858\n",
      "Score 0.5914285714285714\n",
      "Score 0.6057142857142858\n",
      "Score 0.6085714285714285\n",
      "Score 0.5857142857142857\n",
      "Score 0.6\n",
      "Score 0.6\n",
      "Score 0.5942857142857143\n",
      "Score 0.5971428571428572\n",
      "Score 0.6\n",
      "Score 0.6028571428571429\n",
      "Score 0.6\n",
      "Score 0.5914285714285714\n",
      "Score 0.6\n",
      "Score 0.5942857142857143\n",
      "Score 0.5885714285714285\n",
      "Score 0.6057142857142858\n",
      "Score 0.6114285714285714\n"
     ]
    }
   ],
   "source": [
    "def find_best_model(clf):\n",
    "    avg_score = []\n",
    "    highscore = 0\n",
    "    out = 0\n",
    "    for i in range (0,200):\n",
    "        #model = clf.fit(X_train_benchmark, y_train_player_stats)\n",
    "        #score = model.score(X_test_benchmark, y_test_player_stats)\n",
    "        model = clf.fit(X_train_player_stats, y_train_player_stats)\n",
    "        score = model.score(X_test_player_stats, y_test_player_stats)\n",
    "        #avg_score.append(score)\n",
    "        print('Score', score)\n",
    "        if score > 0.61:\n",
    "            return model\n",
    "    return model\n",
    "#rand_clf = find_best_model(rand_clf)\n",
    "#rand_clf_res = find_best_model(rand_clf_res)\n",
    "#grid_clf = find_best_model(grid_clf)"
   ],
   "metadata": {
    "collapsed": false,
    "pycharm": {
     "name": "#%%\n"
    }
   }
  },
  {
   "cell_type": "code",
   "execution_count": 152,
   "outputs": [
    {
     "name": "stdout",
     "output_type": "stream",
     "text": [
      "Rand_clf 0.5942857142857143\n",
      "Rand_clf_res 0.5971428571428572\n",
      "Grid_clf_res 0.6114285714285714\n"
     ]
    }
   ],
   "source": [
    "print('Rand_clf', rand_clf.score(X_test_player_stats, y_test_player_stats))\n",
    "print('Rand_clf_res',rand_clf_res.score(X_test_player_stats, y_test_player_stats))\n",
    "print('Grid_clf_res',grid_clf.score(X_test_player_stats, y_test_player_stats))\n"
   ],
   "metadata": {
    "collapsed": false,
    "pycharm": {
     "name": "#%%\n"
    }
   }
  },
  {
   "cell_type": "code",
   "execution_count": 123,
   "outputs": [],
   "source": [
    "rf_model_player_stats = grid_clf\n",
    "rf_model_benchmark = RandomForestClassifier(\n",
    " n_estimators = 800,\n",
    " min_samples_split = 3,\n",
    " min_samples_leaf = 2,\n",
    " max_features = 'auto',\n",
    " max_depth = 80)\n",
    "rf_model_benchmark = rf_model_benchmark.fit(X_train_benchmark, y_train_player_stats)"
   ],
   "metadata": {
    "collapsed": false,
    "pycharm": {
     "name": "#%%\n"
    }
   }
  },
  {
   "cell_type": "code",
   "execution_count": 153,
   "outputs": [
    {
     "name": "stdout",
     "output_type": "stream",
     "text": [
      "rf_model_benchmark 0.5857142857142857\n",
      "rf_model_player_stats 0.6114285714285714\n"
     ]
    }
   ],
   "source": [
    "#rf_model_player_stats = grid_clf\n",
    "print('rf_model_benchmark',rf_model_benchmark.score(X_test_benchmark, y_test_player_stats))\n",
    "print('rf_model_player_stats',rf_model_player_stats.score(X_test_player_stats, y_test_player_stats))"
   ],
   "metadata": {
    "collapsed": false,
    "pycharm": {
     "name": "#%%\n"
    }
   }
  },
  {
   "cell_type": "code",
   "execution_count": 125,
   "outputs": [
    {
     "data": {
      "text/plain": "array([[0.53359623, 0.26078274, 0.20562103],\n       [0.71834524, 0.09598512, 0.18566964],\n       [0.15145685, 0.61402827, 0.23451488],\n       ...,\n       [0.77162351, 0.12195387, 0.10642262],\n       [0.76151339, 0.12294494, 0.11554167],\n       [0.22986756, 0.54137946, 0.22875298]])"
     },
     "execution_count": 125,
     "metadata": {},
     "output_type": "execute_result"
    }
   ],
   "source": [
    "probs_benchmark = rf_model_benchmark.predict_proba(X=X_test_benchmark)\n",
    "probs_benchmark"
   ],
   "metadata": {
    "collapsed": false,
    "pycharm": {
     "name": "#%%\n"
    }
   }
  },
  {
   "cell_type": "code",
   "execution_count": 156,
   "outputs": [
    {
     "data": {
      "text/plain": "     player_stats_vote\n0                    0\n1                    0\n2                    1\n3                    1\n4                    0\n..                 ...\n345                  2\n346                  0\n347                  0\n348                  0\n349                  1\n\n[350 rows x 1 columns]",
      "text/html": "<div>\n<style scoped>\n    .dataframe tbody tr th:only-of-type {\n        vertical-align: middle;\n    }\n\n    .dataframe tbody tr th {\n        vertical-align: top;\n    }\n\n    .dataframe thead th {\n        text-align: right;\n    }\n</style>\n<table border=\"1\" class=\"dataframe\">\n  <thead>\n    <tr style=\"text-align: right;\">\n      <th></th>\n      <th>player_stats_vote</th>\n    </tr>\n  </thead>\n  <tbody>\n    <tr>\n      <th>0</th>\n      <td>0</td>\n    </tr>\n    <tr>\n      <th>1</th>\n      <td>0</td>\n    </tr>\n    <tr>\n      <th>2</th>\n      <td>1</td>\n    </tr>\n    <tr>\n      <th>3</th>\n      <td>1</td>\n    </tr>\n    <tr>\n      <th>4</th>\n      <td>0</td>\n    </tr>\n    <tr>\n      <th>...</th>\n      <td>...</td>\n    </tr>\n    <tr>\n      <th>345</th>\n      <td>2</td>\n    </tr>\n    <tr>\n      <th>346</th>\n      <td>0</td>\n    </tr>\n    <tr>\n      <th>347</th>\n      <td>0</td>\n    </tr>\n    <tr>\n      <th>348</th>\n      <td>0</td>\n    </tr>\n    <tr>\n      <th>349</th>\n      <td>1</td>\n    </tr>\n  </tbody>\n</table>\n<p>350 rows × 1 columns</p>\n</div>"
     },
     "execution_count": 156,
     "metadata": {},
     "output_type": "execute_result"
    }
   ],
   "source": [
    "votes_benchmark = rf_model_benchmark.predict(X=X_test_benchmark)\n",
    "votes_player_stats = rf_model_player_stats.predict(X=X_test_player_stats)\n",
    "votes_benchmark = pd.DataFrame(test, columns=['benchmark_vote'])\n",
    "votes_player_stats = pd.DataFrame(test, columns=['player_stats_vote'])\n",
    "votes_player_stats"
   ],
   "metadata": {
    "collapsed": false,
    "pycharm": {
     "name": "#%%\n"
    }
   }
  },
  {
   "cell_type": "code",
   "execution_count": 126,
   "outputs": [
    {
     "data": {
      "text/plain": "array([[0.63102183, 0.20013988, 0.16883829],\n       [0.66064435, 0.13628125, 0.2030744 ],\n       [0.15189881, 0.674     , 0.17410119],\n       ...,\n       [0.60490228, 0.26406994, 0.13102778],\n       [0.62922321, 0.20953571, 0.16124107],\n       [0.17903423, 0.5919003 , 0.22906548]])"
     },
     "execution_count": 126,
     "metadata": {},
     "output_type": "execute_result"
    }
   ],
   "source": [
    "probs_player_stats = rf_model_player_stats.predict_proba(X=X_test_player_stats)\n",
    "probs_player_stats"
   ],
   "metadata": {
    "collapsed": false,
    "pycharm": {
     "name": "#%%\n"
    }
   }
  },
  {
   "cell_type": "code",
   "execution_count": 129,
   "outputs": [
    {
     "data": {
      "text/plain": "            H         D         A\n0    0.533596  0.260783  0.205621\n1    0.718345  0.095985  0.185670\n2    0.151457  0.614028  0.234515\n3    0.100253  0.720705  0.179042\n4    0.850411  0.069783  0.079807\n..        ...       ...       ...\n345  0.204146  0.318307  0.477548\n346  0.547199  0.146458  0.306342\n347  0.771624  0.121954  0.106423\n348  0.761513  0.122945  0.115542\n349  0.229868  0.541379  0.228753\n\n[350 rows x 3 columns]",
      "text/html": "<div>\n<style scoped>\n    .dataframe tbody tr th:only-of-type {\n        vertical-align: middle;\n    }\n\n    .dataframe tbody tr th {\n        vertical-align: top;\n    }\n\n    .dataframe thead th {\n        text-align: right;\n    }\n</style>\n<table border=\"1\" class=\"dataframe\">\n  <thead>\n    <tr style=\"text-align: right;\">\n      <th></th>\n      <th>H</th>\n      <th>D</th>\n      <th>A</th>\n    </tr>\n  </thead>\n  <tbody>\n    <tr>\n      <th>0</th>\n      <td>0.533596</td>\n      <td>0.260783</td>\n      <td>0.205621</td>\n    </tr>\n    <tr>\n      <th>1</th>\n      <td>0.718345</td>\n      <td>0.095985</td>\n      <td>0.185670</td>\n    </tr>\n    <tr>\n      <th>2</th>\n      <td>0.151457</td>\n      <td>0.614028</td>\n      <td>0.234515</td>\n    </tr>\n    <tr>\n      <th>3</th>\n      <td>0.100253</td>\n      <td>0.720705</td>\n      <td>0.179042</td>\n    </tr>\n    <tr>\n      <th>4</th>\n      <td>0.850411</td>\n      <td>0.069783</td>\n      <td>0.079807</td>\n    </tr>\n    <tr>\n      <th>...</th>\n      <td>...</td>\n      <td>...</td>\n      <td>...</td>\n    </tr>\n    <tr>\n      <th>345</th>\n      <td>0.204146</td>\n      <td>0.318307</td>\n      <td>0.477548</td>\n    </tr>\n    <tr>\n      <th>346</th>\n      <td>0.547199</td>\n      <td>0.146458</td>\n      <td>0.306342</td>\n    </tr>\n    <tr>\n      <th>347</th>\n      <td>0.771624</td>\n      <td>0.121954</td>\n      <td>0.106423</td>\n    </tr>\n    <tr>\n      <th>348</th>\n      <td>0.761513</td>\n      <td>0.122945</td>\n      <td>0.115542</td>\n    </tr>\n    <tr>\n      <th>349</th>\n      <td>0.229868</td>\n      <td>0.541379</td>\n      <td>0.228753</td>\n    </tr>\n  </tbody>\n</table>\n<p>350 rows × 3 columns</p>\n</div>"
     },
     "execution_count": 129,
     "metadata": {},
     "output_type": "execute_result"
    }
   ],
   "source": [
    "probs_benchmark = pd.DataFrame(probs_benchmark, columns=['H', 'D', 'A'])\n",
    "probs_benchmark.to_csv('Data/Total/probs_benchmark.csv')\n",
    "probs_benchmark"
   ],
   "metadata": {
    "collapsed": false,
    "pycharm": {
     "name": "#%%\n"
    }
   }
  },
  {
   "cell_type": "code",
   "execution_count": 128,
   "outputs": [
    {
     "data": {
      "text/plain": "            H         D         A\n0    0.631022  0.200140  0.168838\n1    0.660644  0.136281  0.203074\n2    0.151899  0.674000  0.174101\n3    0.112982  0.771997  0.115021\n4    0.848845  0.075893  0.075262\n..        ...       ...       ...\n345  0.259396  0.378656  0.361948\n346  0.626677  0.173323  0.200000\n347  0.604902  0.264070  0.131028\n348  0.629223  0.209536  0.161241\n349  0.179034  0.591900  0.229065\n\n[350 rows x 3 columns]",
      "text/html": "<div>\n<style scoped>\n    .dataframe tbody tr th:only-of-type {\n        vertical-align: middle;\n    }\n\n    .dataframe tbody tr th {\n        vertical-align: top;\n    }\n\n    .dataframe thead th {\n        text-align: right;\n    }\n</style>\n<table border=\"1\" class=\"dataframe\">\n  <thead>\n    <tr style=\"text-align: right;\">\n      <th></th>\n      <th>H</th>\n      <th>D</th>\n      <th>A</th>\n    </tr>\n  </thead>\n  <tbody>\n    <tr>\n      <th>0</th>\n      <td>0.631022</td>\n      <td>0.200140</td>\n      <td>0.168838</td>\n    </tr>\n    <tr>\n      <th>1</th>\n      <td>0.660644</td>\n      <td>0.136281</td>\n      <td>0.203074</td>\n    </tr>\n    <tr>\n      <th>2</th>\n      <td>0.151899</td>\n      <td>0.674000</td>\n      <td>0.174101</td>\n    </tr>\n    <tr>\n      <th>3</th>\n      <td>0.112982</td>\n      <td>0.771997</td>\n      <td>0.115021</td>\n    </tr>\n    <tr>\n      <th>4</th>\n      <td>0.848845</td>\n      <td>0.075893</td>\n      <td>0.075262</td>\n    </tr>\n    <tr>\n      <th>...</th>\n      <td>...</td>\n      <td>...</td>\n      <td>...</td>\n    </tr>\n    <tr>\n      <th>345</th>\n      <td>0.259396</td>\n      <td>0.378656</td>\n      <td>0.361948</td>\n    </tr>\n    <tr>\n      <th>346</th>\n      <td>0.626677</td>\n      <td>0.173323</td>\n      <td>0.200000</td>\n    </tr>\n    <tr>\n      <th>347</th>\n      <td>0.604902</td>\n      <td>0.264070</td>\n      <td>0.131028</td>\n    </tr>\n    <tr>\n      <th>348</th>\n      <td>0.629223</td>\n      <td>0.209536</td>\n      <td>0.161241</td>\n    </tr>\n    <tr>\n      <th>349</th>\n      <td>0.179034</td>\n      <td>0.591900</td>\n      <td>0.229065</td>\n    </tr>\n  </tbody>\n</table>\n<p>350 rows × 3 columns</p>\n</div>"
     },
     "execution_count": 128,
     "metadata": {},
     "output_type": "execute_result"
    }
   ],
   "source": [
    "probs_player_stats = pd.DataFrame(probs_player_stats, columns=['H', 'D', 'A'])\n",
    "probs_player_stats.to_csv('Data/Total/probs_player_stats.csv')\n",
    "probs_player_stats"
   ],
   "metadata": {
    "collapsed": false,
    "pycharm": {
     "name": "#%%\n"
    }
   }
  },
  {
   "cell_type": "code",
   "execution_count": 159,
   "outputs": [
    {
     "data": {
      "text/plain": "            HomeTeam         AwayTeam FTR         H         D         A  \\\n0     Crystal Palace        Tottenham   H  0.631022  0.200140  0.168838   \n1            Arsenal     Norwich City   H  0.660644  0.136281  0.203074   \n2          Brentford         Brighton   A  0.151899  0.674000  0.174101   \n3     Leicester City  Manchester City   A  0.112982  0.771997  0.115021   \n4     Manchester Utd    Newcastle Utd   H  0.848845  0.075893  0.075262   \n..               ...              ...  ..       ...       ...       ...   \n345   Crystal Palace   Manchester Utd   H  0.259396  0.378656  0.361948   \n346   Leicester City      Southampton   H  0.626677  0.173323  0.200000   \n347        Liverpool           Wolves   H  0.604902  0.264070  0.131028   \n348  Manchester City      Aston Villa   H  0.629223  0.209536  0.161241   \n349     Norwich City        Tottenham   A  0.179034  0.591900  0.229065   \n\n     player_stats_vote  result  \n0                    0       0  \n1                    0       0  \n2                    1       1  \n3                    1       1  \n4                    0       0  \n..                 ...     ...  \n345                  2       0  \n346                  0       0  \n347                  0       0  \n348                  0       0  \n349                  1       1  \n\n[350 rows x 8 columns]",
      "text/html": "<div>\n<style scoped>\n    .dataframe tbody tr th:only-of-type {\n        vertical-align: middle;\n    }\n\n    .dataframe tbody tr th {\n        vertical-align: top;\n    }\n\n    .dataframe thead th {\n        text-align: right;\n    }\n</style>\n<table border=\"1\" class=\"dataframe\">\n  <thead>\n    <tr style=\"text-align: right;\">\n      <th></th>\n      <th>HomeTeam</th>\n      <th>AwayTeam</th>\n      <th>FTR</th>\n      <th>H</th>\n      <th>D</th>\n      <th>A</th>\n      <th>player_stats_vote</th>\n      <th>result</th>\n    </tr>\n  </thead>\n  <tbody>\n    <tr>\n      <th>0</th>\n      <td>Crystal Palace</td>\n      <td>Tottenham</td>\n      <td>H</td>\n      <td>0.631022</td>\n      <td>0.200140</td>\n      <td>0.168838</td>\n      <td>0</td>\n      <td>0</td>\n    </tr>\n    <tr>\n      <th>1</th>\n      <td>Arsenal</td>\n      <td>Norwich City</td>\n      <td>H</td>\n      <td>0.660644</td>\n      <td>0.136281</td>\n      <td>0.203074</td>\n      <td>0</td>\n      <td>0</td>\n    </tr>\n    <tr>\n      <th>2</th>\n      <td>Brentford</td>\n      <td>Brighton</td>\n      <td>A</td>\n      <td>0.151899</td>\n      <td>0.674000</td>\n      <td>0.174101</td>\n      <td>1</td>\n      <td>1</td>\n    </tr>\n    <tr>\n      <th>3</th>\n      <td>Leicester City</td>\n      <td>Manchester City</td>\n      <td>A</td>\n      <td>0.112982</td>\n      <td>0.771997</td>\n      <td>0.115021</td>\n      <td>1</td>\n      <td>1</td>\n    </tr>\n    <tr>\n      <th>4</th>\n      <td>Manchester Utd</td>\n      <td>Newcastle Utd</td>\n      <td>H</td>\n      <td>0.848845</td>\n      <td>0.075893</td>\n      <td>0.075262</td>\n      <td>0</td>\n      <td>0</td>\n    </tr>\n    <tr>\n      <th>...</th>\n      <td>...</td>\n      <td>...</td>\n      <td>...</td>\n      <td>...</td>\n      <td>...</td>\n      <td>...</td>\n      <td>...</td>\n      <td>...</td>\n    </tr>\n    <tr>\n      <th>345</th>\n      <td>Crystal Palace</td>\n      <td>Manchester Utd</td>\n      <td>H</td>\n      <td>0.259396</td>\n      <td>0.378656</td>\n      <td>0.361948</td>\n      <td>2</td>\n      <td>0</td>\n    </tr>\n    <tr>\n      <th>346</th>\n      <td>Leicester City</td>\n      <td>Southampton</td>\n      <td>H</td>\n      <td>0.626677</td>\n      <td>0.173323</td>\n      <td>0.200000</td>\n      <td>0</td>\n      <td>0</td>\n    </tr>\n    <tr>\n      <th>347</th>\n      <td>Liverpool</td>\n      <td>Wolves</td>\n      <td>H</td>\n      <td>0.604902</td>\n      <td>0.264070</td>\n      <td>0.131028</td>\n      <td>0</td>\n      <td>0</td>\n    </tr>\n    <tr>\n      <th>348</th>\n      <td>Manchester City</td>\n      <td>Aston Villa</td>\n      <td>H</td>\n      <td>0.629223</td>\n      <td>0.209536</td>\n      <td>0.161241</td>\n      <td>0</td>\n      <td>0</td>\n    </tr>\n    <tr>\n      <th>349</th>\n      <td>Norwich City</td>\n      <td>Tottenham</td>\n      <td>A</td>\n      <td>0.179034</td>\n      <td>0.591900</td>\n      <td>0.229065</td>\n      <td>1</td>\n      <td>1</td>\n    </tr>\n  </tbody>\n</table>\n<p>350 rows × 8 columns</p>\n</div>"
     },
     "execution_count": 159,
     "metadata": {},
     "output_type": "execute_result"
    }
   ],
   "source": [
    "probs_player_stats_tmp = PL_19_20_21_all_features[-350:].join(probs_player_stats)\n",
    "probs_player_stats_tmp = probs_player_stats_tmp[['HomeTeam_x', 'AwayTeam_x', 'FTR_x', 'H', 'D', 'A']]\n",
    "probs_player_stats_tmp = probs_player_stats_tmp.rename(columns={'HomeTeam_x':'HomeTeam','AwayTeam_x':'AwayTeam', 'FTR_x': 'FTR'})\n",
    "probs_player_stats_tmp = probs_player_stats_tmp[-350:].join(votes_player_stats)\n",
    "\n",
    "conditions = [\n",
    "    (probs_player_stats_tmp['FTR'] == 'H'),\n",
    "    (probs_player_stats_tmp['FTR'] == 'A'),\n",
    "    (probs_player_stats_tmp['FTR'] == 'D')]\n",
    "choices = [0, 1, 2]\n",
    "probs_player_stats_tmp['result'] = np.select(conditions, choices)\n",
    "\n",
    "probs_player_stats_tmp\n"
   ],
   "metadata": {
    "collapsed": false,
    "pycharm": {
     "name": "#%%\n"
    }
   }
  },
  {
   "cell_type": "code",
   "execution_count": 160,
   "outputs": [
    {
     "data": {
      "text/plain": "            HomeTeam         AwayTeam FTR         H         D         A  \\\n0     Crystal Palace        Tottenham   H  0.631022  0.200140  0.168838   \n1            Arsenal     Norwich City   H  0.660644  0.136281  0.203074   \n2          Brentford         Brighton   A  0.151899  0.674000  0.174101   \n3     Leicester City  Manchester City   A  0.112982  0.771997  0.115021   \n4     Manchester Utd    Newcastle Utd   H  0.848845  0.075893  0.075262   \n..               ...              ...  ..       ...       ...       ...   \n345   Crystal Palace   Manchester Utd   H  0.259396  0.378656  0.361948   \n346   Leicester City      Southampton   H  0.626677  0.173323  0.200000   \n347        Liverpool           Wolves   H  0.604902  0.264070  0.131028   \n348  Manchester City      Aston Villa   H  0.629223  0.209536  0.161241   \n349     Norwich City        Tottenham   A  0.179034  0.591900  0.229065   \n\n     player_stats_vote  result  \n0                    0       0  \n1                    0       0  \n2                    1       1  \n3                    1       1  \n4                    0       0  \n..                 ...     ...  \n345                  2       0  \n346                  0       0  \n347                  0       0  \n348                  0       0  \n349                  1       1  \n\n[350 rows x 8 columns]",
      "text/html": "<div>\n<style scoped>\n    .dataframe tbody tr th:only-of-type {\n        vertical-align: middle;\n    }\n\n    .dataframe tbody tr th {\n        vertical-align: top;\n    }\n\n    .dataframe thead th {\n        text-align: right;\n    }\n</style>\n<table border=\"1\" class=\"dataframe\">\n  <thead>\n    <tr style=\"text-align: right;\">\n      <th></th>\n      <th>HomeTeam</th>\n      <th>AwayTeam</th>\n      <th>FTR</th>\n      <th>H</th>\n      <th>D</th>\n      <th>A</th>\n      <th>player_stats_vote</th>\n      <th>result</th>\n    </tr>\n  </thead>\n  <tbody>\n    <tr>\n      <th>0</th>\n      <td>Crystal Palace</td>\n      <td>Tottenham</td>\n      <td>H</td>\n      <td>0.631022</td>\n      <td>0.200140</td>\n      <td>0.168838</td>\n      <td>0</td>\n      <td>0</td>\n    </tr>\n    <tr>\n      <th>1</th>\n      <td>Arsenal</td>\n      <td>Norwich City</td>\n      <td>H</td>\n      <td>0.660644</td>\n      <td>0.136281</td>\n      <td>0.203074</td>\n      <td>0</td>\n      <td>0</td>\n    </tr>\n    <tr>\n      <th>2</th>\n      <td>Brentford</td>\n      <td>Brighton</td>\n      <td>A</td>\n      <td>0.151899</td>\n      <td>0.674000</td>\n      <td>0.174101</td>\n      <td>1</td>\n      <td>1</td>\n    </tr>\n    <tr>\n      <th>3</th>\n      <td>Leicester City</td>\n      <td>Manchester City</td>\n      <td>A</td>\n      <td>0.112982</td>\n      <td>0.771997</td>\n      <td>0.115021</td>\n      <td>1</td>\n      <td>1</td>\n    </tr>\n    <tr>\n      <th>4</th>\n      <td>Manchester Utd</td>\n      <td>Newcastle Utd</td>\n      <td>H</td>\n      <td>0.848845</td>\n      <td>0.075893</td>\n      <td>0.075262</td>\n      <td>0</td>\n      <td>0</td>\n    </tr>\n    <tr>\n      <th>...</th>\n      <td>...</td>\n      <td>...</td>\n      <td>...</td>\n      <td>...</td>\n      <td>...</td>\n      <td>...</td>\n      <td>...</td>\n      <td>...</td>\n    </tr>\n    <tr>\n      <th>345</th>\n      <td>Crystal Palace</td>\n      <td>Manchester Utd</td>\n      <td>H</td>\n      <td>0.259396</td>\n      <td>0.378656</td>\n      <td>0.361948</td>\n      <td>2</td>\n      <td>0</td>\n    </tr>\n    <tr>\n      <th>346</th>\n      <td>Leicester City</td>\n      <td>Southampton</td>\n      <td>H</td>\n      <td>0.626677</td>\n      <td>0.173323</td>\n      <td>0.200000</td>\n      <td>0</td>\n      <td>0</td>\n    </tr>\n    <tr>\n      <th>347</th>\n      <td>Liverpool</td>\n      <td>Wolves</td>\n      <td>H</td>\n      <td>0.604902</td>\n      <td>0.264070</td>\n      <td>0.131028</td>\n      <td>0</td>\n      <td>0</td>\n    </tr>\n    <tr>\n      <th>348</th>\n      <td>Manchester City</td>\n      <td>Aston Villa</td>\n      <td>H</td>\n      <td>0.629223</td>\n      <td>0.209536</td>\n      <td>0.161241</td>\n      <td>0</td>\n      <td>0</td>\n    </tr>\n    <tr>\n      <th>349</th>\n      <td>Norwich City</td>\n      <td>Tottenham</td>\n      <td>A</td>\n      <td>0.179034</td>\n      <td>0.591900</td>\n      <td>0.229065</td>\n      <td>1</td>\n      <td>1</td>\n    </tr>\n  </tbody>\n</table>\n<p>350 rows × 8 columns</p>\n</div>"
     },
     "execution_count": 160,
     "metadata": {},
     "output_type": "execute_result"
    }
   ],
   "source": [
    "probs_player_stats_tmp.to_csv('Data/Total/probs_player_stats_info.csv')\n",
    "\n",
    "probs_player_stats_tmp"
   ],
   "metadata": {
    "collapsed": false,
    "pycharm": {
     "name": "#%%\n"
    }
   }
  },
  {
   "cell_type": "code",
   "execution_count": 217,
   "outputs": [],
   "source": [
    "y_test_player_stats_change = y_test_player_stats\n",
    "votes_player_stats_change = votes_player_stats\n",
    "votes_player_stats_change = votes_player_stats_change.to_numpy()\n",
    "y_test_player_stats_change.shape\n",
    "votes_player_stats_change = votes_player_stats_change[:,0]"
   ],
   "metadata": {
    "collapsed": false,
    "pycharm": {
     "name": "#%%\n"
    }
   }
  },
  {
   "cell_type": "code",
   "execution_count": 218,
   "outputs": [
    {
     "data": {
      "text/plain": "['H',\n 'H',\n 'A',\n 'A',\n 'H',\n 'D',\n 'A',\n 'H',\n 'A',\n 'H',\n 'D',\n 'A',\n 'A',\n 'H',\n 'D',\n 'A',\n 'H',\n 'H',\n 'A',\n 'A',\n 'A',\n 'A',\n 'H',\n 'A',\n 'D',\n 'D',\n 'D',\n 'A',\n 'H',\n 'D',\n 'D',\n 'D',\n 'H',\n 'H',\n 'H',\n 'D',\n 'D',\n 'H',\n 'A',\n 'D',\n 'A',\n 'A',\n 'H',\n 'H',\n 'D',\n 'H',\n 'A',\n 'A',\n 'A',\n 'D',\n 'A',\n 'H',\n 'H',\n 'H',\n 'D',\n 'H',\n 'A',\n 'D',\n 'A',\n 'H',\n 'H',\n 'D',\n 'H',\n 'H',\n 'A',\n 'H',\n 'A',\n 'A',\n 'D',\n 'A',\n 'H',\n 'D',\n 'H',\n 'H',\n 'A',\n 'H',\n 'H',\n 'A',\n 'A',\n 'A',\n 'A',\n 'D',\n 'D',\n 'H',\n 'A',\n 'A',\n 'H',\n 'H',\n 'H',\n 'H',\n 'H',\n 'H',\n 'H',\n 'A',\n 'H',\n 'A',\n 'H',\n 'H',\n 'H',\n 'H',\n 'A',\n 'A',\n 'A',\n 'H',\n 'H',\n 'A',\n 'A',\n 'H',\n 'H',\n 'A',\n 'H',\n 'H',\n 'A',\n 'A',\n 'H',\n 'H',\n 'H',\n 'H',\n 'H',\n 'H',\n 'H',\n 'H',\n 'H',\n 'H',\n 'A',\n 'A',\n 'H',\n 'A',\n 'A',\n 'H',\n 'H',\n 'H',\n 'A',\n 'H',\n 'H',\n 'D',\n 'A',\n 'A',\n 'A',\n 'H',\n 'A',\n 'H',\n 'H',\n 'A',\n 'H',\n 'D',\n 'H',\n 'D',\n 'D',\n 'A',\n 'H',\n 'A',\n 'H',\n 'A',\n 'A',\n 'D',\n 'A',\n 'H',\n 'H',\n 'A',\n 'H',\n 'H',\n 'H',\n 'H',\n 'H',\n 'H',\n 'A',\n 'H',\n 'A',\n 'H',\n 'H',\n 'A',\n 'A',\n 'A',\n 'H',\n 'H',\n 'H',\n 'H',\n 'H',\n 'A',\n 'H',\n 'A',\n 'H',\n 'H',\n 'H',\n 'A',\n 'H',\n 'A',\n 'H',\n 'A',\n 'H',\n 'H',\n 'H',\n 'A',\n 'H',\n 'A',\n 'H',\n 'A',\n 'A',\n 'A',\n 'A',\n 'H',\n 'A',\n 'H',\n 'H',\n 'H',\n 'H',\n 'H',\n 'A',\n 'H',\n 'H',\n 'H',\n 'A',\n 'A',\n 'A',\n 'A',\n 'H',\n 'H',\n 'H',\n 'A',\n 'H',\n 'H',\n 'H',\n 'H',\n 'A',\n 'A',\n 'A',\n 'H',\n 'H',\n 'A',\n 'H',\n 'H',\n 'H',\n 'H',\n 'A',\n 'H',\n 'H',\n 'A',\n 'D',\n 'H',\n 'A',\n 'A',\n 'H',\n 'H',\n 'H',\n 'A',\n 'H',\n 'H',\n 'H',\n 'H',\n 'A',\n 'A',\n 'A',\n 'H',\n 'H',\n 'A',\n 'H',\n 'H',\n 'H',\n 'H',\n 'A',\n 'H',\n 'A',\n 'H',\n 'H',\n 'H',\n 'H',\n 'A',\n 'H',\n 'D',\n 'A',\n 'H',\n 'A',\n 'A',\n 'A',\n 'A',\n 'H',\n 'H',\n 'H',\n 'H',\n 'H',\n 'A',\n 'H',\n 'A',\n 'H',\n 'H',\n 'H',\n 'H',\n 'A',\n 'H',\n 'H',\n 'A',\n 'A',\n 'H',\n 'A',\n 'A',\n 'H',\n 'A',\n 'H',\n 'H',\n 'H',\n 'A',\n 'A',\n 'H',\n 'H',\n 'A',\n 'H',\n 'A',\n 'A',\n 'H',\n 'D',\n 'H',\n 'A',\n 'H',\n 'H',\n 'H',\n 'A',\n 'H',\n 'H',\n 'H',\n 'A',\n 'H',\n 'A',\n 'A',\n 'H',\n 'A',\n 'A',\n 'H',\n 'H',\n 'H',\n 'A',\n 'A',\n 'A',\n 'H',\n 'H',\n 'A',\n 'A',\n 'H',\n 'H',\n 'H',\n 'H',\n 'H',\n 'A',\n 'A',\n 'H',\n 'D',\n 'H',\n 'H',\n 'H',\n 'A']"
     },
     "execution_count": 218,
     "metadata": {},
     "output_type": "execute_result"
    }
   ],
   "source": [
    "my_dict = {0: 'H', 1: 'A', 2: 'D'}\n",
    "#my_dict\n",
    "y_test_player_stats_change = [my_dict[zi] for zi in y_test_player_stats_change]\n",
    "votes_player_stats_change = [my_dict[zi] for zi in votes_player_stats_change]\n",
    "votes_player_stats_change"
   ],
   "metadata": {
    "collapsed": false,
    "pycharm": {
     "name": "#%%\n"
    }
   }
  },
  {
   "cell_type": "code",
   "execution_count": null,
   "outputs": [
    {
     "ename": "KeyboardInterrupt",
     "evalue": "",
     "output_type": "error",
     "traceback": [
      "\u001B[1;31m---------------------------------------------------------------------------\u001B[0m",
      "\u001B[1;31mKeyboardInterrupt\u001B[0m                         Traceback (most recent call last)",
      "Input \u001B[1;32mIn [219]\u001B[0m, in \u001B[0;36m<cell line: 3>\u001B[1;34m()\u001B[0m\n\u001B[0;32m      1\u001B[0m cm\u001B[38;5;241m=\u001B[39m confusion_matrix(y_test_player_stats_change,votes_player_stats_change, labels\u001B[38;5;241m=\u001B[39mvotes_player_stats_change)\n\u001B[0;32m      2\u001B[0m plt\u001B[38;5;241m.\u001B[39mfigure(figsize \u001B[38;5;241m=\u001B[39m (\u001B[38;5;241m10\u001B[39m,\u001B[38;5;241m7\u001B[39m))\n\u001B[1;32m----> 3\u001B[0m \u001B[43msn\u001B[49m\u001B[38;5;241;43m.\u001B[39;49m\u001B[43mheatmap\u001B[49m\u001B[43m(\u001B[49m\u001B[43mcm\u001B[49m\u001B[43m,\u001B[49m\u001B[43m \u001B[49m\u001B[43mannot\u001B[49m\u001B[38;5;241;43m=\u001B[39;49m\u001B[38;5;28;43;01mTrue\u001B[39;49;00m\u001B[43m,\u001B[49m\u001B[43mcmap\u001B[49m\u001B[38;5;241;43m=\u001B[39;49m\u001B[38;5;124;43m\"\u001B[39;49m\u001B[38;5;124;43mBlues\u001B[39;49m\u001B[38;5;124;43m\"\u001B[39;49m\u001B[43m,\u001B[49m\u001B[43m \u001B[49m\u001B[43mfmt\u001B[49m\u001B[38;5;241;43m=\u001B[39;49m\u001B[38;5;124;43m\"\u001B[39;49m\u001B[38;5;124;43md\u001B[39;49m\u001B[38;5;124;43m\"\u001B[39;49m\u001B[43m)\u001B[49m\n",
      "File \u001B[1;32m~\\AppData\\Local\\Programs\\Python\\Python310\\lib\\site-packages\\seaborn\\_decorators.py:46\u001B[0m, in \u001B[0;36m_deprecate_positional_args.<locals>.inner_f\u001B[1;34m(*args, **kwargs)\u001B[0m\n\u001B[0;32m     36\u001B[0m     warnings\u001B[38;5;241m.\u001B[39mwarn(\n\u001B[0;32m     37\u001B[0m         \u001B[38;5;124m\"\u001B[39m\u001B[38;5;124mPass the following variable\u001B[39m\u001B[38;5;132;01m{}\u001B[39;00m\u001B[38;5;124m as \u001B[39m\u001B[38;5;132;01m{}\u001B[39;00m\u001B[38;5;124mkeyword arg\u001B[39m\u001B[38;5;132;01m{}\u001B[39;00m\u001B[38;5;124m: \u001B[39m\u001B[38;5;132;01m{}\u001B[39;00m\u001B[38;5;124m. \u001B[39m\u001B[38;5;124m\"\u001B[39m\n\u001B[0;32m     38\u001B[0m         \u001B[38;5;124m\"\u001B[39m\u001B[38;5;124mFrom version 0.12, the only valid positional argument \u001B[39m\u001B[38;5;124m\"\u001B[39m\n\u001B[1;32m   (...)\u001B[0m\n\u001B[0;32m     43\u001B[0m         \u001B[38;5;167;01mFutureWarning\u001B[39;00m\n\u001B[0;32m     44\u001B[0m     )\n\u001B[0;32m     45\u001B[0m kwargs\u001B[38;5;241m.\u001B[39mupdate({k: arg \u001B[38;5;28;01mfor\u001B[39;00m k, arg \u001B[38;5;129;01min\u001B[39;00m \u001B[38;5;28mzip\u001B[39m(sig\u001B[38;5;241m.\u001B[39mparameters, args)})\n\u001B[1;32m---> 46\u001B[0m \u001B[38;5;28;01mreturn\u001B[39;00m f(\u001B[38;5;241m*\u001B[39m\u001B[38;5;241m*\u001B[39mkwargs)\n",
      "File \u001B[1;32m~\\AppData\\Local\\Programs\\Python\\Python310\\lib\\site-packages\\seaborn\\matrix.py:553\u001B[0m, in \u001B[0;36mheatmap\u001B[1;34m(data, vmin, vmax, cmap, center, robust, annot, fmt, annot_kws, linewidths, linecolor, cbar, cbar_kws, cbar_ax, square, xticklabels, yticklabels, mask, ax, **kwargs)\u001B[0m\n\u001B[0;32m    551\u001B[0m \u001B[38;5;28;01mif\u001B[39;00m square:\n\u001B[0;32m    552\u001B[0m     ax\u001B[38;5;241m.\u001B[39mset_aspect(\u001B[38;5;124m\"\u001B[39m\u001B[38;5;124mequal\u001B[39m\u001B[38;5;124m\"\u001B[39m)\n\u001B[1;32m--> 553\u001B[0m \u001B[43mplotter\u001B[49m\u001B[38;5;241;43m.\u001B[39;49m\u001B[43mplot\u001B[49m\u001B[43m(\u001B[49m\u001B[43max\u001B[49m\u001B[43m,\u001B[49m\u001B[43m \u001B[49m\u001B[43mcbar_ax\u001B[49m\u001B[43m,\u001B[49m\u001B[43m \u001B[49m\u001B[43mkwargs\u001B[49m\u001B[43m)\u001B[49m\n\u001B[0;32m    554\u001B[0m \u001B[38;5;28;01mreturn\u001B[39;00m ax\n",
      "File \u001B[1;32m~\\AppData\\Local\\Programs\\Python\\Python310\\lib\\site-packages\\seaborn\\matrix.py:348\u001B[0m, in \u001B[0;36m_HeatMapper.plot\u001B[1;34m(self, ax, cax, kws)\u001B[0m\n\u001B[0;32m    346\u001B[0m \u001B[38;5;66;03m# Annotate the cells with the formatted values\u001B[39;00m\n\u001B[0;32m    347\u001B[0m \u001B[38;5;28;01mif\u001B[39;00m \u001B[38;5;28mself\u001B[39m\u001B[38;5;241m.\u001B[39mannot:\n\u001B[1;32m--> 348\u001B[0m     \u001B[38;5;28;43mself\u001B[39;49m\u001B[38;5;241;43m.\u001B[39;49m\u001B[43m_annotate_heatmap\u001B[49m\u001B[43m(\u001B[49m\u001B[43max\u001B[49m\u001B[43m,\u001B[49m\u001B[43m \u001B[49m\u001B[43mmesh\u001B[49m\u001B[43m)\u001B[49m\n",
      "File \u001B[1;32m~\\AppData\\Local\\Programs\\Python\\Python310\\lib\\site-packages\\seaborn\\matrix.py:259\u001B[0m, in \u001B[0;36m_HeatMapper._annotate_heatmap\u001B[1;34m(self, ax, mesh)\u001B[0m\n\u001B[0;32m    257\u001B[0m text_kwargs \u001B[38;5;241m=\u001B[39m \u001B[38;5;28mdict\u001B[39m(color\u001B[38;5;241m=\u001B[39mtext_color, ha\u001B[38;5;241m=\u001B[39m\u001B[38;5;124m\"\u001B[39m\u001B[38;5;124mcenter\u001B[39m\u001B[38;5;124m\"\u001B[39m, va\u001B[38;5;241m=\u001B[39m\u001B[38;5;124m\"\u001B[39m\u001B[38;5;124mcenter\u001B[39m\u001B[38;5;124m\"\u001B[39m)\n\u001B[0;32m    258\u001B[0m text_kwargs\u001B[38;5;241m.\u001B[39mupdate(\u001B[38;5;28mself\u001B[39m\u001B[38;5;241m.\u001B[39mannot_kws)\n\u001B[1;32m--> 259\u001B[0m ax\u001B[38;5;241m.\u001B[39mtext(x, y, annotation, \u001B[38;5;241m*\u001B[39m\u001B[38;5;241m*\u001B[39mtext_kwargs)\n",
      "File \u001B[1;32m~\\AppData\\Local\\Programs\\Python\\Python310\\lib\\site-packages\\matplotlib\\axes\\_axes.py:660\u001B[0m, in \u001B[0;36mAxes.text\u001B[1;34m(self, x, y, s, fontdict, **kwargs)\u001B[0m\n\u001B[0;32m    651\u001B[0m effective_kwargs \u001B[38;5;241m=\u001B[39m {\n\u001B[0;32m    652\u001B[0m     \u001B[38;5;124m'\u001B[39m\u001B[38;5;124mverticalalignment\u001B[39m\u001B[38;5;124m'\u001B[39m: \u001B[38;5;124m'\u001B[39m\u001B[38;5;124mbaseline\u001B[39m\u001B[38;5;124m'\u001B[39m,\n\u001B[0;32m    653\u001B[0m     \u001B[38;5;124m'\u001B[39m\u001B[38;5;124mhorizontalalignment\u001B[39m\u001B[38;5;124m'\u001B[39m: \u001B[38;5;124m'\u001B[39m\u001B[38;5;124mleft\u001B[39m\u001B[38;5;124m'\u001B[39m,\n\u001B[1;32m   (...)\u001B[0m\n\u001B[0;32m    657\u001B[0m     \u001B[38;5;241m*\u001B[39m\u001B[38;5;241m*\u001B[39mkwargs,\n\u001B[0;32m    658\u001B[0m }\n\u001B[0;32m    659\u001B[0m t \u001B[38;5;241m=\u001B[39m mtext\u001B[38;5;241m.\u001B[39mText(x, y, text\u001B[38;5;241m=\u001B[39ms, \u001B[38;5;241m*\u001B[39m\u001B[38;5;241m*\u001B[39meffective_kwargs)\n\u001B[1;32m--> 660\u001B[0m \u001B[43mt\u001B[49m\u001B[38;5;241;43m.\u001B[39;49m\u001B[43mset_clip_path\u001B[49m\u001B[43m(\u001B[49m\u001B[38;5;28;43mself\u001B[39;49m\u001B[38;5;241;43m.\u001B[39;49m\u001B[43mpatch\u001B[49m\u001B[43m)\u001B[49m\n\u001B[0;32m    661\u001B[0m \u001B[38;5;28mself\u001B[39m\u001B[38;5;241m.\u001B[39m_add_text(t)\n\u001B[0;32m    662\u001B[0m \u001B[38;5;28;01mreturn\u001B[39;00m t\n",
      "File \u001B[1;32m~\\AppData\\Local\\Programs\\Python\\Python310\\lib\\site-packages\\matplotlib\\text.py:531\u001B[0m, in \u001B[0;36mText.set_clip_path\u001B[1;34m(self, path, transform)\u001B[0m\n\u001B[0;32m    529\u001B[0m \u001B[38;5;28;01mdef\u001B[39;00m \u001B[38;5;21mset_clip_path\u001B[39m(\u001B[38;5;28mself\u001B[39m, path, transform\u001B[38;5;241m=\u001B[39m\u001B[38;5;28;01mNone\u001B[39;00m):\n\u001B[0;32m    530\u001B[0m     \u001B[38;5;66;03m# docstring inherited.\u001B[39;00m\n\u001B[1;32m--> 531\u001B[0m     \u001B[38;5;28;43msuper\u001B[39;49m\u001B[43m(\u001B[49m\u001B[43m)\u001B[49m\u001B[38;5;241;43m.\u001B[39;49m\u001B[43mset_clip_path\u001B[49m\u001B[43m(\u001B[49m\u001B[43mpath\u001B[49m\u001B[43m,\u001B[49m\u001B[43m \u001B[49m\u001B[43mtransform\u001B[49m\u001B[43m)\u001B[49m\n\u001B[0;32m    532\u001B[0m     \u001B[38;5;28mself\u001B[39m\u001B[38;5;241m.\u001B[39m_update_clip_properties()\n",
      "File \u001B[1;32m~\\AppData\\Local\\Programs\\Python\\Python310\\lib\\site-packages\\matplotlib\\artist.py:790\u001B[0m, in \u001B[0;36mArtist.set_clip_path\u001B[1;34m(self, path, transform)\u001B[0m\n\u001B[0;32m    787\u001B[0m \u001B[38;5;28;01mif\u001B[39;00m transform \u001B[38;5;129;01mis\u001B[39;00m \u001B[38;5;28;01mNone\u001B[39;00m:\n\u001B[0;32m    788\u001B[0m     \u001B[38;5;28;01mif\u001B[39;00m \u001B[38;5;28misinstance\u001B[39m(path, Rectangle):\n\u001B[0;32m    789\u001B[0m         \u001B[38;5;28mself\u001B[39m\u001B[38;5;241m.\u001B[39mclipbox \u001B[38;5;241m=\u001B[39m TransformedBbox(Bbox\u001B[38;5;241m.\u001B[39munit(),\n\u001B[1;32m--> 790\u001B[0m                                        \u001B[43mpath\u001B[49m\u001B[38;5;241;43m.\u001B[39;49m\u001B[43mget_transform\u001B[49m\u001B[43m(\u001B[49m\u001B[43m)\u001B[49m)\n\u001B[0;32m    791\u001B[0m         \u001B[38;5;28mself\u001B[39m\u001B[38;5;241m.\u001B[39m_clippath \u001B[38;5;241m=\u001B[39m \u001B[38;5;28;01mNone\u001B[39;00m\n\u001B[0;32m    792\u001B[0m         success \u001B[38;5;241m=\u001B[39m \u001B[38;5;28;01mTrue\u001B[39;00m\n",
      "File \u001B[1;32m~\\AppData\\Local\\Programs\\Python\\Python310\\lib\\site-packages\\matplotlib\\patches.py:278\u001B[0m, in \u001B[0;36mPatch.get_transform\u001B[1;34m(self)\u001B[0m\n\u001B[0;32m    276\u001B[0m \u001B[38;5;28;01mdef\u001B[39;00m \u001B[38;5;21mget_transform\u001B[39m(\u001B[38;5;28mself\u001B[39m):\n\u001B[0;32m    277\u001B[0m     \u001B[38;5;124;03m\"\"\"Return the `~.transforms.Transform` applied to the `Patch`.\"\"\"\u001B[39;00m\n\u001B[1;32m--> 278\u001B[0m     \u001B[38;5;28;01mreturn\u001B[39;00m \u001B[38;5;28;43mself\u001B[39;49m\u001B[38;5;241;43m.\u001B[39;49m\u001B[43mget_patch_transform\u001B[49m\u001B[43m(\u001B[49m\u001B[43m)\u001B[49m \u001B[38;5;241m+\u001B[39m artist\u001B[38;5;241m.\u001B[39mArtist\u001B[38;5;241m.\u001B[39mget_transform(\u001B[38;5;28mself\u001B[39m)\n",
      "File \u001B[1;32m~\\AppData\\Local\\Programs\\Python\\Python310\\lib\\site-packages\\matplotlib\\patches.py:754\u001B[0m, in \u001B[0;36mRectangle.get_patch_transform\u001B[1;34m(self)\u001B[0m\n\u001B[0;32m    747\u001B[0m \u001B[38;5;28;01mdef\u001B[39;00m \u001B[38;5;21mget_patch_transform\u001B[39m(\u001B[38;5;28mself\u001B[39m):\n\u001B[0;32m    748\u001B[0m     \u001B[38;5;66;03m# Note: This cannot be called until after this has been added to\u001B[39;00m\n\u001B[0;32m    749\u001B[0m     \u001B[38;5;66;03m# an Axes, otherwise unit conversion will fail. This makes it very\u001B[39;00m\n\u001B[0;32m    750\u001B[0m     \u001B[38;5;66;03m# important to call the accessor method and not directly access the\u001B[39;00m\n\u001B[0;32m    751\u001B[0m     \u001B[38;5;66;03m# transformation member variable.\u001B[39;00m\n\u001B[0;32m    752\u001B[0m     bbox \u001B[38;5;241m=\u001B[39m \u001B[38;5;28mself\u001B[39m\u001B[38;5;241m.\u001B[39mget_bbox()\n\u001B[0;32m    753\u001B[0m     \u001B[38;5;28;01mreturn\u001B[39;00m (transforms\u001B[38;5;241m.\u001B[39mBboxTransformTo(bbox)\n\u001B[1;32m--> 754\u001B[0m             \u001B[38;5;241m+\u001B[39m \u001B[43mtransforms\u001B[49m\u001B[38;5;241;43m.\u001B[39;49m\u001B[43mAffine2D\u001B[49m\u001B[43m(\u001B[49m\u001B[43m)\u001B[49m\u001B[38;5;241;43m.\u001B[39;49m\u001B[43mrotate_deg_around\u001B[49m\u001B[43m(\u001B[49m\n\u001B[0;32m    755\u001B[0m \u001B[43m                \u001B[49m\u001B[43mbbox\u001B[49m\u001B[38;5;241;43m.\u001B[39;49m\u001B[43mx0\u001B[49m\u001B[43m,\u001B[49m\u001B[43m \u001B[49m\u001B[43mbbox\u001B[49m\u001B[38;5;241;43m.\u001B[39;49m\u001B[43my0\u001B[49m\u001B[43m,\u001B[49m\u001B[43m \u001B[49m\u001B[38;5;28;43mself\u001B[39;49m\u001B[38;5;241;43m.\u001B[39;49m\u001B[43mangle\u001B[49m\u001B[43m)\u001B[49m)\n",
      "File \u001B[1;32m~\\AppData\\Local\\Programs\\Python\\Python310\\lib\\site-packages\\matplotlib\\transforms.py:2042\u001B[0m, in \u001B[0;36mAffine2D.rotate_deg_around\u001B[1;34m(self, x, y, degrees)\u001B[0m\n\u001B[0;32m   2040\u001B[0m \u001B[38;5;66;03m# Cast to float to avoid wraparound issues with uint8's\u001B[39;00m\n\u001B[0;32m   2041\u001B[0m x, y \u001B[38;5;241m=\u001B[39m \u001B[38;5;28mfloat\u001B[39m(x), \u001B[38;5;28mfloat\u001B[39m(y)\n\u001B[1;32m-> 2042\u001B[0m \u001B[38;5;28;01mreturn\u001B[39;00m \u001B[38;5;28;43mself\u001B[39;49m\u001B[38;5;241;43m.\u001B[39;49m\u001B[43mtranslate\u001B[49m\u001B[43m(\u001B[49m\u001B[38;5;241;43m-\u001B[39;49m\u001B[43mx\u001B[49m\u001B[43m,\u001B[49m\u001B[43m \u001B[49m\u001B[38;5;241;43m-\u001B[39;49m\u001B[43my\u001B[49m\u001B[43m)\u001B[49m\u001B[38;5;241;43m.\u001B[39;49m\u001B[43mrotate_deg\u001B[49m\u001B[43m(\u001B[49m\u001B[43mdegrees\u001B[49m\u001B[43m)\u001B[49m\u001B[38;5;241m.\u001B[39mtranslate(x, y)\n",
      "File \u001B[1;32m~\\AppData\\Local\\Programs\\Python\\Python310\\lib\\site-packages\\matplotlib\\transforms.py:2020\u001B[0m, in \u001B[0;36mAffine2D.rotate_deg\u001B[1;34m(self, degrees)\u001B[0m\n\u001B[0;32m   2012\u001B[0m \u001B[38;5;28;01mdef\u001B[39;00m \u001B[38;5;21mrotate_deg\u001B[39m(\u001B[38;5;28mself\u001B[39m, degrees):\n\u001B[0;32m   2013\u001B[0m     \u001B[38;5;124;03m\"\"\"\u001B[39;00m\n\u001B[0;32m   2014\u001B[0m \u001B[38;5;124;03m    Add a rotation (in degrees) to this transform in place.\u001B[39;00m\n\u001B[0;32m   2015\u001B[0m \n\u001B[1;32m   (...)\u001B[0m\n\u001B[0;32m   2018\u001B[0m \u001B[38;5;124;03m    and :meth:`scale`.\u001B[39;00m\n\u001B[0;32m   2019\u001B[0m \u001B[38;5;124;03m    \"\"\"\u001B[39;00m\n\u001B[1;32m-> 2020\u001B[0m     \u001B[38;5;28;01mreturn\u001B[39;00m \u001B[38;5;28;43mself\u001B[39;49m\u001B[38;5;241;43m.\u001B[39;49m\u001B[43mrotate\u001B[49m\u001B[43m(\u001B[49m\u001B[43mmath\u001B[49m\u001B[38;5;241;43m.\u001B[39;49m\u001B[43mradians\u001B[49m\u001B[43m(\u001B[49m\u001B[43mdegrees\u001B[49m\u001B[43m)\u001B[49m\u001B[43m)\u001B[49m\n",
      "File \u001B[1;32m~\\AppData\\Local\\Programs\\Python\\Python310\\lib\\site-packages\\matplotlib\\transforms.py:2008\u001B[0m, in \u001B[0;36mAffine2D.rotate\u001B[1;34m(self, theta)\u001B[0m\n\u001B[0;32m   2005\u001B[0m b \u001B[38;5;241m=\u001B[39m math\u001B[38;5;241m.\u001B[39msin(theta)\n\u001B[0;32m   2006\u001B[0m rotate_mtx \u001B[38;5;241m=\u001B[39m np\u001B[38;5;241m.\u001B[39marray([[a, \u001B[38;5;241m-\u001B[39mb, \u001B[38;5;241m0.0\u001B[39m], [b, a, \u001B[38;5;241m0.0\u001B[39m], [\u001B[38;5;241m0.0\u001B[39m, \u001B[38;5;241m0.0\u001B[39m, \u001B[38;5;241m1.0\u001B[39m]],\n\u001B[0;32m   2007\u001B[0m                       \u001B[38;5;28mfloat\u001B[39m)\n\u001B[1;32m-> 2008\u001B[0m \u001B[38;5;28mself\u001B[39m\u001B[38;5;241m.\u001B[39m_mtx \u001B[38;5;241m=\u001B[39m \u001B[43mnp\u001B[49m\u001B[38;5;241;43m.\u001B[39;49m\u001B[43mdot\u001B[49m\u001B[43m(\u001B[49m\u001B[43mrotate_mtx\u001B[49m\u001B[43m,\u001B[49m\u001B[43m \u001B[49m\u001B[38;5;28;43mself\u001B[39;49m\u001B[38;5;241;43m.\u001B[39;49m\u001B[43m_mtx\u001B[49m\u001B[43m)\u001B[49m\n\u001B[0;32m   2009\u001B[0m \u001B[38;5;28mself\u001B[39m\u001B[38;5;241m.\u001B[39minvalidate()\n\u001B[0;32m   2010\u001B[0m \u001B[38;5;28;01mreturn\u001B[39;00m \u001B[38;5;28mself\u001B[39m\n",
      "File \u001B[1;32m<__array_function__ internals>:180\u001B[0m, in \u001B[0;36mdot\u001B[1;34m(*args, **kwargs)\u001B[0m\n",
      "\u001B[1;31mKeyboardInterrupt\u001B[0m: "
     ]
    },
    {
     "name": "stdout",
     "output_type": "stream",
     "text": [
      "Error in callback <function flush_figures at 0x000001A742813520> (for post_execute):\n"
     ]
    },
    {
     "ename": "KeyboardInterrupt",
     "evalue": "",
     "output_type": "error",
     "traceback": [
      "\u001B[1;31m---------------------------------------------------------------------------\u001B[0m",
      "\u001B[1;31mKeyboardInterrupt\u001B[0m                         Traceback (most recent call last)",
      "File \u001B[1;32m~\\AppData\\Local\\Programs\\Python\\Python310\\lib\\site-packages\\matplotlib_inline\\backend_inline.py:121\u001B[0m, in \u001B[0;36mflush_figures\u001B[1;34m()\u001B[0m\n\u001B[0;32m    118\u001B[0m \u001B[38;5;28;01mif\u001B[39;00m InlineBackend\u001B[38;5;241m.\u001B[39minstance()\u001B[38;5;241m.\u001B[39mclose_figures:\n\u001B[0;32m    119\u001B[0m     \u001B[38;5;66;03m# ignore the tracking, just draw and close all figures\u001B[39;00m\n\u001B[0;32m    120\u001B[0m     \u001B[38;5;28;01mtry\u001B[39;00m:\n\u001B[1;32m--> 121\u001B[0m         \u001B[38;5;28;01mreturn\u001B[39;00m \u001B[43mshow\u001B[49m\u001B[43m(\u001B[49m\u001B[38;5;28;43;01mTrue\u001B[39;49;00m\u001B[43m)\u001B[49m\n\u001B[0;32m    122\u001B[0m     \u001B[38;5;28;01mexcept\u001B[39;00m \u001B[38;5;167;01mException\u001B[39;00m \u001B[38;5;28;01mas\u001B[39;00m e:\n\u001B[0;32m    123\u001B[0m         \u001B[38;5;66;03m# safely show traceback if in IPython, else raise\u001B[39;00m\n\u001B[0;32m    124\u001B[0m         ip \u001B[38;5;241m=\u001B[39m get_ipython()\n",
      "File \u001B[1;32m~\\AppData\\Local\\Programs\\Python\\Python310\\lib\\site-packages\\matplotlib_inline\\backend_inline.py:41\u001B[0m, in \u001B[0;36mshow\u001B[1;34m(close, block)\u001B[0m\n\u001B[0;32m     39\u001B[0m \u001B[38;5;28;01mtry\u001B[39;00m:\n\u001B[0;32m     40\u001B[0m     \u001B[38;5;28;01mfor\u001B[39;00m figure_manager \u001B[38;5;129;01min\u001B[39;00m Gcf\u001B[38;5;241m.\u001B[39mget_all_fig_managers():\n\u001B[1;32m---> 41\u001B[0m         \u001B[43mdisplay\u001B[49m\u001B[43m(\u001B[49m\n\u001B[0;32m     42\u001B[0m \u001B[43m            \u001B[49m\u001B[43mfigure_manager\u001B[49m\u001B[38;5;241;43m.\u001B[39;49m\u001B[43mcanvas\u001B[49m\u001B[38;5;241;43m.\u001B[39;49m\u001B[43mfigure\u001B[49m\u001B[43m,\u001B[49m\n\u001B[0;32m     43\u001B[0m \u001B[43m            \u001B[49m\u001B[43mmetadata\u001B[49m\u001B[38;5;241;43m=\u001B[39;49m\u001B[43m_fetch_figure_metadata\u001B[49m\u001B[43m(\u001B[49m\u001B[43mfigure_manager\u001B[49m\u001B[38;5;241;43m.\u001B[39;49m\u001B[43mcanvas\u001B[49m\u001B[38;5;241;43m.\u001B[39;49m\u001B[43mfigure\u001B[49m\u001B[43m)\u001B[49m\n\u001B[0;32m     44\u001B[0m \u001B[43m        \u001B[49m\u001B[43m)\u001B[49m\n\u001B[0;32m     45\u001B[0m \u001B[38;5;28;01mfinally\u001B[39;00m:\n\u001B[0;32m     46\u001B[0m     show\u001B[38;5;241m.\u001B[39m_to_draw \u001B[38;5;241m=\u001B[39m []\n",
      "File \u001B[1;32m~\\AppData\\Local\\Programs\\Python\\Python310\\lib\\site-packages\\IPython\\core\\display_functions.py:298\u001B[0m, in \u001B[0;36mdisplay\u001B[1;34m(include, exclude, metadata, transient, display_id, raw, clear, *objs, **kwargs)\u001B[0m\n\u001B[0;32m    296\u001B[0m     publish_display_data(data\u001B[38;5;241m=\u001B[39mobj, metadata\u001B[38;5;241m=\u001B[39mmetadata, \u001B[38;5;241m*\u001B[39m\u001B[38;5;241m*\u001B[39mkwargs)\n\u001B[0;32m    297\u001B[0m \u001B[38;5;28;01melse\u001B[39;00m:\n\u001B[1;32m--> 298\u001B[0m     format_dict, md_dict \u001B[38;5;241m=\u001B[39m \u001B[38;5;28;43mformat\u001B[39;49m\u001B[43m(\u001B[49m\u001B[43mobj\u001B[49m\u001B[43m,\u001B[49m\u001B[43m \u001B[49m\u001B[43minclude\u001B[49m\u001B[38;5;241;43m=\u001B[39;49m\u001B[43minclude\u001B[49m\u001B[43m,\u001B[49m\u001B[43m \u001B[49m\u001B[43mexclude\u001B[49m\u001B[38;5;241;43m=\u001B[39;49m\u001B[43mexclude\u001B[49m\u001B[43m)\u001B[49m\n\u001B[0;32m    299\u001B[0m     \u001B[38;5;28;01mif\u001B[39;00m \u001B[38;5;129;01mnot\u001B[39;00m format_dict:\n\u001B[0;32m    300\u001B[0m         \u001B[38;5;66;03m# nothing to display (e.g. _ipython_display_ took over)\u001B[39;00m\n\u001B[0;32m    301\u001B[0m         \u001B[38;5;28;01mcontinue\u001B[39;00m\n",
      "File \u001B[1;32m~\\AppData\\Local\\Programs\\Python\\Python310\\lib\\site-packages\\IPython\\core\\formatters.py:178\u001B[0m, in \u001B[0;36mDisplayFormatter.format\u001B[1;34m(self, obj, include, exclude)\u001B[0m\n\u001B[0;32m    176\u001B[0m md \u001B[38;5;241m=\u001B[39m \u001B[38;5;28;01mNone\u001B[39;00m\n\u001B[0;32m    177\u001B[0m \u001B[38;5;28;01mtry\u001B[39;00m:\n\u001B[1;32m--> 178\u001B[0m     data \u001B[38;5;241m=\u001B[39m \u001B[43mformatter\u001B[49m\u001B[43m(\u001B[49m\u001B[43mobj\u001B[49m\u001B[43m)\u001B[49m\n\u001B[0;32m    179\u001B[0m \u001B[38;5;28;01mexcept\u001B[39;00m:\n\u001B[0;32m    180\u001B[0m     \u001B[38;5;66;03m# FIXME: log the exception\u001B[39;00m\n\u001B[0;32m    181\u001B[0m     \u001B[38;5;28;01mraise\u001B[39;00m\n",
      "File \u001B[1;32m~\\AppData\\Local\\Programs\\Python\\Python310\\lib\\site-packages\\decorator.py:232\u001B[0m, in \u001B[0;36mdecorate.<locals>.fun\u001B[1;34m(*args, **kw)\u001B[0m\n\u001B[0;32m    230\u001B[0m \u001B[38;5;28;01mif\u001B[39;00m \u001B[38;5;129;01mnot\u001B[39;00m kwsyntax:\n\u001B[0;32m    231\u001B[0m     args, kw \u001B[38;5;241m=\u001B[39m fix(args, kw, sig)\n\u001B[1;32m--> 232\u001B[0m \u001B[38;5;28;01mreturn\u001B[39;00m caller(func, \u001B[38;5;241m*\u001B[39m(extras \u001B[38;5;241m+\u001B[39m args), \u001B[38;5;241m*\u001B[39m\u001B[38;5;241m*\u001B[39mkw)\n",
      "File \u001B[1;32m~\\AppData\\Local\\Programs\\Python\\Python310\\lib\\site-packages\\IPython\\core\\formatters.py:222\u001B[0m, in \u001B[0;36mcatch_format_error\u001B[1;34m(method, self, *args, **kwargs)\u001B[0m\n\u001B[0;32m    220\u001B[0m \u001B[38;5;124;03m\"\"\"show traceback on failed format call\"\"\"\u001B[39;00m\n\u001B[0;32m    221\u001B[0m \u001B[38;5;28;01mtry\u001B[39;00m:\n\u001B[1;32m--> 222\u001B[0m     r \u001B[38;5;241m=\u001B[39m method(\u001B[38;5;28mself\u001B[39m, \u001B[38;5;241m*\u001B[39margs, \u001B[38;5;241m*\u001B[39m\u001B[38;5;241m*\u001B[39mkwargs)\n\u001B[0;32m    223\u001B[0m \u001B[38;5;28;01mexcept\u001B[39;00m \u001B[38;5;167;01mNotImplementedError\u001B[39;00m:\n\u001B[0;32m    224\u001B[0m     \u001B[38;5;66;03m# don't warn on NotImplementedErrors\u001B[39;00m\n\u001B[0;32m    225\u001B[0m     \u001B[38;5;28;01mreturn\u001B[39;00m \u001B[38;5;28mself\u001B[39m\u001B[38;5;241m.\u001B[39m_check_return(\u001B[38;5;28;01mNone\u001B[39;00m, args[\u001B[38;5;241m0\u001B[39m])\n",
      "File \u001B[1;32m~\\AppData\\Local\\Programs\\Python\\Python310\\lib\\site-packages\\IPython\\core\\formatters.py:339\u001B[0m, in \u001B[0;36mBaseFormatter.__call__\u001B[1;34m(self, obj)\u001B[0m\n\u001B[0;32m    337\u001B[0m     \u001B[38;5;28;01mpass\u001B[39;00m\n\u001B[0;32m    338\u001B[0m \u001B[38;5;28;01melse\u001B[39;00m:\n\u001B[1;32m--> 339\u001B[0m     \u001B[38;5;28;01mreturn\u001B[39;00m \u001B[43mprinter\u001B[49m\u001B[43m(\u001B[49m\u001B[43mobj\u001B[49m\u001B[43m)\u001B[49m\n\u001B[0;32m    340\u001B[0m \u001B[38;5;66;03m# Finally look for special method names\u001B[39;00m\n\u001B[0;32m    341\u001B[0m method \u001B[38;5;241m=\u001B[39m get_real_method(obj, \u001B[38;5;28mself\u001B[39m\u001B[38;5;241m.\u001B[39mprint_method)\n",
      "File \u001B[1;32m~\\AppData\\Local\\Programs\\Python\\Python310\\lib\\site-packages\\IPython\\core\\pylabtools.py:151\u001B[0m, in \u001B[0;36mprint_figure\u001B[1;34m(fig, fmt, bbox_inches, base64, **kwargs)\u001B[0m\n\u001B[0;32m    148\u001B[0m     \u001B[38;5;28;01mfrom\u001B[39;00m \u001B[38;5;21;01mmatplotlib\u001B[39;00m\u001B[38;5;21;01m.\u001B[39;00m\u001B[38;5;21;01mbackend_bases\u001B[39;00m \u001B[38;5;28;01mimport\u001B[39;00m FigureCanvasBase\n\u001B[0;32m    149\u001B[0m     FigureCanvasBase(fig)\n\u001B[1;32m--> 151\u001B[0m fig\u001B[38;5;241m.\u001B[39mcanvas\u001B[38;5;241m.\u001B[39mprint_figure(bytes_io, \u001B[38;5;241m*\u001B[39m\u001B[38;5;241m*\u001B[39mkw)\n\u001B[0;32m    152\u001B[0m data \u001B[38;5;241m=\u001B[39m bytes_io\u001B[38;5;241m.\u001B[39mgetvalue()\n\u001B[0;32m    153\u001B[0m \u001B[38;5;28;01mif\u001B[39;00m fmt \u001B[38;5;241m==\u001B[39m \u001B[38;5;124m'\u001B[39m\u001B[38;5;124msvg\u001B[39m\u001B[38;5;124m'\u001B[39m:\n",
      "File \u001B[1;32m~\\AppData\\Local\\Programs\\Python\\Python310\\lib\\site-packages\\matplotlib\\backend_bases.py:2299\u001B[0m, in \u001B[0;36mFigureCanvasBase.print_figure\u001B[1;34m(self, filename, dpi, facecolor, edgecolor, orientation, format, bbox_inches, pad_inches, bbox_extra_artists, backend, **kwargs)\u001B[0m\n\u001B[0;32m   2297\u001B[0m \u001B[38;5;28;01mif\u001B[39;00m bbox_inches:\n\u001B[0;32m   2298\u001B[0m     \u001B[38;5;28;01mif\u001B[39;00m bbox_inches \u001B[38;5;241m==\u001B[39m \u001B[38;5;124m\"\u001B[39m\u001B[38;5;124mtight\u001B[39m\u001B[38;5;124m\"\u001B[39m:\n\u001B[1;32m-> 2299\u001B[0m         bbox_inches \u001B[38;5;241m=\u001B[39m \u001B[38;5;28;43mself\u001B[39;49m\u001B[38;5;241;43m.\u001B[39;49m\u001B[43mfigure\u001B[49m\u001B[38;5;241;43m.\u001B[39;49m\u001B[43mget_tightbbox\u001B[49m\u001B[43m(\u001B[49m\n\u001B[0;32m   2300\u001B[0m \u001B[43m            \u001B[49m\u001B[43mrenderer\u001B[49m\u001B[43m,\u001B[49m\u001B[43m \u001B[49m\u001B[43mbbox_extra_artists\u001B[49m\u001B[38;5;241;43m=\u001B[39;49m\u001B[43mbbox_extra_artists\u001B[49m\u001B[43m)\u001B[49m\n\u001B[0;32m   2301\u001B[0m         \u001B[38;5;28;01mif\u001B[39;00m pad_inches \u001B[38;5;129;01mis\u001B[39;00m \u001B[38;5;28;01mNone\u001B[39;00m:\n\u001B[0;32m   2302\u001B[0m             pad_inches \u001B[38;5;241m=\u001B[39m rcParams[\u001B[38;5;124m'\u001B[39m\u001B[38;5;124msavefig.pad_inches\u001B[39m\u001B[38;5;124m'\u001B[39m]\n",
      "File \u001B[1;32m~\\AppData\\Local\\Programs\\Python\\Python310\\lib\\site-packages\\matplotlib\\figure.py:1632\u001B[0m, in \u001B[0;36mFigureBase.get_tightbbox\u001B[1;34m(self, renderer, bbox_extra_artists)\u001B[0m\n\u001B[0;32m   1629\u001B[0m     artists \u001B[38;5;241m=\u001B[39m bbox_extra_artists\n\u001B[0;32m   1631\u001B[0m \u001B[38;5;28;01mfor\u001B[39;00m a \u001B[38;5;129;01min\u001B[39;00m artists:\n\u001B[1;32m-> 1632\u001B[0m     bbox \u001B[38;5;241m=\u001B[39m \u001B[43ma\u001B[49m\u001B[38;5;241;43m.\u001B[39;49m\u001B[43mget_tightbbox\u001B[49m\u001B[43m(\u001B[49m\u001B[43mrenderer\u001B[49m\u001B[43m)\u001B[49m\n\u001B[0;32m   1633\u001B[0m     \u001B[38;5;28;01mif\u001B[39;00m bbox \u001B[38;5;129;01mis\u001B[39;00m \u001B[38;5;129;01mnot\u001B[39;00m \u001B[38;5;28;01mNone\u001B[39;00m \u001B[38;5;129;01mand\u001B[39;00m (bbox\u001B[38;5;241m.\u001B[39mwidth \u001B[38;5;241m!=\u001B[39m \u001B[38;5;241m0\u001B[39m \u001B[38;5;129;01mor\u001B[39;00m bbox\u001B[38;5;241m.\u001B[39mheight \u001B[38;5;241m!=\u001B[39m \u001B[38;5;241m0\u001B[39m):\n\u001B[0;32m   1634\u001B[0m         bb\u001B[38;5;241m.\u001B[39mappend(bbox)\n",
      "File \u001B[1;32m~\\AppData\\Local\\Programs\\Python\\Python310\\lib\\site-packages\\matplotlib\\axes\\_base.py:4671\u001B[0m, in \u001B[0;36m_AxesBase.get_tightbbox\u001B[1;34m(self, renderer, call_axes_locator, bbox_extra_artists, for_layout_only)\u001B[0m\n\u001B[0;32m   4667\u001B[0m     \u001B[38;5;28;01mif\u001B[39;00m (bbox \u001B[38;5;129;01mis\u001B[39;00m \u001B[38;5;129;01mnot\u001B[39;00m \u001B[38;5;28;01mNone\u001B[39;00m\n\u001B[0;32m   4668\u001B[0m             \u001B[38;5;129;01mand\u001B[39;00m \u001B[38;5;241m0\u001B[39m \u001B[38;5;241m<\u001B[39m bbox\u001B[38;5;241m.\u001B[39mwidth \u001B[38;5;241m<\u001B[39m np\u001B[38;5;241m.\u001B[39minf\n\u001B[0;32m   4669\u001B[0m             \u001B[38;5;129;01mand\u001B[39;00m \u001B[38;5;241m0\u001B[39m \u001B[38;5;241m<\u001B[39m bbox\u001B[38;5;241m.\u001B[39mheight \u001B[38;5;241m<\u001B[39m np\u001B[38;5;241m.\u001B[39minf):\n\u001B[0;32m   4670\u001B[0m         bb\u001B[38;5;241m.\u001B[39mappend(bbox)\n\u001B[1;32m-> 4671\u001B[0m \u001B[38;5;28;01mreturn\u001B[39;00m \u001B[43mmtransforms\u001B[49m\u001B[38;5;241;43m.\u001B[39;49m\u001B[43mBbox\u001B[49m\u001B[38;5;241;43m.\u001B[39;49m\u001B[43munion\u001B[49m\u001B[43m(\u001B[49m\n\u001B[0;32m   4672\u001B[0m \u001B[43m    \u001B[49m\u001B[43m[\u001B[49m\u001B[43mb\u001B[49m\u001B[43m \u001B[49m\u001B[38;5;28;43;01mfor\u001B[39;49;00m\u001B[43m \u001B[49m\u001B[43mb\u001B[49m\u001B[43m \u001B[49m\u001B[38;5;129;43;01min\u001B[39;49;00m\u001B[43m \u001B[49m\u001B[43mbb\u001B[49m\u001B[43m \u001B[49m\u001B[38;5;28;43;01mif\u001B[39;49;00m\u001B[43m \u001B[49m\u001B[43mb\u001B[49m\u001B[38;5;241;43m.\u001B[39;49m\u001B[43mwidth\u001B[49m\u001B[43m \u001B[49m\u001B[38;5;241;43m!=\u001B[39;49m\u001B[43m \u001B[49m\u001B[38;5;241;43m0\u001B[39;49m\u001B[43m \u001B[49m\u001B[38;5;129;43;01mor\u001B[39;49;00m\u001B[43m \u001B[49m\u001B[43mb\u001B[49m\u001B[38;5;241;43m.\u001B[39;49m\u001B[43mheight\u001B[49m\u001B[43m \u001B[49m\u001B[38;5;241;43m!=\u001B[39;49m\u001B[43m \u001B[49m\u001B[38;5;241;43m0\u001B[39;49m\u001B[43m]\u001B[49m\u001B[43m)\u001B[49m\n",
      "File \u001B[1;32m~\\AppData\\Local\\Programs\\Python\\Python310\\lib\\site-packages\\matplotlib\\transforms.py:667\u001B[0m, in \u001B[0;36mBboxBase.union\u001B[1;34m(bboxes)\u001B[0m\n\u001B[0;32m    665\u001B[0m \u001B[38;5;28;01mif\u001B[39;00m \u001B[38;5;129;01mnot\u001B[39;00m \u001B[38;5;28mlen\u001B[39m(bboxes):\n\u001B[0;32m    666\u001B[0m     \u001B[38;5;28;01mraise\u001B[39;00m \u001B[38;5;167;01mValueError\u001B[39;00m(\u001B[38;5;124m\"\u001B[39m\u001B[38;5;124m'\u001B[39m\u001B[38;5;124mbboxes\u001B[39m\u001B[38;5;124m'\u001B[39m\u001B[38;5;124m cannot be empty\u001B[39m\u001B[38;5;124m\"\u001B[39m)\n\u001B[1;32m--> 667\u001B[0m x0 \u001B[38;5;241m=\u001B[39m np\u001B[38;5;241m.\u001B[39mmin([bbox\u001B[38;5;241m.\u001B[39mxmin \u001B[38;5;28;01mfor\u001B[39;00m bbox \u001B[38;5;129;01min\u001B[39;00m bboxes])\n\u001B[0;32m    668\u001B[0m x1 \u001B[38;5;241m=\u001B[39m np\u001B[38;5;241m.\u001B[39mmax([bbox\u001B[38;5;241m.\u001B[39mxmax \u001B[38;5;28;01mfor\u001B[39;00m bbox \u001B[38;5;129;01min\u001B[39;00m bboxes])\n\u001B[0;32m    669\u001B[0m y0 \u001B[38;5;241m=\u001B[39m np\u001B[38;5;241m.\u001B[39mmin([bbox\u001B[38;5;241m.\u001B[39mymin \u001B[38;5;28;01mfor\u001B[39;00m bbox \u001B[38;5;129;01min\u001B[39;00m bboxes])\n",
      "File \u001B[1;32m~\\AppData\\Local\\Programs\\Python\\Python310\\lib\\site-packages\\matplotlib\\transforms.py:667\u001B[0m, in \u001B[0;36m<listcomp>\u001B[1;34m(.0)\u001B[0m\n\u001B[0;32m    665\u001B[0m \u001B[38;5;28;01mif\u001B[39;00m \u001B[38;5;129;01mnot\u001B[39;00m \u001B[38;5;28mlen\u001B[39m(bboxes):\n\u001B[0;32m    666\u001B[0m     \u001B[38;5;28;01mraise\u001B[39;00m \u001B[38;5;167;01mValueError\u001B[39;00m(\u001B[38;5;124m\"\u001B[39m\u001B[38;5;124m'\u001B[39m\u001B[38;5;124mbboxes\u001B[39m\u001B[38;5;124m'\u001B[39m\u001B[38;5;124m cannot be empty\u001B[39m\u001B[38;5;124m\"\u001B[39m)\n\u001B[1;32m--> 667\u001B[0m x0 \u001B[38;5;241m=\u001B[39m np\u001B[38;5;241m.\u001B[39mmin([\u001B[43mbbox\u001B[49m\u001B[38;5;241;43m.\u001B[39;49m\u001B[43mxmin\u001B[49m \u001B[38;5;28;01mfor\u001B[39;00m bbox \u001B[38;5;129;01min\u001B[39;00m bboxes])\n\u001B[0;32m    668\u001B[0m x1 \u001B[38;5;241m=\u001B[39m np\u001B[38;5;241m.\u001B[39mmax([bbox\u001B[38;5;241m.\u001B[39mxmax \u001B[38;5;28;01mfor\u001B[39;00m bbox \u001B[38;5;129;01min\u001B[39;00m bboxes])\n\u001B[0;32m    669\u001B[0m y0 \u001B[38;5;241m=\u001B[39m np\u001B[38;5;241m.\u001B[39mmin([bbox\u001B[38;5;241m.\u001B[39mymin \u001B[38;5;28;01mfor\u001B[39;00m bbox \u001B[38;5;129;01min\u001B[39;00m bboxes])\n",
      "File \u001B[1;32m~\\AppData\\Local\\Programs\\Python\\Python310\\lib\\site-packages\\matplotlib\\transforms.py:329\u001B[0m, in \u001B[0;36mBboxBase.xmin\u001B[1;34m(self)\u001B[0m\n\u001B[0;32m    326\u001B[0m \u001B[38;5;129m@property\u001B[39m\n\u001B[0;32m    327\u001B[0m \u001B[38;5;28;01mdef\u001B[39;00m \u001B[38;5;21mxmin\u001B[39m(\u001B[38;5;28mself\u001B[39m):\n\u001B[0;32m    328\u001B[0m     \u001B[38;5;124;03m\"\"\"The left edge of the bounding box.\"\"\"\u001B[39;00m\n\u001B[1;32m--> 329\u001B[0m     \u001B[38;5;28;01mreturn\u001B[39;00m \u001B[43mnp\u001B[49m\u001B[38;5;241;43m.\u001B[39;49m\u001B[43mmin\u001B[49m\u001B[43m(\u001B[49m\u001B[38;5;28;43mself\u001B[39;49m\u001B[38;5;241;43m.\u001B[39;49m\u001B[43mget_points\u001B[49m\u001B[43m(\u001B[49m\u001B[43m)\u001B[49m\u001B[43m[\u001B[49m\u001B[43m:\u001B[49m\u001B[43m,\u001B[49m\u001B[43m \u001B[49m\u001B[38;5;241;43m0\u001B[39;49m\u001B[43m]\u001B[49m\u001B[43m)\u001B[49m\n",
      "File \u001B[1;32m<__array_function__ internals>:180\u001B[0m, in \u001B[0;36mamin\u001B[1;34m(*args, **kwargs)\u001B[0m\n",
      "File \u001B[1;32m~\\AppData\\Local\\Programs\\Python\\Python310\\lib\\site-packages\\numpy\\core\\fromnumeric.py:2916\u001B[0m, in \u001B[0;36mamin\u001B[1;34m(a, axis, out, keepdims, initial, where)\u001B[0m\n\u001B[0;32m   2800\u001B[0m \u001B[38;5;129m@array_function_dispatch\u001B[39m(_amin_dispatcher)\n\u001B[0;32m   2801\u001B[0m \u001B[38;5;28;01mdef\u001B[39;00m \u001B[38;5;21mamin\u001B[39m(a, axis\u001B[38;5;241m=\u001B[39m\u001B[38;5;28;01mNone\u001B[39;00m, out\u001B[38;5;241m=\u001B[39m\u001B[38;5;28;01mNone\u001B[39;00m, keepdims\u001B[38;5;241m=\u001B[39mnp\u001B[38;5;241m.\u001B[39m_NoValue, initial\u001B[38;5;241m=\u001B[39mnp\u001B[38;5;241m.\u001B[39m_NoValue,\n\u001B[0;32m   2802\u001B[0m          where\u001B[38;5;241m=\u001B[39mnp\u001B[38;5;241m.\u001B[39m_NoValue):\n\u001B[0;32m   2803\u001B[0m     \u001B[38;5;124;03m\"\"\"\u001B[39;00m\n\u001B[0;32m   2804\u001B[0m \u001B[38;5;124;03m    Return the minimum of an array or minimum along an axis.\u001B[39;00m\n\u001B[0;32m   2805\u001B[0m \n\u001B[1;32m   (...)\u001B[0m\n\u001B[0;32m   2914\u001B[0m \u001B[38;5;124;03m    6\u001B[39;00m\n\u001B[0;32m   2915\u001B[0m \u001B[38;5;124;03m    \"\"\"\u001B[39;00m\n\u001B[1;32m-> 2916\u001B[0m     \u001B[38;5;28;01mreturn\u001B[39;00m \u001B[43m_wrapreduction\u001B[49m\u001B[43m(\u001B[49m\u001B[43ma\u001B[49m\u001B[43m,\u001B[49m\u001B[43m \u001B[49m\u001B[43mnp\u001B[49m\u001B[38;5;241;43m.\u001B[39;49m\u001B[43mminimum\u001B[49m\u001B[43m,\u001B[49m\u001B[43m \u001B[49m\u001B[38;5;124;43m'\u001B[39;49m\u001B[38;5;124;43mmin\u001B[39;49m\u001B[38;5;124;43m'\u001B[39;49m\u001B[43m,\u001B[49m\u001B[43m \u001B[49m\u001B[43maxis\u001B[49m\u001B[43m,\u001B[49m\u001B[43m \u001B[49m\u001B[38;5;28;43;01mNone\u001B[39;49;00m\u001B[43m,\u001B[49m\u001B[43m \u001B[49m\u001B[43mout\u001B[49m\u001B[43m,\u001B[49m\n\u001B[0;32m   2917\u001B[0m \u001B[43m                          \u001B[49m\u001B[43mkeepdims\u001B[49m\u001B[38;5;241;43m=\u001B[39;49m\u001B[43mkeepdims\u001B[49m\u001B[43m,\u001B[49m\u001B[43m \u001B[49m\u001B[43minitial\u001B[49m\u001B[38;5;241;43m=\u001B[39;49m\u001B[43minitial\u001B[49m\u001B[43m,\u001B[49m\u001B[43m \u001B[49m\u001B[43mwhere\u001B[49m\u001B[38;5;241;43m=\u001B[39;49m\u001B[43mwhere\u001B[49m\u001B[43m)\u001B[49m\n",
      "\u001B[1;31mKeyboardInterrupt\u001B[0m: "
     ]
    }
   ],
   "source": [
    "cm= confusion_matrix(y_test_player_stats_change,votes_player_stats_change, labels=rf_model_player_stats.classes_)\n",
    "plt.figure(figsize = (10,7))\n",
    "sn.heatmap(cm, annot=True,cmap=\"Blues\", fmt=\"d\")\n",
    "\n",
    "#disp = ConfusionMatrixDisplay(confusion_matrix=cm, display_labels=rf_model_player_stats.classes_)\n",
    "#disp.plot()\n",
    "#plt.show()\n",
    "\n",
    "\n",
    "#print(classification_report(y_test_player_stats,votes_player_stats))\n",
    "#print(accuracy_score(y_test_player_stats,votes_player_stats))"
   ],
   "metadata": {
    "collapsed": false,
    "pycharm": {
     "name": "#%%\n"
    }
   }
  },
  {
   "cell_type": "markdown",
   "source": [],
   "metadata": {
    "collapsed": false
   }
  }
 ],
 "metadata": {
  "kernelspec": {
   "display_name": "Python 3",
   "language": "python",
   "name": "python3"
  },
  "language_info": {
   "codemirror_mode": {
    "name": "ipython",
    "version": 2
   },
   "file_extension": ".py",
   "mimetype": "text/x-python",
   "name": "python",
   "nbconvert_exporter": "python",
   "pygments_lexer": "ipython2",
   "version": "2.7.6"
  }
 },
 "nbformat": 4,
 "nbformat_minor": 0
}