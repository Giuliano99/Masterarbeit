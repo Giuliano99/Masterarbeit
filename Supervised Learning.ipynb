{
 "cells": [
  {
   "cell_type": "code",
   "execution_count": 1,
   "metadata": {
    "collapsed": true
   },
   "outputs": [],
   "source": [
    "#notebook for perform ml algorithms\n",
    "#import necessary packages\n",
    "import pandas as pd\n",
    "import numpy as np\n",
    "from sklearn.ensemble import RandomForestClassifier\n",
    "import xgboost as xgb\n",
    "from sklearn.model_selection import train_test_split, GridSearchCV, RandomizedSearchCV"
   ]
  },
  {
   "cell_type": "code",
   "execution_count": 2,
   "outputs": [
    {
     "data": {
      "text/plain": "     Unnamed: 0 Div        Date   Time         HomeTeam         AwayTeam  \\\n30           30  E0  2021-09-11  12:30   Crystal Palace        Tottenham   \n31           31  E0  2021-09-11  15:00          Arsenal     Norwich City   \n32           32  E0  2021-09-11  15:00        Brentford         Brighton   \n33           33  E0  2021-09-11  15:00   Leicester City  Manchester City   \n34           34  E0  2021-09-11  15:00   Manchester Utd    Newcastle Utd   \n..          ...  ..         ...    ...              ...              ...   \n375         375  E0  2022-05-22  16:00   Crystal Palace   Manchester Utd   \n376         376  E0  2022-05-22  16:00   Leicester City      Southampton   \n377         377  E0  2022-05-22  16:00        Liverpool           Wolves   \n378         378  E0  2022-05-22  16:00  Manchester City      Aston Villa   \n379         379  E0  2022-05-22  16:00     Norwich City        Tottenham   \n\n     FTHG  FTAG FTR  HTHG  ...  Elo_h_after Elo_a_after Elo_h_before  \\\n30      3     0   H     0  ...      1505.52     1525.14      1488.18   \n31      1     0   H     0  ...      1472.46     1441.35      1457.52   \n32      0     1   A     0  ...      1498.17     1529.25      1513.11   \n33      0     1   A     0  ...      1498.71     1528.77      1513.71   \n34      4     1   H     1  ...      1539.48     1458.09      1526.88   \n..    ...   ...  ..   ...  ...          ...         ...          ...   \n375     1     0   H     1  ...      1498.11     1506.66      1481.31   \n376     4     1   H     0  ...      1503.48     1420.47      1490.97   \n377     3     1   H     1  ...      1716.99     1461.21      1711.08   \n378     3     2   H     0  ...      1703.55     1460.85      1697.25   \n379     0     5   A     0  ...      1329.81     1603.29      1335.24   \n\n     Elo_a_before  goalsDifference  shotsDifference  cornersDifference  \\\n30        1542.48        -1.500000        -4.000000          -1.500000   \n31        1456.29         0.000000         2.500000           6.000000   \n32        1514.31        -1.000000        -5.000000          -5.000000   \n33        1513.77        -1.000000        -0.500000          -9.000000   \n34        1470.69         3.500000         6.500000          -0.500000   \n..            ...              ...              ...                ...   \n375       1523.46        -1.333333        -1.666667           1.166667   \n376       1432.98         1.833333         4.666667          -2.166667   \n377       1467.12         5.000000         6.166667          10.000000   \n378       1467.15         9.000000         1.333333           4.500000   \n379       1597.86        -2.666667         3.166667           0.833333   \n\n     ewmDifference  elo_difference  form_difference  \n30       -6.783784          -54.30        -4.000000  \n31        0.000000            1.23         0.000000  \n32       -1.081081           -1.20        -1.000000  \n33        0.027027           -0.06         1.500000  \n34        5.792793           56.19         3.500000  \n..             ...             ...              ...  \n375     -12.982307          -42.15         0.000000  \n376       8.867102           57.99         0.333333  \n377      37.769667          243.96         4.500000  \n378      44.976998          230.10         4.000000  \n379     -45.768690         -262.62        -3.000000  \n\n[350 rows x 134 columns]",
      "text/html": "<div>\n<style scoped>\n    .dataframe tbody tr th:only-of-type {\n        vertical-align: middle;\n    }\n\n    .dataframe tbody tr th {\n        vertical-align: top;\n    }\n\n    .dataframe thead th {\n        text-align: right;\n    }\n</style>\n<table border=\"1\" class=\"dataframe\">\n  <thead>\n    <tr style=\"text-align: right;\">\n      <th></th>\n      <th>Unnamed: 0</th>\n      <th>Div</th>\n      <th>Date</th>\n      <th>Time</th>\n      <th>HomeTeam</th>\n      <th>AwayTeam</th>\n      <th>FTHG</th>\n      <th>FTAG</th>\n      <th>FTR</th>\n      <th>HTHG</th>\n      <th>...</th>\n      <th>Elo_h_after</th>\n      <th>Elo_a_after</th>\n      <th>Elo_h_before</th>\n      <th>Elo_a_before</th>\n      <th>goalsDifference</th>\n      <th>shotsDifference</th>\n      <th>cornersDifference</th>\n      <th>ewmDifference</th>\n      <th>elo_difference</th>\n      <th>form_difference</th>\n    </tr>\n  </thead>\n  <tbody>\n    <tr>\n      <th>30</th>\n      <td>30</td>\n      <td>E0</td>\n      <td>2021-09-11</td>\n      <td>12:30</td>\n      <td>Crystal Palace</td>\n      <td>Tottenham</td>\n      <td>3</td>\n      <td>0</td>\n      <td>H</td>\n      <td>0</td>\n      <td>...</td>\n      <td>1505.52</td>\n      <td>1525.14</td>\n      <td>1488.18</td>\n      <td>1542.48</td>\n      <td>-1.500000</td>\n      <td>-4.000000</td>\n      <td>-1.500000</td>\n      <td>-6.783784</td>\n      <td>-54.30</td>\n      <td>-4.000000</td>\n    </tr>\n    <tr>\n      <th>31</th>\n      <td>31</td>\n      <td>E0</td>\n      <td>2021-09-11</td>\n      <td>15:00</td>\n      <td>Arsenal</td>\n      <td>Norwich City</td>\n      <td>1</td>\n      <td>0</td>\n      <td>H</td>\n      <td>0</td>\n      <td>...</td>\n      <td>1472.46</td>\n      <td>1441.35</td>\n      <td>1457.52</td>\n      <td>1456.29</td>\n      <td>0.000000</td>\n      <td>2.500000</td>\n      <td>6.000000</td>\n      <td>0.000000</td>\n      <td>1.23</td>\n      <td>0.000000</td>\n    </tr>\n    <tr>\n      <th>32</th>\n      <td>32</td>\n      <td>E0</td>\n      <td>2021-09-11</td>\n      <td>15:00</td>\n      <td>Brentford</td>\n      <td>Brighton</td>\n      <td>0</td>\n      <td>1</td>\n      <td>A</td>\n      <td>0</td>\n      <td>...</td>\n      <td>1498.17</td>\n      <td>1529.25</td>\n      <td>1513.11</td>\n      <td>1514.31</td>\n      <td>-1.000000</td>\n      <td>-5.000000</td>\n      <td>-5.000000</td>\n      <td>-1.081081</td>\n      <td>-1.20</td>\n      <td>-1.000000</td>\n    </tr>\n    <tr>\n      <th>33</th>\n      <td>33</td>\n      <td>E0</td>\n      <td>2021-09-11</td>\n      <td>15:00</td>\n      <td>Leicester City</td>\n      <td>Manchester City</td>\n      <td>0</td>\n      <td>1</td>\n      <td>A</td>\n      <td>0</td>\n      <td>...</td>\n      <td>1498.71</td>\n      <td>1528.77</td>\n      <td>1513.71</td>\n      <td>1513.77</td>\n      <td>-1.000000</td>\n      <td>-0.500000</td>\n      <td>-9.000000</td>\n      <td>0.027027</td>\n      <td>-0.06</td>\n      <td>1.500000</td>\n    </tr>\n    <tr>\n      <th>34</th>\n      <td>34</td>\n      <td>E0</td>\n      <td>2021-09-11</td>\n      <td>15:00</td>\n      <td>Manchester Utd</td>\n      <td>Newcastle Utd</td>\n      <td>4</td>\n      <td>1</td>\n      <td>H</td>\n      <td>1</td>\n      <td>...</td>\n      <td>1539.48</td>\n      <td>1458.09</td>\n      <td>1526.88</td>\n      <td>1470.69</td>\n      <td>3.500000</td>\n      <td>6.500000</td>\n      <td>-0.500000</td>\n      <td>5.792793</td>\n      <td>56.19</td>\n      <td>3.500000</td>\n    </tr>\n    <tr>\n      <th>...</th>\n      <td>...</td>\n      <td>...</td>\n      <td>...</td>\n      <td>...</td>\n      <td>...</td>\n      <td>...</td>\n      <td>...</td>\n      <td>...</td>\n      <td>...</td>\n      <td>...</td>\n      <td>...</td>\n      <td>...</td>\n      <td>...</td>\n      <td>...</td>\n      <td>...</td>\n      <td>...</td>\n      <td>...</td>\n      <td>...</td>\n      <td>...</td>\n      <td>...</td>\n      <td>...</td>\n    </tr>\n    <tr>\n      <th>375</th>\n      <td>375</td>\n      <td>E0</td>\n      <td>2022-05-22</td>\n      <td>16:00</td>\n      <td>Crystal Palace</td>\n      <td>Manchester Utd</td>\n      <td>1</td>\n      <td>0</td>\n      <td>H</td>\n      <td>1</td>\n      <td>...</td>\n      <td>1498.11</td>\n      <td>1506.66</td>\n      <td>1481.31</td>\n      <td>1523.46</td>\n      <td>-1.333333</td>\n      <td>-1.666667</td>\n      <td>1.166667</td>\n      <td>-12.982307</td>\n      <td>-42.15</td>\n      <td>0.000000</td>\n    </tr>\n    <tr>\n      <th>376</th>\n      <td>376</td>\n      <td>E0</td>\n      <td>2022-05-22</td>\n      <td>16:00</td>\n      <td>Leicester City</td>\n      <td>Southampton</td>\n      <td>4</td>\n      <td>1</td>\n      <td>H</td>\n      <td>0</td>\n      <td>...</td>\n      <td>1503.48</td>\n      <td>1420.47</td>\n      <td>1490.97</td>\n      <td>1432.98</td>\n      <td>1.833333</td>\n      <td>4.666667</td>\n      <td>-2.166667</td>\n      <td>8.867102</td>\n      <td>57.99</td>\n      <td>0.333333</td>\n    </tr>\n    <tr>\n      <th>377</th>\n      <td>377</td>\n      <td>E0</td>\n      <td>2022-05-22</td>\n      <td>16:00</td>\n      <td>Liverpool</td>\n      <td>Wolves</td>\n      <td>3</td>\n      <td>1</td>\n      <td>H</td>\n      <td>1</td>\n      <td>...</td>\n      <td>1716.99</td>\n      <td>1461.21</td>\n      <td>1711.08</td>\n      <td>1467.12</td>\n      <td>5.000000</td>\n      <td>6.166667</td>\n      <td>10.000000</td>\n      <td>37.769667</td>\n      <td>243.96</td>\n      <td>4.500000</td>\n    </tr>\n    <tr>\n      <th>378</th>\n      <td>378</td>\n      <td>E0</td>\n      <td>2022-05-22</td>\n      <td>16:00</td>\n      <td>Manchester City</td>\n      <td>Aston Villa</td>\n      <td>3</td>\n      <td>2</td>\n      <td>H</td>\n      <td>0</td>\n      <td>...</td>\n      <td>1703.55</td>\n      <td>1460.85</td>\n      <td>1697.25</td>\n      <td>1467.15</td>\n      <td>9.000000</td>\n      <td>1.333333</td>\n      <td>4.500000</td>\n      <td>44.976998</td>\n      <td>230.10</td>\n      <td>4.000000</td>\n    </tr>\n    <tr>\n      <th>379</th>\n      <td>379</td>\n      <td>E0</td>\n      <td>2022-05-22</td>\n      <td>16:00</td>\n      <td>Norwich City</td>\n      <td>Tottenham</td>\n      <td>0</td>\n      <td>5</td>\n      <td>A</td>\n      <td>0</td>\n      <td>...</td>\n      <td>1329.81</td>\n      <td>1603.29</td>\n      <td>1335.24</td>\n      <td>1597.86</td>\n      <td>-2.666667</td>\n      <td>3.166667</td>\n      <td>0.833333</td>\n      <td>-45.768690</td>\n      <td>-262.62</td>\n      <td>-3.000000</td>\n    </tr>\n  </tbody>\n</table>\n<p>350 rows × 134 columns</p>\n</div>"
     },
     "execution_count": 2,
     "metadata": {},
     "output_type": "execute_result"
    }
   ],
   "source": [
    "#import and prepare data\n",
    "player_ratings_19 = pd.read_csv('Data/2019-20/Players/player_ratings_19_a_09.csv')\n",
    "features_19 = pd.read_csv('Data/2019-20/Fixtures/PL19_20_features.csv')\n",
    "#exclude gameweeks 1-3\n",
    "features_19.drop(features_19[features_19.Wk_h < 4].index, inplace=True)\n",
    "player_ratings_20 = pd.read_csv('Data/2020-21/Players/player_ratings_a_09.csv')\n",
    "features_20 = pd.read_csv('Data/2020-21/Fixtures/PL20_21_features.csv')\n",
    "features_20.drop(features_20[features_20.Wk_h < 4].index, inplace=True)\n",
    "player_ratings_21 = pd.read_csv('Data/2021-22/Players/player_ratings_21_a_09.csv')\n",
    "features_21 = pd.read_csv('Data/2021-22/Fixtures/PL21_22_features.csv')\n",
    "features_21.drop(features_21[features_21.Wk_h < 4].index, inplace=True)\n",
    "player_ratings_20.replace(['Brighton & Hove Albion','Manchester United', 'Newcastle United', 'Sheffield United', 'Tottenham Hotspur', 'West Bromwich Albion', 'West Ham United','Wolverhampton Wanderers'], ['Brighton', 'Manchester Utd','Newcastle Utd', 'Sheffield Utd', 'Tottenham','West Brom' ,'West Ham', 'Wolves'], inplace=True)\n",
    "player_ratings_20['game_home_ID'] = player_ratings_20['HomeTeam'] + player_ratings_20['Date']\n",
    "player_ratings_20['game_away_ID'] = player_ratings_20['AwayTeam'] + player_ratings_20['Date']\n",
    "player_ratings_20.drop(player_ratings_20[player_ratings_20.Wk_h < 4].index, inplace=True)\n",
    "features_21"
   ],
   "metadata": {
    "collapsed": false,
    "pycharm": {
     "name": "#%%\n"
    }
   }
  },
  {
   "cell_type": "code",
   "execution_count": 4,
   "outputs": [
    {
     "data": {
      "text/plain": "     Unnamed: 0_x Div      Date_x Time_x       HomeTeam_x      AwayTeam_x  \\\n0              30  E0  2019-08-31  12:30      Southampton  Manchester Utd   \n1              31  E0  2019-08-31  15:00          Chelsea   Sheffield Utd   \n2              32  E0  2019-08-31  15:00   Crystal Palace     Aston Villa   \n3              33  E0  2019-08-31  15:00   Leicester City     Bournemouth   \n4              34  E0  2019-08-31  15:00  Manchester City        Brighton   \n..            ...  ..         ...    ...              ...             ...   \n345           375  E0  2022-05-22  16:00   Crystal Palace  Manchester Utd   \n346           376  E0  2022-05-22  16:00   Leicester City     Southampton   \n347           377  E0  2022-05-22  16:00        Liverpool          Wolves   \n348           378  E0  2022-05-22  16:00  Manchester City     Aston Villa   \n349           379  E0  2022-05-22  16:00     Norwich City       Tottenham   \n\n     FTHG_x  FTAG_x FTR_x  HTHG  ...  rating_a_gk rating_a_df rating_a_mf  \\\n0         1       1     D     0  ...    20.641209  180.145904   56.972852   \n1         2       2     D     2  ...    23.885922  130.639893   61.162521   \n2         1       0     H     0  ...    29.488526   64.773615   82.120631   \n3         3       1     H     2  ...    31.163130   58.769298   82.006199   \n4         4       0     H     2  ...    32.895815   81.276387   25.286296   \n..      ...     ...   ...   ...  ...          ...         ...         ...   \n345       1       0     H     1  ...    11.750857   96.896682   69.117198   \n346       4       1     H     0  ...    30.426248   90.718082   38.302624   \n347       3       1     H     1  ...     0.634142  158.514461   67.462373   \n348       3       2     H     0  ...     0.000000  138.256940  193.946287   \n349       0       5     A     0  ...    34.588229  187.956044  131.234551   \n\n     rating_a_att  rating_a_bench  influence_a  creativity_a    threat_a  \\\n0       48.633782       16.068837   119.153153    168.309910  178.081081   \n1       34.465713        5.870770   171.733333    113.054955  109.324324   \n2       79.960598        0.916340   195.585586    103.043243   81.135135   \n3       40.354356       23.149859   195.951351     80.441441  122.513514   \n4       67.316595       17.219749   132.708108    133.936937  152.936937   \n..            ...             ...          ...           ...         ...   \n345     19.445436       47.452827   134.023334    103.132912   78.215625   \n346     27.739725       21.677295   184.049913     35.385130   50.186897   \n347     28.278849       69.217545   154.614288    170.164161  153.131430   \n348     15.334034       27.109975   202.612485    230.250828  198.143528   \n349     24.163421       49.896686   179.113967    190.662403  238.745705   \n\n          bps_a    selected_a  \n0     94.243243  7.569864e+06  \n1    142.297297  1.280639e+06  \n2    196.090090  1.682107e+06  \n3    126.126126  3.708388e+06  \n4    108.342342  2.252684e+06  \n..          ...           ...  \n345  112.788455  3.120155e+06  \n346  128.755329  9.541940e+05  \n347  132.815157  2.843078e+06  \n348  148.016855  5.887781e+06  \n349  214.693192  7.783386e+06  \n\n[1050 rows x 165 columns]",
      "text/html": "<div>\n<style scoped>\n    .dataframe tbody tr th:only-of-type {\n        vertical-align: middle;\n    }\n\n    .dataframe tbody tr th {\n        vertical-align: top;\n    }\n\n    .dataframe thead th {\n        text-align: right;\n    }\n</style>\n<table border=\"1\" class=\"dataframe\">\n  <thead>\n    <tr style=\"text-align: right;\">\n      <th></th>\n      <th>Unnamed: 0_x</th>\n      <th>Div</th>\n      <th>Date_x</th>\n      <th>Time_x</th>\n      <th>HomeTeam_x</th>\n      <th>AwayTeam_x</th>\n      <th>FTHG_x</th>\n      <th>FTAG_x</th>\n      <th>FTR_x</th>\n      <th>HTHG</th>\n      <th>...</th>\n      <th>rating_a_gk</th>\n      <th>rating_a_df</th>\n      <th>rating_a_mf</th>\n      <th>rating_a_att</th>\n      <th>rating_a_bench</th>\n      <th>influence_a</th>\n      <th>creativity_a</th>\n      <th>threat_a</th>\n      <th>bps_a</th>\n      <th>selected_a</th>\n    </tr>\n  </thead>\n  <tbody>\n    <tr>\n      <th>0</th>\n      <td>30</td>\n      <td>E0</td>\n      <td>2019-08-31</td>\n      <td>12:30</td>\n      <td>Southampton</td>\n      <td>Manchester Utd</td>\n      <td>1</td>\n      <td>1</td>\n      <td>D</td>\n      <td>0</td>\n      <td>...</td>\n      <td>20.641209</td>\n      <td>180.145904</td>\n      <td>56.972852</td>\n      <td>48.633782</td>\n      <td>16.068837</td>\n      <td>119.153153</td>\n      <td>168.309910</td>\n      <td>178.081081</td>\n      <td>94.243243</td>\n      <td>7.569864e+06</td>\n    </tr>\n    <tr>\n      <th>1</th>\n      <td>31</td>\n      <td>E0</td>\n      <td>2019-08-31</td>\n      <td>15:00</td>\n      <td>Chelsea</td>\n      <td>Sheffield Utd</td>\n      <td>2</td>\n      <td>2</td>\n      <td>D</td>\n      <td>2</td>\n      <td>...</td>\n      <td>23.885922</td>\n      <td>130.639893</td>\n      <td>61.162521</td>\n      <td>34.465713</td>\n      <td>5.870770</td>\n      <td>171.733333</td>\n      <td>113.054955</td>\n      <td>109.324324</td>\n      <td>142.297297</td>\n      <td>1.280639e+06</td>\n    </tr>\n    <tr>\n      <th>2</th>\n      <td>32</td>\n      <td>E0</td>\n      <td>2019-08-31</td>\n      <td>15:00</td>\n      <td>Crystal Palace</td>\n      <td>Aston Villa</td>\n      <td>1</td>\n      <td>0</td>\n      <td>H</td>\n      <td>0</td>\n      <td>...</td>\n      <td>29.488526</td>\n      <td>64.773615</td>\n      <td>82.120631</td>\n      <td>79.960598</td>\n      <td>0.916340</td>\n      <td>195.585586</td>\n      <td>103.043243</td>\n      <td>81.135135</td>\n      <td>196.090090</td>\n      <td>1.682107e+06</td>\n    </tr>\n    <tr>\n      <th>3</th>\n      <td>33</td>\n      <td>E0</td>\n      <td>2019-08-31</td>\n      <td>15:00</td>\n      <td>Leicester City</td>\n      <td>Bournemouth</td>\n      <td>3</td>\n      <td>1</td>\n      <td>H</td>\n      <td>2</td>\n      <td>...</td>\n      <td>31.163130</td>\n      <td>58.769298</td>\n      <td>82.006199</td>\n      <td>40.354356</td>\n      <td>23.149859</td>\n      <td>195.951351</td>\n      <td>80.441441</td>\n      <td>122.513514</td>\n      <td>126.126126</td>\n      <td>3.708388e+06</td>\n    </tr>\n    <tr>\n      <th>4</th>\n      <td>34</td>\n      <td>E0</td>\n      <td>2019-08-31</td>\n      <td>15:00</td>\n      <td>Manchester City</td>\n      <td>Brighton</td>\n      <td>4</td>\n      <td>0</td>\n      <td>H</td>\n      <td>2</td>\n      <td>...</td>\n      <td>32.895815</td>\n      <td>81.276387</td>\n      <td>25.286296</td>\n      <td>67.316595</td>\n      <td>17.219749</td>\n      <td>132.708108</td>\n      <td>133.936937</td>\n      <td>152.936937</td>\n      <td>108.342342</td>\n      <td>2.252684e+06</td>\n    </tr>\n    <tr>\n      <th>...</th>\n      <td>...</td>\n      <td>...</td>\n      <td>...</td>\n      <td>...</td>\n      <td>...</td>\n      <td>...</td>\n      <td>...</td>\n      <td>...</td>\n      <td>...</td>\n      <td>...</td>\n      <td>...</td>\n      <td>...</td>\n      <td>...</td>\n      <td>...</td>\n      <td>...</td>\n      <td>...</td>\n      <td>...</td>\n      <td>...</td>\n      <td>...</td>\n      <td>...</td>\n      <td>...</td>\n    </tr>\n    <tr>\n      <th>345</th>\n      <td>375</td>\n      <td>E0</td>\n      <td>2022-05-22</td>\n      <td>16:00</td>\n      <td>Crystal Palace</td>\n      <td>Manchester Utd</td>\n      <td>1</td>\n      <td>0</td>\n      <td>H</td>\n      <td>1</td>\n      <td>...</td>\n      <td>11.750857</td>\n      <td>96.896682</td>\n      <td>69.117198</td>\n      <td>19.445436</td>\n      <td>47.452827</td>\n      <td>134.023334</td>\n      <td>103.132912</td>\n      <td>78.215625</td>\n      <td>112.788455</td>\n      <td>3.120155e+06</td>\n    </tr>\n    <tr>\n      <th>346</th>\n      <td>376</td>\n      <td>E0</td>\n      <td>2022-05-22</td>\n      <td>16:00</td>\n      <td>Leicester City</td>\n      <td>Southampton</td>\n      <td>4</td>\n      <td>1</td>\n      <td>H</td>\n      <td>0</td>\n      <td>...</td>\n      <td>30.426248</td>\n      <td>90.718082</td>\n      <td>38.302624</td>\n      <td>27.739725</td>\n      <td>21.677295</td>\n      <td>184.049913</td>\n      <td>35.385130</td>\n      <td>50.186897</td>\n      <td>128.755329</td>\n      <td>9.541940e+05</td>\n    </tr>\n    <tr>\n      <th>347</th>\n      <td>377</td>\n      <td>E0</td>\n      <td>2022-05-22</td>\n      <td>16:00</td>\n      <td>Liverpool</td>\n      <td>Wolves</td>\n      <td>3</td>\n      <td>1</td>\n      <td>H</td>\n      <td>1</td>\n      <td>...</td>\n      <td>0.634142</td>\n      <td>158.514461</td>\n      <td>67.462373</td>\n      <td>28.278849</td>\n      <td>69.217545</td>\n      <td>154.614288</td>\n      <td>170.164161</td>\n      <td>153.131430</td>\n      <td>132.815157</td>\n      <td>2.843078e+06</td>\n    </tr>\n    <tr>\n      <th>348</th>\n      <td>378</td>\n      <td>E0</td>\n      <td>2022-05-22</td>\n      <td>16:00</td>\n      <td>Manchester City</td>\n      <td>Aston Villa</td>\n      <td>3</td>\n      <td>2</td>\n      <td>H</td>\n      <td>0</td>\n      <td>...</td>\n      <td>0.000000</td>\n      <td>138.256940</td>\n      <td>193.946287</td>\n      <td>15.334034</td>\n      <td>27.109975</td>\n      <td>202.612485</td>\n      <td>230.250828</td>\n      <td>198.143528</td>\n      <td>148.016855</td>\n      <td>5.887781e+06</td>\n    </tr>\n    <tr>\n      <th>349</th>\n      <td>379</td>\n      <td>E0</td>\n      <td>2022-05-22</td>\n      <td>16:00</td>\n      <td>Norwich City</td>\n      <td>Tottenham</td>\n      <td>0</td>\n      <td>5</td>\n      <td>A</td>\n      <td>0</td>\n      <td>...</td>\n      <td>34.588229</td>\n      <td>187.956044</td>\n      <td>131.234551</td>\n      <td>24.163421</td>\n      <td>49.896686</td>\n      <td>179.113967</td>\n      <td>190.662403</td>\n      <td>238.745705</td>\n      <td>214.693192</td>\n      <td>7.783386e+06</td>\n    </tr>\n  </tbody>\n</table>\n<p>1050 rows × 165 columns</p>\n</div>"
     },
     "execution_count": 4,
     "metadata": {},
     "output_type": "execute_result"
    }
   ],
   "source": [
    "#merge dataframes of 3 seasons\n",
    "PL_2019_total =  pd.merge(features_19, player_ratings_19, on= 'game_home_ID', how='left')\n",
    "PL_2020_total =  pd.merge(features_20, player_ratings_20, on= 'game_home_ID', how='left')\n",
    "PL_2021_total =  pd.merge(features_21, player_ratings_21, on= 'game_home_ID', how='left')\n",
    "frames = [PL_2019_total, PL_2020_total, PL_2021_total]\n",
    "PL_19_20_21_all_features = pd.concat(frames)"
   ],
   "metadata": {
    "collapsed": false,
    "pycharm": {
     "name": "#%%\n"
    }
   }
  },
  {
   "cell_type": "code",
   "execution_count": 5,
   "outputs": [
    {
     "data": {
      "text/plain": "     Unnamed: 0_x Div      Date_x Time_x       HomeTeam_x      AwayTeam_x  \\\n0              30  E0  2019-08-31  12:30      Southampton  Manchester Utd   \n1              31  E0  2019-08-31  15:00          Chelsea   Sheffield Utd   \n2              32  E0  2019-08-31  15:00   Crystal Palace     Aston Villa   \n3              33  E0  2019-08-31  15:00   Leicester City     Bournemouth   \n4              34  E0  2019-08-31  15:00  Manchester City        Brighton   \n..            ...  ..         ...    ...              ...             ...   \n345           375  E0  2022-05-22  16:00   Crystal Palace  Manchester Utd   \n346           376  E0  2022-05-22  16:00   Leicester City     Southampton   \n347           377  E0  2022-05-22  16:00        Liverpool          Wolves   \n348           378  E0  2022-05-22  16:00  Manchester City     Aston Villa   \n349           379  E0  2022-05-22  16:00     Norwich City       Tottenham   \n\n     FTHG_x  FTAG_x FTR_x  HTHG  ...  att_difference bench_difference  \\\n0         1       1     D     0  ...       -8.696108       -13.029503   \n1         2       2     D     2  ...       97.174211         2.612414   \n2         1       0     H     0  ...      -22.700878        11.903258   \n3         3       1     H     2  ...       -8.118451        15.382999   \n4         4       0     H     2  ...       20.274545        16.194642   \n..      ...     ...   ...   ...  ...             ...              ...   \n345       1       0     H     1  ...       -2.441324        83.527907   \n346       4       1     H     0  ...       29.145907        22.307791   \n347       3       1     H     1  ...       -1.378848       189.332683   \n348       3       2     H     0  ...       25.620656        77.550764   \n349       0       5     A     0  ...       30.765114        13.385995   \n\n    influence_difference  creativity_difference  threat_difference  \\\n0              29.643243             -56.994595         -91.072072   \n1             128.670270             128.120721         139.981982   \n2               8.221622             -70.580180          21.954955   \n3               6.879279              12.309009         -11.549550   \n4             169.688288              98.920721         114.045045   \n..                   ...                    ...                ...   \n345           -55.839647             -71.843929         -27.652552   \n346            24.274186               8.288232         -30.099457   \n347           -37.028619            -137.912185         -66.928122   \n348           -56.131097             -25.603259          48.868307   \n349           -24.936126             -83.747128        -152.865619   \n\n     bps_difference  selected_difference   overall_h   overall_a  \\\n0         72.252252        -7.090981e+06  237.478074  322.462585   \n1        105.180180         1.377962e+06  419.652975  256.024819   \n2        -72.369369         2.088097e+06  211.433752  257.259711   \n3         15.963964        -1.301976e+06  303.887309  235.442842   \n4        114.009009         7.638306e+06  475.117929  223.994842   \n..              ...                  ...         ...         ...   \n345      -44.959147         6.086770e+05  267.620547  244.663001   \n346       10.599418         4.572563e+06  279.762870  208.863974   \n347      -36.540463         6.056832e+06  443.826626  324.107370   \n348      -16.173457         4.954865e+06  483.907694  374.647236   \n349     -103.433483        -6.675290e+06  284.572945  427.838931   \n\n     overall_difference  \n0            -84.984511  \n1            163.628156  \n2            -45.825959  \n3             68.444467  \n4            251.123087  \n..                  ...  \n345           22.957546  \n346           70.898896  \n347          119.719256  \n348          109.260458  \n349         -143.265987  \n\n[1050 rows x 178 columns]",
      "text/html": "<div>\n<style scoped>\n    .dataframe tbody tr th:only-of-type {\n        vertical-align: middle;\n    }\n\n    .dataframe tbody tr th {\n        vertical-align: top;\n    }\n\n    .dataframe thead th {\n        text-align: right;\n    }\n</style>\n<table border=\"1\" class=\"dataframe\">\n  <thead>\n    <tr style=\"text-align: right;\">\n      <th></th>\n      <th>Unnamed: 0_x</th>\n      <th>Div</th>\n      <th>Date_x</th>\n      <th>Time_x</th>\n      <th>HomeTeam_x</th>\n      <th>AwayTeam_x</th>\n      <th>FTHG_x</th>\n      <th>FTAG_x</th>\n      <th>FTR_x</th>\n      <th>HTHG</th>\n      <th>...</th>\n      <th>att_difference</th>\n      <th>bench_difference</th>\n      <th>influence_difference</th>\n      <th>creativity_difference</th>\n      <th>threat_difference</th>\n      <th>bps_difference</th>\n      <th>selected_difference</th>\n      <th>overall_h</th>\n      <th>overall_a</th>\n      <th>overall_difference</th>\n    </tr>\n  </thead>\n  <tbody>\n    <tr>\n      <th>0</th>\n      <td>30</td>\n      <td>E0</td>\n      <td>2019-08-31</td>\n      <td>12:30</td>\n      <td>Southampton</td>\n      <td>Manchester Utd</td>\n      <td>1</td>\n      <td>1</td>\n      <td>D</td>\n      <td>0</td>\n      <td>...</td>\n      <td>-8.696108</td>\n      <td>-13.029503</td>\n      <td>29.643243</td>\n      <td>-56.994595</td>\n      <td>-91.072072</td>\n      <td>72.252252</td>\n      <td>-7.090981e+06</td>\n      <td>237.478074</td>\n      <td>322.462585</td>\n      <td>-84.984511</td>\n    </tr>\n    <tr>\n      <th>1</th>\n      <td>31</td>\n      <td>E0</td>\n      <td>2019-08-31</td>\n      <td>15:00</td>\n      <td>Chelsea</td>\n      <td>Sheffield Utd</td>\n      <td>2</td>\n      <td>2</td>\n      <td>D</td>\n      <td>2</td>\n      <td>...</td>\n      <td>97.174211</td>\n      <td>2.612414</td>\n      <td>128.670270</td>\n      <td>128.120721</td>\n      <td>139.981982</td>\n      <td>105.180180</td>\n      <td>1.377962e+06</td>\n      <td>419.652975</td>\n      <td>256.024819</td>\n      <td>163.628156</td>\n    </tr>\n    <tr>\n      <th>2</th>\n      <td>32</td>\n      <td>E0</td>\n      <td>2019-08-31</td>\n      <td>15:00</td>\n      <td>Crystal Palace</td>\n      <td>Aston Villa</td>\n      <td>1</td>\n      <td>0</td>\n      <td>H</td>\n      <td>0</td>\n      <td>...</td>\n      <td>-22.700878</td>\n      <td>11.903258</td>\n      <td>8.221622</td>\n      <td>-70.580180</td>\n      <td>21.954955</td>\n      <td>-72.369369</td>\n      <td>2.088097e+06</td>\n      <td>211.433752</td>\n      <td>257.259711</td>\n      <td>-45.825959</td>\n    </tr>\n    <tr>\n      <th>3</th>\n      <td>33</td>\n      <td>E0</td>\n      <td>2019-08-31</td>\n      <td>15:00</td>\n      <td>Leicester City</td>\n      <td>Bournemouth</td>\n      <td>3</td>\n      <td>1</td>\n      <td>H</td>\n      <td>2</td>\n      <td>...</td>\n      <td>-8.118451</td>\n      <td>15.382999</td>\n      <td>6.879279</td>\n      <td>12.309009</td>\n      <td>-11.549550</td>\n      <td>15.963964</td>\n      <td>-1.301976e+06</td>\n      <td>303.887309</td>\n      <td>235.442842</td>\n      <td>68.444467</td>\n    </tr>\n    <tr>\n      <th>4</th>\n      <td>34</td>\n      <td>E0</td>\n      <td>2019-08-31</td>\n      <td>15:00</td>\n      <td>Manchester City</td>\n      <td>Brighton</td>\n      <td>4</td>\n      <td>0</td>\n      <td>H</td>\n      <td>2</td>\n      <td>...</td>\n      <td>20.274545</td>\n      <td>16.194642</td>\n      <td>169.688288</td>\n      <td>98.920721</td>\n      <td>114.045045</td>\n      <td>114.009009</td>\n      <td>7.638306e+06</td>\n      <td>475.117929</td>\n      <td>223.994842</td>\n      <td>251.123087</td>\n    </tr>\n    <tr>\n      <th>...</th>\n      <td>...</td>\n      <td>...</td>\n      <td>...</td>\n      <td>...</td>\n      <td>...</td>\n      <td>...</td>\n      <td>...</td>\n      <td>...</td>\n      <td>...</td>\n      <td>...</td>\n      <td>...</td>\n      <td>...</td>\n      <td>...</td>\n      <td>...</td>\n      <td>...</td>\n      <td>...</td>\n      <td>...</td>\n      <td>...</td>\n      <td>...</td>\n      <td>...</td>\n      <td>...</td>\n    </tr>\n    <tr>\n      <th>345</th>\n      <td>375</td>\n      <td>E0</td>\n      <td>2022-05-22</td>\n      <td>16:00</td>\n      <td>Crystal Palace</td>\n      <td>Manchester Utd</td>\n      <td>1</td>\n      <td>0</td>\n      <td>H</td>\n      <td>1</td>\n      <td>...</td>\n      <td>-2.441324</td>\n      <td>83.527907</td>\n      <td>-55.839647</td>\n      <td>-71.843929</td>\n      <td>-27.652552</td>\n      <td>-44.959147</td>\n      <td>6.086770e+05</td>\n      <td>267.620547</td>\n      <td>244.663001</td>\n      <td>22.957546</td>\n    </tr>\n    <tr>\n      <th>346</th>\n      <td>376</td>\n      <td>E0</td>\n      <td>2022-05-22</td>\n      <td>16:00</td>\n      <td>Leicester City</td>\n      <td>Southampton</td>\n      <td>4</td>\n      <td>1</td>\n      <td>H</td>\n      <td>0</td>\n      <td>...</td>\n      <td>29.145907</td>\n      <td>22.307791</td>\n      <td>24.274186</td>\n      <td>8.288232</td>\n      <td>-30.099457</td>\n      <td>10.599418</td>\n      <td>4.572563e+06</td>\n      <td>279.762870</td>\n      <td>208.863974</td>\n      <td>70.898896</td>\n    </tr>\n    <tr>\n      <th>347</th>\n      <td>377</td>\n      <td>E0</td>\n      <td>2022-05-22</td>\n      <td>16:00</td>\n      <td>Liverpool</td>\n      <td>Wolves</td>\n      <td>3</td>\n      <td>1</td>\n      <td>H</td>\n      <td>1</td>\n      <td>...</td>\n      <td>-1.378848</td>\n      <td>189.332683</td>\n      <td>-37.028619</td>\n      <td>-137.912185</td>\n      <td>-66.928122</td>\n      <td>-36.540463</td>\n      <td>6.056832e+06</td>\n      <td>443.826626</td>\n      <td>324.107370</td>\n      <td>119.719256</td>\n    </tr>\n    <tr>\n      <th>348</th>\n      <td>378</td>\n      <td>E0</td>\n      <td>2022-05-22</td>\n      <td>16:00</td>\n      <td>Manchester City</td>\n      <td>Aston Villa</td>\n      <td>3</td>\n      <td>2</td>\n      <td>H</td>\n      <td>0</td>\n      <td>...</td>\n      <td>25.620656</td>\n      <td>77.550764</td>\n      <td>-56.131097</td>\n      <td>-25.603259</td>\n      <td>48.868307</td>\n      <td>-16.173457</td>\n      <td>4.954865e+06</td>\n      <td>483.907694</td>\n      <td>374.647236</td>\n      <td>109.260458</td>\n    </tr>\n    <tr>\n      <th>349</th>\n      <td>379</td>\n      <td>E0</td>\n      <td>2022-05-22</td>\n      <td>16:00</td>\n      <td>Norwich City</td>\n      <td>Tottenham</td>\n      <td>0</td>\n      <td>5</td>\n      <td>A</td>\n      <td>0</td>\n      <td>...</td>\n      <td>30.765114</td>\n      <td>13.385995</td>\n      <td>-24.936126</td>\n      <td>-83.747128</td>\n      <td>-152.865619</td>\n      <td>-103.433483</td>\n      <td>-6.675290e+06</td>\n      <td>284.572945</td>\n      <td>427.838931</td>\n      <td>-143.265987</td>\n    </tr>\n  </tbody>\n</table>\n<p>1050 rows × 178 columns</p>\n</div>"
     },
     "execution_count": 5,
     "metadata": {},
     "output_type": "execute_result"
    }
   ],
   "source": [
    "#calculate differences for player ratings\n",
    "PL_19_20_21_all_features['gk_difference'] = PL_19_20_21_all_features['rating_h_gk'] - PL_19_20_21_all_features['rating_a_gk']\n",
    "PL_19_20_21_all_features['df_difference'] = PL_19_20_21_all_features['rating_h_df'] - PL_19_20_21_all_features['rating_a_df']\n",
    "PL_19_20_21_all_features['mf_difference'] = PL_19_20_21_all_features['rating_h_mf'] - PL_19_20_21_all_features['rating_a_mf']\n",
    "PL_19_20_21_all_features['att_difference'] = PL_19_20_21_all_features['rating_h_att'] - PL_19_20_21_all_features['rating_a_att']\n",
    "PL_19_20_21_all_features['bench_difference'] = PL_19_20_21_all_features['rating_h_bench'] - PL_19_20_21_all_features['rating_a_bench']\n",
    "PL_19_20_21_all_features['influence_difference'] = PL_19_20_21_all_features['influence_h'] - PL_19_20_21_all_features['influence_a']\n",
    "PL_19_20_21_all_features['creativity_difference'] = PL_19_20_21_all_features['creativity_h'] - PL_19_20_21_all_features['creativity_a']\n",
    "PL_19_20_21_all_features['threat_difference'] = PL_19_20_21_all_features['threat_h'] - PL_19_20_21_all_features['threat_a']\n",
    "PL_19_20_21_all_features['bps_difference'] = PL_19_20_21_all_features['bps_h'] - PL_19_20_21_all_features['bps_a']\n",
    "PL_19_20_21_all_features['selected_difference'] = PL_19_20_21_all_features['selected_h'] - PL_19_20_21_all_features['selected_a']\n",
    "PL_19_20_21_all_features['overall_h'] = PL_19_20_21_all_features['rating_h_gk'] + PL_19_20_21_all_features['rating_h_df'] + PL_19_20_21_all_features['rating_h_mf'] + PL_19_20_21_all_features['rating_h_att'] + PL_19_20_21_all_features['rating_h_bench']\n",
    "PL_19_20_21_all_features['overall_a'] = PL_19_20_21_all_features['rating_a_gk'] + PL_19_20_21_all_features['rating_a_df'] + PL_19_20_21_all_features['rating_a_mf'] + PL_19_20_21_all_features['rating_a_att'] + PL_19_20_21_all_features['rating_a_bench']\n",
    "PL_19_20_21_all_features['overall_difference'] = PL_19_20_21_all_features['overall_h'] - PL_19_20_21_all_features['overall_a']\n",
    "PL_19_20_21_all_features"
   ],
   "metadata": {
    "collapsed": false,
    "pycharm": {
     "name": "#%%\n"
    }
   }
  },
  {
   "cell_type": "code",
   "execution_count": 88,
   "outputs": [],
   "source": [
    "#prepare Data for ML Algos, including all features from benchmark + rating differences\n",
    "#add column for H A X\n",
    "conditions = [\n",
    "    (PL_19_20_21_all_features['FTR_x'] == 'H'),\n",
    "    (PL_19_20_21_all_features['FTR_x'] == 'A'),\n",
    "    (PL_19_20_21_all_features['FTR_x'] == 'D')]\n",
    "choices = [0, 1, 2]\n",
    "PL_19_20_21_all_features['identifier'] = np.select(conditions, choices)\n",
    "y = PL_19_20_21_all_features['identifier'].to_numpy()\n",
    "#all features used for benchmark\n",
    "feature_names_benchmark = ['Rating difference', 'Rating_Home', 'Rating_Away', 'ewmH', 'ewmA', 'ewmDifference', 'Elo_h_before','Elo_a_before', 'elo_difference', 'goalsH', 'goalsA', 'goalsDifference', 'shotsH', 'shotsA','shotsDifference', 'cornersH', 'cornersA', 'cornersDifference', 'formH', 'formA', 'form_difference']\n",
    "#features including player stats\n",
    "feature_names_player_stats = ['rating_h_gk', 'Rating difference', 'Rating_Home', 'Rating_Away', 'ewmH', 'ewmA', 'ewmDifference', 'Elo_h_before','Elo_a_before', 'elo_difference', 'goalsH', 'goalsA', 'goalsDifference', 'shotsH', 'shotsA','shotsDifference', 'cornersH', 'cornersA', 'cornersDifference', 'formH', 'formA', 'form_difference', 'rating_a_gk', 'rating_h_df', 'rating_a_df', 'rating_h_mf', 'rating_a_mf', 'rating_h_att', 'rating_a_att', 'rating_h_bench', 'rating_a_bench', 'influence_h', 'influence_a', 'creativity_h', 'creativity_a', 'threat_h', 'threat_a', 'bps_h', 'bps_a', 'selected_h', 'selected_a', 'gk_difference', 'df_difference', 'mf_difference', 'att_difference', 'bench_difference','overall_difference' ,'influence_difference', 'creativity_difference', 'threat_difference', 'bps_difference', 'selected_difference', 'overall_h', 'overall_a']"
   ],
   "metadata": {
    "collapsed": false,
    "pycharm": {
     "name": "#%%\n"
    }
   }
  },
  {
   "cell_type": "code",
   "execution_count": 89,
   "outputs": [],
   "source": [
    "#split Data in training and test set and train model\n",
    "#training set = season 19/20 and 20/21\n",
    "#test set = season 21/22\n",
    "\n",
    "#all features from benchmark\n",
    "X_benchmark = PL_19_20_21_all_features[feature_names_benchmark].to_numpy()\n",
    "#all features including player stats\n",
    "X_player_stats = PL_19_20_21_all_features[feature_names_player_stats].to_numpy()\n",
    "X_train_player_stats = X_player_stats[:750]\n",
    "X_test_player_stats = X_player_stats[-350:]\n",
    "X_train_benchmark = X_benchmark[:750]\n",
    "X_test_benchmark = X_benchmark[-350:]\n",
    "y_train_player_stats = y[:750]\n",
    "y_test_player_stats = y[-350:]"
   ],
   "metadata": {
    "collapsed": false,
    "pycharm": {
     "name": "#%%\n"
    }
   }
  },
  {
   "cell_type": "code",
   "execution_count": 90,
   "outputs": [],
   "source": [
    "# rf_model_benchmark = RandomForestClassifier()\n",
    "# rf_model_player_stats= RandomForestClassifier()\n",
    "# X_train_benchmark, X_test_benchmark, y_train_benchmark, y_test_benchmark = train_test_split(X_benchmark, y, test_size=0.2, random_state=42)\n",
    "# X_train_player_stats, X_test_player_stats, y_train_player_stats, y_test_player_stats = train_test_split(X_player_stats, y, test_size=0.2, random_state=42)\n",
    "# rf_model.fit(X_train_benchmark, y_train_benchmark)\n",
    "# rf_model.fit(X_train_player_stats, y_train_player_stats)\n",
    "#start_time = time.time()\n",
    "# importances = rf_model.feature_importances_\n",
    "# std = np.std([tree.feature_importances_ for tree in rf_model.estimators_], axis=0)\n",
    "# #elapsed_time = time.time() - start_time\n",
    "#\n",
    "#\n",
    "# #feature_names = [f\"feature {i}\" for i in range(X.shape[1])]\n",
    "#\n",
    "#\n",
    "# forest_importances = pd.Series(importances, index=feature_names_benchmark)\n",
    "# forest_importances = forest_importances.sort_values()\n",
    "# fig, ax = plt.subplots()\n",
    "# fig.tight_layout(pad=-15, w_pad=0.5, h_pad=-2)\n",
    "#\n",
    "# forest_importances.plot.barh(ax=ax, yerr=std)\n",
    "# ax.set_title(\"Feature importances using MDI\")\n",
    "# ax.set_xlabel(\"Mean decrease in impurity\")\n"
   ],
   "metadata": {
    "collapsed": false,
    "pycharm": {
     "name": "#%%\n"
    }
   }
  },
  {
   "cell_type": "code",
   "execution_count": 91,
   "outputs": [
    {
     "name": "stdout",
     "output_type": "stream",
     "text": [
      "{'n_estimators': [200, 400, 600, 800, 1000, 1200, 1400, 1600, 1800, 2000], 'max_features': ['auto', 'sqrt'], 'max_depth': [10, 20, 30, 40, 50, 60, 70, 80, 90, 100, 110, None], 'min_samples_split': [2, 5, 10], 'min_samples_leaf': [1, 2, 4], 'bootstrap': [True, False]}\n"
     ]
    }
   ],
   "source": [
    "#Hyperparameter Tuning\n",
    "from sklearn.model_selection import RandomizedSearchCV\n",
    "# Number of trees in random forest\n",
    "n_estimators = [int(x) for x in np.linspace(start = 200, stop = 2000, num = 10)]\n",
    "# Number of features to consider at every split\n",
    "max_features = ['auto', 'sqrt']\n",
    "# Maximum number of levels in tree\n",
    "max_depth = [int(x) for x in np.linspace(10, 110, num = 11)]\n",
    "max_depth.append(None)\n",
    "# Minimum number of samples required to split a node\n",
    "min_samples_split = [2, 5, 10]\n",
    "# Minimum number of samples required at each leaf node\n",
    "min_samples_leaf = [1, 2, 4]\n",
    "# Method of selecting samples for training each tree\n",
    "bootstrap = [True, False]\n",
    "# Create the random grid\n",
    "random_grid = {'n_estimators': n_estimators,\n",
    "               'max_features': max_features,\n",
    "               'max_depth': max_depth,\n",
    "               'min_samples_split': min_samples_split,\n",
    "               'min_samples_leaf': min_samples_leaf,\n",
    "               'bootstrap': bootstrap}\n",
    "print(random_grid)"
   ],
   "metadata": {
    "collapsed": false,
    "pycharm": {
     "name": "#%%\n"
    }
   }
  },
  {
   "cell_type": "code",
   "execution_count": 102,
   "outputs": [
    {
     "data": {
      "text/plain": "{'bootstrap': True,\n 'ccp_alpha': 0.0,\n 'class_weight': None,\n 'criterion': 'gini',\n 'max_depth': None,\n 'max_features': 'auto',\n 'max_leaf_nodes': None,\n 'max_samples': None,\n 'min_impurity_decrease': 0.0,\n 'min_samples_leaf': 1,\n 'min_samples_split': 2,\n 'min_weight_fraction_leaf': 0.0,\n 'n_estimators': 100,\n 'n_jobs': None,\n 'oob_score': False,\n 'random_state': 6,\n 'verbose': 0,\n 'warm_start': False}"
     },
     "execution_count": 102,
     "metadata": {},
     "output_type": "execute_result"
    }
   ],
   "source": [
    "#set up Random forest classifier\n",
    "rand_clf = RandomForestClassifier(random_state=6)\n",
    "rand_clf.get_params()"
   ],
   "metadata": {
    "collapsed": false,
    "pycharm": {
     "name": "#%%\n"
    }
   }
  },
  {
   "cell_type": "code",
   "execution_count": 93,
   "outputs": [
    {
     "data": {
      "text/plain": "RandomForestClassifier(random_state=6)"
     },
     "execution_count": 93,
     "metadata": {},
     "output_type": "execute_result"
    }
   ],
   "source": [
    "#train model with training data\n",
    "rand_clf.fit(X_train_player_stats, y_train_player_stats)\n"
   ],
   "metadata": {
    "collapsed": false,
    "pycharm": {
     "name": "#%%\n"
    }
   }
  },
  {
   "cell_type": "code",
   "execution_count": 56,
   "outputs": [],
   "source": [
    "#perform random search for hyperparameter tuning\n",
    "rand_search = RandomizedSearchCV(estimator = rand_clf, param_distributions = random_grid, n_iter = 150, cv = 4, verbose=3, random_state=42, n_jobs = -1)\n",
    "rand_search.fit(X_train_player_stats, y_train_player_stats)"
   ],
   "metadata": {
    "collapsed": false,
    "pycharm": {
     "name": "#%%\n"
    }
   }
  },
  {
   "cell_type": "code",
   "execution_count": 58,
   "outputs": [
    {
     "data": {
      "text/plain": "{'n_estimators': 1000,\n 'min_samples_split': 10,\n 'min_samples_leaf': 4,\n 'max_features': 'auto',\n 'max_depth': 80,\n 'bootstrap': True}"
     },
     "execution_count": 58,
     "metadata": {},
     "output_type": "execute_result"
    }
   ],
   "source": [
    "#display best parameters\n",
    "rand_search.best_params_"
   ],
   "metadata": {
    "collapsed": false,
    "pycharm": {
     "name": "#%%\n"
    }
   }
  },
  {
   "cell_type": "code",
   "execution_count": 94,
   "outputs": [],
   "source": [
    "#set up model with best parameters from random search\n",
    "rand_clf_res = RandomForestClassifier(\n",
    " n_estimators = 1000,\n",
    " min_samples_split = 10,\n",
    " min_samples_leaf = 4,\n",
    " max_features = 'auto',\n",
    " max_depth = 80)"
   ],
   "metadata": {
    "collapsed": false,
    "pycharm": {
     "name": "#%%\n"
    }
   }
  },
  {
   "cell_type": "code",
   "execution_count": 77,
   "outputs": [],
   "source": [
    "#create grid close to values from random search\n",
    "grid_param = {\n",
    " 'n_estimators': [800, 1000, 1200, 2000],\n",
    " 'min_samples_split': [5,10,15],\n",
    " 'min_samples_leaf':  [2,4,6],\n",
    " 'max_features': ['auto', 'sqrt'],\n",
    " 'max_depth': [60, 80, 100]\n",
    "}"
   ],
   "metadata": {
    "collapsed": false,
    "pycharm": {
     "name": "#%%\n"
    }
   }
  },
  {
   "cell_type": "code",
   "execution_count": 78,
   "outputs": [],
   "source": [
    "#perform grid search\n",
    "grid_search = GridSearchCV(estimator=rand_clf, param_grid=grid_param, cv=5, n_jobs=-1, verbose=3)\n",
    "grid_search.fit(X_train_player_stats, y_train_player_stats)"
   ],
   "metadata": {
    "collapsed": false,
    "pycharm": {
     "name": "#%%\n"
    }
   }
  },
  {
   "cell_type": "code",
   "execution_count": 80,
   "outputs": [
    {
     "data": {
      "text/plain": "{'max_depth': 60,\n 'max_features': 'auto',\n 'min_samples_leaf': 6,\n 'min_samples_split': 15,\n 'n_estimators': 2000}"
     },
     "execution_count": 80,
     "metadata": {},
     "output_type": "execute_result"
    }
   ],
   "source": [
    "#display best parameters\n",
    "grid_search.best_params_"
   ],
   "metadata": {
    "collapsed": false,
    "pycharm": {
     "name": "#%%\n"
    }
   }
  },
  {
   "cell_type": "code",
   "execution_count": 95,
   "outputs": [],
   "source": [
    "#build model with best parameters from grid search\n",
    "grid_clf = RandomForestClassifier(\n",
    " n_estimators = 800,\n",
    " min_samples_split = 3,\n",
    " min_samples_leaf = 2,\n",
    " max_features = 'auto',\n",
    " max_depth = 80)"
   ],
   "metadata": {
    "collapsed": false,
    "pycharm": {
     "name": "#%%\n"
    }
   }
  },
  {
   "cell_type": "code",
   "execution_count": 97,
   "outputs": [
    {
     "name": "stdout",
     "output_type": "stream",
     "text": [
      "rand_clf_mean: 0.5942857142857143\n",
      "rand_clf_max: 0.5942857142857143\n",
      "rand_clf_res_mean: 0.5951428571428572\n",
      "rand_clf_res_max: 0.6028571428571429\n",
      "grid_clf_mean: 0.5977142857142858\n",
      "grid_clf_max: 0.6114285714285714\n"
     ]
    }
   ],
   "source": [
    "def find_best_model(clf):\n",
    "    avg_score = []\n",
    "    highscore = 0\n",
    "    out = 0\n",
    "    for i in range (0,10):\n",
    "        #model = clf.fit(X_train_benchmark, y_train_player_stats)\n",
    "        #score = model.score(X_test_benchmark, y_test_player_stats)\n",
    "        model = clf.fit(X_train_player_stats, y_train_player_stats)\n",
    "        score = model.score(X_test_player_stats, y_test_player_stats)\n",
    "        avg_score.append(score)\n",
    "        #print('Score', score)\n",
    "        #if score >= 0.65:\n",
    "         #   return model\n",
    "    return avg_score\n",
    "\n",
    "\n",
    "test = find_best_model(rand_clf)\n",
    "test2 = find_best_model(rand_clf_res)\n",
    "test3 = find_best_model(grid_clf)\n",
    "print('rand_clf_mean:', np.mean(test))\n",
    "print('rand_clf_max:', np.max(test))\n",
    "print('rand_clf_res_mean:', np.mean(test2))\n",
    "print('rand_clf_res_max:', np.max(test2))\n",
    "print('grid_clf_mean:', np.mean(test3))\n",
    "print('grid_clf_max:', np.max(test3))"
   ],
   "metadata": {
    "collapsed": false,
    "pycharm": {
     "name": "#%%\n"
    }
   }
  },
  {
   "cell_type": "code",
   "execution_count": 121,
   "outputs": [
    {
     "name": "stdout",
     "output_type": "stream",
     "text": [
      "Score 0.5971428571428572\n",
      "Score 0.6\n",
      "Score 0.6028571428571429\n",
      "Score 0.6\n",
      "Score 0.6085714285714285\n",
      "Score 0.5914285714285714\n",
      "Score 0.6085714285714285\n",
      "Score 0.5971428571428572\n",
      "Score 0.6028571428571429\n",
      "Score 0.5914285714285714\n",
      "Score 0.6\n",
      "Score 0.6057142857142858\n",
      "Score 0.5857142857142857\n",
      "Score 0.5971428571428572\n",
      "Score 0.5885714285714285\n",
      "Score 0.6\n",
      "Score 0.6057142857142858\n",
      "Score 0.5942857142857143\n",
      "Score 0.5971428571428572\n",
      "Score 0.5942857142857143\n",
      "Score 0.5914285714285714\n",
      "Score 0.6\n",
      "Score 0.5914285714285714\n",
      "Score 0.5971428571428572\n",
      "Score 0.5942857142857143\n",
      "Score 0.6\n",
      "Score 0.6028571428571429\n",
      "Score 0.6028571428571429\n",
      "Score 0.6\n",
      "Score 0.5971428571428572\n",
      "Score 0.5914285714285714\n",
      "Score 0.6028571428571429\n",
      "Score 0.5971428571428572\n",
      "Score 0.6\n",
      "Score 0.5914285714285714\n",
      "Score 0.5971428571428572\n",
      "Score 0.6028571428571429\n",
      "Score 0.6028571428571429\n",
      "Score 0.6028571428571429\n",
      "Score 0.5914285714285714\n",
      "Score 0.6\n",
      "Score 0.5942857142857143\n",
      "Score 0.6\n",
      "Score 0.6057142857142858\n",
      "Score 0.5914285714285714\n",
      "Score 0.6057142857142858\n",
      "Score 0.6085714285714285\n",
      "Score 0.5857142857142857\n",
      "Score 0.6\n",
      "Score 0.6\n",
      "Score 0.5942857142857143\n",
      "Score 0.5971428571428572\n",
      "Score 0.6\n",
      "Score 0.6028571428571429\n",
      "Score 0.6\n",
      "Score 0.5914285714285714\n",
      "Score 0.6\n",
      "Score 0.5942857142857143\n",
      "Score 0.5885714285714285\n",
      "Score 0.6057142857142858\n",
      "Score 0.6114285714285714\n"
     ]
    }
   ],
   "source": [
    "def find_best_model(clf):\n",
    "    avg_score = []\n",
    "    highscore = 0\n",
    "    out = 0\n",
    "    for i in range (0,200):\n",
    "        #model = clf.fit(X_train_benchmark, y_train_player_stats)\n",
    "        #score = model.score(X_test_benchmark, y_test_player_stats)\n",
    "        model = clf.fit(X_train_player_stats, y_train_player_stats)\n",
    "        score = model.score(X_test_player_stats, y_test_player_stats)\n",
    "        #avg_score.append(score)\n",
    "        print('Score', score)\n",
    "        if score > 0.61:\n",
    "            return model\n",
    "    return model\n",
    "#rand_clf = find_best_model(rand_clf)\n",
    "#rand_clf_res = find_best_model(rand_clf_res)\n",
    "#grid_clf = find_best_model(grid_clf)"
   ],
   "metadata": {
    "collapsed": false,
    "pycharm": {
     "name": "#%%\n"
    }
   }
  },
  {
   "cell_type": "code",
   "execution_count": 122,
   "outputs": [
    {
     "name": "stdout",
     "output_type": "stream",
     "text": [
      "Rand_clf 0.5942857142857143\n",
      "Rand_clf_res 0.5971428571428572\n",
      "Grid_clf_res 0.6114285714285714\n"
     ]
    }
   ],
   "source": [
    "print('Rand_clf', rand_clf.score(X_test_player_stats, y_test_player_stats))\n",
    "print('Rand_clf_res',rand_clf_res.score(X_test_player_stats, y_test_player_stats))\n",
    "print('Grid_clf_res',grid_clf.score(X_test_player_stats, y_test_player_stats))\n"
   ],
   "metadata": {
    "collapsed": false,
    "pycharm": {
     "name": "#%%\n"
    }
   }
  },
  {
   "cell_type": "code",
   "execution_count": 123,
   "outputs": [],
   "source": [
    "rf_model_player_stats = grid_clf\n",
    "rf_model_benchmark = RandomForestClassifier(\n",
    " n_estimators = 800,\n",
    " min_samples_split = 3,\n",
    " min_samples_leaf = 2,\n",
    " max_features = 'auto',\n",
    " max_depth = 80)\n",
    "rf_model_benchmark = rf_model_benchmark.fit(X_train_benchmark, y_train_player_stats)"
   ],
   "metadata": {
    "collapsed": false,
    "pycharm": {
     "name": "#%%\n"
    }
   }
  },
  {
   "cell_type": "code",
   "execution_count": 124,
   "outputs": [
    {
     "name": "stdout",
     "output_type": "stream",
     "text": [
      "rf_model_benchmark 0.5857142857142857\n",
      "rf_model_player_stats 0.6114285714285714\n"
     ]
    }
   ],
   "source": [
    "#rf_model_player_stats = grid_clf\n",
    "print('rf_model_benchmark',rf_model_benchmark.score(X_test_benchmark, y_test_player_stats))\n",
    "print('rf_model_player_stats',rf_model_player_stats.score(X_test_player_stats, y_test_player_stats))"
   ],
   "metadata": {
    "collapsed": false,
    "pycharm": {
     "name": "#%%\n"
    }
   }
  },
  {
   "cell_type": "code",
   "execution_count": 125,
   "outputs": [
    {
     "data": {
      "text/plain": "array([[0.53359623, 0.26078274, 0.20562103],\n       [0.71834524, 0.09598512, 0.18566964],\n       [0.15145685, 0.61402827, 0.23451488],\n       ...,\n       [0.77162351, 0.12195387, 0.10642262],\n       [0.76151339, 0.12294494, 0.11554167],\n       [0.22986756, 0.54137946, 0.22875298]])"
     },
     "execution_count": 125,
     "metadata": {},
     "output_type": "execute_result"
    }
   ],
   "source": [
    "probs_benchmark = rf_model_benchmark.predict_proba(X=X_test_benchmark)\n",
    "probs_benchmark"
   ],
   "metadata": {
    "collapsed": false,
    "pycharm": {
     "name": "#%%\n"
    }
   }
  },
  {
   "cell_type": "code",
   "execution_count": 126,
   "outputs": [
    {
     "data": {
      "text/plain": "array([[0.63102183, 0.20013988, 0.16883829],\n       [0.66064435, 0.13628125, 0.2030744 ],\n       [0.15189881, 0.674     , 0.17410119],\n       ...,\n       [0.60490228, 0.26406994, 0.13102778],\n       [0.62922321, 0.20953571, 0.16124107],\n       [0.17903423, 0.5919003 , 0.22906548]])"
     },
     "execution_count": 126,
     "metadata": {},
     "output_type": "execute_result"
    }
   ],
   "source": [
    "probs_player_stats = rf_model_player_stats.predict_proba(X=X_test_player_stats)\n",
    "probs_player_stats"
   ],
   "metadata": {
    "collapsed": false,
    "pycharm": {
     "name": "#%%\n"
    }
   }
  },
  {
   "cell_type": "code",
   "execution_count": 129,
   "outputs": [
    {
     "data": {
      "text/plain": "            H         D         A\n0    0.533596  0.260783  0.205621\n1    0.718345  0.095985  0.185670\n2    0.151457  0.614028  0.234515\n3    0.100253  0.720705  0.179042\n4    0.850411  0.069783  0.079807\n..        ...       ...       ...\n345  0.204146  0.318307  0.477548\n346  0.547199  0.146458  0.306342\n347  0.771624  0.121954  0.106423\n348  0.761513  0.122945  0.115542\n349  0.229868  0.541379  0.228753\n\n[350 rows x 3 columns]",
      "text/html": "<div>\n<style scoped>\n    .dataframe tbody tr th:only-of-type {\n        vertical-align: middle;\n    }\n\n    .dataframe tbody tr th {\n        vertical-align: top;\n    }\n\n    .dataframe thead th {\n        text-align: right;\n    }\n</style>\n<table border=\"1\" class=\"dataframe\">\n  <thead>\n    <tr style=\"text-align: right;\">\n      <th></th>\n      <th>H</th>\n      <th>D</th>\n      <th>A</th>\n    </tr>\n  </thead>\n  <tbody>\n    <tr>\n      <th>0</th>\n      <td>0.533596</td>\n      <td>0.260783</td>\n      <td>0.205621</td>\n    </tr>\n    <tr>\n      <th>1</th>\n      <td>0.718345</td>\n      <td>0.095985</td>\n      <td>0.185670</td>\n    </tr>\n    <tr>\n      <th>2</th>\n      <td>0.151457</td>\n      <td>0.614028</td>\n      <td>0.234515</td>\n    </tr>\n    <tr>\n      <th>3</th>\n      <td>0.100253</td>\n      <td>0.720705</td>\n      <td>0.179042</td>\n    </tr>\n    <tr>\n      <th>4</th>\n      <td>0.850411</td>\n      <td>0.069783</td>\n      <td>0.079807</td>\n    </tr>\n    <tr>\n      <th>...</th>\n      <td>...</td>\n      <td>...</td>\n      <td>...</td>\n    </tr>\n    <tr>\n      <th>345</th>\n      <td>0.204146</td>\n      <td>0.318307</td>\n      <td>0.477548</td>\n    </tr>\n    <tr>\n      <th>346</th>\n      <td>0.547199</td>\n      <td>0.146458</td>\n      <td>0.306342</td>\n    </tr>\n    <tr>\n      <th>347</th>\n      <td>0.771624</td>\n      <td>0.121954</td>\n      <td>0.106423</td>\n    </tr>\n    <tr>\n      <th>348</th>\n      <td>0.761513</td>\n      <td>0.122945</td>\n      <td>0.115542</td>\n    </tr>\n    <tr>\n      <th>349</th>\n      <td>0.229868</td>\n      <td>0.541379</td>\n      <td>0.228753</td>\n    </tr>\n  </tbody>\n</table>\n<p>350 rows × 3 columns</p>\n</div>"
     },
     "execution_count": 129,
     "metadata": {},
     "output_type": "execute_result"
    }
   ],
   "source": [
    "probs_benchmark = pd.DataFrame(probs_benchmark, columns=['H', 'D', 'A'])\n",
    "probs_benchmark.to_csv('Data/Total/probs_benchmark.csv')\n",
    "probs_benchmark"
   ],
   "metadata": {
    "collapsed": false,
    "pycharm": {
     "name": "#%%\n"
    }
   }
  },
  {
   "cell_type": "code",
   "execution_count": 128,
   "outputs": [
    {
     "data": {
      "text/plain": "            H         D         A\n0    0.631022  0.200140  0.168838\n1    0.660644  0.136281  0.203074\n2    0.151899  0.674000  0.174101\n3    0.112982  0.771997  0.115021\n4    0.848845  0.075893  0.075262\n..        ...       ...       ...\n345  0.259396  0.378656  0.361948\n346  0.626677  0.173323  0.200000\n347  0.604902  0.264070  0.131028\n348  0.629223  0.209536  0.161241\n349  0.179034  0.591900  0.229065\n\n[350 rows x 3 columns]",
      "text/html": "<div>\n<style scoped>\n    .dataframe tbody tr th:only-of-type {\n        vertical-align: middle;\n    }\n\n    .dataframe tbody tr th {\n        vertical-align: top;\n    }\n\n    .dataframe thead th {\n        text-align: right;\n    }\n</style>\n<table border=\"1\" class=\"dataframe\">\n  <thead>\n    <tr style=\"text-align: right;\">\n      <th></th>\n      <th>H</th>\n      <th>D</th>\n      <th>A</th>\n    </tr>\n  </thead>\n  <tbody>\n    <tr>\n      <th>0</th>\n      <td>0.631022</td>\n      <td>0.200140</td>\n      <td>0.168838</td>\n    </tr>\n    <tr>\n      <th>1</th>\n      <td>0.660644</td>\n      <td>0.136281</td>\n      <td>0.203074</td>\n    </tr>\n    <tr>\n      <th>2</th>\n      <td>0.151899</td>\n      <td>0.674000</td>\n      <td>0.174101</td>\n    </tr>\n    <tr>\n      <th>3</th>\n      <td>0.112982</td>\n      <td>0.771997</td>\n      <td>0.115021</td>\n    </tr>\n    <tr>\n      <th>4</th>\n      <td>0.848845</td>\n      <td>0.075893</td>\n      <td>0.075262</td>\n    </tr>\n    <tr>\n      <th>...</th>\n      <td>...</td>\n      <td>...</td>\n      <td>...</td>\n    </tr>\n    <tr>\n      <th>345</th>\n      <td>0.259396</td>\n      <td>0.378656</td>\n      <td>0.361948</td>\n    </tr>\n    <tr>\n      <th>346</th>\n      <td>0.626677</td>\n      <td>0.173323</td>\n      <td>0.200000</td>\n    </tr>\n    <tr>\n      <th>347</th>\n      <td>0.604902</td>\n      <td>0.264070</td>\n      <td>0.131028</td>\n    </tr>\n    <tr>\n      <th>348</th>\n      <td>0.629223</td>\n      <td>0.209536</td>\n      <td>0.161241</td>\n    </tr>\n    <tr>\n      <th>349</th>\n      <td>0.179034</td>\n      <td>0.591900</td>\n      <td>0.229065</td>\n    </tr>\n  </tbody>\n</table>\n<p>350 rows × 3 columns</p>\n</div>"
     },
     "execution_count": 128,
     "metadata": {},
     "output_type": "execute_result"
    }
   ],
   "source": [
    "probs_player_stats = pd.DataFrame(probs_player_stats, columns=['H', 'D', 'A'])\n",
    "probs_player_stats.to_csv('Data/Total/probs_player_stats.csv')\n",
    "probs_player_stats"
   ],
   "metadata": {
    "collapsed": false,
    "pycharm": {
     "name": "#%%\n"
    }
   }
  },
  {
   "cell_type": "markdown",
   "source": [],
   "metadata": {
    "collapsed": false
   }
  }
 ],
 "metadata": {
  "kernelspec": {
   "display_name": "Python 3",
   "language": "python",
   "name": "python3"
  },
  "language_info": {
   "codemirror_mode": {
    "name": "ipython",
    "version": 2
   },
   "file_extension": ".py",
   "mimetype": "text/x-python",
   "name": "python",
   "nbconvert_exporter": "python",
   "pygments_lexer": "ipython2",
   "version": "2.7.6"
  }
 },
 "nbformat": 4,
 "nbformat_minor": 0
}