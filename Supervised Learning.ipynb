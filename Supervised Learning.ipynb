{
 "cells": [
  {
   "cell_type": "code",
   "execution_count": 84,
   "metadata": {
    "collapsed": true
   },
   "outputs": [],
   "source": [
    "#import necessary packages\n",
    "import pandas as pd\n",
    "import numpy as np\n",
    "from sklearn.ensemble import RandomForestClassifier\n",
    "import xgboost as xgb\n",
    "from sklearn.model_selection import train_test_split\n",
    "from sklearn.ensemble import RandomForestRegressor\n",
    "import time\n",
    "import matplotlib.pyplot as plt\n",
    "from sklearn.feature_selection import SelectFromModel\n",
    "from sklearn.feature_selection import SelectKBest, f_classif, chi2, f_regression"
   ]
  },
  {
   "cell_type": "code",
   "execution_count": 20,
   "outputs": [
    {
     "data": {
      "text/plain": "     Unnamed: 0        Date   Time         HomeTeam        AwayTeam  FTHG  \\\n0             0  2020-09-12  12:30           Fulham         Arsenal     0   \n1             1  2020-09-12  15:00   Crystal Palace     Southampton     1   \n2             2  2020-09-12  17:30        Liverpool    Leeds United     4   \n3             3  2020-09-12  20:00         West Ham   Newcastle Utd     0   \n4             4  2020-09-13  14:00        West Brom  Leicester City     0   \n..          ...         ...    ...              ...             ...   ...   \n375         375  2021-05-23  16:00        Liverpool  Crystal Palace     2   \n376         376  2021-05-23  16:00  Manchester City         Everton     5   \n377         377  2021-05-23  16:00    Sheffield Utd         Burnley     1   \n378         378  2021-05-23  16:00         West Ham     Southampton     3   \n379         379  2021-05-23  16:00           Wolves  Manchester Utd     1   \n\n     FTAG FTR               game_home_ID              game_away_ID  ...  \\\n0       3   A           Fulham2020-09-12         Arsenal2020-09-12  ...   \n1       0   H   Crystal Palace2020-09-12     Southampton2020-09-12  ...   \n2       3   H        Liverpool2020-09-12    Leeds United2020-09-12  ...   \n3       2   A         West Ham2020-09-12   Newcastle Utd2020-09-12  ...   \n4       3   A        West Brom2020-09-13  Leicester City2020-09-13  ...   \n..    ...  ..                        ...                       ...  ...   \n375     0   H        Liverpool2021-05-23  Crystal Palace2021-05-23  ...   \n376     0   H  Manchester City2021-05-23         Everton2021-05-23  ...   \n377     0   H    Sheffield Utd2021-05-23         Burnley2021-05-23  ...   \n378     0   H         West Ham2021-05-23     Southampton2021-05-23  ...   \n379     2   A           Wolves2021-05-23  Manchester Utd2021-05-23  ...   \n\n     rating_a_gk  rating_a_df  rating_a_mf  rating_a_att  rating_a_bench  \\\n0       0.000000     0.000000     0.000000      0.000000        0.000000   \n1       0.000000     0.000000     0.000000      0.000000        0.000000   \n2       0.000000     0.000000     0.000000      0.000000        0.000000   \n3       0.000000     0.000000     0.000000      0.000000        0.000000   \n4       0.000000     0.000000     0.000000      0.000000        0.000000   \n..           ...          ...          ...           ...             ...   \n375    18.095864    77.508335    34.222302    114.179672       23.624494   \n376    54.939201    99.089373    99.931465     83.451864       18.141813   \n377    13.723130    83.687464    85.162467     30.281391       10.164714   \n378    52.776573    97.320803    99.866236     19.887791      108.619953   \n379     3.508306    33.497262    10.667179     10.397234      118.735792   \n\n     influence_a  creativity_a    threat_a       bps_a    selected_a  \n0       0.000000      0.000000    0.000000    0.000000  0.000000e+00  \n1       0.000000      0.000000    0.000000    0.000000  0.000000e+00  \n2       0.000000      0.000000    0.000000    0.000000  0.000000e+00  \n3       0.000000      0.000000    0.000000    0.000000  0.000000e+00  \n4       0.000000      0.000000    0.000000    0.000000  0.000000e+00  \n..           ...           ...         ...         ...           ...  \n375   141.292815    147.381546  121.639973  114.763385  2.700597e+06  \n376   214.701344    167.231180  133.112182  201.690987  6.039664e+06  \n377   113.227836    130.831265  117.996689   99.825233  1.289402e+06  \n378   112.338538     97.568369   71.328588   78.067443  3.597889e+06  \n379    13.945895      2.163289    0.036558   19.217003  4.491858e+05  \n\n[380 rows x 32 columns]",
      "text/html": "<div>\n<style scoped>\n    .dataframe tbody tr th:only-of-type {\n        vertical-align: middle;\n    }\n\n    .dataframe tbody tr th {\n        vertical-align: top;\n    }\n\n    .dataframe thead th {\n        text-align: right;\n    }\n</style>\n<table border=\"1\" class=\"dataframe\">\n  <thead>\n    <tr style=\"text-align: right;\">\n      <th></th>\n      <th>Unnamed: 0</th>\n      <th>Date</th>\n      <th>Time</th>\n      <th>HomeTeam</th>\n      <th>AwayTeam</th>\n      <th>FTHG</th>\n      <th>FTAG</th>\n      <th>FTR</th>\n      <th>game_home_ID</th>\n      <th>game_away_ID</th>\n      <th>...</th>\n      <th>rating_a_gk</th>\n      <th>rating_a_df</th>\n      <th>rating_a_mf</th>\n      <th>rating_a_att</th>\n      <th>rating_a_bench</th>\n      <th>influence_a</th>\n      <th>creativity_a</th>\n      <th>threat_a</th>\n      <th>bps_a</th>\n      <th>selected_a</th>\n    </tr>\n  </thead>\n  <tbody>\n    <tr>\n      <th>0</th>\n      <td>0</td>\n      <td>2020-09-12</td>\n      <td>12:30</td>\n      <td>Fulham</td>\n      <td>Arsenal</td>\n      <td>0</td>\n      <td>3</td>\n      <td>A</td>\n      <td>Fulham2020-09-12</td>\n      <td>Arsenal2020-09-12</td>\n      <td>...</td>\n      <td>0.000000</td>\n      <td>0.000000</td>\n      <td>0.000000</td>\n      <td>0.000000</td>\n      <td>0.000000</td>\n      <td>0.000000</td>\n      <td>0.000000</td>\n      <td>0.000000</td>\n      <td>0.000000</td>\n      <td>0.000000e+00</td>\n    </tr>\n    <tr>\n      <th>1</th>\n      <td>1</td>\n      <td>2020-09-12</td>\n      <td>15:00</td>\n      <td>Crystal Palace</td>\n      <td>Southampton</td>\n      <td>1</td>\n      <td>0</td>\n      <td>H</td>\n      <td>Crystal Palace2020-09-12</td>\n      <td>Southampton2020-09-12</td>\n      <td>...</td>\n      <td>0.000000</td>\n      <td>0.000000</td>\n      <td>0.000000</td>\n      <td>0.000000</td>\n      <td>0.000000</td>\n      <td>0.000000</td>\n      <td>0.000000</td>\n      <td>0.000000</td>\n      <td>0.000000</td>\n      <td>0.000000e+00</td>\n    </tr>\n    <tr>\n      <th>2</th>\n      <td>2</td>\n      <td>2020-09-12</td>\n      <td>17:30</td>\n      <td>Liverpool</td>\n      <td>Leeds United</td>\n      <td>4</td>\n      <td>3</td>\n      <td>H</td>\n      <td>Liverpool2020-09-12</td>\n      <td>Leeds United2020-09-12</td>\n      <td>...</td>\n      <td>0.000000</td>\n      <td>0.000000</td>\n      <td>0.000000</td>\n      <td>0.000000</td>\n      <td>0.000000</td>\n      <td>0.000000</td>\n      <td>0.000000</td>\n      <td>0.000000</td>\n      <td>0.000000</td>\n      <td>0.000000e+00</td>\n    </tr>\n    <tr>\n      <th>3</th>\n      <td>3</td>\n      <td>2020-09-12</td>\n      <td>20:00</td>\n      <td>West Ham</td>\n      <td>Newcastle Utd</td>\n      <td>0</td>\n      <td>2</td>\n      <td>A</td>\n      <td>West Ham2020-09-12</td>\n      <td>Newcastle Utd2020-09-12</td>\n      <td>...</td>\n      <td>0.000000</td>\n      <td>0.000000</td>\n      <td>0.000000</td>\n      <td>0.000000</td>\n      <td>0.000000</td>\n      <td>0.000000</td>\n      <td>0.000000</td>\n      <td>0.000000</td>\n      <td>0.000000</td>\n      <td>0.000000e+00</td>\n    </tr>\n    <tr>\n      <th>4</th>\n      <td>4</td>\n      <td>2020-09-13</td>\n      <td>14:00</td>\n      <td>West Brom</td>\n      <td>Leicester City</td>\n      <td>0</td>\n      <td>3</td>\n      <td>A</td>\n      <td>West Brom2020-09-13</td>\n      <td>Leicester City2020-09-13</td>\n      <td>...</td>\n      <td>0.000000</td>\n      <td>0.000000</td>\n      <td>0.000000</td>\n      <td>0.000000</td>\n      <td>0.000000</td>\n      <td>0.000000</td>\n      <td>0.000000</td>\n      <td>0.000000</td>\n      <td>0.000000</td>\n      <td>0.000000e+00</td>\n    </tr>\n    <tr>\n      <th>...</th>\n      <td>...</td>\n      <td>...</td>\n      <td>...</td>\n      <td>...</td>\n      <td>...</td>\n      <td>...</td>\n      <td>...</td>\n      <td>...</td>\n      <td>...</td>\n      <td>...</td>\n      <td>...</td>\n      <td>...</td>\n      <td>...</td>\n      <td>...</td>\n      <td>...</td>\n      <td>...</td>\n      <td>...</td>\n      <td>...</td>\n      <td>...</td>\n      <td>...</td>\n      <td>...</td>\n    </tr>\n    <tr>\n      <th>375</th>\n      <td>375</td>\n      <td>2021-05-23</td>\n      <td>16:00</td>\n      <td>Liverpool</td>\n      <td>Crystal Palace</td>\n      <td>2</td>\n      <td>0</td>\n      <td>H</td>\n      <td>Liverpool2021-05-23</td>\n      <td>Crystal Palace2021-05-23</td>\n      <td>...</td>\n      <td>18.095864</td>\n      <td>77.508335</td>\n      <td>34.222302</td>\n      <td>114.179672</td>\n      <td>23.624494</td>\n      <td>141.292815</td>\n      <td>147.381546</td>\n      <td>121.639973</td>\n      <td>114.763385</td>\n      <td>2.700597e+06</td>\n    </tr>\n    <tr>\n      <th>376</th>\n      <td>376</td>\n      <td>2021-05-23</td>\n      <td>16:00</td>\n      <td>Manchester City</td>\n      <td>Everton</td>\n      <td>5</td>\n      <td>0</td>\n      <td>H</td>\n      <td>Manchester City2021-05-23</td>\n      <td>Everton2021-05-23</td>\n      <td>...</td>\n      <td>54.939201</td>\n      <td>99.089373</td>\n      <td>99.931465</td>\n      <td>83.451864</td>\n      <td>18.141813</td>\n      <td>214.701344</td>\n      <td>167.231180</td>\n      <td>133.112182</td>\n      <td>201.690987</td>\n      <td>6.039664e+06</td>\n    </tr>\n    <tr>\n      <th>377</th>\n      <td>377</td>\n      <td>2021-05-23</td>\n      <td>16:00</td>\n      <td>Sheffield Utd</td>\n      <td>Burnley</td>\n      <td>1</td>\n      <td>0</td>\n      <td>H</td>\n      <td>Sheffield Utd2021-05-23</td>\n      <td>Burnley2021-05-23</td>\n      <td>...</td>\n      <td>13.723130</td>\n      <td>83.687464</td>\n      <td>85.162467</td>\n      <td>30.281391</td>\n      <td>10.164714</td>\n      <td>113.227836</td>\n      <td>130.831265</td>\n      <td>117.996689</td>\n      <td>99.825233</td>\n      <td>1.289402e+06</td>\n    </tr>\n    <tr>\n      <th>378</th>\n      <td>378</td>\n      <td>2021-05-23</td>\n      <td>16:00</td>\n      <td>West Ham</td>\n      <td>Southampton</td>\n      <td>3</td>\n      <td>0</td>\n      <td>H</td>\n      <td>West Ham2021-05-23</td>\n      <td>Southampton2021-05-23</td>\n      <td>...</td>\n      <td>52.776573</td>\n      <td>97.320803</td>\n      <td>99.866236</td>\n      <td>19.887791</td>\n      <td>108.619953</td>\n      <td>112.338538</td>\n      <td>97.568369</td>\n      <td>71.328588</td>\n      <td>78.067443</td>\n      <td>3.597889e+06</td>\n    </tr>\n    <tr>\n      <th>379</th>\n      <td>379</td>\n      <td>2021-05-23</td>\n      <td>16:00</td>\n      <td>Wolves</td>\n      <td>Manchester Utd</td>\n      <td>1</td>\n      <td>2</td>\n      <td>A</td>\n      <td>Wolves2021-05-23</td>\n      <td>Manchester Utd2021-05-23</td>\n      <td>...</td>\n      <td>3.508306</td>\n      <td>33.497262</td>\n      <td>10.667179</td>\n      <td>10.397234</td>\n      <td>118.735792</td>\n      <td>13.945895</td>\n      <td>2.163289</td>\n      <td>0.036558</td>\n      <td>19.217003</td>\n      <td>4.491858e+05</td>\n    </tr>\n  </tbody>\n</table>\n<p>380 rows × 32 columns</p>\n</div>"
     },
     "execution_count": 20,
     "metadata": {},
     "output_type": "execute_result"
    }
   ],
   "source": [
    "player_ratings_19 = pd.read_csv('Data/2019-20/Players/player_ratings_19_a_09.csv')\n",
    "features_19 = pd.read_csv('Data/2019-20/Fixtures/PL19_20_features.csv')\n",
    "player_ratings_20 = pd.read_csv('Data/2020-21/Players/player_ratings_a_09.csv')\n",
    "features_20 = pd.read_csv('Data/2020-21/Fixtures/PL20_21_features.csv')\n",
    "player_ratings_21 = pd.read_csv('Data/2021-22/Players/player_ratings_21_a_09.csv')\n",
    "features_21 = pd.read_csv('Data/2021-22/Fixtures/PL21_22_features.csv')\n",
    "player_ratings_20.replace(['Brighton & Hove Albion','Manchester United', 'Newcastle United', 'Sheffield United', 'Tottenham Hotspur', 'West Bromwich Albion', 'West Ham United','Wolverhampton Wanderers'], ['Brighton', 'Manchester Utd','Newcastle Utd', 'Sheffield Utd', 'Tottenham','West Brom' ,'West Ham', 'Wolves'], inplace=True)\n",
    "player_ratings_20['game_home_ID'] = player_ratings_20['HomeTeam'] + player_ratings_20['Date']\n",
    "player_ratings_20['game_away_ID'] = player_ratings_20['AwayTeam'] + player_ratings_20['Date']\n",
    "player_ratings_20"
   ],
   "metadata": {
    "collapsed": false,
    "pycharm": {
     "name": "#%%\n"
    }
   }
  },
  {
   "cell_type": "code",
   "execution_count": 23,
   "outputs": [
    {
     "data": {
      "text/plain": "     Unnamed: 0_x Div      Date_x Time_x       HomeTeam_x       AwayTeam_x  \\\n0               0  E0  2019-08-09  20:00        Liverpool     Norwich City   \n1               1  E0  2019-08-10  12:30         West Ham  Manchester City   \n2               2  E0  2019-08-10  15:00      Bournemouth    Sheffield Utd   \n3               3  E0  2019-08-10  15:00          Burnley      Southampton   \n4               4  E0  2019-08-10  15:00   Crystal Palace          Everton   \n..            ...  ..         ...    ...              ...              ...   \n375           375  E0  2022-05-22  16:00   Crystal Palace   Manchester Utd   \n376           376  E0  2022-05-22  16:00   Leicester City      Southampton   \n377           377  E0  2022-05-22  16:00        Liverpool           Wolves   \n378           378  E0  2022-05-22  16:00  Manchester City      Aston Villa   \n379           379  E0  2022-05-22  16:00     Norwich City        Tottenham   \n\n     FTHG_x  FTAG_x FTR_x  HTHG  ...  rating_a_gk rating_a_df rating_a_mf  \\\n0         4       1     H     4  ...     0.000000    0.000000    0.000000   \n1         0       5     A     0  ...     0.000000    0.000000    0.000000   \n2         1       1     D     0  ...     0.000000    0.000000    0.000000   \n3         3       0     H     0  ...     0.000000    0.000000    0.000000   \n4         0       0     D     0  ...     0.000000    0.000000    0.000000   \n..      ...     ...   ...   ...  ...          ...         ...         ...   \n375       1       0     H     1  ...     0.000000    0.000000    0.000000   \n376       4       1     H     0  ...    30.426248   90.718082   38.302624   \n377       3       1     H     1  ...     0.000000    0.000000    0.000000   \n378       3       2     H     0  ...     0.000000  138.256940  193.946287   \n379       0       5     A     0  ...     0.000000    0.000000    0.000000   \n\n     rating_a_att  rating_a_bench  influence_a  creativity_a    threat_a  \\\n0        0.000000        0.000000     0.000000      0.000000    0.000000   \n1        0.000000        0.000000     0.000000      0.000000    0.000000   \n2        0.000000        0.000000     0.000000      0.000000    0.000000   \n3        0.000000        0.000000     0.000000      0.000000    0.000000   \n4        0.000000        0.000000     0.000000      0.000000    0.000000   \n..            ...             ...          ...           ...         ...   \n375      0.000000        0.000000     0.000000      0.000000    0.000000   \n376     27.739725        4.715052   184.049913     35.385130   50.186897   \n377      0.000000        0.000000     0.000000      0.000000    0.000000   \n378     15.334034        9.397336   202.612485    230.250828  198.143528   \n379      0.000000        0.000000     0.000000      0.000000    0.000000   \n\n          bps_a    selected_a  \n0      0.000000  0.000000e+00  \n1      0.000000  0.000000e+00  \n2      0.000000  0.000000e+00  \n3      0.000000  0.000000e+00  \n4      0.000000  0.000000e+00  \n..          ...           ...  \n375    0.000000  0.000000e+00  \n376  128.755329  8.253030e+05  \n377    0.000000  0.000000e+00  \n378  148.016855  5.879654e+06  \n379    0.000000  0.000000e+00  \n\n[1140 rows x 165 columns]",
      "text/html": "<div>\n<style scoped>\n    .dataframe tbody tr th:only-of-type {\n        vertical-align: middle;\n    }\n\n    .dataframe tbody tr th {\n        vertical-align: top;\n    }\n\n    .dataframe thead th {\n        text-align: right;\n    }\n</style>\n<table border=\"1\" class=\"dataframe\">\n  <thead>\n    <tr style=\"text-align: right;\">\n      <th></th>\n      <th>Unnamed: 0_x</th>\n      <th>Div</th>\n      <th>Date_x</th>\n      <th>Time_x</th>\n      <th>HomeTeam_x</th>\n      <th>AwayTeam_x</th>\n      <th>FTHG_x</th>\n      <th>FTAG_x</th>\n      <th>FTR_x</th>\n      <th>HTHG</th>\n      <th>...</th>\n      <th>rating_a_gk</th>\n      <th>rating_a_df</th>\n      <th>rating_a_mf</th>\n      <th>rating_a_att</th>\n      <th>rating_a_bench</th>\n      <th>influence_a</th>\n      <th>creativity_a</th>\n      <th>threat_a</th>\n      <th>bps_a</th>\n      <th>selected_a</th>\n    </tr>\n  </thead>\n  <tbody>\n    <tr>\n      <th>0</th>\n      <td>0</td>\n      <td>E0</td>\n      <td>2019-08-09</td>\n      <td>20:00</td>\n      <td>Liverpool</td>\n      <td>Norwich City</td>\n      <td>4</td>\n      <td>1</td>\n      <td>H</td>\n      <td>4</td>\n      <td>...</td>\n      <td>0.000000</td>\n      <td>0.000000</td>\n      <td>0.000000</td>\n      <td>0.000000</td>\n      <td>0.000000</td>\n      <td>0.000000</td>\n      <td>0.000000</td>\n      <td>0.000000</td>\n      <td>0.000000</td>\n      <td>0.000000e+00</td>\n    </tr>\n    <tr>\n      <th>1</th>\n      <td>1</td>\n      <td>E0</td>\n      <td>2019-08-10</td>\n      <td>12:30</td>\n      <td>West Ham</td>\n      <td>Manchester City</td>\n      <td>0</td>\n      <td>5</td>\n      <td>A</td>\n      <td>0</td>\n      <td>...</td>\n      <td>0.000000</td>\n      <td>0.000000</td>\n      <td>0.000000</td>\n      <td>0.000000</td>\n      <td>0.000000</td>\n      <td>0.000000</td>\n      <td>0.000000</td>\n      <td>0.000000</td>\n      <td>0.000000</td>\n      <td>0.000000e+00</td>\n    </tr>\n    <tr>\n      <th>2</th>\n      <td>2</td>\n      <td>E0</td>\n      <td>2019-08-10</td>\n      <td>15:00</td>\n      <td>Bournemouth</td>\n      <td>Sheffield Utd</td>\n      <td>1</td>\n      <td>1</td>\n      <td>D</td>\n      <td>0</td>\n      <td>...</td>\n      <td>0.000000</td>\n      <td>0.000000</td>\n      <td>0.000000</td>\n      <td>0.000000</td>\n      <td>0.000000</td>\n      <td>0.000000</td>\n      <td>0.000000</td>\n      <td>0.000000</td>\n      <td>0.000000</td>\n      <td>0.000000e+00</td>\n    </tr>\n    <tr>\n      <th>3</th>\n      <td>3</td>\n      <td>E0</td>\n      <td>2019-08-10</td>\n      <td>15:00</td>\n      <td>Burnley</td>\n      <td>Southampton</td>\n      <td>3</td>\n      <td>0</td>\n      <td>H</td>\n      <td>0</td>\n      <td>...</td>\n      <td>0.000000</td>\n      <td>0.000000</td>\n      <td>0.000000</td>\n      <td>0.000000</td>\n      <td>0.000000</td>\n      <td>0.000000</td>\n      <td>0.000000</td>\n      <td>0.000000</td>\n      <td>0.000000</td>\n      <td>0.000000e+00</td>\n    </tr>\n    <tr>\n      <th>4</th>\n      <td>4</td>\n      <td>E0</td>\n      <td>2019-08-10</td>\n      <td>15:00</td>\n      <td>Crystal Palace</td>\n      <td>Everton</td>\n      <td>0</td>\n      <td>0</td>\n      <td>D</td>\n      <td>0</td>\n      <td>...</td>\n      <td>0.000000</td>\n      <td>0.000000</td>\n      <td>0.000000</td>\n      <td>0.000000</td>\n      <td>0.000000</td>\n      <td>0.000000</td>\n      <td>0.000000</td>\n      <td>0.000000</td>\n      <td>0.000000</td>\n      <td>0.000000e+00</td>\n    </tr>\n    <tr>\n      <th>...</th>\n      <td>...</td>\n      <td>...</td>\n      <td>...</td>\n      <td>...</td>\n      <td>...</td>\n      <td>...</td>\n      <td>...</td>\n      <td>...</td>\n      <td>...</td>\n      <td>...</td>\n      <td>...</td>\n      <td>...</td>\n      <td>...</td>\n      <td>...</td>\n      <td>...</td>\n      <td>...</td>\n      <td>...</td>\n      <td>...</td>\n      <td>...</td>\n      <td>...</td>\n      <td>...</td>\n    </tr>\n    <tr>\n      <th>375</th>\n      <td>375</td>\n      <td>E0</td>\n      <td>2022-05-22</td>\n      <td>16:00</td>\n      <td>Crystal Palace</td>\n      <td>Manchester Utd</td>\n      <td>1</td>\n      <td>0</td>\n      <td>H</td>\n      <td>1</td>\n      <td>...</td>\n      <td>0.000000</td>\n      <td>0.000000</td>\n      <td>0.000000</td>\n      <td>0.000000</td>\n      <td>0.000000</td>\n      <td>0.000000</td>\n      <td>0.000000</td>\n      <td>0.000000</td>\n      <td>0.000000</td>\n      <td>0.000000e+00</td>\n    </tr>\n    <tr>\n      <th>376</th>\n      <td>376</td>\n      <td>E0</td>\n      <td>2022-05-22</td>\n      <td>16:00</td>\n      <td>Leicester City</td>\n      <td>Southampton</td>\n      <td>4</td>\n      <td>1</td>\n      <td>H</td>\n      <td>0</td>\n      <td>...</td>\n      <td>30.426248</td>\n      <td>90.718082</td>\n      <td>38.302624</td>\n      <td>27.739725</td>\n      <td>4.715052</td>\n      <td>184.049913</td>\n      <td>35.385130</td>\n      <td>50.186897</td>\n      <td>128.755329</td>\n      <td>8.253030e+05</td>\n    </tr>\n    <tr>\n      <th>377</th>\n      <td>377</td>\n      <td>E0</td>\n      <td>2022-05-22</td>\n      <td>16:00</td>\n      <td>Liverpool</td>\n      <td>Wolves</td>\n      <td>3</td>\n      <td>1</td>\n      <td>H</td>\n      <td>1</td>\n      <td>...</td>\n      <td>0.000000</td>\n      <td>0.000000</td>\n      <td>0.000000</td>\n      <td>0.000000</td>\n      <td>0.000000</td>\n      <td>0.000000</td>\n      <td>0.000000</td>\n      <td>0.000000</td>\n      <td>0.000000</td>\n      <td>0.000000e+00</td>\n    </tr>\n    <tr>\n      <th>378</th>\n      <td>378</td>\n      <td>E0</td>\n      <td>2022-05-22</td>\n      <td>16:00</td>\n      <td>Manchester City</td>\n      <td>Aston Villa</td>\n      <td>3</td>\n      <td>2</td>\n      <td>H</td>\n      <td>0</td>\n      <td>...</td>\n      <td>0.000000</td>\n      <td>138.256940</td>\n      <td>193.946287</td>\n      <td>15.334034</td>\n      <td>9.397336</td>\n      <td>202.612485</td>\n      <td>230.250828</td>\n      <td>198.143528</td>\n      <td>148.016855</td>\n      <td>5.879654e+06</td>\n    </tr>\n    <tr>\n      <th>379</th>\n      <td>379</td>\n      <td>E0</td>\n      <td>2022-05-22</td>\n      <td>16:00</td>\n      <td>Norwich City</td>\n      <td>Tottenham</td>\n      <td>0</td>\n      <td>5</td>\n      <td>A</td>\n      <td>0</td>\n      <td>...</td>\n      <td>0.000000</td>\n      <td>0.000000</td>\n      <td>0.000000</td>\n      <td>0.000000</td>\n      <td>0.000000</td>\n      <td>0.000000</td>\n      <td>0.000000</td>\n      <td>0.000000</td>\n      <td>0.000000</td>\n      <td>0.000000e+00</td>\n    </tr>\n  </tbody>\n</table>\n<p>1140 rows × 165 columns</p>\n</div>"
     },
     "execution_count": 23,
     "metadata": {},
     "output_type": "execute_result"
    }
   ],
   "source": [
    "PL_2019_total =  pd.merge(features_19, player_ratings_19, on= 'game_home_ID', how='left')\n",
    "PL_2020_total =  pd.merge(features_20, player_ratings_20, on= 'game_home_ID', how='left')\n",
    "PL_2021_total =  pd.merge(features_21, player_ratings_21, on= 'game_home_ID', how='left')\n",
    "frames = [PL_2019_total, PL_2020_total, PL_2021_total]\n",
    "PL_19_20_21_all_features = pd.concat(frames)\n",
    "PL_19_20_21_all_features"
   ],
   "metadata": {
    "collapsed": false,
    "pycharm": {
     "name": "#%%\n"
    }
   }
  },
  {
   "cell_type": "code",
   "execution_count": 36,
   "outputs": [
    {
     "data": {
      "text/plain": "     Unnamed: 0_x Div      Date_x Time_x       HomeTeam_x       AwayTeam_x  \\\n0               0  E0  2019-08-09  20:00        Liverpool     Norwich City   \n1               1  E0  2019-08-10  12:30         West Ham  Manchester City   \n2               2  E0  2019-08-10  15:00      Bournemouth    Sheffield Utd   \n3               3  E0  2019-08-10  15:00          Burnley      Southampton   \n4               4  E0  2019-08-10  15:00   Crystal Palace          Everton   \n..            ...  ..         ...    ...              ...              ...   \n375           375  E0  2022-05-22  16:00   Crystal Palace   Manchester Utd   \n376           376  E0  2022-05-22  16:00   Leicester City      Southampton   \n377           377  E0  2022-05-22  16:00        Liverpool           Wolves   \n378           378  E0  2022-05-22  16:00  Manchester City      Aston Villa   \n379           379  E0  2022-05-22  16:00     Norwich City        Tottenham   \n\n     FTHG_x  FTAG_x FTR_x  HTHG  ...  att_difference bench_difference  \\\n0         4       1     H     4  ...        0.000000         0.000000   \n1         0       5     A     0  ...        0.000000         0.000000   \n2         1       1     D     0  ...        0.000000         0.000000   \n3         3       0     H     0  ...        0.000000         0.000000   \n4         0       0     D     0  ...        0.000000         0.000000   \n..      ...     ...   ...   ...  ...             ...              ...   \n375       1       0     H     1  ...       17.004112        42.803780   \n376       4       1     H     0  ...       29.145907        23.096406   \n377       3       1     H     1  ...       26.900002        60.880212   \n378       3       2     H     0  ...       25.620656        55.885047   \n379       0       5     A     0  ...       54.928535        10.198866   \n\n    influence_difference  creativity_difference  threat_difference  \\\n0               0.000000               0.000000           0.000000   \n1               0.000000               0.000000           0.000000   \n2               0.000000               0.000000           0.000000   \n3               0.000000               0.000000           0.000000   \n4               0.000000               0.000000           0.000000   \n..                   ...                    ...                ...   \n375            78.183687              31.288983          50.563073   \n376            24.274186               8.288232         -30.099457   \n377           117.585669              32.251976          86.203308   \n378           -56.131097             -25.603259          48.868307   \n379           154.177841             106.915276          85.880086   \n\n     bps_difference  selected_difference   overall_h   overall_a  \\\n0          0.000000         0.000000e+00    0.000000    0.000000   \n1          0.000000         0.000000e+00    0.000000    0.000000   \n2          0.000000         0.000000e+00    0.000000    0.000000   \n3          0.000000         0.000000e+00    0.000000    0.000000   \n4          0.000000         0.000000e+00    0.000000    0.000000   \n..              ...                  ...         ...         ...   \n375       67.829308         2.930965e+06  179.443592    0.000000   \n376       10.599418         4.178858e+06  263.589242  191.901731   \n377       96.274694         3.902984e+06  246.156609    0.000000   \n378      -16.173457         4.021852e+06  444.529338  356.934597   \n379      111.259709         9.742279e+05  231.489130    0.000000   \n\n     overall_difference  \n0              0.000000  \n1              0.000000  \n2              0.000000  \n3              0.000000  \n4              0.000000  \n..                  ...  \n375          179.443592  \n376           71.687511  \n377          246.156609  \n378           87.594741  \n379          231.489130  \n\n[1140 rows x 179 columns]",
      "text/html": "<div>\n<style scoped>\n    .dataframe tbody tr th:only-of-type {\n        vertical-align: middle;\n    }\n\n    .dataframe tbody tr th {\n        vertical-align: top;\n    }\n\n    .dataframe thead th {\n        text-align: right;\n    }\n</style>\n<table border=\"1\" class=\"dataframe\">\n  <thead>\n    <tr style=\"text-align: right;\">\n      <th></th>\n      <th>Unnamed: 0_x</th>\n      <th>Div</th>\n      <th>Date_x</th>\n      <th>Time_x</th>\n      <th>HomeTeam_x</th>\n      <th>AwayTeam_x</th>\n      <th>FTHG_x</th>\n      <th>FTAG_x</th>\n      <th>FTR_x</th>\n      <th>HTHG</th>\n      <th>...</th>\n      <th>att_difference</th>\n      <th>bench_difference</th>\n      <th>influence_difference</th>\n      <th>creativity_difference</th>\n      <th>threat_difference</th>\n      <th>bps_difference</th>\n      <th>selected_difference</th>\n      <th>overall_h</th>\n      <th>overall_a</th>\n      <th>overall_difference</th>\n    </tr>\n  </thead>\n  <tbody>\n    <tr>\n      <th>0</th>\n      <td>0</td>\n      <td>E0</td>\n      <td>2019-08-09</td>\n      <td>20:00</td>\n      <td>Liverpool</td>\n      <td>Norwich City</td>\n      <td>4</td>\n      <td>1</td>\n      <td>H</td>\n      <td>4</td>\n      <td>...</td>\n      <td>0.000000</td>\n      <td>0.000000</td>\n      <td>0.000000</td>\n      <td>0.000000</td>\n      <td>0.000000</td>\n      <td>0.000000</td>\n      <td>0.000000e+00</td>\n      <td>0.000000</td>\n      <td>0.000000</td>\n      <td>0.000000</td>\n    </tr>\n    <tr>\n      <th>1</th>\n      <td>1</td>\n      <td>E0</td>\n      <td>2019-08-10</td>\n      <td>12:30</td>\n      <td>West Ham</td>\n      <td>Manchester City</td>\n      <td>0</td>\n      <td>5</td>\n      <td>A</td>\n      <td>0</td>\n      <td>...</td>\n      <td>0.000000</td>\n      <td>0.000000</td>\n      <td>0.000000</td>\n      <td>0.000000</td>\n      <td>0.000000</td>\n      <td>0.000000</td>\n      <td>0.000000e+00</td>\n      <td>0.000000</td>\n      <td>0.000000</td>\n      <td>0.000000</td>\n    </tr>\n    <tr>\n      <th>2</th>\n      <td>2</td>\n      <td>E0</td>\n      <td>2019-08-10</td>\n      <td>15:00</td>\n      <td>Bournemouth</td>\n      <td>Sheffield Utd</td>\n      <td>1</td>\n      <td>1</td>\n      <td>D</td>\n      <td>0</td>\n      <td>...</td>\n      <td>0.000000</td>\n      <td>0.000000</td>\n      <td>0.000000</td>\n      <td>0.000000</td>\n      <td>0.000000</td>\n      <td>0.000000</td>\n      <td>0.000000e+00</td>\n      <td>0.000000</td>\n      <td>0.000000</td>\n      <td>0.000000</td>\n    </tr>\n    <tr>\n      <th>3</th>\n      <td>3</td>\n      <td>E0</td>\n      <td>2019-08-10</td>\n      <td>15:00</td>\n      <td>Burnley</td>\n      <td>Southampton</td>\n      <td>3</td>\n      <td>0</td>\n      <td>H</td>\n      <td>0</td>\n      <td>...</td>\n      <td>0.000000</td>\n      <td>0.000000</td>\n      <td>0.000000</td>\n      <td>0.000000</td>\n      <td>0.000000</td>\n      <td>0.000000</td>\n      <td>0.000000e+00</td>\n      <td>0.000000</td>\n      <td>0.000000</td>\n      <td>0.000000</td>\n    </tr>\n    <tr>\n      <th>4</th>\n      <td>4</td>\n      <td>E0</td>\n      <td>2019-08-10</td>\n      <td>15:00</td>\n      <td>Crystal Palace</td>\n      <td>Everton</td>\n      <td>0</td>\n      <td>0</td>\n      <td>D</td>\n      <td>0</td>\n      <td>...</td>\n      <td>0.000000</td>\n      <td>0.000000</td>\n      <td>0.000000</td>\n      <td>0.000000</td>\n      <td>0.000000</td>\n      <td>0.000000</td>\n      <td>0.000000e+00</td>\n      <td>0.000000</td>\n      <td>0.000000</td>\n      <td>0.000000</td>\n    </tr>\n    <tr>\n      <th>...</th>\n      <td>...</td>\n      <td>...</td>\n      <td>...</td>\n      <td>...</td>\n      <td>...</td>\n      <td>...</td>\n      <td>...</td>\n      <td>...</td>\n      <td>...</td>\n      <td>...</td>\n      <td>...</td>\n      <td>...</td>\n      <td>...</td>\n      <td>...</td>\n      <td>...</td>\n      <td>...</td>\n      <td>...</td>\n      <td>...</td>\n      <td>...</td>\n      <td>...</td>\n      <td>...</td>\n    </tr>\n    <tr>\n      <th>375</th>\n      <td>375</td>\n      <td>E0</td>\n      <td>2022-05-22</td>\n      <td>16:00</td>\n      <td>Crystal Palace</td>\n      <td>Manchester Utd</td>\n      <td>1</td>\n      <td>0</td>\n      <td>H</td>\n      <td>1</td>\n      <td>...</td>\n      <td>17.004112</td>\n      <td>42.803780</td>\n      <td>78.183687</td>\n      <td>31.288983</td>\n      <td>50.563073</td>\n      <td>67.829308</td>\n      <td>2.930965e+06</td>\n      <td>179.443592</td>\n      <td>0.000000</td>\n      <td>179.443592</td>\n    </tr>\n    <tr>\n      <th>376</th>\n      <td>376</td>\n      <td>E0</td>\n      <td>2022-05-22</td>\n      <td>16:00</td>\n      <td>Leicester City</td>\n      <td>Southampton</td>\n      <td>4</td>\n      <td>1</td>\n      <td>H</td>\n      <td>0</td>\n      <td>...</td>\n      <td>29.145907</td>\n      <td>23.096406</td>\n      <td>24.274186</td>\n      <td>8.288232</td>\n      <td>-30.099457</td>\n      <td>10.599418</td>\n      <td>4.178858e+06</td>\n      <td>263.589242</td>\n      <td>191.901731</td>\n      <td>71.687511</td>\n    </tr>\n    <tr>\n      <th>377</th>\n      <td>377</td>\n      <td>E0</td>\n      <td>2022-05-22</td>\n      <td>16:00</td>\n      <td>Liverpool</td>\n      <td>Wolves</td>\n      <td>3</td>\n      <td>1</td>\n      <td>H</td>\n      <td>1</td>\n      <td>...</td>\n      <td>26.900002</td>\n      <td>60.880212</td>\n      <td>117.585669</td>\n      <td>32.251976</td>\n      <td>86.203308</td>\n      <td>96.274694</td>\n      <td>3.902984e+06</td>\n      <td>246.156609</td>\n      <td>0.000000</td>\n      <td>246.156609</td>\n    </tr>\n    <tr>\n      <th>378</th>\n      <td>378</td>\n      <td>E0</td>\n      <td>2022-05-22</td>\n      <td>16:00</td>\n      <td>Manchester City</td>\n      <td>Aston Villa</td>\n      <td>3</td>\n      <td>2</td>\n      <td>H</td>\n      <td>0</td>\n      <td>...</td>\n      <td>25.620656</td>\n      <td>55.885047</td>\n      <td>-56.131097</td>\n      <td>-25.603259</td>\n      <td>48.868307</td>\n      <td>-16.173457</td>\n      <td>4.021852e+06</td>\n      <td>444.529338</td>\n      <td>356.934597</td>\n      <td>87.594741</td>\n    </tr>\n    <tr>\n      <th>379</th>\n      <td>379</td>\n      <td>E0</td>\n      <td>2022-05-22</td>\n      <td>16:00</td>\n      <td>Norwich City</td>\n      <td>Tottenham</td>\n      <td>0</td>\n      <td>5</td>\n      <td>A</td>\n      <td>0</td>\n      <td>...</td>\n      <td>54.928535</td>\n      <td>10.198866</td>\n      <td>154.177841</td>\n      <td>106.915276</td>\n      <td>85.880086</td>\n      <td>111.259709</td>\n      <td>9.742279e+05</td>\n      <td>231.489130</td>\n      <td>0.000000</td>\n      <td>231.489130</td>\n    </tr>\n  </tbody>\n</table>\n<p>1140 rows × 179 columns</p>\n</div>"
     },
     "execution_count": 36,
     "metadata": {},
     "output_type": "execute_result"
    }
   ],
   "source": [
    "PL_19_20_21_all_features['gk_difference'] = PL_19_20_21_all_features['rating_h_gk'] - PL_19_20_21_all_features['rating_a_gk']\n",
    "PL_19_20_21_all_features['df_difference'] = PL_19_20_21_all_features['rating_h_df'] - PL_19_20_21_all_features['rating_a_df']\n",
    "PL_19_20_21_all_features['mf_difference'] = PL_19_20_21_all_features['rating_h_mf'] - PL_19_20_21_all_features['rating_a_mf']\n",
    "PL_19_20_21_all_features['att_difference'] = PL_19_20_21_all_features['rating_h_att'] - PL_19_20_21_all_features['rating_a_att']\n",
    "PL_19_20_21_all_features['bench_difference'] = PL_19_20_21_all_features['rating_h_bench'] - PL_19_20_21_all_features['rating_a_bench']\n",
    "PL_19_20_21_all_features['influence_difference'] = PL_19_20_21_all_features['influence_h'] - PL_19_20_21_all_features['influence_a']\n",
    "PL_19_20_21_all_features['creativity_difference'] = PL_19_20_21_all_features['creativity_h'] - PL_19_20_21_all_features['creativity_a']\n",
    "PL_19_20_21_all_features['threat_difference'] = PL_19_20_21_all_features['threat_h'] - PL_19_20_21_all_features['threat_a']\n",
    "PL_19_20_21_all_features['bps_difference'] = PL_19_20_21_all_features['bps_h'] - PL_19_20_21_all_features['bps_a']\n",
    "PL_19_20_21_all_features['selected_difference'] = PL_19_20_21_all_features['selected_h'] - PL_19_20_21_all_features['selected_a']\n",
    "PL_19_20_21_all_features['overall_h'] = PL_19_20_21_all_features['rating_h_gk'] + PL_19_20_21_all_features['rating_h_df'] + PL_19_20_21_all_features['rating_h_mf'] + PL_19_20_21_all_features['rating_h_att'] + PL_19_20_21_all_features['rating_h_bench']\n",
    "PL_19_20_21_all_features['overall_a'] = PL_19_20_21_all_features['rating_a_gk'] + PL_19_20_21_all_features['rating_a_df'] + PL_19_20_21_all_features['rating_a_mf'] + PL_19_20_21_all_features['rating_a_att'] + PL_19_20_21_all_features['rating_a_bench']\n",
    "PL_19_20_21_all_features['overall_difference'] = PL_19_20_21_all_features['overall_h'] - PL_19_20_21_all_features['overall_a']\n",
    "PL_19_20_21_all_features"
   ],
   "metadata": {
    "collapsed": false,
    "pycharm": {
     "name": "#%%\n"
    }
   }
  },
  {
   "cell_type": "code",
   "execution_count": 78,
   "outputs": [],
   "source": [
    "#prepare Data for ML Algos, including all features from benchmark + rating differences\n",
    "#add column for H A X\n",
    "conditions = [\n",
    "    (PL_19_20_21_all_features['FTR_x'] == 'H'),\n",
    "    (PL_19_20_21_all_features['FTR_x'] == 'A'),\n",
    "    (PL_19_20_21_all_features['FTR_x'] == 'D')]\n",
    "choices = [0, 1, 2]\n",
    "PL_19_20_21_all_features['identifier'] = np.select(conditions, choices)\n",
    "#PL20_21_features.drop(PL20_21_features[ PL20_21_features.Wk < 6].index, inplace=True)\n",
    "y = PL_19_20_21_all_features['identifier'].to_numpy()\n",
    "feature_names_1 = ['Rating difference', 'Rating_Home', 'Rating_Away', 'ewmH', 'ewmA', 'ewmDifference', 'Elo_h_before','Elo_a_before', 'elo_difference', 'goalsH', 'goalsA', 'goalsDifference', 'shotsH', 'shotsA','shotsDifference', 'cornersH', 'cornersA', 'cornersDifference', 'formH', 'formA', 'form_difference']\n",
    "feature_names_2 = ['gk_difference', 'df_difference', 'mf_difference', 'att_difference', 'bench_difference','overall_difference' ,'influence_difference', 'creativity_difference', 'threat_difference', 'bps_difference', 'selected_difference', 'overall_h', 'overall_a']\n",
    "feature_names_3 = ['rating_h_gk', 'Rating difference', 'Rating_Home', 'Rating_Away', 'ewmH', 'ewmA', 'ewmDifference', 'Elo_h_before','Elo_a_before', 'elo_difference', 'goalsH', 'goalsA', 'goalsDifference', 'shotsH', 'shotsA','shotsDifference', 'cornersH', 'cornersA', 'cornersDifference', 'formH', 'formA', 'form_difference', 'rating_a_gk', 'rating_h_df', 'rating_a_df', 'rating_h_mf', 'rating_a_mf', 'rating_h_att', 'rating_a_att', 'rating_h_bench', 'rating_a_bench', 'influence_h', 'influence_a', 'creativity_h', 'creativity_a', 'threat_h', 'threat_a', 'bps_h', 'bps_a', 'selected_h', 'selected_a', 'gk_difference', 'df_difference', 'mf_difference', 'att_difference', 'bench_difference','overall_difference' ,'influence_difference', 'creativity_difference', 'threat_difference', 'bps_difference', 'selected_difference', 'overall_h', 'overall_a']\n",
    "X_1 = PL_19_20_21_all_features[feature_names_1].to_numpy()\n",
    "X_2 = PL_19_20_21_all_features[feature_names_2].to_numpy()\n",
    "X_3 = PL_19_20_21_all_features[feature_names_3].to_numpy()"
   ],
   "metadata": {
    "collapsed": false,
    "pycharm": {
     "name": "#%%\n"
    }
   }
  },
  {
   "cell_type": "code",
   "execution_count": 79,
   "outputs": [
    {
     "data": {
      "text/plain": "RandomForestClassifier()"
     },
     "execution_count": 79,
     "metadata": {},
     "output_type": "execute_result"
    }
   ],
   "source": [
    "#split Data in training and test set and train model\n",
    "X_train, X_test, y_train, y_test = train_test_split(X_1, y, test_size=0.2, random_state=42)\n",
    "rf_model = RandomForestClassifier()\n",
    "rf_model.fit(X_train, y_train)"
   ],
   "metadata": {
    "collapsed": false,
    "pycharm": {
     "name": "#%%\n"
    }
   }
  },
  {
   "cell_type": "code",
   "execution_count": 80,
   "outputs": [
    {
     "name": "stdout",
     "output_type": "stream",
     "text": [
      "0.49122807017543857\n"
     ]
    }
   ],
   "source": [
    "rf_model = RandomForestClassifier()\n",
    "X_train_1, X_test_1, y_train_1, y_test_1 = train_test_split(X_1, y, test_size=0.2, random_state=42)\n",
    "X_train_2, X_test_2, y_train_2, y_test_2 = train_test_split(X_2, y, test_size=0.2, random_state=42)\n",
    "X_train_3, X_test_3, y_train_3, y_test_3 = train_test_split(X_3, y, test_size=0.2, random_state=42)\n",
    "rf_model.fit(X_train_1, y_train_1)\n",
    "rf_model.fit(X_train_2, y_train_2)\n",
    "rf_model.fit(X_train_3, y_train_3)\n",
    "#start_time = time.time()\n",
    "# importances = rf_model.feature_importances_\n",
    "# std = np.std([tree.feature_importances_ for tree in rf_model.estimators_], axis=0)\n",
    "# #elapsed_time = time.time() - start_time\n",
    "#\n",
    "#\n",
    "# #feature_names = [f\"feature {i}\" for i in range(X.shape[1])]\n",
    "#\n",
    "#\n",
    "# forest_importances = pd.Series(importances, index=feature_names_1)\n",
    "# forest_importances = forest_importances.sort_values()\n",
    "# fig, ax = plt.subplots()\n",
    "# fig.tight_layout(pad=-15, w_pad=0.5, h_pad=-2)\n",
    "#\n",
    "# forest_importances.plot.barh(ax=ax, yerr=std)\n",
    "# ax.set_title(\"Feature importances using MDI\")\n",
    "# ax.set_xlabel(\"Mean decrease in impurity\")\n",
    "print(rf_model.score(X_test_3, y_test_3))"
   ],
   "metadata": {
    "collapsed": false,
    "pycharm": {
     "name": "#%%\n"
    }
   }
  },
  {
   "cell_type": "code",
   "execution_count": 77,
   "outputs": [
    {
     "name": "stdout",
     "output_type": "stream",
     "text": [
      "RF1: 0.48759525075314547\n",
      "RF2: 0.4783802941697678\n",
      "RF3: 0.48467127414495836\n",
      "XG1: 0.45175438596491235\n",
      "XG2: 0.4736842105263158\n",
      "XG3: 0.4736842105263158\n"
     ]
    }
   ],
   "source": [
    "score_rf_1 = []\n",
    "score_rf_2 = []\n",
    "score_rf_3 = []\n",
    "score_xg_1 = []\n",
    "score_xg_2 = []\n",
    "score_xg_3 = []\n",
    "i = 100\n",
    "rf_model_1 = RandomForestClassifier()\n",
    "rf_model_2 = RandomForestClassifier()\n",
    "rf_model_3 = RandomForestClassifier()\n",
    "xgb_model_1 = xgb.XGBClassifier(seed=82)\n",
    "xgb_model_2 = xgb.XGBClassifier(seed=82)\n",
    "xgb_model_3 = xgb.XGBClassifier(seed=82)\n",
    "for i in range(1, i):\n",
    "    X_train_1, X_test_1, y_train_1, y_test_1 = train_test_split(X_1, y, test_size=0.2, random_state=42)\n",
    "    X_train_2, X_test_2, y_train_2, y_test_2 = train_test_split(X_2, y, test_size=0.2, random_state=42)\n",
    "    X_train_3, X_test_3, y_train_3, y_test_3 = train_test_split(X_3, y, test_size=0.2, random_state=42)\n",
    "    rf_model_1.fit(X_train_1, y_train_1)\n",
    "    rf_model_2.fit(X_train_2, y_train_2)\n",
    "    rf_model_3.fit(X_train_3, y_train_3)\n",
    "    xgb_model_1.fit(X_train_1, y_train_1)\n",
    "    xgb_model_2.fit(X_train_2, y_train_2)\n",
    "    xgb_model_3.fit(X_train_3, y_train_3)\n",
    "    score_rf_1.append(rf_model_1.score(X_test_1, y_test_1))\n",
    "    score_rf_2.append(rf_model_2.score(X_test_2, y_test_2))\n",
    "    score_rf_3.append(rf_model_3.score(X_test_3, y_test_3))\n",
    "    score_xg_1.append(xgb_model_1.score(X_test_1, y_test_1))\n",
    "    score_xg_2.append(xgb_model_2.score(X_test_2, y_test_2))\n",
    "    score_xg_3.append(xgb_model_3.score(X_test_3, y_test_3))\n",
    "print('RF1:', np.mean(score_rf_1))\n",
    "print('RF2:',np.mean(score_rf_2))\n",
    "print('RF3:',np.mean(score_rf_3))\n",
    "print('XG1:',np.mean(score_xg_1))\n",
    "print('XG2:',np.mean(score_xg_2))\n",
    "print('XG3:',np.mean(score_xg_3))"
   ],
   "metadata": {
    "collapsed": false,
    "pycharm": {
     "name": "#%%\n"
    }
   }
  },
  {
   "cell_type": "code",
   "execution_count": 83,
   "outputs": [
    {
     "name": "stdout",
     "output_type": "stream",
     "text": [
      "{'bootstrap': True, 'ccp_alpha': 0.0, 'class_weight': None, 'criterion': 'gini', 'max_depth': None, 'max_features': 'auto', 'max_leaf_nodes': None, 'max_samples': None, 'min_impurity_decrease': 0.0, 'min_samples_leaf': 1, 'min_samples_split': 2, 'min_weight_fraction_leaf': 0.0, 'n_estimators': 100, 'n_jobs': None, 'oob_score': False, 'random_state': None, 'verbose': 0, 'warm_start': False}\n"
     ]
    }
   ],
   "source": [
    "print(rf_model_3.get_params())"
   ],
   "metadata": {
    "collapsed": false,
    "pycharm": {
     "name": "#%%\n"
    }
   }
  },
  {
   "cell_type": "code",
   "execution_count": 82,
   "outputs": [
    {
     "name": "stdout",
     "output_type": "stream",
     "text": [
      "{'n_estimators': [200, 400, 600, 800, 1000, 1200, 1400, 1600, 1800, 2000], 'max_features': ['auto', 'sqrt'], 'max_depth': [10, 20, 30, 40, 50, 60, 70, 80, 90, 100, 110, None], 'min_samples_split': [2, 5, 10], 'min_samples_leaf': [1, 2, 4], 'bootstrap': [True, False]}\n"
     ]
    }
   ],
   "source": [
    "from sklearn.model_selection import RandomizedSearchCV\n",
    "# Number of trees in random forest\n",
    "n_estimators = [int(x) for x in np.linspace(start = 200, stop = 2000, num = 10)]\n",
    "# Number of features to consider at every split\n",
    "max_features = ['auto', 'sqrt']\n",
    "# Maximum number of levels in tree\n",
    "max_depth = [int(x) for x in np.linspace(10, 110, num = 11)]\n",
    "max_depth.append(None)\n",
    "# Minimum number of samples required to split a node\n",
    "min_samples_split = [2, 5, 10]\n",
    "# Minimum number of samples required at each leaf node\n",
    "min_samples_leaf = [1, 2, 4]\n",
    "# Method of selecting samples for training each tree\n",
    "bootstrap = [True, False]\n",
    "# Create the random grid\n",
    "random_grid = {'n_estimators': n_estimators,\n",
    "               'max_features': max_features,\n",
    "               'max_depth': max_depth,\n",
    "               'min_samples_split': min_samples_split,\n",
    "               'min_samples_leaf': min_samples_leaf,\n",
    "               'bootstrap': bootstrap}\n",
    "print(random_grid)"
   ],
   "metadata": {
    "collapsed": false,
    "pycharm": {
     "name": "#%%\n"
    }
   }
  },
  {
   "cell_type": "code",
   "execution_count": 85,
   "outputs": [
    {
     "name": "stdout",
     "output_type": "stream",
     "text": [
      "Fitting 3 folds for each of 100 candidates, totalling 300 fits\n"
     ]
    },
    {
     "data": {
      "text/plain": "RandomizedSearchCV(cv=3, estimator=RandomForestRegressor(), n_iter=100,\n                   n_jobs=-1,\n                   param_distributions={'bootstrap': [True, False],\n                                        'max_depth': [10, 20, 30, 40, 50, 60,\n                                                      70, 80, 90, 100, 110,\n                                                      None],\n                                        'max_features': ['auto', 'sqrt'],\n                                        'min_samples_leaf': [1, 2, 4],\n                                        'min_samples_split': [2, 5, 10],\n                                        'n_estimators': [200, 400, 600, 800,\n                                                         1000, 1200, 1400, 1600,\n                                                         1800, 2000]},\n                   random_state=42, verbose=2)"
     },
     "execution_count": 85,
     "metadata": {},
     "output_type": "execute_result"
    }
   ],
   "source": [
    "# Use the random grid to search for best hyperparameters\n",
    "# First create the base model to tune\n",
    "rf = RandomForestRegressor()\n",
    "# Random search of parameters, using 3 fold cross validation,\n",
    "# search across 100 different combinations, and use all available cores\n",
    "rf_random = RandomizedSearchCV(estimator = rf, param_distributions = random_grid, n_iter = 100, cv = 3, verbose=2, random_state=42, n_jobs = -1)\n",
    "# Fit the random search model\n",
    "rf_random.fit(X_train_3, y_train_3)"
   ],
   "metadata": {
    "collapsed": false,
    "pycharm": {
     "name": "#%%\n"
    }
   }
  },
  {
   "cell_type": "code",
   "execution_count": 86,
   "outputs": [
    {
     "data": {
      "text/plain": "{'n_estimators': 400,\n 'min_samples_split': 2,\n 'min_samples_leaf': 4,\n 'max_features': 'sqrt',\n 'max_depth': 10,\n 'bootstrap': True}"
     },
     "execution_count": 86,
     "metadata": {},
     "output_type": "execute_result"
    }
   ],
   "source": [
    "rf_random.best_params_"
   ],
   "metadata": {
    "collapsed": false,
    "pycharm": {
     "name": "#%%\n"
    }
   }
  },
  {
   "cell_type": "code",
   "execution_count": 87,
   "outputs": [
    {
     "name": "stdout",
     "output_type": "stream",
     "text": [
      "Model Performance\n",
      "Average Error: 0.6890 degrees.\n",
      "Accuracy = nan%.\n",
      "Model Performance\n",
      "Average Error: 0.6637 degrees.\n",
      "Accuracy = -inf%.\n",
      "Improvement of nan%.\n"
     ]
    },
    {
     "name": "stderr",
     "output_type": "stream",
     "text": [
      "C:\\Users\\giuli\\AppData\\Local\\Temp\\ipykernel_20928\\1957789784.py:4: RuntimeWarning: divide by zero encountered in true_divide\n",
      "  mape = 100 * np.mean(errors / test_labels)\n",
      "C:\\Users\\giuli\\AppData\\Local\\Temp\\ipykernel_20928\\1957789784.py:4: RuntimeWarning: invalid value encountered in true_divide\n",
      "  mape = 100 * np.mean(errors / test_labels)\n",
      "C:\\Users\\giuli\\AppData\\Local\\Temp\\ipykernel_20928\\1957789784.py:4: RuntimeWarning: divide by zero encountered in true_divide\n",
      "  mape = 100 * np.mean(errors / test_labels)\n"
     ]
    }
   ],
   "source": [
    "def evaluate(model, test_features, test_labels):\n",
    "    predictions = model.predict(test_features)\n",
    "    errors = abs(predictions - test_labels)\n",
    "    mape = 100 * np.mean(errors / test_labels)\n",
    "    accuracy = 100 - mape\n",
    "    print('Model Performance')\n",
    "    print('Average Error: {:0.4f} degrees.'.format(np.mean(errors)))\n",
    "    print('Accuracy = {:0.2f}%.'.format(accuracy))\n",
    "\n",
    "    return accuracy\n",
    "base_model = RandomForestRegressor(n_estimators = 10, random_state = 42)\n",
    "base_model.fit(X_train_3, y_train_3)\n",
    "base_accuracy = evaluate(base_model, X_test_3, y_test_3)\n",
    "\n",
    "best_random = rf_random.best_estimator_\n",
    "random_accuracy = evaluate(best_random, X_test_3, y_test_3)\n",
    "\n",
    "print('Improvement of {:0.2f}%.'.format( 100 * (random_accuracy - base_accuracy) / base_accuracy))"
   ],
   "metadata": {
    "collapsed": false,
    "pycharm": {
     "name": "#%%\n"
    }
   }
  },
  {
   "cell_type": "code",
   "execution_count": null,
   "outputs": [],
   "source": [],
   "metadata": {
    "collapsed": false,
    "pycharm": {
     "name": "#%%\n"
    }
   }
  }
 ],
 "metadata": {
  "kernelspec": {
   "display_name": "Python 3",
   "language": "python",
   "name": "python3"
  },
  "language_info": {
   "codemirror_mode": {
    "name": "ipython",
    "version": 2
   },
   "file_extension": ".py",
   "mimetype": "text/x-python",
   "name": "python",
   "nbconvert_exporter": "python",
   "pygments_lexer": "ipython2",
   "version": "2.7.6"
  }
 },
 "nbformat": 4,
 "nbformat_minor": 0
}