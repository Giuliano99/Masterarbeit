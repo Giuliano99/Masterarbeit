{
 "cells": [
  {
   "cell_type": "code",
   "execution_count": 46,
   "metadata": {},
   "outputs": [],
   "source": [
    "#notebook for importing and preparing data for further use\n",
    "#import necessary packages\n",
    "import pandas as pd"
   ]
  },
  {
   "cell_type": "code",
   "execution_count": 47,
   "metadata": {
    "pycharm": {
     "name": "#%%\n"
    }
   },
   "outputs": [],
   "source": [
    "#import Data\n",
    "\n",
    "#import PL data\n",
    "PL_19_20 = pd.read_csv('Data/2019-20/Fixtures/E_19_20.csv')\n",
    "PL_20_21 = pd.read_csv('Data/2020-21/Fixtures/E_20_21.csv')\n",
    "PL_21_22 = pd.read_csv('Data/2021-22/Fixtures/E_21_22.csv')\n",
    "\n",
    "#import xG for PL\n",
    "#PL_19_20_xG = pd.read_csv('Data/2019-20/Fixtures/E_19_20_xG.csv')\n",
    "#PL_20_21_xG = pd.read_csv('Data/2020-21/Fixtures/E_20_21_xG.csv')\n",
    "#PL_21_22_xG = pd.read_csv('Data/2021-22/Fixtures/E_21_22_xG.csv')\n"
   ]
  },
  {
   "cell_type": "code",
   "execution_count": 48,
   "outputs": [],
   "source": [
    "#Merge data\n",
    "PL_total = pd.concat([PL_19_20, PL_20_21, PL_21_22])\n",
    "PL_total_xG = pd.concat([PL_19_20_xG, PL_20_21_xG, PL_21_22_xG])\n",
    "\n",
    "#remove unnecessary columns\n",
    "not_relevant_columns = ['BbOU','BbMx>2.5','BbAv>2.5','BbMx<2.5','B365>2.5','B365<2.5','P>2.5','P<2.5','Max>2.5','Max<2.5','Avg>2.5','Avg<2.5','BbAH','BbAHh','AHh','BbMxAHH','BbAvAHH','BbMxAHA','BbAvAHA','B365AHH','B365AHA','PAHH','PAHA','MaxAHH','MaxAHA','AvgAHH','AvgAHA','Time','MaxH','MaxD','MaxA','AvgH','AvgD','AvgA','B365CH','B365CD','B365CA','BWCH','BWCD','BWCA','IWCH','IWCD','IWCA','WHCH','WHCD','WHCA','VCCH','VCCD','VCCA','MaxCH','MaxCD','MaxCA','AvgCH','AvgCA','AvgCD','B365C>2.5','B365C<2.5','PC>2.5','PC<2.5','AHCh','B365CAHH','B365CAHA','PCAHH','PCAHA','MaxCAHH','MaxCAHA','AvgCAHH','AvgCAHA','BbAv<2.5','MaxC>2.5','MaxC<2.5','AvgC>2.5','AvgC<2.5']\n",
    "\n",
    "#align team names\n",
    "PL_19_20.replace(['Leeds', 'Leicester', 'Man City', 'Man United', 'Newcastle', 'Norwich','Sheffield United'], ['Leeds United', 'Leicester City','Manchester City', 'Manchester Utd', 'Newcastle Utd','Norwich City' ,'Sheffield Utd'], inplace=True)\n",
    "PL_20_21.replace(['Leeds', 'Leicester', 'Man City', 'Man United', 'Newcastle', 'Norwich','Sheffield United'], ['Leeds United', 'Leicester City','Manchester City', 'Manchester Utd', 'Newcastle Utd','Norwich City' ,'Sheffield Utd'], inplace=True)\n",
    "PL_21_22.replace(['Leeds', 'Leicester', 'Man City', 'Man United', 'Newcastle', 'Norwich','Sheffield United'], ['Leeds United', 'Leicester City','Manchester City', 'Manchester Utd', 'Newcastle Utd','Norwich City' ,'Sheffield Utd'], inplace=True)\n",
    "\n",
    "\n",
    "#reset index\n",
    "#PL_total.drop( axis= 1, labels=not_relevant_columns, inplace=True)\n",
    "#PL_total.reset_index(inplace=False, drop=True)\n",
    "#PL_total['Date'] = pd.to_datetime(PL_total['Date'], dayfirst=True)\n",
    "#update team names for merging\n",
    "#PL_total.replace(['Man City', 'Man United', 'Cardiff', 'Leeds', 'Leicester','Newcastle', 'Norwich','Sheffield United'], ['Manchester City', 'Manchester Utd', 'Cardiff City', 'Leeds United', 'Leicester City','Newcastle Utd','Norwich City','Sheffield Utd'], inplace=True)\n",
    "\n",
    "#PL_20_21.replace(['Brighton', 'Leeds', 'Leicester', 'Man City', 'Man United', 'Newcastle', 'Sheffield Utd','Spurs','West Brom','West Ham', 'Wolves'], ['Brighton & Hove Albion', 'Leeds United', 'Leicester City','Manchester City', 'Manchester Utd', 'Newcastle United', 'Sheffield United','Tottenham Hotspur', 'West Bromwich Albion', 'West Ham United','Wolverhampton Wanderers'], inplace=True)\n",
    "\n"
   ],
   "metadata": {
    "collapsed": false,
    "pycharm": {
     "name": "#%%\n"
    }
   }
  },
  {
   "cell_type": "code",
   "execution_count": 49,
   "outputs": [],
   "source": [
    "#Load Fifa Ratings\n",
    "teams_fifa_20 = pd.read_excel('Data/2019-20/Fixtures/FIFA_2019_Team_Ratings.xlsx')\n",
    "teams_fifa_21 = pd.read_excel('Data/2020-21/Fixtures/FIFA_2020_Team_Ratings.xlsx')\n",
    "teams_fifa_22 = pd.read_excel('Data/2021-22/Fixtures/FIFA_2021_Team_Ratings.xlsx')\n",
    "\n",
    "#prepare data for merge\n",
    "teams_fifa_20['HomeTeam'] = teams_fifa_20['Squad']\n",
    "teams_fifa_20['AwayTeam'] = teams_fifa_20['Squad']\n",
    "teams_fifa_21['HomeTeam'] = teams_fifa_21['Squad']\n",
    "teams_fifa_21['AwayTeam'] = teams_fifa_21['Squad']\n",
    "teams_fifa_22['HomeTeam'] = teams_fifa_22['Squad']\n",
    "teams_fifa_22['AwayTeam'] = teams_fifa_22['Squad']\n",
    "\n",
    "\n",
    "teams_fifa_20['Rating_Home'] = teams_fifa_20['Ovr']\n",
    "teams_fifa_20['Rating_Away'] = teams_fifa_20['Ovr']\n",
    "teams_fifa_21['Rating_Home'] = teams_fifa_21['Ovr']\n",
    "teams_fifa_21['Rating_Away'] = teams_fifa_21['Ovr']\n",
    "teams_fifa_22['Rating_Home'] = teams_fifa_22['Ovr']\n",
    "teams_fifa_22['Rating_Away'] = teams_fifa_22['Ovr']\n",
    "\n",
    "\n"
   ],
   "metadata": {
    "collapsed": false,
    "pycharm": {
     "name": "#%%\n"
    }
   }
  },
  {
   "cell_type": "code",
   "execution_count": 50,
   "outputs": [],
   "source": [
    "#transform FIFA Ratings for merge\n",
    "fifa_rating_home_19_20 = pd.DataFrame(teams_fifa_20, columns=['HomeTeam', 'Rating_Home'])\n",
    "fifa_rating_away_19_20 = pd.DataFrame(teams_fifa_20, columns=['AwayTeam', 'Rating_Away'])\n",
    "fifa_rating_home_20_21 = pd.DataFrame(teams_fifa_21, columns=['HomeTeam', 'Rating_Home'])\n",
    "fifa_rating_away_20_21 = pd.DataFrame(teams_fifa_21, columns=['AwayTeam', 'Rating_Away'])\n",
    "fifa_rating_home_21_22 = pd.DataFrame(teams_fifa_22, columns=['HomeTeam', 'Rating_Home'])\n",
    "fifa_rating_away_21_22 = pd.DataFrame(teams_fifa_22, columns=['AwayTeam', 'Rating_Away'])"
   ],
   "metadata": {
    "collapsed": false,
    "pycharm": {
     "name": "#%%\n"
    }
   }
  },
  {
   "cell_type": "code",
   "execution_count": 51,
   "outputs": [],
   "source": [
    "#merge dataframes\n",
    "PL_19_20['Date'] = pd.to_datetime(PL_19_20['Date'], dayfirst=True)\n",
    "PL_20_21['Date'] = pd.to_datetime(PL_20_21['Date'], dayfirst=True)\n",
    "PL_21_22['Date'] = pd.to_datetime(PL_21_22['Date'], dayfirst=True)\n",
    "\n",
    "PL_20_team_ratings = pd.merge(PL_19_20, fifa_rating_home_19_20, on='HomeTeam', how='left')\n",
    "PL_20_team_ratings = pd.merge(PL_20_team_ratings, fifa_rating_away_19_20, on='AwayTeam', how='left')\n",
    "PL_21_team_ratings = pd.merge(PL_20_21, fifa_rating_home_20_21, on='HomeTeam', how='left')\n",
    "PL_21_team_ratings = pd.merge(PL_21_team_ratings, fifa_rating_away_20_21, on='AwayTeam', how='left')\n",
    "PL_22_team_ratings = pd.merge(PL_21_22, fifa_rating_home_21_22, on='HomeTeam', how='left')\n",
    "PL_22_team_ratings = pd.merge(PL_22_team_ratings, fifa_rating_away_21_22, on='AwayTeam', how='left')\n",
    "\n",
    "PL_20_team_ratings['Rating difference'] = PL_20_team_ratings['Rating_Home']-PL_20_team_ratings['Rating_Away']\n",
    "PL_21_team_ratings['Rating difference'] = PL_21_team_ratings['Rating_Home']-PL_21_team_ratings['Rating_Away']\n",
    "PL_22_team_ratings['Rating difference'] = PL_22_team_ratings['Rating_Home']-PL_22_team_ratings['Rating_Away']\n",
    "\n"
   ],
   "metadata": {
    "collapsed": false,
    "pycharm": {
     "name": "#%%\n"
    }
   }
  },
  {
   "cell_type": "code",
   "execution_count": 52,
   "outputs": [],
   "source": [
    "#export Data to csv\n",
    "PL_20_team_ratings.to_csv('Data/2019-20/Fixtures/PL19_20_fixtures.csv',index=False)\n",
    "PL_21_team_ratings.to_csv('Data/2020-21/Fixtures/PL20_21_fixtures.csv',index=False)\n",
    "PL_22_team_ratings.to_csv('Data/2021-22/Fixtures/PL21_22_fixtures.csv',index=False)"
   ],
   "metadata": {
    "collapsed": false,
    "pycharm": {
     "name": "#%%\n"
    }
   }
  }
 ],
 "metadata": {
  "kernelspec": {
   "display_name": "Python 3 (ipykernel)",
   "language": "python",
   "name": "python3"
  },
  "language_info": {
   "codemirror_mode": {
    "name": "ipython",
    "version": 3
   },
   "file_extension": ".py",
   "mimetype": "text/x-python",
   "name": "python",
   "nbconvert_exporter": "python",
   "pygments_lexer": "ipython3",
   "version": "3.10.0"
  }
 },
 "nbformat": 4,
 "nbformat_minor": 1
}