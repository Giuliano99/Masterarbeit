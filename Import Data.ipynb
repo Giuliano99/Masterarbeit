{
 "cells": [
  {
   "cell_type": "code",
   "execution_count": 2,
   "metadata": {},
   "outputs": [],
   "source": [
    "#import necessary packages\n",
    "import pandas as pd"
   ]
  },
  {
   "cell_type": "code",
   "execution_count": 4,
   "metadata": {
    "pycharm": {
     "name": "#%%\n"
    }
   },
   "outputs": [],
   "source": [
    "#import Data\n",
    "\n",
    "#import PL data\n",
    "PL_19_20 = pd.read_csv('Data/2019-20/Fixtures/E_19_20.csv')\n",
    "PL_20_21 = pd.read_csv('Data/2020-21/Fixtures/E_20_21.csv')\n",
    "PL_21_22 = pd.read_csv('Data/2021-22/Fixtures/E_21_22.csv')\n",
    "\n",
    "#import xG for PL\n",
    "PL_19_20_xG = pd.read_csv('Data/2019-20/Fixtures/E_19_20_xG.csv')\n",
    "PL_20_21_xG = pd.read_csv('Data/2020-21/Fixtures/E_20_21_xG.csv')\n",
    "PL_21_22_xG = pd.read_csv('Data/2021-22/Fixtures/E_21_22_xG.csv')"
   ]
  },
  {
   "cell_type": "code",
   "execution_count": 66,
   "outputs": [
    {
     "data": {
      "text/plain": "     Div     Date_x        HomeTeam         AwayTeam  FTHG  FTAG FTR  HTHG  \\\n0     E0 2018-08-10  Manchester Utd   Leicester City     2     1   H     1   \n1     E0 2018-08-11     Bournemouth     Cardiff City     2     0   H     1   \n2     E0 2018-08-11          Fulham   Crystal Palace     0     2   A     0   \n3     E0 2018-08-11    Huddersfield          Chelsea     0     3   A     0   \n4     E0 2018-08-11   Newcastle Utd        Tottenham     1     2   A     1   \n...   ..        ...             ...              ...   ...   ...  ..   ...   \n1418  E0 2022-03-13        West Ham      Aston Villa     2     1   H     0   \n1419  E0 2022-03-13         Arsenal   Leicester City     2     0   H     1   \n1420  E0 2022-03-14  Crystal Palace  Manchester City     0     0   D     0   \n1421  E0 2022-03-16        Brighton        Tottenham     0     2   A     0   \n1422  E0 2022-03-16         Arsenal        Liverpool     0     2   A     0   \n\n      HTAG HTR  ...           Time            Home   xG  Score  xG.1  \\\n0        0   H  ...  20:00 (21:00)  Manchester Utd  1.7    2–1   1.0   \n1        0   H  ...  15:00 (16:00)     Bournemouth  2.1    2–0   1.2   \n2        1   A  ...  15:00 (16:00)          Fulham  0.6    0–2   1.0   \n3        2   A  ...  15:00 (16:00)    Huddersfield  0.3    0–3   2.0   \n4        2   A  ...  12:30 (13:30)   Newcastle Utd  0.9    1–2   2.0   \n...    ...  ..  ...            ...             ...  ...    ...   ...   \n1418     0   D  ...  14:00 (15:00)        West Ham  1.2    2–1   1.1   \n1419     0   H  ...  16:30 (17:30)         Arsenal  2.3    2–0   0.3   \n1420     0   D  ...  20:00 (21:00)  Crystal Palace  0.8    0–0   2.3   \n1421     1   A  ...  19:30 (20:30)        Brighton  0.7    0–2   2.4   \n1422     0   D  ...  20:15 (21:15)         Arsenal  0.5    0–2   0.8   \n\n                 Away  Attendance                                   Venue  \\\n0      Leicester City     74439.0                            Old Trafford   \n1        Cardiff City     10353.0                        Vitality Stadium   \n2      Crystal Palace     24821.0                          Craven Cottage   \n3             Chelsea     24121.0                The John Smith's Stadium   \n4           Tottenham     51749.0                         St. James' Park   \n...               ...         ...                                     ...   \n1418      Aston Villa     59957.0                          London Stadium   \n1419   Leicester City     60111.0                        Emirates Stadium   \n1420  Manchester City     25309.0                           Selhurst Park   \n1421        Tottenham         NaN  The American Express Community Stadium   \n1422        Liverpool     59968.0                        Emirates Stadium   \n\n            Referee_y  Match Report  \n0      Andre Marriner  Match Report  \n1        Kevin Friend  Match Report  \n2           Mike Dean  Match Report  \n3      Chris Kavanagh  Match Report  \n4     Martin Atkinson  Match Report  \n...               ...           ...  \n1418   Jarred Gillett  Match Report  \n1419   Anthony Taylor  Match Report  \n1420  Martin Atkinson  Match Report  \n1421     Robert Jones  Match Report  \n1422   Andre Marriner  Match Report  \n\n[1423 rows x 65 columns]",
      "text/html": "<div>\n<style scoped>\n    .dataframe tbody tr th:only-of-type {\n        vertical-align: middle;\n    }\n\n    .dataframe tbody tr th {\n        vertical-align: top;\n    }\n\n    .dataframe thead th {\n        text-align: right;\n    }\n</style>\n<table border=\"1\" class=\"dataframe\">\n  <thead>\n    <tr style=\"text-align: right;\">\n      <th></th>\n      <th>Div</th>\n      <th>Date_x</th>\n      <th>HomeTeam</th>\n      <th>AwayTeam</th>\n      <th>FTHG</th>\n      <th>FTAG</th>\n      <th>FTR</th>\n      <th>HTHG</th>\n      <th>HTAG</th>\n      <th>HTR</th>\n      <th>...</th>\n      <th>Time</th>\n      <th>Home</th>\n      <th>xG</th>\n      <th>Score</th>\n      <th>xG.1</th>\n      <th>Away</th>\n      <th>Attendance</th>\n      <th>Venue</th>\n      <th>Referee_y</th>\n      <th>Match Report</th>\n    </tr>\n  </thead>\n  <tbody>\n    <tr>\n      <th>0</th>\n      <td>E0</td>\n      <td>2018-08-10</td>\n      <td>Manchester Utd</td>\n      <td>Leicester City</td>\n      <td>2</td>\n      <td>1</td>\n      <td>H</td>\n      <td>1</td>\n      <td>0</td>\n      <td>H</td>\n      <td>...</td>\n      <td>20:00 (21:00)</td>\n      <td>Manchester Utd</td>\n      <td>1.7</td>\n      <td>2–1</td>\n      <td>1.0</td>\n      <td>Leicester City</td>\n      <td>74439.0</td>\n      <td>Old Trafford</td>\n      <td>Andre Marriner</td>\n      <td>Match Report</td>\n    </tr>\n    <tr>\n      <th>1</th>\n      <td>E0</td>\n      <td>2018-08-11</td>\n      <td>Bournemouth</td>\n      <td>Cardiff City</td>\n      <td>2</td>\n      <td>0</td>\n      <td>H</td>\n      <td>1</td>\n      <td>0</td>\n      <td>H</td>\n      <td>...</td>\n      <td>15:00 (16:00)</td>\n      <td>Bournemouth</td>\n      <td>2.1</td>\n      <td>2–0</td>\n      <td>1.2</td>\n      <td>Cardiff City</td>\n      <td>10353.0</td>\n      <td>Vitality Stadium</td>\n      <td>Kevin Friend</td>\n      <td>Match Report</td>\n    </tr>\n    <tr>\n      <th>2</th>\n      <td>E0</td>\n      <td>2018-08-11</td>\n      <td>Fulham</td>\n      <td>Crystal Palace</td>\n      <td>0</td>\n      <td>2</td>\n      <td>A</td>\n      <td>0</td>\n      <td>1</td>\n      <td>A</td>\n      <td>...</td>\n      <td>15:00 (16:00)</td>\n      <td>Fulham</td>\n      <td>0.6</td>\n      <td>0–2</td>\n      <td>1.0</td>\n      <td>Crystal Palace</td>\n      <td>24821.0</td>\n      <td>Craven Cottage</td>\n      <td>Mike Dean</td>\n      <td>Match Report</td>\n    </tr>\n    <tr>\n      <th>3</th>\n      <td>E0</td>\n      <td>2018-08-11</td>\n      <td>Huddersfield</td>\n      <td>Chelsea</td>\n      <td>0</td>\n      <td>3</td>\n      <td>A</td>\n      <td>0</td>\n      <td>2</td>\n      <td>A</td>\n      <td>...</td>\n      <td>15:00 (16:00)</td>\n      <td>Huddersfield</td>\n      <td>0.3</td>\n      <td>0–3</td>\n      <td>2.0</td>\n      <td>Chelsea</td>\n      <td>24121.0</td>\n      <td>The John Smith's Stadium</td>\n      <td>Chris Kavanagh</td>\n      <td>Match Report</td>\n    </tr>\n    <tr>\n      <th>4</th>\n      <td>E0</td>\n      <td>2018-08-11</td>\n      <td>Newcastle Utd</td>\n      <td>Tottenham</td>\n      <td>1</td>\n      <td>2</td>\n      <td>A</td>\n      <td>1</td>\n      <td>2</td>\n      <td>A</td>\n      <td>...</td>\n      <td>12:30 (13:30)</td>\n      <td>Newcastle Utd</td>\n      <td>0.9</td>\n      <td>1–2</td>\n      <td>2.0</td>\n      <td>Tottenham</td>\n      <td>51749.0</td>\n      <td>St. James' Park</td>\n      <td>Martin Atkinson</td>\n      <td>Match Report</td>\n    </tr>\n    <tr>\n      <th>...</th>\n      <td>...</td>\n      <td>...</td>\n      <td>...</td>\n      <td>...</td>\n      <td>...</td>\n      <td>...</td>\n      <td>...</td>\n      <td>...</td>\n      <td>...</td>\n      <td>...</td>\n      <td>...</td>\n      <td>...</td>\n      <td>...</td>\n      <td>...</td>\n      <td>...</td>\n      <td>...</td>\n      <td>...</td>\n      <td>...</td>\n      <td>...</td>\n      <td>...</td>\n      <td>...</td>\n    </tr>\n    <tr>\n      <th>1418</th>\n      <td>E0</td>\n      <td>2022-03-13</td>\n      <td>West Ham</td>\n      <td>Aston Villa</td>\n      <td>2</td>\n      <td>1</td>\n      <td>H</td>\n      <td>0</td>\n      <td>0</td>\n      <td>D</td>\n      <td>...</td>\n      <td>14:00 (15:00)</td>\n      <td>West Ham</td>\n      <td>1.2</td>\n      <td>2–1</td>\n      <td>1.1</td>\n      <td>Aston Villa</td>\n      <td>59957.0</td>\n      <td>London Stadium</td>\n      <td>Jarred Gillett</td>\n      <td>Match Report</td>\n    </tr>\n    <tr>\n      <th>1419</th>\n      <td>E0</td>\n      <td>2022-03-13</td>\n      <td>Arsenal</td>\n      <td>Leicester City</td>\n      <td>2</td>\n      <td>0</td>\n      <td>H</td>\n      <td>1</td>\n      <td>0</td>\n      <td>H</td>\n      <td>...</td>\n      <td>16:30 (17:30)</td>\n      <td>Arsenal</td>\n      <td>2.3</td>\n      <td>2–0</td>\n      <td>0.3</td>\n      <td>Leicester City</td>\n      <td>60111.0</td>\n      <td>Emirates Stadium</td>\n      <td>Anthony Taylor</td>\n      <td>Match Report</td>\n    </tr>\n    <tr>\n      <th>1420</th>\n      <td>E0</td>\n      <td>2022-03-14</td>\n      <td>Crystal Palace</td>\n      <td>Manchester City</td>\n      <td>0</td>\n      <td>0</td>\n      <td>D</td>\n      <td>0</td>\n      <td>0</td>\n      <td>D</td>\n      <td>...</td>\n      <td>20:00 (21:00)</td>\n      <td>Crystal Palace</td>\n      <td>0.8</td>\n      <td>0–0</td>\n      <td>2.3</td>\n      <td>Manchester City</td>\n      <td>25309.0</td>\n      <td>Selhurst Park</td>\n      <td>Martin Atkinson</td>\n      <td>Match Report</td>\n    </tr>\n    <tr>\n      <th>1421</th>\n      <td>E0</td>\n      <td>2022-03-16</td>\n      <td>Brighton</td>\n      <td>Tottenham</td>\n      <td>0</td>\n      <td>2</td>\n      <td>A</td>\n      <td>0</td>\n      <td>1</td>\n      <td>A</td>\n      <td>...</td>\n      <td>19:30 (20:30)</td>\n      <td>Brighton</td>\n      <td>0.7</td>\n      <td>0–2</td>\n      <td>2.4</td>\n      <td>Tottenham</td>\n      <td>NaN</td>\n      <td>The American Express Community Stadium</td>\n      <td>Robert Jones</td>\n      <td>Match Report</td>\n    </tr>\n    <tr>\n      <th>1422</th>\n      <td>E0</td>\n      <td>2022-03-16</td>\n      <td>Arsenal</td>\n      <td>Liverpool</td>\n      <td>0</td>\n      <td>2</td>\n      <td>A</td>\n      <td>0</td>\n      <td>0</td>\n      <td>D</td>\n      <td>...</td>\n      <td>20:15 (21:15)</td>\n      <td>Arsenal</td>\n      <td>0.5</td>\n      <td>0–2</td>\n      <td>0.8</td>\n      <td>Liverpool</td>\n      <td>59968.0</td>\n      <td>Emirates Stadium</td>\n      <td>Andre Marriner</td>\n      <td>Match Report</td>\n    </tr>\n  </tbody>\n</table>\n<p>1423 rows × 65 columns</p>\n</div>"
     },
     "execution_count": 66,
     "metadata": {},
     "output_type": "execute_result"
    }
   ],
   "source": [
    "#Merge data\n",
    "PL_total = pd.concat([PL_19_20, PL_20_21, PL_21_22])\n",
    "PL_total_xG = pd.concat([PL_19_20_xG, PL_20_21_xG, PL_21_22_xG])\n",
    "\n",
    "#remove unnecessary columns\n",
    "not_relevant_columns = ['BbOU','BbMx>2.5','BbAv>2.5','BbMx<2.5','B365>2.5','B365<2.5','P>2.5','P<2.5','Max>2.5','Max<2.5','Avg>2.5','Avg<2.5','BbAH','BbAHh','AHh','BbMxAHH','BbAvAHH','BbMxAHA','BbAvAHA','B365AHH','B365AHA','PAHH','PAHA','MaxAHH','MaxAHA','AvgAHH','AvgAHA','Time','MaxH','MaxD','MaxA','AvgH','AvgD','AvgA','B365CH','B365CD','B365CA','BWCH','BWCD','BWCA','IWCH','IWCD','IWCA','WHCH','WHCD','WHCA','VCCH','VCCD','VCCA','MaxCH','MaxCD','MaxCA','AvgCH','AvgCA','AvgCD','B365C>2.5','B365C<2.5','PC>2.5','PC<2.5','AHCh','B365CAHH','B365CAHA','PCAHH','PCAHA','MaxCAHH','MaxCAHA','AvgCAHH','AvgCAHA','BbAv<2.5','MaxC>2.5','MaxC<2.5','AvgC>2.5','AvgC<2.5']\n",
    "#reset index\n",
    "#PL_total.drop( axis= 1, labels=not_relevant_columns, inplace=True)\n",
    "#PL_total.reset_index(inplace=False, drop=True)\n",
    "#PL_total['Date'] = pd.to_datetime(PL_total['Date'], dayfirst=True)\n",
    "#update team names for merging\n",
    "#PL_total.replace(['Man City', 'Man United', 'Cardiff', 'Leeds', 'Leicester','Newcastle', 'Norwich','Sheffield United'], ['Manchester City', 'Manchester Utd', 'Cardiff City', 'Leeds United', 'Leicester City','Newcastle Utd','Norwich City','Sheffield Utd'], inplace=True)\n",
    "\n",
    "PL_20_21.replace(['Brighton', 'Leeds', 'Leicester', 'Man City', 'Man United', 'Newcastle', 'Sheffield Utd','Spurs','West Brom','West Ham', 'Wolves'], ['Brighton & Hove Albion', 'Leeds United', 'Leicester City','Manchester City', 'Manchester Utd', 'Newcastle United', 'Sheffield United','Tottenham Hotspur', 'West Bromwich Albion', 'West Ham United','Wolverhampton Wanderers'], inplace=True)\n",
    "\n",
    "#remove nan values and reset index\n",
    "PL_total_xG.drop(labels='Notes', axis=1, inplace=True)\n",
    "PL_total_xG.dropna(axis=0, inplace=True, how='all')\n",
    "PL_total_xG.reset_index(inplace=True, drop=True)\n",
    "\n",
    "#create ID's for join\n",
    "PL_total['ID'] = PL_total['Date'].astype(str) + PL_total ['HomeTeam'] + PL_total ['AwayTeam']\n",
    "PL_total_xG['ID'] = PL_total_xG['Date'].astype(str) + PL_total_xG ['Home'] + PL_total_xG ['Away']\n",
    "\n",
    "#merge dataframes\n",
    "PL = pd.merge(PL_total, PL_total_xG, on='ID', how='left')\n",
    "\n",
    "PL\n"
   ],
   "metadata": {
    "collapsed": false,
    "pycharm": {
     "name": "#%%\n"
    }
   }
  },
  {
   "cell_type": "code",
   "execution_count": 1,
   "outputs": [
    {
     "ename": "NameError",
     "evalue": "name 'pd' is not defined",
     "output_type": "error",
     "traceback": [
      "\u001B[1;31m---------------------------------------------------------------------------\u001B[0m",
      "\u001B[1;31mNameError\u001B[0m                                 Traceback (most recent call last)",
      "Input \u001B[1;32mIn [1]\u001B[0m, in \u001B[0;36m<cell line: 2>\u001B[1;34m()\u001B[0m\n\u001B[0;32m      1\u001B[0m \u001B[38;5;66;03m#Load Fifa Ratings\u001B[39;00m\n\u001B[1;32m----> 2\u001B[0m teams_fifa_20 \u001B[38;5;241m=\u001B[39m \u001B[43mpd\u001B[49m\u001B[38;5;241m.\u001B[39mread_excel(\u001B[38;5;124m'\u001B[39m\u001B[38;5;124mFIFA_2019_Team_Ratings.xlsx\u001B[39m\u001B[38;5;124m'\u001B[39m)\n\u001B[0;32m      3\u001B[0m teams_fifa_21 \u001B[38;5;241m=\u001B[39m pd\u001B[38;5;241m.\u001B[39mread_excel(\u001B[38;5;124m'\u001B[39m\u001B[38;5;124mFIFA_2020_Team_Ratings.xlsx\u001B[39m\u001B[38;5;124m'\u001B[39m)\n\u001B[0;32m      4\u001B[0m teams_fifa_22 \u001B[38;5;241m=\u001B[39m pd\u001B[38;5;241m.\u001B[39mread_excel(\u001B[38;5;124m'\u001B[39m\u001B[38;5;124mFIFA_2021_Team_Ratings.xlsx\u001B[39m\u001B[38;5;124m'\u001B[39m)\n",
      "\u001B[1;31mNameError\u001B[0m: name 'pd' is not defined"
     ]
    }
   ],
   "source": [
    "#Load Fifa Ratings\n",
    "teams_fifa_20 = pd.read_excel('FIFA_2019_Team_Ratings.xlsx')\n",
    "teams_fifa_21 = pd.read_excel('FIFA_2020_Team_Ratings.xlsx')\n",
    "teams_fifa_22 = pd.read_excel('FIFA_2021_Team_Ratings.xlsx')\n",
    "teams_fifa_21.replace(['Brighton', 'Leeds', 'Leicester', 'Man City', 'Man Utd', 'Newcastle Utd', 'Sheffield Utd','Spurs','West Brom','West Ham', 'Wolves'], ['Brighton & Hove Albion', 'Leeds United', 'Leicester City','Manchester City', 'Manchester United', 'Newcastle United', 'Sheffield United','Tottenham Hotspur', 'West Bromwich Albion', 'West Ham United','Wolverhampton Wanderers'], inplace=True)\n",
    "teams_fifa_21['HomeTeam'] = teams_fifa_20['Squad']\n",
    "teams_fifa_21['AwayTeam'] = teams_fifa_20['Squad']\n",
    "teams_fifa_21['AwayTeam'] = teams_fifa_21['Squad']\n",
    "teams_fifa_21['AwayTeam'] = teams_fifa_21['Squad']\n",
    "teams_fifa_21['AwayTeam'] = teams_fifa_22['Squad']\n",
    "teams_fifa_21['AwayTeam'] = teams_fifa_22['Squad']\n",
    "\n",
    "\n",
    "teams_fifa_21['Rating_Home'] = teams_fifa_20['Ovr']\n",
    "teams_fifa_21['Rating_Away'] = teams_fifa_20['Ovr']\n",
    "teams_fifa_21['Rating_Away'] = teams_fifa_21['Ovr']\n",
    "teams_fifa_21['Rating_Away'] = teams_fifa_21['Ovr']\n",
    "teams_fifa_21['Rating_Away'] = teams_fifa_22['Ovr']\n",
    "teams_fifa_21['Rating_Away'] = teams_fifa_22['Ovr']\n",
    "\n",
    "\n"
   ],
   "metadata": {
    "collapsed": false,
    "pycharm": {
     "name": "#%%\n"
    }
   }
  },
  {
   "cell_type": "code",
   "execution_count": 72,
   "outputs": [],
   "source": [
    "#transform FIFA Ratings for merge\n",
    "fifa_rating_home = pd.DataFrame(teams_fifa_21, columns=['HomeTeam', 'Rating_Home'])\n",
    "fifa_rating_away = pd.DataFrame(teams_fifa_21, columns=['AwayTeam', 'Rating_Away'])"
   ],
   "metadata": {
    "collapsed": false,
    "pycharm": {
     "name": "#%%\n"
    }
   }
  },
  {
   "cell_type": "code",
   "execution_count": 73,
   "outputs": [
    {
     "data": {
      "text/plain": "    Div       Date   Time                 HomeTeam          AwayTeam  FTHG  \\\n0    E0 2020-09-12  12:30                   Fulham           Arsenal     0   \n1    E0 2020-09-12  15:00           Crystal Palace       Southampton     1   \n2    E0 2020-09-12  17:30                Liverpool      Leeds United     4   \n3    E0 2020-09-12  20:00          West Ham United  Newcastle United     0   \n4    E0 2020-09-13  14:00     West Bromwich Albion    Leicester City     0   \n..   ..        ...    ...                      ...               ...   ...   \n375  E0 2021-05-23  16:00                Liverpool    Crystal Palace     2   \n376  E0 2021-05-23  16:00          Manchester City           Everton     5   \n377  E0 2021-05-23  16:00         Sheffield United           Burnley     1   \n378  E0 2021-05-23  16:00          West Ham United       Southampton     3   \n379  E0 2021-05-23  16:00  Wolverhampton Wanderers    Manchester Utd     1   \n\n     FTAG FTR  HTHG  HTAG  ... B365CAHA PCAHH  PCAHA  MaxCAHH  MaxCAHA  \\\n0       3   A     0     1  ...     1.89  2.02   1.91     2.13     1.92   \n1       0   H     1     0  ...     2.13  1.79   2.17     1.85     2.18   \n2       3   H     3     2  ...     2.05  1.85   2.08     1.90     2.16   \n3       2   A     0     0  ...     1.87  2.04   1.88     2.09     1.91   \n4       3   A     0     0  ...     1.98  1.93   1.99     1.95     2.01   \n..    ...  ..   ...   ...  ...      ...   ...    ...      ...      ...   \n375     0   H     1     0  ...     2.04  1.88   2.03     1.98     2.14   \n376     0   H     2     0  ...     1.89  1.99   1.89     2.20     2.00   \n377     0   H     1     0  ...     1.86  2.05   1.86     2.17     1.90   \n378     0   H     2     0  ...     1.90  2.02   1.91     2.06     2.01   \n379     2   A     1     2  ...     1.86  2.10   1.84     2.10     1.94   \n\n     AvgCAHH  AvgCAHA  Rating_Home  Rating_Away  Rating difference  \n0       2.02     1.87           73           80                 -7  \n1       1.79     2.12           77           76                  1  \n2       1.84     2.04           85           72                 13  \n3       2.02     1.86           78           77                  1  \n4       1.91     1.97           72           80                 -8  \n..       ...      ...          ...          ...                ...  \n375     1.88     2.00           85           77                  8  \n376     2.03     1.85           85           78                  7  \n377     2.03     1.84           75           76                 -1  \n378     1.99     1.89           78           76                  2  \n379     2.00     1.88           79           82                 -3  \n\n[380 rows x 109 columns]",
      "text/html": "<div>\n<style scoped>\n    .dataframe tbody tr th:only-of-type {\n        vertical-align: middle;\n    }\n\n    .dataframe tbody tr th {\n        vertical-align: top;\n    }\n\n    .dataframe thead th {\n        text-align: right;\n    }\n</style>\n<table border=\"1\" class=\"dataframe\">\n  <thead>\n    <tr style=\"text-align: right;\">\n      <th></th>\n      <th>Div</th>\n      <th>Date</th>\n      <th>Time</th>\n      <th>HomeTeam</th>\n      <th>AwayTeam</th>\n      <th>FTHG</th>\n      <th>FTAG</th>\n      <th>FTR</th>\n      <th>HTHG</th>\n      <th>HTAG</th>\n      <th>...</th>\n      <th>B365CAHA</th>\n      <th>PCAHH</th>\n      <th>PCAHA</th>\n      <th>MaxCAHH</th>\n      <th>MaxCAHA</th>\n      <th>AvgCAHH</th>\n      <th>AvgCAHA</th>\n      <th>Rating_Home</th>\n      <th>Rating_Away</th>\n      <th>Rating difference</th>\n    </tr>\n  </thead>\n  <tbody>\n    <tr>\n      <th>0</th>\n      <td>E0</td>\n      <td>2020-09-12</td>\n      <td>12:30</td>\n      <td>Fulham</td>\n      <td>Arsenal</td>\n      <td>0</td>\n      <td>3</td>\n      <td>A</td>\n      <td>0</td>\n      <td>1</td>\n      <td>...</td>\n      <td>1.89</td>\n      <td>2.02</td>\n      <td>1.91</td>\n      <td>2.13</td>\n      <td>1.92</td>\n      <td>2.02</td>\n      <td>1.87</td>\n      <td>73</td>\n      <td>80</td>\n      <td>-7</td>\n    </tr>\n    <tr>\n      <th>1</th>\n      <td>E0</td>\n      <td>2020-09-12</td>\n      <td>15:00</td>\n      <td>Crystal Palace</td>\n      <td>Southampton</td>\n      <td>1</td>\n      <td>0</td>\n      <td>H</td>\n      <td>1</td>\n      <td>0</td>\n      <td>...</td>\n      <td>2.13</td>\n      <td>1.79</td>\n      <td>2.17</td>\n      <td>1.85</td>\n      <td>2.18</td>\n      <td>1.79</td>\n      <td>2.12</td>\n      <td>77</td>\n      <td>76</td>\n      <td>1</td>\n    </tr>\n    <tr>\n      <th>2</th>\n      <td>E0</td>\n      <td>2020-09-12</td>\n      <td>17:30</td>\n      <td>Liverpool</td>\n      <td>Leeds United</td>\n      <td>4</td>\n      <td>3</td>\n      <td>H</td>\n      <td>3</td>\n      <td>2</td>\n      <td>...</td>\n      <td>2.05</td>\n      <td>1.85</td>\n      <td>2.08</td>\n      <td>1.90</td>\n      <td>2.16</td>\n      <td>1.84</td>\n      <td>2.04</td>\n      <td>85</td>\n      <td>72</td>\n      <td>13</td>\n    </tr>\n    <tr>\n      <th>3</th>\n      <td>E0</td>\n      <td>2020-09-12</td>\n      <td>20:00</td>\n      <td>West Ham United</td>\n      <td>Newcastle United</td>\n      <td>0</td>\n      <td>2</td>\n      <td>A</td>\n      <td>0</td>\n      <td>0</td>\n      <td>...</td>\n      <td>1.87</td>\n      <td>2.04</td>\n      <td>1.88</td>\n      <td>2.09</td>\n      <td>1.91</td>\n      <td>2.02</td>\n      <td>1.86</td>\n      <td>78</td>\n      <td>77</td>\n      <td>1</td>\n    </tr>\n    <tr>\n      <th>4</th>\n      <td>E0</td>\n      <td>2020-09-13</td>\n      <td>14:00</td>\n      <td>West Bromwich Albion</td>\n      <td>Leicester City</td>\n      <td>0</td>\n      <td>3</td>\n      <td>A</td>\n      <td>0</td>\n      <td>0</td>\n      <td>...</td>\n      <td>1.98</td>\n      <td>1.93</td>\n      <td>1.99</td>\n      <td>1.95</td>\n      <td>2.01</td>\n      <td>1.91</td>\n      <td>1.97</td>\n      <td>72</td>\n      <td>80</td>\n      <td>-8</td>\n    </tr>\n    <tr>\n      <th>...</th>\n      <td>...</td>\n      <td>...</td>\n      <td>...</td>\n      <td>...</td>\n      <td>...</td>\n      <td>...</td>\n      <td>...</td>\n      <td>...</td>\n      <td>...</td>\n      <td>...</td>\n      <td>...</td>\n      <td>...</td>\n      <td>...</td>\n      <td>...</td>\n      <td>...</td>\n      <td>...</td>\n      <td>...</td>\n      <td>...</td>\n      <td>...</td>\n      <td>...</td>\n      <td>...</td>\n    </tr>\n    <tr>\n      <th>375</th>\n      <td>E0</td>\n      <td>2021-05-23</td>\n      <td>16:00</td>\n      <td>Liverpool</td>\n      <td>Crystal Palace</td>\n      <td>2</td>\n      <td>0</td>\n      <td>H</td>\n      <td>1</td>\n      <td>0</td>\n      <td>...</td>\n      <td>2.04</td>\n      <td>1.88</td>\n      <td>2.03</td>\n      <td>1.98</td>\n      <td>2.14</td>\n      <td>1.88</td>\n      <td>2.00</td>\n      <td>85</td>\n      <td>77</td>\n      <td>8</td>\n    </tr>\n    <tr>\n      <th>376</th>\n      <td>E0</td>\n      <td>2021-05-23</td>\n      <td>16:00</td>\n      <td>Manchester City</td>\n      <td>Everton</td>\n      <td>5</td>\n      <td>0</td>\n      <td>H</td>\n      <td>2</td>\n      <td>0</td>\n      <td>...</td>\n      <td>1.89</td>\n      <td>1.99</td>\n      <td>1.89</td>\n      <td>2.20</td>\n      <td>2.00</td>\n      <td>2.03</td>\n      <td>1.85</td>\n      <td>85</td>\n      <td>78</td>\n      <td>7</td>\n    </tr>\n    <tr>\n      <th>377</th>\n      <td>E0</td>\n      <td>2021-05-23</td>\n      <td>16:00</td>\n      <td>Sheffield United</td>\n      <td>Burnley</td>\n      <td>1</td>\n      <td>0</td>\n      <td>H</td>\n      <td>1</td>\n      <td>0</td>\n      <td>...</td>\n      <td>1.86</td>\n      <td>2.05</td>\n      <td>1.86</td>\n      <td>2.17</td>\n      <td>1.90</td>\n      <td>2.03</td>\n      <td>1.84</td>\n      <td>75</td>\n      <td>76</td>\n      <td>-1</td>\n    </tr>\n    <tr>\n      <th>378</th>\n      <td>E0</td>\n      <td>2021-05-23</td>\n      <td>16:00</td>\n      <td>West Ham United</td>\n      <td>Southampton</td>\n      <td>3</td>\n      <td>0</td>\n      <td>H</td>\n      <td>2</td>\n      <td>0</td>\n      <td>...</td>\n      <td>1.90</td>\n      <td>2.02</td>\n      <td>1.91</td>\n      <td>2.06</td>\n      <td>2.01</td>\n      <td>1.99</td>\n      <td>1.89</td>\n      <td>78</td>\n      <td>76</td>\n      <td>2</td>\n    </tr>\n    <tr>\n      <th>379</th>\n      <td>E0</td>\n      <td>2021-05-23</td>\n      <td>16:00</td>\n      <td>Wolverhampton Wanderers</td>\n      <td>Manchester Utd</td>\n      <td>1</td>\n      <td>2</td>\n      <td>A</td>\n      <td>1</td>\n      <td>2</td>\n      <td>...</td>\n      <td>1.86</td>\n      <td>2.10</td>\n      <td>1.84</td>\n      <td>2.10</td>\n      <td>1.94</td>\n      <td>2.00</td>\n      <td>1.88</td>\n      <td>79</td>\n      <td>82</td>\n      <td>-3</td>\n    </tr>\n  </tbody>\n</table>\n<p>380 rows × 109 columns</p>\n</div>"
     },
     "execution_count": 73,
     "metadata": {},
     "output_type": "execute_result"
    }
   ],
   "source": [
    "#merge dataframes\n",
    "PL_20_21['Date'] = pd.to_datetime(PL_20_21['Date'], dayfirst=True)\n",
    "\n",
    "PL_21_team_ratings = pd.merge(PL_20_21, fifa_rating_home, on='HomeTeam', how='left')\n",
    "PL_21_team_ratings = pd.merge(PL_21_team_ratings, fifa_rating_away, on='AwayTeam', how='left')\n",
    "\n",
    "PL_21_team_ratings['Rating difference'] = PL_21_team_ratings['Rating_Home']-PL_21_team_ratings['Rating_Away']\n",
    "\n",
    "PL_21_team_ratings"
   ],
   "metadata": {
    "collapsed": false,
    "pycharm": {
     "name": "#%%\n"
    }
   }
  },
  {
   "cell_type": "code",
   "execution_count": 75,
   "outputs": [],
   "source": [
    "#export Data to csv\n",
    "PL_21_team_ratings.to_csv('Data/2020-21/Fixtures/PL20_21_fixtures.csv',index=False)"
   ],
   "metadata": {
    "collapsed": false,
    "pycharm": {
     "name": "#%%\n"
    }
   }
  }
 ],
 "metadata": {
  "kernelspec": {
   "display_name": "Python 3 (ipykernel)",
   "language": "python",
   "name": "python3"
  },
  "language_info": {
   "codemirror_mode": {
    "name": "ipython",
    "version": 3
   },
   "file_extension": ".py",
   "mimetype": "text/x-python",
   "name": "python",
   "nbconvert_exporter": "python",
   "pygments_lexer": "ipython3",
   "version": "3.10.0"
  }
 },
 "nbformat": 4,
 "nbformat_minor": 1
}