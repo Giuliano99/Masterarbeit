{
 "cells": [
  {
   "cell_type": "code",
   "execution_count": 351,
   "metadata": {},
   "outputs": [],
   "source": [
    "#import necessary packages\n",
    "import pandas as pd\n",
    "import seaborn as sns\n",
    "import math\n",
    "import matplotlib.pyplot as plt\n",
    "import matplotlib.image as mpimg\n",
    "import numpy as np\n",
    "import sklearn\n",
    "from sklearn.feature_selection import VarianceThreshold\n",
    "from sklearn.datasets import load_iris\n",
    "from sklearn.feature_selection import SelectKBest, f_classif, chi2"
   ]
  },
  {
   "cell_type": "code",
   "execution_count": 352,
   "metadata": {
    "pycharm": {
     "name": "#%%\n"
    }
   },
   "outputs": [],
   "source": [
    "#import Data\n",
    "\n",
    "#import PL data\n",
    "PL_18_19 = pd.read_csv('Data/other_years/E_18_19.csv')\n",
    "PL_19_20 = pd.read_csv('Data/other_years/E_19_20.csv')\n",
    "PL_20_21 = pd.read_csv('Data/2020-21/Fixtures/E_20_21.csv')\n",
    "PL_21_22 = pd.read_csv('Data/other_years/E_21_22.csv')\n",
    "\n",
    "#import xG for PL\n",
    "PL_18_19_xG = pd.read_csv('Data/other_years/E_18_19_xG.csv')\n",
    "PL_19_20_xG = pd.read_csv('Data/other_years/E_19_20_xG.csv')\n",
    "PL_20_21_xG = pd.read_csv('Data/2020-21/Fixtures/E_20_21_xG.csv')\n",
    "PL_21_22_xG = pd.read_csv('Data/other_years/E_21_22_xG.csv')\n"
   ]
  },
  {
   "cell_type": "code",
   "execution_count": 353,
   "outputs": [
    {
     "data": {
      "text/plain": "    Div       Date        HomeTeam         AwayTeam  FTHG  FTAG FTR  HTHG  \\\n0    E0 2018-08-10  Manchester Utd   Leicester City     2     1   H     1   \n1    E0 2018-08-11     Bournemouth     Cardiff City     2     0   H     1   \n2    E0 2018-08-11          Fulham   Crystal Palace     0     2   A     0   \n3    E0 2018-08-11    Huddersfield          Chelsea     0     3   A     0   \n4    E0 2018-08-11   Newcastle Utd        Tottenham     1     2   A     1   \n..   ..        ...             ...              ...   ...   ...  ..   ...   \n278  E0 2022-03-13        West Ham      Aston Villa     2     1   H     0   \n279  E0 2022-03-13         Arsenal   Leicester City     2     0   H     1   \n280  E0 2022-03-14  Crystal Palace  Manchester City     0     0   D     0   \n281  E0 2022-03-16        Brighton        Tottenham     0     2   A     0   \n282  E0 2022-03-16         Arsenal        Liverpool     0     2   A     0   \n\n     HTAG HTR  ... BbMxH  BbAvH  BbMxD  BbAvD  BbMxA  BbAvA  PSCH  PSCD  PSCA  \\\n0       0   H  ...  1.60   1.56   4.20   3.92   8.05   7.06  1.55  4.07  7.69   \n1       0   H  ...  1.93   1.88   3.71   3.53   4.75   4.37  1.88  3.61  4.70   \n2       1   A  ...  2.60   2.47   3.49   3.35   3.05   2.92  2.62  3.38  2.90   \n3       2   A  ...  6.85   6.09   4.07   3.90   1.66   1.61  7.24  3.95  1.58   \n4       2   A  ...  4.01   3.83   3.57   3.40   2.12   2.05  4.74  3.53  1.89   \n..    ...  ..  ...   ...    ...    ...    ...    ...    ...   ...   ...   ...   \n278     0   D  ...   NaN    NaN    NaN    NaN    NaN    NaN  2.58  3.31  3.01   \n279     0   H  ...   NaN    NaN    NaN    NaN    NaN    NaN  1.45  4.78  7.92   \n280     0   D  ...   NaN    NaN    NaN    NaN    NaN    NaN  9.88  5.58  1.34   \n281     1   A  ...   NaN    NaN    NaN    NaN    NaN    NaN  3.79  3.49  2.12   \n282     0   D  ...   NaN    NaN    NaN    NaN    NaN    NaN  3.75  3.60  2.09   \n\n                                          ID  \n0     2018-08-10Manchester UtdLeicester City  \n1          2018-08-11BournemouthCardiff City  \n2             2018-08-11FulhamCrystal Palace  \n3              2018-08-11HuddersfieldChelsea  \n4           2018-08-11Newcastle UtdTottenham  \n..                                       ...  \n278            2022-03-13West HamAston Villa  \n279          2022-03-13ArsenalLeicester City  \n280  2022-03-14Crystal PalaceManchester City  \n281              2022-03-16BrightonTottenham  \n282               2022-03-16ArsenalLiverpool  \n\n[1423 rows x 52 columns]",
      "text/html": "<div>\n<style scoped>\n    .dataframe tbody tr th:only-of-type {\n        vertical-align: middle;\n    }\n\n    .dataframe tbody tr th {\n        vertical-align: top;\n    }\n\n    .dataframe thead th {\n        text-align: right;\n    }\n</style>\n<table border=\"1\" class=\"dataframe\">\n  <thead>\n    <tr style=\"text-align: right;\">\n      <th></th>\n      <th>Div</th>\n      <th>Date</th>\n      <th>HomeTeam</th>\n      <th>AwayTeam</th>\n      <th>FTHG</th>\n      <th>FTAG</th>\n      <th>FTR</th>\n      <th>HTHG</th>\n      <th>HTAG</th>\n      <th>HTR</th>\n      <th>...</th>\n      <th>BbMxH</th>\n      <th>BbAvH</th>\n      <th>BbMxD</th>\n      <th>BbAvD</th>\n      <th>BbMxA</th>\n      <th>BbAvA</th>\n      <th>PSCH</th>\n      <th>PSCD</th>\n      <th>PSCA</th>\n      <th>ID</th>\n    </tr>\n  </thead>\n  <tbody>\n    <tr>\n      <th>0</th>\n      <td>E0</td>\n      <td>2018-08-10</td>\n      <td>Manchester Utd</td>\n      <td>Leicester City</td>\n      <td>2</td>\n      <td>1</td>\n      <td>H</td>\n      <td>1</td>\n      <td>0</td>\n      <td>H</td>\n      <td>...</td>\n      <td>1.60</td>\n      <td>1.56</td>\n      <td>4.20</td>\n      <td>3.92</td>\n      <td>8.05</td>\n      <td>7.06</td>\n      <td>1.55</td>\n      <td>4.07</td>\n      <td>7.69</td>\n      <td>2018-08-10Manchester UtdLeicester City</td>\n    </tr>\n    <tr>\n      <th>1</th>\n      <td>E0</td>\n      <td>2018-08-11</td>\n      <td>Bournemouth</td>\n      <td>Cardiff City</td>\n      <td>2</td>\n      <td>0</td>\n      <td>H</td>\n      <td>1</td>\n      <td>0</td>\n      <td>H</td>\n      <td>...</td>\n      <td>1.93</td>\n      <td>1.88</td>\n      <td>3.71</td>\n      <td>3.53</td>\n      <td>4.75</td>\n      <td>4.37</td>\n      <td>1.88</td>\n      <td>3.61</td>\n      <td>4.70</td>\n      <td>2018-08-11BournemouthCardiff City</td>\n    </tr>\n    <tr>\n      <th>2</th>\n      <td>E0</td>\n      <td>2018-08-11</td>\n      <td>Fulham</td>\n      <td>Crystal Palace</td>\n      <td>0</td>\n      <td>2</td>\n      <td>A</td>\n      <td>0</td>\n      <td>1</td>\n      <td>A</td>\n      <td>...</td>\n      <td>2.60</td>\n      <td>2.47</td>\n      <td>3.49</td>\n      <td>3.35</td>\n      <td>3.05</td>\n      <td>2.92</td>\n      <td>2.62</td>\n      <td>3.38</td>\n      <td>2.90</td>\n      <td>2018-08-11FulhamCrystal Palace</td>\n    </tr>\n    <tr>\n      <th>3</th>\n      <td>E0</td>\n      <td>2018-08-11</td>\n      <td>Huddersfield</td>\n      <td>Chelsea</td>\n      <td>0</td>\n      <td>3</td>\n      <td>A</td>\n      <td>0</td>\n      <td>2</td>\n      <td>A</td>\n      <td>...</td>\n      <td>6.85</td>\n      <td>6.09</td>\n      <td>4.07</td>\n      <td>3.90</td>\n      <td>1.66</td>\n      <td>1.61</td>\n      <td>7.24</td>\n      <td>3.95</td>\n      <td>1.58</td>\n      <td>2018-08-11HuddersfieldChelsea</td>\n    </tr>\n    <tr>\n      <th>4</th>\n      <td>E0</td>\n      <td>2018-08-11</td>\n      <td>Newcastle Utd</td>\n      <td>Tottenham</td>\n      <td>1</td>\n      <td>2</td>\n      <td>A</td>\n      <td>1</td>\n      <td>2</td>\n      <td>A</td>\n      <td>...</td>\n      <td>4.01</td>\n      <td>3.83</td>\n      <td>3.57</td>\n      <td>3.40</td>\n      <td>2.12</td>\n      <td>2.05</td>\n      <td>4.74</td>\n      <td>3.53</td>\n      <td>1.89</td>\n      <td>2018-08-11Newcastle UtdTottenham</td>\n    </tr>\n    <tr>\n      <th>...</th>\n      <td>...</td>\n      <td>...</td>\n      <td>...</td>\n      <td>...</td>\n      <td>...</td>\n      <td>...</td>\n      <td>...</td>\n      <td>...</td>\n      <td>...</td>\n      <td>...</td>\n      <td>...</td>\n      <td>...</td>\n      <td>...</td>\n      <td>...</td>\n      <td>...</td>\n      <td>...</td>\n      <td>...</td>\n      <td>...</td>\n      <td>...</td>\n      <td>...</td>\n      <td>...</td>\n    </tr>\n    <tr>\n      <th>278</th>\n      <td>E0</td>\n      <td>2022-03-13</td>\n      <td>West Ham</td>\n      <td>Aston Villa</td>\n      <td>2</td>\n      <td>1</td>\n      <td>H</td>\n      <td>0</td>\n      <td>0</td>\n      <td>D</td>\n      <td>...</td>\n      <td>NaN</td>\n      <td>NaN</td>\n      <td>NaN</td>\n      <td>NaN</td>\n      <td>NaN</td>\n      <td>NaN</td>\n      <td>2.58</td>\n      <td>3.31</td>\n      <td>3.01</td>\n      <td>2022-03-13West HamAston Villa</td>\n    </tr>\n    <tr>\n      <th>279</th>\n      <td>E0</td>\n      <td>2022-03-13</td>\n      <td>Arsenal</td>\n      <td>Leicester City</td>\n      <td>2</td>\n      <td>0</td>\n      <td>H</td>\n      <td>1</td>\n      <td>0</td>\n      <td>H</td>\n      <td>...</td>\n      <td>NaN</td>\n      <td>NaN</td>\n      <td>NaN</td>\n      <td>NaN</td>\n      <td>NaN</td>\n      <td>NaN</td>\n      <td>1.45</td>\n      <td>4.78</td>\n      <td>7.92</td>\n      <td>2022-03-13ArsenalLeicester City</td>\n    </tr>\n    <tr>\n      <th>280</th>\n      <td>E0</td>\n      <td>2022-03-14</td>\n      <td>Crystal Palace</td>\n      <td>Manchester City</td>\n      <td>0</td>\n      <td>0</td>\n      <td>D</td>\n      <td>0</td>\n      <td>0</td>\n      <td>D</td>\n      <td>...</td>\n      <td>NaN</td>\n      <td>NaN</td>\n      <td>NaN</td>\n      <td>NaN</td>\n      <td>NaN</td>\n      <td>NaN</td>\n      <td>9.88</td>\n      <td>5.58</td>\n      <td>1.34</td>\n      <td>2022-03-14Crystal PalaceManchester City</td>\n    </tr>\n    <tr>\n      <th>281</th>\n      <td>E0</td>\n      <td>2022-03-16</td>\n      <td>Brighton</td>\n      <td>Tottenham</td>\n      <td>0</td>\n      <td>2</td>\n      <td>A</td>\n      <td>0</td>\n      <td>1</td>\n      <td>A</td>\n      <td>...</td>\n      <td>NaN</td>\n      <td>NaN</td>\n      <td>NaN</td>\n      <td>NaN</td>\n      <td>NaN</td>\n      <td>NaN</td>\n      <td>3.79</td>\n      <td>3.49</td>\n      <td>2.12</td>\n      <td>2022-03-16BrightonTottenham</td>\n    </tr>\n    <tr>\n      <th>282</th>\n      <td>E0</td>\n      <td>2022-03-16</td>\n      <td>Arsenal</td>\n      <td>Liverpool</td>\n      <td>0</td>\n      <td>2</td>\n      <td>A</td>\n      <td>0</td>\n      <td>0</td>\n      <td>D</td>\n      <td>...</td>\n      <td>NaN</td>\n      <td>NaN</td>\n      <td>NaN</td>\n      <td>NaN</td>\n      <td>NaN</td>\n      <td>NaN</td>\n      <td>3.75</td>\n      <td>3.60</td>\n      <td>2.09</td>\n      <td>2022-03-16ArsenalLiverpool</td>\n    </tr>\n  </tbody>\n</table>\n<p>1423 rows × 52 columns</p>\n</div>"
     },
     "execution_count": 353,
     "metadata": {},
     "output_type": "execute_result"
    }
   ],
   "source": [
    "#Merge data\n",
    "PL_total = pd.concat([PL_18_19, PL_19_20, PL_20_21, PL_21_22])\n",
    "PL_total_xG = pd.concat([PL_18_19_xG, PL_19_20_xG, PL_20_21_xG, PL_21_22_xG])\n",
    "\n",
    "#remove unnecessary columns\n",
    "not_relevant_columns = ['BbOU','BbMx>2.5','BbAv>2.5','BbMx<2.5','B365>2.5','B365<2.5','P>2.5','P<2.5','Max>2.5','Max<2.5','Avg>2.5','Avg<2.5','BbAH','BbAHh','AHh','BbMxAHH','BbAvAHH','BbMxAHA','BbAvAHA','B365AHH','B365AHA','PAHH','PAHA','MaxAHH','MaxAHA','AvgAHH','AvgAHA','Time','MaxH','MaxD','MaxA','AvgH','AvgD','AvgA','B365CH','B365CD','B365CA','BWCH','BWCD','BWCA','IWCH','IWCD','IWCA','WHCH','WHCD','WHCA','VCCH','VCCD','VCCA','MaxCH','MaxCD','MaxCA','AvgCH','AvgCA','AvgCD','B365C>2.5','B365C<2.5','PC>2.5','PC<2.5','AHCh','B365CAHH','B365CAHA','PCAHH','PCAHA','MaxCAHH','MaxCAHA','AvgCAHH','AvgCAHA','BbAv<2.5','MaxC>2.5','MaxC<2.5','AvgC>2.5','AvgC<2.5']\n",
    "#reset index\n",
    "PL_total.drop( axis= 1, labels=not_relevant_columns, inplace=True)\n",
    "PL_total.reset_index(inplace=False, drop=True)\n",
    "PL_total['Date'] = pd.to_datetime(PL_total['Date'], dayfirst=True)\n",
    "#update team names for merging\n",
    "PL_total.replace(['Man City', 'Man United', 'Cardiff', 'Leeds', 'Leicester','Newcastle', 'Norwich','Sheffield United'], ['Manchester City', 'Manchester Utd', 'Cardiff City', 'Leeds United', 'Leicester City','Newcastle Utd','Norwich City','Sheffield Utd'], inplace=True)\n",
    "PL_20_21.replace(['Man City', 'Man United', 'Cardiff', 'Leeds', 'Leicester','Newcastle', 'Norwich','Sheffield United'], ['Manchester City', 'Manchester Utd', 'Cardiff City', 'Leeds United', 'Leicester City','Newcastle Utd','Norwich City','Sheffield Utd'], inplace=True)\n",
    "\n",
    "#remove nan values and reset index\n",
    "PL_total_xG.drop(labels='Notes', axis=1, inplace=True)\n",
    "PL_total_xG.dropna(axis=0, inplace=True, how='all')\n",
    "PL_total_xG.reset_index(inplace=True, drop=True)\n",
    "\n",
    "#create ID's for join\n",
    "PL_total['ID'] = PL_total['Date'].astype(str) + PL_total ['HomeTeam'] + PL_total ['AwayTeam']\n",
    "PL_total_xG['ID'] = PL_total_xG['Date'].astype(str) + PL_total_xG ['Home'] + PL_total_xG ['Away']\n",
    "\n",
    "#merge dataframes\n",
    "PL = pd.merge(PL_total, PL_total_xG, on='ID', how='left')\n",
    "\n",
    "PL_total\n"
   ],
   "metadata": {
    "collapsed": false,
    "pycharm": {
     "name": "#%%\n"
    }
   }
  },
  {
   "cell_type": "code",
   "execution_count": 354,
   "outputs": [],
   "source": [
    "#feature selection on Home, Draw, Away\n",
    "\n",
    "#add column for H A X\n",
    "conditions = [\n",
    "    (PL['FTR'] == 'H'),\n",
    "    (PL['FTR'] == 'A'),\n",
    "    (PL['FTR'] == 'D')]\n",
    "choices = [1, 2, 3]\n",
    "PL['identifier'] = np.select(conditions, choices)\n",
    "Gy = PL['identifier'].to_numpy()\n",
    "GX = PL[[ 'FTHG', 'FTAG','HTHG', 'HTAG', 'xG', 'xG.1','HS', 'AS', 'HST', 'AST', 'B365H', 'B365A', 'HY' ]].to_numpy()"
   ],
   "metadata": {
    "collapsed": false,
    "pycharm": {
     "name": "#%%\n"
    }
   }
  },
  {
   "cell_type": "code",
   "execution_count": 355,
   "outputs": [],
   "source": [
    "#feature selection Home Goals\n",
    "#PL['identifier'] = np.select(conditions, choices)\n",
    "#Gy = PL['FTHG'].to_numpy()\n",
    "#GX = PL[[ 'HTHG', 'xG','HS', 'HST','B365H']].to_numpy()"
   ],
   "metadata": {
    "collapsed": false,
    "pycharm": {
     "name": "#%%\n"
    }
   }
  },
  {
   "cell_type": "code",
   "execution_count": 356,
   "outputs": [
    {
     "data": {
      "text/plain": "array([190.02002632, 186.31628543,  67.71073803,  75.62140132,\n        74.73968972,  81.44094491,  22.24817231,  27.40982007,\n        72.11655789,  69.17999405,  44.19915966,  42.16148567,\n         5.73573049])"
     },
     "execution_count": 356,
     "metadata": {},
     "output_type": "execute_result"
    }
   ],
   "source": [
    "#test which features are most important\n",
    "sel = SelectKBest(f_classif, k=4)\n",
    "sel.fit(GX, Gy)\n",
    "sel.transform(GX).shape\n",
    "sel.scores_\n",
    "\n",
    "scores = -np.log10(sel.pvalues_)\n",
    "scores\n"
   ],
   "metadata": {
    "collapsed": false,
    "pycharm": {
     "name": "#%%\n"
    }
   }
  },
  {
   "cell_type": "code",
   "execution_count": 357,
   "metadata": {},
   "outputs": [
    {
     "data": {
      "text/plain": "                       name position           team   xP  assists  bonus  bps  \\\n0            Aaron Connolly      FWD       Brighton  0.5        0      0   -3   \n1           Aaron Cresswell      DEF       West Ham  2.1        0      0   11   \n2                Aaron Mooy      MID       Brighton  0.0        0      0    0   \n3            Aaron Ramsdale       GK  Sheffield Utd  2.5        0      0   12   \n4        Abdoulaye Doucouré      MID        Everton  1.3        0      0   20   \n...                     ...      ...            ...  ...      ...    ...  ...   \n24360        Aaron Ramsdale       GK  Sheffield Utd  9.0        0      2   30   \n24361          Adrien Silva      MID      Leicester  0.0        0      0    0   \n24362        Sidnei Tavares      MID      Leicester  0.0        0      0    0   \n24363       Kalvin Phillips      MID          Leeds  6.5        0      0   17   \n24364  Raphael Dias Belloli      MID          Leeds  5.5        1      0   24   \n\n       clean_sheets  creativity  element  ...  team_h_score  threat  \\\n0                 0         0.3       78  ...             1    32.0   \n1                 0        11.2      435  ...             0     0.0   \n2                 0         0.0       60  ...             1     0.0   \n3                 0         0.0      483  ...             0     0.0   \n4                 1        44.6      512  ...             0     4.0   \n...             ...         ...      ...  ...           ...     ...   \n24360             1        10.0      483  ...             1     0.0   \n24361             0         0.0      220  ...             2     0.0   \n24362             0         0.0      676  ...             2     0.0   \n24363             0        12.8      204  ...             3     8.0   \n24364             0        60.2      570  ...             3    31.0   \n\n       total_points  transfers_balance  transfers_in transfers_out  value  \\\n0                 1                  0             0             0     55   \n1                 1                  0             0             0     50   \n2                 0                  0             0             0     50   \n3                 1                  0             0             0     50   \n4                 3                  0             0             0     55   \n...             ...                ...           ...           ...    ...   \n24360             9              13618         17381          3763     46   \n24361             0                -16             0            16     44   \n24362             0                 32            60            28     44   \n24363             6                210           789           579     49   \n24364             5             124979        142069         17090     56   \n\n       was_home  yellow_cards  GW  \n0          True             0   1  \n1          True             0   1  \n2          True             0   1  \n3          True             0   1  \n4         False             0   1  \n...         ...           ...  ..  \n24360      True             0  38  \n24361      True             0  38  \n24362      True             0  38  \n24363      True             1  38  \n24364      True             0  38  \n\n[24365 rows x 36 columns]",
      "text/html": "<div>\n<style scoped>\n    .dataframe tbody tr th:only-of-type {\n        vertical-align: middle;\n    }\n\n    .dataframe tbody tr th {\n        vertical-align: top;\n    }\n\n    .dataframe thead th {\n        text-align: right;\n    }\n</style>\n<table border=\"1\" class=\"dataframe\">\n  <thead>\n    <tr style=\"text-align: right;\">\n      <th></th>\n      <th>name</th>\n      <th>position</th>\n      <th>team</th>\n      <th>xP</th>\n      <th>assists</th>\n      <th>bonus</th>\n      <th>bps</th>\n      <th>clean_sheets</th>\n      <th>creativity</th>\n      <th>element</th>\n      <th>...</th>\n      <th>team_h_score</th>\n      <th>threat</th>\n      <th>total_points</th>\n      <th>transfers_balance</th>\n      <th>transfers_in</th>\n      <th>transfers_out</th>\n      <th>value</th>\n      <th>was_home</th>\n      <th>yellow_cards</th>\n      <th>GW</th>\n    </tr>\n  </thead>\n  <tbody>\n    <tr>\n      <th>0</th>\n      <td>Aaron Connolly</td>\n      <td>FWD</td>\n      <td>Brighton</td>\n      <td>0.5</td>\n      <td>0</td>\n      <td>0</td>\n      <td>-3</td>\n      <td>0</td>\n      <td>0.3</td>\n      <td>78</td>\n      <td>...</td>\n      <td>1</td>\n      <td>32.0</td>\n      <td>1</td>\n      <td>0</td>\n      <td>0</td>\n      <td>0</td>\n      <td>55</td>\n      <td>True</td>\n      <td>0</td>\n      <td>1</td>\n    </tr>\n    <tr>\n      <th>1</th>\n      <td>Aaron Cresswell</td>\n      <td>DEF</td>\n      <td>West Ham</td>\n      <td>2.1</td>\n      <td>0</td>\n      <td>0</td>\n      <td>11</td>\n      <td>0</td>\n      <td>11.2</td>\n      <td>435</td>\n      <td>...</td>\n      <td>0</td>\n      <td>0.0</td>\n      <td>1</td>\n      <td>0</td>\n      <td>0</td>\n      <td>0</td>\n      <td>50</td>\n      <td>True</td>\n      <td>0</td>\n      <td>1</td>\n    </tr>\n    <tr>\n      <th>2</th>\n      <td>Aaron Mooy</td>\n      <td>MID</td>\n      <td>Brighton</td>\n      <td>0.0</td>\n      <td>0</td>\n      <td>0</td>\n      <td>0</td>\n      <td>0</td>\n      <td>0.0</td>\n      <td>60</td>\n      <td>...</td>\n      <td>1</td>\n      <td>0.0</td>\n      <td>0</td>\n      <td>0</td>\n      <td>0</td>\n      <td>0</td>\n      <td>50</td>\n      <td>True</td>\n      <td>0</td>\n      <td>1</td>\n    </tr>\n    <tr>\n      <th>3</th>\n      <td>Aaron Ramsdale</td>\n      <td>GK</td>\n      <td>Sheffield Utd</td>\n      <td>2.5</td>\n      <td>0</td>\n      <td>0</td>\n      <td>12</td>\n      <td>0</td>\n      <td>0.0</td>\n      <td>483</td>\n      <td>...</td>\n      <td>0</td>\n      <td>0.0</td>\n      <td>1</td>\n      <td>0</td>\n      <td>0</td>\n      <td>0</td>\n      <td>50</td>\n      <td>True</td>\n      <td>0</td>\n      <td>1</td>\n    </tr>\n    <tr>\n      <th>4</th>\n      <td>Abdoulaye Doucouré</td>\n      <td>MID</td>\n      <td>Everton</td>\n      <td>1.3</td>\n      <td>0</td>\n      <td>0</td>\n      <td>20</td>\n      <td>1</td>\n      <td>44.6</td>\n      <td>512</td>\n      <td>...</td>\n      <td>0</td>\n      <td>4.0</td>\n      <td>3</td>\n      <td>0</td>\n      <td>0</td>\n      <td>0</td>\n      <td>55</td>\n      <td>False</td>\n      <td>0</td>\n      <td>1</td>\n    </tr>\n    <tr>\n      <th>...</th>\n      <td>...</td>\n      <td>...</td>\n      <td>...</td>\n      <td>...</td>\n      <td>...</td>\n      <td>...</td>\n      <td>...</td>\n      <td>...</td>\n      <td>...</td>\n      <td>...</td>\n      <td>...</td>\n      <td>...</td>\n      <td>...</td>\n      <td>...</td>\n      <td>...</td>\n      <td>...</td>\n      <td>...</td>\n      <td>...</td>\n      <td>...</td>\n      <td>...</td>\n      <td>...</td>\n    </tr>\n    <tr>\n      <th>24360</th>\n      <td>Aaron Ramsdale</td>\n      <td>GK</td>\n      <td>Sheffield Utd</td>\n      <td>9.0</td>\n      <td>0</td>\n      <td>2</td>\n      <td>30</td>\n      <td>1</td>\n      <td>10.0</td>\n      <td>483</td>\n      <td>...</td>\n      <td>1</td>\n      <td>0.0</td>\n      <td>9</td>\n      <td>13618</td>\n      <td>17381</td>\n      <td>3763</td>\n      <td>46</td>\n      <td>True</td>\n      <td>0</td>\n      <td>38</td>\n    </tr>\n    <tr>\n      <th>24361</th>\n      <td>Adrien Silva</td>\n      <td>MID</td>\n      <td>Leicester</td>\n      <td>0.0</td>\n      <td>0</td>\n      <td>0</td>\n      <td>0</td>\n      <td>0</td>\n      <td>0.0</td>\n      <td>220</td>\n      <td>...</td>\n      <td>2</td>\n      <td>0.0</td>\n      <td>0</td>\n      <td>-16</td>\n      <td>0</td>\n      <td>16</td>\n      <td>44</td>\n      <td>True</td>\n      <td>0</td>\n      <td>38</td>\n    </tr>\n    <tr>\n      <th>24362</th>\n      <td>Sidnei Tavares</td>\n      <td>MID</td>\n      <td>Leicester</td>\n      <td>0.0</td>\n      <td>0</td>\n      <td>0</td>\n      <td>0</td>\n      <td>0</td>\n      <td>0.0</td>\n      <td>676</td>\n      <td>...</td>\n      <td>2</td>\n      <td>0.0</td>\n      <td>0</td>\n      <td>32</td>\n      <td>60</td>\n      <td>28</td>\n      <td>44</td>\n      <td>True</td>\n      <td>0</td>\n      <td>38</td>\n    </tr>\n    <tr>\n      <th>24363</th>\n      <td>Kalvin Phillips</td>\n      <td>MID</td>\n      <td>Leeds</td>\n      <td>6.5</td>\n      <td>0</td>\n      <td>0</td>\n      <td>17</td>\n      <td>0</td>\n      <td>12.8</td>\n      <td>204</td>\n      <td>...</td>\n      <td>3</td>\n      <td>8.0</td>\n      <td>6</td>\n      <td>210</td>\n      <td>789</td>\n      <td>579</td>\n      <td>49</td>\n      <td>True</td>\n      <td>1</td>\n      <td>38</td>\n    </tr>\n    <tr>\n      <th>24364</th>\n      <td>Raphael Dias Belloli</td>\n      <td>MID</td>\n      <td>Leeds</td>\n      <td>5.5</td>\n      <td>1</td>\n      <td>0</td>\n      <td>24</td>\n      <td>0</td>\n      <td>60.2</td>\n      <td>570</td>\n      <td>...</td>\n      <td>3</td>\n      <td>31.0</td>\n      <td>5</td>\n      <td>124979</td>\n      <td>142069</td>\n      <td>17090</td>\n      <td>56</td>\n      <td>True</td>\n      <td>0</td>\n      <td>38</td>\n    </tr>\n  </tbody>\n</table>\n<p>24365 rows × 36 columns</p>\n</div>"
     },
     "execution_count": 357,
     "metadata": {},
     "output_type": "execute_result"
    }
   ],
   "source": [
    "#import player stats for 20_21\n",
    "merged_gw_20_21 = pd.read_csv('Data/2020-21/Players/Fantasy_League/merged_gw_20-21.csv')\n",
    "\n",
    "merged_gw_20_21"
   ]
  },
  {
   "cell_type": "code",
   "execution_count": 358,
   "outputs": [
    {
     "data": {
      "text/plain": "     sofifa_id    short_name              long_name  overall  potential  \\\n0       192985  K. De Bruyne        Kevin De Bruyne       91         91   \n1       203376   V. van Dijk        Virgil van Dijk       90         91   \n2       208722       S. Mané             Sadio Mané       90         90   \n3       209331      M. Salah    Mohamed Salah Ghaly       90         90   \n4       212831       Alisson  Alisson Ramsés Becker       90         91   \n..         ...           ...                    ...      ...        ...   \n649     247012       M. Tait     Michael Tait Moran       52         69   \n650     251546     K. Gordon           Kyron Gordon       52         70   \n651     243890       C. Rowe      Callum Miles Rowe       51         65   \n652     251674  J. Belehouan   Jean Leroy-Belehouan       50         64   \n653     252450      H. Boyes            Harry Boyes       50         61   \n\n     value_eur  wage_eur  age  club_team_id        club_name  ...  \\\n0    129000000  370000.0   29            10  Manchester City  ...   \n1    113000000  210000.0   28             9        Liverpool  ...   \n2    120500000  250000.0   28             9        Liverpool  ...   \n3    120500000  250000.0   28             9        Liverpool  ...   \n4    102000000  160000.0   27             9        Liverpool  ...   \n..         ...       ...  ...           ...              ...  ...   \n649     210000    5000.0   19             2      Aston Villa  ...   \n650     190000    1000.0   18          1794    Sheffield Utd  ...   \n651     140000    6000.0   20             2      Aston Villa  ...   \n652     110000    2000.0   19          1794    Sheffield Utd  ...   \n653     100000    4000.0   22          1794    Sheffield Utd  ...   \n\n    mentality_penalties mentality_composure  defending_marking_awareness  \\\n0                    84                  91                           68   \n1                    62                  90                           93   \n2                    71                  84                           42   \n3                    83                  90                           38   \n4                    23                  65                           15   \n..                  ...                 ...                          ...   \n649                  61                  44                           20   \n650                  30                  36                           49   \n651                  46                  46                           44   \n652                  29                  30                           42   \n653                  32                  42                           44   \n\n     defending_standing_tackle  defending_sliding_tackle  goalkeeping_diving  \\\n0                           65                        53                  15   \n1                           93                        86                  13   \n2                           42                        38                  10   \n3                           43                        41                  14   \n4                           19                        16                  86   \n..                         ...                       ...                 ...   \n649                         15                        12                  13   \n650                         53                        54                  10   \n651                         41                        52                  10   \n652                         52                        48                  13   \n653                         46                        43                  14   \n\n     goalkeeping_handling  goalkeeping_kicking  goalkeeping_positioning  \\\n0                      13                    5                       10   \n1                      10                   13                       11   \n2                      10                   15                        7   \n3                      14                    9                       11   \n4                      88                   85                       91   \n..                    ...                  ...                      ...   \n649                    11                    6                       13   \n650                     5                    9                        6   \n651                    12                   11                       14   \n652                    12                    6                        7   \n653                     6                   13                       15   \n\n     goalkeeping_reflexes  \n0                      13  \n1                      11  \n2                      14  \n3                      14  \n4                      89  \n..                    ...  \n649                     8  \n650                    11  \n651                    11  \n652                    12  \n653                    12  \n\n[654 rows x 52 columns]",
      "text/html": "<div>\n<style scoped>\n    .dataframe tbody tr th:only-of-type {\n        vertical-align: middle;\n    }\n\n    .dataframe tbody tr th {\n        vertical-align: top;\n    }\n\n    .dataframe thead th {\n        text-align: right;\n    }\n</style>\n<table border=\"1\" class=\"dataframe\">\n  <thead>\n    <tr style=\"text-align: right;\">\n      <th></th>\n      <th>sofifa_id</th>\n      <th>short_name</th>\n      <th>long_name</th>\n      <th>overall</th>\n      <th>potential</th>\n      <th>value_eur</th>\n      <th>wage_eur</th>\n      <th>age</th>\n      <th>club_team_id</th>\n      <th>club_name</th>\n      <th>...</th>\n      <th>mentality_penalties</th>\n      <th>mentality_composure</th>\n      <th>defending_marking_awareness</th>\n      <th>defending_standing_tackle</th>\n      <th>defending_sliding_tackle</th>\n      <th>goalkeeping_diving</th>\n      <th>goalkeeping_handling</th>\n      <th>goalkeeping_kicking</th>\n      <th>goalkeeping_positioning</th>\n      <th>goalkeeping_reflexes</th>\n    </tr>\n  </thead>\n  <tbody>\n    <tr>\n      <th>0</th>\n      <td>192985</td>\n      <td>K. De Bruyne</td>\n      <td>Kevin De Bruyne</td>\n      <td>91</td>\n      <td>91</td>\n      <td>129000000</td>\n      <td>370000.0</td>\n      <td>29</td>\n      <td>10</td>\n      <td>Manchester City</td>\n      <td>...</td>\n      <td>84</td>\n      <td>91</td>\n      <td>68</td>\n      <td>65</td>\n      <td>53</td>\n      <td>15</td>\n      <td>13</td>\n      <td>5</td>\n      <td>10</td>\n      <td>13</td>\n    </tr>\n    <tr>\n      <th>1</th>\n      <td>203376</td>\n      <td>V. van Dijk</td>\n      <td>Virgil van Dijk</td>\n      <td>90</td>\n      <td>91</td>\n      <td>113000000</td>\n      <td>210000.0</td>\n      <td>28</td>\n      <td>9</td>\n      <td>Liverpool</td>\n      <td>...</td>\n      <td>62</td>\n      <td>90</td>\n      <td>93</td>\n      <td>93</td>\n      <td>86</td>\n      <td>13</td>\n      <td>10</td>\n      <td>13</td>\n      <td>11</td>\n      <td>11</td>\n    </tr>\n    <tr>\n      <th>2</th>\n      <td>208722</td>\n      <td>S. Mané</td>\n      <td>Sadio Mané</td>\n      <td>90</td>\n      <td>90</td>\n      <td>120500000</td>\n      <td>250000.0</td>\n      <td>28</td>\n      <td>9</td>\n      <td>Liverpool</td>\n      <td>...</td>\n      <td>71</td>\n      <td>84</td>\n      <td>42</td>\n      <td>42</td>\n      <td>38</td>\n      <td>10</td>\n      <td>10</td>\n      <td>15</td>\n      <td>7</td>\n      <td>14</td>\n    </tr>\n    <tr>\n      <th>3</th>\n      <td>209331</td>\n      <td>M. Salah</td>\n      <td>Mohamed Salah Ghaly</td>\n      <td>90</td>\n      <td>90</td>\n      <td>120500000</td>\n      <td>250000.0</td>\n      <td>28</td>\n      <td>9</td>\n      <td>Liverpool</td>\n      <td>...</td>\n      <td>83</td>\n      <td>90</td>\n      <td>38</td>\n      <td>43</td>\n      <td>41</td>\n      <td>14</td>\n      <td>14</td>\n      <td>9</td>\n      <td>11</td>\n      <td>14</td>\n    </tr>\n    <tr>\n      <th>4</th>\n      <td>212831</td>\n      <td>Alisson</td>\n      <td>Alisson Ramsés Becker</td>\n      <td>90</td>\n      <td>91</td>\n      <td>102000000</td>\n      <td>160000.0</td>\n      <td>27</td>\n      <td>9</td>\n      <td>Liverpool</td>\n      <td>...</td>\n      <td>23</td>\n      <td>65</td>\n      <td>15</td>\n      <td>19</td>\n      <td>16</td>\n      <td>86</td>\n      <td>88</td>\n      <td>85</td>\n      <td>91</td>\n      <td>89</td>\n    </tr>\n    <tr>\n      <th>...</th>\n      <td>...</td>\n      <td>...</td>\n      <td>...</td>\n      <td>...</td>\n      <td>...</td>\n      <td>...</td>\n      <td>...</td>\n      <td>...</td>\n      <td>...</td>\n      <td>...</td>\n      <td>...</td>\n      <td>...</td>\n      <td>...</td>\n      <td>...</td>\n      <td>...</td>\n      <td>...</td>\n      <td>...</td>\n      <td>...</td>\n      <td>...</td>\n      <td>...</td>\n      <td>...</td>\n    </tr>\n    <tr>\n      <th>649</th>\n      <td>247012</td>\n      <td>M. Tait</td>\n      <td>Michael Tait Moran</td>\n      <td>52</td>\n      <td>69</td>\n      <td>210000</td>\n      <td>5000.0</td>\n      <td>19</td>\n      <td>2</td>\n      <td>Aston Villa</td>\n      <td>...</td>\n      <td>61</td>\n      <td>44</td>\n      <td>20</td>\n      <td>15</td>\n      <td>12</td>\n      <td>13</td>\n      <td>11</td>\n      <td>6</td>\n      <td>13</td>\n      <td>8</td>\n    </tr>\n    <tr>\n      <th>650</th>\n      <td>251546</td>\n      <td>K. Gordon</td>\n      <td>Kyron Gordon</td>\n      <td>52</td>\n      <td>70</td>\n      <td>190000</td>\n      <td>1000.0</td>\n      <td>18</td>\n      <td>1794</td>\n      <td>Sheffield Utd</td>\n      <td>...</td>\n      <td>30</td>\n      <td>36</td>\n      <td>49</td>\n      <td>53</td>\n      <td>54</td>\n      <td>10</td>\n      <td>5</td>\n      <td>9</td>\n      <td>6</td>\n      <td>11</td>\n    </tr>\n    <tr>\n      <th>651</th>\n      <td>243890</td>\n      <td>C. Rowe</td>\n      <td>Callum Miles Rowe</td>\n      <td>51</td>\n      <td>65</td>\n      <td>140000</td>\n      <td>6000.0</td>\n      <td>20</td>\n      <td>2</td>\n      <td>Aston Villa</td>\n      <td>...</td>\n      <td>46</td>\n      <td>46</td>\n      <td>44</td>\n      <td>41</td>\n      <td>52</td>\n      <td>10</td>\n      <td>12</td>\n      <td>11</td>\n      <td>14</td>\n      <td>11</td>\n    </tr>\n    <tr>\n      <th>652</th>\n      <td>251674</td>\n      <td>J. Belehouan</td>\n      <td>Jean Leroy-Belehouan</td>\n      <td>50</td>\n      <td>64</td>\n      <td>110000</td>\n      <td>2000.0</td>\n      <td>19</td>\n      <td>1794</td>\n      <td>Sheffield Utd</td>\n      <td>...</td>\n      <td>29</td>\n      <td>30</td>\n      <td>42</td>\n      <td>52</td>\n      <td>48</td>\n      <td>13</td>\n      <td>12</td>\n      <td>6</td>\n      <td>7</td>\n      <td>12</td>\n    </tr>\n    <tr>\n      <th>653</th>\n      <td>252450</td>\n      <td>H. Boyes</td>\n      <td>Harry Boyes</td>\n      <td>50</td>\n      <td>61</td>\n      <td>100000</td>\n      <td>4000.0</td>\n      <td>22</td>\n      <td>1794</td>\n      <td>Sheffield Utd</td>\n      <td>...</td>\n      <td>32</td>\n      <td>42</td>\n      <td>44</td>\n      <td>46</td>\n      <td>43</td>\n      <td>14</td>\n      <td>6</td>\n      <td>13</td>\n      <td>15</td>\n      <td>12</td>\n    </tr>\n  </tbody>\n</table>\n<p>654 rows × 52 columns</p>\n</div>"
     },
     "execution_count": 358,
     "metadata": {},
     "output_type": "execute_result"
    }
   ],
   "source": [
    "#import player ratings fifa\n",
    "players_fifa_21 = pd.read_csv('Data/2020-21/Players/players_fifa_21.csv')\n",
    "\n",
    "#delete not relevant information\n",
    "not_relevant_columns = ['player_positions','player_url','dob','height_cm', 'weight_kg', 'league_level', 'club_loaned_from', 'club_joined', 'club_contract_valid_until', 'nationality_id', 'nationality_name', 'nation_team_id', 'nation_position', 'nation_jersey_number', 'preferred_foot', 'work_rate', 'body_type', 'real_face', 'release_clause_eur', 'player_tags', 'player_traits', 'goalkeeping_speed', 'ls','st','rs','lw','lf','cf','rf','rw','lam','cam','ram','lm','lcm','cm','rcm','rm','lwb','ldm','cdm','rdm','rwb','lb','lcb','cb','rcb','rb','gk','player_face_url','club_logo_url','club_flag_url','nation_logo_url', 'nation_flag_url','club_jersey_number','weak_foot','skill_moves','international_reputation']\n",
    "players_fifa_21.drop( axis= 1, labels=not_relevant_columns, inplace=True)\n",
    "players_fifa_21.reset_index(inplace=False, drop=True)\n",
    "\n",
    "players_fifa_21.drop(players_fifa_21[players_fifa_21.league_name != 'English Premier League'].index, inplace=True)\n",
    "players_fifa_21.reset_index(inplace=True, drop=True)\n",
    "players_fifa_21 = players_fifa_21.astype({'value_eur':'int','club_team_id':'int'})\n",
    "#update Team names for merge\n",
    "players_fifa_21.replace(['Wolverhampton Wanderers', 'Manchester United', 'West Bromwich Albion', 'West Ham United', 'Brighton & Hove Albion','Newcastle United', 'Tottenham Hotspur', 'Sheffield United'], ['Wolves', 'Manchester Utd', 'West Brom', 'West Ham', 'Brighton','Newcastle Utd', 'Tottenham', 'Sheffield Utd'], inplace=True)\n",
    "\n",
    "\n",
    "players_fifa_21"
   ],
   "metadata": {
    "collapsed": false,
    "pycharm": {
     "name": "#%%\n"
    }
   }
  },
  {
   "cell_type": "code",
   "execution_count": 359,
   "outputs": [
    {
     "data": {
      "text/plain": "<Figure size 504x360 with 1 Axes>",
      "image/png": "[encoded data removed]"
     },
     "metadata": {
      "needs_background": "light"
     },
     "output_type": "display_data"
    }
   ],
   "source": [
    "#descriptive statistics fifa\n",
    "\n",
    "#plot correlation between rating and market value\n",
    "fig, ax = plt.subplots(figsize=(7,5))\n",
    "plt.scatter(x=players_fifa_21['overall'], y=players_fifa_21['value_eur'] )\n",
    "plt.xlabel(\"Overall\")\n",
    "plt.ylabel(\"Value in EUR\")\n",
    "plt.title(\"Overral & Value in EUR\", fontsize = 15)\n",
    "plt.show()"
   ],
   "metadata": {
    "collapsed": false,
    "pycharm": {
     "name": "#%%\n"
    }
   }
  },
  {
   "cell_type": "code",
   "execution_count": 360,
   "outputs": [
    {
     "data": {
      "text/plain": "           AwayTeam Rating_Away\n0           Chelsea   79.212121\n1         Liverpool   78.575758\n2    Manchester Utd   77.818182\n3   Manchester City   77.484848\n4         Tottenham   77.242424\n5           Arsenal   76.212121\n6    Leicester City   75.151515\n7           Everton   74.393939\n8     Newcastle Utd   73.272727\n9    Crystal Palace   71.454545\n10      Southampton    71.30303\n11         West Ham    71.30303\n12      Aston Villa   70.969697\n13         Brighton   70.787879\n14          Burnley   70.166667\n15           Fulham   69.939394\n16    Sheffield Utd   69.935484\n17           Wolves   69.636364\n18        West Brom    68.71875\n19     Leeds United   67.969697",
      "text/html": "<div>\n<style scoped>\n    .dataframe tbody tr th:only-of-type {\n        vertical-align: middle;\n    }\n\n    .dataframe tbody tr th {\n        vertical-align: top;\n    }\n\n    .dataframe thead th {\n        text-align: right;\n    }\n</style>\n<table border=\"1\" class=\"dataframe\">\n  <thead>\n    <tr style=\"text-align: right;\">\n      <th></th>\n      <th>AwayTeam</th>\n      <th>Rating_Away</th>\n    </tr>\n  </thead>\n  <tbody>\n    <tr>\n      <th>0</th>\n      <td>Chelsea</td>\n      <td>79.212121</td>\n    </tr>\n    <tr>\n      <th>1</th>\n      <td>Liverpool</td>\n      <td>78.575758</td>\n    </tr>\n    <tr>\n      <th>2</th>\n      <td>Manchester Utd</td>\n      <td>77.818182</td>\n    </tr>\n    <tr>\n      <th>3</th>\n      <td>Manchester City</td>\n      <td>77.484848</td>\n    </tr>\n    <tr>\n      <th>4</th>\n      <td>Tottenham</td>\n      <td>77.242424</td>\n    </tr>\n    <tr>\n      <th>5</th>\n      <td>Arsenal</td>\n      <td>76.212121</td>\n    </tr>\n    <tr>\n      <th>6</th>\n      <td>Leicester City</td>\n      <td>75.151515</td>\n    </tr>\n    <tr>\n      <th>7</th>\n      <td>Everton</td>\n      <td>74.393939</td>\n    </tr>\n    <tr>\n      <th>8</th>\n      <td>Newcastle Utd</td>\n      <td>73.272727</td>\n    </tr>\n    <tr>\n      <th>9</th>\n      <td>Crystal Palace</td>\n      <td>71.454545</td>\n    </tr>\n    <tr>\n      <th>10</th>\n      <td>Southampton</td>\n      <td>71.30303</td>\n    </tr>\n    <tr>\n      <th>11</th>\n      <td>West Ham</td>\n      <td>71.30303</td>\n    </tr>\n    <tr>\n      <th>12</th>\n      <td>Aston Villa</td>\n      <td>70.969697</td>\n    </tr>\n    <tr>\n      <th>13</th>\n      <td>Brighton</td>\n      <td>70.787879</td>\n    </tr>\n    <tr>\n      <th>14</th>\n      <td>Burnley</td>\n      <td>70.166667</td>\n    </tr>\n    <tr>\n      <th>15</th>\n      <td>Fulham</td>\n      <td>69.939394</td>\n    </tr>\n    <tr>\n      <th>16</th>\n      <td>Sheffield Utd</td>\n      <td>69.935484</td>\n    </tr>\n    <tr>\n      <th>17</th>\n      <td>Wolves</td>\n      <td>69.636364</td>\n    </tr>\n    <tr>\n      <th>18</th>\n      <td>West Brom</td>\n      <td>68.71875</td>\n    </tr>\n    <tr>\n      <th>19</th>\n      <td>Leeds United</td>\n      <td>67.969697</td>\n    </tr>\n  </tbody>\n</table>\n</div>"
     },
     "execution_count": 360,
     "metadata": {},
     "output_type": "execute_result"
    }
   ],
   "source": [
    "#order teams by player rating/mw/potential...\n",
    "teams_21 = players_fifa_21.groupby(['club_name']).mean()['overall']\n",
    "player_strength = teams_21.sort_values(ascending=False)\n",
    "#player_strength = player_strength.to_numpy\n",
    "#player_strength['Ch'] = 1\n",
    "player_strength\n",
    "ser = pd.Series(player_strength)\n",
    "#print (ser.index.to_numpy())\n",
    "#ser[0].index\n",
    "ser\n",
    "tmp =  np.append([ser.index.to_numpy()],[ser.to_numpy()], axis=0 )\n",
    "tmp = np.swapaxes(tmp, 0,1)\n",
    "fifa_rating_home = pd.DataFrame(tmp, columns=['HomeTeam', 'Rating_Home'])\n",
    "fifa_rating_away = pd.DataFrame(tmp, columns=['AwayTeam', 'Rating_Away'])\n",
    "fifa_rating_away\n",
    "\n",
    "\n",
    "#for i in player_strength:\n",
    "#    print(i)\n"
   ],
   "metadata": {
    "collapsed": false,
    "pycharm": {
     "name": "#%%\n"
    }
   }
  },
  {
   "cell_type": "code",
   "execution_count": 361,
   "outputs": [
    {
     "data": {
      "text/plain": "    Div        Date   Time         HomeTeam        AwayTeam  FTHG  FTAG FTR  \\\n0    E0  12/09/2020  12:30           Fulham         Arsenal     0     3   A   \n1    E0  12/09/2020  15:00   Crystal Palace     Southampton     1     0   H   \n2    E0  12/09/2020  17:30        Liverpool    Leeds United     4     3   H   \n3    E0  12/09/2020  20:00         West Ham   Newcastle Utd     0     2   A   \n4    E0  13/09/2020  14:00        West Brom  Leicester City     0     3   A   \n..   ..         ...    ...              ...             ...   ...   ...  ..   \n375  E0  23/05/2021  16:00        Liverpool  Crystal Palace     2     0   H   \n376  E0  23/05/2021  16:00  Manchester City         Everton     5     0   H   \n377  E0  23/05/2021  16:00    Sheffield Utd         Burnley     1     0   H   \n378  E0  23/05/2021  16:00         West Ham     Southampton     3     0   H   \n379  E0  23/05/2021  16:00           Wolves  Manchester Utd     1     2   A   \n\n     HTHG  HTAG  ... B365CAHA PCAHH  PCAHA  MaxCAHH  MaxCAHA  AvgCAHH  \\\n0       0     1  ...     1.89  2.02   1.91     2.13     1.92     2.02   \n1       1     0  ...     2.13  1.79   2.17     1.85     2.18     1.79   \n2       3     2  ...     2.05  1.85   2.08     1.90     2.16     1.84   \n3       0     0  ...     1.87  2.04   1.88     2.09     1.91     2.02   \n4       0     0  ...     1.98  1.93   1.99     1.95     2.01     1.91   \n..    ...   ...  ...      ...   ...    ...      ...      ...      ...   \n375     1     0  ...     2.04  1.88   2.03     1.98     2.14     1.88   \n376     2     0  ...     1.89  1.99   1.89     2.20     2.00     2.03   \n377     1     0  ...     1.86  2.05   1.86     2.17     1.90     2.03   \n378     2     0  ...     1.90  2.02   1.91     2.06     2.01     1.99   \n379     1     2  ...     1.86  2.10   1.84     2.10     1.94     2.00   \n\n     AvgCAHA  Rating_Home  Rating_Away  Rating difference  \n0       1.87    69.939394    76.212121          -6.272727  \n1       2.12    71.454545     71.30303           0.151515  \n2       2.04    78.575758    67.969697          10.606061  \n3       1.86     71.30303    73.272727          -1.969697  \n4       1.97     68.71875    75.151515          -6.432765  \n..       ...          ...          ...                ...  \n375     2.00    78.575758    71.454545           7.121212  \n376     1.85    77.484848    74.393939           3.090909  \n377     1.84    69.935484    70.166667          -0.231183  \n378     1.89     71.30303     71.30303                0.0  \n379     1.88    69.636364    77.818182          -8.181818  \n\n[380 rows x 109 columns]",
      "text/html": "<div>\n<style scoped>\n    .dataframe tbody tr th:only-of-type {\n        vertical-align: middle;\n    }\n\n    .dataframe tbody tr th {\n        vertical-align: top;\n    }\n\n    .dataframe thead th {\n        text-align: right;\n    }\n</style>\n<table border=\"1\" class=\"dataframe\">\n  <thead>\n    <tr style=\"text-align: right;\">\n      <th></th>\n      <th>Div</th>\n      <th>Date</th>\n      <th>Time</th>\n      <th>HomeTeam</th>\n      <th>AwayTeam</th>\n      <th>FTHG</th>\n      <th>FTAG</th>\n      <th>FTR</th>\n      <th>HTHG</th>\n      <th>HTAG</th>\n      <th>...</th>\n      <th>B365CAHA</th>\n      <th>PCAHH</th>\n      <th>PCAHA</th>\n      <th>MaxCAHH</th>\n      <th>MaxCAHA</th>\n      <th>AvgCAHH</th>\n      <th>AvgCAHA</th>\n      <th>Rating_Home</th>\n      <th>Rating_Away</th>\n      <th>Rating difference</th>\n    </tr>\n  </thead>\n  <tbody>\n    <tr>\n      <th>0</th>\n      <td>E0</td>\n      <td>12/09/2020</td>\n      <td>12:30</td>\n      <td>Fulham</td>\n      <td>Arsenal</td>\n      <td>0</td>\n      <td>3</td>\n      <td>A</td>\n      <td>0</td>\n      <td>1</td>\n      <td>...</td>\n      <td>1.89</td>\n      <td>2.02</td>\n      <td>1.91</td>\n      <td>2.13</td>\n      <td>1.92</td>\n      <td>2.02</td>\n      <td>1.87</td>\n      <td>69.939394</td>\n      <td>76.212121</td>\n      <td>-6.272727</td>\n    </tr>\n    <tr>\n      <th>1</th>\n      <td>E0</td>\n      <td>12/09/2020</td>\n      <td>15:00</td>\n      <td>Crystal Palace</td>\n      <td>Southampton</td>\n      <td>1</td>\n      <td>0</td>\n      <td>H</td>\n      <td>1</td>\n      <td>0</td>\n      <td>...</td>\n      <td>2.13</td>\n      <td>1.79</td>\n      <td>2.17</td>\n      <td>1.85</td>\n      <td>2.18</td>\n      <td>1.79</td>\n      <td>2.12</td>\n      <td>71.454545</td>\n      <td>71.30303</td>\n      <td>0.151515</td>\n    </tr>\n    <tr>\n      <th>2</th>\n      <td>E0</td>\n      <td>12/09/2020</td>\n      <td>17:30</td>\n      <td>Liverpool</td>\n      <td>Leeds United</td>\n      <td>4</td>\n      <td>3</td>\n      <td>H</td>\n      <td>3</td>\n      <td>2</td>\n      <td>...</td>\n      <td>2.05</td>\n      <td>1.85</td>\n      <td>2.08</td>\n      <td>1.90</td>\n      <td>2.16</td>\n      <td>1.84</td>\n      <td>2.04</td>\n      <td>78.575758</td>\n      <td>67.969697</td>\n      <td>10.606061</td>\n    </tr>\n    <tr>\n      <th>3</th>\n      <td>E0</td>\n      <td>12/09/2020</td>\n      <td>20:00</td>\n      <td>West Ham</td>\n      <td>Newcastle Utd</td>\n      <td>0</td>\n      <td>2</td>\n      <td>A</td>\n      <td>0</td>\n      <td>0</td>\n      <td>...</td>\n      <td>1.87</td>\n      <td>2.04</td>\n      <td>1.88</td>\n      <td>2.09</td>\n      <td>1.91</td>\n      <td>2.02</td>\n      <td>1.86</td>\n      <td>71.30303</td>\n      <td>73.272727</td>\n      <td>-1.969697</td>\n    </tr>\n    <tr>\n      <th>4</th>\n      <td>E0</td>\n      <td>13/09/2020</td>\n      <td>14:00</td>\n      <td>West Brom</td>\n      <td>Leicester City</td>\n      <td>0</td>\n      <td>3</td>\n      <td>A</td>\n      <td>0</td>\n      <td>0</td>\n      <td>...</td>\n      <td>1.98</td>\n      <td>1.93</td>\n      <td>1.99</td>\n      <td>1.95</td>\n      <td>2.01</td>\n      <td>1.91</td>\n      <td>1.97</td>\n      <td>68.71875</td>\n      <td>75.151515</td>\n      <td>-6.432765</td>\n    </tr>\n    <tr>\n      <th>...</th>\n      <td>...</td>\n      <td>...</td>\n      <td>...</td>\n      <td>...</td>\n      <td>...</td>\n      <td>...</td>\n      <td>...</td>\n      <td>...</td>\n      <td>...</td>\n      <td>...</td>\n      <td>...</td>\n      <td>...</td>\n      <td>...</td>\n      <td>...</td>\n      <td>...</td>\n      <td>...</td>\n      <td>...</td>\n      <td>...</td>\n      <td>...</td>\n      <td>...</td>\n      <td>...</td>\n    </tr>\n    <tr>\n      <th>375</th>\n      <td>E0</td>\n      <td>23/05/2021</td>\n      <td>16:00</td>\n      <td>Liverpool</td>\n      <td>Crystal Palace</td>\n      <td>2</td>\n      <td>0</td>\n      <td>H</td>\n      <td>1</td>\n      <td>0</td>\n      <td>...</td>\n      <td>2.04</td>\n      <td>1.88</td>\n      <td>2.03</td>\n      <td>1.98</td>\n      <td>2.14</td>\n      <td>1.88</td>\n      <td>2.00</td>\n      <td>78.575758</td>\n      <td>71.454545</td>\n      <td>7.121212</td>\n    </tr>\n    <tr>\n      <th>376</th>\n      <td>E0</td>\n      <td>23/05/2021</td>\n      <td>16:00</td>\n      <td>Manchester City</td>\n      <td>Everton</td>\n      <td>5</td>\n      <td>0</td>\n      <td>H</td>\n      <td>2</td>\n      <td>0</td>\n      <td>...</td>\n      <td>1.89</td>\n      <td>1.99</td>\n      <td>1.89</td>\n      <td>2.20</td>\n      <td>2.00</td>\n      <td>2.03</td>\n      <td>1.85</td>\n      <td>77.484848</td>\n      <td>74.393939</td>\n      <td>3.090909</td>\n    </tr>\n    <tr>\n      <th>377</th>\n      <td>E0</td>\n      <td>23/05/2021</td>\n      <td>16:00</td>\n      <td>Sheffield Utd</td>\n      <td>Burnley</td>\n      <td>1</td>\n      <td>0</td>\n      <td>H</td>\n      <td>1</td>\n      <td>0</td>\n      <td>...</td>\n      <td>1.86</td>\n      <td>2.05</td>\n      <td>1.86</td>\n      <td>2.17</td>\n      <td>1.90</td>\n      <td>2.03</td>\n      <td>1.84</td>\n      <td>69.935484</td>\n      <td>70.166667</td>\n      <td>-0.231183</td>\n    </tr>\n    <tr>\n      <th>378</th>\n      <td>E0</td>\n      <td>23/05/2021</td>\n      <td>16:00</td>\n      <td>West Ham</td>\n      <td>Southampton</td>\n      <td>3</td>\n      <td>0</td>\n      <td>H</td>\n      <td>2</td>\n      <td>0</td>\n      <td>...</td>\n      <td>1.90</td>\n      <td>2.02</td>\n      <td>1.91</td>\n      <td>2.06</td>\n      <td>2.01</td>\n      <td>1.99</td>\n      <td>1.89</td>\n      <td>71.30303</td>\n      <td>71.30303</td>\n      <td>0.0</td>\n    </tr>\n    <tr>\n      <th>379</th>\n      <td>E0</td>\n      <td>23/05/2021</td>\n      <td>16:00</td>\n      <td>Wolves</td>\n      <td>Manchester Utd</td>\n      <td>1</td>\n      <td>2</td>\n      <td>A</td>\n      <td>1</td>\n      <td>2</td>\n      <td>...</td>\n      <td>1.86</td>\n      <td>2.10</td>\n      <td>1.84</td>\n      <td>2.10</td>\n      <td>1.94</td>\n      <td>2.00</td>\n      <td>1.88</td>\n      <td>69.636364</td>\n      <td>77.818182</td>\n      <td>-8.181818</td>\n    </tr>\n  </tbody>\n</table>\n<p>380 rows × 109 columns</p>\n</div>"
     },
     "execution_count": 361,
     "metadata": {},
     "output_type": "execute_result"
    }
   ],
   "source": [
    "#merge dataframes\n",
    "PL_21_team_ratings = pd.merge(PL_20_21, fifa_rating_home, on='HomeTeam', how='left')\n",
    "PL_21_team_ratings = pd.merge(PL_21_team_ratings, fifa_rating_away, on='AwayTeam', how='left')\n",
    "\n",
    "PL_21_team_ratings['Rating difference'] = PL_21_team_ratings['Rating_Home']-PL_21_team_ratings['Rating_Away']\n",
    "\n",
    "PL_21_team_ratings"
   ],
   "metadata": {
    "collapsed": false,
    "pycharm": {
     "name": "#%%\n"
    }
   }
  },
  {
   "cell_type": "code",
   "execution_count": 362,
   "outputs": [],
   "source": [
    "#feature selection on Home, Draw, Away\n",
    "\n",
    "#add column for H A X\n",
    "conditions = [\n",
    "    (PL_21_team_ratings['FTR'] == 'H'),\n",
    "    (PL_21_team_ratings['FTR'] == 'A'),\n",
    "    (PL_21_team_ratings['FTR'] == 'D')]\n",
    "choices = [1, 2, 3]\n",
    "PL_21_team_ratings['identifier'] = np.select(conditions, choices)\n",
    "y = PL_21_team_ratings['identifier'].to_numpy()\n",
    "X = PL_21_team_ratings[['Rating difference','Rating_Home', 'Rating_Away', 'HTHG', 'HTAG','HST', 'AST', 'B365H', 'B365A', 'HY']].to_numpy()\n"
   ],
   "metadata": {
    "collapsed": false,
    "pycharm": {
     "name": "#%%\n"
    }
   }
  },
  {
   "cell_type": "code",
   "execution_count": 363,
   "outputs": [
    {
     "data": {
      "text/plain": "array([26.92577115,  7.68772731, 20.8822317 , 51.81782551, 49.49891117,\n       54.57820499, 36.36034325, 21.26003433, 21.32659061,  4.86561014])"
     },
     "execution_count": 363,
     "metadata": {},
     "output_type": "execute_result"
    }
   ],
   "source": [
    "#X_new = SelectKBest(chi2, k=2).fit_transform(GX, Gy)\n",
    "#print(X_new)\n",
    "sel = SelectKBest(f_classif, k=2)\n",
    "sel.fit(X, y)\n",
    "sel.transform(X).shape\n",
    "sel.scores_\n",
    "\n",
    "#scores = -np.log10(sel.pvalues_)\n",
    "#scores"
   ],
   "metadata": {
    "collapsed": false,
    "pycharm": {
     "name": "#%%\n"
    }
   }
  },
  {
   "cell_type": "code",
   "execution_count": 364,
   "outputs": [
    {
     "name": "stdout",
     "output_type": "stream",
     "text": [
      "overall [30.57675981]\n",
      "potential [30.45523395]\n",
      "value_eur [27.9724065]\n",
      "wage_eur [28.96350318]\n",
      "age [4.20936641]\n",
      "shooting [26.50200409]\n",
      "passing [29.81511811]\n",
      "defending [19.4090979]\n",
      "dribbling [26.42890653]\n",
      "pace [15.82995693]\n",
      "mentality_aggression [19.65679484]\n"
     ]
    }
   ],
   "source": [
    "#test, which feature brings best values\n",
    "\n",
    "test = ['overall','potential','value_eur','wage_eur','age','shooting','passing','defending','dribbling','pace','mentality_aggression']\n",
    "for i in test:\n",
    "    #order teams by player rating/mw/potential..\n",
    "    teams_21 = players_fifa_21.groupby(['club_name']).sum()[i]\n",
    "    player_strength = teams_21.sort_values(ascending=False)\n",
    "\n",
    "    player_strength\n",
    "    ser = pd.Series(player_strength)\n",
    "    tmp = np.append([ser.index.to_numpy()], [ser.to_numpy()], axis=0)\n",
    "    tmp = np.swapaxes(tmp, 0, 1)\n",
    "    fifa_rating_home = pd.DataFrame(tmp, columns=['HomeTeam', 'Rating_Home'])\n",
    "    fifa_rating_away = pd.DataFrame(tmp, columns=['AwayTeam', 'Rating_Away'])\n",
    "    fifa_rating_away\n",
    "\n",
    "\n",
    "\n",
    "    #merge dataframes\n",
    "    PL_21_team_ratings = pd.merge(PL_20_21, fifa_rating_home, on='HomeTeam', how='left')\n",
    "    PL_21_team_ratings = pd.merge(PL_21_team_ratings, fifa_rating_away, on='AwayTeam', how='left')\n",
    "\n",
    "    PL_21_team_ratings['Rating difference'] = PL_21_team_ratings['Rating_Home'] - PL_21_team_ratings['Rating_Away']\n",
    "\n",
    "   #feature selection on Home, Draw, Away\n",
    "\n",
    "    #add column for H A X\n",
    "    conditions = [\n",
    "        (PL_21_team_ratings['FTR'] == 'H'),\n",
    "        (PL_21_team_ratings['FTR'] == 'A'),\n",
    "        (PL_21_team_ratings['FTR'] == 'D')]\n",
    "    choices = [1, 2, 3]\n",
    "    PL_21_team_ratings['identifier'] = np.select(conditions, choices)\n",
    "    y = PL_21_team_ratings['identifier'].to_numpy()\n",
    "    X = PL_21_team_ratings[\n",
    "         ['Rating difference']].to_numpy()\n",
    "\n",
    "#X_new = SelectKBest(chi2, k=2).fit_transform(GX, Gy)\n",
    "#print(X_new)\n",
    "    sel = SelectKBest(f_classif, k=1)\n",
    "    sel.fit(X, y)\n",
    "    sel.transform(X).shape\n",
    "    print(i, sel.scores_)\n",
    "\n",
    "#scores = -np.log10(sel.pvalues_)\n",
    "#scores\n"
   ],
   "metadata": {
    "collapsed": false,
    "pycharm": {
     "name": "#%%\n"
    }
   }
  }
 ],
 "metadata": {
  "kernelspec": {
   "display_name": "Python 3 (ipykernel)",
   "language": "python",
   "name": "python3"
  },
  "language_info": {
   "codemirror_mode": {
    "name": "ipython",
    "version": 3
   },
   "file_extension": ".py",
   "mimetype": "text/x-python",
   "name": "python",
   "nbconvert_exporter": "python",
   "pygments_lexer": "ipython3",
   "version": "3.10.0"
  }
 },
 "nbformat": 4,
 "nbformat_minor": 1
}