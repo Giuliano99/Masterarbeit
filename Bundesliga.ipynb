{
 "cells": [
  {
   "cell_type": "code",
   "execution_count": 1,
   "metadata": {
    "collapsed": true
   },
   "outputs": [],
   "source": [
    "#import necessary packages\n",
    "import pandas as pd\n",
    "import numpy as np"
   ]
  },
  {
   "cell_type": "code",
   "execution_count": 38,
   "outputs": [],
   "source": [
    "BL2021_keepers = pd.read_csv('BL2020_keepers.csv')\n",
    "BL2021_players = pd.read_csv('BL2020_players.csv')\n"
   ],
   "metadata": {
    "collapsed": false,
    "pycharm": {
     "name": "#%%\n"
    }
   }
  },
  {
   "cell_type": "code",
   "execution_count": 4,
   "outputs": [
    {
     "data": {
      "text/plain": "              player  shots_on_target_against  goals_against_gk  saves  \\\n0        Yann Sommer                      9.0               1.0    8.0   \n1       Manuel Neuer                      4.0               1.0    3.0   \n2     Florian Müller                      3.0               1.0    2.0   \n3    Sascha Burchert                     15.0               5.0   10.0   \n4      Andreas Luthe                      3.0               1.0    2.0   \n..               ...                      ...               ...    ...   \n611    Michael Esser                     10.0               3.0    8.0   \n612  Rafał Gikiewicz                      4.0               1.0    3.0   \n613  Sascha Burchert                      2.0               2.0    1.0   \n614    Stefan Ortega                     10.0               1.0    9.0   \n615    Péter Gulácsi                      4.0               1.0    3.0   \n\n     save_pct  psxg_gk  passes_completed_launched_gk  passes_gk  \\\n0        88.9      2.1                          10.0       30.0   \n1        75.0      0.4                           6.0       44.0   \n2        66.7      0.8                           5.0       23.0   \n3        66.7      4.5                           7.0       26.0   \n4        66.7      0.5                           2.0       23.0   \n..        ...      ...                           ...        ...   \n611      80.0      2.5                           7.0       40.0   \n612      75.0      1.3                           7.0       22.0   \n613      50.0      1.2                           6.0       44.0   \n614      90.0      2.4                          13.0       63.0   \n615      75.0      1.4                           8.0       33.0   \n\n     passes_throws_gk  pct_passes_launched_gk  \\\n0                 4.0                    66.7   \n1                 9.0                    18.2   \n2                 5.0                    34.8   \n3                 5.0                    46.2   \n4                 4.0                    39.1   \n..                ...                     ...   \n611               3.0                    37.5   \n612               4.0                    40.9   \n613               3.0                    56.8   \n614               9.0                    38.1   \n615               4.0                    27.3   \n\n     def_actions_outside_pen_area_gk             Team  matchweek  \n0                                1.0  Mönchengladbach        1.0  \n1                                2.0    Bayern Munich        1.0  \n2                                0.0        Stuttgart        1.0  \n3                                1.0   Greuther Fürth        1.0  \n4                                1.0     Union Berlin        1.0  \n..                               ...              ...        ...  \n611                              1.0           Bochum       34.0  \n612                              1.0         Augsburg       34.0  \n613                              2.0   Greuther Fürth       34.0  \n614                              0.0          Arminia       34.0  \n615                              0.0       RB Leipzig       34.0  \n\n[616 rows x 13 columns]",
      "text/html": "<div>\n<style scoped>\n    .dataframe tbody tr th:only-of-type {\n        vertical-align: middle;\n    }\n\n    .dataframe tbody tr th {\n        vertical-align: top;\n    }\n\n    .dataframe thead th {\n        text-align: right;\n    }\n</style>\n<table border=\"1\" class=\"dataframe\">\n  <thead>\n    <tr style=\"text-align: right;\">\n      <th></th>\n      <th>player</th>\n      <th>shots_on_target_against</th>\n      <th>goals_against_gk</th>\n      <th>saves</th>\n      <th>save_pct</th>\n      <th>psxg_gk</th>\n      <th>passes_completed_launched_gk</th>\n      <th>passes_gk</th>\n      <th>passes_throws_gk</th>\n      <th>pct_passes_launched_gk</th>\n      <th>def_actions_outside_pen_area_gk</th>\n      <th>Team</th>\n      <th>matchweek</th>\n    </tr>\n  </thead>\n  <tbody>\n    <tr>\n      <th>0</th>\n      <td>Yann Sommer</td>\n      <td>9.0</td>\n      <td>1.0</td>\n      <td>8.0</td>\n      <td>88.9</td>\n      <td>2.1</td>\n      <td>10.0</td>\n      <td>30.0</td>\n      <td>4.0</td>\n      <td>66.7</td>\n      <td>1.0</td>\n      <td>Mönchengladbach</td>\n      <td>1.0</td>\n    </tr>\n    <tr>\n      <th>1</th>\n      <td>Manuel Neuer</td>\n      <td>4.0</td>\n      <td>1.0</td>\n      <td>3.0</td>\n      <td>75.0</td>\n      <td>0.4</td>\n      <td>6.0</td>\n      <td>44.0</td>\n      <td>9.0</td>\n      <td>18.2</td>\n      <td>2.0</td>\n      <td>Bayern Munich</td>\n      <td>1.0</td>\n    </tr>\n    <tr>\n      <th>2</th>\n      <td>Florian Müller</td>\n      <td>3.0</td>\n      <td>1.0</td>\n      <td>2.0</td>\n      <td>66.7</td>\n      <td>0.8</td>\n      <td>5.0</td>\n      <td>23.0</td>\n      <td>5.0</td>\n      <td>34.8</td>\n      <td>0.0</td>\n      <td>Stuttgart</td>\n      <td>1.0</td>\n    </tr>\n    <tr>\n      <th>3</th>\n      <td>Sascha Burchert</td>\n      <td>15.0</td>\n      <td>5.0</td>\n      <td>10.0</td>\n      <td>66.7</td>\n      <td>4.5</td>\n      <td>7.0</td>\n      <td>26.0</td>\n      <td>5.0</td>\n      <td>46.2</td>\n      <td>1.0</td>\n      <td>Greuther Fürth</td>\n      <td>1.0</td>\n    </tr>\n    <tr>\n      <th>4</th>\n      <td>Andreas Luthe</td>\n      <td>3.0</td>\n      <td>1.0</td>\n      <td>2.0</td>\n      <td>66.7</td>\n      <td>0.5</td>\n      <td>2.0</td>\n      <td>23.0</td>\n      <td>4.0</td>\n      <td>39.1</td>\n      <td>1.0</td>\n      <td>Union Berlin</td>\n      <td>1.0</td>\n    </tr>\n    <tr>\n      <th>...</th>\n      <td>...</td>\n      <td>...</td>\n      <td>...</td>\n      <td>...</td>\n      <td>...</td>\n      <td>...</td>\n      <td>...</td>\n      <td>...</td>\n      <td>...</td>\n      <td>...</td>\n      <td>...</td>\n      <td>...</td>\n      <td>...</td>\n    </tr>\n    <tr>\n      <th>611</th>\n      <td>Michael Esser</td>\n      <td>10.0</td>\n      <td>3.0</td>\n      <td>8.0</td>\n      <td>80.0</td>\n      <td>2.5</td>\n      <td>7.0</td>\n      <td>40.0</td>\n      <td>3.0</td>\n      <td>37.5</td>\n      <td>1.0</td>\n      <td>Bochum</td>\n      <td>34.0</td>\n    </tr>\n    <tr>\n      <th>612</th>\n      <td>Rafał Gikiewicz</td>\n      <td>4.0</td>\n      <td>1.0</td>\n      <td>3.0</td>\n      <td>75.0</td>\n      <td>1.3</td>\n      <td>7.0</td>\n      <td>22.0</td>\n      <td>4.0</td>\n      <td>40.9</td>\n      <td>1.0</td>\n      <td>Augsburg</td>\n      <td>34.0</td>\n    </tr>\n    <tr>\n      <th>613</th>\n      <td>Sascha Burchert</td>\n      <td>2.0</td>\n      <td>2.0</td>\n      <td>1.0</td>\n      <td>50.0</td>\n      <td>1.2</td>\n      <td>6.0</td>\n      <td>44.0</td>\n      <td>3.0</td>\n      <td>56.8</td>\n      <td>2.0</td>\n      <td>Greuther Fürth</td>\n      <td>34.0</td>\n    </tr>\n    <tr>\n      <th>614</th>\n      <td>Stefan Ortega</td>\n      <td>10.0</td>\n      <td>1.0</td>\n      <td>9.0</td>\n      <td>90.0</td>\n      <td>2.4</td>\n      <td>13.0</td>\n      <td>63.0</td>\n      <td>9.0</td>\n      <td>38.1</td>\n      <td>0.0</td>\n      <td>Arminia</td>\n      <td>34.0</td>\n    </tr>\n    <tr>\n      <th>615</th>\n      <td>Péter Gulácsi</td>\n      <td>4.0</td>\n      <td>1.0</td>\n      <td>3.0</td>\n      <td>75.0</td>\n      <td>1.4</td>\n      <td>8.0</td>\n      <td>33.0</td>\n      <td>4.0</td>\n      <td>27.3</td>\n      <td>0.0</td>\n      <td>RB Leipzig</td>\n      <td>34.0</td>\n    </tr>\n  </tbody>\n</table>\n<p>616 rows × 13 columns</p>\n</div>"
     },
     "execution_count": 4,
     "metadata": {},
     "output_type": "execute_result"
    }
   ],
   "source": [
    "BL2021_keepers"
   ],
   "metadata": {
    "collapsed": false,
    "pycharm": {
     "name": "#%%\n"
    }
   }
  },
  {
   "cell_type": "code",
   "execution_count": 35,
   "outputs": [
    {
     "data": {
      "text/plain": "player\nStefan Ortega         1956.278884\nManuel Riemann        1921.766418\nOliver Baumann        1678.064320\nYann Sommer           1675.502558\nMark Flekken          1571.037067\nLukáš Hrádecký        1518.040737\nKevin Trapp           1471.624731\nManuel Neuer          1432.970084\nPéter Gulácsi         1402.111029\nRafał Gikiewicz       1367.927578\nKoen Casteels         1215.319222\nGregor Kobel          1162.769822\nRobin Zentner         1156.986364\nMarvin Schwäbe        1125.796390\nAndreas Luthe         1073.292634\nFlorian Müller        1056.290295\nAlexander Schwolow     869.576463\nSascha Burchert        580.025104\nTimo Horn              567.904756\nAndreas Linde          523.139537\nMarcel Lotka           354.337118\nMarius Funk            303.174150\nFrederik Rønnow        297.529526\nSven Ulreich           247.724463\nPavao Pervan           197.927008\nMarwin Hitz            175.403663\nFabian Bredlow         153.036268\nMichael Esser          138.049866\nFinn Dahmen             66.520226\nBenjamin Uphoff         56.604097\nStefanos Kapino         51.680265\nDiant Ramaj             51.423518\nAndrey Lunyov           51.379776\nTobias Sippel           48.059185\nLennart Grill           47.146308\nPhilipp Pentke          39.168141\nRoman Bürki             23.772846\nJens Grahl              19.503243\nPhilipp Tschauner       12.932428\nJosep Martinez          12.204028\nChristian Früchtl       10.269869\nName: Rating_gk, dtype: float64"
     },
     "execution_count": 35,
     "metadata": {},
     "output_type": "execute_result"
    }
   ],
   "source": [
    "BL2021_keepers['Rating_gk'] = ((BL2021_keepers['psxg_gk'] - BL2021_keepers['goals_against_gk'])*100)+(BL2021_keepers['save_pct']/100*80) + (BL2021_keepers['goals_against_gk']*-80)  +(BL2021_keepers['saves']*60) + (BL2021_keepers['pct_passes_launched_gk']/100*40) + (BL2021_keepers['passes_gk']*20) + (BL2021_keepers['def_actions_outside_pen_area_gk']*20)\n",
    "\n",
    "\n",
    "OldMax = BL2021_keepers['Rating_gk'].max()\n",
    "OldMin = BL2021_keepers['Rating_gk'].min()\n",
    "NewMax = 100\n",
    "NewMin = 0\n",
    "\n",
    "\n",
    "OldRange = (OldMax - OldMin)\n",
    "NewRange = (NewMax - NewMin)\n",
    "BL2021_keepers['Rating_gk'] = (((BL2021_keepers['Rating_gk'] - OldMin) * NewRange) / OldRange) + NewMin\n",
    "gk21 = BL2021_keepers.groupby(['player']).sum()['Rating_gk']\n",
    "keeper_strength = gk21.sort_values(ascending=False)\n",
    "keeper_strength"
   ],
   "metadata": {
    "collapsed": false,
    "pycharm": {
     "name": "#%%\n"
    }
   }
  },
  {
   "cell_type": "markdown",
   "source": [],
   "metadata": {
    "collapsed": false
   }
  },
  {
   "cell_type": "code",
   "execution_count": 41,
   "outputs": [],
   "source": [
    "Defenders = BL2021_players.drop(BL2021_players[BL2021_players.category != 'Defender'].index)\n",
    "Midfielders = BL2021_players.drop(BL2021_players[BL2021_players.category != 'Midfield'].index)\n",
    "Forwards = BL2021_players.drop(BL2021_players[BL2021_players.category != 'Forward'].index)"
   ],
   "metadata": {
    "collapsed": false,
    "pycharm": {
     "name": "#%%\n"
    }
   }
  },
  {
   "cell_type": "code",
   "execution_count": 45,
   "outputs": [
    {
     "data": {
      "text/plain": "                  player  shirtnumber nationality position     age  minutes  \\\n10            Joe Scally         29.0      us USA       LB  18-225     90.0   \n11           Nico Elvedi         30.0      ch SUI       CB  24-317     90.0   \n12       Matthias Ginter         28.0      de GER       CB  27-206     90.0   \n13         Stefan Lainer         18.0      at AUT       RB  28-351     90.0   \n24       Alphonso Davies         19.0      ca CAN       LB  20-284     90.0   \n...                  ...          ...         ...      ...     ...      ...   \n9386          Hugo Novoa         38.0      es ESP       WB  19-133      5.0   \n9387   Benjamin Henrichs         39.0      de GER       WB  25-080     90.0   \n9388  Marcel Halstenberg         23.0      de GER       CB  30-229     90.0   \n9389         Willi Orban          4.0      hu HUN       CB  29-192     90.0   \n9390     Mohamed Simakan          2.0      fr FRA       CB  22-011     90.0   \n\n      goals  assists  touches  sca  ...   xa  passes  passes_pct  \\\n10      0.0      0.0     56.0  0.0  ...  0.0    37.0        81.1   \n11      0.0      0.0     40.0  1.0  ...  0.0    23.0        95.7   \n12      0.0      0.0     38.0  1.0  ...  0.0    16.0        75.0   \n13      0.0      0.0     51.0  1.0  ...  0.5    40.0        75.0   \n24      0.0      0.0     99.0  3.0  ...  0.5    84.0        84.5   \n...     ...      ...      ...  ...  ...  ...     ...         ...   \n9386    0.0      0.0      5.0  1.0  ...  0.0     3.0        66.7   \n9387    0.0      0.0     72.0  4.0  ...  0.4    63.0        73.0   \n9388    0.0      0.0     79.0  0.0  ...  0.0    73.0        91.8   \n9389    1.0      0.0    106.0  0.0  ...  0.0    91.0        89.0   \n9390    0.0      0.0     94.0  0.0  ...  0.0    86.0        88.4   \n\n      progressive_passes  progressive_carries  dribbles_completed  dribbles  \\\n10                   2.0                  2.0                 2.0       2.0   \n11                   0.0                  0.0                 0.0       0.0   \n12                   0.0                  0.0                 0.0       0.0   \n13                   3.0                  2.0                 0.0       0.0   \n24                   8.0                 19.0                 6.0      11.0   \n...                  ...                  ...                 ...       ...   \n9386                 0.0                  0.0                 0.0       0.0   \n9387                 8.0                 11.0                 0.0       0.0   \n9388                 5.0                  3.0                 1.0       1.0   \n9389                 0.0                  0.0                 0.0       0.0   \n9390                 5.0                  3.0                 0.0       1.0   \n\n                 Team  matchweek  category  \n10    Mönchengladbach        1.0  Defender  \n11    Mönchengladbach        1.0  Defender  \n12    Mönchengladbach        1.0  Defender  \n13    Mönchengladbach        1.0  Defender  \n24      Bayern Munich        1.0  Defender  \n...               ...        ...       ...  \n9386       RB Leipzig       34.0  Defender  \n9387       RB Leipzig       34.0  Defender  \n9388       RB Leipzig       34.0  Defender  \n9389       RB Leipzig       34.0  Defender  \n9390       RB Leipzig       34.0  Defender  \n\n[3368 rows x 29 columns]",
      "text/html": "<div>\n<style scoped>\n    .dataframe tbody tr th:only-of-type {\n        vertical-align: middle;\n    }\n\n    .dataframe tbody tr th {\n        vertical-align: top;\n    }\n\n    .dataframe thead th {\n        text-align: right;\n    }\n</style>\n<table border=\"1\" class=\"dataframe\">\n  <thead>\n    <tr style=\"text-align: right;\">\n      <th></th>\n      <th>player</th>\n      <th>shirtnumber</th>\n      <th>nationality</th>\n      <th>position</th>\n      <th>age</th>\n      <th>minutes</th>\n      <th>goals</th>\n      <th>assists</th>\n      <th>touches</th>\n      <th>sca</th>\n      <th>...</th>\n      <th>xa</th>\n      <th>passes</th>\n      <th>passes_pct</th>\n      <th>progressive_passes</th>\n      <th>progressive_carries</th>\n      <th>dribbles_completed</th>\n      <th>dribbles</th>\n      <th>Team</th>\n      <th>matchweek</th>\n      <th>category</th>\n    </tr>\n  </thead>\n  <tbody>\n    <tr>\n      <th>10</th>\n      <td>Joe Scally</td>\n      <td>29.0</td>\n      <td>us USA</td>\n      <td>LB</td>\n      <td>18-225</td>\n      <td>90.0</td>\n      <td>0.0</td>\n      <td>0.0</td>\n      <td>56.0</td>\n      <td>0.0</td>\n      <td>...</td>\n      <td>0.0</td>\n      <td>37.0</td>\n      <td>81.1</td>\n      <td>2.0</td>\n      <td>2.0</td>\n      <td>2.0</td>\n      <td>2.0</td>\n      <td>Mönchengladbach</td>\n      <td>1.0</td>\n      <td>Defender</td>\n    </tr>\n    <tr>\n      <th>11</th>\n      <td>Nico Elvedi</td>\n      <td>30.0</td>\n      <td>ch SUI</td>\n      <td>CB</td>\n      <td>24-317</td>\n      <td>90.0</td>\n      <td>0.0</td>\n      <td>0.0</td>\n      <td>40.0</td>\n      <td>1.0</td>\n      <td>...</td>\n      <td>0.0</td>\n      <td>23.0</td>\n      <td>95.7</td>\n      <td>0.0</td>\n      <td>0.0</td>\n      <td>0.0</td>\n      <td>0.0</td>\n      <td>Mönchengladbach</td>\n      <td>1.0</td>\n      <td>Defender</td>\n    </tr>\n    <tr>\n      <th>12</th>\n      <td>Matthias Ginter</td>\n      <td>28.0</td>\n      <td>de GER</td>\n      <td>CB</td>\n      <td>27-206</td>\n      <td>90.0</td>\n      <td>0.0</td>\n      <td>0.0</td>\n      <td>38.0</td>\n      <td>1.0</td>\n      <td>...</td>\n      <td>0.0</td>\n      <td>16.0</td>\n      <td>75.0</td>\n      <td>0.0</td>\n      <td>0.0</td>\n      <td>0.0</td>\n      <td>0.0</td>\n      <td>Mönchengladbach</td>\n      <td>1.0</td>\n      <td>Defender</td>\n    </tr>\n    <tr>\n      <th>13</th>\n      <td>Stefan Lainer</td>\n      <td>18.0</td>\n      <td>at AUT</td>\n      <td>RB</td>\n      <td>28-351</td>\n      <td>90.0</td>\n      <td>0.0</td>\n      <td>0.0</td>\n      <td>51.0</td>\n      <td>1.0</td>\n      <td>...</td>\n      <td>0.5</td>\n      <td>40.0</td>\n      <td>75.0</td>\n      <td>3.0</td>\n      <td>2.0</td>\n      <td>0.0</td>\n      <td>0.0</td>\n      <td>Mönchengladbach</td>\n      <td>1.0</td>\n      <td>Defender</td>\n    </tr>\n    <tr>\n      <th>24</th>\n      <td>Alphonso Davies</td>\n      <td>19.0</td>\n      <td>ca CAN</td>\n      <td>LB</td>\n      <td>20-284</td>\n      <td>90.0</td>\n      <td>0.0</td>\n      <td>0.0</td>\n      <td>99.0</td>\n      <td>3.0</td>\n      <td>...</td>\n      <td>0.5</td>\n      <td>84.0</td>\n      <td>84.5</td>\n      <td>8.0</td>\n      <td>19.0</td>\n      <td>6.0</td>\n      <td>11.0</td>\n      <td>Bayern Munich</td>\n      <td>1.0</td>\n      <td>Defender</td>\n    </tr>\n    <tr>\n      <th>...</th>\n      <td>...</td>\n      <td>...</td>\n      <td>...</td>\n      <td>...</td>\n      <td>...</td>\n      <td>...</td>\n      <td>...</td>\n      <td>...</td>\n      <td>...</td>\n      <td>...</td>\n      <td>...</td>\n      <td>...</td>\n      <td>...</td>\n      <td>...</td>\n      <td>...</td>\n      <td>...</td>\n      <td>...</td>\n      <td>...</td>\n      <td>...</td>\n      <td>...</td>\n      <td>...</td>\n    </tr>\n    <tr>\n      <th>9386</th>\n      <td>Hugo Novoa</td>\n      <td>38.0</td>\n      <td>es ESP</td>\n      <td>WB</td>\n      <td>19-133</td>\n      <td>5.0</td>\n      <td>0.0</td>\n      <td>0.0</td>\n      <td>5.0</td>\n      <td>1.0</td>\n      <td>...</td>\n      <td>0.0</td>\n      <td>3.0</td>\n      <td>66.7</td>\n      <td>0.0</td>\n      <td>0.0</td>\n      <td>0.0</td>\n      <td>0.0</td>\n      <td>RB Leipzig</td>\n      <td>34.0</td>\n      <td>Defender</td>\n    </tr>\n    <tr>\n      <th>9387</th>\n      <td>Benjamin Henrichs</td>\n      <td>39.0</td>\n      <td>de GER</td>\n      <td>WB</td>\n      <td>25-080</td>\n      <td>90.0</td>\n      <td>0.0</td>\n      <td>0.0</td>\n      <td>72.0</td>\n      <td>4.0</td>\n      <td>...</td>\n      <td>0.4</td>\n      <td>63.0</td>\n      <td>73.0</td>\n      <td>8.0</td>\n      <td>11.0</td>\n      <td>0.0</td>\n      <td>0.0</td>\n      <td>RB Leipzig</td>\n      <td>34.0</td>\n      <td>Defender</td>\n    </tr>\n    <tr>\n      <th>9388</th>\n      <td>Marcel Halstenberg</td>\n      <td>23.0</td>\n      <td>de GER</td>\n      <td>CB</td>\n      <td>30-229</td>\n      <td>90.0</td>\n      <td>0.0</td>\n      <td>0.0</td>\n      <td>79.0</td>\n      <td>0.0</td>\n      <td>...</td>\n      <td>0.0</td>\n      <td>73.0</td>\n      <td>91.8</td>\n      <td>5.0</td>\n      <td>3.0</td>\n      <td>1.0</td>\n      <td>1.0</td>\n      <td>RB Leipzig</td>\n      <td>34.0</td>\n      <td>Defender</td>\n    </tr>\n    <tr>\n      <th>9389</th>\n      <td>Willi Orban</td>\n      <td>4.0</td>\n      <td>hu HUN</td>\n      <td>CB</td>\n      <td>29-192</td>\n      <td>90.0</td>\n      <td>1.0</td>\n      <td>0.0</td>\n      <td>106.0</td>\n      <td>0.0</td>\n      <td>...</td>\n      <td>0.0</td>\n      <td>91.0</td>\n      <td>89.0</td>\n      <td>0.0</td>\n      <td>0.0</td>\n      <td>0.0</td>\n      <td>0.0</td>\n      <td>RB Leipzig</td>\n      <td>34.0</td>\n      <td>Defender</td>\n    </tr>\n    <tr>\n      <th>9390</th>\n      <td>Mohamed Simakan</td>\n      <td>2.0</td>\n      <td>fr FRA</td>\n      <td>CB</td>\n      <td>22-011</td>\n      <td>90.0</td>\n      <td>0.0</td>\n      <td>0.0</td>\n      <td>94.0</td>\n      <td>0.0</td>\n      <td>...</td>\n      <td>0.0</td>\n      <td>86.0</td>\n      <td>88.4</td>\n      <td>5.0</td>\n      <td>3.0</td>\n      <td>0.0</td>\n      <td>1.0</td>\n      <td>RB Leipzig</td>\n      <td>34.0</td>\n      <td>Defender</td>\n    </tr>\n  </tbody>\n</table>\n<p>3368 rows × 29 columns</p>\n</div>"
     },
     "execution_count": 45,
     "metadata": {},
     "output_type": "execute_result"
    }
   ],
   "source": [
    "Defenders"
   ],
   "metadata": {
    "collapsed": false,
    "pycharm": {
     "name": "#%%\n"
    }
   }
  },
  {
   "cell_type": "code",
   "execution_count": 68,
   "outputs": [
    {
     "data": {
      "text/plain": "player\nDanilo Soares      1629.549649\nDavid Raum         1563.653779\nBenno Schmitz      1522.192374\nDayot Upamecano    1514.974006\nSilvan Widmer      1464.107947\n                      ...     \nGabriel Vidovic       0.885869\nBartosz Bialek        0.483157\nAlassane Pléa         0.483157\nMatej Maglica         0.241579\nLion Semić            0.000000\nName: Rating_df, Length: 259, dtype: float64"
     },
     "execution_count": 68,
     "metadata": {},
     "output_type": "execute_result"
    }
   ],
   "source": [
    "Defenders['Rating_df'] = (Defenders['tackles']*60)+(Defenders['interceptions']*20) + (Defenders['blocks']*20)  +(Defenders['pressures']*60) + (Defenders['passes']*10) + (Defenders['goals']*10) + (Defenders['assists']*30) +((Defenders['progressive_carries']*40)) + ((Defenders['passes_pct']/100*10) + ((Defenders['progressive_passes']*50) ) )\n",
    "#Defenders['Rating_df'] = (Defenders['progressive_carries'])\n",
    "\n",
    "OldMax = Defenders['Rating_df'].max()\n",
    "OldMin = Defenders['Rating_df'].min()\n",
    "NewMax = 100\n",
    "NewMin = 0\n",
    "\n",
    "\n",
    "OldRange = (OldMax - OldMin)\n",
    "NewRange = (NewMax - NewMin)\n",
    "Defenders['Rating_df'] = (((Defenders['Rating_df'] - OldMin) * NewRange) / OldRange) + NewMin\n",
    "df21 = Defenders.groupby(['player']).sum()['Rating_df']\n",
    "defender_strength = df21.sort_values(ascending=False)\n",
    "defender_strength"
   ],
   "metadata": {
    "collapsed": false,
    "pycharm": {
     "name": "#%%\n"
    }
   }
  }
 ],
 "metadata": {
  "kernelspec": {
   "display_name": "Python 3",
   "language": "python",
   "name": "python3"
  },
  "language_info": {
   "codemirror_mode": {
    "name": "ipython",
    "version": 2
   },
   "file_extension": ".py",
   "mimetype": "text/x-python",
   "name": "python",
   "nbconvert_exporter": "python",
   "pygments_lexer": "ipython2",
   "version": "2.7.6"
  }
 },
 "nbformat": 4,
 "nbformat_minor": 0
}