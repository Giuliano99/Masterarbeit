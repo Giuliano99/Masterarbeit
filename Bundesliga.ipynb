{
 "cells": [
  {
   "cell_type": "code",
   "execution_count": 1,
   "metadata": {
    "collapsed": true
   },
   "outputs": [],
   "source": [
    "#import necessary packages\n",
    "import pandas as pd\n",
    "import numpy as np"
   ]
  },
  {
   "cell_type": "code",
   "execution_count": 2,
   "outputs": [],
   "source": [
    "BL2021_keepers = pd.read_csv('BL2020_keepers.csv')\n",
    "BL2021_players = pd.read_csv('BL2020_players.csv')\n"
   ],
   "metadata": {
    "collapsed": false,
    "pycharm": {
     "name": "#%%\n"
    }
   }
  },
  {
   "cell_type": "code",
   "execution_count": 3,
   "outputs": [
    {
     "data": {
      "text/plain": "                  player  shirtnumber nationality position     age  minutes  \\\n0          Alassane Pléa         14.0      fr FRA       FW  28-156     63.0   \n1          Marcus Thuram         10.0      fr FRA       FW  24-007     27.0   \n2            Hannes Wolf         11.0      at AUT       LW  22-119     71.0   \n3        Keanan Bennetts         37.0     eng ENG       LW  22-157     19.0   \n4       Patrick Herrmann          7.0      de GER       RW  30-182     63.0   \n...                  ...          ...         ...      ...     ...      ...   \n9387   Benjamin Henrichs         39.0      de GER       WB  25-080     90.0   \n9388  Marcel Halstenberg         23.0      de GER       CB  30-229     90.0   \n9389         Willi Orban          4.0      hu HUN       CB  29-192     90.0   \n9390     Mohamed Simakan          2.0      fr FRA       CB  22-011     90.0   \n9391       Péter Gulácsi          1.0      hu HUN       GK  32-008     90.0   \n\n      goals  assists  touches  sca  ...   xa  passes  passes_pct  \\\n0       1.0      0.0     34.0  3.0  ...  0.1    26.0        80.8   \n1       0.0      0.0      9.0  0.0  ...  0.0     4.0       100.0   \n2       0.0      0.0     39.0  2.0  ...  0.0    21.0        57.1   \n3       0.0      0.0     11.0  0.0  ...  0.0     8.0        75.0   \n4       0.0      0.0     35.0  3.0  ...  0.1    26.0        69.2   \n...     ...      ...      ...  ...  ...  ...     ...         ...   \n9387    0.0      0.0     72.0  4.0  ...  0.4    63.0        73.0   \n9388    0.0      0.0     79.0  0.0  ...  0.0    73.0        91.8   \n9389    1.0      0.0    106.0  0.0  ...  0.0    91.0        89.0   \n9390    0.0      0.0     94.0  0.0  ...  0.0    86.0        88.4   \n9391    0.0      0.0     39.0  0.0  ...  0.0    37.0        91.9   \n\n      progressive_passes  progressive_carries  dribbles_completed  dribbles  \\\n0                    2.0                  1.0                 0.0       0.0   \n1                    2.0                  1.0                 1.0       1.0   \n2                    0.0                  4.0                 0.0       1.0   \n3                    0.0                  3.0                 2.0       2.0   \n4                    2.0                  5.0                 0.0       0.0   \n...                  ...                  ...                 ...       ...   \n9387                 8.0                 11.0                 0.0       0.0   \n9388                 5.0                  3.0                 1.0       1.0   \n9389                 0.0                  0.0                 0.0       0.0   \n9390                 5.0                  3.0                 0.0       1.0   \n9391                 0.0                  0.0                 0.0       0.0   \n\n                 Team  matchweek    category  \n0     Mönchengladbach        1.0     Forward  \n1     Mönchengladbach        1.0     Forward  \n2     Mönchengladbach        1.0     Forward  \n3     Mönchengladbach        1.0     Forward  \n4     Mönchengladbach        1.0     Forward  \n...               ...        ...         ...  \n9387       RB Leipzig       34.0    Defender  \n9388       RB Leipzig       34.0    Defender  \n9389       RB Leipzig       34.0    Defender  \n9390       RB Leipzig       34.0    Defender  \n9391       RB Leipzig       34.0  Goalkeeper  \n\n[9392 rows x 29 columns]",
      "text/html": "<div>\n<style scoped>\n    .dataframe tbody tr th:only-of-type {\n        vertical-align: middle;\n    }\n\n    .dataframe tbody tr th {\n        vertical-align: top;\n    }\n\n    .dataframe thead th {\n        text-align: right;\n    }\n</style>\n<table border=\"1\" class=\"dataframe\">\n  <thead>\n    <tr style=\"text-align: right;\">\n      <th></th>\n      <th>player</th>\n      <th>shirtnumber</th>\n      <th>nationality</th>\n      <th>position</th>\n      <th>age</th>\n      <th>minutes</th>\n      <th>goals</th>\n      <th>assists</th>\n      <th>touches</th>\n      <th>sca</th>\n      <th>...</th>\n      <th>xa</th>\n      <th>passes</th>\n      <th>passes_pct</th>\n      <th>progressive_passes</th>\n      <th>progressive_carries</th>\n      <th>dribbles_completed</th>\n      <th>dribbles</th>\n      <th>Team</th>\n      <th>matchweek</th>\n      <th>category</th>\n    </tr>\n  </thead>\n  <tbody>\n    <tr>\n      <th>0</th>\n      <td>Alassane Pléa</td>\n      <td>14.0</td>\n      <td>fr FRA</td>\n      <td>FW</td>\n      <td>28-156</td>\n      <td>63.0</td>\n      <td>1.0</td>\n      <td>0.0</td>\n      <td>34.0</td>\n      <td>3.0</td>\n      <td>...</td>\n      <td>0.1</td>\n      <td>26.0</td>\n      <td>80.8</td>\n      <td>2.0</td>\n      <td>1.0</td>\n      <td>0.0</td>\n      <td>0.0</td>\n      <td>Mönchengladbach</td>\n      <td>1.0</td>\n      <td>Forward</td>\n    </tr>\n    <tr>\n      <th>1</th>\n      <td>Marcus Thuram</td>\n      <td>10.0</td>\n      <td>fr FRA</td>\n      <td>FW</td>\n      <td>24-007</td>\n      <td>27.0</td>\n      <td>0.0</td>\n      <td>0.0</td>\n      <td>9.0</td>\n      <td>0.0</td>\n      <td>...</td>\n      <td>0.0</td>\n      <td>4.0</td>\n      <td>100.0</td>\n      <td>2.0</td>\n      <td>1.0</td>\n      <td>1.0</td>\n      <td>1.0</td>\n      <td>Mönchengladbach</td>\n      <td>1.0</td>\n      <td>Forward</td>\n    </tr>\n    <tr>\n      <th>2</th>\n      <td>Hannes Wolf</td>\n      <td>11.0</td>\n      <td>at AUT</td>\n      <td>LW</td>\n      <td>22-119</td>\n      <td>71.0</td>\n      <td>0.0</td>\n      <td>0.0</td>\n      <td>39.0</td>\n      <td>2.0</td>\n      <td>...</td>\n      <td>0.0</td>\n      <td>21.0</td>\n      <td>57.1</td>\n      <td>0.0</td>\n      <td>4.0</td>\n      <td>0.0</td>\n      <td>1.0</td>\n      <td>Mönchengladbach</td>\n      <td>1.0</td>\n      <td>Forward</td>\n    </tr>\n    <tr>\n      <th>3</th>\n      <td>Keanan Bennetts</td>\n      <td>37.0</td>\n      <td>eng ENG</td>\n      <td>LW</td>\n      <td>22-157</td>\n      <td>19.0</td>\n      <td>0.0</td>\n      <td>0.0</td>\n      <td>11.0</td>\n      <td>0.0</td>\n      <td>...</td>\n      <td>0.0</td>\n      <td>8.0</td>\n      <td>75.0</td>\n      <td>0.0</td>\n      <td>3.0</td>\n      <td>2.0</td>\n      <td>2.0</td>\n      <td>Mönchengladbach</td>\n      <td>1.0</td>\n      <td>Forward</td>\n    </tr>\n    <tr>\n      <th>4</th>\n      <td>Patrick Herrmann</td>\n      <td>7.0</td>\n      <td>de GER</td>\n      <td>RW</td>\n      <td>30-182</td>\n      <td>63.0</td>\n      <td>0.0</td>\n      <td>0.0</td>\n      <td>35.0</td>\n      <td>3.0</td>\n      <td>...</td>\n      <td>0.1</td>\n      <td>26.0</td>\n      <td>69.2</td>\n      <td>2.0</td>\n      <td>5.0</td>\n      <td>0.0</td>\n      <td>0.0</td>\n      <td>Mönchengladbach</td>\n      <td>1.0</td>\n      <td>Forward</td>\n    </tr>\n    <tr>\n      <th>...</th>\n      <td>...</td>\n      <td>...</td>\n      <td>...</td>\n      <td>...</td>\n      <td>...</td>\n      <td>...</td>\n      <td>...</td>\n      <td>...</td>\n      <td>...</td>\n      <td>...</td>\n      <td>...</td>\n      <td>...</td>\n      <td>...</td>\n      <td>...</td>\n      <td>...</td>\n      <td>...</td>\n      <td>...</td>\n      <td>...</td>\n      <td>...</td>\n      <td>...</td>\n      <td>...</td>\n    </tr>\n    <tr>\n      <th>9387</th>\n      <td>Benjamin Henrichs</td>\n      <td>39.0</td>\n      <td>de GER</td>\n      <td>WB</td>\n      <td>25-080</td>\n      <td>90.0</td>\n      <td>0.0</td>\n      <td>0.0</td>\n      <td>72.0</td>\n      <td>4.0</td>\n      <td>...</td>\n      <td>0.4</td>\n      <td>63.0</td>\n      <td>73.0</td>\n      <td>8.0</td>\n      <td>11.0</td>\n      <td>0.0</td>\n      <td>0.0</td>\n      <td>RB Leipzig</td>\n      <td>34.0</td>\n      <td>Defender</td>\n    </tr>\n    <tr>\n      <th>9388</th>\n      <td>Marcel Halstenberg</td>\n      <td>23.0</td>\n      <td>de GER</td>\n      <td>CB</td>\n      <td>30-229</td>\n      <td>90.0</td>\n      <td>0.0</td>\n      <td>0.0</td>\n      <td>79.0</td>\n      <td>0.0</td>\n      <td>...</td>\n      <td>0.0</td>\n      <td>73.0</td>\n      <td>91.8</td>\n      <td>5.0</td>\n      <td>3.0</td>\n      <td>1.0</td>\n      <td>1.0</td>\n      <td>RB Leipzig</td>\n      <td>34.0</td>\n      <td>Defender</td>\n    </tr>\n    <tr>\n      <th>9389</th>\n      <td>Willi Orban</td>\n      <td>4.0</td>\n      <td>hu HUN</td>\n      <td>CB</td>\n      <td>29-192</td>\n      <td>90.0</td>\n      <td>1.0</td>\n      <td>0.0</td>\n      <td>106.0</td>\n      <td>0.0</td>\n      <td>...</td>\n      <td>0.0</td>\n      <td>91.0</td>\n      <td>89.0</td>\n      <td>0.0</td>\n      <td>0.0</td>\n      <td>0.0</td>\n      <td>0.0</td>\n      <td>RB Leipzig</td>\n      <td>34.0</td>\n      <td>Defender</td>\n    </tr>\n    <tr>\n      <th>9390</th>\n      <td>Mohamed Simakan</td>\n      <td>2.0</td>\n      <td>fr FRA</td>\n      <td>CB</td>\n      <td>22-011</td>\n      <td>90.0</td>\n      <td>0.0</td>\n      <td>0.0</td>\n      <td>94.0</td>\n      <td>0.0</td>\n      <td>...</td>\n      <td>0.0</td>\n      <td>86.0</td>\n      <td>88.4</td>\n      <td>5.0</td>\n      <td>3.0</td>\n      <td>0.0</td>\n      <td>1.0</td>\n      <td>RB Leipzig</td>\n      <td>34.0</td>\n      <td>Defender</td>\n    </tr>\n    <tr>\n      <th>9391</th>\n      <td>Péter Gulácsi</td>\n      <td>1.0</td>\n      <td>hu HUN</td>\n      <td>GK</td>\n      <td>32-008</td>\n      <td>90.0</td>\n      <td>0.0</td>\n      <td>0.0</td>\n      <td>39.0</td>\n      <td>0.0</td>\n      <td>...</td>\n      <td>0.0</td>\n      <td>37.0</td>\n      <td>91.9</td>\n      <td>0.0</td>\n      <td>0.0</td>\n      <td>0.0</td>\n      <td>0.0</td>\n      <td>RB Leipzig</td>\n      <td>34.0</td>\n      <td>Goalkeeper</td>\n    </tr>\n  </tbody>\n</table>\n<p>9392 rows × 29 columns</p>\n</div>"
     },
     "execution_count": 3,
     "metadata": {},
     "output_type": "execute_result"
    }
   ],
   "source": [
    "BL2021_players"
   ],
   "metadata": {
    "collapsed": false,
    "pycharm": {
     "name": "#%%\n"
    }
   }
  },
  {
   "cell_type": "code",
   "execution_count": 4,
   "outputs": [
    {
     "data": {
      "text/plain": "player\nStefan Ortega         1956.278884\nManuel Riemann        1921.766418\nOliver Baumann        1678.064320\nYann Sommer           1675.502558\nMark Flekken          1571.037067\nLukáš Hrádecký        1518.040737\nKevin Trapp           1471.624731\nManuel Neuer          1432.970084\nPéter Gulácsi         1402.111029\nRafał Gikiewicz       1367.927578\nKoen Casteels         1215.319222\nGregor Kobel          1162.769822\nRobin Zentner         1156.986364\nMarvin Schwäbe        1125.796390\nAndreas Luthe         1073.292634\nFlorian Müller        1056.290295\nAlexander Schwolow     869.576463\nSascha Burchert        580.025104\nTimo Horn              567.904756\nAndreas Linde          523.139537\nMarcel Lotka           354.337118\nMarius Funk            303.174150\nFrederik Rønnow        297.529526\nSven Ulreich           247.724463\nPavao Pervan           197.927008\nMarwin Hitz            175.403663\nFabian Bredlow         153.036268\nMichael Esser          138.049866\nFinn Dahmen             66.520226\nBenjamin Uphoff         56.604097\nStefanos Kapino         51.680265\nDiant Ramaj             51.423518\nAndrey Lunyov           51.379776\nTobias Sippel           48.059185\nLennart Grill           47.146308\nPhilipp Pentke          39.168141\nRoman Bürki             23.772846\nJens Grahl              19.503243\nPhilipp Tschauner       12.932428\nJosep Martinez          12.204028\nChristian Früchtl       10.269869\nName: Rating_gk, dtype: float64"
     },
     "execution_count": 4,
     "metadata": {},
     "output_type": "execute_result"
    }
   ],
   "source": [
    "#Goalkeeper Rating\n",
    "BL2021_keepers['Rating_gk'] = ((BL2021_keepers['psxg_gk'] - BL2021_keepers['goals_against_gk'])*10)+(BL2021_keepers['save_pct']/100*8) + (BL2021_keepers['goals_against_gk']*-8)  +(BL2021_keepers['saves']*6) + (BL2021_keepers['pct_passes_launched_gk']/100*4) + (BL2021_keepers['passes_gk']*2) + (BL2021_keepers['def_actions_outside_pen_area_gk']*2)\n",
    "\n",
    "\n",
    "OldMax = BL2021_keepers['Rating_gk'].max()\n",
    "OldMin = BL2021_keepers['Rating_gk'].min()\n",
    "NewMax = 100\n",
    "NewMin = 0\n",
    "\n",
    "\n",
    "OldRange = (OldMax - OldMin)\n",
    "NewRange = (NewMax - NewMin)\n",
    "BL2021_keepers['Rating_gk'] = (((BL2021_keepers['Rating_gk'] - OldMin) * NewRange) / OldRange) + NewMin\n",
    "gk21 = BL2021_keepers.groupby(['player']).sum()['Rating_gk']\n",
    "keeper_strength = gk21.sort_values(ascending=False)\n",
    "keeper_strength"
   ],
   "metadata": {
    "collapsed": false,
    "pycharm": {
     "name": "#%%\n"
    }
   }
  },
  {
   "cell_type": "code",
   "execution_count": 5,
   "outputs": [
    {
     "data": {
      "text/plain": "                    goals_against_gk  saves  psxg_gk    save_pct  \\\nplayer                                                             \nAlexander Schwolow              51.0   73.0     48.0   56.136000   \nAndreas Linde                   24.0   37.0     20.0   64.483333   \nAndreas Luthe                   39.0   70.0     33.8   63.822222   \nAndrey Lunyov                    1.0    1.0      1.0   50.000000   \nBenjamin Uphoff                  7.0    5.0      2.9   44.300000   \nChristian Früchtl                0.0    0.0      0.0    0.000000   \nDiant Ramaj                      1.0    3.0      0.9   75.000000   \nFabian Bredlow                   7.0   17.0      6.9   70.225000   \nFinn Dahmen                      3.0    2.0      2.3   25.000000   \nFlorian Müller                  52.0   83.0     41.1   61.940000   \nFrederik Rønnow                  5.0   14.0      4.1   66.200000   \nGregor Kobel                    39.0   71.0     35.9   67.268966   \nJens Grahl                       2.0    2.0      0.7   50.000000   \nJosep Martinez                   3.0    1.0      1.9   25.000000   \nKevin Trapp                     46.0  112.0     46.0   67.512500   \nKoen Casteels                   40.0   74.0     39.8   67.539286   \nLennart Grill                    2.0    5.0      1.1   66.700000   \nLukáš Hrádecký                  44.0  110.0     45.4   72.956250   \nManuel Neuer                    26.0   64.0     24.9   70.942857   \nManuel Riemann                  45.0  110.0     51.8   69.719355   \nMarcel Lotka                    20.0   27.0     17.2   53.840000   \nMarius Funk                     30.0   26.0     24.2   44.887500   \nMark Flekken                    39.0  103.0     38.2   77.503125   \nMarvin Schwäbe                  28.0   68.0     27.1   72.090476   \nMarwin Hitz                     12.0   13.0      9.5   59.340000   \nMichael Esser                    7.0   13.0      6.0   64.433333   \nOliver Baumann                  57.0  100.0     54.2   57.778788   \nPavao Pervan                    14.0   23.0      8.0   57.316667   \nPhilipp Pentke                   3.0    4.0      2.3   57.100000   \nPhilipp Tschauner                0.0    0.0      0.0    0.000000   \nPéter Gulácsi                   34.0   77.0     34.9   62.036364   \nRafał Gikiewicz                 56.0  100.0     52.8   66.970588   \nRobin Zentner                   42.0   78.0     39.7   59.609375   \nRoman Bürki                      1.0    0.0      0.9    0.000000   \nSascha Burchert                 28.0   44.0     22.4   61.785714   \nStefan Ortega                   53.0  124.0     58.2   71.293939   \nStefanos Kapino                  0.0    4.0      1.5  100.000000   \nSven Ulreich                    11.0   14.0      9.4   62.300000   \nTimo Horn                       21.0   35.0     18.3   58.446154   \nTobias Sippel                    1.0    2.0      0.1   66.700000   \nYann Sommer                     60.0  116.0     64.0   61.509091   \n\n                    pct_passes_launched_gk  passes_gk  \\\nplayer                                                  \nAlexander Schwolow               40.656000      629.0   \nAndreas Linde                    44.133333      413.0   \nAndreas Luthe                    48.459259      779.0   \nAndrey Lunyov                    11.600000       43.0   \nBenjamin Uphoff                  47.050000       70.0   \nChristian Früchtl                 0.000000        3.0   \nDiant Ramaj                      38.900000       36.0   \nFabian Bredlow                   25.000000       90.0   \nFinn Dahmen                      21.350000       60.0   \nFlorian Müller                   26.646667      771.0   \nFrederik Rønnow                  51.800000      212.0   \nGregor Kobel                     24.241379      836.0   \nJens Grahl                       10.500000       19.0   \nJosep Martinez                   26.700000       15.0   \nKevin Trapp                      47.771875      997.0   \nKoen Casteels                    37.517857      881.0   \nLennart Grill                    30.600000       36.0   \nLukáš Hrádecký                   35.028125     1045.0   \nManuel Neuer                     24.257143     1072.0   \nManuel Riemann                   70.509677     1403.0   \nMarcel Lotka                     55.460000      268.0   \nMarius Funk                      50.375000      293.0   \nMark Flekken                     47.390625     1094.0   \nMarvin Schwäbe                   28.700000      848.0   \nMarwin Hitz                      20.900000      148.0   \nMichael Esser                    50.733333      104.0   \nOliver Baumann                   30.330303     1310.0   \nPavao Pervan                     38.233333      155.0   \nPhilipp Pentke                   30.300000       33.0   \nPhilipp Tschauner                40.000000        5.0   \nPéter Gulácsi                    29.848485      973.0   \nRafał Gikiewicz                  48.911765      955.0   \nRobin Zentner                    41.109375      762.0   \nRoman Bürki                      35.000000       20.0   \nSascha Burchert                  57.735714      439.0   \nStefan Ortega                    57.203030     1447.0   \nStefanos Kapino                  52.400000       21.0   \nSven Ulreich                     23.000000      198.0   \nTimo Horn                        34.338462      437.0   \nTobias Sippel                    28.600000       42.0   \nYann Sommer                      36.969697     1235.0   \n\n                    def_actions_outside_pen_area_gk  diff  \nplayer                                                     \nAlexander Schwolow                             14.0  -3.0  \nAndreas Linde                                   7.0  -4.0  \nAndreas Luthe                                  16.0  -5.2  \nAndrey Lunyov                                   2.0   0.0  \nBenjamin Uphoff                                 2.0  -4.1  \nChristian Früchtl                               0.0   0.0  \nDiant Ramaj                                     2.0  -0.1  \nFabian Bredlow                                  4.0  -0.1  \nFinn Dahmen                                     1.0  -0.7  \nFlorian Müller                                 29.0 -10.9  \nFrederik Rønnow                                 3.0  -0.9  \nGregor Kobel                                   27.0  -3.1  \nJens Grahl                                      0.0  -1.3  \nJosep Martinez                                  3.0  -1.1  \nKevin Trapp                                    32.0   0.0  \nKoen Casteels                                  21.0  -0.2  \nLennart Grill                                   0.0  -0.9  \nLukáš Hrádecký                                 25.0   1.4  \nManuel Neuer                                   41.0  -1.1  \nManuel Riemann                                 62.0   6.8  \nMarcel Lotka                                    7.0  -2.8  \nMarius Funk                                    12.0  -5.8  \nMark Flekken                                   30.0  -0.8  \nMarvin Schwäbe                                 12.0  -0.9  \nMarwin Hitz                                     5.0  -2.5  \nMichael Esser                                   1.0  -1.0  \nOliver Baumann                                 43.0  -2.8  \nPavao Pervan                                    5.0  -6.0  \nPhilipp Pentke                                  1.0  -0.7  \nPhilipp Tschauner                               0.0   0.0  \nPéter Gulácsi                                  43.0   0.9  \nRafał Gikiewicz                                34.0  -3.2  \nRobin Zentner                                  48.0  -2.3  \nRoman Bürki                                     1.0  -0.1  \nSascha Burchert                                19.0  -5.6  \nStefan Ortega                                  35.0   5.2  \nStefanos Kapino                                 1.0   1.5  \nSven Ulreich                                    8.0  -1.6  \nTimo Horn                                      12.0  -2.7  \nTobias Sippel                                   0.0  -0.9  \nYann Sommer                                    36.0   4.0  ",
      "text/html": "<div>\n<style scoped>\n    .dataframe tbody tr th:only-of-type {\n        vertical-align: middle;\n    }\n\n    .dataframe tbody tr th {\n        vertical-align: top;\n    }\n\n    .dataframe thead th {\n        text-align: right;\n    }\n</style>\n<table border=\"1\" class=\"dataframe\">\n  <thead>\n    <tr style=\"text-align: right;\">\n      <th></th>\n      <th>goals_against_gk</th>\n      <th>saves</th>\n      <th>psxg_gk</th>\n      <th>save_pct</th>\n      <th>pct_passes_launched_gk</th>\n      <th>passes_gk</th>\n      <th>def_actions_outside_pen_area_gk</th>\n      <th>diff</th>\n    </tr>\n    <tr>\n      <th>player</th>\n      <th></th>\n      <th></th>\n      <th></th>\n      <th></th>\n      <th></th>\n      <th></th>\n      <th></th>\n      <th></th>\n    </tr>\n  </thead>\n  <tbody>\n    <tr>\n      <th>Alexander Schwolow</th>\n      <td>51.0</td>\n      <td>73.0</td>\n      <td>48.0</td>\n      <td>56.136000</td>\n      <td>40.656000</td>\n      <td>629.0</td>\n      <td>14.0</td>\n      <td>-3.0</td>\n    </tr>\n    <tr>\n      <th>Andreas Linde</th>\n      <td>24.0</td>\n      <td>37.0</td>\n      <td>20.0</td>\n      <td>64.483333</td>\n      <td>44.133333</td>\n      <td>413.0</td>\n      <td>7.0</td>\n      <td>-4.0</td>\n    </tr>\n    <tr>\n      <th>Andreas Luthe</th>\n      <td>39.0</td>\n      <td>70.0</td>\n      <td>33.8</td>\n      <td>63.822222</td>\n      <td>48.459259</td>\n      <td>779.0</td>\n      <td>16.0</td>\n      <td>-5.2</td>\n    </tr>\n    <tr>\n      <th>Andrey Lunyov</th>\n      <td>1.0</td>\n      <td>1.0</td>\n      <td>1.0</td>\n      <td>50.000000</td>\n      <td>11.600000</td>\n      <td>43.0</td>\n      <td>2.0</td>\n      <td>0.0</td>\n    </tr>\n    <tr>\n      <th>Benjamin Uphoff</th>\n      <td>7.0</td>\n      <td>5.0</td>\n      <td>2.9</td>\n      <td>44.300000</td>\n      <td>47.050000</td>\n      <td>70.0</td>\n      <td>2.0</td>\n      <td>-4.1</td>\n    </tr>\n    <tr>\n      <th>Christian Früchtl</th>\n      <td>0.0</td>\n      <td>0.0</td>\n      <td>0.0</td>\n      <td>0.000000</td>\n      <td>0.000000</td>\n      <td>3.0</td>\n      <td>0.0</td>\n      <td>0.0</td>\n    </tr>\n    <tr>\n      <th>Diant Ramaj</th>\n      <td>1.0</td>\n      <td>3.0</td>\n      <td>0.9</td>\n      <td>75.000000</td>\n      <td>38.900000</td>\n      <td>36.0</td>\n      <td>2.0</td>\n      <td>-0.1</td>\n    </tr>\n    <tr>\n      <th>Fabian Bredlow</th>\n      <td>7.0</td>\n      <td>17.0</td>\n      <td>6.9</td>\n      <td>70.225000</td>\n      <td>25.000000</td>\n      <td>90.0</td>\n      <td>4.0</td>\n      <td>-0.1</td>\n    </tr>\n    <tr>\n      <th>Finn Dahmen</th>\n      <td>3.0</td>\n      <td>2.0</td>\n      <td>2.3</td>\n      <td>25.000000</td>\n      <td>21.350000</td>\n      <td>60.0</td>\n      <td>1.0</td>\n      <td>-0.7</td>\n    </tr>\n    <tr>\n      <th>Florian Müller</th>\n      <td>52.0</td>\n      <td>83.0</td>\n      <td>41.1</td>\n      <td>61.940000</td>\n      <td>26.646667</td>\n      <td>771.0</td>\n      <td>29.0</td>\n      <td>-10.9</td>\n    </tr>\n    <tr>\n      <th>Frederik Rønnow</th>\n      <td>5.0</td>\n      <td>14.0</td>\n      <td>4.1</td>\n      <td>66.200000</td>\n      <td>51.800000</td>\n      <td>212.0</td>\n      <td>3.0</td>\n      <td>-0.9</td>\n    </tr>\n    <tr>\n      <th>Gregor Kobel</th>\n      <td>39.0</td>\n      <td>71.0</td>\n      <td>35.9</td>\n      <td>67.268966</td>\n      <td>24.241379</td>\n      <td>836.0</td>\n      <td>27.0</td>\n      <td>-3.1</td>\n    </tr>\n    <tr>\n      <th>Jens Grahl</th>\n      <td>2.0</td>\n      <td>2.0</td>\n      <td>0.7</td>\n      <td>50.000000</td>\n      <td>10.500000</td>\n      <td>19.0</td>\n      <td>0.0</td>\n      <td>-1.3</td>\n    </tr>\n    <tr>\n      <th>Josep Martinez</th>\n      <td>3.0</td>\n      <td>1.0</td>\n      <td>1.9</td>\n      <td>25.000000</td>\n      <td>26.700000</td>\n      <td>15.0</td>\n      <td>3.0</td>\n      <td>-1.1</td>\n    </tr>\n    <tr>\n      <th>Kevin Trapp</th>\n      <td>46.0</td>\n      <td>112.0</td>\n      <td>46.0</td>\n      <td>67.512500</td>\n      <td>47.771875</td>\n      <td>997.0</td>\n      <td>32.0</td>\n      <td>0.0</td>\n    </tr>\n    <tr>\n      <th>Koen Casteels</th>\n      <td>40.0</td>\n      <td>74.0</td>\n      <td>39.8</td>\n      <td>67.539286</td>\n      <td>37.517857</td>\n      <td>881.0</td>\n      <td>21.0</td>\n      <td>-0.2</td>\n    </tr>\n    <tr>\n      <th>Lennart Grill</th>\n      <td>2.0</td>\n      <td>5.0</td>\n      <td>1.1</td>\n      <td>66.700000</td>\n      <td>30.600000</td>\n      <td>36.0</td>\n      <td>0.0</td>\n      <td>-0.9</td>\n    </tr>\n    <tr>\n      <th>Lukáš Hrádecký</th>\n      <td>44.0</td>\n      <td>110.0</td>\n      <td>45.4</td>\n      <td>72.956250</td>\n      <td>35.028125</td>\n      <td>1045.0</td>\n      <td>25.0</td>\n      <td>1.4</td>\n    </tr>\n    <tr>\n      <th>Manuel Neuer</th>\n      <td>26.0</td>\n      <td>64.0</td>\n      <td>24.9</td>\n      <td>70.942857</td>\n      <td>24.257143</td>\n      <td>1072.0</td>\n      <td>41.0</td>\n      <td>-1.1</td>\n    </tr>\n    <tr>\n      <th>Manuel Riemann</th>\n      <td>45.0</td>\n      <td>110.0</td>\n      <td>51.8</td>\n      <td>69.719355</td>\n      <td>70.509677</td>\n      <td>1403.0</td>\n      <td>62.0</td>\n      <td>6.8</td>\n    </tr>\n    <tr>\n      <th>Marcel Lotka</th>\n      <td>20.0</td>\n      <td>27.0</td>\n      <td>17.2</td>\n      <td>53.840000</td>\n      <td>55.460000</td>\n      <td>268.0</td>\n      <td>7.0</td>\n      <td>-2.8</td>\n    </tr>\n    <tr>\n      <th>Marius Funk</th>\n      <td>30.0</td>\n      <td>26.0</td>\n      <td>24.2</td>\n      <td>44.887500</td>\n      <td>50.375000</td>\n      <td>293.0</td>\n      <td>12.0</td>\n      <td>-5.8</td>\n    </tr>\n    <tr>\n      <th>Mark Flekken</th>\n      <td>39.0</td>\n      <td>103.0</td>\n      <td>38.2</td>\n      <td>77.503125</td>\n      <td>47.390625</td>\n      <td>1094.0</td>\n      <td>30.0</td>\n      <td>-0.8</td>\n    </tr>\n    <tr>\n      <th>Marvin Schwäbe</th>\n      <td>28.0</td>\n      <td>68.0</td>\n      <td>27.1</td>\n      <td>72.090476</td>\n      <td>28.700000</td>\n      <td>848.0</td>\n      <td>12.0</td>\n      <td>-0.9</td>\n    </tr>\n    <tr>\n      <th>Marwin Hitz</th>\n      <td>12.0</td>\n      <td>13.0</td>\n      <td>9.5</td>\n      <td>59.340000</td>\n      <td>20.900000</td>\n      <td>148.0</td>\n      <td>5.0</td>\n      <td>-2.5</td>\n    </tr>\n    <tr>\n      <th>Michael Esser</th>\n      <td>7.0</td>\n      <td>13.0</td>\n      <td>6.0</td>\n      <td>64.433333</td>\n      <td>50.733333</td>\n      <td>104.0</td>\n      <td>1.0</td>\n      <td>-1.0</td>\n    </tr>\n    <tr>\n      <th>Oliver Baumann</th>\n      <td>57.0</td>\n      <td>100.0</td>\n      <td>54.2</td>\n      <td>57.778788</td>\n      <td>30.330303</td>\n      <td>1310.0</td>\n      <td>43.0</td>\n      <td>-2.8</td>\n    </tr>\n    <tr>\n      <th>Pavao Pervan</th>\n      <td>14.0</td>\n      <td>23.0</td>\n      <td>8.0</td>\n      <td>57.316667</td>\n      <td>38.233333</td>\n      <td>155.0</td>\n      <td>5.0</td>\n      <td>-6.0</td>\n    </tr>\n    <tr>\n      <th>Philipp Pentke</th>\n      <td>3.0</td>\n      <td>4.0</td>\n      <td>2.3</td>\n      <td>57.100000</td>\n      <td>30.300000</td>\n      <td>33.0</td>\n      <td>1.0</td>\n      <td>-0.7</td>\n    </tr>\n    <tr>\n      <th>Philipp Tschauner</th>\n      <td>0.0</td>\n      <td>0.0</td>\n      <td>0.0</td>\n      <td>0.000000</td>\n      <td>40.000000</td>\n      <td>5.0</td>\n      <td>0.0</td>\n      <td>0.0</td>\n    </tr>\n    <tr>\n      <th>Péter Gulácsi</th>\n      <td>34.0</td>\n      <td>77.0</td>\n      <td>34.9</td>\n      <td>62.036364</td>\n      <td>29.848485</td>\n      <td>973.0</td>\n      <td>43.0</td>\n      <td>0.9</td>\n    </tr>\n    <tr>\n      <th>Rafał Gikiewicz</th>\n      <td>56.0</td>\n      <td>100.0</td>\n      <td>52.8</td>\n      <td>66.970588</td>\n      <td>48.911765</td>\n      <td>955.0</td>\n      <td>34.0</td>\n      <td>-3.2</td>\n    </tr>\n    <tr>\n      <th>Robin Zentner</th>\n      <td>42.0</td>\n      <td>78.0</td>\n      <td>39.7</td>\n      <td>59.609375</td>\n      <td>41.109375</td>\n      <td>762.0</td>\n      <td>48.0</td>\n      <td>-2.3</td>\n    </tr>\n    <tr>\n      <th>Roman Bürki</th>\n      <td>1.0</td>\n      <td>0.0</td>\n      <td>0.9</td>\n      <td>0.000000</td>\n      <td>35.000000</td>\n      <td>20.0</td>\n      <td>1.0</td>\n      <td>-0.1</td>\n    </tr>\n    <tr>\n      <th>Sascha Burchert</th>\n      <td>28.0</td>\n      <td>44.0</td>\n      <td>22.4</td>\n      <td>61.785714</td>\n      <td>57.735714</td>\n      <td>439.0</td>\n      <td>19.0</td>\n      <td>-5.6</td>\n    </tr>\n    <tr>\n      <th>Stefan Ortega</th>\n      <td>53.0</td>\n      <td>124.0</td>\n      <td>58.2</td>\n      <td>71.293939</td>\n      <td>57.203030</td>\n      <td>1447.0</td>\n      <td>35.0</td>\n      <td>5.2</td>\n    </tr>\n    <tr>\n      <th>Stefanos Kapino</th>\n      <td>0.0</td>\n      <td>4.0</td>\n      <td>1.5</td>\n      <td>100.000000</td>\n      <td>52.400000</td>\n      <td>21.0</td>\n      <td>1.0</td>\n      <td>1.5</td>\n    </tr>\n    <tr>\n      <th>Sven Ulreich</th>\n      <td>11.0</td>\n      <td>14.0</td>\n      <td>9.4</td>\n      <td>62.300000</td>\n      <td>23.000000</td>\n      <td>198.0</td>\n      <td>8.0</td>\n      <td>-1.6</td>\n    </tr>\n    <tr>\n      <th>Timo Horn</th>\n      <td>21.0</td>\n      <td>35.0</td>\n      <td>18.3</td>\n      <td>58.446154</td>\n      <td>34.338462</td>\n      <td>437.0</td>\n      <td>12.0</td>\n      <td>-2.7</td>\n    </tr>\n    <tr>\n      <th>Tobias Sippel</th>\n      <td>1.0</td>\n      <td>2.0</td>\n      <td>0.1</td>\n      <td>66.700000</td>\n      <td>28.600000</td>\n      <td>42.0</td>\n      <td>0.0</td>\n      <td>-0.9</td>\n    </tr>\n    <tr>\n      <th>Yann Sommer</th>\n      <td>60.0</td>\n      <td>116.0</td>\n      <td>64.0</td>\n      <td>61.509091</td>\n      <td>36.969697</td>\n      <td>1235.0</td>\n      <td>36.0</td>\n      <td>4.0</td>\n    </tr>\n  </tbody>\n</table>\n</div>"
     },
     "execution_count": 5,
     "metadata": {},
     "output_type": "execute_result"
    }
   ],
   "source": [
    "gk_ga = BL2021_keepers.groupby(['player']).sum()['goals_against_gk']\n",
    "gk_saves = BL2021_keepers.groupby(['player']).sum()['saves']\n",
    "psxg_gk = BL2021_keepers.groupby(['player']).sum()['psxg_gk']\n",
    "save_pct = BL2021_keepers.groupby(['player']).mean()['save_pct']\n",
    "pct_passes_launched_gk = BL2021_keepers.groupby(['player']).mean()['pct_passes_launched_gk']\n",
    "passes_gk = BL2021_keepers.groupby(['player']).sum()['passes_gk']\n",
    "def_actions_outside_pen_area_gk = BL2021_keepers.groupby(['player']).sum()['def_actions_outside_pen_area_gk']\n",
    "gk_total_bl = pd.merge(gk_ga, gk_saves , on='player', how='left')\n",
    "gk_total_bl = pd.merge(gk_total_bl,psxg_gk , on='player', how='left')\n",
    "gk_total_bl = pd.merge(gk_total_bl,save_pct , on='player', how='left')\n",
    "gk_total_bl = pd.merge(gk_total_bl,pct_passes_launched_gk , on='player', how='left')\n",
    "gk_total_bl = pd.merge(gk_total_bl,passes_gk , on='player', how='left')\n",
    "gk_total_bl = pd.merge(gk_total_bl,def_actions_outside_pen_area_gk , on='player', how='left')\n",
    "gk_total_bl ['diff'] = gk_total_bl['psxg_gk'] - gk_total_bl['goals_against_gk']\n",
    "gk_total_bl"
   ],
   "metadata": {
    "collapsed": false,
    "pycharm": {
     "name": "#%%\n"
    }
   }
  },
  {
   "cell_type": "code",
   "execution_count": 6,
   "outputs": [],
   "source": [
    "gk_total_bl.to_excel('gk_total_bl.xlsx')"
   ],
   "metadata": {
    "collapsed": false,
    "pycharm": {
     "name": "#%%\n"
    }
   }
  },
  {
   "cell_type": "markdown",
   "source": [],
   "metadata": {
    "collapsed": false
   }
  },
  {
   "cell_type": "code",
   "execution_count": 41,
   "outputs": [],
   "source": [
    "Defenders = BL2021_players.drop(BL2021_players[BL2021_players.category != 'Defender'].index)\n",
    "Midfielders = BL2021_players.drop(BL2021_players[BL2021_players.category != 'Midfield'].index)\n",
    "Forwards = BL2021_players.drop(BL2021_players[BL2021_players.category != 'Forward'].index)"
   ],
   "metadata": {
    "collapsed": false,
    "pycharm": {
     "name": "#%%\n"
    }
   }
  },
  {
   "cell_type": "code",
   "execution_count": 154,
   "outputs": [
    {
     "data": {
      "text/plain": "Team\nBayern Munich          8065.660802\nDortmund               7156.058169\nRB Leipzig             6823.018487\nHoffenheim             6668.569021\nStuttgart              6469.471469\nEintracht Frankfurt    6425.729661\nMönchengladbach        6160.706169\nUnion Berlin           5863.387340\nWolfsburg              5780.196151\nKöln                   5691.674966\nMainz 05               5679.441806\nBayer Leverkusen       5599.721031\nFreiburg               5123.302777\nAugsburg               4857.396200\nBochum                 4843.679885\nGreuther Fürth         4773.791558\nHertha BSC             4558.694227\nArminia                4276.657219\nName: Rating_df, dtype: float64"
     },
     "execution_count": 154,
     "metadata": {},
     "output_type": "execute_result"
    }
   ],
   "source": [
    "#Defender Rating\n",
    "Defenders['Rating_df'] = (Defenders['tackles']*12)+(Defenders['progressive_carries']*5) + (Defenders['progressive_passes']*3) + (Defenders['assists']*3)+ (Defenders['passes']*2) + (Defenders['interceptions']) + (Defenders['blocks'])  +(Defenders['pressures'])  + (Defenders['goals'])   + (Defenders['passes_pct']/100)\n",
    "#Defenders['Rating_df'] = (Defenders['progressive_passes'])\n",
    "\n",
    "OldMax = Defenders['Rating_df'].max()\n",
    "OldMin = Defenders['Rating_df'].min()\n",
    "NewMax = 100\n",
    "NewMin = 0\n",
    "\n",
    "\n",
    "OldRange = (OldMax - OldMin)\n",
    "NewRange = (NewMax - NewMin)\n",
    "Defenders['Rating_df'] = (((Defenders['Rating_df'] - OldMin) * NewRange) / OldRange) + NewMin\n",
    "df21 = Defenders.groupby(['player']).sum()['Rating_df']\n",
    "df21_t = Defenders.groupby(['Team']).sum()['Rating_df']\n",
    "defender_strength = df21.sort_values(ascending=False)\n",
    "defender_strength_t = df21_t.sort_values(ascending=False)\n",
    "defender_strength_t"
   ],
   "metadata": {
    "collapsed": false,
    "pycharm": {
     "name": "#%%\n"
    }
   }
  },
  {
   "cell_type": "code",
   "execution_count": 152,
   "outputs": [
    {
     "data": {
      "text/plain": "Team\nBayern Munich          5903.243243\nRB Leipzig             5858.918919\nBayer Leverkusen       5483.243243\nKöln                   5448.108108\nDortmund               5335.135135\nMönchengladbach        5251.891892\nEintracht Frankfurt    4864.324324\nMainz 05               4728.648649\nWolfsburg              4609.189189\nGreuther Fürth         4502.702703\nAugsburg               4441.621622\nHertha BSC             4409.729730\nArminia                4380.540541\nFreiburg               4355.675676\nHoffenheim             4045.405405\nStuttgart              4012.432432\nBochum                 3922.702703\nUnion Berlin           3895.135135\nName: Rating_mf, dtype: float64"
     },
     "execution_count": 152,
     "metadata": {},
     "output_type": "execute_result"
    }
   ],
   "source": [
    "#Midfield Rating\n",
    "Midfielders['Rating_mf'] = (Midfielders['assists']*8)+(Midfielders['goals']*8) + (Midfielders['progressive_passes']*10) + (Midfielders['progressive_carries']*10) + (Midfielders['gca']*7)  +(Midfielders['pressures']*4)  + (Midfielders['sca']*5)   + (Midfielders['dribbles_completed']*2)\n",
    "#Midfielders['Rating_mf'] = (Midfielders['passes_pct'])\n",
    "\n",
    "OldMax = Midfielders['Rating_mf'].max()\n",
    "OldMin = Midfielders['Rating_mf'].min()\n",
    "NewMax = 100\n",
    "NewMin = 0\n",
    "\n",
    "\n",
    "OldRange = (OldMax - OldMin)\n",
    "NewRange = (NewMax - NewMin)\n",
    "Midfielders['Rating_mf'] = (((Midfielders['Rating_mf'] - OldMin) * NewRange) / OldRange) + NewMin\n",
    "mf21 = Midfielders.groupby(['player']).mean()['Rating_mf']\n",
    "mf21_t = Midfielders.groupby(['Team']).sum()['Rating_mf']\n",
    "midfield_strength = mf21.sort_values(ascending=False)\n",
    "midfield_strength_t = mf21_t.sort_values(ascending=False)\n",
    "midfield_strength_t"
   ],
   "metadata": {
    "collapsed": false,
    "pycharm": {
     "name": "#%%\n"
    }
   }
  },
  {
   "cell_type": "code",
   "execution_count": 153,
   "outputs": [
    {
     "data": {
      "text/plain": "Team\nBayern Munich          3898.495702\nBayer Leverkusen       3489.326648\nDortmund               3067.263610\nRB Leipzig             2845.916905\nBochum                 2793.911175\nUnion Berlin           2587.822350\nFreiburg               2577.077364\nKöln                   2569.126074\nStuttgart              2465.329513\nHoffenheim             2442.550143\nHertha BSC             2334.885387\nMönchengladbach        2271.919771\nArminia                2254.512894\nWolfsburg              2090.329513\nMainz 05               2084.312321\nEintracht Frankfurt    2069.054441\nGreuther Fürth         2010.386819\nAugsburg               1755.945559\nName: Rating_fw, dtype: float64"
     },
     "execution_count": 153,
     "metadata": {},
     "output_type": "execute_result"
    }
   ],
   "source": [
    "#Forward Rating\n",
    "Forwards['Rating_fw'] = (Forwards['goals']*10)+(Forwards['assists']*9) + ((Forwards['goals'] - Forwards['xg'])*8) + ((Forwards['assists'] - Forwards['xa'])*8) + (Forwards['gca']*5) + (Forwards['sca']*4) + (Forwards['shots_on_target']*2)\n",
    "#Forwards['Rating_fw'] = (Forwards['dribbles'])\n",
    "\n",
    "OldMax = Forwards['Rating_fw'].max()\n",
    "OldMin = Forwards['Rating_fw'].min()\n",
    "NewMax = 100\n",
    "NewMin = 0\n",
    "\n",
    "\n",
    "OldRange = (OldMax - OldMin)\n",
    "NewRange = (NewMax - NewMin)\n",
    "Forwards['Rating_fw'] = ((((Forwards['Rating_fw'] - OldMin) * NewRange) / OldRange) + NewMin)*1.5\n",
    "fw21 = Forwards.groupby(['player']).sum()['Rating_fw']\n",
    "fw21_t = Forwards.groupby(['Team']).sum()['Rating_fw']\n",
    "forward_strength = fw21.sort_values(ascending=False)\n",
    "forward_strength_t = fw21_t.sort_values(ascending=False)\n",
    "forward_strength_t"
   ],
   "metadata": {
    "collapsed": false,
    "pycharm": {
     "name": "#%%\n"
    }
   }
  },
  {
   "cell_type": "code",
   "execution_count": 189,
   "outputs": [
    {
     "data": {
      "text/plain": "                  player  shirtnumber nationality position     age  minutes  \\\n0          Alassane Pléa         14.0      fr FRA       FW  28-156     63.0   \n1          Marcus Thuram         10.0      fr FRA       FW  24-007     27.0   \n2            Hannes Wolf         11.0      at AUT       LW  22-119     71.0   \n3        Keanan Bennetts         37.0     eng ENG       LW  22-157     19.0   \n4       Patrick Herrmann          7.0      de GER       RW  30-182     63.0   \n...                  ...          ...         ...      ...     ...      ...   \n9387   Benjamin Henrichs         39.0      de GER       WB  25-080     90.0   \n9388  Marcel Halstenberg         23.0      de GER       CB  30-229     90.0   \n9389         Willi Orban          4.0      hu HUN       CB  29-192     90.0   \n9390     Mohamed Simakan          2.0      fr FRA       CB  22-011     90.0   \n9391       Péter Gulácsi          1.0      hu HUN       GK  32-008     90.0   \n\n      goals  assists  touches  sca  ...  passes  passes_pct  \\\n0       1.0      0.0     34.0  3.0  ...    26.0        80.8   \n1       0.0      0.0      9.0  0.0  ...     4.0       100.0   \n2       0.0      0.0     39.0  2.0  ...    21.0        57.1   \n3       0.0      0.0     11.0  0.0  ...     8.0        75.0   \n4       0.0      0.0     35.0  3.0  ...    26.0        69.2   \n...     ...      ...      ...  ...  ...     ...         ...   \n9387    0.0      0.0     72.0  4.0  ...    63.0        73.0   \n9388    0.0      0.0     79.0  0.0  ...    73.0        91.8   \n9389    1.0      0.0    106.0  0.0  ...    91.0        89.0   \n9390    0.0      0.0     94.0  0.0  ...    86.0        88.4   \n9391    0.0      0.0     39.0  0.0  ...    37.0        91.9   \n\n      progressive_passes  progressive_carries  dribbles_completed  dribbles  \\\n0                    2.0                  1.0                 0.0       0.0   \n1                    2.0                  1.0                 1.0       1.0   \n2                    0.0                  4.0                 0.0       1.0   \n3                    0.0                  3.0                 2.0       2.0   \n4                    2.0                  5.0                 0.0       0.0   \n...                  ...                  ...                 ...       ...   \n9387                 8.0                 11.0                 0.0       0.0   \n9388                 5.0                  3.0                 1.0       1.0   \n9389                 0.0                  0.0                 0.0       0.0   \n9390                 5.0                  3.0                 0.0       1.0   \n9391                 0.0                  0.0                 0.0       0.0   \n\n                 Team  matchweek    category  ratings_stats  \n0     Mönchengladbach        1.0     Forward      37.822350  \n1     Mönchengladbach        1.0     Forward       2.578797  \n2     Mönchengladbach        1.0     Forward      17.621777  \n3     Mönchengladbach        1.0     Forward       6.876791  \n4     Mönchengladbach        1.0     Forward      23.424069  \n...               ...        ...         ...            ...  \n9387       RB Leipzig       34.0    Defender      53.778748  \n9388       RB Leipzig       34.0    Defender      39.774526  \n9389       RB Leipzig       34.0    Defender      43.386020  \n9390       RB Leipzig       34.0    Defender      50.194066  \n9391       RB Leipzig       34.0  Goalkeeper            NaN  \n\n[9392 rows x 30 columns]",
      "text/html": "<div>\n<style scoped>\n    .dataframe tbody tr th:only-of-type {\n        vertical-align: middle;\n    }\n\n    .dataframe tbody tr th {\n        vertical-align: top;\n    }\n\n    .dataframe thead th {\n        text-align: right;\n    }\n</style>\n<table border=\"1\" class=\"dataframe\">\n  <thead>\n    <tr style=\"text-align: right;\">\n      <th></th>\n      <th>player</th>\n      <th>shirtnumber</th>\n      <th>nationality</th>\n      <th>position</th>\n      <th>age</th>\n      <th>minutes</th>\n      <th>goals</th>\n      <th>assists</th>\n      <th>touches</th>\n      <th>sca</th>\n      <th>...</th>\n      <th>passes</th>\n      <th>passes_pct</th>\n      <th>progressive_passes</th>\n      <th>progressive_carries</th>\n      <th>dribbles_completed</th>\n      <th>dribbles</th>\n      <th>Team</th>\n      <th>matchweek</th>\n      <th>category</th>\n      <th>ratings_stats</th>\n    </tr>\n  </thead>\n  <tbody>\n    <tr>\n      <th>0</th>\n      <td>Alassane Pléa</td>\n      <td>14.0</td>\n      <td>fr FRA</td>\n      <td>FW</td>\n      <td>28-156</td>\n      <td>63.0</td>\n      <td>1.0</td>\n      <td>0.0</td>\n      <td>34.0</td>\n      <td>3.0</td>\n      <td>...</td>\n      <td>26.0</td>\n      <td>80.8</td>\n      <td>2.0</td>\n      <td>1.0</td>\n      <td>0.0</td>\n      <td>0.0</td>\n      <td>Mönchengladbach</td>\n      <td>1.0</td>\n      <td>Forward</td>\n      <td>37.822350</td>\n    </tr>\n    <tr>\n      <th>1</th>\n      <td>Marcus Thuram</td>\n      <td>10.0</td>\n      <td>fr FRA</td>\n      <td>FW</td>\n      <td>24-007</td>\n      <td>27.0</td>\n      <td>0.0</td>\n      <td>0.0</td>\n      <td>9.0</td>\n      <td>0.0</td>\n      <td>...</td>\n      <td>4.0</td>\n      <td>100.0</td>\n      <td>2.0</td>\n      <td>1.0</td>\n      <td>1.0</td>\n      <td>1.0</td>\n      <td>Mönchengladbach</td>\n      <td>1.0</td>\n      <td>Forward</td>\n      <td>2.578797</td>\n    </tr>\n    <tr>\n      <th>2</th>\n      <td>Hannes Wolf</td>\n      <td>11.0</td>\n      <td>at AUT</td>\n      <td>LW</td>\n      <td>22-119</td>\n      <td>71.0</td>\n      <td>0.0</td>\n      <td>0.0</td>\n      <td>39.0</td>\n      <td>2.0</td>\n      <td>...</td>\n      <td>21.0</td>\n      <td>57.1</td>\n      <td>0.0</td>\n      <td>4.0</td>\n      <td>0.0</td>\n      <td>1.0</td>\n      <td>Mönchengladbach</td>\n      <td>1.0</td>\n      <td>Forward</td>\n      <td>17.621777</td>\n    </tr>\n    <tr>\n      <th>3</th>\n      <td>Keanan Bennetts</td>\n      <td>37.0</td>\n      <td>eng ENG</td>\n      <td>LW</td>\n      <td>22-157</td>\n      <td>19.0</td>\n      <td>0.0</td>\n      <td>0.0</td>\n      <td>11.0</td>\n      <td>0.0</td>\n      <td>...</td>\n      <td>8.0</td>\n      <td>75.0</td>\n      <td>0.0</td>\n      <td>3.0</td>\n      <td>2.0</td>\n      <td>2.0</td>\n      <td>Mönchengladbach</td>\n      <td>1.0</td>\n      <td>Forward</td>\n      <td>6.876791</td>\n    </tr>\n    <tr>\n      <th>4</th>\n      <td>Patrick Herrmann</td>\n      <td>7.0</td>\n      <td>de GER</td>\n      <td>RW</td>\n      <td>30-182</td>\n      <td>63.0</td>\n      <td>0.0</td>\n      <td>0.0</td>\n      <td>35.0</td>\n      <td>3.0</td>\n      <td>...</td>\n      <td>26.0</td>\n      <td>69.2</td>\n      <td>2.0</td>\n      <td>5.0</td>\n      <td>0.0</td>\n      <td>0.0</td>\n      <td>Mönchengladbach</td>\n      <td>1.0</td>\n      <td>Forward</td>\n      <td>23.424069</td>\n    </tr>\n    <tr>\n      <th>...</th>\n      <td>...</td>\n      <td>...</td>\n      <td>...</td>\n      <td>...</td>\n      <td>...</td>\n      <td>...</td>\n      <td>...</td>\n      <td>...</td>\n      <td>...</td>\n      <td>...</td>\n      <td>...</td>\n      <td>...</td>\n      <td>...</td>\n      <td>...</td>\n      <td>...</td>\n      <td>...</td>\n      <td>...</td>\n      <td>...</td>\n      <td>...</td>\n      <td>...</td>\n      <td>...</td>\n    </tr>\n    <tr>\n      <th>9387</th>\n      <td>Benjamin Henrichs</td>\n      <td>39.0</td>\n      <td>de GER</td>\n      <td>WB</td>\n      <td>25-080</td>\n      <td>90.0</td>\n      <td>0.0</td>\n      <td>0.0</td>\n      <td>72.0</td>\n      <td>4.0</td>\n      <td>...</td>\n      <td>63.0</td>\n      <td>73.0</td>\n      <td>8.0</td>\n      <td>11.0</td>\n      <td>0.0</td>\n      <td>0.0</td>\n      <td>RB Leipzig</td>\n      <td>34.0</td>\n      <td>Defender</td>\n      <td>53.778748</td>\n    </tr>\n    <tr>\n      <th>9388</th>\n      <td>Marcel Halstenberg</td>\n      <td>23.0</td>\n      <td>de GER</td>\n      <td>CB</td>\n      <td>30-229</td>\n      <td>90.0</td>\n      <td>0.0</td>\n      <td>0.0</td>\n      <td>79.0</td>\n      <td>0.0</td>\n      <td>...</td>\n      <td>73.0</td>\n      <td>91.8</td>\n      <td>5.0</td>\n      <td>3.0</td>\n      <td>1.0</td>\n      <td>1.0</td>\n      <td>RB Leipzig</td>\n      <td>34.0</td>\n      <td>Defender</td>\n      <td>39.774526</td>\n    </tr>\n    <tr>\n      <th>9389</th>\n      <td>Willi Orban</td>\n      <td>4.0</td>\n      <td>hu HUN</td>\n      <td>CB</td>\n      <td>29-192</td>\n      <td>90.0</td>\n      <td>1.0</td>\n      <td>0.0</td>\n      <td>106.0</td>\n      <td>0.0</td>\n      <td>...</td>\n      <td>91.0</td>\n      <td>89.0</td>\n      <td>0.0</td>\n      <td>0.0</td>\n      <td>0.0</td>\n      <td>0.0</td>\n      <td>RB Leipzig</td>\n      <td>34.0</td>\n      <td>Defender</td>\n      <td>43.386020</td>\n    </tr>\n    <tr>\n      <th>9390</th>\n      <td>Mohamed Simakan</td>\n      <td>2.0</td>\n      <td>fr FRA</td>\n      <td>CB</td>\n      <td>22-011</td>\n      <td>90.0</td>\n      <td>0.0</td>\n      <td>0.0</td>\n      <td>94.0</td>\n      <td>0.0</td>\n      <td>...</td>\n      <td>86.0</td>\n      <td>88.4</td>\n      <td>5.0</td>\n      <td>3.0</td>\n      <td>0.0</td>\n      <td>1.0</td>\n      <td>RB Leipzig</td>\n      <td>34.0</td>\n      <td>Defender</td>\n      <td>50.194066</td>\n    </tr>\n    <tr>\n      <th>9391</th>\n      <td>Péter Gulácsi</td>\n      <td>1.0</td>\n      <td>hu HUN</td>\n      <td>GK</td>\n      <td>32-008</td>\n      <td>90.0</td>\n      <td>0.0</td>\n      <td>0.0</td>\n      <td>39.0</td>\n      <td>0.0</td>\n      <td>...</td>\n      <td>37.0</td>\n      <td>91.9</td>\n      <td>0.0</td>\n      <td>0.0</td>\n      <td>0.0</td>\n      <td>0.0</td>\n      <td>RB Leipzig</td>\n      <td>34.0</td>\n      <td>Goalkeeper</td>\n      <td>NaN</td>\n    </tr>\n  </tbody>\n</table>\n<p>9392 rows × 30 columns</p>\n</div>"
     },
     "execution_count": 189,
     "metadata": {},
     "output_type": "execute_result"
    }
   ],
   "source": [
    "def calculate_rating(df):\n",
    "    #gk\n",
    "    #df.loc[df['category'] == 'goalkeeper', 'player_rating'] =  ((df['psxg_gk'] - df['goals_against_gk'])*10)+(df['save_pct']/100*8) + (df['goals_against_gk']*-8)  +(df['saves']*6) + (df['pct_passes_launched_gk']/100*4) + (df['passes_gk']*2) + (df['def_actions_outside_pen_area_gk']*2)\n",
    "\n",
    "    df.loc[df['category'] == 'Defender', 'player_rating_df'] = (df['tackles']*12)+(df['progressive_carries']*5) + (df['progressive_passes']*3) + (df['assists']*3)+ (df['passes']*2) + (df['interceptions']) + (df['blocks'])  +(df['pressures'])  + (df['goals'])   + (df['passes_pct']/100)\n",
    "\n",
    "    df.loc[df['category'] == 'Midfield', 'player_rating_mf'] = (df['assists']*8)+(df['goals']*8) + (df['progressive_passes']*10) + (df['progressive_carries']*10) + (df['gca']*7)  +(df['pressures']*4)  + (df['sca']*5)   + (df['dribbles_completed']*2)\n",
    "\n",
    "    df.loc[df['category'] == 'Forward', 'player_rating_fw'] = (df['goals']*10)+(df['assists']*9) + ((df['goals'] - df['xg'])*8) + ((df['assists'] - df['xa'])*8) + (df['gca']*5) + (df['sca']*4) + (df['shots_on_target']*2)\n",
    "    return df\n",
    "\n",
    "def scale_rating(df, position):\n",
    "    OldMax = df[position].max()\n",
    "    OldMin = df[position].min()\n",
    "    NewMax = 100\n",
    "    NewMin = 0\n",
    "\n",
    "\n",
    "    OldRange = (OldMax - OldMin)\n",
    "    NewRange = (NewMax - NewMin)\n",
    "    if position == 'player_rating_fw':\n",
    "        df[position] = ((((df[position] - OldMin) * NewRange) / OldRange) + NewMin)*1.5\n",
    "    else :  df[position] = (((df[position] - OldMin) * NewRange) / OldRange) + NewMin\n",
    "    return df\n",
    "\n",
    "def concatenate_ratings(df):\n",
    "    #df.loc[df['player_rating_df'] != 'NaN', 'ratings_stats'] = df['player_rating_df']\n",
    "    #df.loc[df['player_rating_mf'] != 'NaN', 'ratings_stats'] = df['player_rating_mf']\n",
    "    df['ratings_stats'] = df['player_rating_df'].fillna(df['player_rating_mf']).fillna(df['player_rating_fw'])\n",
    "    df.drop(['player_rating_df', 'player_rating_mf', 'player_rating_fw', 'player_rating'], axis=1, inplace=True)\n",
    "    return df\n",
    "\n",
    "tmp = calculate_rating(BL2021_players)\n",
    "tmp = scale_rating(tmp, 'player_rating_df')\n",
    "tmp = scale_rating(tmp, 'player_rating_mf')\n",
    "tmp = scale_rating(tmp, 'player_rating_fw')\n",
    "tmp = concatenate_ratings(tmp)\n",
    "tmp\n"
   ],
   "metadata": {
    "collapsed": false,
    "pycharm": {
     "name": "#%%\n"
    }
   }
  }
 ],
 "metadata": {
  "kernelspec": {
   "display_name": "Python 3",
   "language": "python",
   "name": "python3"
  },
  "language_info": {
   "codemirror_mode": {
    "name": "ipython",
    "version": 2
   },
   "file_extension": ".py",
   "mimetype": "text/x-python",
   "name": "python",
   "nbconvert_exporter": "python",
   "pygments_lexer": "ipython2",
   "version": "2.7.6"
  }
 },
 "nbformat": 4,
 "nbformat_minor": 0
}