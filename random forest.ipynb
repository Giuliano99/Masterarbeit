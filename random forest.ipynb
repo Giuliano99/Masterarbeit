{
 "cells": [
  {
   "cell_type": "code",
   "execution_count": 10,
   "metadata": {
    "collapsed": true
   },
   "outputs": [],
   "source": [
    "#import necessary packages\n",
    "import pandas as pd\n",
    "import seaborn as sns\n",
    "import math\n",
    "import matplotlib.pyplot as plt\n",
    "import matplotlib.image as mpimg\n",
    "import numpy as np\n",
    "import sklearn\n",
    "from sklearn.feature_selection import VarianceThreshold\n",
    "from sklearn.datasets import load_iris\n",
    "from sklearn.feature_selection import SelectKBest, f_classif, chi2\n",
    "from sklearn.ensemble import RandomForestClassifier"
   ]
  },
  {
   "cell_type": "code",
   "execution_count": 11,
   "outputs": [
    {
     "data": {
      "text/plain": "    Div        Date   Time         HomeTeam        AwayTeam  FTHG  FTAG FTR  \\\n0    E0  12/09/2020  12:30           Fulham         Arsenal     0     3   A   \n1    E0  12/09/2020  15:00   Crystal Palace     Southampton     1     0   H   \n2    E0  12/09/2020  17:30        Liverpool    Leeds United     4     3   H   \n3    E0  12/09/2020  20:00         West Ham   Newcastle Utd     0     2   A   \n4    E0  13/09/2020  14:00        West Brom  Leicester City     0     3   A   \n..   ..         ...    ...              ...             ...   ...   ...  ..   \n375  E0  23/05/2021  16:00        Liverpool  Crystal Palace     2     0   H   \n376  E0  23/05/2021  16:00  Manchester City         Everton     5     0   H   \n377  E0  23/05/2021  16:00    Sheffield Utd         Burnley     1     0   H   \n378  E0  23/05/2021  16:00         West Ham     Southampton     3     0   H   \n379  E0  23/05/2021  16:00           Wolves  Manchester Utd     1     2   A   \n\n     HTHG  HTAG  ... B365CAHA PCAHH  PCAHA  MaxCAHH  MaxCAHA  AvgCAHH  \\\n0       0     1  ...     1.89  2.02   1.91     2.13     1.92     2.02   \n1       1     0  ...     2.13  1.79   2.17     1.85     2.18     1.79   \n2       3     2  ...     2.05  1.85   2.08     1.90     2.16     1.84   \n3       0     0  ...     1.87  2.04   1.88     2.09     1.91     2.02   \n4       0     0  ...     1.98  1.93   1.99     1.95     2.01     1.91   \n..    ...   ...  ...      ...   ...    ...      ...      ...      ...   \n375     1     0  ...     2.04  1.88   2.03     1.98     2.14     1.88   \n376     2     0  ...     1.89  1.99   1.89     2.20     2.00     2.03   \n377     1     0  ...     1.86  2.05   1.86     2.17     1.90     2.03   \n378     2     0  ...     1.90  2.02   1.91     2.06     2.01     1.99   \n379     1     2  ...     1.86  2.10   1.84     2.10     1.94     2.00   \n\n     AvgCAHA  Rating_Home  Rating_Away  Rating difference  \n0       1.87    69.939394    76.212121          -6.272727  \n1       2.12    71.454545    71.303030           0.151515  \n2       2.04    78.575758    67.969697          10.606061  \n3       1.86    71.303030    73.272727          -1.969697  \n4       1.97    68.718750    75.151515          -6.432765  \n..       ...          ...          ...                ...  \n375     2.00    78.575758    71.454545           7.121212  \n376     1.85    77.484848    74.393939           3.090909  \n377     1.84    69.935484    70.166667          -0.231183  \n378     1.89    71.303030    71.303030           0.000000  \n379     1.88    69.636364    77.818182          -8.181818  \n\n[380 rows x 109 columns]",
      "text/html": "<div>\n<style scoped>\n    .dataframe tbody tr th:only-of-type {\n        vertical-align: middle;\n    }\n\n    .dataframe tbody tr th {\n        vertical-align: top;\n    }\n\n    .dataframe thead th {\n        text-align: right;\n    }\n</style>\n<table border=\"1\" class=\"dataframe\">\n  <thead>\n    <tr style=\"text-align: right;\">\n      <th></th>\n      <th>Div</th>\n      <th>Date</th>\n      <th>Time</th>\n      <th>HomeTeam</th>\n      <th>AwayTeam</th>\n      <th>FTHG</th>\n      <th>FTAG</th>\n      <th>FTR</th>\n      <th>HTHG</th>\n      <th>HTAG</th>\n      <th>...</th>\n      <th>B365CAHA</th>\n      <th>PCAHH</th>\n      <th>PCAHA</th>\n      <th>MaxCAHH</th>\n      <th>MaxCAHA</th>\n      <th>AvgCAHH</th>\n      <th>AvgCAHA</th>\n      <th>Rating_Home</th>\n      <th>Rating_Away</th>\n      <th>Rating difference</th>\n    </tr>\n  </thead>\n  <tbody>\n    <tr>\n      <th>0</th>\n      <td>E0</td>\n      <td>12/09/2020</td>\n      <td>12:30</td>\n      <td>Fulham</td>\n      <td>Arsenal</td>\n      <td>0</td>\n      <td>3</td>\n      <td>A</td>\n      <td>0</td>\n      <td>1</td>\n      <td>...</td>\n      <td>1.89</td>\n      <td>2.02</td>\n      <td>1.91</td>\n      <td>2.13</td>\n      <td>1.92</td>\n      <td>2.02</td>\n      <td>1.87</td>\n      <td>69.939394</td>\n      <td>76.212121</td>\n      <td>-6.272727</td>\n    </tr>\n    <tr>\n      <th>1</th>\n      <td>E0</td>\n      <td>12/09/2020</td>\n      <td>15:00</td>\n      <td>Crystal Palace</td>\n      <td>Southampton</td>\n      <td>1</td>\n      <td>0</td>\n      <td>H</td>\n      <td>1</td>\n      <td>0</td>\n      <td>...</td>\n      <td>2.13</td>\n      <td>1.79</td>\n      <td>2.17</td>\n      <td>1.85</td>\n      <td>2.18</td>\n      <td>1.79</td>\n      <td>2.12</td>\n      <td>71.454545</td>\n      <td>71.303030</td>\n      <td>0.151515</td>\n    </tr>\n    <tr>\n      <th>2</th>\n      <td>E0</td>\n      <td>12/09/2020</td>\n      <td>17:30</td>\n      <td>Liverpool</td>\n      <td>Leeds United</td>\n      <td>4</td>\n      <td>3</td>\n      <td>H</td>\n      <td>3</td>\n      <td>2</td>\n      <td>...</td>\n      <td>2.05</td>\n      <td>1.85</td>\n      <td>2.08</td>\n      <td>1.90</td>\n      <td>2.16</td>\n      <td>1.84</td>\n      <td>2.04</td>\n      <td>78.575758</td>\n      <td>67.969697</td>\n      <td>10.606061</td>\n    </tr>\n    <tr>\n      <th>3</th>\n      <td>E0</td>\n      <td>12/09/2020</td>\n      <td>20:00</td>\n      <td>West Ham</td>\n      <td>Newcastle Utd</td>\n      <td>0</td>\n      <td>2</td>\n      <td>A</td>\n      <td>0</td>\n      <td>0</td>\n      <td>...</td>\n      <td>1.87</td>\n      <td>2.04</td>\n      <td>1.88</td>\n      <td>2.09</td>\n      <td>1.91</td>\n      <td>2.02</td>\n      <td>1.86</td>\n      <td>71.303030</td>\n      <td>73.272727</td>\n      <td>-1.969697</td>\n    </tr>\n    <tr>\n      <th>4</th>\n      <td>E0</td>\n      <td>13/09/2020</td>\n      <td>14:00</td>\n      <td>West Brom</td>\n      <td>Leicester City</td>\n      <td>0</td>\n      <td>3</td>\n      <td>A</td>\n      <td>0</td>\n      <td>0</td>\n      <td>...</td>\n      <td>1.98</td>\n      <td>1.93</td>\n      <td>1.99</td>\n      <td>1.95</td>\n      <td>2.01</td>\n      <td>1.91</td>\n      <td>1.97</td>\n      <td>68.718750</td>\n      <td>75.151515</td>\n      <td>-6.432765</td>\n    </tr>\n    <tr>\n      <th>...</th>\n      <td>...</td>\n      <td>...</td>\n      <td>...</td>\n      <td>...</td>\n      <td>...</td>\n      <td>...</td>\n      <td>...</td>\n      <td>...</td>\n      <td>...</td>\n      <td>...</td>\n      <td>...</td>\n      <td>...</td>\n      <td>...</td>\n      <td>...</td>\n      <td>...</td>\n      <td>...</td>\n      <td>...</td>\n      <td>...</td>\n      <td>...</td>\n      <td>...</td>\n      <td>...</td>\n    </tr>\n    <tr>\n      <th>375</th>\n      <td>E0</td>\n      <td>23/05/2021</td>\n      <td>16:00</td>\n      <td>Liverpool</td>\n      <td>Crystal Palace</td>\n      <td>2</td>\n      <td>0</td>\n      <td>H</td>\n      <td>1</td>\n      <td>0</td>\n      <td>...</td>\n      <td>2.04</td>\n      <td>1.88</td>\n      <td>2.03</td>\n      <td>1.98</td>\n      <td>2.14</td>\n      <td>1.88</td>\n      <td>2.00</td>\n      <td>78.575758</td>\n      <td>71.454545</td>\n      <td>7.121212</td>\n    </tr>\n    <tr>\n      <th>376</th>\n      <td>E0</td>\n      <td>23/05/2021</td>\n      <td>16:00</td>\n      <td>Manchester City</td>\n      <td>Everton</td>\n      <td>5</td>\n      <td>0</td>\n      <td>H</td>\n      <td>2</td>\n      <td>0</td>\n      <td>...</td>\n      <td>1.89</td>\n      <td>1.99</td>\n      <td>1.89</td>\n      <td>2.20</td>\n      <td>2.00</td>\n      <td>2.03</td>\n      <td>1.85</td>\n      <td>77.484848</td>\n      <td>74.393939</td>\n      <td>3.090909</td>\n    </tr>\n    <tr>\n      <th>377</th>\n      <td>E0</td>\n      <td>23/05/2021</td>\n      <td>16:00</td>\n      <td>Sheffield Utd</td>\n      <td>Burnley</td>\n      <td>1</td>\n      <td>0</td>\n      <td>H</td>\n      <td>1</td>\n      <td>0</td>\n      <td>...</td>\n      <td>1.86</td>\n      <td>2.05</td>\n      <td>1.86</td>\n      <td>2.17</td>\n      <td>1.90</td>\n      <td>2.03</td>\n      <td>1.84</td>\n      <td>69.935484</td>\n      <td>70.166667</td>\n      <td>-0.231183</td>\n    </tr>\n    <tr>\n      <th>378</th>\n      <td>E0</td>\n      <td>23/05/2021</td>\n      <td>16:00</td>\n      <td>West Ham</td>\n      <td>Southampton</td>\n      <td>3</td>\n      <td>0</td>\n      <td>H</td>\n      <td>2</td>\n      <td>0</td>\n      <td>...</td>\n      <td>1.90</td>\n      <td>2.02</td>\n      <td>1.91</td>\n      <td>2.06</td>\n      <td>2.01</td>\n      <td>1.99</td>\n      <td>1.89</td>\n      <td>71.303030</td>\n      <td>71.303030</td>\n      <td>0.000000</td>\n    </tr>\n    <tr>\n      <th>379</th>\n      <td>E0</td>\n      <td>23/05/2021</td>\n      <td>16:00</td>\n      <td>Wolves</td>\n      <td>Manchester Utd</td>\n      <td>1</td>\n      <td>2</td>\n      <td>A</td>\n      <td>1</td>\n      <td>2</td>\n      <td>...</td>\n      <td>1.86</td>\n      <td>2.10</td>\n      <td>1.84</td>\n      <td>2.10</td>\n      <td>1.94</td>\n      <td>2.00</td>\n      <td>1.88</td>\n      <td>69.636364</td>\n      <td>77.818182</td>\n      <td>-8.181818</td>\n    </tr>\n  </tbody>\n</table>\n<p>380 rows × 109 columns</p>\n</div>"
     },
     "execution_count": 11,
     "metadata": {},
     "output_type": "execute_result"
    }
   ],
   "source": [
    "PL_21_team_ratings = pd.read_csv('PL21_teamratings.csv')\n",
    "PL_21_team_ratings"
   ],
   "metadata": {
    "collapsed": false,
    "pycharm": {
     "name": "#%%\n"
    }
   }
  },
  {
   "cell_type": "code",
   "execution_count": 12,
   "outputs": [],
   "source": [
    "#add column for H A X\n",
    "conditions = [\n",
    "    (PL_21_team_ratings['FTR'] == 'H'),\n",
    "    (PL_21_team_ratings['FTR'] == 'A'),\n",
    "    (PL_21_team_ratings['FTR'] == 'D')]\n",
    "choices = [1, 2, 3]\n",
    "PL_21_team_ratings['identifier'] = np.select(conditions, choices)\n",
    "y = PL_21_team_ratings['identifier'].to_numpy()\n",
    "X = PL_21_team_ratings[['Rating difference','Rating_Home', 'Rating_Away', 'AvgH', 'AvgA','AvgD']].to_numpy()"
   ],
   "metadata": {
    "collapsed": false,
    "pycharm": {
     "name": "#%%\n"
    }
   }
  },
  {
   "cell_type": "code",
   "execution_count": 13,
   "outputs": [],
   "source": [
    "from sklearn.model_selection import train_test_split\n",
    "X_train, X_test, y_train, y_test = train_test_split(X, y, test_size=0.20, random_state=101)"
   ],
   "metadata": {
    "collapsed": false,
    "pycharm": {
     "name": "#%%\n"
    }
   }
  },
  {
   "cell_type": "code",
   "execution_count": 14,
   "outputs": [
    {
     "name": "stdout",
     "output_type": "stream",
     "text": [
      "X_train : (304, 6)\n",
      "y_train : (304,)\n",
      "X_test : (76, 6)\n",
      "y_test : (76,)\n"
     ]
    }
   ],
   "source": [
    "print(f'X_train : {X_train.shape}')\n",
    "print(f'y_train : {y_train.shape}')\n",
    "print(f'X_test : {X_test.shape}')\n",
    "print(f'y_test : {y_test.shape}')"
   ],
   "metadata": {
    "collapsed": false,
    "pycharm": {
     "name": "#%%\n"
    }
   }
  },
  {
   "cell_type": "code",
   "execution_count": 15,
   "outputs": [],
   "source": [
    "rf_model = RandomForestClassifier()"
   ],
   "metadata": {
    "collapsed": false,
    "pycharm": {
     "name": "#%%\n"
    }
   }
  },
  {
   "cell_type": "code",
   "execution_count": 16,
   "outputs": [
    {
     "data": {
      "text/plain": "RandomForestClassifier()"
     },
     "execution_count": 16,
     "metadata": {},
     "output_type": "execute_result"
    }
   ],
   "source": [
    "rf_model.fit(X_train, y_train)"
   ],
   "metadata": {
    "collapsed": false,
    "pycharm": {
     "name": "#%%\n"
    }
   }
  },
  {
   "cell_type": "code",
   "execution_count": 17,
   "outputs": [
    {
     "data": {
      "text/plain": "0.39473684210526316"
     },
     "execution_count": 17,
     "metadata": {},
     "output_type": "execute_result"
    }
   ],
   "source": [
    "rf_model.score(X_test, y_test)"
   ],
   "metadata": {
    "collapsed": false,
    "pycharm": {
     "name": "#%%\n"
    }
   }
  }
 ],
 "metadata": {
  "kernelspec": {
   "display_name": "Python 3",
   "language": "python",
   "name": "python3"
  },
  "language_info": {
   "codemirror_mode": {
    "name": "ipython",
    "version": 2
   },
   "file_extension": ".py",
   "mimetype": "text/x-python",
   "name": "python",
   "nbconvert_exporter": "python",
   "pygments_lexer": "ipython2",
   "version": "2.7.6"
  }
 },
 "nbformat": 4,
 "nbformat_minor": 0
}