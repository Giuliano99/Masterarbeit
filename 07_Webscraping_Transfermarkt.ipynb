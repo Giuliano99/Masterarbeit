{
 "cells": [
  {
   "cell_type": "code",
   "execution_count": 2,
   "metadata": {
    "collapsed": true
   },
   "outputs": [],
   "source": [
    "#notebook to scrape community votes from transfermarkt.de\n",
    "\n",
    "#import necessary packages\n",
    "import pandas as pd\n",
    "import requests, bs4"
   ]
  },
  {
   "cell_type": "code",
   "execution_count": 3,
   "outputs": [
    {
     "data": {
      "text/plain": "     home_team       away_team home_prob draw_prob away_prob\n0      Chelsea  Crystal Palace    93.9 %     4.1 %     2.0 %\n1      Everton        Brighton    95.5 %     4.5 %         %\n2        Leeds        Man City     6.3 %    13.7 %    80.0 %\n3    Newcastle         Burnley    84.0 %    12.1 %     3.9 %\n4    Leicester        West Ham    97.1 %     2.4 %     0.5 %\n5  Southampton       West Brom    65.7 %    26.6 %     7.7 %\n6      Arsenal       Sheff Utd    97.1 %     2.4 %     0.5 %\n7       Wolves          Fulham    84.6 %    10.6 %     4.8 %\n8      Man Utd           Spurs    38.5 %    43.8 %    17.8 %\n9  Aston Villa       Liverpool     1.4 %     1.9 %    96.6 %",
      "text/html": "<div>\n<style scoped>\n    .dataframe tbody tr th:only-of-type {\n        vertical-align: middle;\n    }\n\n    .dataframe tbody tr th {\n        vertical-align: top;\n    }\n\n    .dataframe thead th {\n        text-align: right;\n    }\n</style>\n<table border=\"1\" class=\"dataframe\">\n  <thead>\n    <tr style=\"text-align: right;\">\n      <th></th>\n      <th>home_team</th>\n      <th>away_team</th>\n      <th>home_prob</th>\n      <th>draw_prob</th>\n      <th>away_prob</th>\n    </tr>\n  </thead>\n  <tbody>\n    <tr>\n      <th>0</th>\n      <td>Chelsea</td>\n      <td>Crystal Palace</td>\n      <td>93.9 %</td>\n      <td>4.1 %</td>\n      <td>2.0 %</td>\n    </tr>\n    <tr>\n      <th>1</th>\n      <td>Everton</td>\n      <td>Brighton</td>\n      <td>95.5 %</td>\n      <td>4.5 %</td>\n      <td>%</td>\n    </tr>\n    <tr>\n      <th>2</th>\n      <td>Leeds</td>\n      <td>Man City</td>\n      <td>6.3 %</td>\n      <td>13.7 %</td>\n      <td>80.0 %</td>\n    </tr>\n    <tr>\n      <th>3</th>\n      <td>Newcastle</td>\n      <td>Burnley</td>\n      <td>84.0 %</td>\n      <td>12.1 %</td>\n      <td>3.9 %</td>\n    </tr>\n    <tr>\n      <th>4</th>\n      <td>Leicester</td>\n      <td>West Ham</td>\n      <td>97.1 %</td>\n      <td>2.4 %</td>\n      <td>0.5 %</td>\n    </tr>\n    <tr>\n      <th>5</th>\n      <td>Southampton</td>\n      <td>West Brom</td>\n      <td>65.7 %</td>\n      <td>26.6 %</td>\n      <td>7.7 %</td>\n    </tr>\n    <tr>\n      <th>6</th>\n      <td>Arsenal</td>\n      <td>Sheff Utd</td>\n      <td>97.1 %</td>\n      <td>2.4 %</td>\n      <td>0.5 %</td>\n    </tr>\n    <tr>\n      <th>7</th>\n      <td>Wolves</td>\n      <td>Fulham</td>\n      <td>84.6 %</td>\n      <td>10.6 %</td>\n      <td>4.8 %</td>\n    </tr>\n    <tr>\n      <th>8</th>\n      <td>Man Utd</td>\n      <td>Spurs</td>\n      <td>38.5 %</td>\n      <td>43.8 %</td>\n      <td>17.8 %</td>\n    </tr>\n    <tr>\n      <th>9</th>\n      <td>Aston Villa</td>\n      <td>Liverpool</td>\n      <td>1.4 %</td>\n      <td>1.9 %</td>\n      <td>96.6 %</td>\n    </tr>\n  </tbody>\n</table>\n</div>"
     },
     "execution_count": 3,
     "metadata": {},
     "output_type": "execute_result"
    }
   ],
   "source": [
    "#function to get all links for a season\n",
    "def get_links(url):\n",
    "    headers = {\"User-Agent\":\"Mozilla/5.0\"}\n",
    "    response = requests.get(url, headers=headers)\n",
    "    soup = bs4.BeautifulSoup(response.text, 'lxml')\n",
    "    table = soup.find_all(\"tr\", {\"class\": \"no-border tm-user-tendenz\"})\n",
    "    table_teams = soup.find_all(\"tr\", {\"class\": \"table-grosse-schrift\"})\n",
    "    probs = dict()\n",
    "    for i in range(0,10):\n",
    "        table_tmp = table[i].find_all('td')\n",
    "        table_teams_tmp =  table_teams[i].find_all('td')\n",
    "        if 'home_team' in probs:\n",
    "            probs ['home_team'].append (table_teams_tmp[0].contents[3].contents[0])\n",
    "        else:\n",
    "            probs ['home_team'] = [table_teams_tmp[0].contents[3].contents[0]]\n",
    "        if 'away_team' in probs:\n",
    "            probs ['away_team'].append (table_teams_tmp[7].contents[1].contents[0])\n",
    "        else:\n",
    "            probs ['away_team'] = [table_teams_tmp[7].contents[1].contents[0]]\n",
    "        if 'home_prob' in probs:\n",
    "            probs ['home_prob'].append (table_tmp[0].contents[1].contents[0].contents[0])\n",
    "        else:\n",
    "            probs ['home_prob'] = [table_tmp[0].contents[1].contents[0].contents[0]]\n",
    "        if 'draw_prob' in probs:\n",
    "            probs ['draw_prob'].append (table_tmp[1].contents[1].contents[0].contents[0])\n",
    "        else:\n",
    "            probs ['draw_prob'] = [table_tmp[1].contents[1].contents[0].contents[0]]\n",
    "        if 'away_prob' in probs:\n",
    "            probs ['away_prob'].append (table_tmp[2].contents[1].contents[0].contents[0])\n",
    "        else:\n",
    "            probs ['away_prob'] = [table_tmp[2].contents[1].contents[0].contents[0]]\n",
    "\n",
    "    out = pd.DataFrame.from_dict(probs)\n",
    "\n",
    "    return  out\n",
    "\n",
    "test = get_links('https://www.transfermarkt.com/premier-league/spieltag/wettbewerb/GB1/plus/?saison_id=2020&spieltag=4')\n",
    "#get_links('https://fbref.com/en/comps/9/2020-2021/schedule/2020-2021-Premier-League-Scores-and-Fixtures')\n",
    "test"
   ],
   "metadata": {
    "collapsed": false,
    "pycharm": {
     "name": "#%%\n"
    }
   }
  },
  {
   "cell_type": "code",
   "execution_count": 20,
   "outputs": [],
   "source": [
    "#basic link for each season\n",
    "string_19 = 'https://www.transfermarkt.com/premier-league/spieltag/wettbewerb/GB1/plus/?saison_id=2019&spieltag='\n",
    "string_20 = 'https://www.transfermarkt.com/premier-league/spieltag/wettbewerb/GB1/plus/?saison_id=2020&spieltag='\n",
    "string_21 = 'https://www.transfermarkt.com/premier-league/spieltag/wettbewerb/GB1/plus/?saison_id=2021&spieltag='\n",
    "df_19 = get_links('https://www.transfermarkt.com/premier-league/spieltag/wettbewerb/GB1/plus/?saison_id=2019&spieltag=4')\n",
    "df_20 = get_links('https://www.transfermarkt.com/premier-league/spieltag/wettbewerb/GB1/plus/?saison_id=2020&spieltag=4')\n",
    "df_21 = get_links('https://www.transfermarkt.com/premier-league/spieltag/wettbewerb/GB1/plus/?saison_id=2021&spieltag=4')\n",
    "\n",
    "#get community votes from gameweek 4\n",
    "def get_communtity_votes(stri, df):\n",
    "    for i in range (5, 39):\n",
    "        stri_tmp = stri\n",
    "        word =\"{}\".format(i)\n",
    "        stri_tmp += word\n",
    "        df_tmp = get_links(stri_tmp)\n",
    "        df = pd.concat([df, df_tmp])\n",
    "    return df\n",
    "votes_19 = get_communtity_votes(string_19, df_19)\n",
    "votes_20 = get_communtity_votes(string_20, df_20)\n",
    "votes_21 = get_communtity_votes(string_21, df_21)"
   ],
   "metadata": {
    "collapsed": false,
    "pycharm": {
     "name": "#%%\n"
    }
   }
  },
  {
   "cell_type": "code",
   "execution_count": 28,
   "outputs": [],
   "source": [
    "#tranform votes to %\n",
    "def transform_votes(df):\n",
    "    df.replace(['Leeds','Leicester','Man City' ,'Man Utd','Newcastle', 'Norwich','Sheff Utd', 'Spurs'], ['Leeds United', 'Leicester City', 'Manchester City', 'Manchester Utd', 'Newcastle Utd', 'Norwich City','Sheffield Utd', 'Tottenham'], inplace=True)\n",
    "    df['home_prob'] = pd.to_numeric(df['home_prob'].str.slice(start=-7, stop=-1),errors='coerce')/100\n",
    "    df['draw_prob'] = pd.to_numeric(df['draw_prob'].str.slice(start=-7, stop=-1),errors='coerce')/100\n",
    "    df['away_prob'] = pd.to_numeric(df['away_prob'].str.slice(start=-7, stop=-1),errors='coerce')/100\n",
    "    df = df.fillna(0)\n",
    "    df['game_id'] = df['home_team'] + df['away_team']\n",
    "    return df\n",
    "transfermarkt_probs_19 = transform_votes(votes_19)\n",
    "transfermarkt_probs_20 = transform_votes(votes_20)\n",
    "transfermarkt_probs_21 = transform_votes(votes_21)"
   ],
   "metadata": {
    "collapsed": false,
    "pycharm": {
     "name": "#%%\n"
    }
   }
  },
  {
   "cell_type": "code",
   "execution_count": 32,
   "outputs": [],
   "source": [
    "#rename columns\n",
    "transfermarkt_probs_19 = transfermarkt_probs_19.rename(columns={'home_prob':'H','draw_prob':'D','away_prob':'A'})\n",
    "transfermarkt_probs_20 = transfermarkt_probs_20.rename(columns={'home_prob':'H','draw_prob':'D','away_prob':'A'})\n",
    "transfermarkt_probs_21 = transfermarkt_probs_21.rename(columns={'home_prob':'H','draw_prob':'D','away_prob':'A'})"
   ],
   "metadata": {
    "collapsed": false,
    "pycharm": {
     "name": "#%%\n"
    }
   }
  }
 ],
 "metadata": {
  "kernelspec": {
   "display_name": "Python 3",
   "language": "python",
   "name": "python3"
  },
  "language_info": {
   "codemirror_mode": {
    "name": "ipython",
    "version": 2
   },
   "file_extension": ".py",
   "mimetype": "text/x-python",
   "name": "python",
   "nbconvert_exporter": "python",
   "pygments_lexer": "ipython2",
   "version": "2.7.6"
  }
 },
 "nbformat": 4,
 "nbformat_minor": 0
}