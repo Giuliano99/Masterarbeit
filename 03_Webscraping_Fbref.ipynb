{
 "cells": [
  {
   "cell_type": "code",
   "execution_count": 22,
   "outputs": [],
   "source": [
    "#notebook for scrape all necessary player stats nad lineups from web\n",
    "#import necessary packages\n",
    "import requests\n",
    "from bs4 import BeautifulSoup\n",
    "import pandas as pd\n",
    "import numpy as np\n",
    "import re\n",
    "import csv\n",
    "import time"
   ],
   "metadata": {
    "collapsed": false,
    "pycharm": {
     "name": "#%%\n"
    }
   }
  },
  {
   "cell_type": "code",
   "execution_count": 27,
   "outputs": [],
   "source": [
    "#method for scraping links for all games of a EPL season\n",
    "def get_links(url):\n",
    "    res = requests.get(url)\n",
    "    ## The next two lines get around the issue with comments breaking the parsing.\n",
    "    comm = re.compile(\"<!--|-->\")\n",
    "    soup = BeautifulSoup(comm.sub(\"\", res.text), 'lxml')\n",
    "    all_tables = soup.findAll(\"tbody\")\n",
    "    test = soup.find(id='div_sched_2021-2022_9_1')\n",
    "    x = \"score\"\n",
    "    test = test.findAll(\"td\", {\"data-stat\": x})\n",
    "    link_list = []\n",
    "    for i in test:\n",
    "        i = i.find(\"a\")\n",
    "        if i is not None:\n",
    "            link = i['href']\n",
    "            link_list.append(link)\n",
    "    return link_list"
   ],
   "metadata": {
    "collapsed": false,
    "pycharm": {
     "name": "#%%\n"
    }
   }
  },
  {
   "cell_type": "code",
   "execution_count": 28,
   "outputs": [],
   "source": [
    "#methods for scraping\n",
    "\n",
    "#stats matchday\n",
    "statsm = [\"player\", \"shirtnumber\", \"nationality\", \"position\", \"age\", \"minutes\", \"goals\", \"assists\", \"touches\", \"sca\",\n",
    "          \"gca\", 'pens_made', 'shots_total', 'shots_on_target', 'pressures', 'tackles', 'interceptions', 'blocks', 'xg',\n",
    "          'xa', 'passes', 'passes_pct', 'progressive_passes', 'progressive_carries', 'dribbles_completed', 'dribbles']\n",
    "\n",
    "#stats keeper matchday\n",
    "statskeepers = ['player', 'minutes', 'age', 'gk_shots_on_target_against', 'gk_goals_against', 'gk_saves', 'gk_save_pct',\n",
    "                'gk_psxg', 'gk_passes_completed_launched', 'gk_passes', 'gk_passes_throws', 'gk_pct_passes_launched',\n",
    "                'gk_def_actions_outside_pen_area']\n",
    "\n",
    "keepers = [\"player\", \"nationality\", \"position\", \"squad\", \"age\", \"birth_year\", \"games_gk\", \"games_starts_gk\",\n",
    "           \"minutes_gk\", \"goals_against_gk\", \"goals_against_per90_gk\", \"shots_on_target_against\", \"saves\", \"save_pct\",\n",
    "           \"wins_gk\", \"draws_gk\", \"losses_gk\", \"clean_sheets\", \"clean_sheets_pct\", \"pens_att_gk\", \"pens_allowed\",\n",
    "           \"pens_saved\", \"pens_missed_gk\"]\n",
    "keepers3 = [\"players_used\", \"games_gk\", \"games_starts_gk\", \"minutes_gk\", \"goals_against_gk\", \"goals_against_per90_gk\",\n",
    "            \"shots_on_target_against\", \"saves\", \"save_pct\", \"wins_gk\", \"draws_gk\", \"losses_gk\", \"clean_sheets\",\n",
    "            \"clean_sheets_pct\", \"pens_att_gk\", \"pens_allowed\", \"pens_saved\", \"pens_missed_gk\"]\n",
    "\n",
    "\n",
    "\n",
    "\n",
    "#Functions to get the data in a dataframe using BeautifulSoup\n",
    "\n",
    "#access tables from fbref\n",
    "def get_tables_m(url):\n",
    "    res = requests.get(url)\n",
    "    ## The next two lines get around the issue with comments breaking the parsing.\n",
    "    comm = re.compile(\"<!--|-->\")\n",
    "    soup = BeautifulSoup(comm.sub(\"\", res.text), 'lxml')\n",
    "    all_tables = soup.findAll(\"tbody\")\n",
    "    matchweek = soup.find(id='content').find(\"div\").contents[1]\n",
    "    date = soup.find(\"div\", {\"class\": \"scorebox_meta\"}).find(\"div\").contents[0].contents[0]\n",
    "    date = date['href']\n",
    "    date = date[12:22]\n",
    "\n",
    "    team_H = soup.findAll(\"strong\")[2].find(\"a\").contents[0]\n",
    "    if soup.findAll(\"strong\")[5].find(\"a\") is None:\n",
    "        team_A = soup.findAll(\"strong\")[4].find(\"a\").contents[0]\n",
    "    else:\n",
    "        team_A = soup.findAll(\"strong\")[5].find(\"a\").contents[0]\n",
    "\n",
    "    team1_table = all_tables[0]\n",
    "    team2_table = all_tables[7]\n",
    "    gk1_table = all_tables[6]\n",
    "    gk2_table = all_tables[13]\n",
    "\n",
    "    return team1_table, team2_table, gk1_table, gk2_table, matchweek, date, team_H, team_A\n",
    "\n",
    "\n",
    "#extract information from tables\n",
    "def get_frame(features, player_table):\n",
    "    pre_df_player = dict()\n",
    "    features_wanted_player = features\n",
    "    rows_player = player_table.find_all('tr')\n",
    "    rows_player\n",
    "    #print(rows_player)\n",
    "    for row in rows_player:\n",
    "        #print(row)\n",
    "        if (row.find('th', {\"scope\": \"row\"}) != None):\n",
    "\n",
    "            for f in features_wanted_player:\n",
    "                #print(f)\n",
    "                cell = row.find(\"td\", {\"data-stat\": f})\n",
    "                #print(cell)\n",
    "                if cell is None:\n",
    "                    text = row.find('th', {\"scope\": \"row\"}).find('a').contents[0]\n",
    "                    if f in pre_df_player:\n",
    "                        pre_df_player[f].append(text)\n",
    "                    else:\n",
    "                        pre_df_player[f] = [text]\n",
    "                #print(cell)\n",
    "                else:\n",
    "                    a = cell.text.strip().encode()\n",
    "                    text = a.decode(\"utf-8\")\n",
    "                    #print(text)\n",
    "                    if (text == ''):\n",
    "                        text = '0'\n",
    "                    if ((f != 'player') & (f != 'nationality') & (f != 'position') & (f != 'squad') & (f != 'age') & (\n",
    "                            f != 'birth_year')):\n",
    "                        text = float(text.replace(',', ''))\n",
    "                    if f in pre_df_player:\n",
    "                        pre_df_player[f].append(text)\n",
    "                    else:\n",
    "                        pre_df_player[f] = [text]\n",
    "    df_player = pd.DataFrame.from_dict(pre_df_player)\n",
    "    return df_player\n",
    "\n",
    "#get information in df\n",
    "def frame_for_category(category, top, end, features):\n",
    "    url = (top + category + end)\n",
    "    print(url)\n",
    "    player_table_H, player_table_A, gk_table_H, gk_table_A, matchweek, date, team_H, team_A = get_tables_m(url)\n",
    "    #print(player_table)\n",
    "    df_player_H = get_frame(features, player_table_H)\n",
    "    df_player_H['Team'] = team_H\n",
    "    df_player_A = get_frame(features, player_table_A)\n",
    "    df_player_A['Team'] = team_A\n",
    "    df_player = pd.concat([df_player_H, df_player_A])\n",
    "    df_player['matchweek'] = matchweek\n",
    "    df_player['date'] = date\n",
    "    df_gk_H = get_frame(statskeepers, gk_table_H)\n",
    "    df_gk_H['Team'] = team_H\n",
    "    df_gk_A = get_frame(statskeepers, gk_table_A)\n",
    "    df_gk_A['Team'] = team_A\n",
    "    df_gk = pd.concat([df_gk_H, df_gk_A])\n",
    "    df_gk['matchweek'] = matchweek\n",
    "    df_gk['date'] = date\n",
    "    return df_player, df_gk\n",
    "\n",
    "\n",
    "#get matchday data for one season\n",
    "def get_matchday_data(top, end, linklist):\n",
    "    pl, gk = frame_for_category('/en/matches/3adf2aa7', top, end, statsm)\n",
    "\n",
    "    for i in linklist:\n",
    "        tmppl, tmpgk = frame_for_category(i, top, end, statsm)\n",
    "        pl = pd.concat([pl, tmppl], axis=0)\n",
    "        gk = pd.concat([gk, tmpgk], axis=0)\n",
    "        time.sleep(5)\n",
    "\n",
    "    return pl, gk\n"
   ],
   "metadata": {
    "collapsed": false,
    "pycharm": {
     "name": "#%%\n"
    }
   }
  },
  {
   "cell_type": "code",
   "execution_count": 29,
   "outputs": [],
   "source": [
    "#get lineups for each match\n",
    "\n",
    "#access tables from fbref\n",
    "def get_lineups(url):\n",
    "    pre_df_player = dict()\n",
    "    res = requests.get(url)\n",
    "    ## The next two lines get around the issue with comments breaking the parsing.\n",
    "    comm = re.compile(\"<!--|-->\")\n",
    "    soup = BeautifulSoup(comm.sub(\"\", res.text), 'lxml')\n",
    "    all_tables = soup.findAll(\"tbody\")\n",
    "    date = soup.find(\"div\", {\"class\": \"scorebox_meta\"}).find(\"div\").contents[0].contents[0]\n",
    "    date = date['href']\n",
    "    date = date[12:22]\n",
    "    matchweek = soup.find(id='content').find(\"div\").contents[1]\n",
    "    lineup = soup.find_all(\"div\", {\"class\": \"lineup\"})\n",
    "    lineup_H = lineup[0]\n",
    "    lineup_A = lineup[1]\n",
    "\n",
    "    rows_lineup_H = lineup_H.find_all('tr')\n",
    "    rows_lineup_A = lineup_A.find_all('tr')\n",
    "    lineup_total = [rows_lineup_H, rows_lineup_A]\n",
    "    #print(rows_lineup)\n",
    "    i = 0\n",
    "\n",
    "\n",
    "    for rows_lineup in lineup_total:\n",
    "        i = i+1\n",
    "        for row in rows_lineup:\n",
    "\n",
    "            if row.find('a') != None:\n",
    "                #print(row.find('a').contents[0])\n",
    "                cell = row.find('a').contents[0]\n",
    "                a = cell.text.strip().encode()\n",
    "                text = a.decode(\"utf-8\")\n",
    "\n",
    "                if 'player' in pre_df_player:\n",
    "                    pre_df_player['player'].append(text)\n",
    "                    #pre_df_player['count'].append(3)\n",
    "                else:\n",
    "                    pre_df_player['player'] = [text]\n",
    "                    #pre_df_player['count'] = i\n",
    "\n",
    "        if i == 1:\n",
    "            df_player_H = pd.DataFrame.from_dict(pre_df_player)\n",
    "        else: df_player_A = pd.DataFrame.from_dict(pre_df_player)\n",
    "        pre_df_player = dict()\n",
    "\n",
    "\n",
    "\n",
    "    team_H = soup.findAll(\"strong\")[2].find(\"a\").contents[0]\n",
    "    if soup.findAll(\"strong\")[5].find(\"a\") is None:\n",
    "        team_A = soup.findAll(\"strong\")[4].find(\"a\").contents[0]\n",
    "    else:\n",
    "        team_A = soup.findAll(\"strong\")[5].find(\"a\").contents[0]\n",
    "\n",
    "    #gk1_table.append(gk2_table)\n",
    "    #team1_table.append(team2_table)\n",
    "\n",
    "    return df_player_H, df_player_A, team_H, team_A, matchweek, date\n",
    "\n",
    "#extract information from tables\n",
    "def frame_for_category_lineups (category, top, end):\n",
    "    url = (top + category + end)\n",
    "    print(url)\n",
    "    player_H, player_A, teamH, teamA, matchweek, date,= get_lineups(url)\n",
    "\n",
    "    player_H['team'] = teamH\n",
    "    player_A['team'] = teamA\n",
    "    df_player = pd.concat([player_H, player_A])\n",
    "    df_player['matchweek'] = matchweek\n",
    "    df_player['date'] = date\n",
    "    df_player['start11'] = np.where(df_player.index< 11, True, False)\n",
    "\n",
    "    return df_player\n",
    "\n",
    "#get lineups for one season\n",
    "def get_matchday_data_lineups(top, end, linklist):\n",
    "    pl = frame_for_category_lineups('/en/matches/3adf2aa7', top, end)\n",
    "    #pl1, gk1 = frame_for_category('/en/matches/3adf2aa7', top, end, statsm)\n",
    "\n",
    "    for i in linklist:\n",
    "        tmppl = frame_for_category_lineups(i, top, end)\n",
    "        pl = pd.concat([pl, tmppl], axis=0)\n",
    "        time.sleep(5)\n",
    "\n",
    "    return pl\n"
   ],
   "metadata": {
    "collapsed": false,
    "pycharm": {
     "name": "#%%\n"
    }
   }
  },
  {
   "cell_type": "code",
   "execution_count": 36,
   "outputs": [],
   "source": [
    "#get links for one season\n",
    "link_list = get_links('https://fbref.com/en/comps/9/2021-2022/schedule/2021-2022-Premier-League-Scores-and-Fixtures')\n",
    "\n",
    "# split list in 4 parts to not bring down website (website crashes sometimes, with split in 4 parts not the complete scraping process has to be done again)\n",
    "list1 = []\n",
    "list2 = []\n",
    "list3 = []\n",
    "list4 = []\n",
    "count = 0\n",
    "\n",
    "for i in link_list:\n",
    "    if count < 100:\n",
    "        list1.append(i)\n",
    "    elif count < 200:\n",
    "        list2.append(i)\n",
    "    elif count < 300:\n",
    "        list3.append(i)\n",
    "    else:\n",
    "        list4.append(i)\n",
    "    count = count + 1"
   ],
   "metadata": {
    "collapsed": false,
    "pycharm": {
     "name": "#%%\n"
    }
   }
  },
  {
   "cell_type": "code",
   "execution_count": 43,
   "outputs": [
    {
     "name": "stdout",
     "output_type": "stream",
     "text": [
      "https://fbref.com//en/matches/3adf2aa7\n",
      "https://fbref.com//en/matches/f976e20a/Everton-Manchester-United-April-9-2022-Premier-League\n",
      "https://fbref.com//en/matches/37ddcda6/Arsenal-Brighton-and-Hove-Albion-April-9-2022-Premier-League\n",
      "https://fbref.com//en/matches/70d15cf0/Southampton-Chelsea-April-9-2022-Premier-League\n",
      "https://fbref.com//en/matches/b18deecf/Watford-Leeds-United-April-9-2022-Premier-League\n",
      "https://fbref.com//en/matches/811d471f/Aston-Villa-Tottenham-Hotspur-April-9-2022-Premier-League\n",
      "https://fbref.com//en/matches/8574aaf3/Norwich-City-Burnley-April-10-2022-Premier-League\n",
      "https://fbref.com//en/matches/6bb36736/Brentford-West-Ham-United-April-10-2022-Premier-League\n",
      "https://fbref.com//en/matches/816c435d/Leicester-City-Crystal-Palace-April-10-2022-Premier-League\n",
      "https://fbref.com//en/matches/37e2fe92/Manchester-City-Liverpool-April-10-2022-Premier-League\n",
      "https://fbref.com//en/matches/0b266073/Tottenham-Hotspur-Brighton-and-Hove-Albion-April-16-2022-Premier-League\n",
      "https://fbref.com//en/matches/1c3ec7cf/Manchester-United-Norwich-City-April-16-2022-Premier-League\n",
      "https://fbref.com//en/matches/5ea2687c/Southampton-Arsenal-April-16-2022-Premier-League\n",
      "https://fbref.com//en/matches/3b17352d/Watford-Brentford-April-16-2022-Premier-League\n",
      "https://fbref.com//en/matches/f3a245c8/West-Ham-United-Burnley-April-17-2022-Premier-League\n",
      "https://fbref.com//en/matches/89803b3a/Newcastle-United-Leicester-City-April-17-2022-Premier-League\n",
      "https://fbref.com//en/matches/09f1bef7/North-West-Derby-Liverpool-Manchester-United-April-19-2022-Premier-League\n",
      "https://fbref.com//en/matches/46471203/Everton-Leicester-City-April-20-2022-Premier-League\n",
      "https://fbref.com//en/matches/cf8c0df6/North-West-London-Derby-Chelsea-Arsenal-April-20-2022-Premier-League\n",
      "https://fbref.com//en/matches/7a668764/Newcastle-United-Crystal-Palace-April-20-2022-Premier-League\n",
      "https://fbref.com//en/matches/34fd93f9/Manchester-City-Brighton-and-Hove-Albion-April-20-2022-Premier-League\n",
      "https://fbref.com//en/matches/73ef622b/Burnley-Southampton-April-21-2022-Premier-League\n",
      "https://fbref.com//en/matches/b9f7c065/Arsenal-Manchester-United-April-23-2022-Premier-League\n",
      "https://fbref.com//en/matches/af522ca3/Manchester-City-Watford-April-23-2022-Premier-League\n",
      "https://fbref.com//en/matches/17e5cacf/Leicester-City-Aston-Villa-April-23-2022-Premier-League\n",
      "https://fbref.com//en/matches/f6a877bb/Norwich-City-Newcastle-United-April-23-2022-Premier-League\n",
      "https://fbref.com//en/matches/9c939b7f/Brentford-Tottenham-Hotspur-April-23-2022-Premier-League\n",
      "https://fbref.com//en/matches/cfcd90ed/Chelsea-West-Ham-United-April-24-2022-Premier-League\n",
      "https://fbref.com//en/matches/99d0fee1/Burnley-Wolverhampton-Wanderers-April-24-2022-Premier-League\n",
      "https://fbref.com//en/matches/32a11932/Brighton-and-Hove-Albion-Southampton-April-24-2022-Premier-League\n",
      "https://fbref.com//en/matches/69235d39/Merseyside-Derby-Liverpool-Everton-April-24-2022-Premier-League\n",
      "https://fbref.com//en/matches/1a9f4c1e/Crystal-Palace-Leeds-United-April-25-2022-Premier-League\n",
      "https://fbref.com//en/matches/39f0deaa/Manchester-United-Chelsea-April-28-2022-Premier-League\n",
      "https://fbref.com//en/matches/d736eab8/Newcastle-United-Liverpool-April-30-2022-Premier-League\n",
      "https://fbref.com//en/matches/81ac72d8/Watford-Burnley-April-30-2022-Premier-League\n",
      "https://fbref.com//en/matches/d260be24/Southampton-Crystal-Palace-April-30-2022-Premier-League\n",
      "https://fbref.com//en/matches/b800c4ba/Wolverhampton-Wanderers-Brighton-and-Hove-Albion-April-30-2022-Premier-League\n",
      "https://fbref.com//en/matches/bf7873f2/Aston-Villa-Norwich-City-April-30-2022-Premier-League\n",
      "https://fbref.com//en/matches/5ce80a04/Leeds-United-Manchester-City-April-30-2022-Premier-League\n",
      "https://fbref.com//en/matches/26ff83e6/Tottenham-Hotspur-Leicester-City-May-1-2022-Premier-League\n",
      "https://fbref.com//en/matches/4ed4a295/Everton-Chelsea-May-1-2022-Premier-League\n",
      "https://fbref.com//en/matches/5290c2da/West-Ham-United-Arsenal-May-1-2022-Premier-League\n",
      "https://fbref.com//en/matches/c9b4c96a/Manchester-United-Brentford-May-2-2022-Premier-League\n",
      "https://fbref.com//en/matches/7c8a79d2/Chelsea-Wolverhampton-Wanderers-May-7-2022-Premier-League\n",
      "https://fbref.com//en/matches/74a74729/Brentford-Southampton-May-7-2022-Premier-League\n",
      "https://fbref.com//en/matches/1206a1df/Crystal-Palace-Watford-May-7-2022-Premier-League\n",
      "https://fbref.com//en/matches/c1dc9202/Burnley-Aston-Villa-May-7-2022-Premier-League\n",
      "https://fbref.com//en/matches/efa43305/Brighton-and-Hove-Albion-Manchester-United-May-7-2022-Premier-League\n",
      "https://fbref.com//en/matches/9a93e9b2/Liverpool-Tottenham-Hotspur-May-7-2022-Premier-League\n",
      "https://fbref.com//en/matches/a370b8d5/Norwich-City-West-Ham-United-May-8-2022-Premier-League\n",
      "https://fbref.com//en/matches/ef41dec1/Arsenal-Leeds-United-May-8-2022-Premier-League\n",
      "https://fbref.com//en/matches/4a972389/Leicester-City-Everton-May-8-2022-Premier-League\n",
      "https://fbref.com//en/matches/d1bcaf2b/Manchester-City-Newcastle-United-May-8-2022-Premier-League\n",
      "https://fbref.com//en/matches/1016efad/Aston-Villa-Liverpool-May-10-2022-Premier-League\n",
      "https://fbref.com//en/matches/6f225dc6/Leeds-United-Chelsea-May-11-2022-Premier-League\n",
      "https://fbref.com//en/matches/2ae05ae6/Leicester-City-Norwich-City-May-11-2022-Premier-League\n",
      "https://fbref.com//en/matches/948fa2e3/Watford-Everton-May-11-2022-Premier-League\n",
      "https://fbref.com//en/matches/a93c0c92/Wolverhampton-Wanderers-Manchester-City-May-11-2022-Premier-League\n",
      "https://fbref.com//en/matches/607d0562/North-London-Derby-Tottenham-Hotspur-Arsenal-May-12-2022-Premier-League\n",
      "https://fbref.com//en/matches/1d0f7282/Tottenham-Hotspur-Burnley-May-15-2022-Premier-League\n",
      "https://fbref.com//en/matches/5a142f6f/Watford-Leicester-City-May-15-2022-Premier-League\n",
      "https://fbref.com//en/matches/f94c5f85/West-Ham-United-Manchester-City-May-15-2022-Premier-League\n",
      "https://fbref.com//en/matches/1ca898da/Leeds-United-Brighton-and-Hove-Albion-May-15-2022-Premier-League\n",
      "https://fbref.com//en/matches/7f0d5ca8/Wolverhampton-Wanderers-Norwich-City-May-15-2022-Premier-League\n",
      "https://fbref.com//en/matches/d2e9e9e3/Aston-Villa-Crystal-Palace-May-15-2022-Premier-League\n",
      "https://fbref.com//en/matches/1b07c16e/Everton-Brentford-May-15-2022-Premier-League\n",
      "https://fbref.com//en/matches/a3b3a0d5/Newcastle-United-Arsenal-May-16-2022-Premier-League\n",
      "https://fbref.com//en/matches/733409b2/Southampton-Liverpool-May-17-2022-Premier-League\n",
      "https://fbref.com//en/matches/82aa061a/Everton-Crystal-Palace-May-19-2022-Premier-League\n",
      "https://fbref.com//en/matches/bc4f902e/Aston-Villa-Burnley-May-19-2022-Premier-League\n",
      "https://fbref.com//en/matches/75d8f6e0/Chelsea-Leicester-City-May-19-2022-Premier-League\n",
      "https://fbref.com//en/matches/70a81794/Brighton-and-Hove-Albion-West-Ham-United-May-22-2022-Premier-League\n",
      "https://fbref.com//en/matches/076ca089/Brentford-Leeds-United-May-22-2022-Premier-League\n",
      "https://fbref.com//en/matches/16e2761e/Leicester-City-Southampton-May-22-2022-Premier-League\n",
      "https://fbref.com//en/matches/4100d195/Arsenal-Everton-May-22-2022-Premier-League\n",
      "https://fbref.com//en/matches/19173099/Crystal-Palace-Manchester-United-May-22-2022-Premier-League\n",
      "https://fbref.com//en/matches/771ecae9/Norwich-City-Tottenham-Hotspur-May-22-2022-Premier-League\n",
      "https://fbref.com//en/matches/ad4ac82b/Burnley-Newcastle-United-May-22-2022-Premier-League\n",
      "https://fbref.com//en/matches/8b0f3e28/Liverpool-Wolverhampton-Wanderers-May-22-2022-Premier-League\n",
      "https://fbref.com//en/matches/7b4b63d0/Manchester-City-Aston-Villa-May-22-2022-Premier-League\n",
      "https://fbref.com//en/matches/df85b298/Chelsea-Watford-May-22-2022-Premier-League\n"
     ]
    }
   ],
   "source": [
    "#scrape data and store it in df's for players and goalkeepers\n",
    "df_1, gk_1 = get_matchday_data('https://fbref.com/', '', list1)\n",
    "df_2, gk_2 = get_matchday_data('https://fbref.com/', '', list2)\n",
    "df_3, gk_3 = get_matchday_data('https://fbref.com/', '', list3)\n",
    "df_4, gk_4 = get_matchday_data('https://fbref.com/', '', list4)\n",
    "\n",
    "#scrape lineups\n",
    "l_1 = get_matchday_data_lineups('https://fbref.com/', '', list1)\n",
    "l_2 = get_matchday_data_lineups('https://fbref.com/', '', list2)\n",
    "l_3 = get_matchday_data_lineups('https://fbref.com/', '', list3)\n",
    "l_4 = get_matchday_data_lineups('https://fbref.com/', '', list4)"
   ],
   "metadata": {
    "collapsed": false,
    "pycharm": {
     "name": "#%%\n"
    }
   }
  },
  {
   "cell_type": "code",
   "execution_count": 45,
   "outputs": [],
   "source": [
    "#concatenate all files\n",
    "def concatenate_files(f1, f2, f3, f4):\n",
    "    total = pd.concat([f1, f2, f3, f4], axis=0)\n",
    "    total = total.drop_duplicates()\n",
    "    total.reset_index(inplace=True, drop=True)\n",
    "    return total"
   ],
   "metadata": {
    "collapsed": false,
    "pycharm": {
     "name": "#%%\n"
    }
   }
  },
  {
   "cell_type": "code",
   "execution_count": 46,
   "outputs": [],
   "source": [
    "#concatenate gk files\n",
    "gk = concatenate_files(gk_1, gk_2, gk_3, gk_4)\n",
    "#concatenate player files\n",
    "pl = concatenate_files(df_1, df_2, df_3, df_4)\n",
    "#concatenate lineup files\n",
    "lineups = concatenate_files(l_1, l_2, l_3, l_4)"
   ],
   "metadata": {
    "collapsed": false,
    "pycharm": {
     "name": "#%%\n"
    }
   }
  },
  {
   "cell_type": "code",
   "execution_count": null,
   "outputs": [],
   "source": [
    "#slice string to get matchweek and position\n",
    "pl['matchweek'] = pl['matchweek'].str.slice(start=-3, stop=-1).astype(float)\n",
    "gk['matchweek'] = gk['matchweek'].str.slice(start=-3, stop=-1).astype(float)\n",
    "pl['position'] = pl['position'].str.slice(start=0, stop=2)\n",
    "gk"
   ],
   "metadata": {
    "collapsed": false,
    "pycharm": {
     "name": "#%%\n"
    }
   }
  },
  {
   "cell_type": "code",
   "execution_count": 55,
   "outputs": [
    {
     "data": {
      "text/plain": "                    player       team  matchweek        date  start11\n0               David Raya  Brentford        1.0  2021-08-13     True\n1               Rico Henry  Brentford        1.0  2021-08-13     True\n2            Ethan Pinnock  Brentford        1.0  2021-08-13     True\n3       Christian Nørgaard  Brentford        1.0  2021-08-13     True\n4              Sergi Canós  Brentford        1.0  2021-08-13     True\n...                    ...        ...        ...         ...      ...\n15158       Craig Cathcart    Watford       38.0  2022-05-22    False\n15159          Dan Gosling    Watford       38.0  2022-05-22    False\n15160                Cucho    Watford       38.0  2022-05-22    False\n15161  Francisco Sierralta    Watford       38.0  2022-05-22    False\n15162          Kwadwo Baah    Watford       38.0  2022-05-22    False\n\n[15163 rows x 5 columns]",
      "text/html": "<div>\n<style scoped>\n    .dataframe tbody tr th:only-of-type {\n        vertical-align: middle;\n    }\n\n    .dataframe tbody tr th {\n        vertical-align: top;\n    }\n\n    .dataframe thead th {\n        text-align: right;\n    }\n</style>\n<table border=\"1\" class=\"dataframe\">\n  <thead>\n    <tr style=\"text-align: right;\">\n      <th></th>\n      <th>player</th>\n      <th>team</th>\n      <th>matchweek</th>\n      <th>date</th>\n      <th>start11</th>\n    </tr>\n  </thead>\n  <tbody>\n    <tr>\n      <th>0</th>\n      <td>David Raya</td>\n      <td>Brentford</td>\n      <td>1.0</td>\n      <td>2021-08-13</td>\n      <td>True</td>\n    </tr>\n    <tr>\n      <th>1</th>\n      <td>Rico Henry</td>\n      <td>Brentford</td>\n      <td>1.0</td>\n      <td>2021-08-13</td>\n      <td>True</td>\n    </tr>\n    <tr>\n      <th>2</th>\n      <td>Ethan Pinnock</td>\n      <td>Brentford</td>\n      <td>1.0</td>\n      <td>2021-08-13</td>\n      <td>True</td>\n    </tr>\n    <tr>\n      <th>3</th>\n      <td>Christian Nørgaard</td>\n      <td>Brentford</td>\n      <td>1.0</td>\n      <td>2021-08-13</td>\n      <td>True</td>\n    </tr>\n    <tr>\n      <th>4</th>\n      <td>Sergi Canós</td>\n      <td>Brentford</td>\n      <td>1.0</td>\n      <td>2021-08-13</td>\n      <td>True</td>\n    </tr>\n    <tr>\n      <th>...</th>\n      <td>...</td>\n      <td>...</td>\n      <td>...</td>\n      <td>...</td>\n      <td>...</td>\n    </tr>\n    <tr>\n      <th>15158</th>\n      <td>Craig Cathcart</td>\n      <td>Watford</td>\n      <td>38.0</td>\n      <td>2022-05-22</td>\n      <td>False</td>\n    </tr>\n    <tr>\n      <th>15159</th>\n      <td>Dan Gosling</td>\n      <td>Watford</td>\n      <td>38.0</td>\n      <td>2022-05-22</td>\n      <td>False</td>\n    </tr>\n    <tr>\n      <th>15160</th>\n      <td>Cucho</td>\n      <td>Watford</td>\n      <td>38.0</td>\n      <td>2022-05-22</td>\n      <td>False</td>\n    </tr>\n    <tr>\n      <th>15161</th>\n      <td>Francisco Sierralta</td>\n      <td>Watford</td>\n      <td>38.0</td>\n      <td>2022-05-22</td>\n      <td>False</td>\n    </tr>\n    <tr>\n      <th>15162</th>\n      <td>Kwadwo Baah</td>\n      <td>Watford</td>\n      <td>38.0</td>\n      <td>2022-05-22</td>\n      <td>False</td>\n    </tr>\n  </tbody>\n</table>\n<p>15163 rows × 5 columns</p>\n</div>"
     },
     "execution_count": 55,
     "metadata": {},
     "output_type": "execute_result"
    }
   ],
   "source": [
    "lineups['matchweek'] = lineups['matchweek'].str.slice(start=-3, stop=-1).astype(float)"
   ],
   "metadata": {
    "collapsed": false,
    "pycharm": {
     "name": "#%%\n"
    }
   }
  },
  {
   "cell_type": "code",
   "execution_count": 56,
   "outputs": [
    {
     "data": {
      "text/plain": "                    player       team  matchweek        date  start11\n0               David Raya  Brentford        1.0  2021-08-13     True\n1               Rico Henry  Brentford        1.0  2021-08-13     True\n2            Ethan Pinnock  Brentford        1.0  2021-08-13     True\n3       Christian Nørgaard  Brentford        1.0  2021-08-13     True\n4              Sergi Canós  Brentford        1.0  2021-08-13     True\n...                    ...        ...        ...         ...      ...\n15158       Craig Cathcart    Watford       38.0  2022-05-22    False\n15159          Dan Gosling    Watford       38.0  2022-05-22    False\n15160                Cucho    Watford       38.0  2022-05-22    False\n15161  Francisco Sierralta    Watford       38.0  2022-05-22    False\n15162          Kwadwo Baah    Watford       38.0  2022-05-22    False\n\n[15163 rows x 5 columns]",
      "text/html": "<div>\n<style scoped>\n    .dataframe tbody tr th:only-of-type {\n        vertical-align: middle;\n    }\n\n    .dataframe tbody tr th {\n        vertical-align: top;\n    }\n\n    .dataframe thead th {\n        text-align: right;\n    }\n</style>\n<table border=\"1\" class=\"dataframe\">\n  <thead>\n    <tr style=\"text-align: right;\">\n      <th></th>\n      <th>player</th>\n      <th>team</th>\n      <th>matchweek</th>\n      <th>date</th>\n      <th>start11</th>\n    </tr>\n  </thead>\n  <tbody>\n    <tr>\n      <th>0</th>\n      <td>David Raya</td>\n      <td>Brentford</td>\n      <td>1.0</td>\n      <td>2021-08-13</td>\n      <td>True</td>\n    </tr>\n    <tr>\n      <th>1</th>\n      <td>Rico Henry</td>\n      <td>Brentford</td>\n      <td>1.0</td>\n      <td>2021-08-13</td>\n      <td>True</td>\n    </tr>\n    <tr>\n      <th>2</th>\n      <td>Ethan Pinnock</td>\n      <td>Brentford</td>\n      <td>1.0</td>\n      <td>2021-08-13</td>\n      <td>True</td>\n    </tr>\n    <tr>\n      <th>3</th>\n      <td>Christian Nørgaard</td>\n      <td>Brentford</td>\n      <td>1.0</td>\n      <td>2021-08-13</td>\n      <td>True</td>\n    </tr>\n    <tr>\n      <th>4</th>\n      <td>Sergi Canós</td>\n      <td>Brentford</td>\n      <td>1.0</td>\n      <td>2021-08-13</td>\n      <td>True</td>\n    </tr>\n    <tr>\n      <th>...</th>\n      <td>...</td>\n      <td>...</td>\n      <td>...</td>\n      <td>...</td>\n      <td>...</td>\n    </tr>\n    <tr>\n      <th>15158</th>\n      <td>Craig Cathcart</td>\n      <td>Watford</td>\n      <td>38.0</td>\n      <td>2022-05-22</td>\n      <td>False</td>\n    </tr>\n    <tr>\n      <th>15159</th>\n      <td>Dan Gosling</td>\n      <td>Watford</td>\n      <td>38.0</td>\n      <td>2022-05-22</td>\n      <td>False</td>\n    </tr>\n    <tr>\n      <th>15160</th>\n      <td>Cucho</td>\n      <td>Watford</td>\n      <td>38.0</td>\n      <td>2022-05-22</td>\n      <td>False</td>\n    </tr>\n    <tr>\n      <th>15161</th>\n      <td>Francisco Sierralta</td>\n      <td>Watford</td>\n      <td>38.0</td>\n      <td>2022-05-22</td>\n      <td>False</td>\n    </tr>\n    <tr>\n      <th>15162</th>\n      <td>Kwadwo Baah</td>\n      <td>Watford</td>\n      <td>38.0</td>\n      <td>2022-05-22</td>\n      <td>False</td>\n    </tr>\n  </tbody>\n</table>\n<p>15163 rows × 5 columns</p>\n</div>"
     },
     "execution_count": 56,
     "metadata": {},
     "output_type": "execute_result"
    }
   ],
   "source": [
    "#map position to category\n",
    "gk['position'] = 'GK'\n",
    "def get_category(df):\n",
    "    df.loc[df['position'] == 'GK', 'category'] = 'Goalkeeper'\n",
    "    df.loc[df['position'] == 'DF', 'category'] = 'Defender'\n",
    "    df.loc[df['position'] == 'RB', 'category'] = 'Defender'\n",
    "    df.loc[df['position'] == 'LB', 'category'] = 'Defender'\n",
    "    df.loc[df['position'] == 'CB', 'category'] = 'Defender'\n",
    "    df.loc[df['position'] == 'WB', 'category'] = 'Defender'\n",
    "    df.loc[df['position'] == 'FB', 'category'] = 'Defender'\n",
    "    df.loc[df['position'] == 'MF', 'category'] = 'Midfield'\n",
    "    df.loc[df['position'] == 'DM', 'category'] = 'Midfield'\n",
    "    df.loc[df['position'] == 'CM', 'category'] = 'Midfield'\n",
    "    df.loc[df['position'] == 'AM', 'category'] = 'Midfield'\n",
    "    df.loc[df['position'] == 'LM', 'category'] = 'Midfield'\n",
    "    df.loc[df['position'] == 'RM', 'category'] = 'Midfield'\n",
    "    df.loc[df['position'] == 'WM', 'category'] = 'Midfield'\n",
    "    df.loc[df['position'] == 'FW', 'category'] = 'Forward'\n",
    "    df.loc[df['position'] == 'RW', 'category'] = 'Forward'\n",
    "    df.loc[df['position'] == 'LW', 'category'] = 'Forward'\n",
    "    return df\n",
    "\n",
    "\n",
    "pl = get_category(pl)"
   ],
   "metadata": {
    "collapsed": false,
    "pycharm": {
     "name": "#%%\n"
    }
   }
  },
  {
   "cell_type": "code",
   "execution_count": 50,
   "outputs": [
    {
     "data": {
      "text/plain": "              player  minutes     age  gk_shots_on_target_against  \\\n0         David Raya     90.0  25-332                         4.0   \n1         Bernd Leno     90.0  29-162                         3.0   \n2       David de Gea     90.0  30-280                         3.0   \n3      Illan Meslier     90.0  21-165                         8.0   \n4    Daniel Bachmann     90.0  27-036                         1.0   \n..               ...      ...     ...                         ...   \n758       John Ruddy     45.0  35-210                         5.0   \n759          Ederson     90.0  28-278                         2.0   \n760      Robin Olsen     90.0  32-134                         5.0   \n761    Edouard Mendy     90.0  30-082                         3.0   \n762  Daniel Bachmann     90.0  27-317                         8.0   \n\n     gk_goals_against  gk_saves  gk_save_pct  gk_psxg  \\\n0                 0.0       4.0        100.0      0.4   \n1                 2.0       1.0         33.3      0.9   \n2                 1.0       2.0         66.7      0.6   \n3                 5.0       3.0         37.5      1.9   \n4                 2.0       0.0          0.0      1.5   \n..                ...       ...          ...      ...   \n758               2.0       3.0         60.0      1.4   \n759               2.0       0.0          0.0      0.7   \n760               3.0       2.0         40.0      2.6   \n761               1.0       2.0         66.7      1.1   \n762               2.0       6.0         75.0      2.3   \n\n     gk_passes_completed_launched  gk_passes  gk_passes_throws  \\\n0                            10.0       35.0               5.0   \n1                             3.0       26.0               3.0   \n2                             9.0       23.0               3.0   \n3                             8.0       38.0              10.0   \n4                             7.0       24.0               5.0   \n..                            ...        ...               ...   \n758                           2.0        7.0               1.0   \n759                           9.0       22.0               3.0   \n760                          11.0       28.0               6.0   \n761                           2.0       21.0               3.0   \n762                           9.0       22.0               4.0   \n\n     gk_pct_passes_launched  gk_def_actions_outside_pen_area  \\\n0                      60.0                              0.0   \n1                      19.2                              0.0   \n2                      17.4                              0.0   \n3                      42.1                              1.0   \n4                      50.0                              0.0   \n..                      ...                              ...   \n758                    85.7                              0.0   \n759                    36.4                              0.0   \n760                    64.3                              0.0   \n761                     9.5                              2.0   \n762                    59.1                              0.0   \n\n                        Team  matchweek        date position  \n0                  Brentford        1.0  2021-08-13       GK  \n1                    Arsenal        1.0  2021-08-13       GK  \n2          Manchester United        1.0  2021-08-14       GK  \n3               Leeds United        1.0  2021-08-14       GK  \n4                    Watford        1.0  2021-08-14       GK  \n..                       ...        ...         ...      ...  \n758  Wolverhampton Wanderers       38.0  2022-05-22       GK  \n759          Manchester City       38.0  2022-05-22       GK  \n760              Aston Villa       38.0  2022-05-22       GK  \n761                  Chelsea       38.0  2022-05-22       GK  \n762                  Watford       38.0  2022-05-22       GK  \n\n[763 rows x 17 columns]",
      "text/html": "<div>\n<style scoped>\n    .dataframe tbody tr th:only-of-type {\n        vertical-align: middle;\n    }\n\n    .dataframe tbody tr th {\n        vertical-align: top;\n    }\n\n    .dataframe thead th {\n        text-align: right;\n    }\n</style>\n<table border=\"1\" class=\"dataframe\">\n  <thead>\n    <tr style=\"text-align: right;\">\n      <th></th>\n      <th>player</th>\n      <th>minutes</th>\n      <th>age</th>\n      <th>gk_shots_on_target_against</th>\n      <th>gk_goals_against</th>\n      <th>gk_saves</th>\n      <th>gk_save_pct</th>\n      <th>gk_psxg</th>\n      <th>gk_passes_completed_launched</th>\n      <th>gk_passes</th>\n      <th>gk_passes_throws</th>\n      <th>gk_pct_passes_launched</th>\n      <th>gk_def_actions_outside_pen_area</th>\n      <th>Team</th>\n      <th>matchweek</th>\n      <th>date</th>\n      <th>position</th>\n    </tr>\n  </thead>\n  <tbody>\n    <tr>\n      <th>0</th>\n      <td>David Raya</td>\n      <td>90.0</td>\n      <td>25-332</td>\n      <td>4.0</td>\n      <td>0.0</td>\n      <td>4.0</td>\n      <td>100.0</td>\n      <td>0.4</td>\n      <td>10.0</td>\n      <td>35.0</td>\n      <td>5.0</td>\n      <td>60.0</td>\n      <td>0.0</td>\n      <td>Brentford</td>\n      <td>1.0</td>\n      <td>2021-08-13</td>\n      <td>GK</td>\n    </tr>\n    <tr>\n      <th>1</th>\n      <td>Bernd Leno</td>\n      <td>90.0</td>\n      <td>29-162</td>\n      <td>3.0</td>\n      <td>2.0</td>\n      <td>1.0</td>\n      <td>33.3</td>\n      <td>0.9</td>\n      <td>3.0</td>\n      <td>26.0</td>\n      <td>3.0</td>\n      <td>19.2</td>\n      <td>0.0</td>\n      <td>Arsenal</td>\n      <td>1.0</td>\n      <td>2021-08-13</td>\n      <td>GK</td>\n    </tr>\n    <tr>\n      <th>2</th>\n      <td>David de Gea</td>\n      <td>90.0</td>\n      <td>30-280</td>\n      <td>3.0</td>\n      <td>1.0</td>\n      <td>2.0</td>\n      <td>66.7</td>\n      <td>0.6</td>\n      <td>9.0</td>\n      <td>23.0</td>\n      <td>3.0</td>\n      <td>17.4</td>\n      <td>0.0</td>\n      <td>Manchester United</td>\n      <td>1.0</td>\n      <td>2021-08-14</td>\n      <td>GK</td>\n    </tr>\n    <tr>\n      <th>3</th>\n      <td>Illan Meslier</td>\n      <td>90.0</td>\n      <td>21-165</td>\n      <td>8.0</td>\n      <td>5.0</td>\n      <td>3.0</td>\n      <td>37.5</td>\n      <td>1.9</td>\n      <td>8.0</td>\n      <td>38.0</td>\n      <td>10.0</td>\n      <td>42.1</td>\n      <td>1.0</td>\n      <td>Leeds United</td>\n      <td>1.0</td>\n      <td>2021-08-14</td>\n      <td>GK</td>\n    </tr>\n    <tr>\n      <th>4</th>\n      <td>Daniel Bachmann</td>\n      <td>90.0</td>\n      <td>27-036</td>\n      <td>1.0</td>\n      <td>2.0</td>\n      <td>0.0</td>\n      <td>0.0</td>\n      <td>1.5</td>\n      <td>7.0</td>\n      <td>24.0</td>\n      <td>5.0</td>\n      <td>50.0</td>\n      <td>0.0</td>\n      <td>Watford</td>\n      <td>1.0</td>\n      <td>2021-08-14</td>\n      <td>GK</td>\n    </tr>\n    <tr>\n      <th>...</th>\n      <td>...</td>\n      <td>...</td>\n      <td>...</td>\n      <td>...</td>\n      <td>...</td>\n      <td>...</td>\n      <td>...</td>\n      <td>...</td>\n      <td>...</td>\n      <td>...</td>\n      <td>...</td>\n      <td>...</td>\n      <td>...</td>\n      <td>...</td>\n      <td>...</td>\n      <td>...</td>\n      <td>...</td>\n    </tr>\n    <tr>\n      <th>758</th>\n      <td>John Ruddy</td>\n      <td>45.0</td>\n      <td>35-210</td>\n      <td>5.0</td>\n      <td>2.0</td>\n      <td>3.0</td>\n      <td>60.0</td>\n      <td>1.4</td>\n      <td>2.0</td>\n      <td>7.0</td>\n      <td>1.0</td>\n      <td>85.7</td>\n      <td>0.0</td>\n      <td>Wolverhampton Wanderers</td>\n      <td>38.0</td>\n      <td>2022-05-22</td>\n      <td>GK</td>\n    </tr>\n    <tr>\n      <th>759</th>\n      <td>Ederson</td>\n      <td>90.0</td>\n      <td>28-278</td>\n      <td>2.0</td>\n      <td>2.0</td>\n      <td>0.0</td>\n      <td>0.0</td>\n      <td>0.7</td>\n      <td>9.0</td>\n      <td>22.0</td>\n      <td>3.0</td>\n      <td>36.4</td>\n      <td>0.0</td>\n      <td>Manchester City</td>\n      <td>38.0</td>\n      <td>2022-05-22</td>\n      <td>GK</td>\n    </tr>\n    <tr>\n      <th>760</th>\n      <td>Robin Olsen</td>\n      <td>90.0</td>\n      <td>32-134</td>\n      <td>5.0</td>\n      <td>3.0</td>\n      <td>2.0</td>\n      <td>40.0</td>\n      <td>2.6</td>\n      <td>11.0</td>\n      <td>28.0</td>\n      <td>6.0</td>\n      <td>64.3</td>\n      <td>0.0</td>\n      <td>Aston Villa</td>\n      <td>38.0</td>\n      <td>2022-05-22</td>\n      <td>GK</td>\n    </tr>\n    <tr>\n      <th>761</th>\n      <td>Edouard Mendy</td>\n      <td>90.0</td>\n      <td>30-082</td>\n      <td>3.0</td>\n      <td>1.0</td>\n      <td>2.0</td>\n      <td>66.7</td>\n      <td>1.1</td>\n      <td>2.0</td>\n      <td>21.0</td>\n      <td>3.0</td>\n      <td>9.5</td>\n      <td>2.0</td>\n      <td>Chelsea</td>\n      <td>38.0</td>\n      <td>2022-05-22</td>\n      <td>GK</td>\n    </tr>\n    <tr>\n      <th>762</th>\n      <td>Daniel Bachmann</td>\n      <td>90.0</td>\n      <td>27-317</td>\n      <td>8.0</td>\n      <td>2.0</td>\n      <td>6.0</td>\n      <td>75.0</td>\n      <td>2.3</td>\n      <td>9.0</td>\n      <td>22.0</td>\n      <td>4.0</td>\n      <td>59.1</td>\n      <td>0.0</td>\n      <td>Watford</td>\n      <td>38.0</td>\n      <td>2022-05-22</td>\n      <td>GK</td>\n    </tr>\n  </tbody>\n</table>\n<p>763 rows × 17 columns</p>\n</div>"
     },
     "execution_count": 50,
     "metadata": {},
     "output_type": "execute_result"
    }
   ],
   "source": [
    "#export lineups\n",
    "def create_csv(df):\n",
    "    df = df.drop_duplicates()\n",
    "    df.reset_index(inplace=True, drop=True)\n",
    "    df.to_csv('PL2021_lineups.csv', index=False)\n",
    "    return df\n",
    "create_csv(lineups)\n"
   ],
   "metadata": {
    "collapsed": false,
    "pycharm": {
     "name": "#%%\n"
    }
   }
  },
  {
   "cell_type": "code",
   "execution_count": 51,
   "outputs": [
    {
     "data": {
      "text/plain": "                   player  shirtnumber nationality position     age  minutes  \\\n0              Ivan Toney         17.0     eng ENG       FW  25-150     90.0   \n1            Bryan Mbeumo         19.0      cm CMR       FW  22-006     85.0   \n2            Marcus Forss          9.0      fi FIN       FW  22-056      5.0   \n3           Vitaly Janelt         27.0      de GER       CM  23-095     90.0   \n4            Frank Onyeka         15.0      ng NGA       CM  23-224     79.0   \n...                   ...          ...         ...      ...     ...      ...   \n10481         Adam Masina         11.0      ma MAR       LB  28-140     13.0   \n10482        Samir Santos         22.0      br BRA       CB  27-168     90.0   \n10483  Christian Kabasele         27.0      be BEL       CB  31-087     90.0   \n10484        Kiko Femenía         21.0      es ESP       RB  31-109     90.0   \n10485     Daniel Bachmann         26.0      at AUT       GK  27-317     90.0   \n\n       goals  assists  touches  sca  ...  passes  passes_pct  \\\n0        0.0      0.0     29.0  1.0  ...    21.0        47.6   \n1        0.0      0.0     34.0  3.0  ...    23.0        65.2   \n2        0.0      0.0      5.0  0.0  ...     3.0        66.7   \n3        0.0      0.0     41.0  1.0  ...    29.0        75.9   \n4        0.0      0.0     22.0  2.0  ...    14.0        92.9   \n...      ...      ...      ...  ...  ...     ...         ...   \n10481    0.0      1.0      6.0  1.0  ...     5.0       100.0   \n10482    0.0      0.0     30.0  0.0  ...    24.0        62.5   \n10483    0.0      0.0     21.0  0.0  ...    14.0        71.4   \n10484    0.0      0.0     58.0  0.0  ...    47.0        63.8   \n10485    0.0      0.0     32.0  0.0  ...    29.0        58.6   \n\n       progressive_passes  progressive_carries  dribbles_completed  dribbles  \\\n0                     3.0                  0.0                 1.0       2.0   \n1                     1.0                  1.0                 2.0       3.0   \n2                     0.0                  1.0                 1.0       2.0   \n3                     4.0                  2.0                 0.0       0.0   \n4                     3.0                  0.0                 1.0       1.0   \n...                   ...                  ...                 ...       ...   \n10481                 0.0                  0.0                 0.0       0.0   \n10482                 0.0                  1.0                 0.0       0.0   \n10483                 0.0                  0.0                 0.0       0.0   \n10484                 4.0                  4.0                 0.0       2.0   \n10485                 0.0                  0.0                 0.0       0.0   \n\n            Team  matchweek        date    category  \n0      Brentford        1.0  2021-08-13     Forward  \n1      Brentford        1.0  2021-08-13     Forward  \n2      Brentford        1.0  2021-08-13     Forward  \n3      Brentford        1.0  2021-08-13    Midfield  \n4      Brentford        1.0  2021-08-13    Midfield  \n...          ...        ...         ...         ...  \n10481    Watford       38.0  2022-05-22    Defender  \n10482    Watford       38.0  2022-05-22    Defender  \n10483    Watford       38.0  2022-05-22    Defender  \n10484    Watford       38.0  2022-05-22    Defender  \n10485    Watford       38.0  2022-05-22  Goalkeeper  \n\n[10486 rows x 30 columns]",
      "text/html": "<div>\n<style scoped>\n    .dataframe tbody tr th:only-of-type {\n        vertical-align: middle;\n    }\n\n    .dataframe tbody tr th {\n        vertical-align: top;\n    }\n\n    .dataframe thead th {\n        text-align: right;\n    }\n</style>\n<table border=\"1\" class=\"dataframe\">\n  <thead>\n    <tr style=\"text-align: right;\">\n      <th></th>\n      <th>player</th>\n      <th>shirtnumber</th>\n      <th>nationality</th>\n      <th>position</th>\n      <th>age</th>\n      <th>minutes</th>\n      <th>goals</th>\n      <th>assists</th>\n      <th>touches</th>\n      <th>sca</th>\n      <th>...</th>\n      <th>passes</th>\n      <th>passes_pct</th>\n      <th>progressive_passes</th>\n      <th>progressive_carries</th>\n      <th>dribbles_completed</th>\n      <th>dribbles</th>\n      <th>Team</th>\n      <th>matchweek</th>\n      <th>date</th>\n      <th>category</th>\n    </tr>\n  </thead>\n  <tbody>\n    <tr>\n      <th>0</th>\n      <td>Ivan Toney</td>\n      <td>17.0</td>\n      <td>eng ENG</td>\n      <td>FW</td>\n      <td>25-150</td>\n      <td>90.0</td>\n      <td>0.0</td>\n      <td>0.0</td>\n      <td>29.0</td>\n      <td>1.0</td>\n      <td>...</td>\n      <td>21.0</td>\n      <td>47.6</td>\n      <td>3.0</td>\n      <td>0.0</td>\n      <td>1.0</td>\n      <td>2.0</td>\n      <td>Brentford</td>\n      <td>1.0</td>\n      <td>2021-08-13</td>\n      <td>Forward</td>\n    </tr>\n    <tr>\n      <th>1</th>\n      <td>Bryan Mbeumo</td>\n      <td>19.0</td>\n      <td>cm CMR</td>\n      <td>FW</td>\n      <td>22-006</td>\n      <td>85.0</td>\n      <td>0.0</td>\n      <td>0.0</td>\n      <td>34.0</td>\n      <td>3.0</td>\n      <td>...</td>\n      <td>23.0</td>\n      <td>65.2</td>\n      <td>1.0</td>\n      <td>1.0</td>\n      <td>2.0</td>\n      <td>3.0</td>\n      <td>Brentford</td>\n      <td>1.0</td>\n      <td>2021-08-13</td>\n      <td>Forward</td>\n    </tr>\n    <tr>\n      <th>2</th>\n      <td>Marcus Forss</td>\n      <td>9.0</td>\n      <td>fi FIN</td>\n      <td>FW</td>\n      <td>22-056</td>\n      <td>5.0</td>\n      <td>0.0</td>\n      <td>0.0</td>\n      <td>5.0</td>\n      <td>0.0</td>\n      <td>...</td>\n      <td>3.0</td>\n      <td>66.7</td>\n      <td>0.0</td>\n      <td>1.0</td>\n      <td>1.0</td>\n      <td>2.0</td>\n      <td>Brentford</td>\n      <td>1.0</td>\n      <td>2021-08-13</td>\n      <td>Forward</td>\n    </tr>\n    <tr>\n      <th>3</th>\n      <td>Vitaly Janelt</td>\n      <td>27.0</td>\n      <td>de GER</td>\n      <td>CM</td>\n      <td>23-095</td>\n      <td>90.0</td>\n      <td>0.0</td>\n      <td>0.0</td>\n      <td>41.0</td>\n      <td>1.0</td>\n      <td>...</td>\n      <td>29.0</td>\n      <td>75.9</td>\n      <td>4.0</td>\n      <td>2.0</td>\n      <td>0.0</td>\n      <td>0.0</td>\n      <td>Brentford</td>\n      <td>1.0</td>\n      <td>2021-08-13</td>\n      <td>Midfield</td>\n    </tr>\n    <tr>\n      <th>4</th>\n      <td>Frank Onyeka</td>\n      <td>15.0</td>\n      <td>ng NGA</td>\n      <td>CM</td>\n      <td>23-224</td>\n      <td>79.0</td>\n      <td>0.0</td>\n      <td>0.0</td>\n      <td>22.0</td>\n      <td>2.0</td>\n      <td>...</td>\n      <td>14.0</td>\n      <td>92.9</td>\n      <td>3.0</td>\n      <td>0.0</td>\n      <td>1.0</td>\n      <td>1.0</td>\n      <td>Brentford</td>\n      <td>1.0</td>\n      <td>2021-08-13</td>\n      <td>Midfield</td>\n    </tr>\n    <tr>\n      <th>...</th>\n      <td>...</td>\n      <td>...</td>\n      <td>...</td>\n      <td>...</td>\n      <td>...</td>\n      <td>...</td>\n      <td>...</td>\n      <td>...</td>\n      <td>...</td>\n      <td>...</td>\n      <td>...</td>\n      <td>...</td>\n      <td>...</td>\n      <td>...</td>\n      <td>...</td>\n      <td>...</td>\n      <td>...</td>\n      <td>...</td>\n      <td>...</td>\n      <td>...</td>\n      <td>...</td>\n    </tr>\n    <tr>\n      <th>10481</th>\n      <td>Adam Masina</td>\n      <td>11.0</td>\n      <td>ma MAR</td>\n      <td>LB</td>\n      <td>28-140</td>\n      <td>13.0</td>\n      <td>0.0</td>\n      <td>1.0</td>\n      <td>6.0</td>\n      <td>1.0</td>\n      <td>...</td>\n      <td>5.0</td>\n      <td>100.0</td>\n      <td>0.0</td>\n      <td>0.0</td>\n      <td>0.0</td>\n      <td>0.0</td>\n      <td>Watford</td>\n      <td>38.0</td>\n      <td>2022-05-22</td>\n      <td>Defender</td>\n    </tr>\n    <tr>\n      <th>10482</th>\n      <td>Samir Santos</td>\n      <td>22.0</td>\n      <td>br BRA</td>\n      <td>CB</td>\n      <td>27-168</td>\n      <td>90.0</td>\n      <td>0.0</td>\n      <td>0.0</td>\n      <td>30.0</td>\n      <td>0.0</td>\n      <td>...</td>\n      <td>24.0</td>\n      <td>62.5</td>\n      <td>0.0</td>\n      <td>1.0</td>\n      <td>0.0</td>\n      <td>0.0</td>\n      <td>Watford</td>\n      <td>38.0</td>\n      <td>2022-05-22</td>\n      <td>Defender</td>\n    </tr>\n    <tr>\n      <th>10483</th>\n      <td>Christian Kabasele</td>\n      <td>27.0</td>\n      <td>be BEL</td>\n      <td>CB</td>\n      <td>31-087</td>\n      <td>90.0</td>\n      <td>0.0</td>\n      <td>0.0</td>\n      <td>21.0</td>\n      <td>0.0</td>\n      <td>...</td>\n      <td>14.0</td>\n      <td>71.4</td>\n      <td>0.0</td>\n      <td>0.0</td>\n      <td>0.0</td>\n      <td>0.0</td>\n      <td>Watford</td>\n      <td>38.0</td>\n      <td>2022-05-22</td>\n      <td>Defender</td>\n    </tr>\n    <tr>\n      <th>10484</th>\n      <td>Kiko Femenía</td>\n      <td>21.0</td>\n      <td>es ESP</td>\n      <td>RB</td>\n      <td>31-109</td>\n      <td>90.0</td>\n      <td>0.0</td>\n      <td>0.0</td>\n      <td>58.0</td>\n      <td>0.0</td>\n      <td>...</td>\n      <td>47.0</td>\n      <td>63.8</td>\n      <td>4.0</td>\n      <td>4.0</td>\n      <td>0.0</td>\n      <td>2.0</td>\n      <td>Watford</td>\n      <td>38.0</td>\n      <td>2022-05-22</td>\n      <td>Defender</td>\n    </tr>\n    <tr>\n      <th>10485</th>\n      <td>Daniel Bachmann</td>\n      <td>26.0</td>\n      <td>at AUT</td>\n      <td>GK</td>\n      <td>27-317</td>\n      <td>90.0</td>\n      <td>0.0</td>\n      <td>0.0</td>\n      <td>32.0</td>\n      <td>0.0</td>\n      <td>...</td>\n      <td>29.0</td>\n      <td>58.6</td>\n      <td>0.0</td>\n      <td>0.0</td>\n      <td>0.0</td>\n      <td>0.0</td>\n      <td>Watford</td>\n      <td>38.0</td>\n      <td>2022-05-22</td>\n      <td>Goalkeeper</td>\n    </tr>\n  </tbody>\n</table>\n<p>10486 rows × 30 columns</p>\n</div>"
     },
     "execution_count": 51,
     "metadata": {},
     "output_type": "execute_result"
    }
   ],
   "source": [
    "#export goalkeeper data\n",
    "def create_csv(df):\n",
    "    df = df.drop_duplicates()\n",
    "    df.reset_index(inplace=True, drop=True)\n",
    "    df.to_csv('PL2021_keepers.csv', index=False)\n",
    "    return df\n",
    "\n",
    "create_csv(gk)"
   ],
   "metadata": {
    "collapsed": false,
    "pycharm": {
     "name": "#%%\n"
    }
   }
  },
  {
   "cell_type": "code",
   "execution_count": null,
   "outputs": [],
   "source": [
    "#export player data\n",
    "def create_csv(df):\n",
    "    df = df.drop_duplicates()\n",
    "    df.reset_index(inplace=True, drop=True)\n",
    "    df.to_csv('PL2021_players.csv', index=False)\n",
    "    return df\n",
    "\n",
    "\n",
    "create_csv(pl)"
   ],
   "metadata": {
    "collapsed": false,
    "pycharm": {
     "name": "#%%\n"
    }
   }
  }
 ],
 "metadata": {
  "kernelspec": {
   "display_name": "Python 3",
   "language": "python",
   "name": "python3"
  },
  "language_info": {
   "codemirror_mode": {
    "name": "ipython",
    "version": 2
   },
   "file_extension": ".py",
   "mimetype": "text/x-python",
   "name": "python",
   "nbconvert_exporter": "python",
   "pygments_lexer": "ipython2",
   "version": "2.7.6"
  }
 },
 "nbformat": 4,
 "nbformat_minor": 0
}