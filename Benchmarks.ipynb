{
 "cells": [
  {
   "cell_type": "code",
   "execution_count": 1,
   "metadata": {
    "collapsed": true
   },
   "outputs": [],
   "source": [
    "#import necessary packages\n",
    "import pandas as pd\n",
    "import numpy as np"
   ]
  },
  {
   "cell_type": "code",
   "execution_count": 39,
   "outputs": [
    {
     "name": "stdout",
     "output_type": "stream",
     "text": [
      "      H     D     A\n",
      "0  1.00  0.00  0.00\n",
      "1  0.90  0.10  0.00\n",
      "2  0.80  0.10  0.10\n",
      "3  0.50  0.25  0.25\n",
      "4  0.35  0.30  0.35\n",
      "5  0.60  0.30  0.10\n",
      "6  0.60  0.30  0.10\n",
      "7  0.60  0.10  0.30\n",
      "8  0.50  0.45  0.05\n",
      "9  0.55  0.10  0.35\n"
     ]
    }
   ],
   "source": [
    "def rps(predictions, observed):\n",
    "    \"\"\"Vectorized version of Ranked Probability Score.\n",
    "    A lower value is a better score.\n",
    "    From: Colin Catlin, https://syllepsis.live/2022/01/22/ranked-probability-score-in-python/\n",
    "\n",
    "    Args:\n",
    "        predictions (pd.DataFrame): each column is an outcome category\n",
    "            with values as the 0 to 1 probability of that category\n",
    "        observed (pd.DataFrame): each column is an outcome category\n",
    "            with values of 0 OR 1 with 1 being that category occurred\n",
    "    \"\"\"\n",
    "    assert (\n",
    "        predictions.shape == observed.shape\n",
    "    ), \"prediction and observed array shapes must match\"\n",
    "    ncat = predictions.shape[1] - 1\n",
    "    return (\n",
    "        np.sum(\n",
    "            (np.cumsum(predictions, axis=1) - np.cumsum(observed, axis=1)) ** 2, axis=1\n",
    "        ) / ncat\n",
    "    )\n",
    "\n",
    "\n",
    "\"\"\"\n",
    "Sample data is of soccer/football matches,\n",
    "5 matches, with 2 different models predicting (with 'a' the better model)\n",
    "3 Categories\n",
    "Where H = home team wins, D = draw, A = away wins\n",
    "\n",
    "ORDER MATTERS (of H, D, and A), which is the whole point of this metric.\n",
    "\"\"\"\n",
    "predictions_df = pd.DataFrame({\n",
    "    'H': [1, 0.9, 0.8, 0.5, 0.35, 0.6, 0.6, 0.6, 0.5, 0.55],\n",
    "    'D': [0, 0.1, 0.1, 0.25, 0.3, 0.3, 0.3, 0.1, 0.45, 0.1],\n",
    "    'A': [0, 0, 0.1, 0.25, 0.35, 0.1, 0.1, 0.3, 0.05, 0.35],\n",
    "    \"model\": np.tile([\"a\", \"b\"], 5),\n",
    "    \"match\": np.repeat(np.arange(1, 6), 2),\n",
    "    \"outcome\": np.repeat([\"H\", \"H\", \"D\", \"H\", \"H\"], 2),\n",
    "})\n",
    "expected_result = [0, 0.005, 0.025, 0.15625, 0.1225, 0.185, 0.085, 0.125, 0.12625, 0.1625]\n",
    "predictions = predictions_df[[\"H\", \"D\", \"A\"]]\n",
    "observed = pd.get_dummies(predictions_df[\"outcome\"]).reindex(\n",
    "    columns=predictions.columns, fill_value=0\n",
    ")\n",
    "rps_result = rps(predictions, observed).round(5)\n",
    "\n",
    "\n",
    "print(predictions)\n",
    "#print(f\"do results match expected: {all(expected_result == rps_result)}\")\n",
    "\n",
    "print(np.mean(rps_result))"
   ],
   "metadata": {
    "collapsed": false,
    "pycharm": {
     "name": "#%%\n"
    }
   }
  },
  {
   "cell_type": "code",
   "execution_count": 58,
   "outputs": [
    {
     "name": "stdout",
     "output_type": "stream",
     "text": [
      "0.21371036842105265\n",
      "            H         D         A\n",
      "0    0.158548  0.219697  0.621756\n",
      "1    0.306573  0.292424  0.401003\n",
      "2    0.741801  0.158251  0.099948\n",
      "3    0.441558  0.279221  0.279221\n",
      "4    0.249733  0.263607  0.486660\n",
      "..        ...       ...       ...\n",
      "375  0.826366  0.110830  0.062804\n",
      "376  0.662454  0.190787  0.146759\n",
      "377  0.339623  0.264151  0.396226\n",
      "378  0.573888  0.236729  0.189383\n",
      "379  0.378758  0.270541  0.350701\n",
      "\n",
      "[380 rows x 3 columns]\n"
     ]
    }
   ],
   "source": [
    "PL_20_21 = pd.read_csv('Data/2020-21/Fixtures/E_20_21.csv')\n",
    "PL_20_21['B365H'] = 1/PL_20_21['B365H']\n",
    "PL_20_21['B365D'] = 1/PL_20_21['B365D']\n",
    "PL_20_21['B365A'] = 1/PL_20_21['B365A']\n",
    "PL_20_21['SUM'] = PL_20_21['B365H'] + PL_20_21['B365D'] + PL_20_21['B365A']\n",
    "PL_20_21['B365H'] = PL_20_21['B365H']/PL_20_21['SUM']\n",
    "PL_20_21['B365D'] = PL_20_21['B365D']/PL_20_21['SUM']\n",
    "PL_20_21['B365A'] = PL_20_21['B365A']/PL_20_21['SUM']\n",
    "probabilities = PL_20_21[['HomeTeam', 'AwayTeam', 'B365H', 'B365D', 'B365A', 'FTR']]\n",
    "probabilities = probabilities.rename(columns={'B365H':'H','B365D':'D','B365A':'A'})\n",
    "predictions = probabilities[[\"H\", \"D\", \"A\"]]\n",
    "observed = pd.get_dummies(probabilities[\"FTR\"]).reindex(\n",
    "    columns=predictions.columns, fill_value=0)\n",
    "observed\n",
    "rps_result = rps(predictions, observed).round(5)\n",
    "\n",
    "\n",
    "print(np.mean(rps_result))\n",
    "print(predictions)"
   ],
   "metadata": {
    "collapsed": false,
    "pycharm": {
     "name": "#%%\n"
    }
   }
  },
  {
   "cell_type": "code",
   "execution_count": 53,
   "outputs": [
    {
     "name": "stdout",
     "output_type": "stream",
     "text": [
      "0.2381925\n",
      "        H     D     A\n",
      "0    0.06  0.91  0.03\n",
      "1    0.81  0.18  0.01\n",
      "2    0.91  0.08  0.01\n",
      "3    0.72  0.28  0.00\n",
      "4    0.06  0.91  0.03\n",
      "..    ...   ...   ...\n",
      "375  0.86  0.10  0.04\n",
      "376  0.42  0.41  0.17\n",
      "377  0.80  0.15  0.05\n",
      "378  0.85  0.11  0.04\n",
      "379  0.10  0.79  0.11\n",
      "\n",
      "[380 rows x 3 columns]\n"
     ]
    }
   ],
   "source": [
    "probs = pd.read_csv('Data/2020-21/Fixtures/probabilities.csv')\n",
    "probs\n",
    "predictions = probs[[\"H\", \"D\", \"A\"]]\n",
    "observed = pd.get_dummies(probabilities[\"FTR\"]).reindex(\n",
    "    columns=predictions.columns, fill_value=0)\n",
    "rps_result = rps(predictions, observed).round(5)\n",
    "\n",
    "\n",
    "print(np.mean(rps_result))\n",
    "print(predictions)"
   ],
   "metadata": {
    "collapsed": false,
    "pycharm": {
     "name": "#%%\n"
    }
   }
  },
  {
   "cell_type": "code",
   "execution_count": 47,
   "outputs": [
    {
     "data": {
      "text/plain": "    Div        Date   Time          HomeTeam        AwayTeam  FTHG  FTAG FTR  \\\n0    E0  12/09/2020  12:30            Fulham         Arsenal     0     3   A   \n1    E0  12/09/2020  15:00    Crystal Palace     Southampton     1     0   H   \n2    E0  12/09/2020  17:30         Liverpool           Leeds     4     3   H   \n3    E0  12/09/2020  20:00          West Ham       Newcastle     0     2   A   \n4    E0  13/09/2020  14:00         West Brom       Leicester     0     3   A   \n..   ..         ...    ...               ...             ...   ...   ...  ..   \n375  E0  23/05/2021  16:00         Liverpool  Crystal Palace     2     0   H   \n376  E0  23/05/2021  16:00          Man City         Everton     5     0   H   \n377  E0  23/05/2021  16:00  Sheffield United         Burnley     1     0   H   \n378  E0  23/05/2021  16:00          West Ham     Southampton     3     0   H   \n379  E0  23/05/2021  16:00            Wolves      Man United     1     2   A   \n\n     HTHG  HTAG  ... B365CAHH B365CAHA  PCAHH  PCAHA  MaxCAHH  MaxCAHA  \\\n0       0     1  ...     2.01     1.89   2.02   1.91     2.13     1.92   \n1       1     0  ...     1.78     2.13   1.79   2.17     1.85     2.18   \n2       3     2  ...     1.85     2.05   1.85   2.08     1.90     2.16   \n3       0     0  ...     2.03     1.87   2.04   1.88     2.09     1.91   \n4       0     0  ...     1.92     1.98   1.93   1.99     1.95     2.01   \n..    ...   ...  ...      ...      ...    ...    ...      ...      ...   \n375     1     0  ...     1.86     2.04   1.88   2.03     1.98     2.14   \n376     2     0  ...     2.01     1.89   1.99   1.89     2.20     2.00   \n377     1     0  ...     2.04     1.86   2.05   1.86     2.17     1.90   \n378     2     0  ...     2.00     1.90   2.02   1.91     2.06     2.01   \n379     1     2  ...     2.04     1.86   2.10   1.84     2.10     1.94   \n\n     AvgCAHH  AvgCAHA       SUM                    game_id  \n0       2.02     1.87  1.051208              FulhamArsenal  \n1       1.79     2.12  1.052214  Crystal PalaceSouthampton  \n2       1.84     2.04  1.053180             LiverpoolLeeds  \n3       2.02     1.86  1.053352          West HamNewcastle  \n4       1.91     1.97  1.053756         West BromLeicester  \n..       ...      ...       ...                        ...  \n375     1.88     2.00  1.061507    LiverpoolCrystal Palace  \n376     2.03     1.85  1.048291            Man CityEverton  \n377     2.03     1.84  1.051587    Sheffield UnitedBurnley  \n378     1.99     1.89  1.056061        West HamSouthampton  \n379     2.00     1.88  1.056085           WolvesMan United  \n\n[380 rows x 108 columns]",
      "text/html": "<div>\n<style scoped>\n    .dataframe tbody tr th:only-of-type {\n        vertical-align: middle;\n    }\n\n    .dataframe tbody tr th {\n        vertical-align: top;\n    }\n\n    .dataframe thead th {\n        text-align: right;\n    }\n</style>\n<table border=\"1\" class=\"dataframe\">\n  <thead>\n    <tr style=\"text-align: right;\">\n      <th></th>\n      <th>Div</th>\n      <th>Date</th>\n      <th>Time</th>\n      <th>HomeTeam</th>\n      <th>AwayTeam</th>\n      <th>FTHG</th>\n      <th>FTAG</th>\n      <th>FTR</th>\n      <th>HTHG</th>\n      <th>HTAG</th>\n      <th>...</th>\n      <th>B365CAHH</th>\n      <th>B365CAHA</th>\n      <th>PCAHH</th>\n      <th>PCAHA</th>\n      <th>MaxCAHH</th>\n      <th>MaxCAHA</th>\n      <th>AvgCAHH</th>\n      <th>AvgCAHA</th>\n      <th>SUM</th>\n      <th>game_id</th>\n    </tr>\n  </thead>\n  <tbody>\n    <tr>\n      <th>0</th>\n      <td>E0</td>\n      <td>12/09/2020</td>\n      <td>12:30</td>\n      <td>Fulham</td>\n      <td>Arsenal</td>\n      <td>0</td>\n      <td>3</td>\n      <td>A</td>\n      <td>0</td>\n      <td>1</td>\n      <td>...</td>\n      <td>2.01</td>\n      <td>1.89</td>\n      <td>2.02</td>\n      <td>1.91</td>\n      <td>2.13</td>\n      <td>1.92</td>\n      <td>2.02</td>\n      <td>1.87</td>\n      <td>1.051208</td>\n      <td>FulhamArsenal</td>\n    </tr>\n    <tr>\n      <th>1</th>\n      <td>E0</td>\n      <td>12/09/2020</td>\n      <td>15:00</td>\n      <td>Crystal Palace</td>\n      <td>Southampton</td>\n      <td>1</td>\n      <td>0</td>\n      <td>H</td>\n      <td>1</td>\n      <td>0</td>\n      <td>...</td>\n      <td>1.78</td>\n      <td>2.13</td>\n      <td>1.79</td>\n      <td>2.17</td>\n      <td>1.85</td>\n      <td>2.18</td>\n      <td>1.79</td>\n      <td>2.12</td>\n      <td>1.052214</td>\n      <td>Crystal PalaceSouthampton</td>\n    </tr>\n    <tr>\n      <th>2</th>\n      <td>E0</td>\n      <td>12/09/2020</td>\n      <td>17:30</td>\n      <td>Liverpool</td>\n      <td>Leeds</td>\n      <td>4</td>\n      <td>3</td>\n      <td>H</td>\n      <td>3</td>\n      <td>2</td>\n      <td>...</td>\n      <td>1.85</td>\n      <td>2.05</td>\n      <td>1.85</td>\n      <td>2.08</td>\n      <td>1.90</td>\n      <td>2.16</td>\n      <td>1.84</td>\n      <td>2.04</td>\n      <td>1.053180</td>\n      <td>LiverpoolLeeds</td>\n    </tr>\n    <tr>\n      <th>3</th>\n      <td>E0</td>\n      <td>12/09/2020</td>\n      <td>20:00</td>\n      <td>West Ham</td>\n      <td>Newcastle</td>\n      <td>0</td>\n      <td>2</td>\n      <td>A</td>\n      <td>0</td>\n      <td>0</td>\n      <td>...</td>\n      <td>2.03</td>\n      <td>1.87</td>\n      <td>2.04</td>\n      <td>1.88</td>\n      <td>2.09</td>\n      <td>1.91</td>\n      <td>2.02</td>\n      <td>1.86</td>\n      <td>1.053352</td>\n      <td>West HamNewcastle</td>\n    </tr>\n    <tr>\n      <th>4</th>\n      <td>E0</td>\n      <td>13/09/2020</td>\n      <td>14:00</td>\n      <td>West Brom</td>\n      <td>Leicester</td>\n      <td>0</td>\n      <td>3</td>\n      <td>A</td>\n      <td>0</td>\n      <td>0</td>\n      <td>...</td>\n      <td>1.92</td>\n      <td>1.98</td>\n      <td>1.93</td>\n      <td>1.99</td>\n      <td>1.95</td>\n      <td>2.01</td>\n      <td>1.91</td>\n      <td>1.97</td>\n      <td>1.053756</td>\n      <td>West BromLeicester</td>\n    </tr>\n    <tr>\n      <th>...</th>\n      <td>...</td>\n      <td>...</td>\n      <td>...</td>\n      <td>...</td>\n      <td>...</td>\n      <td>...</td>\n      <td>...</td>\n      <td>...</td>\n      <td>...</td>\n      <td>...</td>\n      <td>...</td>\n      <td>...</td>\n      <td>...</td>\n      <td>...</td>\n      <td>...</td>\n      <td>...</td>\n      <td>...</td>\n      <td>...</td>\n      <td>...</td>\n      <td>...</td>\n      <td>...</td>\n    </tr>\n    <tr>\n      <th>375</th>\n      <td>E0</td>\n      <td>23/05/2021</td>\n      <td>16:00</td>\n      <td>Liverpool</td>\n      <td>Crystal Palace</td>\n      <td>2</td>\n      <td>0</td>\n      <td>H</td>\n      <td>1</td>\n      <td>0</td>\n      <td>...</td>\n      <td>1.86</td>\n      <td>2.04</td>\n      <td>1.88</td>\n      <td>2.03</td>\n      <td>1.98</td>\n      <td>2.14</td>\n      <td>1.88</td>\n      <td>2.00</td>\n      <td>1.061507</td>\n      <td>LiverpoolCrystal Palace</td>\n    </tr>\n    <tr>\n      <th>376</th>\n      <td>E0</td>\n      <td>23/05/2021</td>\n      <td>16:00</td>\n      <td>Man City</td>\n      <td>Everton</td>\n      <td>5</td>\n      <td>0</td>\n      <td>H</td>\n      <td>2</td>\n      <td>0</td>\n      <td>...</td>\n      <td>2.01</td>\n      <td>1.89</td>\n      <td>1.99</td>\n      <td>1.89</td>\n      <td>2.20</td>\n      <td>2.00</td>\n      <td>2.03</td>\n      <td>1.85</td>\n      <td>1.048291</td>\n      <td>Man CityEverton</td>\n    </tr>\n    <tr>\n      <th>377</th>\n      <td>E0</td>\n      <td>23/05/2021</td>\n      <td>16:00</td>\n      <td>Sheffield United</td>\n      <td>Burnley</td>\n      <td>1</td>\n      <td>0</td>\n      <td>H</td>\n      <td>1</td>\n      <td>0</td>\n      <td>...</td>\n      <td>2.04</td>\n      <td>1.86</td>\n      <td>2.05</td>\n      <td>1.86</td>\n      <td>2.17</td>\n      <td>1.90</td>\n      <td>2.03</td>\n      <td>1.84</td>\n      <td>1.051587</td>\n      <td>Sheffield UnitedBurnley</td>\n    </tr>\n    <tr>\n      <th>378</th>\n      <td>E0</td>\n      <td>23/05/2021</td>\n      <td>16:00</td>\n      <td>West Ham</td>\n      <td>Southampton</td>\n      <td>3</td>\n      <td>0</td>\n      <td>H</td>\n      <td>2</td>\n      <td>0</td>\n      <td>...</td>\n      <td>2.00</td>\n      <td>1.90</td>\n      <td>2.02</td>\n      <td>1.91</td>\n      <td>2.06</td>\n      <td>2.01</td>\n      <td>1.99</td>\n      <td>1.89</td>\n      <td>1.056061</td>\n      <td>West HamSouthampton</td>\n    </tr>\n    <tr>\n      <th>379</th>\n      <td>E0</td>\n      <td>23/05/2021</td>\n      <td>16:00</td>\n      <td>Wolves</td>\n      <td>Man United</td>\n      <td>1</td>\n      <td>2</td>\n      <td>A</td>\n      <td>1</td>\n      <td>2</td>\n      <td>...</td>\n      <td>2.04</td>\n      <td>1.86</td>\n      <td>2.10</td>\n      <td>1.84</td>\n      <td>2.10</td>\n      <td>1.94</td>\n      <td>2.00</td>\n      <td>1.88</td>\n      <td>1.056085</td>\n      <td>WolvesMan United</td>\n    </tr>\n  </tbody>\n</table>\n<p>380 rows × 108 columns</p>\n</div>"
     },
     "execution_count": 47,
     "metadata": {},
     "output_type": "execute_result"
    }
   ],
   "source": [
    "PL_20_21['game_id'] = PL_20_21['HomeTeam'] + PL_20_21['AwayTeam']\n",
    "PL_20_21"
   ],
   "metadata": {
    "collapsed": false,
    "pycharm": {
     "name": "#%%\n"
    }
   }
  },
  {
   "cell_type": "code",
   "execution_count": 54,
   "outputs": [
    {
     "data": {
      "text/plain": "     Unnamed: 0         home_team       away_team      H      D      A  \\\n0             0           Chelsea  Crystal Palace  0.939  0.041  0.020   \n1             1           Everton        Brighton  0.955  0.045  0.000   \n2             2             Leeds        Man City  0.063  0.137  0.800   \n3             3         Newcastle         Burnley  0.840  0.121  0.039   \n4             4         Leicester        West Ham  0.971  0.024  0.005   \n..          ...               ...             ...    ...    ...    ...   \n345           5         Liverpool  Crystal Palace  0.962  0.025  0.013   \n346           6          Man City         Everton  0.834  0.102  0.064   \n347           7  Sheffield United         Burnley  0.172  0.242  0.586   \n348           8          West Ham     Southampton  0.879  0.089  0.032   \n349           9            Wolves      Man United  0.038  0.115  0.847   \n\n                     game_id  \n0      ChelseaCrystal Palace  \n1            EvertonBrighton  \n2              LeedsMan City  \n3           NewcastleBurnley  \n4          LeicesterWest Ham  \n..                       ...  \n345  LiverpoolCrystal Palace  \n346          Man CityEverton  \n347  Sheffield UnitedBurnley  \n348      West HamSouthampton  \n349         WolvesMan United  \n\n[350 rows x 7 columns]",
      "text/html": "<div>\n<style scoped>\n    .dataframe tbody tr th:only-of-type {\n        vertical-align: middle;\n    }\n\n    .dataframe tbody tr th {\n        vertical-align: top;\n    }\n\n    .dataframe thead th {\n        text-align: right;\n    }\n</style>\n<table border=\"1\" class=\"dataframe\">\n  <thead>\n    <tr style=\"text-align: right;\">\n      <th></th>\n      <th>Unnamed: 0</th>\n      <th>home_team</th>\n      <th>away_team</th>\n      <th>H</th>\n      <th>D</th>\n      <th>A</th>\n      <th>game_id</th>\n    </tr>\n  </thead>\n  <tbody>\n    <tr>\n      <th>0</th>\n      <td>0</td>\n      <td>Chelsea</td>\n      <td>Crystal Palace</td>\n      <td>0.939</td>\n      <td>0.041</td>\n      <td>0.020</td>\n      <td>ChelseaCrystal Palace</td>\n    </tr>\n    <tr>\n      <th>1</th>\n      <td>1</td>\n      <td>Everton</td>\n      <td>Brighton</td>\n      <td>0.955</td>\n      <td>0.045</td>\n      <td>0.000</td>\n      <td>EvertonBrighton</td>\n    </tr>\n    <tr>\n      <th>2</th>\n      <td>2</td>\n      <td>Leeds</td>\n      <td>Man City</td>\n      <td>0.063</td>\n      <td>0.137</td>\n      <td>0.800</td>\n      <td>LeedsMan City</td>\n    </tr>\n    <tr>\n      <th>3</th>\n      <td>3</td>\n      <td>Newcastle</td>\n      <td>Burnley</td>\n      <td>0.840</td>\n      <td>0.121</td>\n      <td>0.039</td>\n      <td>NewcastleBurnley</td>\n    </tr>\n    <tr>\n      <th>4</th>\n      <td>4</td>\n      <td>Leicester</td>\n      <td>West Ham</td>\n      <td>0.971</td>\n      <td>0.024</td>\n      <td>0.005</td>\n      <td>LeicesterWest Ham</td>\n    </tr>\n    <tr>\n      <th>...</th>\n      <td>...</td>\n      <td>...</td>\n      <td>...</td>\n      <td>...</td>\n      <td>...</td>\n      <td>...</td>\n      <td>...</td>\n    </tr>\n    <tr>\n      <th>345</th>\n      <td>5</td>\n      <td>Liverpool</td>\n      <td>Crystal Palace</td>\n      <td>0.962</td>\n      <td>0.025</td>\n      <td>0.013</td>\n      <td>LiverpoolCrystal Palace</td>\n    </tr>\n    <tr>\n      <th>346</th>\n      <td>6</td>\n      <td>Man City</td>\n      <td>Everton</td>\n      <td>0.834</td>\n      <td>0.102</td>\n      <td>0.064</td>\n      <td>Man CityEverton</td>\n    </tr>\n    <tr>\n      <th>347</th>\n      <td>7</td>\n      <td>Sheffield United</td>\n      <td>Burnley</td>\n      <td>0.172</td>\n      <td>0.242</td>\n      <td>0.586</td>\n      <td>Sheffield UnitedBurnley</td>\n    </tr>\n    <tr>\n      <th>348</th>\n      <td>8</td>\n      <td>West Ham</td>\n      <td>Southampton</td>\n      <td>0.879</td>\n      <td>0.089</td>\n      <td>0.032</td>\n      <td>West HamSouthampton</td>\n    </tr>\n    <tr>\n      <th>349</th>\n      <td>9</td>\n      <td>Wolves</td>\n      <td>Man United</td>\n      <td>0.038</td>\n      <td>0.115</td>\n      <td>0.847</td>\n      <td>WolvesMan United</td>\n    </tr>\n  </tbody>\n</table>\n<p>350 rows × 7 columns</p>\n</div>"
     },
     "execution_count": 54,
     "metadata": {},
     "output_type": "execute_result"
    }
   ],
   "source": [
    "transfermarkt_probs = pd.read_csv('Data/2020-21/Fixtures/tranfermarkt_probs.csv')\n",
    "transfermarkt_probs"
   ],
   "metadata": {
    "collapsed": false,
    "pycharm": {
     "name": "#%%\n"
    }
   }
  },
  {
   "cell_type": "code",
   "execution_count": 56,
   "outputs": [
    {
     "data": {
      "text/plain": "    Div        Date   Time          HomeTeam        AwayTeam  FTHG  FTAG FTR  \\\n28   E0  03/10/2020  12:30           Chelsea  Crystal Palace     4     0   H   \n29   E0  03/10/2020  15:00           Everton        Brighton     4     2   H   \n30   E0  03/10/2020  17:30             Leeds        Man City     1     1   D   \n31   E0  03/10/2020  20:00         Newcastle         Burnley     3     1   H   \n32   E0  04/10/2020  12:00         Leicester        West Ham     0     3   A   \n..   ..         ...    ...               ...             ...   ...   ...  ..   \n375  E0  23/05/2021  16:00         Liverpool  Crystal Palace     2     0   H   \n376  E0  23/05/2021  16:00          Man City         Everton     5     0   H   \n377  E0  23/05/2021  16:00  Sheffield United         Burnley     1     0   H   \n378  E0  23/05/2021  16:00          West Ham     Southampton     3     0   H   \n379  E0  23/05/2021  16:00            Wolves      Man United     1     2   A   \n\n     HTHG  HTAG  ... AvgCAHH AvgCAHA       SUM                  game_id  \\\n28      0     0  ...    1.90    1.98  1.049812    ChelseaCrystal Palace   \n29      2     1  ...    2.03    1.86  1.056395          EvertonBrighton   \n30      0     1  ...    1.91    1.96  1.059104            LeedsMan City   \n31      1     0  ...    2.07    1.83  1.051747         NewcastleBurnley   \n32      0     2  ...    2.06    1.83  1.049689        LeicesterWest Ham   \n..    ...   ...  ...     ...     ...       ...                      ...   \n375     1     0  ...    1.88    2.00  1.061507  LiverpoolCrystal Palace   \n376     2     0  ...    2.03    1.85  1.048291          Man CityEverton   \n377     1     0  ...    2.03    1.84  1.051587  Sheffield UnitedBurnley   \n378     2     0  ...    1.99    1.89  1.056061      West HamSouthampton   \n379     1     2  ...    2.00    1.88  1.056085         WolvesMan United   \n\n     Unnamed: 0         home_team       away_team      H      D      A  \n28          0.0           Chelsea  Crystal Palace  0.939  0.041  0.020  \n29          1.0           Everton        Brighton  0.955  0.045  0.000  \n30          2.0             Leeds        Man City  0.063  0.137  0.800  \n31          3.0         Newcastle         Burnley  0.840  0.121  0.039  \n32          4.0         Leicester        West Ham  0.971  0.024  0.005  \n..          ...               ...             ...    ...    ...    ...  \n375         5.0         Liverpool  Crystal Palace  0.962  0.025  0.013  \n376         6.0          Man City         Everton  0.834  0.102  0.064  \n377         7.0  Sheffield United         Burnley  0.172  0.242  0.586  \n378         8.0          West Ham     Southampton  0.879  0.089  0.032  \n379         9.0            Wolves      Man United  0.038  0.115  0.847  \n\n[346 rows x 114 columns]",
      "text/html": "<div>\n<style scoped>\n    .dataframe tbody tr th:only-of-type {\n        vertical-align: middle;\n    }\n\n    .dataframe tbody tr th {\n        vertical-align: top;\n    }\n\n    .dataframe thead th {\n        text-align: right;\n    }\n</style>\n<table border=\"1\" class=\"dataframe\">\n  <thead>\n    <tr style=\"text-align: right;\">\n      <th></th>\n      <th>Div</th>\n      <th>Date</th>\n      <th>Time</th>\n      <th>HomeTeam</th>\n      <th>AwayTeam</th>\n      <th>FTHG</th>\n      <th>FTAG</th>\n      <th>FTR</th>\n      <th>HTHG</th>\n      <th>HTAG</th>\n      <th>...</th>\n      <th>AvgCAHH</th>\n      <th>AvgCAHA</th>\n      <th>SUM</th>\n      <th>game_id</th>\n      <th>Unnamed: 0</th>\n      <th>home_team</th>\n      <th>away_team</th>\n      <th>H</th>\n      <th>D</th>\n      <th>A</th>\n    </tr>\n  </thead>\n  <tbody>\n    <tr>\n      <th>28</th>\n      <td>E0</td>\n      <td>03/10/2020</td>\n      <td>12:30</td>\n      <td>Chelsea</td>\n      <td>Crystal Palace</td>\n      <td>4</td>\n      <td>0</td>\n      <td>H</td>\n      <td>0</td>\n      <td>0</td>\n      <td>...</td>\n      <td>1.90</td>\n      <td>1.98</td>\n      <td>1.049812</td>\n      <td>ChelseaCrystal Palace</td>\n      <td>0.0</td>\n      <td>Chelsea</td>\n      <td>Crystal Palace</td>\n      <td>0.939</td>\n      <td>0.041</td>\n      <td>0.020</td>\n    </tr>\n    <tr>\n      <th>29</th>\n      <td>E0</td>\n      <td>03/10/2020</td>\n      <td>15:00</td>\n      <td>Everton</td>\n      <td>Brighton</td>\n      <td>4</td>\n      <td>2</td>\n      <td>H</td>\n      <td>2</td>\n      <td>1</td>\n      <td>...</td>\n      <td>2.03</td>\n      <td>1.86</td>\n      <td>1.056395</td>\n      <td>EvertonBrighton</td>\n      <td>1.0</td>\n      <td>Everton</td>\n      <td>Brighton</td>\n      <td>0.955</td>\n      <td>0.045</td>\n      <td>0.000</td>\n    </tr>\n    <tr>\n      <th>30</th>\n      <td>E0</td>\n      <td>03/10/2020</td>\n      <td>17:30</td>\n      <td>Leeds</td>\n      <td>Man City</td>\n      <td>1</td>\n      <td>1</td>\n      <td>D</td>\n      <td>0</td>\n      <td>1</td>\n      <td>...</td>\n      <td>1.91</td>\n      <td>1.96</td>\n      <td>1.059104</td>\n      <td>LeedsMan City</td>\n      <td>2.0</td>\n      <td>Leeds</td>\n      <td>Man City</td>\n      <td>0.063</td>\n      <td>0.137</td>\n      <td>0.800</td>\n    </tr>\n    <tr>\n      <th>31</th>\n      <td>E0</td>\n      <td>03/10/2020</td>\n      <td>20:00</td>\n      <td>Newcastle</td>\n      <td>Burnley</td>\n      <td>3</td>\n      <td>1</td>\n      <td>H</td>\n      <td>1</td>\n      <td>0</td>\n      <td>...</td>\n      <td>2.07</td>\n      <td>1.83</td>\n      <td>1.051747</td>\n      <td>NewcastleBurnley</td>\n      <td>3.0</td>\n      <td>Newcastle</td>\n      <td>Burnley</td>\n      <td>0.840</td>\n      <td>0.121</td>\n      <td>0.039</td>\n    </tr>\n    <tr>\n      <th>32</th>\n      <td>E0</td>\n      <td>04/10/2020</td>\n      <td>12:00</td>\n      <td>Leicester</td>\n      <td>West Ham</td>\n      <td>0</td>\n      <td>3</td>\n      <td>A</td>\n      <td>0</td>\n      <td>2</td>\n      <td>...</td>\n      <td>2.06</td>\n      <td>1.83</td>\n      <td>1.049689</td>\n      <td>LeicesterWest Ham</td>\n      <td>4.0</td>\n      <td>Leicester</td>\n      <td>West Ham</td>\n      <td>0.971</td>\n      <td>0.024</td>\n      <td>0.005</td>\n    </tr>\n    <tr>\n      <th>...</th>\n      <td>...</td>\n      <td>...</td>\n      <td>...</td>\n      <td>...</td>\n      <td>...</td>\n      <td>...</td>\n      <td>...</td>\n      <td>...</td>\n      <td>...</td>\n      <td>...</td>\n      <td>...</td>\n      <td>...</td>\n      <td>...</td>\n      <td>...</td>\n      <td>...</td>\n      <td>...</td>\n      <td>...</td>\n      <td>...</td>\n      <td>...</td>\n      <td>...</td>\n      <td>...</td>\n    </tr>\n    <tr>\n      <th>375</th>\n      <td>E0</td>\n      <td>23/05/2021</td>\n      <td>16:00</td>\n      <td>Liverpool</td>\n      <td>Crystal Palace</td>\n      <td>2</td>\n      <td>0</td>\n      <td>H</td>\n      <td>1</td>\n      <td>0</td>\n      <td>...</td>\n      <td>1.88</td>\n      <td>2.00</td>\n      <td>1.061507</td>\n      <td>LiverpoolCrystal Palace</td>\n      <td>5.0</td>\n      <td>Liverpool</td>\n      <td>Crystal Palace</td>\n      <td>0.962</td>\n      <td>0.025</td>\n      <td>0.013</td>\n    </tr>\n    <tr>\n      <th>376</th>\n      <td>E0</td>\n      <td>23/05/2021</td>\n      <td>16:00</td>\n      <td>Man City</td>\n      <td>Everton</td>\n      <td>5</td>\n      <td>0</td>\n      <td>H</td>\n      <td>2</td>\n      <td>0</td>\n      <td>...</td>\n      <td>2.03</td>\n      <td>1.85</td>\n      <td>1.048291</td>\n      <td>Man CityEverton</td>\n      <td>6.0</td>\n      <td>Man City</td>\n      <td>Everton</td>\n      <td>0.834</td>\n      <td>0.102</td>\n      <td>0.064</td>\n    </tr>\n    <tr>\n      <th>377</th>\n      <td>E0</td>\n      <td>23/05/2021</td>\n      <td>16:00</td>\n      <td>Sheffield United</td>\n      <td>Burnley</td>\n      <td>1</td>\n      <td>0</td>\n      <td>H</td>\n      <td>1</td>\n      <td>0</td>\n      <td>...</td>\n      <td>2.03</td>\n      <td>1.84</td>\n      <td>1.051587</td>\n      <td>Sheffield UnitedBurnley</td>\n      <td>7.0</td>\n      <td>Sheffield United</td>\n      <td>Burnley</td>\n      <td>0.172</td>\n      <td>0.242</td>\n      <td>0.586</td>\n    </tr>\n    <tr>\n      <th>378</th>\n      <td>E0</td>\n      <td>23/05/2021</td>\n      <td>16:00</td>\n      <td>West Ham</td>\n      <td>Southampton</td>\n      <td>3</td>\n      <td>0</td>\n      <td>H</td>\n      <td>2</td>\n      <td>0</td>\n      <td>...</td>\n      <td>1.99</td>\n      <td>1.89</td>\n      <td>1.056061</td>\n      <td>West HamSouthampton</td>\n      <td>8.0</td>\n      <td>West Ham</td>\n      <td>Southampton</td>\n      <td>0.879</td>\n      <td>0.089</td>\n      <td>0.032</td>\n    </tr>\n    <tr>\n      <th>379</th>\n      <td>E0</td>\n      <td>23/05/2021</td>\n      <td>16:00</td>\n      <td>Wolves</td>\n      <td>Man United</td>\n      <td>1</td>\n      <td>2</td>\n      <td>A</td>\n      <td>1</td>\n      <td>2</td>\n      <td>...</td>\n      <td>2.00</td>\n      <td>1.88</td>\n      <td>1.056085</td>\n      <td>WolvesMan United</td>\n      <td>9.0</td>\n      <td>Wolves</td>\n      <td>Man United</td>\n      <td>0.038</td>\n      <td>0.115</td>\n      <td>0.847</td>\n    </tr>\n  </tbody>\n</table>\n<p>346 rows × 114 columns</p>\n</div>"
     },
     "execution_count": 56,
     "metadata": {},
     "output_type": "execute_result"
    }
   ],
   "source": [
    "test =  pd.merge(PL_20_21, transfermarkt_probs, on= 'game_id', how='left')\n",
    "test = test.dropna()\n",
    "test"
   ],
   "metadata": {
    "collapsed": false,
    "pycharm": {
     "name": "#%%\n"
    }
   }
  },
  {
   "cell_type": "code",
   "execution_count": 64,
   "outputs": [
    {
     "name": "stdout",
     "output_type": "stream",
     "text": [
      "RPS score community votes: 0.2701898265895954\n"
     ]
    }
   ],
   "source": [
    "probs\n",
    "predictions = test[[\"H\", \"D\", \"A\"]]\n",
    "observed = pd.get_dummies(test[\"FTR\"]).reindex(\n",
    "    columns=predictions.columns, fill_value=0)\n",
    "rps_result_community = rps(predictions, observed).round(5)\n",
    "\n",
    "\n",
    "print('RPS score community votes:', np.mean(rps_result_community))\n"
   ],
   "metadata": {
    "collapsed": false,
    "pycharm": {
     "name": "#%%\n"
    }
   }
  },
  {
   "cell_type": "code",
   "execution_count": 65,
   "outputs": [
    {
     "name": "stdout",
     "output_type": "stream",
     "text": [
      "RPS score random forest incl player stats: 0.2381925\n"
     ]
    }
   ],
   "source": [
    "probs = pd.read_csv('Data/2020-21/Fixtures/probabilities.csv')\n",
    "probs\n",
    "predictions = probs[[\"H\", \"D\", \"A\"]]\n",
    "observed = pd.get_dummies(probabilities[\"FTR\"]).reindex(\n",
    "    columns=predictions.columns, fill_value=0)\n",
    "rps_result_rf_player_stats = rps(predictions, observed).round(5)\n",
    "\n",
    "\n",
    "print('RPS score random forest incl player stats:', np.mean(rps_result_rf_player_stats))"
   ],
   "metadata": {
    "collapsed": false,
    "pycharm": {
     "name": "#%%\n"
    }
   }
  },
  {
   "cell_type": "code",
   "execution_count": 70,
   "outputs": [
    {
     "name": "stdout",
     "output_type": "stream",
     "text": [
      "RPS score random forest incl player stats: 0.24053026315789475\n"
     ]
    }
   ],
   "source": [
    "probs = pd.read_csv('Data/2020-21/Fixtures/probabilities_ohne_pl_stats.csv')\n",
    "probs\n",
    "predictions = probs[[\"H\", \"D\", \"A\"]]\n",
    "observed = pd.get_dummies(probabilities[\"FTR\"]).reindex(\n",
    "    columns=predictions.columns, fill_value=0)\n",
    "rps_result_rf = rps(predictions, observed).round(5)\n",
    "\n",
    "\n",
    "print('RPS score random forest incl player stats:', np.mean(rps_result_rf))"
   ],
   "metadata": {
    "collapsed": false,
    "pycharm": {
     "name": "#%%\n"
    }
   }
  },
  {
   "cell_type": "code",
   "execution_count": 66,
   "outputs": [
    {
     "name": "stdout",
     "output_type": "stream",
     "text": [
      "RPS score betting odds: 0.21371036842105265\n"
     ]
    }
   ],
   "source": [
    "PL_20_21 = pd.read_csv('Data/2020-21/Fixtures/E_20_21.csv')\n",
    "PL_20_21['B365H'] = 1/PL_20_21['B365H']\n",
    "PL_20_21['B365D'] = 1/PL_20_21['B365D']\n",
    "PL_20_21['B365A'] = 1/PL_20_21['B365A']\n",
    "PL_20_21['SUM'] = PL_20_21['B365H'] + PL_20_21['B365D'] + PL_20_21['B365A']\n",
    "PL_20_21['B365H'] = PL_20_21['B365H']/PL_20_21['SUM']\n",
    "PL_20_21['B365D'] = PL_20_21['B365D']/PL_20_21['SUM']\n",
    "PL_20_21['B365A'] = PL_20_21['B365A']/PL_20_21['SUM']\n",
    "probabilities = PL_20_21[['HomeTeam', 'AwayTeam', 'B365H', 'B365D', 'B365A', 'FTR']]\n",
    "probabilities = probabilities.rename(columns={'B365H':'H','B365D':'D','B365A':'A'})\n",
    "predictions = probabilities[[\"H\", \"D\", \"A\"]]\n",
    "observed = pd.get_dummies(probabilities[\"FTR\"]).reindex(\n",
    "    columns=predictions.columns, fill_value=0)\n",
    "observed\n",
    "rps_result_betting_odds = rps(predictions, observed).round(5)\n",
    "\n",
    "print('RPS score betting odds:', np.mean(rps_result_betting_odds))"
   ],
   "metadata": {
    "collapsed": false,
    "pycharm": {
     "name": "#%%\n"
    }
   }
  },
  {
   "cell_type": "code",
   "execution_count": 71,
   "outputs": [
    {
     "name": "stdout",
     "output_type": "stream",
     "text": [
      "RPS score random forest benchmark: 0.24053026315789475\n",
      "RPS score random forest incl player stats: 0.2381925\n",
      "RPS score community votes: 0.2701898265895954\n",
      "RPS score betting odds: 0.21371036842105265\n"
     ]
    }
   ],
   "source": [
    "print('RPS score random forest benchmark:', np.mean(rps_result_rf))\n",
    "print('RPS score random forest incl player stats:', np.mean(rps_result_rf_player_stats))\n",
    "print('RPS score community votes:', np.mean(rps_result_community))\n",
    "print('RPS score betting odds:', np.mean(rps_result_betting_odds))"
   ],
   "metadata": {
    "collapsed": false,
    "pycharm": {
     "name": "#%%\n"
    }
   }
  }
 ],
 "metadata": {
  "kernelspec": {
   "display_name": "Python 3",
   "language": "python",
   "name": "python3"
  },
  "language_info": {
   "codemirror_mode": {
    "name": "ipython",
    "version": 2
   },
   "file_extension": ".py",
   "mimetype": "text/x-python",
   "name": "python",
   "nbconvert_exporter": "python",
   "pygments_lexer": "ipython2",
   "version": "2.7.6"
  }
 },
 "nbformat": 4,
 "nbformat_minor": 0
}