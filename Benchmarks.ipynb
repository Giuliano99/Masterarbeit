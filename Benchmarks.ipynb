{
 "cells": [
  {
   "cell_type": "code",
   "execution_count": 1,
   "metadata": {
    "collapsed": true
   },
   "outputs": [],
   "source": [
    "#notebook to calculate accuracy of the models and compare to benchmarks community votes and betting odds\n",
    "#import necessary packages\n",
    "import pandas as pd\n",
    "import numpy as np"
   ]
  },
  {
   "cell_type": "code",
   "execution_count": 2,
   "outputs": [
    {
     "name": "stdout",
     "output_type": "stream",
     "text": [
      "      H     D     A\n",
      "0  1.00  0.00  0.00\n",
      "1  0.90  0.10  0.00\n",
      "2  0.80  0.10  0.10\n",
      "3  0.50  0.25  0.25\n",
      "4  0.35  0.30  0.35\n",
      "5  0.60  0.30  0.10\n",
      "6  0.60  0.30  0.10\n",
      "7  0.60  0.10  0.30\n",
      "8  0.50  0.45  0.05\n",
      "9  0.55  0.10  0.35\n",
      "0.09925\n"
     ]
    }
   ],
   "source": [
    "def rps(predictions, observed):\n",
    "    \"\"\"Vectorized version of Ranked Probability Score.\n",
    "    A lower value is a better score.\n",
    "    From: Colin Catlin, https://syllepsis.live/2022/01/22/ranked-probability-score-in-python/\n",
    "\n",
    "    Args:\n",
    "        predictions (pd.DataFrame): each column is an outcome category\n",
    "            with values as the 0 to 1 probability of that category\n",
    "        observed (pd.DataFrame): each column is an outcome category\n",
    "            with values of 0 OR 1 with 1 being that category occurred\n",
    "    \"\"\"\n",
    "    assert (\n",
    "        predictions.shape == observed.shape\n",
    "    ), \"prediction and observed array shapes must match\"\n",
    "    ncat = predictions.shape[1] - 1\n",
    "    return (\n",
    "        np.sum(\n",
    "            (np.cumsum(predictions, axis=1) - np.cumsum(observed, axis=1)) ** 2, axis=1\n",
    "        ) / ncat\n",
    "    )\n",
    "\n",
    "\n",
    "\"\"\"\n",
    "Sample data is of soccer/football matches,\n",
    "5 matches, with 2 different models predicting (with 'a' the better model)\n",
    "3 Categories\n",
    "Where H = home team wins, D = draw, A = away wins\n",
    "\n",
    "ORDER MATTERS (of H, D, and A), which is the whole point of this metric.\n",
    "\"\"\"\n",
    "predictions_df = pd.DataFrame({\n",
    "    'H': [1, 0.9, 0.8, 0.5, 0.35, 0.6, 0.6, 0.6, 0.5, 0.55],\n",
    "    'D': [0, 0.1, 0.1, 0.25, 0.3, 0.3, 0.3, 0.1, 0.45, 0.1],\n",
    "    'A': [0, 0, 0.1, 0.25, 0.35, 0.1, 0.1, 0.3, 0.05, 0.35],\n",
    "    \"model\": np.tile([\"a\", \"b\"], 5),\n",
    "    \"match\": np.repeat(np.arange(1, 6), 2),\n",
    "    \"outcome\": np.repeat([\"H\", \"H\", \"D\", \"H\", \"H\"], 2),\n",
    "})\n",
    "expected_result = [0, 0.005, 0.025, 0.15625, 0.1225, 0.185, 0.085, 0.125, 0.12625, 0.1625]\n",
    "predictions = predictions_df[[\"H\", \"D\", \"A\"]]\n",
    "observed = pd.get_dummies(predictions_df[\"outcome\"]).reindex(\n",
    "    columns=predictions.columns, fill_value=0\n",
    ")\n",
    "rps_result = rps(predictions, observed).round(5)\n",
    "\n",
    "\n",
    "print(predictions)\n",
    "#print(f\"do results match expected: {all(expected_result == rps_result)}\")\n",
    "\n",
    "print(np.mean(rps_result))"
   ],
   "metadata": {
    "collapsed": false,
    "pycharm": {
     "name": "#%%\n"
    }
   }
  },
  {
   "cell_type": "code",
   "execution_count": 11,
   "outputs": [
    {
     "name": "stdout",
     "output_type": "stream",
     "text": [
      "0.19134634285714286\n"
     ]
    }
   ],
   "source": [
    "PL_20_21 = pd.read_csv('Data/2020-21/Fixtures/E_20_21.csv')\n",
    "PL_21_22 = pd.read_csv('Data/2021-22/Fixtures/E_21_22.csv')\n",
    "PL_20_21['B365H'] = 1/PL_20_21['B365H']\n",
    "PL_20_21['B365D'] = 1/PL_20_21['B365D']\n",
    "PL_20_21['B365A'] = 1/PL_20_21['B365A']\n",
    "PL_20_21['SUM'] = PL_20_21['B365H'] + PL_20_21['B365D'] + PL_20_21['B365A']\n",
    "PL_20_21['B365H'] = PL_20_21['B365H']/PL_20_21['SUM']\n",
    "PL_20_21['B365D'] = PL_20_21['B365D']/PL_20_21['SUM']\n",
    "PL_20_21['B365A'] = PL_20_21['B365A']/PL_20_21['SUM']\n",
    "PL_21_22['B365H'] = 1/PL_21_22['B365H']\n",
    "PL_21_22['B365D'] = 1/PL_21_22['B365D']\n",
    "PL_21_22['B365A'] = 1/PL_21_22['B365A']\n",
    "PL_21_22['SUM'] = PL_21_22['B365H'] + PL_21_22['B365D'] + PL_21_22['B365A']\n",
    "PL_21_22['B365H'] = PL_21_22['B365H']/PL_21_22['SUM']\n",
    "PL_21_22['B365D'] = PL_21_22['B365D']/PL_21_22['SUM']\n",
    "PL_21_22['B365A'] = PL_21_22['B365A']/PL_21_22['SUM']\n",
    "probabilities_20 = PL_20_21[['HomeTeam', 'AwayTeam', 'B365H', 'B365D', 'B365A', 'FTR']]\n",
    "probabilities_20 = probabilities_20.rename(columns={'B365H':'H','B365D':'D','B365A':'A'})\n",
    "predictions_20 = probabilities_20[[\"H\", \"D\", \"A\"]]\n",
    "observed_20 = pd.get_dummies(probabilities_20[\"FTR\"]).reindex(\n",
    "    columns=predictions.columns, fill_value=0)\n",
    "\n",
    "probabilities_21 = PL_21_22[['HomeTeam', 'AwayTeam', 'B365H', 'B365D', 'B365A', 'FTR']]\n",
    "probabilities_21 = probabilities_21[-350:]\n",
    "probabilities_21 = probabilities_21.rename(columns={'B365H':'H','B365D':'D','B365A':'A'})\n",
    "predictions_21 = probabilities_21[[\"H\", \"D\", \"A\"]]\n",
    "observed_21 = pd.get_dummies(probabilities_21[\"FTR\"]).reindex(\n",
    "    columns=predictions.columns, fill_value=0)\n",
    "\n",
    "\n",
    "\n",
    "rps_result_21 = rps(predictions_21, observed_21).round(5)\n",
    "rps_result_20 = rps(predictions_20, observed_20).round(5)\n",
    "\n",
    "probabilities_21\n",
    "print(np.mean(rps_result_21))"
   ],
   "metadata": {
    "collapsed": false,
    "pycharm": {
     "name": "#%%\n"
    }
   }
  },
  {
   "cell_type": "code",
   "execution_count": 12,
   "outputs": [
    {
     "name": "stdout",
     "output_type": "stream",
     "text": [
      "0.2158239210526316\n",
      "            H         D         A\n",
      "0    0.533596  0.260783  0.205621\n",
      "1    0.718345  0.095985  0.185670\n",
      "2    0.151457  0.614028  0.234515\n",
      "3    0.100253  0.720705  0.179042\n",
      "4    0.850411  0.069783  0.079807\n",
      "..        ...       ...       ...\n",
      "345  0.204146  0.318307  0.477548\n",
      "346  0.547199  0.146458  0.306342\n",
      "347  0.771624  0.121954  0.106423\n",
      "348  0.761513  0.122945  0.115542\n",
      "349  0.229868  0.541379  0.228753\n",
      "\n",
      "[350 rows x 3 columns]\n"
     ]
    }
   ],
   "source": [
    "probs_benchmark = pd.read_csv('Data/Total/probs_benchmark.csv')\n",
    "\n",
    "predictions = probs_benchmark[[\"H\", \"D\", \"A\"]]\n",
    "observed = pd.get_dummies(probabilities_21[\"FTR\"]).reindex(\n",
    "    columns=predictions.columns, fill_value=0)\n",
    "rps_result = rps(predictions, observed).round(5)\n",
    "\n",
    "\n",
    "print(np.mean(rps_result))\n",
    "print(predictions)"
   ],
   "metadata": {
    "collapsed": false,
    "pycharm": {
     "name": "#%%\n"
    }
   }
  },
  {
   "cell_type": "code",
   "execution_count": 13,
   "outputs": [
    {
     "name": "stdout",
     "output_type": "stream",
     "text": [
      "0.21415544736842104\n",
      "            H         D         A\n",
      "0    0.631022  0.200140  0.168838\n",
      "1    0.660644  0.136281  0.203074\n",
      "2    0.151899  0.674000  0.174101\n",
      "3    0.112982  0.771997  0.115021\n",
      "4    0.848845  0.075893  0.075262\n",
      "..        ...       ...       ...\n",
      "345  0.259396  0.378656  0.361948\n",
      "346  0.626677  0.173323  0.200000\n",
      "347  0.604902  0.264070  0.131028\n",
      "348  0.629223  0.209536  0.161241\n",
      "349  0.179034  0.591900  0.229065\n",
      "\n",
      "[350 rows x 3 columns]\n"
     ]
    }
   ],
   "source": [
    "probs_player_stats= pd.read_csv('Data/Total/probs_player_stats.csv')\n",
    "\n",
    "predictions = probs_player_stats[[\"H\", \"D\", \"A\"]]\n",
    "observed = pd.get_dummies(probabilities_21[\"FTR\"]).reindex(\n",
    "    columns=predictions.columns, fill_value=0)\n",
    "rps_result = rps(predictions, observed).round(5)\n",
    "\n",
    "\n",
    "print(np.mean(rps_result))\n",
    "print(predictions)"
   ],
   "metadata": {
    "collapsed": false,
    "pycharm": {
     "name": "#%%\n"
    }
   }
  },
  {
   "cell_type": "code",
   "execution_count": 24,
   "outputs": [
    {
     "data": {
      "text/plain": "0           Brentford\n1      Manchester Utd\n2             Burnley\n3             Chelsea\n4             Everton\n5      Leicester City\n6             Watford\n7        Norwich City\n8       Newcastle Utd\n9           Tottenham\n10          Liverpool\n11        Aston Villa\n12     Crystal Palace\n13       Leeds United\n14    Manchester City\n15           Brighton\n16        Southampton\n17             Wolves\n18            Arsenal\n19           West Ham\nName: HomeTeam, dtype: object"
     },
     "execution_count": 24,
     "metadata": {},
     "output_type": "execute_result"
    }
   ],
   "source": [
    "PL_21_22.replace(['Leeds','Leicester','Man City' ,'Man United','Newcastle', 'Norwich','Sheff Utd', 'Spurs'], ['Leeds United', 'Leicester City', 'Manchester City', 'Manchester Utd', 'Newcastle Utd', 'Norwich City','Sheffield Utd', 'Tottenham'], inplace=True)\n",
    "PL_21_22['game_id'] = PL_21_22['HomeTeam'] + PL_21_22['AwayTeam']\n",
    "PL_21_22['HomeTeam'].drop_duplicates()"
   ],
   "metadata": {
    "collapsed": false,
    "pycharm": {
     "name": "#%%\n"
    }
   }
  },
  {
   "cell_type": "code",
   "execution_count": 26,
   "outputs": [],
   "source": [
    "transfermarkt_probs_21 = pd.read_csv('Data/2021-22/Fixtures/tranfermarkt_21_probs.csv')\n",
    "test =  pd.merge(PL_21_22, transfermarkt_probs_21, on= 'game_id', how='left')\n"
   ],
   "metadata": {
    "collapsed": false,
    "pycharm": {
     "name": "#%%\n"
    }
   }
  },
  {
   "cell_type": "code",
   "execution_count": 27,
   "outputs": [
    {
     "name": "stdout",
     "output_type": "stream",
     "text": [
      "RPS score community votes: 0.22040236842105265\n"
     ]
    }
   ],
   "source": [
    "predictions = test[[\"H\", \"D\", \"A\"]]\n",
    "observed = pd.get_dummies(test[\"FTR\"]).reindex(\n",
    "    columns=predictions.columns, fill_value=0)\n",
    "rps_result_community = rps(predictions, observed).round(5)\n",
    "\n",
    "\n",
    "print('RPS score community votes:', np.mean(rps_result_community))\n"
   ],
   "metadata": {
    "collapsed": false,
    "pycharm": {
     "name": "#%%\n"
    }
   }
  },
  {
   "cell_type": "code",
   "execution_count": 65,
   "outputs": [
    {
     "name": "stdout",
     "output_type": "stream",
     "text": [
      "RPS score random forest incl player stats: 0.2381925\n"
     ]
    }
   ],
   "source": [
    "probs = pd.read_csv('Data/2020-21/Fixtures/probabilities.csv')\n",
    "probs\n",
    "predictions = probs[[\"H\", \"D\", \"A\"]]\n",
    "observed = pd.get_dummies(probabilities[\"FTR\"]).reindex(\n",
    "    columns=predictions.columns, fill_value=0)\n",
    "rps_result_rf_player_stats = rps(predictions, observed).round(5)\n",
    "\n",
    "\n",
    "print('RPS score random forest incl player stats:', np.mean(rps_result_rf_player_stats))"
   ],
   "metadata": {
    "collapsed": false,
    "pycharm": {
     "name": "#%%\n"
    }
   }
  },
  {
   "cell_type": "code",
   "execution_count": 70,
   "outputs": [
    {
     "name": "stdout",
     "output_type": "stream",
     "text": [
      "RPS score random forest incl player stats: 0.24053026315789475\n"
     ]
    }
   ],
   "source": [
    "probs = pd.read_csv('Data/2020-21/Fixtures/probabilities_ohne_pl_stats.csv')\n",
    "probs\n",
    "predictions = probs[[\"H\", \"D\", \"A\"]]\n",
    "observed = pd.get_dummies(probabilities[\"FTR\"]).reindex(\n",
    "    columns=predictions.columns, fill_value=0)\n",
    "rps_result_rf = rps(predictions, observed).round(5)\n",
    "\n",
    "\n",
    "print('RPS score random forest incl player stats:', np.mean(rps_result_rf))"
   ],
   "metadata": {
    "collapsed": false,
    "pycharm": {
     "name": "#%%\n"
    }
   }
  },
  {
   "cell_type": "code",
   "execution_count": 66,
   "outputs": [
    {
     "name": "stdout",
     "output_type": "stream",
     "text": [
      "RPS score betting odds: 0.21371036842105265\n"
     ]
    }
   ],
   "source": [
    "PL_20_21 = pd.read_csv('Data/2020-21/Fixtures/E_20_21.csv')\n",
    "PL_20_21['B365H'] = 1/PL_20_21['B365H']\n",
    "PL_20_21['B365D'] = 1/PL_20_21['B365D']\n",
    "PL_20_21['B365A'] = 1/PL_20_21['B365A']\n",
    "PL_20_21['SUM'] = PL_20_21['B365H'] + PL_20_21['B365D'] + PL_20_21['B365A']\n",
    "PL_20_21['B365H'] = PL_20_21['B365H']/PL_20_21['SUM']\n",
    "PL_20_21['B365D'] = PL_20_21['B365D']/PL_20_21['SUM']\n",
    "PL_20_21['B365A'] = PL_20_21['B365A']/PL_20_21['SUM']\n",
    "probabilities = PL_20_21[['HomeTeam', 'AwayTeam', 'B365H', 'B365D', 'B365A', 'FTR']]\n",
    "probabilities = probabilities.rename(columns={'B365H':'H','B365D':'D','B365A':'A'})\n",
    "predictions = probabilities[[\"H\", \"D\", \"A\"]]\n",
    "observed = pd.get_dummies(probabilities[\"FTR\"]).reindex(\n",
    "    columns=predictions.columns, fill_value=0)\n",
    "observed\n",
    "rps_result_betting_odds = rps(predictions, observed).round(5)\n",
    "\n",
    "print('RPS score betting odds:', np.mean(rps_result_betting_odds))"
   ],
   "metadata": {
    "collapsed": false,
    "pycharm": {
     "name": "#%%\n"
    }
   }
  },
  {
   "cell_type": "code",
   "execution_count": 71,
   "outputs": [
    {
     "name": "stdout",
     "output_type": "stream",
     "text": [
      "RPS score random forest benchmark: 0.24053026315789475\n",
      "RPS score random forest incl player stats: 0.2381925\n",
      "RPS score community votes: 0.2701898265895954\n",
      "RPS score betting odds: 0.21371036842105265\n"
     ]
    }
   ],
   "source": [
    "print('RPS score random forest benchmark:', np.mean(rps_result_rf))\n",
    "print('RPS score random forest incl player stats:', np.mean(rps_result_rf_player_stats))\n",
    "print('RPS score community votes:', np.mean(rps_result_community))\n",
    "print('RPS score betting odds:', np.mean(rps_result_betting_odds))"
   ],
   "metadata": {
    "collapsed": false,
    "pycharm": {
     "name": "#%%\n"
    }
   }
  }
 ],
 "metadata": {
  "kernelspec": {
   "display_name": "Python 3",
   "language": "python",
   "name": "python3"
  },
  "language_info": {
   "codemirror_mode": {
    "name": "ipython",
    "version": 2
   },
   "file_extension": ".py",
   "mimetype": "text/x-python",
   "name": "python",
   "nbconvert_exporter": "python",
   "pygments_lexer": "ipython2",
   "version": "2.7.6"
  }
 },
 "nbformat": 4,
 "nbformat_minor": 0
}