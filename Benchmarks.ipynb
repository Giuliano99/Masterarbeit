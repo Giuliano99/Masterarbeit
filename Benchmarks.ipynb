{
 "cells": [
  {
   "cell_type": "code",
   "execution_count": 1,
   "metadata": {
    "collapsed": true
   },
   "outputs": [],
   "source": [
    "#import necessary packages\n",
    "import pandas as pd\n",
    "import numpy as np"
   ]
  },
  {
   "cell_type": "code",
   "execution_count": 15,
   "outputs": [
    {
     "name": "stdout",
     "output_type": "stream",
     "text": [
      "[0.6203868668872486, 0.24974548231102064, 0.1298676508017307]\n",
      "1.0\n"
     ]
    }
   ],
   "source": [
    "quotes = [1.57, 3.9, 7.5]\n",
    "result = []\n",
    "res = []\n",
    "sum = 0\n",
    "count = 0\n",
    "for i in quotes:\n",
    "    tmp = 1/i\n",
    "    #print(tmp)\n",
    "    sum = sum + tmp\n",
    "    result.append(tmp)\n",
    "    count = count +1\n",
    "sum2 = 0\n",
    "for i in result:\n",
    "    tmp = i/sum\n",
    "    sum2 = sum2 + tmp\n",
    "    res.append(tmp)\n",
    "print(res)\n",
    "print(sum2)"
   ],
   "metadata": {
    "collapsed": false,
    "pycharm": {
     "name": "#%%\n"
    }
   }
  },
  {
   "cell_type": "code",
   "execution_count": 21,
   "outputs": [],
   "source": [],
   "metadata": {
    "collapsed": false,
    "pycharm": {
     "name": "#%%\n"
    }
   }
  },
  {
   "cell_type": "code",
   "execution_count": 25,
   "outputs": [
    {
     "data": {
      "text/plain": "             HomeTeam        AwayTeam     B365H     B365D     B365A\n0              Fulham         Arsenal  0.158548  0.219697  0.621756\n1      Crystal Palace     Southampton  0.306573  0.292424  0.401003\n2           Liverpool           Leeds  0.741801  0.158251  0.099948\n3            West Ham       Newcastle  0.441558  0.279221  0.279221\n4           West Brom       Leicester  0.249733  0.263607  0.486660\n..                ...             ...       ...       ...       ...\n375         Liverpool  Crystal Palace  0.826366  0.110830  0.062804\n376          Man City         Everton  0.662454  0.190787  0.146759\n377  Sheffield United         Burnley  0.339623  0.264151  0.396226\n378          West Ham     Southampton  0.573888  0.236729  0.189383\n379            Wolves      Man United  0.378758  0.270541  0.350701\n\n[380 rows x 5 columns]",
      "text/html": "<div>\n<style scoped>\n    .dataframe tbody tr th:only-of-type {\n        vertical-align: middle;\n    }\n\n    .dataframe tbody tr th {\n        vertical-align: top;\n    }\n\n    .dataframe thead th {\n        text-align: right;\n    }\n</style>\n<table border=\"1\" class=\"dataframe\">\n  <thead>\n    <tr style=\"text-align: right;\">\n      <th></th>\n      <th>HomeTeam</th>\n      <th>AwayTeam</th>\n      <th>B365H</th>\n      <th>B365D</th>\n      <th>B365A</th>\n    </tr>\n  </thead>\n  <tbody>\n    <tr>\n      <th>0</th>\n      <td>Fulham</td>\n      <td>Arsenal</td>\n      <td>0.158548</td>\n      <td>0.219697</td>\n      <td>0.621756</td>\n    </tr>\n    <tr>\n      <th>1</th>\n      <td>Crystal Palace</td>\n      <td>Southampton</td>\n      <td>0.306573</td>\n      <td>0.292424</td>\n      <td>0.401003</td>\n    </tr>\n    <tr>\n      <th>2</th>\n      <td>Liverpool</td>\n      <td>Leeds</td>\n      <td>0.741801</td>\n      <td>0.158251</td>\n      <td>0.099948</td>\n    </tr>\n    <tr>\n      <th>3</th>\n      <td>West Ham</td>\n      <td>Newcastle</td>\n      <td>0.441558</td>\n      <td>0.279221</td>\n      <td>0.279221</td>\n    </tr>\n    <tr>\n      <th>4</th>\n      <td>West Brom</td>\n      <td>Leicester</td>\n      <td>0.249733</td>\n      <td>0.263607</td>\n      <td>0.486660</td>\n    </tr>\n    <tr>\n      <th>...</th>\n      <td>...</td>\n      <td>...</td>\n      <td>...</td>\n      <td>...</td>\n      <td>...</td>\n    </tr>\n    <tr>\n      <th>375</th>\n      <td>Liverpool</td>\n      <td>Crystal Palace</td>\n      <td>0.826366</td>\n      <td>0.110830</td>\n      <td>0.062804</td>\n    </tr>\n    <tr>\n      <th>376</th>\n      <td>Man City</td>\n      <td>Everton</td>\n      <td>0.662454</td>\n      <td>0.190787</td>\n      <td>0.146759</td>\n    </tr>\n    <tr>\n      <th>377</th>\n      <td>Sheffield United</td>\n      <td>Burnley</td>\n      <td>0.339623</td>\n      <td>0.264151</td>\n      <td>0.396226</td>\n    </tr>\n    <tr>\n      <th>378</th>\n      <td>West Ham</td>\n      <td>Southampton</td>\n      <td>0.573888</td>\n      <td>0.236729</td>\n      <td>0.189383</td>\n    </tr>\n    <tr>\n      <th>379</th>\n      <td>Wolves</td>\n      <td>Man United</td>\n      <td>0.378758</td>\n      <td>0.270541</td>\n      <td>0.350701</td>\n    </tr>\n  </tbody>\n</table>\n<p>380 rows × 5 columns</p>\n</div>"
     },
     "execution_count": 25,
     "metadata": {},
     "output_type": "execute_result"
    }
   ],
   "source": [
    "PL_20_21 = pd.read_csv('Data/2020-21/Fixtures/E_20_21.csv')\n",
    "PL_20_21['B365H'] = 1/PL_20_21['B365H']\n",
    "PL_20_21['B365D'] = 1/PL_20_21['B365D']\n",
    "PL_20_21['B365A'] = 1/PL_20_21['B365A']\n",
    "PL_20_21['SUM'] = PL_20_21['B365H'] + PL_20_21['B365D'] + PL_20_21['B365A']\n",
    "PL_20_21['B365H'] = PL_20_21['B365H']/PL_20_21['SUM']\n",
    "PL_20_21['B365D'] = PL_20_21['B365D']/PL_20_21['SUM']\n",
    "PL_20_21['B365A'] = PL_20_21['B365A']/PL_20_21['SUM']\n",
    "PL_20_21[['HomeTeam', 'AwayTeam', 'B365H', 'B365D', 'B365A']]"
   ],
   "metadata": {
    "collapsed": false,
    "pycharm": {
     "name": "#%%\n"
    }
   }
  }
 ],
 "metadata": {
  "kernelspec": {
   "display_name": "Python 3",
   "language": "python",
   "name": "python3"
  },
  "language_info": {
   "codemirror_mode": {
    "name": "ipython",
    "version": 2
   },
   "file_extension": ".py",
   "mimetype": "text/x-python",
   "name": "python",
   "nbconvert_exporter": "python",
   "pygments_lexer": "ipython2",
   "version": "2.7.6"
  }
 },
 "nbformat": 4,
 "nbformat_minor": 0
}