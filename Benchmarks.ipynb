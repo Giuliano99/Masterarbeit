{
 "cells": [
  {
   "cell_type": "code",
   "execution_count": 1,
   "metadata": {
    "collapsed": true
   },
   "outputs": [],
   "source": [
    "#import necessary packages\n",
    "import pandas as pd\n",
    "import numpy as np"
   ]
  },
  {
   "cell_type": "code",
   "execution_count": 15,
   "outputs": [
    {
     "name": "stdout",
     "output_type": "stream",
     "text": [
      "[0.6203868668872486, 0.24974548231102064, 0.1298676508017307]\n",
      "1.0\n"
     ]
    }
   ],
   "source": [
    "quotes = [1.57, 3.9, 7.5]\n",
    "result = []\n",
    "res = []\n",
    "sum = 0\n",
    "count = 0\n",
    "for i in quotes:\n",
    "    tmp = 1/i\n",
    "    #print(tmp)\n",
    "    sum = sum + tmp\n",
    "    result.append(tmp)\n",
    "    count = count +1\n",
    "sum2 = 0\n",
    "for i in result:\n",
    "    tmp = i/sum\n",
    "    sum2 = sum2 + tmp\n",
    "    res.append(tmp)\n",
    "print(res)\n",
    "print(sum2)"
   ],
   "metadata": {
    "collapsed": false,
    "pycharm": {
     "name": "#%%\n"
    }
   }
  },
  {
   "cell_type": "code",
   "execution_count": 21,
   "outputs": [],
   "source": [],
   "metadata": {
    "collapsed": false,
    "pycharm": {
     "name": "#%%\n"
    }
   }
  },
  {
   "cell_type": "code",
   "execution_count": 24,
   "outputs": [
    {
     "data": {
      "text/plain": "    Div        Date   Time          HomeTeam        AwayTeam  FTHG  FTAG FTR  \\\n0    E0  12/09/2020  12:30            Fulham         Arsenal     0     3   A   \n1    E0  12/09/2020  15:00    Crystal Palace     Southampton     1     0   H   \n2    E0  12/09/2020  17:30         Liverpool           Leeds     4     3   H   \n3    E0  12/09/2020  20:00          West Ham       Newcastle     0     2   A   \n4    E0  13/09/2020  14:00         West Brom       Leicester     0     3   A   \n..   ..         ...    ...               ...             ...   ...   ...  ..   \n375  E0  23/05/2021  16:00         Liverpool  Crystal Palace     2     0   H   \n376  E0  23/05/2021  16:00          Man City         Everton     5     0   H   \n377  E0  23/05/2021  16:00  Sheffield United         Burnley     1     0   H   \n378  E0  23/05/2021  16:00          West Ham     Southampton     3     0   H   \n379  E0  23/05/2021  16:00            Wolves      Man United     1     2   A   \n\n     HTHG  HTAG  ...  AHCh B365CAHH  B365CAHA  PCAHH  PCAHA  MaxCAHH  MaxCAHA  \\\n0       0     1  ...  0.75     2.01      1.89   2.02   1.91     2.13     1.92   \n1       1     0  ...  0.25     1.78      2.13   1.79   2.17     1.85     2.18   \n2       3     2  ... -1.50     1.85      2.05   1.85   2.08     1.90     2.16   \n3       0     0  ... -0.50     2.03      1.87   2.04   1.88     2.09     1.91   \n4       0     0  ...  0.25     1.92      1.98   1.93   1.99     1.95     2.01   \n..    ...   ...  ...   ...      ...       ...    ...    ...      ...      ...   \n375     1     0  ... -2.25     1.86      2.04   1.88   2.03     1.98     2.14   \n376     2     0  ... -1.75     2.01      1.89   1.99   1.89     2.20     2.00   \n377     1     0  ...  0.00     2.04      1.86   2.05   1.86     2.17     1.90   \n378     2     0  ... -0.75     2.00      1.90   2.02   1.91     2.06     2.01   \n379     1     2  ... -0.25     2.04      1.86   2.10   1.84     2.10     1.94   \n\n     AvgCAHH  AvgCAHA       SUM  \n0       2.02     1.87  1.051208  \n1       1.79     2.12  1.052214  \n2       1.84     2.04  1.053180  \n3       2.02     1.86  1.053352  \n4       1.91     1.97  1.053756  \n..       ...      ...       ...  \n375     1.88     2.00  1.061507  \n376     2.03     1.85  1.048291  \n377     2.03     1.84  1.051587  \n378     1.99     1.89  1.056061  \n379     2.00     1.88  1.056085  \n\n[380 rows x 107 columns]",
      "text/html": "<div>\n<style scoped>\n    .dataframe tbody tr th:only-of-type {\n        vertical-align: middle;\n    }\n\n    .dataframe tbody tr th {\n        vertical-align: top;\n    }\n\n    .dataframe thead th {\n        text-align: right;\n    }\n</style>\n<table border=\"1\" class=\"dataframe\">\n  <thead>\n    <tr style=\"text-align: right;\">\n      <th></th>\n      <th>Div</th>\n      <th>Date</th>\n      <th>Time</th>\n      <th>HomeTeam</th>\n      <th>AwayTeam</th>\n      <th>FTHG</th>\n      <th>FTAG</th>\n      <th>FTR</th>\n      <th>HTHG</th>\n      <th>HTAG</th>\n      <th>...</th>\n      <th>AHCh</th>\n      <th>B365CAHH</th>\n      <th>B365CAHA</th>\n      <th>PCAHH</th>\n      <th>PCAHA</th>\n      <th>MaxCAHH</th>\n      <th>MaxCAHA</th>\n      <th>AvgCAHH</th>\n      <th>AvgCAHA</th>\n      <th>SUM</th>\n    </tr>\n  </thead>\n  <tbody>\n    <tr>\n      <th>0</th>\n      <td>E0</td>\n      <td>12/09/2020</td>\n      <td>12:30</td>\n      <td>Fulham</td>\n      <td>Arsenal</td>\n      <td>0</td>\n      <td>3</td>\n      <td>A</td>\n      <td>0</td>\n      <td>1</td>\n      <td>...</td>\n      <td>0.75</td>\n      <td>2.01</td>\n      <td>1.89</td>\n      <td>2.02</td>\n      <td>1.91</td>\n      <td>2.13</td>\n      <td>1.92</td>\n      <td>2.02</td>\n      <td>1.87</td>\n      <td>1.051208</td>\n    </tr>\n    <tr>\n      <th>1</th>\n      <td>E0</td>\n      <td>12/09/2020</td>\n      <td>15:00</td>\n      <td>Crystal Palace</td>\n      <td>Southampton</td>\n      <td>1</td>\n      <td>0</td>\n      <td>H</td>\n      <td>1</td>\n      <td>0</td>\n      <td>...</td>\n      <td>0.25</td>\n      <td>1.78</td>\n      <td>2.13</td>\n      <td>1.79</td>\n      <td>2.17</td>\n      <td>1.85</td>\n      <td>2.18</td>\n      <td>1.79</td>\n      <td>2.12</td>\n      <td>1.052214</td>\n    </tr>\n    <tr>\n      <th>2</th>\n      <td>E0</td>\n      <td>12/09/2020</td>\n      <td>17:30</td>\n      <td>Liverpool</td>\n      <td>Leeds</td>\n      <td>4</td>\n      <td>3</td>\n      <td>H</td>\n      <td>3</td>\n      <td>2</td>\n      <td>...</td>\n      <td>-1.50</td>\n      <td>1.85</td>\n      <td>2.05</td>\n      <td>1.85</td>\n      <td>2.08</td>\n      <td>1.90</td>\n      <td>2.16</td>\n      <td>1.84</td>\n      <td>2.04</td>\n      <td>1.053180</td>\n    </tr>\n    <tr>\n      <th>3</th>\n      <td>E0</td>\n      <td>12/09/2020</td>\n      <td>20:00</td>\n      <td>West Ham</td>\n      <td>Newcastle</td>\n      <td>0</td>\n      <td>2</td>\n      <td>A</td>\n      <td>0</td>\n      <td>0</td>\n      <td>...</td>\n      <td>-0.50</td>\n      <td>2.03</td>\n      <td>1.87</td>\n      <td>2.04</td>\n      <td>1.88</td>\n      <td>2.09</td>\n      <td>1.91</td>\n      <td>2.02</td>\n      <td>1.86</td>\n      <td>1.053352</td>\n    </tr>\n    <tr>\n      <th>4</th>\n      <td>E0</td>\n      <td>13/09/2020</td>\n      <td>14:00</td>\n      <td>West Brom</td>\n      <td>Leicester</td>\n      <td>0</td>\n      <td>3</td>\n      <td>A</td>\n      <td>0</td>\n      <td>0</td>\n      <td>...</td>\n      <td>0.25</td>\n      <td>1.92</td>\n      <td>1.98</td>\n      <td>1.93</td>\n      <td>1.99</td>\n      <td>1.95</td>\n      <td>2.01</td>\n      <td>1.91</td>\n      <td>1.97</td>\n      <td>1.053756</td>\n    </tr>\n    <tr>\n      <th>...</th>\n      <td>...</td>\n      <td>...</td>\n      <td>...</td>\n      <td>...</td>\n      <td>...</td>\n      <td>...</td>\n      <td>...</td>\n      <td>...</td>\n      <td>...</td>\n      <td>...</td>\n      <td>...</td>\n      <td>...</td>\n      <td>...</td>\n      <td>...</td>\n      <td>...</td>\n      <td>...</td>\n      <td>...</td>\n      <td>...</td>\n      <td>...</td>\n      <td>...</td>\n      <td>...</td>\n    </tr>\n    <tr>\n      <th>375</th>\n      <td>E0</td>\n      <td>23/05/2021</td>\n      <td>16:00</td>\n      <td>Liverpool</td>\n      <td>Crystal Palace</td>\n      <td>2</td>\n      <td>0</td>\n      <td>H</td>\n      <td>1</td>\n      <td>0</td>\n      <td>...</td>\n      <td>-2.25</td>\n      <td>1.86</td>\n      <td>2.04</td>\n      <td>1.88</td>\n      <td>2.03</td>\n      <td>1.98</td>\n      <td>2.14</td>\n      <td>1.88</td>\n      <td>2.00</td>\n      <td>1.061507</td>\n    </tr>\n    <tr>\n      <th>376</th>\n      <td>E0</td>\n      <td>23/05/2021</td>\n      <td>16:00</td>\n      <td>Man City</td>\n      <td>Everton</td>\n      <td>5</td>\n      <td>0</td>\n      <td>H</td>\n      <td>2</td>\n      <td>0</td>\n      <td>...</td>\n      <td>-1.75</td>\n      <td>2.01</td>\n      <td>1.89</td>\n      <td>1.99</td>\n      <td>1.89</td>\n      <td>2.20</td>\n      <td>2.00</td>\n      <td>2.03</td>\n      <td>1.85</td>\n      <td>1.048291</td>\n    </tr>\n    <tr>\n      <th>377</th>\n      <td>E0</td>\n      <td>23/05/2021</td>\n      <td>16:00</td>\n      <td>Sheffield United</td>\n      <td>Burnley</td>\n      <td>1</td>\n      <td>0</td>\n      <td>H</td>\n      <td>1</td>\n      <td>0</td>\n      <td>...</td>\n      <td>0.00</td>\n      <td>2.04</td>\n      <td>1.86</td>\n      <td>2.05</td>\n      <td>1.86</td>\n      <td>2.17</td>\n      <td>1.90</td>\n      <td>2.03</td>\n      <td>1.84</td>\n      <td>1.051587</td>\n    </tr>\n    <tr>\n      <th>378</th>\n      <td>E0</td>\n      <td>23/05/2021</td>\n      <td>16:00</td>\n      <td>West Ham</td>\n      <td>Southampton</td>\n      <td>3</td>\n      <td>0</td>\n      <td>H</td>\n      <td>2</td>\n      <td>0</td>\n      <td>...</td>\n      <td>-0.75</td>\n      <td>2.00</td>\n      <td>1.90</td>\n      <td>2.02</td>\n      <td>1.91</td>\n      <td>2.06</td>\n      <td>2.01</td>\n      <td>1.99</td>\n      <td>1.89</td>\n      <td>1.056061</td>\n    </tr>\n    <tr>\n      <th>379</th>\n      <td>E0</td>\n      <td>23/05/2021</td>\n      <td>16:00</td>\n      <td>Wolves</td>\n      <td>Man United</td>\n      <td>1</td>\n      <td>2</td>\n      <td>A</td>\n      <td>1</td>\n      <td>2</td>\n      <td>...</td>\n      <td>-0.25</td>\n      <td>2.04</td>\n      <td>1.86</td>\n      <td>2.10</td>\n      <td>1.84</td>\n      <td>2.10</td>\n      <td>1.94</td>\n      <td>2.00</td>\n      <td>1.88</td>\n      <td>1.056085</td>\n    </tr>\n  </tbody>\n</table>\n<p>380 rows × 107 columns</p>\n</div>"
     },
     "execution_count": 24,
     "metadata": {},
     "output_type": "execute_result"
    }
   ],
   "source": [
    "PL_20_21 = pd.read_csv('Data/2020-21/Fixtures/E_20_21.csv')\n",
    "PL_20_21['B365H'] = 1/PL_20_21['B365H']\n",
    "PL_20_21['B365D'] = 1/PL_20_21['B365D']\n",
    "PL_20_21['B365A'] = 1/PL_20_21['B365A']\n",
    "PL_20_21['SUM'] = PL_20_21['B365H'] + PL_20_21['B365D'] + PL_20_21['B365A']\n",
    "PL_20_21['B365H'] = PL_20_21['B365H']/PL_20_21['SUM']\n",
    "PL_20_21['B365D'] = PL_20_21['B365D']/PL_20_21['SUM']\n",
    "PL_20_21['B365A'] = PL_20_21['B365A']/PL_20_21['SUM']\n",
    "PL_20_21"
   ],
   "metadata": {
    "collapsed": false,
    "pycharm": {
     "name": "#%%\n"
    }
   }
  }
 ],
 "metadata": {
  "kernelspec": {
   "display_name": "Python 3",
   "language": "python",
   "name": "python3"
  },
  "language_info": {
   "codemirror_mode": {
    "name": "ipython",
    "version": 2
   },
   "file_extension": ".py",
   "mimetype": "text/x-python",
   "name": "python",
   "nbconvert_exporter": "python",
   "pygments_lexer": "ipython2",
   "version": "2.7.6"
  }
 },
 "nbformat": 4,
 "nbformat_minor": 0
}