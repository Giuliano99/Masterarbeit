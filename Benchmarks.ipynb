{
 "cells": [
  {
   "cell_type": "code",
   "execution_count": 1,
   "metadata": {
    "collapsed": true
   },
   "outputs": [],
   "source": [
    "#notebook to calculate accuracy of the models and compare to benchmarks community votes and betting odds\n",
    "#import necessary packages\n",
    "import pandas as pd\n",
    "import numpy as np"
   ]
  },
  {
   "cell_type": "code",
   "execution_count": 31,
   "outputs": [],
   "source": [
    "#function to calculate rps score\n",
    "def rps(predictions, observed):\n",
    "    \"\"\"Vectorized version of Ranked Probability Score.\n",
    "    A lower value is a better score.\n",
    "    From: Colin Catlin, https://syllepsis.live/2022/01/22/ranked-probability-score-in-python/\n",
    "\n",
    "    Args:\n",
    "        predictions (pd.DataFrame): each column is an outcome category\n",
    "            with values as the 0 to 1 probability of that category\n",
    "        observed (pd.DataFrame): each column is an outcome category\n",
    "            with values of 0 OR 1 with 1 being that category occurred\n",
    "    \"\"\"\n",
    "    assert (\n",
    "        predictions.shape == observed.shape\n",
    "    ), \"prediction and observed array shapes must match\"\n",
    "    ncat = predictions.shape[1] - 1\n",
    "    return (\n",
    "        np.sum(\n",
    "            (np.cumsum(predictions, axis=1) - np.cumsum(observed, axis=1)) ** 2, axis=1\n",
    "        ) / ncat\n",
    "    )\n",
    "predictions_df = pd.DataFrame({\n",
    "    'H': [1, 0.9, 0.8, 0.5, 0.35, 0.6, 0.6, 0.6, 0.5, 0.55],\n",
    "    'D': [0, 0.1, 0.1, 0.25, 0.3, 0.3, 0.3, 0.1, 0.45, 0.1],\n",
    "    'A': [0, 0, 0.1, 0.25, 0.35, 0.1, 0.1, 0.3, 0.05, 0.35],\n",
    "    \"model\": np.tile([\"a\", \"b\"], 5),\n",
    "    \"match\": np.repeat(np.arange(1, 6), 2),\n",
    "    \"outcome\": np.repeat([\"H\", \"H\", \"D\", \"H\", \"H\"], 2),\n",
    "})\n",
    "expected_result = [0, 0.005, 0.025, 0.15625, 0.1225, 0.185, 0.085, 0.125, 0.12625, 0.1625]\n",
    "predictions = predictions_df[[\"H\", \"D\", \"A\"]]\n",
    "observed = pd.get_dummies(predictions_df[\"outcome\"]).reindex(\n",
    "    columns=predictions.columns, fill_value=0\n",
    ")\n",
    "rps_result = rps(predictions, observed).round(5)\n",
    "\n",
    "\n",
    "#print(predictions)\n",
    "#print(f\"do results match expected: {all(expected_result == rps_result)}\")\n",
    "\n",
    "#print(np.mean(rps_result))"
   ],
   "metadata": {
    "collapsed": false,
    "pycharm": {
     "name": "#%%\n"
    }
   }
  },
  {
   "cell_type": "code",
   "execution_count": 33,
   "outputs": [
    {
     "name": "stdout",
     "output_type": "stream",
     "text": [
      "0.19134634285714286\n"
     ]
    }
   ],
   "source": [
    "#calculate rps score for betting odds\n",
    "PL_20_21 = pd.read_csv('Data/2020-21/Fixtures/E_20_21.csv')\n",
    "PL_21_22 = pd.read_csv('Data/2021-22/Fixtures/E_21_22.csv')\n",
    "PL_20_21['B365H'] = 1/PL_20_21['B365H']\n",
    "PL_20_21['B365D'] = 1/PL_20_21['B365D']\n",
    "PL_20_21['B365A'] = 1/PL_20_21['B365A']\n",
    "PL_20_21['SUM'] = PL_20_21['B365H'] + PL_20_21['B365D'] + PL_20_21['B365A']\n",
    "PL_20_21['B365H'] = PL_20_21['B365H']/PL_20_21['SUM']\n",
    "PL_20_21['B365D'] = PL_20_21['B365D']/PL_20_21['SUM']\n",
    "PL_20_21['B365A'] = PL_20_21['B365A']/PL_20_21['SUM']\n",
    "PL_21_22['B365H'] = 1/PL_21_22['B365H']\n",
    "PL_21_22['B365D'] = 1/PL_21_22['B365D']\n",
    "PL_21_22['B365A'] = 1/PL_21_22['B365A']\n",
    "PL_21_22['SUM'] = PL_21_22['B365H'] + PL_21_22['B365D'] + PL_21_22['B365A']\n",
    "PL_21_22['B365H'] = PL_21_22['B365H']/PL_21_22['SUM']\n",
    "PL_21_22['B365D'] = PL_21_22['B365D']/PL_21_22['SUM']\n",
    "PL_21_22['B365A'] = PL_21_22['B365A']/PL_21_22['SUM']\n",
    "probabilities_20 = PL_20_21[['HomeTeam', 'AwayTeam', 'B365H', 'B365D', 'B365A', 'FTR']]\n",
    "probabilities_20 = probabilities_20.rename(columns={'B365H':'H','B365D':'D','B365A':'A'})\n",
    "predictions_20 = probabilities_20[[\"H\", \"D\", \"A\"]]\n",
    "observed_20 = pd.get_dummies(probabilities_20[\"FTR\"]).reindex(\n",
    "    columns=predictions.columns, fill_value=0)\n",
    "\n",
    "probabilities_21 = PL_21_22[['HomeTeam', 'AwayTeam', 'B365H', 'B365D', 'B365A', 'FTR']]\n",
    "probabilities_21 = probabilities_21[-350:]\n",
    "probabilities_21 = probabilities_21.rename(columns={'B365H':'H','B365D':'D','B365A':'A'})\n",
    "predictions_21 = probabilities_21[[\"H\", \"D\", \"A\"]]\n",
    "observed_21 = pd.get_dummies(probabilities_21[\"FTR\"]).reindex(\n",
    "    columns=predictions.columns, fill_value=0)\n",
    "\n",
    "\n",
    "\n",
    "rps_result_21 = rps(predictions_21, observed_21).round(5)\n",
    "rps_result_20 = rps(predictions_20, observed_20).round(5)\n",
    "\n",
    "rps_betting_odds = np.mean(rps_result_21)\n",
    "print(rps_betting_odds)"
   ],
   "metadata": {
    "collapsed": false,
    "pycharm": {
     "name": "#%%\n"
    }
   }
  },
  {
   "cell_type": "code",
   "execution_count": 35,
   "outputs": [
    {
     "name": "stdout",
     "output_type": "stream",
     "text": [
      "RPS score community votes: 0.22040236842105265\n"
     ]
    }
   ],
   "source": [
    "#calculate rps score for community votes\n",
    "PL_21_22.replace(['Leeds', 'Leicester', 'Man City', 'Man United', 'Newcastle', 'Norwich', 'Sheff Utd', 'Spurs'],\n",
    "                 ['Leeds United', 'Leicester City', 'Manchester City', 'Manchester Utd', 'Newcastle Utd',\n",
    "                  'Norwich City', 'Sheffield Utd', 'Tottenham'], inplace=True)\n",
    "PL_21_22['game_id'] = PL_21_22['HomeTeam'] + PL_21_22['AwayTeam']\n",
    "PL_21_22['HomeTeam'].drop_duplicates()\n",
    "transfermarkt_probs_21 = pd.read_csv('Data/2021-22/Fixtures/tranfermarkt_21_probs.csv')\n",
    "test = pd.merge(PL_21_22, transfermarkt_probs_21, on='game_id', how='left')\n",
    "\n",
    "predictions = test[[\"H\", \"D\", \"A\"]]\n",
    "observed = pd.get_dummies(test[\"FTR\"]).reindex(\n",
    "    columns=predictions.columns, fill_value=0)\n",
    "rps_result_community = rps(predictions, observed).round(5)\n",
    "\n",
    "rps_community_votes = np.mean(rps_result_community)\n",
    "\n",
    "print('RPS score community votes:', rps_community_votes)"
   ],
   "metadata": {
    "collapsed": false,
    "pycharm": {
     "name": "#%%\n"
    }
   }
  },
  {
   "cell_type": "code",
   "execution_count": 37,
   "outputs": [
    {
     "name": "stdout",
     "output_type": "stream",
     "text": [
      "0.2158239210526316\n"
     ]
    }
   ],
   "source": [
    "#calculate rps score for rf model benchmark\n",
    "probs_benchmark = pd.read_csv('Data/Total/probs_benchmark.csv')\n",
    "\n",
    "predictions = probs_benchmark[[\"H\", \"D\", \"A\"]]\n",
    "observed = pd.get_dummies(probabilities_21[\"FTR\"]).reindex(\n",
    "    columns=predictions.columns, fill_value=0)\n",
    "rps_result = rps(predictions, observed).round(5)\n",
    "\n",
    "rps_rf_benchmark = np.mean(rps_result)\n",
    "print(rps_rf_benchmark)"
   ],
   "metadata": {
    "collapsed": false,
    "pycharm": {
     "name": "#%%\n"
    }
   }
  },
  {
   "cell_type": "code",
   "execution_count": 38,
   "outputs": [
    {
     "name": "stdout",
     "output_type": "stream",
     "text": [
      "0.21415544736842104\n"
     ]
    }
   ],
   "source": [
    "#calculate rps score for rf model benchmark\n",
    "probs_player_stats= pd.read_csv('Data/Total/probs_player_stats.csv')\n",
    "\n",
    "predictions = probs_player_stats[[\"H\", \"D\", \"A\"]]\n",
    "observed = pd.get_dummies(probabilities_21[\"FTR\"]).reindex(\n",
    "    columns=predictions.columns, fill_value=0)\n",
    "rps_result = rps(predictions, observed).round(5)\n",
    "\n",
    "rps_rf_player_stats = np.mean(rps_result)\n",
    "print(rps_rf_player_stats)"
   ],
   "metadata": {
    "collapsed": false,
    "pycharm": {
     "name": "#%%\n"
    }
   }
  },
  {
   "cell_type": "code",
   "execution_count": 39,
   "outputs": [
    {
     "name": "stdout",
     "output_type": "stream",
     "text": [
      "RPS score random forest benchmark: 0.2158239210526316\n",
      "RPS score random forest incl player stats: 0.21415544736842104\n",
      "RPS score community votes: 0.22040236842105265\n",
      "RPS score betting odds: 0.19134634285714286\n"
     ]
    }
   ],
   "source": [
    "print('RPS score random forest benchmark:', rps_rf_benchmark)\n",
    "print('RPS score random forest incl player stats:', rps_rf_player_stats)\n",
    "print('RPS score community votes:', rps_community_votes)\n",
    "print('RPS score betting odds:', rps_betting_odds)"
   ],
   "metadata": {
    "collapsed": false,
    "pycharm": {
     "name": "#%%\n"
    }
   }
  },
  {
   "cell_type": "code",
   "execution_count": 52,
   "outputs": [],
   "source": [
    "\n",
    "#probs_player_stats_info.to_excel('probs_check.xlsx')\n",
    "\n"
   ],
   "metadata": {
    "collapsed": false,
    "pycharm": {
     "name": "#%%\n"
    }
   }
  },
  {
   "cell_type": "code",
   "execution_count": 53,
   "outputs": [
    {
     "data": {
      "text/plain": "     Unnamed: 0         HomeTeam         AwayTeam FTR         H         D  \\\n0             0   Crystal Palace        Tottenham   H  0.631022  0.200140   \n1             1          Arsenal     Norwich City   H  0.660644  0.136281   \n2             2        Brentford         Brighton   A  0.151899  0.674000   \n3             3   Leicester City  Manchester City   A  0.112982  0.771997   \n4             4   Manchester Utd    Newcastle Utd   H  0.848845  0.075893   \n..          ...              ...              ...  ..       ...       ...   \n345         345   Crystal Palace   Manchester Utd   H  0.259396  0.378656   \n346         346   Leicester City      Southampton   H  0.626677  0.173323   \n347         347        Liverpool           Wolves   H  0.604902  0.264070   \n348         348  Manchester City      Aston Villa   H  0.629223  0.209536   \n349         349     Norwich City        Tottenham   A  0.179034  0.591900   \n\n            A  rf_model_vote  result  \n0    0.168838              0       0  \n1    0.203074              0       0  \n2    0.174101              1       1  \n3    0.115021              1       1  \n4    0.075262              0       0  \n..        ...            ...     ...  \n345  0.361948              2       0  \n346  0.200000              0       0  \n347  0.131028              0       0  \n348  0.161241              0       0  \n349  0.229065              1       1  \n\n[350 rows x 9 columns]",
      "text/html": "<div>\n<style scoped>\n    .dataframe tbody tr th:only-of-type {\n        vertical-align: middle;\n    }\n\n    .dataframe tbody tr th {\n        vertical-align: top;\n    }\n\n    .dataframe thead th {\n        text-align: right;\n    }\n</style>\n<table border=\"1\" class=\"dataframe\">\n  <thead>\n    <tr style=\"text-align: right;\">\n      <th></th>\n      <th>Unnamed: 0</th>\n      <th>HomeTeam</th>\n      <th>AwayTeam</th>\n      <th>FTR</th>\n      <th>H</th>\n      <th>D</th>\n      <th>A</th>\n      <th>rf_model_vote</th>\n      <th>result</th>\n    </tr>\n  </thead>\n  <tbody>\n    <tr>\n      <th>0</th>\n      <td>0</td>\n      <td>Crystal Palace</td>\n      <td>Tottenham</td>\n      <td>H</td>\n      <td>0.631022</td>\n      <td>0.200140</td>\n      <td>0.168838</td>\n      <td>0</td>\n      <td>0</td>\n    </tr>\n    <tr>\n      <th>1</th>\n      <td>1</td>\n      <td>Arsenal</td>\n      <td>Norwich City</td>\n      <td>H</td>\n      <td>0.660644</td>\n      <td>0.136281</td>\n      <td>0.203074</td>\n      <td>0</td>\n      <td>0</td>\n    </tr>\n    <tr>\n      <th>2</th>\n      <td>2</td>\n      <td>Brentford</td>\n      <td>Brighton</td>\n      <td>A</td>\n      <td>0.151899</td>\n      <td>0.674000</td>\n      <td>0.174101</td>\n      <td>1</td>\n      <td>1</td>\n    </tr>\n    <tr>\n      <th>3</th>\n      <td>3</td>\n      <td>Leicester City</td>\n      <td>Manchester City</td>\n      <td>A</td>\n      <td>0.112982</td>\n      <td>0.771997</td>\n      <td>0.115021</td>\n      <td>1</td>\n      <td>1</td>\n    </tr>\n    <tr>\n      <th>4</th>\n      <td>4</td>\n      <td>Manchester Utd</td>\n      <td>Newcastle Utd</td>\n      <td>H</td>\n      <td>0.848845</td>\n      <td>0.075893</td>\n      <td>0.075262</td>\n      <td>0</td>\n      <td>0</td>\n    </tr>\n    <tr>\n      <th>...</th>\n      <td>...</td>\n      <td>...</td>\n      <td>...</td>\n      <td>...</td>\n      <td>...</td>\n      <td>...</td>\n      <td>...</td>\n      <td>...</td>\n      <td>...</td>\n    </tr>\n    <tr>\n      <th>345</th>\n      <td>345</td>\n      <td>Crystal Palace</td>\n      <td>Manchester Utd</td>\n      <td>H</td>\n      <td>0.259396</td>\n      <td>0.378656</td>\n      <td>0.361948</td>\n      <td>2</td>\n      <td>0</td>\n    </tr>\n    <tr>\n      <th>346</th>\n      <td>346</td>\n      <td>Leicester City</td>\n      <td>Southampton</td>\n      <td>H</td>\n      <td>0.626677</td>\n      <td>0.173323</td>\n      <td>0.200000</td>\n      <td>0</td>\n      <td>0</td>\n    </tr>\n    <tr>\n      <th>347</th>\n      <td>347</td>\n      <td>Liverpool</td>\n      <td>Wolves</td>\n      <td>H</td>\n      <td>0.604902</td>\n      <td>0.264070</td>\n      <td>0.131028</td>\n      <td>0</td>\n      <td>0</td>\n    </tr>\n    <tr>\n      <th>348</th>\n      <td>348</td>\n      <td>Manchester City</td>\n      <td>Aston Villa</td>\n      <td>H</td>\n      <td>0.629223</td>\n      <td>0.209536</td>\n      <td>0.161241</td>\n      <td>0</td>\n      <td>0</td>\n    </tr>\n    <tr>\n      <th>349</th>\n      <td>349</td>\n      <td>Norwich City</td>\n      <td>Tottenham</td>\n      <td>A</td>\n      <td>0.179034</td>\n      <td>0.591900</td>\n      <td>0.229065</td>\n      <td>1</td>\n      <td>1</td>\n    </tr>\n  </tbody>\n</table>\n<p>350 rows × 9 columns</p>\n</div>"
     },
     "execution_count": 53,
     "metadata": {},
     "output_type": "execute_result"
    }
   ],
   "source": [
    "probs_player_stats_info"
   ],
   "metadata": {
    "collapsed": false,
    "pycharm": {
     "name": "#%%\n"
    }
   }
  }
 ],
 "metadata": {
  "kernelspec": {
   "display_name": "Python 3",
   "language": "python",
   "name": "python3"
  },
  "language_info": {
   "codemirror_mode": {
    "name": "ipython",
    "version": 2
   },
   "file_extension": ".py",
   "mimetype": "text/x-python",
   "name": "python",
   "nbconvert_exporter": "python",
   "pygments_lexer": "ipython2",
   "version": "2.7.6"
  }
 },
 "nbformat": 4,
 "nbformat_minor": 0
}