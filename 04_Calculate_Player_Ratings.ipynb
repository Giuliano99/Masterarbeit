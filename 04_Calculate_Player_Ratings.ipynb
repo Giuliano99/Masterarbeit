{
 "cells": [
  {
   "cell_type": "code",
   "execution_count": 15,
   "metadata": {
    "collapsed": true
   },
   "outputs": [],
   "source": [
    "#notebook for calculating player ratings\n",
    "#import necessary packages\n",
    "import pandas as pd"
   ]
  },
  {
   "cell_type": "code",
   "execution_count": 16,
   "outputs": [],
   "source": [
    "#import player data\n",
    "PL2019_keepers = pd.read_csv('Data/2019-20/Players/PL2019_keepers.csv')\n",
    "PL2019_players = pd.read_csv('Data/2019-20/Players/PL2019_players.csv')\n",
    "PL2020_keepers = pd.read_csv('Data/2020-21/Players/PL2020_keepers.csv')\n",
    "PL2020_players = pd.read_csv('Data/2020-21/Players/PL2020_players.csv')\n",
    "PL2021_keepers = pd.read_csv('Data/2021-22/Players/PL2021_keepers.csv')\n",
    "PL2021_players = pd.read_csv('Data/2021-22/Players/PL2021_players.csv')"
   ],
   "metadata": {
    "collapsed": false,
    "pycharm": {
     "name": "#%%\n"
    }
   }
  },
  {
   "cell_type": "code",
   "execution_count": 17,
   "outputs": [],
   "source": [
    "#Goalkeeper Rating\n",
    "#apply weights from Excel Solver\n",
    "def calculate_gk_rating(df):\n",
    "    df['Rating'] = ((df['gk_psxg'] - df['gk_goals_against'])*8.066670338)+(df['gk_save_pct']/100*2.556904605) + (df['gk_goals_against']*-5.915922982)  +(df['gk_saves']*8.969594364) + (df['gk_pct_passes_launched']/100*7.810097531) + (df['gk_psxg']*0.985661108) + (df['gk_def_actions_outside_pen_area']*1.522476572)+ (df['gk_passes']*0.228727318)\n",
    "\n",
    "    OldMax = df['Rating'].max()\n",
    "    OldMin = df['Rating'].min()\n",
    "    NewMax = 100\n",
    "    NewMin = 0\n",
    "\n",
    "    OldRange = (OldMax - OldMin)\n",
    "    NewRange = (NewMax - NewMin)\n",
    "    df['Rating'] = (((df['Rating'] - OldMin) * NewRange) / OldRange) + NewMin\n",
    "    return df\n",
    "\n",
    "#calculate ratings for all seasons\n",
    "PL2019_keepers = calculate_gk_rating(PL2019_keepers)\n",
    "PL2020_keepers = calculate_gk_rating(PL2020_keepers)\n",
    "PL2021_keepers = calculate_gk_rating(PL2021_keepers)"
   ],
   "metadata": {
    "collapsed": false,
    "pycharm": {
     "name": "#%%\n"
    }
   }
  },
  {
   "cell_type": "code",
   "execution_count": 18,
   "outputs": [],
   "source": [
    "#split df in dfs for each player group\n",
    "def split_player_groups(df):\n",
    "    Defenders = df.drop(df[df.category != 'Defender'].index)\n",
    "    Midfielders = df.drop(df[df.category != 'Midfield'].index)\n",
    "    Forwards = df.drop(df[df.category != 'Forward'].index)\n",
    "    return Defenders, Midfielders, Forwards\n",
    "\n",
    "Defenders_19, Midfielders_19, Forwards_19 = split_player_groups(PL2019_players)\n",
    "Defenders_20, Midfielders_20, Forwards_20 = split_player_groups(PL2020_players)\n",
    "Defenders_21, Midfielders_21, Forwards_21 = split_player_groups(PL2021_players)\n"
   ],
   "metadata": {
    "collapsed": false,
    "pycharm": {
     "name": "#%%\n"
    }
   }
  },
  {
   "cell_type": "code",
   "execution_count": 23,
   "outputs": [
    {
     "data": {
      "text/plain": "player\nAndrew Robertson          1719.146091\nLuke Ayling               1683.875550\nTrent Alexander-Arnold    1592.473307\nAaron Wan-Bissaka         1435.635323\nRúben Dias                1422.795049\n                             ...     \nDan Nlundulu                 2.178251\nAllan Tchaptchet             0.757402\nDwight Gayle                 0.750528\nWilliam Thomas Fish          0.253613\nFemi Seriki                  0.000000\nName: Rating, Length: 266, dtype: float64"
     },
     "execution_count": 23,
     "metadata": {},
     "output_type": "execute_result"
    }
   ],
   "source": [
    "#Defender Rating\n",
    "#apply weights from Excel Solver\n",
    "def calculate_df_rating(df):\n",
    "    df['Rating'] = (df['tackles']*6.141939015)+(df['progressive_carries']*9.4230058) + (df['progressive_passes']*1) + (df['assists']*7.661351766)+ (df['passes']*1.013737739) + (df['interceptions']*1) + (df['blocks']*1.526323093)  +(df['pressures']*1)  + (df['goals']*4.536477348)   + (df['passes_pct']/100*7.693134296)\n",
    "\n",
    "\n",
    "    OldMax = df['Rating'].max()\n",
    "    OldMin = df['Rating'].min()\n",
    "    NewMax = 100\n",
    "    NewMin = 0\n",
    "\n",
    "\n",
    "    OldRange = (OldMax - OldMin)\n",
    "    NewRange = (NewMax - NewMin)\n",
    "    df['Rating'] = (((df['Rating'] - OldMin) * NewRange) / OldRange) + NewMin\n",
    "    return df\n",
    "\n",
    "#calculate ratings for all seasons\n",
    "Defenders_19 = calculate_df_rating(Defenders_19)\n",
    "Defenders_20 = calculate_df_rating(Defenders_20)\n",
    "Defenders_21 = calculate_df_rating(Defenders_21)\n",
    "\n",
    "#display best players over a season\n",
    "df21 = Defenders_20.groupby(['player']).sum()['Rating']\n",
    "df21_t = Defenders_20.groupby(['Team']).sum()['Rating']\n",
    "defender_strength = df21.sort_values(ascending=False)\n",
    "defender_strength_t = df21_t.sort_values(ascending=False)\n",
    "defender_strength"
   ],
   "metadata": {
    "collapsed": false,
    "pycharm": {
     "name": "#%%\n"
    }
   }
  },
  {
   "cell_type": "code",
   "execution_count": 24,
   "outputs": [],
   "source": [
    "#Midfield Rating\n",
    "#apply weights from Excel Solver\n",
    "def calculate_mf_rating(df):\n",
    "    df['Rating'] = (df['assists']*9.896093302)+(df['goals']*8.24545131) + (df['progressive_passes']*1) + (df['progressive_carries']*1) + (df['gca']*9.974429519)  +(df['pressures']*1)  + (df['sca']*10)   + (df['dribbles_completed']*1.558838612)\n",
    "    #df['Rating'] = (df['passes_pct'])\n",
    "\n",
    "    OldMax = df['Rating'].max()\n",
    "    OldMin = df['Rating'].min()\n",
    "    NewMax = 100\n",
    "    NewMin = 0\n",
    "\n",
    "\n",
    "    OldRange = (OldMax - OldMin)\n",
    "    NewRange = (NewMax - NewMin)\n",
    "    df['Rating'] = (((df['Rating'] - OldMin) * NewRange) / OldRange) + NewMin\n",
    "    return df\n",
    "\n",
    "#calculate ratings for all seasons\n",
    "Midfielders_19 = calculate_mf_rating(Midfielders_19)\n",
    "Midfielders_20 = calculate_mf_rating(Midfielders_20)\n",
    "Midfielders_21 = calculate_mf_rating(Midfielders_21)"
   ],
   "metadata": {
    "collapsed": false,
    "pycharm": {
     "name": "#%%\n"
    }
   }
  },
  {
   "cell_type": "code",
   "execution_count": 25,
   "outputs": [],
   "source": [
    "#Forward Rating\n",
    "#apply weight from Excel Solver\n",
    "def calculate_att_rating(df):\n",
    "    df['Rating'] = (df['goals']*5.701406026)+(df['assists']*1.185545635) + ((df['goals'] - df['xg'])*5.509198531) + ((df['assists'] - df['xa'])*6.255697541) + (df['gca']*4.072354183) + (df['sca']*2.413883824) + (df['shots_on_target']*5.056112447)\n",
    "    #df['Rating'] = (df['dribbles'])\n",
    "\n",
    "    OldMax = df['Rating'].max()\n",
    "    OldMin = df['Rating'].min()\n",
    "    NewMax = 100\n",
    "    NewMin = 0\n",
    "\n",
    "\n",
    "    OldRange = (OldMax - OldMin)\n",
    "    NewRange = (NewMax - NewMin)\n",
    "    df['Rating'] = ((((df['Rating'] - OldMin) * NewRange) / OldRange) + NewMin)\n",
    "    return df\n",
    "\n",
    "#calculate ratings for all seasons\n",
    "Forwards_19 = calculate_att_rating(Forwards_19)\n",
    "Forwards_20 = calculate_att_rating(Forwards_20)\n",
    "Forwards_21 = calculate_att_rating(Forwards_21)"
   ],
   "metadata": {
    "collapsed": false,
    "pycharm": {
     "name": "#%%\n"
    }
   }
  },
  {
   "cell_type": "code",
   "execution_count": 26,
   "outputs": [
    {
     "data": {
      "text/plain": "                       player position     age  minutes             Team  \\\n0                   Joe Bryan       LB  26-361     90.0           Fulham   \n1                    Tim Ream       CB  32-343     90.0           Fulham   \n2              Michael Hector       CB  28-055     90.0           Fulham   \n3                  Denis Odoi       RB  32-108     90.0           Fulham   \n4      Ainsley Maitland-Niles       WB  23-014     90.0          Arsenal   \n...                       ...      ...     ...      ...              ...   \n10389       Emiliano Martínez       GK  28-263     90.0      Aston Villa   \n10390           Edouard Mendy       GK  29-083     45.0          Chelsea   \n10391       Kepa Arrizabalaga       GK  26-232     45.0          Chelsea   \n10392        Łukasz Fabiański       GK  36-035     90.0  West Ham United   \n10393           Alex McCarthy       GK  31-171     90.0      Southampton   \n\n       matchweek    category     Rating        date  \n0            1.0    Defender  30.040214  2020-09-12  \n1            1.0    Defender  33.442623  2020-09-12  \n2            1.0    Defender  37.665180  2020-09-12  \n3            1.0    Defender  33.911034  2020-09-12  \n4            1.0    Defender  25.875207  2020-09-12  \n...          ...         ...        ...         ...  \n10389       38.0  Goalkeeper  63.001016  2021-05-23  \n10390       38.0  Goalkeeper  33.585029  2021-05-23  \n10391       38.0  Goalkeeper  26.766151  2021-05-23  \n10392       38.0  Goalkeeper  71.562860  2021-05-23  \n10393       38.0  Goalkeeper  41.306842  2021-05-23  \n\n[10394 rows x 9 columns]",
      "text/html": "<div>\n<style scoped>\n    .dataframe tbody tr th:only-of-type {\n        vertical-align: middle;\n    }\n\n    .dataframe tbody tr th {\n        vertical-align: top;\n    }\n\n    .dataframe thead th {\n        text-align: right;\n    }\n</style>\n<table border=\"1\" class=\"dataframe\">\n  <thead>\n    <tr style=\"text-align: right;\">\n      <th></th>\n      <th>player</th>\n      <th>position</th>\n      <th>age</th>\n      <th>minutes</th>\n      <th>Team</th>\n      <th>matchweek</th>\n      <th>category</th>\n      <th>Rating</th>\n      <th>date</th>\n    </tr>\n  </thead>\n  <tbody>\n    <tr>\n      <th>0</th>\n      <td>Joe Bryan</td>\n      <td>LB</td>\n      <td>26-361</td>\n      <td>90.0</td>\n      <td>Fulham</td>\n      <td>1.0</td>\n      <td>Defender</td>\n      <td>30.040214</td>\n      <td>2020-09-12</td>\n    </tr>\n    <tr>\n      <th>1</th>\n      <td>Tim Ream</td>\n      <td>CB</td>\n      <td>32-343</td>\n      <td>90.0</td>\n      <td>Fulham</td>\n      <td>1.0</td>\n      <td>Defender</td>\n      <td>33.442623</td>\n      <td>2020-09-12</td>\n    </tr>\n    <tr>\n      <th>2</th>\n      <td>Michael Hector</td>\n      <td>CB</td>\n      <td>28-055</td>\n      <td>90.0</td>\n      <td>Fulham</td>\n      <td>1.0</td>\n      <td>Defender</td>\n      <td>37.665180</td>\n      <td>2020-09-12</td>\n    </tr>\n    <tr>\n      <th>3</th>\n      <td>Denis Odoi</td>\n      <td>RB</td>\n      <td>32-108</td>\n      <td>90.0</td>\n      <td>Fulham</td>\n      <td>1.0</td>\n      <td>Defender</td>\n      <td>33.911034</td>\n      <td>2020-09-12</td>\n    </tr>\n    <tr>\n      <th>4</th>\n      <td>Ainsley Maitland-Niles</td>\n      <td>WB</td>\n      <td>23-014</td>\n      <td>90.0</td>\n      <td>Arsenal</td>\n      <td>1.0</td>\n      <td>Defender</td>\n      <td>25.875207</td>\n      <td>2020-09-12</td>\n    </tr>\n    <tr>\n      <th>...</th>\n      <td>...</td>\n      <td>...</td>\n      <td>...</td>\n      <td>...</td>\n      <td>...</td>\n      <td>...</td>\n      <td>...</td>\n      <td>...</td>\n      <td>...</td>\n    </tr>\n    <tr>\n      <th>10389</th>\n      <td>Emiliano Martínez</td>\n      <td>GK</td>\n      <td>28-263</td>\n      <td>90.0</td>\n      <td>Aston Villa</td>\n      <td>38.0</td>\n      <td>Goalkeeper</td>\n      <td>63.001016</td>\n      <td>2021-05-23</td>\n    </tr>\n    <tr>\n      <th>10390</th>\n      <td>Edouard Mendy</td>\n      <td>GK</td>\n      <td>29-083</td>\n      <td>45.0</td>\n      <td>Chelsea</td>\n      <td>38.0</td>\n      <td>Goalkeeper</td>\n      <td>33.585029</td>\n      <td>2021-05-23</td>\n    </tr>\n    <tr>\n      <th>10391</th>\n      <td>Kepa Arrizabalaga</td>\n      <td>GK</td>\n      <td>26-232</td>\n      <td>45.0</td>\n      <td>Chelsea</td>\n      <td>38.0</td>\n      <td>Goalkeeper</td>\n      <td>26.766151</td>\n      <td>2021-05-23</td>\n    </tr>\n    <tr>\n      <th>10392</th>\n      <td>Łukasz Fabiański</td>\n      <td>GK</td>\n      <td>36-035</td>\n      <td>90.0</td>\n      <td>West Ham United</td>\n      <td>38.0</td>\n      <td>Goalkeeper</td>\n      <td>71.562860</td>\n      <td>2021-05-23</td>\n    </tr>\n    <tr>\n      <th>10393</th>\n      <td>Alex McCarthy</td>\n      <td>GK</td>\n      <td>31-171</td>\n      <td>90.0</td>\n      <td>Southampton</td>\n      <td>38.0</td>\n      <td>Goalkeeper</td>\n      <td>41.306842</td>\n      <td>2021-05-23</td>\n    </tr>\n  </tbody>\n</table>\n<p>10394 rows × 9 columns</p>\n</div>"
     },
     "execution_count": 26,
     "metadata": {},
     "output_type": "execute_result"
    }
   ],
   "source": [
    "#merge positions to one df per season\n",
    "total_19 = pd.concat([Defenders_19, Midfielders_19, Forwards_19, PL2019_keepers], axis=0)\n",
    "total_20 = pd.concat([Defenders_20, Midfielders_20, Forwards_20, PL2020_keepers], axis=0)\n",
    "total_21 = pd.concat([Defenders_21, Midfielders_21, Forwards_21, PL2021_keepers], axis=0)\n",
    "total_19.reset_index(inplace=True, drop=True)\n",
    "total_20.reset_index(inplace=True, drop=True)\n",
    "total_21.reset_index(inplace=True, drop=True)\n",
    "PL2019_ratings = total_19[['player', 'position', 'age', 'minutes', 'Team', 'matchweek', 'category', 'Rating', 'date']]\n",
    "PL2020_ratings = total_20[['player', 'position', 'age', 'minutes', 'Team', 'matchweek', 'category', 'Rating', 'date']]\n",
    "PL2021_ratings = total_21[['player', 'position', 'age', 'minutes', 'Team', 'matchweek', 'category', 'Rating', 'date']]\n",
    "PL2019_ratings = PL2019_ratings.fillna('Goalkeeper')\n",
    "PL2020_ratings = PL2020_ratings.fillna('Goalkeeper')\n",
    "PL2021_ratings = PL2021_ratings.fillna('Goalkeeper')\n",
    "PL2020_ratings"
   ],
   "metadata": {
    "collapsed": false,
    "pycharm": {
     "name": "#%%\n"
    }
   }
  }
 ],
 "metadata": {
  "kernelspec": {
   "display_name": "Python 3",
   "language": "python",
   "name": "python3"
  },
  "language_info": {
   "codemirror_mode": {
    "name": "ipython",
    "version": 2
   },
   "file_extension": ".py",
   "mimetype": "text/x-python",
   "name": "python",
   "nbconvert_exporter": "python",
   "pygments_lexer": "ipython2",
   "version": "2.7.6"
  }
 },
 "nbformat": 4,
 "nbformat_minor": 0
}