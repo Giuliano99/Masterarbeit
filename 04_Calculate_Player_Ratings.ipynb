{
 "cells": [
  {
   "cell_type": "code",
   "execution_count": 1,
   "metadata": {
    "collapsed": true
   },
   "outputs": [],
   "source": [
    "#notebook for calculating player ratings\n",
    "#import necessary packages\n",
    "import pandas as pd"
   ]
  },
  {
   "cell_type": "code",
   "execution_count": 2,
   "outputs": [],
   "source": [
    "#import player data\n",
    "PL2019_keepers = pd.read_csv('Data/2019-20/Players/PL2019_keepers.csv')\n",
    "PL2019_players = pd.read_csv('Data/2019-20/Players/PL2019_players.csv')\n",
    "PL2020_keepers = pd.read_csv('Data/2020-21/Players/PL2020_keepers.csv')\n",
    "PL2020_players = pd.read_csv('Data/2020-21/Players/PL2020_players.csv')\n",
    "PL2021_keepers = pd.read_csv('Data/2021-22/Players/PL2021_keepers.csv')\n",
    "PL2021_players = pd.read_csv('Data/2021-22/Players/PL2021_players.csv')\n",
    "PL2021_keepers"
   ],
   "metadata": {
    "collapsed": false,
    "pycharm": {
     "name": "#%%\n"
    }
   }
  },
  {
   "cell_type": "code",
   "execution_count": 13,
   "outputs": [],
   "source": [
    "#Goalkeeper Rating\n",
    "#apply weights from Excel Solver\n",
    "def calculate_gk_rating(df):\n",
    "    df['Rating'] = ((df['gk_psxg'] - df['gk_goals_against'])*8.066670338)+(df['gk_save_pct']/100*2.556904605) + (df['gk_goals_against']*-5.915922982)  +(df['gk_saves']*8.969594364) + (df['gk_pct_passes_launched']/100*7.810097531) + (df['gk_psxg']*0.985661108) + (df['gk_def_actions_outside_pen_area']*1.522476572)+ (df['gk_passes']*0.228727318)\n",
    "\n",
    "    OldMax = df['Rating'].max()\n",
    "    OldMin = df['Rating'].min()\n",
    "    NewMax = 100\n",
    "    NewMin = 0\n",
    "\n",
    "    OldRange = (OldMax - OldMin)\n",
    "    NewRange = (NewMax - NewMin)\n",
    "    df['Rating'] = (((df['Rating'] - OldMin) * NewRange) / OldRange) + NewMin\n",
    "    return df\n",
    "\n",
    "#calculate ratings for all seasons\n",
    "PL2019_keepers = calculate_gk_rating(PL2019_keepers)\n",
    "PL2020_keepers = calculate_gk_rating(PL2020_keepers)\n",
    "PL2021_keepers = calculate_gk_rating(PL2021_keepers)"
   ],
   "metadata": {
    "collapsed": false,
    "pycharm": {
     "name": "#%%\n"
    }
   }
  },
  {
   "cell_type": "code",
   "execution_count": 32,
   "outputs": [],
   "source": [
    "#split df in dfs for each player group\n",
    "def split_player_groups(df):\n",
    "    Defenders = df.drop(df[df.category != 'Defender'].index)\n",
    "    Midfielders = df.drop(df[df.category != 'Midfield'].index)\n",
    "    Forwards = df.drop(df[df.category != 'Forward'].index)\n",
    "    return Defenders, Midfielders, Forwards\n",
    "\n",
    "Defenders_19, Midfielders_19, Forwards_19 = split_player_groups(PL2019_players)\n",
    "Defenders_20, Midfielders_20, Forwards_20 = split_player_groups(PL2020_players)\n",
    "Defenders_21, Midfielders_21, Forwards_21 = split_player_groups(PL2021_players)\n"
   ],
   "metadata": {
    "collapsed": false,
    "pycharm": {
     "name": "#%%\n"
    }
   }
  },
  {
   "cell_type": "code",
   "execution_count": 52,
   "outputs": [
    {
     "data": {
      "text/plain": "player\nMartin Ødegaard      1407.859323\nBruno Fernandes      1383.388836\nKevin De Bruyne      1365.814968\nJames Ward-Prowse    1193.608448\nConor Gallagher      1190.445393\n                        ...     \nDaniel Amartey          0.557725\nShane Duffy             0.000000\nCristian Romero         0.000000\nDaniel Chesters         0.000000\nMatěj Vydra             0.000000\nName: Rating, Length: 282, dtype: float64"
     },
     "execution_count": 52,
     "metadata": {},
     "output_type": "execute_result"
    }
   ],
   "source": [
    "#Defender Rating\n",
    "#apply weights from Excel Solver\n",
    "def calculate_df_rating(df):\n",
    "    df['Rating'] = (df['tackles']*6.141939015)+(df['progressive_carries']*9.4230058) + (df['progressive_passes']*1) + (df['assists']*7.661351766)+ (df['passes']*1.013737739) + (df['interceptions']*1) + (df['blocks']*1.526323093)  +(df['pressures']*1)  + (df['goals']*4.536477348)   + (df['passes_pct']/100*7.693134296)\n",
    "\n",
    "\n",
    "    OldMax = df['Rating'].max()\n",
    "    OldMin = df['Rating'].min()\n",
    "    NewMax = 100\n",
    "    NewMin = 0\n",
    "\n",
    "\n",
    "    OldRange = (OldMax - OldMin)\n",
    "    NewRange = (NewMax - NewMin)\n",
    "    df['Rating'] = (((df['Rating'] - OldMin) * NewRange) / OldRange) + NewMin\n",
    "    return df\n",
    "\n",
    "#calculate ratings for all seasons\n",
    "Defenders_19 = calculate_df_rating(Defenders_19)\n",
    "Defenders_20 = calculate_df_rating(Defenders_20)\n",
    "Defenders_21 = calculate_df_rating(Defenders_21)\n",
    "\n",
    "#display best players over a season\n",
    "df21 = Defenders_20.groupby(['player']).sum()['Rating']\n",
    "df21_t = Defenders_20.groupby(['Team']).sum()['Rating']\n",
    "defender_strength = df21.sort_values(ascending=False)\n",
    "defender_strength_t = df21_t.sort_values(ascending=False)\n",
    "defender_strength"
   ],
   "metadata": {
    "collapsed": false,
    "pycharm": {
     "name": "#%%\n"
    }
   }
  },
  {
   "cell_type": "code",
   "execution_count": 24,
   "outputs": [],
   "source": [
    "#Midfield Rating\n",
    "#apply weights from Excel Solver\n",
    "def calculate_mf_rating(df):\n",
    "    df['Rating'] = (df['assists']*9.896093302)+(df['goals']*8.24545131) + (df['progressive_passes']*1) + (df['progressive_carries']*1) + (df['gca']*9.974429519)  +(df['pressures']*1)  + (df['sca']*10)   + (df['dribbles_completed']*1.558838612)\n",
    "    #df['Rating'] = (df['passes_pct'])\n",
    "\n",
    "    OldMax = df['Rating'].max()\n",
    "    OldMin = df['Rating'].min()\n",
    "    NewMax = 100\n",
    "    NewMin = 0\n",
    "\n",
    "\n",
    "    OldRange = (OldMax - OldMin)\n",
    "    NewRange = (NewMax - NewMin)\n",
    "    df['Rating'] = (((df['Rating'] - OldMin) * NewRange) / OldRange) + NewMin\n",
    "    return df\n",
    "\n",
    "#calculate ratings for all seasons\n",
    "Midfielders_19 = calculate_mf_rating(Midfielders_19)\n",
    "Midfielders_20 = calculate_mf_rating(Midfielders_20)\n",
    "Midfielders_21 = calculate_mf_rating(Midfielders_21)"
   ],
   "metadata": {
    "collapsed": false,
    "pycharm": {
     "name": "#%%\n"
    }
   }
  }
 ],
 "metadata": {
  "kernelspec": {
   "display_name": "Python 3",
   "language": "python",
   "name": "python3"
  },
  "language_info": {
   "codemirror_mode": {
    "name": "ipython",
    "version": 2
   },
   "file_extension": ".py",
   "mimetype": "text/x-python",
   "name": "python",
   "nbconvert_exporter": "python",
   "pygments_lexer": "ipython2",
   "version": "2.7.6"
  }
 },
 "nbformat": 4,
 "nbformat_minor": 0
}