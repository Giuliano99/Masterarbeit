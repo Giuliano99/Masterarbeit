{
 "cells": [
  {
   "cell_type": "code",
   "execution_count": 1,
   "metadata": {},
   "outputs": [],
   "source": [
    "#notebook for importing and preparing data for further use\n",
    "#import necessary packages\n",
    "import pandas as pd"
   ]
  },
  {
   "cell_type": "code",
   "execution_count": 2,
   "metadata": {
    "pycharm": {
     "name": "#%%\n"
    }
   },
   "outputs": [],
   "source": [
    "#import Data\n",
    "\n",
    "#import PL data\n",
    "PL_19_20 = pd.read_csv('Data/2019-20/Fixtures/E_19_20.csv')\n",
    "PL_20_21 = pd.read_csv('Data/2020-21/Fixtures/E_20_21.csv')\n",
    "PL_21_22 = pd.read_csv('Data/2021-22/Fixtures/E_21_22.csv')"
   ]
  },
  {
   "cell_type": "code",
   "execution_count": 3,
   "outputs": [],
   "source": [
    "#Merge data\n",
    "PL_total = pd.concat([PL_19_20, PL_20_21, PL_21_22])\n",
    "\n",
    "#remove unnecessary columns\n",
    "not_relevant_columns = ['BbOU','BbMx>2.5','BbAv>2.5','BbMx<2.5','B365>2.5','B365<2.5','P>2.5','P<2.5','Max>2.5','Max<2.5','Avg>2.5','Avg<2.5','BbAH','BbAHh','AHh','BbMxAHH','BbAvAHH','BbMxAHA','BbAvAHA','B365AHH','B365AHA','PAHH','PAHA','MaxAHH','MaxAHA','AvgAHH','AvgAHA','Time','MaxH','MaxD','MaxA','AvgH','AvgD','AvgA','B365CH','B365CD','B365CA','BWCH','BWCD','BWCA','IWCH','IWCD','IWCA','WHCH','WHCD','WHCA','VCCH','VCCD','VCCA','MaxCH','MaxCD','MaxCA','AvgCH','AvgCA','AvgCD','B365C>2.5','B365C<2.5','PC>2.5','PC<2.5','AHCh','B365CAHH','B365CAHA','PCAHH','PCAHA','MaxCAHH','MaxCAHA','AvgCAHH','AvgCAHA','BbAv<2.5','MaxC>2.5','MaxC<2.5','AvgC>2.5','AvgC<2.5']\n",
    "\n",
    "#align team names\n",
    "PL_19_20.replace(['Leeds', 'Leicester', 'Man City', 'Man United', 'Newcastle', 'Norwich','Sheffield United'], ['Leeds United', 'Leicester City','Manchester City', 'Manchester Utd', 'Newcastle Utd','Norwich City' ,'Sheffield Utd'], inplace=True)\n",
    "PL_20_21.replace(['Leeds', 'Leicester', 'Man City', 'Man United', 'Newcastle', 'Norwich','Sheffield United'], ['Leeds United', 'Leicester City','Manchester City', 'Manchester Utd', 'Newcastle Utd','Norwich City' ,'Sheffield Utd'], inplace=True)\n",
    "PL_21_22.replace(['Leeds', 'Leicester', 'Man City', 'Man United', 'Newcastle', 'Norwich','Sheffield United'], ['Leeds United', 'Leicester City','Manchester City', 'Manchester Utd', 'Newcastle Utd','Norwich City' ,'Sheffield Utd'], inplace=True)"
   ],
   "metadata": {
    "collapsed": false,
    "pycharm": {
     "name": "#%%\n"
    }
   }
  },
  {
   "cell_type": "code",
   "execution_count": 4,
   "outputs": [],
   "source": [
    "#Load Fifa Ratings\n",
    "teams_fifa_20 = pd.read_excel('Data/2019-20/Fixtures/FIFA_2019_Team_Ratings.xlsx')\n",
    "teams_fifa_21 = pd.read_excel('Data/2020-21/Fixtures/FIFA_2020_Team_Ratings.xlsx')\n",
    "teams_fifa_22 = pd.read_excel('Data/2021-22/Fixtures/FIFA_2021_Team_Ratings.xlsx')\n",
    "\n",
    "#prepare data for merge\n",
    "teams_fifa_20['HomeTeam'] = teams_fifa_20['Squad']\n",
    "teams_fifa_20['AwayTeam'] = teams_fifa_20['Squad']\n",
    "teams_fifa_21['HomeTeam'] = teams_fifa_21['Squad']\n",
    "teams_fifa_21['AwayTeam'] = teams_fifa_21['Squad']\n",
    "teams_fifa_22['HomeTeam'] = teams_fifa_22['Squad']\n",
    "teams_fifa_22['AwayTeam'] = teams_fifa_22['Squad']\n",
    "\n",
    "\n",
    "teams_fifa_20['Rating_Home'] = teams_fifa_20['Ovr']\n",
    "teams_fifa_20['Rating_Away'] = teams_fifa_20['Ovr']\n",
    "teams_fifa_21['Rating_Home'] = teams_fifa_21['Ovr']\n",
    "teams_fifa_21['Rating_Away'] = teams_fifa_21['Ovr']\n",
    "teams_fifa_22['Rating_Home'] = teams_fifa_22['Ovr']\n",
    "teams_fifa_22['Rating_Away'] = teams_fifa_22['Ovr']"
   ],
   "metadata": {
    "collapsed": false,
    "pycharm": {
     "name": "#%%\n"
    }
   }
  },
  {
   "cell_type": "code",
   "execution_count": 5,
   "outputs": [],
   "source": [
    "#transform FIFA Ratings for merge\n",
    "fifa_rating_home_19_20 = pd.DataFrame(teams_fifa_20, columns=['HomeTeam', 'Rating_Home'])\n",
    "fifa_rating_away_19_20 = pd.DataFrame(teams_fifa_20, columns=['AwayTeam', 'Rating_Away'])\n",
    "fifa_rating_home_20_21 = pd.DataFrame(teams_fifa_21, columns=['HomeTeam', 'Rating_Home'])\n",
    "fifa_rating_away_20_21 = pd.DataFrame(teams_fifa_21, columns=['AwayTeam', 'Rating_Away'])\n",
    "fifa_rating_home_21_22 = pd.DataFrame(teams_fifa_22, columns=['HomeTeam', 'Rating_Home'])\n",
    "fifa_rating_away_21_22 = pd.DataFrame(teams_fifa_22, columns=['AwayTeam', 'Rating_Away'])"
   ],
   "metadata": {
    "collapsed": false,
    "pycharm": {
     "name": "#%%\n"
    }
   }
  },
  {
   "cell_type": "code",
   "execution_count": 6,
   "outputs": [
    {
     "data": {
      "text/plain": "    Div       Date   Time         HomeTeam        AwayTeam  FTHG  FTAG FTR  \\\n0    E0 2021-08-13  20:00        Brentford         Arsenal     2     0   H   \n1    E0 2021-08-14  12:30   Manchester Utd    Leeds United     5     1   H   \n2    E0 2021-08-14  15:00          Burnley        Brighton     1     2   A   \n3    E0 2021-08-14  15:00          Chelsea  Crystal Palace     3     0   H   \n4    E0 2021-08-14  15:00          Everton     Southampton     3     1   H   \n..   ..        ...    ...              ...             ...   ...   ...  ..   \n375  E0 2022-05-22  16:00   Crystal Palace  Manchester Utd     1     0   H   \n376  E0 2022-05-22  16:00   Leicester City     Southampton     4     1   H   \n377  E0 2022-05-22  16:00        Liverpool          Wolves     3     1   H   \n378  E0 2022-05-22  16:00  Manchester City     Aston Villa     3     2   H   \n379  E0 2022-05-22  16:00     Norwich City       Tottenham     0     5   A   \n\n     HTHG  HTAG  ... B365CAHA PCAHH  PCAHA  MaxCAHH  MaxCAHA  AvgCAHH  \\\n0       1     0  ...     2.05  1.81   2.13     2.05     2.17     1.80   \n1       1     0  ...     1.75  2.17   1.77     2.19     1.93     2.10   \n2       1     0  ...     2.15  1.81   2.14     1.82     2.19     1.79   \n3       2     0  ...     1.75  2.12   1.81     2.16     1.93     2.06   \n4       0     1  ...     1.88  2.05   1.88     2.08     1.90     2.03   \n..    ...   ...  ...      ...   ...    ...      ...      ...      ...   \n375     1     0  ...     2.15  1.74   2.23     1.88     2.25     1.74   \n376     0     0  ...     2.07  1.88   2.03     1.94     2.26     1.87   \n377     1     1  ...     1.77  2.06   1.83     2.19     1.99     2.07   \n378     0     1  ...     1.84  2.05   1.86     2.09     2.03     2.01   \n379     0     2  ...     1.95  1.96   1.94     2.16     1.98     1.99   \n\n     AvgCAHA  Rating_Home  Rating_Away  Rating difference  \n0       2.09           73           79                 -6  \n1       1.79           83           76                  7  \n2       2.12           76           75                  1  \n3       1.82           83           76                  7  \n4       1.86           79           76                  3  \n..       ...          ...          ...                ...  \n375     2.16           76           83                 -7  \n376     2.01           80           76                  4  \n377     1.80           84           78                  6  \n378     1.87           85           78                  7  \n379     1.89           74           82                 -8  \n\n[380 rows x 109 columns]",
      "text/html": "<div>\n<style scoped>\n    .dataframe tbody tr th:only-of-type {\n        vertical-align: middle;\n    }\n\n    .dataframe tbody tr th {\n        vertical-align: top;\n    }\n\n    .dataframe thead th {\n        text-align: right;\n    }\n</style>\n<table border=\"1\" class=\"dataframe\">\n  <thead>\n    <tr style=\"text-align: right;\">\n      <th></th>\n      <th>Div</th>\n      <th>Date</th>\n      <th>Time</th>\n      <th>HomeTeam</th>\n      <th>AwayTeam</th>\n      <th>FTHG</th>\n      <th>FTAG</th>\n      <th>FTR</th>\n      <th>HTHG</th>\n      <th>HTAG</th>\n      <th>...</th>\n      <th>B365CAHA</th>\n      <th>PCAHH</th>\n      <th>PCAHA</th>\n      <th>MaxCAHH</th>\n      <th>MaxCAHA</th>\n      <th>AvgCAHH</th>\n      <th>AvgCAHA</th>\n      <th>Rating_Home</th>\n      <th>Rating_Away</th>\n      <th>Rating difference</th>\n    </tr>\n  </thead>\n  <tbody>\n    <tr>\n      <th>0</th>\n      <td>E0</td>\n      <td>2021-08-13</td>\n      <td>20:00</td>\n      <td>Brentford</td>\n      <td>Arsenal</td>\n      <td>2</td>\n      <td>0</td>\n      <td>H</td>\n      <td>1</td>\n      <td>0</td>\n      <td>...</td>\n      <td>2.05</td>\n      <td>1.81</td>\n      <td>2.13</td>\n      <td>2.05</td>\n      <td>2.17</td>\n      <td>1.80</td>\n      <td>2.09</td>\n      <td>73</td>\n      <td>79</td>\n      <td>-6</td>\n    </tr>\n    <tr>\n      <th>1</th>\n      <td>E0</td>\n      <td>2021-08-14</td>\n      <td>12:30</td>\n      <td>Manchester Utd</td>\n      <td>Leeds United</td>\n      <td>5</td>\n      <td>1</td>\n      <td>H</td>\n      <td>1</td>\n      <td>0</td>\n      <td>...</td>\n      <td>1.75</td>\n      <td>2.17</td>\n      <td>1.77</td>\n      <td>2.19</td>\n      <td>1.93</td>\n      <td>2.10</td>\n      <td>1.79</td>\n      <td>83</td>\n      <td>76</td>\n      <td>7</td>\n    </tr>\n    <tr>\n      <th>2</th>\n      <td>E0</td>\n      <td>2021-08-14</td>\n      <td>15:00</td>\n      <td>Burnley</td>\n      <td>Brighton</td>\n      <td>1</td>\n      <td>2</td>\n      <td>A</td>\n      <td>1</td>\n      <td>0</td>\n      <td>...</td>\n      <td>2.15</td>\n      <td>1.81</td>\n      <td>2.14</td>\n      <td>1.82</td>\n      <td>2.19</td>\n      <td>1.79</td>\n      <td>2.12</td>\n      <td>76</td>\n      <td>75</td>\n      <td>1</td>\n    </tr>\n    <tr>\n      <th>3</th>\n      <td>E0</td>\n      <td>2021-08-14</td>\n      <td>15:00</td>\n      <td>Chelsea</td>\n      <td>Crystal Palace</td>\n      <td>3</td>\n      <td>0</td>\n      <td>H</td>\n      <td>2</td>\n      <td>0</td>\n      <td>...</td>\n      <td>1.75</td>\n      <td>2.12</td>\n      <td>1.81</td>\n      <td>2.16</td>\n      <td>1.93</td>\n      <td>2.06</td>\n      <td>1.82</td>\n      <td>83</td>\n      <td>76</td>\n      <td>7</td>\n    </tr>\n    <tr>\n      <th>4</th>\n      <td>E0</td>\n      <td>2021-08-14</td>\n      <td>15:00</td>\n      <td>Everton</td>\n      <td>Southampton</td>\n      <td>3</td>\n      <td>1</td>\n      <td>H</td>\n      <td>0</td>\n      <td>1</td>\n      <td>...</td>\n      <td>1.88</td>\n      <td>2.05</td>\n      <td>1.88</td>\n      <td>2.08</td>\n      <td>1.90</td>\n      <td>2.03</td>\n      <td>1.86</td>\n      <td>79</td>\n      <td>76</td>\n      <td>3</td>\n    </tr>\n    <tr>\n      <th>...</th>\n      <td>...</td>\n      <td>...</td>\n      <td>...</td>\n      <td>...</td>\n      <td>...</td>\n      <td>...</td>\n      <td>...</td>\n      <td>...</td>\n      <td>...</td>\n      <td>...</td>\n      <td>...</td>\n      <td>...</td>\n      <td>...</td>\n      <td>...</td>\n      <td>...</td>\n      <td>...</td>\n      <td>...</td>\n      <td>...</td>\n      <td>...</td>\n      <td>...</td>\n      <td>...</td>\n    </tr>\n    <tr>\n      <th>375</th>\n      <td>E0</td>\n      <td>2022-05-22</td>\n      <td>16:00</td>\n      <td>Crystal Palace</td>\n      <td>Manchester Utd</td>\n      <td>1</td>\n      <td>0</td>\n      <td>H</td>\n      <td>1</td>\n      <td>0</td>\n      <td>...</td>\n      <td>2.15</td>\n      <td>1.74</td>\n      <td>2.23</td>\n      <td>1.88</td>\n      <td>2.25</td>\n      <td>1.74</td>\n      <td>2.16</td>\n      <td>76</td>\n      <td>83</td>\n      <td>-7</td>\n    </tr>\n    <tr>\n      <th>376</th>\n      <td>E0</td>\n      <td>2022-05-22</td>\n      <td>16:00</td>\n      <td>Leicester City</td>\n      <td>Southampton</td>\n      <td>4</td>\n      <td>1</td>\n      <td>H</td>\n      <td>0</td>\n      <td>0</td>\n      <td>...</td>\n      <td>2.07</td>\n      <td>1.88</td>\n      <td>2.03</td>\n      <td>1.94</td>\n      <td>2.26</td>\n      <td>1.87</td>\n      <td>2.01</td>\n      <td>80</td>\n      <td>76</td>\n      <td>4</td>\n    </tr>\n    <tr>\n      <th>377</th>\n      <td>E0</td>\n      <td>2022-05-22</td>\n      <td>16:00</td>\n      <td>Liverpool</td>\n      <td>Wolves</td>\n      <td>3</td>\n      <td>1</td>\n      <td>H</td>\n      <td>1</td>\n      <td>1</td>\n      <td>...</td>\n      <td>1.77</td>\n      <td>2.06</td>\n      <td>1.83</td>\n      <td>2.19</td>\n      <td>1.99</td>\n      <td>2.07</td>\n      <td>1.80</td>\n      <td>84</td>\n      <td>78</td>\n      <td>6</td>\n    </tr>\n    <tr>\n      <th>378</th>\n      <td>E0</td>\n      <td>2022-05-22</td>\n      <td>16:00</td>\n      <td>Manchester City</td>\n      <td>Aston Villa</td>\n      <td>3</td>\n      <td>2</td>\n      <td>H</td>\n      <td>0</td>\n      <td>1</td>\n      <td>...</td>\n      <td>1.84</td>\n      <td>2.05</td>\n      <td>1.86</td>\n      <td>2.09</td>\n      <td>2.03</td>\n      <td>2.01</td>\n      <td>1.87</td>\n      <td>85</td>\n      <td>78</td>\n      <td>7</td>\n    </tr>\n    <tr>\n      <th>379</th>\n      <td>E0</td>\n      <td>2022-05-22</td>\n      <td>16:00</td>\n      <td>Norwich City</td>\n      <td>Tottenham</td>\n      <td>0</td>\n      <td>5</td>\n      <td>A</td>\n      <td>0</td>\n      <td>2</td>\n      <td>...</td>\n      <td>1.95</td>\n      <td>1.96</td>\n      <td>1.94</td>\n      <td>2.16</td>\n      <td>1.98</td>\n      <td>1.99</td>\n      <td>1.89</td>\n      <td>74</td>\n      <td>82</td>\n      <td>-8</td>\n    </tr>\n  </tbody>\n</table>\n<p>380 rows × 109 columns</p>\n</div>"
     },
     "execution_count": 6,
     "metadata": {},
     "output_type": "execute_result"
    }
   ],
   "source": [
    "#merge dataframes\n",
    "PL_19_20['Date'] = pd.to_datetime(PL_19_20['Date'], dayfirst=True)\n",
    "PL_20_21['Date'] = pd.to_datetime(PL_20_21['Date'], dayfirst=True)\n",
    "PL_21_22['Date'] = pd.to_datetime(PL_21_22['Date'], dayfirst=True)\n",
    "\n",
    "PL_20_team_ratings = pd.merge(PL_19_20, fifa_rating_home_19_20, on='HomeTeam', how='left')\n",
    "PL_20_team_ratings = pd.merge(PL_20_team_ratings, fifa_rating_away_19_20, on='AwayTeam', how='left')\n",
    "PL_21_team_ratings = pd.merge(PL_20_21, fifa_rating_home_20_21, on='HomeTeam', how='left')\n",
    "PL_21_team_ratings = pd.merge(PL_21_team_ratings, fifa_rating_away_20_21, on='AwayTeam', how='left')\n",
    "PL_22_team_ratings = pd.merge(PL_21_22, fifa_rating_home_21_22, on='HomeTeam', how='left')\n",
    "PL_22_team_ratings = pd.merge(PL_22_team_ratings, fifa_rating_away_21_22, on='AwayTeam', how='left')\n",
    "\n",
    "PL_20_team_ratings['Rating difference'] = PL_20_team_ratings['Rating_Home']-PL_20_team_ratings['Rating_Away']\n",
    "PL_21_team_ratings['Rating difference'] = PL_21_team_ratings['Rating_Home']-PL_21_team_ratings['Rating_Away']\n",
    "PL_22_team_ratings['Rating difference'] = PL_22_team_ratings['Rating_Home']-PL_22_team_ratings['Rating_Away']\n",
    "PL_22_team_ratings"
   ],
   "metadata": {
    "collapsed": false,
    "pycharm": {
     "name": "#%%\n"
    }
   }
  },
  {
   "cell_type": "code",
   "execution_count": 7,
   "outputs": [],
   "source": [
    "#export Data to csv\n",
    "#PL_20_team_ratings.to_csv('Data/2019-20/Fixtures/PL19_20_fixtures.csv',index=False)\n",
    "#PL_21_team_ratings.to_csv('Data/2020-21/Fixtures/PL20_21_fixtures.csv',index=False)\n",
    "#PL_22_team_ratings.to_csv('Data/2021-22/Fixtures/PL21_22_fixtures.csv',index=False)"
   ],
   "metadata": {
    "collapsed": false,
    "pycharm": {
     "name": "#%%\n"
    }
   }
  }
 ],
 "metadata": {
  "kernelspec": {
   "display_name": "Python 3 (ipykernel)",
   "language": "python",
   "name": "python3"
  },
  "language_info": {
   "codemirror_mode": {
    "name": "ipython",
    "version": 3
   },
   "file_extension": ".py",
   "mimetype": "text/x-python",
   "name": "python",
   "nbconvert_exporter": "python",
   "pygments_lexer": "ipython3",
   "version": "3.10.0"
  }
 },
 "nbformat": 4,
 "nbformat_minor": 1
}