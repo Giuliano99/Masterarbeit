{
 "cells": [
  {
   "cell_type": "code",
   "execution_count": 1,
   "metadata": {
    "collapsed": true
   },
   "outputs": [],
   "source": [
    "#notebook to calculate accuracy of the models and compare to benchmarks community votes and betting odds\n",
    "#import necessary packages\n",
    "import pandas as pd\n",
    "import numpy as np"
   ]
  },
  {
   "cell_type": "code",
   "execution_count": 69,
   "outputs": [
    {
     "name": "stderr",
     "output_type": "stream",
     "text": [
      "C:\\Users\\giuli\\AppData\\Local\\Temp\\ipykernel_121368\\3455076592.py:38: SettingWithCopyWarning: \n",
      "A value is trying to be set on a copy of a slice from a DataFrame.\n",
      "Try using .loc[row_indexer,col_indexer] = value instead\n",
      "\n",
      "See the caveats in the documentation: https://pandas.pydata.org/pandas-docs/stable/user_guide/indexing.html#returning-a-view-versus-a-copy\n",
      "  predictions['Result'] = obs\n",
      "C:\\Users\\giuli\\AppData\\Local\\Temp\\ipykernel_121368\\3455076592.py:39: SettingWithCopyWarning: \n",
      "A value is trying to be set on a copy of a slice from a DataFrame.\n",
      "Try using .loc[row_indexer,col_indexer] = value instead\n",
      "\n",
      "See the caveats in the documentation: https://pandas.pydata.org/pandas-docs/stable/user_guide/indexing.html#returning-a-view-versus-a-copy\n",
      "  predictions['RPS'] = rps_result\n"
     ]
    },
    {
     "data": {
      "text/plain": "   Home win  Draw  Away win Result      RPS\n0      1.00  0.00      0.00      H  0.00000\n1      0.00  0.00      1.00      H  1.00000\n2      0.00  1.00      0.00      H  0.50000\n3      0.80  0.10      0.10      H  0.02500\n4      0.50  0.25      0.25      D  0.15625\n5      0.35  0.30      0.35      D  0.12250\n6      0.60  0.30      0.10      H  0.08500\n7      0.60  0.30      0.10      H  0.08500\n8      0.60  0.10      0.30      H  0.12500\n9      0.50  0.45      0.05      H  0.12625",
      "text/html": "<div>\n<style scoped>\n    .dataframe tbody tr th:only-of-type {\n        vertical-align: middle;\n    }\n\n    .dataframe tbody tr th {\n        vertical-align: top;\n    }\n\n    .dataframe thead th {\n        text-align: right;\n    }\n</style>\n<table border=\"1\" class=\"dataframe\">\n  <thead>\n    <tr style=\"text-align: right;\">\n      <th></th>\n      <th>Home win</th>\n      <th>Draw</th>\n      <th>Away win</th>\n      <th>Result</th>\n      <th>RPS</th>\n    </tr>\n  </thead>\n  <tbody>\n    <tr>\n      <th>0</th>\n      <td>1.00</td>\n      <td>0.00</td>\n      <td>0.00</td>\n      <td>H</td>\n      <td>0.00000</td>\n    </tr>\n    <tr>\n      <th>1</th>\n      <td>0.00</td>\n      <td>0.00</td>\n      <td>1.00</td>\n      <td>H</td>\n      <td>1.00000</td>\n    </tr>\n    <tr>\n      <th>2</th>\n      <td>0.00</td>\n      <td>1.00</td>\n      <td>0.00</td>\n      <td>H</td>\n      <td>0.50000</td>\n    </tr>\n    <tr>\n      <th>3</th>\n      <td>0.80</td>\n      <td>0.10</td>\n      <td>0.10</td>\n      <td>H</td>\n      <td>0.02500</td>\n    </tr>\n    <tr>\n      <th>4</th>\n      <td>0.50</td>\n      <td>0.25</td>\n      <td>0.25</td>\n      <td>D</td>\n      <td>0.15625</td>\n    </tr>\n    <tr>\n      <th>5</th>\n      <td>0.35</td>\n      <td>0.30</td>\n      <td>0.35</td>\n      <td>D</td>\n      <td>0.12250</td>\n    </tr>\n    <tr>\n      <th>6</th>\n      <td>0.60</td>\n      <td>0.30</td>\n      <td>0.10</td>\n      <td>H</td>\n      <td>0.08500</td>\n    </tr>\n    <tr>\n      <th>7</th>\n      <td>0.60</td>\n      <td>0.30</td>\n      <td>0.10</td>\n      <td>H</td>\n      <td>0.08500</td>\n    </tr>\n    <tr>\n      <th>8</th>\n      <td>0.60</td>\n      <td>0.10</td>\n      <td>0.30</td>\n      <td>H</td>\n      <td>0.12500</td>\n    </tr>\n    <tr>\n      <th>9</th>\n      <td>0.50</td>\n      <td>0.45</td>\n      <td>0.05</td>\n      <td>H</td>\n      <td>0.12625</td>\n    </tr>\n  </tbody>\n</table>\n</div>"
     },
     "execution_count": 69,
     "metadata": {},
     "output_type": "execute_result"
    }
   ],
   "source": [
    "#function to calculate rps value\n",
    "def rps(predictions, observed):\n",
    "    \"\"\"Vectorized version of Ranked Probability Score.\n",
    "    A lower value is a better score.\n",
    "    From: Colin Catlin, https://syllepsis.live/2022/01/22/ranked-probability-score-in-python/\n",
    "\n",
    "    Args:\n",
    "        predictions (pd.DataFrame): each column is an outcome category\n",
    "            with values as the 0 to 1 probability of that category\n",
    "        observed (pd.DataFrame): each column is an outcome category\n",
    "            with values of 0 OR 1 with 1 being that category occurred\n",
    "    \"\"\"\n",
    "    assert (\n",
    "        predictions.shape == observed.shape\n",
    "    ), \"prediction and observed array shapes must match\"\n",
    "    ncat = predictions.shape[1] - 1\n",
    "    return (\n",
    "        np.sum(\n",
    "            (np.cumsum(predictions, axis=1) - np.cumsum(observed, axis=1)) ** 2, axis=1\n",
    "        ) / ncat\n",
    "    )\n",
    "predictions_df = pd.DataFrame({\n",
    "    'H': [1, 0, 0,0.8, 0.5, 0.35, 0.6, 0.6, 0.6, 0.5],\n",
    "    'D': [0, 0, 1,0.1, 0.25, 0.3, 0.3, 0.3, 0.1, 0.45],\n",
    "    'A': [0, 1, 0,0.1, 0.25, 0.35, 0.1, 0.1, 0.3, 0.05],\n",
    "    \"model\": np.tile([\"a\", \"b\"], 5),\n",
    "    \"match\": np.repeat(np.arange(1, 6), 2),\n",
    "    \"outcome\": np.repeat([\"H\", \"H\", \"D\", \"H\", \"H\"], 2),\n",
    "})\n",
    "expected_result = [0, 0.005, 0.025, 0.15625, 0.1225, 0.185, 0.085, 0.125, 0.12625, 0.1625]\n",
    "predictions = predictions_df[[\"H\", \"D\", \"A\"]]\n",
    "observed = pd.get_dummies(predictions_df[\"outcome\"]).reindex(\n",
    "    columns=predictions.columns, fill_value=0\n",
    ")\n",
    "rps_result = rps(predictions, observed).round(5)\n",
    "\n",
    "obs = ['H', 'H', 'H', 'H', 'D', 'D', 'H', 'H', 'H', 'H']\n",
    "predictions['Result'] = obs\n",
    "predictions['RPS'] = rps_result\n",
    "predictions = predictions.rename(columns={'H':'Home win','D':'Draw','A':'Away win'})\n",
    "predictions"
   ],
   "metadata": {
    "collapsed": false,
    "pycharm": {
     "name": "#%%\n"
    }
   }
  },
  {
   "cell_type": "code",
   "execution_count": 37,
   "outputs": [
    {
     "name": "stdout",
     "output_type": "stream",
     "text": [
      "0.19134634285714286\n"
     ]
    }
   ],
   "source": [
    "#calculate rps value for betting odds\n",
    "PL_20_21 = pd.read_csv('Data/2020-21/Fixtures/E_20_21.csv')\n",
    "PL_21_22 = pd.read_csv('Data/2021-22/Fixtures/E_21_22.csv')\n",
    "#invert odds\n",
    "PL_20_21['B365H'] = 1/PL_20_21['B365H']\n",
    "PL_20_21['B365D'] = 1/PL_20_21['B365D']\n",
    "PL_20_21['B365A'] = 1/PL_20_21['B365A']\n",
    "PL_20_21['SUM'] = PL_20_21['B365H'] + PL_20_21['B365D'] + PL_20_21['B365A']\n",
    "#calculate fair odds\n",
    "PL_20_21['B365H'] = PL_20_21['B365H']/PL_20_21['SUM']\n",
    "PL_20_21['B365D'] = PL_20_21['B365D']/PL_20_21['SUM']\n",
    "PL_20_21['B365A'] = PL_20_21['B365A']/PL_20_21['SUM']\n",
    "PL_21_22['B365H'] = 1/PL_21_22['B365H']\n",
    "PL_21_22['B365D'] = 1/PL_21_22['B365D']\n",
    "PL_21_22['B365A'] = 1/PL_21_22['B365A']\n",
    "PL_21_22['SUM'] = PL_21_22['B365H'] + PL_21_22['B365D'] + PL_21_22['B365A']\n",
    "PL_21_22['B365H'] = PL_21_22['B365H']/PL_21_22['SUM']\n",
    "PL_21_22['B365D'] = PL_21_22['B365D']/PL_21_22['SUM']\n",
    "PL_21_22['B365A'] = PL_21_22['B365A']/PL_21_22['SUM']\n",
    "probabilities_20 = PL_20_21[['HomeTeam', 'AwayTeam', 'B365H', 'B365D', 'B365A', 'FTR']]\n",
    "probabilities_20 = probabilities_20.rename(columns={'B365H':'H','B365D':'D','B365A':'A'})\n",
    "predictions_20 = probabilities_20[[\"H\", \"D\", \"A\"]]\n",
    "observed_20 = pd.get_dummies(probabilities_20[\"FTR\"]).reindex(\n",
    "    columns=predictions.columns, fill_value=0)\n",
    "\n",
    "probabilities_21 = PL_21_22[['HomeTeam', 'AwayTeam', 'B365H', 'B365D', 'B365A', 'FTR']]\n",
    "probabilities_21 = probabilities_21[-350:]\n",
    "probabilities_21 = probabilities_21.rename(columns={'B365H':'H','B365D':'D','B365A':'A'})\n",
    "predictions_21 = probabilities_21[[\"H\", \"D\", \"A\"]]\n",
    "observed_21 = pd.get_dummies(probabilities_21[\"FTR\"]).reindex(\n",
    "    columns=predictions.columns, fill_value=0)\n",
    "\n",
    "\n",
    "\n",
    "rps_result_21 = rps(predictions_21, observed_21).round(5)\n",
    "rps_betting_odds = np.mean(rps_result_21)\n",
    "print(rps_betting_odds)"
   ],
   "metadata": {
    "collapsed": false,
    "pycharm": {
     "name": "#%%\n"
    }
   }
  },
  {
   "cell_type": "code",
   "execution_count": 34,
   "outputs": [
    {
     "name": "stdout",
     "output_type": "stream",
     "text": [
      "0.22040236842105265\n"
     ]
    }
   ],
   "source": [
    "#calculate rps value for community votes\n",
    "PL_21_22.replace(['Leeds', 'Leicester', 'Man City', 'Man United', 'Newcastle', 'Norwich', 'Sheff Utd', 'Spurs'], ['Leeds United', 'Leicester City', 'Manchester City', 'Manchester Utd', 'Newcastle Utd',\n",
    "                  'Norwich City', 'Sheffield Utd', 'Tottenham'], inplace=True)\n",
    "PL_21_22['game_id'] = PL_21_22['HomeTeam'] + PL_21_22['AwayTeam']\n",
    "PL_21_22['HomeTeam'].drop_duplicates()\n",
    "transfermarkt_probs_21 = pd.read_csv('Data/2021-22/Fixtures/tranfermarkt_21_probs.csv')\n",
    "test = pd.merge(PL_21_22, transfermarkt_probs_21, on='game_id', how='left')\n",
    "\n",
    "predictions = test[[\"H\", \"D\", \"A\"]]\n",
    "observed = pd.get_dummies(test[\"FTR\"]).reindex(\n",
    "    columns=predictions.columns, fill_value=0)\n",
    "rps_result_community = rps(predictions, observed).round(5)\n",
    "\n",
    "rps_community_votes = np.mean(rps_result_community)\n",
    "\n",
    "print(rps_community_votes)"
   ],
   "metadata": {
    "collapsed": false,
    "pycharm": {
     "name": "#%%\n"
    }
   }
  },
  {
   "cell_type": "code",
   "execution_count": 42,
   "outputs": [
    {
     "name": "stdout",
     "output_type": "stream",
     "text": [
      "0.2158239210526316\n"
     ]
    }
   ],
   "source": [
    "#calculate rps value for rf classic model\n",
    "probs_benchmark = pd.read_csv('Data/Total/probs_benchmark_info.csv')\n",
    "\n",
    "predictions = probs_benchmark[[\"H\", \"D\", \"A\"]]\n",
    "observed = pd.get_dummies(probabilities_21[\"FTR\"]).reindex(\n",
    "    columns=predictions.columns, fill_value=0)\n",
    "rps_result = rps(predictions, observed).round(5)\n",
    "\n",
    "rps_rf_benchmark = np.mean(rps_result)\n",
    "print(rps_rf_benchmark)"
   ],
   "metadata": {
    "collapsed": false,
    "pycharm": {
     "name": "#%%\n"
    }
   }
  },
  {
   "cell_type": "code",
   "execution_count": 64,
   "outputs": [
    {
     "name": "stdout",
     "output_type": "stream",
     "text": [
      "0.21135973684210527\n"
     ]
    }
   ],
   "source": [
    "#calculate rps score for rf improved model\n",
    "probs_player_stats= pd.read_csv('Data/Total/probs_player_stats.csv')\n",
    "\n",
    "predictions = probs_player_stats[[\"H\", \"D\", \"A\"]]\n",
    "observed = pd.get_dummies(probabilities_21[\"FTR\"]).reindex(\n",
    "    columns=predictions.columns, fill_value=0)\n",
    "rps_result = rps(predictions, observed).round(5)\n",
    "\n",
    "rps_rf_player_stats = np.mean(rps_result)\n",
    "print(rps_rf_player_stats)"
   ],
   "metadata": {
    "collapsed": false,
    "pycharm": {
     "name": "#%%\n"
    }
   }
  },
  {
   "cell_type": "code",
   "execution_count": 65,
   "outputs": [
    {
     "name": "stdout",
     "output_type": "stream",
     "text": [
      "RPS score random forest benchmark: 0.2158239210526316\n",
      "RPS score random forest incl player stats: 0.21135973684210527\n",
      "RPS score community votes: 0.22040236842105265\n",
      "RPS score betting odds: 0.19134634285714286\n"
     ]
    }
   ],
   "source": [
    "#display rps values\n",
    "print('RPS score random forest benchmark:', rps_rf_benchmark)\n",
    "print('RPS score random forest incl player stats:', rps_rf_player_stats)\n",
    "print('RPS score community votes:', rps_community_votes)\n",
    "print('RPS score betting odds:', rps_betting_odds)"
   ],
   "metadata": {
    "collapsed": false,
    "pycharm": {
     "name": "#%%\n"
    }
   }
  }
 ],
 "metadata": {
  "kernelspec": {
   "display_name": "Python 3",
   "language": "python",
   "name": "python3"
  },
  "language_info": {
   "codemirror_mode": {
    "name": "ipython",
    "version": 2
   },
   "file_extension": ".py",
   "mimetype": "text/x-python",
   "name": "python",
   "nbconvert_exporter": "python",
   "pygments_lexer": "ipython2",
   "version": "2.7.6"
  }
 },
 "nbformat": 4,
 "nbformat_minor": 0
}